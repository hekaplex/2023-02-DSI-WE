{
 "cells": [
  {
   "cell_type": "code",
   "execution_count": 68,
   "outputs": [
    {
     "name": "stdout",
     "output_type": "stream",
     "text": [
      "{'k': [1, 2]}\n"
     ]
    },
    {
     "data": {
      "text/plain": "dict"
     },
     "execution_count": 68,
     "metadata": {},
     "output_type": "execute_result"
    }
   ],
   "source": [
    "#adding a key to a list  to make a dictionary\n",
    "listtodict = {}\n",
    "\n",
    "listtodict[\"k\"] = [1, 2]\n",
    "\n",
    "print(listtodict)\n",
    "type(listtodict)"
   ],
   "metadata": {
    "collapsed": false,
    "ExecuteTime": {
     "start_time": "2023-04-16T15:07:15.643942Z",
     "end_time": "2023-04-16T15:07:15.716973Z"
    }
   }
  },
  {
   "cell_type": "code",
   "execution_count": 75,
   "outputs": [
    {
     "name": "stdout",
     "output_type": "stream",
     "text": [
      "The original tuple : (4, 5, 6)\n",
      "Tuple after addition of dictionary : (4, 5, 6, {'gfg': 1, 'is': 2, 'best': 3})\n"
     ]
    },
    {
     "data": {
      "text/plain": "str"
     },
     "execution_count": 75,
     "metadata": {},
     "output_type": "execute_result"
    }
   ],
   "source": [
    "#tuple with dictionary\n",
    "test_tup = (4, 5, 6)\n",
    "\n",
    "print(\"The original tuple : \" + str(test_tup))\n",
    "\n",
    "test_dict = {\"gfg\" : 1, \"is\" : 2, \"best\" : 3}\n",
    "\n",
    "res = test_tup + (test_dict, )\n",
    "\n",
    "print(\"Tuple after addition of dictionary : \" + str(res))\n",
    "type((\"Tuple after addition of dictionary : \" + str(res)))"
   ],
   "metadata": {
    "collapsed": false,
    "ExecuteTime": {
     "start_time": "2023-04-16T15:11:58.631595Z",
     "end_time": "2023-04-16T15:11:58.663698Z"
    }
   }
  },
  {
   "cell_type": "code",
   "execution_count": 98,
   "outputs": [
    {
     "ename": "SyntaxError",
     "evalue": "'break' outside loop (1495673571.py, line -1)",
     "output_type": "error",
     "traceback": [
      "\u001B[1;36m  Cell \u001B[1;32mIn[98], line -1\u001B[1;36m\u001B[0m\n\u001B[1;31mSyntaxError\u001B[0m\u001B[1;31m:\u001B[0m 'break' outside loop\n"
     ]
    }
   ],
   "source": [
    "members = [\"John Cleese\", \"Eric Idle\",\"Terry Jones\"]\n",
    "with open(\"members.txt\", \"w\") as file:\n",
    "    file.write(\"members\")\n",
    "\n",
    "\n",
    "    try:\n",
    "        print((members)+(members))\n",
    "        break\n",
    "    except TypeError:\n",
    "        print(\"No\")"
   ],
   "metadata": {
    "collapsed": false,
    "ExecuteTime": {
     "start_time": "2023-04-16T17:32:27.259036Z",
     "end_time": "2023-04-16T17:32:27.289196Z"
    }
   }
  },
  {
   "cell_type": "code",
   "execution_count": 84,
   "outputs": [
    {
     "data": {
      "text/plain": "['m', 'e', 'm', 'b', 'e', 'r', 's']"
     },
     "execution_count": 84,
     "metadata": {},
     "output_type": "execute_result"
    }
   ],
   "source": [
    "#reading data - overparse\n",
    "lst = []\n",
    "with open(\"members.txt\", \"r\") as file:\n",
    "    for r in file.read():\n",
    "        lst.append(r)\n",
    "lst"
   ],
   "metadata": {
    "collapsed": false,
    "ExecuteTime": {
     "start_time": "2023-04-16T17:25:14.233346Z",
     "end_time": "2023-04-16T17:25:14.263279Z"
    }
   }
  },
  {
   "cell_type": "markdown",
   "metadata": {},
   "source": [
    "### Exercise\n",
    "1. Create a complex data type\n",
    "    1. Use a combination of at least two of these data structure in one variable\n",
    "        1. list\n",
    "        1. dictionary\n",
    "        1. tuple\n",
    "        1. set\n",
    "\n",
    "1. Write two functions\n",
    "    1. Requirements\n",
    "        1. Use exception handling\n",
    "    1. one function that reads a file from the complex data type\n",
    "    1. one function that writes a file from the complex data type"
   ]
  },
  {
   "cell_type": "code",
   "execution_count": 2,
   "metadata": {
    "ExecuteTime": {
     "start_time": "2023-04-16T12:19:01.779796Z",
     "end_time": "2023-04-16T12:19:02.281889Z"
    }
   },
   "outputs": [],
   "source": [
    "children =[\"Andrew\",\"Laura\",\"Joe\"]\n"
   ]
  },
  {
   "cell_type": "code",
   "execution_count": 3,
   "metadata": {
    "ExecuteTime": {
     "start_time": "2023-04-16T12:19:01.811060Z",
     "end_time": "2023-04-16T12:19:02.646588Z"
    }
   },
   "outputs": [
    {
     "name": "stdout",
     "output_type": "stream",
     "text": [
      "['Andrew', 'Laura', 'Joe']\n",
      "['Andrew', 'Laura']\n"
     ]
    }
   ],
   "source": [
    "print (children)\n",
    "children.pop()\n",
    "print (children)"
   ]
  },
  {
   "cell_type": "code",
   "execution_count": 4,
   "metadata": {
    "ExecuteTime": {
     "start_time": "2023-04-16T12:19:01.826686Z",
     "end_time": "2023-04-16T12:19:02.646588Z"
    }
   },
   "outputs": [
    {
     "name": "stdout",
     "output_type": "stream",
     "text": [
      "['Andrew', 'Laura']\n",
      "['Laura']\n"
     ]
    }
   ],
   "source": [
    "print (children)\n",
    "children.remove('Andrew')\n",
    "print (children)"
   ]
  },
  {
   "cell_type": "code",
   "execution_count": 5,
   "metadata": {
    "ExecuteTime": {
     "start_time": "2023-04-16T12:19:01.826686Z",
     "end_time": "2023-04-16T12:19:02.646588Z"
    }
   },
   "outputs": [
    {
     "data": {
      "text/plain": "False"
     },
     "execution_count": 5,
     "metadata": {},
     "output_type": "execute_result"
    }
   ],
   "source": [
    "#checking that input is an integer\n",
    "'Loura' in children"
   ]
  },
  {
   "cell_type": "code",
   "execution_count": 6,
   "metadata": {
    "ExecuteTime": {
     "start_time": "2023-04-16T12:19:01.826686Z",
     "end_time": "2023-04-16T12:19:02.646588Z"
    }
   },
   "outputs": [
    {
     "data": {
      "text/plain": "True"
     },
     "execution_count": 6,
     "metadata": {},
     "output_type": "execute_result"
    }
   ],
   "source": [
    "'7' in '1234567890'"
   ]
  },
  {
   "cell_type": "code",
   "execution_count": 7,
   "metadata": {
    "ExecuteTime": {
     "start_time": "2023-04-16T12:19:01.856400Z",
     "end_time": "2023-04-16T12:19:02.646588Z"
    }
   },
   "outputs": [],
   "source": [
    "# With 3 rows and 4 columns\n",
    "students = [[\"Joel\", 85, 95, 70],\n",
    "            [\"Anne\", 95, 100, 100],\n",
    "            [\"Mike\", 77, 70, 80, 85]]\n",
    "# With 3 rows and 3 columns\n",
    "movies = [[\"The Holy Grail\", 1975, 9.99],\n",
    "          [\"Life of Brian\", 1979, 12.30],\n",
    "          [\"The Meaning of Life\", 1983, 7.50]]\n"
   ]
  },
  {
   "cell_type": "code",
   "execution_count": 8,
   "metadata": {
    "ExecuteTime": {
     "start_time": "2023-04-16T12:19:01.864884Z",
     "end_time": "2023-04-16T12:19:02.646588Z"
    }
   },
   "outputs": [
    {
     "data": {
      "text/plain": "85"
     },
     "execution_count": 8,
     "metadata": {},
     "output_type": "execute_result"
    }
   ],
   "source": [
    "students[2][4]"
   ]
  },
  {
   "cell_type": "code",
   "execution_count": 9,
   "metadata": {
    "ExecuteTime": {
     "start_time": "2023-04-16T12:19:01.875349Z",
     "end_time": "2023-04-16T12:19:02.646588Z"
    }
   },
   "outputs": [
    {
     "data": {
      "text/plain": "list"
     },
     "execution_count": 9,
     "metadata": {},
     "output_type": "execute_result"
    }
   ],
   "source": [
    "type(students)"
   ]
  },
  {
   "cell_type": "code",
   "execution_count": 10,
   "metadata": {
    "ExecuteTime": {
     "start_time": "2023-04-16T12:19:01.887877Z",
     "end_time": "2023-04-16T12:19:02.646588Z"
    }
   },
   "outputs": [
    {
     "data": {
      "text/plain": "str"
     },
     "execution_count": 10,
     "metadata": {},
     "output_type": "execute_result"
    }
   ],
   "source": [
    "type(movies[1][0])"
   ]
  },
  {
   "cell_type": "code",
   "execution_count": 11,
   "metadata": {
    "ExecuteTime": {
     "start_time": "2023-04-16T12:19:01.914107Z",
     "end_time": "2023-04-16T12:19:02.646588Z"
    }
   },
   "outputs": [
    {
     "data": {
      "text/plain": "'Life of Brian'"
     },
     "execution_count": 11,
     "metadata": {},
     "output_type": "execute_result"
    }
   ],
   "source": [
    "movies[1][0]"
   ]
  },
  {
   "cell_type": "code",
   "execution_count": 12,
   "metadata": {
    "ExecuteTime": {
     "start_time": "2023-04-16T12:19:01.927663Z",
     "end_time": "2023-04-16T12:19:02.646588Z"
    }
   },
   "outputs": [
    {
     "data": {
      "text/plain": "['Life', 'of', 'Brian']"
     },
     "execution_count": 12,
     "metadata": {},
     "output_type": "execute_result"
    }
   ],
   "source": [
    "# str to list\n",
    "lob_list = movies[1][0].split(\" \")\n",
    "lob_list "
   ]
  },
  {
   "cell_type": "code",
   "execution_count": 13,
   "metadata": {
    "ExecuteTime": {
     "start_time": "2023-04-16T12:19:01.935441Z",
     "end_time": "2023-04-16T12:19:02.646588Z"
    }
   },
   "outputs": [
    {
     "data": {
      "text/plain": "'Life of Brian'"
     },
     "execution_count": 13,
     "metadata": {},
     "output_type": "execute_result"
    }
   ],
   "source": [
    "#list to str\n",
    "\" \".join(lob_list)"
   ]
  },
  {
   "cell_type": "code",
   "execution_count": 24,
   "metadata": {
    "ExecuteTime": {
     "start_time": "2023-04-16T12:54:58.232360Z",
     "end_time": "2023-04-16T12:54:58.252456Z"
    }
   },
   "outputs": [
    {
     "data": {
      "text/plain": "100"
     },
     "execution_count": 24,
     "metadata": {},
     "output_type": "execute_result"
    }
   ],
   "source": [
    "students[1][3]"
   ]
  },
  {
   "cell_type": "code",
   "execution_count": 15,
   "metadata": {
    "ExecuteTime": {
     "start_time": "2023-04-16T12:19:01.970805Z",
     "end_time": "2023-04-16T12:19:02.646588Z"
    }
   },
   "outputs": [
    {
     "name": "stdout",
     "output_type": "stream",
     "text": [
      "['Kundun', 1997, 4.7]\n"
     ]
    },
    {
     "data": {
      "text/plain": "[['The Holy Grail', 1975, 9.99],\n ['Life of Brian', 1979, 12.3],\n ['The Meaning of Life', 1983, 7.5],\n ['Kundun', 1997, 4.7]]"
     },
     "execution_count": 15,
     "metadata": {},
     "output_type": "execute_result"
    }
   ],
   "source": [
    "flick = []\n",
    "#build a list\n",
    "flick.append('Kundun')\n",
    "flick.append(1997)\n",
    "flick.append(4.7)\n",
    "print(flick)\n",
    "#adding list as child list to parent list\n",
    "movies.append(flick)\n",
    "movies"
   ]
  },
  {
   "cell_type": "code",
   "execution_count": 16,
   "metadata": {
    "ExecuteTime": {
     "start_time": "2023-04-16T12:19:01.982820Z",
     "end_time": "2023-04-16T12:19:02.646588Z"
    }
   },
   "outputs": [
    {
     "data": {
      "text/plain": "9"
     },
     "execution_count": 16,
     "metadata": {},
     "output_type": "execute_result"
    }
   ],
   "source": [
    "lssimple =[1,2,7,3,2,2,2,2,None]\n",
    "len(lssimple)"
   ]
  },
  {
   "cell_type": "code",
   "execution_count": 77,
   "metadata": {
    "ExecuteTime": {
     "start_time": "2023-04-16T15:41:06.173356Z",
     "end_time": "2023-04-16T15:41:06.209628Z"
    }
   },
   "outputs": [
    {
     "name": "stdout",
     "output_type": "stream",
     "text": [
      "None\n"
     ]
    },
    {
     "data": {
      "text/plain": "NoneType"
     },
     "execution_count": 77,
     "metadata": {},
     "output_type": "execute_result"
    }
   ],
   "source": [
    "foo = lssimple[8]\n",
    "type(foo)"
   ]
  },
  {
   "cell_type": "code",
   "execution_count": 35,
   "metadata": {
    "ExecuteTime": {
     "start_time": "2023-04-16T13:01:58.902131Z",
     "end_time": "2023-04-16T13:01:58.936115Z"
    }
   },
   "outputs": [
    {
     "name": "stdout",
     "output_type": "stream",
     "text": [
      "1\n",
      "2\n",
      "7\n",
      "3\n",
      "2\n",
      "2\n",
      "2\n",
      "2\n",
      "None\n"
     ]
    }
   ],
   "source": [
    "for r in range(0,9): print (lssimple[r])"
   ]
  },
  {
   "cell_type": "code",
   "execution_count": 37,
   "metadata": {
    "ExecuteTime": {
     "start_time": "2023-04-16T13:02:53.530305Z",
     "end_time": "2023-04-16T13:02:53.568665Z"
    }
   },
   "outputs": [
    {
     "data": {
      "text/plain": "2"
     },
     "execution_count": 37,
     "metadata": {},
     "output_type": "execute_result"
    }
   ],
   "source": [
    "lssimple.index(7)"
   ]
  },
  {
   "cell_type": "code",
   "execution_count": 38,
   "metadata": {},
   "outputs": [
    {
     "ename": "TypeError",
     "evalue": "unsupported operand type(s) for *: 'NoneType' and 'int'",
     "output_type": "error",
     "traceback": [
      "\u001B[1;31m---------------------------------------------------------------------------\u001B[0m",
      "\u001B[1;31mTypeError\u001B[0m                                 Traceback (most recent call last)",
      "Cell \u001B[1;32mIn[38], line 1\u001B[0m\n\u001B[1;32m----> 1\u001B[0m \u001B[43mlssimple\u001B[49m\u001B[43m[\u001B[49m\u001B[38;5;241;43m8\u001B[39;49m\u001B[43m]\u001B[49m\u001B[38;5;241;43m*\u001B[39;49m\u001B[38;5;241;43m3\u001B[39;49m\n",
      "\u001B[1;31mTypeError\u001B[0m: unsupported operand type(s) for *: 'NoneType' and 'int'"
     ]
    }
   ],
   "source": [
    "lssimple[8]*3"
   ]
  },
  {
   "cell_type": "code",
   "execution_count": 39,
   "metadata": {
    "ExecuteTime": {
     "start_time": "2023-04-16T13:03:37.677558Z",
     "end_time": "2023-04-16T13:03:37.731178Z"
    }
   },
   "outputs": [
    {
     "data": {
      "text/plain": "1"
     },
     "execution_count": 39,
     "metadata": {},
     "output_type": "execute_result"
    }
   ],
   "source": [
    "lssimple.count(None)"
   ]
  },
  {
   "cell_type": "code",
   "execution_count": 41,
   "metadata": {
    "ExecuteTime": {
     "start_time": "2023-04-16T13:03:55.193295Z",
     "end_time": "2023-04-16T13:03:55.247047Z"
    }
   },
   "outputs": [
    {
     "data": {
      "text/plain": "True"
     },
     "execution_count": 41,
     "metadata": {},
     "output_type": "execute_result"
    }
   ],
   "source": [
    "None == None"
   ]
  },
  {
   "cell_type": "code",
   "execution_count": 44,
   "metadata": {
    "ExecuteTime": {
     "start_time": "2023-04-16T13:04:11.739431Z",
     "end_time": "2023-04-16T13:04:11.774336Z"
    }
   },
   "outputs": [
    {
     "data": {
      "text/plain": "[1, 2, 7, 3, 2, 2, 2, 2, None]"
     },
     "execution_count": 44,
     "metadata": {},
     "output_type": "execute_result"
    }
   ],
   "source": [
    "lssimple"
   ]
  },
  {
   "cell_type": "code",
   "execution_count": 43,
   "metadata": {
    "ExecuteTime": {
     "start_time": "2023-04-16T13:04:05.402725Z",
     "end_time": "2023-04-16T13:04:05.446944Z"
    }
   },
   "outputs": [
    {
     "data": {
      "text/plain": "[1, 2, 7, 3, 2, 2, 2, 2, None]"
     },
     "execution_count": 43,
     "metadata": {},
     "output_type": "execute_result"
    }
   ],
   "source": [
    "lssimple.reverse()\n",
    "lssimple"
   ]
  },
  {
   "cell_type": "code",
   "execution_count": 47,
   "metadata": {
    "ExecuteTime": {
     "start_time": "2023-04-16T13:05:09.604830Z",
     "end_time": "2023-04-16T13:05:09.618507Z"
    }
   },
   "outputs": [
    {
     "data": {
      "text/plain": "['Andrew', 'Joe', 'Laura']"
     },
     "execution_count": 47,
     "metadata": {},
     "output_type": "execute_result"
    }
   ],
   "source": [
    "children"
   ]
  },
  {
   "cell_type": "code",
   "execution_count": 48,
   "metadata": {
    "ExecuteTime": {
     "start_time": "2023-04-16T13:05:17.766182Z",
     "end_time": "2023-04-16T13:05:17.797207Z"
    }
   },
   "outputs": [
    {
     "data": {
      "text/plain": "['Andrew', 'Joe', 'Laura']"
     },
     "execution_count": 48,
     "metadata": {},
     "output_type": "execute_result"
    }
   ],
   "source": [
    "children =[\"Andrew\",\"Laura\",\"Joe\"]\n",
    "children.sort(key=str.lower)\n",
    "children"
   ]
  },
  {
   "cell_type": "code",
   "execution_count": null,
   "metadata": {},
   "outputs": [],
   "source": [
    "children =[\"Andrew\",\"Laura\",\"Joe\"]\n",
    "#default order ascending\n",
    "children.sort(key=str.__len__,reverse = True)\n",
    "children"
   ]
  },
  {
   "cell_type": "code",
   "execution_count": null,
   "metadata": {},
   "outputs": [],
   "source": [
    "lssimple.remove(None)\n",
    "print(sum(lssimple))"
   ]
  },
  {
   "cell_type": "code",
   "execution_count": null,
   "metadata": {},
   "outputs": [],
   "source": [
    "lssimple"
   ]
  },
  {
   "cell_type": "code",
   "execution_count": null,
   "metadata": {},
   "outputs": [],
   "source": [
    "# slicer syntax\n",
    "#list[start_index:end_index:step]\n",
    "fancy = [52,54,56,58,60,62]\n",
    "print(fancy[0:2])\n",
    "print(fancy[::-1])"
   ]
  },
  {
   "cell_type": "code",
   "execution_count": null,
   "metadata": {},
   "outputs": [],
   "source": [
    "print(fancy[0:4:2])\n",
    "print(fancy[:2])"
   ]
  },
  {
   "cell_type": "code",
   "execution_count": 78,
   "metadata": {
    "ExecuteTime": {
     "start_time": "2023-04-16T15:42:29.640760Z",
     "end_time": "2023-04-16T15:42:29.686917Z"
    }
   },
   "outputs": [
    {
     "name": "stdout",
     "output_type": "stream",
     "text": [
      "['scroll', 'pestle', 'staff', 'robe']\n",
      "['staff', 'robe', 'scroll', 'pestle']\n"
     ]
    }
   ],
   "source": [
    "inv = [\"staff\",\"robe\"]\n",
    "chest = [\"scroll\",\"pestle\"]\n",
    "\n",
    "print(chest + inv)\n",
    "print(inv + chest)"
   ]
  },
  {
   "cell_type": "code",
   "execution_count": null,
   "metadata": {},
   "outputs": [],
   "source": [
    "#inv = inv + chest\n",
    "inv += chest\n",
    "inv"
   ]
  },
  {
   "cell_type": "code",
   "execution_count": null,
   "metadata": {},
   "outputs": [],
   "source": [
    "chest"
   ]
  },
  {
   "cell_type": "code",
   "execution_count": null,
   "metadata": {},
   "outputs": [],
   "source": [
    "chest[2]"
   ]
  },
  {
   "cell_type": "code",
   "execution_count": null,
   "metadata": {},
   "outputs": [],
   "source": [
    "foobar"
   ]
  },
  {
   "cell_type": "code",
   "execution_count": null,
   "metadata": {},
   "outputs": [],
   "source": [
    "my_dict2 = {'e': [1,3], 'b': \"2\", 'c': 3, 'a':[(1, True),\n",
    " (1, True),\n",
    " (2, True),\n",
    " (2, True),\n",
    " (2, True),\n",
    " (2, True),\n",
    " (2, True),\n",
    " (3, False)]}"
   ]
  },
  {
   "cell_type": "code",
   "execution_count": null,
   "metadata": {},
   "outputs": [],
   "source": [
    "my_dict2.keys()"
   ]
  },
  {
   "cell_type": "code",
   "execution_count": null,
   "metadata": {},
   "outputs": [],
   "source": [
    "my_dict2.values()"
   ]
  },
  {
   "cell_type": "code",
   "execution_count": null,
   "metadata": {},
   "outputs": [],
   "source": [
    "my_dict2.items()"
   ]
  },
  {
   "cell_type": "code",
   "execution_count": null,
   "metadata": {},
   "outputs": [],
   "source": [
    "my_dict2['g'] = \"foo\""
   ]
  },
  {
   "cell_type": "code",
   "execution_count": null,
   "metadata": {},
   "outputs": [],
   "source": [
    "my_dict2['t']"
   ]
  },
  {
   "cell_type": "code",
   "execution_count": 99,
   "metadata": {},
   "outputs": [
    {
     "ename": "NameError",
     "evalue": "name 'my_dict2' is not defined",
     "output_type": "error",
     "traceback": [
      "\u001B[1;31m---------------------------------------------------------------------------\u001B[0m",
      "\u001B[1;31mNameError\u001B[0m                                 Traceback (most recent call last)",
      "Cell \u001B[1;32mIn[99], line 1\u001B[0m\n\u001B[1;32m----> 1\u001B[0m \u001B[38;5;28;01mdef\u001B[39;00m \u001B[38;5;21msillytry\u001B[39m(d_input\u001B[38;5;241m=\u001B[39m\u001B[43mmy_dict2\u001B[49m, keyname\u001B[38;5;241m=\u001B[39m\u001B[38;5;124m'\u001B[39m\u001B[38;5;124me\u001B[39m\u001B[38;5;124m'\u001B[39m):\n\u001B[0;32m      2\u001B[0m     \u001B[38;5;66;03m#exception handling\u001B[39;00m\n\u001B[0;32m      3\u001B[0m     \u001B[38;5;66;03m#try block\u001B[39;00m\n\u001B[0;32m      4\u001B[0m     \u001B[38;5;28;01mtry\u001B[39;00m:\n\u001B[0;32m      5\u001B[0m         \u001B[38;5;66;03m#what we think might blow up\u001B[39;00m\n\u001B[0;32m      6\u001B[0m         value \u001B[38;5;241m=\u001B[39m d_input[keyname]\n",
      "\u001B[1;31mNameError\u001B[0m: name 'my_dict2' is not defined"
     ]
    }
   ],
   "source": [
    "def sillytry(d_input=my_dict2, keyname='e'):\n",
    "    #exception handling\n",
    "    #try block\n",
    "    try:\n",
    "        #what we think might blow up\n",
    "        value = d_input[keyname]\n",
    "    except TypeError:\n",
    "        #how we think might blow up\n",
    "        value = 'error!!!: Bad TYPE'\n",
    "    except KeyError:\n",
    "        #how we think might blow up\n",
    "        value = 'error!!!: invalid key'\n",
    "    except : value = 'error!!! generic error'        \n",
    "    finally:\n",
    "        print('end')\n",
    "    if type(value) == str:\n",
    "        print(\"string\")\n",
    "    elif type(value) == int:\n",
    "        print(\"int\")\n",
    "    else:\n",
    "        print(\"unknown\")\n",
    "    return value\n",
    "kwargs = {\"d_input\":my_dict2, \"keyname\":'e'}\n"
   ]
  },
  {
   "cell_type": "code",
   "execution_count": null,
   "metadata": {},
   "outputs": [],
   "source": [
    "\"{},{}\".format(*kwargs)"
   ]
  },
  {
   "cell_type": "code",
   "execution_count": null,
   "metadata": {},
   "outputs": [],
   "source": [
    "#sillytry(d_input=my_dict2, keyname='e')\n",
    "sillytry(**kwargs)"
   ]
  },
  {
   "cell_type": "code",
   "execution_count": null,
   "metadata": {},
   "outputs": [],
   "source": [
    "kwargs = {\"d_input\":my_dict2, \"keyname\":'7+f'}\n",
    "print(sillytry(**kwargs))"
   ]
  },
  {
   "cell_type": "code",
   "execution_count": null,
   "metadata": {},
   "outputs": [],
   "source": [
    "print(sillytry(keyname='x'))"
   ]
  },
  {
   "cell_type": "code",
   "execution_count": null,
   "metadata": {},
   "outputs": [],
   "source": [
    "print(sillytry(keyname='b'))"
   ]
  },
  {
   "cell_type": "code",
   "execution_count": null,
   "metadata": {},
   "outputs": [],
   "source": [
    "print(sillytry(keyname='c'))"
   ]
  },
  {
   "cell_type": "code",
   "execution_count": null,
   "metadata": {},
   "outputs": [],
   "source": [
    "children[4]"
   ]
  },
  {
   "cell_type": "code",
   "execution_count": null,
   "metadata": {},
   "outputs": [],
   "source": [
    "my_dict2"
   ]
  },
  {
   "cell_type": "code",
   "execution_count": null,
   "metadata": {},
   "outputs": [],
   "source": [
    "my_dict2.pop('a')\n",
    "my_dict2"
   ]
  },
  {
   "cell_type": "code",
   "execution_count": null,
   "metadata": {},
   "outputs": [],
   "source": [
    "my_dict2.pop()\n",
    "my_dict2"
   ]
  },
  {
   "cell_type": "code",
   "execution_count": null,
   "metadata": {},
   "outputs": [],
   "source": [
    "#my_dict2[\"h\"]= 'newerdata'\n",
    "my_dict2.setdefault('h','newerdata')\n",
    "my_dict2"
   ]
  },
  {
   "cell_type": "code",
   "execution_count": null,
   "metadata": {},
   "outputs": [],
   "source": [
    "my_dict2[\"f\"]"
   ]
  },
  {
   "cell_type": "code",
   "execution_count": null,
   "metadata": {},
   "outputs": [],
   "source": [
    "value = my_dict2.get('f')\n",
    "print(value is None)"
   ]
  },
  {
   "cell_type": "code",
   "execution_count": null,
   "metadata": {},
   "outputs": [],
   "source": [
    "type(my_dict2.get('f'))"
   ]
  },
  {
   "cell_type": "code",
   "execution_count": null,
   "metadata": {},
   "outputs": [],
   "source": [
    "my_dict2.values()"
   ]
  },
  {
   "cell_type": "code",
   "execution_count": null,
   "metadata": {},
   "outputs": [],
   "source": [
    "my_dict2.keys()"
   ]
  },
  {
   "cell_type": "code",
   "execution_count": null,
   "metadata": {},
   "outputs": [],
   "source": [
    "my_dict2.items()"
   ]
  },
  {
   "cell_type": "code",
   "execution_count": null,
   "metadata": {},
   "outputs": [],
   "source": [
    "my_dict2['e']"
   ]
  },
  {
   "cell_type": "code",
   "execution_count": null,
   "metadata": {},
   "outputs": [],
   "source": [
    "for k,v in my_dict2.items():\n",
    "    print('key: {} value {}'.format(k,v))"
   ]
  },
  {
   "cell_type": "code",
   "execution_count": null,
   "metadata": {},
   "outputs": [],
   "source": [
    "# for k,v in my_dict2.items():\n",
    "#     print('key: {} value {}'.format(k,v))\n",
    "    \n",
    "d_sample = {'key: '+str(k)+' value '+str(v) for k,v in my_dict2.items()}\n",
    "d_sample"
   ]
  },
  {
   "cell_type": "code",
   "execution_count": null,
   "metadata": {},
   "outputs": [],
   "source": [
    "for d in d_sample:print(d)"
   ]
  },
  {
   "cell_type": "code",
   "execution_count": null,
   "metadata": {},
   "outputs": [],
   "source": [
    "print(list(my_dict2))"
   ]
  },
  {
   "cell_type": "code",
   "execution_count": null,
   "metadata": {},
   "outputs": [],
   "source": [
    "contacts = {\n",
    "    \"Joel\":{\"address\": \"1500 Anystreet\", \"city\": \"San Francisco\",\n",
    "         \"state\": \"California\", \"postalCode\": \"94110\", \n",
    "         \"phone\": \"555-555-1111\"},\n",
    "    \"Anne\":{\"address\": \"1000 Somestreet\", \"city\": \"Fresno\",\n",
    "         \"state\": \"California\", \"postalCode\": \"93704\", \n",
    "         \"phone\": \"125-555-2222\"},\n",
    "    \"Ben\": {\"address\": \"1400 Another Street\", \"city\": \"Fresno\",\n",
    "         \"state\": \"California\", \"postalCode\": \"93704\", \n",
    "         \"phone\": \"125-555-4444\"}\n",
    "}"
   ]
  },
  {
   "cell_type": "code",
   "execution_count": null,
   "metadata": {},
   "outputs": [],
   "source": [
    "print(contacts.keys())\n",
    "print(contacts.items())\n",
    "print(contacts.values())"
   ]
  },
  {
   "cell_type": "code",
   "execution_count": null,
   "metadata": {},
   "outputs": [],
   "source": [
    "contacts['Ben']['address']"
   ]
  },
  {
   "cell_type": "code",
   "execution_count": null,
   "metadata": {},
   "outputs": [],
   "source": [
    "contacts.get('Ben').get('address')"
   ]
  },
  {
   "cell_type": "code",
   "execution_count": null,
   "metadata": {},
   "outputs": [],
   "source": [
    "contacts.get('Anne').get('email')"
   ]
  },
  {
   "cell_type": "code",
   "execution_count": null,
   "metadata": {},
   "outputs": [],
   "source": [
    "#writing data\n",
    "members = [\"John Cleese\", \"Eric Idle\",\"Terry Jones\"]\n",
    "# \"w\"= overwite, \"a\" = append, \"r\" = read = \"a\" ASCII or \"b\"\n",
    "with open(\"members.txt\", \"w\") as file:\n",
    "    file.write(\"members\"+ \"\\n\")\n",
    "    for m in members:\n",
    "        file.write(m + \"\\n\")          # adds new line"
   ]
  },
  {
   "cell_type": "code",
   "execution_count": null,
   "metadata": {},
   "outputs": [],
   "source": [
    "!head members.txt"
   ]
  },
  {
   "cell_type": "code",
   "execution_count": null,
   "metadata": {},
   "outputs": [],
   "source": [
    "#reading data - overparse\n",
    "lst = []\n",
    "with open(\"members.txt\", \"r\") as file:\n",
    "    for r in file.read():\n",
    "        lst.append(r)\n",
    "lst"
   ]
  },
  {
   "cell_type": "code",
   "execution_count": null,
   "metadata": {},
   "outputs": [],
   "source": [
    "lst = []\n",
    "with open(\"members.txt\", \"r\") as file:\n",
    "    lst = file.read().split(\"\\n\")\n",
    "lst"
   ]
  },
  {
   "cell_type": "code",
   "execution_count": null,
   "metadata": {},
   "outputs": [],
   "source": [
    "lst = []\n",
    "with open(\"members.txt\", \"r\") as file:\n",
    "    for r in file.readlines():\n",
    "        lst.append(r)\n",
    "lst"
   ]
  },
  {
   "cell_type": "code",
   "execution_count": null,
   "metadata": {},
   "outputs": [],
   "source": [
    "!head members.txt"
   ]
  },
  {
   "cell_type": "code",
   "execution_count": null,
   "metadata": {},
   "outputs": [],
   "source": [
    "list(my_dict2)"
   ]
  },
  {
   "cell_type": "code",
   "execution_count": null,
   "metadata": {},
   "outputs": [],
   "source": [
    "with open(\"my_dict2_items.tsv\", \"w\") as file:\n",
    "    for x in list(my_dict2):\n",
    "        file.write(x+'\\t'+str(my_dict2[x])+\"\\n\")\n"
   ]
  },
  {
   "cell_type": "code",
   "execution_count": null,
   "metadata": {},
   "outputs": [],
   "source": [
    "!head my_dict2_items.tsv"
   ]
  },
  {
   "cell_type": "code",
   "execution_count": null,
   "metadata": {},
   "outputs": [],
   "source": [
    "my_dict2"
   ]
  },
  {
   "cell_type": "code",
   "execution_count": null,
   "metadata": {},
   "outputs": [],
   "source": [
    "import csv\n",
    "with open(\"my_dict2_items.csv\", \"w\",  newline=\"\") as file:\n",
    "    writer = csv.writer(file)\n",
    "    for x in list(my_dict2):\n",
    "#        file.write(x+'\\t'+str(my_dict2[x])+\"\\n\")        \n",
    "        writer.writerow([str(x),str(my_dict2[x])])"
   ]
  },
  {
   "cell_type": "code",
   "execution_count": null,
   "metadata": {},
   "outputs": [],
   "source": [
    "!head my_dict2_items.csv"
   ]
  },
  {
   "cell_type": "markdown",
   "metadata": {},
   "source": []
  }
 ],
 "metadata": {
  "kernelspec": {
   "display_name": "Python 3.10.6 64-bit",
   "language": "python",
   "name": "python3"
  },
  "language_info": {
   "codemirror_mode": {
    "name": "ipython",
    "version": 3
   },
   "file_extension": ".py",
   "mimetype": "text/x-python",
   "name": "python",
   "nbconvert_exporter": "python",
   "pygments_lexer": "ipython3",
   "version": "3.10.6"
  },
  "vscode": {
   "interpreter": {
    "hash": "b0bec678c81eb7312b8d31d6ff160f9afdd44743e58cfedb622a2492ccc0e865"
   }
  }
 },
 "nbformat": 4,
 "nbformat_minor": 4
}
