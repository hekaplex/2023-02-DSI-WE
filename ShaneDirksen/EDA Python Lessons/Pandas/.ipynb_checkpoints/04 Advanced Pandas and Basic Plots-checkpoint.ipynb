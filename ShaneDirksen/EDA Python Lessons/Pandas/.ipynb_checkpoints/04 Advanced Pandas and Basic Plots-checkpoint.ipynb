{
 "cells": [
  {
   "cell_type": "markdown",
   "metadata": {},
   "source": [
    "## Advanced Pandas, Basic Python Viz and Exercise\n",
    "\n",
    "### Exercise\n",
    "1. Use the same dataframes you generated or copied to this directory from the 03 Exercise:\n",
    "    1. Extract of any SQL database \n",
    "    1. Imported file from your capstone work\n",
    "    1. Any other data from other exercises you have aleady used\n",
    "1. Import into Pandas\n",
    "1. Generate at least three additional dataframes with analytics introduced in this notebook\n",
    "    1. Melt\n",
    "    1. Pivot\n",
    "    1. Quantile\n",
    "    1. Aggregations\n",
    "1. Build at least three  visualizations supported by Pandas directly using prior analytics from the 03 Exercise or new analytics from this exercise"
   ]
  },
  {
   "cell_type": "code",
   "execution_count": 1,
   "metadata": {},
   "outputs": [
    {
     "name": "stdout",
     "output_type": "stream",
     "text": [
      "Collecting openpyxl\n",
      "  Downloading openpyxl-3.1.2-py2.py3-none-any.whl (249 kB)\n",
      "     -------------------------------------- 250.0/250.0 kB 2.6 MB/s eta 0:00:00\n",
      "Collecting et-xmlfile\n",
      "  Using cached et_xmlfile-1.1.0-py3-none-any.whl (4.7 kB)\n",
      "Installing collected packages: et-xmlfile, openpyxl\n",
      "Successfully installed et-xmlfile-1.1.0 openpyxl-3.1.2\n"
     ]
    },
    {
     "name": "stderr",
     "output_type": "stream",
     "text": [
      "\n",
      "[notice] A new release of pip available: 22.3.1 -> 23.1\n",
      "[notice] To update, run: python.exe -m pip install --upgrade pip\n"
     ]
    }
   ],
   "source": [
    "!pip install openpyxl"
   ]
  },
  {
   "cell_type": "code",
   "execution_count": 2,
   "metadata": {},
   "outputs": [],
   "source": [
    "import pandas as pd"
   ]
  },
  {
   "cell_type": "markdown",
   "metadata": {},
   "source": [
    "## Get the data"
   ]
  },
  {
   "cell_type": "markdown",
   "metadata": {},
   "source": [
    "### Read a CSV file from a website into a DataFrame"
   ]
  },
  {
   "cell_type": "code",
   "execution_count": 3,
   "metadata": {},
   "outputs": [],
   "source": [
    "import pandas as pd\n",
    "url = 'https://data.cdc.gov/api/views/v6ab-adf5/rows.csv?accessType=DOWNLOAD'\n",
    "mortality_data = pd.read_csv(url)"
   ]
  },
  {
   "cell_type": "code",
   "execution_count": 4,
   "metadata": {},
   "outputs": [
    {
     "data": {
      "text/plain": [
       "pandas.core.frame.DataFrame"
      ]
     },
     "execution_count": 4,
     "metadata": {},
     "output_type": "execute_result"
    }
   ],
   "source": [
    "type(mortality_data)"
   ]
  },
  {
   "cell_type": "code",
   "execution_count": 5,
   "metadata": {},
   "outputs": [
    {
     "name": "stdout",
     "output_type": "stream",
     "text": [
      "<class 'pandas.core.frame.DataFrame'>\n",
      "RangeIndex: 476 entries, 0 to 475\n",
      "Data columns (total 3 columns):\n",
      " #   Column      Non-Null Count  Dtype  \n",
      "---  ------      --------------  -----  \n",
      " 0   Year        476 non-null    int64  \n",
      " 1   Age Group   476 non-null    object \n",
      " 2   Death Rate  476 non-null    float64\n",
      "dtypes: float64(1), int64(1), object(1)\n",
      "memory usage: 11.3+ KB\n"
     ]
    }
   ],
   "source": [
    "mortality_data.info()"
   ]
  },
  {
   "cell_type": "code",
   "execution_count": 11,
   "metadata": {},
   "outputs": [
    {
     "data": {
      "text/plain": [
       "Year          0\n",
       "Age Group     0\n",
       "Death Rate    0\n",
       "dtype: int64"
      ]
     },
     "execution_count": 11,
     "metadata": {},
     "output_type": "execute_result"
    }
   ],
   "source": [
    "mortality_data.query(\"`Death Rate` == None\").count()"
   ]
  },
  {
   "cell_type": "code",
   "execution_count": 6,
   "metadata": {},
   "outputs": [
    {
     "data": {
      "text/html": [
       "<div>\n",
       "<style scoped>\n",
       "    .dataframe tbody tr th:only-of-type {\n",
       "        vertical-align: middle;\n",
       "    }\n",
       "\n",
       "    .dataframe tbody tr th {\n",
       "        vertical-align: top;\n",
       "    }\n",
       "\n",
       "    .dataframe thead th {\n",
       "        text-align: right;\n",
       "    }\n",
       "</style>\n",
       "<table border=\"1\" class=\"dataframe\">\n",
       "  <thead>\n",
       "    <tr style=\"text-align: right;\">\n",
       "      <th></th>\n",
       "      <th>Year</th>\n",
       "      <th>Death Rate</th>\n",
       "    </tr>\n",
       "  </thead>\n",
       "  <tbody>\n",
       "    <tr>\n",
       "      <th>count</th>\n",
       "      <td>476.000000</td>\n",
       "      <td>476.000000</td>\n",
       "    </tr>\n",
       "    <tr>\n",
       "      <th>mean</th>\n",
       "      <td>1959.000000</td>\n",
       "      <td>192.924160</td>\n",
       "    </tr>\n",
       "    <tr>\n",
       "      <th>std</th>\n",
       "      <td>34.387268</td>\n",
       "      <td>293.224216</td>\n",
       "    </tr>\n",
       "    <tr>\n",
       "      <th>min</th>\n",
       "      <td>1900.000000</td>\n",
       "      <td>11.400000</td>\n",
       "    </tr>\n",
       "    <tr>\n",
       "      <th>25%</th>\n",
       "      <td>1929.000000</td>\n",
       "      <td>40.575000</td>\n",
       "    </tr>\n",
       "    <tr>\n",
       "      <th>50%</th>\n",
       "      <td>1959.000000</td>\n",
       "      <td>89.500000</td>\n",
       "    </tr>\n",
       "    <tr>\n",
       "      <th>75%</th>\n",
       "      <td>1989.000000</td>\n",
       "      <td>222.575000</td>\n",
       "    </tr>\n",
       "    <tr>\n",
       "      <th>max</th>\n",
       "      <td>2018.000000</td>\n",
       "      <td>1983.800000</td>\n",
       "    </tr>\n",
       "  </tbody>\n",
       "</table>\n",
       "</div>"
      ],
      "text/plain": [
       "              Year   Death Rate\n",
       "count   476.000000   476.000000\n",
       "mean   1959.000000   192.924160\n",
       "std      34.387268   293.224216\n",
       "min    1900.000000    11.400000\n",
       "25%    1929.000000    40.575000\n",
       "50%    1959.000000    89.500000\n",
       "75%    1989.000000   222.575000\n",
       "max    2018.000000  1983.800000"
      ]
     },
     "execution_count": 6,
     "metadata": {},
     "output_type": "execute_result"
    }
   ],
   "source": [
    "mortality_data.describe()"
   ]
  },
  {
   "cell_type": "code",
   "execution_count": 30,
   "metadata": {},
   "outputs": [
    {
     "data": {
      "text/html": [
       "<div>\n",
       "<style scoped>\n",
       "    .dataframe tbody tr th:only-of-type {\n",
       "        vertical-align: middle;\n",
       "    }\n",
       "\n",
       "    .dataframe tbody tr th {\n",
       "        vertical-align: top;\n",
       "    }\n",
       "\n",
       "    .dataframe thead th {\n",
       "        text-align: right;\n",
       "    }\n",
       "</style>\n",
       "<table border=\"1\" class=\"dataframe\">\n",
       "  <thead>\n",
       "    <tr style=\"text-align: right;\">\n",
       "      <th></th>\n",
       "      <th>Age Group</th>\n",
       "    </tr>\n",
       "  </thead>\n",
       "  <tbody>\n",
       "    <tr>\n",
       "      <th>count</th>\n",
       "      <td>476</td>\n",
       "    </tr>\n",
       "    <tr>\n",
       "      <th>unique</th>\n",
       "      <td>4</td>\n",
       "    </tr>\n",
       "    <tr>\n",
       "      <th>top</th>\n",
       "      <td>1-4 Years</td>\n",
       "    </tr>\n",
       "    <tr>\n",
       "      <th>freq</th>\n",
       "      <td>119</td>\n",
       "    </tr>\n",
       "  </tbody>\n",
       "</table>\n",
       "</div>"
      ],
      "text/plain": [
       "        Age Group\n",
       "count         476\n",
       "unique          4\n",
       "top     1-4 Years\n",
       "freq          119"
      ]
     },
     "execution_count": 30,
     "metadata": {},
     "output_type": "execute_result"
    }
   ],
   "source": [
    "mortality_data.describe(include=\"O\")"
   ]
  },
  {
   "cell_type": "code",
   "execution_count": 31,
   "metadata": {},
   "outputs": [
    {
     "data": {
      "text/plain": [
       "Age Group  \n",
       "1-4 Years      119\n",
       "10-14 Years    119\n",
       "15-19 Years    119\n",
       "5-9 Years      119\n",
       "dtype: int64"
      ]
     },
     "execution_count": 31,
     "metadata": {},
     "output_type": "execute_result"
    }
   ],
   "source": [
    "mortality_data[[\"Age Group\"]].value_counts()"
   ]
  },
  {
   "cell_type": "code",
   "execution_count": 26,
   "metadata": {},
   "outputs": [
    {
     "data": {
      "text/plain": [
       "6.73"
      ]
     },
     "execution_count": 26,
     "metadata": {},
     "output_type": "execute_result"
    }
   ],
   "source": [
    "round(\n",
    "    (1983.8-11.4)/293.224216\n",
    "    ,2)"
   ]
  },
  {
   "cell_type": "code",
   "execution_count": 16,
   "metadata": {},
   "outputs": [
    {
     "name": "stdout",
     "output_type": "stream",
     "text": [
      "number of sigmas: 6.726593140588361\n"
     ]
    }
   ],
   "source": [
    "print(\"number of sigmas: \"+ str((1983.8-11.4)/293.224216))"
   ]
  },
  {
   "cell_type": "code",
   "execution_count": 20,
   "metadata": {},
   "outputs": [
    {
     "name": "stdout",
     "output_type": "stream",
     "text": [
      "number of sigmas: 6.73 1 2\n"
     ]
    }
   ],
   "source": [
    "print(\"number of sigmas: {} {} {}\".format(round((1983.8-11.4)/293.224216,2),1,2))"
   ]
  },
  {
   "cell_type": "code",
   "execution_count": 27,
   "metadata": {},
   "outputs": [
    {
     "data": {
      "text/plain": [
       "pandas.core.frame.DataFrame"
      ]
     },
     "execution_count": 27,
     "metadata": {},
     "output_type": "execute_result"
    }
   ],
   "source": []
  },
  {
   "cell_type": "code",
   "execution_count": 28,
   "metadata": {},
   "outputs": [
    {
     "data": {
      "text/plain": [
       "<AxesSubplot: xlabel='Year'>"
      ]
     },
     "execution_count": 28,
     "metadata": {},
     "output_type": "execute_result"
    },
    {
     "data": {
      "image/png": "[encoded data removed]",
      "text/plain": [
       "<Figure size 640x480 with 1 Axes>"
      ]
     },
     "metadata": {},
     "output_type": "display_data"
    }
   ],
   "source": [
    "mortality_data.plot.line(x=\"Year\", y = \"Death Rate\")"
   ]
  },
  {
   "cell_type": "code",
   "execution_count": 29,
   "metadata": {},
   "outputs": [
    {
     "data": {
      "text/html": [
       "<div>\n",
       "<style scoped>\n",
       "    .dataframe tbody tr th:only-of-type {\n",
       "        vertical-align: middle;\n",
       "    }\n",
       "\n",
       "    .dataframe tbody tr th {\n",
       "        vertical-align: top;\n",
       "    }\n",
       "\n",
       "    .dataframe thead th {\n",
       "        text-align: right;\n",
       "    }\n",
       "</style>\n",
       "<table border=\"1\" class=\"dataframe\">\n",
       "  <thead>\n",
       "    <tr style=\"text-align: right;\">\n",
       "      <th></th>\n",
       "      <th>Year</th>\n",
       "      <th>Age Group</th>\n",
       "      <th>Death Rate</th>\n",
       "    </tr>\n",
       "  </thead>\n",
       "  <tbody>\n",
       "    <tr>\n",
       "      <th>0</th>\n",
       "      <td>1900</td>\n",
       "      <td>1-4 Years</td>\n",
       "      <td>1983.8</td>\n",
       "    </tr>\n",
       "    <tr>\n",
       "      <th>1</th>\n",
       "      <td>1901</td>\n",
       "      <td>1-4 Years</td>\n",
       "      <td>1695.0</td>\n",
       "    </tr>\n",
       "    <tr>\n",
       "      <th>2</th>\n",
       "      <td>1902</td>\n",
       "      <td>1-4 Years</td>\n",
       "      <td>1655.7</td>\n",
       "    </tr>\n",
       "    <tr>\n",
       "      <th>3</th>\n",
       "      <td>1903</td>\n",
       "      <td>1-4 Years</td>\n",
       "      <td>1542.1</td>\n",
       "    </tr>\n",
       "    <tr>\n",
       "      <th>4</th>\n",
       "      <td>1904</td>\n",
       "      <td>1-4 Years</td>\n",
       "      <td>1591.5</td>\n",
       "    </tr>\n",
       "    <tr>\n",
       "      <th>...</th>\n",
       "      <td>...</td>\n",
       "      <td>...</td>\n",
       "      <td>...</td>\n",
       "    </tr>\n",
       "    <tr>\n",
       "      <th>471</th>\n",
       "      <td>2014</td>\n",
       "      <td>15-19 Years</td>\n",
       "      <td>45.5</td>\n",
       "    </tr>\n",
       "    <tr>\n",
       "      <th>472</th>\n",
       "      <td>2015</td>\n",
       "      <td>15-19 Years</td>\n",
       "      <td>48.3</td>\n",
       "    </tr>\n",
       "    <tr>\n",
       "      <th>473</th>\n",
       "      <td>2016</td>\n",
       "      <td>15-19 Years</td>\n",
       "      <td>51.2</td>\n",
       "    </tr>\n",
       "    <tr>\n",
       "      <th>474</th>\n",
       "      <td>2017</td>\n",
       "      <td>15-19 Years</td>\n",
       "      <td>51.5</td>\n",
       "    </tr>\n",
       "    <tr>\n",
       "      <th>475</th>\n",
       "      <td>2018</td>\n",
       "      <td>15-19 Years</td>\n",
       "      <td>49.2</td>\n",
       "    </tr>\n",
       "  </tbody>\n",
       "</table>\n",
       "<p>476 rows × 3 columns</p>\n",
       "</div>"
      ],
      "text/plain": [
       "     Year    Age Group  Death Rate\n",
       "0    1900    1-4 Years      1983.8\n",
       "1    1901    1-4 Years      1695.0\n",
       "2    1902    1-4 Years      1655.7\n",
       "3    1903    1-4 Years      1542.1\n",
       "4    1904    1-4 Years      1591.5\n",
       "..    ...          ...         ...\n",
       "471  2014  15-19 Years        45.5\n",
       "472  2015  15-19 Years        48.3\n",
       "473  2016  15-19 Years        51.2\n",
       "474  2017  15-19 Years        51.5\n",
       "475  2018  15-19 Years        49.2\n",
       "\n",
       "[476 rows x 3 columns]"
      ]
     },
     "execution_count": 29,
     "metadata": {},
     "output_type": "execute_result"
    }
   ],
   "source": [
    "mortality_data"
   ]
  },
  {
   "cell_type": "code",
   "execution_count": 42,
   "metadata": {},
   "outputs": [
    {
     "data": {
      "text/plain": [
       "1900    4\n",
       "1975    4\n",
       "1987    4\n",
       "1986    4\n",
       "1985    4\n",
       "       ..\n",
       "1935    4\n",
       "1934    4\n",
       "1933    4\n",
       "1932    4\n",
       "2018    4\n",
       "Name: Year, Length: 119, dtype: int64"
      ]
     },
     "execution_count": 42,
     "metadata": {},
     "output_type": "execute_result"
    }
   ],
   "source": []
  },
  {
   "cell_type": "code",
   "execution_count": 44,
   "metadata": {},
   "outputs": [
    {
     "data": {
      "text/html": [
       "<div>\n",
       "<style scoped>\n",
       "    .dataframe tbody tr th:only-of-type {\n",
       "        vertical-align: middle;\n",
       "    }\n",
       "\n",
       "    .dataframe tbody tr th {\n",
       "        vertical-align: top;\n",
       "    }\n",
       "\n",
       "    .dataframe thead th {\n",
       "        text-align: right;\n",
       "    }\n",
       "</style>\n",
       "<table border=\"1\" class=\"dataframe\">\n",
       "  <thead>\n",
       "    <tr style=\"text-align: right;\">\n",
       "      <th></th>\n",
       "      <th>values</th>\n",
       "      <th>counts</th>\n",
       "    </tr>\n",
       "  </thead>\n",
       "  <tbody>\n",
       "    <tr>\n",
       "      <th>0</th>\n",
       "      <td>1900</td>\n",
       "      <td>4</td>\n",
       "    </tr>\n",
       "    <tr>\n",
       "      <th>1</th>\n",
       "      <td>1975</td>\n",
       "      <td>4</td>\n",
       "    </tr>\n",
       "    <tr>\n",
       "      <th>2</th>\n",
       "      <td>1987</td>\n",
       "      <td>4</td>\n",
       "    </tr>\n",
       "    <tr>\n",
       "      <th>3</th>\n",
       "      <td>1986</td>\n",
       "      <td>4</td>\n",
       "    </tr>\n",
       "    <tr>\n",
       "      <th>4</th>\n",
       "      <td>1985</td>\n",
       "      <td>4</td>\n",
       "    </tr>\n",
       "    <tr>\n",
       "      <th>...</th>\n",
       "      <td>...</td>\n",
       "      <td>...</td>\n",
       "    </tr>\n",
       "    <tr>\n",
       "      <th>114</th>\n",
       "      <td>1935</td>\n",
       "      <td>4</td>\n",
       "    </tr>\n",
       "    <tr>\n",
       "      <th>115</th>\n",
       "      <td>1934</td>\n",
       "      <td>4</td>\n",
       "    </tr>\n",
       "    <tr>\n",
       "      <th>116</th>\n",
       "      <td>1933</td>\n",
       "      <td>4</td>\n",
       "    </tr>\n",
       "    <tr>\n",
       "      <th>117</th>\n",
       "      <td>1932</td>\n",
       "      <td>4</td>\n",
       "    </tr>\n",
       "    <tr>\n",
       "      <th>118</th>\n",
       "      <td>2018</td>\n",
       "      <td>4</td>\n",
       "    </tr>\n",
       "  </tbody>\n",
       "</table>\n",
       "<p>119 rows × 2 columns</p>\n",
       "</div>"
      ],
      "text/plain": [
       "     values  counts\n",
       "0      1900       4\n",
       "1      1975       4\n",
       "2      1987       4\n",
       "3      1986       4\n",
       "4      1985       4\n",
       "..      ...     ...\n",
       "114    1935       4\n",
       "115    1934       4\n",
       "116    1933       4\n",
       "117    1932       4\n",
       "118    2018       4\n",
       "\n",
       "[119 rows x 2 columns]"
      ]
     },
     "execution_count": 44,
     "metadata": {},
     "output_type": "execute_result"
    }
   ],
   "source": [
    "value_counts = mortality_data.Year.value_counts()\n",
    "df = pd.DataFrame({'values': value_counts.index, 'counts': value_counts.values})\n",
    "\n",
    "df"
   ]
  },
  {
   "cell_type": "code",
   "execution_count": 32,
   "metadata": {},
   "outputs": [
    {
     "data": {
      "text/plain": [
       "Age Group    Year\n",
       "1-4 Years    1900    1\n",
       "15-19 Years  1975    1\n",
       "             1987    1\n",
       "             1986    1\n",
       "             1985    1\n",
       "                    ..\n",
       "10-14 Years  1935    1\n",
       "             1934    1\n",
       "             1933    1\n",
       "             1932    1\n",
       "5-9 Years    2018    1\n",
       "Length: 476, dtype: int64"
      ]
     },
     "execution_count": 32,
     "metadata": {},
     "output_type": "execute_result"
    }
   ],
   "source": [
    "# SELECT [Age Group] , Year, COUNT(*) GROUP BY [Age Group], Year\n",
    "mortality_data[['Age Group','Year']].value_counts()"
   ]
  },
  {
   "cell_type": "markdown",
   "metadata": {},
   "source": [
    "### Save and restore a DataFrame"
   ]
  },
  {
   "cell_type": "code",
   "execution_count": 36,
   "metadata": {},
   "outputs": [],
   "source": [
    "mortality_data.to_csv('mortality_data.csv')"
   ]
  },
  {
   "cell_type": "code",
   "execution_count": 33,
   "metadata": {},
   "outputs": [],
   "source": [
    "mortality_data.to_pickle('mortality_data.pkl')"
   ]
  },
  {
   "cell_type": "code",
   "execution_count": 34,
   "metadata": {},
   "outputs": [],
   "source": [
    "mortality_data = pd.read_pickle('mortality_data.pkl')"
   ]
  },
  {
   "cell_type": "code",
   "execution_count": 35,
   "metadata": {},
   "outputs": [
    {
     "data": {
      "text/html": [
       "<div>\n",
       "<style scoped>\n",
       "    .dataframe tbody tr th:only-of-type {\n",
       "        vertical-align: middle;\n",
       "    }\n",
       "\n",
       "    .dataframe tbody tr th {\n",
       "        vertical-align: top;\n",
       "    }\n",
       "\n",
       "    .dataframe thead th {\n",
       "        text-align: right;\n",
       "    }\n",
       "</style>\n",
       "<table border=\"1\" class=\"dataframe\">\n",
       "  <thead>\n",
       "    <tr style=\"text-align: right;\">\n",
       "      <th></th>\n",
       "      <th>Year</th>\n",
       "      <th>Age Group</th>\n",
       "      <th>Death Rate</th>\n",
       "    </tr>\n",
       "  </thead>\n",
       "  <tbody>\n",
       "    <tr>\n",
       "      <th>0</th>\n",
       "      <td>1900</td>\n",
       "      <td>1-4 Years</td>\n",
       "      <td>1983.8</td>\n",
       "    </tr>\n",
       "    <tr>\n",
       "      <th>1</th>\n",
       "      <td>1901</td>\n",
       "      <td>1-4 Years</td>\n",
       "      <td>1695.0</td>\n",
       "    </tr>\n",
       "    <tr>\n",
       "      <th>2</th>\n",
       "      <td>1902</td>\n",
       "      <td>1-4 Years</td>\n",
       "      <td>1655.7</td>\n",
       "    </tr>\n",
       "    <tr>\n",
       "      <th>3</th>\n",
       "      <td>1903</td>\n",
       "      <td>1-4 Years</td>\n",
       "      <td>1542.1</td>\n",
       "    </tr>\n",
       "    <tr>\n",
       "      <th>4</th>\n",
       "      <td>1904</td>\n",
       "      <td>1-4 Years</td>\n",
       "      <td>1591.5</td>\n",
       "    </tr>\n",
       "  </tbody>\n",
       "</table>\n",
       "</div>"
      ],
      "text/plain": [
       "   Year  Age Group  Death Rate\n",
       "0  1900  1-4 Years      1983.8\n",
       "1  1901  1-4 Years      1695.0\n",
       "2  1902  1-4 Years      1655.7\n",
       "3  1903  1-4 Years      1542.1\n",
       "4  1904  1-4 Years      1591.5"
      ]
     },
     "execution_count": 35,
     "metadata": {},
     "output_type": "execute_result"
    }
   ],
   "source": [
    "mortality_data.head()"
   ]
  },
  {
   "cell_type": "markdown",
   "metadata": {},
   "source": [
    "## Examine and clean the data"
   ]
  },
  {
   "cell_type": "code",
   "execution_count": 37,
   "metadata": {},
   "outputs": [
    {
     "name": "stdout",
     "output_type": "stream",
     "text": [
      "Index:   RangeIndex(start=0, stop=476, step=1)\n",
      "Columns: Index(['Year', 'Age Group', 'Death Rate'], dtype='object')\n",
      "Size:    1428\n",
      "Shape:   (476, 3)\n"
     ]
    }
   ],
   "source": [
    "print(\"Index:  \", mortality_data.index)\n",
    "print(\"Columns:\", mortality_data.columns)\n",
    "print(\"Size:   \", mortality_data.size)\n",
    "print(\"Shape:  \", mortality_data.shape)"
   ]
  },
  {
   "cell_type": "markdown",
   "metadata": {},
   "source": [
    "### Use the columns attribute to replace spaces with nothing\n"
   ]
  },
  {
   "cell_type": "code",
   "execution_count": 38,
   "metadata": {},
   "outputs": [
    {
     "data": {
      "text/plain": [
       "Index(['Year', 'AgeGroup', 'DeathRate'], dtype='object')"
      ]
     },
     "execution_count": 38,
     "metadata": {},
     "output_type": "execute_result"
    }
   ],
   "source": [
    "mortality_data.columns = mortality_data.columns.str.replace(' ', '')\n",
    "mortality_data.columns"
   ]
  },
  {
   "cell_type": "code",
   "execution_count": 39,
   "metadata": {},
   "outputs": [
    {
     "data": {
      "text/html": [
       "<div>\n",
       "<style scoped>\n",
       "    .dataframe tbody tr th:only-of-type {\n",
       "        vertical-align: middle;\n",
       "    }\n",
       "\n",
       "    .dataframe tbody tr th {\n",
       "        vertical-align: top;\n",
       "    }\n",
       "\n",
       "    .dataframe thead th {\n",
       "        text-align: right;\n",
       "    }\n",
       "</style>\n",
       "<table border=\"1\" class=\"dataframe\">\n",
       "  <thead>\n",
       "    <tr style=\"text-align: right;\">\n",
       "      <th></th>\n",
       "      <th>Year</th>\n",
       "      <th>AgeGroup</th>\n",
       "      <th>DeathRate</th>\n",
       "    </tr>\n",
       "  </thead>\n",
       "  <tbody>\n",
       "    <tr>\n",
       "      <th>0</th>\n",
       "      <td>1900</td>\n",
       "      <td>1-4 Years</td>\n",
       "      <td>1983.8</td>\n",
       "    </tr>\n",
       "    <tr>\n",
       "      <th>1</th>\n",
       "      <td>1901</td>\n",
       "      <td>1-4 Years</td>\n",
       "      <td>1695.0</td>\n",
       "    </tr>\n",
       "    <tr>\n",
       "      <th>2</th>\n",
       "      <td>1902</td>\n",
       "      <td>1-4 Years</td>\n",
       "      <td>1655.7</td>\n",
       "    </tr>\n",
       "    <tr>\n",
       "      <th>3</th>\n",
       "      <td>1903</td>\n",
       "      <td>1-4 Years</td>\n",
       "      <td>1542.1</td>\n",
       "    </tr>\n",
       "    <tr>\n",
       "      <th>4</th>\n",
       "      <td>1904</td>\n",
       "      <td>1-4 Years</td>\n",
       "      <td>1591.5</td>\n",
       "    </tr>\n",
       "  </tbody>\n",
       "</table>\n",
       "</div>"
      ],
      "text/plain": [
       "   Year   AgeGroup  DeathRate\n",
       "0  1900  1-4 Years     1983.8\n",
       "1  1901  1-4 Years     1695.0\n",
       "2  1902  1-4 Years     1655.7\n",
       "3  1903  1-4 Years     1542.1\n",
       "4  1904  1-4 Years     1591.5"
      ]
     },
     "execution_count": 39,
     "metadata": {},
     "output_type": "execute_result"
    }
   ],
   "source": [
    "mortality_data.head()"
   ]
  },
  {
   "cell_type": "code",
   "execution_count": 40,
   "metadata": {},
   "outputs": [
    {
     "data": {
      "text/html": [
       "<div>\n",
       "<style scoped>\n",
       "    .dataframe tbody tr th:only-of-type {\n",
       "        vertical-align: middle;\n",
       "    }\n",
       "\n",
       "    .dataframe tbody tr th {\n",
       "        vertical-align: top;\n",
       "    }\n",
       "\n",
       "    .dataframe thead th {\n",
       "        text-align: right;\n",
       "    }\n",
       "</style>\n",
       "<table border=\"1\" class=\"dataframe\">\n",
       "  <thead>\n",
       "    <tr style=\"text-align: right;\">\n",
       "      <th></th>\n",
       "      <th>count</th>\n",
       "      <th>mean</th>\n",
       "      <th>std</th>\n",
       "      <th>min</th>\n",
       "      <th>25%</th>\n",
       "      <th>50%</th>\n",
       "      <th>75%</th>\n",
       "      <th>max</th>\n",
       "    </tr>\n",
       "  </thead>\n",
       "  <tbody>\n",
       "    <tr>\n",
       "      <th>Year</th>\n",
       "      <td>476.0</td>\n",
       "      <td>1959.00000</td>\n",
       "      <td>34.387268</td>\n",
       "      <td>1900.0</td>\n",
       "      <td>1929.000</td>\n",
       "      <td>1959.0</td>\n",
       "      <td>1989.000</td>\n",
       "      <td>2018.0</td>\n",
       "    </tr>\n",
       "    <tr>\n",
       "      <th>DeathRate</th>\n",
       "      <td>476.0</td>\n",
       "      <td>192.92416</td>\n",
       "      <td>293.224216</td>\n",
       "      <td>11.4</td>\n",
       "      <td>40.575</td>\n",
       "      <td>89.5</td>\n",
       "      <td>222.575</td>\n",
       "      <td>1983.8</td>\n",
       "    </tr>\n",
       "  </tbody>\n",
       "</table>\n",
       "</div>"
      ],
      "text/plain": [
       "           count        mean         std     min       25%     50%       75%  \\\n",
       "Year       476.0  1959.00000   34.387268  1900.0  1929.000  1959.0  1989.000   \n",
       "DeathRate  476.0   192.92416  293.224216    11.4    40.575    89.5   222.575   \n",
       "\n",
       "              max  \n",
       "Year       2018.0  \n",
       "DeathRate  1983.8  "
      ]
     },
     "execution_count": 40,
     "metadata": {},
     "output_type": "execute_result"
    }
   ],
   "source": [
    "mortality_data.describe().T"
   ]
  },
  {
   "cell_type": "code",
   "execution_count": 41,
   "metadata": {},
   "outputs": [
    {
     "data": {
      "text/html": [
       "<div>\n",
       "<style scoped>\n",
       "    .dataframe tbody tr th:only-of-type {\n",
       "        vertical-align: middle;\n",
       "    }\n",
       "\n",
       "    .dataframe tbody tr th {\n",
       "        vertical-align: top;\n",
       "    }\n",
       "\n",
       "    .dataframe thead th {\n",
       "        text-align: right;\n",
       "    }\n",
       "</style>\n",
       "<table border=\"1\" class=\"dataframe\">\n",
       "  <thead>\n",
       "    <tr style=\"text-align: right;\">\n",
       "      <th></th>\n",
       "      <th>count</th>\n",
       "      <th>unique</th>\n",
       "      <th>top</th>\n",
       "      <th>freq</th>\n",
       "    </tr>\n",
       "  </thead>\n",
       "  <tbody>\n",
       "    <tr>\n",
       "      <th>AgeGroup</th>\n",
       "      <td>476</td>\n",
       "      <td>4</td>\n",
       "      <td>1-4 Years</td>\n",
       "      <td>119</td>\n",
       "    </tr>\n",
       "  </tbody>\n",
       "</table>\n",
       "</div>"
      ],
      "text/plain": [
       "         count unique        top freq\n",
       "AgeGroup   476      4  1-4 Years  119"
      ]
     },
     "execution_count": 41,
     "metadata": {},
     "output_type": "execute_result"
    }
   ],
   "source": [
    "mortality_data.describe(include=\"O\").T"
   ]
  },
  {
   "cell_type": "code",
   "execution_count": 45,
   "metadata": {},
   "outputs": [
    {
     "data": {
      "text/plain": [
       "430"
      ]
     },
     "execution_count": 45,
     "metadata": {},
     "output_type": "execute_result"
    }
   ],
   "source": [
    "len(mortality_data.DeathRate.value_counts())"
   ]
  },
  {
   "cell_type": "code",
   "execution_count": 51,
   "metadata": {},
   "outputs": [
    {
     "data": {
      "text/plain": [
       "Year         119\n",
       "AgeGroup     119\n",
       "DeathRate    119\n",
       "dtype: int64"
      ]
     },
     "execution_count": 51,
     "metadata": {},
     "output_type": "execute_result"
    }
   ],
   "source": [
    "mortality_data.query(\"AgeGroup == '1-4 Years'\").count()"
   ]
  },
  {
   "cell_type": "code",
   "execution_count": 53,
   "metadata": {},
   "outputs": [
    {
     "data": {
      "text/plain": [
       "Year         135\n",
       "AgeGroup     135\n",
       "DeathRate    135\n",
       "dtype: int64"
      ]
     },
     "execution_count": 53,
     "metadata": {},
     "output_type": "execute_result"
    }
   ],
   "source": [
    "mortality_data.query(\"DeathRate >= 200\").count()"
   ]
  },
  {
   "cell_type": "code",
   "execution_count": 49,
   "metadata": {},
   "outputs": [
    {
     "data": {
      "text/plain": [
       "<AxesSubplot: >"
      ]
     },
     "execution_count": 49,
     "metadata": {},
     "output_type": "execute_result"
    },
    {
     "data": {
      "image/png": "[encoded data removed]",
      "text/plain": [
       "<Figure size 640x480 with 1 Axes>"
      ]
     },
     "metadata": {},
     "output_type": "display_data"
    }
   ],
   "source": [
    "mortality_data.DeathRate.hist(bins= 40)"
   ]
  },
  {
   "cell_type": "code",
   "execution_count": 54,
   "metadata": {},
   "outputs": [],
   "source": [
    "import numpy as np\n",
    "mortality_data['death_log']= np.log10(mortality_data['DeathRate'])"
   ]
  },
  {
   "cell_type": "code",
   "execution_count": 55,
   "metadata": {},
   "outputs": [
    {
     "data": {
      "text/html": [
       "<div>\n",
       "<style scoped>\n",
       "    .dataframe tbody tr th:only-of-type {\n",
       "        vertical-align: middle;\n",
       "    }\n",
       "\n",
       "    .dataframe tbody tr th {\n",
       "        vertical-align: top;\n",
       "    }\n",
       "\n",
       "    .dataframe thead th {\n",
       "        text-align: right;\n",
       "    }\n",
       "</style>\n",
       "<table border=\"1\" class=\"dataframe\">\n",
       "  <thead>\n",
       "    <tr style=\"text-align: right;\">\n",
       "      <th></th>\n",
       "      <th>Year</th>\n",
       "      <th>DeathRate</th>\n",
       "      <th>death_log</th>\n",
       "    </tr>\n",
       "  </thead>\n",
       "  <tbody>\n",
       "    <tr>\n",
       "      <th>count</th>\n",
       "      <td>476.000000</td>\n",
       "      <td>476.000000</td>\n",
       "      <td>476.000000</td>\n",
       "    </tr>\n",
       "    <tr>\n",
       "      <th>mean</th>\n",
       "      <td>1959.000000</td>\n",
       "      <td>192.924160</td>\n",
       "      <td>1.974020</td>\n",
       "    </tr>\n",
       "    <tr>\n",
       "      <th>std</th>\n",
       "      <td>34.387268</td>\n",
       "      <td>293.224216</td>\n",
       "      <td>0.507702</td>\n",
       "    </tr>\n",
       "    <tr>\n",
       "      <th>min</th>\n",
       "      <td>1900.000000</td>\n",
       "      <td>11.400000</td>\n",
       "      <td>1.056905</td>\n",
       "    </tr>\n",
       "    <tr>\n",
       "      <th>25%</th>\n",
       "      <td>1929.000000</td>\n",
       "      <td>40.575000</td>\n",
       "      <td>1.608258</td>\n",
       "    </tr>\n",
       "    <tr>\n",
       "      <th>50%</th>\n",
       "      <td>1959.000000</td>\n",
       "      <td>89.500000</td>\n",
       "      <td>1.951823</td>\n",
       "    </tr>\n",
       "    <tr>\n",
       "      <th>75%</th>\n",
       "      <td>1989.000000</td>\n",
       "      <td>222.575000</td>\n",
       "      <td>2.347475</td>\n",
       "    </tr>\n",
       "    <tr>\n",
       "      <th>max</th>\n",
       "      <td>2018.000000</td>\n",
       "      <td>1983.800000</td>\n",
       "      <td>3.297498</td>\n",
       "    </tr>\n",
       "  </tbody>\n",
       "</table>\n",
       "</div>"
      ],
      "text/plain": [
       "              Year    DeathRate   death_log\n",
       "count   476.000000   476.000000  476.000000\n",
       "mean   1959.000000   192.924160    1.974020\n",
       "std      34.387268   293.224216    0.507702\n",
       "min    1900.000000    11.400000    1.056905\n",
       "25%    1929.000000    40.575000    1.608258\n",
       "50%    1959.000000    89.500000    1.951823\n",
       "75%    1989.000000   222.575000    2.347475\n",
       "max    2018.000000  1983.800000    3.297498"
      ]
     },
     "execution_count": 55,
     "metadata": {},
     "output_type": "execute_result"
    }
   ],
   "source": [
    "mortality_data.describe()"
   ]
  },
  {
   "cell_type": "code",
   "execution_count": 117,
   "metadata": {},
   "outputs": [
    {
     "data": {
      "text/plain": [
       "1.9740203741438487"
      ]
     },
     "execution_count": 117,
     "metadata": {},
     "output_type": "execute_result"
    }
   ],
   "source": [
    "mortality_data.death_log.mean()"
   ]
  },
  {
   "cell_type": "code",
   "execution_count": 56,
   "metadata": {},
   "outputs": [
    {
     "data": {
      "text/plain": [
       "<AxesSubplot: >"
      ]
     },
     "execution_count": 56,
     "metadata": {},
     "output_type": "execute_result"
    },
    {
     "data": {
      "image/png": "[encoded data removed]",
      "text/plain": [
       "<Figure size 640x480 with 1 Axes>"
      ]
     },
     "metadata": {},
     "output_type": "display_data"
    }
   ],
   "source": [
    "mortality_data.death_log.hist(bins=50)"
   ]
  },
  {
   "cell_type": "code",
   "execution_count": 57,
   "metadata": {},
   "outputs": [
    {
     "data": {
      "text/plain": [
       "<AxesSubplot: >"
      ]
     },
     "execution_count": 57,
     "metadata": {},
     "output_type": "execute_result"
    },
    {
     "data": {
      "image/png": "[encoded data removed]",
      "text/plain": [
       "<Figure size 640x480 with 1 Axes>"
      ]
     },
     "metadata": {},
     "output_type": "display_data"
    }
   ],
   "source": [
    "mortality_data.DeathRate.hist(bins=50)"
   ]
  },
  {
   "cell_type": "code",
   "execution_count": null,
   "metadata": {},
   "outputs": [],
   "source": [
    "mortality_data.describe(include='O')"
   ]
  },
  {
   "cell_type": "code",
   "execution_count": null,
   "metadata": {},
   "outputs": [],
   "source": [
    "mortality_data.describe().T"
   ]
  },
  {
   "cell_type": "markdown",
   "metadata": {},
   "source": [
    "## Access the data"
   ]
  },
  {
   "cell_type": "code",
   "execution_count": 69,
   "metadata": {},
   "outputs": [
    {
     "ename": "TypeError",
     "evalue": "Cannot perform 'rand_' with a dtyped [object] array and scalar of type [bool]",
     "output_type": "error",
     "traceback": [
      "\u001b[1;31m---------------------------------------------------------------------------\u001b[0m",
      "\u001b[1;31mTypeError\u001b[0m                                 Traceback (most recent call last)",
      "File \u001b[1;32mc:\\Users\\andre\\AppData\\Local\\Programs\\Python\\Python311\\Lib\\site-packages\\pandas\\core\\ops\\array_ops.py:305\u001b[0m, in \u001b[0;36mna_logical_op\u001b[1;34m(x, y, op)\u001b[0m\n\u001b[0;32m    296\u001b[0m \u001b[39mtry\u001b[39;00m:\n\u001b[0;32m    297\u001b[0m     \u001b[39m# For exposition, write:\u001b[39;00m\n\u001b[0;32m    298\u001b[0m     \u001b[39m#  yarr = isinstance(y, np.ndarray)\u001b[39;00m\n\u001b[1;32m   (...)\u001b[0m\n\u001b[0;32m    303\u001b[0m     \u001b[39m# Then Cases where this goes through without raising include:\u001b[39;00m\n\u001b[0;32m    304\u001b[0m     \u001b[39m#  (xint or xbool) and (yint or bool)\u001b[39;00m\n\u001b[1;32m--> 305\u001b[0m     result \u001b[39m=\u001b[39m op(x, y)\n\u001b[0;32m    306\u001b[0m \u001b[39mexcept\u001b[39;00m \u001b[39mTypeError\u001b[39;00m:\n",
      "File \u001b[1;32mc:\\Users\\andre\\AppData\\Local\\Programs\\Python\\Python311\\Lib\\site-packages\\pandas\\core\\roperator.py:54\u001b[0m, in \u001b[0;36mrand_\u001b[1;34m(left, right)\u001b[0m\n\u001b[0;32m     53\u001b[0m \u001b[39mdef\u001b[39;00m \u001b[39mrand_\u001b[39m(left, right):\n\u001b[1;32m---> 54\u001b[0m     \u001b[39mreturn\u001b[39;00m operator\u001b[39m.\u001b[39;49mand_(right, left)\n",
      "\u001b[1;31mTypeError\u001b[0m: unsupported operand type(s) for &: 'int' and 'str'",
      "\nDuring handling of the above exception, another exception occurred:\n",
      "\u001b[1;31mTypeError\u001b[0m                                 Traceback (most recent call last)",
      "File \u001b[1;32mc:\\Users\\andre\\AppData\\Local\\Programs\\Python\\Python311\\Lib\\site-packages\\pandas\\core\\ops\\array_ops.py:319\u001b[0m, in \u001b[0;36mna_logical_op\u001b[1;34m(x, y, op)\u001b[0m\n\u001b[0;32m    318\u001b[0m \u001b[39mtry\u001b[39;00m:\n\u001b[1;32m--> 319\u001b[0m     result \u001b[39m=\u001b[39m libops\u001b[39m.\u001b[39;49mscalar_binop(x, y, op)\n\u001b[0;32m    320\u001b[0m \u001b[39mexcept\u001b[39;00m (\n\u001b[0;32m    321\u001b[0m     \u001b[39mTypeError\u001b[39;00m,\n\u001b[0;32m    322\u001b[0m     \u001b[39mValueError\u001b[39;00m,\n\u001b[1;32m   (...)\u001b[0m\n\u001b[0;32m    325\u001b[0m     \u001b[39mNotImplementedError\u001b[39;00m,\n\u001b[0;32m    326\u001b[0m ) \u001b[39mas\u001b[39;00m err:\n",
      "File \u001b[1;32mc:\\Users\\andre\\AppData\\Local\\Programs\\Python\\Python311\\Lib\\site-packages\\pandas\\_libs\\ops.pyx:210\u001b[0m, in \u001b[0;36mpandas._libs.ops.scalar_binop\u001b[1;34m()\u001b[0m\n",
      "File \u001b[1;32mc:\\Users\\andre\\AppData\\Local\\Programs\\Python\\Python311\\Lib\\site-packages\\pandas\\core\\roperator.py:54\u001b[0m, in \u001b[0;36mrand_\u001b[1;34m(left, right)\u001b[0m\n\u001b[0;32m     53\u001b[0m \u001b[39mdef\u001b[39;00m \u001b[39mrand_\u001b[39m(left, right):\n\u001b[1;32m---> 54\u001b[0m     \u001b[39mreturn\u001b[39;00m operator\u001b[39m.\u001b[39;49mand_(right, left)\n",
      "\u001b[1;31mTypeError\u001b[0m: unsupported operand type(s) for &: 'bool' and 'str'",
      "\nThe above exception was the direct cause of the following exception:\n",
      "\u001b[1;31mTypeError\u001b[0m                                 Traceback (most recent call last)",
      "\u001b[1;32mc:\\2023-02-DSI-WE\\instructor\\py\\EDA Python Lessons\\Pandas\\04 Advanced Pandas and Basic Plots.ipynb Cell 45\u001b[0m in \u001b[0;36m1\n\u001b[1;32m----> <a href='vscode-notebook-cell:/c%3A/2023-02-DSI-WE/instructor/py/EDA%20Python%20Lessons/Pandas/04%20Advanced%20Pandas%20and%20Basic%20Plots.ipynb#Y233sZmlsZQ%3D%3D?line=0'>1</a>\u001b[0m mortality_data[mortality_data\u001b[39m.\u001b[39mYear \u001b[39m==\u001b[39m \u001b[39m2000\u001b[39;49m \u001b[39m&\u001b[39;49m mortality_data\u001b[39m.\u001b[39;49mAgeGroup \u001b[39m!=\u001b[39m \u001b[39m'\u001b[39m\u001b[39m1-4 Years\u001b[39m\u001b[39m'\u001b[39m]\n",
      "File \u001b[1;32mc:\\Users\\andre\\AppData\\Local\\Programs\\Python\\Python311\\Lib\\site-packages\\pandas\\core\\ops\\common.py:72\u001b[0m, in \u001b[0;36m_unpack_zerodim_and_defer.<locals>.new_method\u001b[1;34m(self, other)\u001b[0m\n\u001b[0;32m     68\u001b[0m             \u001b[39mreturn\u001b[39;00m \u001b[39mNotImplemented\u001b[39m\n\u001b[0;32m     70\u001b[0m other \u001b[39m=\u001b[39m item_from_zerodim(other)\n\u001b[1;32m---> 72\u001b[0m \u001b[39mreturn\u001b[39;00m method(\u001b[39mself\u001b[39;49m, other)\n",
      "File \u001b[1;32mc:\\Users\\andre\\AppData\\Local\\Programs\\Python\\Python311\\Lib\\site-packages\\pandas\\core\\arraylike.py:76\u001b[0m, in \u001b[0;36mOpsMixin.__rand__\u001b[1;34m(self, other)\u001b[0m\n\u001b[0;32m     74\u001b[0m \u001b[39m@unpack_zerodim_and_defer\u001b[39m(\u001b[39m\"\u001b[39m\u001b[39m__rand__\u001b[39m\u001b[39m\"\u001b[39m)\n\u001b[0;32m     75\u001b[0m \u001b[39mdef\u001b[39;00m \u001b[39m__rand__\u001b[39m(\u001b[39mself\u001b[39m, other):\n\u001b[1;32m---> 76\u001b[0m     \u001b[39mreturn\u001b[39;00m \u001b[39mself\u001b[39;49m\u001b[39m.\u001b[39;49m_logical_method(other, roperator\u001b[39m.\u001b[39;49mrand_)\n",
      "File \u001b[1;32mc:\\Users\\andre\\AppData\\Local\\Programs\\Python\\Python311\\Lib\\site-packages\\pandas\\core\\series.py:6254\u001b[0m, in \u001b[0;36mSeries._logical_method\u001b[1;34m(self, other, op)\u001b[0m\n\u001b[0;32m   6251\u001b[0m lvalues \u001b[39m=\u001b[39m \u001b[39mself\u001b[39m\u001b[39m.\u001b[39m_values\n\u001b[0;32m   6252\u001b[0m rvalues \u001b[39m=\u001b[39m extract_array(other, extract_numpy\u001b[39m=\u001b[39m\u001b[39mTrue\u001b[39;00m, extract_range\u001b[39m=\u001b[39m\u001b[39mTrue\u001b[39;00m)\n\u001b[1;32m-> 6254\u001b[0m res_values \u001b[39m=\u001b[39m ops\u001b[39m.\u001b[39;49mlogical_op(lvalues, rvalues, op)\n\u001b[0;32m   6255\u001b[0m \u001b[39mreturn\u001b[39;00m \u001b[39mself\u001b[39m\u001b[39m.\u001b[39m_construct_result(res_values, name\u001b[39m=\u001b[39mres_name)\n",
      "File \u001b[1;32mc:\\Users\\andre\\AppData\\Local\\Programs\\Python\\Python311\\Lib\\site-packages\\pandas\\core\\ops\\array_ops.py:395\u001b[0m, in \u001b[0;36mlogical_op\u001b[1;34m(left, right, op)\u001b[0m\n\u001b[0;32m    391\u001b[0m \u001b[39m# For int vs int `^`, `|`, `&` are bitwise operators and return\u001b[39;00m\n\u001b[0;32m    392\u001b[0m \u001b[39m#   integer dtypes.  Otherwise these are boolean ops\u001b[39;00m\n\u001b[0;32m    393\u001b[0m filler \u001b[39m=\u001b[39m fill_int \u001b[39mif\u001b[39;00m is_self_int_dtype \u001b[39mand\u001b[39;00m is_other_int_dtype \u001b[39melse\u001b[39;00m fill_bool\n\u001b[1;32m--> 395\u001b[0m res_values \u001b[39m=\u001b[39m na_logical_op(lvalues, rvalues, op)\n\u001b[0;32m    396\u001b[0m \u001b[39m# error: Cannot call function of unknown type\u001b[39;00m\n\u001b[0;32m    397\u001b[0m res_values \u001b[39m=\u001b[39m filler(res_values)  \u001b[39m# type: ignore[operator]\u001b[39;00m\n",
      "File \u001b[1;32mc:\\Users\\andre\\AppData\\Local\\Programs\\Python\\Python311\\Lib\\site-packages\\pandas\\core\\ops\\array_ops.py:328\u001b[0m, in \u001b[0;36mna_logical_op\u001b[1;34m(x, y, op)\u001b[0m\n\u001b[0;32m    320\u001b[0m         \u001b[39mexcept\u001b[39;00m (\n\u001b[0;32m    321\u001b[0m             \u001b[39mTypeError\u001b[39;00m,\n\u001b[0;32m    322\u001b[0m             \u001b[39mValueError\u001b[39;00m,\n\u001b[1;32m   (...)\u001b[0m\n\u001b[0;32m    325\u001b[0m             \u001b[39mNotImplementedError\u001b[39;00m,\n\u001b[0;32m    326\u001b[0m         ) \u001b[39mas\u001b[39;00m err:\n\u001b[0;32m    327\u001b[0m             typ \u001b[39m=\u001b[39m \u001b[39mtype\u001b[39m(y)\u001b[39m.\u001b[39m\u001b[39m__name__\u001b[39m\n\u001b[1;32m--> 328\u001b[0m             \u001b[39mraise\u001b[39;00m \u001b[39mTypeError\u001b[39;00m(\n\u001b[0;32m    329\u001b[0m                 \u001b[39mf\u001b[39m\u001b[39m\"\u001b[39m\u001b[39mCannot perform \u001b[39m\u001b[39m'\u001b[39m\u001b[39m{\u001b[39;00mop\u001b[39m.\u001b[39m\u001b[39m__name__\u001b[39m\u001b[39m}\u001b[39;00m\u001b[39m'\u001b[39m\u001b[39m with a dtyped [\u001b[39m\u001b[39m{\u001b[39;00mx\u001b[39m.\u001b[39mdtype\u001b[39m}\u001b[39;00m\u001b[39m] array \u001b[39m\u001b[39m\"\u001b[39m\n\u001b[0;32m    330\u001b[0m                 \u001b[39mf\u001b[39m\u001b[39m\"\u001b[39m\u001b[39mand scalar of type [\u001b[39m\u001b[39m{\u001b[39;00mtyp\u001b[39m}\u001b[39;00m\u001b[39m]\u001b[39m\u001b[39m\"\u001b[39m\n\u001b[0;32m    331\u001b[0m             ) \u001b[39mfrom\u001b[39;00m \u001b[39merr\u001b[39;00m\n\u001b[0;32m    333\u001b[0m \u001b[39mreturn\u001b[39;00m result\u001b[39m.\u001b[39mreshape(x\u001b[39m.\u001b[39mshape)\n",
      "\u001b[1;31mTypeError\u001b[0m: Cannot perform 'rand_' with a dtyped [object] array and scalar of type [bool]"
     ]
    }
   ],
   "source": [
    "mortality_data[mortality_data.Year == 2000 & mortality_data.AgeGroup != '1-4 Years']"
   ]
  },
  {
   "cell_type": "code",
   "execution_count": 59,
   "metadata": {},
   "outputs": [
    {
     "data": {
      "text/plain": [
       "array([[<AxesSubplot: title={'center': 'Year'}>,\n",
       "        <AxesSubplot: title={'center': 'DeathRate'}>],\n",
       "       [<AxesSubplot: title={'center': 'death_log'}>, <AxesSubplot: >]],\n",
       "      dtype=object)"
      ]
     },
     "execution_count": 59,
     "metadata": {},
     "output_type": "execute_result"
    },
    {
     "data": {
      "image/png": "[encoded data removed]",
      "text/plain": [
       "<Figure size 640x480 with 4 Axes>"
      ]
     },
     "metadata": {},
     "output_type": "display_data"
    }
   ],
   "source": [
    "mortality_data.query(\"Year == 2000 and AgeGroup != '1-4 Years'\").hist(bins=50)"
   ]
  },
  {
   "cell_type": "code",
   "execution_count": 71,
   "metadata": {},
   "outputs": [
    {
     "data": {
      "text/html": [
       "<div>\n",
       "<style scoped>\n",
       "    .dataframe tbody tr th:only-of-type {\n",
       "        vertical-align: middle;\n",
       "    }\n",
       "\n",
       "    .dataframe tbody tr th {\n",
       "        vertical-align: top;\n",
       "    }\n",
       "\n",
       "    .dataframe thead th {\n",
       "        text-align: right;\n",
       "    }\n",
       "</style>\n",
       "<table border=\"1\" class=\"dataframe\">\n",
       "  <thead>\n",
       "    <tr style=\"text-align: right;\">\n",
       "      <th></th>\n",
       "      <th>Year</th>\n",
       "      <th>AgeGroup</th>\n",
       "      <th>DeathRate</th>\n",
       "      <th>death_log</th>\n",
       "    </tr>\n",
       "  </thead>\n",
       "  <tbody>\n",
       "    <tr>\n",
       "      <th>0</th>\n",
       "      <td>1900</td>\n",
       "      <td>1-4 Years</td>\n",
       "      <td>1983.8</td>\n",
       "      <td>3.297498</td>\n",
       "    </tr>\n",
       "    <tr>\n",
       "      <th>100</th>\n",
       "      <td>2000</td>\n",
       "      <td>1-4 Years</td>\n",
       "      <td>32.4</td>\n",
       "      <td>1.510545</td>\n",
       "    </tr>\n",
       "    <tr>\n",
       "      <th>119</th>\n",
       "      <td>1900</td>\n",
       "      <td>5-9 Years</td>\n",
       "      <td>466.1</td>\n",
       "      <td>2.668479</td>\n",
       "    </tr>\n",
       "    <tr>\n",
       "      <th>219</th>\n",
       "      <td>2000</td>\n",
       "      <td>5-9 Years</td>\n",
       "      <td>15.8</td>\n",
       "      <td>1.198657</td>\n",
       "    </tr>\n",
       "    <tr>\n",
       "      <th>238</th>\n",
       "      <td>1900</td>\n",
       "      <td>10-14 Years</td>\n",
       "      <td>298.3</td>\n",
       "      <td>2.474653</td>\n",
       "    </tr>\n",
       "  </tbody>\n",
       "</table>\n",
       "</div>"
      ],
      "text/plain": [
       "     Year     AgeGroup  DeathRate  death_log\n",
       "0    1900    1-4 Years     1983.8   3.297498\n",
       "100  2000    1-4 Years       32.4   1.510545\n",
       "119  1900    5-9 Years      466.1   2.668479\n",
       "219  2000    5-9 Years       15.8   1.198657\n",
       "238  1900  10-14 Years      298.3   2.474653"
      ]
     },
     "execution_count": 71,
     "metadata": {},
     "output_type": "execute_result"
    }
   ],
   "source": [
    "mortality_data.query('Year == 1900 or Year == 2000').head()"
   ]
  },
  {
   "cell_type": "code",
   "execution_count": 70,
   "metadata": {},
   "outputs": [
    {
     "data": {
      "text/html": [
       "<div>\n",
       "<style scoped>\n",
       "    .dataframe tbody tr th:only-of-type {\n",
       "        vertical-align: middle;\n",
       "    }\n",
       "\n",
       "    .dataframe tbody tr th {\n",
       "        vertical-align: top;\n",
       "    }\n",
       "\n",
       "    .dataframe thead th {\n",
       "        text-align: right;\n",
       "    }\n",
       "</style>\n",
       "<table border=\"1\" class=\"dataframe\">\n",
       "  <thead>\n",
       "    <tr style=\"text-align: right;\">\n",
       "      <th></th>\n",
       "      <th>Year</th>\n",
       "      <th>AgeGroup</th>\n",
       "      <th>DeathRate</th>\n",
       "      <th>death_log</th>\n",
       "    </tr>\n",
       "  </thead>\n",
       "  <tbody>\n",
       "    <tr>\n",
       "      <th>219</th>\n",
       "      <td>2000</td>\n",
       "      <td>5-9 Years</td>\n",
       "      <td>15.8</td>\n",
       "      <td>1.198657</td>\n",
       "    </tr>\n",
       "    <tr>\n",
       "      <th>338</th>\n",
       "      <td>2000</td>\n",
       "      <td>10-14 Years</td>\n",
       "      <td>20.3</td>\n",
       "      <td>1.307496</td>\n",
       "    </tr>\n",
       "    <tr>\n",
       "      <th>457</th>\n",
       "      <td>2000</td>\n",
       "      <td>15-19 Years</td>\n",
       "      <td>67.1</td>\n",
       "      <td>1.826723</td>\n",
       "    </tr>\n",
       "  </tbody>\n",
       "</table>\n",
       "</div>"
      ],
      "text/plain": [
       "     Year     AgeGroup  DeathRate  death_log\n",
       "219  2000    5-9 Years       15.8   1.198657\n",
       "338  2000  10-14 Years       20.3   1.307496\n",
       "457  2000  15-19 Years       67.1   1.826723"
      ]
     },
     "execution_count": 70,
     "metadata": {},
     "output_type": "execute_result"
    }
   ],
   "source": [
    "# use backticks if a column name contains spaces\n",
    "mortality_data.query('Year == 2000 and `AgeGroup` != \"1-4 Years\"')"
   ]
  },
  {
   "cell_type": "markdown",
   "metadata": {},
   "source": [
    "### Access a subset of rows and columns"
   ]
  },
  {
   "cell_type": "code",
   "execution_count": 72,
   "metadata": {},
   "outputs": [
    {
     "data": {
      "text/plain": [
       "0      1983.8\n",
       "119     466.1\n",
       "238     298.3\n",
       "357     484.8\n",
       "Name: DeathRate, dtype: float64"
      ]
     },
     "execution_count": 72,
     "metadata": {},
     "output_type": "execute_result"
    }
   ],
   "source": [
    "mortality_data.query('Year == 1900').DeathRate.head()"
   ]
  },
  {
   "cell_type": "code",
   "execution_count": 73,
   "metadata": {},
   "outputs": [
    {
     "data": {
      "text/plain": [
       "0      1983.8\n",
       "119     466.1\n",
       "238     298.3\n",
       "357     484.8\n",
       "Name: DeathRate, dtype: float64"
      ]
     },
     "execution_count": 73,
     "metadata": {},
     "output_type": "execute_result"
    }
   ],
   "source": [
    "mortality_data.query('Year == 1900')['DeathRate'].head()"
   ]
  },
  {
   "cell_type": "code",
   "execution_count": 74,
   "metadata": {},
   "outputs": [
    {
     "data": {
      "text/html": [
       "<div>\n",
       "<style scoped>\n",
       "    .dataframe tbody tr th:only-of-type {\n",
       "        vertical-align: middle;\n",
       "    }\n",
       "\n",
       "    .dataframe tbody tr th {\n",
       "        vertical-align: top;\n",
       "    }\n",
       "\n",
       "    .dataframe thead th {\n",
       "        text-align: right;\n",
       "    }\n",
       "</style>\n",
       "<table border=\"1\" class=\"dataframe\">\n",
       "  <thead>\n",
       "    <tr style=\"text-align: right;\">\n",
       "      <th></th>\n",
       "      <th>AgeGroup</th>\n",
       "      <th>DeathRate</th>\n",
       "    </tr>\n",
       "  </thead>\n",
       "  <tbody>\n",
       "    <tr>\n",
       "      <th>0</th>\n",
       "      <td>1-4 Years</td>\n",
       "      <td>1983.8</td>\n",
       "    </tr>\n",
       "    <tr>\n",
       "      <th>119</th>\n",
       "      <td>5-9 Years</td>\n",
       "      <td>466.1</td>\n",
       "    </tr>\n",
       "    <tr>\n",
       "      <th>238</th>\n",
       "      <td>10-14 Years</td>\n",
       "      <td>298.3</td>\n",
       "    </tr>\n",
       "    <tr>\n",
       "      <th>357</th>\n",
       "      <td>15-19 Years</td>\n",
       "      <td>484.8</td>\n",
       "    </tr>\n",
       "  </tbody>\n",
       "</table>\n",
       "</div>"
      ],
      "text/plain": [
       "        AgeGroup  DeathRate\n",
       "0      1-4 Years     1983.8\n",
       "119    5-9 Years      466.1\n",
       "238  10-14 Years      298.3\n",
       "357  15-19 Years      484.8"
      ]
     },
     "execution_count": 74,
     "metadata": {},
     "output_type": "execute_result"
    }
   ],
   "source": [
    "mortality_data.query('Year == 1900')[['AgeGroup','DeathRate']].head()"
   ]
  },
  {
   "cell_type": "markdown",
   "metadata": {},
   "source": [
    "### Apply statistical methods"
   ]
  },
  {
   "cell_type": "code",
   "execution_count": 75,
   "metadata": {},
   "outputs": [],
   "source": [
    "#mean = sum of values / count of case/observation\n",
    "md_mu = mortality_data[\"DeathRate\"].mean()\n"
   ]
  },
  {
   "cell_type": "code",
   "execution_count": 76,
   "metadata": {},
   "outputs": [],
   "source": [
    "md_sigma = mortality_data[\"DeathRate\"].std()"
   ]
  },
  {
   "cell_type": "code",
   "execution_count": 81,
   "metadata": {},
   "outputs": [],
   "source": [
    "md_log_mu = mortality_data[\"death_log\"].mean()\n",
    "md_log_sigma = mortality_data[\"death_log\"].std()\n"
   ]
  },
  {
   "cell_type": "code",
   "execution_count": 82,
   "metadata": {},
   "outputs": [
    {
     "name": "stdout",
     "output_type": "stream",
     "text": [
      "death_lograte is 1.9740203741438487 +/- 1.0154036228678984\n",
      "death_lograte CV is 26 % \n"
     ]
    }
   ],
   "source": [
    "#95% confidence interval is mean +/- 2 stdev\n",
    "print (\"death_lograte is {} +/- {}\".format(md_log_mu,2*md_log_sigma))\n",
    "print (\"death_lograte CV is {} % \".format(round((md_log_sigma/md_log_mu)*100.0),2))"
   ]
  },
  {
   "cell_type": "code",
   "execution_count": 83,
   "metadata": {},
   "outputs": [
    {
     "name": "stdout",
     "output_type": "stream",
     "text": [
      "deathrate is 192.92415966386554 +/- 586.4484319208575\n",
      "deathrate CV is 152 % \n"
     ]
    }
   ],
   "source": [
    "#coefficient of variance (\"good\" < .05)\n",
    "print (\"deathrate is {} +/- {}\".format(md_mu,2*md_sigma))\n",
    "print (\"deathrate CV is {} % \".format(round((md_sigma/md_mu)*100.0),2))"
   ]
  },
  {
   "cell_type": "code",
   "execution_count": 84,
   "metadata": {},
   "outputs": [],
   "source": [
    "mortality_data['outlier'] = mortality_data['DeathRate'].apply(\n",
    "        lambda x: \n",
    "        True \n",
    "        if ( x > md_mu + 2*md_sigma or x < md_mu - 2*md_sigma)  \n",
    "        else False \n",
    "            )\n"
   ]
  },
  {
   "cell_type": "code",
   "execution_count": 85,
   "metadata": {},
   "outputs": [
    {
     "data": {
      "text/plain": [
       "False    453\n",
       "True      23\n",
       "Name: outlier, dtype: int64"
      ]
     },
     "execution_count": 85,
     "metadata": {},
     "output_type": "execute_result"
    }
   ],
   "source": [
    "mortality_data.outlier.value_counts()"
   ]
  },
  {
   "cell_type": "code",
   "execution_count": 86,
   "metadata": {},
   "outputs": [
    {
     "data": {
      "text/plain": [
       "23.8"
      ]
     },
     "execution_count": 86,
     "metadata": {},
     "output_type": "execute_result"
    }
   ],
   "source": [
    ".05*476"
   ]
  },
  {
   "cell_type": "code",
   "execution_count": 87,
   "metadata": {},
   "outputs": [
    {
     "data": {
      "text/plain": [
       "89.5"
      ]
     },
     "execution_count": 87,
     "metadata": {},
     "output_type": "execute_result"
    }
   ],
   "source": [
    "# line you draw for equal number of cases on either side\n",
    "mortality_data.DeathRate.median()"
   ]
  },
  {
   "cell_type": "code",
   "execution_count": 88,
   "metadata": {},
   "outputs": [
    {
     "data": {
      "text/plain": [
       "AgeGroup     5-9 Years\n",
       "DeathRate       1983.8\n",
       "dtype: object"
      ]
     },
     "execution_count": 88,
     "metadata": {},
     "output_type": "execute_result"
    }
   ],
   "source": [
    "mortality_data[['AgeGroup','DeathRate']].max()"
   ]
  },
  {
   "cell_type": "code",
   "execution_count": 89,
   "metadata": {},
   "outputs": [
    {
     "data": {
      "text/plain": [
       "Year         476\n",
       "AgeGroup     476\n",
       "DeathRate    476\n",
       "death_log    476\n",
       "outlier      476\n",
       "dtype: int64"
      ]
     },
     "execution_count": 89,
     "metadata": {},
     "output_type": "execute_result"
    }
   ],
   "source": [
    "mortality_data.count()"
   ]
  },
  {
   "cell_type": "code",
   "execution_count": 90,
   "metadata": {},
   "outputs": [
    {
     "data": {
      "text/plain": [
       "[0.0,\n",
       " 0.05,\n",
       " 0.1,\n",
       " 0.15,\n",
       " 0.2,\n",
       " 0.25,\n",
       " 0.3,\n",
       " 0.35,\n",
       " 0.4,\n",
       " 0.45,\n",
       " 0.5,\n",
       " 0.55,\n",
       " 0.6,\n",
       " 0.65,\n",
       " 0.7,\n",
       " 0.75,\n",
       " 0.8,\n",
       " 0.85,\n",
       " 0.9,\n",
       " 0.95]"
      ]
     },
     "execution_count": 90,
     "metadata": {},
     "output_type": "execute_result"
    }
   ],
   "source": [
    "[i/20 for i in range(0,20)]"
   ]
  },
  {
   "cell_type": "code",
   "execution_count": 95,
   "metadata": {},
   "outputs": [
    {
     "data": {
      "text/plain": [
       "numpy.float64"
      ]
     },
     "execution_count": 95,
     "metadata": {},
     "output_type": "execute_result"
    }
   ],
   "source": [
    "type(mortality_data.DeathRate.quantile(0.62)) #50% or median"
   ]
  },
  {
   "cell_type": "code",
   "execution_count": null,
   "metadata": {},
   "outputs": [],
   "source": [
    "len(mortality_data)"
   ]
  },
  {
   "cell_type": "code",
   "execution_count": 100,
   "metadata": {},
   "outputs": [
    {
     "data": {
      "text/plain": [
       "pandas.core.series.Series"
      ]
     },
     "execution_count": 100,
     "metadata": {},
     "output_type": "execute_result"
    }
   ],
   "source": [
    "type(mortality_data.DeathRate)"
   ]
  },
  {
   "cell_type": "code",
   "execution_count": 108,
   "metadata": {},
   "outputs": [
    {
     "data": {
      "text/plain": [
       "0.00     11.400\n",
       "0.05     15.050\n",
       "0.10     21.500\n",
       "0.15     26.350\n",
       "0.20     31.800\n",
       "0.25     40.575\n",
       "0.30     45.050\n",
       "0.35     51.275\n",
       "0.40     63.800\n",
       "0.45     80.050\n",
       "0.50     89.500\n",
       "0.55     98.975\n",
       "0.60    110.400\n",
       "0.65    142.725\n",
       "0.70    180.400\n",
       "0.75    222.575\n",
       "0.80    279.900\n",
       "0.85    330.725\n",
       "0.90    430.850\n",
       "0.95    750.850\n",
       "Name: DeathRate, dtype: float64"
      ]
     },
     "execution_count": 108,
     "metadata": {},
     "output_type": "execute_result"
    }
   ],
   "source": [
    "mort_dist = mortality_data.DeathRate.quantile([i/20 for i in range(0,20)])\n",
    "mort_dist"
   ]
  },
  {
   "cell_type": "code",
   "execution_count": 104,
   "metadata": {},
   "outputs": [
    {
     "data": {
      "text/plain": [
       "0.0                                                      11.4\n",
       "0.05                                                    15.05\n",
       "0.1                                                      21.5\n",
       "0.15                                                    26.35\n",
       "0.2                                                      31.8\n",
       "0.25                                                   40.575\n",
       "0.3                                                     45.05\n",
       "0.35                                                   51.275\n",
       "0.4                                                      63.8\n",
       "0.45                                                    80.05\n",
       "0.5                                                      89.5\n",
       "0.55                                                   98.975\n",
       "0.6                                                     110.4\n",
       "0.65                                                  142.725\n",
       "0.7                                                     180.4\n",
       "0.75                                                  222.575\n",
       "0.8                                                     279.9\n",
       "0.85                                                  330.725\n",
       "0.9                                                    430.85\n",
       "0.95                                                   750.85\n",
       "quantile    Float64Index([ 0.0, 0.05,  0.1, 0.15,  0.2, 0....\n",
       "Name: DeathRate, dtype: object"
      ]
     },
     "execution_count": 104,
     "metadata": {},
     "output_type": "execute_result"
    }
   ],
   "source": [
    "mort_dist"
   ]
  },
  {
   "cell_type": "code",
   "execution_count": 105,
   "metadata": {},
   "outputs": [
    {
     "data": {
      "text/plain": [
       "<bound method Series.quantile of 0.0                                                      11.4\n",
       "0.05                                                    15.05\n",
       "0.1                                                      21.5\n",
       "0.15                                                    26.35\n",
       "0.2                                                      31.8\n",
       "0.25                                                   40.575\n",
       "0.3                                                     45.05\n",
       "0.35                                                   51.275\n",
       "0.4                                                      63.8\n",
       "0.45                                                    80.05\n",
       "0.5                                                      89.5\n",
       "0.55                                                   98.975\n",
       "0.6                                                     110.4\n",
       "0.65                                                  142.725\n",
       "0.7                                                     180.4\n",
       "0.75                                                  222.575\n",
       "0.8                                                     279.9\n",
       "0.85                                                  330.725\n",
       "0.9                                                    430.85\n",
       "0.95                                                   750.85\n",
       "quantile    Float64Index([ 0.0, 0.05,  0.1, 0.15,  0.2, 0....\n",
       "Name: DeathRate, dtype: object>"
      ]
     },
     "execution_count": 105,
     "metadata": {},
     "output_type": "execute_result"
    }
   ],
   "source": [
    "mort_dist.quantile"
   ]
  },
  {
   "cell_type": "code",
   "execution_count": 112,
   "metadata": {},
   "outputs": [
    {
     "data": {
      "text/html": [
       "<div>\n",
       "<style scoped>\n",
       "    .dataframe tbody tr th:only-of-type {\n",
       "        vertical-align: middle;\n",
       "    }\n",
       "\n",
       "    .dataframe tbody tr th {\n",
       "        vertical-align: top;\n",
       "    }\n",
       "\n",
       "    .dataframe thead th {\n",
       "        text-align: right;\n",
       "    }\n",
       "</style>\n",
       "<table border=\"1\" class=\"dataframe\">\n",
       "  <thead>\n",
       "    <tr style=\"text-align: right;\">\n",
       "      <th></th>\n",
       "      <th>quantile</th>\n",
       "      <th>DeathRate</th>\n",
       "    </tr>\n",
       "  </thead>\n",
       "  <tbody>\n",
       "    <tr>\n",
       "      <th>0</th>\n",
       "      <td>0.00</td>\n",
       "      <td>11.400</td>\n",
       "    </tr>\n",
       "    <tr>\n",
       "      <th>1</th>\n",
       "      <td>0.05</td>\n",
       "      <td>15.050</td>\n",
       "    </tr>\n",
       "    <tr>\n",
       "      <th>2</th>\n",
       "      <td>0.10</td>\n",
       "      <td>21.500</td>\n",
       "    </tr>\n",
       "    <tr>\n",
       "      <th>3</th>\n",
       "      <td>0.15</td>\n",
       "      <td>26.350</td>\n",
       "    </tr>\n",
       "    <tr>\n",
       "      <th>4</th>\n",
       "      <td>0.20</td>\n",
       "      <td>31.800</td>\n",
       "    </tr>\n",
       "    <tr>\n",
       "      <th>5</th>\n",
       "      <td>0.25</td>\n",
       "      <td>40.575</td>\n",
       "    </tr>\n",
       "    <tr>\n",
       "      <th>6</th>\n",
       "      <td>0.30</td>\n",
       "      <td>45.050</td>\n",
       "    </tr>\n",
       "    <tr>\n",
       "      <th>7</th>\n",
       "      <td>0.35</td>\n",
       "      <td>51.275</td>\n",
       "    </tr>\n",
       "    <tr>\n",
       "      <th>8</th>\n",
       "      <td>0.40</td>\n",
       "      <td>63.800</td>\n",
       "    </tr>\n",
       "    <tr>\n",
       "      <th>9</th>\n",
       "      <td>0.45</td>\n",
       "      <td>80.050</td>\n",
       "    </tr>\n",
       "    <tr>\n",
       "      <th>10</th>\n",
       "      <td>0.50</td>\n",
       "      <td>89.500</td>\n",
       "    </tr>\n",
       "    <tr>\n",
       "      <th>11</th>\n",
       "      <td>0.55</td>\n",
       "      <td>98.975</td>\n",
       "    </tr>\n",
       "    <tr>\n",
       "      <th>12</th>\n",
       "      <td>0.60</td>\n",
       "      <td>110.400</td>\n",
       "    </tr>\n",
       "    <tr>\n",
       "      <th>13</th>\n",
       "      <td>0.65</td>\n",
       "      <td>142.725</td>\n",
       "    </tr>\n",
       "    <tr>\n",
       "      <th>14</th>\n",
       "      <td>0.70</td>\n",
       "      <td>180.400</td>\n",
       "    </tr>\n",
       "    <tr>\n",
       "      <th>15</th>\n",
       "      <td>0.75</td>\n",
       "      <td>222.575</td>\n",
       "    </tr>\n",
       "    <tr>\n",
       "      <th>16</th>\n",
       "      <td>0.80</td>\n",
       "      <td>279.900</td>\n",
       "    </tr>\n",
       "    <tr>\n",
       "      <th>17</th>\n",
       "      <td>0.85</td>\n",
       "      <td>330.725</td>\n",
       "    </tr>\n",
       "    <tr>\n",
       "      <th>18</th>\n",
       "      <td>0.90</td>\n",
       "      <td>430.850</td>\n",
       "    </tr>\n",
       "    <tr>\n",
       "      <th>19</th>\n",
       "      <td>0.95</td>\n",
       "      <td>750.850</td>\n",
       "    </tr>\n",
       "  </tbody>\n",
       "</table>\n",
       "</div>"
      ],
      "text/plain": [
       "    quantile  DeathRate\n",
       "0       0.00     11.400\n",
       "1       0.05     15.050\n",
       "2       0.10     21.500\n",
       "3       0.15     26.350\n",
       "4       0.20     31.800\n",
       "5       0.25     40.575\n",
       "6       0.30     45.050\n",
       "7       0.35     51.275\n",
       "8       0.40     63.800\n",
       "9       0.45     80.050\n",
       "10      0.50     89.500\n",
       "11      0.55     98.975\n",
       "12      0.60    110.400\n",
       "13      0.65    142.725\n",
       "14      0.70    180.400\n",
       "15      0.75    222.575\n",
       "16      0.80    279.900\n",
       "17      0.85    330.725\n",
       "18      0.90    430.850\n",
       "19      0.95    750.850"
      ]
     },
     "execution_count": 112,
     "metadata": {},
     "output_type": "execute_result"
    }
   ],
   "source": [
    "mort_dist_df = pd.DataFrame({\"quantile\":mort_dist.index, \"DeathRate\":mort_dist.values})\n",
    "mort_dist_df"
   ]
  },
  {
   "cell_type": "code",
   "execution_count": 101,
   "metadata": {},
   "outputs": [
    {
     "data": {
      "text/plain": [
       "0.0                                                      11.4\n",
       "0.05                                                    15.05\n",
       "0.1                                                      21.5\n",
       "0.15                                                    26.35\n",
       "0.2                                                      31.8\n",
       "0.25                                                   40.575\n",
       "0.3                                                     45.05\n",
       "0.35                                                   51.275\n",
       "0.4                                                      63.8\n",
       "0.45                                                    80.05\n",
       "0.5                                                      89.5\n",
       "0.55                                                   98.975\n",
       "0.6                                                     110.4\n",
       "0.65                                                  142.725\n",
       "0.7                                                     180.4\n",
       "0.75                                                  222.575\n",
       "0.8                                                     279.9\n",
       "0.85                                                  330.725\n",
       "0.9                                                    430.85\n",
       "0.95                                                   750.85\n",
       "quantile    Float64Index([ 0.0, 0.05,  0.1, 0.15,  0.2, 0....\n",
       "Name: DeathRate, dtype: object"
      ]
     },
     "execution_count": 101,
     "metadata": {},
     "output_type": "execute_result"
    }
   ],
   "source": [
    "#bins of 20 percentile cuts\n",
    "\n",
    "mort_dist[\"quantile\"] = mort_dist.index\n",
    "mort_dist\n"
   ]
  },
  {
   "cell_type": "code",
   "execution_count": 114,
   "metadata": {},
   "outputs": [
    {
     "data": {
      "text/plain": [
       "<AxesSubplot: xlabel='Death_Log'>"
      ]
     },
     "execution_count": 114,
     "metadata": {},
     "output_type": "execute_result"
    },
    {
     "data": {
      "image/png": "[encoded data removed]",
      "text/plain": [
       "<Figure size 640x480 with 1 Axes>"
      ]
     },
     "metadata": {},
     "output_type": "display_data"
    }
   ],
   "source": [
    "mort_log_dist = mortality_data.death_log.quantile([i/20 for i in range(0,20)])\n",
    "mort_log_dist_df = pd.DataFrame({\"quantile\":mort_log_dist.index, \"Death_Log\":mort_log_dist.values})\n",
    "mort_log_dist_df.plot.line(y=\"quantile\", x = \"Death_Log\")"
   ]
  },
  {
   "cell_type": "code",
   "execution_count": 113,
   "metadata": {},
   "outputs": [
    {
     "data": {
      "text/plain": [
       "<AxesSubplot: xlabel='DeathRate'>"
      ]
     },
     "execution_count": 113,
     "metadata": {},
     "output_type": "execute_result"
    },
    {
     "data": {
      "image/png": "[encoded data removed]",
      "text/plain": [
       "<Figure size 640x480 with 1 Axes>"
      ]
     },
     "metadata": {},
     "output_type": "display_data"
    }
   ],
   "source": [
    "mort_dist_df.plot.line(y=\"quantile\", x = \"DeathRate\")"
   ]
  },
  {
   "cell_type": "code",
   "execution_count": null,
   "metadata": {},
   "outputs": [],
   "source": [
    "mort_dist.plot.line(y=\"quantile\", x = \"death_log\")"
   ]
  },
  {
   "cell_type": "code",
   "execution_count": 115,
   "metadata": {},
   "outputs": [
    {
     "data": {
      "text/html": [
       "<div>\n",
       "<style scoped>\n",
       "    .dataframe tbody tr th:only-of-type {\n",
       "        vertical-align: middle;\n",
       "    }\n",
       "\n",
       "    .dataframe tbody tr th {\n",
       "        vertical-align: top;\n",
       "    }\n",
       "\n",
       "    .dataframe thead th {\n",
       "        text-align: right;\n",
       "    }\n",
       "</style>\n",
       "<table border=\"1\" class=\"dataframe\">\n",
       "  <thead>\n",
       "    <tr style=\"text-align: right;\">\n",
       "      <th></th>\n",
       "      <th>Year</th>\n",
       "      <th>AgeGroup</th>\n",
       "      <th>DeathRate</th>\n",
       "      <th>death_log</th>\n",
       "      <th>outlier</th>\n",
       "      <th>CumDeathRate</th>\n",
       "    </tr>\n",
       "  </thead>\n",
       "  <tbody>\n",
       "    <tr>\n",
       "      <th>0</th>\n",
       "      <td>1900</td>\n",
       "      <td>1-4 Years</td>\n",
       "      <td>1983.8</td>\n",
       "      <td>3.297498</td>\n",
       "      <td>True</td>\n",
       "      <td>1983.8</td>\n",
       "    </tr>\n",
       "    <tr>\n",
       "      <th>1</th>\n",
       "      <td>1901</td>\n",
       "      <td>1-4 Years</td>\n",
       "      <td>1695.0</td>\n",
       "      <td>3.229170</td>\n",
       "      <td>True</td>\n",
       "      <td>3678.8</td>\n",
       "    </tr>\n",
       "    <tr>\n",
       "      <th>2</th>\n",
       "      <td>1902</td>\n",
       "      <td>1-4 Years</td>\n",
       "      <td>1655.7</td>\n",
       "      <td>3.218982</td>\n",
       "      <td>True</td>\n",
       "      <td>5334.5</td>\n",
       "    </tr>\n",
       "    <tr>\n",
       "      <th>3</th>\n",
       "      <td>1903</td>\n",
       "      <td>1-4 Years</td>\n",
       "      <td>1542.1</td>\n",
       "      <td>3.188113</td>\n",
       "      <td>True</td>\n",
       "      <td>6876.6</td>\n",
       "    </tr>\n",
       "    <tr>\n",
       "      <th>4</th>\n",
       "      <td>1904</td>\n",
       "      <td>1-4 Years</td>\n",
       "      <td>1591.5</td>\n",
       "      <td>3.201807</td>\n",
       "      <td>True</td>\n",
       "      <td>8468.1</td>\n",
       "    </tr>\n",
       "    <tr>\n",
       "      <th>...</th>\n",
       "      <td>...</td>\n",
       "      <td>...</td>\n",
       "      <td>...</td>\n",
       "      <td>...</td>\n",
       "      <td>...</td>\n",
       "      <td>...</td>\n",
       "    </tr>\n",
       "    <tr>\n",
       "      <th>471</th>\n",
       "      <td>2014</td>\n",
       "      <td>15-19 Years</td>\n",
       "      <td>45.5</td>\n",
       "      <td>1.658011</td>\n",
       "      <td>False</td>\n",
       "      <td>91631.7</td>\n",
       "    </tr>\n",
       "    <tr>\n",
       "      <th>472</th>\n",
       "      <td>2015</td>\n",
       "      <td>15-19 Years</td>\n",
       "      <td>48.3</td>\n",
       "      <td>1.683947</td>\n",
       "      <td>False</td>\n",
       "      <td>91680.0</td>\n",
       "    </tr>\n",
       "    <tr>\n",
       "      <th>473</th>\n",
       "      <td>2016</td>\n",
       "      <td>15-19 Years</td>\n",
       "      <td>51.2</td>\n",
       "      <td>1.709270</td>\n",
       "      <td>False</td>\n",
       "      <td>91731.2</td>\n",
       "    </tr>\n",
       "    <tr>\n",
       "      <th>474</th>\n",
       "      <td>2017</td>\n",
       "      <td>15-19 Years</td>\n",
       "      <td>51.5</td>\n",
       "      <td>1.711807</td>\n",
       "      <td>False</td>\n",
       "      <td>91782.7</td>\n",
       "    </tr>\n",
       "    <tr>\n",
       "      <th>475</th>\n",
       "      <td>2018</td>\n",
       "      <td>15-19 Years</td>\n",
       "      <td>49.2</td>\n",
       "      <td>1.691965</td>\n",
       "      <td>False</td>\n",
       "      <td>91831.9</td>\n",
       "    </tr>\n",
       "  </tbody>\n",
       "</table>\n",
       "<p>476 rows × 6 columns</p>\n",
       "</div>"
      ],
      "text/plain": [
       "     Year     AgeGroup  DeathRate  death_log  outlier  CumDeathRate\n",
       "0    1900    1-4 Years     1983.8   3.297498     True        1983.8\n",
       "1    1901    1-4 Years     1695.0   3.229170     True        3678.8\n",
       "2    1902    1-4 Years     1655.7   3.218982     True        5334.5\n",
       "3    1903    1-4 Years     1542.1   3.188113     True        6876.6\n",
       "4    1904    1-4 Years     1591.5   3.201807     True        8468.1\n",
       "..    ...          ...        ...        ...      ...           ...\n",
       "471  2014  15-19 Years       45.5   1.658011    False       91631.7\n",
       "472  2015  15-19 Years       48.3   1.683947    False       91680.0\n",
       "473  2016  15-19 Years       51.2   1.709270    False       91731.2\n",
       "474  2017  15-19 Years       51.5   1.711807    False       91782.7\n",
       "475  2018  15-19 Years       49.2   1.691965    False       91831.9\n",
       "\n",
       "[476 rows x 6 columns]"
      ]
     },
     "execution_count": 115,
     "metadata": {},
     "output_type": "execute_result"
    }
   ],
   "source": [
    "# compare with SUM() OVER in SQL\n",
    "mortality_data[\"CumDeathRate\"] = mortality_data.DeathRate.cumsum()\n",
    "mortality_data"
   ]
  },
  {
   "cell_type": "code",
   "execution_count": 116,
   "metadata": {},
   "outputs": [
    {
     "data": {
      "text/plain": [
       "<AxesSubplot: >"
      ]
     },
     "execution_count": 116,
     "metadata": {},
     "output_type": "execute_result"
    },
    {
     "data": {
      "image/png": "[encoded data removed]",
      "text/plain": [
       "<Figure size 640x480 with 1 Axes>"
      ]
     },
     "metadata": {},
     "output_type": "display_data"
    }
   ],
   "source": [
    "mortality_data.plot.line( y = \"CumDeathRate\")"
   ]
  },
  {
   "cell_type": "markdown",
   "metadata": {},
   "source": [
    "### Use Python for column arithmetic"
   ]
  },
  {
   "cell_type": "code",
   "execution_count": 118,
   "metadata": {},
   "outputs": [],
   "source": [
    "mortality_data['MeanCentered'] = \\\n",
    "    mortality_data.DeathRate - mortality_data.DeathRate.mean()"
   ]
  },
  {
   "cell_type": "code",
   "execution_count": 120,
   "metadata": {},
   "outputs": [],
   "source": [
    "mortality_data['deathlogMeanCentered'] = \\\n",
    "    mortality_data.death_log - mortality_data.death_log.mean()"
   ]
  },
  {
   "cell_type": "code",
   "execution_count": 122,
   "metadata": {},
   "outputs": [],
   "source": [
    "# Z Score = how many stdev from mean?\n",
    "mortality_data['DeathRateZScore'] = \\\n",
    "    (mortality_data.DeathRate - mortality_data.DeathRate.mean()) / \\\n",
    "    mortality_data.DeathRate.std()"
   ]
  },
  {
   "cell_type": "code",
   "execution_count": 123,
   "metadata": {},
   "outputs": [
    {
     "data": {
      "text/plain": [
       "count    4.760000e+02\n",
       "mean     2.985474e-17\n",
       "std      1.000000e+00\n",
       "min     -6.190626e-01\n",
       "25%     -5.195654e-01\n",
       "50%     -3.527136e-01\n",
       "75%      1.011200e-01\n",
       "max      6.107530e+00\n",
       "Name: DeathRateZScore, dtype: float64"
      ]
     },
     "execution_count": 123,
     "metadata": {},
     "output_type": "execute_result"
    }
   ],
   "source": [
    "#mortality_data.head(4)\n",
    "mortality_data.DeathRateZScore.describe()"
   ]
  },
  {
   "cell_type": "code",
   "execution_count": 124,
   "metadata": {},
   "outputs": [],
   "source": [
    "mortality_data['DeathRatePer100k'] = mortality_data.DeathRate / 100000"
   ]
  },
  {
   "cell_type": "code",
   "execution_count": 125,
   "metadata": {},
   "outputs": [
    {
     "data": {
      "text/html": [
       "<div>\n",
       "<style scoped>\n",
       "    .dataframe tbody tr th:only-of-type {\n",
       "        vertical-align: middle;\n",
       "    }\n",
       "\n",
       "    .dataframe tbody tr th {\n",
       "        vertical-align: top;\n",
       "    }\n",
       "\n",
       "    .dataframe thead th {\n",
       "        text-align: right;\n",
       "    }\n",
       "</style>\n",
       "<table border=\"1\" class=\"dataframe\">\n",
       "  <thead>\n",
       "    <tr style=\"text-align: right;\">\n",
       "      <th></th>\n",
       "      <th>Year</th>\n",
       "      <th>AgeGroup</th>\n",
       "      <th>DeathRate</th>\n",
       "      <th>death_log</th>\n",
       "      <th>outlier</th>\n",
       "      <th>CumDeathRate</th>\n",
       "      <th>MeanCentered</th>\n",
       "      <th>deathlogMeanCentered</th>\n",
       "      <th>DeathRateZScore</th>\n",
       "      <th>DeathRatePer100k</th>\n",
       "    </tr>\n",
       "  </thead>\n",
       "  <tbody>\n",
       "    <tr>\n",
       "      <th>0</th>\n",
       "      <td>1900</td>\n",
       "      <td>1-4 Years</td>\n",
       "      <td>1983.8</td>\n",
       "      <td>3.297498</td>\n",
       "      <td>True</td>\n",
       "      <td>1983.8</td>\n",
       "      <td>1790.87584</td>\n",
       "      <td>1.323478</td>\n",
       "      <td>6.107530</td>\n",
       "      <td>0.019838</td>\n",
       "    </tr>\n",
       "    <tr>\n",
       "      <th>1</th>\n",
       "      <td>1901</td>\n",
       "      <td>1-4 Years</td>\n",
       "      <td>1695.0</td>\n",
       "      <td>3.229170</td>\n",
       "      <td>True</td>\n",
       "      <td>3678.8</td>\n",
       "      <td>1502.07584</td>\n",
       "      <td>1.255149</td>\n",
       "      <td>5.122619</td>\n",
       "      <td>0.016950</td>\n",
       "    </tr>\n",
       "    <tr>\n",
       "      <th>2</th>\n",
       "      <td>1902</td>\n",
       "      <td>1-4 Years</td>\n",
       "      <td>1655.7</td>\n",
       "      <td>3.218982</td>\n",
       "      <td>True</td>\n",
       "      <td>5334.5</td>\n",
       "      <td>1462.77584</td>\n",
       "      <td>1.244961</td>\n",
       "      <td>4.988592</td>\n",
       "      <td>0.016557</td>\n",
       "    </tr>\n",
       "    <tr>\n",
       "      <th>3</th>\n",
       "      <td>1903</td>\n",
       "      <td>1-4 Years</td>\n",
       "      <td>1542.1</td>\n",
       "      <td>3.188113</td>\n",
       "      <td>True</td>\n",
       "      <td>6876.6</td>\n",
       "      <td>1349.17584</td>\n",
       "      <td>1.214092</td>\n",
       "      <td>4.601175</td>\n",
       "      <td>0.015421</td>\n",
       "    </tr>\n",
       "  </tbody>\n",
       "</table>\n",
       "</div>"
      ],
      "text/plain": [
       "   Year   AgeGroup  DeathRate  death_log  outlier  CumDeathRate  MeanCentered  \\\n",
       "0  1900  1-4 Years     1983.8   3.297498     True        1983.8    1790.87584   \n",
       "1  1901  1-4 Years     1695.0   3.229170     True        3678.8    1502.07584   \n",
       "2  1902  1-4 Years     1655.7   3.218982     True        5334.5    1462.77584   \n",
       "3  1903  1-4 Years     1542.1   3.188113     True        6876.6    1349.17584   \n",
       "\n",
       "   deathlogMeanCentered  DeathRateZScore  DeathRatePer100k  \n",
       "0              1.323478         6.107530          0.019838  \n",
       "1              1.255149         5.122619          0.016950  \n",
       "2              1.244961         4.988592          0.016557  \n",
       "3              1.214092         4.601175          0.015421  "
      ]
     },
     "execution_count": 125,
     "metadata": {},
     "output_type": "execute_result"
    }
   ],
   "source": [
    "mortality_data.head(4)"
   ]
  },
  {
   "cell_type": "code",
   "execution_count": 129,
   "metadata": {},
   "outputs": [
    {
     "data": {
      "text/html": [
       "<div>\n",
       "<style scoped>\n",
       "    .dataframe tbody tr th:only-of-type {\n",
       "        vertical-align: middle;\n",
       "    }\n",
       "\n",
       "    .dataframe tbody tr th {\n",
       "        vertical-align: top;\n",
       "    }\n",
       "\n",
       "    .dataframe thead th {\n",
       "        text-align: right;\n",
       "    }\n",
       "</style>\n",
       "<table border=\"1\" class=\"dataframe\">\n",
       "  <thead>\n",
       "    <tr style=\"text-align: right;\">\n",
       "      <th></th>\n",
       "      <th>AgeGroup</th>\n",
       "      <th>DeathRate</th>\n",
       "      <th>death_log</th>\n",
       "      <th>outlier</th>\n",
       "      <th>CumDeathRate</th>\n",
       "      <th>MeanCentered</th>\n",
       "      <th>deathlogMeanCentered</th>\n",
       "      <th>DeathRateZScore</th>\n",
       "      <th>DeathRatePer100k</th>\n",
       "    </tr>\n",
       "    <tr>\n",
       "      <th>Year</th>\n",
       "      <th></th>\n",
       "      <th></th>\n",
       "      <th></th>\n",
       "      <th></th>\n",
       "      <th></th>\n",
       "      <th></th>\n",
       "      <th></th>\n",
       "      <th></th>\n",
       "      <th></th>\n",
       "    </tr>\n",
       "  </thead>\n",
       "  <tbody>\n",
       "    <tr>\n",
       "      <th>1903</th>\n",
       "      <td>1-4 Years</td>\n",
       "      <td>1542.1</td>\n",
       "      <td>3.188113</td>\n",
       "      <td>True</td>\n",
       "      <td>6876.6</td>\n",
       "      <td>1349.17584</td>\n",
       "      <td>1.214092</td>\n",
       "      <td>4.601175</td>\n",
       "      <td>0.015421</td>\n",
       "    </tr>\n",
       "    <tr>\n",
       "      <th>1906</th>\n",
       "      <td>1-4 Years</td>\n",
       "      <td>1580.0</td>\n",
       "      <td>3.198657</td>\n",
       "      <td>True</td>\n",
       "      <td>11547.0</td>\n",
       "      <td>1387.07584</td>\n",
       "      <td>1.224637</td>\n",
       "      <td>4.730427</td>\n",
       "      <td>0.015800</td>\n",
       "    </tr>\n",
       "    <tr>\n",
       "      <th>1909</th>\n",
       "      <td>1-4 Years</td>\n",
       "      <td>1348.9</td>\n",
       "      <td>3.129980</td>\n",
       "      <td>True</td>\n",
       "      <td>15761.0</td>\n",
       "      <td>1155.97584</td>\n",
       "      <td>1.155959</td>\n",
       "      <td>3.942293</td>\n",
       "      <td>0.013489</td>\n",
       "    </tr>\n",
       "    <tr>\n",
       "      <th>1912</th>\n",
       "      <td>1-4 Years</td>\n",
       "      <td>1094.1</td>\n",
       "      <td>3.039057</td>\n",
       "      <td>True</td>\n",
       "      <td>19428.4</td>\n",
       "      <td>901.17584</td>\n",
       "      <td>1.065037</td>\n",
       "      <td>3.073334</td>\n",
       "      <td>0.010941</td>\n",
       "    </tr>\n",
       "    <tr>\n",
       "      <th>1915</th>\n",
       "      <td>1-4 Years</td>\n",
       "      <td>924.2</td>\n",
       "      <td>2.965766</td>\n",
       "      <td>True</td>\n",
       "      <td>22570.2</td>\n",
       "      <td>731.27584</td>\n",
       "      <td>0.991746</td>\n",
       "      <td>2.493914</td>\n",
       "      <td>0.009242</td>\n",
       "    </tr>\n",
       "    <tr>\n",
       "      <th>1918</th>\n",
       "      <td>1-4 Years</td>\n",
       "      <td>1573.5</td>\n",
       "      <td>3.196867</td>\n",
       "      <td>True</td>\n",
       "      <td>26321.2</td>\n",
       "      <td>1380.57584</td>\n",
       "      <td>1.222846</td>\n",
       "      <td>4.708260</td>\n",
       "      <td>0.015735</td>\n",
       "    </tr>\n",
       "    <tr>\n",
       "      <th>1921</th>\n",
       "      <td>1-4 Years</td>\n",
       "      <td>801.2</td>\n",
       "      <td>2.903741</td>\n",
       "      <td>True</td>\n",
       "      <td>29037.6</td>\n",
       "      <td>608.27584</td>\n",
       "      <td>0.929721</td>\n",
       "      <td>2.074439</td>\n",
       "      <td>0.008012</td>\n",
       "    </tr>\n",
       "    <tr>\n",
       "      <th>1924</th>\n",
       "      <td>1-4 Years</td>\n",
       "      <td>683.2</td>\n",
       "      <td>2.834548</td>\n",
       "      <td>False</td>\n",
       "      <td>31269.5</td>\n",
       "      <td>490.27584</td>\n",
       "      <td>0.860527</td>\n",
       "      <td>1.672017</td>\n",
       "      <td>0.006832</td>\n",
       "    </tr>\n",
       "    <tr>\n",
       "      <th>1927</th>\n",
       "      <td>1-4 Years</td>\n",
       "      <td>591.0</td>\n",
       "      <td>2.771587</td>\n",
       "      <td>False</td>\n",
       "      <td>33224.9</td>\n",
       "      <td>398.07584</td>\n",
       "      <td>0.797567</td>\n",
       "      <td>1.357582</td>\n",
       "      <td>0.005910</td>\n",
       "    </tr>\n",
       "  </tbody>\n",
       "</table>\n",
       "</div>"
      ],
      "text/plain": [
       "       AgeGroup  DeathRate  death_log  outlier  CumDeathRate  MeanCentered  \\\n",
       "Year                                                                         \n",
       "1903  1-4 Years     1542.1   3.188113     True        6876.6    1349.17584   \n",
       "1906  1-4 Years     1580.0   3.198657     True       11547.0    1387.07584   \n",
       "1909  1-4 Years     1348.9   3.129980     True       15761.0    1155.97584   \n",
       "1912  1-4 Years     1094.1   3.039057     True       19428.4     901.17584   \n",
       "1915  1-4 Years      924.2   2.965766     True       22570.2     731.27584   \n",
       "1918  1-4 Years     1573.5   3.196867     True       26321.2    1380.57584   \n",
       "1921  1-4 Years      801.2   2.903741     True       29037.6     608.27584   \n",
       "1924  1-4 Years      683.2   2.834548    False       31269.5     490.27584   \n",
       "1927  1-4 Years      591.0   2.771587    False       33224.9     398.07584   \n",
       "\n",
       "      deathlogMeanCentered  DeathRateZScore  DeathRatePer100k  \n",
       "Year                                                           \n",
       "1903              1.214092         4.601175          0.015421  \n",
       "1906              1.224637         4.730427          0.015800  \n",
       "1909              1.155959         3.942293          0.013489  \n",
       "1912              1.065037         3.073334          0.010941  \n",
       "1915              0.991746         2.493914          0.009242  \n",
       "1918              1.222846         4.708260          0.015735  \n",
       "1921              0.929721         2.074439          0.008012  \n",
       "1924              0.860527         1.672017          0.006832  \n",
       "1927              0.797567         1.357582          0.005910  "
      ]
     },
     "execution_count": 129,
     "metadata": {},
     "output_type": "execute_result"
    }
   ],
   "source": [
    "mortality_data[3:30:3]"
   ]
  },
  {
   "cell_type": "markdown",
   "metadata": {},
   "source": [
    "## Shape the data"
   ]
  },
  {
   "cell_type": "markdown",
   "metadata": {},
   "source": [
    "### Set and use an index"
   ]
  },
  {
   "cell_type": "code",
   "execution_count": 128,
   "metadata": {},
   "outputs": [
    {
     "data": {
      "text/html": [
       "<div>\n",
       "<style scoped>\n",
       "    .dataframe tbody tr th:only-of-type {\n",
       "        vertical-align: middle;\n",
       "    }\n",
       "\n",
       "    .dataframe tbody tr th {\n",
       "        vertical-align: top;\n",
       "    }\n",
       "\n",
       "    .dataframe thead th {\n",
       "        text-align: right;\n",
       "    }\n",
       "</style>\n",
       "<table border=\"1\" class=\"dataframe\">\n",
       "  <thead>\n",
       "    <tr style=\"text-align: right;\">\n",
       "      <th></th>\n",
       "      <th>AgeGroup</th>\n",
       "      <th>DeathRate</th>\n",
       "      <th>death_log</th>\n",
       "      <th>outlier</th>\n",
       "      <th>CumDeathRate</th>\n",
       "      <th>MeanCentered</th>\n",
       "      <th>deathlogMeanCentered</th>\n",
       "      <th>DeathRateZScore</th>\n",
       "      <th>DeathRatePer100k</th>\n",
       "    </tr>\n",
       "    <tr>\n",
       "      <th>Year</th>\n",
       "      <th></th>\n",
       "      <th></th>\n",
       "      <th></th>\n",
       "      <th></th>\n",
       "      <th></th>\n",
       "      <th></th>\n",
       "      <th></th>\n",
       "      <th></th>\n",
       "      <th></th>\n",
       "    </tr>\n",
       "  </thead>\n",
       "  <tbody>\n",
       "    <tr>\n",
       "      <th>1900</th>\n",
       "      <td>1-4 Years</td>\n",
       "      <td>1983.8</td>\n",
       "      <td>3.297498</td>\n",
       "      <td>True</td>\n",
       "      <td>1983.8</td>\n",
       "      <td>1790.87584</td>\n",
       "      <td>1.323478</td>\n",
       "      <td>6.107530</td>\n",
       "      <td>0.019838</td>\n",
       "    </tr>\n",
       "    <tr>\n",
       "      <th>1901</th>\n",
       "      <td>1-4 Years</td>\n",
       "      <td>1695.0</td>\n",
       "      <td>3.229170</td>\n",
       "      <td>True</td>\n",
       "      <td>3678.8</td>\n",
       "      <td>1502.07584</td>\n",
       "      <td>1.255149</td>\n",
       "      <td>5.122619</td>\n",
       "      <td>0.016950</td>\n",
       "    </tr>\n",
       "  </tbody>\n",
       "</table>\n",
       "</div>"
      ],
      "text/plain": [
       "       AgeGroup  DeathRate  death_log  outlier  CumDeathRate  MeanCentered  \\\n",
       "Year                                                                         \n",
       "1900  1-4 Years     1983.8   3.297498     True        1983.8    1790.87584   \n",
       "1901  1-4 Years     1695.0   3.229170     True        3678.8    1502.07584   \n",
       "\n",
       "      deathlogMeanCentered  DeathRateZScore  DeathRatePer100k  \n",
       "Year                                                           \n",
       "1900              1.323478         6.107530          0.019838  \n",
       "1901              1.255149         5.122619          0.016950  "
      ]
     },
     "execution_count": 128,
     "metadata": {},
     "output_type": "execute_result"
    }
   ],
   "source": [
    "mortality_data = mortality_data.set_index('Year')\n",
    "mortality_data.head(2)"
   ]
  },
  {
   "cell_type": "code",
   "execution_count": null,
   "metadata": {},
   "outputs": [],
   "source": [
    "len(mortality_data)"
   ]
  },
  {
   "cell_type": "code",
   "execution_count": 130,
   "metadata": {},
   "outputs": [
    {
     "data": {
      "text/html": [
       "<div>\n",
       "<style scoped>\n",
       "    .dataframe tbody tr th:only-of-type {\n",
       "        vertical-align: middle;\n",
       "    }\n",
       "\n",
       "    .dataframe tbody tr th {\n",
       "        vertical-align: top;\n",
       "    }\n",
       "\n",
       "    .dataframe thead th {\n",
       "        text-align: right;\n",
       "    }\n",
       "</style>\n",
       "<table border=\"1\" class=\"dataframe\">\n",
       "  <thead>\n",
       "    <tr style=\"text-align: right;\">\n",
       "      <th></th>\n",
       "      <th>Year</th>\n",
       "      <th>AgeGroup</th>\n",
       "      <th>DeathRate</th>\n",
       "      <th>death_log</th>\n",
       "      <th>outlier</th>\n",
       "      <th>CumDeathRate</th>\n",
       "      <th>MeanCentered</th>\n",
       "      <th>deathlogMeanCentered</th>\n",
       "      <th>DeathRateZScore</th>\n",
       "      <th>DeathRatePer100k</th>\n",
       "    </tr>\n",
       "  </thead>\n",
       "  <tbody>\n",
       "    <tr>\n",
       "      <th>0</th>\n",
       "      <td>1900</td>\n",
       "      <td>1-4 Years</td>\n",
       "      <td>1983.8</td>\n",
       "      <td>3.297498</td>\n",
       "      <td>True</td>\n",
       "      <td>1983.8</td>\n",
       "      <td>1790.87584</td>\n",
       "      <td>1.323478</td>\n",
       "      <td>6.107530</td>\n",
       "      <td>0.019838</td>\n",
       "    </tr>\n",
       "    <tr>\n",
       "      <th>1</th>\n",
       "      <td>1901</td>\n",
       "      <td>1-4 Years</td>\n",
       "      <td>1695.0</td>\n",
       "      <td>3.229170</td>\n",
       "      <td>True</td>\n",
       "      <td>3678.8</td>\n",
       "      <td>1502.07584</td>\n",
       "      <td>1.255149</td>\n",
       "      <td>5.122619</td>\n",
       "      <td>0.016950</td>\n",
       "    </tr>\n",
       "    <tr>\n",
       "      <th>2</th>\n",
       "      <td>1902</td>\n",
       "      <td>1-4 Years</td>\n",
       "      <td>1655.7</td>\n",
       "      <td>3.218982</td>\n",
       "      <td>True</td>\n",
       "      <td>5334.5</td>\n",
       "      <td>1462.77584</td>\n",
       "      <td>1.244961</td>\n",
       "      <td>4.988592</td>\n",
       "      <td>0.016557</td>\n",
       "    </tr>\n",
       "    <tr>\n",
       "      <th>3</th>\n",
       "      <td>1903</td>\n",
       "      <td>1-4 Years</td>\n",
       "      <td>1542.1</td>\n",
       "      <td>3.188113</td>\n",
       "      <td>True</td>\n",
       "      <td>6876.6</td>\n",
       "      <td>1349.17584</td>\n",
       "      <td>1.214092</td>\n",
       "      <td>4.601175</td>\n",
       "      <td>0.015421</td>\n",
       "    </tr>\n",
       "    <tr>\n",
       "      <th>4</th>\n",
       "      <td>1904</td>\n",
       "      <td>1-4 Years</td>\n",
       "      <td>1591.5</td>\n",
       "      <td>3.201807</td>\n",
       "      <td>True</td>\n",
       "      <td>8468.1</td>\n",
       "      <td>1398.57584</td>\n",
       "      <td>1.227786</td>\n",
       "      <td>4.769646</td>\n",
       "      <td>0.015915</td>\n",
       "    </tr>\n",
       "    <tr>\n",
       "      <th>...</th>\n",
       "      <td>...</td>\n",
       "      <td>...</td>\n",
       "      <td>...</td>\n",
       "      <td>...</td>\n",
       "      <td>...</td>\n",
       "      <td>...</td>\n",
       "      <td>...</td>\n",
       "      <td>...</td>\n",
       "      <td>...</td>\n",
       "      <td>...</td>\n",
       "    </tr>\n",
       "    <tr>\n",
       "      <th>471</th>\n",
       "      <td>2014</td>\n",
       "      <td>15-19 Years</td>\n",
       "      <td>45.5</td>\n",
       "      <td>1.658011</td>\n",
       "      <td>False</td>\n",
       "      <td>91631.7</td>\n",
       "      <td>-147.42416</td>\n",
       "      <td>-0.316009</td>\n",
       "      <td>-0.502769</td>\n",
       "      <td>0.000455</td>\n",
       "    </tr>\n",
       "    <tr>\n",
       "      <th>472</th>\n",
       "      <td>2015</td>\n",
       "      <td>15-19 Years</td>\n",
       "      <td>48.3</td>\n",
       "      <td>1.683947</td>\n",
       "      <td>False</td>\n",
       "      <td>91680.0</td>\n",
       "      <td>-144.62416</td>\n",
       "      <td>-0.290073</td>\n",
       "      <td>-0.493220</td>\n",
       "      <td>0.000483</td>\n",
       "    </tr>\n",
       "    <tr>\n",
       "      <th>473</th>\n",
       "      <td>2016</td>\n",
       "      <td>15-19 Years</td>\n",
       "      <td>51.2</td>\n",
       "      <td>1.709270</td>\n",
       "      <td>False</td>\n",
       "      <td>91731.2</td>\n",
       "      <td>-141.72416</td>\n",
       "      <td>-0.264750</td>\n",
       "      <td>-0.483330</td>\n",
       "      <td>0.000512</td>\n",
       "    </tr>\n",
       "    <tr>\n",
       "      <th>474</th>\n",
       "      <td>2017</td>\n",
       "      <td>15-19 Years</td>\n",
       "      <td>51.5</td>\n",
       "      <td>1.711807</td>\n",
       "      <td>False</td>\n",
       "      <td>91782.7</td>\n",
       "      <td>-141.42416</td>\n",
       "      <td>-0.262213</td>\n",
       "      <td>-0.482307</td>\n",
       "      <td>0.000515</td>\n",
       "    </tr>\n",
       "    <tr>\n",
       "      <th>475</th>\n",
       "      <td>2018</td>\n",
       "      <td>15-19 Years</td>\n",
       "      <td>49.2</td>\n",
       "      <td>1.691965</td>\n",
       "      <td>False</td>\n",
       "      <td>91831.9</td>\n",
       "      <td>-143.72416</td>\n",
       "      <td>-0.282055</td>\n",
       "      <td>-0.490151</td>\n",
       "      <td>0.000492</td>\n",
       "    </tr>\n",
       "  </tbody>\n",
       "</table>\n",
       "<p>476 rows × 10 columns</p>\n",
       "</div>"
      ],
      "text/plain": [
       "     Year     AgeGroup  DeathRate  death_log  outlier  CumDeathRate  \\\n",
       "0    1900    1-4 Years     1983.8   3.297498     True        1983.8   \n",
       "1    1901    1-4 Years     1695.0   3.229170     True        3678.8   \n",
       "2    1902    1-4 Years     1655.7   3.218982     True        5334.5   \n",
       "3    1903    1-4 Years     1542.1   3.188113     True        6876.6   \n",
       "4    1904    1-4 Years     1591.5   3.201807     True        8468.1   \n",
       "..    ...          ...        ...        ...      ...           ...   \n",
       "471  2014  15-19 Years       45.5   1.658011    False       91631.7   \n",
       "472  2015  15-19 Years       48.3   1.683947    False       91680.0   \n",
       "473  2016  15-19 Years       51.2   1.709270    False       91731.2   \n",
       "474  2017  15-19 Years       51.5   1.711807    False       91782.7   \n",
       "475  2018  15-19 Years       49.2   1.691965    False       91831.9   \n",
       "\n",
       "     MeanCentered  deathlogMeanCentered  DeathRateZScore  DeathRatePer100k  \n",
       "0      1790.87584              1.323478         6.107530          0.019838  \n",
       "1      1502.07584              1.255149         5.122619          0.016950  \n",
       "2      1462.77584              1.244961         4.988592          0.016557  \n",
       "3      1349.17584              1.214092         4.601175          0.015421  \n",
       "4      1398.57584              1.227786         4.769646          0.015915  \n",
       "..            ...                   ...              ...               ...  \n",
       "471    -147.42416             -0.316009        -0.502769          0.000455  \n",
       "472    -144.62416             -0.290073        -0.493220          0.000483  \n",
       "473    -141.72416             -0.264750        -0.483330          0.000512  \n",
       "474    -141.42416             -0.262213        -0.482307          0.000515  \n",
       "475    -143.72416             -0.282055        -0.490151          0.000492  \n",
       "\n",
       "[476 rows x 10 columns]"
      ]
     },
     "execution_count": 130,
     "metadata": {},
     "output_type": "execute_result"
    }
   ],
   "source": [
    "mortality_data.reset_index(inplace=True)\n",
    "mortality_data"
   ]
  },
  {
   "cell_type": "code",
   "execution_count": 131,
   "metadata": {},
   "outputs": [
    {
     "data": {
      "text/plain": [
       "1900    4\n",
       "1975    4\n",
       "1987    4\n",
       "1986    4\n",
       "1985    4\n",
       "       ..\n",
       "1935    4\n",
       "1934    4\n",
       "1933    4\n",
       "1932    4\n",
       "2018    4\n",
       "Name: Year, Length: 119, dtype: int64"
      ]
     },
     "execution_count": 131,
     "metadata": {},
     "output_type": "execute_result"
    }
   ],
   "source": []
  },
  {
   "cell_type": "code",
   "execution_count": 132,
   "metadata": {},
   "outputs": [
    {
     "ename": "ValueError",
     "evalue": "Index has duplicate keys: Int64Index([1900, 1901, 1902, 1903, 1904, 1905, 1906, 1907, 1908, 1909,\n            ...\n            2009, 2010, 2011, 2012, 2013, 2014, 2015, 2016, 2017, 2018],\n           dtype='int64', name='Year', length=119)",
     "output_type": "error",
     "traceback": [
      "\u001b[1;31m---------------------------------------------------------------------------\u001b[0m",
      "\u001b[1;31mValueError\u001b[0m                                Traceback (most recent call last)",
      "\u001b[1;32mc:\\2023-02-DSI-WE\\instructor\\py\\EDA Python Lessons\\Pandas\\04 Advanced Pandas and Basic Plots.ipynb Cell 94\u001b[0m in \u001b[0;36m3\n\u001b[0;32m      <a href='vscode-notebook-cell:/c%3A/2023-02-DSI-WE/instructor/py/EDA%20Python%20Lessons/Pandas/04%20Advanced%20Pandas%20and%20Basic%20Plots.ipynb#Y124sZmlsZQ%3D%3D?line=0'>1</a>\u001b[0m \u001b[39m# NOTE: the following line of code causes ValueError: Index has duplicate keys\u001b[39;00m\n\u001b[0;32m      <a href='vscode-notebook-cell:/c%3A/2023-02-DSI-WE/instructor/py/EDA%20Python%20Lessons/Pandas/04%20Advanced%20Pandas%20and%20Basic%20Plots.ipynb#Y124sZmlsZQ%3D%3D?line=1'>2</a>\u001b[0m \u001b[39m#primary key = unique value for one row\u001b[39;00m\n\u001b[1;32m----> <a href='vscode-notebook-cell:/c%3A/2023-02-DSI-WE/instructor/py/EDA%20Python%20Lessons/Pandas/04%20Advanced%20Pandas%20and%20Basic%20Plots.ipynb#Y124sZmlsZQ%3D%3D?line=2'>3</a>\u001b[0m mortality_data \u001b[39m=\u001b[39m mortality_data\u001b[39m.\u001b[39;49mset_index(\u001b[39m'\u001b[39;49m\u001b[39mYear\u001b[39;49m\u001b[39m'\u001b[39;49m, verify_integrity\u001b[39m=\u001b[39;49m\u001b[39mTrue\u001b[39;49;00m)\n\u001b[0;32m      <a href='vscode-notebook-cell:/c%3A/2023-02-DSI-WE/instructor/py/EDA%20Python%20Lessons/Pandas/04%20Advanced%20Pandas%20and%20Basic%20Plots.ipynb#Y124sZmlsZQ%3D%3D?line=3'>4</a>\u001b[0m \u001b[39m#mortality_data\u001b[39;00m\n",
      "File \u001b[1;32mc:\\Users\\andre\\AppData\\Local\\Programs\\Python\\Python311\\Lib\\site-packages\\pandas\\util\\_decorators.py:331\u001b[0m, in \u001b[0;36mdeprecate_nonkeyword_arguments.<locals>.decorate.<locals>.wrapper\u001b[1;34m(*args, **kwargs)\u001b[0m\n\u001b[0;32m    325\u001b[0m \u001b[39mif\u001b[39;00m \u001b[39mlen\u001b[39m(args) \u001b[39m>\u001b[39m num_allow_args:\n\u001b[0;32m    326\u001b[0m     warnings\u001b[39m.\u001b[39mwarn(\n\u001b[0;32m    327\u001b[0m         msg\u001b[39m.\u001b[39mformat(arguments\u001b[39m=\u001b[39m_format_argument_list(allow_args)),\n\u001b[0;32m    328\u001b[0m         \u001b[39mFutureWarning\u001b[39;00m,\n\u001b[0;32m    329\u001b[0m         stacklevel\u001b[39m=\u001b[39mfind_stack_level(),\n\u001b[0;32m    330\u001b[0m     )\n\u001b[1;32m--> 331\u001b[0m \u001b[39mreturn\u001b[39;00m func(\u001b[39m*\u001b[39;49margs, \u001b[39m*\u001b[39;49m\u001b[39m*\u001b[39;49mkwargs)\n",
      "File \u001b[1;32mc:\\Users\\andre\\AppData\\Local\\Programs\\Python\\Python311\\Lib\\site-packages\\pandas\\core\\frame.py:6068\u001b[0m, in \u001b[0;36mDataFrame.set_index\u001b[1;34m(self, keys, drop, append, inplace, verify_integrity)\u001b[0m\n\u001b[0;32m   6066\u001b[0m \u001b[39mif\u001b[39;00m verify_integrity \u001b[39mand\u001b[39;00m \u001b[39mnot\u001b[39;00m index\u001b[39m.\u001b[39mis_unique:\n\u001b[0;32m   6067\u001b[0m     duplicates \u001b[39m=\u001b[39m index[index\u001b[39m.\u001b[39mduplicated()]\u001b[39m.\u001b[39munique()\n\u001b[1;32m-> 6068\u001b[0m     \u001b[39mraise\u001b[39;00m \u001b[39mValueError\u001b[39;00m(\u001b[39mf\u001b[39m\u001b[39m\"\u001b[39m\u001b[39mIndex has duplicate keys: \u001b[39m\u001b[39m{\u001b[39;00mduplicates\u001b[39m}\u001b[39;00m\u001b[39m\"\u001b[39m)\n\u001b[0;32m   6070\u001b[0m \u001b[39m# use set to handle duplicate column names gracefully in case of drop\u001b[39;00m\n\u001b[0;32m   6071\u001b[0m \u001b[39mfor\u001b[39;00m c \u001b[39min\u001b[39;00m \u001b[39mset\u001b[39m(to_remove):\n",
      "\u001b[1;31mValueError\u001b[0m: Index has duplicate keys: Int64Index([1900, 1901, 1902, 1903, 1904, 1905, 1906, 1907, 1908, 1909,\n            ...\n            2009, 2010, 2011, 2012, 2013, 2014, 2015, 2016, 2017, 2018],\n           dtype='int64', name='Year', length=119)"
     ]
    }
   ],
   "source": [
    "# NOTE: the following line of code causes ValueError: Index has duplicate keys\n",
    "#primary key = unique value for one row\n",
    "mortality_data = mortality_data.set_index('Year', verify_integrity=True)\n",
    "#mortality_data"
   ]
  },
  {
   "cell_type": "code",
   "execution_count": 141,
   "metadata": {},
   "outputs": [
    {
     "data": {
      "text/html": [
       "<div>\n",
       "<style scoped>\n",
       "    .dataframe tbody tr th:only-of-type {\n",
       "        vertical-align: middle;\n",
       "    }\n",
       "\n",
       "    .dataframe tbody tr th {\n",
       "        vertical-align: top;\n",
       "    }\n",
       "\n",
       "    .dataframe thead th {\n",
       "        text-align: right;\n",
       "    }\n",
       "</style>\n",
       "<table border=\"1\" class=\"dataframe\">\n",
       "  <thead>\n",
       "    <tr style=\"text-align: right;\">\n",
       "      <th></th>\n",
       "      <th>Year</th>\n",
       "      <th>AgeGroup</th>\n",
       "      <th>DeathRate</th>\n",
       "      <th>death_log</th>\n",
       "      <th>outlier</th>\n",
       "      <th>MeanCentered</th>\n",
       "      <th>deathlogMeanCentered</th>\n",
       "      <th>DeathRatePer100k</th>\n",
       "    </tr>\n",
       "  </thead>\n",
       "  <tbody>\n",
       "    <tr>\n",
       "      <th>0</th>\n",
       "      <td>1900</td>\n",
       "      <td>1-4 Years</td>\n",
       "      <td>1983.8</td>\n",
       "      <td>3.297498</td>\n",
       "      <td>True</td>\n",
       "      <td>1790.87584</td>\n",
       "      <td>1.323478</td>\n",
       "      <td>0.019838</td>\n",
       "    </tr>\n",
       "    <tr>\n",
       "      <th>1</th>\n",
       "      <td>1901</td>\n",
       "      <td>1-4 Years</td>\n",
       "      <td>1695.0</td>\n",
       "      <td>3.229170</td>\n",
       "      <td>True</td>\n",
       "      <td>1502.07584</td>\n",
       "      <td>1.255149</td>\n",
       "      <td>0.016950</td>\n",
       "    </tr>\n",
       "    <tr>\n",
       "      <th>2</th>\n",
       "      <td>1902</td>\n",
       "      <td>1-4 Years</td>\n",
       "      <td>1655.7</td>\n",
       "      <td>3.218982</td>\n",
       "      <td>True</td>\n",
       "      <td>1462.77584</td>\n",
       "      <td>1.244961</td>\n",
       "      <td>0.016557</td>\n",
       "    </tr>\n",
       "    <tr>\n",
       "      <th>3</th>\n",
       "      <td>1903</td>\n",
       "      <td>1-4 Years</td>\n",
       "      <td>1542.1</td>\n",
       "      <td>3.188113</td>\n",
       "      <td>True</td>\n",
       "      <td>1349.17584</td>\n",
       "      <td>1.214092</td>\n",
       "      <td>0.015421</td>\n",
       "    </tr>\n",
       "    <tr>\n",
       "      <th>4</th>\n",
       "      <td>1904</td>\n",
       "      <td>1-4 Years</td>\n",
       "      <td>1591.5</td>\n",
       "      <td>3.201807</td>\n",
       "      <td>True</td>\n",
       "      <td>1398.57584</td>\n",
       "      <td>1.227786</td>\n",
       "      <td>0.015915</td>\n",
       "    </tr>\n",
       "    <tr>\n",
       "      <th>...</th>\n",
       "      <td>...</td>\n",
       "      <td>...</td>\n",
       "      <td>...</td>\n",
       "      <td>...</td>\n",
       "      <td>...</td>\n",
       "      <td>...</td>\n",
       "      <td>...</td>\n",
       "      <td>...</td>\n",
       "    </tr>\n",
       "    <tr>\n",
       "      <th>471</th>\n",
       "      <td>2014</td>\n",
       "      <td>15-19 Years</td>\n",
       "      <td>45.5</td>\n",
       "      <td>1.658011</td>\n",
       "      <td>False</td>\n",
       "      <td>-147.42416</td>\n",
       "      <td>-0.316009</td>\n",
       "      <td>0.000455</td>\n",
       "    </tr>\n",
       "    <tr>\n",
       "      <th>472</th>\n",
       "      <td>2015</td>\n",
       "      <td>15-19 Years</td>\n",
       "      <td>48.3</td>\n",
       "      <td>1.683947</td>\n",
       "      <td>False</td>\n",
       "      <td>-144.62416</td>\n",
       "      <td>-0.290073</td>\n",
       "      <td>0.000483</td>\n",
       "    </tr>\n",
       "    <tr>\n",
       "      <th>473</th>\n",
       "      <td>2016</td>\n",
       "      <td>15-19 Years</td>\n",
       "      <td>51.2</td>\n",
       "      <td>1.709270</td>\n",
       "      <td>False</td>\n",
       "      <td>-141.72416</td>\n",
       "      <td>-0.264750</td>\n",
       "      <td>0.000512</td>\n",
       "    </tr>\n",
       "    <tr>\n",
       "      <th>474</th>\n",
       "      <td>2017</td>\n",
       "      <td>15-19 Years</td>\n",
       "      <td>51.5</td>\n",
       "      <td>1.711807</td>\n",
       "      <td>False</td>\n",
       "      <td>-141.42416</td>\n",
       "      <td>-0.262213</td>\n",
       "      <td>0.000515</td>\n",
       "    </tr>\n",
       "    <tr>\n",
       "      <th>475</th>\n",
       "      <td>2018</td>\n",
       "      <td>15-19 Years</td>\n",
       "      <td>49.2</td>\n",
       "      <td>1.691965</td>\n",
       "      <td>False</td>\n",
       "      <td>-143.72416</td>\n",
       "      <td>-0.282055</td>\n",
       "      <td>0.000492</td>\n",
       "    </tr>\n",
       "  </tbody>\n",
       "</table>\n",
       "<p>476 rows × 8 columns</p>\n",
       "</div>"
      ],
      "text/plain": [
       "     Year     AgeGroup  DeathRate  death_log  outlier  MeanCentered  \\\n",
       "0    1900    1-4 Years     1983.8   3.297498     True    1790.87584   \n",
       "1    1901    1-4 Years     1695.0   3.229170     True    1502.07584   \n",
       "2    1902    1-4 Years     1655.7   3.218982     True    1462.77584   \n",
       "3    1903    1-4 Years     1542.1   3.188113     True    1349.17584   \n",
       "4    1904    1-4 Years     1591.5   3.201807     True    1398.57584   \n",
       "..    ...          ...        ...        ...      ...           ...   \n",
       "471  2014  15-19 Years       45.5   1.658011    False    -147.42416   \n",
       "472  2015  15-19 Years       48.3   1.683947    False    -144.62416   \n",
       "473  2016  15-19 Years       51.2   1.709270    False    -141.72416   \n",
       "474  2017  15-19 Years       51.5   1.711807    False    -141.42416   \n",
       "475  2018  15-19 Years       49.2   1.691965    False    -143.72416   \n",
       "\n",
       "     deathlogMeanCentered  DeathRatePer100k  \n",
       "0                1.323478          0.019838  \n",
       "1                1.255149          0.016950  \n",
       "2                1.244961          0.016557  \n",
       "3                1.214092          0.015421  \n",
       "4                1.227786          0.015915  \n",
       "..                    ...               ...  \n",
       "471             -0.316009          0.000455  \n",
       "472             -0.290073          0.000483  \n",
       "473             -0.264750          0.000512  \n",
       "474             -0.262213          0.000515  \n",
       "475             -0.282055          0.000492  \n",
       "\n",
       "[476 rows x 8 columns]"
      ]
     },
     "execution_count": 141,
     "metadata": {},
     "output_type": "execute_result"
    }
   ],
   "source": [
    "mortality_data_drop = mortality_data.drop(columns=[\"CumDeathRate\",\"DeathRateZScore\"])\n",
    "# mortality_data.drop(columns=[\"CumDeathRate\",\"DeathRateZScore\"],inplace= True)\n",
    "mortality_data_drop"
   ]
  },
  {
   "cell_type": "code",
   "execution_count": 133,
   "metadata": {},
   "outputs": [
    {
     "data": {
      "text/html": [
       "<div>\n",
       "<style scoped>\n",
       "    .dataframe tbody tr th:only-of-type {\n",
       "        vertical-align: middle;\n",
       "    }\n",
       "\n",
       "    .dataframe tbody tr th {\n",
       "        vertical-align: top;\n",
       "    }\n",
       "\n",
       "    .dataframe thead th {\n",
       "        text-align: right;\n",
       "    }\n",
       "</style>\n",
       "<table border=\"1\" class=\"dataframe\">\n",
       "  <thead>\n",
       "    <tr style=\"text-align: right;\">\n",
       "      <th></th>\n",
       "      <th></th>\n",
       "      <th>DeathRate</th>\n",
       "      <th>death_log</th>\n",
       "      <th>outlier</th>\n",
       "      <th>CumDeathRate</th>\n",
       "      <th>MeanCentered</th>\n",
       "      <th>deathlogMeanCentered</th>\n",
       "      <th>DeathRateZScore</th>\n",
       "      <th>DeathRatePer100k</th>\n",
       "    </tr>\n",
       "    <tr>\n",
       "      <th>Year</th>\n",
       "      <th>AgeGroup</th>\n",
       "      <th></th>\n",
       "      <th></th>\n",
       "      <th></th>\n",
       "      <th></th>\n",
       "      <th></th>\n",
       "      <th></th>\n",
       "      <th></th>\n",
       "      <th></th>\n",
       "    </tr>\n",
       "  </thead>\n",
       "  <tbody>\n",
       "    <tr>\n",
       "      <th>1900</th>\n",
       "      <th>1-4 Years</th>\n",
       "      <td>1983.8</td>\n",
       "      <td>3.297498</td>\n",
       "      <td>True</td>\n",
       "      <td>1983.8</td>\n",
       "      <td>1790.87584</td>\n",
       "      <td>1.323478</td>\n",
       "      <td>6.107530</td>\n",
       "      <td>0.019838</td>\n",
       "    </tr>\n",
       "    <tr>\n",
       "      <th>1901</th>\n",
       "      <th>1-4 Years</th>\n",
       "      <td>1695.0</td>\n",
       "      <td>3.229170</td>\n",
       "      <td>True</td>\n",
       "      <td>3678.8</td>\n",
       "      <td>1502.07584</td>\n",
       "      <td>1.255149</td>\n",
       "      <td>5.122619</td>\n",
       "      <td>0.016950</td>\n",
       "    </tr>\n",
       "  </tbody>\n",
       "</table>\n",
       "</div>"
      ],
      "text/plain": [
       "                DeathRate  death_log  outlier  CumDeathRate  MeanCentered  \\\n",
       "Year AgeGroup                                                               \n",
       "1900 1-4 Years     1983.8   3.297498     True        1983.8    1790.87584   \n",
       "1901 1-4 Years     1695.0   3.229170     True        3678.8    1502.07584   \n",
       "\n",
       "                deathlogMeanCentered  DeathRateZScore  DeathRatePer100k  \n",
       "Year AgeGroup                                                            \n",
       "1900 1-4 Years              1.323478         6.107530          0.019838  \n",
       "1901 1-4 Years              1.255149         5.122619          0.016950  "
      ]
     },
     "execution_count": 133,
     "metadata": {},
     "output_type": "execute_result"
    }
   ],
   "source": [
    "mortality_data = mortality_data.set_index(\n",
    "    ['Year','AgeGroup'], verify_integrity=True)\n",
    "mortality_data.head(2)"
   ]
  },
  {
   "cell_type": "code",
   "execution_count": 134,
   "metadata": {
    "scrolled": true
   },
   "outputs": [
    {
     "data": {
      "text/html": [
       "<div>\n",
       "<style scoped>\n",
       "    .dataframe tbody tr th:only-of-type {\n",
       "        vertical-align: middle;\n",
       "    }\n",
       "\n",
       "    .dataframe tbody tr th {\n",
       "        vertical-align: top;\n",
       "    }\n",
       "\n",
       "    .dataframe thead th {\n",
       "        text-align: right;\n",
       "    }\n",
       "</style>\n",
       "<table border=\"1\" class=\"dataframe\">\n",
       "  <thead>\n",
       "    <tr style=\"text-align: right;\">\n",
       "      <th></th>\n",
       "      <th>Year</th>\n",
       "      <th>AgeGroup</th>\n",
       "      <th>DeathRate</th>\n",
       "      <th>death_log</th>\n",
       "      <th>outlier</th>\n",
       "      <th>CumDeathRate</th>\n",
       "      <th>MeanCentered</th>\n",
       "      <th>deathlogMeanCentered</th>\n",
       "      <th>DeathRateZScore</th>\n",
       "      <th>DeathRatePer100k</th>\n",
       "    </tr>\n",
       "  </thead>\n",
       "  <tbody>\n",
       "    <tr>\n",
       "      <th>0</th>\n",
       "      <td>1900</td>\n",
       "      <td>1-4 Years</td>\n",
       "      <td>1983.8</td>\n",
       "      <td>3.297498</td>\n",
       "      <td>True</td>\n",
       "      <td>1983.8</td>\n",
       "      <td>1790.87584</td>\n",
       "      <td>1.323478</td>\n",
       "      <td>6.107530</td>\n",
       "      <td>0.019838</td>\n",
       "    </tr>\n",
       "    <tr>\n",
       "      <th>1</th>\n",
       "      <td>1901</td>\n",
       "      <td>1-4 Years</td>\n",
       "      <td>1695.0</td>\n",
       "      <td>3.229170</td>\n",
       "      <td>True</td>\n",
       "      <td>3678.8</td>\n",
       "      <td>1502.07584</td>\n",
       "      <td>1.255149</td>\n",
       "      <td>5.122619</td>\n",
       "      <td>0.016950</td>\n",
       "    </tr>\n",
       "  </tbody>\n",
       "</table>\n",
       "</div>"
      ],
      "text/plain": [
       "   Year   AgeGroup  DeathRate  death_log  outlier  CumDeathRate  MeanCentered  \\\n",
       "0  1900  1-4 Years     1983.8   3.297498     True        1983.8    1790.87584   \n",
       "1  1901  1-4 Years     1695.0   3.229170     True        3678.8    1502.07584   \n",
       "\n",
       "   deathlogMeanCentered  DeathRateZScore  DeathRatePer100k  \n",
       "0              1.323478         6.107530          0.019838  \n",
       "1              1.255149         5.122619          0.016950  "
      ]
     },
     "execution_count": 134,
     "metadata": {},
     "output_type": "execute_result"
    }
   ],
   "source": [
    "mortality_data.reset_index(inplace=True)\n",
    "mortality_data.head(2)"
   ]
  },
  {
   "cell_type": "code",
   "execution_count": 135,
   "metadata": {},
   "outputs": [
    {
     "data": {
      "text/plain": [
       "(476, 10)"
      ]
     },
     "execution_count": 135,
     "metadata": {},
     "output_type": "execute_result"
    }
   ],
   "source": [
    "mortality_data.shape"
   ]
  },
  {
   "cell_type": "markdown",
   "metadata": {},
   "source": [
    "### Pivot the data"
   ]
  },
  {
   "cell_type": "code",
   "execution_count": 138,
   "metadata": {},
   "outputs": [
    {
     "data": {
      "text/html": [
       "<div>\n",
       "<style scoped>\n",
       "    .dataframe tbody tr th:only-of-type {\n",
       "        vertical-align: middle;\n",
       "    }\n",
       "\n",
       "    .dataframe tbody tr th {\n",
       "        vertical-align: top;\n",
       "    }\n",
       "\n",
       "    .dataframe thead tr th {\n",
       "        text-align: left;\n",
       "    }\n",
       "\n",
       "    .dataframe thead tr:last-of-type th {\n",
       "        text-align: right;\n",
       "    }\n",
       "</style>\n",
       "<table border=\"1\" class=\"dataframe\">\n",
       "  <thead>\n",
       "    <tr>\n",
       "      <th></th>\n",
       "      <th colspan=\"4\" halign=\"left\">DeathRate</th>\n",
       "      <th colspan=\"4\" halign=\"left\">death_log</th>\n",
       "      <th colspan=\"2\" halign=\"left\">outlier</th>\n",
       "      <th>...</th>\n",
       "      <th colspan=\"2\" halign=\"left\">deathlogMeanCentered</th>\n",
       "      <th colspan=\"4\" halign=\"left\">DeathRateZScore</th>\n",
       "      <th colspan=\"4\" halign=\"left\">DeathRatePer100k</th>\n",
       "    </tr>\n",
       "    <tr>\n",
       "      <th>AgeGroup</th>\n",
       "      <th>1-4 Years</th>\n",
       "      <th>10-14 Years</th>\n",
       "      <th>15-19 Years</th>\n",
       "      <th>5-9 Years</th>\n",
       "      <th>1-4 Years</th>\n",
       "      <th>10-14 Years</th>\n",
       "      <th>15-19 Years</th>\n",
       "      <th>5-9 Years</th>\n",
       "      <th>1-4 Years</th>\n",
       "      <th>10-14 Years</th>\n",
       "      <th>...</th>\n",
       "      <th>15-19 Years</th>\n",
       "      <th>5-9 Years</th>\n",
       "      <th>1-4 Years</th>\n",
       "      <th>10-14 Years</th>\n",
       "      <th>15-19 Years</th>\n",
       "      <th>5-9 Years</th>\n",
       "      <th>1-4 Years</th>\n",
       "      <th>10-14 Years</th>\n",
       "      <th>15-19 Years</th>\n",
       "      <th>5-9 Years</th>\n",
       "    </tr>\n",
       "    <tr>\n",
       "      <th>Year</th>\n",
       "      <th></th>\n",
       "      <th></th>\n",
       "      <th></th>\n",
       "      <th></th>\n",
       "      <th></th>\n",
       "      <th></th>\n",
       "      <th></th>\n",
       "      <th></th>\n",
       "      <th></th>\n",
       "      <th></th>\n",
       "      <th></th>\n",
       "      <th></th>\n",
       "      <th></th>\n",
       "      <th></th>\n",
       "      <th></th>\n",
       "      <th></th>\n",
       "      <th></th>\n",
       "      <th></th>\n",
       "      <th></th>\n",
       "      <th></th>\n",
       "      <th></th>\n",
       "    </tr>\n",
       "  </thead>\n",
       "  <tbody>\n",
       "    <tr>\n",
       "      <th>1900</th>\n",
       "      <td>1983.8</td>\n",
       "      <td>298.3</td>\n",
       "      <td>484.8</td>\n",
       "      <td>466.1</td>\n",
       "      <td>3.297498</td>\n",
       "      <td>2.474653</td>\n",
       "      <td>2.685563</td>\n",
       "      <td>2.668479</td>\n",
       "      <td>True</td>\n",
       "      <td>False</td>\n",
       "      <td>...</td>\n",
       "      <td>0.711542</td>\n",
       "      <td>0.694459</td>\n",
       "      <td>6.107530</td>\n",
       "      <td>0.359370</td>\n",
       "      <td>0.995402</td>\n",
       "      <td>0.931628</td>\n",
       "      <td>0.019838</td>\n",
       "      <td>0.002983</td>\n",
       "      <td>0.004848</td>\n",
       "      <td>0.004661</td>\n",
       "    </tr>\n",
       "    <tr>\n",
       "      <th>1901</th>\n",
       "      <td>1695.0</td>\n",
       "      <td>273.6</td>\n",
       "      <td>454.4</td>\n",
       "      <td>427.6</td>\n",
       "      <td>3.229170</td>\n",
       "      <td>2.437116</td>\n",
       "      <td>2.657438</td>\n",
       "      <td>2.631038</td>\n",
       "      <td>True</td>\n",
       "      <td>False</td>\n",
       "      <td>...</td>\n",
       "      <td>0.683418</td>\n",
       "      <td>0.657017</td>\n",
       "      <td>5.122619</td>\n",
       "      <td>0.275134</td>\n",
       "      <td>0.891727</td>\n",
       "      <td>0.800329</td>\n",
       "      <td>0.016950</td>\n",
       "      <td>0.002736</td>\n",
       "      <td>0.004544</td>\n",
       "      <td>0.004276</td>\n",
       "    </tr>\n",
       "    <tr>\n",
       "      <th>1902</th>\n",
       "      <td>1655.7</td>\n",
       "      <td>252.5</td>\n",
       "      <td>421.5</td>\n",
       "      <td>403.3</td>\n",
       "      <td>3.218982</td>\n",
       "      <td>2.402261</td>\n",
       "      <td>2.624798</td>\n",
       "      <td>2.605628</td>\n",
       "      <td>True</td>\n",
       "      <td>False</td>\n",
       "      <td>...</td>\n",
       "      <td>0.650777</td>\n",
       "      <td>0.631608</td>\n",
       "      <td>4.988592</td>\n",
       "      <td>0.203175</td>\n",
       "      <td>0.779526</td>\n",
       "      <td>0.717457</td>\n",
       "      <td>0.016557</td>\n",
       "      <td>0.002525</td>\n",
       "      <td>0.004215</td>\n",
       "      <td>0.004033</td>\n",
       "    </tr>\n",
       "  </tbody>\n",
       "</table>\n",
       "<p>3 rows × 32 columns</p>\n",
       "</div>"
      ],
      "text/plain": [
       "         DeathRate                                   death_log              \\\n",
       "AgeGroup 1-4 Years 10-14 Years 15-19 Years 5-9 Years 1-4 Years 10-14 Years   \n",
       "Year                                                                         \n",
       "1900        1983.8       298.3       484.8     466.1  3.297498    2.474653   \n",
       "1901        1695.0       273.6       454.4     427.6  3.229170    2.437116   \n",
       "1902        1655.7       252.5       421.5     403.3  3.218982    2.402261   \n",
       "\n",
       "                                 outlier              ...  \\\n",
       "AgeGroup 15-19 Years 5-9 Years 1-4 Years 10-14 Years  ...   \n",
       "Year                                                  ...   \n",
       "1900        2.685563  2.668479      True       False  ...   \n",
       "1901        2.657438  2.631038      True       False  ...   \n",
       "1902        2.624798  2.605628      True       False  ...   \n",
       "\n",
       "         deathlogMeanCentered           DeathRateZScore              \\\n",
       "AgeGroup          15-19 Years 5-9 Years       1-4 Years 10-14 Years   \n",
       "Year                                                                  \n",
       "1900                 0.711542  0.694459        6.107530    0.359370   \n",
       "1901                 0.683418  0.657017        5.122619    0.275134   \n",
       "1902                 0.650777  0.631608        4.988592    0.203175   \n",
       "\n",
       "                               DeathRatePer100k                          \\\n",
       "AgeGroup 15-19 Years 5-9 Years        1-4 Years 10-14 Years 15-19 Years   \n",
       "Year                                                                      \n",
       "1900        0.995402  0.931628         0.019838    0.002983    0.004848   \n",
       "1901        0.891727  0.800329         0.016950    0.002736    0.004544   \n",
       "1902        0.779526  0.717457         0.016557    0.002525    0.004215   \n",
       "\n",
       "                    \n",
       "AgeGroup 5-9 Years  \n",
       "Year                \n",
       "1900      0.004661  \n",
       "1901      0.004276  \n",
       "1902      0.004033  \n",
       "\n",
       "[3 rows x 32 columns]"
      ]
     },
     "execution_count": 138,
     "metadata": {},
     "output_type": "execute_result"
    }
   ],
   "source": [
    "mortality_wide = mortality_data.pivot(\n",
    "    index='Year', columns='AgeGroup')\n",
    "mortality_wide.head(3)"
   ]
  },
  {
   "cell_type": "code",
   "execution_count": 139,
   "metadata": {},
   "outputs": [
    {
     "data": {
      "text/plain": [
       "(119, 32)"
      ]
     },
     "execution_count": 139,
     "metadata": {},
     "output_type": "execute_result"
    }
   ],
   "source": [
    "mortality_wide.shape"
   ]
  },
  {
   "cell_type": "code",
   "execution_count": 140,
   "metadata": {},
   "outputs": [
    {
     "data": {
      "text/plain": [
       "3808"
      ]
     },
     "execution_count": 140,
     "metadata": {},
     "output_type": "execute_result"
    }
   ],
   "source": [
    "119*32"
   ]
  },
  {
   "cell_type": "code",
   "execution_count": 142,
   "metadata": {},
   "outputs": [
    {
     "data": {
      "text/html": [
       "<div>\n",
       "<style scoped>\n",
       "    .dataframe tbody tr th:only-of-type {\n",
       "        vertical-align: middle;\n",
       "    }\n",
       "\n",
       "    .dataframe tbody tr th {\n",
       "        vertical-align: top;\n",
       "    }\n",
       "\n",
       "    .dataframe thead th {\n",
       "        text-align: right;\n",
       "    }\n",
       "</style>\n",
       "<table border=\"1\" class=\"dataframe\">\n",
       "  <thead>\n",
       "    <tr style=\"text-align: right;\">\n",
       "      <th></th>\n",
       "      <th>AgeGroup</th>\n",
       "      <th>1-4 Years</th>\n",
       "      <th>10-14 Years</th>\n",
       "      <th>15-19 Years</th>\n",
       "      <th>5-9 Years</th>\n",
       "    </tr>\n",
       "    <tr>\n",
       "      <th>Year</th>\n",
       "      <th>MeanCentered</th>\n",
       "      <th></th>\n",
       "      <th></th>\n",
       "      <th></th>\n",
       "      <th></th>\n",
       "    </tr>\n",
       "  </thead>\n",
       "  <tbody>\n",
       "    <tr>\n",
       "      <th rowspan=\"3\" valign=\"top\">1900</th>\n",
       "      <th>105.37584</th>\n",
       "      <td>NaN</td>\n",
       "      <td>298.3</td>\n",
       "      <td>NaN</td>\n",
       "      <td>NaN</td>\n",
       "    </tr>\n",
       "    <tr>\n",
       "      <th>273.17584</th>\n",
       "      <td>NaN</td>\n",
       "      <td>NaN</td>\n",
       "      <td>NaN</td>\n",
       "      <td>466.1</td>\n",
       "    </tr>\n",
       "    <tr>\n",
       "      <th>291.87584</th>\n",
       "      <td>NaN</td>\n",
       "      <td>NaN</td>\n",
       "      <td>484.8</td>\n",
       "      <td>NaN</td>\n",
       "    </tr>\n",
       "  </tbody>\n",
       "</table>\n",
       "</div>"
      ],
      "text/plain": [
       "AgeGroup           1-4 Years  10-14 Years  15-19 Years  5-9 Years\n",
       "Year MeanCentered                                                \n",
       "1900 105.37584           NaN        298.3          NaN        NaN\n",
       "     273.17584           NaN          NaN          NaN      466.1\n",
       "     291.87584           NaN          NaN        484.8        NaN"
      ]
     },
     "execution_count": 142,
     "metadata": {},
     "output_type": "execute_result"
    }
   ],
   "source": [
    "# piviot increases number of columns\n",
    "mortality_wide = mortality_data.pivot(\n",
    "    index=['Year','MeanCentered'], columns='AgeGroup', values='DeathRate')\n",
    "mortality_wide.head(3)    "
   ]
  },
  {
   "cell_type": "code",
   "execution_count": 143,
   "metadata": {
    "tags": []
   },
   "outputs": [
    {
     "data": {
      "text/html": [
       "<div>\n",
       "<style scoped>\n",
       "    .dataframe tbody tr th:only-of-type {\n",
       "        vertical-align: middle;\n",
       "    }\n",
       "\n",
       "    .dataframe tbody tr th {\n",
       "        vertical-align: top;\n",
       "    }\n",
       "\n",
       "    .dataframe thead tr th {\n",
       "        text-align: left;\n",
       "    }\n",
       "\n",
       "    .dataframe thead tr:last-of-type th {\n",
       "        text-align: right;\n",
       "    }\n",
       "</style>\n",
       "<table border=\"1\" class=\"dataframe\">\n",
       "  <thead>\n",
       "    <tr>\n",
       "      <th></th>\n",
       "      <th colspan=\"4\" halign=\"left\">DeathRate</th>\n",
       "      <th colspan=\"4\" halign=\"left\">death_log</th>\n",
       "      <th colspan=\"2\" halign=\"left\">outlier</th>\n",
       "      <th>...</th>\n",
       "      <th colspan=\"2\" halign=\"left\">deathlogMeanCentered</th>\n",
       "      <th colspan=\"4\" halign=\"left\">DeathRateZScore</th>\n",
       "      <th colspan=\"4\" halign=\"left\">DeathRatePer100k</th>\n",
       "    </tr>\n",
       "    <tr>\n",
       "      <th>AgeGroup</th>\n",
       "      <th>1-4 Years</th>\n",
       "      <th>10-14 Years</th>\n",
       "      <th>15-19 Years</th>\n",
       "      <th>5-9 Years</th>\n",
       "      <th>1-4 Years</th>\n",
       "      <th>10-14 Years</th>\n",
       "      <th>15-19 Years</th>\n",
       "      <th>5-9 Years</th>\n",
       "      <th>1-4 Years</th>\n",
       "      <th>10-14 Years</th>\n",
       "      <th>...</th>\n",
       "      <th>15-19 Years</th>\n",
       "      <th>5-9 Years</th>\n",
       "      <th>1-4 Years</th>\n",
       "      <th>10-14 Years</th>\n",
       "      <th>15-19 Years</th>\n",
       "      <th>5-9 Years</th>\n",
       "      <th>1-4 Years</th>\n",
       "      <th>10-14 Years</th>\n",
       "      <th>15-19 Years</th>\n",
       "      <th>5-9 Years</th>\n",
       "    </tr>\n",
       "    <tr>\n",
       "      <th>Year</th>\n",
       "      <th></th>\n",
       "      <th></th>\n",
       "      <th></th>\n",
       "      <th></th>\n",
       "      <th></th>\n",
       "      <th></th>\n",
       "      <th></th>\n",
       "      <th></th>\n",
       "      <th></th>\n",
       "      <th></th>\n",
       "      <th></th>\n",
       "      <th></th>\n",
       "      <th></th>\n",
       "      <th></th>\n",
       "      <th></th>\n",
       "      <th></th>\n",
       "      <th></th>\n",
       "      <th></th>\n",
       "      <th></th>\n",
       "      <th></th>\n",
       "      <th></th>\n",
       "    </tr>\n",
       "  </thead>\n",
       "  <tbody>\n",
       "    <tr>\n",
       "      <th>1900</th>\n",
       "      <td>1983.8</td>\n",
       "      <td>298.3</td>\n",
       "      <td>484.8</td>\n",
       "      <td>466.1</td>\n",
       "      <td>3.297498</td>\n",
       "      <td>2.474653</td>\n",
       "      <td>2.685563</td>\n",
       "      <td>2.668479</td>\n",
       "      <td>True</td>\n",
       "      <td>False</td>\n",
       "      <td>...</td>\n",
       "      <td>0.711542</td>\n",
       "      <td>0.694459</td>\n",
       "      <td>6.107530</td>\n",
       "      <td>0.359370</td>\n",
       "      <td>0.995402</td>\n",
       "      <td>0.931628</td>\n",
       "      <td>0.019838</td>\n",
       "      <td>0.002983</td>\n",
       "      <td>0.004848</td>\n",
       "      <td>0.004661</td>\n",
       "    </tr>\n",
       "    <tr>\n",
       "      <th>1901</th>\n",
       "      <td>1695.0</td>\n",
       "      <td>273.6</td>\n",
       "      <td>454.4</td>\n",
       "      <td>427.6</td>\n",
       "      <td>3.229170</td>\n",
       "      <td>2.437116</td>\n",
       "      <td>2.657438</td>\n",
       "      <td>2.631038</td>\n",
       "      <td>True</td>\n",
       "      <td>False</td>\n",
       "      <td>...</td>\n",
       "      <td>0.683418</td>\n",
       "      <td>0.657017</td>\n",
       "      <td>5.122619</td>\n",
       "      <td>0.275134</td>\n",
       "      <td>0.891727</td>\n",
       "      <td>0.800329</td>\n",
       "      <td>0.016950</td>\n",
       "      <td>0.002736</td>\n",
       "      <td>0.004544</td>\n",
       "      <td>0.004276</td>\n",
       "    </tr>\n",
       "    <tr>\n",
       "      <th>1902</th>\n",
       "      <td>1655.7</td>\n",
       "      <td>252.5</td>\n",
       "      <td>421.5</td>\n",
       "      <td>403.3</td>\n",
       "      <td>3.218982</td>\n",
       "      <td>2.402261</td>\n",
       "      <td>2.624798</td>\n",
       "      <td>2.605628</td>\n",
       "      <td>True</td>\n",
       "      <td>False</td>\n",
       "      <td>...</td>\n",
       "      <td>0.650777</td>\n",
       "      <td>0.631608</td>\n",
       "      <td>4.988592</td>\n",
       "      <td>0.203175</td>\n",
       "      <td>0.779526</td>\n",
       "      <td>0.717457</td>\n",
       "      <td>0.016557</td>\n",
       "      <td>0.002525</td>\n",
       "      <td>0.004215</td>\n",
       "      <td>0.004033</td>\n",
       "    </tr>\n",
       "  </tbody>\n",
       "</table>\n",
       "<p>3 rows × 32 columns</p>\n",
       "</div>"
      ],
      "text/plain": [
       "         DeathRate                                   death_log              \\\n",
       "AgeGroup 1-4 Years 10-14 Years 15-19 Years 5-9 Years 1-4 Years 10-14 Years   \n",
       "Year                                                                         \n",
       "1900        1983.8       298.3       484.8     466.1  3.297498    2.474653   \n",
       "1901        1695.0       273.6       454.4     427.6  3.229170    2.437116   \n",
       "1902        1655.7       252.5       421.5     403.3  3.218982    2.402261   \n",
       "\n",
       "                                 outlier              ...  \\\n",
       "AgeGroup 15-19 Years 5-9 Years 1-4 Years 10-14 Years  ...   \n",
       "Year                                                  ...   \n",
       "1900        2.685563  2.668479      True       False  ...   \n",
       "1901        2.657438  2.631038      True       False  ...   \n",
       "1902        2.624798  2.605628      True       False  ...   \n",
       "\n",
       "         deathlogMeanCentered           DeathRateZScore              \\\n",
       "AgeGroup          15-19 Years 5-9 Years       1-4 Years 10-14 Years   \n",
       "Year                                                                  \n",
       "1900                 0.711542  0.694459        6.107530    0.359370   \n",
       "1901                 0.683418  0.657017        5.122619    0.275134   \n",
       "1902                 0.650777  0.631608        4.988592    0.203175   \n",
       "\n",
       "                               DeathRatePer100k                          \\\n",
       "AgeGroup 15-19 Years 5-9 Years        1-4 Years 10-14 Years 15-19 Years   \n",
       "Year                                                                      \n",
       "1900        0.995402  0.931628         0.019838    0.002983    0.004848   \n",
       "1901        0.891727  0.800329         0.016950    0.002736    0.004544   \n",
       "1902        0.779526  0.717457         0.016557    0.002525    0.004215   \n",
       "\n",
       "                    \n",
       "AgeGroup 5-9 Years  \n",
       "Year                \n",
       "1900      0.004661  \n",
       "1901      0.004276  \n",
       "1902      0.004033  \n",
       "\n",
       "[3 rows x 32 columns]"
      ]
     },
     "execution_count": 143,
     "metadata": {},
     "output_type": "execute_result"
    }
   ],
   "source": [
    "mortality_wide = mortality_data.pivot(\n",
    "    index='Year', columns='AgeGroup')\n",
    "mortality_wide.head(3)"
   ]
  },
  {
   "cell_type": "code",
   "execution_count": 144,
   "metadata": {},
   "outputs": [],
   "source": [
    "mortality_wide.to_csv(\"mortality_wide.csv\")"
   ]
  },
  {
   "cell_type": "code",
   "execution_count": 145,
   "metadata": {},
   "outputs": [
    {
     "data": {
      "text/plain": [
       "(119, 32)"
      ]
     },
     "execution_count": 145,
     "metadata": {},
     "output_type": "execute_result"
    }
   ],
   "source": [
    "mortality_wide.shape"
   ]
  },
  {
   "cell_type": "markdown",
   "metadata": {},
   "source": [
    "### Melt the data"
   ]
  },
  {
   "cell_type": "code",
   "execution_count": 146,
   "metadata": {},
   "outputs": [
    {
     "data": {
      "text/html": [
       "<div>\n",
       "<style scoped>\n",
       "    .dataframe tbody tr th:only-of-type {\n",
       "        vertical-align: middle;\n",
       "    }\n",
       "\n",
       "    .dataframe tbody tr th {\n",
       "        vertical-align: top;\n",
       "    }\n",
       "\n",
       "    .dataframe thead th {\n",
       "        text-align: right;\n",
       "    }\n",
       "</style>\n",
       "<table border=\"1\" class=\"dataframe\">\n",
       "  <thead>\n",
       "    <tr style=\"text-align: right;\">\n",
       "      <th>AgeGroup</th>\n",
       "      <th>1-4 Years</th>\n",
       "      <th>10-14 Years</th>\n",
       "      <th>15-19 Years</th>\n",
       "      <th>5-9 Years</th>\n",
       "    </tr>\n",
       "    <tr>\n",
       "      <th>Year</th>\n",
       "      <th></th>\n",
       "      <th></th>\n",
       "      <th></th>\n",
       "      <th></th>\n",
       "    </tr>\n",
       "  </thead>\n",
       "  <tbody>\n",
       "    <tr>\n",
       "      <th>1900</th>\n",
       "      <td>1983.8</td>\n",
       "      <td>298.3</td>\n",
       "      <td>484.8</td>\n",
       "      <td>466.1</td>\n",
       "    </tr>\n",
       "    <tr>\n",
       "      <th>1901</th>\n",
       "      <td>1695.0</td>\n",
       "      <td>273.6</td>\n",
       "      <td>454.4</td>\n",
       "      <td>427.6</td>\n",
       "    </tr>\n",
       "    <tr>\n",
       "      <th>1902</th>\n",
       "      <td>1655.7</td>\n",
       "      <td>252.5</td>\n",
       "      <td>421.5</td>\n",
       "      <td>403.3</td>\n",
       "    </tr>\n",
       "  </tbody>\n",
       "</table>\n",
       "</div>"
      ],
      "text/plain": [
       "AgeGroup  1-4 Years  10-14 Years  15-19 Years  5-9 Years\n",
       "Year                                                    \n",
       "1900         1983.8        298.3        484.8      466.1\n",
       "1901         1695.0        273.6        454.4      427.6\n",
       "1902         1655.7        252.5        421.5      403.3"
      ]
     },
     "execution_count": 146,
     "metadata": {},
     "output_type": "execute_result"
    }
   ],
   "source": [
    "mortality_wide = mortality_data.pivot(\n",
    "    index='Year', columns='AgeGroup', values='DeathRate')\n",
    "mortality_wide.head(3)"
   ]
  },
  {
   "cell_type": "code",
   "execution_count": 147,
   "metadata": {},
   "outputs": [
    {
     "data": {
      "text/html": [
       "<div>\n",
       "<style scoped>\n",
       "    .dataframe tbody tr th:only-of-type {\n",
       "        vertical-align: middle;\n",
       "    }\n",
       "\n",
       "    .dataframe tbody tr th {\n",
       "        vertical-align: top;\n",
       "    }\n",
       "\n",
       "    .dataframe thead th {\n",
       "        text-align: right;\n",
       "    }\n",
       "</style>\n",
       "<table border=\"1\" class=\"dataframe\">\n",
       "  <thead>\n",
       "    <tr style=\"text-align: right;\">\n",
       "      <th></th>\n",
       "      <th>Year</th>\n",
       "      <th>1-4 Years</th>\n",
       "      <th>10-14 Years</th>\n",
       "      <th>15-19 Years</th>\n",
       "      <th>5-9 Years</th>\n",
       "    </tr>\n",
       "  </thead>\n",
       "  <tbody>\n",
       "    <tr>\n",
       "      <th>0</th>\n",
       "      <td>1900</td>\n",
       "      <td>1983.8</td>\n",
       "      <td>298.3</td>\n",
       "      <td>484.8</td>\n",
       "      <td>466.1</td>\n",
       "    </tr>\n",
       "    <tr>\n",
       "      <th>1</th>\n",
       "      <td>1901</td>\n",
       "      <td>1695.0</td>\n",
       "      <td>273.6</td>\n",
       "      <td>454.4</td>\n",
       "      <td>427.6</td>\n",
       "    </tr>\n",
       "    <tr>\n",
       "      <th>2</th>\n",
       "      <td>1902</td>\n",
       "      <td>1655.7</td>\n",
       "      <td>252.5</td>\n",
       "      <td>421.5</td>\n",
       "      <td>403.3</td>\n",
       "    </tr>\n",
       "    <tr>\n",
       "      <th>3</th>\n",
       "      <td>1903</td>\n",
       "      <td>1542.1</td>\n",
       "      <td>268.2</td>\n",
       "      <td>434.1</td>\n",
       "      <td>414.7</td>\n",
       "    </tr>\n",
       "  </tbody>\n",
       "</table>\n",
       "</div>"
      ],
      "text/plain": [
       "   Year  1-4 Years  10-14 Years  15-19 Years  5-9 Years\n",
       "0  1900     1983.8        298.3        484.8      466.1\n",
       "1  1901     1695.0        273.6        454.4      427.6\n",
       "2  1902     1655.7        252.5        421.5      403.3\n",
       "3  1903     1542.1        268.2        434.1      414.7"
      ]
     },
     "execution_count": 147,
     "metadata": {},
     "output_type": "execute_result"
    }
   ],
   "source": [
    "# get starting data\n",
    "\n",
    "\n",
    "# save to Excel format to remove indexes\n",
    "mortality_wide.to_excel('mortality_wide.xlsx')\n",
    "mortality_wide = pd.read_excel('mortality_wide.xlsx')\n",
    "\n",
    "mortality_wide.head(4)"
   ]
  },
  {
   "cell_type": "code",
   "execution_count": 148,
   "metadata": {},
   "outputs": [
    {
     "data": {
      "text/html": [
       "<div>\n",
       "<style scoped>\n",
       "    .dataframe tbody tr th:only-of-type {\n",
       "        vertical-align: middle;\n",
       "    }\n",
       "\n",
       "    .dataframe tbody tr th {\n",
       "        vertical-align: top;\n",
       "    }\n",
       "\n",
       "    .dataframe thead th {\n",
       "        text-align: right;\n",
       "    }\n",
       "</style>\n",
       "<table border=\"1\" class=\"dataframe\">\n",
       "  <thead>\n",
       "    <tr style=\"text-align: right;\">\n",
       "      <th></th>\n",
       "      <th>Year</th>\n",
       "      <th>AgeGroup</th>\n",
       "      <th>DeathRate</th>\n",
       "    </tr>\n",
       "  </thead>\n",
       "  <tbody>\n",
       "    <tr>\n",
       "      <th>0</th>\n",
       "      <td>1900</td>\n",
       "      <td>1-4 Years</td>\n",
       "      <td>1983.8</td>\n",
       "    </tr>\n",
       "    <tr>\n",
       "      <th>1</th>\n",
       "      <td>1901</td>\n",
       "      <td>1-4 Years</td>\n",
       "      <td>1695.0</td>\n",
       "    </tr>\n",
       "    <tr>\n",
       "      <th>...</th>\n",
       "      <td>...</td>\n",
       "      <td>...</td>\n",
       "      <td>...</td>\n",
       "    </tr>\n",
       "    <tr>\n",
       "      <th>236</th>\n",
       "      <td>2017</td>\n",
       "      <td>5-9 Years</td>\n",
       "      <td>11.6</td>\n",
       "    </tr>\n",
       "    <tr>\n",
       "      <th>237</th>\n",
       "      <td>2018</td>\n",
       "      <td>5-9 Years</td>\n",
       "      <td>11.5</td>\n",
       "    </tr>\n",
       "  </tbody>\n",
       "</table>\n",
       "<p>238 rows × 3 columns</p>\n",
       "</div>"
      ],
      "text/plain": [
       "     Year   AgeGroup  DeathRate\n",
       "0    1900  1-4 Years     1983.8\n",
       "1    1901  1-4 Years     1695.0\n",
       "..    ...        ...        ...\n",
       "236  2017  5-9 Years       11.6\n",
       "237  2018  5-9 Years       11.5\n",
       "\n",
       "[238 rows x 3 columns]"
      ]
     },
     "metadata": {},
     "output_type": "display_data"
    }
   ],
   "source": [
    "#unpivot ~= melt decreases number of columns\n",
    "mortality_long = mortality_wide.melt(\n",
    "    id_vars = 'Year',\n",
    "    value_vars=['1-4 Years','5-9 Years'],\n",
    "    var_name ='AgeGroup',\n",
    "    value_name='DeathRate')\n",
    "\n",
    "with pd.option_context('display.max_rows', 4):\n",
    "    display(mortality_long)"
   ]
  },
  {
   "cell_type": "code",
   "execution_count": 150,
   "metadata": {},
   "outputs": [
    {
     "data": {
      "text/plain": [
       "1-4 Years    119\n",
       "5-9 Years    119\n",
       "Name: AgeGroup, dtype: int64"
      ]
     },
     "execution_count": 150,
     "metadata": {},
     "output_type": "execute_result"
    }
   ],
   "source": [
    "mortality_long.AgeGroup.value_counts()"
   ]
  },
  {
   "cell_type": "markdown",
   "metadata": {},
   "source": [
    "## Analyze the data"
   ]
  },
  {
   "cell_type": "markdown",
   "metadata": {},
   "source": [
    "### Group the data"
   ]
  },
  {
   "cell_type": "code",
   "execution_count": 151,
   "metadata": {},
   "outputs": [
    {
     "data": {
      "text/html": [
       "<div>\n",
       "<style scoped>\n",
       "    .dataframe tbody tr th:only-of-type {\n",
       "        vertical-align: middle;\n",
       "    }\n",
       "\n",
       "    .dataframe tbody tr th {\n",
       "        vertical-align: top;\n",
       "    }\n",
       "\n",
       "    .dataframe thead th {\n",
       "        text-align: right;\n",
       "    }\n",
       "</style>\n",
       "<table border=\"1\" class=\"dataframe\">\n",
       "  <thead>\n",
       "    <tr style=\"text-align: right;\">\n",
       "      <th></th>\n",
       "      <th>Year</th>\n",
       "      <th>DeathRate</th>\n",
       "      <th>death_log</th>\n",
       "      <th>outlier</th>\n",
       "      <th>CumDeathRate</th>\n",
       "      <th>MeanCentered</th>\n",
       "      <th>deathlogMeanCentered</th>\n",
       "      <th>DeathRateZScore</th>\n",
       "      <th>DeathRatePer100k</th>\n",
       "    </tr>\n",
       "    <tr>\n",
       "      <th>AgeGroup</th>\n",
       "      <th></th>\n",
       "      <th></th>\n",
       "      <th></th>\n",
       "      <th></th>\n",
       "      <th></th>\n",
       "      <th></th>\n",
       "      <th></th>\n",
       "      <th></th>\n",
       "      <th></th>\n",
       "    </tr>\n",
       "  </thead>\n",
       "  <tbody>\n",
       "    <tr>\n",
       "      <th>1-4 Years</th>\n",
       "      <td>1959.0</td>\n",
       "      <td>383.226050</td>\n",
       "      <td>2.193591</td>\n",
       "      <td>0.193277</td>\n",
       "      <td>37353.117647</td>\n",
       "      <td>190.301891</td>\n",
       "      <td>0.219570</td>\n",
       "      <td>0.648998</td>\n",
       "      <td>0.003832</td>\n",
       "    </tr>\n",
       "    <tr>\n",
       "      <th>10-14 Years</th>\n",
       "      <td>1959.0</td>\n",
       "      <td>93.769748</td>\n",
       "      <td>1.772540</td>\n",
       "      <td>0.000000</td>\n",
       "      <td>67911.569748</td>\n",
       "      <td>-99.154412</td>\n",
       "      <td>-0.201480</td>\n",
       "      <td>-0.338152</td>\n",
       "      <td>0.000938</td>\n",
       "    </tr>\n",
       "    <tr>\n",
       "      <th>15-19 Years</th>\n",
       "      <td>1959.0</td>\n",
       "      <td>177.374790</td>\n",
       "      <td>2.134860</td>\n",
       "      <td>0.000000</td>\n",
       "      <td>85460.104202</td>\n",
       "      <td>-15.549370</td>\n",
       "      <td>0.160839</td>\n",
       "      <td>-0.053029</td>\n",
       "      <td>0.001774</td>\n",
       "    </tr>\n",
       "    <tr>\n",
       "      <th>5-9 Years</th>\n",
       "      <td>1959.0</td>\n",
       "      <td>117.326050</td>\n",
       "      <td>1.795091</td>\n",
       "      <td>0.000000</td>\n",
       "      <td>56497.440336</td>\n",
       "      <td>-75.598109</td>\n",
       "      <td>-0.178929</td>\n",
       "      <td>-0.257817</td>\n",
       "      <td>0.001173</td>\n",
       "    </tr>\n",
       "  </tbody>\n",
       "</table>\n",
       "</div>"
      ],
      "text/plain": [
       "               Year   DeathRate  death_log   outlier  CumDeathRate  \\\n",
       "AgeGroup                                                             \n",
       "1-4 Years    1959.0  383.226050   2.193591  0.193277  37353.117647   \n",
       "10-14 Years  1959.0   93.769748   1.772540  0.000000  67911.569748   \n",
       "15-19 Years  1959.0  177.374790   2.134860  0.000000  85460.104202   \n",
       "5-9 Years    1959.0  117.326050   1.795091  0.000000  56497.440336   \n",
       "\n",
       "             MeanCentered  deathlogMeanCentered  DeathRateZScore  \\\n",
       "AgeGroup                                                           \n",
       "1-4 Years      190.301891              0.219570         0.648998   \n",
       "10-14 Years    -99.154412             -0.201480        -0.338152   \n",
       "15-19 Years    -15.549370              0.160839        -0.053029   \n",
       "5-9 Years      -75.598109             -0.178929        -0.257817   \n",
       "\n",
       "             DeathRatePer100k  \n",
       "AgeGroup                       \n",
       "1-4 Years            0.003832  \n",
       "10-14 Years          0.000938  \n",
       "15-19 Years          0.001774  \n",
       "5-9 Years            0.001173  "
      ]
     },
     "execution_count": 151,
     "metadata": {},
     "output_type": "execute_result"
    }
   ],
   "source": [
    "mortality_data.groupby('AgeGroup').mean()"
   ]
  },
  {
   "cell_type": "code",
   "execution_count": 155,
   "metadata": {},
   "outputs": [
    {
     "data": {
      "text/plain": [
       "<AxesSubplot: xlabel='Year'>"
      ]
     },
     "execution_count": 155,
     "metadata": {},
     "output_type": "execute_result"
    },
    {
     "data": {
      "image/png": "[encoded data removed]",
      "text/plain": [
       "<Figure size 640x480 with 1 Axes>"
      ]
     },
     "metadata": {},
     "output_type": "display_data"
    }
   ],
   "source": [
    "mortality_data.query(\"AgeGroup == '1-4 Years'\").plot.line(x=\"Year\", y = \"DeathRate\")"
   ]
  },
  {
   "cell_type": "code",
   "execution_count": 156,
   "metadata": {},
   "outputs": [
    {
     "data": {
      "text/html": [
       "<div>\n",
       "<style scoped>\n",
       "    .dataframe tbody tr th:only-of-type {\n",
       "        vertical-align: middle;\n",
       "    }\n",
       "\n",
       "    .dataframe tbody tr th {\n",
       "        vertical-align: top;\n",
       "    }\n",
       "\n",
       "    .dataframe thead th {\n",
       "        text-align: right;\n",
       "    }\n",
       "</style>\n",
       "<table border=\"1\" class=\"dataframe\">\n",
       "  <thead>\n",
       "    <tr style=\"text-align: right;\">\n",
       "      <th></th>\n",
       "      <th>Year</th>\n",
       "      <th>DeathRate</th>\n",
       "      <th>death_log</th>\n",
       "      <th>outlier</th>\n",
       "      <th>CumDeathRate</th>\n",
       "      <th>MeanCentered</th>\n",
       "      <th>deathlogMeanCentered</th>\n",
       "      <th>DeathRateZScore</th>\n",
       "      <th>DeathRatePer100k</th>\n",
       "    </tr>\n",
       "    <tr>\n",
       "      <th>AgeGroup</th>\n",
       "      <th></th>\n",
       "      <th></th>\n",
       "      <th></th>\n",
       "      <th></th>\n",
       "      <th></th>\n",
       "      <th></th>\n",
       "      <th></th>\n",
       "      <th></th>\n",
       "      <th></th>\n",
       "    </tr>\n",
       "  </thead>\n",
       "  <tbody>\n",
       "    <tr>\n",
       "      <th>1-4 Years</th>\n",
       "      <td>1959.0</td>\n",
       "      <td>109.1</td>\n",
       "      <td>2.037825</td>\n",
       "      <td>0.0</td>\n",
       "      <td>42409.4</td>\n",
       "      <td>-83.82416</td>\n",
       "      <td>0.063804</td>\n",
       "      <td>-0.285871</td>\n",
       "      <td>0.001091</td>\n",
       "    </tr>\n",
       "    <tr>\n",
       "      <th>10-14 Years</th>\n",
       "      <td>1959.0</td>\n",
       "      <td>44.6</td>\n",
       "      <td>1.649335</td>\n",
       "      <td>0.0</td>\n",
       "      <td>69110.8</td>\n",
       "      <td>-148.32416</td>\n",
       "      <td>-0.324686</td>\n",
       "      <td>-0.505839</td>\n",
       "      <td>0.000446</td>\n",
       "    </tr>\n",
       "    <tr>\n",
       "      <th>15-19 Years</th>\n",
       "      <td>1959.0</td>\n",
       "      <td>106.9</td>\n",
       "      <td>2.028978</td>\n",
       "      <td>0.0</td>\n",
       "      <td>87096.4</td>\n",
       "      <td>-86.02416</td>\n",
       "      <td>0.054957</td>\n",
       "      <td>-0.293373</td>\n",
       "      <td>0.001069</td>\n",
       "    </tr>\n",
       "    <tr>\n",
       "      <th>5-9 Years</th>\n",
       "      <td>1959.0</td>\n",
       "      <td>48.4</td>\n",
       "      <td>1.684845</td>\n",
       "      <td>0.0</td>\n",
       "      <td>58040.5</td>\n",
       "      <td>-144.52416</td>\n",
       "      <td>-0.289175</td>\n",
       "      <td>-0.492879</td>\n",
       "      <td>0.000484</td>\n",
       "    </tr>\n",
       "  </tbody>\n",
       "</table>\n",
       "</div>"
      ],
      "text/plain": [
       "               Year  DeathRate  death_log  outlier  CumDeathRate  \\\n",
       "AgeGroup                                                           \n",
       "1-4 Years    1959.0      109.1   2.037825      0.0       42409.4   \n",
       "10-14 Years  1959.0       44.6   1.649335      0.0       69110.8   \n",
       "15-19 Years  1959.0      106.9   2.028978      0.0       87096.4   \n",
       "5-9 Years    1959.0       48.4   1.684845      0.0       58040.5   \n",
       "\n",
       "             MeanCentered  deathlogMeanCentered  DeathRateZScore  \\\n",
       "AgeGroup                                                           \n",
       "1-4 Years       -83.82416              0.063804        -0.285871   \n",
       "10-14 Years    -148.32416             -0.324686        -0.505839   \n",
       "15-19 Years     -86.02416              0.054957        -0.293373   \n",
       "5-9 Years      -144.52416             -0.289175        -0.492879   \n",
       "\n",
       "             DeathRatePer100k  \n",
       "AgeGroup                       \n",
       "1-4 Years            0.001091  \n",
       "10-14 Years          0.000446  \n",
       "15-19 Years          0.001069  \n",
       "5-9 Years            0.000484  "
      ]
     },
     "execution_count": 156,
     "metadata": {},
     "output_type": "execute_result"
    }
   ],
   "source": [
    "mortality_data.groupby('AgeGroup').median()"
   ]
  },
  {
   "cell_type": "code",
   "execution_count": 157,
   "metadata": {},
   "outputs": [
    {
     "name": "stderr",
     "output_type": "stream",
     "text": [
      "C:\\Users\\andre\\AppData\\Local\\Temp\\ipykernel_100724\\1184888789.py:1: FutureWarning: The default value of numeric_only in DataFrameGroupBy.median is deprecated. In a future version, numeric_only will default to False. Either specify numeric_only or select only columns which should be valid for the function.\n",
      "  mortality_data.groupby('Year').median().head(4)\n"
     ]
    },
    {
     "data": {
      "text/html": [
       "<div>\n",
       "<style scoped>\n",
       "    .dataframe tbody tr th:only-of-type {\n",
       "        vertical-align: middle;\n",
       "    }\n",
       "\n",
       "    .dataframe tbody tr th {\n",
       "        vertical-align: top;\n",
       "    }\n",
       "\n",
       "    .dataframe thead th {\n",
       "        text-align: right;\n",
       "    }\n",
       "</style>\n",
       "<table border=\"1\" class=\"dataframe\">\n",
       "  <thead>\n",
       "    <tr style=\"text-align: right;\">\n",
       "      <th></th>\n",
       "      <th>DeathRate</th>\n",
       "      <th>death_log</th>\n",
       "      <th>outlier</th>\n",
       "      <th>CumDeathRate</th>\n",
       "      <th>MeanCentered</th>\n",
       "      <th>deathlogMeanCentered</th>\n",
       "      <th>DeathRateZScore</th>\n",
       "      <th>DeathRatePer100k</th>\n",
       "    </tr>\n",
       "    <tr>\n",
       "      <th>Year</th>\n",
       "      <th></th>\n",
       "      <th></th>\n",
       "      <th></th>\n",
       "      <th></th>\n",
       "      <th></th>\n",
       "      <th></th>\n",
       "      <th></th>\n",
       "      <th></th>\n",
       "    </tr>\n",
       "  </thead>\n",
       "  <tbody>\n",
       "    <tr>\n",
       "      <th>1900</th>\n",
       "      <td>475.45</td>\n",
       "      <td>2.677021</td>\n",
       "      <td>0.0</td>\n",
       "      <td>52967.00</td>\n",
       "      <td>282.52584</td>\n",
       "      <td>0.703000</td>\n",
       "      <td>0.963515</td>\n",
       "      <td>0.004755</td>\n",
       "    </tr>\n",
       "    <tr>\n",
       "      <th>1901</th>\n",
       "      <td>441.00</td>\n",
       "      <td>2.644238</td>\n",
       "      <td>0.0</td>\n",
       "      <td>53317.60</td>\n",
       "      <td>248.07584</td>\n",
       "      <td>0.670218</td>\n",
       "      <td>0.846028</td>\n",
       "      <td>0.004410</td>\n",
       "    </tr>\n",
       "    <tr>\n",
       "      <th>1902</th>\n",
       "      <td>412.40</td>\n",
       "      <td>2.615213</td>\n",
       "      <td>0.0</td>\n",
       "      <td>53645.50</td>\n",
       "      <td>219.47584</td>\n",
       "      <td>0.641193</td>\n",
       "      <td>0.748492</td>\n",
       "      <td>0.004124</td>\n",
       "    </tr>\n",
       "    <tr>\n",
       "      <th>1903</th>\n",
       "      <td>424.40</td>\n",
       "      <td>2.627662</td>\n",
       "      <td>0.0</td>\n",
       "      <td>53986.95</td>\n",
       "      <td>231.47584</td>\n",
       "      <td>0.653642</td>\n",
       "      <td>0.789416</td>\n",
       "      <td>0.004244</td>\n",
       "    </tr>\n",
       "  </tbody>\n",
       "</table>\n",
       "</div>"
      ],
      "text/plain": [
       "      DeathRate  death_log  outlier  CumDeathRate  MeanCentered  \\\n",
       "Year                                                              \n",
       "1900     475.45   2.677021      0.0      52967.00     282.52584   \n",
       "1901     441.00   2.644238      0.0      53317.60     248.07584   \n",
       "1902     412.40   2.615213      0.0      53645.50     219.47584   \n",
       "1903     424.40   2.627662      0.0      53986.95     231.47584   \n",
       "\n",
       "      deathlogMeanCentered  DeathRateZScore  DeathRatePer100k  \n",
       "Year                                                           \n",
       "1900              0.703000         0.963515          0.004755  \n",
       "1901              0.670218         0.846028          0.004410  \n",
       "1902              0.641193         0.748492          0.004124  \n",
       "1903              0.653642         0.789416          0.004244  "
      ]
     },
     "execution_count": 157,
     "metadata": {},
     "output_type": "execute_result"
    }
   ],
   "source": [
    "mortality_data.groupby('Year').median().head(4)"
   ]
  },
  {
   "cell_type": "code",
   "execution_count": 158,
   "metadata": {},
   "outputs": [
    {
     "data": {
      "text/html": [
       "<div>\n",
       "<style scoped>\n",
       "    .dataframe tbody tr th:only-of-type {\n",
       "        vertical-align: middle;\n",
       "    }\n",
       "\n",
       "    .dataframe tbody tr th {\n",
       "        vertical-align: top;\n",
       "    }\n",
       "\n",
       "    .dataframe thead th {\n",
       "        text-align: right;\n",
       "    }\n",
       "</style>\n",
       "<table border=\"1\" class=\"dataframe\">\n",
       "  <thead>\n",
       "    <tr style=\"text-align: right;\">\n",
       "      <th></th>\n",
       "      <th></th>\n",
       "      <th>DeathRate</th>\n",
       "      <th>death_log</th>\n",
       "      <th>outlier</th>\n",
       "      <th>CumDeathRate</th>\n",
       "      <th>MeanCentered</th>\n",
       "      <th>deathlogMeanCentered</th>\n",
       "      <th>DeathRateZScore</th>\n",
       "      <th>DeathRatePer100k</th>\n",
       "    </tr>\n",
       "    <tr>\n",
       "      <th>Year</th>\n",
       "      <th>AgeGroup</th>\n",
       "      <th></th>\n",
       "      <th></th>\n",
       "      <th></th>\n",
       "      <th></th>\n",
       "      <th></th>\n",
       "      <th></th>\n",
       "      <th></th>\n",
       "      <th></th>\n",
       "    </tr>\n",
       "  </thead>\n",
       "  <tbody>\n",
       "    <tr>\n",
       "      <th rowspan=\"4\" valign=\"top\">1900</th>\n",
       "      <th>1-4 Years</th>\n",
       "      <td>1</td>\n",
       "      <td>1</td>\n",
       "      <td>1</td>\n",
       "      <td>1</td>\n",
       "      <td>1</td>\n",
       "      <td>1</td>\n",
       "      <td>1</td>\n",
       "      <td>1</td>\n",
       "    </tr>\n",
       "    <tr>\n",
       "      <th>10-14 Years</th>\n",
       "      <td>1</td>\n",
       "      <td>1</td>\n",
       "      <td>1</td>\n",
       "      <td>1</td>\n",
       "      <td>1</td>\n",
       "      <td>1</td>\n",
       "      <td>1</td>\n",
       "      <td>1</td>\n",
       "    </tr>\n",
       "    <tr>\n",
       "      <th>15-19 Years</th>\n",
       "      <td>1</td>\n",
       "      <td>1</td>\n",
       "      <td>1</td>\n",
       "      <td>1</td>\n",
       "      <td>1</td>\n",
       "      <td>1</td>\n",
       "      <td>1</td>\n",
       "      <td>1</td>\n",
       "    </tr>\n",
       "    <tr>\n",
       "      <th>5-9 Years</th>\n",
       "      <td>1</td>\n",
       "      <td>1</td>\n",
       "      <td>1</td>\n",
       "      <td>1</td>\n",
       "      <td>1</td>\n",
       "      <td>1</td>\n",
       "      <td>1</td>\n",
       "      <td>1</td>\n",
       "    </tr>\n",
       "    <tr>\n",
       "      <th>1901</th>\n",
       "      <th>1-4 Years</th>\n",
       "      <td>1</td>\n",
       "      <td>1</td>\n",
       "      <td>1</td>\n",
       "      <td>1</td>\n",
       "      <td>1</td>\n",
       "      <td>1</td>\n",
       "      <td>1</td>\n",
       "      <td>1</td>\n",
       "    </tr>\n",
       "  </tbody>\n",
       "</table>\n",
       "</div>"
      ],
      "text/plain": [
       "                  DeathRate  death_log  outlier  CumDeathRate  MeanCentered  \\\n",
       "Year AgeGroup                                                                 \n",
       "1900 1-4 Years            1          1        1             1             1   \n",
       "     10-14 Years          1          1        1             1             1   \n",
       "     15-19 Years          1          1        1             1             1   \n",
       "     5-9 Years            1          1        1             1             1   \n",
       "1901 1-4 Years            1          1        1             1             1   \n",
       "\n",
       "                  deathlogMeanCentered  DeathRateZScore  DeathRatePer100k  \n",
       "Year AgeGroup                                                              \n",
       "1900 1-4 Years                       1                1                 1  \n",
       "     10-14 Years                     1                1                 1  \n",
       "     15-19 Years                     1                1                 1  \n",
       "     5-9 Years                       1                1                 1  \n",
       "1901 1-4 Years                       1                1                 1  "
      ]
     },
     "execution_count": 158,
     "metadata": {},
     "output_type": "execute_result"
    }
   ],
   "source": [
    "mortality_data.groupby(['Year','AgeGroup']).count().head()"
   ]
  },
  {
   "cell_type": "markdown",
   "metadata": {},
   "source": [
    "### Aggregate the data"
   ]
  },
  {
   "cell_type": "code",
   "execution_count": 159,
   "metadata": {},
   "outputs": [
    {
     "data": {
      "text/html": [
       "<div>\n",
       "<style scoped>\n",
       "    .dataframe tbody tr th:only-of-type {\n",
       "        vertical-align: middle;\n",
       "    }\n",
       "\n",
       "    .dataframe tbody tr th {\n",
       "        vertical-align: top;\n",
       "    }\n",
       "\n",
       "    .dataframe thead tr th {\n",
       "        text-align: left;\n",
       "    }\n",
       "\n",
       "    .dataframe thead tr:last-of-type th {\n",
       "        text-align: right;\n",
       "    }\n",
       "</style>\n",
       "<table border=\"1\" class=\"dataframe\">\n",
       "  <thead>\n",
       "    <tr>\n",
       "      <th></th>\n",
       "      <th colspan=\"5\" halign=\"left\">DeathRate</th>\n",
       "    </tr>\n",
       "    <tr>\n",
       "      <th></th>\n",
       "      <th>mean</th>\n",
       "      <th>median</th>\n",
       "      <th>min</th>\n",
       "      <th>max</th>\n",
       "      <th>std</th>\n",
       "    </tr>\n",
       "    <tr>\n",
       "      <th>AgeGroup</th>\n",
       "      <th></th>\n",
       "      <th></th>\n",
       "      <th></th>\n",
       "      <th></th>\n",
       "      <th></th>\n",
       "    </tr>\n",
       "  </thead>\n",
       "  <tbody>\n",
       "    <tr>\n",
       "      <th>1-4 Years</th>\n",
       "      <td>383.226050</td>\n",
       "      <td>109.1</td>\n",
       "      <td>24.0</td>\n",
       "      <td>1983.8</td>\n",
       "      <td>500.454211</td>\n",
       "    </tr>\n",
       "    <tr>\n",
       "      <th>10-14 Years</th>\n",
       "      <td>93.769748</td>\n",
       "      <td>44.6</td>\n",
       "      <td>13.9</td>\n",
       "      <td>375.1</td>\n",
       "      <td>88.404363</td>\n",
       "    </tr>\n",
       "    <tr>\n",
       "      <th>15-19 Years</th>\n",
       "      <td>177.374790</td>\n",
       "      <td>106.9</td>\n",
       "      <td>44.8</td>\n",
       "      <td>777.4</td>\n",
       "      <td>138.362290</td>\n",
       "    </tr>\n",
       "    <tr>\n",
       "      <th>5-9 Years</th>\n",
       "      <td>117.326050</td>\n",
       "      <td>48.4</td>\n",
       "      <td>11.4</td>\n",
       "      <td>466.1</td>\n",
       "      <td>127.474958</td>\n",
       "    </tr>\n",
       "  </tbody>\n",
       "</table>\n",
       "</div>"
      ],
      "text/plain": [
       "              DeathRate                                 \n",
       "                   mean median   min     max         std\n",
       "AgeGroup                                                \n",
       "1-4 Years    383.226050  109.1  24.0  1983.8  500.454211\n",
       "10-14 Years   93.769748   44.6  13.9   375.1   88.404363\n",
       "15-19 Years  177.374790  106.9  44.8   777.4  138.362290\n",
       "5-9 Years    117.326050   48.4  11.4   466.1  127.474958"
      ]
     },
     "execution_count": 159,
     "metadata": {},
     "output_type": "execute_result"
    }
   ],
   "source": [
    "mortality_data[['AgeGroup','DeathRate']].groupby('AgeGroup').agg(['mean','median','min','max','std'])"
   ]
  },
  {
   "cell_type": "code",
   "execution_count": 164,
   "metadata": {},
   "outputs": [
    {
     "data": {
      "text/plain": [
       "pandas.core.groupby.generic.DataFrameGroupBy"
      ]
     },
     "execution_count": 164,
     "metadata": {},
     "output_type": "execute_result"
    }
   ],
   "source": [
    "mort_grouping = mortality_data[['AgeGroup','DeathRate']].groupby('AgeGroup')\n",
    "type(mort_grouping)"
   ]
  },
  {
   "cell_type": "code",
   "execution_count": 165,
   "metadata": {},
   "outputs": [
    {
     "data": {
      "text/plain": [
       "pandas.core.groupby.generic.DataFrameGroupBy"
      ]
     },
     "execution_count": 165,
     "metadata": {},
     "output_type": "execute_result"
    }
   ],
   "source": [
    "AgeGS = mortality_data.groupby(\"AgeGroup\")\n",
    "type(AgeGS)"
   ]
  },
  {
   "cell_type": "code",
   "execution_count": 170,
   "metadata": {},
   "outputs": [],
   "source": [
    "FilteredAgeGS = mortality_data.query(\"DeathRate > 200\").groupby(\"Year\")"
   ]
  },
  {
   "cell_type": "code",
   "execution_count": 176,
   "metadata": {},
   "outputs": [],
   "source": [
    "col_list = [\"DeathRate\",\"death_log\"]\n",
    "agg_list = ['mean','median','std','nunique']"
   ]
  },
  {
   "cell_type": "code",
   "execution_count": 177,
   "metadata": {},
   "outputs": [
    {
     "data": {
      "text/html": [
       "<div>\n",
       "<style scoped>\n",
       "    .dataframe tbody tr th:only-of-type {\n",
       "        vertical-align: middle;\n",
       "    }\n",
       "\n",
       "    .dataframe tbody tr th {\n",
       "        vertical-align: top;\n",
       "    }\n",
       "\n",
       "    .dataframe thead tr th {\n",
       "        text-align: left;\n",
       "    }\n",
       "\n",
       "    .dataframe thead tr:last-of-type th {\n",
       "        text-align: right;\n",
       "    }\n",
       "</style>\n",
       "<table border=\"1\" class=\"dataframe\">\n",
       "  <thead>\n",
       "    <tr>\n",
       "      <th></th>\n",
       "      <th colspan=\"4\" halign=\"left\">DeathRate</th>\n",
       "      <th colspan=\"4\" halign=\"left\">death_log</th>\n",
       "    </tr>\n",
       "    <tr>\n",
       "      <th></th>\n",
       "      <th>mean</th>\n",
       "      <th>median</th>\n",
       "      <th>std</th>\n",
       "      <th>nunique</th>\n",
       "      <th>mean</th>\n",
       "      <th>median</th>\n",
       "      <th>std</th>\n",
       "      <th>nunique</th>\n",
       "    </tr>\n",
       "    <tr>\n",
       "      <th>Year</th>\n",
       "      <th></th>\n",
       "      <th></th>\n",
       "      <th></th>\n",
       "      <th></th>\n",
       "      <th></th>\n",
       "      <th></th>\n",
       "      <th></th>\n",
       "      <th></th>\n",
       "    </tr>\n",
       "  </thead>\n",
       "  <tbody>\n",
       "    <tr>\n",
       "      <th>1900</th>\n",
       "      <td>808.250000</td>\n",
       "      <td>475.45</td>\n",
       "      <td>788.173697</td>\n",
       "      <td>4</td>\n",
       "      <td>2.781548</td>\n",
       "      <td>2.677021</td>\n",
       "      <td>0.357018</td>\n",
       "      <td>4</td>\n",
       "    </tr>\n",
       "    <tr>\n",
       "      <th>1901</th>\n",
       "      <td>712.650000</td>\n",
       "      <td>441.00</td>\n",
       "      <td>659.727972</td>\n",
       "      <td>4</td>\n",
       "      <td>2.738690</td>\n",
       "      <td>2.644238</td>\n",
       "      <td>0.341423</td>\n",
       "      <td>4</td>\n",
       "    </tr>\n",
       "    <tr>\n",
       "      <th>1902</th>\n",
       "      <td>683.250000</td>\n",
       "      <td>412.40</td>\n",
       "      <td>652.709642</td>\n",
       "      <td>4</td>\n",
       "      <td>2.712917</td>\n",
       "      <td>2.615213</td>\n",
       "      <td>0.352082</td>\n",
       "      <td>4</td>\n",
       "    </tr>\n",
       "    <tr>\n",
       "      <th>1903</th>\n",
       "      <td>664.775000</td>\n",
       "      <td>424.40</td>\n",
       "      <td>589.553319</td>\n",
       "      <td>4</td>\n",
       "      <td>2.717974</td>\n",
       "      <td>2.627662</td>\n",
       "      <td>0.327291</td>\n",
       "      <td>4</td>\n",
       "    </tr>\n",
       "    <tr>\n",
       "      <th>1904</th>\n",
       "      <td>698.275000</td>\n",
       "      <td>448.20</td>\n",
       "      <td>599.586065</td>\n",
       "      <td>4</td>\n",
       "      <td>2.747042</td>\n",
       "      <td>2.650889</td>\n",
       "      <td>0.313687</td>\n",
       "      <td>4</td>\n",
       "    </tr>\n",
       "    <tr>\n",
       "      <th>1905</th>\n",
       "      <td>653.575000</td>\n",
       "      <td>417.80</td>\n",
       "      <td>567.563890</td>\n",
       "      <td>4</td>\n",
       "      <td>2.715851</td>\n",
       "      <td>2.620393</td>\n",
       "      <td>0.317866</td>\n",
       "      <td>4</td>\n",
       "    </tr>\n",
       "    <tr>\n",
       "      <th>1906</th>\n",
       "      <td>668.700000</td>\n",
       "      <td>411.30</td>\n",
       "      <td>611.688341</td>\n",
       "      <td>4</td>\n",
       "      <td>2.714726</td>\n",
       "      <td>2.612679</td>\n",
       "      <td>0.334614</td>\n",
       "      <td>4</td>\n",
       "    </tr>\n",
       "    <tr>\n",
       "      <th>1907</th>\n",
       "      <td>634.350000</td>\n",
       "      <td>401.65</td>\n",
       "      <td>560.416360</td>\n",
       "      <td>4</td>\n",
       "      <td>2.698888</td>\n",
       "      <td>2.602091</td>\n",
       "      <td>0.324555</td>\n",
       "      <td>4</td>\n",
       "    </tr>\n",
       "    <tr>\n",
       "      <th>1908</th>\n",
       "      <td>599.150000</td>\n",
       "      <td>375.95</td>\n",
       "      <td>535.476327</td>\n",
       "      <td>4</td>\n",
       "      <td>2.672054</td>\n",
       "      <td>2.574402</td>\n",
       "      <td>0.327263</td>\n",
       "      <td>4</td>\n",
       "    </tr>\n",
       "    <tr>\n",
       "      <th>1909</th>\n",
       "      <td>568.300000</td>\n",
       "      <td>346.90</td>\n",
       "      <td>523.462479</td>\n",
       "      <td>4</td>\n",
       "      <td>2.643013</td>\n",
       "      <td>2.539700</td>\n",
       "      <td>0.335634</td>\n",
       "      <td>4</td>\n",
       "    </tr>\n",
       "    <tr>\n",
       "      <th>1910</th>\n",
       "      <td>588.375000</td>\n",
       "      <td>360.15</td>\n",
       "      <td>542.539617</td>\n",
       "      <td>4</td>\n",
       "      <td>2.657630</td>\n",
       "      <td>2.556252</td>\n",
       "      <td>0.336619</td>\n",
       "      <td>4</td>\n",
       "    </tr>\n",
       "    <tr>\n",
       "      <th>1911</th>\n",
       "      <td>518.550000</td>\n",
       "      <td>338.00</td>\n",
       "      <td>442.277601</td>\n",
       "      <td>4</td>\n",
       "      <td>2.617999</td>\n",
       "      <td>2.527421</td>\n",
       "      <td>0.314781</td>\n",
       "      <td>4</td>\n",
       "    </tr>\n",
       "    <tr>\n",
       "      <th>1912</th>\n",
       "      <td>482.750000</td>\n",
       "      <td>317.35</td>\n",
       "      <td>411.887319</td>\n",
       "      <td>4</td>\n",
       "      <td>2.586014</td>\n",
       "      <td>2.499609</td>\n",
       "      <td>0.317316</td>\n",
       "      <td>4</td>\n",
       "    </tr>\n",
       "    <tr>\n",
       "      <th>1913</th>\n",
       "      <td>521.550000</td>\n",
       "      <td>339.00</td>\n",
       "      <td>452.045119</td>\n",
       "      <td>4</td>\n",
       "      <td>2.616875</td>\n",
       "      <td>2.529341</td>\n",
       "      <td>0.321180</td>\n",
       "      <td>4</td>\n",
       "    </tr>\n",
       "    <tr>\n",
       "      <th>1914</th>\n",
       "      <td>465.875000</td>\n",
       "      <td>316.05</td>\n",
       "      <td>376.266850</td>\n",
       "      <td>4</td>\n",
       "      <td>2.580920</td>\n",
       "      <td>2.498452</td>\n",
       "      <td>0.300158</td>\n",
       "      <td>4</td>\n",
       "    </tr>\n",
       "    <tr>\n",
       "      <th>1915</th>\n",
       "      <td>505.233333</td>\n",
       "      <td>330.90</td>\n",
       "      <td>364.534393</td>\n",
       "      <td>3</td>\n",
       "      <td>2.633812</td>\n",
       "      <td>2.519697</td>\n",
       "      <td>0.292121</td>\n",
       "      <td>3</td>\n",
       "    </tr>\n",
       "    <tr>\n",
       "      <th>1916</th>\n",
       "      <td>488.700000</td>\n",
       "      <td>319.10</td>\n",
       "      <td>419.734400</td>\n",
       "      <td>4</td>\n",
       "      <td>2.589986</td>\n",
       "      <td>2.501035</td>\n",
       "      <td>0.319385</td>\n",
       "      <td>4</td>\n",
       "    </tr>\n",
       "    <tr>\n",
       "      <th>1917</th>\n",
       "      <td>488.975000</td>\n",
       "      <td>335.50</td>\n",
       "      <td>390.308249</td>\n",
       "      <td>4</td>\n",
       "      <td>2.602894</td>\n",
       "      <td>2.521786</td>\n",
       "      <td>0.299698</td>\n",
       "      <td>4</td>\n",
       "    </tr>\n",
       "    <tr>\n",
       "      <th>1918</th>\n",
       "      <td>793.475000</td>\n",
       "      <td>612.65</td>\n",
       "      <td>548.682400</td>\n",
       "      <td>4</td>\n",
       "      <td>2.828210</td>\n",
       "      <td>2.770913</td>\n",
       "      <td>0.280293</td>\n",
       "      <td>4</td>\n",
       "    </tr>\n",
       "    <tr>\n",
       "      <th>1919</th>\n",
       "      <td>475.725000</td>\n",
       "      <td>369.25</td>\n",
       "      <td>313.099615</td>\n",
       "      <td>4</td>\n",
       "      <td>2.615072</td>\n",
       "      <td>2.559545</td>\n",
       "      <td>0.259666</td>\n",
       "      <td>4</td>\n",
       "    </tr>\n",
       "    <tr>\n",
       "      <th>1920</th>\n",
       "      <td>478.800000</td>\n",
       "      <td>349.05</td>\n",
       "      <td>346.357975</td>\n",
       "      <td>4</td>\n",
       "      <td>2.607814</td>\n",
       "      <td>2.537657</td>\n",
       "      <td>0.276328</td>\n",
       "      <td>4</td>\n",
       "    </tr>\n",
       "    <tr>\n",
       "      <th>1921</th>\n",
       "      <td>404.750000</td>\n",
       "      <td>303.95</td>\n",
       "      <td>268.624527</td>\n",
       "      <td>4</td>\n",
       "      <td>2.547240</td>\n",
       "      <td>2.481604</td>\n",
       "      <td>0.250679</td>\n",
       "      <td>4</td>\n",
       "    </tr>\n",
       "    <tr>\n",
       "      <th>1922</th>\n",
       "      <td>433.733333</td>\n",
       "      <td>319.60</td>\n",
       "      <td>269.946760</td>\n",
       "      <td>3</td>\n",
       "      <td>2.584832</td>\n",
       "      <td>2.504607</td>\n",
       "      <td>0.255102</td>\n",
       "      <td>3</td>\n",
       "    </tr>\n",
       "    <tr>\n",
       "      <th>1923</th>\n",
       "      <td>457.500000</td>\n",
       "      <td>325.80</td>\n",
       "      <td>305.443759</td>\n",
       "      <td>3</td>\n",
       "      <td>2.599958</td>\n",
       "      <td>2.512951</td>\n",
       "      <td>0.273822</td>\n",
       "      <td>3</td>\n",
       "    </tr>\n",
       "    <tr>\n",
       "      <th>1924</th>\n",
       "      <td>406.133333</td>\n",
       "      <td>313.50</td>\n",
       "      <td>244.297489</td>\n",
       "      <td>3</td>\n",
       "      <td>2.558850</td>\n",
       "      <td>2.496238</td>\n",
       "      <td>0.250334</td>\n",
       "      <td>3</td>\n",
       "    </tr>\n",
       "    <tr>\n",
       "      <th>1925</th>\n",
       "      <td>388.833333</td>\n",
       "      <td>314.00</td>\n",
       "      <td>224.315812</td>\n",
       "      <td>3</td>\n",
       "      <td>2.543033</td>\n",
       "      <td>2.496930</td>\n",
       "      <td>0.244062</td>\n",
       "      <td>3</td>\n",
       "    </tr>\n",
       "    <tr>\n",
       "      <th>1926</th>\n",
       "      <td>414.900000</td>\n",
       "      <td>307.50</td>\n",
       "      <td>271.245479</td>\n",
       "      <td>3</td>\n",
       "      <td>2.559077</td>\n",
       "      <td>2.487845</td>\n",
       "      <td>0.271779</td>\n",
       "      <td>3</td>\n",
       "    </tr>\n",
       "    <tr>\n",
       "      <th>1927</th>\n",
       "      <td>362.933333</td>\n",
       "      <td>289.50</td>\n",
       "      <td>201.641175</td>\n",
       "      <td>3</td>\n",
       "      <td>2.517308</td>\n",
       "      <td>2.461649</td>\n",
       "      <td>0.231523</td>\n",
       "      <td>3</td>\n",
       "    </tr>\n",
       "    <tr>\n",
       "      <th>1928</th>\n",
       "      <td>389.466667</td>\n",
       "      <td>307.80</td>\n",
       "      <td>228.424875</td>\n",
       "      <td>3</td>\n",
       "      <td>2.542697</td>\n",
       "      <td>2.488269</td>\n",
       "      <td>0.245888</td>\n",
       "      <td>3</td>\n",
       "    </tr>\n",
       "    <tr>\n",
       "      <th>1929</th>\n",
       "      <td>377.166667</td>\n",
       "      <td>298.00</td>\n",
       "      <td>219.720466</td>\n",
       "      <td>3</td>\n",
       "      <td>2.529502</td>\n",
       "      <td>2.474216</td>\n",
       "      <td>0.243829</td>\n",
       "      <td>3</td>\n",
       "    </tr>\n",
       "    <tr>\n",
       "      <th>1930</th>\n",
       "      <td>420.700000</td>\n",
       "      <td>420.70</td>\n",
       "      <td>202.091118</td>\n",
       "      <td>2</td>\n",
       "      <td>2.597352</td>\n",
       "      <td>2.597352</td>\n",
       "      <td>0.217251</td>\n",
       "      <td>2</td>\n",
       "    </tr>\n",
       "    <tr>\n",
       "      <th>1931</th>\n",
       "      <td>395.050000</td>\n",
       "      <td>395.05</td>\n",
       "      <td>186.039794</td>\n",
       "      <td>2</td>\n",
       "      <td>2.571131</td>\n",
       "      <td>2.571131</td>\n",
       "      <td>0.212627</td>\n",
       "      <td>2</td>\n",
       "    </tr>\n",
       "    <tr>\n",
       "      <th>1932</th>\n",
       "      <td>349.700000</td>\n",
       "      <td>349.70</td>\n",
       "      <td>158.674762</td>\n",
       "      <td>2</td>\n",
       "      <td>2.520106</td>\n",
       "      <td>2.520106</td>\n",
       "      <td>0.204272</td>\n",
       "      <td>2</td>\n",
       "    </tr>\n",
       "    <tr>\n",
       "      <th>1933</th>\n",
       "      <td>348.000000</td>\n",
       "      <td>348.00</td>\n",
       "      <td>176.211010</td>\n",
       "      <td>2</td>\n",
       "      <td>2.511788</td>\n",
       "      <td>2.511788</td>\n",
       "      <td>0.230100</td>\n",
       "      <td>2</td>\n",
       "    </tr>\n",
       "    <tr>\n",
       "      <th>1934</th>\n",
       "      <td>365.850000</td>\n",
       "      <td>365.85</td>\n",
       "      <td>200.606194</td>\n",
       "      <td>2</td>\n",
       "      <td>2.527928</td>\n",
       "      <td>2.527928</td>\n",
       "      <td>0.251277</td>\n",
       "      <td>2</td>\n",
       "    </tr>\n",
       "    <tr>\n",
       "      <th>1935</th>\n",
       "      <td>331.600000</td>\n",
       "      <td>331.60</td>\n",
       "      <td>154.573542</td>\n",
       "      <td>2</td>\n",
       "      <td>2.495640</td>\n",
       "      <td>2.495640</td>\n",
       "      <td>0.210294</td>\n",
       "      <td>2</td>\n",
       "    </tr>\n",
       "    <tr>\n",
       "      <th>1936</th>\n",
       "      <td>335.100000</td>\n",
       "      <td>335.10</td>\n",
       "      <td>148.068160</td>\n",
       "      <td>2</td>\n",
       "      <td>2.502869</td>\n",
       "      <td>2.502869</td>\n",
       "      <td>0.198536</td>\n",
       "      <td>2</td>\n",
       "    </tr>\n",
       "    <tr>\n",
       "      <th>1937</th>\n",
       "      <td>318.850000</td>\n",
       "      <td>318.85</td>\n",
       "      <td>141.209224</td>\n",
       "      <td>2</td>\n",
       "      <td>2.481174</td>\n",
       "      <td>2.481174</td>\n",
       "      <td>0.199021</td>\n",
       "      <td>2</td>\n",
       "    </tr>\n",
       "    <tr>\n",
       "      <th>1938</th>\n",
       "      <td>383.800000</td>\n",
       "      <td>383.80</td>\n",
       "      <td>NaN</td>\n",
       "      <td>1</td>\n",
       "      <td>2.584105</td>\n",
       "      <td>2.584105</td>\n",
       "      <td>NaN</td>\n",
       "      <td>1</td>\n",
       "    </tr>\n",
       "    <tr>\n",
       "      <th>1939</th>\n",
       "      <td>318.300000</td>\n",
       "      <td>318.30</td>\n",
       "      <td>NaN</td>\n",
       "      <td>1</td>\n",
       "      <td>2.502837</td>\n",
       "      <td>2.502837</td>\n",
       "      <td>NaN</td>\n",
       "      <td>1</td>\n",
       "    </tr>\n",
       "    <tr>\n",
       "      <th>1940</th>\n",
       "      <td>289.600000</td>\n",
       "      <td>289.60</td>\n",
       "      <td>NaN</td>\n",
       "      <td>1</td>\n",
       "      <td>2.461799</td>\n",
       "      <td>2.461799</td>\n",
       "      <td>NaN</td>\n",
       "      <td>1</td>\n",
       "    </tr>\n",
       "    <tr>\n",
       "      <th>1941</th>\n",
       "      <td>279.900000</td>\n",
       "      <td>279.90</td>\n",
       "      <td>NaN</td>\n",
       "      <td>1</td>\n",
       "      <td>2.447003</td>\n",
       "      <td>2.447003</td>\n",
       "      <td>NaN</td>\n",
       "      <td>1</td>\n",
       "    </tr>\n",
       "    <tr>\n",
       "      <th>1942</th>\n",
       "      <td>243.400000</td>\n",
       "      <td>243.40</td>\n",
       "      <td>NaN</td>\n",
       "      <td>1</td>\n",
       "      <td>2.386321</td>\n",
       "      <td>2.386321</td>\n",
       "      <td>NaN</td>\n",
       "      <td>1</td>\n",
       "    </tr>\n",
       "    <tr>\n",
       "      <th>1943</th>\n",
       "      <td>256.400000</td>\n",
       "      <td>256.40</td>\n",
       "      <td>NaN</td>\n",
       "      <td>1</td>\n",
       "      <td>2.408918</td>\n",
       "      <td>2.408918</td>\n",
       "      <td>NaN</td>\n",
       "      <td>1</td>\n",
       "    </tr>\n",
       "    <tr>\n",
       "      <th>1944</th>\n",
       "      <td>233.000000</td>\n",
       "      <td>233.00</td>\n",
       "      <td>NaN</td>\n",
       "      <td>1</td>\n",
       "      <td>2.367356</td>\n",
       "      <td>2.367356</td>\n",
       "      <td>NaN</td>\n",
       "      <td>1</td>\n",
       "    </tr>\n",
       "    <tr>\n",
       "      <th>1945</th>\n",
       "      <td>203.000000</td>\n",
       "      <td>203.00</td>\n",
       "      <td>NaN</td>\n",
       "      <td>1</td>\n",
       "      <td>2.307496</td>\n",
       "      <td>2.307496</td>\n",
       "      <td>NaN</td>\n",
       "      <td>1</td>\n",
       "    </tr>\n",
       "  </tbody>\n",
       "</table>\n",
       "</div>"
      ],
      "text/plain": [
       "       DeathRate                             death_log                      \\\n",
       "            mean  median         std nunique      mean    median       std   \n",
       "Year                                                                         \n",
       "1900  808.250000  475.45  788.173697       4  2.781548  2.677021  0.357018   \n",
       "1901  712.650000  441.00  659.727972       4  2.738690  2.644238  0.341423   \n",
       "1902  683.250000  412.40  652.709642       4  2.712917  2.615213  0.352082   \n",
       "1903  664.775000  424.40  589.553319       4  2.717974  2.627662  0.327291   \n",
       "1904  698.275000  448.20  599.586065       4  2.747042  2.650889  0.313687   \n",
       "1905  653.575000  417.80  567.563890       4  2.715851  2.620393  0.317866   \n",
       "1906  668.700000  411.30  611.688341       4  2.714726  2.612679  0.334614   \n",
       "1907  634.350000  401.65  560.416360       4  2.698888  2.602091  0.324555   \n",
       "1908  599.150000  375.95  535.476327       4  2.672054  2.574402  0.327263   \n",
       "1909  568.300000  346.90  523.462479       4  2.643013  2.539700  0.335634   \n",
       "1910  588.375000  360.15  542.539617       4  2.657630  2.556252  0.336619   \n",
       "1911  518.550000  338.00  442.277601       4  2.617999  2.527421  0.314781   \n",
       "1912  482.750000  317.35  411.887319       4  2.586014  2.499609  0.317316   \n",
       "1913  521.550000  339.00  452.045119       4  2.616875  2.529341  0.321180   \n",
       "1914  465.875000  316.05  376.266850       4  2.580920  2.498452  0.300158   \n",
       "1915  505.233333  330.90  364.534393       3  2.633812  2.519697  0.292121   \n",
       "1916  488.700000  319.10  419.734400       4  2.589986  2.501035  0.319385   \n",
       "1917  488.975000  335.50  390.308249       4  2.602894  2.521786  0.299698   \n",
       "1918  793.475000  612.65  548.682400       4  2.828210  2.770913  0.280293   \n",
       "1919  475.725000  369.25  313.099615       4  2.615072  2.559545  0.259666   \n",
       "1920  478.800000  349.05  346.357975       4  2.607814  2.537657  0.276328   \n",
       "1921  404.750000  303.95  268.624527       4  2.547240  2.481604  0.250679   \n",
       "1922  433.733333  319.60  269.946760       3  2.584832  2.504607  0.255102   \n",
       "1923  457.500000  325.80  305.443759       3  2.599958  2.512951  0.273822   \n",
       "1924  406.133333  313.50  244.297489       3  2.558850  2.496238  0.250334   \n",
       "1925  388.833333  314.00  224.315812       3  2.543033  2.496930  0.244062   \n",
       "1926  414.900000  307.50  271.245479       3  2.559077  2.487845  0.271779   \n",
       "1927  362.933333  289.50  201.641175       3  2.517308  2.461649  0.231523   \n",
       "1928  389.466667  307.80  228.424875       3  2.542697  2.488269  0.245888   \n",
       "1929  377.166667  298.00  219.720466       3  2.529502  2.474216  0.243829   \n",
       "1930  420.700000  420.70  202.091118       2  2.597352  2.597352  0.217251   \n",
       "1931  395.050000  395.05  186.039794       2  2.571131  2.571131  0.212627   \n",
       "1932  349.700000  349.70  158.674762       2  2.520106  2.520106  0.204272   \n",
       "1933  348.000000  348.00  176.211010       2  2.511788  2.511788  0.230100   \n",
       "1934  365.850000  365.85  200.606194       2  2.527928  2.527928  0.251277   \n",
       "1935  331.600000  331.60  154.573542       2  2.495640  2.495640  0.210294   \n",
       "1936  335.100000  335.10  148.068160       2  2.502869  2.502869  0.198536   \n",
       "1937  318.850000  318.85  141.209224       2  2.481174  2.481174  0.199021   \n",
       "1938  383.800000  383.80         NaN       1  2.584105  2.584105       NaN   \n",
       "1939  318.300000  318.30         NaN       1  2.502837  2.502837       NaN   \n",
       "1940  289.600000  289.60         NaN       1  2.461799  2.461799       NaN   \n",
       "1941  279.900000  279.90         NaN       1  2.447003  2.447003       NaN   \n",
       "1942  243.400000  243.40         NaN       1  2.386321  2.386321       NaN   \n",
       "1943  256.400000  256.40         NaN       1  2.408918  2.408918       NaN   \n",
       "1944  233.000000  233.00         NaN       1  2.367356  2.367356       NaN   \n",
       "1945  203.000000  203.00         NaN       1  2.307496  2.307496       NaN   \n",
       "\n",
       "              \n",
       "     nunique  \n",
       "Year          \n",
       "1900       4  \n",
       "1901       4  \n",
       "1902       4  \n",
       "1903       4  \n",
       "1904       4  \n",
       "1905       4  \n",
       "1906       4  \n",
       "1907       4  \n",
       "1908       4  \n",
       "1909       4  \n",
       "1910       4  \n",
       "1911       4  \n",
       "1912       4  \n",
       "1913       4  \n",
       "1914       4  \n",
       "1915       3  \n",
       "1916       4  \n",
       "1917       4  \n",
       "1918       4  \n",
       "1919       4  \n",
       "1920       4  \n",
       "1921       4  \n",
       "1922       3  \n",
       "1923       3  \n",
       "1924       3  \n",
       "1925       3  \n",
       "1926       3  \n",
       "1927       3  \n",
       "1928       3  \n",
       "1929       3  \n",
       "1930       2  \n",
       "1931       2  \n",
       "1932       2  \n",
       "1933       2  \n",
       "1934       2  \n",
       "1935       2  \n",
       "1936       2  \n",
       "1937       2  \n",
       "1938       1  \n",
       "1939       1  \n",
       "1940       1  \n",
       "1941       1  \n",
       "1942       1  \n",
       "1943       1  \n",
       "1944       1  \n",
       "1945       1  "
      ]
     },
     "execution_count": 177,
     "metadata": {},
     "output_type": "execute_result"
    }
   ],
   "source": [
    "FilteredAgeGS[col_list].agg(agg_list)"
   ]
  },
  {
   "cell_type": "code",
   "execution_count": 167,
   "metadata": {},
   "outputs": [
    {
     "data": {
      "text/html": [
       "<div>\n",
       "<style scoped>\n",
       "    .dataframe tbody tr th:only-of-type {\n",
       "        vertical-align: middle;\n",
       "    }\n",
       "\n",
       "    .dataframe tbody tr th {\n",
       "        vertical-align: top;\n",
       "    }\n",
       "\n",
       "    .dataframe thead th {\n",
       "        text-align: right;\n",
       "    }\n",
       "</style>\n",
       "<table border=\"1\" class=\"dataframe\">\n",
       "  <thead>\n",
       "    <tr style=\"text-align: right;\">\n",
       "      <th></th>\n",
       "      <th>mean</th>\n",
       "      <th>median</th>\n",
       "      <th>std</th>\n",
       "      <th>nunique</th>\n",
       "    </tr>\n",
       "    <tr>\n",
       "      <th>AgeGroup</th>\n",
       "      <th></th>\n",
       "      <th></th>\n",
       "      <th></th>\n",
       "      <th></th>\n",
       "    </tr>\n",
       "  </thead>\n",
       "  <tbody>\n",
       "    <tr>\n",
       "      <th>1-4 Years</th>\n",
       "      <td>383.226050</td>\n",
       "      <td>109.1</td>\n",
       "      <td>500.454211</td>\n",
       "      <td>117</td>\n",
       "    </tr>\n",
       "    <tr>\n",
       "      <th>10-14 Years</th>\n",
       "      <td>93.769748</td>\n",
       "      <td>44.6</td>\n",
       "      <td>88.404363</td>\n",
       "      <td>115</td>\n",
       "    </tr>\n",
       "    <tr>\n",
       "      <th>15-19 Years</th>\n",
       "      <td>177.374790</td>\n",
       "      <td>106.9</td>\n",
       "      <td>138.362290</td>\n",
       "      <td>117</td>\n",
       "    </tr>\n",
       "    <tr>\n",
       "      <th>5-9 Years</th>\n",
       "      <td>117.326050</td>\n",
       "      <td>48.4</td>\n",
       "      <td>127.474958</td>\n",
       "      <td>115</td>\n",
       "    </tr>\n",
       "  </tbody>\n",
       "</table>\n",
       "</div>"
      ],
      "text/plain": [
       "                   mean  median         std  nunique\n",
       "AgeGroup                                            \n",
       "1-4 Years    383.226050   109.1  500.454211      117\n",
       "10-14 Years   93.769748    44.6   88.404363      115\n",
       "15-19 Years  177.374790   106.9  138.362290      117\n",
       "5-9 Years    117.326050    48.4  127.474958      115"
      ]
     },
     "execution_count": 167,
     "metadata": {},
     "output_type": "execute_result"
    }
   ],
   "source": [
    "AgeGS[\"DeathRate\"].agg(['mean','median','std','nunique'])"
   ]
  },
  {
   "cell_type": "code",
   "execution_count": 166,
   "metadata": {},
   "outputs": [
    {
     "data": {
      "text/html": [
       "<div>\n",
       "<style scoped>\n",
       "    .dataframe tbody tr th:only-of-type {\n",
       "        vertical-align: middle;\n",
       "    }\n",
       "\n",
       "    .dataframe tbody tr th {\n",
       "        vertical-align: top;\n",
       "    }\n",
       "\n",
       "    .dataframe thead th {\n",
       "        text-align: right;\n",
       "    }\n",
       "</style>\n",
       "<table border=\"1\" class=\"dataframe\">\n",
       "  <thead>\n",
       "    <tr style=\"text-align: right;\">\n",
       "      <th></th>\n",
       "      <th>mean</th>\n",
       "      <th>median</th>\n",
       "      <th>std</th>\n",
       "      <th>nunique</th>\n",
       "    </tr>\n",
       "    <tr>\n",
       "      <th>AgeGroup</th>\n",
       "      <th></th>\n",
       "      <th></th>\n",
       "      <th></th>\n",
       "      <th></th>\n",
       "    </tr>\n",
       "  </thead>\n",
       "  <tbody>\n",
       "    <tr>\n",
       "      <th>1-4 Years</th>\n",
       "      <td>0.193277</td>\n",
       "      <td>0.0</td>\n",
       "      <td>0.396538</td>\n",
       "      <td>2</td>\n",
       "    </tr>\n",
       "    <tr>\n",
       "      <th>10-14 Years</th>\n",
       "      <td>0.000000</td>\n",
       "      <td>0.0</td>\n",
       "      <td>0.000000</td>\n",
       "      <td>1</td>\n",
       "    </tr>\n",
       "    <tr>\n",
       "      <th>15-19 Years</th>\n",
       "      <td>0.000000</td>\n",
       "      <td>0.0</td>\n",
       "      <td>0.000000</td>\n",
       "      <td>1</td>\n",
       "    </tr>\n",
       "    <tr>\n",
       "      <th>5-9 Years</th>\n",
       "      <td>0.000000</td>\n",
       "      <td>0.0</td>\n",
       "      <td>0.000000</td>\n",
       "      <td>1</td>\n",
       "    </tr>\n",
       "  </tbody>\n",
       "</table>\n",
       "</div>"
      ],
      "text/plain": [
       "                 mean  median       std  nunique\n",
       "AgeGroup                                        \n",
       "1-4 Years    0.193277     0.0  0.396538        2\n",
       "10-14 Years  0.000000     0.0  0.000000        1\n",
       "15-19 Years  0.000000     0.0  0.000000        1\n",
       "5-9 Years    0.000000     0.0  0.000000        1"
      ]
     },
     "execution_count": 166,
     "metadata": {},
     "output_type": "execute_result"
    }
   ],
   "source": [
    "AgeGS[\"outlier\"].agg(['mean','median','std','nunique'])"
   ]
  },
  {
   "cell_type": "code",
   "execution_count": 178,
   "metadata": {},
   "outputs": [
    {
     "data": {
      "text/html": [
       "<div>\n",
       "<style scoped>\n",
       "    .dataframe tbody tr th:only-of-type {\n",
       "        vertical-align: middle;\n",
       "    }\n",
       "\n",
       "    .dataframe tbody tr th {\n",
       "        vertical-align: top;\n",
       "    }\n",
       "\n",
       "    .dataframe thead th {\n",
       "        text-align: right;\n",
       "    }\n",
       "</style>\n",
       "<table border=\"1\" class=\"dataframe\">\n",
       "  <thead>\n",
       "    <tr style=\"text-align: right;\">\n",
       "      <th></th>\n",
       "      <th>mean</th>\n",
       "      <th>median</th>\n",
       "      <th>std</th>\n",
       "      <th>nunique</th>\n",
       "    </tr>\n",
       "    <tr>\n",
       "      <th>AgeGroup</th>\n",
       "      <th></th>\n",
       "      <th></th>\n",
       "      <th></th>\n",
       "      <th></th>\n",
       "    </tr>\n",
       "  </thead>\n",
       "  <tbody>\n",
       "    <tr>\n",
       "      <th>1-4 Years</th>\n",
       "      <td>383.226050</td>\n",
       "      <td>109.1</td>\n",
       "      <td>500.454211</td>\n",
       "      <td>117</td>\n",
       "    </tr>\n",
       "    <tr>\n",
       "      <th>10-14 Years</th>\n",
       "      <td>93.769748</td>\n",
       "      <td>44.6</td>\n",
       "      <td>88.404363</td>\n",
       "      <td>115</td>\n",
       "    </tr>\n",
       "    <tr>\n",
       "      <th>15-19 Years</th>\n",
       "      <td>177.374790</td>\n",
       "      <td>106.9</td>\n",
       "      <td>138.362290</td>\n",
       "      <td>117</td>\n",
       "    </tr>\n",
       "    <tr>\n",
       "      <th>5-9 Years</th>\n",
       "      <td>117.326050</td>\n",
       "      <td>48.4</td>\n",
       "      <td>127.474958</td>\n",
       "      <td>115</td>\n",
       "    </tr>\n",
       "  </tbody>\n",
       "</table>\n",
       "</div>"
      ],
      "text/plain": [
       "                   mean  median         std  nunique\n",
       "AgeGroup                                            \n",
       "1-4 Years    383.226050   109.1  500.454211      117\n",
       "10-14 Years   93.769748    44.6   88.404363      115\n",
       "15-19 Years  177.374790   106.9  138.362290      117\n",
       "5-9 Years    117.326050    48.4  127.474958      115"
      ]
     },
     "execution_count": 178,
     "metadata": {},
     "output_type": "execute_result"
    }
   ],
   "source": [
    "mortality_data.groupby('AgeGroup')['DeathRate'] \\\n",
    "    .agg(['mean','median','std','nunique'])"
   ]
  },
  {
   "cell_type": "code",
   "execution_count": 179,
   "metadata": {},
   "outputs": [
    {
     "data": {
      "text/html": [
       "<div>\n",
       "<style scoped>\n",
       "    .dataframe tbody tr th:only-of-type {\n",
       "        vertical-align: middle;\n",
       "    }\n",
       "\n",
       "    .dataframe tbody tr th {\n",
       "        vertical-align: top;\n",
       "    }\n",
       "\n",
       "    .dataframe thead th {\n",
       "        text-align: right;\n",
       "    }\n",
       "</style>\n",
       "<table border=\"1\" class=\"dataframe\">\n",
       "  <thead>\n",
       "    <tr style=\"text-align: right;\">\n",
       "      <th></th>\n",
       "      <th>mean</th>\n",
       "      <th>median</th>\n",
       "      <th>std</th>\n",
       "      <th>min</th>\n",
       "      <th>max</th>\n",
       "      <th>var</th>\n",
       "      <th>nunique</th>\n",
       "    </tr>\n",
       "    <tr>\n",
       "      <th>Year</th>\n",
       "      <th></th>\n",
       "      <th></th>\n",
       "      <th></th>\n",
       "      <th></th>\n",
       "      <th></th>\n",
       "      <th></th>\n",
       "      <th></th>\n",
       "    </tr>\n",
       "  </thead>\n",
       "  <tbody>\n",
       "    <tr>\n",
       "      <th>1900</th>\n",
       "      <td>808.25</td>\n",
       "      <td>475.45</td>\n",
       "      <td>788.173697</td>\n",
       "      <td>298.3</td>\n",
       "      <td>1983.8</td>\n",
       "      <td>621217.776667</td>\n",
       "      <td>4</td>\n",
       "    </tr>\n",
       "    <tr>\n",
       "      <th>1901</th>\n",
       "      <td>712.65</td>\n",
       "      <td>441.00</td>\n",
       "      <td>659.727972</td>\n",
       "      <td>273.6</td>\n",
       "      <td>1695.0</td>\n",
       "      <td>435240.996667</td>\n",
       "      <td>4</td>\n",
       "    </tr>\n",
       "    <tr>\n",
       "      <th>1902</th>\n",
       "      <td>683.25</td>\n",
       "      <td>412.40</td>\n",
       "      <td>652.709642</td>\n",
       "      <td>252.5</td>\n",
       "      <td>1655.7</td>\n",
       "      <td>426029.876667</td>\n",
       "      <td>4</td>\n",
       "    </tr>\n",
       "  </tbody>\n",
       "</table>\n",
       "</div>"
      ],
      "text/plain": [
       "        mean  median         std    min     max            var  nunique\n",
       "Year                                                                   \n",
       "1900  808.25  475.45  788.173697  298.3  1983.8  621217.776667        4\n",
       "1901  712.65  441.00  659.727972  273.6  1695.0  435240.996667        4\n",
       "1902  683.25  412.40  652.709642  252.5  1655.7  426029.876667        4"
      ]
     },
     "execution_count": 179,
     "metadata": {},
     "output_type": "execute_result"
    }
   ],
   "source": [
    "mortality_data.groupby('Year')['DeathRate'] \\\n",
    "    .agg(['mean','median','std','min','max','var','nunique']).head(3)"
   ]
  },
  {
   "cell_type": "code",
   "execution_count": 180,
   "metadata": {},
   "outputs": [
    {
     "data": {
      "text/plain": [
       "659.7279717178892"
      ]
     },
     "execution_count": 180,
     "metadata": {},
     "output_type": "execute_result"
    }
   ],
   "source": [
    "435240.996667 ** 0.5"
   ]
  },
  {
   "cell_type": "code",
   "execution_count": 182,
   "metadata": {},
   "outputs": [
    {
     "data": {
      "text/plain": [
       "2.3474753892191407"
      ]
     },
     "execution_count": 182,
     "metadata": {},
     "output_type": "execute_result"
    }
   ],
   "source": [
    "def fun_1q(foo): return foo.quantile(0.75)\n",
    "\n",
    "fun_1q(mortality_data.death_log)"
   ]
  },
  {
   "cell_type": "code",
   "execution_count": 183,
   "metadata": {},
   "outputs": [
    {
     "data": {
      "text/plain": [
       "1-4 Years    577.3\n",
       "Name: 0.75, dtype: float64"
      ]
     },
     "execution_count": 183,
     "metadata": {},
     "output_type": "execute_result"
    }
   ],
   "source": [
    "fun_1q(mortality_wide[['1-4 Years']])"
   ]
  },
  {
   "cell_type": "markdown",
   "metadata": {},
   "source": [
    "## Visualize the data"
   ]
  },
  {
   "cell_type": "code",
   "execution_count": 184,
   "metadata": {},
   "outputs": [
    {
     "data": {
      "text/html": [
       "<div>\n",
       "<style scoped>\n",
       "    .dataframe tbody tr th:only-of-type {\n",
       "        vertical-align: middle;\n",
       "    }\n",
       "\n",
       "    .dataframe tbody tr th {\n",
       "        vertical-align: top;\n",
       "    }\n",
       "\n",
       "    .dataframe thead th {\n",
       "        text-align: right;\n",
       "    }\n",
       "</style>\n",
       "<table border=\"1\" class=\"dataframe\">\n",
       "  <thead>\n",
       "    <tr style=\"text-align: right;\">\n",
       "      <th>AgeGroup</th>\n",
       "      <th>1-4 Years</th>\n",
       "      <th>10-14 Years</th>\n",
       "      <th>15-19 Years</th>\n",
       "      <th>5-9 Years</th>\n",
       "    </tr>\n",
       "    <tr>\n",
       "      <th>Year</th>\n",
       "      <th></th>\n",
       "      <th></th>\n",
       "      <th></th>\n",
       "      <th></th>\n",
       "    </tr>\n",
       "  </thead>\n",
       "  <tbody>\n",
       "    <tr>\n",
       "      <th>1900</th>\n",
       "      <td>1983.8</td>\n",
       "      <td>298.3</td>\n",
       "      <td>484.8</td>\n",
       "      <td>466.1</td>\n",
       "    </tr>\n",
       "    <tr>\n",
       "      <th>1901</th>\n",
       "      <td>1695.0</td>\n",
       "      <td>273.6</td>\n",
       "      <td>454.4</td>\n",
       "      <td>427.6</td>\n",
       "    </tr>\n",
       "    <tr>\n",
       "      <th>1902</th>\n",
       "      <td>1655.7</td>\n",
       "      <td>252.5</td>\n",
       "      <td>421.5</td>\n",
       "      <td>403.3</td>\n",
       "    </tr>\n",
       "    <tr>\n",
       "      <th>1903</th>\n",
       "      <td>1542.1</td>\n",
       "      <td>268.2</td>\n",
       "      <td>434.1</td>\n",
       "      <td>414.7</td>\n",
       "    </tr>\n",
       "    <tr>\n",
       "      <th>1904</th>\n",
       "      <td>1591.5</td>\n",
       "      <td>305.2</td>\n",
       "      <td>471.4</td>\n",
       "      <td>425.0</td>\n",
       "    </tr>\n",
       "    <tr>\n",
       "      <th>...</th>\n",
       "      <td>...</td>\n",
       "      <td>...</td>\n",
       "      <td>...</td>\n",
       "      <td>...</td>\n",
       "    </tr>\n",
       "    <tr>\n",
       "      <th>2014</th>\n",
       "      <td>24.0</td>\n",
       "      <td>14.0</td>\n",
       "      <td>45.5</td>\n",
       "      <td>11.5</td>\n",
       "    </tr>\n",
       "    <tr>\n",
       "      <th>2015</th>\n",
       "      <td>24.9</td>\n",
       "      <td>14.6</td>\n",
       "      <td>48.3</td>\n",
       "      <td>11.7</td>\n",
       "    </tr>\n",
       "    <tr>\n",
       "      <th>2016</th>\n",
       "      <td>25.3</td>\n",
       "      <td>14.6</td>\n",
       "      <td>51.2</td>\n",
       "      <td>12.2</td>\n",
       "    </tr>\n",
       "    <tr>\n",
       "      <th>2017</th>\n",
       "      <td>24.3</td>\n",
       "      <td>15.5</td>\n",
       "      <td>51.5</td>\n",
       "      <td>11.6</td>\n",
       "    </tr>\n",
       "    <tr>\n",
       "      <th>2018</th>\n",
       "      <td>24.0</td>\n",
       "      <td>14.9</td>\n",
       "      <td>49.2</td>\n",
       "      <td>11.5</td>\n",
       "    </tr>\n",
       "  </tbody>\n",
       "</table>\n",
       "<p>119 rows × 4 columns</p>\n",
       "</div>"
      ],
      "text/plain": [
       "AgeGroup  1-4 Years  10-14 Years  15-19 Years  5-9 Years\n",
       "Year                                                    \n",
       "1900         1983.8        298.3        484.8      466.1\n",
       "1901         1695.0        273.6        454.4      427.6\n",
       "1902         1655.7        252.5        421.5      403.3\n",
       "1903         1542.1        268.2        434.1      414.7\n",
       "1904         1591.5        305.2        471.4      425.0\n",
       "...             ...          ...          ...        ...\n",
       "2014           24.0         14.0         45.5       11.5\n",
       "2015           24.9         14.6         48.3       11.7\n",
       "2016           25.3         14.6         51.2       12.2\n",
       "2017           24.3         15.5         51.5       11.6\n",
       "2018           24.0         14.9         49.2       11.5\n",
       "\n",
       "[119 rows x 4 columns]"
      ]
     },
     "execution_count": 184,
     "metadata": {},
     "output_type": "execute_result"
    }
   ],
   "source": [
    "mortality_data.pivot(index='Year',columns='AgeGroup')['DeathRate']"
   ]
  },
  {
   "cell_type": "code",
   "execution_count": 185,
   "metadata": {},
   "outputs": [
    {
     "data": {
      "text/plain": [
       "<AxesSubplot: >"
      ]
     },
     "execution_count": 185,
     "metadata": {},
     "output_type": "execute_result"
    },
    {
     "data": {
      "image/png": "[encoded data removed]",
      "text/plain": [
       "<Figure size 640x480 with 1 Axes>"
      ]
     },
     "metadata": {},
     "output_type": "display_data"
    }
   ],
   "source": [
    "mortality_data['DeathRate'].plot()"
   ]
  },
  {
   "cell_type": "code",
   "execution_count": 186,
   "metadata": {},
   "outputs": [
    {
     "data": {
      "text/html": [
       "<div>\n",
       "<style scoped>\n",
       "    .dataframe tbody tr th:only-of-type {\n",
       "        vertical-align: middle;\n",
       "    }\n",
       "\n",
       "    .dataframe tbody tr th {\n",
       "        vertical-align: top;\n",
       "    }\n",
       "\n",
       "    .dataframe thead th {\n",
       "        text-align: right;\n",
       "    }\n",
       "</style>\n",
       "<table border=\"1\" class=\"dataframe\">\n",
       "  <thead>\n",
       "    <tr style=\"text-align: right;\">\n",
       "      <th>AgeGroup</th>\n",
       "      <th>1-4 Years</th>\n",
       "      <th>10-14 Years</th>\n",
       "      <th>15-19 Years</th>\n",
       "      <th>5-9 Years</th>\n",
       "    </tr>\n",
       "    <tr>\n",
       "      <th>Year</th>\n",
       "      <th></th>\n",
       "      <th></th>\n",
       "      <th></th>\n",
       "      <th></th>\n",
       "    </tr>\n",
       "  </thead>\n",
       "  <tbody>\n",
       "    <tr>\n",
       "      <th>1900</th>\n",
       "      <td>1983.8</td>\n",
       "      <td>298.3</td>\n",
       "      <td>484.8</td>\n",
       "      <td>466.1</td>\n",
       "    </tr>\n",
       "    <tr>\n",
       "      <th>1901</th>\n",
       "      <td>1695.0</td>\n",
       "      <td>273.6</td>\n",
       "      <td>454.4</td>\n",
       "      <td>427.6</td>\n",
       "    </tr>\n",
       "    <tr>\n",
       "      <th>1902</th>\n",
       "      <td>1655.7</td>\n",
       "      <td>252.5</td>\n",
       "      <td>421.5</td>\n",
       "      <td>403.3</td>\n",
       "    </tr>\n",
       "    <tr>\n",
       "      <th>1903</th>\n",
       "      <td>1542.1</td>\n",
       "      <td>268.2</td>\n",
       "      <td>434.1</td>\n",
       "      <td>414.7</td>\n",
       "    </tr>\n",
       "    <tr>\n",
       "      <th>1904</th>\n",
       "      <td>1591.5</td>\n",
       "      <td>305.2</td>\n",
       "      <td>471.4</td>\n",
       "      <td>425.0</td>\n",
       "    </tr>\n",
       "    <tr>\n",
       "      <th>...</th>\n",
       "      <td>...</td>\n",
       "      <td>...</td>\n",
       "      <td>...</td>\n",
       "      <td>...</td>\n",
       "    </tr>\n",
       "    <tr>\n",
       "      <th>2014</th>\n",
       "      <td>24.0</td>\n",
       "      <td>14.0</td>\n",
       "      <td>45.5</td>\n",
       "      <td>11.5</td>\n",
       "    </tr>\n",
       "    <tr>\n",
       "      <th>2015</th>\n",
       "      <td>24.9</td>\n",
       "      <td>14.6</td>\n",
       "      <td>48.3</td>\n",
       "      <td>11.7</td>\n",
       "    </tr>\n",
       "    <tr>\n",
       "      <th>2016</th>\n",
       "      <td>25.3</td>\n",
       "      <td>14.6</td>\n",
       "      <td>51.2</td>\n",
       "      <td>12.2</td>\n",
       "    </tr>\n",
       "    <tr>\n",
       "      <th>2017</th>\n",
       "      <td>24.3</td>\n",
       "      <td>15.5</td>\n",
       "      <td>51.5</td>\n",
       "      <td>11.6</td>\n",
       "    </tr>\n",
       "    <tr>\n",
       "      <th>2018</th>\n",
       "      <td>24.0</td>\n",
       "      <td>14.9</td>\n",
       "      <td>49.2</td>\n",
       "      <td>11.5</td>\n",
       "    </tr>\n",
       "  </tbody>\n",
       "</table>\n",
       "<p>119 rows × 4 columns</p>\n",
       "</div>"
      ],
      "text/plain": [
       "AgeGroup  1-4 Years  10-14 Years  15-19 Years  5-9 Years\n",
       "Year                                                    \n",
       "1900         1983.8        298.3        484.8      466.1\n",
       "1901         1695.0        273.6        454.4      427.6\n",
       "1902         1655.7        252.5        421.5      403.3\n",
       "1903         1542.1        268.2        434.1      414.7\n",
       "1904         1591.5        305.2        471.4      425.0\n",
       "...             ...          ...          ...        ...\n",
       "2014           24.0         14.0         45.5       11.5\n",
       "2015           24.9         14.6         48.3       11.7\n",
       "2016           25.3         14.6         51.2       12.2\n",
       "2017           24.3         15.5         51.5       11.6\n",
       "2018           24.0         14.9         49.2       11.5\n",
       "\n",
       "[119 rows x 4 columns]"
      ]
     },
     "execution_count": 186,
     "metadata": {},
     "output_type": "execute_result"
    }
   ],
   "source": [
    "mortality_data.pivot(index='Year',columns='AgeGroup')['DeathRate']"
   ]
  },
  {
   "cell_type": "code",
   "execution_count": 187,
   "metadata": {},
   "outputs": [
    {
     "data": {
      "text/plain": [
       "<AxesSubplot: xlabel='Year'>"
      ]
     },
     "execution_count": 187,
     "metadata": {},
     "output_type": "execute_result"
    },
    {
     "data": {
      "image/png": "[encoded data removed]",
      "text/plain": [
       "<Figure size 640x480 with 1 Axes>"
      ]
     },
     "metadata": {},
     "output_type": "display_data"
    }
   ],
   "source": [
    "#mortality_data['DeathRate'].plot()\n",
    "mortality_data.pivot(index='Year',columns='AgeGroup')['DeathRate'].plot()"
   ]
  },
  {
   "cell_type": "code",
   "execution_count": 188,
   "metadata": {},
   "outputs": [
    {
     "data": {
      "text/html": [
       "<div>\n",
       "<style scoped>\n",
       "    .dataframe tbody tr th:only-of-type {\n",
       "        vertical-align: middle;\n",
       "    }\n",
       "\n",
       "    .dataframe tbody tr th {\n",
       "        vertical-align: top;\n",
       "    }\n",
       "\n",
       "    .dataframe thead th {\n",
       "        text-align: right;\n",
       "    }\n",
       "</style>\n",
       "<table border=\"1\" class=\"dataframe\">\n",
       "  <thead>\n",
       "    <tr style=\"text-align: right;\">\n",
       "      <th></th>\n",
       "      <th>mean</th>\n",
       "      <th>median</th>\n",
       "      <th>std</th>\n",
       "    </tr>\n",
       "    <tr>\n",
       "      <th>AgeGroup</th>\n",
       "      <th></th>\n",
       "      <th></th>\n",
       "      <th></th>\n",
       "    </tr>\n",
       "  </thead>\n",
       "  <tbody>\n",
       "    <tr>\n",
       "      <th>1-4 Years</th>\n",
       "      <td>383.226050</td>\n",
       "      <td>109.1</td>\n",
       "      <td>500.454211</td>\n",
       "    </tr>\n",
       "    <tr>\n",
       "      <th>10-14 Years</th>\n",
       "      <td>93.769748</td>\n",
       "      <td>44.6</td>\n",
       "      <td>88.404363</td>\n",
       "    </tr>\n",
       "    <tr>\n",
       "      <th>15-19 Years</th>\n",
       "      <td>177.374790</td>\n",
       "      <td>106.9</td>\n",
       "      <td>138.362290</td>\n",
       "    </tr>\n",
       "    <tr>\n",
       "      <th>5-9 Years</th>\n",
       "      <td>117.326050</td>\n",
       "      <td>48.4</td>\n",
       "      <td>127.474958</td>\n",
       "    </tr>\n",
       "  </tbody>\n",
       "</table>\n",
       "</div>"
      ],
      "text/plain": [
       "                   mean  median         std\n",
       "AgeGroup                                   \n",
       "1-4 Years    383.226050   109.1  500.454211\n",
       "10-14 Years   93.769748    44.6   88.404363\n",
       "15-19 Years  177.374790   106.9  138.362290\n",
       "5-9 Years    117.326050    48.4  127.474958"
      ]
     },
     "execution_count": 188,
     "metadata": {},
     "output_type": "execute_result"
    }
   ],
   "source": [
    "mortality_data.groupby('AgeGroup')['DeathRate'] \\\n",
    "    .agg(['mean','median','std'])\n"
   ]
  },
  {
   "cell_type": "code",
   "execution_count": null,
   "metadata": {},
   "outputs": [],
   "source": [
    "mortality_data.plot."
   ]
  },
  {
   "cell_type": "code",
   "execution_count": 195,
   "metadata": {},
   "outputs": [
    {
     "data": {
      "text/plain": [
       "<AxesSubplot: >"
      ]
     },
     "execution_count": 195,
     "metadata": {},
     "output_type": "execute_result"
    },
    {
     "data": {
      "image/png": "[encoded data removed]",
      "text/plain": [
       "<Figure size 640x480 with 1 Axes>"
      ]
     },
     "metadata": {},
     "output_type": "display_data"
    }
   ],
   "source": [
    "mortality_data.death_log.hist()"
   ]
  },
  {
   "cell_type": "code",
   "execution_count": 202,
   "metadata": {},
   "outputs": [
    {
     "data": {
      "text/html": [
       "<div>\n",
       "<style scoped>\n",
       "    .dataframe tbody tr th:only-of-type {\n",
       "        vertical-align: middle;\n",
       "    }\n",
       "\n",
       "    .dataframe tbody tr th {\n",
       "        vertical-align: top;\n",
       "    }\n",
       "\n",
       "    .dataframe thead th {\n",
       "        text-align: right;\n",
       "    }\n",
       "</style>\n",
       "<table border=\"1\" class=\"dataframe\">\n",
       "  <thead>\n",
       "    <tr style=\"text-align: right;\">\n",
       "      <th></th>\n",
       "      <th>Year</th>\n",
       "      <th>1-4 Years</th>\n",
       "      <th>10-14 Years</th>\n",
       "      <th>15-19 Years</th>\n",
       "      <th>5-9 Years</th>\n",
       "    </tr>\n",
       "  </thead>\n",
       "  <tbody>\n",
       "    <tr>\n",
       "      <th>0</th>\n",
       "      <td>1900</td>\n",
       "      <td>1983.8</td>\n",
       "      <td>298.3</td>\n",
       "      <td>484.8</td>\n",
       "      <td>466.1</td>\n",
       "    </tr>\n",
       "    <tr>\n",
       "      <th>1</th>\n",
       "      <td>1901</td>\n",
       "      <td>1695.0</td>\n",
       "      <td>273.6</td>\n",
       "      <td>454.4</td>\n",
       "      <td>427.6</td>\n",
       "    </tr>\n",
       "    <tr>\n",
       "      <th>2</th>\n",
       "      <td>1902</td>\n",
       "      <td>1655.7</td>\n",
       "      <td>252.5</td>\n",
       "      <td>421.5</td>\n",
       "      <td>403.3</td>\n",
       "    </tr>\n",
       "    <tr>\n",
       "      <th>3</th>\n",
       "      <td>1903</td>\n",
       "      <td>1542.1</td>\n",
       "      <td>268.2</td>\n",
       "      <td>434.1</td>\n",
       "      <td>414.7</td>\n",
       "    </tr>\n",
       "    <tr>\n",
       "      <th>4</th>\n",
       "      <td>1904</td>\n",
       "      <td>1591.5</td>\n",
       "      <td>305.2</td>\n",
       "      <td>471.4</td>\n",
       "      <td>425.0</td>\n",
       "    </tr>\n",
       "    <tr>\n",
       "      <th>...</th>\n",
       "      <td>...</td>\n",
       "      <td>...</td>\n",
       "      <td>...</td>\n",
       "      <td>...</td>\n",
       "      <td>...</td>\n",
       "    </tr>\n",
       "    <tr>\n",
       "      <th>114</th>\n",
       "      <td>2014</td>\n",
       "      <td>24.0</td>\n",
       "      <td>14.0</td>\n",
       "      <td>45.5</td>\n",
       "      <td>11.5</td>\n",
       "    </tr>\n",
       "    <tr>\n",
       "      <th>115</th>\n",
       "      <td>2015</td>\n",
       "      <td>24.9</td>\n",
       "      <td>14.6</td>\n",
       "      <td>48.3</td>\n",
       "      <td>11.7</td>\n",
       "    </tr>\n",
       "    <tr>\n",
       "      <th>116</th>\n",
       "      <td>2016</td>\n",
       "      <td>25.3</td>\n",
       "      <td>14.6</td>\n",
       "      <td>51.2</td>\n",
       "      <td>12.2</td>\n",
       "    </tr>\n",
       "    <tr>\n",
       "      <th>117</th>\n",
       "      <td>2017</td>\n",
       "      <td>24.3</td>\n",
       "      <td>15.5</td>\n",
       "      <td>51.5</td>\n",
       "      <td>11.6</td>\n",
       "    </tr>\n",
       "    <tr>\n",
       "      <th>118</th>\n",
       "      <td>2018</td>\n",
       "      <td>24.0</td>\n",
       "      <td>14.9</td>\n",
       "      <td>49.2</td>\n",
       "      <td>11.5</td>\n",
       "    </tr>\n",
       "  </tbody>\n",
       "</table>\n",
       "<p>119 rows × 5 columns</p>\n",
       "</div>"
      ],
      "text/plain": [
       "     Year  1-4 Years  10-14 Years  15-19 Years  5-9 Years\n",
       "0    1900     1983.8        298.3        484.8      466.1\n",
       "1    1901     1695.0        273.6        454.4      427.6\n",
       "2    1902     1655.7        252.5        421.5      403.3\n",
       "3    1903     1542.1        268.2        434.1      414.7\n",
       "4    1904     1591.5        305.2        471.4      425.0\n",
       "..    ...        ...          ...          ...        ...\n",
       "114  2014       24.0         14.0         45.5       11.5\n",
       "115  2015       24.9         14.6         48.3       11.7\n",
       "116  2016       25.3         14.6         51.2       12.2\n",
       "117  2017       24.3         15.5         51.5       11.6\n",
       "118  2018       24.0         14.9         49.2       11.5\n",
       "\n",
       "[119 rows x 5 columns]"
      ]
     },
     "execution_count": 202,
     "metadata": {},
     "output_type": "execute_result"
    }
   ],
   "source": [
    "mortality_wide"
   ]
  },
  {
   "cell_type": "code",
   "execution_count": 203,
   "metadata": {},
   "outputs": [
    {
     "data": {
      "text/plain": [
       "<AxesSubplot: ylabel='DeathRate'>"
      ]
     },
     "execution_count": 203,
     "metadata": {},
     "output_type": "execute_result"
    },
    {
     "data": {
      "image/png": "[encoded data removed]",
      "text/plain": [
       "<Figure size 640x480 with 1 Axes>"
      ]
     },
     "metadata": {},
     "output_type": "display_data"
    }
   ],
   "source": [
    "mortality_data.query(\"Year == 1923\").DeathRate.plot.pie()"
   ]
  },
  {
   "cell_type": "code",
   "execution_count": 199,
   "metadata": {},
   "outputs": [
    {
     "data": {
      "text/plain": [
       "<AxesSubplot: xlabel='DeathRate', ylabel='Year'>"
      ]
     },
     "execution_count": 199,
     "metadata": {},
     "output_type": "execute_result"
    },
    {
     "data": {
      "image/png": "[encoded data removed]",
      "text/plain": [
       "<Figure size 640x480 with 1 Axes>"
      ]
     },
     "metadata": {},
     "output_type": "display_data"
    }
   ],
   "source": [
    "mortality_data.plot.scatter(x = 'DeathRate', y = 'Year')"
   ]
  },
  {
   "cell_type": "code",
   "execution_count": 205,
   "metadata": {},
   "outputs": [],
   "source": [
    "import seaborn as sns"
   ]
  },
  {
   "cell_type": "code",
   "execution_count": 212,
   "metadata": {},
   "outputs": [
    {
     "data": {
      "text/plain": [
       "<AxesSubplot: xlabel='DeathRate', ylabel='AgeGroup'>"
      ]
     },
     "execution_count": 212,
     "metadata": {},
     "output_type": "execute_result"
    },
    {
     "data": {
      "image/png": "[encoded data removed]",
      "text/plain": [
       "<Figure size 640x480 with 1 Axes>"
      ]
     },
     "metadata": {},
     "output_type": "display_data"
    }
   ],
   "source": [
    "sns.boxplot(data=mortality_data, \n",
    "             x='DeathRate', y='AgeGroup',showmeans = True)"
   ]
  },
  {
   "cell_type": "code",
   "execution_count": 217,
   "metadata": {},
   "outputs": [
    {
     "data": {
      "text/plain": [
       "<seaborn.axisgrid.FacetGrid at 0x2711344e390>"
      ]
     },
     "execution_count": 217,
     "metadata": {},
     "output_type": "execute_result"
    },
    {
     "data": {
      "image/png": "[encoded data removed]",
      "text/plain": [
       "<Figure size 1000x800 with 4 Axes>"
      ]
     },
     "metadata": {},
     "output_type": "display_data"
    }
   ],
   "source": [
    "sns.relplot(data=mortality_data, \n",
    "            kind='scatter', x='Year', y='DeathRate', hue='AgeGroup', \n",
    "            height=4, aspect=1.25, \n",
    "            col='AgeGroup', col_wrap=2, legend=False)"
   ]
  },
  {
   "cell_type": "code",
   "execution_count": 219,
   "metadata": {},
   "outputs": [
    {
     "data": {
      "text/plain": [
       "<seaborn.axisgrid.FacetGrid at 0x27113d7fad0>"
      ]
     },
     "execution_count": 219,
     "metadata": {},
     "output_type": "execute_result"
    },
    {
     "data": {
      "image/png": "[encoded data removed]",
      "text/plain": [
       "<Figure size 500x400 with 1 Axes>"
      ]
     },
     "metadata": {},
     "output_type": "display_data"
    }
   ],
   "source": [
    "sns.relplot(data=mortality_data, \n",
    "            kind='scatter', x='Year', y='DeathRate', hue='AgeGroup', \n",
    "            height=4, aspect=1.25, \n",
    "              legend=False)"
   ]
  },
  {
   "cell_type": "code",
   "execution_count": null,
   "metadata": {},
   "outputs": [],
   "source": []
  }
 ],
 "metadata": {
  "interpreter": {
   "hash": "81794d4967e6c3204c66dcd87b604927b115b27c00565d3d43f05ba2f3a2cb0d"
  },
  "kernelspec": {
   "display_name": "Python 3 (ipykernel)",
   "language": "python",
   "name": "python3"
  },
  "language_info": {
   "codemirror_mode": {
    "name": "ipython",
    "version": 3
   },
   "file_extension": ".py",
   "mimetype": "text/x-python",
   "name": "python",
   "nbconvert_exporter": "python",
   "pygments_lexer": "ipython3",
   "version": "3.9.12"
  },
  "nteract": {
   "version": "0.15.0"
  }
 },
 "nbformat": 4,
 "nbformat_minor": 4
}
