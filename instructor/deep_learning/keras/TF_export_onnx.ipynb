{
  "cells": [
    {
      "attachments": {},
      "cell_type": "markdown",
      "metadata": {
        "colab_type": "text",
        "id": "v3YP5lGDptdj"
      },
      "source": [
        "# [Convert a Custom Model for MNIST Dataset to ONNX and Inference with ONNX Runtime](https://github.com/onnx/keras-onnx/edit/master/tutorial/TensorFlow_Keras_MNIST.ipynb)\n",
        "\n",
        "This example performs a conversion of a 'hand-crafted' CNN for the MNIST dataset, loosely based on the lenet CNN. It creates a model in keras, evaluates it, converts it to ONNX format. Finnaly, it loads the created ONNX file to perform predictions and compare it againt keras' predictions. "
      ]
    },
    {
      "cell_type": "code",
      "execution_count": 1,
      "metadata": {
        "colab": {
          "base_uri": "https://localhost:8080/",
          "height": 34
        },
        "colab_type": "code",
        "id": "McVALi98usry",
        "outputId": "d43e7bcb-4381-489f-b96c-8d0e2e9b8244"
      },
      "outputs": [
        {
          "name": "stdout",
          "output_type": "stream",
          "text": [
            "TensorFlow version is 2.10.0\n"
          ]
        }
      ],
      "source": [
        "import sys\n",
        "import os\n",
        "import tensorflow as tf\n",
        "print(\"TensorFlow version is \"+tf.__version__)\n",
        "\n",
        "import matplotlib.pyplot as plt\n",
        "import numpy as np\n",
        "import pandas as pd\n",
        "import time"
      ]
    },
    {
      "cell_type": "markdown",
      "metadata": {
        "colab_type": "text",
        "id": "NM4D1RxkS__x"
      },
      "source": [
        "# Preparing the MNIST Dataset"
      ]
    },
    {
      "cell_type": "code",
      "execution_count": 2,
      "metadata": {
        "colab": {
          "base_uri": "https://localhost:8080/",
          "height": 69
        },
        "colab_type": "code",
        "id": "5UM_-1uGMlpo",
        "outputId": "302d9b03-7eb5-4d3c-ffa1-00b745b11b0d"
      },
      "outputs": [
        {
          "name": "stdout",
          "output_type": "stream",
          "text": [
            "Training dataset has 60000\n",
            "Testing dataset has 10000\n",
            "Feature shape is (1, 28, 28)\n"
          ]
        }
      ],
      "source": [
        "# Get MNIST dataset\n",
        "mnist = tf.keras.datasets.mnist\n",
        "# Load its data into training and test vectors\n",
        "(x_train, y_train),(x_test, y_test) = mnist.load_data()\n",
        "# Normalize the data\n",
        "x_train, x_test = x_train / 255.0, x_test / 255.0\n",
        "# Collect feature size info\n",
        "imgSize0=len(x_train[0])\n",
        "imgSize1=len(x_train[0][0])\n",
        "numPixels=imgSize0*imgSize1\n",
        "numTrainImages=len(x_train)\n",
        "featureShape=(1,imgSize0,imgSize1)\n",
        "\n",
        "print(\"Training dataset has \"+str(numTrainImages))\n",
        "print(\"Testing dataset has \"+str(len(x_test)))\n",
        "print(\"Feature shape is \"+str(featureShape))"
      ]
    },
    {
      "cell_type": "code",
      "execution_count": 3,
      "metadata": {
        "colab": {
          "base_uri": "https://localhost:8080/",
          "height": 363
        },
        "colab_type": "code",
        "id": "uoWTP9Du0TTc",
        "outputId": "d7e44927-5235-4869-b424-462db3044c3a"
      },
      "outputs": [
        {
          "data": {
            "text/html": [
              "<div>\n",
              "<style scoped>\n",
              "    .dataframe tbody tr th:only-of-type {\n",
              "        vertical-align: middle;\n",
              "    }\n",
              "\n",
              "    .dataframe tbody tr th {\n",
              "        vertical-align: top;\n",
              "    }\n",
              "\n",
              "    .dataframe thead th {\n",
              "        text-align: right;\n",
              "    }\n",
              "</style>\n",
              "<table border=\"1\" class=\"dataframe\">\n",
              "  <thead>\n",
              "    <tr style=\"text-align: right;\">\n",
              "      <th></th>\n",
              "      <th>Label</th>\n",
              "      <th>Count</th>\n",
              "    </tr>\n",
              "  </thead>\n",
              "  <tbody>\n",
              "    <tr>\n",
              "      <th>0</th>\n",
              "      <td>0</td>\n",
              "      <td>5923</td>\n",
              "    </tr>\n",
              "    <tr>\n",
              "      <th>1</th>\n",
              "      <td>1</td>\n",
              "      <td>6742</td>\n",
              "    </tr>\n",
              "    <tr>\n",
              "      <th>2</th>\n",
              "      <td>2</td>\n",
              "      <td>5958</td>\n",
              "    </tr>\n",
              "    <tr>\n",
              "      <th>3</th>\n",
              "      <td>3</td>\n",
              "      <td>6131</td>\n",
              "    </tr>\n",
              "    <tr>\n",
              "      <th>4</th>\n",
              "      <td>4</td>\n",
              "      <td>5842</td>\n",
              "    </tr>\n",
              "    <tr>\n",
              "      <th>5</th>\n",
              "      <td>5</td>\n",
              "      <td>5421</td>\n",
              "    </tr>\n",
              "    <tr>\n",
              "      <th>6</th>\n",
              "      <td>6</td>\n",
              "      <td>5918</td>\n",
              "    </tr>\n",
              "    <tr>\n",
              "      <th>7</th>\n",
              "      <td>7</td>\n",
              "      <td>6265</td>\n",
              "    </tr>\n",
              "    <tr>\n",
              "      <th>8</th>\n",
              "      <td>8</td>\n",
              "      <td>5851</td>\n",
              "    </tr>\n",
              "    <tr>\n",
              "      <th>9</th>\n",
              "      <td>9</td>\n",
              "      <td>5949</td>\n",
              "    </tr>\n",
              "  </tbody>\n",
              "</table>\n",
              "</div>"
            ],
            "text/plain": [
              "   Label  Count\n",
              "0      0   5923\n",
              "1      1   6742\n",
              "2      2   5958\n",
              "3      3   6131\n",
              "4      4   5842\n",
              "5      5   5421\n",
              "6      6   5918\n",
              "7      7   6265\n",
              "8      8   5851\n",
              "9      9   5949"
            ]
          },
          "execution_count": 3,
          "metadata": {},
          "output_type": "execute_result"
        }
      ],
      "source": [
        "train_labels_count = np.unique(y_train, return_counts=True)\n",
        "dataframe_train_labels = pd.DataFrame({'Label':train_labels_count[0], 'Count':train_labels_count[1]})\n",
        "dataframe_train_labels"
      ]
    },
    {
      "cell_type": "code",
      "execution_count": 4,
      "metadata": {
        "colab": {
          "base_uri": "https://localhost:8080/",
          "height": 363
        },
        "colab_type": "code",
        "id": "rY6mVyks1FsY",
        "outputId": "448c6963-190c-40e0-901f-cabd4c118cd2"
      },
      "outputs": [
        {
          "data": {
            "text/html": [
              "<div>\n",
              "<style scoped>\n",
              "    .dataframe tbody tr th:only-of-type {\n",
              "        vertical-align: middle;\n",
              "    }\n",
              "\n",
              "    .dataframe tbody tr th {\n",
              "        vertical-align: top;\n",
              "    }\n",
              "\n",
              "    .dataframe thead th {\n",
              "        text-align: right;\n",
              "    }\n",
              "</style>\n",
              "<table border=\"1\" class=\"dataframe\">\n",
              "  <thead>\n",
              "    <tr style=\"text-align: right;\">\n",
              "      <th></th>\n",
              "      <th>Label</th>\n",
              "      <th>Count</th>\n",
              "    </tr>\n",
              "  </thead>\n",
              "  <tbody>\n",
              "    <tr>\n",
              "      <th>0</th>\n",
              "      <td>0</td>\n",
              "      <td>980</td>\n",
              "    </tr>\n",
              "    <tr>\n",
              "      <th>1</th>\n",
              "      <td>1</td>\n",
              "      <td>1135</td>\n",
              "    </tr>\n",
              "    <tr>\n",
              "      <th>2</th>\n",
              "      <td>2</td>\n",
              "      <td>1032</td>\n",
              "    </tr>\n",
              "    <tr>\n",
              "      <th>3</th>\n",
              "      <td>3</td>\n",
              "      <td>1010</td>\n",
              "    </tr>\n",
              "    <tr>\n",
              "      <th>4</th>\n",
              "      <td>4</td>\n",
              "      <td>982</td>\n",
              "    </tr>\n",
              "    <tr>\n",
              "      <th>5</th>\n",
              "      <td>5</td>\n",
              "      <td>892</td>\n",
              "    </tr>\n",
              "    <tr>\n",
              "      <th>6</th>\n",
              "      <td>6</td>\n",
              "      <td>958</td>\n",
              "    </tr>\n",
              "    <tr>\n",
              "      <th>7</th>\n",
              "      <td>7</td>\n",
              "      <td>1028</td>\n",
              "    </tr>\n",
              "    <tr>\n",
              "      <th>8</th>\n",
              "      <td>8</td>\n",
              "      <td>974</td>\n",
              "    </tr>\n",
              "    <tr>\n",
              "      <th>9</th>\n",
              "      <td>9</td>\n",
              "      <td>1009</td>\n",
              "    </tr>\n",
              "  </tbody>\n",
              "</table>\n",
              "</div>"
            ],
            "text/plain": [
              "   Label  Count\n",
              "0      0    980\n",
              "1      1   1135\n",
              "2      2   1032\n",
              "3      3   1010\n",
              "4      4    982\n",
              "5      5    892\n",
              "6      6    958\n",
              "7      7   1028\n",
              "8      8    974\n",
              "9      9   1009"
            ]
          },
          "execution_count": 4,
          "metadata": {},
          "output_type": "execute_result"
        }
      ],
      "source": [
        "test_labels_count = np.unique(y_test, return_counts=True)\n",
        "dataframe_test_labels = pd.DataFrame({'Label':test_labels_count[0], 'Count':test_labels_count[1]})\n",
        "dataframe_test_labels"
      ]
    },
    {
      "cell_type": "markdown",
      "metadata": {
        "colab_type": "text",
        "id": "biAtRdVyTHwd"
      },
      "source": [
        "# Building or Loading the CNN Model with Keras\n",
        "\n",
        "If you are building a model in keras to convert it to ONNX, it's realy important that the first layer defines the ***input_shape***, otherwise you will see errors in the ONNX conversion. See [Issue #493](https://github.com/onnx/keras-onnx/issues/493) for more information.\n"
      ]
    },
    {
      "cell_type": "code",
      "execution_count": 5,
      "metadata": {
        "colab": {
          "base_uri": "https://localhost:8080/",
          "height": 278
        },
        "colab_type": "code",
        "id": "1NO4CNgDBuNa",
        "outputId": "13729bc4-c7eb-4795-b8e4-ddc1aaf12cf2"
      },
      "outputs": [
        {
          "name": "stdout",
          "output_type": "stream",
          "text": [
            "creating a new model\n",
            "Model: \"sequential\"\n",
            "_________________________________________________________________\n",
            " Layer (type)                Output Shape              Param #   \n",
            "=================================================================\n",
            " flatten (Flatten)           (None, 784)               0         \n",
            "                                                                 \n",
            " dense (Dense)               (None, 8)                 6280      \n",
            "                                                                 \n",
            " dense_1 (Dense)             (None, 10)                90        \n",
            "                                                                 \n",
            "=================================================================\n",
            "Total params: 6,370\n",
            "Trainable params: 6,370\n",
            "Non-trainable params: 0\n",
            "_________________________________________________________________\n"
          ]
        }
      ],
      "source": [
        "# Clearup everything before running\n",
        "tf.keras.backend.clear_session()\n",
        "\n",
        "print ('creating a new model')\n",
        "# Clearup everything before running\n",
        "tf.keras.backend.clear_session()\n",
        "# Create model\n",
        "model = tf.keras.models.Sequential()\n",
        "# Add layers\n",
        "# The first layer MUST have input_shape. See the observation above.\n",
        "model.add(tf.keras.layers.Flatten(input_shape=(28, 28, 1)))\n",
        "model.add(tf.keras.layers.Dense(8, activation='relu'))\n",
        "model.add(tf.keras.layers.Dense(10, activation='softmax'))\n",
        "\n",
        "# Build model and print summary\n",
        "model.build(input_shape=featureShape)\n",
        "model.summary()"
      ]
    },
    {
      "cell_type": "code",
      "execution_count": 6,
      "metadata": {
        "colab": {
          "base_uri": "https://localhost:8080/",
          "height": 938
        },
        "colab_type": "code",
        "id": "Yd3oPpYaxNen",
        "outputId": "9e3e50f7-d146-416e-a53c-024804eddd7e"
      },
      "outputs": [
        {
          "name": "stdout",
          "output_type": "stream",
          "text": [
            "Training Model\n",
            "Epoch 1/10\n",
            "1875/1875 [==============================] - 3s 2ms/step - loss: 0.5942 - accuracy: 0.8314\n",
            "Epoch 2/10\n",
            "1875/1875 [==============================] - 3s 2ms/step - loss: 0.3339 - accuracy: 0.9055\n",
            "Epoch 3/10\n",
            "1875/1875 [==============================] - 3s 1ms/step - loss: 0.3032 - accuracy: 0.9145\n",
            "Epoch 4/10\n",
            "1875/1875 [==============================] - 3s 1ms/step - loss: 0.2855 - accuracy: 0.9195\n",
            "Epoch 5/10\n",
            "1875/1875 [==============================] - 4s 2ms/step - loss: 0.2743 - accuracy: 0.9232\n",
            "Epoch 6/10\n",
            "1875/1875 [==============================] - 3s 1ms/step - loss: 0.2653 - accuracy: 0.9259\n",
            "Epoch 7/10\n",
            "1875/1875 [==============================] - 3s 1ms/step - loss: 0.2591 - accuracy: 0.9265\n",
            "Epoch 8/10\n",
            "1875/1875 [==============================] - 3s 1ms/step - loss: 0.2540 - accuracy: 0.9293\n",
            "Epoch 9/10\n",
            "1875/1875 [==============================] - 3s 1ms/step - loss: 0.2505 - accuracy: 0.9296\n",
            "Epoch 10/10\n",
            "1875/1875 [==============================] - 3s 1ms/step - loss: 0.2462 - accuracy: 0.9307\n"
          ]
        },
        {
          "data": {
            "image/png": "[encoded data removed]",
            "text/plain": [
              "<Figure size 432x288 with 1 Axes>"
            ]
          },
          "metadata": {
            "needs_background": "light"
          },
          "output_type": "display_data"
        },
        {
          "data": {
            "image/png": "[encoded data removed]",
            "text/plain": [
              "<Figure size 432x288 with 1 Axes>"
            ]
          },
          "metadata": {
            "needs_background": "light"
          },
          "output_type": "display_data"
        }
      ],
      "source": [
        "model.compile(optimizer='adam', loss='sparse_categorical_crossentropy', metrics=['accuracy'])\n",
        "# Train\n",
        "print(\"Training Model\")\n",
        "# increase the number of epochs if you wish better accuracy\n",
        "history = model.fit(x_train, y_train, epochs=10)\n",
        "plt.plot(history.history[\"loss\"], color='r')\n",
        "plt.title(\"Loss\")\n",
        "plt.xlabel(\"Epoch\")\n",
        "plt.show()\n",
        "plt.plot(history.history[\"accuracy\"], color='b')\n",
        "plt.title(\"Accuracy\")\n",
        "plt.xlabel(\"Epoch\")\n",
        "plt.show()"
      ]
    },
    {
      "cell_type": "markdown",
      "metadata": {
        "colab_type": "text",
        "id": "RKYqwyTWSgd7"
      },
      "source": [
        "# Evaluate the Keras' Model Performance\n",
        "\n",
        "\n"
      ]
    },
    {
      "cell_type": "code",
      "execution_count": 7,
      "metadata": {
        "colab": {
          "base_uri": "https://localhost:8080/",
          "height": 69
        },
        "colab_type": "code",
        "id": "xT6ZDhqRxUCj",
        "outputId": "5146b331-0433-42ce-e3c4-6403e2a59628"
      },
      "outputs": [
        {
          "name": "stdout",
          "output_type": "stream",
          "text": [
            "313/313 [==============================] - 1s 2ms/step - loss: 0.2659 - accuracy: 0.9242\n",
            "Test loss: 0.2658698260784149\n",
            "Test accuracy: 0.9241999983787537\n"
          ]
        }
      ],
      "source": [
        "keras_test_loss, keras_test_acc = model.evaluate(x_test, y_test)\n",
        "\n",
        "print('Test loss:', keras_test_loss)\n",
        "print('Test accuracy:', keras_test_acc)"
      ]
    },
    {
      "cell_type": "code",
      "execution_count": 8,
      "metadata": {
        "colab": {},
        "colab_type": "code",
        "id": "5723ZvJV1Iy4"
      },
      "outputs": [],
      "source": [
        "# if the model is just created, them I want to update saved model\n",
        "model.save('./mnist-model.h5') "
      ]
    },
    {
      "cell_type": "code",
      "execution_count": 9,
      "metadata": {
        "colab": {
          "base_uri": "https://localhost:8080/",
          "height": 281
        },
        "colab_type": "code",
        "id": "aAWzx8T8m3sC",
        "outputId": "66179008-93c4-416d-f9fb-9ddf2ae382d3"
      },
      "outputs": [
        {
          "data": {
            "image/png": "[encoded data removed]",
            "text/plain": [
              "<Figure size 432x288 with 1 Axes>"
            ]
          },
          "metadata": {
            "needs_background": "light"
          },
          "output_type": "display_data"
        }
      ],
      "source": [
        "# get a random image index from the test set\n",
        "image_index = int(np.random.randint(0, x_test.shape[0], size=1)[0])\n",
        "expected_label = y_test[image_index]\n",
        "digit_image = x_test[image_index]\n",
        "# and plot it\n",
        "plt.title('Example %d. Label: %d' % (image_index, expected_label))\n",
        "plt.imshow(digit_image, cmap='Greys')\n",
        "plt.show()"
      ]
    },
    {
      "cell_type": "code",
      "execution_count": 10,
      "metadata": {
        "colab": {},
        "colab_type": "code",
        "id": "50FQQAwQhQYN"
      },
      "outputs": [],
      "source": [
        "# uncomment the following two lines to save sample images with digits\n",
        "#pil_img = tf.keras.preprocessing.image.array_to_img(digit_image.reshape((imgSize0,imgSize1,1)))\n",
        "#pil_img.save('./str(expected_label)+'.bmp')"
      ]
    },
    {
      "cell_type": "code",
      "execution_count": 11,
      "metadata": {
        "colab": {
          "base_uri": "https://localhost:8080/",
          "height": 104
        },
        "colab_type": "code",
        "id": "LSOMagvap7W5",
        "outputId": "7d601b1d-3c05-4793-88b5-d8c8dde8c463"
      },
      "outputs": [
        {
          "name": "stdout",
          "output_type": "stream",
          "text": [
            "1/1 [==============================] - 0s 79ms/step\n",
            "1/1 [==============================] - 0s 29ms/step\n",
            "1/1 [==============================] - 0s 86ms/step\n",
            "1/1 [==============================] - 0s 29ms/step\n",
            "1/1 [==============================] - 0s 28ms/step\n",
            "1/1 [==============================] - 0s 25ms/step\n",
            "1/1 [==============================] - 0s 24ms/step\n",
            "1/1 [==============================] - 0s 23ms/step\n",
            "1/1 [==============================] - 0s 23ms/step\n",
            "1/1 [==============================] - 0s 24ms/step\n",
            "Keras inferences with 0.08019564151763917 second in average\n",
            "[[2.26642835e-04 7.27993754e-09 1.07193291e-05 1.73215153e-06\n",
            "  9.97954011e-01 1.14572555e-04 2.24840274e-04 1.91551680e-06\n",
            "  1.02496699e-04 1.36307382e-03]]\n",
            "Predicted value: 4\n",
            "Correct prediction !\n"
          ]
        }
      ],
      "source": [
        "# reshape the image for inference/prediction\n",
        "digit_image = digit_image.reshape(1, imgSize0, imgSize1, 1)\n",
        "# repeat few times to take the average execution time\n",
        "loop_count = 10\n",
        "\n",
        "start_time = time.time()\n",
        "for i in range(loop_count):\n",
        "    prediction = model.predict(digit_image)\n",
        "print(\"Keras inferences with %s second in average\" %((time.time() - start_time) / loop_count))\n",
        "\n",
        "print(prediction)\n",
        "predicted_label = prediction.argmax()\n",
        "print('Predicted value:', predicted_label)\n",
        "if (expected_label == predicted_label):\n",
        "  print('Correct prediction !')\n",
        "else:\n",
        "  print('Wrong prediction !')\n",
        "\n",
        "# one suggestion is to place this and the previous cell inside a for loop to perform several inferences"
      ]
    },
    {
      "cell_type": "markdown",
      "metadata": {
        "colab_type": "text",
        "id": "TNJQ2AtWhGtI"
      },
      "source": [
        "# Conversion from Keras to ONNX\n",
        "\n",
        "Now we know that the keras model is working, let's **convert it to ONNX** format and reevaluate the model again."
      ]
    },
    {
      "cell_type": "code",
      "execution_count": 12,
      "metadata": {
        "colab": {
          "base_uri": "https://localhost:8080/",
          "height": 52
        },
        "colab_type": "code",
        "id": "jmu8CmQBEs31",
        "outputId": "42234039-6e46-4901-f66b-7a81a913395b"
      },
      "outputs": [
        {
          "name": "stderr",
          "output_type": "stream",
          "text": [
            "WARNING: Ignoring invalid distribution -rotobuf (c:\\users\\andre\\appdata\\roaming\\python\\python310\\site-packages)\n",
            "WARNING: Ignoring invalid distribution -rotobuf (c:\\users\\andre\\appdata\\roaming\\python\\python310\\site-packages)\n",
            "WARNING: Ignoring invalid distribution -rotobuf (c:\\users\\andre\\appdata\\roaming\\python\\python310\\site-packages)\n",
            "    WARNING: Ignoring invalid distribution -rotobuf (c:\\users\\andre\\appdata\\roaming\\python\\python310\\site-packages)\n",
            "WARNING: Ignoring invalid distribution -rotobuf (c:\\users\\andre\\appdata\\roaming\\python\\python310\\site-packages)\n",
            "WARNING: Ignoring invalid distribution -rotobuf (c:\\users\\andre\\appdata\\roaming\\python\\python310\\site-packages)\n",
            "WARNING: Ignoring invalid distribution -rotobuf (c:\\users\\andre\\appdata\\roaming\\python\\python310\\site-packages)\n",
            "\n",
            "[notice] A new release of pip available: 22.3 -> 22.3.1\n",
            "[notice] To update, run: python.exe -m pip install --upgrade pip\n",
            "WARNING: Ignoring invalid distribution -rotobuf (c:\\users\\andre\\appdata\\roaming\\python\\python310\\site-packages)\n",
            "WARNING: Ignoring invalid distribution -rotobuf (c:\\users\\andre\\appdata\\roaming\\python\\python310\\site-packages)\n",
            "WARNING: Ignoring invalid distribution -rotobuf (c:\\users\\andre\\appdata\\roaming\\python\\python310\\site-packages)\n",
            "    WARNING: Ignoring invalid distribution -rotobuf (c:\\users\\andre\\appdata\\roaming\\python\\python310\\site-packages)\n",
            "ERROR: Could not install packages due to an OSError: [WinError 5] Access is denied: 'C:\\\\Users\\\\andre\\\\anaconda3\\\\envs\\\\dfwpythoneer_deeplearning\\\\Lib\\\\site-packages\\\\google\\\\~rotobuf\\\\internal\\\\_api_implementation.cp310-win_amd64.pyd'\n",
            "Consider using the `--user` option or check the permissions.\n",
            "\n",
            "WARNING: Ignoring invalid distribution -rotobuf (c:\\users\\andre\\appdata\\roaming\\python\\python310\\site-packages)\n",
            "WARNING: Ignoring invalid distribution -rotobuf (c:\\users\\andre\\appdata\\roaming\\python\\python310\\site-packages)\n",
            "WARNING: Ignoring invalid distribution -rotobuf (c:\\users\\andre\\appdata\\roaming\\python\\python310\\site-packages)\n",
            "\n",
            "[notice] A new release of pip available: 22.3 -> 22.3.1\n",
            "[notice] To update, run: python.exe -m pip install --upgrade pip\n",
            "WARNING: Ignoring invalid distribution -rotobuf (c:\\users\\andre\\appdata\\roaming\\python\\python310\\site-packages)\n",
            "WARNING: Ignoring invalid distribution -rotobuf (c:\\users\\andre\\appdata\\roaming\\python\\python310\\site-packages)\n",
            "WARNING: Ignoring invalid distribution -rotobuf (c:\\users\\andre\\appdata\\roaming\\python\\python310\\site-packages)\n",
            "WARNING: Ignoring invalid distribution -rotobuf (c:\\users\\andre\\anaconda3\\envs\\dfwpythoneer_deeplearning\\lib\\site-packages)\n",
            "WARNING: Ignoring invalid distribution -rotobuf (c:\\users\\andre\\anaconda3\\envs\\dfwpythoneer_deeplearning\\lib\\site-packages)\n",
            "WARNING: Ignoring invalid distribution -rotobuf (c:\\users\\andre\\anaconda3\\envs\\dfwpythoneer_deeplearning\\lib\\site-packages)\n",
            "WARNING: Ignoring invalid distribution -rotobuf (c:\\users\\andre\\appdata\\roaming\\python\\python310\\site-packages)\n",
            "WARNING: Ignoring invalid distribution -rotobuf (c:\\users\\andre\\appdata\\roaming\\python\\python310\\site-packages)\n",
            "WARNING: Ignoring invalid distribution -rotobuf (c:\\users\\andre\\appdata\\roaming\\python\\python310\\site-packages)\n",
            "\n",
            "[notice] A new release of pip available: 22.3 -> 22.3.1\n",
            "[notice] To update, run: python.exe -m pip install --upgrade pip\n"
          ]
        }
      ],
      "source": [
        "# let's install the onnx packages from the source\n",
        "!pip install --quiet -U onnxruntime\n",
        "!pip install --quiet -U git+https://github.com/microsoft/onnxconverter-common\n",
        "!pip install --quiet -U git+https://github.com/onnx/keras-onnx"
      ]
    },
    {
      "cell_type": "markdown",
      "metadata": {
        "colab_type": "text",
        "id": "SR5_5qAoFW8d"
      },
      "source": [
        "Now we use Keras2onnx to convert the model to ONNX format and save it."
      ]
    },
    {
      "cell_type": "code",
      "execution_count": 17,
      "metadata": {},
      "outputs": [
        {
          "name": "stdout",
          "output_type": "stream",
          "text": [
            "INFO:tensorflow:Assets written to: keras_onnx\\kerasonnx\\assets\n"
          ]
        }
      ],
      "source": [
        "model.save(\"keras_onnx\\kerasonnx\")"
      ]
    },
    {
      "cell_type": "code",
      "execution_count": 16,
      "metadata": {
        "colab": {
          "base_uri": "https://localhost:8080/",
          "height": 781
        },
        "colab_type": "code",
        "id": "V3t9FZP1hERO",
        "outputId": "54da3de0-07a7-4938-d2c9-5f93702cae84"
      },
      "outputs": [
        {
          "name": "stdout",
          "output_type": "stream",
          "text": [
            "keras2onnx version is 1.13.0\n"
          ]
        },
        {
          "ename": "TypeError",
          "evalue": "'module' object is not callable",
          "output_type": "error",
          "traceback": [
            "\u001b[1;31m---------------------------------------------------------------------------\u001b[0m",
            "\u001b[1;31mTypeError\u001b[0m                                 Traceback (most recent call last)",
            "\u001b[1;32mc:\\DeepLearning\\dfw_pythoneer_deeplearning\\tensorflow\\TF_export_onnx.ipynb Cell 19\u001b[0m in \u001b[0;36m<cell line: 4>\u001b[1;34m()\u001b[0m\n\u001b[0;32m      <a href='vscode-notebook-cell:/c%3A/DeepLearning/dfw_pythoneer_deeplearning/tensorflow/TF_export_onnx.ipynb#X24sZmlsZQ%3D%3D?line=1'>2</a>\u001b[0m \u001b[39mprint\u001b[39m(\u001b[39m\"\u001b[39m\u001b[39mkeras2onnx version is \u001b[39m\u001b[39m\"\u001b[39m\u001b[39m+\u001b[39mkeras2onnx\u001b[39m.\u001b[39m__version__)\n\u001b[0;32m      <a href='vscode-notebook-cell:/c%3A/DeepLearning/dfw_pythoneer_deeplearning/tensorflow/TF_export_onnx.ipynb#X24sZmlsZQ%3D%3D?line=2'>3</a>\u001b[0m \u001b[39m# convert to onnx model\u001b[39;00m\n\u001b[1;32m----> <a href='vscode-notebook-cell:/c%3A/DeepLearning/dfw_pythoneer_deeplearning/tensorflow/TF_export_onnx.ipynb#X24sZmlsZQ%3D%3D?line=3'>4</a>\u001b[0m onnx_model \u001b[39m=\u001b[39m keras2onnx\u001b[39m.\u001b[39;49mconvert(model, \u001b[39m'\u001b[39;49m\u001b[39mmnist-onnx\u001b[39;49m\u001b[39m'\u001b[39;49m, debug_mode\u001b[39m=\u001b[39;49m\u001b[39m1\u001b[39;49m)\n\u001b[0;32m      <a href='vscode-notebook-cell:/c%3A/DeepLearning/dfw_pythoneer_deeplearning/tensorflow/TF_export_onnx.ipynb#X24sZmlsZQ%3D%3D?line=4'>5</a>\u001b[0m output_model_path \u001b[39m=\u001b[39m \u001b[39m\"\u001b[39m\u001b[39m./mnist-model.onnx\u001b[39m\u001b[39m\"\u001b[39m\n\u001b[0;32m      <a href='vscode-notebook-cell:/c%3A/DeepLearning/dfw_pythoneer_deeplearning/tensorflow/TF_export_onnx.ipynb#X24sZmlsZQ%3D%3D?line=5'>6</a>\u001b[0m \u001b[39m# and save the model in ONNX format\u001b[39;00m\n",
            "\u001b[1;31mTypeError\u001b[0m: 'module' object is not callable"
          ]
        }
      ],
      "source": [
        "# import tf2onnx as keras2onnx\n",
        "# print(\"keras2onnx version is \"+keras2onnx.__version__)\n",
        "# # convert to onnx model\n",
        "# onnx_model = keras2onnx.convert(model, 'mnist-onnx', debug_mode=1)\n",
        "\n",
        "# # and save the model in ONNX format\n",
        "# keras2onnx.save_model(onnx_model, output_model_path)"
      ]
    },
    {
      "cell_type": "markdown",
      "metadata": {
        "colab_type": "text",
        "id": "tmMT0GILGT4w"
      },
      "source": [
        "# Evaluate the ONNX's Model Performance\n",
        "\n",
        "Now let's reevaluate the model read from the ONNX format to see if it is working."
      ]
    },
    {
      "cell_type": "code",
      "execution_count": 18,
      "metadata": {
        "colab": {},
        "colab_type": "code",
        "id": "Q_ntfvpoGStw"
      },
      "outputs": [],
      "source": [
        "import onnxruntime\n",
        "output_model_path = \"C:\\\\DeepLearning\\\\dfw_pythoneer_deeplearning\\\\tensorflow\\\\tf_model.onnx\"\n",
        "sess_options = onnxruntime.SessionOptions()\n",
        "sess = onnxruntime.InferenceSession(output_model_path, sess_options)\n",
        "data = [digit_image.astype(np.float32)]\n",
        "input_names = sess.get_inputs()\n",
        "feed = dict([(input.name, data[n]) for n, input in enumerate(sess.get_inputs())])"
      ]
    },
    {
      "cell_type": "code",
      "execution_count": 19,
      "metadata": {
        "colab": {
          "base_uri": "https://localhost:8080/",
          "height": 86
        },
        "colab_type": "code",
        "id": "VMqgCu-nJZ6P",
        "outputId": "b0bd2ca3-6f67-40c3-d01b-976dd7ad3dd5"
      },
      "outputs": [
        {
          "name": "stdout",
          "output_type": "stream",
          "text": [
            "ONNX inferences with 7.205009460449218e-05 second in average\n",
            "ONNX predicted value: 4\n",
            "Correct prediction !\n",
            "The ONNX's and keras' prediction are matching !\n"
          ]
        }
      ],
      "source": [
        "start_time = time.time()\n",
        "for i in range(loop_count):\n",
        "    onnx_predicted_label = sess.run(None, feed)[0].argmax()\n",
        "print(\"ONNX inferences with %s second in average\" %((time.time() - start_time) / loop_count))\n",
        "\n",
        "print('ONNX predicted value:', onnx_predicted_label)\n",
        "if (expected_label == onnx_predicted_label):\n",
        "  print('Correct prediction !')\n",
        "else:\n",
        "  print('Wrong prediction !')\n",
        "\n",
        "if (predicted_label == onnx_predicted_label):\n",
        "  print(\"The ONNX's and keras' prediction are matching !\")\n",
        "else:\n",
        "  print(\"The ONNX's and keras' prediction does not match !\")\n"
      ]
    },
    {
      "cell_type": "code",
      "execution_count": null,
      "metadata": {},
      "outputs": [],
      "source": []
    }
  ],
  "metadata": {
    "colab": {
      "collapsed_sections": [],
      "name": "TensorFlow_Keras_MNIST.ipynb",
      "provenance": [],
      "toc_visible": true
    },
    "kernelspec": {
      "display_name": "dfwpythoneer_deeplearning",
      "language": "python",
      "name": "python3"
    },
    "language_info": {
      "codemirror_mode": {
        "name": "ipython",
        "version": 3
      },
      "file_extension": ".py",
      "mimetype": "text/x-python",
      "name": "python",
      "nbconvert_exporter": "python",
      "pygments_lexer": "ipython3",
      "version": "3.10.8"
    },
    "vscode": {
      "interpreter": {
        "hash": "bd5062bcb785ae0723638a25e30aeed695e7bbe0a9f85a5dcf9b3afcc72dab1f"
      }
    }
  },
  "nbformat": 4,
  "nbformat_minor": 0
}
