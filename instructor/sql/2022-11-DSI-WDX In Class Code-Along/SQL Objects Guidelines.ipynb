{
 "cells": [
  {
   "cell_type": "markdown",
   "metadata": {},
   "source": [
    "### A Guide to SQL Server Objects\n",
    "\n",
    "\n",
    "| Object | Description | \n",
    "| ----------- | ----------- |\n",
    "| View | Title |\n",
    "| Stored Procedure | Text |\n",
    "| Scalar Valued Function (UDF) | Text |\n",
    "| Table Valued Function UDF (TVF) | Text |\n",
    "| .SQL Script | Text |\n",
    "\n",
    "\n"
   ]
  }
 ],
 "metadata": {
  "kernelspec": {
   "display_name": "Python 3.9.5 64-bit",
   "language": "python",
   "name": "python3"
  },
  "language_info": {
   "name": "python",
   "version": "3.9.5"
  },
  "orig_nbformat": 4,
  "vscode": {
   "interpreter": {
    "hash": "81794d4967e6c3204c66dcd87b604927b115b27c00565d3d43f05ba2f3a2cb0d"
   }
  }
 },
 "nbformat": 4,
 "nbformat_minor": 2
}
