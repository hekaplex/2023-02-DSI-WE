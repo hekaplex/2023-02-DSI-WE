{
    "metadata": {
        "kernelspec": {
            "name": "SQL",
            "display_name": "SQL",
            "language": "sql"
        },
        "language_info": {
            "name": "sql",
            "version": ""
        }
    },
    "nbformat_minor": 2,
    "nbformat": 4,
    "cells": [
        {
            "cell_type": "code",
            "source": [
                "SELECT table_catalog [database], table_schema [schema], table_name [name], table_type [type]\r\n",
                "FROM INFORMATION_SCHEMA.TABLES\r\n",
                "GO"
            ],
            "metadata": {
                "azdata_cell_guid": "1185a970-42a1-411c-99cf-8a900056b11e",
                "language": "sql"
            },
            "outputs": [
                {
                    "output_type": "display_data",
                    "data": {
                        "text/html": "(34 rows affected)"
                    },
                    "metadata": {}
                },
                {
                    "output_type": "display_data",
                    "data": {
                        "text/html": "Total execution time: 00:00:00.333"
                    },
                    "metadata": {}
                },
                {
                    "output_type": "execute_result",
                    "execution_count": 1,
                    "data": {
                        "application/vnd.dataresource+json": {
                            "schema": {
                                "fields": [
                                    {
                                        "name": "database"
                                    },
                                    {
                                        "name": "schema"
                                    },
                                    {
                                        "name": "name"
                                    },
                                    {
                                        "name": "type"
                                    }
                                ]
                            },
                            "data": [
                                {
                                    "0": "AdventureWorksDW2022-DP500",
                                    "1": "dbo",
                                    "2": "FactCallCenter",
                                    "3": "BASE TABLE"
                                },
                                {
                                    "0": "AdventureWorksDW2022-DP500",
                                    "1": "dbo",
                                    "2": "FactCurrencyRate",
                                    "3": "BASE TABLE"
                                },
                                {
                                    "0": "AdventureWorksDW2022-DP500",
                                    "1": "dbo",
                                    "2": "FactFinance",
                                    "3": "BASE TABLE"
                                },
                                {
                                    "0": "AdventureWorksDW2022-DP500",
                                    "1": "dbo",
                                    "2": "FactInternetSales",
                                    "3": "BASE TABLE"
                                },
                                {
                                    "0": "AdventureWorksDW2022-DP500",
                                    "1": "dbo",
                                    "2": "FactInternetSalesReason",
                                    "3": "BASE TABLE"
                                },
                                {
                                    "0": "AdventureWorksDW2022-DP500",
                                    "1": "dbo",
                                    "2": "FactProductInventory",
                                    "3": "BASE TABLE"
                                },
                                {
                                    "0": "AdventureWorksDW2022-DP500",
                                    "1": "dbo",
                                    "2": "FactResellerSales",
                                    "3": "BASE TABLE"
                                },
                                {
                                    "0": "AdventureWorksDW2022-DP500",
                                    "1": "dbo",
                                    "2": "FactSalesQuota",
                                    "3": "BASE TABLE"
                                },
                                {
                                    "0": "AdventureWorksDW2022-DP500",
                                    "1": "sys",
                                    "2": "database_firewall_rules",
                                    "3": "VIEW"
                                },
                                {
                                    "0": "AdventureWorksDW2022-DP500",
                                    "1": "dbo",
                                    "2": "vDMPrep",
                                    "3": "VIEW"
                                },
                                {
                                    "0": "AdventureWorksDW2022-DP500",
                                    "1": "dbo",
                                    "2": "vFactSales",
                                    "3": "VIEW"
                                },
                                {
                                    "0": "AdventureWorksDW2022-DP500",
                                    "1": "dbo",
                                    "2": "vFactSales2",
                                    "3": "VIEW"
                                },
                                {
                                    "0": "AdventureWorksDW2022-DP500",
                                    "1": "dbo",
                                    "2": "vTargetMail",
                                    "3": "VIEW"
                                },
                                {
                                    "0": "AdventureWorksDW2022-DP500",
                                    "1": "dbo",
                                    "2": "vTimeSeries",
                                    "3": "VIEW"
                                },
                                {
                                    "0": "AdventureWorksDW2022-DP500",
                                    "1": "dbo",
                                    "2": "vAssocSeqLineItems",
                                    "3": "VIEW"
                                },
                                {
                                    "0": "AdventureWorksDW2022-DP500",
                                    "1": "dbo",
                                    "2": "vAssocSeqOrders",
                                    "3": "VIEW"
                                },
                                {
                                    "0": "AdventureWorksDW2022-DP500",
                                    "1": "dbo",
                                    "2": "FactInternetSalesRealTime",
                                    "3": "BASE TABLE"
                                },
                                {
                                    "0": "AdventureWorksDW2022-DP500",
                                    "1": "dbo",
                                    "2": "AdventureWorksDWBuildVersion",
                                    "3": "BASE TABLE"
                                },
                                {
                                    "0": "AdventureWorksDW2022-DP500",
                                    "1": "dbo",
                                    "2": "DimAccount",
                                    "3": "BASE TABLE"
                                },
                                {
                                    "0": "AdventureWorksDW2022-DP500",
                                    "1": "dbo",
                                    "2": "DimCurrency",
                                    "3": "BASE TABLE"
                                },
                                {
                                    "0": "AdventureWorksDW2022-DP500",
                                    "1": "dbo",
                                    "2": "DimCustomer",
                                    "3": "BASE TABLE"
                                },
                                {
                                    "0": "AdventureWorksDW2022-DP500",
                                    "1": "dbo",
                                    "2": "DimDate",
                                    "3": "BASE TABLE"
                                },
                                {
                                    "0": "AdventureWorksDW2022-DP500",
                                    "1": "dbo",
                                    "2": "DimDepartmentGroup",
                                    "3": "BASE TABLE"
                                },
                                {
                                    "0": "AdventureWorksDW2022-DP500",
                                    "1": "dbo",
                                    "2": "DimEmployee",
                                    "3": "BASE TABLE"
                                },
                                {
                                    "0": "AdventureWorksDW2022-DP500",
                                    "1": "dbo",
                                    "2": "DimGeography",
                                    "3": "BASE TABLE"
                                },
                                {
                                    "0": "AdventureWorksDW2022-DP500",
                                    "1": "dbo",
                                    "2": "DimOrganization",
                                    "3": "BASE TABLE"
                                },
                                {
                                    "0": "AdventureWorksDW2022-DP500",
                                    "1": "dbo",
                                    "2": "DimProduct",
                                    "3": "BASE TABLE"
                                },
                                {
                                    "0": "AdventureWorksDW2022-DP500",
                                    "1": "dbo",
                                    "2": "DimProductCategory",
                                    "3": "BASE TABLE"
                                },
                                {
                                    "0": "AdventureWorksDW2022-DP500",
                                    "1": "dbo",
                                    "2": "DimProductSubcategory",
                                    "3": "BASE TABLE"
                                },
                                {
                                    "0": "AdventureWorksDW2022-DP500",
                                    "1": "dbo",
                                    "2": "DimPromotion",
                                    "3": "BASE TABLE"
                                },
                                {
                                    "0": "AdventureWorksDW2022-DP500",
                                    "1": "dbo",
                                    "2": "DimReseller",
                                    "3": "BASE TABLE"
                                },
                                {
                                    "0": "AdventureWorksDW2022-DP500",
                                    "1": "dbo",
                                    "2": "DimSalesReason",
                                    "3": "BASE TABLE"
                                },
                                {
                                    "0": "AdventureWorksDW2022-DP500",
                                    "1": "dbo",
                                    "2": "DimSalesTerritory",
                                    "3": "BASE TABLE"
                                },
                                {
                                    "0": "AdventureWorksDW2022-DP500",
                                    "1": "dbo",
                                    "2": "DimScenario",
                                    "3": "BASE TABLE"
                                }
                            ]
                        },
                        "text/html": "<table><tr><th>database</th><th>schema</th><th>name</th><th>type</th></tr><tr><td>AdventureWorksDW2022-DP500</td><td>dbo</td><td>FactCallCenter</td><td>BASE TABLE</td></tr><tr><td>AdventureWorksDW2022-DP500</td><td>dbo</td><td>FactCurrencyRate</td><td>BASE TABLE</td></tr><tr><td>AdventureWorksDW2022-DP500</td><td>dbo</td><td>FactFinance</td><td>BASE TABLE</td></tr><tr><td>AdventureWorksDW2022-DP500</td><td>dbo</td><td>FactInternetSales</td><td>BASE TABLE</td></tr><tr><td>AdventureWorksDW2022-DP500</td><td>dbo</td><td>FactInternetSalesReason</td><td>BASE TABLE</td></tr><tr><td>AdventureWorksDW2022-DP500</td><td>dbo</td><td>FactProductInventory</td><td>BASE TABLE</td></tr><tr><td>AdventureWorksDW2022-DP500</td><td>dbo</td><td>FactResellerSales</td><td>BASE TABLE</td></tr><tr><td>AdventureWorksDW2022-DP500</td><td>dbo</td><td>FactSalesQuota</td><td>BASE TABLE</td></tr><tr><td>AdventureWorksDW2022-DP500</td><td>sys</td><td>database_firewall_rules</td><td>VIEW</td></tr><tr><td>AdventureWorksDW2022-DP500</td><td>dbo</td><td>vDMPrep</td><td>VIEW</td></tr><tr><td>AdventureWorksDW2022-DP500</td><td>dbo</td><td>vFactSales</td><td>VIEW</td></tr><tr><td>AdventureWorksDW2022-DP500</td><td>dbo</td><td>vFactSales2</td><td>VIEW</td></tr><tr><td>AdventureWorksDW2022-DP500</td><td>dbo</td><td>vTargetMail</td><td>VIEW</td></tr><tr><td>AdventureWorksDW2022-DP500</td><td>dbo</td><td>vTimeSeries</td><td>VIEW</td></tr><tr><td>AdventureWorksDW2022-DP500</td><td>dbo</td><td>vAssocSeqLineItems</td><td>VIEW</td></tr><tr><td>AdventureWorksDW2022-DP500</td><td>dbo</td><td>vAssocSeqOrders</td><td>VIEW</td></tr><tr><td>AdventureWorksDW2022-DP500</td><td>dbo</td><td>FactInternetSalesRealTime</td><td>BASE TABLE</td></tr><tr><td>AdventureWorksDW2022-DP500</td><td>dbo</td><td>AdventureWorksDWBuildVersion</td><td>BASE TABLE</td></tr><tr><td>AdventureWorksDW2022-DP500</td><td>dbo</td><td>DimAccount</td><td>BASE TABLE</td></tr><tr><td>AdventureWorksDW2022-DP500</td><td>dbo</td><td>DimCurrency</td><td>BASE TABLE</td></tr><tr><td>AdventureWorksDW2022-DP500</td><td>dbo</td><td>DimCustomer</td><td>BASE TABLE</td></tr><tr><td>AdventureWorksDW2022-DP500</td><td>dbo</td><td>DimDate</td><td>BASE TABLE</td></tr><tr><td>AdventureWorksDW2022-DP500</td><td>dbo</td><td>DimDepartmentGroup</td><td>BASE TABLE</td></tr><tr><td>AdventureWorksDW2022-DP500</td><td>dbo</td><td>DimEmployee</td><td>BASE TABLE</td></tr><tr><td>AdventureWorksDW2022-DP500</td><td>dbo</td><td>DimGeography</td><td>BASE TABLE</td></tr><tr><td>AdventureWorksDW2022-DP500</td><td>dbo</td><td>DimOrganization</td><td>BASE TABLE</td></tr><tr><td>AdventureWorksDW2022-DP500</td><td>dbo</td><td>DimProduct</td><td>BASE TABLE</td></tr><tr><td>AdventureWorksDW2022-DP500</td><td>dbo</td><td>DimProductCategory</td><td>BASE TABLE</td></tr><tr><td>AdventureWorksDW2022-DP500</td><td>dbo</td><td>DimProductSubcategory</td><td>BASE TABLE</td></tr><tr><td>AdventureWorksDW2022-DP500</td><td>dbo</td><td>DimPromotion</td><td>BASE TABLE</td></tr><tr><td>AdventureWorksDW2022-DP500</td><td>dbo</td><td>DimReseller</td><td>BASE TABLE</td></tr><tr><td>AdventureWorksDW2022-DP500</td><td>dbo</td><td>DimSalesReason</td><td>BASE TABLE</td></tr><tr><td>AdventureWorksDW2022-DP500</td><td>dbo</td><td>DimSalesTerritory</td><td>BASE TABLE</td></tr><tr><td>AdventureWorksDW2022-DP500</td><td>dbo</td><td>DimScenario</td><td>BASE TABLE</td></tr></table>"
                    },
                    "metadata": {}
                }
            ],
            "execution_count": 1
        },
        {
            "cell_type": "code",
            "source": [
                "SELECT *\r\n",
                "FROM INFORMATION_SCHEMA.COLUMNS\r\n",
                "WHERE COLUMN_NAME LIKE '%Wage%'\r\n",
                ""
            ],
            "metadata": {
                "language": "sql",
                "azdata_cell_guid": "09fac99d-9a6c-4d07-af84-489cbd677fb8"
            },
            "outputs": [
                {
                    "output_type": "display_data",
                    "data": {
                        "text/html": "(1 row affected)"
                    },
                    "metadata": {}
                },
                {
                    "output_type": "display_data",
                    "data": {
                        "text/html": "Total execution time: 00:00:00.227"
                    },
                    "metadata": {}
                },
                {
                    "output_type": "execute_result",
                    "metadata": {},
                    "execution_count": 1,
                    "data": {
                        "application/vnd.dataresource+json": {
                            "schema": {
                                "fields": [
                                    {
                                        "name": "TABLE_CATALOG"
                                    },
                                    {
                                        "name": "TABLE_SCHEMA"
                                    },
                                    {
                                        "name": "TABLE_NAME"
                                    },
                                    {
                                        "name": "COLUMN_NAME"
                                    },
                                    {
                                        "name": "ORDINAL_POSITION"
                                    },
                                    {
                                        "name": "COLUMN_DEFAULT"
                                    },
                                    {
                                        "name": "IS_NULLABLE"
                                    },
                                    {
                                        "name": "DATA_TYPE"
                                    },
                                    {
                                        "name": "CHARACTER_MAXIMUM_LENGTH"
                                    },
                                    {
                                        "name": "CHARACTER_OCTET_LENGTH"
                                    },
                                    {
                                        "name": "NUMERIC_PRECISION"
                                    },
                                    {
                                        "name": "NUMERIC_PRECISION_RADIX"
                                    },
                                    {
                                        "name": "NUMERIC_SCALE"
                                    },
                                    {
                                        "name": "DATETIME_PRECISION"
                                    },
                                    {
                                        "name": "CHARACTER_SET_CATALOG"
                                    },
                                    {
                                        "name": "CHARACTER_SET_SCHEMA"
                                    },
                                    {
                                        "name": "CHARACTER_SET_NAME"
                                    },
                                    {
                                        "name": "COLLATION_CATALOG"
                                    },
                                    {
                                        "name": "COLLATION_SCHEMA"
                                    },
                                    {
                                        "name": "COLLATION_NAME"
                                    },
                                    {
                                        "name": "DOMAIN_CATALOG"
                                    },
                                    {
                                        "name": "DOMAIN_SCHEMA"
                                    },
                                    {
                                        "name": "DOMAIN_NAME"
                                    }
                                ]
                            },
                            "data": [
                                {
                                    "0": "AdventureWorksDW2022-DP500",
                                    "1": "dbo",
                                    "2": "FactCallCenter",
                                    "3": "WageType",
                                    "4": "3",
                                    "5": "NULL",
                                    "6": "NO",
                                    "7": "nvarchar",
                                    "8": "15",
                                    "9": "30",
                                    "10": "NULL",
                                    "11": "NULL",
                                    "12": "NULL",
                                    "13": "NULL",
                                    "14": "NULL",
                                    "15": "NULL",
                                    "16": "UNICODE",
                                    "17": "NULL",
                                    "18": "NULL",
                                    "19": "SQL_Latin1_General_CP1_CI_AS",
                                    "20": "NULL",
                                    "21": "NULL",
                                    "22": "NULL"
                                }
                            ]
                        },
                        "text/html": [
                            "<table>",
                            "<tr><th>TABLE_CATALOG</th><th>TABLE_SCHEMA</th><th>TABLE_NAME</th><th>COLUMN_NAME</th><th>ORDINAL_POSITION</th><th>COLUMN_DEFAULT</th><th>IS_NULLABLE</th><th>DATA_TYPE</th><th>CHARACTER_MAXIMUM_LENGTH</th><th>CHARACTER_OCTET_LENGTH</th><th>NUMERIC_PRECISION</th><th>NUMERIC_PRECISION_RADIX</th><th>NUMERIC_SCALE</th><th>DATETIME_PRECISION</th><th>CHARACTER_SET_CATALOG</th><th>CHARACTER_SET_SCHEMA</th><th>CHARACTER_SET_NAME</th><th>COLLATION_CATALOG</th><th>COLLATION_SCHEMA</th><th>COLLATION_NAME</th><th>DOMAIN_CATALOG</th><th>DOMAIN_SCHEMA</th><th>DOMAIN_NAME</th></tr>",
                            "<tr><td>AdventureWorksDW2022-DP500</td><td>dbo</td><td>FactCallCenter</td><td>WageType</td><td>3</td><td>NULL</td><td>NO</td><td>nvarchar</td><td>15</td><td>30</td><td>NULL</td><td>NULL</td><td>NULL</td><td>NULL</td><td>NULL</td><td>NULL</td><td>UNICODE</td><td>NULL</td><td>NULL</td><td>SQL_Latin1_General_CP1_CI_AS</td><td>NULL</td><td>NULL</td><td>NULL</td></tr>",
                            "</table>"
                        ]
                    }
                }
            ],
            "execution_count": 1
        }
    ]
}