{
 "cells": [
  {
   "cell_type": "markdown",
   "metadata": {},
   "source": [
    "# SQL Server Coding Exercise - Nov 9\n",
    "### Steps to complete exercise\n",
    "---\n",
    "1. Choose one tool ( SQL Server Management Studio (SSMS or Azure data Studio (ADS))\n",
    "1. Review the structure of the **ProductOrders** database\n",
    "1. Review code for understanding on the following SQL syntax\n",
    "    1. Mandatory Objects\n",
    "        1. CREATE FUNCTION\n",
    "        1. CREATE PROCEDURE\n",
    "        1. CREATE VIEW\n",
    "    1. Optional Clauses\n",
    "        1. UNION\n",
    "        1. OVER\n",
    "        1. WITH\n",
    "1. Think about what three different queries you can write that will across all three use all of the mandatory  clauses and at least one of the optional clauses\n",
    "1. Write SQL statements that answer the questions below:\n",
    "    1. Be sure to include the CREATE statement and the SQL query that shows the result of the question\n",
    "    1. write the SQL query\n",
    "#### _Remember: the goal is 5 queries **per student** with the room as a chance to collaborate as needed before engaging your instructor_"
   ]
  },
  {
   "cell_type": "markdown",
   "metadata": {},
   "source": [
    "### How many items are in the largest order?"
   ]
  },
  {
   "cell_type": "code",
   "execution_count": null,
   "metadata": {},
   "outputs": [],
   "source": []
  },
  {
   "cell_type": "markdown",
   "metadata": {},
   "source": [
    "### How many customers are in each state and what count of distinct artists are in each state?"
   ]
  },
  {
   "cell_type": "code",
   "execution_count": null,
   "metadata": {},
   "outputs": [],
   "source": []
  },
  {
   "cell_type": "markdown",
   "metadata": {},
   "source": [
    "### For a given Artist how many orders, units and distinct states  were sold?"
   ]
  },
  {
   "cell_type": "code",
   "execution_count": null,
   "metadata": {},
   "outputs": [],
   "source": []
  },
  {
   "cell_type": "markdown",
   "metadata": {},
   "source": []
  },
  {
   "cell_type": "markdown",
   "metadata": {},
   "source": [
    "### What are the top ten artist by units sold?"
   ]
  },
  {
   "cell_type": "code",
   "execution_count": null,
   "metadata": {},
   "outputs": [],
   "source": []
  },
  {
   "cell_type": "markdown",
   "metadata": {},
   "source": [
    "### What are the top ten artist by dollars ( UnitPrice * Qty) sold?"
   ]
  },
  {
   "cell_type": "code",
   "execution_count": 2,
   "metadata": {},
   "outputs": [],
   "source": []
  }
 ],
 "metadata": {
  "kernelspec": {
   "display_name": "Python 3.9.5 64-bit",
   "language": "python",
   "name": "python3"
  },
  "language_info": {
   "codemirror_mode": {
    "name": "ipython",
    "version": 3
   },
   "file_extension": ".py",
   "mimetype": "text/x-python",
   "name": "python",
   "nbconvert_exporter": "python",
   "pygments_lexer": "ipython3",
   "version": "3.9.5"
  },
  "orig_nbformat": 4,
  "vscode": {
   "interpreter": {
    "hash": "81794d4967e6c3204c66dcd87b604927b115b27c00565d3d43f05ba2f3a2cb0d"
   }
  }
 },
 "nbformat": 4,
 "nbformat_minor": 2
}
