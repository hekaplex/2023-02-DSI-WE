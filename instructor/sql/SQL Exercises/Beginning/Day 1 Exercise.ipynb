{
 "cells": [
  {
   "attachments": {},
   "cell_type": "markdown",
   "metadata": {},
   "source": [
    "# SQL Server Coding Exercise\n",
    "### Steps to complete exercise\n",
    "---\n",
    "1. Choose one tool ( SQL Server Management Studio (SSMS or Azure data Studio (ADS))\n",
    "1. Review code for understanding on teh following SQL syntax\n",
    "    1. Mandatory Clauses\n",
    "        1. JOIN..ON\n",
    "        1. ORDER BY\n",
    "        1. GROUP BY\n",
    "        1. WHERE\n",
    "        1. HAVING\n",
    "    1. Optional Clauses\n",
    "        1. DISTINCT\n",
    "        1. IN\n",
    "        1. LIKE\n",
    "        1. TOP\n",
    "1. Think about what three different queries you can write that will across all three use all of the mandatory  clauses and at least one of the optional clauses\n",
    "1. Each answer will have three parts:\n",
    "    1. Write the business questions commented out in SSMS/in a .sql file in ADS or in a Markdown cell in a notebook in ADS\n",
    "    1. write the SQL query\n",
    "    1. include at least 3 rows of the results in comments in SSMS or save the results in the notebook in ADS\n",
    "#### _Remember: the goal is 3 queries **per student** with the room as a chance to collaborate as needed before engaging your instructor_"
   ]
  },
  {
   "cell_type": "markdown",
   "metadata": {},
   "source": []
  }
 ],
 "metadata": {
  "kernelspec": {
   "display_name": "Python 3.9.5 64-bit",
   "language": "python",
   "name": "python3"
  },
  "language_info": {
   "name": "python",
   "version": "3.9.5"
  },
  "orig_nbformat": 4,
  "vscode": {
   "interpreter": {
    "hash": "81794d4967e6c3204c66dcd87b604927b115b27c00565d3d43f05ba2f3a2cb0d"
   }
  }
 },
 "nbformat": 4,
 "nbformat_minor": 2
}
