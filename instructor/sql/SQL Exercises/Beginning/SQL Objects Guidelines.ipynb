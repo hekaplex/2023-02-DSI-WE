{
 "cells": [
  {
   "attachments": {},
   "cell_type": "markdown",
   "metadata": {},
   "source": [
    "### A Guide to SQL Server Objects\n",
    "\n",
    "\n",
    "| Object | Description | \n",
    "| ----------- | ----------- |\n",
    "| View | Query accessible as table without parameters|\n",
    "| Stored Procedure | abritrary SQL (DDL/DML) with parameters|\n",
    "| Scalar Valued Function (UDF) | column based calculation with parameters |\n",
    "| Table Valued Function UDF (TVF) | view based calculation with parameters |\n",
    "| .SQL Script | abritrary SQL (DDL/DML) with our without parameters |\n",
    "\n",
    "\n"
   ]
  }
 ],
 "metadata": {
  "kernelspec": {
   "display_name": "Python 3.9.5 64-bit",
   "language": "python",
   "name": "python3"
  },
  "language_info": {
   "name": "python",
   "version": "3.9.5"
  },
  "orig_nbformat": 4,
  "vscode": {
   "interpreter": {
    "hash": "81794d4967e6c3204c66dcd87b604927b115b27c00565d3d43f05ba2f3a2cb0d"
   }
  }
 },
 "nbformat": 4,
 "nbformat_minor": 2
}
