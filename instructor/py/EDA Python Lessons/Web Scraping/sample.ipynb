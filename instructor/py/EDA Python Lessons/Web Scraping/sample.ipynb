{
 "cells": [
  {
   "cell_type": "code",
   "execution_count": null,
   "metadata": {},
   "outputs": [],
   "source": [
    "import SouperDuper as SD"
   ]
  },
  {
   "cell_type": "code",
   "execution_count": 2,
   "metadata": {},
   "outputs": [
    {
     "name": "stdout",
     "output_type": "stream",
     "text": [
      "Scooping https://agniyoga.org with encoding: UTF-8:Success!\n"
     ]
    }
   ],
   "source": [
    "corpus = []\n",
    "agniYoga = \"https://agniyoga.org\"\n",
    "\n",
    "tOC = SD.Souper(agniYoga)\n",
    "tOCSoup = tOC.scoop()"
   ]
  },
  {
   "cell_type": "code",
   "execution_count": 3,
   "metadata": {},
   "outputs": [
    {
     "data": {
      "text/plain": [
       "['HTML',\n",
       " '\\n',\n",
       " <html class=\"jsOff wf-inactive\" lang=\"en\">\n",
       " <head>\n",
       " <meta charset=\"utf-8\"/>\n",
       " <link href=\"images/favicon.ico\" rel=\"shortcut icon\" type=\"image/x-icon\"/>\n",
       " <base href=\"https://agniyoga.org/\"/>\n",
       " <script>document.getElementsByTagName('html')[0].className=\"\";</script>\n",
       " <!--[if lt IE 9]>\n",
       " <script src=\"http://html5shiv.googlecode.com/svn/trunk/html5.js\"></script> <![endif]-->\n",
       " <!--\n",
       " <script type=\"text/javascript\" src=\"//use.typekit.net/pmd8liw.js\"></script>\n",
       " \t<script type=\"text/javascript\">try{Typekit.load();}catch(e){}</script>\n",
       " \t<link rel=\"stylesheet\" type=\"text/css\" href=\"code/MyFontsWebfontsKit/MyFontsWebfontsKit.css\">\n",
       "  -->\n",
       " <link href=\"code/ay.css\" media=\"all\" rel=\"stylesheet\" type=\"text/css\"/>\n",
       " <title>Agni Yoga Society, New York | Agni Yoga texts</title>\n",
       " <meta content=\"\" name=\"description\"/>\n",
       " <meta content=\"notranslate\" name=\"google\"/>\n",
       " </head>\n",
       " <body id=\"index\">\n",
       " <script>\n",
       "   (function(i,s,o,g,r,a,m){i['GoogleAnalyticsObject']=r;i[r]=i[r]||function(){\n",
       "   (i[r].q=i[r].q||[]).push(arguments)},i[r].l=1*new Date();a=s.createElement(o),\n",
       "   m=s.getElementsByTagName(o)[0];a.async=1;a.src=g;m.parentNode.insertBefore(a,m)\n",
       "   })(window,document,'script','https://www.google-analytics.com/analytics.js','ga');\n",
       "   ga('create', 'UA-86860298-1', 'auto');\n",
       "   ga('send', 'pageview');\n",
       " </script>\n",
       " <div id=\"wrapper\">\n",
       " <div id=\"contWrap\">\n",
       " <span id=\"menuToggle\"></span>\n",
       " <nav id=\"pageNav\">\n",
       " <a href=\"index.php\"><img alt=\"Agni Yoga Society\" id=\"tays\" src=\"images/ays1.svg\"/></a><br/>\n",
       " <img alt=\"Maitreya Sangha sign\" id=\"sangha\" src=\"images/maitreya-sangha.svg\"/>\n",
       " <p id=\"langRow\"><span data-flag=\"en\">EN</span> <span data-flag=\"ru\">RU</span> <span data-flag=\"es\">ES</span><br/><span data-flag=\"is\">IS</span> <span data-flag=\"it\">IT</span><br/><span class=\"fr\"><a href=\"http://www.lebendige-ethik-schule.de/SchriftenAY.htm\">DE</a></span> <span class=\"fr\"><a href=\"http://fr.agni-yoga.com/telechargement.php\">FR</a></span> <span class=\"nl\"><a href=\"http://www.agniyoga.nl\">NL</a></span><br/><span class=\"pl\"><a href=\"http://ignis.waw.pl\">PL</a></span></p>\n",
       " <ul class=\"en\">\n",
       " <li><a href=\"ay_en/downloads.php\">Download</a></li>\n",
       " <li><a href=\"ay_en/search.php\">Search</a></li>\n",
       " <li><a href=\"ay_en/buy.php\">Buy</a></li>\n",
       " <li class=\"top1\">Read:</li>\n",
       " <li class=\"seriesTitle ethicsTitle\">Agni Yoga Series</li>\n",
       " <li><a href=\"ay_en/Leaves-of-Moryas-Garden-I.php\">Leaves of Morya’s Garden I</a></li>\n",
       " <li><a href=\"ay_en/Leaves-of-Moryas-Garden-II.php\">Leaves of Morya’s Garden II</a></li>\n",
       " <li><a href=\"ay_en/New-Era-Community.php\">New Era Community</a></li>\n",
       " <li class=\"seriesTitle\">Signs of Agni Yoga</li>\n",
       " <li><a href=\"ay_en/Agni-Yoga.php\">Agni Yoga</a></li>\n",
       " <li><a href=\"ay_en/Infinity-I.php\">Infinity I</a></li>\n",
       " <li><a href=\"ay_en/Infinity-II.php\">Infinity II</a></li>\n",
       " <li><a href=\"ay_en/Hierarchy.php\">Hierarchy</a></li>\n",
       " <li><a href=\"ay_en/Heart.php\">Heart</a></li>\n",
       " <li><a href=\"ay_en/Fiery-World-I.php\">Fiery World I</a></li>\n",
       " <li><a href=\"ay_en/Fiery-World-II.php\">Fiery World II</a></li>\n",
       " <li><a href=\"ay_en/Fiery-World-III.php\">Fiery World III</a></li>\n",
       " <li><a href=\"ay_en/Aum.php\">Aum</a></li>\n",
       " <li><a href=\"ay_en/Brotherhood.php\">Brotherhood</a></li>\n",
       " <li><a href=\"ay_en/Supermundane.php\">Supermundane</a></li>\n",
       " <li><img alt=\"divider\" src=\"images/type_emb4.gif\"/></li>\n",
       " <li><a href=\"ay_en/On-Eastern-Crossroads.php\">On Eastern Crossroads</a></li>\n",
       " <li><a href=\"ay_en/Letters-of-Helena-Roerich-I.php\">Letters of Helena Roerich I</a></li>\n",
       " <li><a href=\"ay_en/Letters-of-Helena-Roerich-II.php\">Letters of Helena Roerich II</a></li>\n",
       " <li><a href=\"ay_en/Foundations-of-Buddhism.php\">Foundations of Buddhism</a></li>\n",
       " <li><img alt=\"divider\" src=\"images/type_emb4.gif\"/></li>\n",
       " <li><a href=\"ay_en/Agni-Yoga-Companion.php\">Agni Yoga Companion</a></li>\n",
       " <li><a href=\"ay_en/Agni-Yoga-Glossary.php\">Agni Yoga Glossary</a></li>\n",
       " <li><a href=\"ay_en/study-papers/current-meetings-study-papers.php\"><strong>Current Meetings</strong><br/>&amp; Study Papers</a></li>\n",
       " <li><a href=\"ay_en/compilations/compilations.php\">Compilations</a></li>\n",
       " </ul>\n",
       " </nav>\n",
       " <header>\n",
       " <div>\n",
       " <img alt=\"Maitreya Sangha sign\" id=\"sangha\" src=\"images/maitreya-sangha.svg\"/>\n",
       " <img alt=\"Agni Yoga Society\" id=\"tays\" src=\"images/ays.svg\"/>\n",
       " </div>\n",
       " </header>\n",
       " <section id=\"homeNav\">\n",
       " <p style=\"margin: 0em auto 2em; text-align: center;\"><strong>The ability to discern the real state of things and to see the true colors of people is <em>the basic requirement</em> to enter the Path.</strong><br/><span style=\"display: inline-block; padding-top: .3em; font-size: smaller;\">Helena Roerich</span></p>\n",
       " <nav>\n",
       " <ul id=\"navLeft\">\n",
       " <li id=\"aboutOpener\">About</li>\n",
       " <li class=\"divider\"><img alt=\"divider\" src=\"images/type_emb4.gif\"/></li>\n",
       " <li><a href=\"ay_en/downloads.php\">Download</a></li>\n",
       " <li><a href=\"ay_en/search.php\">Search</a></li>\n",
       " <li><a href=\"ay_en/buy.php\">Buy</a></li>\n",
       " <li class=\"divider\"><img alt=\"divider\" src=\"images/type_emb4.gif\"/></li>\n",
       " <li id=\"langRow\"><span data-flag=\"en\">EN</span> <span data-flag=\"ru\">RU</span> <span data-flag=\"es\">ES</span><br/><span data-flag=\"is\">IS</span> <span data-flag=\"it\">IT</span><br/><span class=\"fr\"><a href=\"http://www.lebendige-ethik-schule.de/SchriftenAY.htm\">DE</a></span> <span class=\"fr\"><a href=\"http://fr.agni-yoga.com/telechargement.php\">FR</a></span> <span class=\"nl\"><a href=\"http://www.agniyoga.nl\">NL</a></span><br/><span class=\"pl\"><a href=\"http://ignis.waw.pl\">PL</a></span></li>\n",
       " <li><img alt=\"divider\" src=\"images/type_emb4.gif\"/></li>\n",
       " <li><a href=\"ay_en/Agni-Yoga-Companion.php\">Agni Yoga Companion</a></li>\n",
       " <li><a href=\"ay_en/Agni-Yoga-Glossary.php\">Agni Yoga Glossary</a></li>\n",
       " <li><a href=\"ay_en/study-papers/current-meetings-study-papers.php\"><strong>Current Meetings</strong><br/>&amp; Study Papers</a></li>\n",
       " </ul>\n",
       " <ul id=\"navRight\">\n",
       " <li class=\"seriesTitle ethicsTitle\">Agni Yoga Series:</li>\n",
       " <li><a href=\"ay_en/Leaves-of-Moryas-Garden-I.php\">Leaves of Morya's Garden I</a></li>\n",
       " <li><a href=\"ay_en/Leaves-of-Moryas-Garden-II.php\">Leaves of Morya's Garden II</a></li>\n",
       " <li><a href=\"ay_en/New-Era-Community.php\">New Era Community</a></li>\n",
       " <li class=\"seriesTitle\">Signs of Agni Yoga</li>\n",
       " <li><a href=\"ay_en/Agni-Yoga.php\">Agni Yoga</a></li>\n",
       " <li><a href=\"ay_en/Infinity-I.php\">Infinity I</a></li>\n",
       " <li><a href=\"ay_en/Infinity-II.php\">Infinity II</a></li>\n",
       " <li><a href=\"ay_en/Hierarchy.php\">Hierarchy</a></li>\n",
       " <li><a href=\"ay_en/Heart.php\">Heart</a></li>\n",
       " <li><a href=\"ay_en/Fiery-World-I.php\">Fiery World I</a></li>\n",
       " <li><a href=\"ay_en/Fiery-World-II.php\">Fiery World II</a></li>\n",
       " <li><a href=\"ay_en/Fiery-World-III.php\">Fiery World III</a></li>\n",
       " <li><a href=\"ay_en/Aum.php\">Aum</a></li>\n",
       " <li><a href=\"ay_en/Brotherhood.php\">Brotherhood</a></li>\n",
       " <li><a href=\"ay_en/Supermundane.php\">Supermundane</a></li>\n",
       " <li class=\"divider\"><img alt=\"divider\" src=\"images/type_emb4.gif\"/></li>\n",
       " <li><a href=\"ay_en/On-Eastern-Crossroads.php\">On Eastern Crossroads</a></li>\n",
       " <li><a href=\"ay_en/Letters-of-Helena-Roerich-I.php\">Letters of Helena Roerich I</a></li>\n",
       " <li><a href=\"ay_en/Letters-of-Helena-Roerich-II.php\">Letters of Helena Roerich II</a></li>\n",
       " <li><a href=\"ay_en/Foundations-of-Buddhism.php\">Foundations of Buddhism</a></li>\n",
       " </ul>\n",
       " </nav>\n",
       " </section>\n",
       " <section id=\"about\">\n",
       " <p>The Agni Yoga Society was founded in 1920 by Nicholas Roerich and his wife Helena. It is a non-profit educational institution incorporated in 1944 under the laws of the State of New York, and is supported entirely by voluntary contributions and membership dues.</p>\n",
       " <p>The aims of the Society are embodied in the philosophy that gives it its name—Agni Yoga—as contained in the books of the Agni Yoga Series published by the Society. In them is found a synthesis of ancient Eastern beliefs and modern Western thought and a bridge between the spiritual and the scientific. Unlike previous yogas, Agni Yoga is a path not of physical disciplines, meditation, or asceticism—but of practice in daily life. It is the yoga of fiery energy, of consciousness, of responsible, directed thought. It teaches that the evolution of the planetary consciousness is a pressing necessity and that, through individual striving, it is an attainable aspiration for mankind. It affirms the existence of the Hierarchy of Light and the center of the Heart as the link with the Hierarchy and with the far-off worlds. Though not systematized in an ordinary sense, Agni Yoga is a Teaching that helps the discerning student to discover moral and spiritual guide-posts by which to learn to govern his or her life and thus contribute to the Common Good. For this reason Agni Yoga has been called a “living ethics.”</p>\n",
       " <p>Speaking about the individual’s role in human spiritual evolution, Helena Roerich wrote, “the greatest benefit that we can contribute consists in the broadening of consciousness, and the improvement and enrichment of our thinking, which, together with the purification of the heart, strengthens our emanations. And thus, raising our vibrations, we restore the health of all that surrounds us.”</p>\n",
       " <p>The Agni Yoga Society has little formal structure. There are no schools, no study courses, no classes.\n",
       " Similarly, the Society has no formally affiliated organizations or groups. However, individuals or groups around the world who are independently involved in the study of the Teaching do usually establish contact with the Society. This results in a structure that is completely voluntary and free, with no group exerting control over others. Yet we welcome correspondence from those who need information or help, or from groups that ask about organizational matters.</p>\n",
       " <p>The Society publishes the books of the Agni Yoga Series, re-editing and issuing new editions as necessary. On our website we offer these texts for free reading and downloading under the principle that the Teaching should be available to everyone.The continuous work on these texts involves the cooperative collaboration of various volunteers and helpers in several countries. The cost is borne entirely by the Society. Any donations to this work are welcome.</p>\n",
       " <form action=\"https://www.paypal.com/cgi-bin/webscr\" method=\"post\" style=\"margin-top: 1em;\" target=\"_top\">\n",
       " <input name=\"cmd\" type=\"hidden\" value=\"_s-xclick\"/>\n",
       " <input name=\"hosted_button_id\" type=\"hidden\" value=\"7HSV3YSESFGBU\"/>\n",
       " <input alt=\"PayPal - The safer, easier way to pay online!\" name=\"submit\" src=\"https://www.paypalobjects.com/en_US/i/btn/btn_donate_SM.gif\" type=\"image\"/>\n",
       " <img alt=\"Paypal button\" height=\"1\" src=\"https://www.paypalobjects.com/en_US/i/scr/pixel.gif\" width=\"1\"/>\n",
       " </form>\n",
       " <p class=\"top2\">The Agni Yoga Society can be reached in various ways:</p>\n",
       " <p><em>Email:</em> <script><!--\n",
       " var v2=\"URHAG3Y52ZNFMI6PVRBG\";var v7=unescape(\"%3C%3C94.A%20uS%3D%20/4%26Q1x%3D0%20\");var v5=v2.length;var v1=\"\";for(var v4=0;v4<v5;v4++){v1+=String.fromCharCode(v2.charCodeAt(v4)^v7.charCodeAt(v4));}document.write('<a class=\"hidemail\" href=\"javascript:void(0)\" onclick=\"window.location=\\'mail\\u0074o\\u003a'+v1+'?subject='+'\\'\">'+'email<\\/a>');\n",
       " //--></script>\n",
       " </p>\n",
       " <p><em>Phone:</em>1 212 864 7752</p>\n",
       " <p><em>Mail:</em><br/>\n",
       " Agni Yoga Society<br/>\n",
       " 319 West 107th Street<br/>\n",
       " New York NY 10025<br/>\n",
       " USA</p>\n",
       " <p>The Society is open to the public six days a week:<br/><em>Tuesday through Friday, from noon to 5 p.m.,</em><br/><em>Saturday and Sunday, from 2 to 5 p.m.,</em><br/>for inquiries or the purchase of books. For information about public transportation to the premises, or about any other matter, please call or email.</p>\n",
       " </section>\n",
       " </div>\n",
       " <footer>\n",
       " <div>\n",
       " <p>Agni Yoga Society<br/><span class=\"ru\">Общество Агни-Йоги<br/></span>319 West 107th Street, New York, NY 10025<br/>\n",
       " phone (212) 864-7752 · <script><!--\n",
       " var v2=\"URHAG3Y52ZNFMI6PVRBG\";var v7=unescape(\"%3C%3C94.A%20uS%3D%20/4%26Q1x%3D0%20\");var v5=v2.length;var v1=\"\";for(var v4=0;v4<v5;v4++){v1+=String.fromCharCode(v2.charCodeAt(v4)^v7.charCodeAt(v4));}document.write('<a class=\"hidemail\" href=\"javascript:void(0)\" onclick=\"window.location=\\'mail\\u0074o\\u003a'+v1+'?subject='+'\\'\">'+'email<\\/a>');\n",
       " //--></script>\n",
       " </p>\n",
       " </div>\n",
       " </footer>\n",
       " </div>\n",
       " <!-- <script src=\"http://code.jquery.com/jquery-1.12.3.min.js\"></script> -->\n",
       " <!-- https://code.jquery.com/jquery-migrate-1.4.1.min.js -->\n",
       " <!-- <script src=\"https://code.jquery.com/jquery-3.1.1.min.js\"></script> -->\n",
       " <script src=\"https://ajax.googleapis.com/ajax/libs/jquery/3.6.1/jquery.min.js\"></script>\n",
       " <!-- <script src=\"code/jquery-migrate-3.0.0.js\"></script> -->\n",
       " <!-- <script src=\"code/lib/add.min.js\"></script> -->\n",
       " <script src=\"code/ay.js\"></script>\n",
       " </body>\n",
       " </html>]"
      ]
     },
     "execution_count": 3,
     "metadata": {},
     "output_type": "execute_result"
    }
   ],
   "source": [
    "tOCSoup.contents\n"
   ]
  },
  {
   "cell_type": "code",
   "execution_count": 4,
   "metadata": {},
   "outputs": [],
   "source": [
    "corpus = []\n",
    "for s in tOCSoup.find_all(\"ul\",attrs={\"id\":\"navRight\"}):\n",
    "    for lnk in s.findAll(\"a\"):\n",
    "        corpus.append(agniYoga+\"/\"+lnk.get(\"href\"))  "
   ]
  },
  {
   "cell_type": "code",
   "execution_count": 5,
   "metadata": {},
   "outputs": [
    {
     "data": {
      "text/plain": [
       "['https://agniyoga.org/ay_en/Leaves-of-Moryas-Garden-I.php',\n",
       " 'https://agniyoga.org/ay_en/Leaves-of-Moryas-Garden-II.php',\n",
       " 'https://agniyoga.org/ay_en/New-Era-Community.php',\n",
       " 'https://agniyoga.org/ay_en/Agni-Yoga.php',\n",
       " 'https://agniyoga.org/ay_en/Infinity-I.php',\n",
       " 'https://agniyoga.org/ay_en/Infinity-II.php',\n",
       " 'https://agniyoga.org/ay_en/Hierarchy.php',\n",
       " 'https://agniyoga.org/ay_en/Heart.php',\n",
       " 'https://agniyoga.org/ay_en/Fiery-World-I.php',\n",
       " 'https://agniyoga.org/ay_en/Fiery-World-II.php',\n",
       " 'https://agniyoga.org/ay_en/Fiery-World-III.php',\n",
       " 'https://agniyoga.org/ay_en/Aum.php',\n",
       " 'https://agniyoga.org/ay_en/Brotherhood.php',\n",
       " 'https://agniyoga.org/ay_en/Supermundane.php',\n",
       " 'https://agniyoga.org/ay_en/On-Eastern-Crossroads.php',\n",
       " 'https://agniyoga.org/ay_en/Letters-of-Helena-Roerich-I.php',\n",
       " 'https://agniyoga.org/ay_en/Letters-of-Helena-Roerich-II.php',\n",
       " 'https://agniyoga.org/ay_en/Foundations-of-Buddhism.php']"
      ]
     },
     "execution_count": 5,
     "metadata": {},
     "output_type": "execute_result"
    }
   ],
   "source": [
    "corpus"
   ]
  },
  {
   "cell_type": "code",
   "execution_count": null,
   "metadata": {},
   "outputs": [],
   "source": []
  }
 ],
 "metadata": {
  "interpreter": {
   "hash": "81794d4967e6c3204c66dcd87b604927b115b27c00565d3d43f05ba2f3a2cb0d"
  },
  "kernelspec": {
   "display_name": "Python 3.9.5 64-bit",
   "language": "python",
   "name": "python3"
  },
  "language_info": {
   "codemirror_mode": {
    "name": "ipython",
    "version": 3
   },
   "file_extension": ".py",
   "mimetype": "text/x-python",
   "name": "python",
   "nbconvert_exporter": "python",
   "pygments_lexer": "ipython3",
   "version": "3.11.1"
  },
  "orig_nbformat": 4
 },
 "nbformat": 4,
 "nbformat_minor": 2
}
