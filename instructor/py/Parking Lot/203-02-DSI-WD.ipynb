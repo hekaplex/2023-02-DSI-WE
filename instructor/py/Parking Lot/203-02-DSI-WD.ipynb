{
 "cells": [
  {
   "cell_type": "code",
   "execution_count": null,
   "metadata": {
    "vscode": {
     "languageId": "plaintext"
    }
   },
   "outputs": [],
   "source": []
  },
  {
   "attachments": {},
   "cell_type": "markdown",
   "metadata": {},
   "source": [
    "### for Apr 22\n",
    "1. KQL to Pandas Translation\n",
    "1. Capstone Dataset Docs\n",
    "1. Security Datasets\n",
    "### for Apr 23\n",
    "1. Python examples for Security\n",
    "1. Deep Learning Introduction\n",
    "1. Recommender Systems\n",
    "1. Sparse Data Representation\n",
    "1. Reinforcement Learning/Advanced Presentation"
   ]
  },
  {
   "cell_type": "markdown",
   "metadata": {},
   "source": []
  }
 ],
 "metadata": {
  "language_info": {
   "name": "python"
  },
  "orig_nbformat": 4
 },
 "nbformat": 4,
 "nbformat_minor": 2
}
