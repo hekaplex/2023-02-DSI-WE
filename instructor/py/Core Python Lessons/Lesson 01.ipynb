{
 "cells": [
  {
   "cell_type": "code",
   "execution_count": 15,
   "metadata": {},
   "outputs": [
    {
     "name": "stdout",
     "output_type": "stream",
     "text": [
      " Volume in drive C has no label.\n",
      " Volume Serial Number is 0CF2-974E\n",
      "\n",
      " Directory of C:\\\n",
      "\n",
      "12/08/2021  03:16 PM    <DIR>          2021_10_DSI_WD\n",
      "02/27/2022  09:05 AM    <DIR>          2021_10_DSI_WE\n",
      "06/12/2022  10:08 AM    <DIR>          2022-02-DSI-WE\n",
      "01/10/2023  12:02 PM    <DIR>          2022-07-DSI-WDX\n",
      "10/05/2022  05:12 PM    <DIR>          2022-10-DSI-WD\n",
      "10/31/2022  07:47 AM    <DIR>          2022-11--DSI-WDX\n",
      "01/22/2023  08:57 PM    <DIR>          2022-11-DSI-WDX\n",
      "10/13/2022  01:41 PM    <DIR>          202207DSIWDX\n",
      "10/15/2022  12:09 AM    <DIR>          202208DSIWD\n",
      "03/09/2022  01:35 PM    <DIR>          2022_01_DSI_WD\n",
      "02/23/2022  04:34 PM    <DIR>          2022_01_DSI_WD-lastknowngood\n",
      "05/16/2022  12:44 PM    <DIR>          2022_03_DSI_WD\n",
      "04/29/2023  12:01 PM    <DIR>          2023-02-DSI-WE\n",
      "11/04/2022  02:45 PM    <DIR>          Advanced-Analytics-with-R-and-Tableau\n",
      "04/25/2023  07:55 AM    <DIR>          advanced-data-engineering-with-databricks-published\n",
      "04/25/2023  07:34 AM           305,143 advanced-data-engineering-with-databricks-published.zip\n",
      "01/05/2023  09:46 AM    <DIR>          Advanced_Analytics\n",
      "11/20/2022  03:34 PM    <DIR>          alignmystars.com\n",
      "06/18/2022  08:21 AM    <DIR>          arsnumerica\n",
      "08/01/2022  08:58 PM    <DIR>          Art\n",
      "03/28/2023  10:51 AM    <DIR>          Azure Databricks\n",
      "02/23/2022  04:36 PM    <DIR>          backup\n",
      "03/05/2022  09:31 PM    <DIR>          bootstrap\n",
      "02/01/2023  09:12 AM    <DIR>          BSN-fantasy-league-\n",
      "12/29/2022  11:45 PM    <DIR>          Clevo\n",
      "01/06/2021  10:39 AM    <DIR>          ComboKey\n",
      "01/08/2022  08:16 AM    <DIR>          Customer360\n",
      "02/13/2021  01:22 AM    <DIR>          cygwin64\n",
      "01/27/2023  01:59 PM    <DIR>          databricks\n",
      "04/25/2023  09:04 AM    <DIR>          Databricks-Gainwell\n",
      "01/10/2023  04:41 PM    <DIR>          Dataiku\n",
      "01/05/2023  07:30 PM    <DIR>          DeepLearning\n",
      "01/05/2023  07:37 PM    <DIR>          DFWPythoneersIntroDeepLearning\n",
      "01/20/2023  12:19 PM    <DIR>          DIAD\n",
      "10/18/2021  11:46 AM    <DIR>          DIAD202110\n",
      "01/24/2022  12:15 PM    <DIR>          DIAD202201\n",
      "04/06/2022  04:04 PM    <DIR>          DIAD202204\n",
      "10/10/2022  01:20 PM    <DIR>          DIAD202208\n",
      "11/14/2022  01:35 PM    <DIR>          DIAD_202211\n",
      "02/01/2023  09:31 AM    <DIR>          Distika_Mess\n",
      "02/13/2023  12:21 PM    <DIR>          distika_old\n",
      "10/12/2022  01:37 PM    <DIR>          divergence\n",
      "09/06/2022  12:30 AM    <DIR>          Divergence_DSI_40\n",
      "09/21/2022  01:45 PM    <DIR>          dp500\n",
      "10/05/2022  10:22 AM           720,375 DSI397.png\n",
      "04/05/2023  08:02 PM            12,288 DumpStack.log\n",
      "11/03/2022  12:59 AM    <DIR>          ffmpeg\n",
      "02/20/2023  07:50 PM    <DIR>          flutter_101\n",
      "11/02/2022  12:37 PM    <DIR>          h2o\n",
      "11/05/2022  01:48 AM    <DIR>          Hadoop\n",
      "12/21/2022  12:15 AM    <DIR>          hekahnsw\n",
      "11/05/2022  12:11 AM    <DIR>          hekaplex\n",
      "03/15/2022  10:27 AM    <DIR>          hierarchy\n",
      "04/26/2023  03:49 PM    <DIR>          HMS-Databricks\n",
      "04/25/2023  08:05 AM    <DIR>          HMSDatabricks\n",
      "11/13/2022  01:51 AM    <DIR>          HSPC\n",
      "02/12/2021  10:08 PM    <DIR>          java\n",
      "04/11/2023  06:39 AM    <DIR>          Kaggle\n",
      "04/27/2023  08:37 AM    <DIR>          Koantek\n",
      "12/19/2022  08:21 AM    <DIR>          LearningSparkV2-master\n",
      "04/27/2022  01:52 AM    <DIR>          lfs_worst\n",
      "05/05/2021  06:01 AM    <DIR>          logs\n",
      "08/28/2022  03:47 PM    <DIR>          MadmanminkinMLUnderground\n",
      "03/14/2023  07:57 PM    <DIR>          MadManMinkinPythonUnderground\n",
      "05/21/2021  02:29 PM    <DIR>          mlpbix\n",
      "03/04/2022  04:40 PM    <DIR>          ML_PBIX\n",
      "08/28/2022  03:38 PM    <DIR>          MMLU\n",
      "03/31/2023  03:45 PM    <DIR>          msticpy-training\n",
      "08/28/2022  03:46 PM    <DIR>          New folder\n",
      "10/05/2021  02:43 PM    <DIR>          New folder (2)\n",
      "12/12/2022  11:41 PM    <DIR>          nginx-1.23.2\n",
      "12/30/2022  01:22 AM    <DIR>          Novozymes\n",
      "03/22/2023  04:58 AM               260 NvContainerRecoveryNvContainerLocalSystem.reg\n",
      "04/21/2023  05:08 AM               276 NvContainerRecoveryNVDisplay.ContainerLocalSystem.reg\n",
      "05/20/2022  05:22 PM    <DIR>          PartitionPractice\n",
      "09/05/2022  10:44 AM    <DIR>          Partner Solutions - DS, AI Bootcamp\n",
      "03/10/2022  03:45 PM    <DIR>          pBI_extract\n",
      "02/24/2023  11:57 AM    <DIR>          PennFoster\n",
      "05/07/2022  12:24 AM    <DIR>          PerfLogs\n",
      "01/28/2023  03:54 PM    <DIR>          PL-300\n",
      "07/10/2022  03:09 PM    <DIR>          podvig\n",
      "06/08/2021  03:08 PM    <DIR>          PowerBI_AdvM\n",
      "08/04/2022  12:50 AM    <DIR>          PredixionReadmissionInsight\n",
      "04/21/2023  02:42 AM    <DIR>          Program Files\n",
      "03/15/2023  04:33 AM    <DIR>          Program Files (x86)\n",
      "11/02/2022  10:55 PM    <DIR>          pysim\n",
      "05/06/2021  06:08 PM    <DIR>          Python39\n",
      "05/17/2021  02:38 PM             4,424 r.txt\n",
      "05/09/2022  10:24 AM    <DIR>          REDO_2022_03_DSI_WD\n",
      "12/09/2021  11:48 AM    <DIR>          repos\n",
      "11/05/2022  12:32 AM    <DIR>          rtools42\n",
      "05/13/2022  04:03 PM    <DIR>          samples\n",
      "03/22/2022  09:20 AM    <DIR>          sample_folder\n",
      "12/08/2021  03:25 PM    <DIR>          scratch\n",
      "11/05/2022  02:14 AM    <DIR>          spark322_hadoop27\n",
      "08/11/2022  04:22 PM    <DIR>          SpikeRecorder.Win32.20171103\n",
      "05/24/2022  12:17 PM    <DIR>          sql-server-samples-master\n",
      "05/24/2022  12:11 PM       251,726,716 sql-server-samples-master.zip\n",
      "11/17/2022  04:52 AM    <DIR>          SQL2022\n",
      "11/18/2022  01:31 PM    <DIR>          sqljdbc\n",
      "07/10/2021  03:44 PM    <DIR>          src\n",
      "07/17/2021  03:11 PM    <DIR>          src_dsi_we\n",
      "01/05/2023  08:19 PM    <DIR>          stable-diffusion\n",
      "12/30/2022  01:50 AM    <DIR>          StreetSmartDataScience\n",
      "11/05/2022  07:17 AM    <DIR>          StreetSmartTableauRSpark\n",
      "09/05/2022  12:06 AM    <DIR>          subtlerealm\n",
      "08/03/2021  12:59 PM    <DIR>          sub_bak_1300\n",
      "11/03/2022  03:56 AM    <DIR>          swig\n",
      "02/15/2021  01:45 AM    <DIR>          SysinternalsSuite\n",
      "12/13/2022  09:43 PM    <DIR>          temp\n",
      "04/02/2023  06:17 PM    <DIR>          tkt\n",
      "03/04/2022  03:52 PM    <DIR>          tmp\n",
      "06/21/2022  08:21 AM             1,634 tracelog.txt\n",
      "10/15/2022  12:17 AM    <DIR>          transcribunal\n",
      "09/10/2022  08:40 AM    <DIR>          Users\n",
      "04/13/2023  07:05 PM    <DIR>          Windows\n",
      "12/12/2022  11:51 PM    <DIR>          www\n",
      "12/12/2022  10:57 PM    <DIR>          xampp\n",
      "05/14/2022  03:59 AM    <DIR>          XboxGames\n",
      "08/04/2022  07:01 AM    <DIR>          zilliantanalytics.tnb.com\n",
      "09/05/2022  10:44 AM    <DIR>          __MACOSX\n",
      "               8 File(s)    252,771,116 bytes\n",
      "             113 Dir(s)  150,753,370,112 bytes free\n"
     ]
    }
   ],
   "source": [
    "'''\n",
    "multi-line comments\n",
    "created by using\n",
    "three single quotes\n",
    "'''\n",
    "var = 'C:\\\\' #single line commment - set variable and use special character for '\\'\n",
    "\n",
    "#Ex: passing Python variable to Shell\n",
    "!dir $var"
   ]
  },
  {
   "cell_type": "code",
   "execution_count": 13,
   "metadata": {},
   "outputs": [
    {
     "name": "stdout",
     "output_type": "stream",
     "text": [
      "Core\\ Python.md   Lesson\\ 03.ipynb  movies.csv\t\tpythoneers.txt\n",
      "Lesson\\ 01.ipynb  contacts.csv\t    my_dict2_items.csv\ttest.ipynb\n",
      "Lesson\\ 02.ipynb  members.txt\t    my_dict2_items.tsv\ttest.py\n"
     ]
    }
   ],
   "source": [
    "%%sh\n",
    "dir"
   ]
  },
  {
   "cell_type": "code",
   "execution_count": 12,
   "metadata": {},
   "outputs": [
    {
     "ename": "SyntaxError",
     "evalue": "unterminated string literal (detected at line 1) (3304382161.py, line 1)",
     "output_type": "error",
     "traceback": [
      "\u001b[1;36m  Cell \u001b[1;32mIn [12], line 1\u001b[1;36m\u001b[0m\n\u001b[1;33m    newvar = \"tab\\treturn\\n quotes\" '\"\u001b[0m\n\u001b[1;37m                                    ^\u001b[0m\n\u001b[1;31mSyntaxError\u001b[0m\u001b[1;31m:\u001b[0m unterminated string literal (detected at line 1)\n"
     ]
    }
   ],
   "source": [
    "newvar = \"tab\\treturn\\n quotes\" '\""
   ]
  },
  {
   "cell_type": "code",
   "execution_count": 11,
   "metadata": {},
   "outputs": [
    {
     "name": "stdout",
     "output_type": "stream",
     "text": [
      "tab\treturn\n",
      " quotes\" '\n"
     ]
    }
   ],
   "source": [
    "print(newvar)"
   ]
  },
  {
   "cell_type": "code",
   "execution_count": 14,
   "metadata": {},
   "outputs": [
    {
     "name": "stdout",
     "output_type": "stream",
     "text": [
      "C:\\\n"
     ]
    }
   ],
   "source": [
    "print(var)"
   ]
  },
  {
   "cell_type": "code",
   "execution_count": 5,
   "metadata": {},
   "outputs": [
    {
     "data": {
      "text/markdown": [
       "# test\n"
      ],
      "text/plain": [
       "<IPython.core.display.Markdown object>"
      ]
     },
     "metadata": {},
     "output_type": "display_data"
    }
   ],
   "source": [
    "%%markdown\n",
    "# test"
   ]
  },
  {
   "cell_type": "code",
   "execution_count": 16,
   "metadata": {},
   "outputs": [],
   "source": [
    "#Ex: Python variable to Shell & output of shell to Python\n",
    "foo = !dir $var"
   ]
  },
  {
   "cell_type": "code",
   "execution_count": 18,
   "metadata": {},
   "outputs": [
    {
     "data": {
      "text/plain": [
       "IPython.utils.text.SList"
      ]
     },
     "execution_count": 18,
     "metadata": {},
     "output_type": "execute_result"
    }
   ],
   "source": [
    "type(foo)"
   ]
  },
  {
   "cell_type": "code",
   "execution_count": 22,
   "metadata": {},
   "outputs": [
    {
     "data": {
      "text/plain": [
       "['10/31/2022  07:47 AM    <DIR>          2022-11--DSI-WDX',\n",
       " '01/22/2023  08:57 PM    <DIR>          2022-11-DSI-WDX',\n",
       " '10/13/2022  01:41 PM    <DIR>          202207DSIWDX',\n",
       " '10/15/2022  12:09 AM    <DIR>          202208DSIWD',\n",
       " '03/09/2022  01:35 PM    <DIR>          2022_01_DSI_WD',\n",
       " '02/23/2022  04:34 PM    <DIR>          2022_01_DSI_WD-lastknowngood',\n",
       " '05/16/2022  12:44 PM    <DIR>          2022_03_DSI_WD',\n",
       " '04/29/2023  12:01 PM    <DIR>          2023-02-DSI-WE',\n",
       " '11/04/2022  02:45 PM    <DIR>          Advanced-Analytics-with-R-and-Tableau',\n",
       " '04/25/2023  07:55 AM    <DIR>          advanced-data-engineering-with-databricks-published']"
      ]
     },
     "execution_count": 22,
     "metadata": {},
     "output_type": "execute_result"
    }
   ],
   "source": [
    "foo[10:20]"
   ]
  },
  {
   "cell_type": "code",
   "execution_count": null,
   "metadata": {},
   "outputs": [],
   "source": [
    "var"
   ]
  },
  {
   "cell_type": "code",
   "execution_count": null,
   "metadata": {},
   "outputs": [],
   "source": [
    "#Ex. code may have \"import pandas\"\n",
    "!pip install pandas"
   ]
  },
  {
   "cell_type": "code",
   "execution_count": null,
   "metadata": {},
   "outputs": [],
   "source": [
    "!pip install --upgrade pip --user"
   ]
  },
  {
   "cell_type": "code",
   "execution_count": 23,
   "metadata": {},
   "outputs": [
    {
     "name": "stdout",
     "output_type": "stream",
     "text": [
      "Hello Andrew\n"
     ]
    }
   ],
   "source": [
    "#data types and input function\n",
    "name = input(\"please type name\")\n",
    "print(\"Hello \"+ name)"
   ]
  },
  {
   "cell_type": "code",
   "execution_count": 24,
   "metadata": {},
   "outputs": [
    {
     "data": {
      "text/plain": [
       "'Andrew'"
      ]
     },
     "execution_count": 24,
     "metadata": {},
     "output_type": "execute_result"
    }
   ],
   "source": [
    "name"
   ]
  },
  {
   "cell_type": "code",
   "execution_count": null,
   "metadata": {},
   "outputs": [],
   "source": [
    "# print function\n",
    "print(\"Hello \"+ name)"
   ]
  },
  {
   "cell_type": "code",
   "execution_count": 25,
   "metadata": {},
   "outputs": [
    {
     "data": {
      "text/plain": [
       "34"
      ]
     },
     "execution_count": 25,
     "metadata": {},
     "output_type": "execute_result"
    }
   ],
   "source": [
    "x = 12\n",
    "y = 22\n",
    "x + y"
   ]
  },
  {
   "cell_type": "code",
   "execution_count": 26,
   "metadata": {},
   "outputs": [
    {
     "data": {
      "text/plain": [
       "int"
      ]
     },
     "execution_count": 26,
     "metadata": {},
     "output_type": "execute_result"
    }
   ],
   "source": [
    "type(x)"
   ]
  },
  {
   "cell_type": "code",
   "execution_count": null,
   "metadata": {},
   "outputs": [],
   "source": [
    "type(name)"
   ]
  },
  {
   "cell_type": "code",
   "execution_count": 29,
   "metadata": {},
   "outputs": [
    {
     "name": "stdout",
     "output_type": "stream",
     "text": [
      "Hello howdy\n",
      "Hello howdy\n",
      "Hello howdy\n",
      "Hello howdy\n",
      "Hello howdy\n",
      "Hello howdy\n",
      "Hello howdy\n",
      "\n"
     ]
    }
   ],
   "source": [
    "#ASCII art\n",
    "name = input(\"please type name\")\n",
    "#convert from str to int\n",
    "repeat = int(input(\"number of repeats\"))\n",
    "#add a return special character \n",
    "core_string = \"Hello \"+name+\"\\n\"\n",
    "print(core_string * repeat)"
   ]
  },
  {
   "cell_type": "markdown",
   "metadata": {},
   "source": [
    "# Assignment\n",
    "* create a variable for a string\n",
    "* use an input\n",
    "* repeat string a number of times from the input\n",
    "\n",
    "OR\n",
    "\n",
    "* code using any Python and scripting we've learn"
   ]
  },
  {
   "cell_type": "code",
   "execution_count": null,
   "metadata": {},
   "outputs": [],
   "source": []
  }
 ],
 "metadata": {
  "kernelspec": {
   "display_name": "Python 3.9.5 64-bit",
   "language": "python",
   "name": "python3"
  },
  "language_info": {
   "codemirror_mode": {
    "name": "ipython",
    "version": 3
   },
   "file_extension": ".py",
   "mimetype": "text/x-python",
   "name": "python",
   "nbconvert_exporter": "python",
   "pygments_lexer": "ipython3",
   "version": "3.11.1"
  },
  "orig_nbformat": 4,
  "vscode": {
   "interpreter": {
    "hash": "81794d4967e6c3204c66dcd87b604927b115b27c00565d3d43f05ba2f3a2cb0d"
   }
  }
 },
 "nbformat": 4,
 "nbformat_minor": 2
}
