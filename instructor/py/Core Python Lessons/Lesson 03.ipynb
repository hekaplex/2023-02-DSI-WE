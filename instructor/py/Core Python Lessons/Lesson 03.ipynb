{
 "cells": [
  {
   "cell_type": "markdown",
   "metadata": {},
   "source": [
    "### Exercise\n",
    "1. Create a complex data type\n",
    "    1. Use a combination of at least two of these data structure in one variable\n",
    "        1. list\n",
    "        1. dictionary\n",
    "        1. tuple\n",
    "        1. set\n",
    "\n",
    "1. Write two functions\n",
    "    1. Requirements\n",
    "        1. Use exception handling\n",
    "    1. one function that reads a file from the complex data type\n",
    "    1. one function that writes a file from the complex data type"
   ]
  },
  {
   "cell_type": "code",
   "execution_count": 1,
   "metadata": {},
   "outputs": [],
   "source": [
    "children =[\"Andrew\",\"Laura\",\"Joe\"]\n"
   ]
  },
  {
   "cell_type": "code",
   "execution_count": 17,
   "metadata": {},
   "outputs": [
    {
     "data": {
      "text/plain": [
       "'r'"
      ]
     },
     "execution_count": 17,
     "metadata": {},
     "output_type": "execute_result"
    }
   ],
   "source": [
    "children[0][3]"
   ]
  },
  {
   "cell_type": "code",
   "execution_count": 2,
   "metadata": {},
   "outputs": [
    {
     "name": "stdout",
     "output_type": "stream",
     "text": [
      "['Andrew', 'Laura', 'Joe']\n",
      "['Andrew', 'Laura']\n"
     ]
    }
   ],
   "source": [
    "print (children)\n",
    "children.pop()\n",
    "print (children)"
   ]
  },
  {
   "cell_type": "code",
   "execution_count": 3,
   "metadata": {},
   "outputs": [
    {
     "name": "stdout",
     "output_type": "stream",
     "text": [
      "['Andrew', 'Laura']\n",
      "['Laura']\n"
     ]
    }
   ],
   "source": [
    "print (children)\n",
    "children.remove('Andrew')\n",
    "print (children)"
   ]
  },
  {
   "cell_type": "code",
   "execution_count": 5,
   "metadata": {},
   "outputs": [
    {
     "data": {
      "text/plain": [
       "False"
      ]
     },
     "execution_count": 5,
     "metadata": {},
     "output_type": "execute_result"
    }
   ],
   "source": [
    "#checking that input is an integer\n",
    "'Lara' in children"
   ]
  },
  {
   "cell_type": "code",
   "execution_count": 6,
   "metadata": {},
   "outputs": [
    {
     "data": {
      "text/plain": [
       "True"
      ]
     },
     "execution_count": 6,
     "metadata": {},
     "output_type": "execute_result"
    }
   ],
   "source": [
    "8 in [1,2,3,4,5,6,7,8,9]"
   ]
  },
  {
   "cell_type": "code",
   "execution_count": 7,
   "metadata": {},
   "outputs": [
    {
     "data": {
      "text/plain": [
       "True"
      ]
     },
     "execution_count": 7,
     "metadata": {},
     "output_type": "execute_result"
    }
   ],
   "source": [
    "\"7\" in [\"1\",\"2\",\"3\",\"4\",\"5\",\"6\",\"7\",\"8\",\"9\",\"0\"]"
   ]
  },
  {
   "cell_type": "code",
   "execution_count": 8,
   "metadata": {},
   "outputs": [
    {
     "data": {
      "text/plain": [
       "False"
      ]
     },
     "execution_count": 8,
     "metadata": {},
     "output_type": "execute_result"
    }
   ],
   "source": [
    "'1234567890' == [\"1\",\"2\",\"3\",\"4\",\"5\",\"6\",\"7\",\"8\",\"9\",\"0\"]"
   ]
  },
  {
   "cell_type": "code",
   "execution_count": 9,
   "metadata": {},
   "outputs": [
    {
     "data": {
      "text/plain": [
       "[1, 2, 3, 4, 5, 6, 7, 8, 9, 0]"
      ]
     },
     "execution_count": 9,
     "metadata": {},
     "output_type": "execute_result"
    }
   ],
   "source": [
    "[int(x) for x in '1234567890']"
   ]
  },
  {
   "cell_type": "code",
   "execution_count": 10,
   "metadata": {},
   "outputs": [
    {
     "data": {
      "text/plain": [
       "True"
      ]
     },
     "execution_count": 10,
     "metadata": {},
     "output_type": "execute_result"
    }
   ],
   "source": [
    "\n",
    "7 in [int(x) for x in '1234567890']"
   ]
  },
  {
   "cell_type": "code",
   "execution_count": 14,
   "metadata": {},
   "outputs": [
    {
     "ename": "TypeError",
     "evalue": "argument of type 'int' is not iterable",
     "output_type": "error",
     "traceback": [
      "\u001b[1;31m---------------------------------------------------------------------------\u001b[0m",
      "\u001b[1;31mTypeError\u001b[0m                                 Traceback (most recent call last)",
      "\u001b[1;32mc:\\2023-02-DSI-WE\\instructor\\py\\Core Python Lessons\\Lesson 03.ipynb Cell 11\u001b[0m in \u001b[0;36m1\n\u001b[1;32m----> <a href='vscode-notebook-cell:/c%3A/2023-02-DSI-WE/instructor/py/Core%20Python%20Lessons/Lesson%2003.ipynb#Y234sZmlsZQ%3D%3D?line=0'>1</a>\u001b[0m \u001b[39m7\u001b[39;49m \u001b[39min\u001b[39;49;00m \u001b[39m1234567890\u001b[39;49m\n",
      "\u001b[1;31mTypeError\u001b[0m: argument of type 'int' is not iterable"
     ]
    }
   ],
   "source": [
    "7 in 1234567890"
   ]
  },
  {
   "cell_type": "code",
   "execution_count": 13,
   "metadata": {},
   "outputs": [
    {
     "ename": "TypeError",
     "evalue": "'in <string>' requires string as left operand, not int",
     "output_type": "error",
     "traceback": [
      "\u001b[1;31m---------------------------------------------------------------------------\u001b[0m",
      "\u001b[1;31mTypeError\u001b[0m                                 Traceback (most recent call last)",
      "\u001b[1;32mc:\\2023-02-DSI-WE\\instructor\\py\\Core Python Lessons\\Lesson 03.ipynb Cell 11\u001b[0m in \u001b[0;36m1\n\u001b[1;32m----> <a href='vscode-notebook-cell:/c%3A/2023-02-DSI-WE/instructor/py/Core%20Python%20Lessons/Lesson%2003.ipynb#Y233sZmlsZQ%3D%3D?line=0'>1</a>\u001b[0m \u001b[39m7\u001b[39;49m \u001b[39min\u001b[39;49;00m \u001b[39m'\u001b[39;49m\u001b[39m1234567890\u001b[39;49m\u001b[39m'\u001b[39;49m\n",
      "\u001b[1;31mTypeError\u001b[0m: 'in <string>' requires string as left operand, not int"
     ]
    }
   ],
   "source": [
    "7 in '1234567890'"
   ]
  },
  {
   "cell_type": "code",
   "execution_count": 12,
   "metadata": {},
   "outputs": [
    {
     "data": {
      "text/plain": [
       "False"
      ]
     },
     "execution_count": 12,
     "metadata": {},
     "output_type": "execute_result"
    }
   ],
   "source": [
    "str(7) in '1234567890'"
   ]
  },
  {
   "cell_type": "code",
   "execution_count": 17,
   "metadata": {},
   "outputs": [],
   "source": [
    "# With 3 rows and 4 columns\n",
    "students = [[\"Joel\", 85, 95, 70],\n",
    "            [\"Anne\", 95, 100, 100],\n",
    "            [\"Mike\", 77, 70, 80, 85]]\n",
    "# With 3 rows and 3 columns\n",
    "movies = [[\"The Holy Grail\", 1975, 9.99],\n",
    "          [\"Life of Brian\", 1979, 12.30],\n",
    "          [\"The Meaning of Life\", 1983, 7.50]]\n"
   ]
  },
  {
   "cell_type": "code",
   "execution_count": 29,
   "metadata": {},
   "outputs": [],
   "source": [
    "new_movies = [[\"The Holy Grail\", 1975, 9.99],\n",
    "          [\"Life of Brian\", 1979, 12.30],\n",
    "          [\"The Meaning of Life\", 1983, 7.50],\n",
    "          [\"Star Wars\", [1,2,3,4,5,6,7,8,9], 2019, 1000]]"
   ]
  },
  {
   "cell_type": "code",
   "execution_count": 37,
   "metadata": {},
   "outputs": [
    {
     "data": {
      "text/plain": [
       "'The Holy Grail Life of Brian The Meaning of Life Star Wars'"
      ]
     },
     "execution_count": 37,
     "metadata": {},
     "output_type": "execute_result"
    }
   ],
   "source": [
    "\" \".join([new_movies[n][0] for n in range(0,len(new_movies))])"
   ]
  },
  {
   "cell_type": "code",
   "execution_count": 34,
   "metadata": {},
   "outputs": [
    {
     "data": {
      "text/plain": [
       "['1', '2', '3', '4', '5', '6', '7', '8', '9']"
      ]
     },
     "execution_count": 34,
     "metadata": {},
     "output_type": "execute_result"
    }
   ],
   "source": [
    "[str(x) for x in new_movies[3][1]]"
   ]
  },
  {
   "cell_type": "code",
   "execution_count": 35,
   "metadata": {},
   "outputs": [
    {
     "data": {
      "text/plain": [
       "'1 2 3 4 5 6 7 8 9'"
      ]
     },
     "execution_count": 35,
     "metadata": {},
     "output_type": "execute_result"
    }
   ],
   "source": [
    "\" \".join([str(x) for x in new_movies[3][1]])"
   ]
  },
  {
   "cell_type": "code",
   "execution_count": 18,
   "metadata": {},
   "outputs": [
    {
     "data": {
      "text/plain": [
       "85"
      ]
     },
     "execution_count": 18,
     "metadata": {},
     "output_type": "execute_result"
    }
   ],
   "source": [
    "students[2][4]"
   ]
  },
  {
   "cell_type": "code",
   "execution_count": 19,
   "metadata": {},
   "outputs": [
    {
     "data": {
      "text/plain": [
       "int"
      ]
     },
     "execution_count": 19,
     "metadata": {},
     "output_type": "execute_result"
    }
   ],
   "source": [
    "type(students[2][4])"
   ]
  },
  {
   "cell_type": "code",
   "execution_count": 20,
   "metadata": {},
   "outputs": [
    {
     "data": {
      "text/plain": [
       "str"
      ]
     },
     "execution_count": 20,
     "metadata": {},
     "output_type": "execute_result"
    }
   ],
   "source": [
    "type(movies[1][0])"
   ]
  },
  {
   "cell_type": "code",
   "execution_count": 21,
   "metadata": {},
   "outputs": [
    {
     "data": {
      "text/plain": [
       "'1234567890'"
      ]
     },
     "execution_count": 21,
     "metadata": {},
     "output_type": "execute_result"
    }
   ],
   "source": [
    "'1234567890'"
   ]
  },
  {
   "cell_type": "code",
   "execution_count": 22,
   "metadata": {},
   "outputs": [
    {
     "data": {
      "text/plain": [
       "'Life of Brian'"
      ]
     },
     "execution_count": 22,
     "metadata": {},
     "output_type": "execute_result"
    }
   ],
   "source": [
    "movies[1][0]"
   ]
  },
  {
   "cell_type": "code",
   "execution_count": 23,
   "metadata": {},
   "outputs": [
    {
     "data": {
      "text/plain": [
       "['Life', 'of', 'Brian']"
      ]
     },
     "execution_count": 23,
     "metadata": {},
     "output_type": "execute_result"
    }
   ],
   "source": [
    "# str to list\n",
    "lob_list = movies[1][0].split(\" \")\n",
    "lob_list "
   ]
  },
  {
   "cell_type": "code",
   "execution_count": 24,
   "metadata": {},
   "outputs": [
    {
     "data": {
      "text/plain": [
       "3"
      ]
     },
     "execution_count": 24,
     "metadata": {},
     "output_type": "execute_result"
    }
   ],
   "source": [
    "len(lob_list)"
   ]
  },
  {
   "cell_type": "code",
   "execution_count": 26,
   "metadata": {},
   "outputs": [
    {
     "data": {
      "text/plain": [
       "'Life :) !! of :) !! Brian'"
      ]
     },
     "execution_count": 26,
     "metadata": {},
     "output_type": "execute_result"
    }
   ],
   "source": [
    "#list to str\n",
    "\" :) !! \".join(lob_list)"
   ]
  },
  {
   "cell_type": "code",
   "execution_count": 27,
   "metadata": {},
   "outputs": [
    {
     "data": {
      "text/plain": [
       "100"
      ]
     },
     "execution_count": 27,
     "metadata": {},
     "output_type": "execute_result"
    }
   ],
   "source": [
    "students[1][3]"
   ]
  },
  {
   "cell_type": "code",
   "execution_count": 38,
   "metadata": {},
   "outputs": [
    {
     "data": {
      "text/plain": [
       "[['The Holy Grail', 1975, 9.99],\n",
       " ['Life of Brian', 1979, 12.3],\n",
       " ['The Meaning of Life', 1983, 7.5]]"
      ]
     },
     "execution_count": 38,
     "metadata": {},
     "output_type": "execute_result"
    }
   ],
   "source": [
    "movies"
   ]
  },
  {
   "cell_type": "code",
   "execution_count": 18,
   "metadata": {},
   "outputs": [
    {
     "name": "stdout",
     "output_type": "stream",
     "text": [
      "['Kundun', 1997, 4.7]\n"
     ]
    },
    {
     "data": {
      "text/plain": [
       "[['The Holy Grail', 1975, 9.99],\n",
       " ['Life of Brian', 1979, 12.3],\n",
       " ['The Meaning of Life', 1983, 7.5],\n",
       " ['Kundun', 1997, 4.7]]"
      ]
     },
     "execution_count": 18,
     "metadata": {},
     "output_type": "execute_result"
    }
   ],
   "source": [
    "flick = []\n",
    "#build a list\n",
    "flick.append('Kundun')\n",
    "flick.append(1997)\n",
    "flick.append(4.7)\n",
    "print(flick)\n",
    "#adding list as child list to parent list\n",
    "movies.append(flick)\n",
    "movies"
   ]
  },
  {
   "cell_type": "code",
   "execution_count": 40,
   "metadata": {},
   "outputs": [
    {
     "data": {
      "text/plain": [
       "9"
      ]
     },
     "execution_count": 40,
     "metadata": {},
     "output_type": "execute_result"
    }
   ],
   "source": [
    "lssimple =[1,2,7,3,2,2,2,2,None]\n",
    "len(lssimple)"
   ]
  },
  {
   "cell_type": "code",
   "execution_count": 49,
   "metadata": {},
   "outputs": [
    {
     "data": {
      "text/plain": [
       "21"
      ]
     },
     "execution_count": 49,
     "metadata": {},
     "output_type": "execute_result"
    }
   ],
   "source": [
    "sum(lssimple)"
   ]
  },
  {
   "cell_type": "code",
   "execution_count": 43,
   "metadata": {},
   "outputs": [
    {
     "data": {
      "text/plain": [
       "NoneType"
      ]
     },
     "execution_count": 43,
     "metadata": {},
     "output_type": "execute_result"
    }
   ],
   "source": [
    "foo = lssimple[8]\n",
    "type(foo)"
   ]
  },
  {
   "cell_type": "code",
   "execution_count": 44,
   "metadata": {},
   "outputs": [
    {
     "name": "stdout",
     "output_type": "stream",
     "text": [
      "1\n",
      "2\n",
      "7\n",
      "3\n",
      "2\n",
      "2\n",
      "2\n",
      "2\n",
      "None\n"
     ]
    }
   ],
   "source": [
    "for r in range(0,9): print (lssimple[r])"
   ]
  },
  {
   "cell_type": "code",
   "execution_count": 48,
   "metadata": {},
   "outputs": [],
   "source": [
    "lssimple.pop(lssimple.index(None))"
   ]
  },
  {
   "cell_type": "code",
   "execution_count": 45,
   "metadata": {},
   "outputs": [
    {
     "data": {
      "text/plain": [
       "8"
      ]
     },
     "execution_count": 45,
     "metadata": {},
     "output_type": "execute_result"
    }
   ],
   "source": [
    "lssimple.index(None)"
   ]
  },
  {
   "cell_type": "code",
   "execution_count": 50,
   "metadata": {},
   "outputs": [
    {
     "data": {
      "text/plain": [
       "[1, 2, 7, 3, 2, 2, 2, 2]"
      ]
     },
     "execution_count": 50,
     "metadata": {},
     "output_type": "execute_result"
    }
   ],
   "source": [
    "lssimple"
   ]
  },
  {
   "cell_type": "code",
   "execution_count": 51,
   "metadata": {},
   "outputs": [
    {
     "ename": "IndexError",
     "evalue": "list index out of range",
     "output_type": "error",
     "traceback": [
      "\u001b[1;31m---------------------------------------------------------------------------\u001b[0m",
      "\u001b[1;31mIndexError\u001b[0m                                Traceback (most recent call last)",
      "\u001b[1;32mc:\\2023-02-DSI-WE\\instructor\\py\\Core Python Lessons\\Lesson 03.ipynb Cell 38\u001b[0m in \u001b[0;36m1\n\u001b[1;32m----> <a href='vscode-notebook-cell:/c%3A/2023-02-DSI-WE/instructor/py/Core%20Python%20Lessons/Lesson%2003.ipynb#X35sZmlsZQ%3D%3D?line=0'>1</a>\u001b[0m lssimple[\u001b[39m8\u001b[39;49m]\u001b[39m*\u001b[39m\u001b[39m3\u001b[39m\n",
      "\u001b[1;31mIndexError\u001b[0m: list index out of range"
     ]
    }
   ],
   "source": [
    "lssimple[8]*3"
   ]
  },
  {
   "cell_type": "code",
   "execution_count": 53,
   "metadata": {},
   "outputs": [
    {
     "data": {
      "text/plain": [
       "1"
      ]
     },
     "execution_count": 53,
     "metadata": {},
     "output_type": "execute_result"
    }
   ],
   "source": [
    "lssimple.count(7)"
   ]
  },
  {
   "cell_type": "code",
   "execution_count": 54,
   "metadata": {},
   "outputs": [
    {
     "data": {
      "text/plain": [
       "True"
      ]
     },
     "execution_count": 54,
     "metadata": {},
     "output_type": "execute_result"
    }
   ],
   "source": [
    "None == None"
   ]
  },
  {
   "cell_type": "code",
   "execution_count": 55,
   "metadata": {},
   "outputs": [
    {
     "data": {
      "text/plain": [
       "[1, 2, 7, 3, 2, 2, 2, 2]"
      ]
     },
     "execution_count": 55,
     "metadata": {},
     "output_type": "execute_result"
    }
   ],
   "source": [
    "lssimple"
   ]
  },
  {
   "cell_type": "code",
   "execution_count": 56,
   "metadata": {},
   "outputs": [
    {
     "name": "stdout",
     "output_type": "stream",
     "text": [
      "None\n",
      "[2, 2, 2, 2, 3, 7, 2, 1]\n"
     ]
    }
   ],
   "source": [
    "print(lssimple.reverse())\n",
    "print(lssimple)"
   ]
  },
  {
   "cell_type": "code",
   "execution_count": 57,
   "metadata": {},
   "outputs": [
    {
     "data": {
      "text/plain": [
       "[7, 3, 2, 2, 2, 2, 2, 1]"
      ]
     },
     "execution_count": 57,
     "metadata": {},
     "output_type": "execute_result"
    }
   ],
   "source": [
    "lssimplejr = [1, 2, 7, 3, 2, 2, 2, 2]\n",
    "lssimplejr.sort(reverse=True)\n",
    "lssimplejr"
   ]
  },
  {
   "cell_type": "code",
   "execution_count": 58,
   "metadata": {},
   "outputs": [
    {
     "data": {
      "text/plain": [
       "['Laura']"
      ]
     },
     "execution_count": 58,
     "metadata": {},
     "output_type": "execute_result"
    }
   ],
   "source": [
    "children"
   ]
  },
  {
   "cell_type": "code",
   "execution_count": 59,
   "metadata": {},
   "outputs": [
    {
     "data": {
      "text/plain": [
       "'andrew'"
      ]
     },
     "execution_count": 59,
     "metadata": {},
     "output_type": "execute_result"
    }
   ],
   "source": [
    "\"Andrew\".lower()"
   ]
  },
  {
   "cell_type": "code",
   "execution_count": 60,
   "metadata": {},
   "outputs": [
    {
     "data": {
      "text/plain": [
       "['Andrew', 'Joe', 'Laura']"
      ]
     },
     "execution_count": 60,
     "metadata": {},
     "output_type": "execute_result"
    }
   ],
   "source": [
    "children =[\"Andrew\",\"Laura\",\"Joe\"]\n",
    "children.sort(key=str.lower)\n",
    "children"
   ]
  },
  {
   "cell_type": "code",
   "execution_count": 61,
   "metadata": {},
   "outputs": [
    {
     "data": {
      "text/plain": [
       "True"
      ]
     },
     "execution_count": 61,
     "metadata": {},
     "output_type": "execute_result"
    }
   ],
   "source": [
    "\"A\" < \"a\""
   ]
  },
  {
   "cell_type": "code",
   "execution_count": 62,
   "metadata": {},
   "outputs": [
    {
     "data": {
      "text/plain": [
       "['Joe', 'Laura', 'Andrew']"
      ]
     },
     "execution_count": 62,
     "metadata": {},
     "output_type": "execute_result"
    }
   ],
   "source": [
    "children =[\"Andrew\",\"Laura\",\"Joe\"]\n",
    "children.sort(key= len)\n",
    "children"
   ]
  },
  {
   "cell_type": "code",
   "execution_count": 63,
   "metadata": {},
   "outputs": [
    {
     "data": {
      "text/plain": [
       "['Andrew', 'Laura', 'Joe']"
      ]
     },
     "execution_count": 63,
     "metadata": {},
     "output_type": "execute_result"
    }
   ],
   "source": [
    "children =[\"Andrew\",\"Laura\",\"Joe\"]\n",
    "#default order ascending\n",
    "children.sort(key=str.__len__,reverse = True)\n",
    "children"
   ]
  },
  {
   "cell_type": "code",
   "execution_count": null,
   "metadata": {},
   "outputs": [],
   "source": [
    "lssimple.remove(None)\n",
    "print(sum(lssimple))"
   ]
  },
  {
   "cell_type": "code",
   "execution_count": null,
   "metadata": {},
   "outputs": [],
   "source": [
    "lssimple"
   ]
  },
  {
   "cell_type": "code",
   "execution_count": 65,
   "metadata": {},
   "outputs": [
    {
     "name": "stdout",
     "output_type": "stream",
     "text": [
      "[52, 54]\n",
      "[62, 58, 54]\n"
     ]
    }
   ],
   "source": [
    "# slicer syntax\n",
    "#list[start_index:end_index:step]\n",
    "fancy = [52,54,56,58,60,62]\n",
    "print(fancy[0:2])\n",
    "print(fancy[::-2])"
   ]
  },
  {
   "cell_type": "code",
   "execution_count": 66,
   "metadata": {},
   "outputs": [
    {
     "name": "stdout",
     "output_type": "stream",
     "text": [
      "[58, 60, 62]\n"
     ]
    }
   ],
   "source": [
    "print(fancy[-3:])"
   ]
  },
  {
   "cell_type": "code",
   "execution_count": 67,
   "metadata": {},
   "outputs": [
    {
     "name": "stdout",
     "output_type": "stream",
     "text": [
      "[52, 56]\n",
      "[52, 54]\n"
     ]
    }
   ],
   "source": [
    "print(fancy[0:4:2])\n",
    "print(fancy[:2])"
   ]
  },
  {
   "attachments": {},
   "cell_type": "markdown",
   "metadata": {},
   "source": [
    "## Adding and Extending Lists"
   ]
  },
  {
   "cell_type": "code",
   "execution_count": 68,
   "metadata": {},
   "outputs": [
    {
     "name": "stdout",
     "output_type": "stream",
     "text": [
      "['scroll', 'pestle', 'staff', 'robe']\n",
      "['staff', 'robe', 'scroll', 'pestle']\n"
     ]
    }
   ],
   "source": [
    "inv = [\"staff\",\"robe\"]\n",
    "chest = [\"scroll\",\"pestle\"]\n",
    "\n",
    "print(chest + inv)\n",
    "print(inv + chest)"
   ]
  },
  {
   "cell_type": "code",
   "execution_count": 69,
   "metadata": {},
   "outputs": [
    {
     "data": {
      "text/plain": [
       "['scroll', 'pestle', 'staff', 'robe']"
      ]
     },
     "execution_count": 69,
     "metadata": {},
     "output_type": "execute_result"
    }
   ],
   "source": [
    "chest + inv\n"
   ]
  },
  {
   "cell_type": "code",
   "execution_count": 70,
   "metadata": {},
   "outputs": [
    {
     "name": "stdout",
     "output_type": "stream",
     "text": [
      "None\n"
     ]
    }
   ],
   "source": [
    "foo = inv.extend(chest)\n",
    "print(foo)"
   ]
  },
  {
   "cell_type": "code",
   "execution_count": 72,
   "metadata": {},
   "outputs": [
    {
     "data": {
      "text/plain": [
       "['scroll', 'pestle']"
      ]
     },
     "execution_count": 72,
     "metadata": {},
     "output_type": "execute_result"
    }
   ],
   "source": [
    "chest"
   ]
  },
  {
   "cell_type": "code",
   "execution_count": 73,
   "metadata": {},
   "outputs": [],
   "source": [
    "inv.append(\"silver dagger\")"
   ]
  },
  {
   "cell_type": "code",
   "execution_count": 76,
   "metadata": {},
   "outputs": [],
   "source": [
    "inv.append(chest)"
   ]
  },
  {
   "cell_type": "code",
   "execution_count": 83,
   "metadata": {},
   "outputs": [],
   "source": [
    "inv.extend(movies)"
   ]
  },
  {
   "cell_type": "code",
   "execution_count": 84,
   "metadata": {},
   "outputs": [
    {
     "data": {
      "text/plain": [
       "['staff',\n",
       " 'robe',\n",
       " ['scroll', 'pestle'],\n",
       " 'scroll',\n",
       " 'pestle',\n",
       " ['The Holy Grail', 1975, 9.99],\n",
       " ['Life of Brian', 1979, 12.3],\n",
       " ['The Meaning of Life', 1983, 7.5],\n",
       " ['Kundun', 1997, 4.7]]"
      ]
     },
     "execution_count": 84,
     "metadata": {},
     "output_type": "execute_result"
    }
   ],
   "source": [
    "inv"
   ]
  },
  {
   "cell_type": "code",
   "execution_count": 78,
   "metadata": {},
   "outputs": [],
   "source": [
    "inv.extend(chest)"
   ]
  },
  {
   "cell_type": "code",
   "execution_count": 85,
   "metadata": {},
   "outputs": [
    {
     "name": "stdout",
     "output_type": "stream",
     "text": [
      "['The Holy Grail', 1975, 9.99] ['Life of Brian', 1979, 12.3] ['The Meaning of Life', 1983, 7.5]\n"
     ]
    }
   ],
   "source": [
    "print(\"{} {} {}\".format(*movies))"
   ]
  },
  {
   "cell_type": "code",
   "execution_count": 79,
   "metadata": {},
   "outputs": [
    {
     "data": {
      "text/plain": [
       "['staff', 'robe', ['scroll', 'pestle'], 'scroll', 'pestle']"
      ]
     },
     "execution_count": 79,
     "metadata": {},
     "output_type": "execute_result"
    }
   ],
   "source": [
    "inv"
   ]
  },
  {
   "cell_type": "code",
   "execution_count": 75,
   "metadata": {},
   "outputs": [],
   "source": [
    "inv = [\"staff\",\"robe\"]"
   ]
  },
  {
   "cell_type": "code",
   "execution_count": 86,
   "metadata": {},
   "outputs": [
    {
     "data": {
      "text/plain": [
       "['staff',\n",
       " 'robe',\n",
       " ['scroll', 'pestle'],\n",
       " 'scroll',\n",
       " 'pestle',\n",
       " ['The Holy Grail', 1975, 9.99],\n",
       " ['Life of Brian', 1979, 12.3],\n",
       " ['The Meaning of Life', 1983, 7.5],\n",
       " ['Kundun', 1997, 4.7],\n",
       " 'scroll',\n",
       " 'pestle']"
      ]
     },
     "execution_count": 86,
     "metadata": {},
     "output_type": "execute_result"
    }
   ],
   "source": [
    "#inv = inv + chest\n",
    "inv += chest\n",
    "inv"
   ]
  },
  {
   "cell_type": "code",
   "execution_count": 87,
   "metadata": {},
   "outputs": [
    {
     "data": {
      "text/plain": [
       "['scroll', 'pestle']"
      ]
     },
     "execution_count": 87,
     "metadata": {},
     "output_type": "execute_result"
    }
   ],
   "source": [
    "chest"
   ]
  },
  {
   "cell_type": "code",
   "execution_count": 88,
   "metadata": {},
   "outputs": [
    {
     "ename": "IndexError",
     "evalue": "list index out of range",
     "output_type": "error",
     "traceback": [
      "\u001b[1;31m---------------------------------------------------------------------------\u001b[0m",
      "\u001b[1;31mIndexError\u001b[0m                                Traceback (most recent call last)",
      "\u001b[1;32mc:\\2023-02-DSI-WE\\instructor\\py\\Core Python Lessons\\Lesson 03.ipynb Cell 70\u001b[0m in \u001b[0;36m1\n\u001b[1;32m----> <a href='vscode-notebook-cell:/c%3A/2023-02-DSI-WE/instructor/py/Core%20Python%20Lessons/Lesson%2003.ipynb#Y104sZmlsZQ%3D%3D?line=0'>1</a>\u001b[0m chest[\u001b[39m2\u001b[39;49m]\n",
      "\u001b[1;31mIndexError\u001b[0m: list index out of range"
     ]
    }
   ],
   "source": [
    "chest[2]"
   ]
  },
  {
   "cell_type": "code",
   "execution_count": null,
   "metadata": {},
   "outputs": [],
   "source": [
    "foobar"
   ]
  },
  {
   "cell_type": "code",
   "execution_count": 7,
   "metadata": {},
   "outputs": [],
   "source": [
    "my_dict2 = {\n",
    "    'e': [1,3]\n",
    "    , 'b': \"2\"\n",
    "    , 'c': 3\n",
    "    , 'a':[(1, True),\n",
    " (1, True),\n",
    " (2, True),\n",
    " (2, True),\n",
    " (2, True),\n",
    " (2, True),\n",
    " (2, True),\n",
    " (3, False)]}"
   ]
  },
  {
   "cell_type": "code",
   "execution_count": 92,
   "metadata": {},
   "outputs": [
    {
     "name": "stdout",
     "output_type": "stream",
     "text": [
      "e b c\n"
     ]
    }
   ],
   "source": [
    "print(\"{} {} {}\".format(*my_dict2))"
   ]
  },
  {
   "cell_type": "code",
   "execution_count": 98,
   "metadata": {},
   "outputs": [
    {
     "name": "stdout",
     "output_type": "stream",
     "text": [
      "[1, 3] 2 3\n"
     ]
    }
   ],
   "source": [
    "print(\"{e} {b} {c}\".format(**my_dict2))"
   ]
  },
  {
   "cell_type": "code",
   "execution_count": 96,
   "metadata": {},
   "outputs": [
    {
     "name": "stdout",
     "output_type": "stream",
     "text": [
      "[1, 3]\n",
      "2\n",
      "3\n",
      "[(1, True), (1, True), (2, True), (2, True), (2, True), (2, True), (2, True), (3, False)]\n"
     ]
    }
   ],
   "source": [
    "for d in my_dict2.values(): print(d)"
   ]
  },
  {
   "cell_type": "code",
   "execution_count": 90,
   "metadata": {},
   "outputs": [
    {
     "data": {
      "text/plain": [
       "dict_keys(['e', 'b', 'c', 'a'])"
      ]
     },
     "execution_count": 90,
     "metadata": {},
     "output_type": "execute_result"
    }
   ],
   "source": [
    "my_dict2.keys()"
   ]
  },
  {
   "cell_type": "code",
   "execution_count": 93,
   "metadata": {},
   "outputs": [
    {
     "data": {
      "text/plain": [
       "dict_values([[1, 3], '2', 3, [(1, True), (1, True), (2, True), (2, True), (2, True), (2, True), (2, True), (3, False)]])"
      ]
     },
     "execution_count": 93,
     "metadata": {},
     "output_type": "execute_result"
    }
   ],
   "source": [
    "my_dict2.values()"
   ]
  },
  {
   "cell_type": "code",
   "execution_count": 94,
   "metadata": {},
   "outputs": [
    {
     "data": {
      "text/plain": [
       "dict_items([('e', [1, 3]), ('b', '2'), ('c', 3), ('a', [(1, True), (1, True), (2, True), (2, True), (2, True), (2, True), (2, True), (3, False)])])"
      ]
     },
     "execution_count": 94,
     "metadata": {},
     "output_type": "execute_result"
    }
   ],
   "source": [
    "my_dict2.items()"
   ]
  },
  {
   "cell_type": "code",
   "execution_count": 99,
   "metadata": {},
   "outputs": [],
   "source": [
    "my_dict2['g'] = \"foo\""
   ]
  },
  {
   "cell_type": "code",
   "execution_count": 100,
   "metadata": {},
   "outputs": [
    {
     "data": {
      "text/plain": [
       "(2, True)"
      ]
     },
     "execution_count": 100,
     "metadata": {},
     "output_type": "execute_result"
    }
   ],
   "source": [
    "my_dict2['a'][2]\n",
    "\n"
   ]
  },
  {
   "cell_type": "code",
   "execution_count": 102,
   "metadata": {},
   "outputs": [
    {
     "data": {
      "text/plain": [
       "NoneType"
      ]
     },
     "execution_count": 102,
     "metadata": {},
     "output_type": "execute_result"
    }
   ],
   "source": [
    "type(my_dict2.get('t'))"
   ]
  },
  {
   "cell_type": "code",
   "execution_count": 101,
   "metadata": {},
   "outputs": [
    {
     "ename": "KeyError",
     "evalue": "'t'",
     "output_type": "error",
     "traceback": [
      "\u001b[1;31m---------------------------------------------------------------------------\u001b[0m",
      "\u001b[1;31mKeyError\u001b[0m                                  Traceback (most recent call last)",
      "\u001b[1;32mc:\\2023-02-DSI-WE\\instructor\\py\\Core Python Lessons\\Lesson 03.ipynb Cell 82\u001b[0m in \u001b[0;36m1\n\u001b[1;32m----> <a href='vscode-notebook-cell:/c%3A/2023-02-DSI-WE/instructor/py/Core%20Python%20Lessons/Lesson%2003.ipynb#Y116sZmlsZQ%3D%3D?line=0'>1</a>\u001b[0m my_dict2[\u001b[39m'\u001b[39;49m\u001b[39mt\u001b[39;49m\u001b[39m'\u001b[39;49m]\n",
      "\u001b[1;31mKeyError\u001b[0m: 't'"
     ]
    }
   ],
   "source": [
    "my_dict2['t']"
   ]
  },
  {
   "cell_type": "code",
   "execution_count": 103,
   "metadata": {},
   "outputs": [],
   "source": [
    "args= {\"d_input\":my_dict2, \"keyname\":{'t':1}}"
   ]
  },
  {
   "cell_type": "code",
   "execution_count": 104,
   "metadata": {},
   "outputs": [
    {
     "ename": "NameError",
     "evalue": "name 'sillytry' is not defined",
     "output_type": "error",
     "traceback": [
      "\u001b[1;31m---------------------------------------------------------------------------\u001b[0m",
      "\u001b[1;31mNameError\u001b[0m                                 Traceback (most recent call last)",
      "\u001b[1;32mc:\\2023-02-DSI-WE\\instructor\\py\\Core Python Lessons\\Lesson 03.ipynb Cell 84\u001b[0m in \u001b[0;36m1\n\u001b[1;32m----> <a href='vscode-notebook-cell:/c%3A/2023-02-DSI-WE/instructor/py/Core%20Python%20Lessons/Lesson%2003.ipynb#Y121sZmlsZQ%3D%3D?line=0'>1</a>\u001b[0m sillytry(inv, \u001b[39m5\u001b[39m)\n",
      "\u001b[1;31mNameError\u001b[0m: name 'sillytry' is not defined"
     ]
    }
   ],
   "source": [
    "sillytry(inv, 5)\n"
   ]
  },
  {
   "cell_type": "code",
   "execution_count": 105,
   "metadata": {},
   "outputs": [
    {
     "ename": "KeyError",
     "evalue": "(1, 2)",
     "output_type": "error",
     "traceback": [
      "\u001b[1;31m---------------------------------------------------------------------------\u001b[0m",
      "\u001b[1;31mKeyError\u001b[0m                                  Traceback (most recent call last)",
      "\u001b[1;32mc:\\2023-02-DSI-WE\\instructor\\py\\Core Python Lessons\\Lesson 03.ipynb Cell 85\u001b[0m in \u001b[0;36m1\n\u001b[1;32m----> <a href='vscode-notebook-cell:/c%3A/2023-02-DSI-WE/instructor/py/Core%20Python%20Lessons/Lesson%2003.ipynb#Y122sZmlsZQ%3D%3D?line=0'>1</a>\u001b[0m my_dict2[(\u001b[39m1\u001b[39;49m,\u001b[39m2\u001b[39;49m)]\n",
      "\u001b[1;31mKeyError\u001b[0m: (1, 2)"
     ]
    }
   ],
   "source": [
    "my_dict2[(1,2)]"
   ]
  },
  {
   "cell_type": "code",
   "execution_count": 106,
   "metadata": {},
   "outputs": [],
   "source": [
    "def sillytry(d_input=my_dict2, keyname='e'):\n",
    "    #exception handling\n",
    "    #try block\n",
    "    try:\n",
    "        #what we think might blow up\n",
    "        value = d_input[keyname]\n",
    "        print(\"success\")\n",
    "    except TypeError:\n",
    "        #how we think might blow up\n",
    "        value = 'error!!!: Bad TYPE'\n",
    "    except KeyError:\n",
    "        #how we think might blow up\n",
    "        value = 'error!!!: invalid key'\n",
    "    except IndexError:\n",
    "        #how we think might blow up\n",
    "        value = 'error!!!: index out of range'\n",
    "    except : value = 'error!!! generic error'        \n",
    "    finally:\n",
    "        print('end')\n",
    "    if \"error!!!:\" not in str(value):        \n",
    "        if type(value) == str:\n",
    "            print(\"string\")\n",
    "        elif type(value) == int:\n",
    "            print(\"int\")\n",
    "        else:\n",
    "            print(\"other: {}\".format(str(type(value))))\n",
    "    return value\n",
    "kwargs = {\"d_input\":my_dict2, \"keyname\":'e'}\n"
   ]
  },
  {
   "cell_type": "code",
   "execution_count": 107,
   "metadata": {},
   "outputs": [
    {
     "data": {
      "text/plain": [
       "'d_input,keyname'"
      ]
     },
     "execution_count": 107,
     "metadata": {},
     "output_type": "execute_result"
    }
   ],
   "source": [
    "\"{},{}\".format(*kwargs)"
   ]
  },
  {
   "cell_type": "code",
   "execution_count": 108,
   "metadata": {},
   "outputs": [
    {
     "data": {
      "text/plain": [
       "\"{'e': [1, 3], 'b': '2', 'c': 3, 'a': [(1, True), (1, True), (2, True), (2, True), (2, True), (2, True), (2, True), (3, False)], 'g': 'foo'},e\""
      ]
     },
     "execution_count": 108,
     "metadata": {},
     "output_type": "execute_result"
    }
   ],
   "source": [
    "\"{d_input},{keyname}\".format(**kwargs)"
   ]
  },
  {
   "cell_type": "code",
   "execution_count": 109,
   "metadata": {},
   "outputs": [
    {
     "name": "stdout",
     "output_type": "stream",
     "text": [
      "success\n",
      "end\n",
      "other: <class 'list'>\n"
     ]
    },
    {
     "data": {
      "text/plain": [
       "[1, 3]"
      ]
     },
     "execution_count": 109,
     "metadata": {},
     "output_type": "execute_result"
    }
   ],
   "source": [
    "#sillytry(d_input=my_dict2, keyname='e')\n",
    "sillytry(**kwargs)"
   ]
  },
  {
   "cell_type": "code",
   "execution_count": 110,
   "metadata": {},
   "outputs": [
    {
     "name": "stdout",
     "output_type": "stream",
     "text": [
      "end\n",
      "error!!!: invalid key\n"
     ]
    }
   ],
   "source": [
    "kwargs = {\"d_input\":my_dict2, \"keyname\":'7+f'}\n",
    "print(sillytry(**kwargs))"
   ]
  },
  {
   "cell_type": "code",
   "execution_count": 111,
   "metadata": {},
   "outputs": [
    {
     "name": "stdout",
     "output_type": "stream",
     "text": [
      "end\n",
      "error!!!: invalid key\n"
     ]
    }
   ],
   "source": [
    "print(sillytry(keyname='x'))"
   ]
  },
  {
   "cell_type": "code",
   "execution_count": 112,
   "metadata": {},
   "outputs": [
    {
     "name": "stdout",
     "output_type": "stream",
     "text": [
      "success\n",
      "end\n",
      "string\n",
      "2\n"
     ]
    }
   ],
   "source": [
    "print(sillytry(keyname='b'))"
   ]
  },
  {
   "cell_type": "code",
   "execution_count": 113,
   "metadata": {},
   "outputs": [
    {
     "name": "stdout",
     "output_type": "stream",
     "text": [
      "success\n",
      "end\n",
      "int\n",
      "3\n"
     ]
    }
   ],
   "source": [
    "print(sillytry(keyname='c'))"
   ]
  },
  {
   "cell_type": "code",
   "execution_count": 115,
   "metadata": {},
   "outputs": [
    {
     "name": "stdout",
     "output_type": "stream",
     "text": [
      "end\n",
      "error!!!: index out of range\n"
     ]
    }
   ],
   "source": [
    "print(sillytry(movies,20))"
   ]
  },
  {
   "cell_type": "code",
   "execution_count": 116,
   "metadata": {},
   "outputs": [
    {
     "name": "stdout",
     "output_type": "stream",
     "text": [
      "end\n",
      "error!!!: Bad TYPE\n"
     ]
    }
   ],
   "source": [
    "print(sillytry(movies,\"a\"))"
   ]
  },
  {
   "cell_type": "code",
   "execution_count": null,
   "metadata": {},
   "outputs": [],
   "source": []
  },
  {
   "cell_type": "code",
   "execution_count": 117,
   "metadata": {},
   "outputs": [
    {
     "data": {
      "text/plain": [
       "['Andrew', 'Laura', 'Joe']"
      ]
     },
     "execution_count": 117,
     "metadata": {},
     "output_type": "execute_result"
    }
   ],
   "source": [
    "children"
   ]
  },
  {
   "cell_type": "code",
   "execution_count": 118,
   "metadata": {},
   "outputs": [
    {
     "ename": "IndexError",
     "evalue": "list index out of range",
     "output_type": "error",
     "traceback": [
      "\u001b[1;31m---------------------------------------------------------------------------\u001b[0m",
      "\u001b[1;31mIndexError\u001b[0m                                Traceback (most recent call last)",
      "\u001b[1;32mc:\\2023-02-DSI-WE\\instructor\\py\\Core Python Lessons\\Lesson 03.ipynb Cell 98\u001b[0m in \u001b[0;36m1\n\u001b[1;32m----> <a href='vscode-notebook-cell:/c%3A/2023-02-DSI-WE/instructor/py/Core%20Python%20Lessons/Lesson%2003.ipynb#Y134sZmlsZQ%3D%3D?line=0'>1</a>\u001b[0m children[\u001b[39m4\u001b[39;49m]\n",
      "\u001b[1;31mIndexError\u001b[0m: list index out of range"
     ]
    }
   ],
   "source": [
    "children[4]"
   ]
  },
  {
   "cell_type": "code",
   "execution_count": 119,
   "metadata": {},
   "outputs": [
    {
     "data": {
      "text/plain": [
       "{'e': [1, 3],\n",
       " 'b': '2',\n",
       " 'c': 3,\n",
       " 'a': [(1, True),\n",
       "  (1, True),\n",
       "  (2, True),\n",
       "  (2, True),\n",
       "  (2, True),\n",
       "  (2, True),\n",
       "  (2, True),\n",
       "  (3, False)],\n",
       " 'g': 'foo'}"
      ]
     },
     "execution_count": 119,
     "metadata": {},
     "output_type": "execute_result"
    }
   ],
   "source": [
    "my_dict2"
   ]
  },
  {
   "cell_type": "code",
   "execution_count": 120,
   "metadata": {},
   "outputs": [
    {
     "data": {
      "text/plain": [
       "{'e': [1, 3], 'b': '2', 'c': 3, 'g': 'foo'}"
      ]
     },
     "execution_count": 120,
     "metadata": {},
     "output_type": "execute_result"
    }
   ],
   "source": [
    "my_dict2.pop('a')\n",
    "my_dict2"
   ]
  },
  {
   "cell_type": "code",
   "execution_count": 121,
   "metadata": {},
   "outputs": [
    {
     "data": {
      "text/plain": [
       "{'b': '2', 'c': 3, 'g': 'foo'}"
      ]
     },
     "execution_count": 121,
     "metadata": {},
     "output_type": "execute_result"
    }
   ],
   "source": [
    "my_dict2.pop('e')\n",
    "my_dict2"
   ]
  },
  {
   "cell_type": "code",
   "execution_count": 122,
   "metadata": {},
   "outputs": [
    {
     "data": {
      "text/plain": [
       "{'b': '2', 'c': 3, 'g': 'foo'}"
      ]
     },
     "execution_count": 122,
     "metadata": {},
     "output_type": "execute_result"
    }
   ],
   "source": [
    "#my_dict2[\"h\"]= 'newerdata'\n",
    "my_dict2.setdefault('g','newerdata')\n",
    "my_dict2"
   ]
  },
  {
   "cell_type": "code",
   "execution_count": 123,
   "metadata": {},
   "outputs": [
    {
     "ename": "KeyError",
     "evalue": "'f'",
     "output_type": "error",
     "traceback": [
      "\u001b[1;31m---------------------------------------------------------------------------\u001b[0m",
      "\u001b[1;31mKeyError\u001b[0m                                  Traceback (most recent call last)",
      "\u001b[1;32mc:\\2023-02-DSI-WE\\instructor\\py\\Core Python Lessons\\Lesson 03.ipynb Cell 103\u001b[0m in \u001b[0;36m1\n\u001b[1;32m----> <a href='vscode-notebook-cell:/c%3A/2023-02-DSI-WE/instructor/py/Core%20Python%20Lessons/Lesson%2003.ipynb#Y142sZmlsZQ%3D%3D?line=0'>1</a>\u001b[0m my_dict2[\u001b[39m\"\u001b[39;49m\u001b[39mf\u001b[39;49m\u001b[39m\"\u001b[39;49m]\n",
      "\u001b[1;31mKeyError\u001b[0m: 'f'"
     ]
    }
   ],
   "source": [
    "my_dict2[\"f\"]"
   ]
  },
  {
   "cell_type": "code",
   "execution_count": 124,
   "metadata": {},
   "outputs": [
    {
     "name": "stdout",
     "output_type": "stream",
     "text": [
      "True\n"
     ]
    }
   ],
   "source": [
    "value = my_dict2.get('f')\n",
    "print(value is None)"
   ]
  },
  {
   "cell_type": "code",
   "execution_count": 125,
   "metadata": {},
   "outputs": [
    {
     "data": {
      "text/plain": [
       "NoneType"
      ]
     },
     "execution_count": 125,
     "metadata": {},
     "output_type": "execute_result"
    }
   ],
   "source": [
    "type(my_dict2.get('f'))"
   ]
  },
  {
   "cell_type": "code",
   "execution_count": 126,
   "metadata": {},
   "outputs": [
    {
     "data": {
      "text/plain": [
       "dict_values(['2', 3, 'foo'])"
      ]
     },
     "execution_count": 126,
     "metadata": {},
     "output_type": "execute_result"
    }
   ],
   "source": [
    "my_dict2.values()"
   ]
  },
  {
   "cell_type": "code",
   "execution_count": 127,
   "metadata": {},
   "outputs": [
    {
     "data": {
      "text/plain": [
       "dict_keys(['b', 'c', 'g'])"
      ]
     },
     "execution_count": 127,
     "metadata": {},
     "output_type": "execute_result"
    }
   ],
   "source": [
    "my_dict2.keys()"
   ]
  },
  {
   "cell_type": "code",
   "execution_count": 128,
   "metadata": {},
   "outputs": [
    {
     "data": {
      "text/plain": [
       "dict_items([('b', '2'), ('c', 3), ('g', 'foo')])"
      ]
     },
     "execution_count": 128,
     "metadata": {},
     "output_type": "execute_result"
    }
   ],
   "source": [
    "my_dict2.items()"
   ]
  },
  {
   "cell_type": "code",
   "execution_count": 129,
   "metadata": {},
   "outputs": [
    {
     "ename": "KeyError",
     "evalue": "'e'",
     "output_type": "error",
     "traceback": [
      "\u001b[1;31m---------------------------------------------------------------------------\u001b[0m",
      "\u001b[1;31mKeyError\u001b[0m                                  Traceback (most recent call last)",
      "\u001b[1;32mc:\\2023-02-DSI-WE\\instructor\\py\\Core Python Lessons\\Lesson 03.ipynb Cell 109\u001b[0m in \u001b[0;36m1\n\u001b[1;32m----> <a href='vscode-notebook-cell:/c%3A/2023-02-DSI-WE/instructor/py/Core%20Python%20Lessons/Lesson%2003.ipynb#Y151sZmlsZQ%3D%3D?line=0'>1</a>\u001b[0m my_dict2[\u001b[39m'\u001b[39;49m\u001b[39me\u001b[39;49m\u001b[39m'\u001b[39;49m]\n",
      "\u001b[1;31mKeyError\u001b[0m: 'e'"
     ]
    }
   ],
   "source": [
    "my_dict2['e']"
   ]
  },
  {
   "cell_type": "code",
   "execution_count": 130,
   "metadata": {},
   "outputs": [
    {
     "name": "stdout",
     "output_type": "stream",
     "text": [
      "key: b value 2\n",
      "key: c value 3\n",
      "key: g value foo\n"
     ]
    }
   ],
   "source": [
    "for k,v in my_dict2.items():\n",
    "    print('key: {} value {}'.format(k,v))"
   ]
  },
  {
   "cell_type": "code",
   "execution_count": 132,
   "metadata": {},
   "outputs": [
    {
     "data": {
      "text/plain": [
       "{'key: b value 2', 'key: c value 3', 'key: g value foo'}"
      ]
     },
     "execution_count": 132,
     "metadata": {},
     "output_type": "execute_result"
    }
   ],
   "source": [
    "# for k,v in my_dict2.items():\n",
    "#     print('key: {} value {}'.format(k,v))\n",
    "    \n",
    "d_sample = {'key: '+str(k)+' value '+str(v) for k,v in my_dict2.items()}\n",
    "d_sample"
   ]
  },
  {
   "cell_type": "code",
   "execution_count": 133,
   "metadata": {},
   "outputs": [
    {
     "data": {
      "text/plain": [
       "{'key': 'g value foo'}"
      ]
     },
     "execution_count": 133,
     "metadata": {},
     "output_type": "execute_result"
    }
   ],
   "source": [
    "# for k,v in my_dict2.items():\n",
    "#     print('key: {} value {}'.format(k,v))\n",
    "    \n",
    "d_sample = {\"key\": str(k)+' value '+str(v) for k,v in my_dict2.items()}\n",
    "d_sample"
   ]
  },
  {
   "cell_type": "code",
   "execution_count": 134,
   "metadata": {},
   "outputs": [
    {
     "data": {
      "text/plain": [
       "{'keyb': ' value 2', 'keyc': ' value 3', 'keyg': ' value foo'}"
      ]
     },
     "execution_count": 134,
     "metadata": {},
     "output_type": "execute_result"
    }
   ],
   "source": [
    "# for k,v in my_dict2.items():\n",
    "#     print('key: {} value {}'.format(k,v))\n",
    "    \n",
    "d_sample = {\"key\"+ str(k) : ' value '+str(v) for k,v in my_dict2.items()}\n",
    "d_sample"
   ]
  },
  {
   "cell_type": "code",
   "execution_count": 135,
   "metadata": {},
   "outputs": [
    {
     "name": "stdout",
     "output_type": "stream",
     "text": [
      "keyb\n",
      "keyc\n",
      "keyg\n"
     ]
    }
   ],
   "source": [
    "for d in d_sample:print(d)"
   ]
  },
  {
   "cell_type": "code",
   "execution_count": 136,
   "metadata": {},
   "outputs": [
    {
     "name": "stdout",
     "output_type": "stream",
     "text": [
      "['b', 'c', 'g']\n"
     ]
    }
   ],
   "source": [
    "print(list(my_dict2))"
   ]
  },
  {
   "cell_type": "code",
   "execution_count": 21,
   "metadata": {},
   "outputs": [],
   "source": [
    "contacts = {\n",
    "    \"Joel\":{\n",
    "               \"address\": \"1500 Anystreet\"\n",
    "               ,\"city\": \"San Francisco\"\n",
    "               ,\"state\": \"California\"\n",
    "               ,\"postalCode\": \"94110\"\n",
    "               ,\"phone\": \"555-555-1111\"\n",
    "          },\n",
    "    \"Anne\":{\"address\": \"1000 Somestreet\", \"city\": \"Fresno\",\n",
    "         \"state\": \"California\", \"postalCode\": \"93704\", \n",
    "         \"phone\": \"125-555-2222\"},\n",
    "    \"Ben\": {\"address\": \"1400 Another Street\", \"city\": \"Fresno\",\n",
    "         \"state\": \"California\", \"postalCode\": \"93704\", \n",
    "         \"phone\": \"125-555-4444\"}\n",
    "}"
   ]
  },
  {
   "cell_type": "code",
   "execution_count": 138,
   "metadata": {},
   "outputs": [
    {
     "name": "stdout",
     "output_type": "stream",
     "text": [
      "dict_keys(['Joel', 'Anne', 'Ben'])\n",
      "dict_items([('Joel', {'address': '1500 Anystreet', 'city': 'San Francisco', 'state': 'California', 'postalCode': '94110', 'phone': '555-555-1111'}), ('Anne', {'address': '1000 Somestreet', 'city': 'Fresno', 'state': 'California', 'postalCode': '93704', 'phone': '125-555-2222'}), ('Ben', {'address': '1400 Another Street', 'city': 'Fresno', 'state': 'California', 'postalCode': '93704', 'phone': '125-555-4444'})])\n",
      "dict_values([{'address': '1500 Anystreet', 'city': 'San Francisco', 'state': 'California', 'postalCode': '94110', 'phone': '555-555-1111'}, {'address': '1000 Somestreet', 'city': 'Fresno', 'state': 'California', 'postalCode': '93704', 'phone': '125-555-2222'}, {'address': '1400 Another Street', 'city': 'Fresno', 'state': 'California', 'postalCode': '93704', 'phone': '125-555-4444'}])\n"
     ]
    }
   ],
   "source": [
    "print(contacts.keys())\n",
    "print(contacts.items())\n",
    "print(contacts.values())"
   ]
  },
  {
   "cell_type": "code",
   "execution_count": 139,
   "metadata": {},
   "outputs": [
    {
     "data": {
      "text/plain": [
       "'1400 Another Street'"
      ]
     },
     "execution_count": 139,
     "metadata": {},
     "output_type": "execute_result"
    }
   ],
   "source": [
    "contacts['Ben']['address']"
   ]
  },
  {
   "cell_type": "code",
   "execution_count": 140,
   "metadata": {},
   "outputs": [
    {
     "data": {
      "text/plain": [
       "'1400 Another Street'"
      ]
     },
     "execution_count": 140,
     "metadata": {},
     "output_type": "execute_result"
    }
   ],
   "source": [
    "contacts.get('Ben').get('address')"
   ]
  },
  {
   "cell_type": "code",
   "execution_count": 141,
   "metadata": {},
   "outputs": [],
   "source": [
    "contacts.get('Anne').get('email')"
   ]
  },
  {
   "cell_type": "code",
   "execution_count": 142,
   "metadata": {},
   "outputs": [],
   "source": [
    "#writing data\n",
    "members = [\"John Cleese\", \"Eric Idle\",\"Terry Jones\"]\n",
    "# \"w\"= overwite, \"a\" = append, \"r\" = read + \"a\" ASCII(default) or \"b\" for binary\n",
    "with open(\"pythoneers.txt\", \"w\") as file:\n",
    "    file.write(\"members\"+ \"\\n\")\n",
    "    for m in members:\n",
    "        file.write(m + \"\\n\")          # adds new line"
   ]
  },
  {
   "cell_type": "code",
   "execution_count": 146,
   "metadata": {},
   "outputs": [
    {
     "name": "stdout",
     "output_type": "stream",
     "text": [
      " Volume in drive C has no label.\n",
      " Volume Serial Number is 0CF2-974E\n",
      "\n",
      " Directory of c:\\2023-02-DSI-WE\\instructor\\py\\Core Python Lessons\n",
      "\n",
      "04/23/2023  02:47 PM    <DIR>          .\n",
      "04/23/2023  02:47 PM    <DIR>          ..\n",
      "04/15/2023  04:24 PM    <DIR>          .ipynb_checkpoints\n",
      "04/16/2023  11:09 AM               228 contacts.csv\n",
      "04/15/2023  10:34 AM               364 Core Python.md\n",
      "04/29/2023  04:57 PM            15,853 Lesson 01.ipynb\n",
      "04/29/2023  04:57 PM            42,998 Lesson 02.ipynb\n",
      "04/22/2023  02:48 PM            51,007 Lesson 03.ipynb\n",
      "04/15/2023  10:34 AM                46 members.txt\n",
      "04/16/2023  10:56 AM                98 movies.csv\n",
      "04/16/2023  10:55 AM                17 my_dict2_items.csv\n",
      "04/16/2023  10:50 AM                17 my_dict2_items.tsv\n",
      "04/30/2023  02:32 PM                46 pythoneers.txt\n",
      "04/23/2023  02:47 PM             1,400 test.ipynb\n",
      "04/29/2023  04:57 PM                94 test.py\n",
      "              12 File(s)        112,168 bytes\n",
      "               3 Dir(s)  156,657,266,688 bytes free\n"
     ]
    }
   ],
   "source": [
    "!dir "
   ]
  },
  {
   "cell_type": "code",
   "execution_count": 147,
   "metadata": {},
   "outputs": [
    {
     "name": "stdout",
     "output_type": "stream",
     "text": [
      "members\n",
      "John Cleese\n",
      "Eric Idle\n",
      "Terry Jones\n"
     ]
    }
   ],
   "source": [
    "!head pythoneers.txt"
   ]
  },
  {
   "cell_type": "code",
   "execution_count": 148,
   "metadata": {},
   "outputs": [
    {
     "data": {
      "text/plain": [
       "['m',\n",
       " 'e',\n",
       " 'm',\n",
       " 'b',\n",
       " 'e',\n",
       " 'r',\n",
       " 's',\n",
       " '\\n',\n",
       " 'J',\n",
       " 'o',\n",
       " 'h',\n",
       " 'n',\n",
       " ' ',\n",
       " 'C',\n",
       " 'l',\n",
       " 'e',\n",
       " 'e',\n",
       " 's',\n",
       " 'e',\n",
       " '\\n',\n",
       " 'E',\n",
       " 'r',\n",
       " 'i',\n",
       " 'c',\n",
       " ' ',\n",
       " 'I',\n",
       " 'd',\n",
       " 'l',\n",
       " 'e',\n",
       " '\\n',\n",
       " 'T',\n",
       " 'e',\n",
       " 'r',\n",
       " 'r',\n",
       " 'y',\n",
       " ' ',\n",
       " 'J',\n",
       " 'o',\n",
       " 'n',\n",
       " 'e',\n",
       " 's',\n",
       " '\\n']"
      ]
     },
     "execution_count": 148,
     "metadata": {},
     "output_type": "execute_result"
    }
   ],
   "source": [
    "#reading data - overparse\n",
    "lst = []\n",
    "with open(\"members.txt\", \"r\") as file:\n",
    "    for r in file.read():\n",
    "        lst.append(r)\n",
    "lst"
   ]
  },
  {
   "cell_type": "code",
   "execution_count": 149,
   "metadata": {},
   "outputs": [
    {
     "data": {
      "text/plain": [
       "['members', 'John Cleese', 'Eric Idle', 'Terry Jones', '']"
      ]
     },
     "execution_count": 149,
     "metadata": {},
     "output_type": "execute_result"
    }
   ],
   "source": [
    "#lst = []\n",
    "with open(\"members.txt\", \"r\") as file:\n",
    "    lst2 = file.read().split(\"\\n\")\n",
    "lst2"
   ]
  },
  {
   "cell_type": "code",
   "execution_count": 150,
   "metadata": {},
   "outputs": [
    {
     "data": {
      "text/plain": [
       "['John Cleese', 'Eric Idle', 'Terry Jones']"
      ]
     },
     "execution_count": 150,
     "metadata": {},
     "output_type": "execute_result"
    }
   ],
   "source": [
    "lst2[1:-1]"
   ]
  },
  {
   "cell_type": "code",
   "execution_count": 153,
   "metadata": {},
   "outputs": [],
   "source": [
    "file = None"
   ]
  },
  {
   "cell_type": "code",
   "execution_count": 154,
   "metadata": {},
   "outputs": [
    {
     "data": {
      "text/plain": [
       "['members\\n', 'John Cleese\\n', 'Eric Idle\\n', 'Terry Jones\\n']"
      ]
     },
     "execution_count": 154,
     "metadata": {},
     "output_type": "execute_result"
    }
   ],
   "source": [
    "lst = []\n",
    "with open(\"members.txt\", \"r\") as file:\n",
    "    for r in file.readlines():\n",
    "        lst.append(r)\n",
    "lst"
   ]
  },
  {
   "cell_type": "code",
   "execution_count": 157,
   "metadata": {},
   "outputs": [
    {
     "data": {
      "text/plain": [
       "['John Cleese', 'Eric Idle', 'Terry Jones']"
      ]
     },
     "execution_count": 157,
     "metadata": {},
     "output_type": "execute_result"
    }
   ],
   "source": [
    "lst = []\n",
    "with open(\"members.txt\", \"r\") as file:\n",
    "    for r in file.readlines():\n",
    "        lst.append(r.split(\"\\n\")[0])\n",
    "lst[1:]"
   ]
  },
  {
   "cell_type": "code",
   "execution_count": 2,
   "metadata": {},
   "outputs": [
    {
     "data": {
      "text/plain": [
       "['John Cleese', 'Eric Idle', 'Terry Jones']"
      ]
     },
     "execution_count": 2,
     "metadata": {},
     "output_type": "execute_result"
    }
   ],
   "source": [
    "lst = []\n",
    "with open(\"members.txt\", \"r\") as file:\n",
    "    for r in file.readlines():\n",
    "        lst.append(r.split(\"\\n\"))\n",
    "[l[0] for l in lst[1:]]"
   ]
  },
  {
   "cell_type": "code",
   "execution_count": 3,
   "metadata": {},
   "outputs": [
    {
     "data": {
      "text/plain": [
       "['members\\n', 'John Cleese\\n', 'Eric Idle\\n', 'Terry Jones\\n']"
      ]
     },
     "execution_count": 3,
     "metadata": {},
     "output_type": "execute_result"
    }
   ],
   "source": [
    "lst = []\n",
    "with open(\"members.txt\", \"r\") as file:\n",
    "    for r in file.readlines():\n",
    "        lst.append(r)\n",
    "lst"
   ]
  },
  {
   "cell_type": "code",
   "execution_count": 4,
   "metadata": {},
   "outputs": [
    {
     "data": {
      "text/plain": [
       "['John Cleese', 'Eric Idle', 'Terry Jones']"
      ]
     },
     "execution_count": 4,
     "metadata": {},
     "output_type": "execute_result"
    }
   ],
   "source": [
    "[l.replace(\"\\n\",\"\") for l in lst[1:]]"
   ]
  },
  {
   "cell_type": "code",
   "execution_count": 5,
   "metadata": {},
   "outputs": [
    {
     "name": "stdout",
     "output_type": "stream",
     "text": [
      "members\n",
      "John Cleese\n",
      "Eric Idle\n",
      "Terry Jones\n"
     ]
    }
   ],
   "source": [
    "!head members.txt"
   ]
  },
  {
   "cell_type": "code",
   "execution_count": 8,
   "metadata": {},
   "outputs": [
    {
     "data": {
      "text/plain": [
       "{'e': [1, 3],\n",
       " 'b': '2',\n",
       " 'c': 3,\n",
       " 'a': [(1, True),\n",
       "  (1, True),\n",
       "  (2, True),\n",
       "  (2, True),\n",
       "  (2, True),\n",
       "  (2, True),\n",
       "  (2, True),\n",
       "  (3, False)]}"
      ]
     },
     "execution_count": 8,
     "metadata": {},
     "output_type": "execute_result"
    }
   ],
   "source": [
    "my_dict2\n"
   ]
  },
  {
   "cell_type": "code",
   "execution_count": 9,
   "metadata": {},
   "outputs": [
    {
     "data": {
      "text/plain": [
       "['e', 'b', 'c', 'a']"
      ]
     },
     "execution_count": 9,
     "metadata": {},
     "output_type": "execute_result"
    }
   ],
   "source": [
    "list(my_dict2)"
   ]
  },
  {
   "cell_type": "code",
   "execution_count": 10,
   "metadata": {},
   "outputs": [],
   "source": [
    "with open(\"my_dict2_items.tsv\", \"w\") as file:\n",
    "    for x in list(my_dict2):\n",
    "        file.write(x+'\\t'+str(my_dict2[x])+\"\\n\")\n"
   ]
  },
  {
   "cell_type": "code",
   "execution_count": 11,
   "metadata": {},
   "outputs": [
    {
     "name": "stdout",
     "output_type": "stream",
     "text": [
      "e\t[1, 3]\n",
      "b\t2\n",
      "c\t3\n",
      "a\t[(1, True), (1, True), (2, True), (2, True), (2, True), (2, True), (2, True), (3, False)]\n"
     ]
    }
   ],
   "source": [
    "!head my_dict2_items.tsv"
   ]
  },
  {
   "cell_type": "code",
   "execution_count": 14,
   "metadata": {},
   "outputs": [],
   "source": [
    "with open(\"my_dict2_items.csv\", \"w\") as file:\n",
    "    for x in list(my_dict2):\n",
    "        file.write(\"\\\"\"+x+'\\\",\\\"'+str(my_dict2[x])+\"\\\"\\n\")\n"
   ]
  },
  {
   "cell_type": "code",
   "execution_count": null,
   "metadata": {},
   "outputs": [],
   "source": [
    "my_dict2"
   ]
  },
  {
   "cell_type": "code",
   "execution_count": 15,
   "metadata": {},
   "outputs": [],
   "source": [
    "import csv\n",
    "with open(\"my_dict2_items_python.csv\", \"w\",  newline=\"\") as file:\n",
    "    writer = csv.writer(file)\n",
    "    for x in list(my_dict2):\n",
    "#        file.write(x+'\\t'+str(my_dict2[x])+\"\\n\")        \n",
    "        writer.writerow([str(x),str(my_dict2[x])])"
   ]
  },
  {
   "cell_type": "code",
   "execution_count": 16,
   "metadata": {},
   "outputs": [
    {
     "name": "stdout",
     "output_type": "stream",
     "text": [
      "e,\"[1, 3]\"\n",
      "b,2\n",
      "c,3\n",
      "a,\"[(1, True), (1, True), (2, True), (2, True), (2, True), (2, True), (2, True), (3, False)]\"\n"
     ]
    }
   ],
   "source": [
    "!head my_dict2_items_python.csv"
   ]
  },
  {
   "cell_type": "code",
   "execution_count": 19,
   "metadata": {},
   "outputs": [],
   "source": [
    "\n",
    "with open(\"movies.csv\", \"w\",  newline=\"\") as file:\n",
    "    writer = csv.writer(file)\n",
    "    for x in movies:\n",
    "#        file.write(x+'\\t'+str(my_dict2[x])+\"\\n\")        \n",
    "        writer.writerow(x)"
   ]
  },
  {
   "cell_type": "code",
   "execution_count": 20,
   "metadata": {},
   "outputs": [
    {
     "name": "stdout",
     "output_type": "stream",
     "text": [
      "The Holy Grail,1975,9.99\n",
      "Life of Brian,1979,12.3\n",
      "The Meaning of Life,1983,7.5\n",
      "Kundun,1997,4.7\n"
     ]
    }
   ],
   "source": [
    "!head movies.csv"
   ]
  },
  {
   "cell_type": "code",
   "execution_count": 22,
   "metadata": {},
   "outputs": [
    {
     "data": {
      "text/plain": [
       "{'Joel': {'address': '1500 Anystreet',\n",
       "  'city': 'San Francisco',\n",
       "  'state': 'California',\n",
       "  'postalCode': '94110',\n",
       "  'phone': '555-555-1111'},\n",
       " 'Anne': {'address': '1000 Somestreet',\n",
       "  'city': 'Fresno',\n",
       "  'state': 'California',\n",
       "  'postalCode': '93704',\n",
       "  'phone': '125-555-2222'},\n",
       " 'Ben': {'address': '1400 Another Street',\n",
       "  'city': 'Fresno',\n",
       "  'state': 'California',\n",
       "  'postalCode': '93704',\n",
       "  'phone': '125-555-4444'}}"
      ]
     },
     "execution_count": 22,
     "metadata": {},
     "output_type": "execute_result"
    }
   ],
   "source": [
    "contacts"
   ]
  },
  {
   "cell_type": "code",
   "execution_count": 24,
   "metadata": {},
   "outputs": [],
   "source": [
    "with open(\"contacts.csv\", \"w\",  newline=\"\") as file:\n",
    "    writer = csv.writer(file)\n",
    "    header =[\"name\"]\n",
    "    for innerkeys in contacts[\"Joel\"].keys(): header.append(innerkeys)\n",
    "    writer.writerow(header)\n",
    "    for outerkeys in contacts:\n",
    "#        file.write(x+'\\t'+str(my_dict2[x])+\"\\n\") \n",
    "        dataline = []\n",
    "        dataline.append(outerkeys)\n",
    "        for t in contacts[outerkeys].values(): dataline.append(t)       \n",
    "        writer.writerow(dataline)"
   ]
  },
  {
   "cell_type": "code",
   "execution_count": 25,
   "metadata": {},
   "outputs": [
    {
     "name": "stdout",
     "output_type": "stream",
     "text": [
      "name,address,city,state,postalCode,phone\n",
      "Joel,1500 Anystreet,San Francisco,California,94110,555-555-1111\n",
      "Anne,1000 Somestreet,Fresno,California,93704,125-555-2222\n",
      "Ben,1400 Another Street,Fresno,California,93704,125-555-4444\n"
     ]
    }
   ],
   "source": [
    "! head contacts.csv"
   ]
  },
  {
   "cell_type": "code",
   "execution_count": 26,
   "metadata": {},
   "outputs": [
    {
     "data": {
      "text/plain": [
       "['name', 'address', 'city', 'state', 'postalCode', 'phone']"
      ]
     },
     "execution_count": 26,
     "metadata": {},
     "output_type": "execute_result"
    }
   ],
   "source": [
    "k =[\"name\"]\n",
    "for c in contacts[\"Joel\"].keys(): k.append(c)\n",
    "k"
   ]
  },
  {
   "cell_type": "code",
   "execution_count": 27,
   "metadata": {},
   "outputs": [
    {
     "name": "stdout",
     "output_type": "stream",
     "text": [
      "Joel\n",
      "1500 Anystreet\n",
      "San Francisco\n",
      "California\n",
      "94110\n",
      "555-555-1111\n",
      "Anne\n",
      "1000 Somestreet\n",
      "Fresno\n",
      "California\n",
      "93704\n",
      "125-555-2222\n",
      "Ben\n",
      "1400 Another Street\n",
      "Fresno\n",
      "California\n",
      "93704\n",
      "125-555-4444\n"
     ]
    }
   ],
   "source": [
    "for c in contacts:\n",
    "    print(c)\n",
    "    for t in contacts[c].values(): print(t)       \n"
   ]
  },
  {
   "cell_type": "code",
   "execution_count": null,
   "metadata": {},
   "outputs": [],
   "source": [
    "!head contacts.csv"
   ]
  },
  {
   "cell_type": "code",
   "execution_count": 28,
   "metadata": {},
   "outputs": [
    {
     "data": {
      "text/plain": [
       "['1500 Anystreet',\n",
       " 'San Francisco',\n",
       " 'California',\n",
       " '94110',\n",
       " '555-555-1111',\n",
       " '1000 Somestreet',\n",
       " 'Fresno',\n",
       " 'California',\n",
       " '93704',\n",
       " '125-555-2222',\n",
       " '1400 Another Street',\n",
       " 'Fresno',\n",
       " 'California',\n",
       " '93704',\n",
       " '125-555-4444']"
      ]
     },
     "execution_count": 28,
     "metadata": {},
     "output_type": "execute_result"
    }
   ],
   "source": [
    "[k  for c in contacts for k in contacts[c].values()]"
   ]
  },
  {
   "cell_type": "code",
   "execution_count": null,
   "metadata": {},
   "outputs": [],
   "source": []
  }
 ],
 "metadata": {
  "kernelspec": {
   "display_name": "Python 3.10.6 64-bit",
   "language": "python",
   "name": "python3"
  },
  "language_info": {
   "codemirror_mode": {
    "name": "ipython",
    "version": 3
   },
   "file_extension": ".py",
   "mimetype": "text/x-python",
   "name": "python",
   "nbconvert_exporter": "python",
   "pygments_lexer": "ipython3",
   "version": "3.11.1"
  },
  "vscode": {
   "interpreter": {
    "hash": "b0bec678c81eb7312b8d31d6ff160f9afdd44743e58cfedb622a2492ccc0e865"
   }
  }
 },
 "nbformat": 4,
 "nbformat_minor": 4
}
