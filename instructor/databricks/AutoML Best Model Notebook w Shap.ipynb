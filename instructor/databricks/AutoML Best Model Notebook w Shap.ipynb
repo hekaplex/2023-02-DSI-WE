{
 "cells": [
  {
   "cell_type": "markdown",
   "metadata": {
    "application/vnd.databricks.v1+cell": {
     "cellMetadata": {
      "byteLimit": 2048000,
      "rowLimit": 10000
     },
     "inputWidgets": {},
     "nuid": "542ce087-938b-4629-a3c8-a7b723532dec",
     "showTitle": false,
     "title": ""
    }
   },
   "source": [
    "# XGBoost Regressor training\n",
    "This is an auto-generated notebook. To reproduce these results, attach this notebook to the **Academy Training Cluster** cluster and rerun it.\n",
    "- Compare trials in the [MLflow experiment](#mlflow/experiments/1463112007029730)\n",
    "- Navigate to the parent notebook [here](#notebook/1463112007029731) (If you launched the AutoML experiment using the Experiments UI, this link isn't very useful.)\n",
    "- Clone this notebook into your project folder by selecting **File > Clone** in the notebook toolbar.\n",
    "\n",
    "Runtime Version: _11.3.x-cpu-ml-scala2.12_"
   ]
  },
  {
   "cell_type": "code",
   "execution_count": 0,
   "metadata": {
    "application/vnd.databricks.v1+cell": {
     "cellMetadata": {
      "byteLimit": 2048000,
      "rowLimit": 10000
     },
     "inputWidgets": {},
     "nuid": "18532992-3f41-4510-a743-60dac9330115",
     "showTitle": false,
     "title": ""
    },
    "execution": {
     "iopub.execute_input": "2023-07-15T17:37:20.047408Z",
     "iopub.status.busy": "2023-07-15T17:37:20.046474Z",
     "iopub.status.idle": "2023-07-15T17:37:20.050851Z",
     "shell.execute_reply": "2023-07-15T17:37:20.050377Z"
    }
   },
   "outputs": [],
   "source": [
    "import mlflow\n",
    "import databricks.automl_runtime\n",
    "\n",
    "target_col = \"price\""
   ]
  },
  {
   "cell_type": "markdown",
   "metadata": {
    "application/vnd.databricks.v1+cell": {
     "cellMetadata": {
      "byteLimit": 2048000,
      "rowLimit": 10000
     },
     "inputWidgets": {},
     "nuid": "fcaa7175-f603-4bb1-92e0-31d8a2daaa15",
     "showTitle": false,
     "title": ""
    }
   },
   "source": [
    "## Load Data"
   ]
  },
  {
   "cell_type": "code",
   "execution_count": 0,
   "metadata": {
    "application/vnd.databricks.v1+cell": {
     "cellMetadata": {
      "byteLimit": 2048000,
      "rowLimit": 10000
     },
     "inputWidgets": {},
     "nuid": "13ece9d3-d197-4e9f-b4c4-d639ecf5455b",
     "showTitle": false,
     "title": ""
    },
    "execution": {
     "iopub.execute_input": "2023-07-15T17:37:20.058556Z",
     "iopub.status.busy": "2023-07-15T17:37:20.057970Z",
     "iopub.status.idle": "2023-07-15T17:37:21.030563Z",
     "shell.execute_reply": "2023-07-15T17:37:21.030840Z"
    }
   },
   "outputs": [
    {
     "output_type": "display_data",
     "data": {
      "application/vnd.databricks.v1+bamboolib_hint": "{\"pd.DataFrames\": [], \"version\": \"0.0.1\"}",
      "text/plain": []
     },
     "metadata": {},
     "output_type": "display_data"
    },
    {
     "output_type": "display_data",
     "data": {
      "text/html": [
       "<div>\n",
       "<style scoped>\n",
       "    .dataframe tbody tr th:only-of-type {\n",
       "        vertical-align: middle;\n",
       "    }\n",
       "\n",
       "    .dataframe tbody tr th {\n",
       "        vertical-align: top;\n",
       "    }\n",
       "\n",
       "    .dataframe thead th {\n",
       "        text-align: right;\n",
       "    }\n",
       "</style>\n",
       "<table border=\"1\" class=\"dataframe\">\n",
       "  <thead>\n",
       "    <tr style=\"text-align: right;\">\n",
       "      <th></th>\n",
       "      <th>host_is_superhost</th>\n",
       "      <th>cancellation_policy</th>\n",
       "      <th>instant_bookable</th>\n",
       "      <th>host_total_listings_count</th>\n",
       "      <th>neighbourhood_cleansed</th>\n",
       "      <th>latitude</th>\n",
       "      <th>longitude</th>\n",
       "      <th>property_type</th>\n",
       "      <th>room_type</th>\n",
       "      <th>accommodates</th>\n",
       "      <th>bathrooms</th>\n",
       "      <th>bedrooms</th>\n",
       "      <th>beds</th>\n",
       "      <th>bed_type</th>\n",
       "      <th>minimum_nights</th>\n",
       "      <th>number_of_reviews</th>\n",
       "      <th>review_scores_rating</th>\n",
       "      <th>review_scores_accuracy</th>\n",
       "      <th>review_scores_cleanliness</th>\n",
       "      <th>review_scores_checkin</th>\n",
       "      <th>review_scores_communication</th>\n",
       "      <th>review_scores_location</th>\n",
       "      <th>review_scores_value</th>\n",
       "      <th>bedrooms_na</th>\n",
       "      <th>bathrooms_na</th>\n",
       "      <th>beds_na</th>\n",
       "      <th>review_scores_rating_na</th>\n",
       "      <th>review_scores_accuracy_na</th>\n",
       "      <th>review_scores_cleanliness_na</th>\n",
       "      <th>review_scores_checkin_na</th>\n",
       "      <th>review_scores_communication_na</th>\n",
       "      <th>review_scores_location_na</th>\n",
       "      <th>review_scores_value_na</th>\n",
       "      <th>price</th>\n",
       "      <th>_automl_split_col_9bc7</th>\n",
       "    </tr>\n",
       "  </thead>\n",
       "  <tbody>\n",
       "    <tr>\n",
       "      <th>0</th>\n",
       "      <td>f</td>\n",
       "      <td>flexible</td>\n",
       "      <td>f</td>\n",
       "      <td>1.0</td>\n",
       "      <td>Bayview</td>\n",
       "      <td>37.72001</td>\n",
       "      <td>-122.39249</td>\n",
       "      <td>House</td>\n",
       "      <td>Entire home/apt</td>\n",
       "      <td>2.0</td>\n",
       "      <td>1.0</td>\n",
       "      <td>1.0</td>\n",
       "      <td>1.0</td>\n",
       "      <td>Real Bed</td>\n",
       "      <td>2.0</td>\n",
       "      <td>128.0</td>\n",
       "      <td>97.0</td>\n",
       "      <td>10.0</td>\n",
       "      <td>10.0</td>\n",
       "      <td>10.0</td>\n",
       "      <td>10.0</td>\n",
       "      <td>9.0</td>\n",
       "      <td>10.0</td>\n",
       "      <td>0.0</td>\n",
       "      <td>0.0</td>\n",
       "      <td>0.0</td>\n",
       "      <td>0.0</td>\n",
       "      <td>0.0</td>\n",
       "      <td>0.0</td>\n",
       "      <td>0.0</td>\n",
       "      <td>0.0</td>\n",
       "      <td>0.0</td>\n",
       "      <td>0.0</td>\n",
       "      <td>85.0</td>\n",
       "      <td>train</td>\n",
       "    </tr>\n",
       "    <tr>\n",
       "      <th>1</th>\n",
       "      <td>f</td>\n",
       "      <td>flexible</td>\n",
       "      <td>f</td>\n",
       "      <td>1.0</td>\n",
       "      <td>Bayview</td>\n",
       "      <td>37.73520</td>\n",
       "      <td>-122.38566</td>\n",
       "      <td>House</td>\n",
       "      <td>Private room</td>\n",
       "      <td>2.0</td>\n",
       "      <td>1.0</td>\n",
       "      <td>1.0</td>\n",
       "      <td>1.0</td>\n",
       "      <td>Real Bed</td>\n",
       "      <td>2.0</td>\n",
       "      <td>100.0</td>\n",
       "      <td>96.0</td>\n",
       "      <td>10.0</td>\n",
       "      <td>9.0</td>\n",
       "      <td>10.0</td>\n",
       "      <td>10.0</td>\n",
       "      <td>9.0</td>\n",
       "      <td>10.0</td>\n",
       "      <td>0.0</td>\n",
       "      <td>0.0</td>\n",
       "      <td>0.0</td>\n",
       "      <td>0.0</td>\n",
       "      <td>0.0</td>\n",
       "      <td>0.0</td>\n",
       "      <td>0.0</td>\n",
       "      <td>0.0</td>\n",
       "      <td>0.0</td>\n",
       "      <td>0.0</td>\n",
       "      <td>115.0</td>\n",
       "      <td>train</td>\n",
       "    </tr>\n",
       "    <tr>\n",
       "      <th>2</th>\n",
       "      <td>f</td>\n",
       "      <td>flexible</td>\n",
       "      <td>f</td>\n",
       "      <td>1.0</td>\n",
       "      <td>Bernal Heights</td>\n",
       "      <td>37.73905</td>\n",
       "      <td>-122.41269</td>\n",
       "      <td>Apartment</td>\n",
       "      <td>Private room</td>\n",
       "      <td>1.0</td>\n",
       "      <td>1.0</td>\n",
       "      <td>1.0</td>\n",
       "      <td>1.0</td>\n",
       "      <td>Real Bed</td>\n",
       "      <td>30.0</td>\n",
       "      <td>1.0</td>\n",
       "      <td>80.0</td>\n",
       "      <td>10.0</td>\n",
       "      <td>8.0</td>\n",
       "      <td>10.0</td>\n",
       "      <td>10.0</td>\n",
       "      <td>8.0</td>\n",
       "      <td>10.0</td>\n",
       "      <td>0.0</td>\n",
       "      <td>0.0</td>\n",
       "      <td>0.0</td>\n",
       "      <td>0.0</td>\n",
       "      <td>0.0</td>\n",
       "      <td>0.0</td>\n",
       "      <td>0.0</td>\n",
       "      <td>0.0</td>\n",
       "      <td>0.0</td>\n",
       "      <td>0.0</td>\n",
       "      <td>128.0</td>\n",
       "      <td>train</td>\n",
       "    </tr>\n",
       "    <tr>\n",
       "      <th>3</th>\n",
       "      <td>f</td>\n",
       "      <td>flexible</td>\n",
       "      <td>f</td>\n",
       "      <td>1.0</td>\n",
       "      <td>Bernal Heights</td>\n",
       "      <td>37.74180</td>\n",
       "      <td>-122.41674</td>\n",
       "      <td>House</td>\n",
       "      <td>Private room</td>\n",
       "      <td>3.0</td>\n",
       "      <td>1.0</td>\n",
       "      <td>1.0</td>\n",
       "      <td>1.0</td>\n",
       "      <td>Real Bed</td>\n",
       "      <td>2.0</td>\n",
       "      <td>5.0</td>\n",
       "      <td>100.0</td>\n",
       "      <td>10.0</td>\n",
       "      <td>10.0</td>\n",
       "      <td>10.0</td>\n",
       "      <td>10.0</td>\n",
       "      <td>10.0</td>\n",
       "      <td>10.0</td>\n",
       "      <td>0.0</td>\n",
       "      <td>0.0</td>\n",
       "      <td>0.0</td>\n",
       "      <td>0.0</td>\n",
       "      <td>0.0</td>\n",
       "      <td>0.0</td>\n",
       "      <td>0.0</td>\n",
       "      <td>0.0</td>\n",
       "      <td>0.0</td>\n",
       "      <td>0.0</td>\n",
       "      <td>130.0</td>\n",
       "      <td>train</td>\n",
       "    </tr>\n",
       "    <tr>\n",
       "      <th>4</th>\n",
       "      <td>f</td>\n",
       "      <td>flexible</td>\n",
       "      <td>f</td>\n",
       "      <td>1.0</td>\n",
       "      <td>Castro/Upper Market</td>\n",
       "      <td>37.76269</td>\n",
       "      <td>-122.43188</td>\n",
       "      <td>Apartment</td>\n",
       "      <td>Entire home/apt</td>\n",
       "      <td>2.0</td>\n",
       "      <td>1.0</td>\n",
       "      <td>1.0</td>\n",
       "      <td>1.0</td>\n",
       "      <td>Real Bed</td>\n",
       "      <td>30.0</td>\n",
       "      <td>1.0</td>\n",
       "      <td>100.0</td>\n",
       "      <td>10.0</td>\n",
       "      <td>10.0</td>\n",
       "      <td>10.0</td>\n",
       "      <td>10.0</td>\n",
       "      <td>10.0</td>\n",
       "      <td>10.0</td>\n",
       "      <td>0.0</td>\n",
       "      <td>0.0</td>\n",
       "      <td>0.0</td>\n",
       "      <td>0.0</td>\n",
       "      <td>0.0</td>\n",
       "      <td>0.0</td>\n",
       "      <td>0.0</td>\n",
       "      <td>0.0</td>\n",
       "      <td>0.0</td>\n",
       "      <td>0.0</td>\n",
       "      <td>99.0</td>\n",
       "      <td>train</td>\n",
       "    </tr>\n",
       "  </tbody>\n",
       "</table>\n",
       "</div>"
      ]
     },
     "metadata": {
      "application/vnd.databricks.v1+output": {
       "addedWidgets": {},
       "arguments": {},
       "data": "<div>\n<style scoped>\n    .dataframe tbody tr th:only-of-type {\n        vertical-align: middle;\n    }\n\n    .dataframe tbody tr th {\n        vertical-align: top;\n    }\n\n    .dataframe thead th {\n        text-align: right;\n    }\n</style>\n<table border=\"1\" class=\"dataframe\">\n  <thead>\n    <tr style=\"text-align: right;\">\n      <th></th>\n      <th>host_is_superhost</th>\n      <th>cancellation_policy</th>\n      <th>instant_bookable</th>\n      <th>host_total_listings_count</th>\n      <th>neighbourhood_cleansed</th>\n      <th>latitude</th>\n      <th>longitude</th>\n      <th>property_type</th>\n      <th>room_type</th>\n      <th>accommodates</th>\n      <th>bathrooms</th>\n      <th>bedrooms</th>\n      <th>beds</th>\n      <th>bed_type</th>\n      <th>minimum_nights</th>\n      <th>number_of_reviews</th>\n      <th>review_scores_rating</th>\n      <th>review_scores_accuracy</th>\n      <th>review_scores_cleanliness</th>\n      <th>review_scores_checkin</th>\n      <th>review_scores_communication</th>\n      <th>review_scores_location</th>\n      <th>review_scores_value</th>\n      <th>bedrooms_na</th>\n      <th>bathrooms_na</th>\n      <th>beds_na</th>\n      <th>review_scores_rating_na</th>\n      <th>review_scores_accuracy_na</th>\n      <th>review_scores_cleanliness_na</th>\n      <th>review_scores_checkin_na</th>\n      <th>review_scores_communication_na</th>\n      <th>review_scores_location_na</th>\n      <th>review_scores_value_na</th>\n      <th>price</th>\n      <th>_automl_split_col_9bc7</th>\n    </tr>\n  </thead>\n  <tbody>\n    <tr>\n      <th>0</th>\n      <td>f</td>\n      <td>flexible</td>\n      <td>f</td>\n      <td>1.0</td>\n      <td>Bayview</td>\n      <td>37.72001</td>\n      <td>-122.39249</td>\n      <td>House</td>\n      <td>Entire home/apt</td>\n      <td>2.0</td>\n      <td>1.0</td>\n      <td>1.0</td>\n      <td>1.0</td>\n      <td>Real Bed</td>\n      <td>2.0</td>\n      <td>128.0</td>\n      <td>97.0</td>\n      <td>10.0</td>\n      <td>10.0</td>\n      <td>10.0</td>\n      <td>10.0</td>\n      <td>9.0</td>\n      <td>10.0</td>\n      <td>0.0</td>\n      <td>0.0</td>\n      <td>0.0</td>\n      <td>0.0</td>\n      <td>0.0</td>\n      <td>0.0</td>\n      <td>0.0</td>\n      <td>0.0</td>\n      <td>0.0</td>\n      <td>0.0</td>\n      <td>85.0</td>\n      <td>train</td>\n    </tr>\n    <tr>\n      <th>1</th>\n      <td>f</td>\n      <td>flexible</td>\n      <td>f</td>\n      <td>1.0</td>\n      <td>Bayview</td>\n      <td>37.73520</td>\n      <td>-122.38566</td>\n      <td>House</td>\n      <td>Private room</td>\n      <td>2.0</td>\n      <td>1.0</td>\n      <td>1.0</td>\n      <td>1.0</td>\n      <td>Real Bed</td>\n      <td>2.0</td>\n      <td>100.0</td>\n      <td>96.0</td>\n      <td>10.0</td>\n      <td>9.0</td>\n      <td>10.0</td>\n      <td>10.0</td>\n      <td>9.0</td>\n      <td>10.0</td>\n      <td>0.0</td>\n      <td>0.0</td>\n      <td>0.0</td>\n      <td>0.0</td>\n      <td>0.0</td>\n      <td>0.0</td>\n      <td>0.0</td>\n      <td>0.0</td>\n      <td>0.0</td>\n      <td>0.0</td>\n      <td>115.0</td>\n      <td>train</td>\n    </tr>\n    <tr>\n      <th>2</th>\n      <td>f</td>\n      <td>flexible</td>\n      <td>f</td>\n      <td>1.0</td>\n      <td>Bernal Heights</td>\n      <td>37.73905</td>\n      <td>-122.41269</td>\n      <td>Apartment</td>\n      <td>Private room</td>\n      <td>1.0</td>\n      <td>1.0</td>\n      <td>1.0</td>\n      <td>1.0</td>\n      <td>Real Bed</td>\n      <td>30.0</td>\n      <td>1.0</td>\n      <td>80.0</td>\n      <td>10.0</td>\n      <td>8.0</td>\n      <td>10.0</td>\n      <td>10.0</td>\n      <td>8.0</td>\n      <td>10.0</td>\n      <td>0.0</td>\n      <td>0.0</td>\n      <td>0.0</td>\n      <td>0.0</td>\n      <td>0.0</td>\n      <td>0.0</td>\n      <td>0.0</td>\n      <td>0.0</td>\n      <td>0.0</td>\n      <td>0.0</td>\n      <td>128.0</td>\n      <td>train</td>\n    </tr>\n    <tr>\n      <th>3</th>\n      <td>f</td>\n      <td>flexible</td>\n      <td>f</td>\n      <td>1.0</td>\n      <td>Bernal Heights</td>\n      <td>37.74180</td>\n      <td>-122.41674</td>\n      <td>House</td>\n      <td>Private room</td>\n      <td>3.0</td>\n      <td>1.0</td>\n      <td>1.0</td>\n      <td>1.0</td>\n      <td>Real Bed</td>\n      <td>2.0</td>\n      <td>5.0</td>\n      <td>100.0</td>\n      <td>10.0</td>\n      <td>10.0</td>\n      <td>10.0</td>\n      <td>10.0</td>\n      <td>10.0</td>\n      <td>10.0</td>\n      <td>0.0</td>\n      <td>0.0</td>\n      <td>0.0</td>\n      <td>0.0</td>\n      <td>0.0</td>\n      <td>0.0</td>\n      <td>0.0</td>\n      <td>0.0</td>\n      <td>0.0</td>\n      <td>0.0</td>\n      <td>130.0</td>\n      <td>train</td>\n    </tr>\n    <tr>\n      <th>4</th>\n      <td>f</td>\n      <td>flexible</td>\n      <td>f</td>\n      <td>1.0</td>\n      <td>Castro/Upper Market</td>\n      <td>37.76269</td>\n      <td>-122.43188</td>\n      <td>Apartment</td>\n      <td>Entire home/apt</td>\n      <td>2.0</td>\n      <td>1.0</td>\n      <td>1.0</td>\n      <td>1.0</td>\n      <td>Real Bed</td>\n      <td>30.0</td>\n      <td>1.0</td>\n      <td>100.0</td>\n      <td>10.0</td>\n      <td>10.0</td>\n      <td>10.0</td>\n      <td>10.0</td>\n      <td>10.0</td>\n      <td>10.0</td>\n      <td>0.0</td>\n      <td>0.0</td>\n      <td>0.0</td>\n      <td>0.0</td>\n      <td>0.0</td>\n      <td>0.0</td>\n      <td>0.0</td>\n      <td>0.0</td>\n      <td>0.0</td>\n      <td>0.0</td>\n      <td>99.0</td>\n      <td>train</td>\n    </tr>\n  </tbody>\n</table>\n</div>",
       "datasetInfos": [],
       "metadata": {},
       "removedWidgets": [],
       "textData": null,
       "type": "htmlSandbox"
      }
     },
     "output_type": "display_data"
    }
   ],
   "source": [
    "from mlflow.tracking import MlflowClient\n",
    "import os\n",
    "import uuid\n",
    "import shutil\n",
    "import pandas as pd\n",
    "\n",
    "# Create temp directory to download input data from MLflow\n",
    "input_temp_dir = os.path.join(os.environ[\"SPARK_LOCAL_DIRS\"], \"tmp\", str(uuid.uuid4())[:8])\n",
    "os.makedirs(input_temp_dir)\n",
    "\n",
    "\n",
    "# Download the artifact and read it into a pandas DataFrame\n",
    "input_client = MlflowClient()\n",
    "input_data_path = input_client.download_artifacts(\"9027af4b03de46bda81d4f02b3804e11\", \"data\", input_temp_dir)\n",
    "\n",
    "df_loaded = pd.read_parquet(os.path.join(input_data_path, \"training_data\"))\n",
    "# Delete the temp data\n",
    "shutil.rmtree(input_temp_dir)\n",
    "\n",
    "# Preview data\n",
    "df_loaded.head(5)"
   ]
  },
  {
   "cell_type": "markdown",
   "metadata": {
    "application/vnd.databricks.v1+cell": {
     "cellMetadata": {
      "byteLimit": 2048000,
      "rowLimit": 10000
     },
     "inputWidgets": {},
     "nuid": "35ec42d3-8857-4e04-8f89-1dabdc2114f5",
     "showTitle": false,
     "title": ""
    }
   },
   "source": [
    "### Select supported columns\n",
    "Select only the columns that are supported. This allows us to train a model that can predict on a dataset that has extra columns that are not used in training.\n",
    "`[]` are dropped in the pipelines. See the Alerts tab of the AutoML Experiment page for details on why these columns are dropped."
   ]
  },
  {
   "cell_type": "code",
   "execution_count": 0,
   "metadata": {
    "application/vnd.databricks.v1+cell": {
     "cellMetadata": {
      "byteLimit": 2048000,
      "rowLimit": 10000
     },
     "inputWidgets": {},
     "nuid": "99301e09-694e-4cf7-8ff3-a056d4e44303",
     "showTitle": false,
     "title": ""
    },
    "execution": {
     "iopub.execute_input": "2023-07-15T17:37:21.035721Z",
     "iopub.status.busy": "2023-07-15T17:37:21.035105Z",
     "iopub.status.idle": "2023-07-15T17:37:21.403224Z",
     "shell.execute_reply": "2023-07-15T17:37:21.401933Z"
    }
   },
   "outputs": [],
   "source": [
    "from databricks.automl_runtime.sklearn.column_selector import ColumnSelector\n",
    "supported_cols = [\"review_scores_value\", \"review_scores_checkin\", \"bathrooms_na\", \"review_scores_location\", \"instant_bookable\", \"bathrooms\", \"beds_na\", \"review_scores_rating_na\", \"host_is_superhost\", \"neighbourhood_cleansed\", \"beds\", \"review_scores_cleanliness_na\", \"host_total_listings_count\", \"number_of_reviews\", \"review_scores_communication\", \"latitude\", \"cancellation_policy\", \"property_type\", \"review_scores_checkin_na\", \"review_scores_accuracy_na\", \"review_scores_value_na\", \"review_scores_cleanliness\", \"bedrooms_na\", \"review_scores_location_na\", \"review_scores_accuracy\", \"minimum_nights\", \"longitude\", \"accommodates\", \"room_type\", \"bedrooms\", \"review_scores_communication_na\", \"review_scores_rating\", \"bed_type\"]\n",
    "col_selector = ColumnSelector(supported_cols)"
   ]
  },
  {
   "cell_type": "markdown",
   "metadata": {
    "application/vnd.databricks.v1+cell": {
     "cellMetadata": {
      "byteLimit": 2048000,
      "rowLimit": 10000
     },
     "inputWidgets": {},
     "nuid": "3ad6a1a7-dce2-4d83-aa87-654416ebc051",
     "showTitle": false,
     "title": ""
    }
   },
   "source": [
    "## Preprocessors"
   ]
  },
  {
   "cell_type": "markdown",
   "metadata": {
    "application/vnd.databricks.v1+cell": {
     "cellMetadata": {
      "byteLimit": 2048000,
      "rowLimit": 10000
     },
     "inputWidgets": {},
     "nuid": "6944d305-23f1-41da-805d-f8827ccc19ec",
     "showTitle": false,
     "title": ""
    }
   },
   "source": [
    "### Numerical columns\n",
    "\n",
    "Missing values for numerical columns are imputed with mean by default."
   ]
  },
  {
   "cell_type": "code",
   "execution_count": 0,
   "metadata": {
    "application/vnd.databricks.v1+cell": {
     "cellMetadata": {
      "byteLimit": 2048000,
      "rowLimit": 10000
     },
     "inputWidgets": {},
     "nuid": "bd426e4f-51d0-487d-abf1-5f0df35fb434",
     "showTitle": false,
     "title": ""
    },
    "execution": {
     "iopub.execute_input": "2023-07-15T17:37:21.409780Z",
     "iopub.status.busy": "2023-07-15T17:37:21.405565Z",
     "iopub.status.idle": "2023-07-15T17:37:21.448300Z",
     "shell.execute_reply": "2023-07-15T17:37:21.448651Z"
    }
   },
   "outputs": [],
   "source": [
    "from sklearn.compose import ColumnTransformer\n",
    "from sklearn.impute import SimpleImputer\n",
    "from sklearn.pipeline import Pipeline\n",
    "from sklearn.preprocessing import FunctionTransformer, StandardScaler\n",
    "\n",
    "num_imputers = []\n",
    "num_imputers.append((\"impute_mean\", SimpleImputer(), [\"accommodates\", \"bathrooms\", \"bathrooms_na\", \"bedrooms\", \"bedrooms_na\", \"beds\", \"beds_na\", \"host_total_listings_count\", \"latitude\", \"longitude\", \"minimum_nights\", \"number_of_reviews\", \"review_scores_accuracy\", \"review_scores_accuracy_na\", \"review_scores_checkin\", \"review_scores_checkin_na\", \"review_scores_cleanliness\", \"review_scores_cleanliness_na\", \"review_scores_communication\", \"review_scores_communication_na\", \"review_scores_location\", \"review_scores_location_na\", \"review_scores_rating\", \"review_scores_rating_na\", \"review_scores_value\", \"review_scores_value_na\"]))\n",
    "\n",
    "numerical_pipeline = Pipeline(steps=[\n",
    "    (\"converter\", FunctionTransformer(lambda df: df.apply(pd.to_numeric, errors=\"coerce\"))),\n",
    "    (\"imputers\", ColumnTransformer(num_imputers)),\n",
    "    (\"standardizer\", StandardScaler()),\n",
    "])\n",
    "\n",
    "numerical_transformers = [(\"numerical\", numerical_pipeline, [\"review_scores_value\", \"review_scores_checkin\", \"bathrooms_na\", \"review_scores_location\", \"bathrooms\", \"beds_na\", \"review_scores_rating_na\", \"beds\", \"review_scores_cleanliness_na\", \"host_total_listings_count\", \"number_of_reviews\", \"review_scores_communication\", \"latitude\", \"review_scores_checkin_na\", \"review_scores_accuracy_na\", \"review_scores_value_na\", \"review_scores_cleanliness\", \"bedrooms_na\", \"review_scores_location_na\", \"review_scores_accuracy\", \"minimum_nights\", \"longitude\", \"accommodates\", \"bedrooms\", \"review_scores_communication_na\", \"review_scores_rating\"])]"
   ]
  },
  {
   "cell_type": "markdown",
   "metadata": {
    "application/vnd.databricks.v1+cell": {
     "cellMetadata": {
      "byteLimit": 2048000,
      "rowLimit": 10000
     },
     "inputWidgets": {},
     "nuid": "9aac4f56-6726-4cbf-a6b3-60bc8f6085ca",
     "showTitle": false,
     "title": ""
    }
   },
   "source": [
    "### Categorical columns"
   ]
  },
  {
   "cell_type": "markdown",
   "metadata": {
    "application/vnd.databricks.v1+cell": {
     "cellMetadata": {
      "byteLimit": 2048000,
      "rowLimit": 10000
     },
     "inputWidgets": {},
     "nuid": "df2083e4-d9ad-4111-9e22-73d4ad2d1bb6",
     "showTitle": false,
     "title": ""
    }
   },
   "source": [
    "#### Low-cardinality categoricals\n",
    "Convert each low-cardinality categorical column into multiple binary columns through one-hot encoding.\n",
    "For each input categorical column (string or numeric), the number of output columns is equal to the number of unique values in the input column."
   ]
  },
  {
   "cell_type": "code",
   "execution_count": 0,
   "metadata": {
    "application/vnd.databricks.v1+cell": {
     "cellMetadata": {
      "byteLimit": 2048000,
      "rowLimit": 10000
     },
     "inputWidgets": {},
     "nuid": "1bad09c7-123b-48cd-814c-bd91016ce0f4",
     "showTitle": false,
     "title": ""
    },
    "execution": {
     "iopub.execute_input": "2023-07-15T17:37:21.457365Z",
     "iopub.status.busy": "2023-07-15T17:37:21.456762Z",
     "iopub.status.idle": "2023-07-15T17:37:21.471024Z",
     "shell.execute_reply": "2023-07-15T17:37:21.471514Z"
    }
   },
   "outputs": [],
   "source": [
    "from sklearn.compose import ColumnTransformer\n",
    "from sklearn.impute import SimpleImputer\n",
    "from sklearn.pipeline import Pipeline\n",
    "from sklearn.preprocessing import OneHotEncoder\n",
    "\n",
    "one_hot_imputers = []\n",
    "\n",
    "one_hot_pipeline = Pipeline(steps=[\n",
    "    (\"imputers\", ColumnTransformer(one_hot_imputers, remainder=\"passthrough\")),\n",
    "    (\"one_hot_encoder\", OneHotEncoder(handle_unknown=\"ignore\")),\n",
    "])\n",
    "\n",
    "categorical_one_hot_transformers = [(\"onehot\", one_hot_pipeline, [\"bathrooms_na\", \"bed_type\", \"bedrooms\", \"bedrooms_na\", \"beds_na\", \"cancellation_policy\", \"host_is_superhost\", \"instant_bookable\", \"neighbourhood_cleansed\", \"property_type\", \"review_scores_accuracy\", \"review_scores_accuracy_na\", \"review_scores_checkin\", \"review_scores_checkin_na\", \"review_scores_cleanliness\", \"review_scores_cleanliness_na\", \"review_scores_communication\", \"review_scores_communication_na\", \"review_scores_location\", \"review_scores_location_na\", \"review_scores_rating_na\", \"review_scores_value\", \"review_scores_value_na\", \"room_type\"])]"
   ]
  },
  {
   "cell_type": "code",
   "execution_count": 0,
   "metadata": {
    "application/vnd.databricks.v1+cell": {
     "cellMetadata": {
      "byteLimit": 2048000,
      "rowLimit": 10000
     },
     "inputWidgets": {},
     "nuid": "04d6ad4e-fc87-4a3b-983c-4fbf76fc56f0",
     "showTitle": false,
     "title": ""
    },
    "execution": {
     "iopub.execute_input": "2023-07-15T17:37:21.476535Z",
     "iopub.status.busy": "2023-07-15T17:37:21.475975Z",
     "iopub.status.idle": "2023-07-15T17:37:21.478192Z",
     "shell.execute_reply": "2023-07-15T17:37:21.478636Z"
    }
   },
   "outputs": [],
   "source": [
    "from sklearn.compose import ColumnTransformer\n",
    "\n",
    "transformers = numerical_transformers + categorical_one_hot_transformers\n",
    "\n",
    "preprocessor = ColumnTransformer(transformers, remainder=\"passthrough\", sparse_threshold=1)"
   ]
  },
  {
   "cell_type": "markdown",
   "metadata": {
    "application/vnd.databricks.v1+cell": {
     "cellMetadata": {
      "byteLimit": 2048000,
      "rowLimit": 10000
     },
     "inputWidgets": {},
     "nuid": "98c792b5-26b4-4e20-9fd9-389be3fe2d1a",
     "showTitle": false,
     "title": ""
    }
   },
   "source": [
    "## Train - Validation - Test Split\n",
    "The input data is split by AutoML into 3 sets:\n",
    "- Train (60% of the dataset used to train the model)\n",
    "- Validation (20% of the dataset used to tune the hyperparameters of the model)\n",
    "- Test (20% of the dataset used to report the true performance of the model on an unseen dataset)\n",
    "\n",
    "`_automl_split_col_9bc7` contains the information of which set a given row belongs to.\n",
    "We use this column to split the dataset into the above 3 sets. \n",
    "The column should not be used for training so it is dropped after split is done."
   ]
  },
  {
   "cell_type": "code",
   "execution_count": 0,
   "metadata": {
    "application/vnd.databricks.v1+cell": {
     "cellMetadata": {
      "byteLimit": 2048000,
      "rowLimit": 10000
     },
     "inputWidgets": {},
     "nuid": "7fdd21ab-cf6c-4f3c-8b32-f7e78f15aaaa",
     "showTitle": false,
     "title": ""
    },
    "execution": {
     "iopub.execute_input": "2023-07-15T17:37:21.486525Z",
     "iopub.status.busy": "2023-07-15T17:37:21.486005Z",
     "iopub.status.idle": "2023-07-15T17:37:21.494915Z",
     "shell.execute_reply": "2023-07-15T17:37:21.495405Z"
    }
   },
   "outputs": [],
   "source": [
    "# AutoML completed train - validation - test split internally and used _automl_split_col_9bc7 to specify the set\n",
    "split_train_df = df_loaded.loc[df_loaded._automl_split_col_9bc7 == \"train\"]\n",
    "split_val_df = df_loaded.loc[df_loaded._automl_split_col_9bc7 == \"val\"]\n",
    "split_test_df = df_loaded.loc[df_loaded._automl_split_col_9bc7 == \"test\"]\n",
    "\n",
    "# Separate target column from features and drop _automl_split_col_9bc7\n",
    "X_train = split_train_df.drop([target_col, \"_automl_split_col_9bc7\"], axis=1)\n",
    "y_train = split_train_df[target_col]\n",
    "\n",
    "X_val = split_val_df.drop([target_col, \"_automl_split_col_9bc7\"], axis=1)\n",
    "y_val = split_val_df[target_col]\n",
    "\n",
    "X_test = split_test_df.drop([target_col, \"_automl_split_col_9bc7\"], axis=1)\n",
    "y_test = split_test_df[target_col]"
   ]
  },
  {
   "cell_type": "markdown",
   "metadata": {
    "application/vnd.databricks.v1+cell": {
     "cellMetadata": {
      "byteLimit": 2048000,
      "rowLimit": 10000
     },
     "inputWidgets": {},
     "nuid": "4ca58c1b-b0af-41e9-8f3a-99fe67d29327",
     "showTitle": false,
     "title": ""
    }
   },
   "source": [
    "## Train regression model\n",
    "- Log relevant metrics to MLflow to track runs\n",
    "- All the runs are logged under [this MLflow experiment](#mlflow/experiments/1463112007029730)\n",
    "- Change the model parameters and re-run the training cell to log a different trial to the MLflow experiment\n",
    "- To view the full list of tunable hyperparameters, check the output of the cell below"
   ]
  },
  {
   "cell_type": "code",
   "execution_count": 0,
   "metadata": {
    "application/vnd.databricks.v1+cell": {
     "cellMetadata": {
      "byteLimit": 2048000,
      "rowLimit": 10000
     },
     "inputWidgets": {},
     "nuid": "0c4e2e2a-feb9-4172-96e0-41e49ef9b671",
     "showTitle": false,
     "title": ""
    },
    "execution": {
     "iopub.execute_input": "2023-07-15T17:37:21.500212Z",
     "iopub.status.busy": "2023-07-15T17:37:21.498551Z",
     "iopub.status.idle": "2023-07-15T17:37:21.636488Z",
     "shell.execute_reply": "2023-07-15T17:37:21.635913Z"
    }
   },
   "outputs": [
    {
     "output_type": "stream",
     "name": "stdout",
     "output_type": "stream",
     "text": [
      "Help on class XGBRegressor in module xgboost.sklearn:\n\nclass XGBRegressor(XGBModel, sklearn.base.RegressorMixin)\n |  XGBRegressor(*, objective: Union[str, Callable[[numpy.ndarray, numpy.ndarray], Tuple[numpy.ndarray, numpy.ndarray]], NoneType] = 'reg:squarederror', **kwargs: Any) -> None\n |  \n |  Implementation of the scikit-learn API for XGBoost regression.\n |  \n |  \n |  Parameters\n |  ----------\n |  \n |      n_estimators : int\n |          Number of gradient boosted trees.  Equivalent to number of boosting\n |          rounds.\n |  \n |      max_depth :  Optional[int]\n |          Maximum tree depth for base learners.\n |      max_leaves :\n |          Maximum number of leaves; 0 indicates no limit.\n |      max_bin :\n |          If using histogram-based algorithm, maximum number of bins per feature\n |      grow_policy :\n |          Tree growing policy. 0: favor splitting at nodes closest to the node, i.e. grow\n |          depth-wise. 1: favor splitting at nodes with highest loss change.\n |      learning_rate : Optional[float]\n |          Boosting learning rate (xgb's \"eta\")\n |      verbosity : Optional[int]\n |          The degree of verbosity. Valid values are 0 (silent) - 3 (debug).\n |      objective : typing.Union[str, typing.Callable[[numpy.ndarray, numpy.ndarray], typing.Tuple[numpy.ndarray, numpy.ndarray]], NoneType]\n |          Specify the learning task and the corresponding learning objective or\n |          a custom objective function to be used (see note below).\n |      booster: Optional[str]\n |          Specify which booster to use: gbtree, gblinear or dart.\n |      tree_method: Optional[str]\n |          Specify which tree method to use.  Default to auto.  If this parameter is set to\n |          default, XGBoost will choose the most conservative option available.  It's\n |          recommended to study this option from the parameters document :doc:`tree method\n |          </treemethod>`\n |      n_jobs : Optional[int]\n |          Number of parallel threads used to run xgboost.  When used with other Scikit-Learn\n |          algorithms like grid search, you may choose which algorithm to parallelize and\n |          balance the threads.  Creating thread contention will significantly slow down both\n |          algorithms.\n |      gamma : Optional[float]\n |          (min_split_loss) Minimum loss reduction required to make a further partition on a\n |          leaf node of the tree.\n |      min_child_weight : Optional[float]\n |          Minimum sum of instance weight(hessian) needed in a child.\n |      max_delta_step : Optional[float]\n |          Maximum delta step we allow each tree's weight estimation to be.\n |      subsample : Optional[float]\n |          Subsample ratio of the training instance.\n |      sampling_method :\n |          Sampling method. Used only by `gpu_hist` tree method.\n |            - `uniform`: select random training instances uniformly.\n |            - `gradient_based` select random training instances with higher probability when\n |              the gradient and hessian are larger. (cf. CatBoost)\n |      colsample_bytree : Optional[float]\n |          Subsample ratio of columns when constructing each tree.\n |      colsample_bylevel : Optional[float]\n |          Subsample ratio of columns for each level.\n |      colsample_bynode : Optional[float]\n |          Subsample ratio of columns for each split.\n |      reg_alpha : Optional[float]\n |          L1 regularization term on weights (xgb's alpha).\n |      reg_lambda : Optional[float]\n |          L2 regularization term on weights (xgb's lambda).\n |      scale_pos_weight : Optional[float]\n |          Balancing of positive and negative weights.\n |      base_score : Optional[float]\n |          The initial prediction score of all instances, global bias.\n |      random_state : Optional[Union[numpy.random.RandomState, int]]\n |          Random number seed.\n |  \n |          .. note::\n |  \n |             Using gblinear booster with shotgun updater is nondeterministic as\n |             it uses Hogwild algorithm.\n |  \n |      missing : float, default np.nan\n |          Value in the data which needs to be present as a missing value.\n |      num_parallel_tree: Optional[int]\n |          Used for boosting random forest.\n |      monotone_constraints : Optional[Union[Dict[str, int], str]]\n |          Constraint of variable monotonicity.  See :doc:`tutorial </tutorials/monotonic>`\n |          for more information.\n |      interaction_constraints : Optional[Union[str, List[Tuple[str]]]]\n |          Constraints for interaction representing permitted interactions.  The\n |          constraints must be specified in the form of a nested list, e.g. ``[[0, 1], [2,\n |          3, 4]]``, where each inner list is a group of indices of features that are\n |          allowed to interact with each other.  See :doc:`tutorial\n |          </tutorials/feature_interaction_constraint>` for more information\n |      importance_type: Optional[str]\n |          The feature importance type for the feature_importances\\_ property:\n |  \n |          * For tree model, it's either \"gain\", \"weight\", \"cover\", \"total_gain\" or\n |            \"total_cover\".\n |          * For linear model, only \"weight\" is defined and it's the normalized coefficients\n |            without bias.\n |  \n |      gpu_id : Optional[int]\n |          Device ordinal.\n |      validate_parameters : Optional[bool]\n |          Give warnings for unknown parameter.\n |      predictor : Optional[str]\n |          Force XGBoost to use specific predictor, available choices are [cpu_predictor,\n |          gpu_predictor].\n |      enable_categorical : bool\n |  \n |          .. versionadded:: 1.5.0\n |  \n |          .. note:: This parameter is experimental\n |  \n |          Experimental support for categorical data.  When enabled, cudf/pandas.DataFrame\n |          should be used to specify categorical data type.  Also, JSON/UBJSON\n |          serialization format is required.\n |  \n |      max_cat_to_onehot : Optional[int]\n |  \n |          .. versionadded:: 1.6.0\n |  \n |          .. note:: This parameter is experimental\n |  \n |          A threshold for deciding whether XGBoost should use one-hot encoding based split\n |          for categorical data.  When number of categories is lesser than the threshold\n |          then one-hot encoding is chosen, otherwise the categories will be partitioned\n |          into children nodes.  Only relevant for regression and binary classification.\n |          See :doc:`Categorical Data </tutorials/categorical>` for details.\n |  \n |      eval_metric : Optional[Union[str, List[str], Callable]]\n |  \n |          .. versionadded:: 1.6.0\n |  \n |          Metric used for monitoring the training result and early stopping.  It can be a\n |          string or list of strings as names of predefined metric in XGBoost (See\n |          doc/parameter.rst), one of the metrics in :py:mod:`sklearn.metrics`, or any other\n |          user defined metric that looks like `sklearn.metrics`.\n |  \n |          If custom objective is also provided, then custom metric should implement the\n |          corresponding reverse link function.\n |  \n |          Unlike the `scoring` parameter commonly used in scikit-learn, when a callable\n |          object is provided, it's assumed to be a cost function and by default XGBoost will\n |          minimize the result during early stopping.\n |  \n |          For advanced usage on Early stopping like directly choosing to maximize instead of\n |          minimize, see :py:obj:`xgboost.callback.EarlyStopping`.\n |  \n |          See :doc:`Custom Objective and Evaluation Metric </tutorials/custom_metric_obj>`\n |          for more.\n |  \n |          .. note::\n |  \n |               This parameter replaces `eval_metric` in :py:meth:`fit` method.  The old one\n |               receives un-transformed prediction regardless of whether custom objective is\n |               being used.\n |  \n |          .. code-block:: python\n |  \n |              from sklearn.datasets import load_diabetes\n |              from sklearn.metrics import mean_absolute_error\n |              X, y = load_diabetes(return_X_y=True)\n |              reg = xgb.XGBRegressor(\n |                  tree_method=\"hist\",\n |                  eval_metric=mean_absolute_error,\n |              )\n |              reg.fit(X, y, eval_set=[(X, y)])\n |  \n |      early_stopping_rounds : Optional[int]\n |  \n |          .. versionadded:: 1.6.0\n |  \n |          Activates early stopping. Validation metric needs to improve at least once in\n |          every **early_stopping_rounds** round(s) to continue training.  Requires at least\n |          one item in **eval_set** in :py:meth:`fit`.\n |  \n |          The method returns the model from the last iteration (not the best one).  If\n |          there's more than one item in **eval_set**, the last entry will be used for early\n |          stopping.  If there's more than one metric in **eval_metric**, the last metric\n |          will be used for early stopping.\n |  \n |          If early stopping occurs, the model will have three additional fields:\n |          :py:attr:`best_score`, :py:attr:`best_iteration` and\n |          :py:attr:`best_ntree_limit`.\n |  \n |          .. note::\n |  \n |              This parameter replaces `early_stopping_rounds` in :py:meth:`fit` method.\n |  \n |      callbacks : Optional[List[TrainingCallback]]\n |          List of callback functions that are applied at end of each iteration.\n |          It is possible to use predefined callbacks by using\n |          :ref:`Callback API <callback_api>`.\n |  \n |          .. note::\n |  \n |             States in callback are not preserved during training, which means callback\n |             objects can not be reused for multiple training sessions without\n |             reinitialization or deepcopy.\n |  \n |          .. code-block:: python\n |  \n |              for params in parameters_grid:\n |                  # be sure to (re)initialize the callbacks before each run\n |                  callbacks = [xgb.callback.LearningRateScheduler(custom_rates)]\n |                  xgboost.train(params, Xy, callbacks=callbacks)\n |  \n |      kwargs : dict, optional\n |          Keyword arguments for XGBoost Booster object.  Full documentation of parameters\n |          can be found :doc:`here </parameter>`.\n |          Attempting to set a parameter via the constructor args and \\*\\*kwargs\n |          dict simultaneously will result in a TypeError.\n |  \n |          .. note:: \\*\\*kwargs unsupported by scikit-learn\n |  \n |              \\*\\*kwargs is unsupported by scikit-learn.  We do not guarantee\n |              that parameters passed via this argument will interact properly\n |              with scikit-learn.\n |  \n |          .. note::  Custom objective function\n |  \n |              A custom objective function can be provided for the ``objective``\n |              parameter. In this case, it should have the signature\n |              ``objective(y_true, y_pred) -> grad, hess``:\n |  \n |              y_true: array_like of shape [n_samples]\n |                  The target values\n |              y_pred: array_like of shape [n_samples]\n |                  The predicted values\n |  \n |              grad: array_like of shape [n_samples]\n |                  The value of the gradient for each sample point.\n |              hess: array_like of shape [n_samples]\n |                  The value of the second derivative for each sample point\n |  \n |  Method resolution order:\n |      XGBRegressor\n |      XGBModel\n |      sklearn.base.BaseEstimator\n |      sklearn.base.RegressorMixin\n |      builtins.object\n |  \n |  Methods defined here:\n |  \n |  __init__(self, *, objective: Union[str, Callable[[numpy.ndarray, numpy.ndarray], Tuple[numpy.ndarray, numpy.ndarray]], NoneType] = 'reg:squarederror', **kwargs: Any) -> None\n |      Initialize self.  See help(type(self)) for accurate signature.\n |  \n |  fit(self, X: Any, y: Any, *, sample_weight: Optional[Any] = None, base_margin: Optional[Any] = None, eval_set: Optional[Sequence[Tuple[Any, Any]]] = None, eval_metric: Union[str, Sequence[str], Callable[[numpy.ndarray, xgboost.core.DMatrix], Tuple[str, float]], NoneType] = None, early_stopping_rounds: Optional[int] = None, verbose: Optional[bool] = True, xgb_model: Union[xgboost.core.Booster, ForwardRef('XGBModel'), str, NoneType] = None, sample_weight_eval_set: Optional[Sequence[Any]] = None, base_margin_eval_set: Optional[Sequence[Any]] = None, feature_weights: Optional[Any] = None, callbacks: Optional[Sequence[xgboost.callback.TrainingCallback]] = None) -> 'XGBModel'\n |      Fit gradient boosting model.\n |      \n |      Note that calling ``fit()`` multiple times will cause the model object to be\n |      re-fit from scratch. To resume training from a previous checkpoint, explicitly\n |      pass ``xgb_model`` argument.\n |      \n |      Parameters\n |      ----------\n |      X :\n |          Feature matrix\n |      y :\n |          Labels\n |      sample_weight :\n |          instance weights\n |      base_margin :\n |          global bias for each instance.\n |      eval_set :\n |          A list of (X, y) tuple pairs to use as validation sets, for which\n |          metrics will be computed.\n |          Validation metrics will help us track the performance of the model.\n |      \n |      eval_metric : str, list of str, or callable, optional\n |          .. deprecated:: 1.6.0\n |              Use `eval_metric` in :py:meth:`__init__` or :py:meth:`set_params` instead.\n |      \n |      early_stopping_rounds : int\n |          .. deprecated:: 1.6.0\n |              Use `early_stopping_rounds` in :py:meth:`__init__` or\n |              :py:meth:`set_params` instead.\n |      verbose :\n |          If `verbose` and an evaluation set is used, writes the evaluation metric\n |          measured on the validation set to stderr.\n |      xgb_model :\n |          file name of stored XGBoost model or 'Booster' instance XGBoost model to be\n |          loaded before training (allows training continuation).\n |      sample_weight_eval_set :\n |          A list of the form [L_1, L_2, ..., L_n], where each L_i is an array like\n |          object storing instance weights for the i-th validation set.\n |      base_margin_eval_set :\n |          A list of the form [M_1, M_2, ..., M_n], where each M_i is an array like\n |          object storing base margin for the i-th validation set.\n |      feature_weights :\n |          Weight for each feature, defines the probability of each feature being\n |          selected when colsample is being used.  All values must be greater than 0,\n |          otherwise a `ValueError` is thrown.\n |      \n |      callbacks :\n |          .. deprecated:: 1.6.0\n |              Use `callbacks` in :py:meth:`__init__` or :py:meth:`set_params` instead.\n |  \n |  predict(self, X: Any, output_margin: bool = False, ntree_limit: Optional[int] = None, validate_features: bool = True, base_margin: Optional[Any] = None, iteration_range: Optional[Tuple[int, int]] = None) -> numpy.ndarray\n |      Predict with `X`.  If the model is trained with early stopping, then `best_iteration`\n |      is used automatically.  For tree models, when data is on GPU, like cupy array or\n |      cuDF dataframe and `predictor` is not specified, the prediction is run on GPU\n |      automatically, otherwise it will run on CPU.\n |      \n |      .. note:: This function is only thread safe for `gbtree` and `dart`.\n |      \n |      Parameters\n |      ----------\n |      X :\n |          Data to predict with.\n |      output_margin :\n |          Whether to output the raw untransformed margin value.\n |      ntree_limit :\n |          Deprecated, use `iteration_range` instead.\n |      validate_features :\n |          When this is True, validate that the Booster's and data's feature_names are\n |          identical.  Otherwise, it is assumed that the feature_names are the same.\n |      base_margin :\n |          Margin added to prediction.\n |      iteration_range :\n |          Specifies which layer of trees are used in prediction.  For example, if a\n |          random forest is trained with 100 rounds.  Specifying ``iteration_range=(10,\n |          20)``, then only the forests built during [10, 20) (half open set) rounds are\n |          used in this prediction.\n |      \n |          .. versionadded:: 1.4.0\n |      \n |      Returns\n |      -------\n |      prediction\n |  \n |  score(self, X, y, sample_weight=None)\n |      Return the coefficient of determination :math:`R^2` of the\n |      prediction.\n |      \n |      The coefficient :math:`R^2` is defined as :math:`(1 - \\frac{u}{v})`,\n |      where :math:`u` is the residual sum of squares ``((y_true - y_pred)\n |      ** 2).sum()`` and :math:`v` is the total sum of squares ``((y_true -\n |      y_true.mean()) ** 2).sum()``. The best possible score is 1.0 and it\n |      can be negative (because the model can be arbitrarily worse). A\n |      constant model that always predicts the expected value of `y`,\n |      disregarding the input features, would get a :math:`R^2` score of\n |      0.0.\n |      \n |      Parameters\n |      ----------\n |      X : array-like of shape (n_samples, n_features)\n |          Test samples. For some estimators this may be a precomputed\n |          kernel matrix or a list of generic objects instead with shape\n |          ``(n_samples, n_samples_fitted)``, where ``n_samples_fitted``\n |          is the number of samples used in the fitting for the estimator.\n |      \n |      y : array-like of shape (n_samples,) or (n_samples, n_outputs)\n |          True values for `X`.\n |      \n |      sample_weight : array-like of shape (n_samples,), default=None\n |          Sample weights.\n |      \n |      Returns\n |      -------\n |      score : float\n |          :math:`R^2` of ``self.predict(X)`` wrt. `y`.\n |      \n |      Notes\n |      -----\n |      The :math:`R^2` score used when calling ``score`` on a regressor uses\n |      ``multioutput='uniform_average'`` from version 0.23 to keep consistent\n |      with default value of :func:`~sklearn.metrics.r2_score`.\n |      This influences the ``score`` method of all the multioutput\n |      regressors (except for\n |      :class:`~sklearn.multioutput.MultiOutputRegressor`).\n |  \n |  ----------------------------------------------------------------------\n |  Methods inherited from XGBModel:\n |  \n |  __sklearn_is_fitted__(self) -> bool\n |  \n |  apply(self, X: Any, ntree_limit: int = 0, iteration_range: Optional[Tuple[int, int]] = None) -> numpy.ndarray\n |      Return the predicted leaf every tree for each sample. If the model is trained with\n |      early stopping, then `best_iteration` is used automatically.\n |      \n |      Parameters\n |      ----------\n |      X : array_like, shape=[n_samples, n_features]\n |          Input features matrix.\n |      \n |      iteration_range :\n |          See :py:meth:`predict`.\n |      \n |      ntree_limit :\n |          Deprecated, use ``iteration_range`` instead.\n |      \n |      Returns\n |      -------\n |      X_leaves : array_like, shape=[n_samples, n_trees]\n |          For each datapoint x in X and for each tree, return the index of the\n |          leaf x ends up in. Leaves are numbered within\n |          ``[0; 2**(self.max_depth+1))``, possibly with gaps in the numbering.\n |  \n |  evals_result(self) -> Dict[str, Dict[str, List[float]]]\n |      Return the evaluation results.\n |      \n |      If **eval_set** is passed to the :py:meth:`fit` function, you can call\n |      ``evals_result()`` to get evaluation results for all passed **eval_sets**.  When\n |      **eval_metric** is also passed to the :py:meth:`fit` function, the\n |      **evals_result** will contain the **eval_metrics** passed to the :py:meth:`fit`\n |      function.\n |      \n |      The returned evaluation result is a dictionary:\n |      \n |      .. code-block:: python\n |      \n |          {'validation_0': {'logloss': ['0.604835', '0.531479']},\n |           'validation_1': {'logloss': ['0.41965', '0.17686']}}\n |      \n |      Returns\n |      -------\n |      evals_result\n |  \n |  get_booster(self) -> xgboost.core.Booster\n |      Get the underlying xgboost Booster of this model.\n |      \n |      This will raise an exception when fit was not called\n |      \n |      Returns\n |      -------\n |      booster : a xgboost booster of underlying model\n |  \n |  get_num_boosting_rounds(self) -> int\n |      Gets the number of xgboost boosting rounds.\n |  \n |  get_params(self, deep: bool = True) -> Dict[str, Any]\n |      Get parameters.\n |  \n |  get_xgb_params(self) -> Dict[str, Any]\n |      Get xgboost specific parameters.\n |  \n |  load_model(self, fname: Union[str, bytearray, os.PathLike]) -> None\n |      Load the model from a file or bytearray. Path to file can be local\n |      or as an URI.\n |      \n |      The model is loaded from XGBoost format which is universal among the various\n |      XGBoost interfaces. Auxiliary attributes of the Python Booster object (such as\n |      feature_names) will not be loaded when using binary format.  To save those\n |      attributes, use JSON/UBJ instead.  See :doc:`Model IO </tutorials/saving_model>`\n |      for more info.\n |      \n |      .. code-block:: python\n |      \n |        model.load_model(\"model.json\")\n |        # or\n |        model.load_model(\"model.ubj\")\n |      \n |      Parameters\n |      ----------\n |      fname :\n |          Input file name or memory buffer(see also save_raw)\n |  \n |  save_model(self, fname: Union[str, os.PathLike]) -> None\n |      Save the model to a file.\n |      \n |      The model is saved in an XGBoost internal format which is universal among the\n |      various XGBoost interfaces. Auxiliary attributes of the Python Booster object\n |      (such as feature_names) will not be saved when using binary format.  To save\n |      those attributes, use JSON/UBJ instead. See :doc:`Model IO\n |      </tutorials/saving_model>` for more info.\n |      \n |      .. code-block:: python\n |      \n |        model.save_model(\"model.json\")\n |        # or\n |        model.save_model(\"model.ubj\")\n |      \n |      Parameters\n |      ----------\n |      fname : string or os.PathLike\n |          Output file name\n |  \n |  set_params(self, **params: Any) -> 'XGBModel'\n |      Set the parameters of this estimator.  Modification of the sklearn method to\n |      allow unknown kwargs. This allows using the full range of xgboost\n |      parameters that are not defined as member variables in sklearn grid\n |      search.\n |      \n |      Returns\n |      -------\n |      self\n |  \n |  ----------------------------------------------------------------------\n |  Readonly properties inherited from XGBModel:\n |  \n |  best_iteration\n |      The best iteration obtained by early stopping.  This attribute is 0-based,\n |      for instance if the best iteration is the first round, then best_iteration is 0.\n |  \n |  best_ntree_limit\n |  \n |  best_score\n |      The best score obtained by early stopping.\n |  \n |  coef_\n |      Coefficients property\n |      \n |      .. note:: Coefficients are defined only for linear learners\n |      \n |          Coefficients are only defined when the linear model is chosen as\n |          base learner (`booster=gblinear`). It is not defined for other base\n |          learner types, such as tree learners (`booster=gbtree`).\n |      \n |      Returns\n |      -------\n |      coef_ : array of shape ``[n_features]`` or ``[n_classes, n_features]``\n |  \n |  feature_importances_\n |      Feature importances property, return depends on `importance_type` parameter.\n |      \n |      Returns\n |      -------\n |      feature_importances_ : array of shape ``[n_features]`` except for multi-class\n |      linear model, which returns an array with shape `(n_features, n_classes)`\n |  \n |  feature_names_in_\n |      Names of features seen during :py:meth:`fit`.  Defined only when `X` has feature\n |      names that are all strings.\n |  \n |  intercept_\n |      Intercept (bias) property\n |      \n |      .. note:: Intercept is defined only for linear learners\n |      \n |          Intercept (bias) is only defined when the linear model is chosen as base\n |          learner (`booster=gblinear`). It is not defined for other base learner types,\n |          such as tree learners (`booster=gbtree`).\n |      \n |      Returns\n |      -------\n |      intercept_ : array of shape ``(1,)`` or ``[n_classes]``\n |  \n |  n_features_in_\n |      Number of features seen during :py:meth:`fit`.\n |  \n |  ----------------------------------------------------------------------\n |  Methods inherited from sklearn.base.BaseEstimator:\n |  \n |  __getstate__(self)\n |  \n |  __repr__(self, N_CHAR_MAX=700)\n |      Return repr(self).\n |  \n |  __setstate__(self, state)\n |  \n |  ----------------------------------------------------------------------\n |  Data descriptors inherited from sklearn.base.BaseEstimator:\n |  \n |  __dict__\n |      dictionary for instance variables (if defined)\n |  \n |  __weakref__\n |      list of weak references to the object (if defined)\n\n"
     ]
    }
   ],
   "source": [
    "from xgboost import XGBRegressor\n",
    "\n",
    "help(XGBRegressor)"
   ]
  },
  {
   "cell_type": "markdown",
   "metadata": {
    "application/vnd.databricks.v1+cell": {
     "cellMetadata": {
      "byteLimit": 2048000,
      "rowLimit": 10000
     },
     "inputWidgets": {},
     "nuid": "b70e3254-66de-4256-acce-b4104c0a3c3b",
     "showTitle": false,
     "title": ""
    }
   },
   "source": [
    "### Define the objective function\n",
    "The objective function used to find optimal hyperparameters. By default, this notebook only runs\n",
    "this function once (`max_evals=1` in the `hyperopt.fmin` invocation) with fixed hyperparameters, but\n",
    "hyperparameters can be tuned by modifying `space`, defined below. `hyperopt.fmin` will then use this\n",
    "function's return value to search the space to minimize the loss."
   ]
  },
  {
   "cell_type": "code",
   "execution_count": 0,
   "metadata": {
    "application/vnd.databricks.v1+cell": {
     "cellMetadata": {
      "byteLimit": 2048000,
      "rowLimit": 10000
     },
     "inputWidgets": {},
     "nuid": "065552e5-deca-4a9d-8b8e-9b4ab6f27284",
     "showTitle": false,
     "title": ""
    },
    "execution": {
     "iopub.execute_input": "2023-07-15T17:37:21.653735Z",
     "iopub.status.busy": "2023-07-15T17:37:21.648712Z",
     "iopub.status.idle": "2023-07-15T17:37:21.838210Z",
     "shell.execute_reply": "2023-07-15T17:37:21.837557Z"
    }
   },
   "outputs": [],
   "source": [
    "import mlflow\n",
    "import sklearn\n",
    "from sklearn import set_config\n",
    "from sklearn.pipeline import Pipeline\n",
    "from hyperopt import hp, tpe, fmin, STATUS_OK, Trials\n",
    "\n",
    "\n",
    "# Create a separate pipeline to transform the validation dataset. This is used for early stopping.\n",
    "pipeline_val = Pipeline([\n",
    "    (\"column_selector\", col_selector),\n",
    "    (\"preprocessor\", preprocessor),\n",
    "])\n",
    "\n",
    "mlflow.sklearn.autolog(disable=True)\n",
    "pipeline_val.fit(X_train, y_train)\n",
    "X_val_processed = pipeline_val.transform(X_val)\n",
    "\n",
    "def objective(params):\n",
    "  with mlflow.start_run(experiment_id=\"1463112007029730\", run_name=\"xgboost\") as mlflow_run:\n",
    "    xgb_regressor = XGBRegressor(**params)\n",
    "\n",
    "    model = Pipeline([\n",
    "        (\"column_selector\", col_selector),\n",
    "        (\"preprocessor\", preprocessor),\n",
    "        (\"regressor\", xgb_regressor),\n",
    "    ])\n",
    "\n",
    "    # Enable automatic logging of input samples, metrics, parameters, and models\n",
    "    mlflow.sklearn.autolog(\n",
    "        log_input_examples=True,\n",
    "        silent=True,\n",
    "    )\n",
    "\n",
    "    model.fit(X_train, y_train, regressor__early_stopping_rounds=5, regressor__verbose=False, regressor__eval_set=[(X_val_processed,y_val)])\n",
    "\n",
    "    \n",
    "    # Training metrics are logged by MLflow autologging\n",
    "    # Log metrics for the validation set\n",
    "    xgb_val_metrics = mlflow.sklearn.eval_and_log_metrics(model, X_val, y_val, prefix=\"val_\")\n",
    "\n",
    "    # Log metrics for the test set\n",
    "    xgb_test_metrics = mlflow.sklearn.eval_and_log_metrics(model, X_test, y_test, prefix=\"test_\")\n",
    "\n",
    "    loss = xgb_val_metrics[\"val_rmse\"]\n",
    "\n",
    "    # Truncate metric key names so they can be displayed together\n",
    "    xgb_val_metrics = {k.replace(\"val_\", \"\"): v for k, v in xgb_val_metrics.items()}\n",
    "    xgb_test_metrics = {k.replace(\"test_\", \"\"): v for k, v in xgb_test_metrics.items()}\n",
    "\n",
    "    return {\n",
    "      \"loss\": loss,\n",
    "      \"status\": STATUS_OK,\n",
    "      \"val_metrics\": xgb_val_metrics,\n",
    "      \"test_metrics\": xgb_test_metrics,\n",
    "      \"model\": model,\n",
    "      \"run\": mlflow_run,\n",
    "    }"
   ]
  },
  {
   "cell_type": "markdown",
   "metadata": {
    "application/vnd.databricks.v1+cell": {
     "cellMetadata": {
      "byteLimit": 2048000,
      "rowLimit": 10000
     },
     "inputWidgets": {},
     "nuid": "63bff583-fec7-411c-bba3-797020d35f14",
     "showTitle": false,
     "title": ""
    }
   },
   "source": [
    "### Configure the hyperparameter search space\n",
    "Configure the search space of parameters. Parameters below are all constant expressions but can be\n",
    "modified to widen the search space. For example, when training a decision tree regressor, to allow\n",
    "the maximum tree depth to be either 2 or 3, set the key of 'max_depth' to\n",
    "`hp.choice('max_depth', [2, 3])`. Be sure to also increase `max_evals` in the `fmin` call below.\n",
    "\n",
    "See https://docs.databricks.com/applications/machine-learning/automl-hyperparam-tuning/index.html\n",
    "for more information on hyperparameter tuning as well as\n",
    "http://hyperopt.github.io/hyperopt/getting-started/search_spaces/ for documentation on supported\n",
    "search expressions.\n",
    "\n",
    "For documentation on parameters used by the model in use, please see:\n",
    "https://xgboost.readthedocs.io/en/stable/python/python_api.html#xgboost.XGBRegressor\n",
    "\n",
    "NOTE: The above URL points to a stable version of the documentation corresponding to the last\n",
    "released version of the package. The documentation may differ slightly for the package version\n",
    "used by this notebook."
   ]
  },
  {
   "cell_type": "code",
   "execution_count": 0,
   "metadata": {
    "application/vnd.databricks.v1+cell": {
     "cellMetadata": {
      "byteLimit": 2048000,
      "rowLimit": 10000
     },
     "inputWidgets": {},
     "nuid": "a0a2a390-ce19-4354-87b0-19ef3c86607e",
     "showTitle": false,
     "title": ""
    },
    "execution": {
     "iopub.execute_input": "2023-07-15T17:37:21.844078Z",
     "iopub.status.busy": "2023-07-15T17:37:21.843681Z",
     "iopub.status.idle": "2023-07-15T17:37:21.846579Z",
     "shell.execute_reply": "2023-07-15T17:37:21.847332Z"
    }
   },
   "outputs": [],
   "source": [
    "space = {\n",
    "  \"colsample_bytree\": 0.7261238523462457,\n",
    "  \"learning_rate\": 0.03955661995614411,\n",
    "  \"max_depth\": 9,\n",
    "  \"min_child_weight\": 16,\n",
    "  \"n_estimators\": 1903,\n",
    "  \"n_jobs\": 100,\n",
    "  \"subsample\": 0.3750335783090156,\n",
    "  \"verbosity\": 0,\n",
    "  \"random_state\": 407618260,\n",
    "}"
   ]
  },
  {
   "cell_type": "markdown",
   "metadata": {
    "application/vnd.databricks.v1+cell": {
     "cellMetadata": {
      "byteLimit": 2048000,
      "rowLimit": 10000
     },
     "inputWidgets": {},
     "nuid": "d27361a7-da87-43ad-a5d9-da684a7e7198",
     "showTitle": false,
     "title": ""
    }
   },
   "source": [
    "### Run trials\n",
    "When widening the search space and training multiple models, switch to `SparkTrials` to parallelize\n",
    "training on Spark:\n",
    "```\n",
    "from hyperopt import SparkTrials\n",
    "trials = SparkTrials()\n",
    "```\n",
    "\n",
    "NOTE: While `Trials` starts an MLFlow run for each set of hyperparameters, `SparkTrials` only starts\n",
    "one top-level run; it will start a subrun for each set of hyperparameters.\n",
    "\n",
    "See http://hyperopt.github.io/hyperopt/scaleout/spark/ for more info."
   ]
  },
  {
   "cell_type": "code",
   "execution_count": 0,
   "metadata": {
    "application/vnd.databricks.v1+cell": {
     "cellMetadata": {
      "byteLimit": 2048000,
      "rowLimit": 10000
     },
     "inputWidgets": {},
     "nuid": "e1cbd5ae-3efc-4752-9ba0-700333bf373a",
     "showTitle": false,
     "title": ""
    },
    "execution": {
     "iopub.execute_input": "2023-07-15T17:37:21.851008Z",
     "iopub.status.busy": "2023-07-15T17:37:21.850422Z",
     "iopub.status.idle": "2023-07-15T17:37:31.416847Z",
     "shell.execute_reply": "2023-07-15T17:37:31.417586Z"
    }
   },
   "outputs": [
    {
     "output_type": "stream",
     "name": "stdout",
     "output_type": "stream",
     "text": [
      "\r  0%|          | 0/1 [00:00<?, ?trial/s, best loss=?]/databricks/python/lib/python3.9/site-packages/xgboost/sklearn.py:793: UserWarning: `early_stopping_rounds` in `fit` method is deprecated for better compatibility with scikit-learn, use `early_stopping_rounds` in constructor or`set_params` instead.\n  warnings.warn(\n\n\r100%|██████████| 1/1 [00:09<00:00,  9.28s/trial, best loss: 179.45226748027758]\r100%|██████████| 1/1 [00:09<00:00,  9.28s/trial, best loss: 179.45226748027758]\n"
     ]
    },
    {
     "output_type": "display_data",
     "data": {
      "text/html": [
       "<style scoped>\n",
       "  .table-result-container {\n",
       "    max-height: 300px;\n",
       "    overflow: auto;\n",
       "  }\n",
       "  table, th, td {\n",
       "    border: 1px solid black;\n",
       "    border-collapse: collapse;\n",
       "  }\n",
       "  th, td {\n",
       "    padding: 5px;\n",
       "  }\n",
       "  th {\n",
       "    text-align: left;\n",
       "  }\n",
       "</style><div class='table-result-container'><table class='table-result'><thead style='background-color: white'><tr><th>mse</th><th>mae</th><th>r2_score</th><th>rmse</th><th>score</th></tr></thead><tbody><tr><td>32203.11630381309</td><td>68.32421208994081</td><td>0.3406254106512302</td><td>179.45226748027758</td><td>0.3406254106512302</td></tr><tr><td>133465.1094203411</td><td>80.77184796375661</td><td>0.1633885148290356</td><td>365.32876894701445</td><td>0.1633885148290356</td></tr></tbody></table></div>"
      ]
     },
     "metadata": {
      "application/vnd.databricks.v1+output": {
       "addedWidgets": {},
       "aggData": [],
       "aggError": "",
       "aggOverflow": false,
       "aggSchema": [],
       "aggSeriesLimitReached": false,
       "aggType": "",
       "arguments": {},
       "columnCustomDisplayInfos": {},
       "data": [
        [
         32203.11630381309,
         68.32421208994081,
         0.3406254106512302,
         179.45226748027758,
         0.3406254106512302
        ],
        [
         133465.1094203411,
         80.77184796375661,
         0.1633885148290356,
         365.32876894701445,
         0.1633885148290356
        ]
       ],
       "datasetInfos": [],
       "dbfsResultPath": null,
       "isJsonSchema": true,
       "metadata": {},
       "overflow": false,
       "plotOptions": {
        "customPlotOptions": {},
        "displayType": "table",
        "pivotAggregation": null,
        "pivotColumns": null,
        "xColumns": null,
        "yColumns": null
       },
       "removedWidgets": [],
       "schema": [
        {
         "metadata": "{}",
         "name": "mse",
         "type": "\"double\""
        },
        {
         "metadata": "{}",
         "name": "mae",
         "type": "\"double\""
        },
        {
         "metadata": "{}",
         "name": "r2_score",
         "type": "\"double\""
        },
        {
         "metadata": "{}",
         "name": "rmse",
         "type": "\"double\""
        },
        {
         "metadata": "{}",
         "name": "score",
         "type": "\"double\""
        }
       ],
       "type": "table"
      }
     },
     "output_type": "display_data"
    },
    {
     "output_type": "display_data",
     "data": {
      "text/html": [
       "<style>#sk-932bc49f-a9df-481f-accf-0d8a94369c67 {color: black;background-color: white;}#sk-932bc49f-a9df-481f-accf-0d8a94369c67 pre{padding: 0;}#sk-932bc49f-a9df-481f-accf-0d8a94369c67 div.sk-toggleable {background-color: white;}#sk-932bc49f-a9df-481f-accf-0d8a94369c67 label.sk-toggleable__label {cursor: pointer;display: block;width: 100%;margin-bottom: 0;padding: 0.2em 0.3em;box-sizing: border-box;text-align: center;}#sk-932bc49f-a9df-481f-accf-0d8a94369c67 div.sk-toggleable__content {max-height: 0;max-width: 0;overflow: hidden;text-align: left;background-color: #f0f8ff;}#sk-932bc49f-a9df-481f-accf-0d8a94369c67 div.sk-toggleable__content pre {margin: 0.2em;color: black;border-radius: 0.25em;background-color: #f0f8ff;}#sk-932bc49f-a9df-481f-accf-0d8a94369c67 input.sk-toggleable__control:checked~div.sk-toggleable__content {max-height: 200px;max-width: 100%;overflow: auto;}#sk-932bc49f-a9df-481f-accf-0d8a94369c67 div.sk-estimator input.sk-toggleable__control:checked~label.sk-toggleable__label {background-color: #d4ebff;}#sk-932bc49f-a9df-481f-accf-0d8a94369c67 div.sk-label input.sk-toggleable__control:checked~label.sk-toggleable__label {background-color: #d4ebff;}#sk-932bc49f-a9df-481f-accf-0d8a94369c67 input.sk-hidden--visually {border: 0;clip: rect(1px 1px 1px 1px);clip: rect(1px, 1px, 1px, 1px);height: 1px;margin: -1px;overflow: hidden;padding: 0;position: absolute;width: 1px;}#sk-932bc49f-a9df-481f-accf-0d8a94369c67 div.sk-estimator {font-family: monospace;background-color: #f0f8ff;margin: 0.25em 0.25em;border: 1px dotted black;border-radius: 0.25em;box-sizing: border-box;}#sk-932bc49f-a9df-481f-accf-0d8a94369c67 div.sk-estimator:hover {background-color: #d4ebff;}#sk-932bc49f-a9df-481f-accf-0d8a94369c67 div.sk-parallel-item::after {content: \"\";width: 100%;border-bottom: 1px solid gray;flex-grow: 1;}#sk-932bc49f-a9df-481f-accf-0d8a94369c67 div.sk-label:hover label.sk-toggleable__label {background-color: #d4ebff;}#sk-932bc49f-a9df-481f-accf-0d8a94369c67 div.sk-serial::before {content: \"\";position: absolute;border-left: 1px solid gray;box-sizing: border-box;top: 2em;bottom: 0;left: 50%;}#sk-932bc49f-a9df-481f-accf-0d8a94369c67 div.sk-serial {display: flex;flex-direction: column;align-items: center;background-color: white;}#sk-932bc49f-a9df-481f-accf-0d8a94369c67 div.sk-item {z-index: 1;}#sk-932bc49f-a9df-481f-accf-0d8a94369c67 div.sk-parallel {display: flex;align-items: stretch;justify-content: center;background-color: white;}#sk-932bc49f-a9df-481f-accf-0d8a94369c67 div.sk-parallel-item {display: flex;flex-direction: column;position: relative;background-color: white;}#sk-932bc49f-a9df-481f-accf-0d8a94369c67 div.sk-parallel-item:first-child::after {align-self: flex-end;width: 50%;}#sk-932bc49f-a9df-481f-accf-0d8a94369c67 div.sk-parallel-item:last-child::after {align-self: flex-start;width: 50%;}#sk-932bc49f-a9df-481f-accf-0d8a94369c67 div.sk-parallel-item:only-child::after {width: 0;}#sk-932bc49f-a9df-481f-accf-0d8a94369c67 div.sk-dashed-wrapped {border: 1px dashed gray;margin: 0.2em;box-sizing: border-box;padding-bottom: 0.1em;background-color: white;position: relative;}#sk-932bc49f-a9df-481f-accf-0d8a94369c67 div.sk-label label {font-family: monospace;font-weight: bold;background-color: white;display: inline-block;line-height: 1.2em;}#sk-932bc49f-a9df-481f-accf-0d8a94369c67 div.sk-label-container {position: relative;z-index: 2;text-align: center;}#sk-932bc49f-a9df-481f-accf-0d8a94369c67 div.sk-container {display: inline-block;position: relative;}</style><div id=\"sk-932bc49f-a9df-481f-accf-0d8a94369c67\" class\"sk-top-container\"><div class=\"sk-container\"><div class=\"sk-item sk-dashed-wrapped\"><div class=\"sk-label-container\"><div class=\"sk-label sk-toggleable\"><input class=\"sk-toggleable__control sk-hidden--visually\" id=\"48b6d863-c117-4e57-a243-601db8458d9d\" type=\"checkbox\" ><label class=\"sk-toggleable__label\" for=\"48b6d863-c117-4e57-a243-601db8458d9d\">Pipeline</label><div class=\"sk-toggleable__content\"><pre>Pipeline(steps=[('column_selector',\n",
       "                 ColumnSelector(cols=['review_scores_value',\n",
       "                                      'review_scores_checkin', 'bathrooms_na',\n",
       "                                      'review_scores_location',\n",
       "                                      'instant_bookable', 'bathrooms',\n",
       "                                      'beds_na', 'review_scores_rating_na',\n",
       "                                      'host_is_superhost',\n",
       "                                      'neighbourhood_cleansed', 'beds',\n",
       "                                      'review_scores_cleanliness_na',\n",
       "                                      'host_total_listings_count',\n",
       "                                      'number_of_reviews',\n",
       "                                      'review_sc...\n",
       "                              gamma=0, gpu_id=-1, grow_policy='depthwise',\n",
       "                              importance_type=None, interaction_constraints='',\n",
       "                              learning_rate=0.03955661995614411, max_bin=256,\n",
       "                              max_cat_to_onehot=4, max_delta_step=0,\n",
       "                              max_depth=9, max_leaves=0, min_child_weight=16,\n",
       "                              missing=nan, monotone_constraints='()',\n",
       "                              n_estimators=1903, n_jobs=100,\n",
       "                              num_parallel_tree=1, predictor='auto',\n",
       "                              random_state=407618260, reg_alpha=0, reg_lambda=1, ...))])</pre></div></div></div><div class=\"sk-serial\"><div class=\"sk-item\"><div class=\"sk-estimator sk-toggleable\"><input class=\"sk-toggleable__control sk-hidden--visually\" id=\"bf106e35-6ce8-49e4-9a90-23e85fbf418b\" type=\"checkbox\" ><label class=\"sk-toggleable__label\" for=\"bf106e35-6ce8-49e4-9a90-23e85fbf418b\">ColumnSelector</label><div class=\"sk-toggleable__content\"><pre>ColumnSelector(cols=['review_scores_value', 'review_scores_checkin',\n",
       "                     'bathrooms_na', 'review_scores_location',\n",
       "                     'instant_bookable', 'bathrooms', 'beds_na',\n",
       "                     'review_scores_rating_na', 'host_is_superhost',\n",
       "                     'neighbourhood_cleansed', 'beds',\n",
       "                     'review_scores_cleanliness_na',\n",
       "                     'host_total_listings_count', 'number_of_reviews',\n",
       "                     'review_scores_communication', 'latitude',\n",
       "                     'cancellation_policy', 'property_type',\n",
       "                     'review_scores_checkin_na', 'review_scores_accuracy_na',\n",
       "                     'review_scores_value_na', 'review_scores_cleanliness',\n",
       "                     'bedrooms_na', 'review_scores_location_na',\n",
       "                     'review_scores_accuracy', 'minimum_nights', 'longitude',\n",
       "                     'accommodates', 'room_type', 'bedrooms', ...])</pre></div></div></div><div class=\"sk-item sk-dashed-wrapped\"><div class=\"sk-label-container\"><div class=\"sk-label sk-toggleable\"><input class=\"sk-toggleable__control sk-hidden--visually\" id=\"de1db31c-543e-47f0-a9fa-4591e8bbbe73\" type=\"checkbox\" ><label class=\"sk-toggleable__label\" for=\"de1db31c-543e-47f0-a9fa-4591e8bbbe73\">preprocessor: ColumnTransformer</label><div class=\"sk-toggleable__content\"><pre>ColumnTransformer(remainder='passthrough', sparse_threshold=1,\n",
       "                  transformers=[('numerical',\n",
       "                                 Pipeline(steps=[('converter',\n",
       "                                                  FunctionTransformer(func=<function <lambda> at 0x7f9c3f0ca940>)),\n",
       "                                                 ('imputers',\n",
       "                                                  ColumnTransformer(transformers=[('impute_mean',\n",
       "                                                                                   SimpleImputer(),\n",
       "                                                                                   ['accommodates',\n",
       "                                                                                    'bathrooms',\n",
       "                                                                                    'bathrooms_na',\n",
       "                                                                                    'bedrooms',\n",
       "                                                                                    'bedrooms_na',\n",
       "                                                                                    'beds',\n",
       "                                                                                    'beds_na',\n",
       "                                                                                    'host_total...\n",
       "                                  'property_type', 'review_scores_accuracy',\n",
       "                                  'review_scores_accuracy_na',\n",
       "                                  'review_scores_checkin',\n",
       "                                  'review_scores_checkin_na',\n",
       "                                  'review_scores_cleanliness',\n",
       "                                  'review_scores_cleanliness_na',\n",
       "                                  'review_scores_communication',\n",
       "                                  'review_scores_communication_na',\n",
       "                                  'review_scores_location',\n",
       "                                  'review_scores_location_na',\n",
       "                                  'review_scores_rating_na',\n",
       "                                  'review_scores_value',\n",
       "                                  'review_scores_value_na', 'room_type'])])</pre></div></div></div><div class=\"sk-parallel\"><div class=\"sk-parallel-item\"><div class=\"sk-item\"><div class=\"sk-label-container\"><div class=\"sk-label sk-toggleable\"><input class=\"sk-toggleable__control sk-hidden--visually\" id=\"c90c1c64-a752-471f-88f3-c27bba113e1d\" type=\"checkbox\" ><label class=\"sk-toggleable__label\" for=\"c90c1c64-a752-471f-88f3-c27bba113e1d\">numerical</label><div class=\"sk-toggleable__content\"><pre>['review_scores_value', 'review_scores_checkin', 'bathrooms_na', 'review_scores_location', 'bathrooms', 'beds_na', 'review_scores_rating_na', 'beds', 'review_scores_cleanliness_na', 'host_total_listings_count', 'number_of_reviews', 'review_scores_communication', 'latitude', 'review_scores_checkin_na', 'review_scores_accuracy_na', 'review_scores_value_na', 'review_scores_cleanliness', 'bedrooms_na', 'review_scores_location_na', 'review_scores_accuracy', 'minimum_nights', 'longitude', 'accommodates', 'bedrooms', 'review_scores_communication_na', 'review_scores_rating']</pre></div></div></div><div class=\"sk-serial\"><div class=\"sk-item\"><div class=\"sk-serial\"><div class=\"sk-item\"><div class=\"sk-estimator sk-toggleable\"><input class=\"sk-toggleable__control sk-hidden--visually\" id=\"b91cf5fe-e31a-40e6-a06e-812bb100189d\" type=\"checkbox\" ><label class=\"sk-toggleable__label\" for=\"b91cf5fe-e31a-40e6-a06e-812bb100189d\">FunctionTransformer</label><div class=\"sk-toggleable__content\"><pre>FunctionTransformer(func=<function <lambda> at 0x7f9c3f0ca940>)</pre></div></div></div><div class=\"sk-item sk-dashed-wrapped\"><div class=\"sk-label-container\"><div class=\"sk-label sk-toggleable\"><input class=\"sk-toggleable__control sk-hidden--visually\" id=\"4503fea2-b8a7-4448-b93c-27bcb9c2243b\" type=\"checkbox\" ><label class=\"sk-toggleable__label\" for=\"4503fea2-b8a7-4448-b93c-27bcb9c2243b\">imputers: ColumnTransformer</label><div class=\"sk-toggleable__content\"><pre>ColumnTransformer(transformers=[('impute_mean', SimpleImputer(),\n",
       "                                 ['accommodates', 'bathrooms', 'bathrooms_na',\n",
       "                                  'bedrooms', 'bedrooms_na', 'beds', 'beds_na',\n",
       "                                  'host_total_listings_count', 'latitude',\n",
       "                                  'longitude', 'minimum_nights',\n",
       "                                  'number_of_reviews', 'review_scores_accuracy',\n",
       "                                  'review_scores_accuracy_na',\n",
       "                                  'review_scores_checkin',\n",
       "                                  'review_scores_checkin_na',\n",
       "                                  'review_scores_cleanliness',\n",
       "                                  'review_scores_cleanliness_na',\n",
       "                                  'review_scores_communication',\n",
       "                                  'review_scores_communication_na',\n",
       "                                  'review_scores_location',\n",
       "                                  'review_scores_location_na',\n",
       "                                  'review_scores_rating',\n",
       "                                  'review_scores_rating_na',\n",
       "                                  'review_scores_value',\n",
       "                                  'review_scores_value_na'])])</pre></div></div></div><div class=\"sk-parallel\"><div class=\"sk-parallel-item\"><div class=\"sk-item\"><div class=\"sk-label-container\"><div class=\"sk-label sk-toggleable\"><input class=\"sk-toggleable__control sk-hidden--visually\" id=\"bc46fe72-c07c-4714-ba46-487ffd79c970\" type=\"checkbox\" ><label class=\"sk-toggleable__label\" for=\"bc46fe72-c07c-4714-ba46-487ffd79c970\">impute_mean</label><div class=\"sk-toggleable__content\"><pre>['accommodates', 'bathrooms', 'bathrooms_na', 'bedrooms', 'bedrooms_na', 'beds', 'beds_na', 'host_total_listings_count', 'latitude', 'longitude', 'minimum_nights', 'number_of_reviews', 'review_scores_accuracy', 'review_scores_accuracy_na', 'review_scores_checkin', 'review_scores_checkin_na', 'review_scores_cleanliness', 'review_scores_cleanliness_na', 'review_scores_communication', 'review_scores_communication_na', 'review_scores_location', 'review_scores_location_na', 'review_scores_rating', 'review_scores_rating_na', 'review_scores_value', 'review_scores_value_na']</pre></div></div></div><div class=\"sk-serial\"><div class=\"sk-item\"><div class=\"sk-estimator sk-toggleable\"><input class=\"sk-toggleable__control sk-hidden--visually\" id=\"6edccff3-a821-4a1f-9858-cc57162f8c10\" type=\"checkbox\" ><label class=\"sk-toggleable__label\" for=\"6edccff3-a821-4a1f-9858-cc57162f8c10\">SimpleImputer</label><div class=\"sk-toggleable__content\"><pre>SimpleImputer()</pre></div></div></div></div></div></div></div></div><div class=\"sk-item\"><div class=\"sk-estimator sk-toggleable\"><input class=\"sk-toggleable__control sk-hidden--visually\" id=\"ee9881d4-4233-4ef4-b113-371cf6738c37\" type=\"checkbox\" ><label class=\"sk-toggleable__label\" for=\"ee9881d4-4233-4ef4-b113-371cf6738c37\">StandardScaler</label><div class=\"sk-toggleable__content\"><pre>StandardScaler()</pre></div></div></div></div></div></div></div></div><div class=\"sk-parallel-item\"><div class=\"sk-item\"><div class=\"sk-label-container\"><div class=\"sk-label sk-toggleable\"><input class=\"sk-toggleable__control sk-hidden--visually\" id=\"2943f1d3-41d4-4a67-b364-be3164bd4096\" type=\"checkbox\" ><label class=\"sk-toggleable__label\" for=\"2943f1d3-41d4-4a67-b364-be3164bd4096\">onehot</label><div class=\"sk-toggleable__content\"><pre>['bathrooms_na', 'bed_type', 'bedrooms', 'bedrooms_na', 'beds_na', 'cancellation_policy', 'host_is_superhost', 'instant_bookable', 'neighbourhood_cleansed', 'property_type', 'review_scores_accuracy', 'review_scores_accuracy_na', 'review_scores_checkin', 'review_scores_checkin_na', 'review_scores_cleanliness', 'review_scores_cleanliness_na', 'review_scores_communication', 'review_scores_communication_na', 'review_scores_location', 'review_scores_location_na', 'review_scores_rating_na', 'review_scores_value', 'review_scores_value_na', 'room_type']</pre></div></div></div><div class=\"sk-serial\"><div class=\"sk-item\"><div class=\"sk-serial\"><div class=\"sk-item sk-dashed-wrapped\"><div class=\"sk-label-container\"><div class=\"sk-label sk-toggleable\"><input class=\"sk-toggleable__control sk-hidden--visually\" id=\"fee03807-469e-4999-ba00-239d81bb8a70\" type=\"checkbox\" ><label class=\"sk-toggleable__label\" for=\"fee03807-469e-4999-ba00-239d81bb8a70\">imputers: ColumnTransformer</label><div class=\"sk-toggleable__content\"><pre>ColumnTransformer(remainder='passthrough', transformers=[])</pre></div></div></div><div class=\"sk-parallel\"><div class=\"sk-parallel-item\"><div class=\"sk-item\"><div class=\"sk-label-container\"><div class=\"sk-label sk-toggleable\"><input class=\"sk-toggleable__control sk-hidden--visually\" id=\"98333557-c268-4e87-a047-52800b89a5f7\" type=\"checkbox\" ><label class=\"sk-toggleable__label\" for=\"98333557-c268-4e87-a047-52800b89a5f7\">remainder</label><div class=\"sk-toggleable__content\"><pre></pre></div></div></div><div class=\"sk-serial\"><div class=\"sk-item\"><div class=\"sk-estimator sk-toggleable\"><input class=\"sk-toggleable__control sk-hidden--visually\" id=\"254f729c-6e0b-4f06-9981-df4a348758da\" type=\"checkbox\" ><label class=\"sk-toggleable__label\" for=\"254f729c-6e0b-4f06-9981-df4a348758da\">passthrough</label><div class=\"sk-toggleable__content\"><pre>passthrough</pre></div></div></div></div></div></div></div></div><div class=\"sk-item\"><div class=\"sk-estimator sk-toggleable\"><input class=\"sk-toggleable__control sk-hidden--visually\" id=\"9af8bc8c-37dd-4684-8100-a5c876b38acc\" type=\"checkbox\" ><label class=\"sk-toggleable__label\" for=\"9af8bc8c-37dd-4684-8100-a5c876b38acc\">OneHotEncoder</label><div class=\"sk-toggleable__content\"><pre>OneHotEncoder(handle_unknown='ignore')</pre></div></div></div></div></div></div></div></div><div class=\"sk-parallel-item\"><div class=\"sk-item\"><div class=\"sk-label-container\"><div class=\"sk-label sk-toggleable\"><input class=\"sk-toggleable__control sk-hidden--visually\" id=\"1dee5314-e41f-4fb5-84fc-b715c4397629\" type=\"checkbox\" ><label class=\"sk-toggleable__label\" for=\"1dee5314-e41f-4fb5-84fc-b715c4397629\">remainder</label><div class=\"sk-toggleable__content\"><pre>[['review_scores_value', 'review_scores_checkin', 'bathrooms_na', 'review_scores_location', 'instant_bookable', 'bathrooms', 'beds_na', 'review_scores_rating_na', 'host_is_superhost', 'neighbourhood_cleansed', 'beds', 'review_scores_cleanliness_na', 'host_total_listings_count', 'number_of_reviews', 'review_scores_communication', 'latitude', 'cancellation_policy', 'property_type', 'review_scores_checkin_na', 'review_scores_accuracy_na', 'review_scores_value_na', 'review_scores_cleanliness', 'bedrooms_na', 'review_scores_location_na', 'review_scores_accuracy', 'minimum_nights', 'longitude', 'accommodates', 'room_type', 'bedrooms', 'review_scores_communication_na', 'review_scores_rating', 'bed_type']]</pre></div></div></div><div class=\"sk-serial\"><div class=\"sk-item\"><div class=\"sk-estimator sk-toggleable\"><input class=\"sk-toggleable__control sk-hidden--visually\" id=\"39804b01-e27b-465b-bee5-ea55b2c431fc\" type=\"checkbox\" ><label class=\"sk-toggleable__label\" for=\"39804b01-e27b-465b-bee5-ea55b2c431fc\">passthrough</label><div class=\"sk-toggleable__content\"><pre>passthrough</pre></div></div></div></div></div></div></div></div><div class=\"sk-item\"><div class=\"sk-estimator sk-toggleable\"><input class=\"sk-toggleable__control sk-hidden--visually\" id=\"c0a3a6a1-2ebf-47d8-a814-fd7189d3f246\" type=\"checkbox\" ><label class=\"sk-toggleable__label\" for=\"c0a3a6a1-2ebf-47d8-a814-fd7189d3f246\">XGBRegressor</label><div class=\"sk-toggleable__content\"><pre>XGBRegressor(base_score=0.5, booster='gbtree', callbacks=None,\n",
       "             colsample_bylevel=1, colsample_bynode=1,\n",
       "             colsample_bytree=0.7261238523462457, early_stopping_rounds=None,\n",
       "             enable_categorical=False, eval_metric=None, gamma=0, gpu_id=-1,\n",
       "             grow_policy='depthwise', importance_type=None,\n",
       "             interaction_constraints='', learning_rate=0.03955661995614411,\n",
       "             max_bin=256, max_cat_to_onehot=4, max_delta_step=0, max_depth=9,\n",
       "             max_leaves=0, min_child_weight=16, missing=nan,\n",
       "             monotone_constraints='()', n_estimators=1903, n_jobs=100,\n",
       "             num_parallel_tree=1, predictor='auto', random_state=407618260,\n",
       "             reg_alpha=0, reg_lambda=1, ...)</pre></div></div></div></div></div></div></div>"
      ]
     },
     "metadata": {
      "application/vnd.databricks.v1+output": {
       "addedWidgets": {},
       "arguments": {},
       "data": "<style>#sk-932bc49f-a9df-481f-accf-0d8a94369c67 {color: black;background-color: white;}#sk-932bc49f-a9df-481f-accf-0d8a94369c67 pre{padding: 0;}#sk-932bc49f-a9df-481f-accf-0d8a94369c67 div.sk-toggleable {background-color: white;}#sk-932bc49f-a9df-481f-accf-0d8a94369c67 label.sk-toggleable__label {cursor: pointer;display: block;width: 100%;margin-bottom: 0;padding: 0.2em 0.3em;box-sizing: border-box;text-align: center;}#sk-932bc49f-a9df-481f-accf-0d8a94369c67 div.sk-toggleable__content {max-height: 0;max-width: 0;overflow: hidden;text-align: left;background-color: #f0f8ff;}#sk-932bc49f-a9df-481f-accf-0d8a94369c67 div.sk-toggleable__content pre {margin: 0.2em;color: black;border-radius: 0.25em;background-color: #f0f8ff;}#sk-932bc49f-a9df-481f-accf-0d8a94369c67 input.sk-toggleable__control:checked~div.sk-toggleable__content {max-height: 200px;max-width: 100%;overflow: auto;}#sk-932bc49f-a9df-481f-accf-0d8a94369c67 div.sk-estimator input.sk-toggleable__control:checked~label.sk-toggleable__label {background-color: #d4ebff;}#sk-932bc49f-a9df-481f-accf-0d8a94369c67 div.sk-label input.sk-toggleable__control:checked~label.sk-toggleable__label {background-color: #d4ebff;}#sk-932bc49f-a9df-481f-accf-0d8a94369c67 input.sk-hidden--visually {border: 0;clip: rect(1px 1px 1px 1px);clip: rect(1px, 1px, 1px, 1px);height: 1px;margin: -1px;overflow: hidden;padding: 0;position: absolute;width: 1px;}#sk-932bc49f-a9df-481f-accf-0d8a94369c67 div.sk-estimator {font-family: monospace;background-color: #f0f8ff;margin: 0.25em 0.25em;border: 1px dotted black;border-radius: 0.25em;box-sizing: border-box;}#sk-932bc49f-a9df-481f-accf-0d8a94369c67 div.sk-estimator:hover {background-color: #d4ebff;}#sk-932bc49f-a9df-481f-accf-0d8a94369c67 div.sk-parallel-item::after {content: \"\";width: 100%;border-bottom: 1px solid gray;flex-grow: 1;}#sk-932bc49f-a9df-481f-accf-0d8a94369c67 div.sk-label:hover label.sk-toggleable__label {background-color: #d4ebff;}#sk-932bc49f-a9df-481f-accf-0d8a94369c67 div.sk-serial::before {content: \"\";position: absolute;border-left: 1px solid gray;box-sizing: border-box;top: 2em;bottom: 0;left: 50%;}#sk-932bc49f-a9df-481f-accf-0d8a94369c67 div.sk-serial {display: flex;flex-direction: column;align-items: center;background-color: white;}#sk-932bc49f-a9df-481f-accf-0d8a94369c67 div.sk-item {z-index: 1;}#sk-932bc49f-a9df-481f-accf-0d8a94369c67 div.sk-parallel {display: flex;align-items: stretch;justify-content: center;background-color: white;}#sk-932bc49f-a9df-481f-accf-0d8a94369c67 div.sk-parallel-item {display: flex;flex-direction: column;position: relative;background-color: white;}#sk-932bc49f-a9df-481f-accf-0d8a94369c67 div.sk-parallel-item:first-child::after {align-self: flex-end;width: 50%;}#sk-932bc49f-a9df-481f-accf-0d8a94369c67 div.sk-parallel-item:last-child::after {align-self: flex-start;width: 50%;}#sk-932bc49f-a9df-481f-accf-0d8a94369c67 div.sk-parallel-item:only-child::after {width: 0;}#sk-932bc49f-a9df-481f-accf-0d8a94369c67 div.sk-dashed-wrapped {border: 1px dashed gray;margin: 0.2em;box-sizing: border-box;padding-bottom: 0.1em;background-color: white;position: relative;}#sk-932bc49f-a9df-481f-accf-0d8a94369c67 div.sk-label label {font-family: monospace;font-weight: bold;background-color: white;display: inline-block;line-height: 1.2em;}#sk-932bc49f-a9df-481f-accf-0d8a94369c67 div.sk-label-container {position: relative;z-index: 2;text-align: center;}#sk-932bc49f-a9df-481f-accf-0d8a94369c67 div.sk-container {display: inline-block;position: relative;}</style><div id=\"sk-932bc49f-a9df-481f-accf-0d8a94369c67\" class\"sk-top-container\"><div class=\"sk-container\"><div class=\"sk-item sk-dashed-wrapped\"><div class=\"sk-label-container\"><div class=\"sk-label sk-toggleable\"><input class=\"sk-toggleable__control sk-hidden--visually\" id=\"48b6d863-c117-4e57-a243-601db8458d9d\" type=\"checkbox\" ><label class=\"sk-toggleable__label\" for=\"48b6d863-c117-4e57-a243-601db8458d9d\">Pipeline</label><div class=\"sk-toggleable__content\"><pre>Pipeline(steps=[('column_selector',\n                 ColumnSelector(cols=['review_scores_value',\n                                      'review_scores_checkin', 'bathrooms_na',\n                                      'review_scores_location',\n                                      'instant_bookable', 'bathrooms',\n                                      'beds_na', 'review_scores_rating_na',\n                                      'host_is_superhost',\n                                      'neighbourhood_cleansed', 'beds',\n                                      'review_scores_cleanliness_na',\n                                      'host_total_listings_count',\n                                      'number_of_reviews',\n                                      'review_sc...\n                              gamma=0, gpu_id=-1, grow_policy='depthwise',\n                              importance_type=None, interaction_constraints='',\n                              learning_rate=0.03955661995614411, max_bin=256,\n                              max_cat_to_onehot=4, max_delta_step=0,\n                              max_depth=9, max_leaves=0, min_child_weight=16,\n                              missing=nan, monotone_constraints='()',\n                              n_estimators=1903, n_jobs=100,\n                              num_parallel_tree=1, predictor='auto',\n                              random_state=407618260, reg_alpha=0, reg_lambda=1, ...))])</pre></div></div></div><div class=\"sk-serial\"><div class=\"sk-item\"><div class=\"sk-estimator sk-toggleable\"><input class=\"sk-toggleable__control sk-hidden--visually\" id=\"bf106e35-6ce8-49e4-9a90-23e85fbf418b\" type=\"checkbox\" ><label class=\"sk-toggleable__label\" for=\"bf106e35-6ce8-49e4-9a90-23e85fbf418b\">ColumnSelector</label><div class=\"sk-toggleable__content\"><pre>ColumnSelector(cols=['review_scores_value', 'review_scores_checkin',\n                     'bathrooms_na', 'review_scores_location',\n                     'instant_bookable', 'bathrooms', 'beds_na',\n                     'review_scores_rating_na', 'host_is_superhost',\n                     'neighbourhood_cleansed', 'beds',\n                     'review_scores_cleanliness_na',\n                     'host_total_listings_count', 'number_of_reviews',\n                     'review_scores_communication', 'latitude',\n                     'cancellation_policy', 'property_type',\n                     'review_scores_checkin_na', 'review_scores_accuracy_na',\n                     'review_scores_value_na', 'review_scores_cleanliness',\n                     'bedrooms_na', 'review_scores_location_na',\n                     'review_scores_accuracy', 'minimum_nights', 'longitude',\n                     'accommodates', 'room_type', 'bedrooms', ...])</pre></div></div></div><div class=\"sk-item sk-dashed-wrapped\"><div class=\"sk-label-container\"><div class=\"sk-label sk-toggleable\"><input class=\"sk-toggleable__control sk-hidden--visually\" id=\"de1db31c-543e-47f0-a9fa-4591e8bbbe73\" type=\"checkbox\" ><label class=\"sk-toggleable__label\" for=\"de1db31c-543e-47f0-a9fa-4591e8bbbe73\">preprocessor: ColumnTransformer</label><div class=\"sk-toggleable__content\"><pre>ColumnTransformer(remainder='passthrough', sparse_threshold=1,\n                  transformers=[('numerical',\n                                 Pipeline(steps=[('converter',\n                                                  FunctionTransformer(func=<function <lambda> at 0x7f9c3f0ca940>)),\n                                                 ('imputers',\n                                                  ColumnTransformer(transformers=[('impute_mean',\n                                                                                   SimpleImputer(),\n                                                                                   ['accommodates',\n                                                                                    'bathrooms',\n                                                                                    'bathrooms_na',\n                                                                                    'bedrooms',\n                                                                                    'bedrooms_na',\n                                                                                    'beds',\n                                                                                    'beds_na',\n                                                                                    'host_total...\n                                  'property_type', 'review_scores_accuracy',\n                                  'review_scores_accuracy_na',\n                                  'review_scores_checkin',\n                                  'review_scores_checkin_na',\n                                  'review_scores_cleanliness',\n                                  'review_scores_cleanliness_na',\n                                  'review_scores_communication',\n                                  'review_scores_communication_na',\n                                  'review_scores_location',\n                                  'review_scores_location_na',\n                                  'review_scores_rating_na',\n                                  'review_scores_value',\n                                  'review_scores_value_na', 'room_type'])])</pre></div></div></div><div class=\"sk-parallel\"><div class=\"sk-parallel-item\"><div class=\"sk-item\"><div class=\"sk-label-container\"><div class=\"sk-label sk-toggleable\"><input class=\"sk-toggleable__control sk-hidden--visually\" id=\"c90c1c64-a752-471f-88f3-c27bba113e1d\" type=\"checkbox\" ><label class=\"sk-toggleable__label\" for=\"c90c1c64-a752-471f-88f3-c27bba113e1d\">numerical</label><div class=\"sk-toggleable__content\"><pre>['review_scores_value', 'review_scores_checkin', 'bathrooms_na', 'review_scores_location', 'bathrooms', 'beds_na', 'review_scores_rating_na', 'beds', 'review_scores_cleanliness_na', 'host_total_listings_count', 'number_of_reviews', 'review_scores_communication', 'latitude', 'review_scores_checkin_na', 'review_scores_accuracy_na', 'review_scores_value_na', 'review_scores_cleanliness', 'bedrooms_na', 'review_scores_location_na', 'review_scores_accuracy', 'minimum_nights', 'longitude', 'accommodates', 'bedrooms', 'review_scores_communication_na', 'review_scores_rating']</pre></div></div></div><div class=\"sk-serial\"><div class=\"sk-item\"><div class=\"sk-serial\"><div class=\"sk-item\"><div class=\"sk-estimator sk-toggleable\"><input class=\"sk-toggleable__control sk-hidden--visually\" id=\"b91cf5fe-e31a-40e6-a06e-812bb100189d\" type=\"checkbox\" ><label class=\"sk-toggleable__label\" for=\"b91cf5fe-e31a-40e6-a06e-812bb100189d\">FunctionTransformer</label><div class=\"sk-toggleable__content\"><pre>FunctionTransformer(func=<function <lambda> at 0x7f9c3f0ca940>)</pre></div></div></div><div class=\"sk-item sk-dashed-wrapped\"><div class=\"sk-label-container\"><div class=\"sk-label sk-toggleable\"><input class=\"sk-toggleable__control sk-hidden--visually\" id=\"4503fea2-b8a7-4448-b93c-27bcb9c2243b\" type=\"checkbox\" ><label class=\"sk-toggleable__label\" for=\"4503fea2-b8a7-4448-b93c-27bcb9c2243b\">imputers: ColumnTransformer</label><div class=\"sk-toggleable__content\"><pre>ColumnTransformer(transformers=[('impute_mean', SimpleImputer(),\n                                 ['accommodates', 'bathrooms', 'bathrooms_na',\n                                  'bedrooms', 'bedrooms_na', 'beds', 'beds_na',\n                                  'host_total_listings_count', 'latitude',\n                                  'longitude', 'minimum_nights',\n                                  'number_of_reviews', 'review_scores_accuracy',\n                                  'review_scores_accuracy_na',\n                                  'review_scores_checkin',\n                                  'review_scores_checkin_na',\n                                  'review_scores_cleanliness',\n                                  'review_scores_cleanliness_na',\n                                  'review_scores_communication',\n                                  'review_scores_communication_na',\n                                  'review_scores_location',\n                                  'review_scores_location_na',\n                                  'review_scores_rating',\n                                  'review_scores_rating_na',\n                                  'review_scores_value',\n                                  'review_scores_value_na'])])</pre></div></div></div><div class=\"sk-parallel\"><div class=\"sk-parallel-item\"><div class=\"sk-item\"><div class=\"sk-label-container\"><div class=\"sk-label sk-toggleable\"><input class=\"sk-toggleable__control sk-hidden--visually\" id=\"bc46fe72-c07c-4714-ba46-487ffd79c970\" type=\"checkbox\" ><label class=\"sk-toggleable__label\" for=\"bc46fe72-c07c-4714-ba46-487ffd79c970\">impute_mean</label><div class=\"sk-toggleable__content\"><pre>['accommodates', 'bathrooms', 'bathrooms_na', 'bedrooms', 'bedrooms_na', 'beds', 'beds_na', 'host_total_listings_count', 'latitude', 'longitude', 'minimum_nights', 'number_of_reviews', 'review_scores_accuracy', 'review_scores_accuracy_na', 'review_scores_checkin', 'review_scores_checkin_na', 'review_scores_cleanliness', 'review_scores_cleanliness_na', 'review_scores_communication', 'review_scores_communication_na', 'review_scores_location', 'review_scores_location_na', 'review_scores_rating', 'review_scores_rating_na', 'review_scores_value', 'review_scores_value_na']</pre></div></div></div><div class=\"sk-serial\"><div class=\"sk-item\"><div class=\"sk-estimator sk-toggleable\"><input class=\"sk-toggleable__control sk-hidden--visually\" id=\"6edccff3-a821-4a1f-9858-cc57162f8c10\" type=\"checkbox\" ><label class=\"sk-toggleable__label\" for=\"6edccff3-a821-4a1f-9858-cc57162f8c10\">SimpleImputer</label><div class=\"sk-toggleable__content\"><pre>SimpleImputer()</pre></div></div></div></div></div></div></div></div><div class=\"sk-item\"><div class=\"sk-estimator sk-toggleable\"><input class=\"sk-toggleable__control sk-hidden--visually\" id=\"ee9881d4-4233-4ef4-b113-371cf6738c37\" type=\"checkbox\" ><label class=\"sk-toggleable__label\" for=\"ee9881d4-4233-4ef4-b113-371cf6738c37\">StandardScaler</label><div class=\"sk-toggleable__content\"><pre>StandardScaler()</pre></div></div></div></div></div></div></div></div><div class=\"sk-parallel-item\"><div class=\"sk-item\"><div class=\"sk-label-container\"><div class=\"sk-label sk-toggleable\"><input class=\"sk-toggleable__control sk-hidden--visually\" id=\"2943f1d3-41d4-4a67-b364-be3164bd4096\" type=\"checkbox\" ><label class=\"sk-toggleable__label\" for=\"2943f1d3-41d4-4a67-b364-be3164bd4096\">onehot</label><div class=\"sk-toggleable__content\"><pre>['bathrooms_na', 'bed_type', 'bedrooms', 'bedrooms_na', 'beds_na', 'cancellation_policy', 'host_is_superhost', 'instant_bookable', 'neighbourhood_cleansed', 'property_type', 'review_scores_accuracy', 'review_scores_accuracy_na', 'review_scores_checkin', 'review_scores_checkin_na', 'review_scores_cleanliness', 'review_scores_cleanliness_na', 'review_scores_communication', 'review_scores_communication_na', 'review_scores_location', 'review_scores_location_na', 'review_scores_rating_na', 'review_scores_value', 'review_scores_value_na', 'room_type']</pre></div></div></div><div class=\"sk-serial\"><div class=\"sk-item\"><div class=\"sk-serial\"><div class=\"sk-item sk-dashed-wrapped\"><div class=\"sk-label-container\"><div class=\"sk-label sk-toggleable\"><input class=\"sk-toggleable__control sk-hidden--visually\" id=\"fee03807-469e-4999-ba00-239d81bb8a70\" type=\"checkbox\" ><label class=\"sk-toggleable__label\" for=\"fee03807-469e-4999-ba00-239d81bb8a70\">imputers: ColumnTransformer</label><div class=\"sk-toggleable__content\"><pre>ColumnTransformer(remainder='passthrough', transformers=[])</pre></div></div></div><div class=\"sk-parallel\"><div class=\"sk-parallel-item\"><div class=\"sk-item\"><div class=\"sk-label-container\"><div class=\"sk-label sk-toggleable\"><input class=\"sk-toggleable__control sk-hidden--visually\" id=\"98333557-c268-4e87-a047-52800b89a5f7\" type=\"checkbox\" ><label class=\"sk-toggleable__label\" for=\"98333557-c268-4e87-a047-52800b89a5f7\">remainder</label><div class=\"sk-toggleable__content\"><pre></pre></div></div></div><div class=\"sk-serial\"><div class=\"sk-item\"><div class=\"sk-estimator sk-toggleable\"><input class=\"sk-toggleable__control sk-hidden--visually\" id=\"254f729c-6e0b-4f06-9981-df4a348758da\" type=\"checkbox\" ><label class=\"sk-toggleable__label\" for=\"254f729c-6e0b-4f06-9981-df4a348758da\">passthrough</label><div class=\"sk-toggleable__content\"><pre>passthrough</pre></div></div></div></div></div></div></div></div><div class=\"sk-item\"><div class=\"sk-estimator sk-toggleable\"><input class=\"sk-toggleable__control sk-hidden--visually\" id=\"9af8bc8c-37dd-4684-8100-a5c876b38acc\" type=\"checkbox\" ><label class=\"sk-toggleable__label\" for=\"9af8bc8c-37dd-4684-8100-a5c876b38acc\">OneHotEncoder</label><div class=\"sk-toggleable__content\"><pre>OneHotEncoder(handle_unknown='ignore')</pre></div></div></div></div></div></div></div></div><div class=\"sk-parallel-item\"><div class=\"sk-item\"><div class=\"sk-label-container\"><div class=\"sk-label sk-toggleable\"><input class=\"sk-toggleable__control sk-hidden--visually\" id=\"1dee5314-e41f-4fb5-84fc-b715c4397629\" type=\"checkbox\" ><label class=\"sk-toggleable__label\" for=\"1dee5314-e41f-4fb5-84fc-b715c4397629\">remainder</label><div class=\"sk-toggleable__content\"><pre>[['review_scores_value', 'review_scores_checkin', 'bathrooms_na', 'review_scores_location', 'instant_bookable', 'bathrooms', 'beds_na', 'review_scores_rating_na', 'host_is_superhost', 'neighbourhood_cleansed', 'beds', 'review_scores_cleanliness_na', 'host_total_listings_count', 'number_of_reviews', 'review_scores_communication', 'latitude', 'cancellation_policy', 'property_type', 'review_scores_checkin_na', 'review_scores_accuracy_na', 'review_scores_value_na', 'review_scores_cleanliness', 'bedrooms_na', 'review_scores_location_na', 'review_scores_accuracy', 'minimum_nights', 'longitude', 'accommodates', 'room_type', 'bedrooms', 'review_scores_communication_na', 'review_scores_rating', 'bed_type']]</pre></div></div></div><div class=\"sk-serial\"><div class=\"sk-item\"><div class=\"sk-estimator sk-toggleable\"><input class=\"sk-toggleable__control sk-hidden--visually\" id=\"39804b01-e27b-465b-bee5-ea55b2c431fc\" type=\"checkbox\" ><label class=\"sk-toggleable__label\" for=\"39804b01-e27b-465b-bee5-ea55b2c431fc\">passthrough</label><div class=\"sk-toggleable__content\"><pre>passthrough</pre></div></div></div></div></div></div></div></div><div class=\"sk-item\"><div class=\"sk-estimator sk-toggleable\"><input class=\"sk-toggleable__control sk-hidden--visually\" id=\"c0a3a6a1-2ebf-47d8-a814-fd7189d3f246\" type=\"checkbox\" ><label class=\"sk-toggleable__label\" for=\"c0a3a6a1-2ebf-47d8-a814-fd7189d3f246\">XGBRegressor</label><div class=\"sk-toggleable__content\"><pre>XGBRegressor(base_score=0.5, booster='gbtree', callbacks=None,\n             colsample_bylevel=1, colsample_bynode=1,\n             colsample_bytree=0.7261238523462457, early_stopping_rounds=None,\n             enable_categorical=False, eval_metric=None, gamma=0, gpu_id=-1,\n             grow_policy='depthwise', importance_type=None,\n             interaction_constraints='', learning_rate=0.03955661995614411,\n             max_bin=256, max_cat_to_onehot=4, max_delta_step=0, max_depth=9,\n             max_leaves=0, min_child_weight=16, missing=nan,\n             monotone_constraints='()', n_estimators=1903, n_jobs=100,\n             num_parallel_tree=1, predictor='auto', random_state=407618260,\n             reg_alpha=0, reg_lambda=1, ...)</pre></div></div></div></div></div></div></div>",
       "datasetInfos": [],
       "metadata": {},
       "removedWidgets": [],
       "textData": null,
       "type": "htmlSandbox"
      }
     },
     "output_type": "display_data"
    }
   ],
   "source": [
    "trials = Trials()\n",
    "fmin(objective,\n",
    "     space=space,\n",
    "     algo=tpe.suggest,\n",
    "     max_evals=1,  # Increase this when widening the hyperparameter search space.\n",
    "     trials=trials)\n",
    "\n",
    "best_result = trials.best_trial[\"result\"]\n",
    "model = best_result[\"model\"]\n",
    "mlflow_run = best_result[\"run\"]\n",
    "\n",
    "display(\n",
    "  pd.DataFrame(\n",
    "    [best_result[\"val_metrics\"], best_result[\"test_metrics\"]],\n",
    "    index=[\"validation\", \"test\"]))\n",
    "\n",
    "set_config(display=\"diagram\")\n",
    "model"
   ]
  },
  {
   "cell_type": "markdown",
   "metadata": {
    "application/vnd.databricks.v1+cell": {
     "cellMetadata": {
      "byteLimit": 2048000,
      "rowLimit": 10000
     },
     "inputWidgets": {},
     "nuid": "f1e3b34e-2f38-44b5-8e91-918b20f58244",
     "showTitle": false,
     "title": ""
    }
   },
   "source": [
    "### Patch pandas version in logged model\n",
    "\n",
    "Ensures that model serving uses the same version of pandas that was used to train the model."
   ]
  },
  {
   "cell_type": "code",
   "execution_count": 0,
   "metadata": {
    "application/vnd.databricks.v1+cell": {
     "cellMetadata": {
      "byteLimit": 2048000,
      "rowLimit": 10000
     },
     "inputWidgets": {},
     "nuid": "83c5da5b-fef1-4053-bd1d-df687be46818",
     "showTitle": false,
     "title": ""
    },
    "execution": {
     "iopub.execute_input": "2023-07-15T17:37:31.426171Z",
     "iopub.status.busy": "2023-07-15T17:37:31.425671Z",
     "iopub.status.idle": "2023-07-15T17:37:32.264017Z",
     "shell.execute_reply": "2023-07-15T17:37:32.264376Z"
    }
   },
   "outputs": [],
   "source": [
    "import mlflow\n",
    "import os\n",
    "import shutil\n",
    "import tempfile\n",
    "import yaml\n",
    "\n",
    "run_id = mlflow_run.info.run_id\n",
    "\n",
    "# Set up a local dir for downloading the artifacts.\n",
    "tmp_dir = str(tempfile.TemporaryDirectory())\n",
    "os.makedirs(tmp_dir)\n",
    "\n",
    "client = mlflow.tracking.MlflowClient()\n",
    "\n",
    "# Fix conda.yaml\n",
    "conda_file_path = mlflow.artifacts.download_artifacts(artifact_uri=f\"runs:/{run_id}/model/conda.yaml\", dst_path=tmp_dir)\n",
    "with open(conda_file_path) as f:\n",
    "  conda_libs = yaml.load(f, Loader=yaml.FullLoader)\n",
    "pandas_lib_exists = any([lib.startswith(\"pandas==\") for lib in conda_libs[\"dependencies\"][-1][\"pip\"]])\n",
    "if not pandas_lib_exists:\n",
    "  print(\"Adding pandas dependency to conda.yaml\")\n",
    "  conda_libs[\"dependencies\"][-1][\"pip\"].append(f\"pandas=={pd.__version__}\")\n",
    "\n",
    "  with open(f\"{tmp_dir}/conda.yaml\", \"w\") as f:\n",
    "    f.write(yaml.dump(conda_libs))\n",
    "  client.log_artifact(run_id=run_id, local_path=conda_file_path, artifact_path=\"model\")\n",
    "\n",
    "# Fix requirements.txt\n",
    "venv_file_path = mlflow.artifacts.download_artifacts(artifact_uri=f\"runs:/{run_id}/model/requirements.txt\", dst_path=tmp_dir)\n",
    "with open(venv_file_path) as f:\n",
    "  venv_libs = f.readlines()\n",
    "venv_libs = [lib.strip() for lib in venv_libs]\n",
    "pandas_lib_exists = any([lib.startswith(\"pandas==\") for lib in venv_libs])\n",
    "if not pandas_lib_exists:\n",
    "  print(\"Adding pandas dependency to requirements.txt\")\n",
    "  venv_libs.append(f\"pandas=={pd.__version__}\")\n",
    "\n",
    "  with open(f\"{tmp_dir}/requirements.txt\", \"w\") as f:\n",
    "    f.write(\"\\n\".join(venv_libs))\n",
    "  client.log_artifact(run_id=run_id, local_path=venv_file_path, artifact_path=\"model\")\n",
    "\n",
    "shutil.rmtree(tmp_dir)"
   ]
  },
  {
   "cell_type": "markdown",
   "metadata": {
    "application/vnd.databricks.v1+cell": {
     "cellMetadata": {
      "byteLimit": 2048000,
      "rowLimit": 10000
     },
     "inputWidgets": {},
     "nuid": "27912c23-5bf8-4b94-ba85-9fb4dc489a2d",
     "showTitle": false,
     "title": ""
    }
   },
   "source": [
    "## Feature importance\n",
    "\n",
    "SHAP is a game-theoretic approach to explain machine learning models, providing a summary plot\n",
    "of the relationship between features and model output. Features are ranked in descending order of\n",
    "importance, and impact/color describe the correlation between the feature and the target variable.\n",
    "- Generating SHAP feature importance is a very memory intensive operation, so to ensure that AutoML can run trials without\n",
    "  running out of memory, we disable SHAP by default.<br />\n",
    "  You can set the flag defined below to `shap_enabled = True` and re-run this notebook to see the SHAP plots.\n",
    "- To reduce the computational overhead of each trial, a single example is sampled from the validation set to explain.<br />\n",
    "  For more thorough results, increase the sample size of explanations, or provide your own examples to explain.\n",
    "- SHAP cannot explain models using data with nulls; if your dataset has any, both the background data and\n",
    "  examples to explain will be imputed using the mode (most frequent values). This affects the computed\n",
    "  SHAP values, as the imputed samples may not match the actual data distribution.\n",
    "\n",
    "For more information on how to read Shapley values, see the [SHAP documentation](https://shap.readthedocs.io/en/latest/example_notebooks/overviews/An%20introduction%20to%20explainable%20AI%20with%20Shapley%20values.html)."
   ]
  },
  {
   "cell_type": "code",
   "execution_count": 0,
   "metadata": {
    "application/vnd.databricks.v1+cell": {
     "cellMetadata": {
      "byteLimit": 2048000,
      "rowLimit": 10000
     },
     "inputWidgets": {},
     "nuid": "9fee2fea-3072-4487-af34-8cf9434d39a4",
     "showTitle": false,
     "title": ""
    },
    "execution": {
     "iopub.execute_input": "2023-07-15T17:37:32.267955Z",
     "iopub.status.busy": "2023-07-15T17:37:32.267566Z",
     "iopub.status.idle": "2023-07-15T17:37:32.270392Z",
     "shell.execute_reply": "2023-07-15T17:37:32.270038Z"
    }
   },
   "outputs": [],
   "source": [
    "# Set this flag to True and re-run the notebook to see the SHAP plots\n",
    "shap_enabled = True"
   ]
  },
  {
   "cell_type": "code",
   "execution_count": 0,
   "metadata": {
    "application/vnd.databricks.v1+cell": {
     "cellMetadata": {
      "byteLimit": 2048000,
      "rowLimit": 10000
     },
     "inputWidgets": {},
     "nuid": "6253b50f-0a07-4dca-a09c-5ca9764ef93d",
     "showTitle": false,
     "title": ""
    },
    "execution": {
     "iopub.execute_input": "2023-07-15T17:37:32.278396Z",
     "iopub.status.busy": "2023-07-15T17:37:32.277907Z",
     "iopub.status.idle": "2023-07-15T17:37:32.285889Z",
     "shell.execute_reply": "2023-07-15T17:37:32.286196Z"
    }
   },
   "outputs": [
    {
     "output_type": "display_data",
     "data": {
      "application/vnd.jupyter.widget-view+json": {
       "model_id": "ef64713dc45f420ca531871de27b76de",
       "version_major": 2,
       "version_minor": 0
      },
      "text/plain": [
       "  0%|          | 0/100 [00:00<?, ?it/s]"
      ]
     },
     "metadata": {},
     "output_type": "display_data"
    },
    {
     "output_type": "display_data",
     "data": {
      "image/png": "[encoded data removed]"
     },
     "metadata": {
      "application/vnd.databricks.v1+output": {
       "addedWidgets": {},
       "arguments": {},
       "data": "data:image/png;base64,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\n",
       "datasetInfos": [],
       "metadata": {},
       "removedWidgets": [],
       "type": "image"
      }
     },
     "output_type": "display_data"
    }
   ],
   "source": [
    "if shap_enabled:\n",
    "    mlflow.autolog(disable=True)\n",
    "    mlflow.sklearn.autolog(disable=True)\n",
    "    from shap import KernelExplainer, summary_plot\n",
    "    # Sample background data for SHAP Explainer. Increase the sample size to reduce variance.\n",
    "    train_sample = X_train.sample(n=min(100, X_train.shape[0]), random_state=407618260)\n",
    "\n",
    "    # Sample some rows from the validation set to explain. Increase the sample size for more thorough results.\n",
    "    example = X_val.sample(n=min(100, X_val.shape[0]), random_state=407618260)\n",
    "\n",
    "    # Use Kernel SHAP to explain feature importance on the sampled rows from the validation set.\n",
    "    predict = lambda x: model.predict(pd.DataFrame(x, columns=X_train.columns))\n",
    "    explainer = KernelExplainer(predict, train_sample, link=\"identity\")\n",
    "    shap_values = explainer.shap_values(example, l1_reg=False, nsamples=500)\n",
    "    summary_plot(shap_values, example)"
   ]
  },
  {
   "cell_type": "markdown",
   "metadata": {
    "application/vnd.databricks.v1+cell": {
     "cellMetadata": {
      "byteLimit": 2048000,
      "rowLimit": 10000
     },
     "inputWidgets": {},
     "nuid": "09016f8a-7f76-4841-81b9-6fa374746dc7",
     "showTitle": false,
     "title": ""
    }
   },
   "source": [
    "## Inference\n",
    "[The MLflow Model Registry](https://docs.databricks.com/applications/mlflow/model-registry.html) is a collaborative hub where teams can share ML models, work together from experimentation to online testing and production, integrate with approval and governance workflows, and monitor ML deployments and their performance. The snippets below show how to add the model trained in this notebook to the model registry and to retrieve it later for inference.\n",
    "\n",
    "> **NOTE:** The `model_uri` for the model already trained in this notebook can be found in the cell below\n",
    "\n",
    "### Register to Model Registry\n",
    "```\n",
    "model_name = \"Example\"\n",
    "\n",
    "model_uri = f\"runs:/{ mlflow_run.info.run_id }/model\"\n",
    "registered_model_version = mlflow.register_model(model_uri, model_name)\n",
    "```\n",
    "\n",
    "### Load from Model Registry\n",
    "```\n",
    "model_name = \"Example\"\n",
    "model_version = registered_model_version.version\n",
    "\n",
    "model_uri=f\"models:/{model_name}/{model_version}\"\n",
    "model = mlflow.pyfunc.load_model(model_uri=model_uri)\n",
    "model.predict(input_X)\n",
    "```\n",
    "\n",
    "### Load model without registering\n",
    "```\n",
    "model_uri = f\"runs:/{ mlflow_run.info.run_id }/model\"\n",
    "\n",
    "model = mlflow.pyfunc.load_model(model_uri=model_uri)\n",
    "model.predict(input_X)\n",
    "```"
   ]
  },
  {
   "cell_type": "code",
   "execution_count": 0,
   "metadata": {
    "application/vnd.databricks.v1+cell": {
     "cellMetadata": {
      "byteLimit": 2048000,
      "rowLimit": 10000
     },
     "inputWidgets": {},
     "nuid": "a3a2edb6-1023-42ed-9faa-cd6091c7fafc",
     "showTitle": false,
     "title": ""
    },
    "execution": {
     "iopub.execute_input": "2023-07-15T17:37:32.289798Z",
     "iopub.status.busy": "2023-07-15T17:37:32.289401Z",
     "iopub.status.idle": "2023-07-15T17:37:32.292715Z",
     "shell.execute_reply": "2023-07-15T17:37:32.292316Z"
    }
   },
   "outputs": [
    {
     "output_type": "stream",
     "name": "stdout",
     "output_type": "stream",
     "text": [
      "runs:/c05efe420c0d4ee0baf70a75f35c6da3/model\n"
     ]
    }
   ],
   "source": [
    "# model_uri for the generated model\n",
    "print(f\"runs:/{ mlflow_run.info.run_id }/model\")"
   ]
  }
 ],
 "metadata": {
  "application/vnd.databricks.v1+notebook": {
   "dashboards": [],
   "language": "python",
   "notebookMetadata": {
    "pythonIndentUnit": 4
   },
   "notebookName": "23-07-15-17:34-XGBoostRegressor-3696c51ffaac022e4d549bd6e2025357",
   "widgets": {}
  },
  "language_info": {
   "codemirror_mode": {
    "name": "ipython",
    "version": 3
   },
   "file_extension": ".py",
   "mimetype": "text/x-python",
   "name": "python",
   "nbconvert_exporter": "python",
   "pygments_lexer": "ipython3",
   "version": "3.9.5"
  },
  "name": "XGBoostRegressor-3696c51ffaac022e4d549bd6e2025357"
 },
 "nbformat": 4,
 "nbformat_minor": 0
}
