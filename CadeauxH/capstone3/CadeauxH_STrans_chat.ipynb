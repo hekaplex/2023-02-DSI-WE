{
 "cells": [
  {
   "cell_type": "code",
   "execution_count": 1,
   "metadata": {},
   "outputs": [],
   "source": [
    "import tensorflow as tf\n",
    "tf.config.list_physical_devices('GPU')\n",
    "from tensorflow.keras.callbacks import TensorBoard"
   ]
  },
  {
   "cell_type": "code",
   "execution_count": 2,
   "metadata": {},
   "outputs": [],
   "source": [
    "from sentence_transformers import SentenceTransformer\n",
    "\n",
    "# Replace 'sentence-transformers/bert-base-nli-mean-tokens' with your desired model name\n",
    "model_name = 'sentence-transformers/bert-base-nli-mean-tokens'\n",
    "model = SentenceTransformer(model_name)\n"
   ]
  },
  {
   "cell_type": "code",
   "execution_count": 3,
   "metadata": {},
   "outputs": [],
   "source": [
    "import pandas as pd\n",
    "import numpy as np\n",
    "import matplotlib.pyplot as plt\n",
    "import seaborn as sns\n",
    "%matplotlib inline\n",
    "df2 = pd.read_parquet('clean_data.pqt')"
   ]
  },
  {
   "cell_type": "code",
   "execution_count": 4,
   "metadata": {},
   "outputs": [
    {
     "data": {
      "text/html": [
       "<div>\n",
       "<style scoped>\n",
       "    .dataframe tbody tr th:only-of-type {\n",
       "        vertical-align: middle;\n",
       "    }\n",
       "\n",
       "    .dataframe tbody tr th {\n",
       "        vertical-align: top;\n",
       "    }\n",
       "\n",
       "    .dataframe thead th {\n",
       "        text-align: right;\n",
       "    }\n",
       "</style>\n",
       "<table border=\"1\" class=\"dataframe\">\n",
       "  <thead>\n",
       "    <tr style=\"text-align: right;\">\n",
       "      <th></th>\n",
       "      <th>id</th>\n",
       "      <th>comment_text</th>\n",
       "      <th>toxic</th>\n",
       "      <th>severe_toxic</th>\n",
       "      <th>obscene</th>\n",
       "      <th>threat</th>\n",
       "      <th>insult</th>\n",
       "      <th>identity_hate</th>\n",
       "    </tr>\n",
       "  </thead>\n",
       "  <tbody>\n",
       "    <tr>\n",
       "      <th>0</th>\n",
       "      <td>0000997932d777bf</td>\n",
       "      <td>explanation edits made username hardcore metal...</td>\n",
       "      <td>0</td>\n",
       "      <td>0</td>\n",
       "      <td>0</td>\n",
       "      <td>0</td>\n",
       "      <td>0</td>\n",
       "      <td>0</td>\n",
       "    </tr>\n",
       "    <tr>\n",
       "      <th>1</th>\n",
       "      <td>000103f0d9cfb60f</td>\n",
       "      <td>aww matches background colour seemingly stuck ...</td>\n",
       "      <td>0</td>\n",
       "      <td>0</td>\n",
       "      <td>0</td>\n",
       "      <td>0</td>\n",
       "      <td>0</td>\n",
       "      <td>0</td>\n",
       "    </tr>\n",
       "    <tr>\n",
       "      <th>2</th>\n",
       "      <td>000113f07ec002fd</td>\n",
       "      <td>hey man really trying edit war guy constantly ...</td>\n",
       "      <td>0</td>\n",
       "      <td>0</td>\n",
       "      <td>0</td>\n",
       "      <td>0</td>\n",
       "      <td>0</td>\n",
       "      <td>0</td>\n",
       "    </tr>\n",
       "    <tr>\n",
       "      <th>3</th>\n",
       "      <td>0001b41b1c6bb37e</td>\n",
       "      <td>make real suggestions improvement wondered sec...</td>\n",
       "      <td>0</td>\n",
       "      <td>0</td>\n",
       "      <td>0</td>\n",
       "      <td>0</td>\n",
       "      <td>0</td>\n",
       "      <td>0</td>\n",
       "    </tr>\n",
       "    <tr>\n",
       "      <th>4</th>\n",
       "      <td>0001d958c54c6e35</td>\n",
       "      <td>sir hero chance remember page</td>\n",
       "      <td>0</td>\n",
       "      <td>0</td>\n",
       "      <td>0</td>\n",
       "      <td>0</td>\n",
       "      <td>0</td>\n",
       "      <td>0</td>\n",
       "    </tr>\n",
       "    <tr>\n",
       "      <th>...</th>\n",
       "      <td>...</td>\n",
       "      <td>...</td>\n",
       "      <td>...</td>\n",
       "      <td>...</td>\n",
       "      <td>...</td>\n",
       "      <td>...</td>\n",
       "      <td>...</td>\n",
       "      <td>...</td>\n",
       "    </tr>\n",
       "    <tr>\n",
       "      <th>159566</th>\n",
       "      <td>ffe987279560d7ff</td>\n",
       "      <td>second time asking view completely contradicts...</td>\n",
       "      <td>0</td>\n",
       "      <td>0</td>\n",
       "      <td>0</td>\n",
       "      <td>0</td>\n",
       "      <td>0</td>\n",
       "      <td>0</td>\n",
       "    </tr>\n",
       "    <tr>\n",
       "      <th>159567</th>\n",
       "      <td>ffea4adeee384e90</td>\n",
       "      <td>ashamed horrible thing put talk page 128 61 19 93</td>\n",
       "      <td>0</td>\n",
       "      <td>0</td>\n",
       "      <td>0</td>\n",
       "      <td>0</td>\n",
       "      <td>0</td>\n",
       "      <td>0</td>\n",
       "    </tr>\n",
       "    <tr>\n",
       "      <th>159568</th>\n",
       "      <td>ffee36eab5c267c9</td>\n",
       "      <td>spitzer umm theres actual article prostitution...</td>\n",
       "      <td>0</td>\n",
       "      <td>0</td>\n",
       "      <td>0</td>\n",
       "      <td>0</td>\n",
       "      <td>0</td>\n",
       "      <td>0</td>\n",
       "    </tr>\n",
       "    <tr>\n",
       "      <th>159569</th>\n",
       "      <td>fff125370e4aaaf3</td>\n",
       "      <td>looks like actually put speedy first version d...</td>\n",
       "      <td>0</td>\n",
       "      <td>0</td>\n",
       "      <td>0</td>\n",
       "      <td>0</td>\n",
       "      <td>0</td>\n",
       "      <td>0</td>\n",
       "    </tr>\n",
       "    <tr>\n",
       "      <th>159570</th>\n",
       "      <td>fff46fc426af1f9a</td>\n",
       "      <td>really think understand came idea bad right aw...</td>\n",
       "      <td>0</td>\n",
       "      <td>0</td>\n",
       "      <td>0</td>\n",
       "      <td>0</td>\n",
       "      <td>0</td>\n",
       "      <td>0</td>\n",
       "    </tr>\n",
       "  </tbody>\n",
       "</table>\n",
       "<p>159571 rows × 8 columns</p>\n",
       "</div>"
      ],
      "text/plain": [
       "                      id                                       comment_text  \\\n",
       "0       0000997932d777bf  explanation edits made username hardcore metal...   \n",
       "1       000103f0d9cfb60f  aww matches background colour seemingly stuck ...   \n",
       "2       000113f07ec002fd  hey man really trying edit war guy constantly ...   \n",
       "3       0001b41b1c6bb37e  make real suggestions improvement wondered sec...   \n",
       "4       0001d958c54c6e35                      sir hero chance remember page   \n",
       "...                  ...                                                ...   \n",
       "159566  ffe987279560d7ff  second time asking view completely contradicts...   \n",
       "159567  ffea4adeee384e90  ashamed horrible thing put talk page 128 61 19 93   \n",
       "159568  ffee36eab5c267c9  spitzer umm theres actual article prostitution...   \n",
       "159569  fff125370e4aaaf3  looks like actually put speedy first version d...   \n",
       "159570  fff46fc426af1f9a  really think understand came idea bad right aw...   \n",
       "\n",
       "        toxic  severe_toxic  obscene  threat  insult  identity_hate  \n",
       "0           0             0        0       0       0              0  \n",
       "1           0             0        0       0       0              0  \n",
       "2           0             0        0       0       0              0  \n",
       "3           0             0        0       0       0              0  \n",
       "4           0             0        0       0       0              0  \n",
       "...       ...           ...      ...     ...     ...            ...  \n",
       "159566      0             0        0       0       0              0  \n",
       "159567      0             0        0       0       0              0  \n",
       "159568      0             0        0       0       0              0  \n",
       "159569      0             0        0       0       0              0  \n",
       "159570      0             0        0       0       0              0  \n",
       "\n",
       "[159571 rows x 8 columns]"
      ]
     },
     "execution_count": 4,
     "metadata": {},
     "output_type": "execute_result"
    }
   ],
   "source": [
    "df2"
   ]
  },
  {
   "cell_type": "code",
   "execution_count": 5,
   "metadata": {},
   "outputs": [],
   "source": [
    "df= df2.sample(400)"
   ]
  },
  {
   "cell_type": "code",
   "execution_count": 6,
   "metadata": {},
   "outputs": [
    {
     "data": {
      "text/html": [
       "<div>\n",
       "<style scoped>\n",
       "    .dataframe tbody tr th:only-of-type {\n",
       "        vertical-align: middle;\n",
       "    }\n",
       "\n",
       "    .dataframe tbody tr th {\n",
       "        vertical-align: top;\n",
       "    }\n",
       "\n",
       "    .dataframe thead th {\n",
       "        text-align: right;\n",
       "    }\n",
       "</style>\n",
       "<table border=\"1\" class=\"dataframe\">\n",
       "  <thead>\n",
       "    <tr style=\"text-align: right;\">\n",
       "      <th></th>\n",
       "      <th>id</th>\n",
       "      <th>comment_text</th>\n",
       "      <th>toxic</th>\n",
       "      <th>severe_toxic</th>\n",
       "      <th>obscene</th>\n",
       "      <th>threat</th>\n",
       "      <th>insult</th>\n",
       "      <th>identity_hate</th>\n",
       "    </tr>\n",
       "  </thead>\n",
       "  <tbody>\n",
       "    <tr>\n",
       "      <th>133579</th>\n",
       "      <td>ca9f898c7914b5f3</td>\n",
       "      <td>note moved text</td>\n",
       "      <td>0</td>\n",
       "      <td>0</td>\n",
       "      <td>0</td>\n",
       "      <td>0</td>\n",
       "      <td>0</td>\n",
       "      <td>0</td>\n",
       "    </tr>\n",
       "    <tr>\n",
       "      <th>30878</th>\n",
       "      <td>5207742f4ebf2fd3</td>\n",
       "      <td>please add commercial links links private webs...</td>\n",
       "      <td>0</td>\n",
       "      <td>0</td>\n",
       "      <td>0</td>\n",
       "      <td>0</td>\n",
       "      <td>0</td>\n",
       "      <td>0</td>\n",
       "    </tr>\n",
       "    <tr>\n",
       "      <th>71536</th>\n",
       "      <td>bf818d22b6f086c5</td>\n",
       "      <td>mike harper provided references suggest mike h...</td>\n",
       "      <td>0</td>\n",
       "      <td>0</td>\n",
       "      <td>0</td>\n",
       "      <td>0</td>\n",
       "      <td>0</td>\n",
       "      <td>0</td>\n",
       "    </tr>\n",
       "    <tr>\n",
       "      <th>50157</th>\n",
       "      <td>8609cd00bbe5554c</td>\n",
       "      <td>know real computer took real computer shop cou...</td>\n",
       "      <td>0</td>\n",
       "      <td>0</td>\n",
       "      <td>0</td>\n",
       "      <td>0</td>\n",
       "      <td>0</td>\n",
       "      <td>0</td>\n",
       "    </tr>\n",
       "    <tr>\n",
       "      <th>84947</th>\n",
       "      <td>e3588fe6714ecb03</td>\n",
       "      <td>season 3 info 3rd season 74 57 167 219</td>\n",
       "      <td>0</td>\n",
       "      <td>0</td>\n",
       "      <td>0</td>\n",
       "      <td>0</td>\n",
       "      <td>0</td>\n",
       "      <td>0</td>\n",
       "    </tr>\n",
       "    <tr>\n",
       "      <th>...</th>\n",
       "      <td>...</td>\n",
       "      <td>...</td>\n",
       "      <td>...</td>\n",
       "      <td>...</td>\n",
       "      <td>...</td>\n",
       "      <td>...</td>\n",
       "      <td>...</td>\n",
       "      <td>...</td>\n",
       "    </tr>\n",
       "    <tr>\n",
       "      <th>76155</th>\n",
       "      <td>cbd9987f157466c7</td>\n",
       "      <td>hello begin nobody works wikipedia volunteer p...</td>\n",
       "      <td>0</td>\n",
       "      <td>0</td>\n",
       "      <td>0</td>\n",
       "      <td>0</td>\n",
       "      <td>0</td>\n",
       "      <td>0</td>\n",
       "    </tr>\n",
       "    <tr>\n",
       "      <th>130037</th>\n",
       "      <td>b7a74a71dfd81339</td>\n",
       "      <td>support look http en wikipedia org wiki list_o...</td>\n",
       "      <td>0</td>\n",
       "      <td>0</td>\n",
       "      <td>0</td>\n",
       "      <td>0</td>\n",
       "      <td>0</td>\n",
       "      <td>0</td>\n",
       "    </tr>\n",
       "    <tr>\n",
       "      <th>69941</th>\n",
       "      <td>bb175180caa5d0e7</td>\n",
       "      <td>removal college material probably ok leave his...</td>\n",
       "      <td>0</td>\n",
       "      <td>0</td>\n",
       "      <td>0</td>\n",
       "      <td>0</td>\n",
       "      <td>0</td>\n",
       "      <td>0</td>\n",
       "    </tr>\n",
       "    <tr>\n",
       "      <th>131519</th>\n",
       "      <td>bfa7764bb9b34e6d</td>\n",
       "      <td>reverted recent edit made article mike tomlin ...</td>\n",
       "      <td>0</td>\n",
       "      <td>0</td>\n",
       "      <td>0</td>\n",
       "      <td>0</td>\n",
       "      <td>0</td>\n",
       "      <td>0</td>\n",
       "    </tr>\n",
       "    <tr>\n",
       "      <th>151318</th>\n",
       "      <td>7b298b893f79d245</td>\n",
       "      <td>hard us neurotypicals sometimes read wall wall...</td>\n",
       "      <td>0</td>\n",
       "      <td>0</td>\n",
       "      <td>0</td>\n",
       "      <td>0</td>\n",
       "      <td>0</td>\n",
       "      <td>0</td>\n",
       "    </tr>\n",
       "  </tbody>\n",
       "</table>\n",
       "<p>400 rows × 8 columns</p>\n",
       "</div>"
      ],
      "text/plain": [
       "                      id                                       comment_text  \\\n",
       "133579  ca9f898c7914b5f3                                    note moved text   \n",
       "30878   5207742f4ebf2fd3  please add commercial links links private webs...   \n",
       "71536   bf818d22b6f086c5  mike harper provided references suggest mike h...   \n",
       "50157   8609cd00bbe5554c  know real computer took real computer shop cou...   \n",
       "84947   e3588fe6714ecb03             season 3 info 3rd season 74 57 167 219   \n",
       "...                  ...                                                ...   \n",
       "76155   cbd9987f157466c7  hello begin nobody works wikipedia volunteer p...   \n",
       "130037  b7a74a71dfd81339  support look http en wikipedia org wiki list_o...   \n",
       "69941   bb175180caa5d0e7  removal college material probably ok leave his...   \n",
       "131519  bfa7764bb9b34e6d  reverted recent edit made article mike tomlin ...   \n",
       "151318  7b298b893f79d245  hard us neurotypicals sometimes read wall wall...   \n",
       "\n",
       "        toxic  severe_toxic  obscene  threat  insult  identity_hate  \n",
       "133579      0             0        0       0       0              0  \n",
       "30878       0             0        0       0       0              0  \n",
       "71536       0             0        0       0       0              0  \n",
       "50157       0             0        0       0       0              0  \n",
       "84947       0             0        0       0       0              0  \n",
       "...       ...           ...      ...     ...     ...            ...  \n",
       "76155       0             0        0       0       0              0  \n",
       "130037      0             0        0       0       0              0  \n",
       "69941       0             0        0       0       0              0  \n",
       "131519      0             0        0       0       0              0  \n",
       "151318      0             0        0       0       0              0  \n",
       "\n",
       "[400 rows x 8 columns]"
      ]
     },
     "execution_count": 6,
     "metadata": {},
     "output_type": "execute_result"
    }
   ],
   "source": [
    "df"
   ]
  },
  {
   "cell_type": "code",
   "execution_count": 7,
   "metadata": {},
   "outputs": [],
   "source": [
    "embeddings= model.encode(df['comment_text'].tolist())\n",
    "df['emb'] = embeddings.tolist()"
   ]
  },
  {
   "cell_type": "code",
   "execution_count": 38,
   "metadata": {},
   "outputs": [
    {
     "data": {
      "text/plain": [
       "(400, 768)"
      ]
     },
     "execution_count": 38,
     "metadata": {},
     "output_type": "execute_result"
    }
   ],
   "source": [
    "embeddings.shape"
   ]
  },
  {
   "cell_type": "code",
   "execution_count": 16,
   "metadata": {},
   "outputs": [],
   "source": [
    "max_len = df['emb'].apply(len).max()\n",
    "from tensorflow.keras.models import Model\n",
    "from tensorflow.keras.layers import Input, LSTM, Dense, Conv1D, MaxPooling1D, Flatten\n",
    "from sklearn.model_selection import train_test_split\n",
    "from tensorflow.keras.metrics import Precision, Recall\n",
    "from tensorflow.keras.preprocessing.sequence import pad_sequences"
   ]
  },
  {
   "cell_type": "code",
   "execution_count": 39,
   "metadata": {},
   "outputs": [
    {
     "name": "stdout",
     "output_type": "stream",
     "text": [
      "Shape of sequences before reshaping: (400, 1, 768)\n"
     ]
    }
   ],
   "source": [
    "sequences = np.array(df['emb'].tolist())\n",
    "sequences = sequences.reshape(400, 1, 768)\n",
    "print(\"Shape of sequences before reshaping:\", sequences.shape)"
   ]
  },
  {
   "cell_type": "code",
   "execution_count": 40,
   "metadata": {},
   "outputs": [],
   "source": [
    "max_words = 1300  # Number of embeddings per sample\n",
    "dmsn = 768     # Dimensionality of each embedding\n"
   ]
  },
  {
   "cell_type": "code",
   "execution_count": 41,
   "metadata": {},
   "outputs": [],
   "source": [
    "\n",
    "\n",
    "padded_sequences = pad_sequences(sequences, maxlen=max_words, padding='post', truncating='post')\n"
   ]
  },
  {
   "cell_type": "code",
   "execution_count": 42,
   "metadata": {},
   "outputs": [],
   "source": [
    "X = np.array(padded_sequences)\n",
    "y = df.drop(['id','comment_text', 'emb'], axis=1)\n",
    "\n",
    "X_train, X_test, y_train, y_test = train_test_split(X, y, test_size=0.3, random_state=77)"
   ]
  },
  {
   "cell_type": "code",
   "execution_count": 43,
   "metadata": {},
   "outputs": [
    {
     "data": {
      "text/plain": [
       "(280, 1300, 768)"
      ]
     },
     "execution_count": 43,
     "metadata": {},
     "output_type": "execute_result"
    }
   ],
   "source": [
    "X_train.shape"
   ]
  },
  {
   "cell_type": "code",
   "execution_count": 11,
   "metadata": {},
   "outputs": [
    {
     "name": "stdout",
     "output_type": "stream",
     "text": [
      "Dimensionality of the embeddings: 768\n"
     ]
    }
   ],
   "source": [
    "# dmsn = len(df['emb'].iloc[0])\n",
    "\n",
    "# print(\"Dimensionality of the embeddings:\", dmsn)"
   ]
  },
  {
   "cell_type": "code",
   "execution_count": 35,
   "metadata": {},
   "outputs": [
    {
     "ename": "ValueError",
     "evalue": "cannot reshape array of size 364000 into shape (280,1300,768)",
     "output_type": "error",
     "traceback": [
      "\u001b[1;31m---------------------------------------------------------------------------\u001b[0m",
      "\u001b[1;31mValueError\u001b[0m                                Traceback (most recent call last)",
      "Cell \u001b[1;32mIn[35], line 2\u001b[0m\n\u001b[0;32m      1\u001b[0m \u001b[39m# Reshape X_train and X_test to fit the RNN\u001b[39;00m\n\u001b[1;32m----> 2\u001b[0m X_train \u001b[39m=\u001b[39m X_train\u001b[39m.\u001b[39;49mreshape(X_train\u001b[39m.\u001b[39;49mshape[\u001b[39m0\u001b[39;49m], max_words, dmsn)\n\u001b[0;32m      3\u001b[0m X_test \u001b[39m=\u001b[39m X_test\u001b[39m.\u001b[39mreshape(X_test\u001b[39m.\u001b[39mshape[\u001b[39m0\u001b[39m], max_words, dmsn)\n",
      "\u001b[1;31mValueError\u001b[0m: cannot reshape array of size 364000 into shape (280,1300,768)"
     ]
    }
   ],
   "source": [
    "# # Reshape X_train and X_test to fit the RNN\n",
    "# X_train = X_train.reshape(X_train.shape[0], max_words, dmsn)\n",
    "# X_test = X_test.reshape(X_test.shape[0], max_words, dmsn)"
   ]
  },
  {
   "cell_type": "code",
   "execution_count": null,
   "metadata": {},
   "outputs": [],
   "source": []
  },
  {
   "cell_type": "code",
   "execution_count": null,
   "metadata": {},
   "outputs": [],
   "source": []
  },
  {
   "cell_type": "code",
   "execution_count": null,
   "metadata": {},
   "outputs": [],
   "source": []
  },
  {
   "cell_type": "code",
   "execution_count": null,
   "metadata": {},
   "outputs": [],
   "source": [
    "# filename= \"ST_LSTM\"\n",
    "# tb = TensorBoard(log_dir= \"logs\\\\{}\".format(filename))"
   ]
  },
  {
   "cell_type": "code",
   "execution_count": 44,
   "metadata": {},
   "outputs": [],
   "source": [
    "from tensorflow.keras.models import Model\n",
    "from tensorflow.keras.layers import Input, LSTM, Dense\n",
    "from tensorflow.keras.optimizers import Adam\n",
    "from tensorflow.keras.metrics import Precision, Recall\n",
    "\n",
    "i = Input(shape=(max_words, dmsn))\n",
    "x = LSTM(128)(i)\n",
    "x = Dense(64, activation='relu')(x)\n",
    "x = Dense(6, activation='softmax')(x)\n",
    "lstm_model2 = Model(i, x) \n"
   ]
  },
  {
   "cell_type": "code",
   "execution_count": 45,
   "metadata": {},
   "outputs": [
    {
     "name": "stdout",
     "output_type": "stream",
     "text": [
      "Epoch 1/10\n",
      "9/9 [==============================] - 6s 173ms/step - loss: 0.3520 - accuracy: 0.9929 - recall: 0.0000e+00 - precision: 0.0000e+00 - val_loss: 0.4330 - val_accuracy: 0.9917 - val_recall: 0.0000e+00 - val_precision: 0.0000e+00\n",
      "Epoch 2/10\n",
      "9/9 [==============================] - 1s 174ms/step - loss: 0.3520 - accuracy: 0.9929 - recall: 0.0000e+00 - precision: 0.0000e+00 - val_loss: 0.4330 - val_accuracy: 0.9917 - val_recall: 0.0000e+00 - val_precision: 0.0000e+00\n",
      "Epoch 3/10\n",
      "9/9 [==============================] - 1s 156ms/step - loss: 0.3520 - accuracy: 0.9929 - recall: 0.0000e+00 - precision: 0.0000e+00 - val_loss: 0.4330 - val_accuracy: 0.9917 - val_recall: 0.0000e+00 - val_precision: 0.0000e+00\n",
      "Epoch 4/10\n",
      "9/9 [==============================] - 1s 139ms/step - loss: 0.3519 - accuracy: 0.9929 - recall: 0.0000e+00 - precision: 0.0000e+00 - val_loss: 0.4330 - val_accuracy: 0.9917 - val_recall: 0.0000e+00 - val_precision: 0.0000e+00\n",
      "Epoch 5/10\n",
      "9/9 [==============================] - 1s 131ms/step - loss: 0.3519 - accuracy: 0.9929 - recall: 0.0000e+00 - precision: 0.0000e+00 - val_loss: 0.4330 - val_accuracy: 0.9917 - val_recall: 0.0000e+00 - val_precision: 0.0000e+00\n",
      "Epoch 6/10\n",
      "9/9 [==============================] - 1s 129ms/step - loss: 0.3519 - accuracy: 0.9929 - recall: 0.0000e+00 - precision: 0.0000e+00 - val_loss: 0.4330 - val_accuracy: 0.9917 - val_recall: 0.0000e+00 - val_precision: 0.0000e+00\n",
      "Epoch 7/10\n",
      "9/9 [==============================] - 1s 125ms/step - loss: 0.3519 - accuracy: 0.9929 - recall: 0.0000e+00 - precision: 0.0000e+00 - val_loss: 0.4330 - val_accuracy: 0.9917 - val_recall: 0.0000e+00 - val_precision: 0.0000e+00\n",
      "Epoch 8/10\n",
      "9/9 [==============================] - 1s 124ms/step - loss: 0.3519 - accuracy: 0.9929 - recall: 0.0000e+00 - precision: 0.0000e+00 - val_loss: 0.4330 - val_accuracy: 0.9917 - val_recall: 0.0000e+00 - val_precision: 0.0000e+00\n",
      "Epoch 9/10\n",
      "9/9 [==============================] - 1s 121ms/step - loss: 0.3519 - accuracy: 0.9929 - recall: 0.0000e+00 - precision: 0.0000e+00 - val_loss: 0.4330 - val_accuracy: 0.9917 - val_recall: 0.0000e+00 - val_precision: 0.0000e+00\n",
      "Epoch 10/10\n",
      "9/9 [==============================] - 1s 123ms/step - loss: 0.3519 - accuracy: 0.9929 - recall: 0.0000e+00 - precision: 0.0000e+00 - val_loss: 0.4330 - val_accuracy: 0.9917 - val_recall: 0.0000e+00 - val_precision: 0.0000e+00\n"
     ]
    },
    {
     "data": {
      "text/plain": [
       "<keras.callbacks.History at 0x240298bd040>"
      ]
     },
     "execution_count": 45,
     "metadata": {},
     "output_type": "execute_result"
    }
   ],
   "source": [
    "lstm_model2.compile(loss='categorical_crossentropy', optimizer= Adam(learning_rate=.000025), metrics=['accuracy', Recall(name= 'recall'), Precision(name='precision')])\n",
    "r =lstm_model2.fit(X_train, y_train, epochs=10, batch_size=32, validation_data=(X_test, y_test))"
   ]
  },
  {
   "cell_type": "code",
   "execution_count": null,
   "metadata": {},
   "outputs": [],
   "source": []
  },
  {
   "cell_type": "code",
   "execution_count": null,
   "metadata": {},
   "outputs": [],
   "source": []
  },
  {
   "cell_type": "code",
   "execution_count": null,
   "metadata": {},
   "outputs": [],
   "source": []
  },
  {
   "cell_type": "code",
   "execution_count": null,
   "metadata": {},
   "outputs": [],
   "source": []
  },
  {
   "cell_type": "code",
   "execution_count": 46,
   "metadata": {},
   "outputs": [],
   "source": [
    "from tensorflow.keras.models import Model\n",
    "from tensorflow.keras.layers import Input, Conv1D, MaxPooling1D, Dense, Flatten\n",
    "\n",
    "i = Input(shape=(max_words, dmsn))\n",
    "\n",
    "# Conv1D layer\n",
    "x = Conv1D(32, 3, activation='relu')(i)\n",
    "x = MaxPooling1D(2)(x)\n",
    "\n",
    "# Flatten layer\n",
    "x = Flatten()(x)\n",
    "\n",
    "# Dense layers\n",
    "x = Dense(64, activation='relu')(x)\n",
    "x = Dense(6, activation='softmax')(x)\n",
    "\n",
    "# Create the Model\n",
    "cnn_model = Model(i,x)\n"
   ]
  },
  {
   "cell_type": "code",
   "execution_count": 47,
   "metadata": {},
   "outputs": [
    {
     "name": "stdout",
     "output_type": "stream",
     "text": [
      "Epoch 1/10\n",
      "9/9 [==============================] - 4s 114ms/step - loss: 0.3516 - accuracy: 0.1821 - recall: 0.0000e+00 - precision: 0.0000e+00 - val_loss: 0.4327 - val_accuracy: 0.1583 - val_recall: 0.0000e+00 - val_precision: 0.0000e+00\n",
      "Epoch 2/10\n",
      "9/9 [==============================] - 1s 66ms/step - loss: 0.3514 - accuracy: 0.2357 - recall: 0.0000e+00 - precision: 0.0000e+00 - val_loss: 0.4326 - val_accuracy: 0.2333 - val_recall: 0.0000e+00 - val_precision: 0.0000e+00\n",
      "Epoch 3/10\n",
      "9/9 [==============================] - 1s 63ms/step - loss: 0.3511 - accuracy: 0.3286 - recall: 0.0000e+00 - precision: 0.0000e+00 - val_loss: 0.4323 - val_accuracy: 0.3417 - val_recall: 0.0000e+00 - val_precision: 0.0000e+00\n",
      "Epoch 4/10\n",
      "9/9 [==============================] - 1s 59ms/step - loss: 0.3507 - accuracy: 0.4821 - recall: 0.0000e+00 - precision: 0.0000e+00 - val_loss: 0.4319 - val_accuracy: 0.5750 - val_recall: 0.0000e+00 - val_precision: 0.0000e+00\n",
      "Epoch 5/10\n",
      "9/9 [==============================] - 1s 65ms/step - loss: 0.3502 - accuracy: 0.5964 - recall: 0.0000e+00 - precision: 0.0000e+00 - val_loss: 0.4314 - val_accuracy: 0.6833 - val_recall: 0.0000e+00 - val_precision: 0.0000e+00\n",
      "Epoch 6/10\n",
      "9/9 [==============================] - 1s 62ms/step - loss: 0.3495 - accuracy: 0.7964 - recall: 0.0000e+00 - precision: 0.0000e+00 - val_loss: 0.4308 - val_accuracy: 0.8417 - val_recall: 0.0000e+00 - val_precision: 0.0000e+00\n",
      "Epoch 7/10\n",
      "9/9 [==============================] - 1s 61ms/step - loss: 0.3485 - accuracy: 0.9321 - recall: 0.0000e+00 - precision: 0.0000e+00 - val_loss: 0.4301 - val_accuracy: 0.9583 - val_recall: 0.0000e+00 - val_precision: 0.0000e+00\n",
      "Epoch 8/10\n",
      "9/9 [==============================] - 1s 57ms/step - loss: 0.3475 - accuracy: 0.9821 - recall: 0.0000e+00 - precision: 0.0000e+00 - val_loss: 0.4291 - val_accuracy: 0.9917 - val_recall: 0.0000e+00 - val_precision: 0.0000e+00\n",
      "Epoch 9/10\n",
      "9/9 [==============================] - 0s 57ms/step - loss: 0.3462 - accuracy: 0.9893 - recall: 0.0000e+00 - precision: 0.0000e+00 - val_loss: 0.4280 - val_accuracy: 0.9917 - val_recall: 0.0000e+00 - val_precision: 0.0000e+00\n",
      "Epoch 10/10\n",
      "9/9 [==============================] - 0s 57ms/step - loss: 0.3448 - accuracy: 0.9929 - recall: 0.0000e+00 - precision: 0.0000e+00 - val_loss: 0.4268 - val_accuracy: 0.9917 - val_recall: 0.0000e+00 - val_precision: 0.0000e+00\n"
     ]
    },
    {
     "data": {
      "text/plain": [
       "<keras.callbacks.History at 0x24034a117f0>"
      ]
     },
     "execution_count": 47,
     "metadata": {},
     "output_type": "execute_result"
    }
   ],
   "source": [
    "cnn_model.compile(loss='categorical_crossentropy', optimizer= Adam(learning_rate=.000025), metrics=['accuracy', Recall(name= 'recall'), Precision(name='precision')])\n",
    "g=cnn_model.fit(X_train, y_train, epochs=10, batch_size=32, validation_data=(X_test, y_test))"
   ]
  },
  {
   "cell_type": "code",
   "execution_count": null,
   "metadata": {},
   "outputs": [
    {
     "ename": "IndexError",
     "evalue": "tuple index out of range",
     "output_type": "error",
     "traceback": [
      "\u001b[1;31m---------------------------------------------------------------------------\u001b[0m",
      "\u001b[1;31mIndexError\u001b[0m                                Traceback (most recent call last)",
      "Cell \u001b[1;32mIn[33], line 1\u001b[0m\n\u001b[1;32m----> 1\u001b[0m X_train\u001b[39m.\u001b[39;49mshape[\u001b[39m2\u001b[39;49m]\n",
      "\u001b[1;31mIndexError\u001b[0m: tuple index out of range"
     ]
    }
   ],
   "source": []
  },
  {
   "cell_type": "code",
   "execution_count": null,
   "metadata": {},
   "outputs": [
    {
     "data": {
      "text/plain": [
       "array([[0, 1, 1, ..., 0, 0, 0],\n",
       "       [0, 1, 0, ..., 0, 0, 0],\n",
       "       [0, 0, 0, ..., 0, 0, 0],\n",
       "       ...,\n",
       "       [0, 0, 1, ..., 0, 0, 0],\n",
       "       [0, 1, 0, ..., 0, 0, 0],\n",
       "       [0, 0, 2, ..., 0, 0, 0]])"
      ]
     },
     "execution_count": 34,
     "metadata": {},
     "output_type": "execute_result"
    }
   ],
   "source": [
    "X_train"
   ]
  },
  {
   "cell_type": "code",
   "execution_count": null,
   "metadata": {},
   "outputs": [],
   "source": []
  },
  {
   "cell_type": "code",
   "execution_count": null,
   "metadata": {},
   "outputs": [],
   "source": []
  },
  {
   "cell_type": "code",
   "execution_count": null,
   "metadata": {},
   "outputs": [],
   "source": []
  },
  {
   "cell_type": "code",
   "execution_count": null,
   "metadata": {},
   "outputs": [],
   "source": []
  }
 ],
 "metadata": {
  "kernelspec": {
   "display_name": "torch",
   "language": "python",
   "name": "python3"
  },
  "language_info": {
   "codemirror_mode": {
    "name": "ipython",
    "version": 3
   },
   "file_extension": ".py",
   "mimetype": "text/x-python",
   "name": "python",
   "nbconvert_exporter": "python",
   "pygments_lexer": "ipython3",
   "version": "3.9.17"
  },
  "orig_nbformat": 4
 },
 "nbformat": 4,
 "nbformat_minor": 2
}
