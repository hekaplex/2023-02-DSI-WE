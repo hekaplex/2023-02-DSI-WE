{
 "cells": [
  {
   "cell_type": "code",
   "execution_count": null,
   "metadata": {},
   "outputs": [],
   "source": [
    "'''\n",
    "multi-line comments\n",
    "creted by using\n",
    "three single quotes\n",
    "'''\n",
    "var = 'C:\\\\' #single line commment - set variable and use special character for '\\'\n",
    "!dir $var"
   ]
  },
  {
   "cell_type": "code",
   "execution_count": null,
   "metadata": {},
   "outputs": [],
   "source": [
    "#Ex. code may have \"import pandas\"\n",
    "!pip install pandas"
   ]
  },
  {
   "cell_type": "code",
   "execution_count": null,
   "metadata": {},
   "outputs": [],
   "source": [
    "!pip install --upgrade pip --user"
   ]
  },
  {
   "cell_type": "code",
   "execution_count": 8,
   "metadata": {},
   "outputs": [],
   "source": [
    "#data types and input function\n",
    "name = input(\"please type name\")"
   ]
  },
  {
   "cell_type": "code",
   "execution_count": 9,
   "metadata": {},
   "outputs": [
    {
     "data": {
      "text/plain": [
       "'Drew'"
      ]
     },
     "execution_count": 9,
     "metadata": {},
     "output_type": "execute_result"
    }
   ],
   "source": [
    "name"
   ]
  },
  {
   "cell_type": "code",
   "execution_count": 10,
   "metadata": {},
   "outputs": [
    {
     "name": "stdout",
     "output_type": "stream",
     "text": [
      "Hello Drew\n"
     ]
    }
   ],
   "source": [
    "# print function\n",
    "print(\"Hello \"+ name)"
   ]
  },
  {
   "cell_type": "code",
   "execution_count": 11,
   "metadata": {},
   "outputs": [
    {
     "data": {
      "text/plain": [
       "str"
      ]
     },
     "execution_count": 11,
     "metadata": {},
     "output_type": "execute_result"
    }
   ],
   "source": [
    "type(name)"
   ]
  },
  {
   "cell_type": "code",
   "execution_count": 13,
   "metadata": {},
   "outputs": [
    {
     "name": "stdout",
     "output_type": "stream",
     "text": [
      "Hello Drew\n",
      "Hello Drew\n",
      "Hello Drew\n",
      "Hello Drew\n",
      "Hello Drew\n",
      "Hello Drew\n",
      "Hello Drew\n",
      "Hello Drew\n",
      "Hello Drew\n",
      "\n"
     ]
    }
   ],
   "source": [
    "#ASCII art\n",
    "name = input(\"please type name\")\n",
    "#convert from str to int\n",
    "repeat = int(input(\"number of repeats\"))\n",
    "#add a return special character \n",
    "core_string = \"Hello \"+name+\"\\n\"\n",
    "print(core_string * repeat)"
   ]
  },
  {
   "cell_type": "markdown",
   "metadata": {},
   "source": [
    "# Assignment\n",
    "* create a variable for a string\n",
    "* use an input\n",
    "* repeat string a number of times from the input\n",
    "\n",
    "OR\n",
    "\n",
    "* code using any Python and scripting we've learn"
   ]
  },
  {
   "cell_type": "code",
   "execution_count": 2,
   "metadata": {},
   "outputs": [
    {
     "name": "stdout",
     "output_type": "stream",
     "text": [
      "Hello James\n",
      "Hello James\n",
      "Hello James\n",
      "Hello James\n",
      "\n",
      "Hello2 James\n",
      "Hello2 James\n",
      "Hello2 James\n",
      "Hello2 James\n",
      "\n"
     ]
    }
   ],
   "source": [
    "#ASCII art\n",
    "name = \"James\"\n",
    "#convert from str to int\n",
    "repeat = int(input(\"number of repeats\"))\n",
    "#add a return special character \n",
    "core_string = \"Hello \"+name+\"\\n\"\n",
    "core_string2 = \"Hello2 \"+name+\"\\n\"\n",
    "print(core_string * repeat)\n",
    "print(core_string2 * repeat)"
   ]
  }
 ],
 "metadata": {
  "kernelspec": {
   "display_name": "Python 3.9.5 64-bit",
   "language": "python",
   "name": "python3"
  },
  "language_info": {
   "codemirror_mode": {
    "name": "ipython",
    "version": 3
   },
   "file_extension": ".py",
   "mimetype": "text/x-python",
   "name": "python",
   "nbconvert_exporter": "python",
   "pygments_lexer": "ipython3",
   "version": "3.11.3"
  },
  "orig_nbformat": 4,
  "vscode": {
   "interpreter": {
    "hash": "81794d4967e6c3204c66dcd87b604927b115b27c00565d3d43f05ba2f3a2cb0d"
   }
  }
 },
 "nbformat": 4,
 "nbformat_minor": 2
}
