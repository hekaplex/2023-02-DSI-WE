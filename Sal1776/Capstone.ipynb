{
 "cells": [
  {
   "cell_type": "code",
   "execution_count": 1,
   "metadata": {},
   "outputs": [
    {
     "name": "stderr",
     "output_type": "stream",
     "text": [
      "'pip' is not recognized as an internal or external command,\n",
      "operable program or batch file.\n"
     ]
    }
   ],
   "source": []
  },
  {
   "cell_type": "code",
   "execution_count": 5,
   "metadata": {},
   "outputs": [
    {
     "ename": "ModuleNotFoundError",
     "evalue": "No module named 'sklearn'",
     "output_type": "error",
     "traceback": [
      "\u001b[1;31m---------------------------------------------------------------------------\u001b[0m",
      "\u001b[1;31mModuleNotFoundError\u001b[0m                       Traceback (most recent call last)",
      "Cell \u001b[1;32mIn[5], line 4\u001b[0m\n\u001b[0;32m      2\u001b[0m \u001b[39mimport\u001b[39;00m \u001b[39mnumpy\u001b[39;00m \u001b[39mas\u001b[39;00m \u001b[39mnp\u001b[39;00m\n\u001b[0;32m      3\u001b[0m \u001b[39mimport\u001b[39;00m \u001b[39mseaborn\u001b[39;00m \u001b[39mas\u001b[39;00m \u001b[39msns\u001b[39;00m\n\u001b[1;32m----> 4\u001b[0m \u001b[39mfrom\u001b[39;00m \u001b[39msklearn\u001b[39;00m\u001b[39m.\u001b[39;00m\u001b[39mpreprocessing\u001b[39;00m \u001b[39mimport\u001b[39;00m StandardScaler\n\u001b[0;32m      5\u001b[0m \u001b[39mfrom\u001b[39;00m \u001b[39msklearn\u001b[39;00m\u001b[39m.\u001b[39;00m\u001b[39mmodel_selection\u001b[39;00m \u001b[39mimport\u001b[39;00m train_test_split\n\u001b[0;32m      6\u001b[0m \u001b[39mfrom\u001b[39;00m \u001b[39msklearn\u001b[39;00m\u001b[39m.\u001b[39;00m\u001b[39mlinear_model\u001b[39;00m \u001b[39mimport\u001b[39;00m LogisticRegression\n",
      "\u001b[1;31mModuleNotFoundError\u001b[0m: No module named 'sklearn'"
     ]
    },
    {
     "name": "stderr",
     "output_type": "stream",
     "text": [
      "\n",
      "[notice] A new release of pip available: 22.3.1 -> 23.1.2\n",
      "[notice] To update, run: python.exe -m pip install --upgrade pip\n"
     ]
    },
    {
     "name": "stdout",
     "output_type": "stream",
     "text": [
      "Collecting scikit-learn\n",
      "  Downloading scikit_learn-1.2.2-cp311-cp311-win_amd64.whl (8.3 MB)\n",
      "     ---------------------------------------- 8.3/8.3 MB 11.0 MB/s eta 0:00:00\n",
      "Requirement already satisfied: numpy>=1.17.3 in c:\\users\\lewis\\appdata\\local\\programs\\python\\python311\\lib\\site-packages (from scikit-learn) (1.24.3)\n",
      "Collecting scipy>=1.3.2\n",
      "  Downloading scipy-1.10.1-cp311-cp311-win_amd64.whl (42.2 MB)\n",
      "     --------------------------------------- 42.2/42.2 MB 21.1 MB/s eta 0:00:00\n",
      "Collecting joblib>=1.1.1\n",
      "  Downloading joblib-1.2.0-py3-none-any.whl (297 kB)\n",
      "     ------------------------------------- 298.0/298.0 kB 18.0 MB/s eta 0:00:00\n",
      "Collecting threadpoolctl>=2.0.0\n",
      "  Downloading threadpoolctl-3.1.0-py3-none-any.whl (14 kB)\n",
      "Installing collected packages: threadpoolctl, scipy, joblib, scikit-learn\n",
      "Successfully installed joblib-1.2.0 scikit-learn-1.2.2 scipy-1.10.1 threadpoolctl-3.1.0\n"
     ]
    }
   ],
   "source": [
    "import pandas as pd\n",
    "import numpy as np\n",
    "import seaborn as sns\n",
    "from sklearn.preprocessing import StandardScaler\n",
    "from sklearn.model_selection import train_test_split\n",
    "from sklearn.linear_model import LogisticRegression\n",
    "from sklearn.metrics import classification_report\n",
    "\n",
    "# Read the CSV data from the Google Sheets file\n",
    "url = \"https://docs.google.com/spreadsheets/d/1xLht2E9dicVRjXJpHwhLNXbfof_srub4SopmuPiXZWQ/export?format=csv\"\n",
    "df = pd.read_csv(url)\n",
    "\n",
    "# Rename columns with friendly names\n",
    "df.rename(columns={\n",
    "    \"age\": \"Age\",\n",
    "    \"workclass\": \"Work Class\",\n",
    "    \"education\": \"Education\",\n",
    "    \"marital-status\": \"Marital Status\",\n",
    "    \"occupation\": \"Occupation\",\n",
    "    \"relationship\": \"Relationship\",\n",
    "    \"race\": \"Race\",\n",
    "    \"sex\": \"Gender\",\n",
    "    \"hours-per-week\": \"Hours per Week\",\n",
    "    \"native-country\": \"Native Country\",\n",
    "    \"income\": \"Income\"\n",
    "}, inplace=True)\n",
    "\n",
    "# Explore the dataset\n",
    "print(\"Data Shape:\", df.shape)\n",
    "print(\"\\nData Types:\\n\", df.dtypes)\n",
    "print(\"\\nData Description:\\n\", df.describe(include=\"all\"))\n",
    "\n",
    "# Check for missing data\n",
    "print(\"\\nMissing Data:\\n\", df.isnull().sum())\n",
    "\n",
    "# Check for outliers\n",
    "numeric_cols = [\"Age\", \"Hours per Week\"]\n",
    "numeric_df = df[numeric_cols]\n",
    "z_scores = np.abs(StandardScaler().fit_transform(numeric_df))\n",
    "outliers = np.where(z_scores > 3)\n",
    "print(\"\\nOutliers:\\n\", numeric_df.iloc[outliers])\n",
    "\n",
    "# Explore the relationship between variables\n",
    "sns.heatmap(df.corr(), annot=True)\n",
    "\n",
    "# Explore the income distribution by gender\n",
    "sns.histplot(data=df, x=\"Gender\", hue=\"Income\", multiple=\"stack\")\n",
    "\n",
    "# Explore the hours per week distribution by education level\n",
    "sns.boxplot(data=df, x=\"Education\", y=\"Hours per Week\")\n",
    "\n",
    "# Prepare the data for modeling\n",
    "df[\"Gender\"] = df[\"Gender\"].apply(lambda x: 1 if x == \"Male\" else 0)\n",
    "df[\"Income\"] = df[\"Income\"].apply(lambda x: 1 if x == \">50K\" else 0)\n",
    "X = df.drop(\"Income\", axis=1)\n",
    "y = df[\"Income\"]\n",
    "X_encoded = pd.get_dummies(X, drop_first=True)\n",
    "X_train, X_test, y_train, y_test = train_test_split(X_encoded, y, test_size=0.3, random_state=42)\n",
    "\n",
    "# Train a logistic regression model\n",
    "lr = LogisticRegression()\n",
    "lr.fit(X_train, y_train)\n",
    "y_pred = lr.predict(X_test)\n",
    "\n",
    "# Evaluate the model performance\n",
    "print(\"\\nClassification Report:\\n\", classification_report(y_test, y_pred))\n"
   ]
  },
  {
   "cell_type": "code",
   "execution_count": 3,
   "metadata": {},
   "outputs": [
    {
     "name": "stdout",
     "output_type": "stream",
     "text": [
      "^C\n",
      "Note: you may need to restart the kernel to use updated packages.\n"
     ]
    }
   ],
   "source": [
    "pip install scikit-learn"
   ]
  }
 ],
 "metadata": {
  "kernelspec": {
   "display_name": "Python 3",
   "language": "python",
   "name": "python3"
  },
  "language_info": {
   "codemirror_mode": {
    "name": "ipython",
    "version": 3
   },
   "file_extension": ".py",
   "mimetype": "text/x-python",
   "name": "python",
   "nbconvert_exporter": "python",
   "pygments_lexer": "ipython3",
   "version": "3.11.3"
  },
  "orig_nbformat": 4
 },
 "nbformat": 4,
 "nbformat_minor": 2
}
