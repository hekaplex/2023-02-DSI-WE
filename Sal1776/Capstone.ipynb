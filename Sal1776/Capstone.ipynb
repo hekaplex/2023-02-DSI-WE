{
 "cells": [
  {
   "cell_type": "code",
   "execution_count": null,
   "metadata": {},
   "outputs": [],
   "source": [
    "#Import necessary libraries\n",
    "import pandas as pd\n",
    "import numpy as np\n",
    "import seaborn as sns\n",
    "import matplotlib.pyplot as plt\n",
    "from sklearn.preprocessing import StandardScaler\n"
   ]
  },
  {
   "cell_type": "code",
   "execution_count": null,
   "metadata": {},
   "outputs": [],
   "source": [
    "#Load the dataset\n",
    "url = \"https://data.ct.gov/api/views/rybz-nyjw/rows.csv?accessType=DOWNLOAD\"\n",
    "df = pd.read_csv(url)"
   ]
  },
  {
   "cell_type": "code",
   "execution_count": null,
   "metadata": {},
   "outputs": [],
   "source": [
    "#Display the first few rows of the dataset\n",
    "print(df.head())\n"
   ]
  },
  {
   "cell_type": "code",
   "execution_count": null,
   "metadata": {},
   "outputs": [],
   "source": [
    "#Rename the columns to be more readable\n",
    "df.rename(columns={\n",
    "    \"Date\": \"Date\",\n",
    "    \"DateType\": \"Date Type\",\n",
    "    \"Age\": \"Age\",\n",
    "    \"Sex\": \"Gender\",\n",
    "    \"Race\": \"Race\",\n",
    "    \"ResidenceCity\": \"Residence City\",\n",
    "    \"ResidenceCounty\": \"Residence County\",\n",
    "    \"ResidenceState\": \"Residence State\",\n",
    "    \"DeathCity\": \"Death City\",\n",
    "    \"DeathCounty\": \"Death County\",\n",
    "    \"Location\": \"Location\",\n",
    "    \"LocationifOther\": \"Location if Other\",\n",
    "    \"DescriptionofInjury\": \"Description of Injury\",\n",
    "    \"InjuryPlace\": \"Injury Place\",\n",
    "    \"InjuryCity\": \"Injury City\",\n",
    "    \"InjuryCounty\": \"Injury County\",\n",
    "    \"InjuryState\": \"Injury State\",\n",
    "    \"CauseofDeath\": \"Cause of Death\",\n",
    "    \"MannerofDeath\": \"Manner of Death\",\n",
    "    \"AmendedMannerofDeath\": \"Amended Manner of Death\",\n",
    "    \"DeathLoc\": \"Death Location\",\n",
    "    \"Certifier\": \"Certifier\",\n",
    "    \"Pronouncer\": \"Pronouncer\",\n",
    "    \"PronouncerTitle\": \"Pronouncer Title\",\n",
    "    \"OtherSignifican\": \"Other Significant Conditions \",\n",
    "    \"Heroin\": \"Heroin\",\n",
    "    \"Cocaine\": \"Cocaine\",\n",
    "    \"Fentanyl\": \"Fentanyl\",\n",
    "    \"FentanylAnalogue\": \"Fentanyl Analogue\",\n",
    "    \"Oxycodone\": \"Oxycodone\",\n",
    "    \"Oxymorphone\": \"Oxymorphone\",\n",
    "    \"Ethanol\": \"Ethanol\",\n",
    "    \"Hydrocodone\": \"Hydrocodone\",\n",
    "    \"Benzodiazepine\": \"Benzodiazepine\",\n",
    "    \"Methadone\": \"Methadone\",\n",
    "    \"Amphet\": \"Meth/Amphetamine\",\n",
    "    \"Tramad\": \"Tramadol\",\n",
    "    \"Morphine_NotHeroin\": \"Morphine (Not Heroin)\",\n",
    "    \"Hydromorphone\": \"Hydromorphone\",\n",
    "    \"Other\": \"Other\",\n",
    "    \"AnyOpioid\": \"Any Opioid\",\n",
    "    \"MannerofDeath\": \"Manner of Death\",\n",
    "    \"DeathCityGeo\": \"DeathCityGeo\",\n",
    "    \"ResidenceCityGeo\": \"ResidenceCityGeo\",\n",
    "    \"InjuryCityGeo\": \"InjuryCityGeo\"\n",
    "}, inplace=True)\n"
   ]
  },
  {
   "cell_type": "code",
   "execution_count": null,
   "metadata": {},
   "outputs": [],
   "source": [
    "#Drop irrelevant columns\n",
    "df = df.drop([\"ID\", \"DateType\", \"Time\", \"LocationifOther\"], axis=1)\n"
   ]
  },
  {
   "cell_type": "code",
   "execution_count": null,
   "metadata": {},
   "outputs": [],
   "source": [
    "#Replace missing values with \"Unknown\"\n",
    "df.fillna(\"Unknown\", inplace=True)\n"
   ]
  },
  {
   "cell_type": "code",
   "execution_count": null,
   "metadata": {},
   "outputs": [],
   "source": [
    "#Find and remove outliers\n",
    "numeric_cols = [\"Age\"]\n",
    "numeric_df = df[numeric_cols]\n",
    "z_scores = np.abs(StandardScaler().fit_transform(numeric_df))\n",
    "outliers = np.where(z_scores > 3)\n",
    "df = df.drop(df.index[outliers])\n"
   ]
  },
  {
   "cell_type": "code",
   "execution_count": null,
   "metadata": {},
   "outputs": [],
   "source": [
    "# Explore the relationship between variables using a heatmap\n",
    "sns.heatmap(df.corr(), annot=True)\n",
    "plt.show()\n",
    "\n",
    "# Explore the income distribution by gender\n",
    "sns.histplot(data=df, x=\"Gender\", hue=\"Income\", multiple=\"stack\")\n",
    "plt.show()\n"
   ]
  }
 ],
 "metadata": {
  "kernelspec": {
   "display_name": "Python 3",
   "language": "python",
   "name": "python3"
  },
  "language_info": {
   "codemirror_mode": {
    "name": "ipython",
    "version": 3
   },
   "file_extension": ".py",
   "mimetype": "text/x-python",
   "name": "python",
   "nbconvert_exporter": "python",
   "pygments_lexer": "ipython3",
   "version": "3.11.3"
  },
  "orig_nbformat": 4
 },
 "nbformat": 4,
 "nbformat_minor": 2
}
