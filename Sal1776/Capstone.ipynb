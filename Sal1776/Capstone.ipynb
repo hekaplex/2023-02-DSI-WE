{
 "cells": [
  {
   "cell_type": "code",
   "execution_count": 53,
   "metadata": {},
   "outputs": [
    {
     "name": "stdout",
     "output_type": "stream",
     "text": [
      "    Age\n",
      "0  37.0\n",
      "1  37.0\n",
      "2  28.0\n",
      "3  26.0\n",
      "4  41.0\n"
     ]
    }
   ],
   "source": [
    "import pandas as pd\n",
    "import numpy as np\n",
    "\n",
    "url = \"https://data.ct.gov/api/views/rybz-nyjw/rows.csv?accessType=DOWNLOAD\"\n",
    "\n",
    "# Read the data into a Pandas DataFrame\n",
    "df = pd.read_csv(url)\n",
    "\n",
    "# Drop irrelevant columns\n",
    "df.drop([\n",
    "    \"Date Type\", # Column with data type of date\n",
    "    \"Location if Other\", # Column with location information\n",
    "    \"ResidenceCityGeo\", # Column with geolocation information\n",
    "    \"InjuryCityGeo\", # Column with geolocation information\n",
    "    \"DeathCityGeo\" # Column with geolocation information\n",
    "], axis=1, inplace=True)\n",
    "\n",
    "# Drop non-numeric columns\n",
    "numeric_cols = df.select_dtypes(include=[np.number]).columns\n",
    "df = df[numeric_cols]\n",
    "\n",
    "# Rename columns\n",
    "df.rename(columns={\n",
    "    \"Death Date\": \"Date\",\n",
    "    \"Age\": \"Age\",\n",
    "    \"Sex\": \"Gender\",\n",
    "    \"Race\": \"Race\",\n",
    "    \"Ethnicity\": \"Ethnicity\",\n",
    "    \"Residence City\": \"Residence City\",\n",
    "    \"Residence County\": \"Residence County\",\n",
    "    \"Residence State\": \"Residence State\",\n",
    "    \"Injury City\": \"Injury City\",\n",
    "    \"Injury County\": \"Injury County\",\n",
    "    \"Injury State\": \"Injury State\",\n",
    "    \"Injury Place\": \"Injury Place\",\n",
    "    \"Description of Injury\": \"Description of Injury\",\n",
    "    \"Death City\": \"Death City\",\n",
    "    \"Death County\": \"Death County\",\n",
    "    \"Death State\": \"Death State\",\n",
    "    \"Location\": \"Location\",\n",
    "    \"Cause of Death\": \"Cause of Death\",\n",
    "    \"Manner of Death\": \"Manner of Death\",\n",
    "    \"Other Significant Conditions\": \"Other Significant Conditions\",\n",
    "    \"Heroin\": \"Heroin\",\n",
    "    \"Heroin death certificate (DC)\": \"Heroin death certificate (DC)\",\n",
    "    \"Cocaine\": \"Cocaine\",\n",
    "    \"Fentanyl\": \"Fentanyl\",\n",
    "    \"Fentanyl Analogue\": \"Fentanyl Analogue\",\n",
    "    \"Oxycodone\": \"Oxycodone\",\n",
    "    \"Oxymorphone\": \"Oxymorphone\",\n",
    "    \"Ethanol\": \"Ethanol\",\n",
    "    \"Hydrocodone\": \"Hydrocodone\",\n",
    "    \"Benzodiazepine\": \"Benzodiazepine\",\n",
    "    \"Methadone\": \"Methadone\",\n",
    "    \"Meth/Amphetamine\": \"Meth/Amphetamine\",\n",
    "    \"Amphet\": \"Amphet\",\n",
    "    \"Tramad\": \"Tramad\",\n",
    "    \"Hydromorphone\": \"Hydromorphone\",\n",
    "    \"Morphine (Not Heroin)\": \"Morphine (Not Heroin)\",\n",
    "    \"Xylazine\": \"Xylazine\",\n",
    "    \"Gabapentin\": \"Gabapentin\",\n",
    "    \"Opiate NOS\": \"Opiate NOS\",\n",
    "    \"Heroin/Morph/Codeine\": \"Heroin/Morph/Codeine\",\n",
    "    \"Other Opioid\": \"Other Opioid\",\n",
    "    \"Any Opioid\": \"Any Opioid\",\n",
    "    \"Other\": \"Other\"\n",
    "}, inplace=True)\n",
    "\n",
    "print(df.head())"
   ]
  },
  {
   "cell_type": "code",
   "execution_count": 54,
   "metadata": {},
   "outputs": [
    {
     "data": {
      "image/png": "[encoded data removed]",
      "text/plain": [
       "<Figure size 640x480 with 1 Axes>"
      ]
     },
     "metadata": {},
     "output_type": "display_data"
    },
    {
     "ename": "KeyError",
     "evalue": "'Cocaine'",
     "output_type": "error",
     "traceback": [
      "\u001b[1;31m---------------------------------------------------------------------------\u001b[0m",
      "\u001b[1;31mKeyError\u001b[0m                                  Traceback (most recent call last)",
      "File \u001b[1;32mc:\\Users\\lewis\\AppData\\Local\\Programs\\Python\\Python311\\Lib\\site-packages\\pandas\\core\\indexes\\base.py:3652\u001b[0m, in \u001b[0;36mIndex.get_loc\u001b[1;34m(self, key)\u001b[0m\n\u001b[0;32m   3651\u001b[0m \u001b[39mtry\u001b[39;00m:\n\u001b[1;32m-> 3652\u001b[0m     \u001b[39mreturn\u001b[39;00m \u001b[39mself\u001b[39;49m\u001b[39m.\u001b[39;49m_engine\u001b[39m.\u001b[39;49mget_loc(casted_key)\n\u001b[0;32m   3653\u001b[0m \u001b[39mexcept\u001b[39;00m \u001b[39mKeyError\u001b[39;00m \u001b[39mas\u001b[39;00m err:\n",
      "File \u001b[1;32mc:\\Users\\lewis\\AppData\\Local\\Programs\\Python\\Python311\\Lib\\site-packages\\pandas\\_libs\\index.pyx:147\u001b[0m, in \u001b[0;36mpandas._libs.index.IndexEngine.get_loc\u001b[1;34m()\u001b[0m\n",
      "File \u001b[1;32mc:\\Users\\lewis\\AppData\\Local\\Programs\\Python\\Python311\\Lib\\site-packages\\pandas\\_libs\\index.pyx:176\u001b[0m, in \u001b[0;36mpandas._libs.index.IndexEngine.get_loc\u001b[1;34m()\u001b[0m\n",
      "File \u001b[1;32mpandas\\_libs\\hashtable_class_helper.pxi:7080\u001b[0m, in \u001b[0;36mpandas._libs.hashtable.PyObjectHashTable.get_item\u001b[1;34m()\u001b[0m\n",
      "File \u001b[1;32mpandas\\_libs\\hashtable_class_helper.pxi:7088\u001b[0m, in \u001b[0;36mpandas._libs.hashtable.PyObjectHashTable.get_item\u001b[1;34m()\u001b[0m\n",
      "\u001b[1;31mKeyError\u001b[0m: 'Cocaine'",
      "\nThe above exception was the direct cause of the following exception:\n",
      "\u001b[1;31mKeyError\u001b[0m                                  Traceback (most recent call last)",
      "Cell \u001b[1;32mIn[54], line 11\u001b[0m\n\u001b[0;32m      8\u001b[0m plt\u001b[39m.\u001b[39mshow()\n\u001b[0;32m     10\u001b[0m \u001b[39m# Create a histogram of deaths involving cocaine\u001b[39;00m\n\u001b[1;32m---> 11\u001b[0m plt\u001b[39m.\u001b[39mhist(df[\u001b[39m'\u001b[39;49m\u001b[39mCocaine\u001b[39;49m\u001b[39m'\u001b[39;49m], bins\u001b[39m=\u001b[39m\u001b[39m20\u001b[39m)\n\u001b[0;32m     12\u001b[0m plt\u001b[39m.\u001b[39mtitle(\u001b[39m\"\u001b[39m\u001b[39mNumber of Deaths Involving Cocaine Use\u001b[39m\u001b[39m\"\u001b[39m)\n\u001b[0;32m     13\u001b[0m plt\u001b[39m.\u001b[39mxlabel(\u001b[39m\"\u001b[39m\u001b[39mNumber of Deaths\u001b[39m\u001b[39m\"\u001b[39m)\n",
      "File \u001b[1;32mc:\\Users\\lewis\\AppData\\Local\\Programs\\Python\\Python311\\Lib\\site-packages\\pandas\\core\\frame.py:3760\u001b[0m, in \u001b[0;36mDataFrame.__getitem__\u001b[1;34m(self, key)\u001b[0m\n\u001b[0;32m   3758\u001b[0m \u001b[39mif\u001b[39;00m \u001b[39mself\u001b[39m\u001b[39m.\u001b[39mcolumns\u001b[39m.\u001b[39mnlevels \u001b[39m>\u001b[39m \u001b[39m1\u001b[39m:\n\u001b[0;32m   3759\u001b[0m     \u001b[39mreturn\u001b[39;00m \u001b[39mself\u001b[39m\u001b[39m.\u001b[39m_getitem_multilevel(key)\n\u001b[1;32m-> 3760\u001b[0m indexer \u001b[39m=\u001b[39m \u001b[39mself\u001b[39;49m\u001b[39m.\u001b[39;49mcolumns\u001b[39m.\u001b[39;49mget_loc(key)\n\u001b[0;32m   3761\u001b[0m \u001b[39mif\u001b[39;00m is_integer(indexer):\n\u001b[0;32m   3762\u001b[0m     indexer \u001b[39m=\u001b[39m [indexer]\n",
      "File \u001b[1;32mc:\\Users\\lewis\\AppData\\Local\\Programs\\Python\\Python311\\Lib\\site-packages\\pandas\\core\\indexes\\base.py:3654\u001b[0m, in \u001b[0;36mIndex.get_loc\u001b[1;34m(self, key)\u001b[0m\n\u001b[0;32m   3652\u001b[0m     \u001b[39mreturn\u001b[39;00m \u001b[39mself\u001b[39m\u001b[39m.\u001b[39m_engine\u001b[39m.\u001b[39mget_loc(casted_key)\n\u001b[0;32m   3653\u001b[0m \u001b[39mexcept\u001b[39;00m \u001b[39mKeyError\u001b[39;00m \u001b[39mas\u001b[39;00m err:\n\u001b[1;32m-> 3654\u001b[0m     \u001b[39mraise\u001b[39;00m \u001b[39mKeyError\u001b[39;00m(key) \u001b[39mfrom\u001b[39;00m \u001b[39merr\u001b[39;00m\n\u001b[0;32m   3655\u001b[0m \u001b[39mexcept\u001b[39;00m \u001b[39mTypeError\u001b[39;00m:\n\u001b[0;32m   3656\u001b[0m     \u001b[39m# If we have a listlike key, _check_indexing_error will raise\u001b[39;00m\n\u001b[0;32m   3657\u001b[0m     \u001b[39m#  InvalidIndexError. Otherwise we fall through and re-raise\u001b[39;00m\n\u001b[0;32m   3658\u001b[0m     \u001b[39m#  the TypeError.\u001b[39;00m\n\u001b[0;32m   3659\u001b[0m     \u001b[39mself\u001b[39m\u001b[39m.\u001b[39m_check_indexing_error(key)\n",
      "\u001b[1;31mKeyError\u001b[0m: 'Cocaine'"
     ]
    }
   ],
   "source": [
    "import matplotlib.pyplot as plt\n",
    "\n",
    "# Create a histogram of ages at death\n",
    "plt.hist(df['Age'], bins=20)\n",
    "plt.title(\"Age at which Drug Abusers Die\")\n",
    "plt.xlabel(\"Age\")\n",
    "plt.ylabel(\"Number of Deaths\")\n",
    "plt.show()\n",
    "\n",
    "# Create a histogram of deaths involving cocaine\n",
    "plt.hist(df['Cocaine'], bins=20)\n",
    "plt.title(\"Number of Deaths Involving Cocaine Use\")\n",
    "plt.xlabel(\"Number of Deaths\")\n",
    "plt.ylabel(\"Frequency\")\n",
    "plt.show()\n"
   ]
  },
  {
   "cell_type": "code",
   "execution_count": null,
   "metadata": {},
   "outputs": [],
   "source": []
  }
 ],
 "metadata": {
  "kernelspec": {
   "display_name": "Python 3",
   "language": "python",
   "name": "python3"
  },
  "language_info": {
   "codemirror_mode": {
    "name": "ipython",
    "version": 3
   },
   "file_extension": ".py",
   "mimetype": "text/x-python",
   "name": "python",
   "nbconvert_exporter": "python",
   "pygments_lexer": "ipython3",
   "version": "3.11.3"
  },
  "orig_nbformat": 4
 },
 "nbformat": 4,
 "nbformat_minor": 2
}
