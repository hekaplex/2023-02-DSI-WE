{
 "cells": [
  {
   "cell_type": "code",
   "execution_count": 1,
   "metadata": {},
   "outputs": [],
   "source": [
    "#Import necessary libraries\n",
    "import pandas as pd\n",
    "import numpy as np\n",
    "import seaborn as sns\n",
    "import matplotlib.pyplot as plt\n",
    "from sklearn.preprocessing import StandardScaler\n"
   ]
  },
  {
   "cell_type": "code",
   "execution_count": 2,
   "metadata": {},
   "outputs": [],
   "source": [
    "#Load the dataset\n",
    "url = \"https://data.ct.gov/api/views/rybz-nyjw/rows.csv?accessType=DOWNLOAD\"\n",
    "df = pd.read_csv(url)"
   ]
  },
  {
   "cell_type": "code",
   "execution_count": 3,
   "metadata": {},
   "outputs": [
    {
     "name": "stdout",
     "output_type": "stream",
     "text": [
      "         Date      Date Type   Age     Sex   Race Ethnicity Residence City   \n",
      "0  05/29/2012  Date of death  37.0    Male  Black       NaN       STAMFORD  \\\n",
      "1  06/27/2012  Date of death  37.0    Male  White       NaN        NORWICH   \n",
      "2  03/24/2014  Date of death  28.0    Male  White       NaN         HEBRON   \n",
      "3  12/31/2014  Date of death  26.0  Female  White       NaN         BALTIC   \n",
      "4  01/16/2016  Date of death  41.0    Male  White       NaN        SHELTON   \n",
      "\n",
      "  Residence County Residence State Injury City  ... Xylazine Gabapentin   \n",
      "0        FAIRFIELD             NaN    STAMFORD  ...      NaN        NaN  \\\n",
      "1       NEW LONDON             NaN     NORWICH  ...      NaN        NaN   \n",
      "2              NaN             NaN      HEBRON  ...      NaN        NaN   \n",
      "3              NaN             NaN         NaN  ...      NaN        NaN   \n",
      "4        FAIRFIELD              CT     SHELTON  ...      NaN        NaN   \n",
      "\n",
      "  Opiate NOS Heroin/Morph/Codeine Other Opioid Any Opioid Other   \n",
      "0        NaN                  NaN          NaN        NaN   NaN  \\\n",
      "1        NaN                  NaN          NaN        NaN   NaN   \n",
      "2        NaN                  NaN          NaN        NaN   NaN   \n",
      "3        NaN                  NaN          NaN        NaN   NaN   \n",
      "4        NaN                  NaN          NaN          Y   NaN   \n",
      "\n",
      "                        ResidenceCityGeo   \n",
      "0  STAMFORD, CT\\n(41.051924, -73.539475)  \\\n",
      "1   NORWICH, CT\\n(41.524304, -72.075821)   \n",
      "2    HEBRON, CT\\n(41.658069, -72.366324)   \n",
      "3    BALTIC, CT\\n(41.617221, -72.085031)   \n",
      "4   SHELTON, CT\\n(41.316843, -73.092968)   \n",
      "\n",
      "                           InjuryCityGeo   \n",
      "0  STAMFORD, CT\\n(41.051924, -73.539475)  \\\n",
      "1   NORWICH, CT\\n(41.524304, -72.075821)   \n",
      "2    HEBRON, CT\\n(41.658069, -72.366324)   \n",
      "3            CT\\n(41.575155, -72.738288)   \n",
      "4   SHELTON, CT\\n(41.316843, -73.092968)   \n",
      "\n",
      "                               DeathCityGeo  \n",
      "0               CT\\n(41.575155, -72.738288)  \n",
      "1      Norwich, CT\\n(41.524304, -72.075821)  \n",
      "2  Marlborough, CT\\n(41.632043, -72.461309)  \n",
      "3       Baltic, CT\\n(41.617221, -72.085031)  \n",
      "4   Bridgeport, CT\\n(41.179195, -73.189476)  \n",
      "\n",
      "[5 rows x 48 columns]\n"
     ]
    }
   ],
   "source": [
    "#Display the first few rows of the dataset\n",
    "print(df.head())\n"
   ]
  },
  {
   "cell_type": "code",
   "execution_count": 4,
   "metadata": {},
   "outputs": [],
   "source": [
    "# Rename columns\n",
    "df.rename(columns={\n",
    "    \"Death Date\": \"Date\",\n",
    "    \"Age\": \"Age\",\n",
    "    \"Sex\": \"Gender\",\n",
    "    \"Race\": \"Race\",\n",
    "    \"Residence City\": \"Residence City\",\n",
    "    \"Residence County\": \"Residence County\",\n",
    "    \"Residence State\": \"Residence State\",\n",
    "    \"Location of death\": \"Location\",\n",
    "    \"Location of Death City\": \"Death City\",\n",
    "    \"Location of Death County\": \"Death County\",\n",
    "    \"Location of Death State\": \"Death State\",\n",
    "    \"DescriptionofInjury\": \"Description of Injury\",\n",
    "    \"Heroin(Cause of death)\": \"Heroin\",\n",
    "    \"Cocaine(Cause of death)\": \"Cocaine\",\n",
    "    \"Fentanyl(Cause of death)\": \"Fentanyl\",\n",
    "    \"Fentanyl Analogue(Cause of death)\": \"Fentanyl Analogue\",\n",
    "    \"Oxycodone(Cause of death)\": \"Oxycodone\",\n",
    "    \"Oxymorphone(Cause of death)\": \"Oxymorphone\",\n",
    "    \"Ethanol(Cause of death)\": \"Ethanol\",\n",
    "    \"Hydrocodone(Cause of death)\": \"Hydrocodone\",\n",
    "    \"Benzodiazepine(Cause of death)\": \"Benzodiazepine\",\n",
    "    \"Methadone(Cause of death)\": \"Methadone\",\n",
    "    \"Amphetamines(Cause of death)\": \"Meth/Amphetamine\",\n",
    "    \"Methamphetamine(Cause of death)\": \"Meth/Amphetamine\",\n",
    "    \"Tramadol(Cause of death)\": \"Tramadol\",\n",
    "    \"Hydromorphone(Cause of death)\": \"Hydromorphone\",\n",
    "    \"Other\": \"Other\",\n",
    "    \"Any Opioid\": \"Any Opioid\",\n",
    "    \"Manner of Death\": \"Manner of Death\",\n",
    "    \"Death City\": \"DeathCityGeo\",\n",
    "    \"Residence City\": \"ResidenceCityGeo\",\n",
    "    \"Injury City\": \"InjuryCityGeo\",\n",
    "    \"Injury County\": \"Injury County\",\n",
    "    \"Injury State\": \"Injury State\",\n",
    "    \"Cause of Death\": \"Cause of Death\",\n",
    "    \"Other Opioid\": \"Other Opioid\",\n",
    "    \"Other Significant Conditions and contributing causes\": \"Other Significant Conditions \"\n",
    "}, inplace=True)"
   ]
  },
  {
   "cell_type": "code",
   "execution_count": 5,
   "metadata": {},
   "outputs": [
    {
     "ename": "KeyError",
     "evalue": "\"['ID' 'DateType' 'Time' 'LocationifOther' 'ResidenceCityGeo'\\n 'InjuryCityGeo' 'DeathCityGeo'] not found in axis\"",
     "output_type": "error",
     "traceback": [
      "\u001b[1;31m---------------------------------------------------------------------------\u001b[0m",
      "\u001b[1;31mKeyError\u001b[0m                                  Traceback (most recent call last)",
      "Cell \u001b[1;32mIn[5], line 2\u001b[0m\n\u001b[0;32m      1\u001b[0m \u001b[39m# Drop irrelevant columns\u001b[39;00m\n\u001b[1;32m----> 2\u001b[0m df\u001b[39m.\u001b[39;49mdrop([\u001b[39m\"\u001b[39;49m\u001b[39mID\u001b[39;49m\u001b[39m\"\u001b[39;49m, \u001b[39m\"\u001b[39;49m\u001b[39mDateType\u001b[39;49m\u001b[39m\"\u001b[39;49m, \u001b[39m\"\u001b[39;49m\u001b[39mTime\u001b[39;49m\u001b[39m\"\u001b[39;49m, \u001b[39m\"\u001b[39;49m\u001b[39mLocationifOther\u001b[39;49m\u001b[39m\"\u001b[39;49m, \u001b[39m\"\u001b[39;49m\u001b[39mResidenceCityGeo\u001b[39;49m\u001b[39m\"\u001b[39;49m, \u001b[39m\"\u001b[39;49m\u001b[39mInjuryCityGeo\u001b[39;49m\u001b[39m\"\u001b[39;49m, \u001b[39m\"\u001b[39;49m\u001b[39mDeathCityGeo\u001b[39;49m\u001b[39m\"\u001b[39;49m], axis\u001b[39m=\u001b[39;49m\u001b[39m1\u001b[39;49m, inplace\u001b[39m=\u001b[39;49m\u001b[39mTrue\u001b[39;49;00m)\n",
      "File \u001b[1;32mc:\\Users\\lewis\\AppData\\Local\\Programs\\Python\\Python311\\Lib\\site-packages\\pandas\\core\\frame.py:5266\u001b[0m, in \u001b[0;36mDataFrame.drop\u001b[1;34m(self, labels, axis, index, columns, level, inplace, errors)\u001b[0m\n\u001b[0;32m   5118\u001b[0m \u001b[39mdef\u001b[39;00m \u001b[39mdrop\u001b[39m(\n\u001b[0;32m   5119\u001b[0m     \u001b[39mself\u001b[39m,\n\u001b[0;32m   5120\u001b[0m     labels: IndexLabel \u001b[39m=\u001b[39m \u001b[39mNone\u001b[39;00m,\n\u001b[1;32m   (...)\u001b[0m\n\u001b[0;32m   5127\u001b[0m     errors: IgnoreRaise \u001b[39m=\u001b[39m \u001b[39m\"\u001b[39m\u001b[39mraise\u001b[39m\u001b[39m\"\u001b[39m,\n\u001b[0;32m   5128\u001b[0m ) \u001b[39m-\u001b[39m\u001b[39m>\u001b[39m DataFrame \u001b[39m|\u001b[39m \u001b[39mNone\u001b[39;00m:\n\u001b[0;32m   5129\u001b[0m \u001b[39m    \u001b[39m\u001b[39m\"\"\"\u001b[39;00m\n\u001b[0;32m   5130\u001b[0m \u001b[39m    Drop specified labels from rows or columns.\u001b[39;00m\n\u001b[0;32m   5131\u001b[0m \n\u001b[1;32m   (...)\u001b[0m\n\u001b[0;32m   5264\u001b[0m \u001b[39m            weight  1.0     0.8\u001b[39;00m\n\u001b[0;32m   5265\u001b[0m \u001b[39m    \"\"\"\u001b[39;00m\n\u001b[1;32m-> 5266\u001b[0m     \u001b[39mreturn\u001b[39;00m \u001b[39msuper\u001b[39;49m()\u001b[39m.\u001b[39;49mdrop(\n\u001b[0;32m   5267\u001b[0m         labels\u001b[39m=\u001b[39;49mlabels,\n\u001b[0;32m   5268\u001b[0m         axis\u001b[39m=\u001b[39;49maxis,\n\u001b[0;32m   5269\u001b[0m         index\u001b[39m=\u001b[39;49mindex,\n\u001b[0;32m   5270\u001b[0m         columns\u001b[39m=\u001b[39;49mcolumns,\n\u001b[0;32m   5271\u001b[0m         level\u001b[39m=\u001b[39;49mlevel,\n\u001b[0;32m   5272\u001b[0m         inplace\u001b[39m=\u001b[39;49minplace,\n\u001b[0;32m   5273\u001b[0m         errors\u001b[39m=\u001b[39;49merrors,\n\u001b[0;32m   5274\u001b[0m     )\n",
      "File \u001b[1;32mc:\\Users\\lewis\\AppData\\Local\\Programs\\Python\\Python311\\Lib\\site-packages\\pandas\\core\\generic.py:4549\u001b[0m, in \u001b[0;36mNDFrame.drop\u001b[1;34m(self, labels, axis, index, columns, level, inplace, errors)\u001b[0m\n\u001b[0;32m   4547\u001b[0m \u001b[39mfor\u001b[39;00m axis, labels \u001b[39min\u001b[39;00m axes\u001b[39m.\u001b[39mitems():\n\u001b[0;32m   4548\u001b[0m     \u001b[39mif\u001b[39;00m labels \u001b[39mis\u001b[39;00m \u001b[39mnot\u001b[39;00m \u001b[39mNone\u001b[39;00m:\n\u001b[1;32m-> 4549\u001b[0m         obj \u001b[39m=\u001b[39m obj\u001b[39m.\u001b[39;49m_drop_axis(labels, axis, level\u001b[39m=\u001b[39;49mlevel, errors\u001b[39m=\u001b[39;49merrors)\n\u001b[0;32m   4551\u001b[0m \u001b[39mif\u001b[39;00m inplace:\n\u001b[0;32m   4552\u001b[0m     \u001b[39mself\u001b[39m\u001b[39m.\u001b[39m_update_inplace(obj)\n",
      "File \u001b[1;32mc:\\Users\\lewis\\AppData\\Local\\Programs\\Python\\Python311\\Lib\\site-packages\\pandas\\core\\generic.py:4620\u001b[0m, in \u001b[0;36mNDFrame._drop_axis\u001b[1;34m(self, labels, axis, level, errors, only_slice)\u001b[0m\n\u001b[0;32m   4618\u001b[0m     labels_missing \u001b[39m=\u001b[39m (axis\u001b[39m.\u001b[39mget_indexer_for(labels) \u001b[39m==\u001b[39m \u001b[39m-\u001b[39m\u001b[39m1\u001b[39m)\u001b[39m.\u001b[39many()\n\u001b[0;32m   4619\u001b[0m     \u001b[39mif\u001b[39;00m errors \u001b[39m==\u001b[39m \u001b[39m\"\u001b[39m\u001b[39mraise\u001b[39m\u001b[39m\"\u001b[39m \u001b[39mand\u001b[39;00m labels_missing:\n\u001b[1;32m-> 4620\u001b[0m         \u001b[39mraise\u001b[39;00m \u001b[39mKeyError\u001b[39;00m(\u001b[39mf\u001b[39m\u001b[39m\"\u001b[39m\u001b[39m{\u001b[39;00mlabels\u001b[39m}\u001b[39;00m\u001b[39m not found in axis\u001b[39m\u001b[39m\"\u001b[39m)\n\u001b[0;32m   4622\u001b[0m \u001b[39mif\u001b[39;00m is_extension_array_dtype(mask\u001b[39m.\u001b[39mdtype):\n\u001b[0;32m   4623\u001b[0m     \u001b[39m# GH#45860\u001b[39;00m\n\u001b[0;32m   4624\u001b[0m     mask \u001b[39m=\u001b[39m mask\u001b[39m.\u001b[39mto_numpy(dtype\u001b[39m=\u001b[39m\u001b[39mbool\u001b[39m)\n",
      "\u001b[1;31mKeyError\u001b[0m: \"['ID' 'DateType' 'Time' 'LocationifOther' 'ResidenceCityGeo'\\n 'InjuryCityGeo' 'DeathCityGeo'] not found in axis\""
     ]
    }
   ],
   "source": [
    "# Drop irrelevant columns\n",
    "df.drop([\"ID\", \"DateType\", \"Time\", \"LocationifOther\", \"ResidenceCityGeo\", \"InjuryCityGeo\", \"DeathCityGeo\"], axis=1, inplace=True)\n"
   ]
  },
  {
   "cell_type": "code",
   "execution_count": null,
   "metadata": {},
   "outputs": [],
   "source": [
    "# Convert Date column to datetime format\n",
    "df[\"Date\"] = pd.to_datetime(df[\"Date\"], format=\"%m/%d/%Y\")\n",
    "\n",
    "# Convert Age column to numeric format\n",
    "df[\"Age\"] = pd.to_numeric(df[\"Age\"], errors=\"coerce\")\n",
    "\n",
    "# Convert Y/N columns to 1/0\n",
    "for col in [\"Heroin\", \"Cocaine\", \"Fentanyl\", \"Fentanyl Analogue\", \"Hydromorphone\", \"Xylazine\", \"Gabapentin\", \"Opiate NOS\", \"Heroin/Morph/Codeine\", \"Other Opioid\", \"Any Opioid\", \"Other\"]:\n",
    "    df[col] = df[col].apply(lambda x: 1 if x == \"Y\" else 0)\n"
   ]
  },
  {
   "cell_type": "code",
   "execution_count": null,
   "metadata": {},
   "outputs": [],
   "source": [
    "#Replace missing values with \"Unknown\"\n",
    "df.fillna(\"Unknown\", inplace=True)\n"
   ]
  },
  {
   "cell_type": "code",
   "execution_count": null,
   "metadata": {},
   "outputs": [],
   "source": [
    "#Find and remove outliers\n",
    "numeric_cols = [\"Age\"]\n",
    "numeric_df = df[numeric_cols]\n",
    "z_scores = np.abs(StandardScaler().fit_transform(numeric_df))\n",
    "outliers = np.where(z_scores > 3)\n",
    "df = df.drop(df.index[outliers])\n"
   ]
  },
  {
   "cell_type": "code",
   "execution_count": null,
   "metadata": {},
   "outputs": [],
   "source": [
    "# Explore the relationship between variables using a heatmap\n",
    "sns.heatmap(df.corr(), annot=True)\n",
    "plt.show()\n",
    "\n",
    "# Explore the income distribution by gender\n",
    "sns.histplot(data=df, x=\"Gender\", hue=\"Income\", multiple=\"stack\")\n",
    "plt.show()\n"
   ]
  }
 ],
 "metadata": {
  "kernelspec": {
   "display_name": "Python 3",
   "language": "python",
   "name": "python3"
  },
  "language_info": {
   "codemirror_mode": {
    "name": "ipython",
    "version": 3
   },
   "file_extension": ".py",
   "mimetype": "text/x-python",
   "name": "python",
   "nbconvert_exporter": "python",
   "pygments_lexer": "ipython3",
   "version": "3.11.3"
  },
  "orig_nbformat": 4
 },
 "nbformat": 4,
 "nbformat_minor": 2
}
