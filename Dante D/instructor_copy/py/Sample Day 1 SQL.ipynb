{
    "metadata": {
        "kernelspec": {
            "name": "SQL",
            "display_name": "SQL",
            "language": "sql"
        },
        "language_info": {
            "name": "sql",
            "version": ""
        }
    },
    "nbformat_minor": 2,
    "nbformat": 4,
    "cells": [
        {
            "cell_type": "markdown",
            "source": [
                "What states have more than $1,000 of sales?"
            ],
            "metadata": {
                "azdata_cell_guid": "66c8fbac-9d87-4de8-8848-99eea83091d2"
            },
            "attachments": {}
        },
        {
            "cell_type": "code",
            "source": [
                "/*\r\n",
                "Show me the states with total invoices above $1,000\r\n",
                "*/\r\n",
                "SELECT \r\n",
                "    V.VendorState [State]\r\n",
                "    --aggregate function SUM,COUNT,MIN,MAX,STDEV\r\n",
                "    ,SUM(I.InvoiceTotal)\r\n",
                "FROM Vendors V\r\n",
                "JOIN Invoices I\r\n",
                "    ON V.VendorID = I.VendorID\r\n",
                "GROUP BY V.VendorState\r\n",
                "--filter of aggregate\r\n",
                "HAVING SUM(I.InvoiceTotal) > 1000"
            ],
            "metadata": {
                "azdata_cell_guid": "df78fbac-c4a9-460b-8ed5-232e444847b3"
            },
            "outputs": [
                {
                    "output_type": "display_data",
                    "data": {
                        "text/html": "(6 rows affected)"
                    },
                    "metadata": {}
                },
                {
                    "output_type": "display_data",
                    "data": {
                        "text/html": "Total execution time: 00:00:00.007"
                    },
                    "metadata": {}
                },
                {
                    "output_type": "execute_result",
                    "metadata": {},
                    "execution_count": 1,
                    "data": {
                        "application/vnd.dataresource+json": {
                            "schema": {
                                "fields": [
                                    {
                                        "name": "State"
                                    },
                                    {
                                        "name": "(No column name)"
                                    }
                                ]
                            },
                            "data": [
                                {
                                    "0": "CA",
                                    "1": "37453.35"
                                },
                                {
                                    "0": "MA",
                                    "1": "1367.50"
                                },
                                {
                                    "0": "MI",
                                    "1": "141819.72"
                                },
                                {
                                    "0": "NV",
                                    "1": "25362.46"
                                },
                                {
                                    "0": "TN",
                                    "1": "4378.02"
                                },
                                {
                                    "0": "TX",
                                    "1": "2154.42"
                                }
                            ]
                        },
                        "text/html": [
                            "<table>",
                            "<tr><th>State</th><th>(No column name)</th></tr>",
                            "<tr><td>CA</td><td>37453.35</td></tr>",
                            "<tr><td>MA</td><td>1367.50</td></tr>",
                            "<tr><td>MI</td><td>141819.72</td></tr>",
                            "<tr><td>NV</td><td>25362.46</td></tr>",
                            "<tr><td>TN</td><td>4378.02</td></tr>",
                            "<tr><td>TX</td><td>2154.42</td></tr>",
                            "</table>"
                        ]
                    }
                }
            ],
            "execution_count": 1
        }
    ]
}