{
    "metadata": {
        "kernelspec": {
            "name": "SQL",
            "display_name": "SQL",
            "language": "sql"
        },
        "language_info": {
            "name": "sql",
            "version": ""
        }
    },
    "nbformat_minor": 2,
    "nbformat": 4,
    "cells": [
        {
            "cell_type": "markdown",
            "source": [
                "# Course 01 Week 01 Homework\r\n",
                "1. Write 5 SELECT statements\r\n",
                "    1. Between all queries you must use these clauses at some point but not all in any queries necessarily\r\n",
                "        1. GROUP BY & HAVING\r\n",
                "        1. WHERE\r\n",
                "        1. JOIN\r\n",
                "        1. ORDER BY\r\n",
                "        1. AS to create a derived column\r\n",
                "    1. Each query must have a business question describing what you answered\r\n",
                "        1. in comments is OK for using SSMS\r\n",
                "        1. use Text cells in Azure Dat Studio notebooks"
            ],
            "metadata": {
                "azdata_cell_guid": "bba43fe0-5af3-4ca9-8521-9378cfdf37a7"
            },
            "attachments": {}
        }
    ]
}
