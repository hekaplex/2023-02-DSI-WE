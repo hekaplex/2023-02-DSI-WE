{
 "cells": [
  {
   "attachments": {},
   "cell_type": "markdown",
   "metadata": {},
   "source": [
    "https://www.eia.gov\n",
    "\n",
    "API URL:\n",
    "https://api.eia.gov/v2/electricity/rto/region-data/data/?frequency=hourly&data[0]=value&start=2015-07-01T00&sort[0][column]=period&sort[0][direction]=desc&offset=0&length=5000\n",
    "\n",
    "Method:  GET\n",
    "\n",
    "Series description:\n",
    "Hourly demand, day-ahead demand forecast, net generation, and interchange by balancing authority. Source: Form EIA-930 Product: Hourly Electric Grid Monitor\n",
    "\n",
    "API Documentation:  https://www.eia.gov/opendata/documentation.php"
   ]
  },
  {
   "cell_type": "code",
   "execution_count": 3,
   "metadata": {},
   "outputs": [
    {
     "name": "stdout",
     "output_type": "stream",
     "text": [
      "getting data...\n",
      "saving data file...\n",
      "data saved as eiadata.json\n"
     ]
    }
   ],
   "source": [
    "import requests\n",
    "import json\n",
    "\n",
    "api_key = 'DryvLQciETN0UgsSlqTeeQnSfHj8sPif8tfUGKCg'\n",
    "api_keystring = f\"api_key={api_key}&\"\n",
    "\n",
    "url = (f\"https://api.eia.gov/v2/electricity/rto/region-data/data/?{api_keystring}frequency=hourly&data[0]\"\n",
    "       \"=value&start=2023-04-02T00&end=2023-04-08T00&sort[0][column]=period&sort[0][direction]\"\n",
    "       \"=desc&offset=0&length=5000\")\n",
    "print(\"getting data...\")\n",
    "response = requests.get(url)\n",
    "\n",
    "response_json = json.dumps(response.json(), indent=4)\n",
    "#print(type(response_json))\n",
    "print(\"saving data file...\")\n",
    "data_file_name = 'eiadata.json'\n",
    "data_file_path = data_file_name\n",
    "with open(data_file_path, 'w') as fout:\n",
    "    fout.write(response_json)\n",
    "print(f\"data saved as {data_file_path}\")"
   ]
  },
  {
   "cell_type": "code",
   "execution_count": 4,
   "metadata": {},
   "outputs": [
    {
     "name": "stdout",
     "output_type": "stream",
     "text": [
      "             period respondent   \n",
      "0     2023-04-08T00       MIDA  \\\n",
      "1     2023-04-08T00        SRP   \n",
      "2     2023-04-08T00        EPE   \n",
      "3     2023-04-08T00        CAL   \n",
      "4     2023-04-08T00       LGEE   \n",
      "...             ...        ...   \n",
      "4995  2023-04-07T07        SRP   \n",
      "4996  2023-04-07T07       PACE   \n",
      "4997  2023-04-07T07        TEN   \n",
      "4998  2023-04-07T07       IPCO   \n",
      "4999  2023-04-07T07       NYIS   \n",
      "\n",
      "                                        respondent-name type   \n",
      "0                                          Mid-Atlantic    D  \\\n",
      "1     Salt River Project Agricultural Improvement an...   TI   \n",
      "2                              El Paso Electric Company   TI   \n",
      "3                                            California   TI   \n",
      "4     Louisville Gas and Electric Company and Kentuc...   TI   \n",
      "...                                                 ...  ...   \n",
      "4995  Salt River Project Agricultural Improvement an...    D   \n",
      "4996                                    PacifiCorp East    D   \n",
      "4997                                          Tennessee    D   \n",
      "4998                                Idaho Power Company    D   \n",
      "4999               New York Independent System Operator    D   \n",
      "\n",
      "              type-name  value    value-units  \n",
      "0                Demand  80584  megawatthours  \n",
      "1     Total interchange   3073  megawatthours  \n",
      "2     Total interchange   -417  megawatthours  \n",
      "3     Total interchange   -767  megawatthours  \n",
      "4     Total interchange   -650  megawatthours  \n",
      "...                 ...    ...            ...  \n",
      "4995             Demand   2688  megawatthours  \n",
      "4996             Demand   5473  megawatthours  \n",
      "4997             Demand  13337  megawatthours  \n",
      "4998             Demand   1570  megawatthours  \n",
      "4999             Demand  12573  megawatthours  \n",
      "\n",
      "[5000 rows x 7 columns]\n"
     ]
    }
   ],
   "source": [
    "import pandas as pd\n",
    "\n",
    "d = json.loads(response_json)\n",
    "df = pd.DataFrame.from_dict(d['response']['data'])\n",
    "print(df)"
   ]
  },
  {
   "cell_type": "code",
   "execution_count": 6,
   "metadata": {},
   "outputs": [
    {
     "name": "stdout",
     "output_type": "stream",
     "text": [
      "<class 'pandas.core.frame.DataFrame'>\n",
      "RangeIndex: 5000 entries, 0 to 4999\n",
      "Data columns (total 7 columns):\n",
      " #   Column           Non-Null Count  Dtype \n",
      "---  ------           --------------  ----- \n",
      " 0   period           5000 non-null   object\n",
      " 1   respondent       5000 non-null   object\n",
      " 2   respondent-name  5000 non-null   object\n",
      " 3   type             5000 non-null   object\n",
      " 4   type-name        5000 non-null   object\n",
      " 5   value            5000 non-null   int64 \n",
      " 6   value-units      5000 non-null   object\n",
      "dtypes: int64(1), object(6)\n",
      "memory usage: 273.6+ KB\n"
     ]
    }
   ],
   "source": [
    "df.info()"
   ]
  },
  {
   "cell_type": "code",
   "execution_count": 7,
   "metadata": {},
   "outputs": [],
   "source": [
    "csv_file_name = 'eia.csv'\n",
    "csv_path_name = csv_file_name\n",
    "with open(csv_path_name, 'w') as fout:\n",
    "    df.to_csv(fout, index=False, lineterminator='\\n')"
   ]
  }
 ],
 "metadata": {
  "kernelspec": {
   "display_name": "Python 3",
   "language": "python",
   "name": "python3"
  },
  "language_info": {
   "codemirror_mode": {
    "name": "ipython",
    "version": 3
   },
   "file_extension": ".py",
   "mimetype": "text/x-python",
   "name": "python",
   "nbconvert_exporter": "python",
   "pygments_lexer": "ipython3",
   "version": "3.11.3"
  },
  "orig_nbformat": 4
 },
 "nbformat": 4,
 "nbformat_minor": 2
}
