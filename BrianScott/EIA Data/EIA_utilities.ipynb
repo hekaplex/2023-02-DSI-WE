{
 "cells": [
  {
   "attachments": {},
   "cell_type": "markdown",
   "metadata": {},
   "source": [
    "https://www.eia.gov/electricity/gridmonitor/about"
   ]
  },
  {
   "attachments": {},
   "cell_type": "markdown",
   "metadata": {},
   "source": [
    "### Concatenate hourly data files for each year into one CSV file"
   ]
  },
  {
   "cell_type": "code",
   "execution_count": 13,
   "metadata": {},
   "outputs": [
    {
     "data": {
      "text/html": [
       "<div>\n",
       "<style scoped>\n",
       "    .dataframe tbody tr th:only-of-type {\n",
       "        vertical-align: middle;\n",
       "    }\n",
       "\n",
       "    .dataframe tbody tr th {\n",
       "        vertical-align: top;\n",
       "    }\n",
       "\n",
       "    .dataframe thead th {\n",
       "        text-align: right;\n",
       "    }\n",
       "</style>\n",
       "<table border=\"1\" class=\"dataframe\">\n",
       "  <thead>\n",
       "    <tr style=\"text-align: right;\">\n",
       "      <th></th>\n",
       "      <th>period</th>\n",
       "      <th>respondent</th>\n",
       "      <th>respondent-name</th>\n",
       "      <th>type</th>\n",
       "      <th>type-name</th>\n",
       "      <th>value</th>\n",
       "      <th>value-units</th>\n",
       "    </tr>\n",
       "  </thead>\n",
       "  <tbody>\n",
       "    <tr>\n",
       "      <th>0</th>\n",
       "      <td>2022-12-31T23</td>\n",
       "      <td>JEA</td>\n",
       "      <td>JEA</td>\n",
       "      <td>TI</td>\n",
       "      <td>Total interchange</td>\n",
       "      <td>-304.0</td>\n",
       "      <td>megawatthours</td>\n",
       "    </tr>\n",
       "    <tr>\n",
       "      <th>1</th>\n",
       "      <td>2022-12-31T23</td>\n",
       "      <td>SCEG</td>\n",
       "      <td>Dominion Energy South Carolina, Inc.</td>\n",
       "      <td>DF</td>\n",
       "      <td>Day-ahead demand forecast</td>\n",
       "      <td>2403.0</td>\n",
       "      <td>megawatthours</td>\n",
       "    </tr>\n",
       "    <tr>\n",
       "      <th>2</th>\n",
       "      <td>2022-12-31T23</td>\n",
       "      <td>FMPP</td>\n",
       "      <td>Florida Municipal Power Pool</td>\n",
       "      <td>TI</td>\n",
       "      <td>Total interchange</td>\n",
       "      <td>-7.0</td>\n",
       "      <td>megawatthours</td>\n",
       "    </tr>\n",
       "    <tr>\n",
       "      <th>3</th>\n",
       "      <td>2022-12-31T23</td>\n",
       "      <td>SCEG</td>\n",
       "      <td>Dominion Energy South Carolina, Inc.</td>\n",
       "      <td>NG</td>\n",
       "      <td>Net generation</td>\n",
       "      <td>2715.0</td>\n",
       "      <td>megawatthours</td>\n",
       "    </tr>\n",
       "    <tr>\n",
       "      <th>4</th>\n",
       "      <td>2022-12-31T23</td>\n",
       "      <td>SCEG</td>\n",
       "      <td>Dominion Energy South Carolina, Inc.</td>\n",
       "      <td>D</td>\n",
       "      <td>Demand</td>\n",
       "      <td>2456.0</td>\n",
       "      <td>megawatthours</td>\n",
       "    </tr>\n",
       "  </tbody>\n",
       "</table>\n",
       "</div>"
      ],
      "text/plain": [
       "          period respondent                       respondent-name type   \n",
       "0  2022-12-31T23        JEA                                   JEA   TI  \\\n",
       "1  2022-12-31T23       SCEG  Dominion Energy South Carolina, Inc.   DF   \n",
       "2  2022-12-31T23       FMPP          Florida Municipal Power Pool   TI   \n",
       "3  2022-12-31T23       SCEG  Dominion Energy South Carolina, Inc.   NG   \n",
       "4  2022-12-31T23       SCEG  Dominion Energy South Carolina, Inc.    D   \n",
       "\n",
       "                   type-name   value    value-units  \n",
       "0          Total interchange  -304.0  megawatthours  \n",
       "1  Day-ahead demand forecast  2403.0  megawatthours  \n",
       "2          Total interchange    -7.0  megawatthours  \n",
       "3             Net generation  2715.0  megawatthours  \n",
       "4                     Demand  2456.0  megawatthours  "
      ]
     },
     "execution_count": 13,
     "metadata": {},
     "output_type": "execute_result"
    }
   ],
   "source": [
    "import pandas as pd\n",
    "\n",
    "# eia2022.csv was retrieved from the U.S. Energy Information Administration API using code \n",
    "# in EIA_Electricity.ipynb\n",
    "eia_data = pd.read_csv('eia2022.csv', low_memory=False)\n",
    "for year in range(2021,2017,-1):\n",
    "    csv_path = f'eia{year}.csv'\n",
    "    eia_chunk = pd.read_csv(csv_path, low_memory=False)\n",
    "    eia_data = pd.concat([eia_data, eia_chunk])\n",
    "\n",
    "eia_data.head()\n"
   ]
  },
  {
   "cell_type": "code",
   "execution_count": 14,
   "metadata": {},
   "outputs": [
    {
     "data": {
      "text/plain": [
       "(12717105, 7)"
      ]
     },
     "execution_count": 14,
     "metadata": {},
     "output_type": "execute_result"
    }
   ],
   "source": [
    "eia_data.shape"
   ]
  },
  {
   "cell_type": "code",
   "execution_count": 15,
   "metadata": {},
   "outputs": [],
   "source": [
    "#with open('', 'w') as fout:\n",
    " #   eia_data.to_csv(fout, header=True, index=False, lineterminator='\\n')"
   ]
  },
  {
   "attachments": {},
   "cell_type": "markdown",
   "metadata": {},
   "source": [
    "### Concatenate monthly files into single CSV"
   ]
  },
  {
   "cell_type": "code",
   "execution_count": 11,
   "metadata": {},
   "outputs": [
    {
     "ename": "MemoryError",
     "evalue": "Unable to allocate 99.8 MiB for an array with shape (4, 3269977) and data type object",
     "output_type": "error",
     "traceback": [
      "\u001b[1;31m---------------------------------------------------------------------------\u001b[0m",
      "\u001b[1;31mMemoryError\u001b[0m                               Traceback (most recent call last)",
      "Cell \u001b[1;32mIn[11], line 8\u001b[0m\n\u001b[0;32m      6\u001b[0m     csv_path \u001b[39m=\u001b[39m \u001b[39mf\u001b[39m\u001b[39m'\u001b[39m\u001b[39meia-\u001b[39m\u001b[39m{\u001b[39;00mn\u001b[39m}\u001b[39;00m\u001b[39m.csv\u001b[39m\u001b[39m'\u001b[39m\n\u001b[0;32m      7\u001b[0m     eia_chunk \u001b[39m=\u001b[39m pd\u001b[39m.\u001b[39mread_csv(csv_path, low_memory\u001b[39m=\u001b[39m\u001b[39mFalse\u001b[39;00m)\n\u001b[1;32m----> 8\u001b[0m     eia_data \u001b[39m=\u001b[39m pd\u001b[39m.\u001b[39;49mconcat([eia_data, eia_chunk])\n\u001b[0;32m     10\u001b[0m eia_data\u001b[39m.\u001b[39mhead()\n",
      "File \u001b[1;32mc:\\Users\\lilye\\AppData\\Local\\Programs\\Python\\Python311\\Lib\\site-packages\\pandas\\core\\reshape\\concat.py:385\u001b[0m, in \u001b[0;36mconcat\u001b[1;34m(objs, axis, join, ignore_index, keys, levels, names, verify_integrity, sort, copy)\u001b[0m\n\u001b[0;32m    370\u001b[0m     copy \u001b[39m=\u001b[39m \u001b[39mFalse\u001b[39;00m\n\u001b[0;32m    372\u001b[0m op \u001b[39m=\u001b[39m _Concatenator(\n\u001b[0;32m    373\u001b[0m     objs,\n\u001b[0;32m    374\u001b[0m     axis\u001b[39m=\u001b[39maxis,\n\u001b[1;32m   (...)\u001b[0m\n\u001b[0;32m    382\u001b[0m     sort\u001b[39m=\u001b[39msort,\n\u001b[0;32m    383\u001b[0m )\n\u001b[1;32m--> 385\u001b[0m \u001b[39mreturn\u001b[39;00m op\u001b[39m.\u001b[39;49mget_result()\n",
      "File \u001b[1;32mc:\\Users\\lilye\\AppData\\Local\\Programs\\Python\\Python311\\Lib\\site-packages\\pandas\\core\\reshape\\concat.py:616\u001b[0m, in \u001b[0;36m_Concatenator.get_result\u001b[1;34m(self)\u001b[0m\n\u001b[0;32m    612\u001b[0m             indexers[ax] \u001b[39m=\u001b[39m obj_labels\u001b[39m.\u001b[39mget_indexer(new_labels)\n\u001b[0;32m    614\u001b[0m     mgrs_indexers\u001b[39m.\u001b[39mappend((obj\u001b[39m.\u001b[39m_mgr, indexers))\n\u001b[1;32m--> 616\u001b[0m new_data \u001b[39m=\u001b[39m concatenate_managers(\n\u001b[0;32m    617\u001b[0m     mgrs_indexers, \u001b[39mself\u001b[39;49m\u001b[39m.\u001b[39;49mnew_axes, concat_axis\u001b[39m=\u001b[39;49m\u001b[39mself\u001b[39;49m\u001b[39m.\u001b[39;49mbm_axis, copy\u001b[39m=\u001b[39;49m\u001b[39mself\u001b[39;49m\u001b[39m.\u001b[39;49mcopy\n\u001b[0;32m    618\u001b[0m )\n\u001b[0;32m    619\u001b[0m \u001b[39mif\u001b[39;00m \u001b[39mnot\u001b[39;00m \u001b[39mself\u001b[39m\u001b[39m.\u001b[39mcopy \u001b[39mand\u001b[39;00m \u001b[39mnot\u001b[39;00m using_copy_on_write():\n\u001b[0;32m    620\u001b[0m     new_data\u001b[39m.\u001b[39m_consolidate_inplace()\n",
      "File \u001b[1;32mc:\\Users\\lilye\\AppData\\Local\\Programs\\Python\\Python311\\Lib\\site-packages\\pandas\\core\\internals\\concat.py:241\u001b[0m, in \u001b[0;36mconcatenate_managers\u001b[1;34m(mgrs_indexers, axes, concat_axis, copy)\u001b[0m\n\u001b[0;32m    239\u001b[0m     fastpath \u001b[39m=\u001b[39m blk\u001b[39m.\u001b[39mvalues\u001b[39m.\u001b[39mdtype \u001b[39m==\u001b[39m values\u001b[39m.\u001b[39mdtype\n\u001b[0;32m    240\u001b[0m \u001b[39melse\u001b[39;00m:\n\u001b[1;32m--> 241\u001b[0m     values \u001b[39m=\u001b[39m _concatenate_join_units(join_units, copy\u001b[39m=\u001b[39;49mcopy)\n\u001b[0;32m    242\u001b[0m     fastpath \u001b[39m=\u001b[39m \u001b[39mFalse\u001b[39;00m\n\u001b[0;32m    244\u001b[0m \u001b[39mif\u001b[39;00m fastpath:\n",
      "File \u001b[1;32mc:\\Users\\lilye\\AppData\\Local\\Programs\\Python\\Python311\\Lib\\site-packages\\pandas\\core\\internals\\concat.py:612\u001b[0m, in \u001b[0;36m_concatenate_join_units\u001b[1;34m(join_units, copy)\u001b[0m\n\u001b[0;32m    609\u001b[0m     concat_values \u001b[39m=\u001b[39m ensure_block_shape(concat_values, \u001b[39m2\u001b[39m)\n\u001b[0;32m    611\u001b[0m \u001b[39melse\u001b[39;00m:\n\u001b[1;32m--> 612\u001b[0m     concat_values \u001b[39m=\u001b[39m concat_compat(to_concat, axis\u001b[39m=\u001b[39;49m\u001b[39m1\u001b[39;49m)\n\u001b[0;32m    614\u001b[0m \u001b[39mreturn\u001b[39;00m concat_values\n",
      "File \u001b[1;32mc:\\Users\\lilye\\AppData\\Local\\Programs\\Python\\Python311\\Lib\\site-packages\\pandas\\core\\dtypes\\concat.py:114\u001b[0m, in \u001b[0;36mconcat_compat\u001b[1;34m(to_concat, axis, ea_compat_axis)\u001b[0m\n\u001b[0;32m    111\u001b[0m             to_concat \u001b[39m=\u001b[39m [x\u001b[39m.\u001b[39mastype(\u001b[39m\"\u001b[39m\u001b[39mobject\u001b[39m\u001b[39m\"\u001b[39m) \u001b[39mfor\u001b[39;00m x \u001b[39min\u001b[39;00m to_concat]\n\u001b[0;32m    112\u001b[0m             kinds \u001b[39m=\u001b[39m {\u001b[39m\"\u001b[39m\u001b[39mo\u001b[39m\u001b[39m\"\u001b[39m}\n\u001b[1;32m--> 114\u001b[0m result \u001b[39m=\u001b[39m np\u001b[39m.\u001b[39;49mconcatenate(to_concat, axis\u001b[39m=\u001b[39;49maxis)\n\u001b[0;32m    115\u001b[0m \u001b[39mif\u001b[39;00m \u001b[39m\"\u001b[39m\u001b[39mb\u001b[39m\u001b[39m\"\u001b[39m \u001b[39min\u001b[39;00m kinds \u001b[39mand\u001b[39;00m result\u001b[39m.\u001b[39mdtype\u001b[39m.\u001b[39mkind \u001b[39min\u001b[39;00m [\u001b[39m\"\u001b[39m\u001b[39mi\u001b[39m\u001b[39m\"\u001b[39m, \u001b[39m\"\u001b[39m\u001b[39mu\u001b[39m\u001b[39m\"\u001b[39m, \u001b[39m\"\u001b[39m\u001b[39mf\u001b[39m\u001b[39m\"\u001b[39m]:\n\u001b[0;32m    116\u001b[0m     \u001b[39m# GH#39817 cast to object instead of casting bools to numeric\u001b[39;00m\n\u001b[0;32m    117\u001b[0m     result \u001b[39m=\u001b[39m result\u001b[39m.\u001b[39mastype(\u001b[39mobject\u001b[39m, copy\u001b[39m=\u001b[39m\u001b[39mFalse\u001b[39;00m)\n",
      "File \u001b[1;32m<__array_function__ internals>:200\u001b[0m, in \u001b[0;36mconcatenate\u001b[1;34m(*args, **kwargs)\u001b[0m\n",
      "\u001b[1;31mMemoryError\u001b[0m: Unable to allocate 99.8 MiB for an array with shape (4, 3269977) and data type object"
     ]
    }
   ],
   "source": [
    "import pandas as pd\n",
    "# eia2022.csv was retrieved from the U.S. Energy Information Administration API using code \n",
    "# in EIA_GetData.ipynb\n",
    "eia_data = pd.read_csv('genops.csv', low_memory=False)\n",
    "for n in range(1,2):\n",
    "    csv_path = f'eia-{n}.csv'\n",
    "    eia_chunk = pd.read_csv(csv_path, low_memory=False)\n",
    "    eia_data = pd.concat([eia_data, eia_chunk])\n",
    "\n",
    "eia_data.head()"
   ]
  },
  {
   "cell_type": "code",
   "execution_count": null,
   "metadata": {},
   "outputs": [
    {
     "data": {
      "text/plain": [
       "(2187643, 22)"
      ]
     },
     "execution_count": 7,
     "metadata": {},
     "output_type": "execute_result"
    }
   ],
   "source": [
    "eia_data.shape"
   ]
  },
  {
   "cell_type": "code",
   "execution_count": null,
   "metadata": {},
   "outputs": [
    {
     "data": {
      "text/plain": [
       "(2182642, 22)"
      ]
     },
     "execution_count": 8,
     "metadata": {},
     "output_type": "execute_result"
    }
   ],
   "source": [
    "eia_clean = eia_data.drop_duplicates()\n",
    "eia_clean.shape"
   ]
  },
  {
   "cell_type": "code",
   "execution_count": null,
   "metadata": {},
   "outputs": [
    {
     "data": {
      "text/html": [
       "<div>\n",
       "<style scoped>\n",
       "    .dataframe tbody tr th:only-of-type {\n",
       "        vertical-align: middle;\n",
       "    }\n",
       "\n",
       "    .dataframe tbody tr th {\n",
       "        vertical-align: top;\n",
       "    }\n",
       "\n",
       "    .dataframe thead th {\n",
       "        text-align: right;\n",
       "    }\n",
       "</style>\n",
       "<table border=\"1\" class=\"dataframe\">\n",
       "  <thead>\n",
       "    <tr style=\"text-align: right;\">\n",
       "      <th></th>\n",
       "      <th>period</th>\n",
       "      <th>plantCode</th>\n",
       "      <th>plantName</th>\n",
       "      <th>fuel2002</th>\n",
       "      <th>fuelTypeDescription</th>\n",
       "      <th>state</th>\n",
       "      <th>stateDescription</th>\n",
       "      <th>primeMover</th>\n",
       "      <th>average-heat-content</th>\n",
       "      <th>average-heat-content-units</th>\n",
       "      <th>...</th>\n",
       "      <th>consumption-for-eg-btu</th>\n",
       "      <th>generation</th>\n",
       "      <th>gross-generation</th>\n",
       "      <th>total-consumption</th>\n",
       "      <th>total-consumption-units</th>\n",
       "      <th>total-consumption-btu</th>\n",
       "      <th>consumption-for-eg-btu-units</th>\n",
       "      <th>generation-units</th>\n",
       "      <th>gross-generation-units</th>\n",
       "      <th>total-consumption-btu-units</th>\n",
       "    </tr>\n",
       "  </thead>\n",
       "  <tbody>\n",
       "    <tr>\n",
       "      <th>0</th>\n",
       "      <td>2022-12</td>\n",
       "      <td>3</td>\n",
       "      <td>Barry</td>\n",
       "      <td>SUB</td>\n",
       "      <td>Coal</td>\n",
       "      <td>AL</td>\n",
       "      <td>Alabama</td>\n",
       "      <td>ST</td>\n",
       "      <td>0.000</td>\n",
       "      <td>MMBtu per short tons</td>\n",
       "      <td>...</td>\n",
       "      <td>0</td>\n",
       "      <td>0.00</td>\n",
       "      <td>0.00</td>\n",
       "      <td>0.0</td>\n",
       "      <td>MMBtu per short tons</td>\n",
       "      <td>0</td>\n",
       "      <td>MMBtu</td>\n",
       "      <td>megawatthours</td>\n",
       "      <td>megawatthours</td>\n",
       "      <td>MMBtu</td>\n",
       "    </tr>\n",
       "    <tr>\n",
       "      <th>1</th>\n",
       "      <td>2022-12</td>\n",
       "      <td>8223</td>\n",
       "      <td>Springerville</td>\n",
       "      <td>SUN</td>\n",
       "      <td>Solar</td>\n",
       "      <td>AZ</td>\n",
       "      <td>Arizona</td>\n",
       "      <td>ALL</td>\n",
       "      <td>0.000</td>\n",
       "      <td>NaN</td>\n",
       "      <td>...</td>\n",
       "      <td>8527</td>\n",
       "      <td>964.26</td>\n",
       "      <td>974.00</td>\n",
       "      <td>0.0</td>\n",
       "      <td>NaN</td>\n",
       "      <td>8527</td>\n",
       "      <td>MMBtu</td>\n",
       "      <td>megawatthours</td>\n",
       "      <td>megawatthours</td>\n",
       "      <td>MMBtu</td>\n",
       "    </tr>\n",
       "    <tr>\n",
       "      <th>2</th>\n",
       "      <td>2022-12</td>\n",
       "      <td>8223</td>\n",
       "      <td>Springerville</td>\n",
       "      <td>SUB</td>\n",
       "      <td>Coal</td>\n",
       "      <td>AZ</td>\n",
       "      <td>Arizona</td>\n",
       "      <td>ALL</td>\n",
       "      <td>18.053</td>\n",
       "      <td>MMBtu per short tons</td>\n",
       "      <td>...</td>\n",
       "      <td>8380726</td>\n",
       "      <td>741778.54</td>\n",
       "      <td>880021.41</td>\n",
       "      <td>464229.0</td>\n",
       "      <td>MMBtu per short tons</td>\n",
       "      <td>8380726</td>\n",
       "      <td>MMBtu</td>\n",
       "      <td>megawatthours</td>\n",
       "      <td>megawatthours</td>\n",
       "      <td>MMBtu</td>\n",
       "    </tr>\n",
       "    <tr>\n",
       "      <th>3</th>\n",
       "      <td>2022-12</td>\n",
       "      <td>50955</td>\n",
       "      <td>Rousselot Inc</td>\n",
       "      <td>NG</td>\n",
       "      <td>Natural Gas</td>\n",
       "      <td>MA</td>\n",
       "      <td>Massachusetts</td>\n",
       "      <td>ALL</td>\n",
       "      <td>1.030</td>\n",
       "      <td>MMBtu per Mcf</td>\n",
       "      <td>...</td>\n",
       "      <td>6491</td>\n",
       "      <td>1485.00</td>\n",
       "      <td>1560.00</td>\n",
       "      <td>67871.0</td>\n",
       "      <td>MMBtu per Mcf</td>\n",
       "      <td>69907</td>\n",
       "      <td>MMBtu</td>\n",
       "      <td>megawatthours</td>\n",
       "      <td>megawatthours</td>\n",
       "      <td>MMBtu</td>\n",
       "    </tr>\n",
       "    <tr>\n",
       "      <th>4</th>\n",
       "      <td>2022-12</td>\n",
       "      <td>50955</td>\n",
       "      <td>Rousselot Inc</td>\n",
       "      <td>ALL</td>\n",
       "      <td>Total</td>\n",
       "      <td>MA</td>\n",
       "      <td>Massachusetts</td>\n",
       "      <td>ALL</td>\n",
       "      <td>NaN</td>\n",
       "      <td>NaN</td>\n",
       "      <td>...</td>\n",
       "      <td>6491</td>\n",
       "      <td>1485.00</td>\n",
       "      <td>1560.00</td>\n",
       "      <td>NaN</td>\n",
       "      <td>NaN</td>\n",
       "      <td>69907</td>\n",
       "      <td>MMBtu</td>\n",
       "      <td>megawatthours</td>\n",
       "      <td>megawatthours</td>\n",
       "      <td>MMBtu</td>\n",
       "    </tr>\n",
       "  </tbody>\n",
       "</table>\n",
       "<p>5 rows × 22 columns</p>\n",
       "</div>"
      ],
      "text/plain": [
       "    period  plantCode      plantName fuel2002 fuelTypeDescription state   \n",
       "0  2022-12          3          Barry      SUB                Coal    AL  \\\n",
       "1  2022-12       8223  Springerville      SUN               Solar    AZ   \n",
       "2  2022-12       8223  Springerville      SUB                Coal    AZ   \n",
       "3  2022-12      50955  Rousselot Inc       NG         Natural Gas    MA   \n",
       "4  2022-12      50955  Rousselot Inc      ALL               Total    MA   \n",
       "\n",
       "  stateDescription primeMover  average-heat-content   \n",
       "0          Alabama         ST                 0.000  \\\n",
       "1          Arizona        ALL                 0.000   \n",
       "2          Arizona        ALL                18.053   \n",
       "3    Massachusetts        ALL                 1.030   \n",
       "4    Massachusetts        ALL                   NaN   \n",
       "\n",
       "  average-heat-content-units  ...  consumption-for-eg-btu generation   \n",
       "0       MMBtu per short tons  ...                       0       0.00  \\\n",
       "1                        NaN  ...                    8527     964.26   \n",
       "2       MMBtu per short tons  ...                 8380726  741778.54   \n",
       "3              MMBtu per Mcf  ...                    6491    1485.00   \n",
       "4                        NaN  ...                    6491    1485.00   \n",
       "\n",
       "   gross-generation  total-consumption  total-consumption-units   \n",
       "0              0.00                0.0     MMBtu per short tons  \\\n",
       "1            974.00                0.0                      NaN   \n",
       "2         880021.41           464229.0     MMBtu per short tons   \n",
       "3           1560.00            67871.0            MMBtu per Mcf   \n",
       "4           1560.00                NaN                      NaN   \n",
       "\n",
       "   total-consumption-btu consumption-for-eg-btu-units  generation-units   \n",
       "0                      0                        MMBtu     megawatthours  \\\n",
       "1                   8527                        MMBtu     megawatthours   \n",
       "2                8380726                        MMBtu     megawatthours   \n",
       "3                  69907                        MMBtu     megawatthours   \n",
       "4                  69907                        MMBtu     megawatthours   \n",
       "\n",
       "  gross-generation-units total-consumption-btu-units  \n",
       "0          megawatthours                       MMBtu  \n",
       "1          megawatthours                       MMBtu  \n",
       "2          megawatthours                       MMBtu  \n",
       "3          megawatthours                       MMBtu  \n",
       "4          megawatthours                       MMBtu  \n",
       "\n",
       "[5 rows x 22 columns]"
      ]
     },
     "execution_count": 9,
     "metadata": {},
     "output_type": "execute_result"
    }
   ],
   "source": [
    "eia_clean.head()"
   ]
  },
  {
   "cell_type": "code",
   "execution_count": null,
   "metadata": {},
   "outputs": [],
   "source": [
    "with open('joined_drop_dups.csv', 'w') as fout:\n",
    "    eia_clean.to_csv(fout, header=True, index=False, lineterminator='\\n')"
   ]
  }
 ],
 "metadata": {
  "interpreter": {
   "hash": "81794d4967e6c3204c66dcd87b604927b115b27c00565d3d43f05ba2f3a2cb0d"
  },
  "kernelspec": {
   "display_name": "Python 3.9.5 64-bit",
   "language": "python",
   "name": "python3"
  },
  "language_info": {
   "codemirror_mode": {
    "name": "ipython",
    "version": 3
   },
   "file_extension": ".py",
   "mimetype": "text/x-python",
   "name": "python",
   "nbconvert_exporter": "python",
   "pygments_lexer": "ipython3",
   "version": "3.11.3"
  },
  "nteract": {
   "version": "0.15.0"
  }
 },
 "nbformat": 4,
 "nbformat_minor": 4
}
