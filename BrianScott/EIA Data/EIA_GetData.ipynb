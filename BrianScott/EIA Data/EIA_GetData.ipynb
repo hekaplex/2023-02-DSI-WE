{
 "cells": [
  {
   "attachments": {},
   "cell_type": "markdown",
   "metadata": {},
   "source": [
    "## Notebook function:\n",
    "* Connect to API at US Energy Information Agency and download hourly electric grid data *\n",
    "https://www.eia.gov\n",
    "\n",
    "API URL:\n",
    "https://api.eia.gov/v2/electricity/rto/region-data/data/?frequency=hourly&data[0]=value&start=2015-07-01T00&sort[0][column]=period&sort[0][direction]=desc&offset=0&length=5000\n",
    "\n",
    "Method:  GET\n",
    "\n",
    "Series description:\n",
    "Hourly demand, day-ahead demand forecast, net generation, and interchange by balancing authority. Source: Form EIA-930 Product: Hourly Electric Grid Monitor\n",
    "\n",
    "API Documentation:  https://www.eia.gov/opendata/documentation.php"
   ]
  },
  {
   "attachments": {},
   "cell_type": "markdown",
   "metadata": {},
   "source": [
    "*API URL for inventory of operable generators (monthly):*\n",
    "https://api.eia.gov/v2/electricity/operating-generator-capacity/data/?frequency=monthly&data[0]=county&data[1]=latitude&data[2]=longitude&data[3]=nameplate-capacity-mw&data[4]=net-summer-capacity-mw&data[5]=net-winter-capacity-mw&data[6]=operating-year-month&data[7]=planned-derate-summer-cap-mw&data[8]=planned-derate-year-month&data[9]=planned-retirement-year-month&data[10]=planned-uprate-summer-cap-mw&data[11]=planned-uprate-year-month&start=2018-01&end=2022-12&sort[0][column]=period&sort[0][direction]=desc&offset=0&length=5000"
   ]
  },
  {
   "attachments": {},
   "cell_type": "markdown",
   "metadata": {},
   "source": [
    "*API URL for electric power operations for individual power plants (monthly):*\n",
    "https://api.eia.gov/v2/electricity/facility-fuel/data/?frequency=monthly&data[0]=average-heat-content&data[1]=consumption-for-eg&data[2]=consumption-for-eg-btu&data[3]=generation&data[4]=gross-generation&data[5]=total-consumption&data[6]=total-consumption-btu&start=2018-01&end=2022-12&sort[0][column]=period&sort[0][direction]=desc&offset=0&length=5000"
   ]
  },
  {
   "cell_type": "code",
   "execution_count": 2,
   "metadata": {},
   "outputs": [],
   "source": [
    "import requests\n",
    "import json\n",
    "import pandas as pd\n",
    "import time\n",
    "from datetime import datetime, timedelta"
   ]
  },
  {
   "cell_type": "code",
   "execution_count": 13,
   "metadata": {},
   "outputs": [],
   "source": [
    "urlParts_gen_monthly = {'keyprefix':'https://api.eia.gov/v2/electricity/operating-generator-capacity/data/?',\n",
    "                        'startprefix':('frequency=monthly&data[0]=county&data[1]=latitude&data[2]=longitude&data[3]'\n",
    "                                   '=nameplate-capacity-mw&data[4]=net-summer-capacity-mw&data[5]=net-winter-capacity-'\n",
    "                                   'mw&data[6]=operating-year-month&data[7]=planned-derate-summer-cap-mw&data[8]='\n",
    "                                   'planned-derate-year-month&data[9]=planned-retirement-year-month&data[10]=planned-'\n",
    "                                   'uprate-summer-cap-mw&data[11]=planned-uprate-year-month&start='),\n",
    "                        'endprefix':'&end=',\n",
    "                        'offsetprefix':'&sort[0][column]=period&sort[0][direction]=desc&offset=', \n",
    "                        'lengthprefix':'&length='}"
   ]
  },
  {
   "cell_type": "code",
   "execution_count": 14,
   "metadata": {},
   "outputs": [],
   "source": [
    "#retrieves data from EIA api, returns json with response, request, and api metadata\n",
    "def getEIAdata(api_keystring, url_dict, start, end, offset, length):\n",
    "    url = (f\"{url_dict['keyprefix']}{api_keystring}{url_dict['startprefix']}{start}{url_dict['endprefix']}\"\n",
    "           f\"{end}{url_dict['offsetprefix']}{offset}{url_dict['lengthprefix']}{length}\")\n",
    "    try:\n",
    "        response = requests.get(url)\n",
    "    except:\n",
    "        print(f'no response from {url}')\n",
    "    try:\n",
    "        response_json = json.dumps(response.json(), indent=4)\n",
    "    except:\n",
    "        print(response)\n",
    "    return response_json"
   ]
  },
  {
   "cell_type": "code",
   "execution_count": 4,
   "metadata": {},
   "outputs": [],
   "source": [
    "#returns subset of dictionary containing data items\n",
    "def extractData(response_dict):\n",
    "    data = response_dict['response']['data']\n",
    "    return data"
   ]
  },
  {
   "cell_type": "code",
   "execution_count": 5,
   "metadata": {},
   "outputs": [],
   "source": [
    "#extracts total number of items that matched API request\n",
    "def extractTotalRows(response_dict):\n",
    "    total_rows = response_dict['response']['total']\n",
    "    return total_rows"
   ]
  },
  {
   "cell_type": "code",
   "execution_count": 6,
   "metadata": {},
   "outputs": [],
   "source": [
    "#appends data to json file\n",
    "def saveJSON(json_obj, data_file_path):\n",
    "    with open(data_file_path, 'a') as fout:\n",
    "        fout.write(json_obj)"
   ]
  },
  {
   "cell_type": "code",
   "execution_count": 7,
   "metadata": {},
   "outputs": [],
   "source": [
    "#appends data to csv file\n",
    "def saveCSV(data_dict, csv_path, header):\n",
    "    df = pd.DataFrame.from_dict(data_dict)\n",
    "    with open(csv_path, 'a') as fout:\n",
    "        df.to_csv(fout, header=header, index=False, lineterminator='\\n')"
   ]
  },
  {
   "cell_type": "code",
   "execution_count": 12,
   "metadata": {},
   "outputs": [
    {
     "name": "stdout",
     "output_type": "stream",
     "text": [
      "7200\n",
      "10000\n"
     ]
    }
   ],
   "source": [
    "#flow\n",
    "api_url_parts = urlParts_gen_monthly\n",
    "api_key = 'DryvLQciETN0UgsSlqTeeQnSfHj8sPif8tfUGKCg'\n",
    "api_keystring = f\"api_key={api_key}&\"\n",
    "row_limit = 5000\n",
    "offset = 0\n",
    "start_date = '2018-01-01'\n",
    "end_date = '2022-12-31'\n",
    "start_datetime = f\"{start_date}T00\" #API takes start and end hour in '2023-04-02T00' format\n",
    "end_datetime = f\"{end_date}T00\"\n",
    "api_chill_time = 69\n",
    "\n",
    "json_path = 'eiadata.json'\n",
    "csv_path = 'eia.csv'\n",
    "with open(json_path, 'w') as overwrite:\n",
    "    pass\n",
    "with open(csv_path, 'w') as overwrite:\n",
    "    pass\n",
    "\n",
    "response_json = getEIAdata(api_keystring, api_url_parts, start_datetime, end_datetime, offset, row_limit)\n",
    "#create dictionary from json object\n",
    "d = json.loads(response_json)\n",
    "data = extractData(d)\n",
    "saveJSON(response_json, json_path)\n",
    "saveCSV(data, csv_path, header=True)\n",
    "returned_rows = len(data)\n",
    "total_rows = extractTotalRows(d)\n",
    "print(total_rows)\n",
    "call_count = 1\n",
    "while call_count * row_limit < total_rows:\n",
    "    offset = call_count * row_limit\n",
    "    try:\n",
    "        response_json = getEIAdata(api_keystring, api_url_parts, start_datetime, end_datetime, offset, row_limit) \n",
    "    except UnboundLocalError:\n",
    "        resume_time = datetime.now() + timedelta(minutes=api_chill_time)\n",
    "        print(f\"API response error. Lurking until {resume_time}\")\n",
    "        time.sleep(60*api_chill_time)\n",
    "        continue       \n",
    "    d = json.loads(response_json)\n",
    "    data = extractData(d)\n",
    "    #only save first and last chunk to json for examination\n",
    "    #saveJSON(response_json, json_path)\n",
    "    saveCSV(data, csv_path, header=False)\n",
    "    call_count += 1\n",
    "    print(call_count*row_limit)\n",
    "    #time.sleep(10)\n",
    "    if call_count % 20 == 0:\n",
    "        time.sleep(69)\n",
    "    #if call_count % 100 == 0:\n",
    "        #time.sleep(5400)\n",
    "length = total_rows - (call_count - 1)*row_limit\n",
    "response_json = getEIAdata(api_keystring, api_url_parts, start_datetime, end_datetime, offset+row_limit, length)\n",
    "d = json.loads(response_json)\n",
    "data = extractData(d)\n",
    "saveJSON(response_json, json_path)\n",
    "saveCSV(data, csv_path, header=False)\n"
   ]
  }
 ],
 "metadata": {
  "kernelspec": {
   "display_name": "Python 3",
   "language": "python",
   "name": "python3"
  },
  "language_info": {
   "codemirror_mode": {
    "name": "ipython",
    "version": 3
   },
   "file_extension": ".py",
   "mimetype": "text/x-python",
   "name": "python",
   "nbconvert_exporter": "python",
   "pygments_lexer": "ipython3",
   "version": "3.11.3"
  },
  "orig_nbformat": 4
 },
 "nbformat": 4,
 "nbformat_minor": 2
}
