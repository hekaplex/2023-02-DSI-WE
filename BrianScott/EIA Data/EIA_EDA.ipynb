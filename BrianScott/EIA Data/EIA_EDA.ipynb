{
 "cells": [
  {
   "attachments": {},
   "cell_type": "markdown",
   "metadata": {},
   "source": [
    "## EIA Hourly Electric Grid Data\n",
    "## Exploratory Data Analysis\n",
    "\n",
    "https://www.eia.gov/electricity/gridmonitor/about"
   ]
  },
  {
   "cell_type": "code",
   "execution_count": 87,
   "metadata": {},
   "outputs": [
    {
     "data": {
      "text/html": [
       "<div>\n",
       "<style scoped>\n",
       "    .dataframe tbody tr th:only-of-type {\n",
       "        vertical-align: middle;\n",
       "    }\n",
       "\n",
       "    .dataframe tbody tr th {\n",
       "        vertical-align: top;\n",
       "    }\n",
       "\n",
       "    .dataframe thead th {\n",
       "        text-align: right;\n",
       "    }\n",
       "</style>\n",
       "<table border=\"1\" class=\"dataframe\">\n",
       "  <thead>\n",
       "    <tr style=\"text-align: right;\">\n",
       "      <th></th>\n",
       "      <th>period</th>\n",
       "      <th>respondent</th>\n",
       "      <th>respondent_name</th>\n",
       "      <th>type</th>\n",
       "      <th>type_name</th>\n",
       "      <th>MWh</th>\n",
       "    </tr>\n",
       "  </thead>\n",
       "  <tbody>\n",
       "    <tr>\n",
       "      <th>0</th>\n",
       "      <td>2023-01-01</td>\n",
       "      <td>JEA</td>\n",
       "      <td>JEA</td>\n",
       "      <td>TI</td>\n",
       "      <td>Total interchange</td>\n",
       "      <td>-300.0</td>\n",
       "    </tr>\n",
       "    <tr>\n",
       "      <th>1</th>\n",
       "      <td>2023-01-01</td>\n",
       "      <td>SCEG</td>\n",
       "      <td>Dominion Energy South Carolina, Inc.</td>\n",
       "      <td>DF</td>\n",
       "      <td>Day-ahead demand forecast</td>\n",
       "      <td>2450.0</td>\n",
       "    </tr>\n",
       "    <tr>\n",
       "      <th>2</th>\n",
       "      <td>2023-01-01</td>\n",
       "      <td>SCEG</td>\n",
       "      <td>Dominion Energy South Carolina, Inc.</td>\n",
       "      <td>TI</td>\n",
       "      <td>Total interchange</td>\n",
       "      <td>255.0</td>\n",
       "    </tr>\n",
       "    <tr>\n",
       "      <th>3</th>\n",
       "      <td>2023-01-01</td>\n",
       "      <td>SCEG</td>\n",
       "      <td>Dominion Energy South Carolina, Inc.</td>\n",
       "      <td>D</td>\n",
       "      <td>Demand</td>\n",
       "      <td>2500.0</td>\n",
       "    </tr>\n",
       "    <tr>\n",
       "      <th>4</th>\n",
       "      <td>2023-01-01</td>\n",
       "      <td>FMPP</td>\n",
       "      <td>Florida Municipal Power Pool</td>\n",
       "      <td>TI</td>\n",
       "      <td>Total interchange</td>\n",
       "      <td>-42.0</td>\n",
       "    </tr>\n",
       "  </tbody>\n",
       "</table>\n",
       "</div>"
      ],
      "text/plain": [
       "      period respondent                       respondent_name type   \n",
       "0 2023-01-01        JEA                                   JEA   TI  \\\n",
       "1 2023-01-01       SCEG  Dominion Energy South Carolina, Inc.   DF   \n",
       "2 2023-01-01       SCEG  Dominion Energy South Carolina, Inc.   TI   \n",
       "3 2023-01-01       SCEG  Dominion Energy South Carolina, Inc.    D   \n",
       "4 2023-01-01       FMPP          Florida Municipal Power Pool   TI   \n",
       "\n",
       "                   type_name     MWh  \n",
       "0          Total interchange  -300.0  \n",
       "1  Day-ahead demand forecast  2450.0  \n",
       "2          Total interchange   255.0  \n",
       "3                     Demand  2500.0  \n",
       "4          Total interchange   -42.0  "
      ]
     },
     "execution_count": 87,
     "metadata": {},
     "output_type": "execute_result"
    }
   ],
   "source": [
    "import pandas as pd\n",
    "import numpy as np\n",
    "\n",
    "# eia2022.csv was retrieved from the U.S. Energy Information Administration API using code \n",
    "# in EIA_Electricity.ipynb\n",
    "csv_path = 'eia2022.csv'\n",
    "\n",
    "eia_data = pd.read_csv(csv_path, low_memory=False)\n",
    "eia_data.columns = eia_data.columns.str.replace('-', '_')\n",
    "eia_data['value'] = pd.to_numeric(eia_data['value'], errors='coerce')\n",
    "eia_data['period'] = pd.to_datetime(eia_data['period'], yearfirst=True, errors='coerce')\n",
    "eia_data = eia_data.rename(columns = {'value':'MWh'})\n",
    "eia_data = eia_data[['period','respondent','respondent_name', 'type', 'type_name', 'MWh']]\n",
    "eia_data.head()"
   ]
  },
  {
   "attachments": {},
   "cell_type": "markdown",
   "metadata": {},
   "source": [
    "* Net generation:  The amount of gross generation less the electrical energy consumed at the generating station(s) for station service or auxiliaries. Note: Electricity required for pumping at pumped-storage plants is regarded as electricity for station service and is deducted from gross generation.\n",
    "* Interchange (electric):  Energy transfers that cross Balancing Authority boundaries.\n",
    "* Electricity demand:  The rate at which energy is delivered to loads and scheduling points by generation, transmission, and distribution facilities."
   ]
  },
  {
   "cell_type": "code",
   "execution_count": 88,
   "metadata": {},
   "outputs": [
    {
     "name": "stdout",
     "output_type": "stream",
     "text": [
      "<class 'pandas.core.frame.DataFrame'>\n",
      "RangeIndex: 2503255 entries, 0 to 2503254\n",
      "Data columns (total 6 columns):\n",
      " #   Column           Dtype         \n",
      "---  ------           -----         \n",
      " 0   period           datetime64[ns]\n",
      " 1   respondent       object        \n",
      " 2   respondent_name  object        \n",
      " 3   type             object        \n",
      " 4   type_name        object        \n",
      " 5   MWh              float64       \n",
      "dtypes: datetime64[ns](1), float64(1), object(4)\n",
      "memory usage: 114.6+ MB\n"
     ]
    }
   ],
   "source": [
    "eia_data.info()"
   ]
  },
  {
   "cell_type": "code",
   "execution_count": 89,
   "metadata": {},
   "outputs": [
    {
     "data": {
      "text/plain": [
       "(2503255, 6)"
      ]
     },
     "execution_count": 89,
     "metadata": {},
     "output_type": "execute_result"
    }
   ],
   "source": [
    "eia_data.shape"
   ]
  },
  {
   "cell_type": "code",
   "execution_count": 90,
   "metadata": {},
   "outputs": [
    {
     "data": {
      "text/plain": [
       "(2487184, 6)"
      ]
     },
     "execution_count": 90,
     "metadata": {},
     "output_type": "execute_result"
    }
   ],
   "source": [
    "eia_data = eia_data.drop_duplicates()\n",
    "eia_data.shape"
   ]
  },
  {
   "cell_type": "code",
   "execution_count": 91,
   "metadata": {},
   "outputs": [
    {
     "data": {
      "text/html": [
       "<div>\n",
       "<style scoped>\n",
       "    .dataframe tbody tr th:only-of-type {\n",
       "        vertical-align: middle;\n",
       "    }\n",
       "\n",
       "    .dataframe tbody tr th {\n",
       "        vertical-align: top;\n",
       "    }\n",
       "\n",
       "    .dataframe thead th {\n",
       "        text-align: right;\n",
       "    }\n",
       "</style>\n",
       "<table border=\"1\" class=\"dataframe\">\n",
       "  <thead>\n",
       "    <tr style=\"text-align: right;\">\n",
       "      <th></th>\n",
       "      <th>period</th>\n",
       "      <th>MWh</th>\n",
       "    </tr>\n",
       "  </thead>\n",
       "  <tbody>\n",
       "    <tr>\n",
       "      <th>count</th>\n",
       "      <td>2487184</td>\n",
       "      <td>2.485874e+06</td>\n",
       "    </tr>\n",
       "    <tr>\n",
       "      <th>mean</th>\n",
       "      <td>2022-07-02 12:46:36.812137984</td>\n",
       "      <td>1.473143e+04</td>\n",
       "    </tr>\n",
       "    <tr>\n",
       "      <th>min</th>\n",
       "      <td>2022-01-01 00:00:00</td>\n",
       "      <td>-9.899400e+05</td>\n",
       "    </tr>\n",
       "    <tr>\n",
       "      <th>25%</th>\n",
       "      <td>2022-04-03 05:00:00</td>\n",
       "      <td>2.290000e+02</td>\n",
       "    </tr>\n",
       "    <tr>\n",
       "      <th>50%</th>\n",
       "      <td>2022-07-02 16:00:00</td>\n",
       "      <td>1.628000e+03</td>\n",
       "    </tr>\n",
       "    <tr>\n",
       "      <th>75%</th>\n",
       "      <td>2022-10-01 09:00:00</td>\n",
       "      <td>1.088500e+04</td>\n",
       "    </tr>\n",
       "    <tr>\n",
       "      <th>max</th>\n",
       "      <td>2023-01-01 00:00:00</td>\n",
       "      <td>3.297048e+06</td>\n",
       "    </tr>\n",
       "    <tr>\n",
       "      <th>std</th>\n",
       "      <td>NaN</td>\n",
       "      <td>5.153614e+04</td>\n",
       "    </tr>\n",
       "  </tbody>\n",
       "</table>\n",
       "</div>"
      ],
      "text/plain": [
       "                              period           MWh\n",
       "count                        2487184  2.485874e+06\n",
       "mean   2022-07-02 12:46:36.812137984  1.473143e+04\n",
       "min              2022-01-01 00:00:00 -9.899400e+05\n",
       "25%              2022-04-03 05:00:00  2.290000e+02\n",
       "50%              2022-07-02 16:00:00  1.628000e+03\n",
       "75%              2022-10-01 09:00:00  1.088500e+04\n",
       "max              2023-01-01 00:00:00  3.297048e+06\n",
       "std                              NaN  5.153614e+04"
      ]
     },
     "execution_count": 91,
     "metadata": {},
     "output_type": "execute_result"
    }
   ],
   "source": [
    "eia_data.describe()"
   ]
  },
  {
   "attachments": {},
   "cell_type": "markdown",
   "metadata": {},
   "source": [
    "Next few plots show potential outliers or anomalies in net generation, demand, demand forecast, and total interchange"
   ]
  },
  {
   "cell_type": "code",
   "execution_count": 92,
   "metadata": {},
   "outputs": [
    {
     "data": {
      "text/plain": [
       "<Axes: >"
      ]
     },
     "execution_count": 92,
     "metadata": {},
     "output_type": "execute_result"
    },
    {
     "data": {
      "image/png": "[encoded data removed]",
      "text/plain": [
       "<Figure size 640x480 with 1 Axes>"
      ]
     },
     "metadata": {},
     "output_type": "display_data"
    }
   ],
   "source": [
    "eia_data[eia_data.type == 'NG'].MWh.plot()"
   ]
  },
  {
   "cell_type": "code",
   "execution_count": 93,
   "metadata": {},
   "outputs": [
    {
     "data": {
      "text/html": [
       "<div>\n",
       "<style scoped>\n",
       "    .dataframe tbody tr th:only-of-type {\n",
       "        vertical-align: middle;\n",
       "    }\n",
       "\n",
       "    .dataframe tbody tr th {\n",
       "        vertical-align: top;\n",
       "    }\n",
       "\n",
       "    .dataframe thead th {\n",
       "        text-align: right;\n",
       "    }\n",
       "</style>\n",
       "<table border=\"1\" class=\"dataframe\">\n",
       "  <thead>\n",
       "    <tr style=\"text-align: right;\">\n",
       "      <th></th>\n",
       "      <th>period</th>\n",
       "      <th>respondent</th>\n",
       "      <th>respondent_name</th>\n",
       "      <th>type</th>\n",
       "      <th>type_name</th>\n",
       "      <th>MWh</th>\n",
       "    </tr>\n",
       "  </thead>\n",
       "  <tbody>\n",
       "    <tr>\n",
       "      <th>2398224</th>\n",
       "      <td>2022-01-16 04:00:00</td>\n",
       "      <td>BANC</td>\n",
       "      <td>Balancing Authority of Northern California</td>\n",
       "      <td>NG</td>\n",
       "      <td>Net generation</td>\n",
       "      <td>3296358.0</td>\n",
       "    </tr>\n",
       "  </tbody>\n",
       "</table>\n",
       "</div>"
      ],
      "text/plain": [
       "                     period respondent   \n",
       "2398224 2022-01-16 04:00:00       BANC  \\\n",
       "\n",
       "                                    respondent_name type       type_name   \n",
       "2398224  Balancing Authority of Northern California   NG  Net generation  \\\n",
       "\n",
       "               MWh  \n",
       "2398224  3296358.0  "
      ]
     },
     "execution_count": 93,
     "metadata": {},
     "output_type": "execute_result"
    }
   ],
   "source": [
    "eia_data.query('type == \"NG\" & MWh > 1e6')"
   ]
  },
  {
   "cell_type": "code",
   "execution_count": 94,
   "metadata": {},
   "outputs": [
    {
     "data": {
      "text/plain": [
       "<Axes: >"
      ]
     },
     "execution_count": 94,
     "metadata": {},
     "output_type": "execute_result"
    },
    {
     "data": {
      "image/png": "[encoded data removed]",
      "text/plain": [
       "<Figure size 640x480 with 1 Axes>"
      ]
     },
     "metadata": {},
     "output_type": "display_data"
    }
   ],
   "source": [
    "eia_data[eia_data.type == 'D'].MWh.plot()"
   ]
  },
  {
   "cell_type": "code",
   "execution_count": 95,
   "metadata": {},
   "outputs": [
    {
     "data": {
      "text/html": [
       "<div>\n",
       "<style scoped>\n",
       "    .dataframe tbody tr th:only-of-type {\n",
       "        vertical-align: middle;\n",
       "    }\n",
       "\n",
       "    .dataframe tbody tr th {\n",
       "        vertical-align: top;\n",
       "    }\n",
       "\n",
       "    .dataframe thead th {\n",
       "        text-align: right;\n",
       "    }\n",
       "</style>\n",
       "<table border=\"1\" class=\"dataframe\">\n",
       "  <thead>\n",
       "    <tr style=\"text-align: right;\">\n",
       "      <th></th>\n",
       "      <th>period</th>\n",
       "      <th>respondent</th>\n",
       "      <th>respondent_name</th>\n",
       "      <th>type</th>\n",
       "      <th>type_name</th>\n",
       "      <th>MWh</th>\n",
       "    </tr>\n",
       "  </thead>\n",
       "  <tbody>\n",
       "    <tr>\n",
       "      <th>13954</th>\n",
       "      <td>2022-12-30 00:00:00</td>\n",
       "      <td>WALC</td>\n",
       "      <td>Western Area Power Administration - Desert Sou...</td>\n",
       "      <td>D</td>\n",
       "      <td>Demand</td>\n",
       "      <td>-16376.0</td>\n",
       "    </tr>\n",
       "    <tr>\n",
       "      <th>109099</th>\n",
       "      <td>2022-12-16 02:00:00</td>\n",
       "      <td>SEC</td>\n",
       "      <td>Seminole Electric Cooperative</td>\n",
       "      <td>D</td>\n",
       "      <td>Demand</td>\n",
       "      <td>-4.0</td>\n",
       "    </tr>\n",
       "    <tr>\n",
       "      <th>109832</th>\n",
       "      <td>2022-12-15 23:00:00</td>\n",
       "      <td>SEC</td>\n",
       "      <td>Seminole Electric Cooperative</td>\n",
       "      <td>D</td>\n",
       "      <td>Demand</td>\n",
       "      <td>-96.0</td>\n",
       "    </tr>\n",
       "    <tr>\n",
       "      <th>110116</th>\n",
       "      <td>2022-12-15 22:00:00</td>\n",
       "      <td>SEC</td>\n",
       "      <td>Seminole Electric Cooperative</td>\n",
       "      <td>D</td>\n",
       "      <td>Demand</td>\n",
       "      <td>-141.0</td>\n",
       "    </tr>\n",
       "    <tr>\n",
       "      <th>110595</th>\n",
       "      <td>2022-12-15 21:00:00</td>\n",
       "      <td>SEC</td>\n",
       "      <td>Seminole Electric Cooperative</td>\n",
       "      <td>D</td>\n",
       "      <td>Demand</td>\n",
       "      <td>-111.0</td>\n",
       "    </tr>\n",
       "    <tr>\n",
       "      <th>...</th>\n",
       "      <td>...</td>\n",
       "      <td>...</td>\n",
       "      <td>...</td>\n",
       "      <td>...</td>\n",
       "      <td>...</td>\n",
       "      <td>...</td>\n",
       "    </tr>\n",
       "    <tr>\n",
       "      <th>2112103</th>\n",
       "      <td>2022-02-26 16:00:00</td>\n",
       "      <td>SEC</td>\n",
       "      <td>Seminole Electric Cooperative</td>\n",
       "      <td>D</td>\n",
       "      <td>Demand</td>\n",
       "      <td>-38.0</td>\n",
       "    </tr>\n",
       "    <tr>\n",
       "      <th>2157856</th>\n",
       "      <td>2022-02-20 01:00:00</td>\n",
       "      <td>SEC</td>\n",
       "      <td>Seminole Electric Cooperative</td>\n",
       "      <td>D</td>\n",
       "      <td>Demand</td>\n",
       "      <td>-320.0</td>\n",
       "    </tr>\n",
       "    <tr>\n",
       "      <th>2294292</th>\n",
       "      <td>2022-01-31 06:00:00</td>\n",
       "      <td>SPA</td>\n",
       "      <td>Southwestern Power Administration</td>\n",
       "      <td>D</td>\n",
       "      <td>Demand</td>\n",
       "      <td>-989940.0</td>\n",
       "    </tr>\n",
       "    <tr>\n",
       "      <th>2294866</th>\n",
       "      <td>2022-01-31 04:00:00</td>\n",
       "      <td>TVA</td>\n",
       "      <td>Tennessee Valley Authority</td>\n",
       "      <td>D</td>\n",
       "      <td>Demand</td>\n",
       "      <td>-45117.0</td>\n",
       "    </tr>\n",
       "    <tr>\n",
       "      <th>2398398</th>\n",
       "      <td>2022-01-16 04:00:00</td>\n",
       "      <td>BANC</td>\n",
       "      <td>Balancing Authority of Northern California</td>\n",
       "      <td>D</td>\n",
       "      <td>Demand</td>\n",
       "      <td>3297048.0</td>\n",
       "    </tr>\n",
       "  </tbody>\n",
       "</table>\n",
       "<p>64 rows × 6 columns</p>\n",
       "</div>"
      ],
      "text/plain": [
       "                     period respondent   \n",
       "13954   2022-12-30 00:00:00       WALC  \\\n",
       "109099  2022-12-16 02:00:00        SEC   \n",
       "109832  2022-12-15 23:00:00        SEC   \n",
       "110116  2022-12-15 22:00:00        SEC   \n",
       "110595  2022-12-15 21:00:00        SEC   \n",
       "...                     ...        ...   \n",
       "2112103 2022-02-26 16:00:00        SEC   \n",
       "2157856 2022-02-20 01:00:00        SEC   \n",
       "2294292 2022-01-31 06:00:00        SPA   \n",
       "2294866 2022-01-31 04:00:00        TVA   \n",
       "2398398 2022-01-16 04:00:00       BANC   \n",
       "\n",
       "                                           respondent_name type type_name   \n",
       "13954    Western Area Power Administration - Desert Sou...    D    Demand  \\\n",
       "109099                       Seminole Electric Cooperative    D    Demand   \n",
       "109832                       Seminole Electric Cooperative    D    Demand   \n",
       "110116                       Seminole Electric Cooperative    D    Demand   \n",
       "110595                       Seminole Electric Cooperative    D    Demand   \n",
       "...                                                    ...  ...       ...   \n",
       "2112103                      Seminole Electric Cooperative    D    Demand   \n",
       "2157856                      Seminole Electric Cooperative    D    Demand   \n",
       "2294292                  Southwestern Power Administration    D    Demand   \n",
       "2294866                         Tennessee Valley Authority    D    Demand   \n",
       "2398398         Balancing Authority of Northern California    D    Demand   \n",
       "\n",
       "               MWh  \n",
       "13954     -16376.0  \n",
       "109099        -4.0  \n",
       "109832       -96.0  \n",
       "110116      -141.0  \n",
       "110595      -111.0  \n",
       "...            ...  \n",
       "2112103      -38.0  \n",
       "2157856     -320.0  \n",
       "2294292  -989940.0  \n",
       "2294866   -45117.0  \n",
       "2398398  3297048.0  \n",
       "\n",
       "[64 rows x 6 columns]"
      ]
     },
     "execution_count": 95,
     "metadata": {},
     "output_type": "execute_result"
    }
   ],
   "source": [
    "eia_data.query('type == \"D\" & (MWh > 1e6 | MWh < 0)')"
   ]
  },
  {
   "cell_type": "code",
   "execution_count": 96,
   "metadata": {},
   "outputs": [
    {
     "data": {
      "text/plain": [
       "<Axes: >"
      ]
     },
     "execution_count": 96,
     "metadata": {},
     "output_type": "execute_result"
    },
    {
     "data": {
      "image/png": "[encoded data removed]",
      "text/plain": [
       "<Figure size 640x480 with 1 Axes>"
      ]
     },
     "metadata": {},
     "output_type": "display_data"
    }
   ],
   "source": [
    "eia_data[eia_data.type == 'DF'].MWh.plot()"
   ]
  },
  {
   "cell_type": "code",
   "execution_count": 97,
   "metadata": {},
   "outputs": [
    {
     "data": {
      "text/html": [
       "<div>\n",
       "<style scoped>\n",
       "    .dataframe tbody tr th:only-of-type {\n",
       "        vertical-align: middle;\n",
       "    }\n",
       "\n",
       "    .dataframe tbody tr th {\n",
       "        vertical-align: top;\n",
       "    }\n",
       "\n",
       "    .dataframe thead th {\n",
       "        text-align: right;\n",
       "    }\n",
       "</style>\n",
       "<table border=\"1\" class=\"dataframe\">\n",
       "  <thead>\n",
       "    <tr style=\"text-align: right;\">\n",
       "      <th></th>\n",
       "      <th>period</th>\n",
       "      <th>respondent</th>\n",
       "      <th>respondent_name</th>\n",
       "      <th>type</th>\n",
       "      <th>type_name</th>\n",
       "      <th>MWh</th>\n",
       "    </tr>\n",
       "  </thead>\n",
       "  <tbody>\n",
       "    <tr>\n",
       "      <th>1945279</th>\n",
       "      <td>2022-03-22 20:00:00</td>\n",
       "      <td>WALC</td>\n",
       "      <td>Western Area Power Administration - Desert Sou...</td>\n",
       "      <td>DF</td>\n",
       "      <td>Day-ahead demand forecast</td>\n",
       "      <td>-198751.0</td>\n",
       "    </tr>\n",
       "    <tr>\n",
       "      <th>1945302</th>\n",
       "      <td>2022-03-22 20:00:00</td>\n",
       "      <td>SW</td>\n",
       "      <td>Southwest</td>\n",
       "      <td>DF</td>\n",
       "      <td>Day-ahead demand forecast</td>\n",
       "      <td>-190270.0</td>\n",
       "    </tr>\n",
       "  </tbody>\n",
       "</table>\n",
       "</div>"
      ],
      "text/plain": [
       "                     period respondent   \n",
       "1945279 2022-03-22 20:00:00       WALC  \\\n",
       "1945302 2022-03-22 20:00:00         SW   \n",
       "\n",
       "                                           respondent_name type   \n",
       "1945279  Western Area Power Administration - Desert Sou...   DF  \\\n",
       "1945302                                          Southwest   DF   \n",
       "\n",
       "                         type_name       MWh  \n",
       "1945279  Day-ahead demand forecast -198751.0  \n",
       "1945302  Day-ahead demand forecast -190270.0  "
      ]
     },
     "execution_count": 97,
     "metadata": {},
     "output_type": "execute_result"
    }
   ],
   "source": [
    "eia_data.query('type == \"DF\" & MWh < 0')"
   ]
  },
  {
   "cell_type": "code",
   "execution_count": 98,
   "metadata": {},
   "outputs": [
    {
     "data": {
      "text/plain": [
       "<Axes: >"
      ]
     },
     "execution_count": 98,
     "metadata": {},
     "output_type": "execute_result"
    },
    {
     "data": {
      "image/png": "[encoded data removed]",
      "text/plain": [
       "<Figure size 640x480 with 1 Axes>"
      ]
     },
     "metadata": {},
     "output_type": "display_data"
    }
   ],
   "source": [
    "eia_data[eia_data.type == 'TI'].MWh.plot()"
   ]
  },
  {
   "cell_type": "code",
   "execution_count": 99,
   "metadata": {},
   "outputs": [
    {
     "data": {
      "text/html": [
       "<div>\n",
       "<style scoped>\n",
       "    .dataframe tbody tr th:only-of-type {\n",
       "        vertical-align: middle;\n",
       "    }\n",
       "\n",
       "    .dataframe tbody tr th {\n",
       "        vertical-align: top;\n",
       "    }\n",
       "\n",
       "    .dataframe thead th {\n",
       "        text-align: right;\n",
       "    }\n",
       "</style>\n",
       "<table border=\"1\" class=\"dataframe\">\n",
       "  <thead>\n",
       "    <tr style=\"text-align: right;\">\n",
       "      <th></th>\n",
       "      <th>period</th>\n",
       "      <th>respondent</th>\n",
       "      <th>respondent_name</th>\n",
       "      <th>type</th>\n",
       "      <th>type_name</th>\n",
       "      <th>MWh</th>\n",
       "    </tr>\n",
       "  </thead>\n",
       "  <tbody>\n",
       "    <tr>\n",
       "      <th>1177416</th>\n",
       "      <td>2022-07-13 06:00:00</td>\n",
       "      <td>TVA</td>\n",
       "      <td>Tennessee Valley Authority</td>\n",
       "      <td>TI</td>\n",
       "      <td>Total interchange</td>\n",
       "      <td>-842604.0</td>\n",
       "    </tr>\n",
       "    <tr>\n",
       "      <th>1405805</th>\n",
       "      <td>2022-06-09 23:00:00</td>\n",
       "      <td>SPA</td>\n",
       "      <td>Southwestern Power Administration</td>\n",
       "      <td>TI</td>\n",
       "      <td>Total interchange</td>\n",
       "      <td>991269.0</td>\n",
       "    </tr>\n",
       "    <tr>\n",
       "      <th>2294038</th>\n",
       "      <td>2022-01-31 06:00:00</td>\n",
       "      <td>SPA</td>\n",
       "      <td>Southwestern Power Administration</td>\n",
       "      <td>TI</td>\n",
       "      <td>Total interchange</td>\n",
       "      <td>990216.0</td>\n",
       "    </tr>\n",
       "  </tbody>\n",
       "</table>\n",
       "</div>"
      ],
      "text/plain": [
       "                     period respondent                    respondent_name   \n",
       "1177416 2022-07-13 06:00:00        TVA         Tennessee Valley Authority  \\\n",
       "1405805 2022-06-09 23:00:00        SPA  Southwestern Power Administration   \n",
       "2294038 2022-01-31 06:00:00        SPA  Southwestern Power Administration   \n",
       "\n",
       "        type          type_name       MWh  \n",
       "1177416   TI  Total interchange -842604.0  \n",
       "1405805   TI  Total interchange  991269.0  \n",
       "2294038   TI  Total interchange  990216.0  "
      ]
     },
     "execution_count": 99,
     "metadata": {},
     "output_type": "execute_result"
    }
   ],
   "source": [
    "eia_data.query('type == \"TI\" & (MWh > 0.25e6 | MWh < -0.25e6)')"
   ]
  },
  {
   "attachments": {},
   "cell_type": "markdown",
   "metadata": {},
   "source": [
    "histograms and boxplots for each type"
   ]
  },
  {
   "cell_type": "code",
   "execution_count": 100,
   "metadata": {},
   "outputs": [
    {
     "data": {
      "text/plain": [
       "count    6.647050e+05\n",
       "mean     1.826583e+04\n",
       "std      5.663311e+04\n",
       "min     -1.649400e+04\n",
       "25%      6.200000e+02\n",
       "50%      2.293000e+03\n",
       "75%      1.518400e+04\n",
       "max      3.296358e+06\n",
       "Name: MWh, dtype: float64"
      ]
     },
     "execution_count": 100,
     "metadata": {},
     "output_type": "execute_result"
    }
   ],
   "source": [
    "etype = 'NG'\n",
    "etype_data = eia_data[eia_data.type == etype]\n",
    "etype_data.MWh.describe()"
   ]
  },
  {
   "cell_type": "code",
   "execution_count": 101,
   "metadata": {},
   "outputs": [
    {
     "data": {
      "text/plain": [
       "<Axes: >"
      ]
     },
     "execution_count": 101,
     "metadata": {},
     "output_type": "execute_result"
    },
    {
     "data": {
      "image/png": "[encoded data removed]",
      "text/plain": [
       "<Figure size 640x480 with 1 Axes>"
      ]
     },
     "metadata": {},
     "output_type": "display_data"
    }
   ],
   "source": [
    "etype_data.MWh.hist(bins = 100)"
   ]
  },
  {
   "cell_type": "code",
   "execution_count": 102,
   "metadata": {},
   "outputs": [
    {
     "data": {
      "text/plain": [
       "[Text(0, 0.5, 'Megawatt Hours')]"
      ]
     },
     "execution_count": 102,
     "metadata": {},
     "output_type": "execute_result"
    },
    {
     "data": {
      "image/png": "[encoded data removed]",
      "text/plain": [
       "<Figure size 640x480 with 1 Axes>"
      ]
     },
     "metadata": {},
     "output_type": "display_data"
    }
   ],
   "source": [
    "import seaborn as sns\n",
    "sns.boxplot(data=etype_data, \n",
    "             y='MWh', x='type').set(ylabel='Megawatt Hours')"
   ]
  },
  {
   "cell_type": "code",
   "execution_count": 103,
   "metadata": {},
   "outputs": [
    {
     "data": {
      "text/plain": [
       "count    660101.000000\n",
       "mean       -152.632659\n",
       "std        3032.308466\n",
       "min     -842604.000000\n",
       "25%        -722.000000\n",
       "50%         -24.000000\n",
       "75%         447.000000\n",
       "max      991269.000000\n",
       "Name: MWh, dtype: float64"
      ]
     },
     "execution_count": 103,
     "metadata": {},
     "output_type": "execute_result"
    }
   ],
   "source": [
    "etype = 'TI'\n",
    "etype_data = eia_data[eia_data.type == etype]\n",
    "etype_data.MWh.describe()"
   ]
  },
  {
   "cell_type": "code",
   "execution_count": 104,
   "metadata": {},
   "outputs": [
    {
     "data": {
      "text/plain": [
       "<Axes: >"
      ]
     },
     "execution_count": 104,
     "metadata": {},
     "output_type": "execute_result"
    },
    {
     "data": {
      "image/png": "[encoded data removed]",
      "text/plain": [
       "<Figure size 640x480 with 1 Axes>"
      ]
     },
     "metadata": {},
     "output_type": "display_data"
    }
   ],
   "source": [
    "etype_data.MWh.hist(bins = 100)"
   ]
  },
  {
   "cell_type": "code",
   "execution_count": 105,
   "metadata": {},
   "outputs": [
    {
     "data": {
      "text/plain": [
       "[Text(0, 0.5, 'Megawatt Hours')]"
      ]
     },
     "execution_count": 105,
     "metadata": {},
     "output_type": "execute_result"
    },
    {
     "data": {
      "image/png": "[encoded data removed]",
      "text/plain": [
       "<Figure size 640x480 with 1 Axes>"
      ]
     },
     "metadata": {},
     "output_type": "display_data"
    }
   ],
   "source": [
    "sns.boxplot(data=etype_data, \n",
    "             y='MWh', x='type').set(ylabel='Megawatt Hours')"
   ]
  },
  {
   "cell_type": "code",
   "execution_count": 106,
   "metadata": {},
   "outputs": [
    {
     "data": {
      "text/plain": [
       "count    5.826030e+05\n",
       "mean     2.121187e+04\n",
       "std      6.085211e+04\n",
       "min     -9.899400e+05\n",
       "25%      1.287000e+03\n",
       "50%      3.600000e+03\n",
       "75%      2.028650e+04\n",
       "max      3.297048e+06\n",
       "Name: MWh, dtype: float64"
      ]
     },
     "execution_count": 106,
     "metadata": {},
     "output_type": "execute_result"
    }
   ],
   "source": [
    "etype = 'D'\n",
    "etype_data = eia_data[eia_data.type == etype]\n",
    "etype_data.MWh.describe()"
   ]
  },
  {
   "cell_type": "code",
   "execution_count": 107,
   "metadata": {},
   "outputs": [
    {
     "data": {
      "text/plain": [
       "<Axes: >"
      ]
     },
     "execution_count": 107,
     "metadata": {},
     "output_type": "execute_result"
    },
    {
     "data": {
      "image/png": "[encoded data removed]",
      "text/plain": [
       "<Figure size 640x480 with 1 Axes>"
      ]
     },
     "metadata": {},
     "output_type": "display_data"
    }
   ],
   "source": [
    "etype_data.MWh.hist(bins = 100)"
   ]
  },
  {
   "cell_type": "code",
   "execution_count": 108,
   "metadata": {},
   "outputs": [
    {
     "data": {
      "text/plain": [
       "[Text(0, 0.5, 'Megawatt Hours')]"
      ]
     },
     "execution_count": 108,
     "metadata": {},
     "output_type": "execute_result"
    },
    {
     "data": {
      "image/png": "[encoded data removed]",
      "text/plain": [
       "<Figure size 640x480 with 1 Axes>"
      ]
     },
     "metadata": {},
     "output_type": "display_data"
    }
   ],
   "source": [
    "sns.boxplot(data=etype_data, \n",
    "             y='MWh', x='type').set(ylabel='Megawatt Hours')"
   ]
  },
  {
   "cell_type": "code",
   "execution_count": 109,
   "metadata": {},
   "outputs": [
    {
     "data": {
      "text/html": [
       "<div>\n",
       "<style scoped>\n",
       "    .dataframe tbody tr th:only-of-type {\n",
       "        vertical-align: middle;\n",
       "    }\n",
       "\n",
       "    .dataframe tbody tr th {\n",
       "        vertical-align: top;\n",
       "    }\n",
       "\n",
       "    .dataframe thead th {\n",
       "        text-align: right;\n",
       "    }\n",
       "</style>\n",
       "<table border=\"1\" class=\"dataframe\">\n",
       "  <thead>\n",
       "    <tr style=\"text-align: right;\">\n",
       "      <th></th>\n",
       "      <th>period</th>\n",
       "      <th>respondent</th>\n",
       "      <th>respondent_name</th>\n",
       "      <th>type</th>\n",
       "      <th>type_name</th>\n",
       "      <th>MWh</th>\n",
       "    </tr>\n",
       "  </thead>\n",
       "  <tbody>\n",
       "    <tr>\n",
       "      <th>2398398</th>\n",
       "      <td>2022-01-16 04:00:00</td>\n",
       "      <td>BANC</td>\n",
       "      <td>Balancing Authority of Northern California</td>\n",
       "      <td>D</td>\n",
       "      <td>Demand</td>\n",
       "      <td>3297048.0</td>\n",
       "    </tr>\n",
       "  </tbody>\n",
       "</table>\n",
       "</div>"
      ],
      "text/plain": [
       "                     period respondent   \n",
       "2398398 2022-01-16 04:00:00       BANC  \\\n",
       "\n",
       "                                    respondent_name type type_name        MWh  \n",
       "2398398  Balancing Authority of Northern California    D    Demand  3297048.0  "
      ]
     },
     "execution_count": 109,
     "metadata": {},
     "output_type": "execute_result"
    }
   ],
   "source": [
    "etype_data.MWh.argmax()\n",
    "etype_data.iloc[[etype_data.MWh.argmax()]]"
   ]
  },
  {
   "cell_type": "code",
   "execution_count": 110,
   "metadata": {},
   "outputs": [
    {
     "data": {
      "text/html": [
       "<div>\n",
       "<style scoped>\n",
       "    .dataframe tbody tr th:only-of-type {\n",
       "        vertical-align: middle;\n",
       "    }\n",
       "\n",
       "    .dataframe tbody tr th {\n",
       "        vertical-align: top;\n",
       "    }\n",
       "\n",
       "    .dataframe thead th {\n",
       "        text-align: right;\n",
       "    }\n",
       "</style>\n",
       "<table border=\"1\" class=\"dataframe\">\n",
       "  <thead>\n",
       "    <tr style=\"text-align: right;\">\n",
       "      <th></th>\n",
       "      <th>period</th>\n",
       "      <th>respondent</th>\n",
       "      <th>respondent_name</th>\n",
       "      <th>type</th>\n",
       "      <th>type_name</th>\n",
       "      <th>MWh</th>\n",
       "    </tr>\n",
       "  </thead>\n",
       "  <tbody>\n",
       "    <tr>\n",
       "      <th>2398198</th>\n",
       "      <td>2022-01-16 04:00:00</td>\n",
       "      <td>BANC</td>\n",
       "      <td>Balancing Authority of Northern California</td>\n",
       "      <td>TI</td>\n",
       "      <td>Total interchange</td>\n",
       "      <td>-690.0</td>\n",
       "    </tr>\n",
       "    <tr>\n",
       "      <th>2398224</th>\n",
       "      <td>2022-01-16 04:00:00</td>\n",
       "      <td>BANC</td>\n",
       "      <td>Balancing Authority of Northern California</td>\n",
       "      <td>NG</td>\n",
       "      <td>Net generation</td>\n",
       "      <td>3296358.0</td>\n",
       "    </tr>\n",
       "    <tr>\n",
       "      <th>2398298</th>\n",
       "      <td>2022-01-16 04:00:00</td>\n",
       "      <td>BANC</td>\n",
       "      <td>Balancing Authority of Northern California</td>\n",
       "      <td>DF</td>\n",
       "      <td>Day-ahead demand forecast</td>\n",
       "      <td>2039.0</td>\n",
       "    </tr>\n",
       "    <tr>\n",
       "      <th>2398398</th>\n",
       "      <td>2022-01-16 04:00:00</td>\n",
       "      <td>BANC</td>\n",
       "      <td>Balancing Authority of Northern California</td>\n",
       "      <td>D</td>\n",
       "      <td>Demand</td>\n",
       "      <td>3297048.0</td>\n",
       "    </tr>\n",
       "  </tbody>\n",
       "</table>\n",
       "</div>"
      ],
      "text/plain": [
       "                     period respondent   \n",
       "2398198 2022-01-16 04:00:00       BANC  \\\n",
       "2398224 2022-01-16 04:00:00       BANC   \n",
       "2398298 2022-01-16 04:00:00       BANC   \n",
       "2398398 2022-01-16 04:00:00       BANC   \n",
       "\n",
       "                                    respondent_name type   \n",
       "2398198  Balancing Authority of Northern California   TI  \\\n",
       "2398224  Balancing Authority of Northern California   NG   \n",
       "2398298  Balancing Authority of Northern California   DF   \n",
       "2398398  Balancing Authority of Northern California    D   \n",
       "\n",
       "                         type_name        MWh  \n",
       "2398198          Total interchange     -690.0  \n",
       "2398224             Net generation  3296358.0  \n",
       "2398298  Day-ahead demand forecast     2039.0  \n",
       "2398398                     Demand  3297048.0  "
      ]
     },
     "execution_count": 110,
     "metadata": {},
     "output_type": "execute_result"
    }
   ],
   "source": [
    "eia_data[(eia_data.period == '2022-01-16 04:00:00') & (eia_data.respondent == 'BANC')]"
   ]
  },
  {
   "cell_type": "code",
   "execution_count": 111,
   "metadata": {},
   "outputs": [
    {
     "data": {
      "text/plain": [
       "type  respondent\n",
       "D     NY            8723\n",
       "      DOPD          8722\n",
       "      FPL           8722\n",
       "      AZPS          8722\n",
       "      MIDA          8721\n",
       "                    ... \n",
       "TI    PNM           8187\n",
       "NG    FPL           8186\n",
       "      GLHB          5791\n",
       "TI    GLHB          5714\n",
       "DF    SRP           4670\n",
       "Name: count, Length: 288, dtype: int64"
      ]
     },
     "execution_count": 111,
     "metadata": {},
     "output_type": "execute_result"
    }
   ],
   "source": [
    "#some blank values of type-name, looks like the same for type id\n",
    "#just how it displays, no blank type in csv file\n",
    "eia_data[['type','respondent']].value_counts().to_csv('type-respondent.csv')\n",
    "eia_data[['type','respondent']].value_counts()"
   ]
  },
  {
   "cell_type": "code",
   "execution_count": 112,
   "metadata": {},
   "outputs": [
    {
     "data": {
      "text/plain": [
       "type\n",
       "NG    665119\n",
       "TI    660101\n",
       "D     583499\n",
       "DF    578465\n",
       "Name: count, dtype: int64"
      ]
     },
     "execution_count": 112,
     "metadata": {},
     "output_type": "execute_result"
    }
   ],
   "source": [
    "eia_data['type'].value_counts()"
   ]
  },
  {
   "cell_type": "code",
   "execution_count": 123,
   "metadata": {},
   "outputs": [
    {
     "data": {
      "text/html": [
       "<div>\n",
       "<style scoped>\n",
       "    .dataframe tbody tr th:only-of-type {\n",
       "        vertical-align: middle;\n",
       "    }\n",
       "\n",
       "    .dataframe tbody tr th {\n",
       "        vertical-align: top;\n",
       "    }\n",
       "\n",
       "    .dataframe thead th {\n",
       "        text-align: right;\n",
       "    }\n",
       "</style>\n",
       "<table border=\"1\" class=\"dataframe\">\n",
       "  <thead>\n",
       "    <tr style=\"text-align: right;\">\n",
       "      <th></th>\n",
       "      <th></th>\n",
       "      <th>count</th>\n",
       "    </tr>\n",
       "    <tr>\n",
       "      <th>respondent</th>\n",
       "      <th>respondent_name</th>\n",
       "      <th></th>\n",
       "    </tr>\n",
       "  </thead>\n",
       "  <tbody>\n",
       "    <tr>\n",
       "      <th>AECI</th>\n",
       "      <th>Associated Electric Cooperative, Inc.</th>\n",
       "      <td>34722</td>\n",
       "    </tr>\n",
       "    <tr>\n",
       "      <th>AVA</th>\n",
       "      <th>Avista Corporation</th>\n",
       "      <td>34732</td>\n",
       "    </tr>\n",
       "    <tr>\n",
       "      <th>AVRN</th>\n",
       "      <th>Avangrid Renewables, LLC</th>\n",
       "      <td>17308</td>\n",
       "    </tr>\n",
       "    <tr>\n",
       "      <th>AZPS</th>\n",
       "      <th>Arizona Public Service Company</th>\n",
       "      <td>34713</td>\n",
       "    </tr>\n",
       "    <tr>\n",
       "      <th>BANC</th>\n",
       "      <th>Balancing Authority of Northern California</th>\n",
       "      <td>34703</td>\n",
       "    </tr>\n",
       "    <tr>\n",
       "      <th>...</th>\n",
       "      <th>...</th>\n",
       "      <td>...</td>\n",
       "    </tr>\n",
       "    <tr>\n",
       "      <th>WACM</th>\n",
       "      <th>Western Area Power Administration - Rocky Mountain Region</th>\n",
       "      <td>34736</td>\n",
       "    </tr>\n",
       "    <tr>\n",
       "      <th>WALC</th>\n",
       "      <th>Western Area Power Administration - Desert Southwest Region</th>\n",
       "      <td>34734</td>\n",
       "    </tr>\n",
       "    <tr>\n",
       "      <th>WAUW</th>\n",
       "      <th>Western Area Power Administration - Upper Great Plains West</th>\n",
       "      <td>34727</td>\n",
       "    </tr>\n",
       "    <tr>\n",
       "      <th>WWA</th>\n",
       "      <th>NaturEner Wind Watch, LLC</th>\n",
       "      <td>17315</td>\n",
       "    </tr>\n",
       "    <tr>\n",
       "      <th>YAD</th>\n",
       "      <th>Alcoa Power Generating, Inc. - Yadkin Division</th>\n",
       "      <td>17317</td>\n",
       "    </tr>\n",
       "  </tbody>\n",
       "</table>\n",
       "<p>77 rows × 1 columns</p>\n",
       "</div>"
      ],
      "text/plain": [
       "                                                               count\n",
       "respondent respondent_name                                          \n",
       "AECI       Associated Electric Cooperative, Inc.               34722\n",
       "AVA        Avista Corporation                                  34732\n",
       "AVRN       Avangrid Renewables, LLC                            17308\n",
       "AZPS       Arizona Public Service Company                      34713\n",
       "BANC       Balancing Authority of Northern California          34703\n",
       "...                                                              ...\n",
       "WACM       Western Area Power Administration - Rocky Mount...  34736\n",
       "WALC       Western Area Power Administration - Desert Sout...  34734\n",
       "WAUW       Western Area Power Administration - Upper Great...  34727\n",
       "WWA        NaturEner Wind Watch, LLC                           17315\n",
       "YAD        Alcoa Power Generating, Inc. - Yadkin Division      17317\n",
       "\n",
       "[77 rows x 1 columns]"
      ]
     },
     "execution_count": 123,
     "metadata": {},
     "output_type": "execute_result"
    }
   ],
   "source": [
    "pd.DataFrame(eia_data[['respondent','respondent_name']] \\\n",
    "    .value_counts()).sort_values(by='respondent') \\\n",
    "    .to_csv('respondents.csv')\n",
    "pd.DataFrame(eia_data[['respondent','respondent_name']] \\\n",
    "    .value_counts()).sort_values(by='respondent')"
   ]
  },
  {
   "attachments": {},
   "cell_type": "markdown",
   "metadata": {},
   "source": [
    "Respondents seem to include regions as well as Balancing Authorities"
   ]
  },
  {
   "cell_type": "code",
   "execution_count": 129,
   "metadata": {},
   "outputs": [
    {
     "data": {
      "text/plain": [
       "<Axes: xlabel='period'>"
      ]
     },
     "execution_count": 129,
     "metadata": {},
     "output_type": "execute_result"
    },
    {
     "data": {
      "image/png": "[encoded data removed]",
      "text/plain": [
       "<Figure size 640x480 with 1 Axes>"
      ]
     },
     "metadata": {},
     "output_type": "display_data"
    }
   ],
   "source": [
    "eia_data.query('(respondent == \"US48\" | respondent == \"CISO\") & type == \"NG\"') \\\n",
    "    .pivot(index='period',columns='respondent')['MWh'].plot()\n"
   ]
  },
  {
   "cell_type": "markdown",
   "metadata": {},
   "source": [
    "## Examine and clean the data"
   ]
  },
  {
   "cell_type": "code",
   "execution_count": 380,
   "metadata": {},
   "outputs": [
    {
     "name": "stdout",
     "output_type": "stream",
     "text": [
      "Index:   RangeIndex(start=0, stop=2503256, step=1)\n",
      "Columns: Index(['datetime', 'respondent', 'respondent_name', 'type', 'type_name',\n",
      "       'MWh'],\n",
      "      dtype='object')\n",
      "Size:    15019536\n",
      "Shape:   (2503256, 6)\n"
     ]
    }
   ],
   "source": [
    "print(\"Index:  \", eia_data.index)\n",
    "print(\"Columns:\", eia_data.columns)\n",
    "print(\"Size:   \", eia_data.size)\n",
    "print(\"Shape:  \", eia_data.shape)"
   ]
  },
  {
   "cell_type": "code",
   "execution_count": 204,
   "metadata": {},
   "outputs": [
    {
     "data": {
      "text/html": [
       "<div>\n",
       "<style scoped>\n",
       "    .dataframe tbody tr th:only-of-type {\n",
       "        vertical-align: middle;\n",
       "    }\n",
       "\n",
       "    .dataframe tbody tr th {\n",
       "        vertical-align: top;\n",
       "    }\n",
       "\n",
       "    .dataframe thead th {\n",
       "        text-align: right;\n",
       "    }\n",
       "</style>\n",
       "<table border=\"1\" class=\"dataframe\">\n",
       "  <thead>\n",
       "    <tr style=\"text-align: right;\">\n",
       "      <th></th>\n",
       "      <th>period</th>\n",
       "      <th>respondent</th>\n",
       "      <th>respondent_name</th>\n",
       "      <th>type</th>\n",
       "      <th>type_name</th>\n",
       "      <th>value</th>\n",
       "      <th>value_units</th>\n",
       "      <th>datetime</th>\n",
       "    </tr>\n",
       "  </thead>\n",
       "  <tbody>\n",
       "    <tr>\n",
       "      <th>0</th>\n",
       "      <td>2023-01-01T00</td>\n",
       "      <td>JEA</td>\n",
       "      <td>JEA</td>\n",
       "      <td>TI</td>\n",
       "      <td>Total interchange</td>\n",
       "      <td>-300.0</td>\n",
       "      <td>megawatthours</td>\n",
       "      <td>2023-01-01</td>\n",
       "    </tr>\n",
       "    <tr>\n",
       "      <th>1</th>\n",
       "      <td>2023-01-01T00</td>\n",
       "      <td>SCEG</td>\n",
       "      <td>Dominion Energy South Carolina, Inc.</td>\n",
       "      <td>DF</td>\n",
       "      <td>Day-ahead demand forecast</td>\n",
       "      <td>2450.0</td>\n",
       "      <td>megawatthours</td>\n",
       "      <td>2023-01-01</td>\n",
       "    </tr>\n",
       "    <tr>\n",
       "      <th>2</th>\n",
       "      <td>2023-01-01T00</td>\n",
       "      <td>SCEG</td>\n",
       "      <td>Dominion Energy South Carolina, Inc.</td>\n",
       "      <td>TI</td>\n",
       "      <td>Total interchange</td>\n",
       "      <td>255.0</td>\n",
       "      <td>megawatthours</td>\n",
       "      <td>2023-01-01</td>\n",
       "    </tr>\n",
       "    <tr>\n",
       "      <th>3</th>\n",
       "      <td>2023-01-01T00</td>\n",
       "      <td>SCEG</td>\n",
       "      <td>Dominion Energy South Carolina, Inc.</td>\n",
       "      <td>D</td>\n",
       "      <td>Demand</td>\n",
       "      <td>2500.0</td>\n",
       "      <td>megawatthours</td>\n",
       "      <td>2023-01-01</td>\n",
       "    </tr>\n",
       "    <tr>\n",
       "      <th>4</th>\n",
       "      <td>2023-01-01T00</td>\n",
       "      <td>FMPP</td>\n",
       "      <td>Florida Municipal Power Pool</td>\n",
       "      <td>TI</td>\n",
       "      <td>Total interchange</td>\n",
       "      <td>-42.0</td>\n",
       "      <td>megawatthours</td>\n",
       "      <td>2023-01-01</td>\n",
       "    </tr>\n",
       "  </tbody>\n",
       "</table>\n",
       "</div>"
      ],
      "text/plain": [
       "          period respondent                       respondent_name type   \n",
       "0  2023-01-01T00        JEA                                   JEA   TI  \\\n",
       "1  2023-01-01T00       SCEG  Dominion Energy South Carolina, Inc.   DF   \n",
       "2  2023-01-01T00       SCEG  Dominion Energy South Carolina, Inc.   TI   \n",
       "3  2023-01-01T00       SCEG  Dominion Energy South Carolina, Inc.    D   \n",
       "4  2023-01-01T00       FMPP          Florida Municipal Power Pool   TI   \n",
       "\n",
       "                   type_name   value    value_units   datetime  \n",
       "0          Total interchange  -300.0  megawatthours 2023-01-01  \n",
       "1  Day-ahead demand forecast  2450.0  megawatthours 2023-01-01  \n",
       "2          Total interchange   255.0  megawatthours 2023-01-01  \n",
       "3                     Demand  2500.0  megawatthours 2023-01-01  \n",
       "4          Total interchange   -42.0  megawatthours 2023-01-01  "
      ]
     },
     "execution_count": 204,
     "metadata": {},
     "output_type": "execute_result"
    }
   ],
   "source": [
    "eia_data.head()"
   ]
  },
  {
   "cell_type": "code",
   "execution_count": 205,
   "metadata": {},
   "outputs": [
    {
     "data": {
      "text/html": [
       "<div>\n",
       "<style scoped>\n",
       "    .dataframe tbody tr th:only-of-type {\n",
       "        vertical-align: middle;\n",
       "    }\n",
       "\n",
       "    .dataframe tbody tr th {\n",
       "        vertical-align: top;\n",
       "    }\n",
       "\n",
       "    .dataframe thead th {\n",
       "        text-align: right;\n",
       "    }\n",
       "</style>\n",
       "<table border=\"1\" class=\"dataframe\">\n",
       "  <thead>\n",
       "    <tr style=\"text-align: right;\">\n",
       "      <th></th>\n",
       "      <th>count</th>\n",
       "      <th>mean</th>\n",
       "      <th>min</th>\n",
       "      <th>25%</th>\n",
       "      <th>50%</th>\n",
       "      <th>75%</th>\n",
       "      <th>max</th>\n",
       "      <th>std</th>\n",
       "    </tr>\n",
       "  </thead>\n",
       "  <tbody>\n",
       "    <tr>\n",
       "      <th>value</th>\n",
       "      <td>2501916.0</td>\n",
       "      <td>14754.563427</td>\n",
       "      <td>-989940.0</td>\n",
       "      <td>230.0</td>\n",
       "      <td>1634.0</td>\n",
       "      <td>10920.0</td>\n",
       "      <td>3297048.0</td>\n",
       "      <td>51572.679781</td>\n",
       "    </tr>\n",
       "    <tr>\n",
       "      <th>datetime</th>\n",
       "      <td>2503255</td>\n",
       "      <td>2022-07-02 09:08:07.700692224</td>\n",
       "      <td>2022-01-01 00:00:00</td>\n",
       "      <td>2022-04-02 14:00:00</td>\n",
       "      <td>2022-07-02 11:00:00</td>\n",
       "      <td>2022-10-01 13:00:00</td>\n",
       "      <td>2023-01-01 00:00:00</td>\n",
       "      <td>NaN</td>\n",
       "    </tr>\n",
       "  </tbody>\n",
       "</table>\n",
       "</div>"
      ],
      "text/plain": [
       "              count                           mean                  min   \n",
       "value     2501916.0                   14754.563427            -989940.0  \\\n",
       "datetime    2503255  2022-07-02 09:08:07.700692224  2022-01-01 00:00:00   \n",
       "\n",
       "                          25%                  50%                  75%   \n",
       "value                   230.0               1634.0              10920.0  \\\n",
       "datetime  2022-04-02 14:00:00  2022-07-02 11:00:00  2022-10-01 13:00:00   \n",
       "\n",
       "                          max           std  \n",
       "value               3297048.0  51572.679781  \n",
       "datetime  2023-01-01 00:00:00           NaN  "
      ]
     },
     "execution_count": 205,
     "metadata": {},
     "output_type": "execute_result"
    }
   ],
   "source": [
    "eia_data.describe().T"
   ]
  },
  {
   "cell_type": "code",
   "execution_count": 206,
   "metadata": {},
   "outputs": [
    {
     "data": {
      "text/html": [
       "<div>\n",
       "<style scoped>\n",
       "    .dataframe tbody tr th:only-of-type {\n",
       "        vertical-align: middle;\n",
       "    }\n",
       "\n",
       "    .dataframe tbody tr th {\n",
       "        vertical-align: top;\n",
       "    }\n",
       "\n",
       "    .dataframe thead th {\n",
       "        text-align: right;\n",
       "    }\n",
       "</style>\n",
       "<table border=\"1\" class=\"dataframe\">\n",
       "  <thead>\n",
       "    <tr style=\"text-align: right;\">\n",
       "      <th></th>\n",
       "      <th>count</th>\n",
       "      <th>unique</th>\n",
       "      <th>top</th>\n",
       "      <th>freq</th>\n",
       "    </tr>\n",
       "  </thead>\n",
       "  <tbody>\n",
       "    <tr>\n",
       "      <th>period</th>\n",
       "      <td>2503256</td>\n",
       "      <td>8739</td>\n",
       "      <td>2022-01-01T00</td>\n",
       "      <td>288</td>\n",
       "    </tr>\n",
       "    <tr>\n",
       "      <th>respondent</th>\n",
       "      <td>2503256</td>\n",
       "      <td>78</td>\n",
       "      <td>DOPD</td>\n",
       "      <td>35007</td>\n",
       "    </tr>\n",
       "    <tr>\n",
       "      <th>respondent_name</th>\n",
       "      <td>2503256</td>\n",
       "      <td>78</td>\n",
       "      <td>PUD No. 1 of Douglas County</td>\n",
       "      <td>35007</td>\n",
       "    </tr>\n",
       "    <tr>\n",
       "      <th>type</th>\n",
       "      <td>2503256</td>\n",
       "      <td>5</td>\n",
       "      <td>NG</td>\n",
       "      <td>667063</td>\n",
       "    </tr>\n",
       "    <tr>\n",
       "      <th>type_name</th>\n",
       "      <td>2503256</td>\n",
       "      <td>5</td>\n",
       "      <td>Net generation</td>\n",
       "      <td>667063</td>\n",
       "    </tr>\n",
       "    <tr>\n",
       "      <th>value_units</th>\n",
       "      <td>2503256</td>\n",
       "      <td>2</td>\n",
       "      <td>megawatthours</td>\n",
       "      <td>2503255</td>\n",
       "    </tr>\n",
       "  </tbody>\n",
       "</table>\n",
       "</div>"
      ],
      "text/plain": [
       "                   count unique                          top     freq\n",
       "period           2503256   8739                2022-01-01T00      288\n",
       "respondent       2503256     78                         DOPD    35007\n",
       "respondent_name  2503256     78  PUD No. 1 of Douglas County    35007\n",
       "type             2503256      5                           NG   667063\n",
       "type_name        2503256      5               Net generation   667063\n",
       "value_units      2503256      2                megawatthours  2503255"
      ]
     },
     "execution_count": 206,
     "metadata": {},
     "output_type": "execute_result"
    }
   ],
   "source": [
    "eia_data.describe(include=[\"O\"]).T"
   ]
  },
  {
   "cell_type": "code",
   "execution_count": 207,
   "metadata": {},
   "outputs": [
    {
     "name": "stdout",
     "output_type": "stream",
     "text": [
      "8738\n",
      "8760\n"
     ]
    }
   ],
   "source": [
    "print(len(eia_data.datetime.value_counts())) #count of unique values; not much use in this case\n",
    "print(365*24)"
   ]
  },
  {
   "cell_type": "code",
   "execution_count": 209,
   "metadata": {},
   "outputs": [
    {
     "data": {
      "text/plain": [
       "<Axes: >"
      ]
     },
     "execution_count": 209,
     "metadata": {},
     "output_type": "execute_result"
    },
    {
     "data": {
      "image/png": "[encoded data removed]",
      "text/plain": [
       "<Figure size 640x480 with 1 Axes>"
      ]
     },
     "metadata": {},
     "output_type": "display_data"
    }
   ],
   "source": [
    "eia_data.datetime.hist(bins=366)"
   ]
  },
  {
   "cell_type": "markdown",
   "metadata": {},
   "source": [
    "## Access the data"
   ]
  },
  {
   "cell_type": "code",
   "execution_count": 211,
   "metadata": {},
   "outputs": [
    {
     "data": {
      "text/plain": [
       "<Axes: >"
      ]
     },
     "execution_count": 211,
     "metadata": {},
     "output_type": "execute_result"
    },
    {
     "data": {
      "image/png": "[encoded data removed]",
      "text/plain": [
       "<Figure size 640x480 with 1 Axes>"
      ]
     },
     "metadata": {},
     "output_type": "display_data"
    }
   ],
   "source": [
    "eia_data.query(\"type == 'NG'\").value.hist(bins=20)"
   ]
  },
  {
   "cell_type": "code",
   "execution_count": 212,
   "metadata": {},
   "outputs": [
    {
     "data": {
      "text/plain": [
       "<Axes: >"
      ]
     },
     "execution_count": 212,
     "metadata": {},
     "output_type": "execute_result"
    },
    {
     "data": {
      "image/png": "[encoded data removed]",
      "text/plain": [
       "<Figure size 640x480 with 1 Axes>"
      ]
     },
     "metadata": {},
     "output_type": "display_data"
    }
   ],
   "source": [
    "eia_data.query(\"type == 'D'\").value.hist(bins=20)"
   ]
  },
  {
   "cell_type": "code",
   "execution_count": 213,
   "metadata": {},
   "outputs": [
    {
     "data": {
      "text/html": [
       "<div>\n",
       "<style scoped>\n",
       "    .dataframe tbody tr th:only-of-type {\n",
       "        vertical-align: middle;\n",
       "    }\n",
       "\n",
       "    .dataframe tbody tr th {\n",
       "        vertical-align: top;\n",
       "    }\n",
       "\n",
       "    .dataframe thead th {\n",
       "        text-align: right;\n",
       "    }\n",
       "</style>\n",
       "<table border=\"1\" class=\"dataframe\">\n",
       "  <thead>\n",
       "    <tr style=\"text-align: right;\">\n",
       "      <th></th>\n",
       "      <th>period</th>\n",
       "      <th>respondent</th>\n",
       "      <th>respondent_name</th>\n",
       "      <th>type</th>\n",
       "      <th>type_name</th>\n",
       "      <th>value</th>\n",
       "      <th>value_units</th>\n",
       "      <th>datetime</th>\n",
       "    </tr>\n",
       "  </thead>\n",
       "  <tbody>\n",
       "    <tr>\n",
       "      <th>1881740</th>\n",
       "      <td>2022-04-01T23</td>\n",
       "      <td>NE</td>\n",
       "      <td>New England</td>\n",
       "      <td>D</td>\n",
       "      <td>Demand</td>\n",
       "      <td>13002.0</td>\n",
       "      <td>megawatthours</td>\n",
       "      <td>2022-04-01 23:00:00</td>\n",
       "    </tr>\n",
       "    <tr>\n",
       "      <th>1881741</th>\n",
       "      <td>2022-04-01T23</td>\n",
       "      <td>TEN</td>\n",
       "      <td>Tennessee</td>\n",
       "      <td>TI</td>\n",
       "      <td>Total interchange</td>\n",
       "      <td>-1126.0</td>\n",
       "      <td>megawatthours</td>\n",
       "      <td>2022-04-01 23:00:00</td>\n",
       "    </tr>\n",
       "    <tr>\n",
       "      <th>1881742</th>\n",
       "      <td>2022-04-01T23</td>\n",
       "      <td>NY</td>\n",
       "      <td>New York</td>\n",
       "      <td>DF</td>\n",
       "      <td>Day-ahead demand forecast</td>\n",
       "      <td>17029.0</td>\n",
       "      <td>megawatthours</td>\n",
       "      <td>2022-04-01 23:00:00</td>\n",
       "    </tr>\n",
       "    <tr>\n",
       "      <th>1881743</th>\n",
       "      <td>2022-04-01T23</td>\n",
       "      <td>TEX</td>\n",
       "      <td>Texas</td>\n",
       "      <td>D</td>\n",
       "      <td>Demand</td>\n",
       "      <td>44322.0</td>\n",
       "      <td>megawatthours</td>\n",
       "      <td>2022-04-01 23:00:00</td>\n",
       "    </tr>\n",
       "    <tr>\n",
       "      <th>1881744</th>\n",
       "      <td>2022-04-01T23</td>\n",
       "      <td>NE</td>\n",
       "      <td>New England</td>\n",
       "      <td>TI</td>\n",
       "      <td>Total interchange</td>\n",
       "      <td>-1369.0</td>\n",
       "      <td>megawatthours</td>\n",
       "      <td>2022-04-01 23:00:00</td>\n",
       "    </tr>\n",
       "  </tbody>\n",
       "</table>\n",
       "</div>"
      ],
      "text/plain": [
       "                period respondent respondent_name type   \n",
       "1881740  2022-04-01T23         NE     New England    D  \\\n",
       "1881741  2022-04-01T23        TEN       Tennessee   TI   \n",
       "1881742  2022-04-01T23         NY        New York   DF   \n",
       "1881743  2022-04-01T23        TEX           Texas    D   \n",
       "1881744  2022-04-01T23         NE     New England   TI   \n",
       "\n",
       "                         type_name    value    value_units            datetime  \n",
       "1881740                     Demand  13002.0  megawatthours 2022-04-01 23:00:00  \n",
       "1881741          Total interchange  -1126.0  megawatthours 2022-04-01 23:00:00  \n",
       "1881742  Day-ahead demand forecast  17029.0  megawatthours 2022-04-01 23:00:00  \n",
       "1881743                     Demand  44322.0  megawatthours 2022-04-01 23:00:00  \n",
       "1881744          Total interchange  -1369.0  megawatthours 2022-04-01 23:00:00  "
      ]
     },
     "execution_count": 213,
     "metadata": {},
     "output_type": "execute_result"
    }
   ],
   "source": [
    "eia_data.query('20220401 < datetime < 20220402').head()"
   ]
  },
  {
   "cell_type": "code",
   "execution_count": 214,
   "metadata": {},
   "outputs": [
    {
     "data": {
      "text/html": [
       "<div>\n",
       "<style scoped>\n",
       "    .dataframe tbody tr th:only-of-type {\n",
       "        vertical-align: middle;\n",
       "    }\n",
       "\n",
       "    .dataframe tbody tr th {\n",
       "        vertical-align: top;\n",
       "    }\n",
       "\n",
       "    .dataframe thead th {\n",
       "        text-align: right;\n",
       "    }\n",
       "</style>\n",
       "<table border=\"1\" class=\"dataframe\">\n",
       "  <thead>\n",
       "    <tr style=\"text-align: right;\">\n",
       "      <th></th>\n",
       "      <th>period</th>\n",
       "      <th>respondent</th>\n",
       "      <th>respondent_name</th>\n",
       "      <th>type</th>\n",
       "      <th>type_name</th>\n",
       "      <th>value</th>\n",
       "      <th>value_units</th>\n",
       "      <th>datetime</th>\n",
       "    </tr>\n",
       "  </thead>\n",
       "  <tbody>\n",
       "    <tr>\n",
       "      <th>32</th>\n",
       "      <td>2023-01-01T00</td>\n",
       "      <td>CISO</td>\n",
       "      <td>California Independent System Operator</td>\n",
       "      <td>D</td>\n",
       "      <td>Demand</td>\n",
       "      <td>24007.0</td>\n",
       "      <td>megawatthours</td>\n",
       "      <td>2023-01-01 00:00:00</td>\n",
       "    </tr>\n",
       "    <tr>\n",
       "      <th>72</th>\n",
       "      <td>2023-01-01T00</td>\n",
       "      <td>CISO</td>\n",
       "      <td>California Independent System Operator</td>\n",
       "      <td>TI</td>\n",
       "      <td>Total interchange</td>\n",
       "      <td>-6110.0</td>\n",
       "      <td>megawatthours</td>\n",
       "      <td>2023-01-01 00:00:00</td>\n",
       "    </tr>\n",
       "    <tr>\n",
       "      <th>92</th>\n",
       "      <td>2023-01-01T00</td>\n",
       "      <td>CISO</td>\n",
       "      <td>California Independent System Operator</td>\n",
       "      <td>DF</td>\n",
       "      <td>Day-ahead demand forecast</td>\n",
       "      <td>23703.0</td>\n",
       "      <td>megawatthours</td>\n",
       "      <td>2023-01-01 00:00:00</td>\n",
       "    </tr>\n",
       "    <tr>\n",
       "      <th>264</th>\n",
       "      <td>2023-01-01T00</td>\n",
       "      <td>CISO</td>\n",
       "      <td>California Independent System Operator</td>\n",
       "      <td>NG</td>\n",
       "      <td>Net generation</td>\n",
       "      <td>18024.0</td>\n",
       "      <td>megawatthours</td>\n",
       "      <td>2023-01-01 00:00:00</td>\n",
       "    </tr>\n",
       "    <tr>\n",
       "      <th>318</th>\n",
       "      <td>2022-12-31T23</td>\n",
       "      <td>CISO</td>\n",
       "      <td>California Independent System Operator</td>\n",
       "      <td>D</td>\n",
       "      <td>Demand</td>\n",
       "      <td>24051.0</td>\n",
       "      <td>megawatthours</td>\n",
       "      <td>2022-12-31 23:00:00</td>\n",
       "    </tr>\n",
       "  </tbody>\n",
       "</table>\n",
       "</div>"
      ],
      "text/plain": [
       "            period respondent                         respondent_name type   \n",
       "32   2023-01-01T00       CISO  California Independent System Operator    D  \\\n",
       "72   2023-01-01T00       CISO  California Independent System Operator   TI   \n",
       "92   2023-01-01T00       CISO  California Independent System Operator   DF   \n",
       "264  2023-01-01T00       CISO  California Independent System Operator   NG   \n",
       "318  2022-12-31T23       CISO  California Independent System Operator    D   \n",
       "\n",
       "                     type_name    value    value_units            datetime  \n",
       "32                      Demand  24007.0  megawatthours 2023-01-01 00:00:00  \n",
       "72           Total interchange  -6110.0  megawatthours 2023-01-01 00:00:00  \n",
       "92   Day-ahead demand forecast  23703.0  megawatthours 2023-01-01 00:00:00  \n",
       "264             Net generation  18024.0  megawatthours 2023-01-01 00:00:00  \n",
       "318                     Demand  24051.0  megawatthours 2022-12-31 23:00:00  "
      ]
     },
     "execution_count": 214,
     "metadata": {},
     "output_type": "execute_result"
    }
   ],
   "source": [
    "eia_data.query('respondent == \"CISO\"').head()"
   ]
  },
  {
   "cell_type": "code",
   "execution_count": null,
   "metadata": {},
   "outputs": [],
   "source": [
    "# use backticks if a column name contains spaces\n",
    "#mortality_data.query('Year == 2000 and `AgeGroup` != \"1-4 Years\"')"
   ]
  },
  {
   "cell_type": "markdown",
   "metadata": {},
   "source": [
    "### Access a subset of rows and columns"
   ]
  },
  {
   "cell_type": "code",
   "execution_count": 215,
   "metadata": {},
   "outputs": [
    {
     "data": {
      "text/plain": [
       "26     6997.0\n",
       "100    7257.0\n",
       "139    9792.0\n",
       "283    7509.0\n",
       "351    6951.0\n",
       "Name: value, dtype: float64"
      ]
     },
     "execution_count": 215,
     "metadata": {},
     "output_type": "execute_result"
    }
   ],
   "source": [
    "eia_data.query('respondent_name == \"Bonneville Power Administration\"').value.head()"
   ]
  },
  {
   "cell_type": "code",
   "execution_count": 216,
   "metadata": {},
   "outputs": [
    {
     "data": {
      "text/html": [
       "<div>\n",
       "<style scoped>\n",
       "    .dataframe tbody tr th:only-of-type {\n",
       "        vertical-align: middle;\n",
       "    }\n",
       "\n",
       "    .dataframe tbody tr th {\n",
       "        vertical-align: top;\n",
       "    }\n",
       "\n",
       "    .dataframe thead th {\n",
       "        text-align: right;\n",
       "    }\n",
       "</style>\n",
       "<table border=\"1\" class=\"dataframe\">\n",
       "  <thead>\n",
       "    <tr style=\"text-align: right;\">\n",
       "      <th></th>\n",
       "      <th>type</th>\n",
       "      <th>value</th>\n",
       "    </tr>\n",
       "  </thead>\n",
       "  <tbody>\n",
       "    <tr>\n",
       "      <th>26</th>\n",
       "      <td>D</td>\n",
       "      <td>6997.0</td>\n",
       "    </tr>\n",
       "    <tr>\n",
       "      <th>100</th>\n",
       "      <td>DF</td>\n",
       "      <td>7257.0</td>\n",
       "    </tr>\n",
       "    <tr>\n",
       "      <th>139</th>\n",
       "      <td>NG</td>\n",
       "      <td>9792.0</td>\n",
       "    </tr>\n",
       "    <tr>\n",
       "      <th>283</th>\n",
       "      <td>TI</td>\n",
       "      <td>7509.0</td>\n",
       "    </tr>\n",
       "    <tr>\n",
       "      <th>351</th>\n",
       "      <td>D</td>\n",
       "      <td>6951.0</td>\n",
       "    </tr>\n",
       "  </tbody>\n",
       "</table>\n",
       "</div>"
      ],
      "text/plain": [
       "    type   value\n",
       "26     D  6997.0\n",
       "100   DF  7257.0\n",
       "139   NG  9792.0\n",
       "283   TI  7509.0\n",
       "351    D  6951.0"
      ]
     },
     "execution_count": 216,
     "metadata": {},
     "output_type": "execute_result"
    }
   ],
   "source": [
    "eia_data.query('respondent_name == \"Bonneville Power Administration\"')[['type', 'value']].head()"
   ]
  },
  {
   "cell_type": "code",
   "execution_count": 217,
   "metadata": {},
   "outputs": [
    {
     "data": {
      "text/html": [
       "<div>\n",
       "<style scoped>\n",
       "    .dataframe tbody tr th:only-of-type {\n",
       "        vertical-align: middle;\n",
       "    }\n",
       "\n",
       "    .dataframe tbody tr th {\n",
       "        vertical-align: top;\n",
       "    }\n",
       "\n",
       "    .dataframe thead th {\n",
       "        text-align: right;\n",
       "    }\n",
       "</style>\n",
       "<table border=\"1\" class=\"dataframe\">\n",
       "  <thead>\n",
       "    <tr style=\"text-align: right;\">\n",
       "      <th></th>\n",
       "      <th>datetime</th>\n",
       "      <th>value</th>\n",
       "    </tr>\n",
       "  </thead>\n",
       "  <tbody>\n",
       "    <tr>\n",
       "      <th>1681304</th>\n",
       "      <td>2022-04-30 23:00:00</td>\n",
       "      <td>5817.0</td>\n",
       "    </tr>\n",
       "    <tr>\n",
       "      <th>1681429</th>\n",
       "      <td>2022-04-30 23:00:00</td>\n",
       "      <td>5668.0</td>\n",
       "    </tr>\n",
       "    <tr>\n",
       "      <th>1681432</th>\n",
       "      <td>2022-04-30 23:00:00</td>\n",
       "      <td>2862.0</td>\n",
       "    </tr>\n",
       "    <tr>\n",
       "      <th>1681516</th>\n",
       "      <td>2022-04-30 23:00:00</td>\n",
       "      <td>5678.0</td>\n",
       "    </tr>\n",
       "    <tr>\n",
       "      <th>1681616</th>\n",
       "      <td>2022-04-30 22:00:00</td>\n",
       "      <td>5710.0</td>\n",
       "    </tr>\n",
       "  </tbody>\n",
       "</table>\n",
       "</div>"
      ],
      "text/plain": [
       "                   datetime   value\n",
       "1681304 2022-04-30 23:00:00  5817.0\n",
       "1681429 2022-04-30 23:00:00  5668.0\n",
       "1681432 2022-04-30 23:00:00  2862.0\n",
       "1681516 2022-04-30 23:00:00  5678.0\n",
       "1681616 2022-04-30 22:00:00  5710.0"
      ]
     },
     "execution_count": 217,
     "metadata": {},
     "output_type": "execute_result"
    }
   ],
   "source": [
    "eia_data.query('20220401 <= datetime < 20220501 and respondent_name == \"Bonneville Power Administration\"') \\\n",
    "    [['datetime','value']].head()"
   ]
  },
  {
   "cell_type": "code",
   "execution_count": 257,
   "metadata": {},
   "outputs": [
    {
     "data": {
      "text/html": [
       "<div>\n",
       "<style scoped>\n",
       "    .dataframe tbody tr th:only-of-type {\n",
       "        vertical-align: middle;\n",
       "    }\n",
       "\n",
       "    .dataframe tbody tr th {\n",
       "        vertical-align: top;\n",
       "    }\n",
       "\n",
       "    .dataframe thead th {\n",
       "        text-align: right;\n",
       "    }\n",
       "</style>\n",
       "<table border=\"1\" class=\"dataframe\">\n",
       "  <thead>\n",
       "    <tr style=\"text-align: right;\">\n",
       "      <th></th>\n",
       "      <th>datetime</th>\n",
       "      <th>type</th>\n",
       "      <th>type_name</th>\n",
       "      <th>value</th>\n",
       "    </tr>\n",
       "  </thead>\n",
       "  <tbody>\n",
       "    <tr>\n",
       "      <th>139</th>\n",
       "      <td>2023-01-01 00:00:00</td>\n",
       "      <td>NG</td>\n",
       "      <td>Net generation</td>\n",
       "      <td>9792.0</td>\n",
       "    </tr>\n",
       "    <tr>\n",
       "      <th>566</th>\n",
       "      <td>2022-12-31 23:00:00</td>\n",
       "      <td>NG</td>\n",
       "      <td>Net generation</td>\n",
       "      <td>9813.0</td>\n",
       "    </tr>\n",
       "    <tr>\n",
       "      <th>728</th>\n",
       "      <td>2022-12-31 22:00:00</td>\n",
       "      <td>NG</td>\n",
       "      <td>Net generation</td>\n",
       "      <td>10131.0</td>\n",
       "    </tr>\n",
       "    <tr>\n",
       "      <th>1134</th>\n",
       "      <td>2022-12-31 21:00:00</td>\n",
       "      <td>NG</td>\n",
       "      <td>Net generation</td>\n",
       "      <td>10355.0</td>\n",
       "    </tr>\n",
       "    <tr>\n",
       "      <th>1299</th>\n",
       "      <td>2022-12-31 20:00:00</td>\n",
       "      <td>NG</td>\n",
       "      <td>Net generation</td>\n",
       "      <td>10564.0</td>\n",
       "    </tr>\n",
       "  </tbody>\n",
       "</table>\n",
       "</div>"
      ],
      "text/plain": [
       "                datetime type       type_name    value\n",
       "139  2023-01-01 00:00:00   NG  Net generation   9792.0\n",
       "566  2022-12-31 23:00:00   NG  Net generation   9813.0\n",
       "728  2022-12-31 22:00:00   NG  Net generation  10131.0\n",
       "1134 2022-12-31 21:00:00   NG  Net generation  10355.0\n",
       "1299 2022-12-31 20:00:00   NG  Net generation  10564.0"
      ]
     },
     "execution_count": 257,
     "metadata": {},
     "output_type": "execute_result"
    }
   ],
   "source": [
    "bpat_data = eia_data.query('respondent == \"BPAT\"')[['datetime','type','type_name','value']]\n",
    "bpat_netgen = bpat_data.query('type == \"NG\"')\n",
    "bpat_netgen.head()"
   ]
  },
  {
   "cell_type": "code",
   "execution_count": 219,
   "metadata": {},
   "outputs": [
    {
     "data": {
      "text/html": [
       "<div>\n",
       "<style scoped>\n",
       "    .dataframe tbody tr th:only-of-type {\n",
       "        vertical-align: middle;\n",
       "    }\n",
       "\n",
       "    .dataframe tbody tr th {\n",
       "        vertical-align: top;\n",
       "    }\n",
       "\n",
       "    .dataframe thead th {\n",
       "        text-align: right;\n",
       "    }\n",
       "</style>\n",
       "<table border=\"1\" class=\"dataframe\">\n",
       "  <thead>\n",
       "    <tr style=\"text-align: right;\">\n",
       "      <th></th>\n",
       "      <th>datetime</th>\n",
       "      <th>type</th>\n",
       "      <th>type_name</th>\n",
       "      <th>value</th>\n",
       "    </tr>\n",
       "  </thead>\n",
       "  <tbody>\n",
       "    <tr>\n",
       "      <th>26</th>\n",
       "      <td>2023-01-01 00:00:00</td>\n",
       "      <td>D</td>\n",
       "      <td>Demand</td>\n",
       "      <td>6997.0</td>\n",
       "    </tr>\n",
       "    <tr>\n",
       "      <th>100</th>\n",
       "      <td>2023-01-01 00:00:00</td>\n",
       "      <td>DF</td>\n",
       "      <td>Day-ahead demand forecast</td>\n",
       "      <td>7257.0</td>\n",
       "    </tr>\n",
       "    <tr>\n",
       "      <th>139</th>\n",
       "      <td>2023-01-01 00:00:00</td>\n",
       "      <td>NG</td>\n",
       "      <td>Net generation</td>\n",
       "      <td>9792.0</td>\n",
       "    </tr>\n",
       "    <tr>\n",
       "      <th>283</th>\n",
       "      <td>2023-01-01 00:00:00</td>\n",
       "      <td>TI</td>\n",
       "      <td>Total interchange</td>\n",
       "      <td>7509.0</td>\n",
       "    </tr>\n",
       "    <tr>\n",
       "      <th>351</th>\n",
       "      <td>2022-12-31 23:00:00</td>\n",
       "      <td>D</td>\n",
       "      <td>Demand</td>\n",
       "      <td>6951.0</td>\n",
       "    </tr>\n",
       "  </tbody>\n",
       "</table>\n",
       "</div>"
      ],
      "text/plain": [
       "               datetime type                  type_name   value\n",
       "26  2023-01-01 00:00:00    D                     Demand  6997.0\n",
       "100 2023-01-01 00:00:00   DF  Day-ahead demand forecast  7257.0\n",
       "139 2023-01-01 00:00:00   NG             Net generation  9792.0\n",
       "283 2023-01-01 00:00:00   TI          Total interchange  7509.0\n",
       "351 2022-12-31 23:00:00    D                     Demand  6951.0"
      ]
     },
     "execution_count": 219,
     "metadata": {},
     "output_type": "execute_result"
    }
   ],
   "source": [
    "bpat_data.head()"
   ]
  },
  {
   "cell_type": "markdown",
   "metadata": {},
   "source": [
    "### Apply statistical methods"
   ]
  },
  {
   "cell_type": "code",
   "execution_count": 220,
   "metadata": {},
   "outputs": [
    {
     "data": {
      "text/plain": [
       "<Axes: >"
      ]
     },
     "execution_count": 220,
     "metadata": {},
     "output_type": "execute_result"
    },
    {
     "data": {
      "image/png": "[encoded data removed]",
      "text/plain": [
       "<Figure size 640x480 with 1 Axes>"
      ]
     },
     "metadata": {},
     "output_type": "display_data"
    }
   ],
   "source": [
    "bpat_netgen.value.hist(bins=20)"
   ]
  },
  {
   "cell_type": "code",
   "execution_count": 221,
   "metadata": {},
   "outputs": [
    {
     "name": "stdout",
     "output_type": "stream",
     "text": [
      "11216.500229990801\n"
     ]
    }
   ],
   "source": [
    "#mean = sum of values / number of values\n",
    "bpng_mu = bpat_netgen['value'].mean()\n",
    "print(bpng_mu)"
   ]
  },
  {
   "cell_type": "code",
   "execution_count": 222,
   "metadata": {},
   "outputs": [
    {
     "name": "stdout",
     "output_type": "stream",
     "text": [
      "2661.423566115476\n"
     ]
    }
   ],
   "source": [
    "#standard deviation = sqrt of variance = sqrt(sum(square of mean-value for each data point)/(n-1))\n",
    "#note: denominator is N (vs n-1) if standard dev and variance are calculated from entire population\n",
    "bpng_sigma = bpat_netgen['value'].std()\n",
    "print(bpng_sigma)"
   ]
  },
  {
   "cell_type": "code",
   "execution_count": 223,
   "metadata": {},
   "outputs": [
    {
     "name": "stdout",
     "output_type": "stream",
     "text": [
      "BPAT's hourly net generation was 11216.500229990801 +/- 5216.390189586334\n",
      "BPAT's hourly net generation was 11216.500229990801 +/- 5216.390189586334 95% of the time\n"
     ]
    }
   ],
   "source": [
    "#95% confidence interval is mean +/- 2 stdev (or 1.96 stdev)\n",
    "#We have the whole population of net generation from 2022 so we don't have to infer anything from a sample\n",
    "#Unless we treat 2022 data as a sample from which to infer values for another time frame, i.e. the future\n",
    "#Not a representative sample though if the system changes (new generation sources, old ones decommision, demand changes,)\n",
    "print (\"BPAT's hourly net generation was {} +/- {}\".format(bpng_mu,1.96*bpng_sigma))\n",
    "print(f\"BPAT's hourly net generation was {bpng_mu} +/- {1.96*bpng_sigma} 95% of the time\")"
   ]
  },
  {
   "cell_type": "code",
   "execution_count": 224,
   "metadata": {},
   "outputs": [],
   "source": [
    "bpat_netgen = pd.DataFrame(bpat_netgen)\n",
    "bpat_netgen['outlier'] = bpat_netgen['value'].apply(\n",
    "        lambda x: \n",
    "        True \n",
    "        if ( x > bpng_mu + 1.96*bpng_sigma or x < bpng_mu - 1.96*bpng_sigma)  \n",
    "        else False \n",
    "            )\n"
   ]
  },
  {
   "cell_type": "code",
   "execution_count": 225,
   "metadata": {},
   "outputs": [
    {
     "data": {
      "text/plain": [
       "outlier\n",
       "False    8540\n",
       "True      156\n",
       "Name: count, dtype: int64"
      ]
     },
     "execution_count": 225,
     "metadata": {},
     "output_type": "execute_result"
    }
   ],
   "source": [
    "bpat_netgen.outlier.value_counts()"
   ]
  },
  {
   "cell_type": "code",
   "execution_count": 226,
   "metadata": {},
   "outputs": [
    {
     "data": {
      "text/plain": [
       "11249.0"
      ]
     },
     "execution_count": 226,
     "metadata": {},
     "output_type": "execute_result"
    }
   ],
   "source": [
    "# line you draw for equal number of cases on either side\n",
    "bpat_netgen.value.median()"
   ]
  },
  {
   "cell_type": "code",
   "execution_count": 227,
   "metadata": {},
   "outputs": [
    {
     "data": {
      "text/plain": [
       "17858.0"
      ]
     },
     "execution_count": 227,
     "metadata": {},
     "output_type": "execute_result"
    }
   ],
   "source": [
    "bpat_netgen['value'].max()"
   ]
  },
  {
   "cell_type": "code",
   "execution_count": 228,
   "metadata": {},
   "outputs": [
    {
     "data": {
      "text/plain": [
       "datetime     8696\n",
       "type         8696\n",
       "type_name    8696\n",
       "value        8696\n",
       "outlier      8696\n",
       "dtype: int64"
      ]
     },
     "execution_count": 228,
     "metadata": {},
     "output_type": "execute_result"
    }
   ],
   "source": [
    "bpat_netgen.count()"
   ]
  },
  {
   "cell_type": "code",
   "execution_count": 229,
   "metadata": {},
   "outputs": [
    {
     "data": {
      "text/plain": [
       "[0.0,\n",
       " 0.05,\n",
       " 0.1,\n",
       " 0.15,\n",
       " 0.2,\n",
       " 0.25,\n",
       " 0.3,\n",
       " 0.35,\n",
       " 0.4,\n",
       " 0.45,\n",
       " 0.5,\n",
       " 0.55,\n",
       " 0.6,\n",
       " 0.65,\n",
       " 0.7,\n",
       " 0.75,\n",
       " 0.8,\n",
       " 0.85,\n",
       " 0.9,\n",
       " 0.95]"
      ]
     },
     "execution_count": 229,
     "metadata": {},
     "output_type": "execute_result"
    }
   ],
   "source": [
    "[i/20 for i in range(0,20)]"
   ]
  },
  {
   "cell_type": "code",
   "execution_count": 230,
   "metadata": {},
   "outputs": [
    {
     "data": {
      "text/plain": [
       "11249.0"
      ]
     },
     "execution_count": 230,
     "metadata": {},
     "output_type": "execute_result"
    }
   ],
   "source": [
    "bpat_netgen.value.quantile(0.5)"
   ]
  },
  {
   "cell_type": "code",
   "execution_count": 231,
   "metadata": {},
   "outputs": [
    {
     "data": {
      "text/plain": [
       "8696"
      ]
     },
     "execution_count": 231,
     "metadata": {},
     "output_type": "execute_result"
    }
   ],
   "source": [
    "len(bpat_netgen)"
   ]
  },
  {
   "cell_type": "code",
   "execution_count": 232,
   "metadata": {},
   "outputs": [
    {
     "data": {
      "text/plain": [
       "0.00     5566.00\n",
       "0.05     6812.75\n",
       "0.10     7557.00\n",
       "0.15     8165.75\n",
       "0.20     8659.00\n",
       "0.25     9131.00\n",
       "0.30     9610.50\n",
       "0.35    10066.00\n",
       "0.40    10448.00\n",
       "0.45    10864.00\n",
       "0.50    11249.00\n",
       "0.55    11646.00\n",
       "0.60    12032.00\n",
       "0.65    12418.75\n",
       "0.70    12832.50\n",
       "0.75    13263.25\n",
       "0.80    13738.00\n",
       "0.85    14232.00\n",
       "0.90    14865.00\n",
       "0.95    15499.25\n",
       "Name: value, dtype: float64"
      ]
     },
     "execution_count": 232,
     "metadata": {},
     "output_type": "execute_result"
    }
   ],
   "source": [
    "bpng_dist = bpat_netgen.value.quantile([i/20 for i in range(0,20)])\n",
    "bpng_dist"
   ]
  },
  {
   "cell_type": "code",
   "execution_count": 233,
   "metadata": {},
   "outputs": [
    {
     "name": "stdout",
     "output_type": "stream",
     "text": [
      "<class 'pandas.core.series.Series'>\n",
      "Index: 20 entries, 0.0 to 0.95\n",
      "Series name: value\n",
      "Non-Null Count  Dtype  \n",
      "--------------  -----  \n",
      "20 non-null     float64\n",
      "dtypes: float64(1)\n",
      "memory usage: 320.0 bytes\n"
     ]
    }
   ],
   "source": [
    "bpng_dist.info()"
   ]
  },
  {
   "cell_type": "code",
   "execution_count": 234,
   "metadata": {},
   "outputs": [],
   "source": [
    "#bins of 20 percentile cuts\n",
    "\n",
    "#bpng_dist[\"quantile\"] = bpng_dist.index\n",
    "#bpng_dist\n"
   ]
  },
  {
   "cell_type": "code",
   "execution_count": 235,
   "metadata": {},
   "outputs": [
    {
     "data": {
      "text/plain": [
       "<Axes: >"
      ]
     },
     "execution_count": 235,
     "metadata": {},
     "output_type": "execute_result"
    },
    {
     "data": {
      "image/png": "[encoded data removed]",
      "text/plain": [
       "<Figure size 640x480 with 1 Axes>"
      ]
     },
     "metadata": {},
     "output_type": "display_data"
    }
   ],
   "source": [
    "bpng_dist.plot.line(y=\"quantile\", x = \"value\")"
   ]
  },
  {
   "cell_type": "code",
   "execution_count": 236,
   "metadata": {},
   "outputs": [
    {
     "data": {
      "text/html": [
       "<div>\n",
       "<style scoped>\n",
       "    .dataframe tbody tr th:only-of-type {\n",
       "        vertical-align: middle;\n",
       "    }\n",
       "\n",
       "    .dataframe tbody tr th {\n",
       "        vertical-align: top;\n",
       "    }\n",
       "\n",
       "    .dataframe thead th {\n",
       "        text-align: right;\n",
       "    }\n",
       "</style>\n",
       "<table border=\"1\" class=\"dataframe\">\n",
       "  <thead>\n",
       "    <tr style=\"text-align: right;\">\n",
       "      <th></th>\n",
       "      <th>datetime</th>\n",
       "      <th>type</th>\n",
       "      <th>type_name</th>\n",
       "      <th>value</th>\n",
       "      <th>outlier</th>\n",
       "      <th>CumValue</th>\n",
       "    </tr>\n",
       "  </thead>\n",
       "  <tbody>\n",
       "    <tr>\n",
       "      <th>139</th>\n",
       "      <td>2023-01-01 00:00:00</td>\n",
       "      <td>NG</td>\n",
       "      <td>Net generation</td>\n",
       "      <td>9792.0</td>\n",
       "      <td>False</td>\n",
       "      <td>9792.0</td>\n",
       "    </tr>\n",
       "    <tr>\n",
       "      <th>566</th>\n",
       "      <td>2022-12-31 23:00:00</td>\n",
       "      <td>NG</td>\n",
       "      <td>Net generation</td>\n",
       "      <td>9813.0</td>\n",
       "      <td>False</td>\n",
       "      <td>19605.0</td>\n",
       "    </tr>\n",
       "    <tr>\n",
       "      <th>728</th>\n",
       "      <td>2022-12-31 22:00:00</td>\n",
       "      <td>NG</td>\n",
       "      <td>Net generation</td>\n",
       "      <td>10131.0</td>\n",
       "      <td>False</td>\n",
       "      <td>29736.0</td>\n",
       "    </tr>\n",
       "    <tr>\n",
       "      <th>1134</th>\n",
       "      <td>2022-12-31 21:00:00</td>\n",
       "      <td>NG</td>\n",
       "      <td>Net generation</td>\n",
       "      <td>10355.0</td>\n",
       "      <td>False</td>\n",
       "      <td>40091.0</td>\n",
       "    </tr>\n",
       "    <tr>\n",
       "      <th>1299</th>\n",
       "      <td>2022-12-31 20:00:00</td>\n",
       "      <td>NG</td>\n",
       "      <td>Net generation</td>\n",
       "      <td>10564.0</td>\n",
       "      <td>False</td>\n",
       "      <td>50655.0</td>\n",
       "    </tr>\n",
       "    <tr>\n",
       "      <th>...</th>\n",
       "      <td>...</td>\n",
       "      <td>...</td>\n",
       "      <td>...</td>\n",
       "      <td>...</td>\n",
       "      <td>...</td>\n",
       "      <td>...</td>\n",
       "    </tr>\n",
       "    <tr>\n",
       "      <th>2501941</th>\n",
       "      <td>2022-01-01 04:00:00</td>\n",
       "      <td>NG</td>\n",
       "      <td>Net generation</td>\n",
       "      <td>14665.0</td>\n",
       "      <td>False</td>\n",
       "      <td>97480296.0</td>\n",
       "    </tr>\n",
       "    <tr>\n",
       "      <th>2502227</th>\n",
       "      <td>2022-01-01 03:00:00</td>\n",
       "      <td>NG</td>\n",
       "      <td>Net generation</td>\n",
       "      <td>15047.0</td>\n",
       "      <td>False</td>\n",
       "      <td>97495343.0</td>\n",
       "    </tr>\n",
       "    <tr>\n",
       "      <th>2502529</th>\n",
       "      <td>2022-01-01 02:00:00</td>\n",
       "      <td>NG</td>\n",
       "      <td>Net generation</td>\n",
       "      <td>14903.0</td>\n",
       "      <td>False</td>\n",
       "      <td>97510246.0</td>\n",
       "    </tr>\n",
       "    <tr>\n",
       "      <th>2502790</th>\n",
       "      <td>2022-01-01 01:00:00</td>\n",
       "      <td>NG</td>\n",
       "      <td>Net generation</td>\n",
       "      <td>14482.0</td>\n",
       "      <td>False</td>\n",
       "      <td>97524728.0</td>\n",
       "    </tr>\n",
       "    <tr>\n",
       "      <th>2503163</th>\n",
       "      <td>2022-01-01 00:00:00</td>\n",
       "      <td>NG</td>\n",
       "      <td>Net generation</td>\n",
       "      <td>13958.0</td>\n",
       "      <td>False</td>\n",
       "      <td>97538686.0</td>\n",
       "    </tr>\n",
       "  </tbody>\n",
       "</table>\n",
       "<p>8696 rows × 6 columns</p>\n",
       "</div>"
      ],
      "text/plain": [
       "                   datetime type       type_name    value  outlier    CumValue\n",
       "139     2023-01-01 00:00:00   NG  Net generation   9792.0    False      9792.0\n",
       "566     2022-12-31 23:00:00   NG  Net generation   9813.0    False     19605.0\n",
       "728     2022-12-31 22:00:00   NG  Net generation  10131.0    False     29736.0\n",
       "1134    2022-12-31 21:00:00   NG  Net generation  10355.0    False     40091.0\n",
       "1299    2022-12-31 20:00:00   NG  Net generation  10564.0    False     50655.0\n",
       "...                     ...  ...             ...      ...      ...         ...\n",
       "2501941 2022-01-01 04:00:00   NG  Net generation  14665.0    False  97480296.0\n",
       "2502227 2022-01-01 03:00:00   NG  Net generation  15047.0    False  97495343.0\n",
       "2502529 2022-01-01 02:00:00   NG  Net generation  14903.0    False  97510246.0\n",
       "2502790 2022-01-01 01:00:00   NG  Net generation  14482.0    False  97524728.0\n",
       "2503163 2022-01-01 00:00:00   NG  Net generation  13958.0    False  97538686.0\n",
       "\n",
       "[8696 rows x 6 columns]"
      ]
     },
     "execution_count": 236,
     "metadata": {},
     "output_type": "execute_result"
    }
   ],
   "source": [
    "# compare with SUM() OVER in SQL\n",
    "bpat_netgen[\"CumValue\"] = bpat_netgen.value.cumsum()\n",
    "bpat_netgen"
   ]
  },
  {
   "cell_type": "code",
   "execution_count": 237,
   "metadata": {},
   "outputs": [
    {
     "data": {
      "text/plain": [
       "<Axes: >"
      ]
     },
     "execution_count": 237,
     "metadata": {},
     "output_type": "execute_result"
    },
    {
     "data": {
      "image/png": "[encoded data removed]",
      "text/plain": [
       "<Figure size 640x480 with 1 Axes>"
      ]
     },
     "metadata": {},
     "output_type": "display_data"
    }
   ],
   "source": [
    "bpat_netgen.plot.line( y = \"CumValue\")"
   ]
  },
  {
   "cell_type": "markdown",
   "metadata": {},
   "source": [
    "### Use Python for column arithmetic"
   ]
  },
  {
   "cell_type": "code",
   "execution_count": 259,
   "metadata": {},
   "outputs": [
    {
     "data": {
      "text/html": [
       "<div>\n",
       "<style scoped>\n",
       "    .dataframe tbody tr th:only-of-type {\n",
       "        vertical-align: middle;\n",
       "    }\n",
       "\n",
       "    .dataframe tbody tr th {\n",
       "        vertical-align: top;\n",
       "    }\n",
       "\n",
       "    .dataframe thead th {\n",
       "        text-align: right;\n",
       "    }\n",
       "</style>\n",
       "<table border=\"1\" class=\"dataframe\">\n",
       "  <thead>\n",
       "    <tr style=\"text-align: right;\">\n",
       "      <th></th>\n",
       "      <th>datetime</th>\n",
       "      <th>type</th>\n",
       "      <th>type_name</th>\n",
       "      <th>value</th>\n",
       "      <th>type_mean</th>\n",
       "      <th>MeanCentered</th>\n",
       "    </tr>\n",
       "  </thead>\n",
       "  <tbody>\n",
       "    <tr>\n",
       "      <th>26</th>\n",
       "      <td>2023-01-01 00:00:00</td>\n",
       "      <td>D</td>\n",
       "      <td>Demand</td>\n",
       "      <td>6997.0</td>\n",
       "      <td>6663.427834</td>\n",
       "      <td>333.572166</td>\n",
       "    </tr>\n",
       "    <tr>\n",
       "      <th>100</th>\n",
       "      <td>2023-01-01 00:00:00</td>\n",
       "      <td>DF</td>\n",
       "      <td>Day-ahead demand forecast</td>\n",
       "      <td>7257.0</td>\n",
       "      <td>6690.771609</td>\n",
       "      <td>566.228391</td>\n",
       "    </tr>\n",
       "    <tr>\n",
       "      <th>139</th>\n",
       "      <td>2023-01-01 00:00:00</td>\n",
       "      <td>NG</td>\n",
       "      <td>Net generation</td>\n",
       "      <td>9792.0</td>\n",
       "      <td>11217.600945</td>\n",
       "      <td>-1425.600945</td>\n",
       "    </tr>\n",
       "    <tr>\n",
       "      <th>283</th>\n",
       "      <td>2023-01-01 00:00:00</td>\n",
       "      <td>TI</td>\n",
       "      <td>Total interchange</td>\n",
       "      <td>7509.0</td>\n",
       "      <td>8313.940023</td>\n",
       "      <td>-804.940023</td>\n",
       "    </tr>\n",
       "    <tr>\n",
       "      <th>351</th>\n",
       "      <td>2022-12-31 23:00:00</td>\n",
       "      <td>D</td>\n",
       "      <td>Demand</td>\n",
       "      <td>6951.0</td>\n",
       "      <td>6663.427834</td>\n",
       "      <td>287.572166</td>\n",
       "    </tr>\n",
       "  </tbody>\n",
       "</table>\n",
       "</div>"
      ],
      "text/plain": [
       "               datetime type                  type_name   value     type_mean   \n",
       "26  2023-01-01 00:00:00    D                     Demand  6997.0   6663.427834  \\\n",
       "100 2023-01-01 00:00:00   DF  Day-ahead demand forecast  7257.0   6690.771609   \n",
       "139 2023-01-01 00:00:00   NG             Net generation  9792.0  11217.600945   \n",
       "283 2023-01-01 00:00:00   TI          Total interchange  7509.0   8313.940023   \n",
       "351 2022-12-31 23:00:00    D                     Demand  6951.0   6663.427834   \n",
       "\n",
       "     MeanCentered  \n",
       "26     333.572166  \n",
       "100    566.228391  \n",
       "139  -1425.600945  \n",
       "283   -804.940023  \n",
       "351    287.572166  "
      ]
     },
     "execution_count": 259,
     "metadata": {},
     "output_type": "execute_result"
    }
   ],
   "source": [
    "bpat_data = pd.DataFrame(bpat_data)\n",
    "bpat_mu_dict = {'NG':bpat_data.query('type == \"NG\"')['value'].mean(),\n",
    "                'D':bpat_data.query('type == \"D\"')['value'].mean(),\n",
    "                'TI':bpat_data.query('type == \"TI\"')['value'].mean(),\n",
    "                'DF':bpat_data.query('type == \"DF\"')['value'].mean()}\n",
    "bpat_data['type_mean'] = bpat_data['type'].apply(lambda t: bpat_mu_dict.get(t))\n",
    "bpat_data['MeanCentered'] = bpat_data.value - bpat_data.type_mean\n",
    "bpat_data.head()\n"
   ]
  },
  {
   "cell_type": "code",
   "execution_count": 239,
   "metadata": {},
   "outputs": [
    {
     "data": {
      "text/plain": [
       "count    3.493700e+04\n",
       "mean    -9.330020e-14\n",
       "std      1.883980e+03\n",
       "min     -8.329616e+03\n",
       "25%     -1.046180e+03\n",
       "50%     -9.218046e+01\n",
       "75%      1.122384e+03\n",
       "max      6.641500e+03\n",
       "Name: MeanCentered, dtype: float64"
      ]
     },
     "execution_count": 239,
     "metadata": {},
     "output_type": "execute_result"
    }
   ],
   "source": [
    "bpat_data.MeanCentered.describe()"
   ]
  },
  {
   "cell_type": "markdown",
   "metadata": {},
   "source": [
    "## Shape the data"
   ]
  },
  {
   "cell_type": "markdown",
   "metadata": {},
   "source": [
    "### Set and use an index"
   ]
  },
  {
   "cell_type": "code",
   "execution_count": 240,
   "metadata": {},
   "outputs": [
    {
     "data": {
      "text/html": [
       "<div>\n",
       "<style scoped>\n",
       "    .dataframe tbody tr th:only-of-type {\n",
       "        vertical-align: middle;\n",
       "    }\n",
       "\n",
       "    .dataframe tbody tr th {\n",
       "        vertical-align: top;\n",
       "    }\n",
       "\n",
       "    .dataframe thead th {\n",
       "        text-align: right;\n",
       "    }\n",
       "</style>\n",
       "<table border=\"1\" class=\"dataframe\">\n",
       "  <thead>\n",
       "    <tr style=\"text-align: right;\">\n",
       "      <th></th>\n",
       "      <th>type</th>\n",
       "      <th>type_name</th>\n",
       "      <th>value</th>\n",
       "      <th>type_mean</th>\n",
       "      <th>MeanCentered</th>\n",
       "    </tr>\n",
       "    <tr>\n",
       "      <th>datetime</th>\n",
       "      <th></th>\n",
       "      <th></th>\n",
       "      <th></th>\n",
       "      <th></th>\n",
       "      <th></th>\n",
       "    </tr>\n",
       "  </thead>\n",
       "  <tbody>\n",
       "    <tr>\n",
       "      <th>2023-01-01 00:00:00</th>\n",
       "      <td>D</td>\n",
       "      <td>Demand</td>\n",
       "      <td>6997.0</td>\n",
       "      <td>6670.589654</td>\n",
       "      <td>326.410346</td>\n",
       "    </tr>\n",
       "    <tr>\n",
       "      <th>2023-01-01 00:00:00</th>\n",
       "      <td>DF</td>\n",
       "      <td>Day-ahead demand forecast</td>\n",
       "      <td>7257.0</td>\n",
       "      <td>6694.180459</td>\n",
       "      <td>562.819541</td>\n",
       "    </tr>\n",
       "    <tr>\n",
       "      <th>2023-01-01 00:00:00</th>\n",
       "      <td>NG</td>\n",
       "      <td>Net generation</td>\n",
       "      <td>9792.0</td>\n",
       "      <td>11216.500230</td>\n",
       "      <td>-1424.500230</td>\n",
       "    </tr>\n",
       "    <tr>\n",
       "      <th>2023-01-01 00:00:00</th>\n",
       "      <td>TI</td>\n",
       "      <td>Total interchange</td>\n",
       "      <td>7509.0</td>\n",
       "      <td>8313.616123</td>\n",
       "      <td>-804.616123</td>\n",
       "    </tr>\n",
       "    <tr>\n",
       "      <th>2022-12-31 23:00:00</th>\n",
       "      <td>D</td>\n",
       "      <td>Demand</td>\n",
       "      <td>6951.0</td>\n",
       "      <td>6670.589654</td>\n",
       "      <td>280.410346</td>\n",
       "    </tr>\n",
       "  </tbody>\n",
       "</table>\n",
       "</div>"
      ],
      "text/plain": [
       "                    type                  type_name   value     type_mean   \n",
       "datetime                                                                    \n",
       "2023-01-01 00:00:00    D                     Demand  6997.0   6670.589654  \\\n",
       "2023-01-01 00:00:00   DF  Day-ahead demand forecast  7257.0   6694.180459   \n",
       "2023-01-01 00:00:00   NG             Net generation  9792.0  11216.500230   \n",
       "2023-01-01 00:00:00   TI          Total interchange  7509.0   8313.616123   \n",
       "2022-12-31 23:00:00    D                     Demand  6951.0   6670.589654   \n",
       "\n",
       "                     MeanCentered  \n",
       "datetime                           \n",
       "2023-01-01 00:00:00    326.410346  \n",
       "2023-01-01 00:00:00    562.819541  \n",
       "2023-01-01 00:00:00  -1424.500230  \n",
       "2023-01-01 00:00:00   -804.616123  \n",
       "2022-12-31 23:00:00    280.410346  "
      ]
     },
     "execution_count": 240,
     "metadata": {},
     "output_type": "execute_result"
    }
   ],
   "source": [
    "bpat_data = bpat_data.set_index('datetime')\n",
    "bpat_data.head()"
   ]
  },
  {
   "cell_type": "code",
   "execution_count": 241,
   "metadata": {},
   "outputs": [
    {
     "data": {
      "text/plain": [
       "34937"
      ]
     },
     "execution_count": 241,
     "metadata": {},
     "output_type": "execute_result"
    }
   ],
   "source": [
    "len(bpat_data)"
   ]
  },
  {
   "cell_type": "code",
   "execution_count": 242,
   "metadata": {},
   "outputs": [
    {
     "data": {
      "text/html": [
       "<div>\n",
       "<style scoped>\n",
       "    .dataframe tbody tr th:only-of-type {\n",
       "        vertical-align: middle;\n",
       "    }\n",
       "\n",
       "    .dataframe tbody tr th {\n",
       "        vertical-align: top;\n",
       "    }\n",
       "\n",
       "    .dataframe thead th {\n",
       "        text-align: right;\n",
       "    }\n",
       "</style>\n",
       "<table border=\"1\" class=\"dataframe\">\n",
       "  <thead>\n",
       "    <tr style=\"text-align: right;\">\n",
       "      <th></th>\n",
       "      <th>datetime</th>\n",
       "      <th>type</th>\n",
       "      <th>type_name</th>\n",
       "      <th>value</th>\n",
       "      <th>type_mean</th>\n",
       "      <th>MeanCentered</th>\n",
       "    </tr>\n",
       "  </thead>\n",
       "  <tbody>\n",
       "    <tr>\n",
       "      <th>0</th>\n",
       "      <td>2023-01-01 00:00:00</td>\n",
       "      <td>D</td>\n",
       "      <td>Demand</td>\n",
       "      <td>6997.0</td>\n",
       "      <td>6670.589654</td>\n",
       "      <td>326.410346</td>\n",
       "    </tr>\n",
       "    <tr>\n",
       "      <th>1</th>\n",
       "      <td>2023-01-01 00:00:00</td>\n",
       "      <td>DF</td>\n",
       "      <td>Day-ahead demand forecast</td>\n",
       "      <td>7257.0</td>\n",
       "      <td>6694.180459</td>\n",
       "      <td>562.819541</td>\n",
       "    </tr>\n",
       "    <tr>\n",
       "      <th>2</th>\n",
       "      <td>2023-01-01 00:00:00</td>\n",
       "      <td>NG</td>\n",
       "      <td>Net generation</td>\n",
       "      <td>9792.0</td>\n",
       "      <td>11216.500230</td>\n",
       "      <td>-1424.500230</td>\n",
       "    </tr>\n",
       "    <tr>\n",
       "      <th>3</th>\n",
       "      <td>2023-01-01 00:00:00</td>\n",
       "      <td>TI</td>\n",
       "      <td>Total interchange</td>\n",
       "      <td>7509.0</td>\n",
       "      <td>8313.616123</td>\n",
       "      <td>-804.616123</td>\n",
       "    </tr>\n",
       "    <tr>\n",
       "      <th>4</th>\n",
       "      <td>2022-12-31 23:00:00</td>\n",
       "      <td>D</td>\n",
       "      <td>Demand</td>\n",
       "      <td>6951.0</td>\n",
       "      <td>6670.589654</td>\n",
       "      <td>280.410346</td>\n",
       "    </tr>\n",
       "    <tr>\n",
       "      <th>...</th>\n",
       "      <td>...</td>\n",
       "      <td>...</td>\n",
       "      <td>...</td>\n",
       "      <td>...</td>\n",
       "      <td>...</td>\n",
       "      <td>...</td>\n",
       "    </tr>\n",
       "    <tr>\n",
       "      <th>34932</th>\n",
       "      <td>2022-01-01 01:00:00</td>\n",
       "      <td>D</td>\n",
       "      <td>Demand</td>\n",
       "      <td>8977.0</td>\n",
       "      <td>6670.589654</td>\n",
       "      <td>2306.410346</td>\n",
       "    </tr>\n",
       "    <tr>\n",
       "      <th>34933</th>\n",
       "      <td>2022-01-01 00:00:00</td>\n",
       "      <td>D</td>\n",
       "      <td>Demand</td>\n",
       "      <td>8535.0</td>\n",
       "      <td>6670.589654</td>\n",
       "      <td>1864.410346</td>\n",
       "    </tr>\n",
       "    <tr>\n",
       "      <th>34934</th>\n",
       "      <td>2022-01-01 00:00:00</td>\n",
       "      <td>DF</td>\n",
       "      <td>Day-ahead demand forecast</td>\n",
       "      <td>8899.0</td>\n",
       "      <td>6694.180459</td>\n",
       "      <td>2204.819541</td>\n",
       "    </tr>\n",
       "    <tr>\n",
       "      <th>34935</th>\n",
       "      <td>2022-01-01 00:00:00</td>\n",
       "      <td>NG</td>\n",
       "      <td>Net generation</td>\n",
       "      <td>13958.0</td>\n",
       "      <td>11216.500230</td>\n",
       "      <td>2741.499770</td>\n",
       "    </tr>\n",
       "    <tr>\n",
       "      <th>34936</th>\n",
       "      <td>2022-01-01 00:00:00</td>\n",
       "      <td>TI</td>\n",
       "      <td>Total interchange</td>\n",
       "      <td>9579.0</td>\n",
       "      <td>8313.616123</td>\n",
       "      <td>1265.383877</td>\n",
       "    </tr>\n",
       "  </tbody>\n",
       "</table>\n",
       "<p>34937 rows × 6 columns</p>\n",
       "</div>"
      ],
      "text/plain": [
       "                 datetime type                  type_name    value   \n",
       "0     2023-01-01 00:00:00    D                     Demand   6997.0  \\\n",
       "1     2023-01-01 00:00:00   DF  Day-ahead demand forecast   7257.0   \n",
       "2     2023-01-01 00:00:00   NG             Net generation   9792.0   \n",
       "3     2023-01-01 00:00:00   TI          Total interchange   7509.0   \n",
       "4     2022-12-31 23:00:00    D                     Demand   6951.0   \n",
       "...                   ...  ...                        ...      ...   \n",
       "34932 2022-01-01 01:00:00    D                     Demand   8977.0   \n",
       "34933 2022-01-01 00:00:00    D                     Demand   8535.0   \n",
       "34934 2022-01-01 00:00:00   DF  Day-ahead demand forecast   8899.0   \n",
       "34935 2022-01-01 00:00:00   NG             Net generation  13958.0   \n",
       "34936 2022-01-01 00:00:00   TI          Total interchange   9579.0   \n",
       "\n",
       "          type_mean  MeanCentered  \n",
       "0       6670.589654    326.410346  \n",
       "1       6694.180459    562.819541  \n",
       "2      11216.500230  -1424.500230  \n",
       "3       8313.616123   -804.616123  \n",
       "4       6670.589654    280.410346  \n",
       "...             ...           ...  \n",
       "34932   6670.589654   2306.410346  \n",
       "34933   6670.589654   1864.410346  \n",
       "34934   6694.180459   2204.819541  \n",
       "34935  11216.500230   2741.499770  \n",
       "34936   8313.616123   1265.383877  \n",
       "\n",
       "[34937 rows x 6 columns]"
      ]
     },
     "execution_count": 242,
     "metadata": {},
     "output_type": "execute_result"
    }
   ],
   "source": [
    "bpat_data.reset_index(inplace=True)\n",
    "bpat_data"
   ]
  },
  {
   "cell_type": "code",
   "execution_count": 251,
   "metadata": {},
   "outputs": [
    {
     "ename": "ValueError",
     "evalue": "Index has duplicate keys: MultiIndex([('2022-12-31 07:00:00', 'NG'),\n            ('2022-12-29 20:00:00',  'D'),\n            ('2022-12-29 02:00:00',  'D'),\n            ('2022-12-28 09:00:00', 'NG'),\n            ('2022-12-28 09:00:00', 'DF'),\n            ('2022-12-26 22:00:00', 'DF'),\n            ('2022-12-26 04:00:00', 'NG'),\n            ('2022-12-24 17:00:00', 'DF'),\n            ('2022-12-24 17:00:00',  'D'),\n            ('2022-12-23 06:00:00',  'D'),\n            ...\n            ('2022-01-08 12:00:00',  'D'),\n            ('2022-01-07 01:00:00', 'DF'),\n            ('2022-01-07 01:00:00',  'D'),\n            ('2022-01-06 08:00:00',  'D'),\n            ('2022-01-04 21:00:00', 'DF'),\n            ('2022-01-04 21:00:00',  'D'),\n            ('2022-01-04 04:00:00',  'D'),\n            ('2022-01-02 17:00:00', 'DF'),\n            ('2022-01-02 17:00:00',  'D'),\n            ('2022-01-01 06:00:00',  'D')],\n           names=['datetime', 'type'], length=228)",
     "output_type": "error",
     "traceback": [
      "\u001b[1;31m---------------------------------------------------------------------------\u001b[0m",
      "\u001b[1;31mValueError\u001b[0m                                Traceback (most recent call last)",
      "Cell \u001b[1;32mIn[251], line 1\u001b[0m\n\u001b[1;32m----> 1\u001b[0m bpat_mindex \u001b[39m=\u001b[39m bpat_data\u001b[39m.\u001b[39;49mset_index(\n\u001b[0;32m      2\u001b[0m     [\u001b[39m'\u001b[39;49m\u001b[39mdatetime\u001b[39;49m\u001b[39m'\u001b[39;49m,\u001b[39m'\u001b[39;49m\u001b[39mtype\u001b[39;49m\u001b[39m'\u001b[39;49m], verify_integrity\u001b[39m=\u001b[39;49m\u001b[39mTrue\u001b[39;49;00m)\n\u001b[0;32m      3\u001b[0m bpat_mindex\u001b[39m.\u001b[39mhead()\n",
      "File \u001b[1;32mc:\\Users\\lilye\\AppData\\Local\\Programs\\Python\\Python311\\Lib\\site-packages\\pandas\\core\\frame.py:5927\u001b[0m, in \u001b[0;36mDataFrame.set_index\u001b[1;34m(self, keys, drop, append, inplace, verify_integrity)\u001b[0m\n\u001b[0;32m   5925\u001b[0m \u001b[39mif\u001b[39;00m verify_integrity \u001b[39mand\u001b[39;00m \u001b[39mnot\u001b[39;00m index\u001b[39m.\u001b[39mis_unique:\n\u001b[0;32m   5926\u001b[0m     duplicates \u001b[39m=\u001b[39m index[index\u001b[39m.\u001b[39mduplicated()]\u001b[39m.\u001b[39munique()\n\u001b[1;32m-> 5927\u001b[0m     \u001b[39mraise\u001b[39;00m \u001b[39mValueError\u001b[39;00m(\u001b[39mf\u001b[39m\u001b[39m\"\u001b[39m\u001b[39mIndex has duplicate keys: \u001b[39m\u001b[39m{\u001b[39;00mduplicates\u001b[39m}\u001b[39;00m\u001b[39m\"\u001b[39m)\n\u001b[0;32m   5929\u001b[0m \u001b[39m# use set to handle duplicate column names gracefully in case of drop\u001b[39;00m\n\u001b[0;32m   5930\u001b[0m \u001b[39mfor\u001b[39;00m c \u001b[39min\u001b[39;00m \u001b[39mset\u001b[39m(to_remove):\n",
      "\u001b[1;31mValueError\u001b[0m: Index has duplicate keys: MultiIndex([('2022-12-31 07:00:00', 'NG'),\n            ('2022-12-29 20:00:00',  'D'),\n            ('2022-12-29 02:00:00',  'D'),\n            ('2022-12-28 09:00:00', 'NG'),\n            ('2022-12-28 09:00:00', 'DF'),\n            ('2022-12-26 22:00:00', 'DF'),\n            ('2022-12-26 04:00:00', 'NG'),\n            ('2022-12-24 17:00:00', 'DF'),\n            ('2022-12-24 17:00:00',  'D'),\n            ('2022-12-23 06:00:00',  'D'),\n            ...\n            ('2022-01-08 12:00:00',  'D'),\n            ('2022-01-07 01:00:00', 'DF'),\n            ('2022-01-07 01:00:00',  'D'),\n            ('2022-01-06 08:00:00',  'D'),\n            ('2022-01-04 21:00:00', 'DF'),\n            ('2022-01-04 21:00:00',  'D'),\n            ('2022-01-04 04:00:00',  'D'),\n            ('2022-01-02 17:00:00', 'DF'),\n            ('2022-01-02 17:00:00',  'D'),\n            ('2022-01-01 06:00:00',  'D')],\n           names=['datetime', 'type'], length=228)"
     ]
    }
   ],
   "source": [
    "bpat_mindex = bpat_data.set_index(\n",
    "    ['datetime','type'], verify_integrity=True)\n",
    "bpat_mindex.head()"
   ]
  },
  {
   "cell_type": "code",
   "execution_count": 260,
   "metadata": {},
   "outputs": [
    {
     "name": "stdout",
     "output_type": "stream",
     "text": [
      "<class 'pandas.core.frame.DataFrame'>\n",
      "Index: 34709 entries, 26 to 2503183\n",
      "Data columns (total 6 columns):\n",
      " #   Column        Non-Null Count  Dtype         \n",
      "---  ------        --------------  -----         \n",
      " 0   datetime      34709 non-null  datetime64[ns]\n",
      " 1   type          34709 non-null  object        \n",
      " 2   type_name     34709 non-null  object        \n",
      " 3   value         34709 non-null  float64       \n",
      " 4   type_mean     34709 non-null  float64       \n",
      " 5   MeanCentered  34709 non-null  float64       \n",
      "dtypes: datetime64[ns](1), float64(3), object(2)\n",
      "memory usage: 1.9+ MB\n"
     ]
    }
   ],
   "source": [
    "bpat_data.info()"
   ]
  },
  {
   "cell_type": "code",
   "execution_count": 261,
   "metadata": {},
   "outputs": [
    {
     "data": {
      "text/html": [
       "<div>\n",
       "<style scoped>\n",
       "    .dataframe tbody tr th:only-of-type {\n",
       "        vertical-align: middle;\n",
       "    }\n",
       "\n",
       "    .dataframe tbody tr th {\n",
       "        vertical-align: top;\n",
       "    }\n",
       "\n",
       "    .dataframe thead th {\n",
       "        text-align: right;\n",
       "    }\n",
       "</style>\n",
       "<table border=\"1\" class=\"dataframe\">\n",
       "  <thead>\n",
       "    <tr style=\"text-align: right;\">\n",
       "      <th></th>\n",
       "      <th>datetime</th>\n",
       "      <th>type</th>\n",
       "      <th>type_name</th>\n",
       "      <th>value</th>\n",
       "      <th>type_mean</th>\n",
       "      <th>MeanCentered</th>\n",
       "    </tr>\n",
       "  </thead>\n",
       "  <tbody>\n",
       "    <tr>\n",
       "      <th>26</th>\n",
       "      <td>2023-01-01 00:00:00</td>\n",
       "      <td>D</td>\n",
       "      <td>Demand</td>\n",
       "      <td>6997.0</td>\n",
       "      <td>6663.427834</td>\n",
       "      <td>333.572166</td>\n",
       "    </tr>\n",
       "    <tr>\n",
       "      <th>100</th>\n",
       "      <td>2023-01-01 00:00:00</td>\n",
       "      <td>DF</td>\n",
       "      <td>Day-ahead demand forecast</td>\n",
       "      <td>7257.0</td>\n",
       "      <td>6690.771609</td>\n",
       "      <td>566.228391</td>\n",
       "    </tr>\n",
       "    <tr>\n",
       "      <th>139</th>\n",
       "      <td>2023-01-01 00:00:00</td>\n",
       "      <td>NG</td>\n",
       "      <td>Net generation</td>\n",
       "      <td>9792.0</td>\n",
       "      <td>11217.600945</td>\n",
       "      <td>-1425.600945</td>\n",
       "    </tr>\n",
       "    <tr>\n",
       "      <th>283</th>\n",
       "      <td>2023-01-01 00:00:00</td>\n",
       "      <td>TI</td>\n",
       "      <td>Total interchange</td>\n",
       "      <td>7509.0</td>\n",
       "      <td>8313.940023</td>\n",
       "      <td>-804.940023</td>\n",
       "    </tr>\n",
       "    <tr>\n",
       "      <th>351</th>\n",
       "      <td>2022-12-31 23:00:00</td>\n",
       "      <td>D</td>\n",
       "      <td>Demand</td>\n",
       "      <td>6951.0</td>\n",
       "      <td>6663.427834</td>\n",
       "      <td>287.572166</td>\n",
       "    </tr>\n",
       "  </tbody>\n",
       "</table>\n",
       "</div>"
      ],
      "text/plain": [
       "               datetime type                  type_name   value     type_mean   \n",
       "26  2023-01-01 00:00:00    D                     Demand  6997.0   6663.427834  \\\n",
       "100 2023-01-01 00:00:00   DF  Day-ahead demand forecast  7257.0   6690.771609   \n",
       "139 2023-01-01 00:00:00   NG             Net generation  9792.0  11217.600945   \n",
       "283 2023-01-01 00:00:00   TI          Total interchange  7509.0   8313.940023   \n",
       "351 2022-12-31 23:00:00    D                     Demand  6951.0   6663.427834   \n",
       "\n",
       "     MeanCentered  \n",
       "26     333.572166  \n",
       "100    566.228391  \n",
       "139  -1425.600945  \n",
       "283   -804.940023  \n",
       "351    287.572166  "
      ]
     },
     "execution_count": 261,
     "metadata": {},
     "output_type": "execute_result"
    }
   ],
   "source": [
    "bpat_data.head()"
   ]
  },
  {
   "cell_type": "code",
   "execution_count": 252,
   "metadata": {},
   "outputs": [
    {
     "data": {
      "text/html": [
       "<div>\n",
       "<style scoped>\n",
       "    .dataframe tbody tr th:only-of-type {\n",
       "        vertical-align: middle;\n",
       "    }\n",
       "\n",
       "    .dataframe tbody tr th {\n",
       "        vertical-align: top;\n",
       "    }\n",
       "\n",
       "    .dataframe thead th {\n",
       "        text-align: right;\n",
       "    }\n",
       "</style>\n",
       "<table border=\"1\" class=\"dataframe\">\n",
       "  <thead>\n",
       "    <tr style=\"text-align: right;\">\n",
       "      <th></th>\n",
       "      <th>datetime</th>\n",
       "      <th>type</th>\n",
       "      <th>type_name</th>\n",
       "      <th>value</th>\n",
       "    </tr>\n",
       "  </thead>\n",
       "  <tbody>\n",
       "    <tr>\n",
       "      <th>14836</th>\n",
       "      <td>2022-12-29 20:00:00</td>\n",
       "      <td>DF</td>\n",
       "      <td>Day-ahead demand forecast</td>\n",
       "      <td>7999.0</td>\n",
       "    </tr>\n",
       "    <tr>\n",
       "      <th>14959</th>\n",
       "      <td>2022-12-29 20:00:00</td>\n",
       "      <td>D</td>\n",
       "      <td>Demand</td>\n",
       "      <td>7901.0</td>\n",
       "    </tr>\n",
       "    <tr>\n",
       "      <th>15070</th>\n",
       "      <td>2022-12-29 20:00:00</td>\n",
       "      <td>D</td>\n",
       "      <td>Demand</td>\n",
       "      <td>7901.0</td>\n",
       "    </tr>\n",
       "  </tbody>\n",
       "</table>\n",
       "</div>"
      ],
      "text/plain": [
       "                 datetime type                  type_name   value\n",
       "14836 2022-12-29 20:00:00   DF  Day-ahead demand forecast  7999.0\n",
       "14959 2022-12-29 20:00:00    D                     Demand  7901.0\n",
       "15070 2022-12-29 20:00:00    D                     Demand  7901.0"
      ]
     },
     "execution_count": 252,
     "metadata": {},
     "output_type": "execute_result"
    }
   ],
   "source": [
    "bpat_data.query('datetime == \"2022-12-29 20:00:00\"')"
   ]
  },
  {
   "cell_type": "code",
   "execution_count": 262,
   "metadata": {},
   "outputs": [
    {
     "data": {
      "text/html": [
       "<div>\n",
       "<style scoped>\n",
       "    .dataframe tbody tr th:only-of-type {\n",
       "        vertical-align: middle;\n",
       "    }\n",
       "\n",
       "    .dataframe tbody tr th {\n",
       "        vertical-align: top;\n",
       "    }\n",
       "\n",
       "    .dataframe thead th {\n",
       "        text-align: right;\n",
       "    }\n",
       "</style>\n",
       "<table border=\"1\" class=\"dataframe\">\n",
       "  <thead>\n",
       "    <tr style=\"text-align: right;\">\n",
       "      <th></th>\n",
       "      <th></th>\n",
       "      <th>type_name</th>\n",
       "      <th>value</th>\n",
       "      <th>type_mean</th>\n",
       "      <th>MeanCentered</th>\n",
       "    </tr>\n",
       "    <tr>\n",
       "      <th>datetime</th>\n",
       "      <th>type</th>\n",
       "      <th></th>\n",
       "      <th></th>\n",
       "      <th></th>\n",
       "      <th></th>\n",
       "    </tr>\n",
       "  </thead>\n",
       "  <tbody>\n",
       "    <tr>\n",
       "      <th rowspan=\"4\" valign=\"top\">2023-01-01 00:00:00</th>\n",
       "      <th>D</th>\n",
       "      <td>Demand</td>\n",
       "      <td>6997.0</td>\n",
       "      <td>6663.427834</td>\n",
       "      <td>333.572166</td>\n",
       "    </tr>\n",
       "    <tr>\n",
       "      <th>DF</th>\n",
       "      <td>Day-ahead demand forecast</td>\n",
       "      <td>7257.0</td>\n",
       "      <td>6690.771609</td>\n",
       "      <td>566.228391</td>\n",
       "    </tr>\n",
       "    <tr>\n",
       "      <th>NG</th>\n",
       "      <td>Net generation</td>\n",
       "      <td>9792.0</td>\n",
       "      <td>11217.600945</td>\n",
       "      <td>-1425.600945</td>\n",
       "    </tr>\n",
       "    <tr>\n",
       "      <th>TI</th>\n",
       "      <td>Total interchange</td>\n",
       "      <td>7509.0</td>\n",
       "      <td>8313.940023</td>\n",
       "      <td>-804.940023</td>\n",
       "    </tr>\n",
       "    <tr>\n",
       "      <th>2022-12-31 23:00:00</th>\n",
       "      <th>D</th>\n",
       "      <td>Demand</td>\n",
       "      <td>6951.0</td>\n",
       "      <td>6663.427834</td>\n",
       "      <td>287.572166</td>\n",
       "    </tr>\n",
       "  </tbody>\n",
       "</table>\n",
       "</div>"
      ],
      "text/plain": [
       "                                          type_name   value     type_mean   \n",
       "datetime            type                                                    \n",
       "2023-01-01 00:00:00 D                        Demand  6997.0   6663.427834  \\\n",
       "                    DF    Day-ahead demand forecast  7257.0   6690.771609   \n",
       "                    NG               Net generation  9792.0  11217.600945   \n",
       "                    TI            Total interchange  7509.0   8313.940023   \n",
       "2022-12-31 23:00:00 D                        Demand  6951.0   6663.427834   \n",
       "\n",
       "                          MeanCentered  \n",
       "datetime            type                \n",
       "2023-01-01 00:00:00 D       333.572166  \n",
       "                    DF      566.228391  \n",
       "                    NG    -1425.600945  \n",
       "                    TI     -804.940023  \n",
       "2022-12-31 23:00:00 D       287.572166  "
      ]
     },
     "execution_count": 262,
     "metadata": {},
     "output_type": "execute_result"
    }
   ],
   "source": [
    "bpat_data = bpat_data.drop_duplicates()\n",
    "bpat_mindex = bpat_data\n",
    "bpat_mindex = bpat_mindex.set_index(\n",
    "    ['datetime','type'], verify_integrity=True)\n",
    "bpat_mindex.head()"
   ]
  },
  {
   "cell_type": "code",
   "execution_count": 263,
   "metadata": {},
   "outputs": [
    {
     "data": {
      "text/plain": [
       "(34709, 6)"
      ]
     },
     "execution_count": 263,
     "metadata": {},
     "output_type": "execute_result"
    }
   ],
   "source": [
    "bpat_data.shape"
   ]
  },
  {
   "cell_type": "code",
   "execution_count": 264,
   "metadata": {},
   "outputs": [
    {
     "name": "stdout",
     "output_type": "stream",
     "text": [
      "<class 'pandas.core.frame.DataFrame'>\n",
      "Index: 34709 entries, 26 to 2503183\n",
      "Data columns (total 6 columns):\n",
      " #   Column        Non-Null Count  Dtype         \n",
      "---  ------        --------------  -----         \n",
      " 0   datetime      34709 non-null  datetime64[ns]\n",
      " 1   type          34709 non-null  object        \n",
      " 2   type_name     34709 non-null  object        \n",
      " 3   value         34709 non-null  float64       \n",
      " 4   type_mean     34709 non-null  float64       \n",
      " 5   MeanCentered  34709 non-null  float64       \n",
      "dtypes: datetime64[ns](1), float64(3), object(2)\n",
      "memory usage: 1.9+ MB\n"
     ]
    }
   ],
   "source": [
    "bpat_data.info()"
   ]
  },
  {
   "cell_type": "markdown",
   "metadata": {},
   "source": [
    "### Pivot the data"
   ]
  },
  {
   "cell_type": "code",
   "execution_count": 265,
   "metadata": {},
   "outputs": [
    {
     "data": {
      "text/html": [
       "<div>\n",
       "<style scoped>\n",
       "    .dataframe tbody tr th:only-of-type {\n",
       "        vertical-align: middle;\n",
       "    }\n",
       "\n",
       "    .dataframe tbody tr th {\n",
       "        vertical-align: top;\n",
       "    }\n",
       "\n",
       "    .dataframe thead th {\n",
       "        text-align: right;\n",
       "    }\n",
       "</style>\n",
       "<table border=\"1\" class=\"dataframe\">\n",
       "  <thead>\n",
       "    <tr style=\"text-align: right;\">\n",
       "      <th></th>\n",
       "      <th>datetime</th>\n",
       "      <th>type</th>\n",
       "      <th>type_name</th>\n",
       "      <th>value</th>\n",
       "      <th>type_mean</th>\n",
       "      <th>MeanCentered</th>\n",
       "    </tr>\n",
       "  </thead>\n",
       "  <tbody>\n",
       "    <tr>\n",
       "      <th>26</th>\n",
       "      <td>2023-01-01 00:00:00</td>\n",
       "      <td>D</td>\n",
       "      <td>Demand</td>\n",
       "      <td>6997.0</td>\n",
       "      <td>6663.427834</td>\n",
       "      <td>333.572166</td>\n",
       "    </tr>\n",
       "    <tr>\n",
       "      <th>100</th>\n",
       "      <td>2023-01-01 00:00:00</td>\n",
       "      <td>DF</td>\n",
       "      <td>Day-ahead demand forecast</td>\n",
       "      <td>7257.0</td>\n",
       "      <td>6690.771609</td>\n",
       "      <td>566.228391</td>\n",
       "    </tr>\n",
       "    <tr>\n",
       "      <th>139</th>\n",
       "      <td>2023-01-01 00:00:00</td>\n",
       "      <td>NG</td>\n",
       "      <td>Net generation</td>\n",
       "      <td>9792.0</td>\n",
       "      <td>11217.600945</td>\n",
       "      <td>-1425.600945</td>\n",
       "    </tr>\n",
       "    <tr>\n",
       "      <th>283</th>\n",
       "      <td>2023-01-01 00:00:00</td>\n",
       "      <td>TI</td>\n",
       "      <td>Total interchange</td>\n",
       "      <td>7509.0</td>\n",
       "      <td>8313.940023</td>\n",
       "      <td>-804.940023</td>\n",
       "    </tr>\n",
       "    <tr>\n",
       "      <th>351</th>\n",
       "      <td>2022-12-31 23:00:00</td>\n",
       "      <td>D</td>\n",
       "      <td>Demand</td>\n",
       "      <td>6951.0</td>\n",
       "      <td>6663.427834</td>\n",
       "      <td>287.572166</td>\n",
       "    </tr>\n",
       "  </tbody>\n",
       "</table>\n",
       "</div>"
      ],
      "text/plain": [
       "               datetime type                  type_name   value     type_mean   \n",
       "26  2023-01-01 00:00:00    D                     Demand  6997.0   6663.427834  \\\n",
       "100 2023-01-01 00:00:00   DF  Day-ahead demand forecast  7257.0   6690.771609   \n",
       "139 2023-01-01 00:00:00   NG             Net generation  9792.0  11217.600945   \n",
       "283 2023-01-01 00:00:00   TI          Total interchange  7509.0   8313.940023   \n",
       "351 2022-12-31 23:00:00    D                     Demand  6951.0   6663.427834   \n",
       "\n",
       "     MeanCentered  \n",
       "26     333.572166  \n",
       "100    566.228391  \n",
       "139  -1425.600945  \n",
       "283   -804.940023  \n",
       "351    287.572166  "
      ]
     },
     "execution_count": 265,
     "metadata": {},
     "output_type": "execute_result"
    }
   ],
   "source": [
    "bpat_data.head()"
   ]
  },
  {
   "cell_type": "code",
   "execution_count": 281,
   "metadata": {},
   "outputs": [
    {
     "data": {
      "text/html": [
       "<div>\n",
       "<style scoped>\n",
       "    .dataframe tbody tr th:only-of-type {\n",
       "        vertical-align: middle;\n",
       "    }\n",
       "\n",
       "    .dataframe tbody tr th {\n",
       "        vertical-align: top;\n",
       "    }\n",
       "\n",
       "    .dataframe thead tr th {\n",
       "        text-align: left;\n",
       "    }\n",
       "\n",
       "    .dataframe thead tr:last-of-type th {\n",
       "        text-align: right;\n",
       "    }\n",
       "</style>\n",
       "<table border=\"1\" class=\"dataframe\">\n",
       "  <thead>\n",
       "    <tr>\n",
       "      <th></th>\n",
       "      <th colspan=\"4\" halign=\"left\">value</th>\n",
       "      <th colspan=\"4\" halign=\"left\">MeanCentered</th>\n",
       "    </tr>\n",
       "    <tr>\n",
       "      <th>type_name</th>\n",
       "      <th>Day-ahead demand forecast</th>\n",
       "      <th>Demand</th>\n",
       "      <th>Net generation</th>\n",
       "      <th>Total interchange</th>\n",
       "      <th>Day-ahead demand forecast</th>\n",
       "      <th>Demand</th>\n",
       "      <th>Net generation</th>\n",
       "      <th>Total interchange</th>\n",
       "    </tr>\n",
       "    <tr>\n",
       "      <th>datetime</th>\n",
       "      <th></th>\n",
       "      <th></th>\n",
       "      <th></th>\n",
       "      <th></th>\n",
       "      <th></th>\n",
       "      <th></th>\n",
       "      <th></th>\n",
       "      <th></th>\n",
       "    </tr>\n",
       "  </thead>\n",
       "  <tbody>\n",
       "    <tr>\n",
       "      <th>2022-01-01 00:00:00</th>\n",
       "      <td>8899.0</td>\n",
       "      <td>8535.0</td>\n",
       "      <td>13958.0</td>\n",
       "      <td>9579.0</td>\n",
       "      <td>2208.228391</td>\n",
       "      <td>1871.572166</td>\n",
       "      <td>2740.399055</td>\n",
       "      <td>1265.059977</td>\n",
       "    </tr>\n",
       "    <tr>\n",
       "      <th>2022-01-01 01:00:00</th>\n",
       "      <td>9290.0</td>\n",
       "      <td>8977.0</td>\n",
       "      <td>14482.0</td>\n",
       "      <td>10302.0</td>\n",
       "      <td>2599.228391</td>\n",
       "      <td>2313.572166</td>\n",
       "      <td>3264.399055</td>\n",
       "      <td>1988.059977</td>\n",
       "    </tr>\n",
       "    <tr>\n",
       "      <th>2022-01-01 02:00:00</th>\n",
       "      <td>9555.0</td>\n",
       "      <td>9407.0</td>\n",
       "      <td>14903.0</td>\n",
       "      <td>10569.0</td>\n",
       "      <td>2864.228391</td>\n",
       "      <td>2743.572166</td>\n",
       "      <td>3685.399055</td>\n",
       "      <td>2255.059977</td>\n",
       "    </tr>\n",
       "    <tr>\n",
       "      <th>2022-01-01 03:00:00</th>\n",
       "      <td>9388.0</td>\n",
       "      <td>9369.0</td>\n",
       "      <td>15047.0</td>\n",
       "      <td>10734.0</td>\n",
       "      <td>2697.228391</td>\n",
       "      <td>2705.572166</td>\n",
       "      <td>3829.399055</td>\n",
       "      <td>2420.059977</td>\n",
       "    </tr>\n",
       "    <tr>\n",
       "      <th>2022-01-01 04:00:00</th>\n",
       "      <td>9072.0</td>\n",
       "      <td>9183.0</td>\n",
       "      <td>14665.0</td>\n",
       "      <td>10164.0</td>\n",
       "      <td>2381.228391</td>\n",
       "      <td>2519.572166</td>\n",
       "      <td>3447.399055</td>\n",
       "      <td>1850.059977</td>\n",
       "    </tr>\n",
       "  </tbody>\n",
       "</table>\n",
       "</div>"
      ],
      "text/plain": [
       "                                        value                          \n",
       "type_name           Day-ahead demand forecast  Demand Net generation   \n",
       "datetime                                                               \n",
       "2022-01-01 00:00:00                    8899.0  8535.0        13958.0  \\\n",
       "2022-01-01 01:00:00                    9290.0  8977.0        14482.0   \n",
       "2022-01-01 02:00:00                    9555.0  9407.0        14903.0   \n",
       "2022-01-01 03:00:00                    9388.0  9369.0        15047.0   \n",
       "2022-01-01 04:00:00                    9072.0  9183.0        14665.0   \n",
       "\n",
       "                                                   MeanCentered                \n",
       "type_name           Total interchange Day-ahead demand forecast       Demand   \n",
       "datetime                                                                       \n",
       "2022-01-01 00:00:00            9579.0               2208.228391  1871.572166  \\\n",
       "2022-01-01 01:00:00           10302.0               2599.228391  2313.572166   \n",
       "2022-01-01 02:00:00           10569.0               2864.228391  2743.572166   \n",
       "2022-01-01 03:00:00           10734.0               2697.228391  2705.572166   \n",
       "2022-01-01 04:00:00           10164.0               2381.228391  2519.572166   \n",
       "\n",
       "                                                      \n",
       "type_name           Net generation Total interchange  \n",
       "datetime                                              \n",
       "2022-01-01 00:00:00    2740.399055       1265.059977  \n",
       "2022-01-01 01:00:00    3264.399055       1988.059977  \n",
       "2022-01-01 02:00:00    3685.399055       2255.059977  \n",
       "2022-01-01 03:00:00    3829.399055       2420.059977  \n",
       "2022-01-01 04:00:00    3447.399055       1850.059977  "
      ]
     },
     "execution_count": 281,
     "metadata": {},
     "output_type": "execute_result"
    }
   ],
   "source": [
    "bpat_wide = bpat_data.pivot(\n",
    "    index = 'datetime', columns='type_name', values=['value','MeanCentered'])\n",
    "bpat_wide.head(5)\n",
    "#multiple values for hour and type. Sum?"
   ]
  },
  {
   "cell_type": "code",
   "execution_count": 282,
   "metadata": {},
   "outputs": [
    {
     "data": {
      "text/plain": [
       "(8738, 8)"
      ]
     },
     "execution_count": 282,
     "metadata": {},
     "output_type": "execute_result"
    }
   ],
   "source": [
    "bpat_wide.shape"
   ]
  },
  {
   "cell_type": "code",
   "execution_count": 268,
   "metadata": {},
   "outputs": [],
   "source": [
    "#mortality_wide = mortality_data.pivot(\n",
    "#    index=['Year','MeanCentered'], columns='AgeGroup', values='DeathRate')\n",
    "#mortality_wide.head(3)    "
   ]
  },
  {
   "cell_type": "code",
   "execution_count": 269,
   "metadata": {
    "tags": []
   },
   "outputs": [],
   "source": [
    "#mortality_wide = mortality_data.pivot(\n",
    "#    index='Year', columns='AgeGroup')\n",
    "#mortality_wide.head(3)"
   ]
  },
  {
   "cell_type": "code",
   "execution_count": 283,
   "metadata": {},
   "outputs": [],
   "source": [
    "bpat_wide.to_csv(\"bpat_wide.csv\")"
   ]
  },
  {
   "cell_type": "code",
   "execution_count": 284,
   "metadata": {},
   "outputs": [
    {
     "data": {
      "text/plain": [
       "(8738, 8)"
      ]
     },
     "execution_count": 284,
     "metadata": {},
     "output_type": "execute_result"
    }
   ],
   "source": [
    "bpat_wide.shape"
   ]
  },
  {
   "cell_type": "markdown",
   "metadata": {},
   "source": [
    "### Melt the data"
   ]
  },
  {
   "cell_type": "code",
   "execution_count": 272,
   "metadata": {},
   "outputs": [],
   "source": [
    "#mortality_wide = mortality_data.pivot(\n",
    "#    index='Year', columns='AgeGroup', values='DeathRate')\n",
    "#mortality_wide.head(3)"
   ]
  },
  {
   "cell_type": "code",
   "execution_count": 285,
   "metadata": {},
   "outputs": [
    {
     "data": {
      "text/html": [
       "<div>\n",
       "<style scoped>\n",
       "    .dataframe tbody tr th:only-of-type {\n",
       "        vertical-align: middle;\n",
       "    }\n",
       "\n",
       "    .dataframe tbody tr th {\n",
       "        vertical-align: top;\n",
       "    }\n",
       "\n",
       "    .dataframe thead th {\n",
       "        text-align: right;\n",
       "    }\n",
       "</style>\n",
       "<table border=\"1\" class=\"dataframe\">\n",
       "  <thead>\n",
       "    <tr style=\"text-align: right;\">\n",
       "      <th></th>\n",
       "      <th>type_name</th>\n",
       "      <th>Day-ahead demand forecast</th>\n",
       "      <th>Demand</th>\n",
       "      <th>Net generation</th>\n",
       "      <th>Total interchange</th>\n",
       "      <th>Day-ahead demand forecast.1</th>\n",
       "      <th>Demand.1</th>\n",
       "      <th>Net generation.1</th>\n",
       "      <th>Total interchange.1</th>\n",
       "    </tr>\n",
       "  </thead>\n",
       "  <tbody>\n",
       "    <tr>\n",
       "      <th>0</th>\n",
       "      <td>datetime</td>\n",
       "      <td>NaN</td>\n",
       "      <td>NaN</td>\n",
       "      <td>NaN</td>\n",
       "      <td>NaN</td>\n",
       "      <td>NaN</td>\n",
       "      <td>NaN</td>\n",
       "      <td>NaN</td>\n",
       "      <td>NaN</td>\n",
       "    </tr>\n",
       "    <tr>\n",
       "      <th>1</th>\n",
       "      <td>2022-01-01 00:00:00</td>\n",
       "      <td>8899.0</td>\n",
       "      <td>8535.0</td>\n",
       "      <td>13958.0</td>\n",
       "      <td>9579.0</td>\n",
       "      <td>2208.228391</td>\n",
       "      <td>1871.572166</td>\n",
       "      <td>2740.399055</td>\n",
       "      <td>1265.059977</td>\n",
       "    </tr>\n",
       "    <tr>\n",
       "      <th>2</th>\n",
       "      <td>2022-01-01 01:00:00</td>\n",
       "      <td>9290.0</td>\n",
       "      <td>8977.0</td>\n",
       "      <td>14482.0</td>\n",
       "      <td>10302.0</td>\n",
       "      <td>2599.228391</td>\n",
       "      <td>2313.572166</td>\n",
       "      <td>3264.399055</td>\n",
       "      <td>1988.059977</td>\n",
       "    </tr>\n",
       "    <tr>\n",
       "      <th>3</th>\n",
       "      <td>2022-01-01 02:00:00</td>\n",
       "      <td>9555.0</td>\n",
       "      <td>9407.0</td>\n",
       "      <td>14903.0</td>\n",
       "      <td>10569.0</td>\n",
       "      <td>2864.228391</td>\n",
       "      <td>2743.572166</td>\n",
       "      <td>3685.399055</td>\n",
       "      <td>2255.059977</td>\n",
       "    </tr>\n",
       "  </tbody>\n",
       "</table>\n",
       "</div>"
      ],
      "text/plain": [
       "             type_name  Day-ahead demand forecast  Demand  Net generation   \n",
       "0             datetime                        NaN     NaN             NaN  \\\n",
       "1  2022-01-01 00:00:00                     8899.0  8535.0         13958.0   \n",
       "2  2022-01-01 01:00:00                     9290.0  8977.0         14482.0   \n",
       "3  2022-01-01 02:00:00                     9555.0  9407.0         14903.0   \n",
       "\n",
       "   Total interchange  Day-ahead demand forecast.1     Demand.1   \n",
       "0                NaN                          NaN          NaN  \\\n",
       "1             9579.0                  2208.228391  1871.572166   \n",
       "2            10302.0                  2599.228391  2313.572166   \n",
       "3            10569.0                  2864.228391  2743.572166   \n",
       "\n",
       "   Net generation.1  Total interchange.1  \n",
       "0               NaN                  NaN  \n",
       "1       2740.399055          1265.059977  \n",
       "2       3264.399055          1988.059977  \n",
       "3       3685.399055          2255.059977  "
      ]
     },
     "execution_count": 285,
     "metadata": {},
     "output_type": "execute_result"
    }
   ],
   "source": [
    "# get starting data\n",
    "\n",
    "\n",
    "# save to Excel format to remove indexes\n",
    "bpat_wide.to_excel('bpat_wide.xlsx')\n",
    "bpat_wide = pd.read_excel('bpat_wide.xlsx', header=1)\n",
    "\n",
    "bpat_wide.head(4)"
   ]
  },
  {
   "cell_type": "code",
   "execution_count": 286,
   "metadata": {},
   "outputs": [
    {
     "data": {
      "text/plain": [
       "Index(['type_name', 'Day-ahead demand forecast', 'Demand', 'Net generation',\n",
       "       'Total interchange', 'Day-ahead demand forecast.1', 'Demand.1',\n",
       "       'Net generation.1', 'Total interchange.1'],\n",
       "      dtype='object')"
      ]
     },
     "execution_count": 286,
     "metadata": {},
     "output_type": "execute_result"
    }
   ],
   "source": [
    "bpat_wide.columns"
   ]
  },
  {
   "cell_type": "code",
   "execution_count": 291,
   "metadata": {},
   "outputs": [
    {
     "data": {
      "text/html": [
       "<div>\n",
       "<style scoped>\n",
       "    .dataframe tbody tr th:only-of-type {\n",
       "        vertical-align: middle;\n",
       "    }\n",
       "\n",
       "    .dataframe tbody tr th {\n",
       "        vertical-align: top;\n",
       "    }\n",
       "\n",
       "    .dataframe thead th {\n",
       "        text-align: right;\n",
       "    }\n",
       "</style>\n",
       "<table border=\"1\" class=\"dataframe\">\n",
       "  <thead>\n",
       "    <tr style=\"text-align: right;\">\n",
       "      <th></th>\n",
       "      <th>type_name</th>\n",
       "      <th>variable</th>\n",
       "      <th>MwattHours</th>\n",
       "    </tr>\n",
       "  </thead>\n",
       "  <tbody>\n",
       "    <tr>\n",
       "      <th>0</th>\n",
       "      <td>datetime</td>\n",
       "      <td>Day-ahead demand forecast</td>\n",
       "      <td>NaN</td>\n",
       "    </tr>\n",
       "    <tr>\n",
       "      <th>1</th>\n",
       "      <td>2022-01-01 00:00:00</td>\n",
       "      <td>Day-ahead demand forecast</td>\n",
       "      <td>8899.000000</td>\n",
       "    </tr>\n",
       "    <tr>\n",
       "      <th>2</th>\n",
       "      <td>2022-01-01 01:00:00</td>\n",
       "      <td>Day-ahead demand forecast</td>\n",
       "      <td>9290.000000</td>\n",
       "    </tr>\n",
       "    <tr>\n",
       "      <th>3</th>\n",
       "      <td>2022-01-01 02:00:00</td>\n",
       "      <td>Day-ahead demand forecast</td>\n",
       "      <td>9555.000000</td>\n",
       "    </tr>\n",
       "    <tr>\n",
       "      <th>4</th>\n",
       "      <td>2022-01-01 03:00:00</td>\n",
       "      <td>Day-ahead demand forecast</td>\n",
       "      <td>9388.000000</td>\n",
       "    </tr>\n",
       "    <tr>\n",
       "      <th>...</th>\n",
       "      <td>...</td>\n",
       "      <td>...</td>\n",
       "      <td>...</td>\n",
       "    </tr>\n",
       "    <tr>\n",
       "      <th>69907</th>\n",
       "      <td>2022-12-31 20:00:00</td>\n",
       "      <td>Total interchange.1</td>\n",
       "      <td>-800.940023</td>\n",
       "    </tr>\n",
       "    <tr>\n",
       "      <th>69908</th>\n",
       "      <td>2022-12-31 21:00:00</td>\n",
       "      <td>Total interchange.1</td>\n",
       "      <td>-956.940023</td>\n",
       "    </tr>\n",
       "    <tr>\n",
       "      <th>69909</th>\n",
       "      <td>2022-12-31 22:00:00</td>\n",
       "      <td>Total interchange.1</td>\n",
       "      <td>-773.940023</td>\n",
       "    </tr>\n",
       "    <tr>\n",
       "      <th>69910</th>\n",
       "      <td>2022-12-31 23:00:00</td>\n",
       "      <td>Total interchange.1</td>\n",
       "      <td>-891.940023</td>\n",
       "    </tr>\n",
       "    <tr>\n",
       "      <th>69911</th>\n",
       "      <td>2023-01-01 00:00:00</td>\n",
       "      <td>Total interchange.1</td>\n",
       "      <td>-804.940023</td>\n",
       "    </tr>\n",
       "  </tbody>\n",
       "</table>\n",
       "<p>69912 rows × 3 columns</p>\n",
       "</div>"
      ],
      "text/plain": [
       "                 type_name                   variable   MwattHours\n",
       "0                 datetime  Day-ahead demand forecast          NaN\n",
       "1      2022-01-01 00:00:00  Day-ahead demand forecast  8899.000000\n",
       "2      2022-01-01 01:00:00  Day-ahead demand forecast  9290.000000\n",
       "3      2022-01-01 02:00:00  Day-ahead demand forecast  9555.000000\n",
       "4      2022-01-01 03:00:00  Day-ahead demand forecast  9388.000000\n",
       "...                    ...                        ...          ...\n",
       "69907  2022-12-31 20:00:00        Total interchange.1  -800.940023\n",
       "69908  2022-12-31 21:00:00        Total interchange.1  -956.940023\n",
       "69909  2022-12-31 22:00:00        Total interchange.1  -773.940023\n",
       "69910  2022-12-31 23:00:00        Total interchange.1  -891.940023\n",
       "69911  2023-01-01 00:00:00        Total interchange.1  -804.940023\n",
       "\n",
       "[69912 rows x 3 columns]"
      ]
     },
     "metadata": {},
     "output_type": "display_data"
    }
   ],
   "source": [
    "bpat_long = bpat_wide.melt(\n",
    "    id_vars = 'type_name',\n",
    "    #value_vars=['Day-ahead demand forecast','Demand', 'Net generation', 'Total interchange'],\n",
    "    #var_name ='type_name',\n",
    "    value_name='MwattHours'\n",
    "    )\n",
    "\n",
    "with pd.option_context('display.max_rows', 10):\n",
    "    display(bpat_long)"
   ]
  },
  {
   "cell_type": "markdown",
   "metadata": {},
   "source": [
    "## Analyze the data"
   ]
  },
  {
   "cell_type": "markdown",
   "metadata": {},
   "source": [
    "### Group the data"
   ]
  },
  {
   "cell_type": "code",
   "execution_count": 315,
   "metadata": {},
   "outputs": [
    {
     "data": {
      "text/html": [
       "<div>\n",
       "<style scoped>\n",
       "    .dataframe tbody tr th:only-of-type {\n",
       "        vertical-align: middle;\n",
       "    }\n",
       "\n",
       "    .dataframe tbody tr th {\n",
       "        vertical-align: top;\n",
       "    }\n",
       "\n",
       "    .dataframe thead th {\n",
       "        text-align: right;\n",
       "    }\n",
       "</style>\n",
       "<table border=\"1\" class=\"dataframe\">\n",
       "  <thead>\n",
       "    <tr style=\"text-align: right;\">\n",
       "      <th></th>\n",
       "      <th>datetime</th>\n",
       "      <th>type</th>\n",
       "      <th>type_name</th>\n",
       "      <th>value</th>\n",
       "    </tr>\n",
       "  </thead>\n",
       "  <tbody>\n",
       "    <tr>\n",
       "      <th>26</th>\n",
       "      <td>2023-01-01 00:00:00</td>\n",
       "      <td>D</td>\n",
       "      <td>Demand</td>\n",
       "      <td>6997.0</td>\n",
       "    </tr>\n",
       "    <tr>\n",
       "      <th>100</th>\n",
       "      <td>2023-01-01 00:00:00</td>\n",
       "      <td>DF</td>\n",
       "      <td>Day-ahead demand forecast</td>\n",
       "      <td>7257.0</td>\n",
       "    </tr>\n",
       "    <tr>\n",
       "      <th>139</th>\n",
       "      <td>2023-01-01 00:00:00</td>\n",
       "      <td>NG</td>\n",
       "      <td>Net generation</td>\n",
       "      <td>9792.0</td>\n",
       "    </tr>\n",
       "    <tr>\n",
       "      <th>283</th>\n",
       "      <td>2023-01-01 00:00:00</td>\n",
       "      <td>TI</td>\n",
       "      <td>Total interchange</td>\n",
       "      <td>7509.0</td>\n",
       "    </tr>\n",
       "    <tr>\n",
       "      <th>351</th>\n",
       "      <td>2022-12-31 23:00:00</td>\n",
       "      <td>D</td>\n",
       "      <td>Demand</td>\n",
       "      <td>6951.0</td>\n",
       "    </tr>\n",
       "  </tbody>\n",
       "</table>\n",
       "</div>"
      ],
      "text/plain": [
       "               datetime type                  type_name   value\n",
       "26  2023-01-01 00:00:00    D                     Demand  6997.0\n",
       "100 2023-01-01 00:00:00   DF  Day-ahead demand forecast  7257.0\n",
       "139 2023-01-01 00:00:00   NG             Net generation  9792.0\n",
       "283 2023-01-01 00:00:00   TI          Total interchange  7509.0\n",
       "351 2022-12-31 23:00:00    D                     Demand  6951.0"
      ]
     },
     "execution_count": 315,
     "metadata": {},
     "output_type": "execute_result"
    }
   ],
   "source": [
    "bpat_data = eia_data.query('respondent == \"BPAT\"')[['datetime','type','type_name','value']]\n",
    "bpat_data = pd.DataFrame(bpat_data)\n",
    "bpat_data = bpat_data.drop_duplicates()\n",
    "bpat_data.head()"
   ]
  },
  {
   "cell_type": "code",
   "execution_count": 307,
   "metadata": {},
   "outputs": [
    {
     "data": {
      "text/html": [
       "<div>\n",
       "<style scoped>\n",
       "    .dataframe tbody tr th:only-of-type {\n",
       "        vertical-align: middle;\n",
       "    }\n",
       "\n",
       "    .dataframe tbody tr th {\n",
       "        vertical-align: top;\n",
       "    }\n",
       "\n",
       "    .dataframe thead th {\n",
       "        text-align: right;\n",
       "    }\n",
       "</style>\n",
       "<table border=\"1\" class=\"dataframe\">\n",
       "  <thead>\n",
       "    <tr style=\"text-align: right;\">\n",
       "      <th></th>\n",
       "      <th>datetime</th>\n",
       "      <th>value</th>\n",
       "    </tr>\n",
       "    <tr>\n",
       "      <th>type</th>\n",
       "      <th></th>\n",
       "      <th></th>\n",
       "    </tr>\n",
       "  </thead>\n",
       "  <tbody>\n",
       "    <tr>\n",
       "      <th>D</th>\n",
       "      <td>2022-07-02 12:28:06.002753536</td>\n",
       "      <td>6663.427834</td>\n",
       "    </tr>\n",
       "    <tr>\n",
       "      <th>DF</th>\n",
       "      <td>2022-07-02 08:26:26.482758656</td>\n",
       "      <td>6690.771609</td>\n",
       "    </tr>\n",
       "    <tr>\n",
       "      <th>NG</th>\n",
       "      <td>2022-07-02 17:52:29.636803840</td>\n",
       "      <td>11217.600945</td>\n",
       "    </tr>\n",
       "    <tr>\n",
       "      <th>TI</th>\n",
       "      <td>2022-07-03 19:31:28.955916288</td>\n",
       "      <td>8313.940023</td>\n",
       "    </tr>\n",
       "  </tbody>\n",
       "</table>\n",
       "</div>"
      ],
      "text/plain": [
       "                          datetime         value\n",
       "type                                            \n",
       "D    2022-07-02 12:28:06.002753536   6663.427834\n",
       "DF   2022-07-02 08:26:26.482758656   6690.771609\n",
       "NG   2022-07-02 17:52:29.636803840  11217.600945\n",
       "TI   2022-07-03 19:31:28.955916288   8313.940023"
      ]
     },
     "execution_count": 307,
     "metadata": {},
     "output_type": "execute_result"
    }
   ],
   "source": [
    "bpat_data = bpat_data.drop('type_name', axis=1)\n",
    "bpat_data.groupby('type').mean()"
   ]
  },
  {
   "cell_type": "code",
   "execution_count": 308,
   "metadata": {},
   "outputs": [
    {
     "data": {
      "text/html": [
       "<div>\n",
       "<style scoped>\n",
       "    .dataframe tbody tr th:only-of-type {\n",
       "        vertical-align: middle;\n",
       "    }\n",
       "\n",
       "    .dataframe tbody tr th {\n",
       "        vertical-align: top;\n",
       "    }\n",
       "\n",
       "    .dataframe thead th {\n",
       "        text-align: right;\n",
       "    }\n",
       "</style>\n",
       "<table border=\"1\" class=\"dataframe\">\n",
       "  <thead>\n",
       "    <tr style=\"text-align: right;\">\n",
       "      <th></th>\n",
       "      <th>datetime</th>\n",
       "      <th>value</th>\n",
       "    </tr>\n",
       "    <tr>\n",
       "      <th>type</th>\n",
       "      <th></th>\n",
       "      <th></th>\n",
       "    </tr>\n",
       "  </thead>\n",
       "  <tbody>\n",
       "    <tr>\n",
       "      <th>D</th>\n",
       "      <td>2022-07-02 15:30:00</td>\n",
       "      <td>6525.0</td>\n",
       "    </tr>\n",
       "    <tr>\n",
       "      <th>DF</th>\n",
       "      <td>2022-07-02 07:30:00</td>\n",
       "      <td>6539.0</td>\n",
       "    </tr>\n",
       "    <tr>\n",
       "      <th>NG</th>\n",
       "      <td>2022-07-02 23:00:00</td>\n",
       "      <td>11253.0</td>\n",
       "    </tr>\n",
       "    <tr>\n",
       "      <th>TI</th>\n",
       "      <td>2022-07-04 08:30:00</td>\n",
       "      <td>8351.0</td>\n",
       "    </tr>\n",
       "  </tbody>\n",
       "</table>\n",
       "</div>"
      ],
      "text/plain": [
       "                datetime    value\n",
       "type                             \n",
       "D    2022-07-02 15:30:00   6525.0\n",
       "DF   2022-07-02 07:30:00   6539.0\n",
       "NG   2022-07-02 23:00:00  11253.0\n",
       "TI   2022-07-04 08:30:00   8351.0"
      ]
     },
     "execution_count": 308,
     "metadata": {},
     "output_type": "execute_result"
    }
   ],
   "source": [
    "bpat_data.groupby('type').median()"
   ]
  },
  {
   "cell_type": "code",
   "execution_count": 311,
   "metadata": {},
   "outputs": [
    {
     "data": {
      "text/html": [
       "<div>\n",
       "<style scoped>\n",
       "    .dataframe tbody tr th:only-of-type {\n",
       "        vertical-align: middle;\n",
       "    }\n",
       "\n",
       "    .dataframe tbody tr th {\n",
       "        vertical-align: top;\n",
       "    }\n",
       "\n",
       "    .dataframe thead th {\n",
       "        text-align: right;\n",
       "    }\n",
       "</style>\n",
       "<table border=\"1\" class=\"dataframe\">\n",
       "  <thead>\n",
       "    <tr style=\"text-align: right;\">\n",
       "      <th></th>\n",
       "      <th></th>\n",
       "      <th>value</th>\n",
       "    </tr>\n",
       "    <tr>\n",
       "      <th>datetime</th>\n",
       "      <th>type</th>\n",
       "      <th></th>\n",
       "    </tr>\n",
       "  </thead>\n",
       "  <tbody>\n",
       "    <tr>\n",
       "      <th rowspan=\"4\" valign=\"top\">2022-01-01 00:00:00</th>\n",
       "      <th>D</th>\n",
       "      <td>1</td>\n",
       "    </tr>\n",
       "    <tr>\n",
       "      <th>DF</th>\n",
       "      <td>1</td>\n",
       "    </tr>\n",
       "    <tr>\n",
       "      <th>NG</th>\n",
       "      <td>1</td>\n",
       "    </tr>\n",
       "    <tr>\n",
       "      <th>TI</th>\n",
       "      <td>1</td>\n",
       "    </tr>\n",
       "    <tr>\n",
       "      <th rowspan=\"4\" valign=\"top\">2022-01-01 01:00:00</th>\n",
       "      <th>D</th>\n",
       "      <td>1</td>\n",
       "    </tr>\n",
       "    <tr>\n",
       "      <th>DF</th>\n",
       "      <td>1</td>\n",
       "    </tr>\n",
       "    <tr>\n",
       "      <th>NG</th>\n",
       "      <td>1</td>\n",
       "    </tr>\n",
       "    <tr>\n",
       "      <th>TI</th>\n",
       "      <td>1</td>\n",
       "    </tr>\n",
       "    <tr>\n",
       "      <th rowspan=\"4\" valign=\"top\">2022-01-01 02:00:00</th>\n",
       "      <th>D</th>\n",
       "      <td>1</td>\n",
       "    </tr>\n",
       "    <tr>\n",
       "      <th>DF</th>\n",
       "      <td>1</td>\n",
       "    </tr>\n",
       "    <tr>\n",
       "      <th>NG</th>\n",
       "      <td>1</td>\n",
       "    </tr>\n",
       "    <tr>\n",
       "      <th>TI</th>\n",
       "      <td>1</td>\n",
       "    </tr>\n",
       "    <tr>\n",
       "      <th rowspan=\"4\" valign=\"top\">2022-01-01 03:00:00</th>\n",
       "      <th>D</th>\n",
       "      <td>1</td>\n",
       "    </tr>\n",
       "    <tr>\n",
       "      <th>DF</th>\n",
       "      <td>1</td>\n",
       "    </tr>\n",
       "    <tr>\n",
       "      <th>NG</th>\n",
       "      <td>1</td>\n",
       "    </tr>\n",
       "    <tr>\n",
       "      <th>TI</th>\n",
       "      <td>1</td>\n",
       "    </tr>\n",
       "    <tr>\n",
       "      <th rowspan=\"4\" valign=\"top\">2022-01-01 04:00:00</th>\n",
       "      <th>D</th>\n",
       "      <td>1</td>\n",
       "    </tr>\n",
       "    <tr>\n",
       "      <th>DF</th>\n",
       "      <td>1</td>\n",
       "    </tr>\n",
       "    <tr>\n",
       "      <th>NG</th>\n",
       "      <td>1</td>\n",
       "    </tr>\n",
       "    <tr>\n",
       "      <th>TI</th>\n",
       "      <td>1</td>\n",
       "    </tr>\n",
       "  </tbody>\n",
       "</table>\n",
       "</div>"
      ],
      "text/plain": [
       "                          value\n",
       "datetime            type       \n",
       "2022-01-01 00:00:00 D         1\n",
       "                    DF        1\n",
       "                    NG        1\n",
       "                    TI        1\n",
       "2022-01-01 01:00:00 D         1\n",
       "                    DF        1\n",
       "                    NG        1\n",
       "                    TI        1\n",
       "2022-01-01 02:00:00 D         1\n",
       "                    DF        1\n",
       "                    NG        1\n",
       "                    TI        1\n",
       "2022-01-01 03:00:00 D         1\n",
       "                    DF        1\n",
       "                    NG        1\n",
       "                    TI        1\n",
       "2022-01-01 04:00:00 D         1\n",
       "                    DF        1\n",
       "                    NG        1\n",
       "                    TI        1"
      ]
     },
     "execution_count": 311,
     "metadata": {},
     "output_type": "execute_result"
    }
   ],
   "source": [
    "bpat_data.groupby(['datetime','type']).count().head(20)"
   ]
  },
  {
   "cell_type": "markdown",
   "metadata": {},
   "source": [
    "### Aggregate the data"
   ]
  },
  {
   "cell_type": "code",
   "execution_count": 312,
   "metadata": {},
   "outputs": [
    {
     "data": {
      "text/html": [
       "<div>\n",
       "<style scoped>\n",
       "    .dataframe tbody tr th:only-of-type {\n",
       "        vertical-align: middle;\n",
       "    }\n",
       "\n",
       "    .dataframe tbody tr th {\n",
       "        vertical-align: top;\n",
       "    }\n",
       "\n",
       "    .dataframe thead tr th {\n",
       "        text-align: left;\n",
       "    }\n",
       "\n",
       "    .dataframe thead tr:last-of-type th {\n",
       "        text-align: right;\n",
       "    }\n",
       "</style>\n",
       "<table border=\"1\" class=\"dataframe\">\n",
       "  <thead>\n",
       "    <tr>\n",
       "      <th></th>\n",
       "      <th colspan=\"5\" halign=\"left\">value</th>\n",
       "    </tr>\n",
       "    <tr>\n",
       "      <th></th>\n",
       "      <th>mean</th>\n",
       "      <th>median</th>\n",
       "      <th>min</th>\n",
       "      <th>max</th>\n",
       "      <th>std</th>\n",
       "    </tr>\n",
       "    <tr>\n",
       "      <th>datetime</th>\n",
       "      <th></th>\n",
       "      <th></th>\n",
       "      <th></th>\n",
       "      <th></th>\n",
       "      <th></th>\n",
       "    </tr>\n",
       "  </thead>\n",
       "  <tbody>\n",
       "    <tr>\n",
       "      <th>2022-01-01 00:00:00</th>\n",
       "      <td>10242.75</td>\n",
       "      <td>9239.0</td>\n",
       "      <td>8535.0</td>\n",
       "      <td>13958.0</td>\n",
       "      <td>2514.340255</td>\n",
       "    </tr>\n",
       "    <tr>\n",
       "      <th>2022-01-01 01:00:00</th>\n",
       "      <td>10762.75</td>\n",
       "      <td>9796.0</td>\n",
       "      <td>8977.0</td>\n",
       "      <td>14482.0</td>\n",
       "      <td>2543.161205</td>\n",
       "    </tr>\n",
       "    <tr>\n",
       "      <th>2022-01-01 02:00:00</th>\n",
       "      <td>11108.50</td>\n",
       "      <td>10062.0</td>\n",
       "      <td>9407.0</td>\n",
       "      <td>14903.0</td>\n",
       "      <td>2581.843979</td>\n",
       "    </tr>\n",
       "    <tr>\n",
       "      <th>2022-01-01 03:00:00</th>\n",
       "      <td>11134.50</td>\n",
       "      <td>10061.0</td>\n",
       "      <td>9369.0</td>\n",
       "      <td>15047.0</td>\n",
       "      <td>2685.473825</td>\n",
       "    </tr>\n",
       "    <tr>\n",
       "      <th>2022-01-01 04:00:00</th>\n",
       "      <td>10771.00</td>\n",
       "      <td>9673.5</td>\n",
       "      <td>9072.0</td>\n",
       "      <td>14665.0</td>\n",
       "      <td>2641.970855</td>\n",
       "    </tr>\n",
       "    <tr>\n",
       "      <th>...</th>\n",
       "      <td>...</td>\n",
       "      <td>...</td>\n",
       "      <td>...</td>\n",
       "      <td>...</td>\n",
       "      <td>...</td>\n",
       "    </tr>\n",
       "    <tr>\n",
       "      <th>2022-12-31 20:00:00</th>\n",
       "      <td>8256.25</td>\n",
       "      <td>7559.0</td>\n",
       "      <td>7343.0</td>\n",
       "      <td>10564.0</td>\n",
       "      <td>1542.323221</td>\n",
       "    </tr>\n",
       "    <tr>\n",
       "      <th>2022-12-31 21:00:00</th>\n",
       "      <td>8074.75</td>\n",
       "      <td>7393.5</td>\n",
       "      <td>7157.0</td>\n",
       "      <td>10355.0</td>\n",
       "      <td>1524.540669</td>\n",
       "    </tr>\n",
       "    <tr>\n",
       "      <th>2022-12-31 22:00:00</th>\n",
       "      <td>7998.25</td>\n",
       "      <td>7409.5</td>\n",
       "      <td>7043.0</td>\n",
       "      <td>10131.0</td>\n",
       "      <td>1436.249601</td>\n",
       "    </tr>\n",
       "    <tr>\n",
       "      <th>2022-12-31 23:00:00</th>\n",
       "      <td>7844.00</td>\n",
       "      <td>7306.0</td>\n",
       "      <td>6951.0</td>\n",
       "      <td>9813.0</td>\n",
       "      <td>1326.676298</td>\n",
       "    </tr>\n",
       "    <tr>\n",
       "      <th>2023-01-01 00:00:00</th>\n",
       "      <td>7888.75</td>\n",
       "      <td>7383.0</td>\n",
       "      <td>6997.0</td>\n",
       "      <td>9792.0</td>\n",
       "      <td>1285.936332</td>\n",
       "    </tr>\n",
       "  </tbody>\n",
       "</table>\n",
       "<p>8738 rows × 5 columns</p>\n",
       "</div>"
      ],
      "text/plain": [
       "                        value                                       \n",
       "                         mean   median     min      max          std\n",
       "datetime                                                            \n",
       "2022-01-01 00:00:00  10242.75   9239.0  8535.0  13958.0  2514.340255\n",
       "2022-01-01 01:00:00  10762.75   9796.0  8977.0  14482.0  2543.161205\n",
       "2022-01-01 02:00:00  11108.50  10062.0  9407.0  14903.0  2581.843979\n",
       "2022-01-01 03:00:00  11134.50  10061.0  9369.0  15047.0  2685.473825\n",
       "2022-01-01 04:00:00  10771.00   9673.5  9072.0  14665.0  2641.970855\n",
       "...                       ...      ...     ...      ...          ...\n",
       "2022-12-31 20:00:00   8256.25   7559.0  7343.0  10564.0  1542.323221\n",
       "2022-12-31 21:00:00   8074.75   7393.5  7157.0  10355.0  1524.540669\n",
       "2022-12-31 22:00:00   7998.25   7409.5  7043.0  10131.0  1436.249601\n",
       "2022-12-31 23:00:00   7844.00   7306.0  6951.0   9813.0  1326.676298\n",
       "2023-01-01 00:00:00   7888.75   7383.0  6997.0   9792.0  1285.936332\n",
       "\n",
       "[8738 rows x 5 columns]"
      ]
     },
     "execution_count": 312,
     "metadata": {},
     "output_type": "execute_result"
    }
   ],
   "source": [
    "bpat_data[['datetime','value']].groupby('datetime').agg(['mean','median','min','max','std'])"
   ]
  },
  {
   "cell_type": "code",
   "execution_count": 316,
   "metadata": {},
   "outputs": [
    {
     "data": {
      "text/html": [
       "<div>\n",
       "<style scoped>\n",
       "    .dataframe tbody tr th:only-of-type {\n",
       "        vertical-align: middle;\n",
       "    }\n",
       "\n",
       "    .dataframe tbody tr th {\n",
       "        vertical-align: top;\n",
       "    }\n",
       "\n",
       "    .dataframe thead th {\n",
       "        text-align: right;\n",
       "    }\n",
       "</style>\n",
       "<table border=\"1\" class=\"dataframe\">\n",
       "  <thead>\n",
       "    <tr style=\"text-align: right;\">\n",
       "      <th></th>\n",
       "      <th>datetime</th>\n",
       "      <th>type</th>\n",
       "      <th>type_name</th>\n",
       "      <th>value</th>\n",
       "    </tr>\n",
       "  </thead>\n",
       "  <tbody>\n",
       "    <tr>\n",
       "      <th>26</th>\n",
       "      <td>2023-01-01 00:00:00</td>\n",
       "      <td>D</td>\n",
       "      <td>Demand</td>\n",
       "      <td>6997.0</td>\n",
       "    </tr>\n",
       "    <tr>\n",
       "      <th>100</th>\n",
       "      <td>2023-01-01 00:00:00</td>\n",
       "      <td>DF</td>\n",
       "      <td>Day-ahead demand forecast</td>\n",
       "      <td>7257.0</td>\n",
       "    </tr>\n",
       "    <tr>\n",
       "      <th>139</th>\n",
       "      <td>2023-01-01 00:00:00</td>\n",
       "      <td>NG</td>\n",
       "      <td>Net generation</td>\n",
       "      <td>9792.0</td>\n",
       "    </tr>\n",
       "    <tr>\n",
       "      <th>283</th>\n",
       "      <td>2023-01-01 00:00:00</td>\n",
       "      <td>TI</td>\n",
       "      <td>Total interchange</td>\n",
       "      <td>7509.0</td>\n",
       "    </tr>\n",
       "    <tr>\n",
       "      <th>351</th>\n",
       "      <td>2022-12-31 23:00:00</td>\n",
       "      <td>D</td>\n",
       "      <td>Demand</td>\n",
       "      <td>6951.0</td>\n",
       "    </tr>\n",
       "  </tbody>\n",
       "</table>\n",
       "</div>"
      ],
      "text/plain": [
       "               datetime type                  type_name   value\n",
       "26  2023-01-01 00:00:00    D                     Demand  6997.0\n",
       "100 2023-01-01 00:00:00   DF  Day-ahead demand forecast  7257.0\n",
       "139 2023-01-01 00:00:00   NG             Net generation  9792.0\n",
       "283 2023-01-01 00:00:00   TI          Total interchange  7509.0\n",
       "351 2022-12-31 23:00:00    D                     Demand  6951.0"
      ]
     },
     "execution_count": 316,
     "metadata": {},
     "output_type": "execute_result"
    }
   ],
   "source": [
    "bpat_data.head()"
   ]
  },
  {
   "cell_type": "code",
   "execution_count": 313,
   "metadata": {},
   "outputs": [
    {
     "ename": "SyntaxError",
     "evalue": "invalid syntax (1491018599.py, line 1)",
     "output_type": "error",
     "traceback": [
      "\u001b[1;36m  Cell \u001b[1;32mIn[313], line 1\u001b[1;36m\u001b[0m\n\u001b[1;33m    bpat_data[['datetime','value']].groupby('datetime')?\u001b[0m\n\u001b[1;37m                                                       ^\u001b[0m\n\u001b[1;31mSyntaxError\u001b[0m\u001b[1;31m:\u001b[0m invalid syntax\n"
     ]
    }
   ],
   "source": [
    "bpat_data[['datetime','value']].groupby('datetime')?"
   ]
  },
  {
   "cell_type": "code",
   "execution_count": 89,
   "metadata": {},
   "outputs": [
    {
     "data": {
      "text/plain": [
       "pandas.core.groupby.generic.DataFrameGroupBy"
      ]
     },
     "execution_count": 89,
     "metadata": {},
     "output_type": "execute_result"
    }
   ],
   "source": [
    "AgeGS = mortality_data.groupby(\"AgeGroup\")\n",
    "type(AgeGS)"
   ]
  },
  {
   "cell_type": "code",
   "execution_count": 91,
   "metadata": {},
   "outputs": [
    {
     "data": {
      "text/html": [
       "<div>\n",
       "<style scoped>\n",
       "    .dataframe tbody tr th:only-of-type {\n",
       "        vertical-align: middle;\n",
       "    }\n",
       "\n",
       "    .dataframe tbody tr th {\n",
       "        vertical-align: top;\n",
       "    }\n",
       "\n",
       "    .dataframe thead th {\n",
       "        text-align: right;\n",
       "    }\n",
       "</style>\n",
       "<table border=\"1\" class=\"dataframe\">\n",
       "  <thead>\n",
       "    <tr style=\"text-align: right;\">\n",
       "      <th></th>\n",
       "      <th>mean</th>\n",
       "      <th>median</th>\n",
       "      <th>std</th>\n",
       "      <th>nunique</th>\n",
       "    </tr>\n",
       "    <tr>\n",
       "      <th>AgeGroup</th>\n",
       "      <th></th>\n",
       "      <th></th>\n",
       "      <th></th>\n",
       "      <th></th>\n",
       "    </tr>\n",
       "  </thead>\n",
       "  <tbody>\n",
       "    <tr>\n",
       "      <th>1-4 Years</th>\n",
       "      <td>0.193277</td>\n",
       "      <td>False</td>\n",
       "      <td>0.396538</td>\n",
       "      <td>2</td>\n",
       "    </tr>\n",
       "    <tr>\n",
       "      <th>10-14 Years</th>\n",
       "      <td>0.000000</td>\n",
       "      <td>False</td>\n",
       "      <td>0.000000</td>\n",
       "      <td>1</td>\n",
       "    </tr>\n",
       "    <tr>\n",
       "      <th>15-19 Years</th>\n",
       "      <td>0.000000</td>\n",
       "      <td>False</td>\n",
       "      <td>0.000000</td>\n",
       "      <td>1</td>\n",
       "    </tr>\n",
       "    <tr>\n",
       "      <th>5-9 Years</th>\n",
       "      <td>0.000000</td>\n",
       "      <td>False</td>\n",
       "      <td>0.000000</td>\n",
       "      <td>1</td>\n",
       "    </tr>\n",
       "  </tbody>\n",
       "</table>\n",
       "</div>"
      ],
      "text/plain": [
       "                 mean  median       std  nunique\n",
       "AgeGroup                                        \n",
       "1-4 Years    0.193277   False  0.396538        2\n",
       "10-14 Years  0.000000   False  0.000000        1\n",
       "15-19 Years  0.000000   False  0.000000        1\n",
       "5-9 Years    0.000000   False  0.000000        1"
      ]
     },
     "execution_count": 91,
     "metadata": {},
     "output_type": "execute_result"
    }
   ],
   "source": [
    "AgeGS[\"outlier\"].agg(['mean','median','std','nunique'])"
   ]
  },
  {
   "cell_type": "code",
   "execution_count": 92,
   "metadata": {},
   "outputs": [
    {
     "data": {
      "text/html": [
       "<div>\n",
       "<style scoped>\n",
       "    .dataframe tbody tr th:only-of-type {\n",
       "        vertical-align: middle;\n",
       "    }\n",
       "\n",
       "    .dataframe tbody tr th {\n",
       "        vertical-align: top;\n",
       "    }\n",
       "\n",
       "    .dataframe thead th {\n",
       "        text-align: right;\n",
       "    }\n",
       "</style>\n",
       "<table border=\"1\" class=\"dataframe\">\n",
       "  <thead>\n",
       "    <tr style=\"text-align: right;\">\n",
       "      <th></th>\n",
       "      <th>mean</th>\n",
       "      <th>median</th>\n",
       "      <th>std</th>\n",
       "      <th>nunique</th>\n",
       "    </tr>\n",
       "    <tr>\n",
       "      <th>AgeGroup</th>\n",
       "      <th></th>\n",
       "      <th></th>\n",
       "      <th></th>\n",
       "      <th></th>\n",
       "    </tr>\n",
       "  </thead>\n",
       "  <tbody>\n",
       "    <tr>\n",
       "      <th>1-4 Years</th>\n",
       "      <td>0.003832</td>\n",
       "      <td>0.001091</td>\n",
       "      <td>0.005005</td>\n",
       "      <td>117</td>\n",
       "    </tr>\n",
       "    <tr>\n",
       "      <th>10-14 Years</th>\n",
       "      <td>0.000938</td>\n",
       "      <td>0.000446</td>\n",
       "      <td>0.000884</td>\n",
       "      <td>115</td>\n",
       "    </tr>\n",
       "    <tr>\n",
       "      <th>15-19 Years</th>\n",
       "      <td>0.001774</td>\n",
       "      <td>0.001069</td>\n",
       "      <td>0.001384</td>\n",
       "      <td>117</td>\n",
       "    </tr>\n",
       "    <tr>\n",
       "      <th>5-9 Years</th>\n",
       "      <td>0.001173</td>\n",
       "      <td>0.000484</td>\n",
       "      <td>0.001275</td>\n",
       "      <td>115</td>\n",
       "    </tr>\n",
       "  </tbody>\n",
       "</table>\n",
       "</div>"
      ],
      "text/plain": [
       "                 mean    median       std  nunique\n",
       "AgeGroup                                          \n",
       "1-4 Years    0.003832  0.001091  0.005005      117\n",
       "10-14 Years  0.000938  0.000446  0.000884      115\n",
       "15-19 Years  0.001774  0.001069  0.001384      117\n",
       "5-9 Years    0.001173  0.000484  0.001275      115"
      ]
     },
     "execution_count": 92,
     "metadata": {},
     "output_type": "execute_result"
    }
   ],
   "source": [
    "mortality_data.groupby('AgeGroup')['DeathRate'] \\\n",
    "    .agg(['mean','median','std','nunique'])"
   ]
  },
  {
   "cell_type": "code",
   "execution_count": 93,
   "metadata": {},
   "outputs": [
    {
     "data": {
      "text/html": [
       "<div>\n",
       "<style scoped>\n",
       "    .dataframe tbody tr th:only-of-type {\n",
       "        vertical-align: middle;\n",
       "    }\n",
       "\n",
       "    .dataframe tbody tr th {\n",
       "        vertical-align: top;\n",
       "    }\n",
       "\n",
       "    .dataframe thead th {\n",
       "        text-align: right;\n",
       "    }\n",
       "</style>\n",
       "<table border=\"1\" class=\"dataframe\">\n",
       "  <thead>\n",
       "    <tr style=\"text-align: right;\">\n",
       "      <th></th>\n",
       "      <th>mean</th>\n",
       "      <th>median</th>\n",
       "      <th>std</th>\n",
       "      <th>min</th>\n",
       "      <th>max</th>\n",
       "      <th>var</th>\n",
       "      <th>nunique</th>\n",
       "    </tr>\n",
       "    <tr>\n",
       "      <th>Year</th>\n",
       "      <th></th>\n",
       "      <th></th>\n",
       "      <th></th>\n",
       "      <th></th>\n",
       "      <th></th>\n",
       "      <th></th>\n",
       "      <th></th>\n",
       "    </tr>\n",
       "  </thead>\n",
       "  <tbody>\n",
       "    <tr>\n",
       "      <th>1900</th>\n",
       "      <td>0.008082</td>\n",
       "      <td>0.004755</td>\n",
       "      <td>0.007882</td>\n",
       "      <td>0.002983</td>\n",
       "      <td>0.019838</td>\n",
       "      <td>0.000062</td>\n",
       "      <td>4</td>\n",
       "    </tr>\n",
       "    <tr>\n",
       "      <th>1901</th>\n",
       "      <td>0.007127</td>\n",
       "      <td>0.004410</td>\n",
       "      <td>0.006597</td>\n",
       "      <td>0.002736</td>\n",
       "      <td>0.016950</td>\n",
       "      <td>0.000044</td>\n",
       "      <td>4</td>\n",
       "    </tr>\n",
       "    <tr>\n",
       "      <th>1902</th>\n",
       "      <td>0.006832</td>\n",
       "      <td>0.004124</td>\n",
       "      <td>0.006527</td>\n",
       "      <td>0.002525</td>\n",
       "      <td>0.016557</td>\n",
       "      <td>0.000043</td>\n",
       "      <td>4</td>\n",
       "    </tr>\n",
       "  </tbody>\n",
       "</table>\n",
       "</div>"
      ],
      "text/plain": [
       "          mean    median       std       min       max       var  nunique\n",
       "Year                                                                     \n",
       "1900  0.008082  0.004755  0.007882  0.002983  0.019838  0.000062        4\n",
       "1901  0.007127  0.004410  0.006597  0.002736  0.016950  0.000044        4\n",
       "1902  0.006832  0.004124  0.006527  0.002525  0.016557  0.000043        4"
      ]
     },
     "execution_count": 93,
     "metadata": {},
     "output_type": "execute_result"
    }
   ],
   "source": [
    "mortality_data.groupby('Year')['DeathRate'] \\\n",
    "    .agg(['mean','median','std','min','max','var','nunique']).head(3)"
   ]
  },
  {
   "cell_type": "code",
   "execution_count": 94,
   "metadata": {},
   "outputs": [
    {
     "data": {
      "text/plain": [
       "0.0022257500000000003"
      ]
     },
     "execution_count": 94,
     "metadata": {},
     "output_type": "execute_result"
    }
   ],
   "source": [
    "def fun_1q(foo): return foo.quantile(0.75)\n",
    "\n",
    "fun_1q(mortality_data.DeathRate)"
   ]
  },
  {
   "cell_type": "code",
   "execution_count": 95,
   "metadata": {},
   "outputs": [
    {
     "data": {
      "text/plain": [
       "1-4 Years    0.005773\n",
       "Name: 0.75, dtype: float64"
      ]
     },
     "execution_count": 95,
     "metadata": {},
     "output_type": "execute_result"
    }
   ],
   "source": [
    "fun_1q(mortality_wide[['1-4 Years']])"
   ]
  },
  {
   "cell_type": "markdown",
   "metadata": {},
   "source": [
    "## Visualize the data"
   ]
  },
  {
   "cell_type": "code",
   "execution_count": 317,
   "metadata": {},
   "outputs": [
    {
     "data": {
      "text/html": [
       "<div>\n",
       "<style scoped>\n",
       "    .dataframe tbody tr th:only-of-type {\n",
       "        vertical-align: middle;\n",
       "    }\n",
       "\n",
       "    .dataframe tbody tr th {\n",
       "        vertical-align: top;\n",
       "    }\n",
       "\n",
       "    .dataframe thead th {\n",
       "        text-align: right;\n",
       "    }\n",
       "</style>\n",
       "<table border=\"1\" class=\"dataframe\">\n",
       "  <thead>\n",
       "    <tr style=\"text-align: right;\">\n",
       "      <th>type_name</th>\n",
       "      <th>Day-ahead demand forecast</th>\n",
       "      <th>Demand</th>\n",
       "      <th>Net generation</th>\n",
       "      <th>Total interchange</th>\n",
       "    </tr>\n",
       "    <tr>\n",
       "      <th>datetime</th>\n",
       "      <th></th>\n",
       "      <th></th>\n",
       "      <th></th>\n",
       "      <th></th>\n",
       "    </tr>\n",
       "  </thead>\n",
       "  <tbody>\n",
       "    <tr>\n",
       "      <th>2022-01-01 00:00:00</th>\n",
       "      <td>8899.0</td>\n",
       "      <td>8535.0</td>\n",
       "      <td>13958.0</td>\n",
       "      <td>9579.0</td>\n",
       "    </tr>\n",
       "    <tr>\n",
       "      <th>2022-01-01 01:00:00</th>\n",
       "      <td>9290.0</td>\n",
       "      <td>8977.0</td>\n",
       "      <td>14482.0</td>\n",
       "      <td>10302.0</td>\n",
       "    </tr>\n",
       "    <tr>\n",
       "      <th>2022-01-01 02:00:00</th>\n",
       "      <td>9555.0</td>\n",
       "      <td>9407.0</td>\n",
       "      <td>14903.0</td>\n",
       "      <td>10569.0</td>\n",
       "    </tr>\n",
       "    <tr>\n",
       "      <th>2022-01-01 03:00:00</th>\n",
       "      <td>9388.0</td>\n",
       "      <td>9369.0</td>\n",
       "      <td>15047.0</td>\n",
       "      <td>10734.0</td>\n",
       "    </tr>\n",
       "    <tr>\n",
       "      <th>2022-01-01 04:00:00</th>\n",
       "      <td>9072.0</td>\n",
       "      <td>9183.0</td>\n",
       "      <td>14665.0</td>\n",
       "      <td>10164.0</td>\n",
       "    </tr>\n",
       "    <tr>\n",
       "      <th>...</th>\n",
       "      <td>...</td>\n",
       "      <td>...</td>\n",
       "      <td>...</td>\n",
       "      <td>...</td>\n",
       "    </tr>\n",
       "    <tr>\n",
       "      <th>2022-12-31 20:00:00</th>\n",
       "      <td>7605.0</td>\n",
       "      <td>7343.0</td>\n",
       "      <td>10564.0</td>\n",
       "      <td>7513.0</td>\n",
       "    </tr>\n",
       "    <tr>\n",
       "      <th>2022-12-31 21:00:00</th>\n",
       "      <td>7430.0</td>\n",
       "      <td>7157.0</td>\n",
       "      <td>10355.0</td>\n",
       "      <td>7357.0</td>\n",
       "    </tr>\n",
       "    <tr>\n",
       "      <th>2022-12-31 22:00:00</th>\n",
       "      <td>7279.0</td>\n",
       "      <td>7043.0</td>\n",
       "      <td>10131.0</td>\n",
       "      <td>7540.0</td>\n",
       "    </tr>\n",
       "    <tr>\n",
       "      <th>2022-12-31 23:00:00</th>\n",
       "      <td>7190.0</td>\n",
       "      <td>6951.0</td>\n",
       "      <td>9813.0</td>\n",
       "      <td>7422.0</td>\n",
       "    </tr>\n",
       "    <tr>\n",
       "      <th>2023-01-01 00:00:00</th>\n",
       "      <td>7257.0</td>\n",
       "      <td>6997.0</td>\n",
       "      <td>9792.0</td>\n",
       "      <td>7509.0</td>\n",
       "    </tr>\n",
       "  </tbody>\n",
       "</table>\n",
       "<p>8738 rows × 4 columns</p>\n",
       "</div>"
      ],
      "text/plain": [
       "type_name            Day-ahead demand forecast  Demand  Net generation   \n",
       "datetime                                                                 \n",
       "2022-01-01 00:00:00                     8899.0  8535.0         13958.0  \\\n",
       "2022-01-01 01:00:00                     9290.0  8977.0         14482.0   \n",
       "2022-01-01 02:00:00                     9555.0  9407.0         14903.0   \n",
       "2022-01-01 03:00:00                     9388.0  9369.0         15047.0   \n",
       "2022-01-01 04:00:00                     9072.0  9183.0         14665.0   \n",
       "...                                        ...     ...             ...   \n",
       "2022-12-31 20:00:00                     7605.0  7343.0         10564.0   \n",
       "2022-12-31 21:00:00                     7430.0  7157.0         10355.0   \n",
       "2022-12-31 22:00:00                     7279.0  7043.0         10131.0   \n",
       "2022-12-31 23:00:00                     7190.0  6951.0          9813.0   \n",
       "2023-01-01 00:00:00                     7257.0  6997.0          9792.0   \n",
       "\n",
       "type_name            Total interchange  \n",
       "datetime                                \n",
       "2022-01-01 00:00:00             9579.0  \n",
       "2022-01-01 01:00:00            10302.0  \n",
       "2022-01-01 02:00:00            10569.0  \n",
       "2022-01-01 03:00:00            10734.0  \n",
       "2022-01-01 04:00:00            10164.0  \n",
       "...                                ...  \n",
       "2022-12-31 20:00:00             7513.0  \n",
       "2022-12-31 21:00:00             7357.0  \n",
       "2022-12-31 22:00:00             7540.0  \n",
       "2022-12-31 23:00:00             7422.0  \n",
       "2023-01-01 00:00:00             7509.0  \n",
       "\n",
       "[8738 rows x 4 columns]"
      ]
     },
     "execution_count": 317,
     "metadata": {},
     "output_type": "execute_result"
    }
   ],
   "source": [
    "bpat_data.pivot(index='datetime',columns='type_name')['value']"
   ]
  },
  {
   "cell_type": "code",
   "execution_count": 318,
   "metadata": {},
   "outputs": [
    {
     "data": {
      "text/plain": [
       "<Axes: xlabel='typing.Literal[<no_default>]'>"
      ]
     },
     "execution_count": 318,
     "metadata": {},
     "output_type": "execute_result"
    },
    {
     "data": {
      "image/png": "[encoded data removed]",
      "text/plain": [
       "<Figure size 640x480 with 1 Axes>"
      ]
     },
     "metadata": {},
     "output_type": "display_data"
    }
   ],
   "source": [
    "bpat_data['value'].plot()"
   ]
  },
  {
   "cell_type": "code",
   "execution_count": 322,
   "metadata": {},
   "outputs": [
    {
     "data": {
      "text/plain": [
       "<Axes: xlabel='datetime'>"
      ]
     },
     "execution_count": 322,
     "metadata": {},
     "output_type": "execute_result"
    },
    {
     "data": {
      "image/png": "[encoded data removed]",
      "text/plain": [
       "<Figure size 640x480 with 1 Axes>"
      ]
     },
     "metadata": {},
     "output_type": "display_data"
    }
   ],
   "source": [
    "bpat_data.pivot(index='datetime',columns='type_name')['value'].plot()\n"
   ]
  },
  {
   "cell_type": "code",
   "execution_count": 333,
   "metadata": {},
   "outputs": [
    {
     "data": {
      "text/plain": [
       "<Axes: xlabel='datetime'>"
      ]
     },
     "execution_count": 333,
     "metadata": {},
     "output_type": "execute_result"
    },
    {
     "data": {
      "image/png": "[encoded data removed]",
      "text/plain": [
       "<Figure size 640x480 with 1 Axes>"
      ]
     },
     "metadata": {},
     "output_type": "display_data"
    }
   ],
   "source": [
    "bpat_data.query('20220401 <= datetime <= 20220407') \\\n",
    "    .pivot(index='datetime',columns='type_name')['value'].plot()"
   ]
  },
  {
   "cell_type": "code",
   "execution_count": 334,
   "metadata": {},
   "outputs": [
    {
     "data": {
      "text/plain": [
       "<Axes: xlabel='datetime'>"
      ]
     },
     "execution_count": 334,
     "metadata": {},
     "output_type": "execute_result"
    },
    {
     "data": {
      "image/png": "[encoded data removed]",
      "text/plain": [
       "<Figure size 640x480 with 1 Axes>"
      ]
     },
     "metadata": {},
     "output_type": "display_data"
    }
   ],
   "source": [
    "bpat_data.query('20220401 <= datetime < 20220402') \\\n",
    "    .pivot(index='datetime',columns='type_name')['value'].plot()"
   ]
  },
  {
   "cell_type": "code",
   "execution_count": 323,
   "metadata": {},
   "outputs": [
    {
     "data": {
      "text/html": [
       "<div>\n",
       "<style scoped>\n",
       "    .dataframe tbody tr th:only-of-type {\n",
       "        vertical-align: middle;\n",
       "    }\n",
       "\n",
       "    .dataframe tbody tr th {\n",
       "        vertical-align: top;\n",
       "    }\n",
       "\n",
       "    .dataframe thead th {\n",
       "        text-align: right;\n",
       "    }\n",
       "</style>\n",
       "<table border=\"1\" class=\"dataframe\">\n",
       "  <thead>\n",
       "    <tr style=\"text-align: right;\">\n",
       "      <th></th>\n",
       "      <th>mean</th>\n",
       "      <th>median</th>\n",
       "      <th>std</th>\n",
       "    </tr>\n",
       "    <tr>\n",
       "      <th>type</th>\n",
       "      <th></th>\n",
       "      <th></th>\n",
       "      <th></th>\n",
       "    </tr>\n",
       "  </thead>\n",
       "  <tbody>\n",
       "    <tr>\n",
       "      <th>D</th>\n",
       "      <td>6663.427834</td>\n",
       "      <td>6525.0</td>\n",
       "      <td>1058.655307</td>\n",
       "    </tr>\n",
       "    <tr>\n",
       "      <th>DF</th>\n",
       "      <td>6690.771609</td>\n",
       "      <td>6539.0</td>\n",
       "      <td>1057.333577</td>\n",
       "    </tr>\n",
       "    <tr>\n",
       "      <th>NG</th>\n",
       "      <td>11217.600945</td>\n",
       "      <td>11253.0</td>\n",
       "      <td>2660.874289</td>\n",
       "    </tr>\n",
       "    <tr>\n",
       "      <th>TI</th>\n",
       "      <td>8313.940023</td>\n",
       "      <td>8351.0</td>\n",
       "      <td>2222.434494</td>\n",
       "    </tr>\n",
       "  </tbody>\n",
       "</table>\n",
       "</div>"
      ],
      "text/plain": [
       "              mean   median          std\n",
       "type                                    \n",
       "D      6663.427834   6525.0  1058.655307\n",
       "DF     6690.771609   6539.0  1057.333577\n",
       "NG    11217.600945  11253.0  2660.874289\n",
       "TI     8313.940023   8351.0  2222.434494"
      ]
     },
     "execution_count": 323,
     "metadata": {},
     "output_type": "execute_result"
    }
   ],
   "source": [
    "bpat_data.groupby('type')['value'] \\\n",
    "    .agg(['mean','median','std'])\n"
   ]
  },
  {
   "cell_type": "code",
   "execution_count": 324,
   "metadata": {},
   "outputs": [
    {
     "data": {
      "text/plain": [
       "<Axes: ylabel='type'>"
      ]
     },
     "execution_count": 324,
     "metadata": {},
     "output_type": "execute_result"
    },
    {
     "data": {
      "image/png": "[encoded data removed]",
      "text/plain": [
       "<Figure size 640x480 with 1 Axes>"
      ]
     },
     "metadata": {},
     "output_type": "display_data"
    }
   ],
   "source": [
    "bpat_data.groupby('type')['value'] \\\n",
    "    .agg(['mean','median','std']).plot.barh()"
   ]
  },
  {
   "cell_type": "code",
   "execution_count": null,
   "metadata": {},
   "outputs": [],
   "source": [
    "#!pip install seaborn"
   ]
  },
  {
   "cell_type": "code",
   "execution_count": 327,
   "metadata": {},
   "outputs": [],
   "source": [
    "import seaborn as sb"
   ]
  },
  {
   "cell_type": "code",
   "execution_count": 330,
   "metadata": {},
   "outputs": [
    {
     "data": {
      "text/plain": [
       "[Text(0, 0.5, 'Megawatt Hours')]"
      ]
     },
     "execution_count": 330,
     "metadata": {},
     "output_type": "execute_result"
    },
    {
     "data": {
      "image/png": "[encoded data removed]",
      "text/plain": [
       "<Figure size 640x480 with 1 Axes>"
      ]
     },
     "metadata": {},
     "output_type": "display_data"
    }
   ],
   "source": [
    "sb.boxplot(data=bpat_data, \n",
    "             y='value', x='type').set(ylabel='Megawatt Hours')"
   ]
  },
  {
   "cell_type": "code",
   "execution_count": 332,
   "metadata": {},
   "outputs": [
    {
     "data": {
      "text/plain": [
       "<seaborn.axisgrid.FacetGrid at 0x2a5ecb5d650>"
      ]
     },
     "execution_count": 332,
     "metadata": {},
     "output_type": "execute_result"
    },
    {
     "data": {
      "image/png": "[encoded data removed]",
      "text/plain": [
       "<Figure size 1000x800 with 4 Axes>"
      ]
     },
     "metadata": {},
     "output_type": "display_data"
    }
   ],
   "source": [
    "sb.relplot(data=bpat_data, \n",
    "            kind='line', x='datetime', y='value', hue='type', \n",
    "            height=4, aspect=1.25, \n",
    "            col='type', col_wrap=2, legend=False).set(ylabel='MW Hrs')"
   ]
  },
  {
   "cell_type": "code",
   "execution_count": null,
   "metadata": {},
   "outputs": [],
   "source": []
  }
 ],
 "metadata": {
  "interpreter": {
   "hash": "81794d4967e6c3204c66dcd87b604927b115b27c00565d3d43f05ba2f3a2cb0d"
  },
  "kernelspec": {
   "display_name": "Python 3.9.5 64-bit",
   "language": "python",
   "name": "python3"
  },
  "language_info": {
   "codemirror_mode": {
    "name": "ipython",
    "version": 3
   },
   "file_extension": ".py",
   "mimetype": "text/x-python",
   "name": "python",
   "nbconvert_exporter": "python",
   "pygments_lexer": "ipython3",
   "version": "3.11.3"
  },
  "nteract": {
   "version": "0.15.0"
  }
 },
 "nbformat": 4,
 "nbformat_minor": 4
}
