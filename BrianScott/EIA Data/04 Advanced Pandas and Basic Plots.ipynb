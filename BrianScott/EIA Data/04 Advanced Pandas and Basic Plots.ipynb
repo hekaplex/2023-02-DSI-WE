{
 "cells": [
  {
   "cell_type": "markdown",
   "metadata": {},
   "source": [
    "## Advanced Pandas, Basic Python Viz and Exercise\n",
    "\n",
    "### Exercise\n",
    "1. Use the same dataframes you generated or copied to this directory from the 03 Exercise:\n",
    "    1. Extract of any SQL database \n",
    "    1. Imported file from your capstone work\n",
    "    1. Any other data from other exercises you have aleady used\n",
    "1. Import into Pandas\n",
    "1. Generate at least three additional dataframes with analytics introduced in this notebook\n",
    "    1. Melt\n",
    "    1. Pivot\n",
    "    1. Quantile\n",
    "    1. Aggregations\n",
    "1. Build at least three  visualizations supported by Pandas directly using prior analytics from the 03 Exercise or new analytics from this exercise"
   ]
  },
  {
   "cell_type": "code",
   "execution_count": null,
   "metadata": {},
   "outputs": [],
   "source": [
    "!pip install openpyxl"
   ]
  },
  {
   "cell_type": "markdown",
   "metadata": {},
   "source": [
    "## Get the data"
   ]
  },
  {
   "cell_type": "markdown",
   "metadata": {},
   "source": [
    "### Read a CSV file from a website into a DataFrame"
   ]
  },
  {
   "cell_type": "code",
   "execution_count": 1,
   "metadata": {},
   "outputs": [],
   "source": [
    "import pandas as pd\n",
    "import numpy as np\n",
    "\n",
    "#eia2022.csv was retrieved from the U.S. Energy Information Administration API using code in EIA_Electricity.ipynb\n",
    "csv_path = 'eia2022.csv'\n",
    "\n",
    "eia_data = pd.read_csv(csv_path, low_memory=False)\n",
    "eia_data['value'] = pd.to_numeric(eia_data['value'], errors='coerce')\n"
   ]
  },
  {
   "attachments": {},
   "cell_type": "markdown",
   "metadata": {},
   "source": [
    "* Net generation:  The amount of gross generation less the electrical energy consumed at the generating station(s) for station service or auxiliaries. Note: Electricity required for pumping at pumped-storage plants is regarded as electricity for station service and is deducted from gross generation.\n",
    "* Interchange (electric):  Energy transfers that cross Balancing Authority boundaries.\n",
    "* Electricity demand:  The rate at which energy is delivered to loads and scheduling points by generation, transmission, and distribution facilities."
   ]
  },
  {
   "cell_type": "code",
   "execution_count": 2,
   "metadata": {},
   "outputs": [],
   "source": [
    "eia_data['datetime'] = pd.to_datetime(eia_data['period'], yearfirst=True, errors='coerce')"
   ]
  },
  {
   "cell_type": "code",
   "execution_count": 3,
   "metadata": {},
   "outputs": [
    {
     "data": {
      "text/plain": [
       "pandas.core.frame.DataFrame"
      ]
     },
     "execution_count": 3,
     "metadata": {},
     "output_type": "execute_result"
    }
   ],
   "source": [
    "type(eia_data)"
   ]
  },
  {
   "cell_type": "code",
   "execution_count": 4,
   "metadata": {},
   "outputs": [
    {
     "name": "stdout",
     "output_type": "stream",
     "text": [
      "<class 'pandas.core.frame.DataFrame'>\n",
      "RangeIndex: 2503256 entries, 0 to 2503255\n",
      "Data columns (total 8 columns):\n",
      " #   Column           Dtype         \n",
      "---  ------           -----         \n",
      " 0   period           object        \n",
      " 1   respondent       object        \n",
      " 2   respondent-name  object        \n",
      " 3   type             object        \n",
      " 4   type-name        object        \n",
      " 5   value            float64       \n",
      " 6   value-units      object        \n",
      " 7   datetime         datetime64[ns]\n",
      "dtypes: datetime64[ns](1), float64(1), object(6)\n",
      "memory usage: 152.8+ MB\n"
     ]
    }
   ],
   "source": [
    "eia_data.info()"
   ]
  },
  {
   "cell_type": "code",
   "execution_count": 5,
   "metadata": {},
   "outputs": [
    {
     "data": {
      "text/html": [
       "<div>\n",
       "<style scoped>\n",
       "    .dataframe tbody tr th:only-of-type {\n",
       "        vertical-align: middle;\n",
       "    }\n",
       "\n",
       "    .dataframe tbody tr th {\n",
       "        vertical-align: top;\n",
       "    }\n",
       "\n",
       "    .dataframe thead th {\n",
       "        text-align: right;\n",
       "    }\n",
       "</style>\n",
       "<table border=\"1\" class=\"dataframe\">\n",
       "  <thead>\n",
       "    <tr style=\"text-align: right;\">\n",
       "      <th></th>\n",
       "      <th>period</th>\n",
       "      <th>respondent</th>\n",
       "      <th>respondent-name</th>\n",
       "      <th>type</th>\n",
       "      <th>type-name</th>\n",
       "      <th>value</th>\n",
       "      <th>value-units</th>\n",
       "      <th>datetime</th>\n",
       "    </tr>\n",
       "  </thead>\n",
       "  <tbody>\n",
       "    <tr>\n",
       "      <th>0</th>\n",
       "      <td>2023-01-01T00</td>\n",
       "      <td>JEA</td>\n",
       "      <td>JEA</td>\n",
       "      <td>TI</td>\n",
       "      <td>Total interchange</td>\n",
       "      <td>-300.0</td>\n",
       "      <td>megawatthours</td>\n",
       "      <td>2023-01-01 00:00:00</td>\n",
       "    </tr>\n",
       "    <tr>\n",
       "      <th>1</th>\n",
       "      <td>2023-01-01T00</td>\n",
       "      <td>SCEG</td>\n",
       "      <td>Dominion Energy South Carolina, Inc.</td>\n",
       "      <td>DF</td>\n",
       "      <td>Day-ahead demand forecast</td>\n",
       "      <td>2450.0</td>\n",
       "      <td>megawatthours</td>\n",
       "      <td>2023-01-01 00:00:00</td>\n",
       "    </tr>\n",
       "    <tr>\n",
       "      <th>2</th>\n",
       "      <td>2023-01-01T00</td>\n",
       "      <td>SCEG</td>\n",
       "      <td>Dominion Energy South Carolina, Inc.</td>\n",
       "      <td>TI</td>\n",
       "      <td>Total interchange</td>\n",
       "      <td>255.0</td>\n",
       "      <td>megawatthours</td>\n",
       "      <td>2023-01-01 00:00:00</td>\n",
       "    </tr>\n",
       "    <tr>\n",
       "      <th>3</th>\n",
       "      <td>2023-01-01T00</td>\n",
       "      <td>SCEG</td>\n",
       "      <td>Dominion Energy South Carolina, Inc.</td>\n",
       "      <td>D</td>\n",
       "      <td>Demand</td>\n",
       "      <td>2500.0</td>\n",
       "      <td>megawatthours</td>\n",
       "      <td>2023-01-01 00:00:00</td>\n",
       "    </tr>\n",
       "    <tr>\n",
       "      <th>4</th>\n",
       "      <td>2023-01-01T00</td>\n",
       "      <td>FMPP</td>\n",
       "      <td>Florida Municipal Power Pool</td>\n",
       "      <td>TI</td>\n",
       "      <td>Total interchange</td>\n",
       "      <td>-42.0</td>\n",
       "      <td>megawatthours</td>\n",
       "      <td>2023-01-01 00:00:00</td>\n",
       "    </tr>\n",
       "    <tr>\n",
       "      <th>...</th>\n",
       "      <td>...</td>\n",
       "      <td>...</td>\n",
       "      <td>...</td>\n",
       "      <td>...</td>\n",
       "      <td>...</td>\n",
       "      <td>...</td>\n",
       "      <td>...</td>\n",
       "      <td>...</td>\n",
       "    </tr>\n",
       "    <tr>\n",
       "      <th>995</th>\n",
       "      <td>2022-12-31T21</td>\n",
       "      <td>CENT</td>\n",
       "      <td>Central</td>\n",
       "      <td>TI</td>\n",
       "      <td>Total interchange</td>\n",
       "      <td>-84.0</td>\n",
       "      <td>megawatthours</td>\n",
       "      <td>2022-12-31 21:00:00</td>\n",
       "    </tr>\n",
       "    <tr>\n",
       "      <th>996</th>\n",
       "      <td>2022-12-31T21</td>\n",
       "      <td>CAR</td>\n",
       "      <td>Carolinas</td>\n",
       "      <td>NG</td>\n",
       "      <td>Net generation</td>\n",
       "      <td>22255.0</td>\n",
       "      <td>megawatthours</td>\n",
       "      <td>2022-12-31 21:00:00</td>\n",
       "    </tr>\n",
       "    <tr>\n",
       "      <th>997</th>\n",
       "      <td>2022-12-31T21</td>\n",
       "      <td>IPCO</td>\n",
       "      <td>Idaho Power Company</td>\n",
       "      <td>TI</td>\n",
       "      <td>Total interchange</td>\n",
       "      <td>-872.0</td>\n",
       "      <td>megawatthours</td>\n",
       "      <td>2022-12-31 21:00:00</td>\n",
       "    </tr>\n",
       "    <tr>\n",
       "      <th>998</th>\n",
       "      <td>2022-12-31T21</td>\n",
       "      <td>WACM</td>\n",
       "      <td>Western Area Power Administration - Rocky Moun...</td>\n",
       "      <td>NG</td>\n",
       "      <td>Net generation</td>\n",
       "      <td>4269.0</td>\n",
       "      <td>megawatthours</td>\n",
       "      <td>2022-12-31 21:00:00</td>\n",
       "    </tr>\n",
       "    <tr>\n",
       "      <th>999</th>\n",
       "      <td>2022-12-31T21</td>\n",
       "      <td>DEAA</td>\n",
       "      <td>Arlington Valley, LLC</td>\n",
       "      <td>NG</td>\n",
       "      <td>Net generation</td>\n",
       "      <td>-2.0</td>\n",
       "      <td>megawatthours</td>\n",
       "      <td>2022-12-31 21:00:00</td>\n",
       "    </tr>\n",
       "  </tbody>\n",
       "</table>\n",
       "<p>1000 rows × 8 columns</p>\n",
       "</div>"
      ],
      "text/plain": [
       "            period respondent   \n",
       "0    2023-01-01T00        JEA  \\\n",
       "1    2023-01-01T00       SCEG   \n",
       "2    2023-01-01T00       SCEG   \n",
       "3    2023-01-01T00       SCEG   \n",
       "4    2023-01-01T00       FMPP   \n",
       "..             ...        ...   \n",
       "995  2022-12-31T21       CENT   \n",
       "996  2022-12-31T21        CAR   \n",
       "997  2022-12-31T21       IPCO   \n",
       "998  2022-12-31T21       WACM   \n",
       "999  2022-12-31T21       DEAA   \n",
       "\n",
       "                                       respondent-name type   \n",
       "0                                                  JEA   TI  \\\n",
       "1                 Dominion Energy South Carolina, Inc.   DF   \n",
       "2                 Dominion Energy South Carolina, Inc.   TI   \n",
       "3                 Dominion Energy South Carolina, Inc.    D   \n",
       "4                         Florida Municipal Power Pool   TI   \n",
       "..                                                 ...  ...   \n",
       "995                                            Central   TI   \n",
       "996                                          Carolinas   NG   \n",
       "997                                Idaho Power Company   TI   \n",
       "998  Western Area Power Administration - Rocky Moun...   NG   \n",
       "999                              Arlington Valley, LLC   NG   \n",
       "\n",
       "                     type-name    value    value-units            datetime  \n",
       "0            Total interchange   -300.0  megawatthours 2023-01-01 00:00:00  \n",
       "1    Day-ahead demand forecast   2450.0  megawatthours 2023-01-01 00:00:00  \n",
       "2            Total interchange    255.0  megawatthours 2023-01-01 00:00:00  \n",
       "3                       Demand   2500.0  megawatthours 2023-01-01 00:00:00  \n",
       "4            Total interchange    -42.0  megawatthours 2023-01-01 00:00:00  \n",
       "..                         ...      ...            ...                 ...  \n",
       "995          Total interchange    -84.0  megawatthours 2022-12-31 21:00:00  \n",
       "996             Net generation  22255.0  megawatthours 2022-12-31 21:00:00  \n",
       "997          Total interchange   -872.0  megawatthours 2022-12-31 21:00:00  \n",
       "998             Net generation   4269.0  megawatthours 2022-12-31 21:00:00  \n",
       "999             Net generation     -2.0  megawatthours 2022-12-31 21:00:00  \n",
       "\n",
       "[1000 rows x 8 columns]"
      ]
     },
     "execution_count": 5,
     "metadata": {},
     "output_type": "execute_result"
    }
   ],
   "source": [
    "eia_data.head(1000)"
   ]
  },
  {
   "cell_type": "code",
   "execution_count": 6,
   "metadata": {},
   "outputs": [
    {
     "data": {
      "text/plain": [
       "<Axes: xlabel='datetime'>"
      ]
     },
     "execution_count": 6,
     "metadata": {},
     "output_type": "execute_result"
    },
    {
     "data": {
      "image/png": "[encoded data removed]",
      "text/plain": [
       "<Figure size 640x480 with 1 Axes>"
      ]
     },
     "metadata": {},
     "output_type": "display_data"
    }
   ],
   "source": [
    "eia_data.plot.line(x='datetime', y = \"value\")"
   ]
  },
  {
   "cell_type": "code",
   "execution_count": 12,
   "metadata": {},
   "outputs": [
    {
     "data": {
      "text/plain": [
       "type-name                  respondent\n",
       "Demand                     AZPS          8848\n",
       "                           IID           8845\n",
       "                           WAUW          8844\n",
       "                           SCL           8843\n",
       "                           GVL           8843\n",
       "                                         ... \n",
       "Total interchange          PNM           8206\n",
       "Net generation             GLHB          5802\n",
       "Total interchange          GLHB          5717\n",
       "Day-ahead demand forecast  SRP           4708\n",
       "type-name                  respondent       1\n",
       "Name: count, Length: 289, dtype: int64"
      ]
     },
     "execution_count": 12,
     "metadata": {},
     "output_type": "execute_result"
    }
   ],
   "source": [
    "# SELECT [Age Group] , Year, COUNT(*) GROUP BY [Age Group], Year\n",
    "# instead count unique combinations of type-name and respondent\n",
    "eia_data[['type-name','respondent']].value_counts()"
   ]
  },
  {
   "cell_type": "code",
   "execution_count": 13,
   "metadata": {},
   "outputs": [
    {
     "data": {
      "text/plain": [
       "type  respondent\n",
       "D     AZPS          8848\n",
       "      IID           8845\n",
       "      WAUW          8844\n",
       "      NYIS          8843\n",
       "      SCL           8843\n",
       "                    ... \n",
       "TI    PNM           8206\n",
       "NG    GLHB          5802\n",
       "TI    GLHB          5717\n",
       "DF    SRP           4708\n",
       "type  respondent       1\n",
       "Name: count, Length: 289, dtype: int64"
      ]
     },
     "execution_count": 13,
     "metadata": {},
     "output_type": "execute_result"
    }
   ],
   "source": [
    "#some blank values of type-name, looks like the same for type id\n",
    "eia_data[['type','respondent']].value_counts()"
   ]
  },
  {
   "cell_type": "code",
   "execution_count": 52,
   "metadata": {},
   "outputs": [],
   "source": [
    "eia_data['respondent_name'].value_counts()\n",
    "eia_data['respondent_name'].value_counts().to_csv('respondents.csv')\n"
   ]
  },
  {
   "cell_type": "markdown",
   "metadata": {},
   "source": [
    "### Save and restore a DataFrame"
   ]
  },
  {
   "cell_type": "code",
   "execution_count": 7,
   "metadata": {},
   "outputs": [],
   "source": [
    "eia_data.to_pickle('eia_data.pkl')"
   ]
  },
  {
   "cell_type": "code",
   "execution_count": 8,
   "metadata": {},
   "outputs": [],
   "source": [
    "eia_data = pd.read_pickle('eia_data.pkl')"
   ]
  },
  {
   "cell_type": "code",
   "execution_count": 9,
   "metadata": {},
   "outputs": [
    {
     "data": {
      "text/html": [
       "<div>\n",
       "<style scoped>\n",
       "    .dataframe tbody tr th:only-of-type {\n",
       "        vertical-align: middle;\n",
       "    }\n",
       "\n",
       "    .dataframe tbody tr th {\n",
       "        vertical-align: top;\n",
       "    }\n",
       "\n",
       "    .dataframe thead th {\n",
       "        text-align: right;\n",
       "    }\n",
       "</style>\n",
       "<table border=\"1\" class=\"dataframe\">\n",
       "  <thead>\n",
       "    <tr style=\"text-align: right;\">\n",
       "      <th></th>\n",
       "      <th>period</th>\n",
       "      <th>respondent</th>\n",
       "      <th>respondent-name</th>\n",
       "      <th>type</th>\n",
       "      <th>type-name</th>\n",
       "      <th>value</th>\n",
       "      <th>value-units</th>\n",
       "      <th>datetime</th>\n",
       "    </tr>\n",
       "  </thead>\n",
       "  <tbody>\n",
       "    <tr>\n",
       "      <th>0</th>\n",
       "      <td>2023-01-01T00</td>\n",
       "      <td>JEA</td>\n",
       "      <td>JEA</td>\n",
       "      <td>TI</td>\n",
       "      <td>Total interchange</td>\n",
       "      <td>-300.0</td>\n",
       "      <td>megawatthours</td>\n",
       "      <td>2023-01-01</td>\n",
       "    </tr>\n",
       "    <tr>\n",
       "      <th>1</th>\n",
       "      <td>2023-01-01T00</td>\n",
       "      <td>SCEG</td>\n",
       "      <td>Dominion Energy South Carolina, Inc.</td>\n",
       "      <td>DF</td>\n",
       "      <td>Day-ahead demand forecast</td>\n",
       "      <td>2450.0</td>\n",
       "      <td>megawatthours</td>\n",
       "      <td>2023-01-01</td>\n",
       "    </tr>\n",
       "    <tr>\n",
       "      <th>2</th>\n",
       "      <td>2023-01-01T00</td>\n",
       "      <td>SCEG</td>\n",
       "      <td>Dominion Energy South Carolina, Inc.</td>\n",
       "      <td>TI</td>\n",
       "      <td>Total interchange</td>\n",
       "      <td>255.0</td>\n",
       "      <td>megawatthours</td>\n",
       "      <td>2023-01-01</td>\n",
       "    </tr>\n",
       "    <tr>\n",
       "      <th>3</th>\n",
       "      <td>2023-01-01T00</td>\n",
       "      <td>SCEG</td>\n",
       "      <td>Dominion Energy South Carolina, Inc.</td>\n",
       "      <td>D</td>\n",
       "      <td>Demand</td>\n",
       "      <td>2500.0</td>\n",
       "      <td>megawatthours</td>\n",
       "      <td>2023-01-01</td>\n",
       "    </tr>\n",
       "    <tr>\n",
       "      <th>4</th>\n",
       "      <td>2023-01-01T00</td>\n",
       "      <td>FMPP</td>\n",
       "      <td>Florida Municipal Power Pool</td>\n",
       "      <td>TI</td>\n",
       "      <td>Total interchange</td>\n",
       "      <td>-42.0</td>\n",
       "      <td>megawatthours</td>\n",
       "      <td>2023-01-01</td>\n",
       "    </tr>\n",
       "  </tbody>\n",
       "</table>\n",
       "</div>"
      ],
      "text/plain": [
       "          period respondent                       respondent-name type   \n",
       "0  2023-01-01T00        JEA                                   JEA   TI  \\\n",
       "1  2023-01-01T00       SCEG  Dominion Energy South Carolina, Inc.   DF   \n",
       "2  2023-01-01T00       SCEG  Dominion Energy South Carolina, Inc.   TI   \n",
       "3  2023-01-01T00       SCEG  Dominion Energy South Carolina, Inc.    D   \n",
       "4  2023-01-01T00       FMPP          Florida Municipal Power Pool   TI   \n",
       "\n",
       "                   type-name   value    value-units   datetime  \n",
       "0          Total interchange  -300.0  megawatthours 2023-01-01  \n",
       "1  Day-ahead demand forecast  2450.0  megawatthours 2023-01-01  \n",
       "2          Total interchange   255.0  megawatthours 2023-01-01  \n",
       "3                     Demand  2500.0  megawatthours 2023-01-01  \n",
       "4          Total interchange   -42.0  megawatthours 2023-01-01  "
      ]
     },
     "execution_count": 9,
     "metadata": {},
     "output_type": "execute_result"
    }
   ],
   "source": [
    "eia_data.head()"
   ]
  },
  {
   "cell_type": "markdown",
   "metadata": {},
   "source": [
    "## Examine and clean the data"
   ]
  },
  {
   "cell_type": "code",
   "execution_count": 10,
   "metadata": {},
   "outputs": [
    {
     "name": "stdout",
     "output_type": "stream",
     "text": [
      "Index:   RangeIndex(start=0, stop=2503256, step=1)\n",
      "Columns: Index(['period', 'respondent', 'respondent-name', 'type', 'type-name', 'value',\n",
      "       'value-units', 'datetime'],\n",
      "      dtype='object')\n",
      "Size:    20026048\n",
      "Shape:   (2503256, 8)\n"
     ]
    }
   ],
   "source": [
    "print(\"Index:  \", eia_data.index)\n",
    "print(\"Columns:\", eia_data.columns)\n",
    "print(\"Size:   \", eia_data.size)\n",
    "print(\"Shape:  \", eia_data.shape)"
   ]
  },
  {
   "cell_type": "markdown",
   "metadata": {},
   "source": [
    "### Use the columns attribute to replace spaces with nothing\n"
   ]
  },
  {
   "cell_type": "code",
   "execution_count": 11,
   "metadata": {},
   "outputs": [
    {
     "data": {
      "text/plain": [
       "Index(['period', 'respondent', 'respondent_name', 'type', 'type_name', 'value',\n",
       "       'value_units', 'datetime'],\n",
       "      dtype='object')"
      ]
     },
     "execution_count": 11,
     "metadata": {},
     "output_type": "execute_result"
    }
   ],
   "source": [
    "#changed - to _ instead\n",
    "eia_data.columns = eia_data.columns.str.replace('-', '_')\n",
    "eia_data.columns"
   ]
  },
  {
   "cell_type": "code",
   "execution_count": 12,
   "metadata": {},
   "outputs": [
    {
     "data": {
      "text/html": [
       "<div>\n",
       "<style scoped>\n",
       "    .dataframe tbody tr th:only-of-type {\n",
       "        vertical-align: middle;\n",
       "    }\n",
       "\n",
       "    .dataframe tbody tr th {\n",
       "        vertical-align: top;\n",
       "    }\n",
       "\n",
       "    .dataframe thead th {\n",
       "        text-align: right;\n",
       "    }\n",
       "</style>\n",
       "<table border=\"1\" class=\"dataframe\">\n",
       "  <thead>\n",
       "    <tr style=\"text-align: right;\">\n",
       "      <th></th>\n",
       "      <th>period</th>\n",
       "      <th>respondent</th>\n",
       "      <th>respondent_name</th>\n",
       "      <th>type</th>\n",
       "      <th>type_name</th>\n",
       "      <th>value</th>\n",
       "      <th>value_units</th>\n",
       "      <th>datetime</th>\n",
       "    </tr>\n",
       "  </thead>\n",
       "  <tbody>\n",
       "    <tr>\n",
       "      <th>0</th>\n",
       "      <td>2023-01-01T00</td>\n",
       "      <td>JEA</td>\n",
       "      <td>JEA</td>\n",
       "      <td>TI</td>\n",
       "      <td>Total interchange</td>\n",
       "      <td>-300.0</td>\n",
       "      <td>megawatthours</td>\n",
       "      <td>2023-01-01</td>\n",
       "    </tr>\n",
       "    <tr>\n",
       "      <th>1</th>\n",
       "      <td>2023-01-01T00</td>\n",
       "      <td>SCEG</td>\n",
       "      <td>Dominion Energy South Carolina, Inc.</td>\n",
       "      <td>DF</td>\n",
       "      <td>Day-ahead demand forecast</td>\n",
       "      <td>2450.0</td>\n",
       "      <td>megawatthours</td>\n",
       "      <td>2023-01-01</td>\n",
       "    </tr>\n",
       "    <tr>\n",
       "      <th>2</th>\n",
       "      <td>2023-01-01T00</td>\n",
       "      <td>SCEG</td>\n",
       "      <td>Dominion Energy South Carolina, Inc.</td>\n",
       "      <td>TI</td>\n",
       "      <td>Total interchange</td>\n",
       "      <td>255.0</td>\n",
       "      <td>megawatthours</td>\n",
       "      <td>2023-01-01</td>\n",
       "    </tr>\n",
       "    <tr>\n",
       "      <th>3</th>\n",
       "      <td>2023-01-01T00</td>\n",
       "      <td>SCEG</td>\n",
       "      <td>Dominion Energy South Carolina, Inc.</td>\n",
       "      <td>D</td>\n",
       "      <td>Demand</td>\n",
       "      <td>2500.0</td>\n",
       "      <td>megawatthours</td>\n",
       "      <td>2023-01-01</td>\n",
       "    </tr>\n",
       "    <tr>\n",
       "      <th>4</th>\n",
       "      <td>2023-01-01T00</td>\n",
       "      <td>FMPP</td>\n",
       "      <td>Florida Municipal Power Pool</td>\n",
       "      <td>TI</td>\n",
       "      <td>Total interchange</td>\n",
       "      <td>-42.0</td>\n",
       "      <td>megawatthours</td>\n",
       "      <td>2023-01-01</td>\n",
       "    </tr>\n",
       "  </tbody>\n",
       "</table>\n",
       "</div>"
      ],
      "text/plain": [
       "          period respondent                       respondent_name type   \n",
       "0  2023-01-01T00        JEA                                   JEA   TI  \\\n",
       "1  2023-01-01T00       SCEG  Dominion Energy South Carolina, Inc.   DF   \n",
       "2  2023-01-01T00       SCEG  Dominion Energy South Carolina, Inc.   TI   \n",
       "3  2023-01-01T00       SCEG  Dominion Energy South Carolina, Inc.    D   \n",
       "4  2023-01-01T00       FMPP          Florida Municipal Power Pool   TI   \n",
       "\n",
       "                   type_name   value    value_units   datetime  \n",
       "0          Total interchange  -300.0  megawatthours 2023-01-01  \n",
       "1  Day-ahead demand forecast  2450.0  megawatthours 2023-01-01  \n",
       "2          Total interchange   255.0  megawatthours 2023-01-01  \n",
       "3                     Demand  2500.0  megawatthours 2023-01-01  \n",
       "4          Total interchange   -42.0  megawatthours 2023-01-01  "
      ]
     },
     "execution_count": 12,
     "metadata": {},
     "output_type": "execute_result"
    }
   ],
   "source": [
    "eia_data.head()"
   ]
  },
  {
   "cell_type": "code",
   "execution_count": 13,
   "metadata": {},
   "outputs": [
    {
     "data": {
      "text/html": [
       "<div>\n",
       "<style scoped>\n",
       "    .dataframe tbody tr th:only-of-type {\n",
       "        vertical-align: middle;\n",
       "    }\n",
       "\n",
       "    .dataframe tbody tr th {\n",
       "        vertical-align: top;\n",
       "    }\n",
       "\n",
       "    .dataframe thead th {\n",
       "        text-align: right;\n",
       "    }\n",
       "</style>\n",
       "<table border=\"1\" class=\"dataframe\">\n",
       "  <thead>\n",
       "    <tr style=\"text-align: right;\">\n",
       "      <th></th>\n",
       "      <th>count</th>\n",
       "      <th>mean</th>\n",
       "      <th>min</th>\n",
       "      <th>25%</th>\n",
       "      <th>50%</th>\n",
       "      <th>75%</th>\n",
       "      <th>max</th>\n",
       "      <th>std</th>\n",
       "    </tr>\n",
       "  </thead>\n",
       "  <tbody>\n",
       "    <tr>\n",
       "      <th>value</th>\n",
       "      <td>2501916.0</td>\n",
       "      <td>14754.563427</td>\n",
       "      <td>-989940.0</td>\n",
       "      <td>230.0</td>\n",
       "      <td>1634.0</td>\n",
       "      <td>10920.0</td>\n",
       "      <td>3297048.0</td>\n",
       "      <td>51572.679781</td>\n",
       "    </tr>\n",
       "    <tr>\n",
       "      <th>datetime</th>\n",
       "      <td>2503255</td>\n",
       "      <td>2022-07-02 09:08:07.700692224</td>\n",
       "      <td>2022-01-01 00:00:00</td>\n",
       "      <td>2022-04-02 14:00:00</td>\n",
       "      <td>2022-07-02 11:00:00</td>\n",
       "      <td>2022-10-01 13:00:00</td>\n",
       "      <td>2023-01-01 00:00:00</td>\n",
       "      <td>NaN</td>\n",
       "    </tr>\n",
       "  </tbody>\n",
       "</table>\n",
       "</div>"
      ],
      "text/plain": [
       "              count                           mean                  min   \n",
       "value     2501916.0                   14754.563427            -989940.0  \\\n",
       "datetime    2503255  2022-07-02 09:08:07.700692224  2022-01-01 00:00:00   \n",
       "\n",
       "                          25%                  50%                  75%   \n",
       "value                   230.0               1634.0              10920.0  \\\n",
       "datetime  2022-04-02 14:00:00  2022-07-02 11:00:00  2022-10-01 13:00:00   \n",
       "\n",
       "                          max           std  \n",
       "value               3297048.0  51572.679781  \n",
       "datetime  2023-01-01 00:00:00           NaN  "
      ]
     },
     "execution_count": 13,
     "metadata": {},
     "output_type": "execute_result"
    }
   ],
   "source": [
    "eia_data.describe().T"
   ]
  },
  {
   "cell_type": "code",
   "execution_count": 15,
   "metadata": {},
   "outputs": [
    {
     "data": {
      "text/html": [
       "<div>\n",
       "<style scoped>\n",
       "    .dataframe tbody tr th:only-of-type {\n",
       "        vertical-align: middle;\n",
       "    }\n",
       "\n",
       "    .dataframe tbody tr th {\n",
       "        vertical-align: top;\n",
       "    }\n",
       "\n",
       "    .dataframe thead th {\n",
       "        text-align: right;\n",
       "    }\n",
       "</style>\n",
       "<table border=\"1\" class=\"dataframe\">\n",
       "  <thead>\n",
       "    <tr style=\"text-align: right;\">\n",
       "      <th></th>\n",
       "      <th>count</th>\n",
       "      <th>unique</th>\n",
       "      <th>top</th>\n",
       "      <th>freq</th>\n",
       "    </tr>\n",
       "  </thead>\n",
       "  <tbody>\n",
       "    <tr>\n",
       "      <th>period</th>\n",
       "      <td>2503256</td>\n",
       "      <td>8739</td>\n",
       "      <td>2022-01-01T00</td>\n",
       "      <td>288</td>\n",
       "    </tr>\n",
       "    <tr>\n",
       "      <th>respondent</th>\n",
       "      <td>2503256</td>\n",
       "      <td>78</td>\n",
       "      <td>DOPD</td>\n",
       "      <td>35007</td>\n",
       "    </tr>\n",
       "    <tr>\n",
       "      <th>respondent_name</th>\n",
       "      <td>2503256</td>\n",
       "      <td>78</td>\n",
       "      <td>PUD No. 1 of Douglas County</td>\n",
       "      <td>35007</td>\n",
       "    </tr>\n",
       "    <tr>\n",
       "      <th>type</th>\n",
       "      <td>2503256</td>\n",
       "      <td>5</td>\n",
       "      <td>NG</td>\n",
       "      <td>667063</td>\n",
       "    </tr>\n",
       "    <tr>\n",
       "      <th>type_name</th>\n",
       "      <td>2503256</td>\n",
       "      <td>5</td>\n",
       "      <td>Net generation</td>\n",
       "      <td>667063</td>\n",
       "    </tr>\n",
       "    <tr>\n",
       "      <th>value_units</th>\n",
       "      <td>2503256</td>\n",
       "      <td>2</td>\n",
       "      <td>megawatthours</td>\n",
       "      <td>2503255</td>\n",
       "    </tr>\n",
       "  </tbody>\n",
       "</table>\n",
       "</div>"
      ],
      "text/plain": [
       "                   count unique                          top     freq\n",
       "period           2503256   8739                2022-01-01T00      288\n",
       "respondent       2503256     78                         DOPD    35007\n",
       "respondent_name  2503256     78  PUD No. 1 of Douglas County    35007\n",
       "type             2503256      5                           NG   667063\n",
       "type_name        2503256      5               Net generation   667063\n",
       "value_units      2503256      2                megawatthours  2503255"
      ]
     },
     "execution_count": 15,
     "metadata": {},
     "output_type": "execute_result"
    }
   ],
   "source": [
    "eia_data.describe(include=[\"O\"]).T"
   ]
  },
  {
   "cell_type": "code",
   "execution_count": 21,
   "metadata": {},
   "outputs": [
    {
     "name": "stdout",
     "output_type": "stream",
     "text": [
      "8738\n",
      "8760\n"
     ]
    }
   ],
   "source": [
    "print(len(eia_data.datetime.value_counts())) #count of unique values; not much use in this case\n",
    "print(365*24)"
   ]
  },
  {
   "cell_type": "code",
   "execution_count": 29,
   "metadata": {},
   "outputs": [
    {
     "data": {
      "text/plain": [
       "<Axes: >"
      ]
     },
     "execution_count": 29,
     "metadata": {},
     "output_type": "execute_result"
    },
    {
     "data": {
      "image/png": "[encoded data removed]",
      "text/plain": [
       "<Figure size 640x480 with 1 Axes>"
      ]
     },
     "metadata": {},
     "output_type": "display_data"
    }
   ],
   "source": [
    "eia_data.value.hist(bins=100)"
   ]
  },
  {
   "cell_type": "code",
   "execution_count": 32,
   "metadata": {},
   "outputs": [
    {
     "data": {
      "text/plain": [
       "<Axes: >"
      ]
     },
     "execution_count": 32,
     "metadata": {},
     "output_type": "execute_result"
    },
    {
     "data": {
      "image/png": "[encoded data removed]",
      "text/plain": [
       "<Figure size 640x480 with 1 Axes>"
      ]
     },
     "metadata": {},
     "output_type": "display_data"
    }
   ],
   "source": [
    "eia_data.datetime.hist(bins=366)"
   ]
  },
  {
   "cell_type": "code",
   "execution_count": 33,
   "metadata": {},
   "outputs": [],
   "source": [
    "import numpy as np\n",
    "\n",
    "#mortality_data['death_log']= np.log10(mortality_data['DeathRate'])"
   ]
  },
  {
   "cell_type": "code",
   "execution_count": null,
   "metadata": {},
   "outputs": [],
   "source": [
    "#mortality_data.death_log.hist(bins=50)"
   ]
  },
  {
   "cell_type": "code",
   "execution_count": null,
   "metadata": {},
   "outputs": [],
   "source": [
    "#mortality_data.DeathRate.hist(bins=50)"
   ]
  },
  {
   "cell_type": "code",
   "execution_count": null,
   "metadata": {},
   "outputs": [],
   "source": [
    "#mortality_data.describe(include='O')"
   ]
  },
  {
   "cell_type": "code",
   "execution_count": null,
   "metadata": {},
   "outputs": [],
   "source": [
    "#mortality_data.describe().T"
   ]
  },
  {
   "cell_type": "markdown",
   "metadata": {},
   "source": [
    "## Access the data"
   ]
  },
  {
   "cell_type": "code",
   "execution_count": 44,
   "metadata": {},
   "outputs": [
    {
     "data": {
      "text/plain": [
       "<Axes: >"
      ]
     },
     "execution_count": 44,
     "metadata": {},
     "output_type": "execute_result"
    },
    {
     "data": {
      "image/png": "[encoded data removed]",
      "text/plain": [
       "<Figure size 640x480 with 1 Axes>"
      ]
     },
     "metadata": {},
     "output_type": "display_data"
    }
   ],
   "source": [
    "eia_data.query(\"type == 'NG'\").value.hist(bins=20)"
   ]
  },
  {
   "cell_type": "code",
   "execution_count": 43,
   "metadata": {},
   "outputs": [
    {
     "data": {
      "text/plain": [
       "<Axes: >"
      ]
     },
     "execution_count": 43,
     "metadata": {},
     "output_type": "execute_result"
    },
    {
     "data": {
      "image/png": "[encoded data removed]",
      "text/plain": [
       "<Figure size 640x480 with 1 Axes>"
      ]
     },
     "metadata": {},
     "output_type": "display_data"
    }
   ],
   "source": [
    "eia_data.query(\"type == 'D'\").value.hist(bins=20)"
   ]
  },
  {
   "cell_type": "code",
   "execution_count": 48,
   "metadata": {},
   "outputs": [
    {
     "data": {
      "text/html": [
       "<div>\n",
       "<style scoped>\n",
       "    .dataframe tbody tr th:only-of-type {\n",
       "        vertical-align: middle;\n",
       "    }\n",
       "\n",
       "    .dataframe tbody tr th {\n",
       "        vertical-align: top;\n",
       "    }\n",
       "\n",
       "    .dataframe thead th {\n",
       "        text-align: right;\n",
       "    }\n",
       "</style>\n",
       "<table border=\"1\" class=\"dataframe\">\n",
       "  <thead>\n",
       "    <tr style=\"text-align: right;\">\n",
       "      <th></th>\n",
       "      <th>period</th>\n",
       "      <th>respondent</th>\n",
       "      <th>respondent_name</th>\n",
       "      <th>type</th>\n",
       "      <th>type_name</th>\n",
       "      <th>value</th>\n",
       "      <th>value_units</th>\n",
       "      <th>datetime</th>\n",
       "    </tr>\n",
       "  </thead>\n",
       "  <tbody>\n",
       "    <tr>\n",
       "      <th>1881740</th>\n",
       "      <td>2022-04-01T23</td>\n",
       "      <td>NE</td>\n",
       "      <td>New England</td>\n",
       "      <td>D</td>\n",
       "      <td>Demand</td>\n",
       "      <td>13002.0</td>\n",
       "      <td>megawatthours</td>\n",
       "      <td>2022-04-01 23:00:00</td>\n",
       "    </tr>\n",
       "    <tr>\n",
       "      <th>1881741</th>\n",
       "      <td>2022-04-01T23</td>\n",
       "      <td>TEN</td>\n",
       "      <td>Tennessee</td>\n",
       "      <td>TI</td>\n",
       "      <td>Total interchange</td>\n",
       "      <td>-1126.0</td>\n",
       "      <td>megawatthours</td>\n",
       "      <td>2022-04-01 23:00:00</td>\n",
       "    </tr>\n",
       "    <tr>\n",
       "      <th>1881742</th>\n",
       "      <td>2022-04-01T23</td>\n",
       "      <td>NY</td>\n",
       "      <td>New York</td>\n",
       "      <td>DF</td>\n",
       "      <td>Day-ahead demand forecast</td>\n",
       "      <td>17029.0</td>\n",
       "      <td>megawatthours</td>\n",
       "      <td>2022-04-01 23:00:00</td>\n",
       "    </tr>\n",
       "    <tr>\n",
       "      <th>1881743</th>\n",
       "      <td>2022-04-01T23</td>\n",
       "      <td>TEX</td>\n",
       "      <td>Texas</td>\n",
       "      <td>D</td>\n",
       "      <td>Demand</td>\n",
       "      <td>44322.0</td>\n",
       "      <td>megawatthours</td>\n",
       "      <td>2022-04-01 23:00:00</td>\n",
       "    </tr>\n",
       "    <tr>\n",
       "      <th>1881744</th>\n",
       "      <td>2022-04-01T23</td>\n",
       "      <td>NE</td>\n",
       "      <td>New England</td>\n",
       "      <td>TI</td>\n",
       "      <td>Total interchange</td>\n",
       "      <td>-1369.0</td>\n",
       "      <td>megawatthours</td>\n",
       "      <td>2022-04-01 23:00:00</td>\n",
       "    </tr>\n",
       "  </tbody>\n",
       "</table>\n",
       "</div>"
      ],
      "text/plain": [
       "                period respondent respondent_name type   \n",
       "1881740  2022-04-01T23         NE     New England    D  \\\n",
       "1881741  2022-04-01T23        TEN       Tennessee   TI   \n",
       "1881742  2022-04-01T23         NY        New York   DF   \n",
       "1881743  2022-04-01T23        TEX           Texas    D   \n",
       "1881744  2022-04-01T23         NE     New England   TI   \n",
       "\n",
       "                         type_name    value    value_units            datetime  \n",
       "1881740                     Demand  13002.0  megawatthours 2022-04-01 23:00:00  \n",
       "1881741          Total interchange  -1126.0  megawatthours 2022-04-01 23:00:00  \n",
       "1881742  Day-ahead demand forecast  17029.0  megawatthours 2022-04-01 23:00:00  \n",
       "1881743                     Demand  44322.0  megawatthours 2022-04-01 23:00:00  \n",
       "1881744          Total interchange  -1369.0  megawatthours 2022-04-01 23:00:00  "
      ]
     },
     "execution_count": 48,
     "metadata": {},
     "output_type": "execute_result"
    }
   ],
   "source": [
    "eia_data.query('20220401 < datetime < 20220402').head()"
   ]
  },
  {
   "cell_type": "code",
   "execution_count": 59,
   "metadata": {},
   "outputs": [
    {
     "data": {
      "text/html": [
       "<div>\n",
       "<style scoped>\n",
       "    .dataframe tbody tr th:only-of-type {\n",
       "        vertical-align: middle;\n",
       "    }\n",
       "\n",
       "    .dataframe tbody tr th {\n",
       "        vertical-align: top;\n",
       "    }\n",
       "\n",
       "    .dataframe thead th {\n",
       "        text-align: right;\n",
       "    }\n",
       "</style>\n",
       "<table border=\"1\" class=\"dataframe\">\n",
       "  <thead>\n",
       "    <tr style=\"text-align: right;\">\n",
       "      <th></th>\n",
       "      <th>period</th>\n",
       "      <th>respondent</th>\n",
       "      <th>respondent_name</th>\n",
       "      <th>type</th>\n",
       "      <th>type_name</th>\n",
       "      <th>value</th>\n",
       "      <th>value_units</th>\n",
       "      <th>datetime</th>\n",
       "    </tr>\n",
       "  </thead>\n",
       "  <tbody>\n",
       "    <tr>\n",
       "      <th>32</th>\n",
       "      <td>2023-01-01T00</td>\n",
       "      <td>CISO</td>\n",
       "      <td>California Independent System Operator</td>\n",
       "      <td>D</td>\n",
       "      <td>Demand</td>\n",
       "      <td>24007.0</td>\n",
       "      <td>megawatthours</td>\n",
       "      <td>2023-01-01 00:00:00</td>\n",
       "    </tr>\n",
       "    <tr>\n",
       "      <th>72</th>\n",
       "      <td>2023-01-01T00</td>\n",
       "      <td>CISO</td>\n",
       "      <td>California Independent System Operator</td>\n",
       "      <td>TI</td>\n",
       "      <td>Total interchange</td>\n",
       "      <td>-6110.0</td>\n",
       "      <td>megawatthours</td>\n",
       "      <td>2023-01-01 00:00:00</td>\n",
       "    </tr>\n",
       "    <tr>\n",
       "      <th>92</th>\n",
       "      <td>2023-01-01T00</td>\n",
       "      <td>CISO</td>\n",
       "      <td>California Independent System Operator</td>\n",
       "      <td>DF</td>\n",
       "      <td>Day-ahead demand forecast</td>\n",
       "      <td>23703.0</td>\n",
       "      <td>megawatthours</td>\n",
       "      <td>2023-01-01 00:00:00</td>\n",
       "    </tr>\n",
       "    <tr>\n",
       "      <th>264</th>\n",
       "      <td>2023-01-01T00</td>\n",
       "      <td>CISO</td>\n",
       "      <td>California Independent System Operator</td>\n",
       "      <td>NG</td>\n",
       "      <td>Net generation</td>\n",
       "      <td>18024.0</td>\n",
       "      <td>megawatthours</td>\n",
       "      <td>2023-01-01 00:00:00</td>\n",
       "    </tr>\n",
       "    <tr>\n",
       "      <th>318</th>\n",
       "      <td>2022-12-31T23</td>\n",
       "      <td>CISO</td>\n",
       "      <td>California Independent System Operator</td>\n",
       "      <td>D</td>\n",
       "      <td>Demand</td>\n",
       "      <td>24051.0</td>\n",
       "      <td>megawatthours</td>\n",
       "      <td>2022-12-31 23:00:00</td>\n",
       "    </tr>\n",
       "  </tbody>\n",
       "</table>\n",
       "</div>"
      ],
      "text/plain": [
       "            period respondent                         respondent_name type   \n",
       "32   2023-01-01T00       CISO  California Independent System Operator    D  \\\n",
       "72   2023-01-01T00       CISO  California Independent System Operator   TI   \n",
       "92   2023-01-01T00       CISO  California Independent System Operator   DF   \n",
       "264  2023-01-01T00       CISO  California Independent System Operator   NG   \n",
       "318  2022-12-31T23       CISO  California Independent System Operator    D   \n",
       "\n",
       "                     type_name    value    value_units            datetime  \n",
       "32                      Demand  24007.0  megawatthours 2023-01-01 00:00:00  \n",
       "72           Total interchange  -6110.0  megawatthours 2023-01-01 00:00:00  \n",
       "92   Day-ahead demand forecast  23703.0  megawatthours 2023-01-01 00:00:00  \n",
       "264             Net generation  18024.0  megawatthours 2023-01-01 00:00:00  \n",
       "318                     Demand  24051.0  megawatthours 2022-12-31 23:00:00  "
      ]
     },
     "execution_count": 59,
     "metadata": {},
     "output_type": "execute_result"
    }
   ],
   "source": [
    "eia_data.query('respondent == \"CISO\"').head()"
   ]
  },
  {
   "cell_type": "code",
   "execution_count": null,
   "metadata": {},
   "outputs": [],
   "source": [
    "# use backticks if a column name contains spaces\n",
    "#mortality_data.query('Year == 2000 and `AgeGroup` != \"1-4 Years\"')"
   ]
  },
  {
   "cell_type": "markdown",
   "metadata": {},
   "source": [
    "### Access a subset of rows and columns"
   ]
  },
  {
   "cell_type": "code",
   "execution_count": 56,
   "metadata": {},
   "outputs": [
    {
     "data": {
      "text/plain": [
       "26     6997.0\n",
       "100    7257.0\n",
       "139    9792.0\n",
       "283    7509.0\n",
       "351    6951.0\n",
       "Name: value, dtype: float64"
      ]
     },
     "execution_count": 56,
     "metadata": {},
     "output_type": "execute_result"
    }
   ],
   "source": [
    "eia_data.query('respondent_name == \"Bonneville Power Administration\"').value.head()"
   ]
  },
  {
   "cell_type": "code",
   "execution_count": 55,
   "metadata": {},
   "outputs": [
    {
     "data": {
      "text/html": [
       "<div>\n",
       "<style scoped>\n",
       "    .dataframe tbody tr th:only-of-type {\n",
       "        vertical-align: middle;\n",
       "    }\n",
       "\n",
       "    .dataframe tbody tr th {\n",
       "        vertical-align: top;\n",
       "    }\n",
       "\n",
       "    .dataframe thead th {\n",
       "        text-align: right;\n",
       "    }\n",
       "</style>\n",
       "<table border=\"1\" class=\"dataframe\">\n",
       "  <thead>\n",
       "    <tr style=\"text-align: right;\">\n",
       "      <th></th>\n",
       "      <th>type</th>\n",
       "      <th>value</th>\n",
       "    </tr>\n",
       "  </thead>\n",
       "  <tbody>\n",
       "    <tr>\n",
       "      <th>26</th>\n",
       "      <td>D</td>\n",
       "      <td>6997.0</td>\n",
       "    </tr>\n",
       "    <tr>\n",
       "      <th>100</th>\n",
       "      <td>DF</td>\n",
       "      <td>7257.0</td>\n",
       "    </tr>\n",
       "    <tr>\n",
       "      <th>139</th>\n",
       "      <td>NG</td>\n",
       "      <td>9792.0</td>\n",
       "    </tr>\n",
       "    <tr>\n",
       "      <th>283</th>\n",
       "      <td>TI</td>\n",
       "      <td>7509.0</td>\n",
       "    </tr>\n",
       "    <tr>\n",
       "      <th>351</th>\n",
       "      <td>D</td>\n",
       "      <td>6951.0</td>\n",
       "    </tr>\n",
       "  </tbody>\n",
       "</table>\n",
       "</div>"
      ],
      "text/plain": [
       "    type   value\n",
       "26     D  6997.0\n",
       "100   DF  7257.0\n",
       "139   NG  9792.0\n",
       "283   TI  7509.0\n",
       "351    D  6951.0"
      ]
     },
     "execution_count": 55,
     "metadata": {},
     "output_type": "execute_result"
    }
   ],
   "source": [
    "eia_data.query('respondent_name == \"Bonneville Power Administration\"')[['type', 'value']].head()"
   ]
  },
  {
   "cell_type": "code",
   "execution_count": 58,
   "metadata": {},
   "outputs": [
    {
     "data": {
      "text/html": [
       "<div>\n",
       "<style scoped>\n",
       "    .dataframe tbody tr th:only-of-type {\n",
       "        vertical-align: middle;\n",
       "    }\n",
       "\n",
       "    .dataframe tbody tr th {\n",
       "        vertical-align: top;\n",
       "    }\n",
       "\n",
       "    .dataframe thead th {\n",
       "        text-align: right;\n",
       "    }\n",
       "</style>\n",
       "<table border=\"1\" class=\"dataframe\">\n",
       "  <thead>\n",
       "    <tr style=\"text-align: right;\">\n",
       "      <th></th>\n",
       "      <th>datetime</th>\n",
       "      <th>value</th>\n",
       "    </tr>\n",
       "  </thead>\n",
       "  <tbody>\n",
       "    <tr>\n",
       "      <th>1681304</th>\n",
       "      <td>2022-04-30 23:00:00</td>\n",
       "      <td>5817.0</td>\n",
       "    </tr>\n",
       "    <tr>\n",
       "      <th>1681429</th>\n",
       "      <td>2022-04-30 23:00:00</td>\n",
       "      <td>5668.0</td>\n",
       "    </tr>\n",
       "    <tr>\n",
       "      <th>1681432</th>\n",
       "      <td>2022-04-30 23:00:00</td>\n",
       "      <td>2862.0</td>\n",
       "    </tr>\n",
       "    <tr>\n",
       "      <th>1681516</th>\n",
       "      <td>2022-04-30 23:00:00</td>\n",
       "      <td>5678.0</td>\n",
       "    </tr>\n",
       "    <tr>\n",
       "      <th>1681616</th>\n",
       "      <td>2022-04-30 22:00:00</td>\n",
       "      <td>5710.0</td>\n",
       "    </tr>\n",
       "  </tbody>\n",
       "</table>\n",
       "</div>"
      ],
      "text/plain": [
       "                   datetime   value\n",
       "1681304 2022-04-30 23:00:00  5817.0\n",
       "1681429 2022-04-30 23:00:00  5668.0\n",
       "1681432 2022-04-30 23:00:00  2862.0\n",
       "1681516 2022-04-30 23:00:00  5678.0\n",
       "1681616 2022-04-30 22:00:00  5710.0"
      ]
     },
     "execution_count": 58,
     "metadata": {},
     "output_type": "execute_result"
    }
   ],
   "source": [
    "eia_data.query('20220401 <= datetime < 20220501 and respondent_name == \"Bonneville Power Administration\"') \\\n",
    "    [['datetime','value']].head()"
   ]
  },
  {
   "cell_type": "code",
   "execution_count": 65,
   "metadata": {},
   "outputs": [
    {
     "data": {
      "text/html": [
       "<div>\n",
       "<style scoped>\n",
       "    .dataframe tbody tr th:only-of-type {\n",
       "        vertical-align: middle;\n",
       "    }\n",
       "\n",
       "    .dataframe tbody tr th {\n",
       "        vertical-align: top;\n",
       "    }\n",
       "\n",
       "    .dataframe thead th {\n",
       "        text-align: right;\n",
       "    }\n",
       "</style>\n",
       "<table border=\"1\" class=\"dataframe\">\n",
       "  <thead>\n",
       "    <tr style=\"text-align: right;\">\n",
       "      <th></th>\n",
       "      <th>datetime</th>\n",
       "      <th>type</th>\n",
       "      <th>type_name</th>\n",
       "      <th>value</th>\n",
       "    </tr>\n",
       "  </thead>\n",
       "  <tbody>\n",
       "    <tr>\n",
       "      <th>139</th>\n",
       "      <td>2023-01-01 00:00:00</td>\n",
       "      <td>NG</td>\n",
       "      <td>Net generation</td>\n",
       "      <td>9792.0</td>\n",
       "    </tr>\n",
       "    <tr>\n",
       "      <th>566</th>\n",
       "      <td>2022-12-31 23:00:00</td>\n",
       "      <td>NG</td>\n",
       "      <td>Net generation</td>\n",
       "      <td>9813.0</td>\n",
       "    </tr>\n",
       "    <tr>\n",
       "      <th>728</th>\n",
       "      <td>2022-12-31 22:00:00</td>\n",
       "      <td>NG</td>\n",
       "      <td>Net generation</td>\n",
       "      <td>10131.0</td>\n",
       "    </tr>\n",
       "    <tr>\n",
       "      <th>1134</th>\n",
       "      <td>2022-12-31 21:00:00</td>\n",
       "      <td>NG</td>\n",
       "      <td>Net generation</td>\n",
       "      <td>10355.0</td>\n",
       "    </tr>\n",
       "    <tr>\n",
       "      <th>1299</th>\n",
       "      <td>2022-12-31 20:00:00</td>\n",
       "      <td>NG</td>\n",
       "      <td>Net generation</td>\n",
       "      <td>10564.0</td>\n",
       "    </tr>\n",
       "  </tbody>\n",
       "</table>\n",
       "</div>"
      ],
      "text/plain": [
       "                datetime type       type_name    value\n",
       "139  2023-01-01 00:00:00   NG  Net generation   9792.0\n",
       "566  2022-12-31 23:00:00   NG  Net generation   9813.0\n",
       "728  2022-12-31 22:00:00   NG  Net generation  10131.0\n",
       "1134 2022-12-31 21:00:00   NG  Net generation  10355.0\n",
       "1299 2022-12-31 20:00:00   NG  Net generation  10564.0"
      ]
     },
     "execution_count": 65,
     "metadata": {},
     "output_type": "execute_result"
    }
   ],
   "source": [
    "bpat_data = eia_data.query('respondent == \"BPAT\"')[['datetime','type','type_name','value']]\n",
    "bpat_netgen = bpat_data.query('type == \"NG\"')\n",
    "bpat_netgen.head()"
   ]
  },
  {
   "cell_type": "markdown",
   "metadata": {},
   "source": [
    "### Apply statistical methods"
   ]
  },
  {
   "cell_type": "code",
   "execution_count": 71,
   "metadata": {},
   "outputs": [
    {
     "data": {
      "text/plain": [
       "<Axes: >"
      ]
     },
     "execution_count": 71,
     "metadata": {},
     "output_type": "execute_result"
    },
    {
     "data": {
      "image/png": "[encoded data removed]",
      "text/plain": [
       "<Figure size 640x480 with 1 Axes>"
      ]
     },
     "metadata": {},
     "output_type": "display_data"
    }
   ],
   "source": [
    "bpat_netgen.value.hist(bins=20)"
   ]
  },
  {
   "cell_type": "code",
   "execution_count": 67,
   "metadata": {},
   "outputs": [
    {
     "name": "stdout",
     "output_type": "stream",
     "text": [
      "11216.500229990801\n"
     ]
    }
   ],
   "source": [
    "#mean = sum of values / number of values\n",
    "bpng_mu = bpat_netgen['value'].mean()\n",
    "print(bpng_mu)"
   ]
  },
  {
   "cell_type": "code",
   "execution_count": 68,
   "metadata": {},
   "outputs": [
    {
     "name": "stdout",
     "output_type": "stream",
     "text": [
      "2661.423566115476\n"
     ]
    }
   ],
   "source": [
    "#standard deviation = sqrt of variance = sqrt(sum(square of mean-value for each data point)/(n-1))\n",
    "#note: denominator is N (vs n-1) if standard dev and variance are calculated from entire population\n",
    "bpng_sigma = bpat_netgen['value'].std()\n",
    "print(bpng_sigma)"
   ]
  },
  {
   "cell_type": "code",
   "execution_count": 73,
   "metadata": {},
   "outputs": [
    {
     "name": "stdout",
     "output_type": "stream",
     "text": [
      "BPAT's hourly net generation was 11216.500229990801 +/- 5216.390189586334\n",
      "BPAT's hourly net generation was 11216.500229990801 +/- 5216.390189586334 95% of the time\n"
     ]
    }
   ],
   "source": [
    "#95% confidence interval is mean +/- 2 stdev (or 1.96 stdev)\n",
    "#We have the whole population of net generation from 2022 so we don't have to infer anything from a sample\n",
    "#Unless we treat 2022 data as a sample from which to infer values for another time frame, i.e. the future\n",
    "#Not a representative sample though if the system changes (new generation sources, old ones decommision, demand changes,)\n",
    "print (\"BPAT's hourly net generation was {} +/- {}\".format(bpng_mu,1.96*bpng_sigma))\n",
    "print(f\"BPAT's hourly net generation was {bpng_mu} +/- {1.96*bpng_sigma} 95% of the time\")"
   ]
  },
  {
   "cell_type": "code",
   "execution_count": 75,
   "metadata": {},
   "outputs": [],
   "source": [
    "bpat_netgen = pd.DataFrame(bpat_netgen)\n",
    "bpat_netgen['outlier'] = bpat_netgen['value'].apply(\n",
    "        lambda x: \n",
    "        True \n",
    "        if ( x > bpng_mu + 1.96*bpng_sigma or x < bpng_mu - 1.96*bpng_sigma)  \n",
    "        else False \n",
    "            )\n"
   ]
  },
  {
   "cell_type": "code",
   "execution_count": 76,
   "metadata": {},
   "outputs": [
    {
     "data": {
      "text/plain": [
       "outlier\n",
       "False    8540\n",
       "True      156\n",
       "Name: count, dtype: int64"
      ]
     },
     "execution_count": 76,
     "metadata": {},
     "output_type": "execute_result"
    }
   ],
   "source": [
    "bpat_netgen.outlier.value_counts()"
   ]
  },
  {
   "cell_type": "code",
   "execution_count": 78,
   "metadata": {},
   "outputs": [
    {
     "data": {
      "text/plain": [
       "11249.0"
      ]
     },
     "execution_count": 78,
     "metadata": {},
     "output_type": "execute_result"
    }
   ],
   "source": [
    "# line you draw for equal number of cases on either side\n",
    "bpat_netgen.value.median()"
   ]
  },
  {
   "cell_type": "code",
   "execution_count": 79,
   "metadata": {},
   "outputs": [
    {
     "data": {
      "text/plain": [
       "17858.0"
      ]
     },
     "execution_count": 79,
     "metadata": {},
     "output_type": "execute_result"
    }
   ],
   "source": [
    "bpat_netgen['value'].max()"
   ]
  },
  {
   "cell_type": "code",
   "execution_count": 80,
   "metadata": {},
   "outputs": [
    {
     "data": {
      "text/plain": [
       "datetime     8696\n",
       "type         8696\n",
       "type_name    8696\n",
       "value        8696\n",
       "outlier      8696\n",
       "dtype: int64"
      ]
     },
     "execution_count": 80,
     "metadata": {},
     "output_type": "execute_result"
    }
   ],
   "source": [
    "bpat_netgen.count()"
   ]
  },
  {
   "cell_type": "code",
   "execution_count": 81,
   "metadata": {},
   "outputs": [
    {
     "data": {
      "text/plain": [
       "[0.0,\n",
       " 0.05,\n",
       " 0.1,\n",
       " 0.15,\n",
       " 0.2,\n",
       " 0.25,\n",
       " 0.3,\n",
       " 0.35,\n",
       " 0.4,\n",
       " 0.45,\n",
       " 0.5,\n",
       " 0.55,\n",
       " 0.6,\n",
       " 0.65,\n",
       " 0.7,\n",
       " 0.75,\n",
       " 0.8,\n",
       " 0.85,\n",
       " 0.9,\n",
       " 0.95]"
      ]
     },
     "execution_count": 81,
     "metadata": {},
     "output_type": "execute_result"
    }
   ],
   "source": [
    "[i/20 for i in range(0,20)]"
   ]
  },
  {
   "cell_type": "code",
   "execution_count": 83,
   "metadata": {},
   "outputs": [
    {
     "data": {
      "text/plain": [
       "11249.0"
      ]
     },
     "execution_count": 83,
     "metadata": {},
     "output_type": "execute_result"
    }
   ],
   "source": [
    "bpat_netgen.value.quantile(0.5)"
   ]
  },
  {
   "cell_type": "code",
   "execution_count": 84,
   "metadata": {},
   "outputs": [
    {
     "data": {
      "text/plain": [
       "8696"
      ]
     },
     "execution_count": 84,
     "metadata": {},
     "output_type": "execute_result"
    }
   ],
   "source": [
    "len(bpat_netgen)"
   ]
  },
  {
   "cell_type": "code",
   "execution_count": 90,
   "metadata": {},
   "outputs": [
    {
     "data": {
      "text/plain": [
       "0.00     5566.00\n",
       "0.05     6812.75\n",
       "0.10     7557.00\n",
       "0.15     8165.75\n",
       "0.20     8659.00\n",
       "0.25     9131.00\n",
       "0.30     9610.50\n",
       "0.35    10066.00\n",
       "0.40    10448.00\n",
       "0.45    10864.00\n",
       "0.50    11249.00\n",
       "0.55    11646.00\n",
       "0.60    12032.00\n",
       "0.65    12418.75\n",
       "0.70    12832.50\n",
       "0.75    13263.25\n",
       "0.80    13738.00\n",
       "0.85    14232.00\n",
       "0.90    14865.00\n",
       "0.95    15499.25\n",
       "Name: value, dtype: float64"
      ]
     },
     "execution_count": 90,
     "metadata": {},
     "output_type": "execute_result"
    }
   ],
   "source": [
    "bpng_dist = bpat_netgen.value.quantile([i/20 for i in range(0,20)])\n",
    "bpng_dist"
   ]
  },
  {
   "cell_type": "code",
   "execution_count": 87,
   "metadata": {},
   "outputs": [
    {
     "name": "stdout",
     "output_type": "stream",
     "text": [
      "<class 'pandas.core.series.Series'>\n",
      "Index: 20 entries, 0.0 to 0.95\n",
      "Series name: value\n",
      "Non-Null Count  Dtype  \n",
      "--------------  -----  \n",
      "20 non-null     float64\n",
      "dtypes: float64(1)\n",
      "memory usage: 320.0 bytes\n"
     ]
    }
   ],
   "source": [
    "bpng_dist.info()"
   ]
  },
  {
   "cell_type": "code",
   "execution_count": 88,
   "metadata": {},
   "outputs": [
    {
     "data": {
      "text/plain": [
       "0.0                                                    5566.0\n",
       "0.05                                                  6812.75\n",
       "0.1                                                    7557.0\n",
       "0.15                                                  8165.75\n",
       "0.2                                                    8659.0\n",
       "0.25                                                   9131.0\n",
       "0.3                                                    9610.5\n",
       "0.35                                                  10066.0\n",
       "0.4                                                   10448.0\n",
       "0.45                                                  10864.0\n",
       "0.5                                                   11249.0\n",
       "0.55                                                  11646.0\n",
       "0.6                                                   12032.0\n",
       "0.65                                                 12418.75\n",
       "0.7                                                   12832.5\n",
       "0.75                                                 13263.25\n",
       "0.8                                                   13738.0\n",
       "0.85                                                  14232.0\n",
       "0.9                                                   14865.0\n",
       "0.95                                                 15499.25\n",
       "quantile    Index([ 0.0, 0.05,  0.1, 0.15,  0.2, 0.25,  0....\n",
       "Name: value, dtype: object"
      ]
     },
     "execution_count": 88,
     "metadata": {},
     "output_type": "execute_result"
    }
   ],
   "source": [
    "#bins of 20 percentile cuts\n",
    "\n",
    "#bpng_dist[\"quantile\"] = bpng_dist.index\n",
    "#bpng_dist\n"
   ]
  },
  {
   "cell_type": "code",
   "execution_count": 91,
   "metadata": {},
   "outputs": [
    {
     "data": {
      "text/plain": [
       "<Axes: >"
      ]
     },
     "execution_count": 91,
     "metadata": {},
     "output_type": "execute_result"
    },
    {
     "data": {
      "image/png": "[encoded data removed]",
      "text/plain": [
       "<Figure size 640x480 with 1 Axes>"
      ]
     },
     "metadata": {},
     "output_type": "display_data"
    }
   ],
   "source": [
    "bpng_dist.plot.line(y=\"quantile\", x = \"value\")"
   ]
  },
  {
   "cell_type": "code",
   "execution_count": 92,
   "metadata": {},
   "outputs": [
    {
     "data": {
      "text/html": [
       "<div>\n",
       "<style scoped>\n",
       "    .dataframe tbody tr th:only-of-type {\n",
       "        vertical-align: middle;\n",
       "    }\n",
       "\n",
       "    .dataframe tbody tr th {\n",
       "        vertical-align: top;\n",
       "    }\n",
       "\n",
       "    .dataframe thead th {\n",
       "        text-align: right;\n",
       "    }\n",
       "</style>\n",
       "<table border=\"1\" class=\"dataframe\">\n",
       "  <thead>\n",
       "    <tr style=\"text-align: right;\">\n",
       "      <th></th>\n",
       "      <th>datetime</th>\n",
       "      <th>type</th>\n",
       "      <th>type_name</th>\n",
       "      <th>value</th>\n",
       "      <th>outlier</th>\n",
       "      <th>CumValue</th>\n",
       "    </tr>\n",
       "  </thead>\n",
       "  <tbody>\n",
       "    <tr>\n",
       "      <th>139</th>\n",
       "      <td>2023-01-01 00:00:00</td>\n",
       "      <td>NG</td>\n",
       "      <td>Net generation</td>\n",
       "      <td>9792.0</td>\n",
       "      <td>False</td>\n",
       "      <td>9792.0</td>\n",
       "    </tr>\n",
       "    <tr>\n",
       "      <th>566</th>\n",
       "      <td>2022-12-31 23:00:00</td>\n",
       "      <td>NG</td>\n",
       "      <td>Net generation</td>\n",
       "      <td>9813.0</td>\n",
       "      <td>False</td>\n",
       "      <td>19605.0</td>\n",
       "    </tr>\n",
       "    <tr>\n",
       "      <th>728</th>\n",
       "      <td>2022-12-31 22:00:00</td>\n",
       "      <td>NG</td>\n",
       "      <td>Net generation</td>\n",
       "      <td>10131.0</td>\n",
       "      <td>False</td>\n",
       "      <td>29736.0</td>\n",
       "    </tr>\n",
       "    <tr>\n",
       "      <th>1134</th>\n",
       "      <td>2022-12-31 21:00:00</td>\n",
       "      <td>NG</td>\n",
       "      <td>Net generation</td>\n",
       "      <td>10355.0</td>\n",
       "      <td>False</td>\n",
       "      <td>40091.0</td>\n",
       "    </tr>\n",
       "    <tr>\n",
       "      <th>1299</th>\n",
       "      <td>2022-12-31 20:00:00</td>\n",
       "      <td>NG</td>\n",
       "      <td>Net generation</td>\n",
       "      <td>10564.0</td>\n",
       "      <td>False</td>\n",
       "      <td>50655.0</td>\n",
       "    </tr>\n",
       "    <tr>\n",
       "      <th>...</th>\n",
       "      <td>...</td>\n",
       "      <td>...</td>\n",
       "      <td>...</td>\n",
       "      <td>...</td>\n",
       "      <td>...</td>\n",
       "      <td>...</td>\n",
       "    </tr>\n",
       "    <tr>\n",
       "      <th>2501941</th>\n",
       "      <td>2022-01-01 04:00:00</td>\n",
       "      <td>NG</td>\n",
       "      <td>Net generation</td>\n",
       "      <td>14665.0</td>\n",
       "      <td>False</td>\n",
       "      <td>97480296.0</td>\n",
       "    </tr>\n",
       "    <tr>\n",
       "      <th>2502227</th>\n",
       "      <td>2022-01-01 03:00:00</td>\n",
       "      <td>NG</td>\n",
       "      <td>Net generation</td>\n",
       "      <td>15047.0</td>\n",
       "      <td>False</td>\n",
       "      <td>97495343.0</td>\n",
       "    </tr>\n",
       "    <tr>\n",
       "      <th>2502529</th>\n",
       "      <td>2022-01-01 02:00:00</td>\n",
       "      <td>NG</td>\n",
       "      <td>Net generation</td>\n",
       "      <td>14903.0</td>\n",
       "      <td>False</td>\n",
       "      <td>97510246.0</td>\n",
       "    </tr>\n",
       "    <tr>\n",
       "      <th>2502790</th>\n",
       "      <td>2022-01-01 01:00:00</td>\n",
       "      <td>NG</td>\n",
       "      <td>Net generation</td>\n",
       "      <td>14482.0</td>\n",
       "      <td>False</td>\n",
       "      <td>97524728.0</td>\n",
       "    </tr>\n",
       "    <tr>\n",
       "      <th>2503163</th>\n",
       "      <td>2022-01-01 00:00:00</td>\n",
       "      <td>NG</td>\n",
       "      <td>Net generation</td>\n",
       "      <td>13958.0</td>\n",
       "      <td>False</td>\n",
       "      <td>97538686.0</td>\n",
       "    </tr>\n",
       "  </tbody>\n",
       "</table>\n",
       "<p>8696 rows × 6 columns</p>\n",
       "</div>"
      ],
      "text/plain": [
       "                   datetime type       type_name    value  outlier    CumValue\n",
       "139     2023-01-01 00:00:00   NG  Net generation   9792.0    False      9792.0\n",
       "566     2022-12-31 23:00:00   NG  Net generation   9813.0    False     19605.0\n",
       "728     2022-12-31 22:00:00   NG  Net generation  10131.0    False     29736.0\n",
       "1134    2022-12-31 21:00:00   NG  Net generation  10355.0    False     40091.0\n",
       "1299    2022-12-31 20:00:00   NG  Net generation  10564.0    False     50655.0\n",
       "...                     ...  ...             ...      ...      ...         ...\n",
       "2501941 2022-01-01 04:00:00   NG  Net generation  14665.0    False  97480296.0\n",
       "2502227 2022-01-01 03:00:00   NG  Net generation  15047.0    False  97495343.0\n",
       "2502529 2022-01-01 02:00:00   NG  Net generation  14903.0    False  97510246.0\n",
       "2502790 2022-01-01 01:00:00   NG  Net generation  14482.0    False  97524728.0\n",
       "2503163 2022-01-01 00:00:00   NG  Net generation  13958.0    False  97538686.0\n",
       "\n",
       "[8696 rows x 6 columns]"
      ]
     },
     "execution_count": 92,
     "metadata": {},
     "output_type": "execute_result"
    }
   ],
   "source": [
    "# compare with SUM() OVER in SQL\n",
    "bpat_netgen[\"CumValue\"] = bpat_netgen.value.cumsum()\n",
    "bpat_netgen"
   ]
  },
  {
   "cell_type": "code",
   "execution_count": 93,
   "metadata": {},
   "outputs": [
    {
     "data": {
      "text/plain": [
       "<Axes: >"
      ]
     },
     "execution_count": 93,
     "metadata": {},
     "output_type": "execute_result"
    },
    {
     "data": {
      "image/png": "[encoded data removed]",
      "text/plain": [
       "<Figure size 640x480 with 1 Axes>"
      ]
     },
     "metadata": {},
     "output_type": "display_data"
    }
   ],
   "source": [
    "bpat_netgen.plot.line( y = \"CumValue\")"
   ]
  },
  {
   "cell_type": "markdown",
   "metadata": {},
   "source": [
    "### Use Python for column arithmetic"
   ]
  },
  {
   "cell_type": "code",
   "execution_count": 115,
   "metadata": {},
   "outputs": [
    {
     "data": {
      "text/html": [
       "<div>\n",
       "<style scoped>\n",
       "    .dataframe tbody tr th:only-of-type {\n",
       "        vertical-align: middle;\n",
       "    }\n",
       "\n",
       "    .dataframe tbody tr th {\n",
       "        vertical-align: top;\n",
       "    }\n",
       "\n",
       "    .dataframe thead th {\n",
       "        text-align: right;\n",
       "    }\n",
       "</style>\n",
       "<table border=\"1\" class=\"dataframe\">\n",
       "  <thead>\n",
       "    <tr style=\"text-align: right;\">\n",
       "      <th></th>\n",
       "      <th>datetime</th>\n",
       "      <th>type</th>\n",
       "      <th>type_name</th>\n",
       "      <th>value</th>\n",
       "      <th>MeanCentered</th>\n",
       "      <th>type_mean</th>\n",
       "    </tr>\n",
       "  </thead>\n",
       "  <tbody>\n",
       "    <tr>\n",
       "      <th>26</th>\n",
       "      <td>2023-01-01 00:00:00</td>\n",
       "      <td>D</td>\n",
       "      <td>Demand</td>\n",
       "      <td>6997.0</td>\n",
       "      <td>326.410346</td>\n",
       "      <td>6670.589654</td>\n",
       "    </tr>\n",
       "    <tr>\n",
       "      <th>100</th>\n",
       "      <td>2023-01-01 00:00:00</td>\n",
       "      <td>DF</td>\n",
       "      <td>Day-ahead demand forecast</td>\n",
       "      <td>7257.0</td>\n",
       "      <td>562.819541</td>\n",
       "      <td>6694.180459</td>\n",
       "    </tr>\n",
       "    <tr>\n",
       "      <th>139</th>\n",
       "      <td>2023-01-01 00:00:00</td>\n",
       "      <td>NG</td>\n",
       "      <td>Net generation</td>\n",
       "      <td>9792.0</td>\n",
       "      <td>-1424.500230</td>\n",
       "      <td>11216.500230</td>\n",
       "    </tr>\n",
       "    <tr>\n",
       "      <th>283</th>\n",
       "      <td>2023-01-01 00:00:00</td>\n",
       "      <td>TI</td>\n",
       "      <td>Total interchange</td>\n",
       "      <td>7509.0</td>\n",
       "      <td>-804.616123</td>\n",
       "      <td>8313.616123</td>\n",
       "    </tr>\n",
       "    <tr>\n",
       "      <th>351</th>\n",
       "      <td>2022-12-31 23:00:00</td>\n",
       "      <td>D</td>\n",
       "      <td>Demand</td>\n",
       "      <td>6951.0</td>\n",
       "      <td>280.410346</td>\n",
       "      <td>6670.589654</td>\n",
       "    </tr>\n",
       "  </tbody>\n",
       "</table>\n",
       "</div>"
      ],
      "text/plain": [
       "               datetime type                  type_name   value  MeanCentered   \n",
       "26  2023-01-01 00:00:00    D                     Demand  6997.0    326.410346  \\\n",
       "100 2023-01-01 00:00:00   DF  Day-ahead demand forecast  7257.0    562.819541   \n",
       "139 2023-01-01 00:00:00   NG             Net generation  9792.0  -1424.500230   \n",
       "283 2023-01-01 00:00:00   TI          Total interchange  7509.0   -804.616123   \n",
       "351 2022-12-31 23:00:00    D                     Demand  6951.0    280.410346   \n",
       "\n",
       "        type_mean  \n",
       "26    6670.589654  \n",
       "100   6694.180459  \n",
       "139  11216.500230  \n",
       "283   8313.616123  \n",
       "351   6670.589654  "
      ]
     },
     "execution_count": 115,
     "metadata": {},
     "output_type": "execute_result"
    }
   ],
   "source": [
    "bpat_data = pd.DataFrame(bpat_data)\n",
    "bpat_mu_dict = {'NG':bpat_data.query('type == \"NG\"')['value'].mean(),\n",
    "                'D':bpat_data.query('type == \"D\"')['value'].mean(),\n",
    "                'TI':bpat_data.query('type == \"TI\"')['value'].mean(),\n",
    "                'DF':bpat_data.query('type == \"DF\"')['value'].mean()}\n",
    "bpat_data['type_mean'] = bpat_data['type'].apply(lambda t: bpat_mu_dict.get(t))\n",
    "bpat_data['MeanCentered'] = bpat_data.value - bpat_data.type_mean\n",
    "bpat_data.head()\n"
   ]
  },
  {
   "cell_type": "code",
   "execution_count": 116,
   "metadata": {},
   "outputs": [
    {
     "data": {
      "text/plain": [
       "count    3.493700e+04\n",
       "mean    -9.330020e-14\n",
       "std      1.883980e+03\n",
       "min     -8.329616e+03\n",
       "25%     -1.046180e+03\n",
       "50%     -9.218046e+01\n",
       "75%      1.122384e+03\n",
       "max      6.641500e+03\n",
       "Name: MeanCentered, dtype: float64"
      ]
     },
     "execution_count": 116,
     "metadata": {},
     "output_type": "execute_result"
    }
   ],
   "source": [
    "bpat_data.MeanCentered.describe()"
   ]
  },
  {
   "cell_type": "markdown",
   "metadata": {},
   "source": [
    "## Shape the data"
   ]
  },
  {
   "cell_type": "markdown",
   "metadata": {},
   "source": [
    "### Set and use an index"
   ]
  },
  {
   "cell_type": "code",
   "execution_count": 117,
   "metadata": {},
   "outputs": [
    {
     "data": {
      "text/html": [
       "<div>\n",
       "<style scoped>\n",
       "    .dataframe tbody tr th:only-of-type {\n",
       "        vertical-align: middle;\n",
       "    }\n",
       "\n",
       "    .dataframe tbody tr th {\n",
       "        vertical-align: top;\n",
       "    }\n",
       "\n",
       "    .dataframe thead th {\n",
       "        text-align: right;\n",
       "    }\n",
       "</style>\n",
       "<table border=\"1\" class=\"dataframe\">\n",
       "  <thead>\n",
       "    <tr style=\"text-align: right;\">\n",
       "      <th></th>\n",
       "      <th>type</th>\n",
       "      <th>type_name</th>\n",
       "      <th>value</th>\n",
       "      <th>MeanCentered</th>\n",
       "      <th>type_mean</th>\n",
       "    </tr>\n",
       "    <tr>\n",
       "      <th>datetime</th>\n",
       "      <th></th>\n",
       "      <th></th>\n",
       "      <th></th>\n",
       "      <th></th>\n",
       "      <th></th>\n",
       "    </tr>\n",
       "  </thead>\n",
       "  <tbody>\n",
       "    <tr>\n",
       "      <th>2023-01-01 00:00:00</th>\n",
       "      <td>D</td>\n",
       "      <td>Demand</td>\n",
       "      <td>6997.0</td>\n",
       "      <td>326.410346</td>\n",
       "      <td>6670.589654</td>\n",
       "    </tr>\n",
       "    <tr>\n",
       "      <th>2023-01-01 00:00:00</th>\n",
       "      <td>DF</td>\n",
       "      <td>Day-ahead demand forecast</td>\n",
       "      <td>7257.0</td>\n",
       "      <td>562.819541</td>\n",
       "      <td>6694.180459</td>\n",
       "    </tr>\n",
       "    <tr>\n",
       "      <th>2023-01-01 00:00:00</th>\n",
       "      <td>NG</td>\n",
       "      <td>Net generation</td>\n",
       "      <td>9792.0</td>\n",
       "      <td>-1424.500230</td>\n",
       "      <td>11216.500230</td>\n",
       "    </tr>\n",
       "    <tr>\n",
       "      <th>2023-01-01 00:00:00</th>\n",
       "      <td>TI</td>\n",
       "      <td>Total interchange</td>\n",
       "      <td>7509.0</td>\n",
       "      <td>-804.616123</td>\n",
       "      <td>8313.616123</td>\n",
       "    </tr>\n",
       "    <tr>\n",
       "      <th>2022-12-31 23:00:00</th>\n",
       "      <td>D</td>\n",
       "      <td>Demand</td>\n",
       "      <td>6951.0</td>\n",
       "      <td>280.410346</td>\n",
       "      <td>6670.589654</td>\n",
       "    </tr>\n",
       "  </tbody>\n",
       "</table>\n",
       "</div>"
      ],
      "text/plain": [
       "                    type                  type_name   value  MeanCentered   \n",
       "datetime                                                                    \n",
       "2023-01-01 00:00:00    D                     Demand  6997.0    326.410346  \\\n",
       "2023-01-01 00:00:00   DF  Day-ahead demand forecast  7257.0    562.819541   \n",
       "2023-01-01 00:00:00   NG             Net generation  9792.0  -1424.500230   \n",
       "2023-01-01 00:00:00   TI          Total interchange  7509.0   -804.616123   \n",
       "2022-12-31 23:00:00    D                     Demand  6951.0    280.410346   \n",
       "\n",
       "                        type_mean  \n",
       "datetime                           \n",
       "2023-01-01 00:00:00   6670.589654  \n",
       "2023-01-01 00:00:00   6694.180459  \n",
       "2023-01-01 00:00:00  11216.500230  \n",
       "2023-01-01 00:00:00   8313.616123  \n",
       "2022-12-31 23:00:00   6670.589654  "
      ]
     },
     "execution_count": 117,
     "metadata": {},
     "output_type": "execute_result"
    }
   ],
   "source": [
    "bpat_data = bpat_data.set_index('datetime')\n",
    "bpat_data.head()"
   ]
  },
  {
   "cell_type": "code",
   "execution_count": 118,
   "metadata": {},
   "outputs": [
    {
     "data": {
      "text/plain": [
       "34937"
      ]
     },
     "execution_count": 118,
     "metadata": {},
     "output_type": "execute_result"
    }
   ],
   "source": [
    "len(bpat_data)"
   ]
  },
  {
   "cell_type": "code",
   "execution_count": 119,
   "metadata": {},
   "outputs": [
    {
     "data": {
      "text/html": [
       "<div>\n",
       "<style scoped>\n",
       "    .dataframe tbody tr th:only-of-type {\n",
       "        vertical-align: middle;\n",
       "    }\n",
       "\n",
       "    .dataframe tbody tr th {\n",
       "        vertical-align: top;\n",
       "    }\n",
       "\n",
       "    .dataframe thead th {\n",
       "        text-align: right;\n",
       "    }\n",
       "</style>\n",
       "<table border=\"1\" class=\"dataframe\">\n",
       "  <thead>\n",
       "    <tr style=\"text-align: right;\">\n",
       "      <th></th>\n",
       "      <th>datetime</th>\n",
       "      <th>type</th>\n",
       "      <th>type_name</th>\n",
       "      <th>value</th>\n",
       "      <th>MeanCentered</th>\n",
       "      <th>type_mean</th>\n",
       "    </tr>\n",
       "  </thead>\n",
       "  <tbody>\n",
       "    <tr>\n",
       "      <th>0</th>\n",
       "      <td>2023-01-01 00:00:00</td>\n",
       "      <td>D</td>\n",
       "      <td>Demand</td>\n",
       "      <td>6997.0</td>\n",
       "      <td>326.410346</td>\n",
       "      <td>6670.589654</td>\n",
       "    </tr>\n",
       "    <tr>\n",
       "      <th>1</th>\n",
       "      <td>2023-01-01 00:00:00</td>\n",
       "      <td>DF</td>\n",
       "      <td>Day-ahead demand forecast</td>\n",
       "      <td>7257.0</td>\n",
       "      <td>562.819541</td>\n",
       "      <td>6694.180459</td>\n",
       "    </tr>\n",
       "    <tr>\n",
       "      <th>2</th>\n",
       "      <td>2023-01-01 00:00:00</td>\n",
       "      <td>NG</td>\n",
       "      <td>Net generation</td>\n",
       "      <td>9792.0</td>\n",
       "      <td>-1424.500230</td>\n",
       "      <td>11216.500230</td>\n",
       "    </tr>\n",
       "    <tr>\n",
       "      <th>3</th>\n",
       "      <td>2023-01-01 00:00:00</td>\n",
       "      <td>TI</td>\n",
       "      <td>Total interchange</td>\n",
       "      <td>7509.0</td>\n",
       "      <td>-804.616123</td>\n",
       "      <td>8313.616123</td>\n",
       "    </tr>\n",
       "    <tr>\n",
       "      <th>4</th>\n",
       "      <td>2022-12-31 23:00:00</td>\n",
       "      <td>D</td>\n",
       "      <td>Demand</td>\n",
       "      <td>6951.0</td>\n",
       "      <td>280.410346</td>\n",
       "      <td>6670.589654</td>\n",
       "    </tr>\n",
       "    <tr>\n",
       "      <th>...</th>\n",
       "      <td>...</td>\n",
       "      <td>...</td>\n",
       "      <td>...</td>\n",
       "      <td>...</td>\n",
       "      <td>...</td>\n",
       "      <td>...</td>\n",
       "    </tr>\n",
       "    <tr>\n",
       "      <th>34932</th>\n",
       "      <td>2022-01-01 01:00:00</td>\n",
       "      <td>D</td>\n",
       "      <td>Demand</td>\n",
       "      <td>8977.0</td>\n",
       "      <td>2306.410346</td>\n",
       "      <td>6670.589654</td>\n",
       "    </tr>\n",
       "    <tr>\n",
       "      <th>34933</th>\n",
       "      <td>2022-01-01 00:00:00</td>\n",
       "      <td>D</td>\n",
       "      <td>Demand</td>\n",
       "      <td>8535.0</td>\n",
       "      <td>1864.410346</td>\n",
       "      <td>6670.589654</td>\n",
       "    </tr>\n",
       "    <tr>\n",
       "      <th>34934</th>\n",
       "      <td>2022-01-01 00:00:00</td>\n",
       "      <td>DF</td>\n",
       "      <td>Day-ahead demand forecast</td>\n",
       "      <td>8899.0</td>\n",
       "      <td>2204.819541</td>\n",
       "      <td>6694.180459</td>\n",
       "    </tr>\n",
       "    <tr>\n",
       "      <th>34935</th>\n",
       "      <td>2022-01-01 00:00:00</td>\n",
       "      <td>NG</td>\n",
       "      <td>Net generation</td>\n",
       "      <td>13958.0</td>\n",
       "      <td>2741.499770</td>\n",
       "      <td>11216.500230</td>\n",
       "    </tr>\n",
       "    <tr>\n",
       "      <th>34936</th>\n",
       "      <td>2022-01-01 00:00:00</td>\n",
       "      <td>TI</td>\n",
       "      <td>Total interchange</td>\n",
       "      <td>9579.0</td>\n",
       "      <td>1265.383877</td>\n",
       "      <td>8313.616123</td>\n",
       "    </tr>\n",
       "  </tbody>\n",
       "</table>\n",
       "<p>34937 rows × 6 columns</p>\n",
       "</div>"
      ],
      "text/plain": [
       "                 datetime type                  type_name    value   \n",
       "0     2023-01-01 00:00:00    D                     Demand   6997.0  \\\n",
       "1     2023-01-01 00:00:00   DF  Day-ahead demand forecast   7257.0   \n",
       "2     2023-01-01 00:00:00   NG             Net generation   9792.0   \n",
       "3     2023-01-01 00:00:00   TI          Total interchange   7509.0   \n",
       "4     2022-12-31 23:00:00    D                     Demand   6951.0   \n",
       "...                   ...  ...                        ...      ...   \n",
       "34932 2022-01-01 01:00:00    D                     Demand   8977.0   \n",
       "34933 2022-01-01 00:00:00    D                     Demand   8535.0   \n",
       "34934 2022-01-01 00:00:00   DF  Day-ahead demand forecast   8899.0   \n",
       "34935 2022-01-01 00:00:00   NG             Net generation  13958.0   \n",
       "34936 2022-01-01 00:00:00   TI          Total interchange   9579.0   \n",
       "\n",
       "       MeanCentered     type_mean  \n",
       "0        326.410346   6670.589654  \n",
       "1        562.819541   6694.180459  \n",
       "2      -1424.500230  11216.500230  \n",
       "3       -804.616123   8313.616123  \n",
       "4        280.410346   6670.589654  \n",
       "...             ...           ...  \n",
       "34932   2306.410346   6670.589654  \n",
       "34933   1864.410346   6670.589654  \n",
       "34934   2204.819541   6694.180459  \n",
       "34935   2741.499770  11216.500230  \n",
       "34936   1265.383877   8313.616123  \n",
       "\n",
       "[34937 rows x 6 columns]"
      ]
     },
     "execution_count": 119,
     "metadata": {},
     "output_type": "execute_result"
    }
   ],
   "source": [
    "bpat_data.reset_index(inplace=True)\n",
    "bpat_data"
   ]
  },
  {
   "cell_type": "code",
   "execution_count": 120,
   "metadata": {},
   "outputs": [
    {
     "ename": "ValueError",
     "evalue": "Index has duplicate keys: DatetimeIndex(['2023-01-01 00:00:00', '2022-12-31 23:00:00',\n               '2022-12-31 22:00:00', '2022-12-31 21:00:00',\n               '2022-12-31 20:00:00', '2022-12-31 19:00:00',\n               '2022-12-31 18:00:00', '2022-12-31 17:00:00',\n               '2022-12-31 16:00:00', '2022-12-31 15:00:00',\n               ...\n               '2022-01-01 09:00:00', '2022-01-01 08:00:00',\n               '2022-01-01 07:00:00', '2022-01-01 06:00:00',\n               '2022-01-01 05:00:00', '2022-01-01 04:00:00',\n               '2022-01-01 03:00:00', '2022-01-01 02:00:00',\n               '2022-01-01 01:00:00', '2022-01-01 00:00:00'],\n              dtype='datetime64[ns]', name='datetime', length=8737, freq=None)",
     "output_type": "error",
     "traceback": [
      "\u001b[1;31m---------------------------------------------------------------------------\u001b[0m",
      "\u001b[1;31mValueError\u001b[0m                                Traceback (most recent call last)",
      "Cell \u001b[1;32mIn[120], line 2\u001b[0m\n\u001b[0;32m      1\u001b[0m \u001b[39m# NOTE: the following line of code causes ValueError: Index has duplicate keys\u001b[39;00m\n\u001b[1;32m----> 2\u001b[0m bpat_data \u001b[39m=\u001b[39m bpat_data\u001b[39m.\u001b[39;49mset_index(\u001b[39m'\u001b[39;49m\u001b[39mdatetime\u001b[39;49m\u001b[39m'\u001b[39;49m, verify_integrity\u001b[39m=\u001b[39;49m\u001b[39mTrue\u001b[39;49;00m)\n\u001b[0;32m      3\u001b[0m \u001b[39m#mortality_data\u001b[39;00m\n",
      "File \u001b[1;32mc:\\Users\\lilye\\AppData\\Local\\Programs\\Python\\Python311\\Lib\\site-packages\\pandas\\core\\frame.py:5927\u001b[0m, in \u001b[0;36mDataFrame.set_index\u001b[1;34m(self, keys, drop, append, inplace, verify_integrity)\u001b[0m\n\u001b[0;32m   5925\u001b[0m \u001b[39mif\u001b[39;00m verify_integrity \u001b[39mand\u001b[39;00m \u001b[39mnot\u001b[39;00m index\u001b[39m.\u001b[39mis_unique:\n\u001b[0;32m   5926\u001b[0m     duplicates \u001b[39m=\u001b[39m index[index\u001b[39m.\u001b[39mduplicated()]\u001b[39m.\u001b[39munique()\n\u001b[1;32m-> 5927\u001b[0m     \u001b[39mraise\u001b[39;00m \u001b[39mValueError\u001b[39;00m(\u001b[39mf\u001b[39m\u001b[39m\"\u001b[39m\u001b[39mIndex has duplicate keys: \u001b[39m\u001b[39m{\u001b[39;00mduplicates\u001b[39m}\u001b[39;00m\u001b[39m\"\u001b[39m)\n\u001b[0;32m   5929\u001b[0m \u001b[39m# use set to handle duplicate column names gracefully in case of drop\u001b[39;00m\n\u001b[0;32m   5930\u001b[0m \u001b[39mfor\u001b[39;00m c \u001b[39min\u001b[39;00m \u001b[39mset\u001b[39m(to_remove):\n",
      "\u001b[1;31mValueError\u001b[0m: Index has duplicate keys: DatetimeIndex(['2023-01-01 00:00:00', '2022-12-31 23:00:00',\n               '2022-12-31 22:00:00', '2022-12-31 21:00:00',\n               '2022-12-31 20:00:00', '2022-12-31 19:00:00',\n               '2022-12-31 18:00:00', '2022-12-31 17:00:00',\n               '2022-12-31 16:00:00', '2022-12-31 15:00:00',\n               ...\n               '2022-01-01 09:00:00', '2022-01-01 08:00:00',\n               '2022-01-01 07:00:00', '2022-01-01 06:00:00',\n               '2022-01-01 05:00:00', '2022-01-01 04:00:00',\n               '2022-01-01 03:00:00', '2022-01-01 02:00:00',\n               '2022-01-01 01:00:00', '2022-01-01 00:00:00'],\n              dtype='datetime64[ns]', name='datetime', length=8737, freq=None)"
     ]
    }
   ],
   "source": [
    "# NOTE: the following line of code causes ValueError: Index has duplicate keys\n",
    "bpat_data = bpat_data.set_index('datetime', verify_integrity=True)\n",
    "#mortality_data"
   ]
  },
  {
   "cell_type": "code",
   "execution_count": 121,
   "metadata": {},
   "outputs": [
    {
     "ename": "ValueError",
     "evalue": "Index has duplicate keys: MultiIndex([('2022-12-31 07:00:00', 'NG'),\n            ('2022-12-29 20:00:00',  'D'),\n            ('2022-12-29 02:00:00',  'D'),\n            ('2022-12-28 09:00:00', 'NG'),\n            ('2022-12-28 09:00:00', 'DF'),\n            ('2022-12-26 22:00:00', 'DF'),\n            ('2022-12-26 04:00:00', 'NG'),\n            ('2022-12-24 17:00:00', 'DF'),\n            ('2022-12-24 17:00:00',  'D'),\n            ('2022-12-23 06:00:00',  'D'),\n            ...\n            ('2022-01-08 12:00:00',  'D'),\n            ('2022-01-07 01:00:00', 'DF'),\n            ('2022-01-07 01:00:00',  'D'),\n            ('2022-01-06 08:00:00',  'D'),\n            ('2022-01-04 21:00:00', 'DF'),\n            ('2022-01-04 21:00:00',  'D'),\n            ('2022-01-04 04:00:00',  'D'),\n            ('2022-01-02 17:00:00', 'DF'),\n            ('2022-01-02 17:00:00',  'D'),\n            ('2022-01-01 06:00:00',  'D')],\n           names=['datetime', 'type'], length=228)",
     "output_type": "error",
     "traceback": [
      "\u001b[1;31m---------------------------------------------------------------------------\u001b[0m",
      "\u001b[1;31mValueError\u001b[0m                                Traceback (most recent call last)",
      "Cell \u001b[1;32mIn[121], line 1\u001b[0m\n\u001b[1;32m----> 1\u001b[0m bpat_data \u001b[39m=\u001b[39m bpat_data\u001b[39m.\u001b[39;49mset_index(\n\u001b[0;32m      2\u001b[0m     [\u001b[39m'\u001b[39;49m\u001b[39mdatetime\u001b[39;49m\u001b[39m'\u001b[39;49m,\u001b[39m'\u001b[39;49m\u001b[39mtype\u001b[39;49m\u001b[39m'\u001b[39;49m], verify_integrity\u001b[39m=\u001b[39;49m\u001b[39mTrue\u001b[39;49;00m)\n\u001b[0;32m      3\u001b[0m bpat_data\u001b[39m.\u001b[39mhead()\n",
      "File \u001b[1;32mc:\\Users\\lilye\\AppData\\Local\\Programs\\Python\\Python311\\Lib\\site-packages\\pandas\\core\\frame.py:5927\u001b[0m, in \u001b[0;36mDataFrame.set_index\u001b[1;34m(self, keys, drop, append, inplace, verify_integrity)\u001b[0m\n\u001b[0;32m   5925\u001b[0m \u001b[39mif\u001b[39;00m verify_integrity \u001b[39mand\u001b[39;00m \u001b[39mnot\u001b[39;00m index\u001b[39m.\u001b[39mis_unique:\n\u001b[0;32m   5926\u001b[0m     duplicates \u001b[39m=\u001b[39m index[index\u001b[39m.\u001b[39mduplicated()]\u001b[39m.\u001b[39munique()\n\u001b[1;32m-> 5927\u001b[0m     \u001b[39mraise\u001b[39;00m \u001b[39mValueError\u001b[39;00m(\u001b[39mf\u001b[39m\u001b[39m\"\u001b[39m\u001b[39mIndex has duplicate keys: \u001b[39m\u001b[39m{\u001b[39;00mduplicates\u001b[39m}\u001b[39;00m\u001b[39m\"\u001b[39m)\n\u001b[0;32m   5929\u001b[0m \u001b[39m# use set to handle duplicate column names gracefully in case of drop\u001b[39;00m\n\u001b[0;32m   5930\u001b[0m \u001b[39mfor\u001b[39;00m c \u001b[39min\u001b[39;00m \u001b[39mset\u001b[39m(to_remove):\n",
      "\u001b[1;31mValueError\u001b[0m: Index has duplicate keys: MultiIndex([('2022-12-31 07:00:00', 'NG'),\n            ('2022-12-29 20:00:00',  'D'),\n            ('2022-12-29 02:00:00',  'D'),\n            ('2022-12-28 09:00:00', 'NG'),\n            ('2022-12-28 09:00:00', 'DF'),\n            ('2022-12-26 22:00:00', 'DF'),\n            ('2022-12-26 04:00:00', 'NG'),\n            ('2022-12-24 17:00:00', 'DF'),\n            ('2022-12-24 17:00:00',  'D'),\n            ('2022-12-23 06:00:00',  'D'),\n            ...\n            ('2022-01-08 12:00:00',  'D'),\n            ('2022-01-07 01:00:00', 'DF'),\n            ('2022-01-07 01:00:00',  'D'),\n            ('2022-01-06 08:00:00',  'D'),\n            ('2022-01-04 21:00:00', 'DF'),\n            ('2022-01-04 21:00:00',  'D'),\n            ('2022-01-04 04:00:00',  'D'),\n            ('2022-01-02 17:00:00', 'DF'),\n            ('2022-01-02 17:00:00',  'D'),\n            ('2022-01-01 06:00:00',  'D')],\n           names=['datetime', 'type'], length=228)"
     ]
    }
   ],
   "source": [
    "bpat_data = bpat_data.set_index(\n",
    "    ['datetime','type'], verify_integrity=True)\n",
    "bpat_data.head()"
   ]
  },
  {
   "cell_type": "code",
   "execution_count": 122,
   "metadata": {},
   "outputs": [
    {
     "data": {
      "text/plain": [
       "(34937, 6)"
      ]
     },
     "execution_count": 122,
     "metadata": {},
     "output_type": "execute_result"
    }
   ],
   "source": [
    "bpat_data.shape"
   ]
  },
  {
   "cell_type": "markdown",
   "metadata": {},
   "source": [
    "### Pivot the data"
   ]
  },
  {
   "cell_type": "code",
   "execution_count": 126,
   "metadata": {},
   "outputs": [
    {
     "data": {
      "text/html": [
       "<div>\n",
       "<style scoped>\n",
       "    .dataframe tbody tr th:only-of-type {\n",
       "        vertical-align: middle;\n",
       "    }\n",
       "\n",
       "    .dataframe tbody tr th {\n",
       "        vertical-align: top;\n",
       "    }\n",
       "\n",
       "    .dataframe thead tr th {\n",
       "        text-align: left;\n",
       "    }\n",
       "</style>\n",
       "<table border=\"1\" class=\"dataframe\">\n",
       "  <thead>\n",
       "    <tr>\n",
       "      <th></th>\n",
       "      <th colspan=\"4\" halign=\"left\">datetime</th>\n",
       "      <th colspan=\"4\" halign=\"left\">value</th>\n",
       "      <th colspan=\"4\" halign=\"left\">MeanCentered</th>\n",
       "    </tr>\n",
       "    <tr>\n",
       "      <th>type</th>\n",
       "      <th>D</th>\n",
       "      <th>DF</th>\n",
       "      <th>NG</th>\n",
       "      <th>TI</th>\n",
       "      <th>D</th>\n",
       "      <th>DF</th>\n",
       "      <th>NG</th>\n",
       "      <th>TI</th>\n",
       "      <th>D</th>\n",
       "      <th>DF</th>\n",
       "      <th>NG</th>\n",
       "      <th>TI</th>\n",
       "    </tr>\n",
       "  </thead>\n",
       "  <tbody>\n",
       "    <tr>\n",
       "      <th>0</th>\n",
       "      <td>2023-01-01</td>\n",
       "      <td>NaT</td>\n",
       "      <td>NaT</td>\n",
       "      <td>NaT</td>\n",
       "      <td>6997.0</td>\n",
       "      <td>NaN</td>\n",
       "      <td>NaN</td>\n",
       "      <td>NaN</td>\n",
       "      <td>326.410346</td>\n",
       "      <td>NaN</td>\n",
       "      <td>NaN</td>\n",
       "      <td>NaN</td>\n",
       "    </tr>\n",
       "    <tr>\n",
       "      <th>1</th>\n",
       "      <td>NaT</td>\n",
       "      <td>2023-01-01</td>\n",
       "      <td>NaT</td>\n",
       "      <td>NaT</td>\n",
       "      <td>NaN</td>\n",
       "      <td>7257.0</td>\n",
       "      <td>NaN</td>\n",
       "      <td>NaN</td>\n",
       "      <td>NaN</td>\n",
       "      <td>562.819541</td>\n",
       "      <td>NaN</td>\n",
       "      <td>NaN</td>\n",
       "    </tr>\n",
       "    <tr>\n",
       "      <th>2</th>\n",
       "      <td>NaT</td>\n",
       "      <td>NaT</td>\n",
       "      <td>2023-01-01</td>\n",
       "      <td>NaT</td>\n",
       "      <td>NaN</td>\n",
       "      <td>NaN</td>\n",
       "      <td>9792.0</td>\n",
       "      <td>NaN</td>\n",
       "      <td>NaN</td>\n",
       "      <td>NaN</td>\n",
       "      <td>-1424.50023</td>\n",
       "      <td>NaN</td>\n",
       "    </tr>\n",
       "  </tbody>\n",
       "</table>\n",
       "</div>"
      ],
      "text/plain": [
       "       datetime                             value                        \n",
       "type          D         DF         NG  TI       D      DF      NG   TI   \n",
       "0    2023-01-01        NaT        NaT NaT  6997.0     NaN     NaN  NaN  \\\n",
       "1           NaT 2023-01-01        NaT NaT     NaN  7257.0     NaN  NaN   \n",
       "2           NaT        NaT 2023-01-01 NaT     NaN     NaN  9792.0  NaN   \n",
       "\n",
       "     MeanCentered                               \n",
       "type            D          DF          NG   TI  \n",
       "0      326.410346         NaN         NaN  NaN  \n",
       "1             NaN  562.819541         NaN  NaN  \n",
       "2             NaN         NaN -1424.50023  NaN  "
      ]
     },
     "execution_count": 126,
     "metadata": {},
     "output_type": "execute_result"
    }
   ],
   "source": [
    "bpat_wide = bpat_data.pivot(\n",
    "    columns='type', values=['datetime','value','MeanCentered'])\n",
    "bpat_wide.head(3)\n",
    "#multiple values for hour and type. Sum?"
   ]
  },
  {
   "cell_type": "code",
   "execution_count": 72,
   "metadata": {},
   "outputs": [
    {
     "data": {
      "text/plain": [
       "(119, 8)"
      ]
     },
     "execution_count": 72,
     "metadata": {},
     "output_type": "execute_result"
    }
   ],
   "source": [
    "mortality_wide.shape"
   ]
  },
  {
   "cell_type": "code",
   "execution_count": 73,
   "metadata": {},
   "outputs": [
    {
     "data": {
      "text/html": [
       "<div>\n",
       "<style scoped>\n",
       "    .dataframe tbody tr th:only-of-type {\n",
       "        vertical-align: middle;\n",
       "    }\n",
       "\n",
       "    .dataframe tbody tr th {\n",
       "        vertical-align: top;\n",
       "    }\n",
       "\n",
       "    .dataframe thead th {\n",
       "        text-align: right;\n",
       "    }\n",
       "</style>\n",
       "<table border=\"1\" class=\"dataframe\">\n",
       "  <thead>\n",
       "    <tr style=\"text-align: right;\">\n",
       "      <th></th>\n",
       "      <th>AgeGroup</th>\n",
       "      <th>1-4 Years</th>\n",
       "      <th>10-14 Years</th>\n",
       "      <th>15-19 Years</th>\n",
       "      <th>5-9 Years</th>\n",
       "    </tr>\n",
       "    <tr>\n",
       "      <th>Year</th>\n",
       "      <th>MeanCentered</th>\n",
       "      <th></th>\n",
       "      <th></th>\n",
       "      <th></th>\n",
       "      <th></th>\n",
       "    </tr>\n",
       "  </thead>\n",
       "  <tbody>\n",
       "    <tr>\n",
       "      <th rowspan=\"3\" valign=\"top\">1900</th>\n",
       "      <th>105.37584</th>\n",
       "      <td>NaN</td>\n",
       "      <td>0.002983</td>\n",
       "      <td>NaN</td>\n",
       "      <td>NaN</td>\n",
       "    </tr>\n",
       "    <tr>\n",
       "      <th>273.17584</th>\n",
       "      <td>NaN</td>\n",
       "      <td>NaN</td>\n",
       "      <td>NaN</td>\n",
       "      <td>0.004661</td>\n",
       "    </tr>\n",
       "    <tr>\n",
       "      <th>291.87584</th>\n",
       "      <td>NaN</td>\n",
       "      <td>NaN</td>\n",
       "      <td>0.004848</td>\n",
       "      <td>NaN</td>\n",
       "    </tr>\n",
       "  </tbody>\n",
       "</table>\n",
       "</div>"
      ],
      "text/plain": [
       "AgeGroup           1-4 Years  10-14 Years  15-19 Years  5-9 Years\n",
       "Year MeanCentered                                                \n",
       "1900 105.37584           NaN     0.002983          NaN        NaN\n",
       "     273.17584           NaN          NaN          NaN   0.004661\n",
       "     291.87584           NaN          NaN     0.004848        NaN"
      ]
     },
     "execution_count": 73,
     "metadata": {},
     "output_type": "execute_result"
    }
   ],
   "source": [
    "mortality_wide = mortality_data.pivot(\n",
    "    index=['Year','MeanCentered'], columns='AgeGroup', values='DeathRate')\n",
    "mortality_wide.head(3)    "
   ]
  },
  {
   "cell_type": "code",
   "execution_count": 74,
   "metadata": {
    "tags": []
   },
   "outputs": [
    {
     "data": {
      "text/html": [
       "<div>\n",
       "<style scoped>\n",
       "    .dataframe tbody tr th:only-of-type {\n",
       "        vertical-align: middle;\n",
       "    }\n",
       "\n",
       "    .dataframe tbody tr th {\n",
       "        vertical-align: top;\n",
       "    }\n",
       "\n",
       "    .dataframe thead tr th {\n",
       "        text-align: left;\n",
       "    }\n",
       "\n",
       "    .dataframe thead tr:last-of-type th {\n",
       "        text-align: right;\n",
       "    }\n",
       "</style>\n",
       "<table border=\"1\" class=\"dataframe\">\n",
       "  <thead>\n",
       "    <tr>\n",
       "      <th></th>\n",
       "      <th colspan=\"4\" halign=\"left\">DeathRate</th>\n",
       "      <th colspan=\"4\" halign=\"left\">death_log</th>\n",
       "      <th colspan=\"4\" halign=\"left\">outlier</th>\n",
       "      <th colspan=\"4\" halign=\"left\">CumDeathRate</th>\n",
       "      <th colspan=\"4\" halign=\"left\">MeanCentered</th>\n",
       "    </tr>\n",
       "    <tr>\n",
       "      <th>AgeGroup</th>\n",
       "      <th>1-4 Years</th>\n",
       "      <th>10-14 Years</th>\n",
       "      <th>15-19 Years</th>\n",
       "      <th>5-9 Years</th>\n",
       "      <th>1-4 Years</th>\n",
       "      <th>10-14 Years</th>\n",
       "      <th>15-19 Years</th>\n",
       "      <th>5-9 Years</th>\n",
       "      <th>1-4 Years</th>\n",
       "      <th>10-14 Years</th>\n",
       "      <th>15-19 Years</th>\n",
       "      <th>5-9 Years</th>\n",
       "      <th>1-4 Years</th>\n",
       "      <th>10-14 Years</th>\n",
       "      <th>15-19 Years</th>\n",
       "      <th>5-9 Years</th>\n",
       "      <th>1-4 Years</th>\n",
       "      <th>10-14 Years</th>\n",
       "      <th>15-19 Years</th>\n",
       "      <th>5-9 Years</th>\n",
       "    </tr>\n",
       "    <tr>\n",
       "      <th>Year</th>\n",
       "      <th></th>\n",
       "      <th></th>\n",
       "      <th></th>\n",
       "      <th></th>\n",
       "      <th></th>\n",
       "      <th></th>\n",
       "      <th></th>\n",
       "      <th></th>\n",
       "      <th></th>\n",
       "      <th></th>\n",
       "      <th></th>\n",
       "      <th></th>\n",
       "      <th></th>\n",
       "      <th></th>\n",
       "      <th></th>\n",
       "      <th></th>\n",
       "      <th></th>\n",
       "      <th></th>\n",
       "      <th></th>\n",
       "      <th></th>\n",
       "    </tr>\n",
       "  </thead>\n",
       "  <tbody>\n",
       "    <tr>\n",
       "      <th>1900</th>\n",
       "      <td>0.019838</td>\n",
       "      <td>0.002983</td>\n",
       "      <td>0.004848</td>\n",
       "      <td>0.004661</td>\n",
       "      <td>3.297498</td>\n",
       "      <td>2.474653</td>\n",
       "      <td>2.685563</td>\n",
       "      <td>2.668479</td>\n",
       "      <td>True</td>\n",
       "      <td>False</td>\n",
       "      <td>False</td>\n",
       "      <td>False</td>\n",
       "      <td>1983.8</td>\n",
       "      <td>59864.0</td>\n",
       "      <td>71209.1</td>\n",
       "      <td>46070.0</td>\n",
       "      <td>1790.87584</td>\n",
       "      <td>105.37584</td>\n",
       "      <td>291.87584</td>\n",
       "      <td>273.17584</td>\n",
       "    </tr>\n",
       "    <tr>\n",
       "      <th>1901</th>\n",
       "      <td>0.016950</td>\n",
       "      <td>0.002736</td>\n",
       "      <td>0.004544</td>\n",
       "      <td>0.004276</td>\n",
       "      <td>3.229170</td>\n",
       "      <td>2.437116</td>\n",
       "      <td>2.657438</td>\n",
       "      <td>2.631038</td>\n",
       "      <td>True</td>\n",
       "      <td>False</td>\n",
       "      <td>False</td>\n",
       "      <td>False</td>\n",
       "      <td>3678.8</td>\n",
       "      <td>60137.6</td>\n",
       "      <td>71663.5</td>\n",
       "      <td>46497.6</td>\n",
       "      <td>1502.07584</td>\n",
       "      <td>80.67584</td>\n",
       "      <td>261.47584</td>\n",
       "      <td>234.67584</td>\n",
       "    </tr>\n",
       "    <tr>\n",
       "      <th>1902</th>\n",
       "      <td>0.016557</td>\n",
       "      <td>0.002525</td>\n",
       "      <td>0.004215</td>\n",
       "      <td>0.004033</td>\n",
       "      <td>3.218982</td>\n",
       "      <td>2.402261</td>\n",
       "      <td>2.624798</td>\n",
       "      <td>2.605628</td>\n",
       "      <td>True</td>\n",
       "      <td>False</td>\n",
       "      <td>False</td>\n",
       "      <td>False</td>\n",
       "      <td>5334.5</td>\n",
       "      <td>60390.1</td>\n",
       "      <td>72085.0</td>\n",
       "      <td>46900.9</td>\n",
       "      <td>1462.77584</td>\n",
       "      <td>59.57584</td>\n",
       "      <td>228.57584</td>\n",
       "      <td>210.37584</td>\n",
       "    </tr>\n",
       "  </tbody>\n",
       "</table>\n",
       "</div>"
      ],
      "text/plain": [
       "         DeathRate                                   death_log              \\\n",
       "AgeGroup 1-4 Years 10-14 Years 15-19 Years 5-9 Years 1-4 Years 10-14 Years   \n",
       "Year                                                                         \n",
       "1900      0.019838    0.002983    0.004848  0.004661  3.297498    2.474653   \n",
       "1901      0.016950    0.002736    0.004544  0.004276  3.229170    2.437116   \n",
       "1902      0.016557    0.002525    0.004215  0.004033  3.218982    2.402261   \n",
       "\n",
       "                                 outlier                                    \\\n",
       "AgeGroup 15-19 Years 5-9 Years 1-4 Years 10-14 Years 15-19 Years 5-9 Years   \n",
       "Year                                                                         \n",
       "1900        2.685563  2.668479      True       False       False     False   \n",
       "1901        2.657438  2.631038      True       False       False     False   \n",
       "1902        2.624798  2.605628      True       False       False     False   \n",
       "\n",
       "         CumDeathRate                                   MeanCentered  \\\n",
       "AgeGroup    1-4 Years 10-14 Years 15-19 Years 5-9 Years    1-4 Years   \n",
       "Year                                                                   \n",
       "1900           1983.8     59864.0     71209.1   46070.0   1790.87584   \n",
       "1901           3678.8     60137.6     71663.5   46497.6   1502.07584   \n",
       "1902           5334.5     60390.1     72085.0   46900.9   1462.77584   \n",
       "\n",
       "                                             \n",
       "AgeGroup 10-14 Years 15-19 Years  5-9 Years  \n",
       "Year                                         \n",
       "1900       105.37584   291.87584  273.17584  \n",
       "1901        80.67584   261.47584  234.67584  \n",
       "1902        59.57584   228.57584  210.37584  "
      ]
     },
     "execution_count": 74,
     "metadata": {},
     "output_type": "execute_result"
    }
   ],
   "source": [
    "mortality_wide = mortality_data.pivot(\n",
    "    index='Year', columns='AgeGroup')\n",
    "mortality_wide.head(3)"
   ]
  },
  {
   "cell_type": "code",
   "execution_count": 75,
   "metadata": {},
   "outputs": [],
   "source": [
    "mortality_wide.to_csv(\"mortality_wide.csv\")"
   ]
  },
  {
   "cell_type": "code",
   "execution_count": 76,
   "metadata": {},
   "outputs": [
    {
     "data": {
      "text/plain": [
       "(119, 20)"
      ]
     },
     "execution_count": 76,
     "metadata": {},
     "output_type": "execute_result"
    }
   ],
   "source": [
    "mortality_wide.shape"
   ]
  },
  {
   "cell_type": "markdown",
   "metadata": {},
   "source": [
    "### Melt the data"
   ]
  },
  {
   "cell_type": "code",
   "execution_count": 77,
   "metadata": {},
   "outputs": [
    {
     "data": {
      "text/html": [
       "<div>\n",
       "<style scoped>\n",
       "    .dataframe tbody tr th:only-of-type {\n",
       "        vertical-align: middle;\n",
       "    }\n",
       "\n",
       "    .dataframe tbody tr th {\n",
       "        vertical-align: top;\n",
       "    }\n",
       "\n",
       "    .dataframe thead th {\n",
       "        text-align: right;\n",
       "    }\n",
       "</style>\n",
       "<table border=\"1\" class=\"dataframe\">\n",
       "  <thead>\n",
       "    <tr style=\"text-align: right;\">\n",
       "      <th>AgeGroup</th>\n",
       "      <th>1-4 Years</th>\n",
       "      <th>10-14 Years</th>\n",
       "      <th>15-19 Years</th>\n",
       "      <th>5-9 Years</th>\n",
       "    </tr>\n",
       "    <tr>\n",
       "      <th>Year</th>\n",
       "      <th></th>\n",
       "      <th></th>\n",
       "      <th></th>\n",
       "      <th></th>\n",
       "    </tr>\n",
       "  </thead>\n",
       "  <tbody>\n",
       "    <tr>\n",
       "      <th>1900</th>\n",
       "      <td>0.019838</td>\n",
       "      <td>0.002983</td>\n",
       "      <td>0.004848</td>\n",
       "      <td>0.004661</td>\n",
       "    </tr>\n",
       "    <tr>\n",
       "      <th>1901</th>\n",
       "      <td>0.016950</td>\n",
       "      <td>0.002736</td>\n",
       "      <td>0.004544</td>\n",
       "      <td>0.004276</td>\n",
       "    </tr>\n",
       "    <tr>\n",
       "      <th>1902</th>\n",
       "      <td>0.016557</td>\n",
       "      <td>0.002525</td>\n",
       "      <td>0.004215</td>\n",
       "      <td>0.004033</td>\n",
       "    </tr>\n",
       "  </tbody>\n",
       "</table>\n",
       "</div>"
      ],
      "text/plain": [
       "AgeGroup  1-4 Years  10-14 Years  15-19 Years  5-9 Years\n",
       "Year                                                    \n",
       "1900       0.019838     0.002983     0.004848   0.004661\n",
       "1901       0.016950     0.002736     0.004544   0.004276\n",
       "1902       0.016557     0.002525     0.004215   0.004033"
      ]
     },
     "execution_count": 77,
     "metadata": {},
     "output_type": "execute_result"
    }
   ],
   "source": [
    "mortality_wide = mortality_data.pivot(\n",
    "    index='Year', columns='AgeGroup', values='DeathRate')\n",
    "mortality_wide.head(3)"
   ]
  },
  {
   "cell_type": "code",
   "execution_count": 78,
   "metadata": {},
   "outputs": [
    {
     "data": {
      "text/html": [
       "<div>\n",
       "<style scoped>\n",
       "    .dataframe tbody tr th:only-of-type {\n",
       "        vertical-align: middle;\n",
       "    }\n",
       "\n",
       "    .dataframe tbody tr th {\n",
       "        vertical-align: top;\n",
       "    }\n",
       "\n",
       "    .dataframe thead th {\n",
       "        text-align: right;\n",
       "    }\n",
       "</style>\n",
       "<table border=\"1\" class=\"dataframe\">\n",
       "  <thead>\n",
       "    <tr style=\"text-align: right;\">\n",
       "      <th></th>\n",
       "      <th>Year</th>\n",
       "      <th>1-4 Years</th>\n",
       "      <th>10-14 Years</th>\n",
       "      <th>15-19 Years</th>\n",
       "      <th>5-9 Years</th>\n",
       "    </tr>\n",
       "  </thead>\n",
       "  <tbody>\n",
       "    <tr>\n",
       "      <th>0</th>\n",
       "      <td>1900</td>\n",
       "      <td>0.019838</td>\n",
       "      <td>0.002983</td>\n",
       "      <td>0.004848</td>\n",
       "      <td>0.004661</td>\n",
       "    </tr>\n",
       "    <tr>\n",
       "      <th>1</th>\n",
       "      <td>1901</td>\n",
       "      <td>0.016950</td>\n",
       "      <td>0.002736</td>\n",
       "      <td>0.004544</td>\n",
       "      <td>0.004276</td>\n",
       "    </tr>\n",
       "    <tr>\n",
       "      <th>2</th>\n",
       "      <td>1902</td>\n",
       "      <td>0.016557</td>\n",
       "      <td>0.002525</td>\n",
       "      <td>0.004215</td>\n",
       "      <td>0.004033</td>\n",
       "    </tr>\n",
       "    <tr>\n",
       "      <th>3</th>\n",
       "      <td>1903</td>\n",
       "      <td>0.015421</td>\n",
       "      <td>0.002682</td>\n",
       "      <td>0.004341</td>\n",
       "      <td>0.004147</td>\n",
       "    </tr>\n",
       "  </tbody>\n",
       "</table>\n",
       "</div>"
      ],
      "text/plain": [
       "   Year  1-4 Years  10-14 Years  15-19 Years  5-9 Years\n",
       "0  1900   0.019838     0.002983     0.004848   0.004661\n",
       "1  1901   0.016950     0.002736     0.004544   0.004276\n",
       "2  1902   0.016557     0.002525     0.004215   0.004033\n",
       "3  1903   0.015421     0.002682     0.004341   0.004147"
      ]
     },
     "execution_count": 78,
     "metadata": {},
     "output_type": "execute_result"
    }
   ],
   "source": [
    "# get starting data\n",
    "\n",
    "\n",
    "# save to Excel format to remove indexes\n",
    "mortality_wide.to_excel('mortality_wide.xlsx')\n",
    "mortality_wide = pd.read_excel('mortality_wide.xlsx')\n",
    "\n",
    "mortality_wide.head(4)"
   ]
  },
  {
   "cell_type": "code",
   "execution_count": 79,
   "metadata": {},
   "outputs": [
    {
     "data": {
      "text/html": [
       "<div>\n",
       "<style scoped>\n",
       "    .dataframe tbody tr th:only-of-type {\n",
       "        vertical-align: middle;\n",
       "    }\n",
       "\n",
       "    .dataframe tbody tr th {\n",
       "        vertical-align: top;\n",
       "    }\n",
       "\n",
       "    .dataframe thead th {\n",
       "        text-align: right;\n",
       "    }\n",
       "</style>\n",
       "<table border=\"1\" class=\"dataframe\">\n",
       "  <thead>\n",
       "    <tr style=\"text-align: right;\">\n",
       "      <th></th>\n",
       "      <th>Year</th>\n",
       "      <th>AgeGroup</th>\n",
       "      <th>DeathRate</th>\n",
       "    </tr>\n",
       "  </thead>\n",
       "  <tbody>\n",
       "    <tr>\n",
       "      <th>0</th>\n",
       "      <td>1900</td>\n",
       "      <td>1-4 Years</td>\n",
       "      <td>0.019838</td>\n",
       "    </tr>\n",
       "    <tr>\n",
       "      <th>1</th>\n",
       "      <td>1901</td>\n",
       "      <td>1-4 Years</td>\n",
       "      <td>0.016950</td>\n",
       "    </tr>\n",
       "    <tr>\n",
       "      <th>...</th>\n",
       "      <td>...</td>\n",
       "      <td>...</td>\n",
       "      <td>...</td>\n",
       "    </tr>\n",
       "    <tr>\n",
       "      <th>236</th>\n",
       "      <td>2017</td>\n",
       "      <td>5-9 Years</td>\n",
       "      <td>0.000116</td>\n",
       "    </tr>\n",
       "    <tr>\n",
       "      <th>237</th>\n",
       "      <td>2018</td>\n",
       "      <td>5-9 Years</td>\n",
       "      <td>0.000115</td>\n",
       "    </tr>\n",
       "  </tbody>\n",
       "</table>\n",
       "<p>238 rows × 3 columns</p>\n",
       "</div>"
      ],
      "text/plain": [
       "     Year   AgeGroup  DeathRate\n",
       "0    1900  1-4 Years   0.019838\n",
       "1    1901  1-4 Years   0.016950\n",
       "..    ...        ...        ...\n",
       "236  2017  5-9 Years   0.000116\n",
       "237  2018  5-9 Years   0.000115\n",
       "\n",
       "[238 rows x 3 columns]"
      ]
     },
     "metadata": {},
     "output_type": "display_data"
    }
   ],
   "source": [
    "mortality_long = mortality_wide.melt(\n",
    "    id_vars = 'Year',\n",
    "    value_vars=['1-4 Years','5-9 Years'],\n",
    "    var_name ='AgeGroup',\n",
    "    value_name='DeathRate')\n",
    "\n",
    "with pd.option_context('display.max_rows', 4):\n",
    "    display(mortality_long)"
   ]
  },
  {
   "cell_type": "markdown",
   "metadata": {},
   "source": [
    "## Analyze the data"
   ]
  },
  {
   "cell_type": "markdown",
   "metadata": {},
   "source": [
    "### Group the data"
   ]
  },
  {
   "cell_type": "code",
   "execution_count": 80,
   "metadata": {},
   "outputs": [
    {
     "data": {
      "text/html": [
       "<div>\n",
       "<style scoped>\n",
       "    .dataframe tbody tr th:only-of-type {\n",
       "        vertical-align: middle;\n",
       "    }\n",
       "\n",
       "    .dataframe tbody tr th {\n",
       "        vertical-align: top;\n",
       "    }\n",
       "\n",
       "    .dataframe thead th {\n",
       "        text-align: right;\n",
       "    }\n",
       "</style>\n",
       "<table border=\"1\" class=\"dataframe\">\n",
       "  <thead>\n",
       "    <tr style=\"text-align: right;\">\n",
       "      <th></th>\n",
       "      <th>Year</th>\n",
       "      <th>DeathRate</th>\n",
       "      <th>death_log</th>\n",
       "      <th>outlier</th>\n",
       "      <th>CumDeathRate</th>\n",
       "      <th>MeanCentered</th>\n",
       "    </tr>\n",
       "    <tr>\n",
       "      <th>AgeGroup</th>\n",
       "      <th></th>\n",
       "      <th></th>\n",
       "      <th></th>\n",
       "      <th></th>\n",
       "      <th></th>\n",
       "      <th></th>\n",
       "    </tr>\n",
       "  </thead>\n",
       "  <tbody>\n",
       "    <tr>\n",
       "      <th>1-4 Years</th>\n",
       "      <td>1959</td>\n",
       "      <td>0.003832</td>\n",
       "      <td>2.193591</td>\n",
       "      <td>0.193277</td>\n",
       "      <td>37353.117647</td>\n",
       "      <td>190.301891</td>\n",
       "    </tr>\n",
       "    <tr>\n",
       "      <th>10-14 Years</th>\n",
       "      <td>1959</td>\n",
       "      <td>0.000938</td>\n",
       "      <td>1.772540</td>\n",
       "      <td>0.000000</td>\n",
       "      <td>67911.569748</td>\n",
       "      <td>-99.154412</td>\n",
       "    </tr>\n",
       "    <tr>\n",
       "      <th>15-19 Years</th>\n",
       "      <td>1959</td>\n",
       "      <td>0.001774</td>\n",
       "      <td>2.134860</td>\n",
       "      <td>0.000000</td>\n",
       "      <td>85460.104202</td>\n",
       "      <td>-15.549370</td>\n",
       "    </tr>\n",
       "    <tr>\n",
       "      <th>5-9 Years</th>\n",
       "      <td>1959</td>\n",
       "      <td>0.001173</td>\n",
       "      <td>1.795091</td>\n",
       "      <td>0.000000</td>\n",
       "      <td>56497.440336</td>\n",
       "      <td>-75.598109</td>\n",
       "    </tr>\n",
       "  </tbody>\n",
       "</table>\n",
       "</div>"
      ],
      "text/plain": [
       "             Year  DeathRate  death_log   outlier  CumDeathRate  MeanCentered\n",
       "AgeGroup                                                                     \n",
       "1-4 Years    1959   0.003832   2.193591  0.193277  37353.117647    190.301891\n",
       "10-14 Years  1959   0.000938   1.772540  0.000000  67911.569748    -99.154412\n",
       "15-19 Years  1959   0.001774   2.134860  0.000000  85460.104202    -15.549370\n",
       "5-9 Years    1959   0.001173   1.795091  0.000000  56497.440336    -75.598109"
      ]
     },
     "execution_count": 80,
     "metadata": {},
     "output_type": "execute_result"
    }
   ],
   "source": [
    "mortality_data.groupby('AgeGroup').mean()"
   ]
  },
  {
   "cell_type": "code",
   "execution_count": 81,
   "metadata": {},
   "outputs": [
    {
     "data": {
      "text/html": [
       "<div>\n",
       "<style scoped>\n",
       "    .dataframe tbody tr th:only-of-type {\n",
       "        vertical-align: middle;\n",
       "    }\n",
       "\n",
       "    .dataframe tbody tr th {\n",
       "        vertical-align: top;\n",
       "    }\n",
       "\n",
       "    .dataframe thead th {\n",
       "        text-align: right;\n",
       "    }\n",
       "</style>\n",
       "<table border=\"1\" class=\"dataframe\">\n",
       "  <thead>\n",
       "    <tr style=\"text-align: right;\">\n",
       "      <th></th>\n",
       "      <th>Year</th>\n",
       "      <th>DeathRate</th>\n",
       "      <th>death_log</th>\n",
       "      <th>outlier</th>\n",
       "      <th>CumDeathRate</th>\n",
       "      <th>MeanCentered</th>\n",
       "    </tr>\n",
       "    <tr>\n",
       "      <th>AgeGroup</th>\n",
       "      <th></th>\n",
       "      <th></th>\n",
       "      <th></th>\n",
       "      <th></th>\n",
       "      <th></th>\n",
       "      <th></th>\n",
       "    </tr>\n",
       "  </thead>\n",
       "  <tbody>\n",
       "    <tr>\n",
       "      <th>1-4 Years</th>\n",
       "      <td>1959</td>\n",
       "      <td>0.001091</td>\n",
       "      <td>2.037825</td>\n",
       "      <td>False</td>\n",
       "      <td>42409.4</td>\n",
       "      <td>-83.82416</td>\n",
       "    </tr>\n",
       "    <tr>\n",
       "      <th>10-14 Years</th>\n",
       "      <td>1959</td>\n",
       "      <td>0.000446</td>\n",
       "      <td>1.649335</td>\n",
       "      <td>False</td>\n",
       "      <td>69110.8</td>\n",
       "      <td>-148.32416</td>\n",
       "    </tr>\n",
       "    <tr>\n",
       "      <th>15-19 Years</th>\n",
       "      <td>1959</td>\n",
       "      <td>0.001069</td>\n",
       "      <td>2.028978</td>\n",
       "      <td>False</td>\n",
       "      <td>87096.4</td>\n",
       "      <td>-86.02416</td>\n",
       "    </tr>\n",
       "    <tr>\n",
       "      <th>5-9 Years</th>\n",
       "      <td>1959</td>\n",
       "      <td>0.000484</td>\n",
       "      <td>1.684845</td>\n",
       "      <td>False</td>\n",
       "      <td>58040.5</td>\n",
       "      <td>-144.52416</td>\n",
       "    </tr>\n",
       "  </tbody>\n",
       "</table>\n",
       "</div>"
      ],
      "text/plain": [
       "             Year  DeathRate  death_log  outlier  CumDeathRate  MeanCentered\n",
       "AgeGroup                                                                    \n",
       "1-4 Years    1959   0.001091   2.037825    False       42409.4     -83.82416\n",
       "10-14 Years  1959   0.000446   1.649335    False       69110.8    -148.32416\n",
       "15-19 Years  1959   0.001069   2.028978    False       87096.4     -86.02416\n",
       "5-9 Years    1959   0.000484   1.684845    False       58040.5    -144.52416"
      ]
     },
     "execution_count": 81,
     "metadata": {},
     "output_type": "execute_result"
    }
   ],
   "source": [
    "mortality_data.groupby('AgeGroup').median()"
   ]
  },
  {
   "cell_type": "code",
   "execution_count": 82,
   "metadata": {},
   "outputs": [
    {
     "data": {
      "text/html": [
       "<div>\n",
       "<style scoped>\n",
       "    .dataframe tbody tr th:only-of-type {\n",
       "        vertical-align: middle;\n",
       "    }\n",
       "\n",
       "    .dataframe tbody tr th {\n",
       "        vertical-align: top;\n",
       "    }\n",
       "\n",
       "    .dataframe thead th {\n",
       "        text-align: right;\n",
       "    }\n",
       "</style>\n",
       "<table border=\"1\" class=\"dataframe\">\n",
       "  <thead>\n",
       "    <tr style=\"text-align: right;\">\n",
       "      <th></th>\n",
       "      <th>DeathRate</th>\n",
       "      <th>death_log</th>\n",
       "      <th>outlier</th>\n",
       "      <th>CumDeathRate</th>\n",
       "      <th>MeanCentered</th>\n",
       "    </tr>\n",
       "    <tr>\n",
       "      <th>Year</th>\n",
       "      <th></th>\n",
       "      <th></th>\n",
       "      <th></th>\n",
       "      <th></th>\n",
       "      <th></th>\n",
       "    </tr>\n",
       "  </thead>\n",
       "  <tbody>\n",
       "    <tr>\n",
       "      <th>1900</th>\n",
       "      <td>0.004755</td>\n",
       "      <td>2.677021</td>\n",
       "      <td>False</td>\n",
       "      <td>52967.00</td>\n",
       "      <td>282.52584</td>\n",
       "    </tr>\n",
       "    <tr>\n",
       "      <th>1901</th>\n",
       "      <td>0.004410</td>\n",
       "      <td>2.644238</td>\n",
       "      <td>False</td>\n",
       "      <td>53317.60</td>\n",
       "      <td>248.07584</td>\n",
       "    </tr>\n",
       "    <tr>\n",
       "      <th>1902</th>\n",
       "      <td>0.004124</td>\n",
       "      <td>2.615213</td>\n",
       "      <td>False</td>\n",
       "      <td>53645.50</td>\n",
       "      <td>219.47584</td>\n",
       "    </tr>\n",
       "    <tr>\n",
       "      <th>1903</th>\n",
       "      <td>0.004244</td>\n",
       "      <td>2.627662</td>\n",
       "      <td>False</td>\n",
       "      <td>53986.95</td>\n",
       "      <td>231.47584</td>\n",
       "    </tr>\n",
       "  </tbody>\n",
       "</table>\n",
       "</div>"
      ],
      "text/plain": [
       "      DeathRate  death_log  outlier  CumDeathRate  MeanCentered\n",
       "Year                                                           \n",
       "1900   0.004755   2.677021    False      52967.00     282.52584\n",
       "1901   0.004410   2.644238    False      53317.60     248.07584\n",
       "1902   0.004124   2.615213    False      53645.50     219.47584\n",
       "1903   0.004244   2.627662    False      53986.95     231.47584"
      ]
     },
     "execution_count": 82,
     "metadata": {},
     "output_type": "execute_result"
    }
   ],
   "source": [
    "mortality_data.groupby('Year').median().head(4)"
   ]
  },
  {
   "cell_type": "code",
   "execution_count": 83,
   "metadata": {},
   "outputs": [
    {
     "data": {
      "text/html": [
       "<div>\n",
       "<style scoped>\n",
       "    .dataframe tbody tr th:only-of-type {\n",
       "        vertical-align: middle;\n",
       "    }\n",
       "\n",
       "    .dataframe tbody tr th {\n",
       "        vertical-align: top;\n",
       "    }\n",
       "\n",
       "    .dataframe thead th {\n",
       "        text-align: right;\n",
       "    }\n",
       "</style>\n",
       "<table border=\"1\" class=\"dataframe\">\n",
       "  <thead>\n",
       "    <tr style=\"text-align: right;\">\n",
       "      <th></th>\n",
       "      <th></th>\n",
       "      <th>DeathRate</th>\n",
       "      <th>death_log</th>\n",
       "      <th>outlier</th>\n",
       "      <th>CumDeathRate</th>\n",
       "      <th>MeanCentered</th>\n",
       "    </tr>\n",
       "    <tr>\n",
       "      <th>Year</th>\n",
       "      <th>AgeGroup</th>\n",
       "      <th></th>\n",
       "      <th></th>\n",
       "      <th></th>\n",
       "      <th></th>\n",
       "      <th></th>\n",
       "    </tr>\n",
       "  </thead>\n",
       "  <tbody>\n",
       "    <tr>\n",
       "      <th rowspan=\"4\" valign=\"top\">1900</th>\n",
       "      <th>1-4 Years</th>\n",
       "      <td>1</td>\n",
       "      <td>1</td>\n",
       "      <td>1</td>\n",
       "      <td>1</td>\n",
       "      <td>1</td>\n",
       "    </tr>\n",
       "    <tr>\n",
       "      <th>10-14 Years</th>\n",
       "      <td>1</td>\n",
       "      <td>1</td>\n",
       "      <td>1</td>\n",
       "      <td>1</td>\n",
       "      <td>1</td>\n",
       "    </tr>\n",
       "    <tr>\n",
       "      <th>15-19 Years</th>\n",
       "      <td>1</td>\n",
       "      <td>1</td>\n",
       "      <td>1</td>\n",
       "      <td>1</td>\n",
       "      <td>1</td>\n",
       "    </tr>\n",
       "    <tr>\n",
       "      <th>5-9 Years</th>\n",
       "      <td>1</td>\n",
       "      <td>1</td>\n",
       "      <td>1</td>\n",
       "      <td>1</td>\n",
       "      <td>1</td>\n",
       "    </tr>\n",
       "    <tr>\n",
       "      <th>1901</th>\n",
       "      <th>1-4 Years</th>\n",
       "      <td>1</td>\n",
       "      <td>1</td>\n",
       "      <td>1</td>\n",
       "      <td>1</td>\n",
       "      <td>1</td>\n",
       "    </tr>\n",
       "  </tbody>\n",
       "</table>\n",
       "</div>"
      ],
      "text/plain": [
       "                  DeathRate  death_log  outlier  CumDeathRate  MeanCentered\n",
       "Year AgeGroup                                                              \n",
       "1900 1-4 Years            1          1        1             1             1\n",
       "     10-14 Years          1          1        1             1             1\n",
       "     15-19 Years          1          1        1             1             1\n",
       "     5-9 Years            1          1        1             1             1\n",
       "1901 1-4 Years            1          1        1             1             1"
      ]
     },
     "execution_count": 83,
     "metadata": {},
     "output_type": "execute_result"
    }
   ],
   "source": [
    "mortality_data.groupby(['Year','AgeGroup']).count().head()"
   ]
  },
  {
   "cell_type": "markdown",
   "metadata": {},
   "source": [
    "### Aggregate the data"
   ]
  },
  {
   "cell_type": "code",
   "execution_count": 84,
   "metadata": {},
   "outputs": [
    {
     "data": {
      "text/html": [
       "<div>\n",
       "<style scoped>\n",
       "    .dataframe tbody tr th:only-of-type {\n",
       "        vertical-align: middle;\n",
       "    }\n",
       "\n",
       "    .dataframe tbody tr th {\n",
       "        vertical-align: top;\n",
       "    }\n",
       "\n",
       "    .dataframe thead tr th {\n",
       "        text-align: left;\n",
       "    }\n",
       "\n",
       "    .dataframe thead tr:last-of-type th {\n",
       "        text-align: right;\n",
       "    }\n",
       "</style>\n",
       "<table border=\"1\" class=\"dataframe\">\n",
       "  <thead>\n",
       "    <tr>\n",
       "      <th></th>\n",
       "      <th colspan=\"5\" halign=\"left\">DeathRate</th>\n",
       "    </tr>\n",
       "    <tr>\n",
       "      <th></th>\n",
       "      <th>mean</th>\n",
       "      <th>median</th>\n",
       "      <th>min</th>\n",
       "      <th>max</th>\n",
       "      <th>std</th>\n",
       "    </tr>\n",
       "    <tr>\n",
       "      <th>AgeGroup</th>\n",
       "      <th></th>\n",
       "      <th></th>\n",
       "      <th></th>\n",
       "      <th></th>\n",
       "      <th></th>\n",
       "    </tr>\n",
       "  </thead>\n",
       "  <tbody>\n",
       "    <tr>\n",
       "      <th>1-4 Years</th>\n",
       "      <td>0.003832</td>\n",
       "      <td>0.001091</td>\n",
       "      <td>0.000240</td>\n",
       "      <td>0.019838</td>\n",
       "      <td>0.005005</td>\n",
       "    </tr>\n",
       "    <tr>\n",
       "      <th>10-14 Years</th>\n",
       "      <td>0.000938</td>\n",
       "      <td>0.000446</td>\n",
       "      <td>0.000139</td>\n",
       "      <td>0.003751</td>\n",
       "      <td>0.000884</td>\n",
       "    </tr>\n",
       "    <tr>\n",
       "      <th>15-19 Years</th>\n",
       "      <td>0.001774</td>\n",
       "      <td>0.001069</td>\n",
       "      <td>0.000448</td>\n",
       "      <td>0.007774</td>\n",
       "      <td>0.001384</td>\n",
       "    </tr>\n",
       "    <tr>\n",
       "      <th>5-9 Years</th>\n",
       "      <td>0.001173</td>\n",
       "      <td>0.000484</td>\n",
       "      <td>0.000114</td>\n",
       "      <td>0.004661</td>\n",
       "      <td>0.001275</td>\n",
       "    </tr>\n",
       "  </tbody>\n",
       "</table>\n",
       "</div>"
      ],
      "text/plain": [
       "            DeathRate                                        \n",
       "                 mean    median       min       max       std\n",
       "AgeGroup                                                     \n",
       "1-4 Years    0.003832  0.001091  0.000240  0.019838  0.005005\n",
       "10-14 Years  0.000938  0.000446  0.000139  0.003751  0.000884\n",
       "15-19 Years  0.001774  0.001069  0.000448  0.007774  0.001384\n",
       "5-9 Years    0.001173  0.000484  0.000114  0.004661  0.001275"
      ]
     },
     "execution_count": 84,
     "metadata": {},
     "output_type": "execute_result"
    }
   ],
   "source": [
    "mortality_data[['AgeGroup','DeathRate']].groupby('AgeGroup').agg(['mean','median','min','max','std'])"
   ]
  },
  {
   "cell_type": "code",
   "execution_count": 86,
   "metadata": {},
   "outputs": [
    {
     "ename": "SyntaxError",
     "evalue": "invalid syntax (<ipython-input-86-7348e6205b1b>, line 1)",
     "output_type": "error",
     "traceback": [
      "\u001b[1;36m  File \u001b[1;32m\"<ipython-input-86-7348e6205b1b>\"\u001b[1;36m, line \u001b[1;32m1\u001b[0m\n\u001b[1;33m    mortality_data[['AgeGroup','DeathRate']].groupby('AgeGroup')?\u001b[0m\n\u001b[1;37m                                                                ^\u001b[0m\n\u001b[1;31mSyntaxError\u001b[0m\u001b[1;31m:\u001b[0m invalid syntax\n"
     ]
    }
   ],
   "source": [
    "mortality_data[['AgeGroup','DeathRate']].groupby('AgeGroup')?"
   ]
  },
  {
   "cell_type": "code",
   "execution_count": 89,
   "metadata": {},
   "outputs": [
    {
     "data": {
      "text/plain": [
       "pandas.core.groupby.generic.DataFrameGroupBy"
      ]
     },
     "execution_count": 89,
     "metadata": {},
     "output_type": "execute_result"
    }
   ],
   "source": [
    "AgeGS = mortality_data.groupby(\"AgeGroup\")\n",
    "type(AgeGS)"
   ]
  },
  {
   "cell_type": "code",
   "execution_count": 91,
   "metadata": {},
   "outputs": [
    {
     "data": {
      "text/html": [
       "<div>\n",
       "<style scoped>\n",
       "    .dataframe tbody tr th:only-of-type {\n",
       "        vertical-align: middle;\n",
       "    }\n",
       "\n",
       "    .dataframe tbody tr th {\n",
       "        vertical-align: top;\n",
       "    }\n",
       "\n",
       "    .dataframe thead th {\n",
       "        text-align: right;\n",
       "    }\n",
       "</style>\n",
       "<table border=\"1\" class=\"dataframe\">\n",
       "  <thead>\n",
       "    <tr style=\"text-align: right;\">\n",
       "      <th></th>\n",
       "      <th>mean</th>\n",
       "      <th>median</th>\n",
       "      <th>std</th>\n",
       "      <th>nunique</th>\n",
       "    </tr>\n",
       "    <tr>\n",
       "      <th>AgeGroup</th>\n",
       "      <th></th>\n",
       "      <th></th>\n",
       "      <th></th>\n",
       "      <th></th>\n",
       "    </tr>\n",
       "  </thead>\n",
       "  <tbody>\n",
       "    <tr>\n",
       "      <th>1-4 Years</th>\n",
       "      <td>0.193277</td>\n",
       "      <td>False</td>\n",
       "      <td>0.396538</td>\n",
       "      <td>2</td>\n",
       "    </tr>\n",
       "    <tr>\n",
       "      <th>10-14 Years</th>\n",
       "      <td>0.000000</td>\n",
       "      <td>False</td>\n",
       "      <td>0.000000</td>\n",
       "      <td>1</td>\n",
       "    </tr>\n",
       "    <tr>\n",
       "      <th>15-19 Years</th>\n",
       "      <td>0.000000</td>\n",
       "      <td>False</td>\n",
       "      <td>0.000000</td>\n",
       "      <td>1</td>\n",
       "    </tr>\n",
       "    <tr>\n",
       "      <th>5-9 Years</th>\n",
       "      <td>0.000000</td>\n",
       "      <td>False</td>\n",
       "      <td>0.000000</td>\n",
       "      <td>1</td>\n",
       "    </tr>\n",
       "  </tbody>\n",
       "</table>\n",
       "</div>"
      ],
      "text/plain": [
       "                 mean  median       std  nunique\n",
       "AgeGroup                                        \n",
       "1-4 Years    0.193277   False  0.396538        2\n",
       "10-14 Years  0.000000   False  0.000000        1\n",
       "15-19 Years  0.000000   False  0.000000        1\n",
       "5-9 Years    0.000000   False  0.000000        1"
      ]
     },
     "execution_count": 91,
     "metadata": {},
     "output_type": "execute_result"
    }
   ],
   "source": [
    "AgeGS[\"outlier\"].agg(['mean','median','std','nunique'])"
   ]
  },
  {
   "cell_type": "code",
   "execution_count": 92,
   "metadata": {},
   "outputs": [
    {
     "data": {
      "text/html": [
       "<div>\n",
       "<style scoped>\n",
       "    .dataframe tbody tr th:only-of-type {\n",
       "        vertical-align: middle;\n",
       "    }\n",
       "\n",
       "    .dataframe tbody tr th {\n",
       "        vertical-align: top;\n",
       "    }\n",
       "\n",
       "    .dataframe thead th {\n",
       "        text-align: right;\n",
       "    }\n",
       "</style>\n",
       "<table border=\"1\" class=\"dataframe\">\n",
       "  <thead>\n",
       "    <tr style=\"text-align: right;\">\n",
       "      <th></th>\n",
       "      <th>mean</th>\n",
       "      <th>median</th>\n",
       "      <th>std</th>\n",
       "      <th>nunique</th>\n",
       "    </tr>\n",
       "    <tr>\n",
       "      <th>AgeGroup</th>\n",
       "      <th></th>\n",
       "      <th></th>\n",
       "      <th></th>\n",
       "      <th></th>\n",
       "    </tr>\n",
       "  </thead>\n",
       "  <tbody>\n",
       "    <tr>\n",
       "      <th>1-4 Years</th>\n",
       "      <td>0.003832</td>\n",
       "      <td>0.001091</td>\n",
       "      <td>0.005005</td>\n",
       "      <td>117</td>\n",
       "    </tr>\n",
       "    <tr>\n",
       "      <th>10-14 Years</th>\n",
       "      <td>0.000938</td>\n",
       "      <td>0.000446</td>\n",
       "      <td>0.000884</td>\n",
       "      <td>115</td>\n",
       "    </tr>\n",
       "    <tr>\n",
       "      <th>15-19 Years</th>\n",
       "      <td>0.001774</td>\n",
       "      <td>0.001069</td>\n",
       "      <td>0.001384</td>\n",
       "      <td>117</td>\n",
       "    </tr>\n",
       "    <tr>\n",
       "      <th>5-9 Years</th>\n",
       "      <td>0.001173</td>\n",
       "      <td>0.000484</td>\n",
       "      <td>0.001275</td>\n",
       "      <td>115</td>\n",
       "    </tr>\n",
       "  </tbody>\n",
       "</table>\n",
       "</div>"
      ],
      "text/plain": [
       "                 mean    median       std  nunique\n",
       "AgeGroup                                          \n",
       "1-4 Years    0.003832  0.001091  0.005005      117\n",
       "10-14 Years  0.000938  0.000446  0.000884      115\n",
       "15-19 Years  0.001774  0.001069  0.001384      117\n",
       "5-9 Years    0.001173  0.000484  0.001275      115"
      ]
     },
     "execution_count": 92,
     "metadata": {},
     "output_type": "execute_result"
    }
   ],
   "source": [
    "mortality_data.groupby('AgeGroup')['DeathRate'] \\\n",
    "    .agg(['mean','median','std','nunique'])"
   ]
  },
  {
   "cell_type": "code",
   "execution_count": 93,
   "metadata": {},
   "outputs": [
    {
     "data": {
      "text/html": [
       "<div>\n",
       "<style scoped>\n",
       "    .dataframe tbody tr th:only-of-type {\n",
       "        vertical-align: middle;\n",
       "    }\n",
       "\n",
       "    .dataframe tbody tr th {\n",
       "        vertical-align: top;\n",
       "    }\n",
       "\n",
       "    .dataframe thead th {\n",
       "        text-align: right;\n",
       "    }\n",
       "</style>\n",
       "<table border=\"1\" class=\"dataframe\">\n",
       "  <thead>\n",
       "    <tr style=\"text-align: right;\">\n",
       "      <th></th>\n",
       "      <th>mean</th>\n",
       "      <th>median</th>\n",
       "      <th>std</th>\n",
       "      <th>min</th>\n",
       "      <th>max</th>\n",
       "      <th>var</th>\n",
       "      <th>nunique</th>\n",
       "    </tr>\n",
       "    <tr>\n",
       "      <th>Year</th>\n",
       "      <th></th>\n",
       "      <th></th>\n",
       "      <th></th>\n",
       "      <th></th>\n",
       "      <th></th>\n",
       "      <th></th>\n",
       "      <th></th>\n",
       "    </tr>\n",
       "  </thead>\n",
       "  <tbody>\n",
       "    <tr>\n",
       "      <th>1900</th>\n",
       "      <td>0.008082</td>\n",
       "      <td>0.004755</td>\n",
       "      <td>0.007882</td>\n",
       "      <td>0.002983</td>\n",
       "      <td>0.019838</td>\n",
       "      <td>0.000062</td>\n",
       "      <td>4</td>\n",
       "    </tr>\n",
       "    <tr>\n",
       "      <th>1901</th>\n",
       "      <td>0.007127</td>\n",
       "      <td>0.004410</td>\n",
       "      <td>0.006597</td>\n",
       "      <td>0.002736</td>\n",
       "      <td>0.016950</td>\n",
       "      <td>0.000044</td>\n",
       "      <td>4</td>\n",
       "    </tr>\n",
       "    <tr>\n",
       "      <th>1902</th>\n",
       "      <td>0.006832</td>\n",
       "      <td>0.004124</td>\n",
       "      <td>0.006527</td>\n",
       "      <td>0.002525</td>\n",
       "      <td>0.016557</td>\n",
       "      <td>0.000043</td>\n",
       "      <td>4</td>\n",
       "    </tr>\n",
       "  </tbody>\n",
       "</table>\n",
       "</div>"
      ],
      "text/plain": [
       "          mean    median       std       min       max       var  nunique\n",
       "Year                                                                     \n",
       "1900  0.008082  0.004755  0.007882  0.002983  0.019838  0.000062        4\n",
       "1901  0.007127  0.004410  0.006597  0.002736  0.016950  0.000044        4\n",
       "1902  0.006832  0.004124  0.006527  0.002525  0.016557  0.000043        4"
      ]
     },
     "execution_count": 93,
     "metadata": {},
     "output_type": "execute_result"
    }
   ],
   "source": [
    "mortality_data.groupby('Year')['DeathRate'] \\\n",
    "    .agg(['mean','median','std','min','max','var','nunique']).head(3)"
   ]
  },
  {
   "cell_type": "code",
   "execution_count": 94,
   "metadata": {},
   "outputs": [
    {
     "data": {
      "text/plain": [
       "0.0022257500000000003"
      ]
     },
     "execution_count": 94,
     "metadata": {},
     "output_type": "execute_result"
    }
   ],
   "source": [
    "def fun_1q(foo): return foo.quantile(0.75)\n",
    "\n",
    "fun_1q(mortality_data.DeathRate)"
   ]
  },
  {
   "cell_type": "code",
   "execution_count": 95,
   "metadata": {},
   "outputs": [
    {
     "data": {
      "text/plain": [
       "1-4 Years    0.005773\n",
       "Name: 0.75, dtype: float64"
      ]
     },
     "execution_count": 95,
     "metadata": {},
     "output_type": "execute_result"
    }
   ],
   "source": [
    "fun_1q(mortality_wide[['1-4 Years']])"
   ]
  },
  {
   "cell_type": "markdown",
   "metadata": {},
   "source": [
    "## Visualize the data"
   ]
  },
  {
   "cell_type": "code",
   "execution_count": 96,
   "metadata": {},
   "outputs": [
    {
     "data": {
      "text/html": [
       "<div>\n",
       "<style scoped>\n",
       "    .dataframe tbody tr th:only-of-type {\n",
       "        vertical-align: middle;\n",
       "    }\n",
       "\n",
       "    .dataframe tbody tr th {\n",
       "        vertical-align: top;\n",
       "    }\n",
       "\n",
       "    .dataframe thead th {\n",
       "        text-align: right;\n",
       "    }\n",
       "</style>\n",
       "<table border=\"1\" class=\"dataframe\">\n",
       "  <thead>\n",
       "    <tr style=\"text-align: right;\">\n",
       "      <th>AgeGroup</th>\n",
       "      <th>1-4 Years</th>\n",
       "      <th>10-14 Years</th>\n",
       "      <th>15-19 Years</th>\n",
       "      <th>5-9 Years</th>\n",
       "    </tr>\n",
       "    <tr>\n",
       "      <th>Year</th>\n",
       "      <th></th>\n",
       "      <th></th>\n",
       "      <th></th>\n",
       "      <th></th>\n",
       "    </tr>\n",
       "  </thead>\n",
       "  <tbody>\n",
       "    <tr>\n",
       "      <th>1900</th>\n",
       "      <td>0.019838</td>\n",
       "      <td>0.002983</td>\n",
       "      <td>0.004848</td>\n",
       "      <td>0.004661</td>\n",
       "    </tr>\n",
       "    <tr>\n",
       "      <th>1901</th>\n",
       "      <td>0.016950</td>\n",
       "      <td>0.002736</td>\n",
       "      <td>0.004544</td>\n",
       "      <td>0.004276</td>\n",
       "    </tr>\n",
       "    <tr>\n",
       "      <th>1902</th>\n",
       "      <td>0.016557</td>\n",
       "      <td>0.002525</td>\n",
       "      <td>0.004215</td>\n",
       "      <td>0.004033</td>\n",
       "    </tr>\n",
       "    <tr>\n",
       "      <th>1903</th>\n",
       "      <td>0.015421</td>\n",
       "      <td>0.002682</td>\n",
       "      <td>0.004341</td>\n",
       "      <td>0.004147</td>\n",
       "    </tr>\n",
       "    <tr>\n",
       "      <th>1904</th>\n",
       "      <td>0.015915</td>\n",
       "      <td>0.003052</td>\n",
       "      <td>0.004714</td>\n",
       "      <td>0.004250</td>\n",
       "    </tr>\n",
       "    <tr>\n",
       "      <th>...</th>\n",
       "      <td>...</td>\n",
       "      <td>...</td>\n",
       "      <td>...</td>\n",
       "      <td>...</td>\n",
       "    </tr>\n",
       "    <tr>\n",
       "      <th>2014</th>\n",
       "      <td>0.000240</td>\n",
       "      <td>0.000140</td>\n",
       "      <td>0.000455</td>\n",
       "      <td>0.000115</td>\n",
       "    </tr>\n",
       "    <tr>\n",
       "      <th>2015</th>\n",
       "      <td>0.000249</td>\n",
       "      <td>0.000146</td>\n",
       "      <td>0.000483</td>\n",
       "      <td>0.000117</td>\n",
       "    </tr>\n",
       "    <tr>\n",
       "      <th>2016</th>\n",
       "      <td>0.000253</td>\n",
       "      <td>0.000146</td>\n",
       "      <td>0.000512</td>\n",
       "      <td>0.000122</td>\n",
       "    </tr>\n",
       "    <tr>\n",
       "      <th>2017</th>\n",
       "      <td>0.000243</td>\n",
       "      <td>0.000155</td>\n",
       "      <td>0.000515</td>\n",
       "      <td>0.000116</td>\n",
       "    </tr>\n",
       "    <tr>\n",
       "      <th>2018</th>\n",
       "      <td>0.000240</td>\n",
       "      <td>0.000149</td>\n",
       "      <td>0.000492</td>\n",
       "      <td>0.000115</td>\n",
       "    </tr>\n",
       "  </tbody>\n",
       "</table>\n",
       "<p>119 rows × 4 columns</p>\n",
       "</div>"
      ],
      "text/plain": [
       "AgeGroup  1-4 Years  10-14 Years  15-19 Years  5-9 Years\n",
       "Year                                                    \n",
       "1900       0.019838     0.002983     0.004848   0.004661\n",
       "1901       0.016950     0.002736     0.004544   0.004276\n",
       "1902       0.016557     0.002525     0.004215   0.004033\n",
       "1903       0.015421     0.002682     0.004341   0.004147\n",
       "1904       0.015915     0.003052     0.004714   0.004250\n",
       "...             ...          ...          ...        ...\n",
       "2014       0.000240     0.000140     0.000455   0.000115\n",
       "2015       0.000249     0.000146     0.000483   0.000117\n",
       "2016       0.000253     0.000146     0.000512   0.000122\n",
       "2017       0.000243     0.000155     0.000515   0.000116\n",
       "2018       0.000240     0.000149     0.000492   0.000115\n",
       "\n",
       "[119 rows x 4 columns]"
      ]
     },
     "execution_count": 96,
     "metadata": {},
     "output_type": "execute_result"
    }
   ],
   "source": [
    "mortality_data.pivot(index='Year',columns='AgeGroup')['DeathRate']"
   ]
  },
  {
   "cell_type": "code",
   "execution_count": 97,
   "metadata": {},
   "outputs": [
    {
     "data": {
      "text/plain": [
       "<AxesSubplot:>"
      ]
     },
     "execution_count": 97,
     "metadata": {},
     "output_type": "execute_result"
    },
    {
     "data": {
      "image/png": "[encoded data removed]",
      "text/plain": [
       "<Figure size 432x288 with 1 Axes>"
      ]
     },
     "metadata": {
      "needs_background": "light"
     },
     "output_type": "display_data"
    }
   ],
   "source": [
    "mortality_data['DeathRate'].plot()"
   ]
  },
  {
   "cell_type": "code",
   "execution_count": 99,
   "metadata": {},
   "outputs": [
    {
     "data": {
      "text/html": [
       "<div>\n",
       "<style scoped>\n",
       "    .dataframe tbody tr th:only-of-type {\n",
       "        vertical-align: middle;\n",
       "    }\n",
       "\n",
       "    .dataframe tbody tr th {\n",
       "        vertical-align: top;\n",
       "    }\n",
       "\n",
       "    .dataframe thead th {\n",
       "        text-align: right;\n",
       "    }\n",
       "</style>\n",
       "<table border=\"1\" class=\"dataframe\">\n",
       "  <thead>\n",
       "    <tr style=\"text-align: right;\">\n",
       "      <th>AgeGroup</th>\n",
       "      <th>1-4 Years</th>\n",
       "      <th>10-14 Years</th>\n",
       "      <th>15-19 Years</th>\n",
       "      <th>5-9 Years</th>\n",
       "    </tr>\n",
       "    <tr>\n",
       "      <th>Year</th>\n",
       "      <th></th>\n",
       "      <th></th>\n",
       "      <th></th>\n",
       "      <th></th>\n",
       "    </tr>\n",
       "  </thead>\n",
       "  <tbody>\n",
       "    <tr>\n",
       "      <th>1900</th>\n",
       "      <td>0.019838</td>\n",
       "      <td>0.002983</td>\n",
       "      <td>0.004848</td>\n",
       "      <td>0.004661</td>\n",
       "    </tr>\n",
       "    <tr>\n",
       "      <th>1901</th>\n",
       "      <td>0.016950</td>\n",
       "      <td>0.002736</td>\n",
       "      <td>0.004544</td>\n",
       "      <td>0.004276</td>\n",
       "    </tr>\n",
       "    <tr>\n",
       "      <th>1902</th>\n",
       "      <td>0.016557</td>\n",
       "      <td>0.002525</td>\n",
       "      <td>0.004215</td>\n",
       "      <td>0.004033</td>\n",
       "    </tr>\n",
       "    <tr>\n",
       "      <th>1903</th>\n",
       "      <td>0.015421</td>\n",
       "      <td>0.002682</td>\n",
       "      <td>0.004341</td>\n",
       "      <td>0.004147</td>\n",
       "    </tr>\n",
       "    <tr>\n",
       "      <th>1904</th>\n",
       "      <td>0.015915</td>\n",
       "      <td>0.003052</td>\n",
       "      <td>0.004714</td>\n",
       "      <td>0.004250</td>\n",
       "    </tr>\n",
       "    <tr>\n",
       "      <th>...</th>\n",
       "      <td>...</td>\n",
       "      <td>...</td>\n",
       "      <td>...</td>\n",
       "      <td>...</td>\n",
       "    </tr>\n",
       "    <tr>\n",
       "      <th>2014</th>\n",
       "      <td>0.000240</td>\n",
       "      <td>0.000140</td>\n",
       "      <td>0.000455</td>\n",
       "      <td>0.000115</td>\n",
       "    </tr>\n",
       "    <tr>\n",
       "      <th>2015</th>\n",
       "      <td>0.000249</td>\n",
       "      <td>0.000146</td>\n",
       "      <td>0.000483</td>\n",
       "      <td>0.000117</td>\n",
       "    </tr>\n",
       "    <tr>\n",
       "      <th>2016</th>\n",
       "      <td>0.000253</td>\n",
       "      <td>0.000146</td>\n",
       "      <td>0.000512</td>\n",
       "      <td>0.000122</td>\n",
       "    </tr>\n",
       "    <tr>\n",
       "      <th>2017</th>\n",
       "      <td>0.000243</td>\n",
       "      <td>0.000155</td>\n",
       "      <td>0.000515</td>\n",
       "      <td>0.000116</td>\n",
       "    </tr>\n",
       "    <tr>\n",
       "      <th>2018</th>\n",
       "      <td>0.000240</td>\n",
       "      <td>0.000149</td>\n",
       "      <td>0.000492</td>\n",
       "      <td>0.000115</td>\n",
       "    </tr>\n",
       "  </tbody>\n",
       "</table>\n",
       "<p>119 rows × 4 columns</p>\n",
       "</div>"
      ],
      "text/plain": [
       "AgeGroup  1-4 Years  10-14 Years  15-19 Years  5-9 Years\n",
       "Year                                                    \n",
       "1900       0.019838     0.002983     0.004848   0.004661\n",
       "1901       0.016950     0.002736     0.004544   0.004276\n",
       "1902       0.016557     0.002525     0.004215   0.004033\n",
       "1903       0.015421     0.002682     0.004341   0.004147\n",
       "1904       0.015915     0.003052     0.004714   0.004250\n",
       "...             ...          ...          ...        ...\n",
       "2014       0.000240     0.000140     0.000455   0.000115\n",
       "2015       0.000249     0.000146     0.000483   0.000117\n",
       "2016       0.000253     0.000146     0.000512   0.000122\n",
       "2017       0.000243     0.000155     0.000515   0.000116\n",
       "2018       0.000240     0.000149     0.000492   0.000115\n",
       "\n",
       "[119 rows x 4 columns]"
      ]
     },
     "execution_count": 99,
     "metadata": {},
     "output_type": "execute_result"
    }
   ],
   "source": [
    "mortality_data.pivot(index='Year',columns='AgeGroup')['DeathRate']"
   ]
  },
  {
   "cell_type": "code",
   "execution_count": 98,
   "metadata": {},
   "outputs": [
    {
     "data": {
      "text/plain": [
       "<AxesSubplot:xlabel='Year'>"
      ]
     },
     "execution_count": 98,
     "metadata": {},
     "output_type": "execute_result"
    },
    {
     "data": {
      "image/png": "[encoded data removed]",
      "text/plain": [
       "<Figure size 432x288 with 1 Axes>"
      ]
     },
     "metadata": {
      "needs_background": "light"
     },
     "output_type": "display_data"
    }
   ],
   "source": [
    "mortality_data.pivot(index='Year',columns='AgeGroup')['DeathRate'].plot()"
   ]
  },
  {
   "cell_type": "code",
   "execution_count": 100,
   "metadata": {},
   "outputs": [
    {
     "data": {
      "text/html": [
       "<div>\n",
       "<style scoped>\n",
       "    .dataframe tbody tr th:only-of-type {\n",
       "        vertical-align: middle;\n",
       "    }\n",
       "\n",
       "    .dataframe tbody tr th {\n",
       "        vertical-align: top;\n",
       "    }\n",
       "\n",
       "    .dataframe thead th {\n",
       "        text-align: right;\n",
       "    }\n",
       "</style>\n",
       "<table border=\"1\" class=\"dataframe\">\n",
       "  <thead>\n",
       "    <tr style=\"text-align: right;\">\n",
       "      <th></th>\n",
       "      <th>mean</th>\n",
       "      <th>median</th>\n",
       "      <th>std</th>\n",
       "    </tr>\n",
       "    <tr>\n",
       "      <th>AgeGroup</th>\n",
       "      <th></th>\n",
       "      <th></th>\n",
       "      <th></th>\n",
       "    </tr>\n",
       "  </thead>\n",
       "  <tbody>\n",
       "    <tr>\n",
       "      <th>1-4 Years</th>\n",
       "      <td>0.003832</td>\n",
       "      <td>0.001091</td>\n",
       "      <td>0.005005</td>\n",
       "    </tr>\n",
       "    <tr>\n",
       "      <th>10-14 Years</th>\n",
       "      <td>0.000938</td>\n",
       "      <td>0.000446</td>\n",
       "      <td>0.000884</td>\n",
       "    </tr>\n",
       "    <tr>\n",
       "      <th>15-19 Years</th>\n",
       "      <td>0.001774</td>\n",
       "      <td>0.001069</td>\n",
       "      <td>0.001384</td>\n",
       "    </tr>\n",
       "    <tr>\n",
       "      <th>5-9 Years</th>\n",
       "      <td>0.001173</td>\n",
       "      <td>0.000484</td>\n",
       "      <td>0.001275</td>\n",
       "    </tr>\n",
       "  </tbody>\n",
       "</table>\n",
       "</div>"
      ],
      "text/plain": [
       "                 mean    median       std\n",
       "AgeGroup                                 \n",
       "1-4 Years    0.003832  0.001091  0.005005\n",
       "10-14 Years  0.000938  0.000446  0.000884\n",
       "15-19 Years  0.001774  0.001069  0.001384\n",
       "5-9 Years    0.001173  0.000484  0.001275"
      ]
     },
     "execution_count": 100,
     "metadata": {},
     "output_type": "execute_result"
    }
   ],
   "source": [
    "mortality_data.groupby('AgeGroup')['DeathRate'] \\\n",
    "    .agg(['mean','median','std'])\n"
   ]
  },
  {
   "cell_type": "code",
   "execution_count": null,
   "metadata": {},
   "outputs": [],
   "source": [
    "mortality_data.plot."
   ]
  },
  {
   "cell_type": "code",
   "execution_count": 101,
   "metadata": {},
   "outputs": [
    {
     "data": {
      "text/plain": [
       "<AxesSubplot:ylabel='AgeGroup'>"
      ]
     },
     "execution_count": 101,
     "metadata": {},
     "output_type": "execute_result"
    },
    {
     "data": {
      "image/png": "[encoded data removed]",
      "text/plain": [
       "<Figure size 432x288 with 1 Axes>"
      ]
     },
     "metadata": {
      "needs_background": "light"
     },
     "output_type": "display_data"
    }
   ],
   "source": [
    "mortality_data.groupby('AgeGroup')['DeathRate'] \\\n",
    "    .agg(['mean','median','std']).plot.barh()"
   ]
  },
  {
   "cell_type": "code",
   "execution_count": 103,
   "metadata": {},
   "outputs": [],
   "source": [
    "import seaborn as sns"
   ]
  },
  {
   "cell_type": "code",
   "execution_count": 104,
   "metadata": {},
   "outputs": [
    {
     "data": {
      "text/plain": [
       "<AxesSubplot:xlabel='AgeGroup', ylabel='DeathRate'>"
      ]
     },
     "execution_count": 104,
     "metadata": {},
     "output_type": "execute_result"
    },
    {
     "data": {
      "image/png": "[encoded data removed]",
      "text/plain": [
       "<Figure size 432x288 with 1 Axes>"
      ]
     },
     "metadata": {
      "needs_background": "light"
     },
     "output_type": "display_data"
    }
   ],
   "source": [
    "sns.boxplot(data=mortality_data, \n",
    "             y='DeathRate', x='AgeGroup')"
   ]
  },
  {
   "cell_type": "code",
   "execution_count": 105,
   "metadata": {},
   "outputs": [
    {
     "data": {
      "text/plain": [
       "<seaborn.axisgrid.FacetGrid at 0x1bca8056b20>"
      ]
     },
     "execution_count": 105,
     "metadata": {},
     "output_type": "execute_result"
    },
    {
     "data": {
      "image/png": "[encoded data removed]",
      "text/plain": [
       "<Figure size 720x576 with 4 Axes>"
      ]
     },
     "metadata": {
      "needs_background": "light"
     },
     "output_type": "display_data"
    }
   ],
   "source": [
    "sns.relplot(data=mortality_data, \n",
    "            kind='line', x='Year', y='DeathRate', hue='AgeGroup', \n",
    "            height=4, aspect=1.25, \n",
    "            col='AgeGroup', col_wrap=2, legend=False)"
   ]
  },
  {
   "cell_type": "code",
   "execution_count": null,
   "metadata": {},
   "outputs": [],
   "source": []
  }
 ],
 "metadata": {
  "interpreter": {
   "hash": "81794d4967e6c3204c66dcd87b604927b115b27c00565d3d43f05ba2f3a2cb0d"
  },
  "kernelspec": {
   "display_name": "Python 3.9.5 64-bit",
   "language": "python",
   "name": "python3"
  },
  "language_info": {
   "codemirror_mode": {
    "name": "ipython",
    "version": 3
   },
   "file_extension": ".py",
   "mimetype": "text/x-python",
   "name": "python",
   "nbconvert_exporter": "python",
   "pygments_lexer": "ipython3",
   "version": "3.11.3"
  },
  "nteract": {
   "version": "0.15.0"
  }
 },
 "nbformat": 4,
 "nbformat_minor": 4
}
