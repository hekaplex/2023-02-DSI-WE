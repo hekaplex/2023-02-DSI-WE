{
 "cells": [
  {
   "cell_type": "markdown",
   "metadata": {},
   "source": [
    "# Chapter 12: The Forest Fires case study"
   ]
  },
  {
   "cell_type": "raw",
   "metadata": {},
   "source": [
    "If you haven't already installed GeoPandas, you should install it now.\n",
    "To do that, you can start Anaconda Prompt (Windows) or Terminal (macOS), \n",
    "and execute this command:\n",
    "\n",
    "conda install geopandas --channel conda-forge"
   ]
  },
  {
   "cell_type": "raw",
   "metadata": {},
   "source": [
    "!pip install geopandas"
   ]
  },
  {
   "cell_type": "code",
   "execution_count": 7,
   "metadata": {},
   "outputs": [],
   "source": [
    "import pandas as pd\n",
    "import seaborn as sns"
   ]
  },
  {
   "cell_type": "markdown",
   "metadata": {},
   "source": [
    "## Get the data"
   ]
  },
  {
   "cell_type": "markdown",
   "metadata": {},
   "source": [
    "### Download zip file to disk"
   ]
  },
  {
   "cell_type": "code",
   "execution_count": 2,
   "metadata": {
    "scrolled": true
   },
   "outputs": [
    {
     "data": {
      "text/plain": [
       "('RDS-2013-0009.4_SQLITE.zip', <http.client.HTTPMessage at 0x2091f6d4dd0>)"
      ]
     },
     "execution_count": 2,
     "metadata": {},
     "output_type": "execute_result"
    }
   ],
   "source": [
    "# Note: This may take a long time to run\n",
    "fires_url = 'https://www.fs.usda.gov/rds/archive/products/RDS-2013-0009.4/'\n",
    "filename = 'RDS-2013-0009.4_SQLITE.zip'\n",
    "from urllib import request\n",
    "request.urlretrieve(fires_url+filename, filename=filename)"
   ]
  },
  {
   "cell_type": "markdown",
   "metadata": {},
   "source": [
    "### Unzip and print file info"
   ]
  },
  {
   "cell_type": "code",
   "execution_count": 3,
   "metadata": {},
   "outputs": [
    {
     "name": "stdout",
     "output_type": "stream",
     "text": [
      "Data/FPA_FOD_20170508.sqlite 173776108 795785216\n",
      "Data/ 0 0\n",
      "_metadata_RDS-2013-0009.4.xml 11816 51410\n",
      "Supplements/FPA_FOD_Source_List.pdf 74137 109336\n",
      "Supplements/ 0 0\n",
      "_fileindex_RDS-2013-0009.4.html 1098 4398\n",
      "_metadata_RDS-2013-0009.4.html 13803 88383\n"
     ]
    }
   ],
   "source": [
    "from zipfile import ZipFile\n",
    "\n",
    "with ZipFile('RDS-2013-0009.4_SQLITE.zip', mode='r') as zip:\n",
    "    zip.extractall()        \n",
    "    for file in zip.infolist():    \n",
    "        print(file.filename, file.compress_size, file.file_size)"
   ]
  },
  {
   "cell_type": "markdown",
   "metadata": {},
   "source": [
    "### Connect to SQLite database and create a cursor"
   ]
  },
  {
   "cell_type": "code",
   "execution_count": 4,
   "metadata": {},
   "outputs": [
    {
     "data": {
      "text/plain": [
       "sqlite3.Connection"
      ]
     },
     "execution_count": 4,
     "metadata": {},
     "output_type": "execute_result"
    }
   ],
   "source": [
    "#doing this because data is in .sqlite form?\n",
    "import sqlite3\n",
    "#db connection\n",
    "fires_con = sqlite3.connect('Data/FPA_FOD_20170508.sqlite')\n",
    "#db cursor\n",
    "fires_cur = fires_con.cursor()\n",
    "type(fires_con)"
   ]
  },
  {
   "cell_type": "markdown",
   "metadata": {},
   "source": [
    "### Check out the tables and columns"
   ]
  },
  {
   "cell_type": "code",
   "execution_count": 5,
   "metadata": {},
   "outputs": [
    {
     "data": {
      "text/plain": [
       "[('spatial_ref_sys',),\n",
       " ('spatialite_history',),\n",
       " ('sqlite_sequence',),\n",
       " ('geometry_columns',),\n",
       " ('spatial_ref_sys_aux',),\n",
       " ('views_geometry_columns',),\n",
       " ('virts_geometry_columns',),\n",
       " ('geometry_columns_statistics',),\n",
       " ('views_geometry_columns_statistics',),\n",
       " ('virts_geometry_columns_statistics',),\n",
       " ('geometry_columns_field_infos',),\n",
       " ('views_geometry_columns_field_infos',),\n",
       " ('virts_geometry_columns_field_infos',),\n",
       " ('geometry_columns_time',),\n",
       " ('geometry_columns_auth',),\n",
       " ('views_geometry_columns_auth',),\n",
       " ('virts_geometry_columns_auth',),\n",
       " ('sql_statements_log',),\n",
       " ('SpatialIndex',),\n",
       " ('ElementaryGeometries',),\n",
       " ('KNN',),\n",
       " ('Fires',),\n",
       " ('idx_Fires_Shape',),\n",
       " ('idx_Fires_Shape_node',),\n",
       " ('idx_Fires_Shape_rowid',),\n",
       " ('idx_Fires_Shape_parent',),\n",
       " ('NWCG_UnitIDActive_20170109',)]"
      ]
     },
     "execution_count": 5,
     "metadata": {},
     "output_type": "execute_result"
    }
   ],
   "source": [
    "#.execute SQL statement\n",
    "#.fetchall reads all records into memory and returns list\n",
    "fires_cur.execute(\n",
    "    'SELECT name FROM sqlite_master WHERE type=\"table\"').fetchall()"
   ]
  },
  {
   "cell_type": "code",
   "execution_count": 5,
   "metadata": {},
   "outputs": [
    {
     "data": {
      "text/plain": [
       "[(0, 'OBJECTID', 'INTEGER', 1, None, 1),\n",
       " (1, 'FOD_ID', 'int32', 0, None, 0),\n",
       " (2, 'FPA_ID', 'text(100)', 0, None, 0),\n",
       " (3, 'SOURCE_SYSTEM_TYPE', 'text(255)', 0, None, 0),\n",
       " (4, 'SOURCE_SYSTEM', 'text(30)', 0, None, 0),\n",
       " (5, 'NWCG_REPORTING_AGENCY', 'text(255)', 0, None, 0),\n",
       " (6, 'NWCG_REPORTING_UNIT_ID', 'text(255)', 0, None, 0),\n",
       " (7, 'NWCG_REPORTING_UNIT_NAME', 'text(255)', 0, None, 0),\n",
       " (8, 'SOURCE_REPORTING_UNIT', 'text(30)', 0, None, 0),\n",
       " (9, 'SOURCE_REPORTING_UNIT_NAME', 'text(255)', 0, None, 0),\n",
       " (10, 'LOCAL_FIRE_REPORT_ID', 'text(255)', 0, None, 0),\n",
       " (11, 'LOCAL_INCIDENT_ID', 'text(255)', 0, None, 0),\n",
       " (12, 'FIRE_CODE', 'text(10)', 0, None, 0),\n",
       " (13, 'FIRE_NAME', 'text(255)', 0, None, 0),\n",
       " (14, 'ICS_209_INCIDENT_NUMBER', 'text(255)', 0, None, 0),\n",
       " (15, 'ICS_209_NAME', 'text(255)', 0, None, 0),\n",
       " (16, 'MTBS_ID', 'text(255)', 0, None, 0),\n",
       " (17, 'MTBS_FIRE_NAME', 'text(50)', 0, None, 0),\n",
       " (18, 'COMPLEX_NAME', 'text(255)', 0, None, 0),\n",
       " (19, 'FIRE_YEAR', 'int16', 0, None, 0),\n",
       " (20, 'DISCOVERY_DATE', 'realdate', 0, None, 0),\n",
       " (21, 'DISCOVERY_DOY', 'int32', 0, None, 0),\n",
       " (22, 'DISCOVERY_TIME', 'text(4)', 0, None, 0),\n",
       " (23, 'STAT_CAUSE_CODE', 'float64', 0, None, 0),\n",
       " (24, 'STAT_CAUSE_DESCR', 'text(100)', 0, None, 0),\n",
       " (25, 'CONT_DATE', 'realdate', 0, None, 0),\n",
       " (26, 'CONT_DOY', 'int32', 0, None, 0),\n",
       " (27, 'CONT_TIME', 'text(4)', 0, None, 0),\n",
       " (28, 'FIRE_SIZE', 'float64', 0, None, 0),\n",
       " (29, 'FIRE_SIZE_CLASS', 'text(1)', 0, None, 0),\n",
       " (30, 'LATITUDE', 'float64', 0, None, 0),\n",
       " (31, 'LONGITUDE', 'float64', 0, None, 0),\n",
       " (32, 'OWNER_CODE', 'float64', 0, None, 0),\n",
       " (33, 'OWNER_DESCR', 'text(100)', 0, None, 0),\n",
       " (34, 'STATE', 'text(255)', 0, None, 0),\n",
       " (35, 'COUNTY', 'text(255)', 0, None, 0),\n",
       " (36, 'FIPS_CODE', 'text(255)', 0, None, 0),\n",
       " (37, 'FIPS_NAME', 'text(255)', 0, None, 0),\n",
       " (38, 'Shape', 'POINT', 1, None, 0)]"
      ]
     },
     "execution_count": 5,
     "metadata": {},
     "output_type": "execute_result"
    }
   ],
   "source": [
    "#PRAGMA is sqlite specific. Query for internal (non-table) data\n",
    "fires_cur.execute('PRAGMA table_info(Fires)').fetchall()"
   ]
  },
  {
   "cell_type": "markdown",
   "metadata": {},
   "source": [
    "### Import the data into a DataFrame"
   ]
  },
  {
   "cell_type": "code",
   "execution_count": 8,
   "metadata": {},
   "outputs": [
    {
     "data": {
      "text/html": [
       "<div>\n",
       "<style scoped>\n",
       "    .dataframe tbody tr th:only-of-type {\n",
       "        vertical-align: middle;\n",
       "    }\n",
       "\n",
       "    .dataframe tbody tr th {\n",
       "        vertical-align: top;\n",
       "    }\n",
       "\n",
       "    .dataframe thead th {\n",
       "        text-align: right;\n",
       "    }\n",
       "</style>\n",
       "<table border=\"1\" class=\"dataframe\">\n",
       "  <thead>\n",
       "    <tr style=\"text-align: right;\">\n",
       "      <th></th>\n",
       "      <th>FIRE_NAME</th>\n",
       "      <th>FIRE_SIZE</th>\n",
       "      <th>STATE</th>\n",
       "      <th>LATITUDE</th>\n",
       "      <th>LONGITUDE</th>\n",
       "      <th>FIRE_YEAR</th>\n",
       "      <th>discovery_date</th>\n",
       "      <th>contain_date</th>\n",
       "    </tr>\n",
       "  </thead>\n",
       "  <tbody>\n",
       "    <tr>\n",
       "      <th>0</th>\n",
       "      <td>FOUNTAIN</td>\n",
       "      <td>0.10</td>\n",
       "      <td>CA</td>\n",
       "      <td>40.036944</td>\n",
       "      <td>-121.005833</td>\n",
       "      <td>2005</td>\n",
       "      <td>2005-02-02 00:00:00</td>\n",
       "      <td>2005-02-02 00:00:00</td>\n",
       "    </tr>\n",
       "    <tr>\n",
       "      <th>1</th>\n",
       "      <td>PIGEON</td>\n",
       "      <td>0.25</td>\n",
       "      <td>CA</td>\n",
       "      <td>38.933056</td>\n",
       "      <td>-120.404444</td>\n",
       "      <td>2004</td>\n",
       "      <td>2004-05-12 00:00:00</td>\n",
       "      <td>2004-05-12 00:00:00</td>\n",
       "    </tr>\n",
       "    <tr>\n",
       "      <th>2</th>\n",
       "      <td>SLACK</td>\n",
       "      <td>0.10</td>\n",
       "      <td>CA</td>\n",
       "      <td>38.984167</td>\n",
       "      <td>-120.735556</td>\n",
       "      <td>2004</td>\n",
       "      <td>2004-05-31 00:00:00</td>\n",
       "      <td>2004-05-31 00:00:00</td>\n",
       "    </tr>\n",
       "  </tbody>\n",
       "</table>\n",
       "</div>"
      ],
      "text/plain": [
       "  FIRE_NAME  FIRE_SIZE STATE   LATITUDE   LONGITUDE  FIRE_YEAR   \n",
       "0  FOUNTAIN       0.10    CA  40.036944 -121.005833       2005  \\\n",
       "1    PIGEON       0.25    CA  38.933056 -120.404444       2004   \n",
       "2     SLACK       0.10    CA  38.984167 -120.735556       2004   \n",
       "\n",
       "        discovery_date         contain_date  \n",
       "0  2005-02-02 00:00:00  2005-02-02 00:00:00  \n",
       "1  2004-05-12 00:00:00  2004-05-12 00:00:00  \n",
       "2  2004-05-31 00:00:00  2004-05-31 00:00:00  "
      ]
     },
     "execution_count": 8,
     "metadata": {},
     "output_type": "execute_result"
    }
   ],
   "source": [
    "# NOTE: This may take a long time to run\n",
    "fires_sql = \"\"\"\n",
    "            SELECT fire_name, fire_size,\n",
    "                state, latitude, longitude,\n",
    "                fire_year, \n",
    "                DATETIME(discovery_date) AS discovery_date,\n",
    "                DATETIME(cont_date) AS contain_date\n",
    "            FROM Fires\n",
    "            \"\"\"\n",
    "#pandas read sql query\n",
    "fires = pd.read_sql_query(fires_sql, fires_con)\n",
    "fires.head(3)"
   ]
  },
  {
   "cell_type": "markdown",
   "metadata": {},
   "source": [
    "### Save and retrieve DataFrame"
   ]
  },
  {
   "cell_type": "code",
   "execution_count": 9,
   "metadata": {},
   "outputs": [],
   "source": [
    "fires.to_pickle('fires_raw.pkl')"
   ]
  },
  {
   "cell_type": "code",
   "execution_count": 10,
   "metadata": {},
   "outputs": [
    {
     "name": "stdout",
     "output_type": "stream",
     "text": [
      "CPU times: total: 688 ms\n",
      "Wall time: 909 ms\n"
     ]
    }
   ],
   "source": [
    "#apparently %time in front of any statement returns CPU and Wall times\n",
    "%time fires = pd.read_pickle('fires_raw.pkl')"
   ]
  },
  {
   "cell_type": "markdown",
   "metadata": {},
   "source": [
    "## Clean the data"
   ]
  },
  {
   "cell_type": "markdown",
   "metadata": {},
   "source": [
    "### Examine data"
   ]
  },
  {
   "cell_type": "code",
   "execution_count": 12,
   "metadata": {},
   "outputs": [
    {
     "name": "stdout",
     "output_type": "stream",
     "text": [
      "<class 'pandas.core.frame.DataFrame'>\n",
      "RangeIndex: 1880465 entries, 0 to 1880464\n",
      "Data columns (total 8 columns):\n",
      " #   Column          Dtype  \n",
      "---  ------          -----  \n",
      " 0   FIRE_NAME       object \n",
      " 1   FIRE_SIZE       float64\n",
      " 2   STATE           object \n",
      " 3   LATITUDE        float64\n",
      " 4   LONGITUDE       float64\n",
      " 5   FIRE_YEAR       int64  \n",
      " 6   discovery_date  object \n",
      " 7   contain_date    object \n",
      "dtypes: float64(3), int64(1), object(4)\n",
      "memory usage: 473.8 MB\n"
     ]
    }
   ],
   "source": [
    "#memory_usage = 'deep' interrogates object dtypes for memory consumption\n",
    "fires.info(memory_usage='deep')"
   ]
  },
  {
   "cell_type": "code",
   "execution_count": 13,
   "metadata": {},
   "outputs": [
    {
     "data": {
      "text/html": [
       "<div>\n",
       "<style scoped>\n",
       "    .dataframe tbody tr th:only-of-type {\n",
       "        vertical-align: middle;\n",
       "    }\n",
       "\n",
       "    .dataframe tbody tr th {\n",
       "        vertical-align: top;\n",
       "    }\n",
       "\n",
       "    .dataframe thead th {\n",
       "        text-align: right;\n",
       "    }\n",
       "</style>\n",
       "<table border=\"1\" class=\"dataframe\">\n",
       "  <thead>\n",
       "    <tr style=\"text-align: right;\">\n",
       "      <th></th>\n",
       "      <th>count</th>\n",
       "      <th>mean</th>\n",
       "      <th>std</th>\n",
       "      <th>min</th>\n",
       "      <th>25%</th>\n",
       "      <th>50%</th>\n",
       "      <th>75%</th>\n",
       "      <th>max</th>\n",
       "    </tr>\n",
       "  </thead>\n",
       "  <tbody>\n",
       "    <tr>\n",
       "      <th>FIRE_SIZE</th>\n",
       "      <td>1880465.0</td>\n",
       "      <td>74.520158</td>\n",
       "      <td>2497.598180</td>\n",
       "      <td>0.000010</td>\n",
       "      <td>0.10000</td>\n",
       "      <td>1.000000</td>\n",
       "      <td>3.3000</td>\n",
       "      <td>606945.000000</td>\n",
       "    </tr>\n",
       "    <tr>\n",
       "      <th>LATITUDE</th>\n",
       "      <td>1880465.0</td>\n",
       "      <td>36.781213</td>\n",
       "      <td>6.139031</td>\n",
       "      <td>17.939722</td>\n",
       "      <td>32.81860</td>\n",
       "      <td>35.452500</td>\n",
       "      <td>40.8272</td>\n",
       "      <td>70.330600</td>\n",
       "    </tr>\n",
       "    <tr>\n",
       "      <th>LONGITUDE</th>\n",
       "      <td>1880465.0</td>\n",
       "      <td>-95.704942</td>\n",
       "      <td>16.716944</td>\n",
       "      <td>-178.802600</td>\n",
       "      <td>-110.36347</td>\n",
       "      <td>-92.043043</td>\n",
       "      <td>-82.2976</td>\n",
       "      <td>-65.256944</td>\n",
       "    </tr>\n",
       "    <tr>\n",
       "      <th>FIRE_YEAR</th>\n",
       "      <td>1880465.0</td>\n",
       "      <td>2003.709974</td>\n",
       "      <td>6.663099</td>\n",
       "      <td>1992.000000</td>\n",
       "      <td>1998.00000</td>\n",
       "      <td>2004.000000</td>\n",
       "      <td>2009.0000</td>\n",
       "      <td>2015.000000</td>\n",
       "    </tr>\n",
       "  </tbody>\n",
       "</table>\n",
       "</div>"
      ],
      "text/plain": [
       "               count         mean          std          min         25%   \n",
       "FIRE_SIZE  1880465.0    74.520158  2497.598180     0.000010     0.10000  \\\n",
       "LATITUDE   1880465.0    36.781213     6.139031    17.939722    32.81860   \n",
       "LONGITUDE  1880465.0   -95.704942    16.716944  -178.802600  -110.36347   \n",
       "FIRE_YEAR  1880465.0  2003.709974     6.663099  1992.000000  1998.00000   \n",
       "\n",
       "                   50%        75%            max  \n",
       "FIRE_SIZE     1.000000     3.3000  606945.000000  \n",
       "LATITUDE     35.452500    40.8272      70.330600  \n",
       "LONGITUDE   -92.043043   -82.2976     -65.256944  \n",
       "FIRE_YEAR  2004.000000  2009.0000    2015.000000  "
      ]
     },
     "execution_count": 13,
     "metadata": {},
     "output_type": "execute_result"
    }
   ],
   "source": [
    "fires.describe().T"
   ]
  },
  {
   "cell_type": "markdown",
   "metadata": {},
   "source": [
    "### Improve the readability"
   ]
  },
  {
   "cell_type": "code",
   "execution_count": 14,
   "metadata": {},
   "outputs": [
    {
     "data": {
      "text/html": [
       "<div>\n",
       "<style scoped>\n",
       "    .dataframe tbody tr th:only-of-type {\n",
       "        vertical-align: middle;\n",
       "    }\n",
       "\n",
       "    .dataframe tbody tr th {\n",
       "        vertical-align: top;\n",
       "    }\n",
       "\n",
       "    .dataframe thead th {\n",
       "        text-align: right;\n",
       "    }\n",
       "</style>\n",
       "<table border=\"1\" class=\"dataframe\">\n",
       "  <thead>\n",
       "    <tr style=\"text-align: right;\">\n",
       "      <th></th>\n",
       "      <th>fire_name</th>\n",
       "      <th>fire_size</th>\n",
       "      <th>state</th>\n",
       "      <th>latitude</th>\n",
       "      <th>longitude</th>\n",
       "      <th>fire_year</th>\n",
       "      <th>discovery_date</th>\n",
       "      <th>contain_date</th>\n",
       "    </tr>\n",
       "  </thead>\n",
       "  <tbody>\n",
       "    <tr>\n",
       "      <th>0</th>\n",
       "      <td>FOUNTAIN</td>\n",
       "      <td>0.10</td>\n",
       "      <td>CA</td>\n",
       "      <td>40.036944</td>\n",
       "      <td>-121.005833</td>\n",
       "      <td>2005</td>\n",
       "      <td>2005-02-02 00:00:00</td>\n",
       "      <td>2005-02-02 00:00:00</td>\n",
       "    </tr>\n",
       "    <tr>\n",
       "      <th>1</th>\n",
       "      <td>PIGEON</td>\n",
       "      <td>0.25</td>\n",
       "      <td>CA</td>\n",
       "      <td>38.933056</td>\n",
       "      <td>-120.404444</td>\n",
       "      <td>2004</td>\n",
       "      <td>2004-05-12 00:00:00</td>\n",
       "      <td>2004-05-12 00:00:00</td>\n",
       "    </tr>\n",
       "    <tr>\n",
       "      <th>2</th>\n",
       "      <td>SLACK</td>\n",
       "      <td>0.10</td>\n",
       "      <td>CA</td>\n",
       "      <td>38.984167</td>\n",
       "      <td>-120.735556</td>\n",
       "      <td>2004</td>\n",
       "      <td>2004-05-31 00:00:00</td>\n",
       "      <td>2004-05-31 00:00:00</td>\n",
       "    </tr>\n",
       "  </tbody>\n",
       "</table>\n",
       "</div>"
      ],
      "text/plain": [
       "  fire_name  fire_size state   latitude   longitude  fire_year   \n",
       "0  FOUNTAIN       0.10    CA  40.036944 -121.005833       2005  \\\n",
       "1    PIGEON       0.25    CA  38.933056 -120.404444       2004   \n",
       "2     SLACK       0.10    CA  38.984167 -120.735556       2004   \n",
       "\n",
       "        discovery_date         contain_date  \n",
       "0  2005-02-02 00:00:00  2005-02-02 00:00:00  \n",
       "1  2004-05-12 00:00:00  2004-05-12 00:00:00  \n",
       "2  2004-05-31 00:00:00  2004-05-31 00:00:00  "
      ]
     },
     "execution_count": 14,
     "metadata": {},
     "output_type": "execute_result"
    }
   ],
   "source": [
    "fires.columns = fires.columns.str.lower()\n",
    "fires.head(3)"
   ]
  },
  {
   "cell_type": "code",
   "execution_count": 15,
   "metadata": {},
   "outputs": [],
   "source": [
    "fires.rename(columns={'fire_size':'acres_burned'},inplace=True)"
   ]
  },
  {
   "cell_type": "code",
   "execution_count": 17,
   "metadata": {},
   "outputs": [
    {
     "data": {
      "text/html": [
       "<div>\n",
       "<style scoped>\n",
       "    .dataframe tbody tr th:only-of-type {\n",
       "        vertical-align: middle;\n",
       "    }\n",
       "\n",
       "    .dataframe tbody tr th {\n",
       "        vertical-align: top;\n",
       "    }\n",
       "\n",
       "    .dataframe thead th {\n",
       "        text-align: right;\n",
       "    }\n",
       "</style>\n",
       "<table border=\"1\" class=\"dataframe\">\n",
       "  <thead>\n",
       "    <tr style=\"text-align: right;\">\n",
       "      <th></th>\n",
       "      <th>fire_name</th>\n",
       "      <th>acres_burned</th>\n",
       "      <th>state</th>\n",
       "      <th>latitude</th>\n",
       "      <th>longitude</th>\n",
       "      <th>fire_year</th>\n",
       "      <th>discovery_date</th>\n",
       "      <th>contain_date</th>\n",
       "    </tr>\n",
       "  </thead>\n",
       "  <tbody>\n",
       "    <tr>\n",
       "      <th>0</th>\n",
       "      <td>Fountain</td>\n",
       "      <td>0.10</td>\n",
       "      <td>CA</td>\n",
       "      <td>40.036944</td>\n",
       "      <td>-121.005833</td>\n",
       "      <td>2005</td>\n",
       "      <td>2005-02-02 00:00:00</td>\n",
       "      <td>2005-02-02 00:00:00</td>\n",
       "    </tr>\n",
       "    <tr>\n",
       "      <th>1</th>\n",
       "      <td>Pigeon</td>\n",
       "      <td>0.25</td>\n",
       "      <td>CA</td>\n",
       "      <td>38.933056</td>\n",
       "      <td>-120.404444</td>\n",
       "      <td>2004</td>\n",
       "      <td>2004-05-12 00:00:00</td>\n",
       "      <td>2004-05-12 00:00:00</td>\n",
       "    </tr>\n",
       "    <tr>\n",
       "      <th>2</th>\n",
       "      <td>Slack</td>\n",
       "      <td>0.10</td>\n",
       "      <td>CA</td>\n",
       "      <td>38.984167</td>\n",
       "      <td>-120.735556</td>\n",
       "      <td>2004</td>\n",
       "      <td>2004-05-31 00:00:00</td>\n",
       "      <td>2004-05-31 00:00:00</td>\n",
       "    </tr>\n",
       "    <tr>\n",
       "      <th>3</th>\n",
       "      <td>Deer</td>\n",
       "      <td>0.10</td>\n",
       "      <td>CA</td>\n",
       "      <td>38.559167</td>\n",
       "      <td>-119.913333</td>\n",
       "      <td>2004</td>\n",
       "      <td>2004-06-28 00:00:00</td>\n",
       "      <td>2004-07-03 00:00:00</td>\n",
       "    </tr>\n",
       "    <tr>\n",
       "      <th>4</th>\n",
       "      <td>Stevenot</td>\n",
       "      <td>0.10</td>\n",
       "      <td>CA</td>\n",
       "      <td>38.559167</td>\n",
       "      <td>-119.933056</td>\n",
       "      <td>2004</td>\n",
       "      <td>2004-06-28 00:00:00</td>\n",
       "      <td>2004-07-03 00:00:00</td>\n",
       "    </tr>\n",
       "  </tbody>\n",
       "</table>\n",
       "</div>"
      ],
      "text/plain": [
       "  fire_name  acres_burned state   latitude   longitude  fire_year   \n",
       "0  Fountain          0.10    CA  40.036944 -121.005833       2005  \\\n",
       "1    Pigeon          0.25    CA  38.933056 -120.404444       2004   \n",
       "2     Slack          0.10    CA  38.984167 -120.735556       2004   \n",
       "3      Deer          0.10    CA  38.559167 -119.913333       2004   \n",
       "4  Stevenot          0.10    CA  38.559167 -119.933056       2004   \n",
       "\n",
       "        discovery_date         contain_date  \n",
       "0  2005-02-02 00:00:00  2005-02-02 00:00:00  \n",
       "1  2004-05-12 00:00:00  2004-05-12 00:00:00  \n",
       "2  2004-05-31 00:00:00  2004-05-31 00:00:00  \n",
       "3  2004-06-28 00:00:00  2004-07-03 00:00:00  \n",
       "4  2004-06-28 00:00:00  2004-07-03 00:00:00  "
      ]
     },
     "execution_count": 17,
     "metadata": {},
     "output_type": "execute_result"
    }
   ],
   "source": [
    "#.str.title converts first character of each word to upper, rest to lower\n",
    "fires['fire_name'] = fires.fire_name.str.title()\n",
    "fires.head()"
   ]
  },
  {
   "cell_type": "markdown",
   "metadata": {},
   "source": [
    "### Drop unnecessary rows"
   ]
  },
  {
   "cell_type": "code",
   "execution_count": 18,
   "metadata": {},
   "outputs": [],
   "source": [
    "#looks like predicate can be placed in [] like query\n",
    "fires = fires[fires.acres_burned >= 10]"
   ]
  },
  {
   "cell_type": "code",
   "execution_count": 19,
   "metadata": {},
   "outputs": [
    {
     "name": "stdout",
     "output_type": "stream",
     "text": [
      "<class 'pandas.core.frame.DataFrame'>\n",
      "Index: 274170 entries, 16 to 1880441\n",
      "Data columns (total 8 columns):\n",
      " #   Column          Non-Null Count   Dtype  \n",
      "---  ------          --------------   -----  \n",
      " 0   fire_name       128667 non-null  object \n",
      " 1   acres_burned    274170 non-null  float64\n",
      " 2   state           274170 non-null  object \n",
      " 3   latitude        274170 non-null  float64\n",
      " 4   longitude       274170 non-null  float64\n",
      " 5   fire_year       274170 non-null  int64  \n",
      " 6   discovery_date  274170 non-null  object \n",
      " 7   contain_date    137377 non-null  object \n",
      "dtypes: float64(3), int64(1), object(4)\n",
      "memory usage: 70.6 MB\n"
     ]
    }
   ],
   "source": [
    "fires.info(memory_usage='deep')"
   ]
  },
  {
   "cell_type": "markdown",
   "metadata": {},
   "source": [
    "### Drop duplicate rows"
   ]
  },
  {
   "cell_type": "code",
   "execution_count": 17,
   "metadata": {},
   "outputs": [
    {
     "data": {
      "text/html": [
       "<div>\n",
       "<style scoped>\n",
       "    .dataframe tbody tr th:only-of-type {\n",
       "        vertical-align: middle;\n",
       "    }\n",
       "\n",
       "    .dataframe tbody tr th {\n",
       "        vertical-align: top;\n",
       "    }\n",
       "\n",
       "    .dataframe thead th {\n",
       "        text-align: right;\n",
       "    }\n",
       "</style>\n",
       "<table border=\"1\" class=\"dataframe\">\n",
       "  <thead>\n",
       "    <tr style=\"text-align: right;\">\n",
       "      <th></th>\n",
       "      <th>fire_name</th>\n",
       "      <th>acres_burned</th>\n",
       "      <th>state</th>\n",
       "      <th>latitude</th>\n",
       "      <th>longitude</th>\n",
       "      <th>fire_year</th>\n",
       "      <th>discovery_date</th>\n",
       "      <th>contain_date</th>\n",
       "    </tr>\n",
       "  </thead>\n",
       "  <tbody>\n",
       "    <tr>\n",
       "      <th>1350848</th>\n",
       "      <td>None</td>\n",
       "      <td>14.0</td>\n",
       "      <td>NY</td>\n",
       "      <td>42.223532</td>\n",
       "      <td>-73.687350</td>\n",
       "      <td>1997</td>\n",
       "      <td>1997-02-26 00:00:00</td>\n",
       "      <td>None</td>\n",
       "    </tr>\n",
       "    <tr>\n",
       "      <th>1350859</th>\n",
       "      <td>None</td>\n",
       "      <td>14.0</td>\n",
       "      <td>NY</td>\n",
       "      <td>42.223532</td>\n",
       "      <td>-73.687350</td>\n",
       "      <td>1997</td>\n",
       "      <td>1997-02-26 00:00:00</td>\n",
       "      <td>None</td>\n",
       "    </tr>\n",
       "    <tr>\n",
       "      <th>1371586</th>\n",
       "      <td>None</td>\n",
       "      <td>15.0</td>\n",
       "      <td>CT</td>\n",
       "      <td>41.279541</td>\n",
       "      <td>-72.815099</td>\n",
       "      <td>2000</td>\n",
       "      <td>2000-03-06 00:00:00</td>\n",
       "      <td>None</td>\n",
       "    </tr>\n",
       "    <tr>\n",
       "      <th>1371587</th>\n",
       "      <td>None</td>\n",
       "      <td>15.0</td>\n",
       "      <td>CT</td>\n",
       "      <td>41.279541</td>\n",
       "      <td>-72.815099</td>\n",
       "      <td>2000</td>\n",
       "      <td>2000-03-06 00:00:00</td>\n",
       "      <td>None</td>\n",
       "    </tr>\n",
       "    <tr>\n",
       "      <th>1432190</th>\n",
       "      <td>None</td>\n",
       "      <td>30.0</td>\n",
       "      <td>AL</td>\n",
       "      <td>32.640810</td>\n",
       "      <td>-86.837740</td>\n",
       "      <td>1995</td>\n",
       "      <td>1995-07-20 00:00:00</td>\n",
       "      <td>None</td>\n",
       "    </tr>\n",
       "    <tr>\n",
       "      <th>...</th>\n",
       "      <td>...</td>\n",
       "      <td>...</td>\n",
       "      <td>...</td>\n",
       "      <td>...</td>\n",
       "      <td>...</td>\n",
       "      <td>...</td>\n",
       "      <td>...</td>\n",
       "      <td>...</td>\n",
       "    </tr>\n",
       "    <tr>\n",
       "      <th>1721251</th>\n",
       "      <td>None</td>\n",
       "      <td>10.0</td>\n",
       "      <td>PR</td>\n",
       "      <td>18.057226</td>\n",
       "      <td>-66.406883</td>\n",
       "      <td>2011</td>\n",
       "      <td>2011-04-01 00:00:00</td>\n",
       "      <td>None</td>\n",
       "    </tr>\n",
       "    <tr>\n",
       "      <th>1843668</th>\n",
       "      <td>None</td>\n",
       "      <td>12.0</td>\n",
       "      <td>MA</td>\n",
       "      <td>42.201056</td>\n",
       "      <td>-72.640495</td>\n",
       "      <td>2015</td>\n",
       "      <td>2015-05-15 00:00:00</td>\n",
       "      <td>2015-05-15 00:00:00</td>\n",
       "    </tr>\n",
       "    <tr>\n",
       "      <th>1843669</th>\n",
       "      <td>None</td>\n",
       "      <td>12.0</td>\n",
       "      <td>MA</td>\n",
       "      <td>42.201056</td>\n",
       "      <td>-72.640495</td>\n",
       "      <td>2015</td>\n",
       "      <td>2015-05-15 00:00:00</td>\n",
       "      <td>2015-05-15 00:00:00</td>\n",
       "    </tr>\n",
       "    <tr>\n",
       "      <th>1861585</th>\n",
       "      <td>None</td>\n",
       "      <td>10.0</td>\n",
       "      <td>HI</td>\n",
       "      <td>21.497620</td>\n",
       "      <td>-158.187042</td>\n",
       "      <td>1992</td>\n",
       "      <td>1992-09-07 00:00:00</td>\n",
       "      <td>None</td>\n",
       "    </tr>\n",
       "    <tr>\n",
       "      <th>1861588</th>\n",
       "      <td>None</td>\n",
       "      <td>10.0</td>\n",
       "      <td>HI</td>\n",
       "      <td>21.497620</td>\n",
       "      <td>-158.187042</td>\n",
       "      <td>1992</td>\n",
       "      <td>1992-09-07 00:00:00</td>\n",
       "      <td>None</td>\n",
       "    </tr>\n",
       "  </tbody>\n",
       "</table>\n",
       "<p>94 rows × 8 columns</p>\n",
       "</div>"
      ],
      "text/plain": [
       "        fire_name  acres_burned state   latitude   longitude  fire_year  \\\n",
       "1350848      None          14.0    NY  42.223532  -73.687350       1997   \n",
       "1350859      None          14.0    NY  42.223532  -73.687350       1997   \n",
       "1371586      None          15.0    CT  41.279541  -72.815099       2000   \n",
       "1371587      None          15.0    CT  41.279541  -72.815099       2000   \n",
       "1432190      None          30.0    AL  32.640810  -86.837740       1995   \n",
       "...           ...           ...   ...        ...         ...        ...   \n",
       "1721251      None          10.0    PR  18.057226  -66.406883       2011   \n",
       "1843668      None          12.0    MA  42.201056  -72.640495       2015   \n",
       "1843669      None          12.0    MA  42.201056  -72.640495       2015   \n",
       "1861585      None          10.0    HI  21.497620 -158.187042       1992   \n",
       "1861588      None          10.0    HI  21.497620 -158.187042       1992   \n",
       "\n",
       "              discovery_date         contain_date  \n",
       "1350848  1997-02-26 00:00:00                 None  \n",
       "1350859  1997-02-26 00:00:00                 None  \n",
       "1371586  2000-03-06 00:00:00                 None  \n",
       "1371587  2000-03-06 00:00:00                 None  \n",
       "1432190  1995-07-20 00:00:00                 None  \n",
       "...                      ...                  ...  \n",
       "1721251  2011-04-01 00:00:00                 None  \n",
       "1843668  2015-05-15 00:00:00  2015-05-15 00:00:00  \n",
       "1843669  2015-05-15 00:00:00  2015-05-15 00:00:00  \n",
       "1861585  1992-09-07 00:00:00                 None  \n",
       "1861588  1992-09-07 00:00:00                 None  \n",
       "\n",
       "[94 rows x 8 columns]"
      ]
     },
     "execution_count": 17,
     "metadata": {},
     "output_type": "execute_result"
    }
   ],
   "source": [
    "#view duplicates\n",
    "fires[fires.duplicated(keep=False)]"
   ]
  },
  {
   "cell_type": "code",
   "execution_count": 20,
   "metadata": {},
   "outputs": [],
   "source": [
    "#keep defaults to 'first'\n",
    "fires = fires.drop_duplicates(keep='first')"
   ]
  },
  {
   "cell_type": "code",
   "execution_count": 21,
   "metadata": {},
   "outputs": [
    {
     "name": "stdout",
     "output_type": "stream",
     "text": [
      "<class 'pandas.core.frame.DataFrame'>\n",
      "Index: 274123 entries, 16 to 1880441\n",
      "Data columns (total 8 columns):\n",
      " #   Column          Non-Null Count   Dtype  \n",
      "---  ------          --------------   -----  \n",
      " 0   fire_name       128667 non-null  object \n",
      " 1   acres_burned    274123 non-null  float64\n",
      " 2   state           274123 non-null  object \n",
      " 3   latitude        274123 non-null  float64\n",
      " 4   longitude       274123 non-null  float64\n",
      " 5   fire_year       274123 non-null  int64  \n",
      " 6   discovery_date  274123 non-null  object \n",
      " 7   contain_date    137376 non-null  object \n",
      "dtypes: float64(3), int64(1), object(4)\n",
      "memory usage: 70.6 MB\n"
     ]
    }
   ],
   "source": [
    "fires.info(memory_usage='deep')"
   ]
  },
  {
   "cell_type": "markdown",
   "metadata": {},
   "source": [
    "### Convert dates to datetimes"
   ]
  },
  {
   "cell_type": "code",
   "execution_count": 23,
   "metadata": {},
   "outputs": [],
   "source": [
    "fires.discovery_date = \\\n",
    "    pd.to_datetime(fires.discovery_date)"
   ]
  },
  {
   "cell_type": "code",
   "execution_count": 24,
   "metadata": {},
   "outputs": [],
   "source": [
    "fires.contain_date = \\\n",
    "    pd.to_datetime(fires.contain_date)"
   ]
  },
  {
   "cell_type": "markdown",
   "metadata": {},
   "source": [
    "### Check for missing contain dates"
   ]
  },
  {
   "cell_type": "code",
   "execution_count": 25,
   "metadata": {},
   "outputs": [
    {
     "data": {
      "text/html": [
       "<div>\n",
       "<style scoped>\n",
       "    .dataframe tbody tr th:only-of-type {\n",
       "        vertical-align: middle;\n",
       "    }\n",
       "\n",
       "    .dataframe tbody tr th {\n",
       "        vertical-align: top;\n",
       "    }\n",
       "\n",
       "    .dataframe thead th {\n",
       "        text-align: right;\n",
       "    }\n",
       "</style>\n",
       "<table border=\"1\" class=\"dataframe\">\n",
       "  <thead>\n",
       "    <tr style=\"text-align: right;\">\n",
       "      <th></th>\n",
       "      <th>fire_name</th>\n",
       "      <th>acres_burned</th>\n",
       "      <th>state</th>\n",
       "      <th>latitude</th>\n",
       "      <th>longitude</th>\n",
       "      <th>fire_year</th>\n",
       "      <th>discovery_date</th>\n",
       "      <th>contain_date</th>\n",
       "    </tr>\n",
       "  </thead>\n",
       "  <tbody>\n",
       "    <tr>\n",
       "      <th>1566</th>\n",
       "      <td>Seven Springs</td>\n",
       "      <td>85.00</td>\n",
       "      <td>MO</td>\n",
       "      <td>36.992500</td>\n",
       "      <td>-92.186111</td>\n",
       "      <td>2005</td>\n",
       "      <td>2005-03-17</td>\n",
       "      <td>NaT</td>\n",
       "    </tr>\n",
       "    <tr>\n",
       "      <th>5095</th>\n",
       "      <td>Peppin</td>\n",
       "      <td>64488.00</td>\n",
       "      <td>NM</td>\n",
       "      <td>33.601389</td>\n",
       "      <td>-105.433333</td>\n",
       "      <td>2004</td>\n",
       "      <td>2004-05-15</td>\n",
       "      <td>NaT</td>\n",
       "    </tr>\n",
       "    <tr>\n",
       "      <th>5740</th>\n",
       "      <td>Rochelle Hills</td>\n",
       "      <td>230.00</td>\n",
       "      <td>WY</td>\n",
       "      <td>43.571667</td>\n",
       "      <td>-105.085833</td>\n",
       "      <td>2005</td>\n",
       "      <td>2005-08-26</td>\n",
       "      <td>NaT</td>\n",
       "    </tr>\n",
       "    <tr>\n",
       "      <th>8187</th>\n",
       "      <td>Knife</td>\n",
       "      <td>560.00</td>\n",
       "      <td>AZ</td>\n",
       "      <td>35.132778</td>\n",
       "      <td>-111.399444</td>\n",
       "      <td>2006</td>\n",
       "      <td>2006-05-27</td>\n",
       "      <td>NaT</td>\n",
       "    </tr>\n",
       "    <tr>\n",
       "      <th>10883</th>\n",
       "      <td>Grant</td>\n",
       "      <td>190.00</td>\n",
       "      <td>AZ</td>\n",
       "      <td>33.626111</td>\n",
       "      <td>-109.248889</td>\n",
       "      <td>2006</td>\n",
       "      <td>2006-07-19</td>\n",
       "      <td>NaT</td>\n",
       "    </tr>\n",
       "    <tr>\n",
       "      <th>...</th>\n",
       "      <td>...</td>\n",
       "      <td>...</td>\n",
       "      <td>...</td>\n",
       "      <td>...</td>\n",
       "      <td>...</td>\n",
       "      <td>...</td>\n",
       "      <td>...</td>\n",
       "      <td>...</td>\n",
       "    </tr>\n",
       "    <tr>\n",
       "      <th>1880206</th>\n",
       "      <td>Ranchita</td>\n",
       "      <td>24.20</td>\n",
       "      <td>CA</td>\n",
       "      <td>35.805000</td>\n",
       "      <td>-120.575000</td>\n",
       "      <td>2010</td>\n",
       "      <td>2010-06-21</td>\n",
       "      <td>NaT</td>\n",
       "    </tr>\n",
       "    <tr>\n",
       "      <th>1880316</th>\n",
       "      <td>None</td>\n",
       "      <td>24.74</td>\n",
       "      <td>CA</td>\n",
       "      <td>35.271667</td>\n",
       "      <td>-118.617967</td>\n",
       "      <td>2013</td>\n",
       "      <td>2013-05-25</td>\n",
       "      <td>NaT</td>\n",
       "    </tr>\n",
       "    <tr>\n",
       "      <th>1880352</th>\n",
       "      <td>San Marcos</td>\n",
       "      <td>70.00</td>\n",
       "      <td>CA</td>\n",
       "      <td>38.020433</td>\n",
       "      <td>-121.982883</td>\n",
       "      <td>2010</td>\n",
       "      <td>2010-08-23</td>\n",
       "      <td>NaT</td>\n",
       "    </tr>\n",
       "    <tr>\n",
       "      <th>1880419</th>\n",
       "      <td>Slaughterhouse</td>\n",
       "      <td>50.00</td>\n",
       "      <td>CA</td>\n",
       "      <td>32.906591</td>\n",
       "      <td>-116.942448</td>\n",
       "      <td>2010</td>\n",
       "      <td>2010-05-29</td>\n",
       "      <td>NaT</td>\n",
       "    </tr>\n",
       "    <tr>\n",
       "      <th>1880441</th>\n",
       "      <td>None</td>\n",
       "      <td>11.00</td>\n",
       "      <td>CA</td>\n",
       "      <td>34.450000</td>\n",
       "      <td>-118.583333</td>\n",
       "      <td>2015</td>\n",
       "      <td>2015-12-07</td>\n",
       "      <td>NaT</td>\n",
       "    </tr>\n",
       "  </tbody>\n",
       "</table>\n",
       "<p>136747 rows × 8 columns</p>\n",
       "</div>"
      ],
      "text/plain": [
       "              fire_name  acres_burned state   latitude   longitude  fire_year   \n",
       "1566      Seven Springs         85.00    MO  36.992500  -92.186111       2005  \\\n",
       "5095             Peppin      64488.00    NM  33.601389 -105.433333       2004   \n",
       "5740     Rochelle Hills        230.00    WY  43.571667 -105.085833       2005   \n",
       "8187              Knife        560.00    AZ  35.132778 -111.399444       2006   \n",
       "10883             Grant        190.00    AZ  33.626111 -109.248889       2006   \n",
       "...                 ...           ...   ...        ...         ...        ...   \n",
       "1880206        Ranchita         24.20    CA  35.805000 -120.575000       2010   \n",
       "1880316            None         24.74    CA  35.271667 -118.617967       2013   \n",
       "1880352      San Marcos         70.00    CA  38.020433 -121.982883       2010   \n",
       "1880419  Slaughterhouse         50.00    CA  32.906591 -116.942448       2010   \n",
       "1880441            None         11.00    CA  34.450000 -118.583333       2015   \n",
       "\n",
       "        discovery_date contain_date  \n",
       "1566        2005-03-17          NaT  \n",
       "5095        2004-05-15          NaT  \n",
       "5740        2005-08-26          NaT  \n",
       "8187        2006-05-27          NaT  \n",
       "10883       2006-07-19          NaT  \n",
       "...                ...          ...  \n",
       "1880206     2010-06-21          NaT  \n",
       "1880316     2013-05-25          NaT  \n",
       "1880352     2010-08-23          NaT  \n",
       "1880419     2010-05-29          NaT  \n",
       "1880441     2015-12-07          NaT  \n",
       "\n",
       "[136747 rows x 8 columns]"
      ]
     },
     "execution_count": 25,
     "metadata": {},
     "output_type": "execute_result"
    }
   ],
   "source": [
    "fires[fires.contain_date.isnull()]"
   ]
  },
  {
   "cell_type": "code",
   "execution_count": 26,
   "metadata": {},
   "outputs": [
    {
     "data": {
      "text/html": [
       "<div>\n",
       "<style scoped>\n",
       "    .dataframe tbody tr th:only-of-type {\n",
       "        vertical-align: middle;\n",
       "    }\n",
       "\n",
       "    .dataframe tbody tr th {\n",
       "        vertical-align: top;\n",
       "    }\n",
       "\n",
       "    .dataframe thead th {\n",
       "        text-align: right;\n",
       "    }\n",
       "</style>\n",
       "<table border=\"1\" class=\"dataframe\">\n",
       "  <thead>\n",
       "    <tr style=\"text-align: right;\">\n",
       "      <th></th>\n",
       "      <th>fire_name</th>\n",
       "      <th>acres_burned</th>\n",
       "      <th>state</th>\n",
       "      <th>latitude</th>\n",
       "      <th>longitude</th>\n",
       "      <th>fire_year</th>\n",
       "      <th>discovery_date</th>\n",
       "      <th>contain_date</th>\n",
       "    </tr>\n",
       "  </thead>\n",
       "  <tbody>\n",
       "    <tr>\n",
       "      <th>1639394</th>\n",
       "      <td>Silver</td>\n",
       "      <td>234000.0</td>\n",
       "      <td>NM</td>\n",
       "      <td>32.888889</td>\n",
       "      <td>-107.809722</td>\n",
       "      <td>2013</td>\n",
       "      <td>2013-06-07</td>\n",
       "      <td>NaT</td>\n",
       "    </tr>\n",
       "    <tr>\n",
       "      <th>654163</th>\n",
       "      <td>Glass</td>\n",
       "      <td>220000.0</td>\n",
       "      <td>TX</td>\n",
       "      <td>31.742160</td>\n",
       "      <td>-101.043800</td>\n",
       "      <td>2008</td>\n",
       "      <td>2008-02-25</td>\n",
       "      <td>NaT</td>\n",
       "    </tr>\n",
       "    <tr>\n",
       "      <th>377944</th>\n",
       "      <td>Camp Creek</td>\n",
       "      <td>175815.0</td>\n",
       "      <td>AK</td>\n",
       "      <td>64.333340</td>\n",
       "      <td>-145.166700</td>\n",
       "      <td>2004</td>\n",
       "      <td>2004-06-23</td>\n",
       "      <td>NaT</td>\n",
       "    </tr>\n",
       "    <tr>\n",
       "      <th>512403</th>\n",
       "      <td>Pine Ridge Complex</td>\n",
       "      <td>121687.0</td>\n",
       "      <td>MT</td>\n",
       "      <td>45.922800</td>\n",
       "      <td>-107.856100</td>\n",
       "      <td>2006</td>\n",
       "      <td>2006-07-12</td>\n",
       "      <td>NaT</td>\n",
       "    </tr>\n",
       "    <tr>\n",
       "      <th>350860</th>\n",
       "      <td>Moose Lake</td>\n",
       "      <td>117920.0</td>\n",
       "      <td>AK</td>\n",
       "      <td>63.591100</td>\n",
       "      <td>-152.675700</td>\n",
       "      <td>2002</td>\n",
       "      <td>2002-07-17</td>\n",
       "      <td>NaT</td>\n",
       "    </tr>\n",
       "    <tr>\n",
       "      <th>...</th>\n",
       "      <td>...</td>\n",
       "      <td>...</td>\n",
       "      <td>...</td>\n",
       "      <td>...</td>\n",
       "      <td>...</td>\n",
       "      <td>...</td>\n",
       "      <td>...</td>\n",
       "      <td>...</td>\n",
       "    </tr>\n",
       "    <tr>\n",
       "      <th>1552706</th>\n",
       "      <td>Miller Ranch</td>\n",
       "      <td>10000.0</td>\n",
       "      <td>TX</td>\n",
       "      <td>32.626600</td>\n",
       "      <td>-101.680012</td>\n",
       "      <td>2011</td>\n",
       "      <td>2011-03-24</td>\n",
       "      <td>NaT</td>\n",
       "    </tr>\n",
       "    <tr>\n",
       "      <th>1455520</th>\n",
       "      <td>East Fork</td>\n",
       "      <td>10000.0</td>\n",
       "      <td>ID</td>\n",
       "      <td>45.845556</td>\n",
       "      <td>-115.030000</td>\n",
       "      <td>2011</td>\n",
       "      <td>2011-08-10</td>\n",
       "      <td>NaT</td>\n",
       "    </tr>\n",
       "    <tr>\n",
       "      <th>801533</th>\n",
       "      <td>None</td>\n",
       "      <td>10000.0</td>\n",
       "      <td>KY</td>\n",
       "      <td>37.474200</td>\n",
       "      <td>-82.995600</td>\n",
       "      <td>1999</td>\n",
       "      <td>1999-11-08</td>\n",
       "      <td>NaT</td>\n",
       "    </tr>\n",
       "    <tr>\n",
       "      <th>723084</th>\n",
       "      <td>Farley</td>\n",
       "      <td>10000.0</td>\n",
       "      <td>NM</td>\n",
       "      <td>36.239445</td>\n",
       "      <td>-104.142776</td>\n",
       "      <td>1996</td>\n",
       "      <td>1996-02-26</td>\n",
       "      <td>NaT</td>\n",
       "    </tr>\n",
       "    <tr>\n",
       "      <th>957906</th>\n",
       "      <td>Max Fish Camp</td>\n",
       "      <td>10000.0</td>\n",
       "      <td>FL</td>\n",
       "      <td>26.040000</td>\n",
       "      <td>-80.450000</td>\n",
       "      <td>1999</td>\n",
       "      <td>1999-05-18</td>\n",
       "      <td>NaT</td>\n",
       "    </tr>\n",
       "  </tbody>\n",
       "</table>\n",
       "<p>274 rows × 8 columns</p>\n",
       "</div>"
      ],
      "text/plain": [
       "                  fire_name  acres_burned state   latitude   longitude   \n",
       "1639394              Silver      234000.0    NM  32.888889 -107.809722  \\\n",
       "654163                Glass      220000.0    TX  31.742160 -101.043800   \n",
       "377944           Camp Creek      175815.0    AK  64.333340 -145.166700   \n",
       "512403   Pine Ridge Complex      121687.0    MT  45.922800 -107.856100   \n",
       "350860           Moose Lake      117920.0    AK  63.591100 -152.675700   \n",
       "...                     ...           ...   ...        ...         ...   \n",
       "1552706        Miller Ranch       10000.0    TX  32.626600 -101.680012   \n",
       "1455520           East Fork       10000.0    ID  45.845556 -115.030000   \n",
       "801533                 None       10000.0    KY  37.474200  -82.995600   \n",
       "723084               Farley       10000.0    NM  36.239445 -104.142776   \n",
       "957906        Max Fish Camp       10000.0    FL  26.040000  -80.450000   \n",
       "\n",
       "         fire_year discovery_date contain_date  \n",
       "1639394       2013     2013-06-07          NaT  \n",
       "654163        2008     2008-02-25          NaT  \n",
       "377944        2004     2004-06-23          NaT  \n",
       "512403        2006     2006-07-12          NaT  \n",
       "350860        2002     2002-07-17          NaT  \n",
       "...            ...            ...          ...  \n",
       "1552706       2011     2011-03-24          NaT  \n",
       "1455520       2011     2011-08-10          NaT  \n",
       "801533        1999     1999-11-08          NaT  \n",
       "723084        1996     1996-02-26          NaT  \n",
       "957906        1999     1999-05-18          NaT  \n",
       "\n",
       "[274 rows x 8 columns]"
      ]
     },
     "execution_count": 26,
     "metadata": {},
     "output_type": "execute_result"
    }
   ],
   "source": [
    "#how does contain_date != contain_date? If NaT?\n",
    "#looks like this returns all fires without a contain_data and >= 10K acres burned\n",
    "fires.query('contain_date != contain_date & acres_burned >= 10000') \\\n",
    "    .sort_values('acres_burned', ascending=False)"
   ]
  },
  {
   "cell_type": "code",
   "execution_count": 24,
   "metadata": {},
   "outputs": [
    {
     "data": {
      "text/html": [
       "<div>\n",
       "<style scoped>\n",
       "    .dataframe tbody tr th:only-of-type {\n",
       "        vertical-align: middle;\n",
       "    }\n",
       "\n",
       "    .dataframe tbody tr th {\n",
       "        vertical-align: top;\n",
       "    }\n",
       "\n",
       "    .dataframe thead th {\n",
       "        text-align: right;\n",
       "    }\n",
       "</style>\n",
       "<table border=\"1\" class=\"dataframe\">\n",
       "  <thead>\n",
       "    <tr style=\"text-align: right;\">\n",
       "      <th></th>\n",
       "      <th>fire_name</th>\n",
       "      <th>acres_burned</th>\n",
       "      <th>state</th>\n",
       "      <th>latitude</th>\n",
       "      <th>longitude</th>\n",
       "      <th>fire_year</th>\n",
       "      <th>discovery_date</th>\n",
       "      <th>contain_date</th>\n",
       "    </tr>\n",
       "  </thead>\n",
       "  <tbody>\n",
       "    <tr>\n",
       "      <th>211296</th>\n",
       "      <td>Inowak</td>\n",
       "      <td>606945.0</td>\n",
       "      <td>AK</td>\n",
       "      <td>61.982700</td>\n",
       "      <td>-157.085700</td>\n",
       "      <td>1997</td>\n",
       "      <td>1997-06-25</td>\n",
       "      <td>1997-09-09</td>\n",
       "    </tr>\n",
       "    <tr>\n",
       "      <th>1579574</th>\n",
       "      <td>Long Draw</td>\n",
       "      <td>558198.3</td>\n",
       "      <td>OR</td>\n",
       "      <td>42.391894</td>\n",
       "      <td>-117.893687</td>\n",
       "      <td>2012</td>\n",
       "      <td>2012-07-08</td>\n",
       "      <td>2012-07-30</td>\n",
       "    </tr>\n",
       "    <tr>\n",
       "      <th>1459664</th>\n",
       "      <td>Wallow</td>\n",
       "      <td>538049.0</td>\n",
       "      <td>AZ</td>\n",
       "      <td>33.606111</td>\n",
       "      <td>-109.449722</td>\n",
       "      <td>2011</td>\n",
       "      <td>2011-05-29</td>\n",
       "      <td>2011-07-12</td>\n",
       "    </tr>\n",
       "    <tr>\n",
       "      <th>305585</th>\n",
       "      <td>Boundary</td>\n",
       "      <td>537627.0</td>\n",
       "      <td>AK</td>\n",
       "      <td>65.266300</td>\n",
       "      <td>-146.885800</td>\n",
       "      <td>2004</td>\n",
       "      <td>2004-06-13</td>\n",
       "      <td>2004-09-30</td>\n",
       "    </tr>\n",
       "    <tr>\n",
       "      <th>1215267</th>\n",
       "      <td>Minto Flats South</td>\n",
       "      <td>517078.0</td>\n",
       "      <td>AK</td>\n",
       "      <td>64.746700</td>\n",
       "      <td>-149.504700</td>\n",
       "      <td>2009</td>\n",
       "      <td>2009-06-21</td>\n",
       "      <td>2009-09-11</td>\n",
       "    </tr>\n",
       "    <tr>\n",
       "      <th>...</th>\n",
       "      <td>...</td>\n",
       "      <td>...</td>\n",
       "      <td>...</td>\n",
       "      <td>...</td>\n",
       "      <td>...</td>\n",
       "      <td>...</td>\n",
       "      <td>...</td>\n",
       "      <td>...</td>\n",
       "    </tr>\n",
       "    <tr>\n",
       "      <th>241980</th>\n",
       "      <td>Terrill</td>\n",
       "      <td>100.0</td>\n",
       "      <td>MO</td>\n",
       "      <td>37.444010</td>\n",
       "      <td>-91.462270</td>\n",
       "      <td>1994</td>\n",
       "      <td>1994-04-17</td>\n",
       "      <td>1994-04-17</td>\n",
       "    </tr>\n",
       "    <tr>\n",
       "      <th>1564630</th>\n",
       "      <td>Goat</td>\n",
       "      <td>100.0</td>\n",
       "      <td>ID</td>\n",
       "      <td>45.977500</td>\n",
       "      <td>-114.878889</td>\n",
       "      <td>2012</td>\n",
       "      <td>2012-07-28</td>\n",
       "      <td>2012-10-25</td>\n",
       "    </tr>\n",
       "    <tr>\n",
       "      <th>241154</th>\n",
       "      <td>Easter 2</td>\n",
       "      <td>100.0</td>\n",
       "      <td>AR</td>\n",
       "      <td>36.108440</td>\n",
       "      <td>-92.439630</td>\n",
       "      <td>1994</td>\n",
       "      <td>1994-04-02</td>\n",
       "      <td>1994-04-03</td>\n",
       "    </tr>\n",
       "    <tr>\n",
       "      <th>240472</th>\n",
       "      <td>Moore #1</td>\n",
       "      <td>100.0</td>\n",
       "      <td>TX</td>\n",
       "      <td>35.632500</td>\n",
       "      <td>-101.683900</td>\n",
       "      <td>1997</td>\n",
       "      <td>1997-03-06</td>\n",
       "      <td>1997-03-06</td>\n",
       "    </tr>\n",
       "    <tr>\n",
       "      <th>1065833</th>\n",
       "      <td>Elbo</td>\n",
       "      <td>100.0</td>\n",
       "      <td>KS</td>\n",
       "      <td>39.243889</td>\n",
       "      <td>-96.481667</td>\n",
       "      <td>2008</td>\n",
       "      <td>2008-04-19</td>\n",
       "      <td>2008-04-19</td>\n",
       "    </tr>\n",
       "  </tbody>\n",
       "</table>\n",
       "<p>33759 rows × 8 columns</p>\n",
       "</div>"
      ],
      "text/plain": [
       "                 fire_name  acres_burned state   latitude   longitude  \\\n",
       "211296              Inowak      606945.0    AK  61.982700 -157.085700   \n",
       "1579574          Long Draw      558198.3    OR  42.391894 -117.893687   \n",
       "1459664             Wallow      538049.0    AZ  33.606111 -109.449722   \n",
       "305585            Boundary      537627.0    AK  65.266300 -146.885800   \n",
       "1215267  Minto Flats South      517078.0    AK  64.746700 -149.504700   \n",
       "...                    ...           ...   ...        ...         ...   \n",
       "241980             Terrill         100.0    MO  37.444010  -91.462270   \n",
       "1564630               Goat         100.0    ID  45.977500 -114.878889   \n",
       "241154            Easter 2         100.0    AR  36.108440  -92.439630   \n",
       "240472            Moore #1         100.0    TX  35.632500 -101.683900   \n",
       "1065833               Elbo         100.0    KS  39.243889  -96.481667   \n",
       "\n",
       "         fire_year discovery_date contain_date  \n",
       "211296        1997     1997-06-25   1997-09-09  \n",
       "1579574       2012     2012-07-08   2012-07-30  \n",
       "1459664       2011     2011-05-29   2011-07-12  \n",
       "305585        2004     2004-06-13   2004-09-30  \n",
       "1215267       2009     2009-06-21   2009-09-11  \n",
       "...            ...            ...          ...  \n",
       "241980        1994     1994-04-17   1994-04-17  \n",
       "1564630       2012     2012-07-28   2012-10-25  \n",
       "241154        1994     1994-04-02   1994-04-03  \n",
       "240472        1997     1997-03-06   1997-03-06  \n",
       "1065833       2008     2008-04-19   2008-04-19  \n",
       "\n",
       "[33759 rows x 8 columns]"
      ]
     },
     "execution_count": 24,
     "metadata": {},
     "output_type": "execute_result"
    }
   ],
   "source": [
    "#all fires with a contain_date that burned >= 100 acres\n",
    "fires.query('contain_date != \"NaT\" & acres_burned >= 100') \\\n",
    "    .sort_values('acres_burned', ascending=False)"
   ]
  },
  {
   "cell_type": "code",
   "execution_count": 27,
   "metadata": {},
   "outputs": [
    {
     "name": "stdout",
     "output_type": "stream",
     "text": [
      "<class 'pandas.core.frame.DataFrame'>\n",
      "Index: 274123 entries, 16 to 1880441\n",
      "Data columns (total 8 columns):\n",
      " #   Column          Non-Null Count   Dtype         \n",
      "---  ------          --------------   -----         \n",
      " 0   fire_name       128667 non-null  object        \n",
      " 1   acres_burned    274123 non-null  float64       \n",
      " 2   state           274123 non-null  object        \n",
      " 3   latitude        274123 non-null  float64       \n",
      " 4   longitude       274123 non-null  float64       \n",
      " 5   fire_year       274123 non-null  int64         \n",
      " 6   discovery_date  274123 non-null  datetime64[ns]\n",
      " 7   contain_date    137376 non-null  datetime64[ns]\n",
      "dtypes: datetime64[ns](2), float64(3), int64(1), object(2)\n",
      "memory usage: 18.8+ MB\n"
     ]
    }
   ],
   "source": [
    "fires.info()"
   ]
  },
  {
   "cell_type": "markdown",
   "metadata": {},
   "source": [
    "### Save and retrieve DataFrame"
   ]
  },
  {
   "cell_type": "code",
   "execution_count": 28,
   "metadata": {},
   "outputs": [],
   "source": [
    "#We didn't actually remove fires without a contain_date\n",
    "fires.to_pickle('fires_clean.pkl')"
   ]
  },
  {
   "cell_type": "code",
   "execution_count": 29,
   "metadata": {},
   "outputs": [],
   "source": [
    "fires = pd.read_pickle('fires_clean.pkl')"
   ]
  },
  {
   "cell_type": "markdown",
   "metadata": {},
   "source": [
    "## Prepare data"
   ]
  },
  {
   "cell_type": "code",
   "execution_count": 30,
   "metadata": {},
   "outputs": [],
   "source": [
    "#sweet, pandas .dt class to return datetime parts\n",
    "fires['fire_month'] = fires.discovery_date.dt.month"
   ]
  },
  {
   "cell_type": "code",
   "execution_count": 31,
   "metadata": {},
   "outputs": [],
   "source": [
    "fires['days_burning'] = (fires.contain_date - fires.discovery_date).dt.days"
   ]
  },
  {
   "cell_type": "code",
   "execution_count": 32,
   "metadata": {},
   "outputs": [
    {
     "data": {
      "text/plain": [
       "count    137376.000000\n",
       "mean          3.254520\n",
       "std          16.052833\n",
       "min           0.000000\n",
       "25%           0.000000\n",
       "50%           0.000000\n",
       "75%           1.000000\n",
       "max        1881.000000\n",
       "Name: days_burning, dtype: float64"
      ]
     },
     "execution_count": 32,
     "metadata": {},
     "output_type": "execute_result"
    }
   ],
   "source": [
    "fires.days_burning.describe()"
   ]
  },
  {
   "cell_type": "code",
   "execution_count": 33,
   "metadata": {},
   "outputs": [
    {
     "data": {
      "text/html": [
       "<div>\n",
       "<style scoped>\n",
       "    .dataframe tbody tr th:only-of-type {\n",
       "        vertical-align: middle;\n",
       "    }\n",
       "\n",
       "    .dataframe tbody tr th {\n",
       "        vertical-align: top;\n",
       "    }\n",
       "\n",
       "    .dataframe thead th {\n",
       "        text-align: right;\n",
       "    }\n",
       "</style>\n",
       "<table border=\"1\" class=\"dataframe\">\n",
       "  <thead>\n",
       "    <tr style=\"text-align: right;\">\n",
       "      <th></th>\n",
       "      <th>fire_name</th>\n",
       "      <th>acres_burned</th>\n",
       "      <th>discovery_date</th>\n",
       "      <th>contain_date</th>\n",
       "      <th>days_burning</th>\n",
       "    </tr>\n",
       "  </thead>\n",
       "  <tbody>\n",
       "    <tr>\n",
       "      <th>356156</th>\n",
       "      <td>Buenavista</td>\n",
       "      <td>120.0</td>\n",
       "      <td>2000-08-07</td>\n",
       "      <td>2005-10-01</td>\n",
       "      <td>1881.0</td>\n",
       "    </tr>\n",
       "    <tr>\n",
       "      <th>305237</th>\n",
       "      <td>Kiliovilik</td>\n",
       "      <td>100.0</td>\n",
       "      <td>2001-06-11</td>\n",
       "      <td>2004-06-16</td>\n",
       "      <td>1101.0</td>\n",
       "    </tr>\n",
       "    <tr>\n",
       "      <th>357487</th>\n",
       "      <td>Road 09-08 Wf</td>\n",
       "      <td>900.0</td>\n",
       "      <td>2006-03-05</td>\n",
       "      <td>2008-03-09</td>\n",
       "      <td>735.0</td>\n",
       "    </tr>\n",
       "    <tr>\n",
       "      <th>1324066</th>\n",
       "      <td>Jims Branch</td>\n",
       "      <td>158.0</td>\n",
       "      <td>1994-11-05</td>\n",
       "      <td>1996-11-06</td>\n",
       "      <td>732.0</td>\n",
       "    </tr>\n",
       "    <tr>\n",
       "      <th>1227849</th>\n",
       "      <td>30305</td>\n",
       "      <td>250.0</td>\n",
       "      <td>2003-03-25</td>\n",
       "      <td>2005-03-25</td>\n",
       "      <td>731.0</td>\n",
       "    </tr>\n",
       "    <tr>\n",
       "      <th>...</th>\n",
       "      <td>...</td>\n",
       "      <td>...</td>\n",
       "      <td>...</td>\n",
       "      <td>...</td>\n",
       "      <td>...</td>\n",
       "    </tr>\n",
       "    <tr>\n",
       "      <th>1879328</th>\n",
       "      <td>None</td>\n",
       "      <td>149.0</td>\n",
       "      <td>2013-05-28</td>\n",
       "      <td>NaT</td>\n",
       "      <td>NaN</td>\n",
       "    </tr>\n",
       "    <tr>\n",
       "      <th>1879498</th>\n",
       "      <td>Trabing</td>\n",
       "      <td>630.0</td>\n",
       "      <td>2008-06-20</td>\n",
       "      <td>NaT</td>\n",
       "      <td>NaN</td>\n",
       "    </tr>\n",
       "    <tr>\n",
       "      <th>1879564</th>\n",
       "      <td>Forty Nine</td>\n",
       "      <td>311.0</td>\n",
       "      <td>2009-08-30</td>\n",
       "      <td>NaT</td>\n",
       "      <td>NaN</td>\n",
       "    </tr>\n",
       "    <tr>\n",
       "      <th>1879892</th>\n",
       "      <td>Red</td>\n",
       "      <td>134.0</td>\n",
       "      <td>2015-06-21</td>\n",
       "      <td>NaT</td>\n",
       "      <td>NaN</td>\n",
       "    </tr>\n",
       "    <tr>\n",
       "      <th>1879968</th>\n",
       "      <td>Popcorn</td>\n",
       "      <td>3000.0</td>\n",
       "      <td>2008-06-22</td>\n",
       "      <td>NaT</td>\n",
       "      <td>NaN</td>\n",
       "    </tr>\n",
       "  </tbody>\n",
       "</table>\n",
       "<p>54093 rows × 5 columns</p>\n",
       "</div>"
      ],
      "text/plain": [
       "             fire_name  acres_burned discovery_date contain_date  days_burning\n",
       "356156      Buenavista         120.0     2000-08-07   2005-10-01        1881.0\n",
       "305237      Kiliovilik         100.0     2001-06-11   2004-06-16        1101.0\n",
       "357487   Road 09-08 Wf         900.0     2006-03-05   2008-03-09         735.0\n",
       "1324066    Jims Branch         158.0     1994-11-05   1996-11-06         732.0\n",
       "1227849          30305         250.0     2003-03-25   2005-03-25         731.0\n",
       "...                ...           ...            ...          ...           ...\n",
       "1879328           None         149.0     2013-05-28          NaT           NaN\n",
       "1879498        Trabing         630.0     2008-06-20          NaT           NaN\n",
       "1879564     Forty Nine         311.0     2009-08-30          NaT           NaN\n",
       "1879892            Red         134.0     2015-06-21          NaT           NaN\n",
       "1879968        Popcorn        3000.0     2008-06-22          NaT           NaN\n",
       "\n",
       "[54093 rows x 5 columns]"
      ]
     },
     "execution_count": 33,
     "metadata": {},
     "output_type": "execute_result"
    }
   ],
   "source": [
    "fires.query('acres_burned >= 100')[['fire_name','acres_burned',\n",
    "    'discovery_date','contain_date','days_burning']] \\\n",
    "    .sort_values('days_burning', ascending=False)"
   ]
  },
  {
   "cell_type": "code",
   "execution_count": 34,
   "metadata": {},
   "outputs": [],
   "source": [
    "fires.to_pickle('fires_prepared.pkl')"
   ]
  },
  {
   "cell_type": "code",
   "execution_count": 35,
   "metadata": {},
   "outputs": [],
   "source": [
    "fires = pd.read_pickle('fires_prepared.pkl')"
   ]
  },
  {
   "cell_type": "markdown",
   "metadata": {},
   "source": [
    "## Analyze the data"
   ]
  },
  {
   "attachments": {},
   "cell_type": "markdown",
   "metadata": {},
   "source": [
    "### Analyze the data for Oregon"
   ]
  },
  {
   "cell_type": "code",
   "execution_count": 40,
   "metadata": {},
   "outputs": [
    {
     "data": {
      "text/html": [
       "<div>\n",
       "<style scoped>\n",
       "    .dataframe tbody tr th:only-of-type {\n",
       "        vertical-align: middle;\n",
       "    }\n",
       "\n",
       "    .dataframe tbody tr th {\n",
       "        vertical-align: top;\n",
       "    }\n",
       "\n",
       "    .dataframe thead th {\n",
       "        text-align: right;\n",
       "    }\n",
       "</style>\n",
       "<table border=\"1\" class=\"dataframe\">\n",
       "  <thead>\n",
       "    <tr style=\"text-align: right;\">\n",
       "      <th></th>\n",
       "      <th>fire_name</th>\n",
       "      <th>acres_burned</th>\n",
       "      <th>state</th>\n",
       "      <th>latitude</th>\n",
       "      <th>longitude</th>\n",
       "      <th>fire_year</th>\n",
       "      <th>discovery_date</th>\n",
       "      <th>contain_date</th>\n",
       "      <th>fire_month</th>\n",
       "      <th>days_burning</th>\n",
       "    </tr>\n",
       "  </thead>\n",
       "  <tbody>\n",
       "    <tr>\n",
       "      <th>1702</th>\n",
       "      <td>Cemetery</td>\n",
       "      <td>13.0</td>\n",
       "      <td>OR</td>\n",
       "      <td>45.687500</td>\n",
       "      <td>-121.328056</td>\n",
       "      <td>2005</td>\n",
       "      <td>2005-08-12</td>\n",
       "      <td>2005-08-12</td>\n",
       "      <td>8</td>\n",
       "      <td>0.0</td>\n",
       "    </tr>\n",
       "    <tr>\n",
       "      <th>1744</th>\n",
       "      <td>King Creek</td>\n",
       "      <td>10.0</td>\n",
       "      <td>OR</td>\n",
       "      <td>44.304167</td>\n",
       "      <td>-118.156667</td>\n",
       "      <td>2005</td>\n",
       "      <td>2005-07-31</td>\n",
       "      <td>2005-08-04</td>\n",
       "      <td>7</td>\n",
       "      <td>4.0</td>\n",
       "    </tr>\n",
       "    <tr>\n",
       "      <th>1746</th>\n",
       "      <td>Potamus</td>\n",
       "      <td>54.5</td>\n",
       "      <td>OR</td>\n",
       "      <td>45.016111</td>\n",
       "      <td>-119.256111</td>\n",
       "      <td>2005</td>\n",
       "      <td>2005-08-01</td>\n",
       "      <td>2005-08-08</td>\n",
       "      <td>8</td>\n",
       "      <td>7.0</td>\n",
       "    </tr>\n",
       "    <tr>\n",
       "      <th>1747</th>\n",
       "      <td>North Potamus</td>\n",
       "      <td>24.0</td>\n",
       "      <td>OR</td>\n",
       "      <td>45.029722</td>\n",
       "      <td>-119.246667</td>\n",
       "      <td>2005</td>\n",
       "      <td>2005-08-01</td>\n",
       "      <td>2005-08-08</td>\n",
       "      <td>8</td>\n",
       "      <td>7.0</td>\n",
       "    </tr>\n",
       "    <tr>\n",
       "      <th>1804</th>\n",
       "      <td>Burnt Cabin</td>\n",
       "      <td>1977.0</td>\n",
       "      <td>OR</td>\n",
       "      <td>45.840833</td>\n",
       "      <td>-118.067778</td>\n",
       "      <td>2005</td>\n",
       "      <td>2005-08-14</td>\n",
       "      <td>2005-09-11</td>\n",
       "      <td>8</td>\n",
       "      <td>28.0</td>\n",
       "    </tr>\n",
       "  </tbody>\n",
       "</table>\n",
       "</div>"
      ],
      "text/plain": [
       "          fire_name  acres_burned state   latitude   longitude  fire_year   \n",
       "1702       Cemetery          13.0    OR  45.687500 -121.328056       2005  \\\n",
       "1744     King Creek          10.0    OR  44.304167 -118.156667       2005   \n",
       "1746        Potamus          54.5    OR  45.016111 -119.256111       2005   \n",
       "1747  North Potamus          24.0    OR  45.029722 -119.246667       2005   \n",
       "1804    Burnt Cabin        1977.0    OR  45.840833 -118.067778       2005   \n",
       "\n",
       "     discovery_date contain_date  fire_month  days_burning  \n",
       "1702     2005-08-12   2005-08-12           8           0.0  \n",
       "1744     2005-07-31   2005-08-04           7           4.0  \n",
       "1746     2005-08-01   2005-08-08           8           7.0  \n",
       "1747     2005-08-01   2005-08-08           8           7.0  \n",
       "1804     2005-08-14   2005-09-11           8          28.0  "
      ]
     },
     "execution_count": 40,
     "metadata": {},
     "output_type": "execute_result"
    }
   ],
   "source": [
    "#fires where fires.state == \"OR\"\n",
    "fires[fires.state == \"OR\"].head()"
   ]
  },
  {
   "cell_type": "code",
   "execution_count": 41,
   "metadata": {},
   "outputs": [
    {
     "data": {
      "text/html": [
       "<div>\n",
       "<style scoped>\n",
       "    .dataframe tbody tr th:only-of-type {\n",
       "        vertical-align: middle;\n",
       "    }\n",
       "\n",
       "    .dataframe tbody tr th {\n",
       "        vertical-align: top;\n",
       "    }\n",
       "\n",
       "    .dataframe thead th {\n",
       "        text-align: right;\n",
       "    }\n",
       "</style>\n",
       "<table border=\"1\" class=\"dataframe\">\n",
       "  <thead>\n",
       "    <tr style=\"text-align: right;\">\n",
       "      <th></th>\n",
       "      <th>count</th>\n",
       "      <th>mean</th>\n",
       "      <th>std</th>\n",
       "      <th>min</th>\n",
       "      <th>25%</th>\n",
       "      <th>50%</th>\n",
       "      <th>75%</th>\n",
       "      <th>max</th>\n",
       "    </tr>\n",
       "  </thead>\n",
       "  <tbody>\n",
       "    <tr>\n",
       "      <th>acres_burned</th>\n",
       "      <td>3762.0</td>\n",
       "      <td>2229.215080</td>\n",
       "      <td>16893.645977</td>\n",
       "      <td>10.0</td>\n",
       "      <td>23.0</td>\n",
       "      <td>69.95</td>\n",
       "      <td>352.75</td>\n",
       "      <td>558198.3</td>\n",
       "    </tr>\n",
       "    <tr>\n",
       "      <th>days_burning</th>\n",
       "      <td>3716.0</td>\n",
       "      <td>8.310818</td>\n",
       "      <td>20.505837</td>\n",
       "      <td>0.0</td>\n",
       "      <td>1.0</td>\n",
       "      <td>2.00</td>\n",
       "      <td>6.00</td>\n",
       "      <td>370.0</td>\n",
       "    </tr>\n",
       "  </tbody>\n",
       "</table>\n",
       "</div>"
      ],
      "text/plain": [
       "               count         mean           std   min   25%    50%     75%   \n",
       "acres_burned  3762.0  2229.215080  16893.645977  10.0  23.0  69.95  352.75  \\\n",
       "days_burning  3716.0     8.310818     20.505837   0.0   1.0   2.00    6.00   \n",
       "\n",
       "                   max  \n",
       "acres_burned  558198.3  \n",
       "days_burning     370.0  "
      ]
     },
     "execution_count": 41,
     "metadata": {},
     "output_type": "execute_result"
    }
   ],
   "source": [
    "fires.query('state == \"OR\"')[['acres_burned','days_burning']].describe().T"
   ]
  },
  {
   "cell_type": "code",
   "execution_count": 42,
   "metadata": {},
   "outputs": [
    {
     "data": {
      "text/plain": [
       "<Axes: title={'center': 'Largest Fire in Oregon by Year'}, xlabel='fire_year', ylabel='acres_burned'>"
      ]
     },
     "execution_count": 42,
     "metadata": {},
     "output_type": "execute_result"
    },
    {
     "data": {
      "image/png": "[encoded data removed]",
      "text/plain": [
       "<Figure size 640x480 with 1 Axes>"
      ]
     },
     "metadata": {},
     "output_type": "display_data"
    }
   ],
   "source": [
    "fires.query('state == \"OR\"') \\\n",
    "    .groupby('fire_year').acres_burned.max() \\\n",
    "    .plot.bar(ylabel='acres_burned', \n",
    "              title='Largest Fire in Oregon by Year')"
   ]
  },
  {
   "cell_type": "code",
   "execution_count": 43,
   "metadata": {},
   "outputs": [
    {
     "data": {
      "text/plain": [
       "<Axes: title={'center': 'Mean and Median Fire Sizes in Oregon by Year'}, xlabel='fire_year'>"
      ]
     },
     "execution_count": 43,
     "metadata": {},
     "output_type": "execute_result"
    },
    {
     "data": {
      "image/png": "[encoded data removed]",
      "text/plain": [
       "<Figure size 640x480 with 1 Axes>"
      ]
     },
     "metadata": {},
     "output_type": "display_data"
    }
   ],
   "source": [
    "fires.query('state == \"OR\"') \\\n",
    "    .groupby('fire_year').acres_burned.agg(['mean','median']) \\\n",
    "    .plot(title='Mean and Median Fire Sizes in Oregon by Year')"
   ]
  },
  {
   "cell_type": "code",
   "execution_count": 45,
   "metadata": {},
   "outputs": [
    {
     "data": {
      "text/plain": [
       "<Axes: title={'center': 'Number of Fires by Month in Oregon'}, xlabel='fire_month'>"
      ]
     },
     "execution_count": 45,
     "metadata": {},
     "output_type": "execute_result"
    },
    {
     "data": {
      "image/png": "[encoded data removed]",
      "text/plain": [
       "<Figure size 640x480 with 1 Axes>"
      ]
     },
     "metadata": {},
     "output_type": "display_data"
    }
   ],
   "source": [
    "st = 'OR'\n",
    "state = 'Oregon'\n",
    "fires.query(f'state == \"{st}\"') \\\n",
    "    .groupby('fire_month').acres_burned.count() \\\n",
    "    .plot.bar(title=f'Number of Fires by Month in {state}')"
   ]
  },
  {
   "cell_type": "code",
   "execution_count": 47,
   "metadata": {},
   "outputs": [
    {
     "data": {
      "text/plain": [
       "<seaborn.axisgrid.FacetGrid at 0x20913319c90>"
      ]
     },
     "execution_count": 47,
     "metadata": {},
     "output_type": "execute_result"
    },
    {
     "data": {
      "image/png": "[encoded data removed]",
      "text/plain": [
       "<Figure size 500x500 with 1 Axes>"
      ]
     },
     "metadata": {},
     "output_type": "display_data"
    }
   ],
   "source": [
    "sns.catplot(data=fires.query(f'state == \"{st}\" & acres_burned >= 10000'),\n",
    "            kind='box', x='fire_month', y='acres_burned')"
   ]
  },
  {
   "cell_type": "markdown",
   "metadata": {},
   "source": [
    "### Rank the states by total acres burned"
   ]
  },
  {
   "cell_type": "code",
   "execution_count": 48,
   "metadata": {},
   "outputs": [],
   "source": [
    "#pandas .to_frame sends series to dataframe\n",
    "fires_states = fires.groupby('state').acres_burned.sum().to_frame()"
   ]
  },
  {
   "cell_type": "code",
   "execution_count": 49,
   "metadata": {},
   "outputs": [
    {
     "data": {
      "text/html": [
       "<div>\n",
       "<style scoped>\n",
       "    .dataframe tbody tr th:only-of-type {\n",
       "        vertical-align: middle;\n",
       "    }\n",
       "\n",
       "    .dataframe tbody tr th {\n",
       "        vertical-align: top;\n",
       "    }\n",
       "\n",
       "    .dataframe thead th {\n",
       "        text-align: right;\n",
       "    }\n",
       "</style>\n",
       "<table border=\"1\" class=\"dataframe\">\n",
       "  <thead>\n",
       "    <tr style=\"text-align: right;\">\n",
       "      <th></th>\n",
       "      <th>acres_burned</th>\n",
       "      <th>state_rank</th>\n",
       "    </tr>\n",
       "    <tr>\n",
       "      <th>state</th>\n",
       "      <th></th>\n",
       "      <th></th>\n",
       "    </tr>\n",
       "  </thead>\n",
       "  <tbody>\n",
       "    <tr>\n",
       "      <th>AK</th>\n",
       "      <td>3.222601e+07</td>\n",
       "      <td>1.0</td>\n",
       "    </tr>\n",
       "    <tr>\n",
       "      <th>ID</th>\n",
       "      <td>1.366231e+07</td>\n",
       "      <td>2.0</td>\n",
       "    </tr>\n",
       "    <tr>\n",
       "      <th>CA</th>\n",
       "      <td>1.261078e+07</td>\n",
       "      <td>3.0</td>\n",
       "    </tr>\n",
       "    <tr>\n",
       "      <th>TX</th>\n",
       "      <td>9.588463e+06</td>\n",
       "      <td>4.0</td>\n",
       "    </tr>\n",
       "    <tr>\n",
       "      <th>NV</th>\n",
       "      <td>9.006310e+06</td>\n",
       "      <td>5.0</td>\n",
       "    </tr>\n",
       "  </tbody>\n",
       "</table>\n",
       "</div>"
      ],
      "text/plain": [
       "       acres_burned  state_rank\n",
       "state                          \n",
       "AK     3.222601e+07         1.0\n",
       "ID     1.366231e+07         2.0\n",
       "CA     1.261078e+07         3.0\n",
       "TX     9.588463e+06         4.0\n",
       "NV     9.006310e+06         5.0"
      ]
     },
     "execution_count": 49,
     "metadata": {},
     "output_type": "execute_result"
    }
   ],
   "source": [
    "fires_states['state_rank'] = \\\n",
    "    fires_states['acres_burned'].rank(ascending=False) #pandas .rank assigns 1 through n\n",
    "fires_states.sort_values('state_rank', inplace=True)\n",
    "fires_states.head()"
   ]
  },
  {
   "cell_type": "code",
   "execution_count": 50,
   "metadata": {},
   "outputs": [
    {
     "data": {
      "text/plain": [
       "<Axes: title={'center': 'Total Acres Burned in the Top 10 States'}, xlabel='state', ylabel='ten millions of acreas'>"
      ]
     },
     "execution_count": 50,
     "metadata": {},
     "output_type": "execute_result"
    },
    {
     "data": {
      "image/png": "[encoded data removed]",
      "text/plain": [
       "<Figure size 640x480 with 1 Axes>"
      ]
     },
     "metadata": {},
     "output_type": "display_data"
    }
   ],
   "source": [
    "fires_states.query('state_rank <= 10') \\\n",
    "    .plot.bar(y='acres_burned', ylabel='ten millions of acreas',\n",
    "              title='Total Acres Burned in the Top 10 States')"
   ]
  },
  {
   "cell_type": "markdown",
   "metadata": {},
   "source": [
    "### Prepare a DataFrame for acres burned by year and state"
   ]
  },
  {
   "cell_type": "code",
   "execution_count": 51,
   "metadata": {},
   "outputs": [
    {
     "data": {
      "text/html": [
       "<div>\n",
       "<style scoped>\n",
       "    .dataframe tbody tr th:only-of-type {\n",
       "        vertical-align: middle;\n",
       "    }\n",
       "\n",
       "    .dataframe tbody tr th {\n",
       "        vertical-align: top;\n",
       "    }\n",
       "\n",
       "    .dataframe thead th {\n",
       "        text-align: right;\n",
       "    }\n",
       "</style>\n",
       "<table border=\"1\" class=\"dataframe\">\n",
       "  <thead>\n",
       "    <tr style=\"text-align: right;\">\n",
       "      <th></th>\n",
       "      <th></th>\n",
       "      <th>acres_burned</th>\n",
       "    </tr>\n",
       "    <tr>\n",
       "      <th>state</th>\n",
       "      <th>fire_year</th>\n",
       "      <th></th>\n",
       "    </tr>\n",
       "  </thead>\n",
       "  <tbody>\n",
       "    <tr>\n",
       "      <th rowspan=\"4\" valign=\"top\">AK</th>\n",
       "      <th>1992</th>\n",
       "      <td>142444.7</td>\n",
       "    </tr>\n",
       "    <tr>\n",
       "      <th>1993</th>\n",
       "      <td>686630.5</td>\n",
       "    </tr>\n",
       "    <tr>\n",
       "      <th>1994</th>\n",
       "      <td>261604.7</td>\n",
       "    </tr>\n",
       "    <tr>\n",
       "      <th>1995</th>\n",
       "      <td>43762.6</td>\n",
       "    </tr>\n",
       "  </tbody>\n",
       "</table>\n",
       "</div>"
      ],
      "text/plain": [
       "                 acres_burned\n",
       "state fire_year              \n",
       "AK    1992           142444.7\n",
       "      1993           686630.5\n",
       "      1994           261604.7\n",
       "      1995            43762.6"
      ]
     },
     "execution_count": 51,
     "metadata": {},
     "output_type": "execute_result"
    }
   ],
   "source": [
    "fires_states_years = \\\n",
    "    fires.groupby(['state','fire_year']).acres_burned.sum().to_frame()\n",
    "fires_states_years.head(4)"
   ]
  },
  {
   "cell_type": "code",
   "execution_count": 52,
   "metadata": {},
   "outputs": [
    {
     "data": {
      "text/html": [
       "<div>\n",
       "<style scoped>\n",
       "    .dataframe tbody tr th:only-of-type {\n",
       "        vertical-align: middle;\n",
       "    }\n",
       "\n",
       "    .dataframe tbody tr th {\n",
       "        vertical-align: top;\n",
       "    }\n",
       "\n",
       "    .dataframe thead th {\n",
       "        text-align: right;\n",
       "    }\n",
       "</style>\n",
       "<table border=\"1\" class=\"dataframe\">\n",
       "  <thead>\n",
       "    <tr style=\"text-align: right;\">\n",
       "      <th></th>\n",
       "      <th></th>\n",
       "      <th>acres_burned_by_year</th>\n",
       "      <th>acres_burned_total</th>\n",
       "      <th>state_rank</th>\n",
       "    </tr>\n",
       "    <tr>\n",
       "      <th>state</th>\n",
       "      <th>fire_year</th>\n",
       "      <th></th>\n",
       "      <th></th>\n",
       "      <th></th>\n",
       "    </tr>\n",
       "  </thead>\n",
       "  <tbody>\n",
       "    <tr>\n",
       "      <th rowspan=\"4\" valign=\"top\">AK</th>\n",
       "      <th>1992</th>\n",
       "      <td>142444.7</td>\n",
       "      <td>3.222601e+07</td>\n",
       "      <td>1.0</td>\n",
       "    </tr>\n",
       "    <tr>\n",
       "      <th>1993</th>\n",
       "      <td>686630.5</td>\n",
       "      <td>3.222601e+07</td>\n",
       "      <td>1.0</td>\n",
       "    </tr>\n",
       "    <tr>\n",
       "      <th>1994</th>\n",
       "      <td>261604.7</td>\n",
       "      <td>3.222601e+07</td>\n",
       "      <td>1.0</td>\n",
       "    </tr>\n",
       "    <tr>\n",
       "      <th>1995</th>\n",
       "      <td>43762.6</td>\n",
       "      <td>3.222601e+07</td>\n",
       "      <td>1.0</td>\n",
       "    </tr>\n",
       "  </tbody>\n",
       "</table>\n",
       "</div>"
      ],
      "text/plain": [
       "                 acres_burned_by_year  acres_burned_total  state_rank\n",
       "state fire_year                                                      \n",
       "AK    1992                   142444.7        3.222601e+07         1.0\n",
       "      1993                   686630.5        3.222601e+07         1.0\n",
       "      1994                   261604.7        3.222601e+07         1.0\n",
       "      1995                    43762.6        3.222601e+07         1.0"
      ]
     },
     "execution_count": 52,
     "metadata": {},
     "output_type": "execute_result"
    }
   ],
   "source": [
    "#join(right table, suffixes for left and right series?)\n",
    "#can join on key column if passed, defaults to index-on-index\n",
    "\n",
    "fires_states_years = fires_states_years.join(fires_states, \n",
    "    lsuffix='_by_year', rsuffix='_total')\n",
    "fires_states_years.head(4)"
   ]
  },
  {
   "cell_type": "code",
   "execution_count": 54,
   "metadata": {},
   "outputs": [
    {
     "data": {
      "text/html": [
       "<div>\n",
       "<style scoped>\n",
       "    .dataframe tbody tr th:only-of-type {\n",
       "        vertical-align: middle;\n",
       "    }\n",
       "\n",
       "    .dataframe tbody tr th {\n",
       "        vertical-align: top;\n",
       "    }\n",
       "\n",
       "    .dataframe thead th {\n",
       "        text-align: right;\n",
       "    }\n",
       "</style>\n",
       "<table border=\"1\" class=\"dataframe\">\n",
       "  <thead>\n",
       "    <tr style=\"text-align: right;\">\n",
       "      <th></th>\n",
       "      <th>state</th>\n",
       "      <th>fire_year</th>\n",
       "      <th>acres_burned_by_year</th>\n",
       "      <th>acres_burned_total</th>\n",
       "      <th>state_rank</th>\n",
       "    </tr>\n",
       "  </thead>\n",
       "  <tbody>\n",
       "    <tr>\n",
       "      <th>0</th>\n",
       "      <td>AK</td>\n",
       "      <td>1992</td>\n",
       "      <td>142444.7</td>\n",
       "      <td>3.222601e+07</td>\n",
       "      <td>1.0</td>\n",
       "    </tr>\n",
       "    <tr>\n",
       "      <th>1</th>\n",
       "      <td>AK</td>\n",
       "      <td>1993</td>\n",
       "      <td>686630.5</td>\n",
       "      <td>3.222601e+07</td>\n",
       "      <td>1.0</td>\n",
       "    </tr>\n",
       "    <tr>\n",
       "      <th>2</th>\n",
       "      <td>AK</td>\n",
       "      <td>1994</td>\n",
       "      <td>261604.7</td>\n",
       "      <td>3.222601e+07</td>\n",
       "      <td>1.0</td>\n",
       "    </tr>\n",
       "    <tr>\n",
       "      <th>3</th>\n",
       "      <td>AK</td>\n",
       "      <td>1995</td>\n",
       "      <td>43762.6</td>\n",
       "      <td>3.222601e+07</td>\n",
       "      <td>1.0</td>\n",
       "    </tr>\n",
       "  </tbody>\n",
       "</table>\n",
       "</div>"
      ],
      "text/plain": [
       "  state  fire_year  acres_burned_by_year  acres_burned_total  state_rank\n",
       "0    AK       1992              142444.7        3.222601e+07         1.0\n",
       "1    AK       1993              686630.5        3.222601e+07         1.0\n",
       "2    AK       1994              261604.7        3.222601e+07         1.0\n",
       "3    AK       1995               43762.6        3.222601e+07         1.0"
      ]
     },
     "execution_count": 54,
     "metadata": {},
     "output_type": "execute_result"
    }
   ],
   "source": [
    "fires_states_top4 = fires_states_years.query('state_rank <= 4')\n",
    "fires_states_top4 = fires_states_top4.reset_index()\n",
    "fires_states_top4.head(4)"
   ]
  },
  {
   "cell_type": "code",
   "execution_count": 55,
   "metadata": {},
   "outputs": [
    {
     "data": {
      "image/png": "[encoded data removed]",
      "text/plain": [
       "<Figure size 1000x1000 with 4 Axes>"
      ]
     },
     "metadata": {},
     "output_type": "display_data"
    }
   ],
   "source": [
    "g = sns.relplot(data=fires_states_top4, kind='line', \n",
    "    x='fire_year', y='acres_burned_by_year', hue='state',\n",
    "    col='state', col_wrap=2, legend=False)\n",
    "\n",
    "g.fig.suptitle('Total Acres Burned by Year in the Top 4 States', y=1.025)\n",
    "for ax in g.axes.flat: \n",
    "    ax.set_xlabel('Fire Year')\n",
    "    ax.set_ylabel('Millions of Acres')"
   ]
  },
  {
   "cell_type": "markdown",
   "metadata": {},
   "source": [
    "## Visualize data"
   ]
  },
  {
   "attachments": {},
   "cell_type": "markdown",
   "metadata": {},
   "source": [
    "### Review the top 20 fires in a state"
   ]
  },
  {
   "cell_type": "code",
   "execution_count": 56,
   "metadata": {},
   "outputs": [
    {
     "data": {
      "text/html": [
       "<div>\n",
       "<style scoped>\n",
       "    .dataframe tbody tr th:only-of-type {\n",
       "        vertical-align: middle;\n",
       "    }\n",
       "\n",
       "    .dataframe tbody tr th {\n",
       "        vertical-align: top;\n",
       "    }\n",
       "\n",
       "    .dataframe thead th {\n",
       "        text-align: right;\n",
       "    }\n",
       "</style>\n",
       "<table border=\"1\" class=\"dataframe\">\n",
       "  <thead>\n",
       "    <tr style=\"text-align: right;\">\n",
       "      <th></th>\n",
       "      <th>fire_year</th>\n",
       "      <th>fire_name</th>\n",
       "      <th>acres_burned</th>\n",
       "      <th>days_burning</th>\n",
       "    </tr>\n",
       "  </thead>\n",
       "  <tbody>\n",
       "    <tr>\n",
       "      <th>1579574</th>\n",
       "      <td>2012</td>\n",
       "      <td>Long Draw</td>\n",
       "      <td>558198.3</td>\n",
       "      <td>22.0</td>\n",
       "    </tr>\n",
       "    <tr>\n",
       "      <th>153705</th>\n",
       "      <td>2002</td>\n",
       "      <td>Biscuit</td>\n",
       "      <td>499945.0</td>\n",
       "      <td>118.0</td>\n",
       "    </tr>\n",
       "    <tr>\n",
       "      <th>1578265</th>\n",
       "      <td>2012</td>\n",
       "      <td>Holloway</td>\n",
       "      <td>461047.0</td>\n",
       "      <td>26.0</td>\n",
       "    </tr>\n",
       "    <tr>\n",
       "      <th>1734936</th>\n",
       "      <td>2014</td>\n",
       "      <td>Saddle Draw</td>\n",
       "      <td>280141.0</td>\n",
       "      <td>51.0</td>\n",
       "    </tr>\n",
       "    <tr>\n",
       "      <th>1579091</th>\n",
       "      <td>2012</td>\n",
       "      <td>Miller Homestead</td>\n",
       "      <td>160801.0</td>\n",
       "      <td>131.0</td>\n",
       "    </tr>\n",
       "    <tr>\n",
       "      <th>188458</th>\n",
       "      <td>1996</td>\n",
       "      <td>Simnasho</td>\n",
       "      <td>118230.0</td>\n",
       "      <td>40.0</td>\n",
       "    </tr>\n",
       "    <tr>\n",
       "      <th>1802569</th>\n",
       "      <td>2015</td>\n",
       "      <td>Canyon Creek</td>\n",
       "      <td>101028.0</td>\n",
       "      <td>81.0</td>\n",
       "    </tr>\n",
       "    <tr>\n",
       "      <th>1569018</th>\n",
       "      <td>2012</td>\n",
       "      <td>Barry Point</td>\n",
       "      <td>92977.0</td>\n",
       "      <td>42.0</td>\n",
       "    </tr>\n",
       "    <tr>\n",
       "      <th>1734144</th>\n",
       "      <td>2014</td>\n",
       "      <td>Buzzard</td>\n",
       "      <td>87141.0</td>\n",
       "      <td>51.0</td>\n",
       "    </tr>\n",
       "    <tr>\n",
       "      <th>340759</th>\n",
       "      <td>2001</td>\n",
       "      <td>Big Junipe</td>\n",
       "      <td>80548.0</td>\n",
       "      <td>22.0</td>\n",
       "    </tr>\n",
       "  </tbody>\n",
       "</table>\n",
       "</div>"
      ],
      "text/plain": [
       "         fire_year         fire_name  acres_burned  days_burning\n",
       "1579574       2012         Long Draw      558198.3          22.0\n",
       "153705        2002           Biscuit      499945.0         118.0\n",
       "1578265       2012          Holloway      461047.0          26.0\n",
       "1734936       2014       Saddle Draw      280141.0          51.0\n",
       "1579091       2012  Miller Homestead      160801.0         131.0\n",
       "188458        1996          Simnasho      118230.0          40.0\n",
       "1802569       2015      Canyon Creek      101028.0          81.0\n",
       "1569018       2012       Barry Point       92977.0          42.0\n",
       "1734144       2014           Buzzard       87141.0          51.0\n",
       "340759        2001        Big Junipe       80548.0          22.0"
      ]
     },
     "execution_count": 56,
     "metadata": {},
     "output_type": "execute_result"
    }
   ],
   "source": [
    "top_fires = fires.query(f'state == \"{st}\"').nlargest(20, columns='acres_burned')\n",
    "top_fires[['fire_year','fire_name','acres_burned','days_burning']].head(10)"
   ]
  },
  {
   "cell_type": "code",
   "execution_count": 57,
   "metadata": {},
   "outputs": [
    {
     "data": {
      "text/plain": [
       "<Axes: xlabel='fire_year'>"
      ]
     },
     "execution_count": 57,
     "metadata": {},
     "output_type": "execute_result"
    },
    {
     "data": {
      "image/png": "[encoded data removed]",
      "text/plain": [
       "<Figure size 640x480 with 1 Axes>"
      ]
     },
     "metadata": {},
     "output_type": "display_data"
    }
   ],
   "source": [
    "top_fires.sort_values('fire_year').plot.bar(x='fire_year', y='acres_burned')"
   ]
  },
  {
   "attachments": {},
   "cell_type": "markdown",
   "metadata": {},
   "source": [
    "## Use Geopandas to plot the fires on a state map"
   ]
  },
  {
   "cell_type": "code",
   "execution_count": 74,
   "metadata": {},
   "outputs": [],
   "source": [
    "fires_st_2015 = fires.query(f'fire_year == 2015 & state == \"{st}\"')"
   ]
  },
  {
   "cell_type": "code",
   "execution_count": 60,
   "metadata": {},
   "outputs": [],
   "source": [
    "import geopandas as geo\n",
    "# Create GeoDataFrame from DataFrame\n",
    "fire_locations = geo.GeoDataFrame(fires_CA_2015, \n",
    "    geometry=geo.points_from_xy(fires_CA_2015.longitude, fires_CA_2015.latitude))"
   ]
  },
  {
   "cell_type": "code",
   "execution_count": 63,
   "metadata": {},
   "outputs": [
    {
     "data": {
      "text/html": [
       "<div>\n",
       "<style scoped>\n",
       "    .dataframe tbody tr th:only-of-type {\n",
       "        vertical-align: middle;\n",
       "    }\n",
       "\n",
       "    .dataframe tbody tr th {\n",
       "        vertical-align: top;\n",
       "    }\n",
       "\n",
       "    .dataframe thead th {\n",
       "        text-align: right;\n",
       "    }\n",
       "</style>\n",
       "<table border=\"1\" class=\"dataframe\">\n",
       "  <thead>\n",
       "    <tr style=\"text-align: right;\">\n",
       "      <th></th>\n",
       "      <th>REGION</th>\n",
       "      <th>DIVISION</th>\n",
       "      <th>STATEFP</th>\n",
       "      <th>STATENS</th>\n",
       "      <th>GEOID</th>\n",
       "      <th>STUSPS</th>\n",
       "      <th>NAME</th>\n",
       "      <th>LSAD</th>\n",
       "      <th>MTFCC</th>\n",
       "      <th>FUNCSTAT</th>\n",
       "      <th>ALAND</th>\n",
       "      <th>AWATER</th>\n",
       "      <th>INTPTLAT</th>\n",
       "      <th>INTPTLON</th>\n",
       "      <th>geometry</th>\n",
       "    </tr>\n",
       "  </thead>\n",
       "  <tbody>\n",
       "    <tr>\n",
       "      <th>0</th>\n",
       "      <td>3</td>\n",
       "      <td>5</td>\n",
       "      <td>54</td>\n",
       "      <td>01779805</td>\n",
       "      <td>54</td>\n",
       "      <td>WV</td>\n",
       "      <td>West Virginia</td>\n",
       "      <td>00</td>\n",
       "      <td>G4000</td>\n",
       "      <td>A</td>\n",
       "      <td>62266456923</td>\n",
       "      <td>489045863</td>\n",
       "      <td>+38.6472854</td>\n",
       "      <td>-080.6183274</td>\n",
       "      <td>POLYGON ((-77.75438 39.33346, -77.75422 39.333...</td>\n",
       "    </tr>\n",
       "    <tr>\n",
       "      <th>1</th>\n",
       "      <td>3</td>\n",
       "      <td>5</td>\n",
       "      <td>12</td>\n",
       "      <td>00294478</td>\n",
       "      <td>12</td>\n",
       "      <td>FL</td>\n",
       "      <td>Florida</td>\n",
       "      <td>00</td>\n",
       "      <td>G4000</td>\n",
       "      <td>A</td>\n",
       "      <td>138962819934</td>\n",
       "      <td>45971472526</td>\n",
       "      <td>+28.3989775</td>\n",
       "      <td>-082.5143005</td>\n",
       "      <td>MULTIPOLYGON (((-83.10874 24.62949, -83.10711 ...</td>\n",
       "    </tr>\n",
       "    <tr>\n",
       "      <th>2</th>\n",
       "      <td>2</td>\n",
       "      <td>3</td>\n",
       "      <td>17</td>\n",
       "      <td>01779784</td>\n",
       "      <td>17</td>\n",
       "      <td>IL</td>\n",
       "      <td>Illinois</td>\n",
       "      <td>00</td>\n",
       "      <td>G4000</td>\n",
       "      <td>A</td>\n",
       "      <td>143778515726</td>\n",
       "      <td>6216539665</td>\n",
       "      <td>+40.1028754</td>\n",
       "      <td>-089.1526108</td>\n",
       "      <td>POLYGON ((-87.89243 38.28285, -87.89334 38.282...</td>\n",
       "    </tr>\n",
       "    <tr>\n",
       "      <th>3</th>\n",
       "      <td>2</td>\n",
       "      <td>4</td>\n",
       "      <td>27</td>\n",
       "      <td>00662849</td>\n",
       "      <td>27</td>\n",
       "      <td>MN</td>\n",
       "      <td>Minnesota</td>\n",
       "      <td>00</td>\n",
       "      <td>G4000</td>\n",
       "      <td>A</td>\n",
       "      <td>206244837557</td>\n",
       "      <td>18937184315</td>\n",
       "      <td>+46.3159573</td>\n",
       "      <td>-094.1996043</td>\n",
       "      <td>POLYGON ((-95.31989 48.99892, -95.31747 48.998...</td>\n",
       "    </tr>\n",
       "    <tr>\n",
       "      <th>4</th>\n",
       "      <td>3</td>\n",
       "      <td>5</td>\n",
       "      <td>24</td>\n",
       "      <td>01714934</td>\n",
       "      <td>24</td>\n",
       "      <td>MD</td>\n",
       "      <td>Maryland</td>\n",
       "      <td>00</td>\n",
       "      <td>G4000</td>\n",
       "      <td>A</td>\n",
       "      <td>25151771744</td>\n",
       "      <td>6979295311</td>\n",
       "      <td>+38.9466584</td>\n",
       "      <td>-076.6744939</td>\n",
       "      <td>POLYGON ((-75.75600 39.24607, -75.75579 39.243...</td>\n",
       "    </tr>\n",
       "  </tbody>\n",
       "</table>\n",
       "</div>"
      ],
      "text/plain": [
       "  REGION DIVISION STATEFP   STATENS GEOID STUSPS           NAME LSAD  MTFCC   \n",
       "0      3        5      54  01779805    54     WV  West Virginia   00  G4000  \\\n",
       "1      3        5      12  00294478    12     FL        Florida   00  G4000   \n",
       "2      2        3      17  01779784    17     IL       Illinois   00  G4000   \n",
       "3      2        4      27  00662849    27     MN      Minnesota   00  G4000   \n",
       "4      3        5      24  01714934    24     MD       Maryland   00  G4000   \n",
       "\n",
       "  FUNCSTAT         ALAND       AWATER     INTPTLAT      INTPTLON   \n",
       "0        A   62266456923    489045863  +38.6472854  -080.6183274  \\\n",
       "1        A  138962819934  45971472526  +28.3989775  -082.5143005   \n",
       "2        A  143778515726   6216539665  +40.1028754  -089.1526108   \n",
       "3        A  206244837557  18937184315  +46.3159573  -094.1996043   \n",
       "4        A   25151771744   6979295311  +38.9466584  -076.6744939   \n",
       "\n",
       "                                            geometry  \n",
       "0  POLYGON ((-77.75438 39.33346, -77.75422 39.333...  \n",
       "1  MULTIPOLYGON (((-83.10874 24.62949, -83.10711 ...  \n",
       "2  POLYGON ((-87.89243 38.28285, -87.89334 38.282...  \n",
       "3  POLYGON ((-95.31989 48.99892, -95.31747 48.998...  \n",
       "4  POLYGON ((-75.75600 39.24607, -75.75579 39.243...  "
      ]
     },
     "execution_count": 63,
     "metadata": {},
     "output_type": "execute_result"
    }
   ],
   "source": [
    "usa = geo.read_file('Maps/tl_2022_us_state.shp')\n",
    "usa.head()"
   ]
  },
  {
   "cell_type": "code",
   "execution_count": 72,
   "metadata": {},
   "outputs": [
    {
     "name": "stdout",
     "output_type": "stream",
     "text": [
      "OR\n"
     ]
    },
    {
     "data": {
      "text/plain": [
       "<Axes: >"
      ]
     },
     "execution_count": 72,
     "metadata": {},
     "output_type": "execute_result"
    },
    {
     "data": {
      "image/png": "[encoded data removed]",
      "text/plain": [
       "<Figure size 640x480 with 1 Axes>"
      ]
     },
     "metadata": {},
     "output_type": "display_data"
    }
   ],
   "source": [
    "# The map for CA\n",
    "starg = f\"{st}\"\n",
    "st_map = usa[usa.STUSPS == starg]\n",
    "print(f'{st}')\n",
    "#st_map = usa[usa.STUSPS == 'OR']\n",
    "st_map.plot()"
   ]
  },
  {
   "cell_type": "code",
   "execution_count": 73,
   "metadata": {},
   "outputs": [
    {
     "data": {
      "text/plain": [
       "<Axes: >"
      ]
     },
     "execution_count": 73,
     "metadata": {},
     "output_type": "execute_result"
    },
    {
     "data": {
      "image/png": "[encoded data removed]",
      "text/plain": [
       "<Figure size 640x480 with 1 Axes>"
      ]
     },
     "metadata": {},
     "output_type": "display_data"
    }
   ],
   "source": [
    "fire_locations.query('acres_burned > 500').plot(color='red',\n",
    "    ax=st_map.plot(color='white', edgecolor='black'))"
   ]
  },
  {
   "cell_type": "code",
   "execution_count": 75,
   "metadata": {},
   "outputs": [
    {
     "data": {
      "text/plain": [
       "[Text(0.5, 1.0, 'OR fires in 2015 over 500 acres'),\n",
       " Text(47.097222222222214, 0.5, ''),\n",
       " Text(0.5, 27.679417788522116, '')]"
      ]
     },
     "execution_count": 75,
     "metadata": {},
     "output_type": "execute_result"
    },
    {
     "data": {
      "image/png": "[encoded data removed]",
      "text/plain": [
       "<Figure size 640x480 with 1 Axes>"
      ]
     },
     "metadata": {},
     "output_type": "display_data"
    }
   ],
   "source": [
    "starg = f'{st}'\n",
    "st_map = usa.query[usa.STUSPS == starg]\n",
    "st_map.plot(color='white', edgecolor='black')\n",
    "ax = sns.scatterplot(data=fires_st_2015.query('acres_burned > 500'),\n",
    "    x='longitude', y='latitude', size='acres_burned', hue='acres_burned', palette='flare')\n",
    "ax.set(title=f'{st} fires in 2015 over 500 acres',\n",
    "       ylabel=None, xlabel=None)"
   ]
  },
  {
   "cell_type": "code",
   "execution_count": 93,
   "metadata": {},
   "outputs": [
    {
     "data": {
      "text/html": [
       "<div>\n",
       "<style scoped>\n",
       "    .dataframe tbody tr th:only-of-type {\n",
       "        vertical-align: middle;\n",
       "    }\n",
       "\n",
       "    .dataframe tbody tr th {\n",
       "        vertical-align: top;\n",
       "    }\n",
       "\n",
       "    .dataframe thead th {\n",
       "        text-align: right;\n",
       "    }\n",
       "</style>\n",
       "<table border=\"1\" class=\"dataframe\">\n",
       "  <thead>\n",
       "    <tr style=\"text-align: right;\">\n",
       "      <th></th>\n",
       "      <th>NAME</th>\n",
       "      <th>STUSPS</th>\n",
       "    </tr>\n",
       "  </thead>\n",
       "  <tbody>\n",
       "    <tr>\n",
       "      <th>0</th>\n",
       "      <td>West Virginia</td>\n",
       "      <td>WV</td>\n",
       "    </tr>\n",
       "    <tr>\n",
       "      <th>1</th>\n",
       "      <td>Florida</td>\n",
       "      <td>FL</td>\n",
       "    </tr>\n",
       "    <tr>\n",
       "      <th>2</th>\n",
       "      <td>Illinois</td>\n",
       "      <td>IL</td>\n",
       "    </tr>\n",
       "    <tr>\n",
       "      <th>3</th>\n",
       "      <td>Minnesota</td>\n",
       "      <td>MN</td>\n",
       "    </tr>\n",
       "    <tr>\n",
       "      <th>4</th>\n",
       "      <td>Maryland</td>\n",
       "      <td>MD</td>\n",
       "    </tr>\n",
       "    <tr>\n",
       "      <th>5</th>\n",
       "      <td>Rhode Island</td>\n",
       "      <td>RI</td>\n",
       "    </tr>\n",
       "    <tr>\n",
       "      <th>6</th>\n",
       "      <td>Idaho</td>\n",
       "      <td>ID</td>\n",
       "    </tr>\n",
       "    <tr>\n",
       "      <th>7</th>\n",
       "      <td>New Hampshire</td>\n",
       "      <td>NH</td>\n",
       "    </tr>\n",
       "    <tr>\n",
       "      <th>8</th>\n",
       "      <td>North Carolina</td>\n",
       "      <td>NC</td>\n",
       "    </tr>\n",
       "    <tr>\n",
       "      <th>9</th>\n",
       "      <td>Vermont</td>\n",
       "      <td>VT</td>\n",
       "    </tr>\n",
       "    <tr>\n",
       "      <th>10</th>\n",
       "      <td>Connecticut</td>\n",
       "      <td>CT</td>\n",
       "    </tr>\n",
       "    <tr>\n",
       "      <th>11</th>\n",
       "      <td>Delaware</td>\n",
       "      <td>DE</td>\n",
       "    </tr>\n",
       "    <tr>\n",
       "      <th>12</th>\n",
       "      <td>New Mexico</td>\n",
       "      <td>NM</td>\n",
       "    </tr>\n",
       "    <tr>\n",
       "      <th>13</th>\n",
       "      <td>California</td>\n",
       "      <td>CA</td>\n",
       "    </tr>\n",
       "    <tr>\n",
       "      <th>14</th>\n",
       "      <td>New Jersey</td>\n",
       "      <td>NJ</td>\n",
       "    </tr>\n",
       "    <tr>\n",
       "      <th>15</th>\n",
       "      <td>Wisconsin</td>\n",
       "      <td>WI</td>\n",
       "    </tr>\n",
       "    <tr>\n",
       "      <th>16</th>\n",
       "      <td>Oregon</td>\n",
       "      <td>OR</td>\n",
       "    </tr>\n",
       "    <tr>\n",
       "      <th>17</th>\n",
       "      <td>Nebraska</td>\n",
       "      <td>NE</td>\n",
       "    </tr>\n",
       "    <tr>\n",
       "      <th>18</th>\n",
       "      <td>Pennsylvania</td>\n",
       "      <td>PA</td>\n",
       "    </tr>\n",
       "    <tr>\n",
       "      <th>19</th>\n",
       "      <td>Washington</td>\n",
       "      <td>WA</td>\n",
       "    </tr>\n",
       "    <tr>\n",
       "      <th>20</th>\n",
       "      <td>Louisiana</td>\n",
       "      <td>LA</td>\n",
       "    </tr>\n",
       "    <tr>\n",
       "      <th>21</th>\n",
       "      <td>Georgia</td>\n",
       "      <td>GA</td>\n",
       "    </tr>\n",
       "    <tr>\n",
       "      <th>22</th>\n",
       "      <td>Alabama</td>\n",
       "      <td>AL</td>\n",
       "    </tr>\n",
       "    <tr>\n",
       "      <th>23</th>\n",
       "      <td>Utah</td>\n",
       "      <td>UT</td>\n",
       "    </tr>\n",
       "    <tr>\n",
       "      <th>24</th>\n",
       "      <td>Ohio</td>\n",
       "      <td>OH</td>\n",
       "    </tr>\n",
       "    <tr>\n",
       "      <th>25</th>\n",
       "      <td>Texas</td>\n",
       "      <td>TX</td>\n",
       "    </tr>\n",
       "    <tr>\n",
       "      <th>26</th>\n",
       "      <td>Colorado</td>\n",
       "      <td>CO</td>\n",
       "    </tr>\n",
       "    <tr>\n",
       "      <th>27</th>\n",
       "      <td>South Carolina</td>\n",
       "      <td>SC</td>\n",
       "    </tr>\n",
       "    <tr>\n",
       "      <th>28</th>\n",
       "      <td>Oklahoma</td>\n",
       "      <td>OK</td>\n",
       "    </tr>\n",
       "    <tr>\n",
       "      <th>29</th>\n",
       "      <td>Tennessee</td>\n",
       "      <td>TN</td>\n",
       "    </tr>\n",
       "    <tr>\n",
       "      <th>30</th>\n",
       "      <td>Wyoming</td>\n",
       "      <td>WY</td>\n",
       "    </tr>\n",
       "    <tr>\n",
       "      <th>31</th>\n",
       "      <td>Hawaii</td>\n",
       "      <td>HI</td>\n",
       "    </tr>\n",
       "    <tr>\n",
       "      <th>32</th>\n",
       "      <td>North Dakota</td>\n",
       "      <td>ND</td>\n",
       "    </tr>\n",
       "    <tr>\n",
       "      <th>33</th>\n",
       "      <td>Kentucky</td>\n",
       "      <td>KY</td>\n",
       "    </tr>\n",
       "    <tr>\n",
       "      <th>34</th>\n",
       "      <td>United States Virgin Islands</td>\n",
       "      <td>VI</td>\n",
       "    </tr>\n",
       "    <tr>\n",
       "      <th>35</th>\n",
       "      <td>Commonwealth of the Northern Mariana Islands</td>\n",
       "      <td>MP</td>\n",
       "    </tr>\n",
       "    <tr>\n",
       "      <th>36</th>\n",
       "      <td>Guam</td>\n",
       "      <td>GU</td>\n",
       "    </tr>\n",
       "    <tr>\n",
       "      <th>37</th>\n",
       "      <td>Maine</td>\n",
       "      <td>ME</td>\n",
       "    </tr>\n",
       "    <tr>\n",
       "      <th>38</th>\n",
       "      <td>New York</td>\n",
       "      <td>NY</td>\n",
       "    </tr>\n",
       "    <tr>\n",
       "      <th>39</th>\n",
       "      <td>Nevada</td>\n",
       "      <td>NV</td>\n",
       "    </tr>\n",
       "    <tr>\n",
       "      <th>40</th>\n",
       "      <td>Alaska</td>\n",
       "      <td>AK</td>\n",
       "    </tr>\n",
       "    <tr>\n",
       "      <th>41</th>\n",
       "      <td>American Samoa</td>\n",
       "      <td>AS</td>\n",
       "    </tr>\n",
       "    <tr>\n",
       "      <th>42</th>\n",
       "      <td>Michigan</td>\n",
       "      <td>MI</td>\n",
       "    </tr>\n",
       "    <tr>\n",
       "      <th>43</th>\n",
       "      <td>Arkansas</td>\n",
       "      <td>AR</td>\n",
       "    </tr>\n",
       "    <tr>\n",
       "      <th>44</th>\n",
       "      <td>Mississippi</td>\n",
       "      <td>MS</td>\n",
       "    </tr>\n",
       "    <tr>\n",
       "      <th>45</th>\n",
       "      <td>Missouri</td>\n",
       "      <td>MO</td>\n",
       "    </tr>\n",
       "    <tr>\n",
       "      <th>46</th>\n",
       "      <td>Montana</td>\n",
       "      <td>MT</td>\n",
       "    </tr>\n",
       "    <tr>\n",
       "      <th>47</th>\n",
       "      <td>Kansas</td>\n",
       "      <td>KS</td>\n",
       "    </tr>\n",
       "    <tr>\n",
       "      <th>48</th>\n",
       "      <td>Indiana</td>\n",
       "      <td>IN</td>\n",
       "    </tr>\n",
       "    <tr>\n",
       "      <th>49</th>\n",
       "      <td>Puerto Rico</td>\n",
       "      <td>PR</td>\n",
       "    </tr>\n",
       "    <tr>\n",
       "      <th>50</th>\n",
       "      <td>South Dakota</td>\n",
       "      <td>SD</td>\n",
       "    </tr>\n",
       "    <tr>\n",
       "      <th>51</th>\n",
       "      <td>Massachusetts</td>\n",
       "      <td>MA</td>\n",
       "    </tr>\n",
       "    <tr>\n",
       "      <th>52</th>\n",
       "      <td>Virginia</td>\n",
       "      <td>VA</td>\n",
       "    </tr>\n",
       "    <tr>\n",
       "      <th>53</th>\n",
       "      <td>District of Columbia</td>\n",
       "      <td>DC</td>\n",
       "    </tr>\n",
       "    <tr>\n",
       "      <th>54</th>\n",
       "      <td>Iowa</td>\n",
       "      <td>IA</td>\n",
       "    </tr>\n",
       "    <tr>\n",
       "      <th>55</th>\n",
       "      <td>Arizona</td>\n",
       "      <td>AZ</td>\n",
       "    </tr>\n",
       "  </tbody>\n",
       "</table>\n",
       "</div>"
      ],
      "text/plain": [
       "                                            NAME STUSPS\n",
       "0                                  West Virginia     WV\n",
       "1                                        Florida     FL\n",
       "2                                       Illinois     IL\n",
       "3                                      Minnesota     MN\n",
       "4                                       Maryland     MD\n",
       "5                                   Rhode Island     RI\n",
       "6                                          Idaho     ID\n",
       "7                                  New Hampshire     NH\n",
       "8                                 North Carolina     NC\n",
       "9                                        Vermont     VT\n",
       "10                                   Connecticut     CT\n",
       "11                                      Delaware     DE\n",
       "12                                    New Mexico     NM\n",
       "13                                    California     CA\n",
       "14                                    New Jersey     NJ\n",
       "15                                     Wisconsin     WI\n",
       "16                                        Oregon     OR\n",
       "17                                      Nebraska     NE\n",
       "18                                  Pennsylvania     PA\n",
       "19                                    Washington     WA\n",
       "20                                     Louisiana     LA\n",
       "21                                       Georgia     GA\n",
       "22                                       Alabama     AL\n",
       "23                                          Utah     UT\n",
       "24                                          Ohio     OH\n",
       "25                                         Texas     TX\n",
       "26                                      Colorado     CO\n",
       "27                                South Carolina     SC\n",
       "28                                      Oklahoma     OK\n",
       "29                                     Tennessee     TN\n",
       "30                                       Wyoming     WY\n",
       "31                                        Hawaii     HI\n",
       "32                                  North Dakota     ND\n",
       "33                                      Kentucky     KY\n",
       "34                  United States Virgin Islands     VI\n",
       "35  Commonwealth of the Northern Mariana Islands     MP\n",
       "36                                          Guam     GU\n",
       "37                                         Maine     ME\n",
       "38                                      New York     NY\n",
       "39                                        Nevada     NV\n",
       "40                                        Alaska     AK\n",
       "41                                American Samoa     AS\n",
       "42                                      Michigan     MI\n",
       "43                                      Arkansas     AR\n",
       "44                                   Mississippi     MS\n",
       "45                                      Missouri     MO\n",
       "46                                       Montana     MT\n",
       "47                                        Kansas     KS\n",
       "48                                       Indiana     IN\n",
       "49                                   Puerto Rico     PR\n",
       "50                                  South Dakota     SD\n",
       "51                                 Massachusetts     MA\n",
       "52                                      Virginia     VA\n",
       "53                          District of Columbia     DC\n",
       "54                                          Iowa     IA\n",
       "55                                       Arizona     AZ"
      ]
     },
     "execution_count": 93,
     "metadata": {},
     "output_type": "execute_result"
    }
   ],
   "source": [
    "#figuring out which states/territories to exclude\n",
    "usa[['NAME', 'STUSPS']]"
   ]
  },
  {
   "cell_type": "code",
   "execution_count": 106,
   "metadata": {},
   "outputs": [
    {
     "data": {
      "text/plain": [
       "[Text(0.5, 1.0, 'Continental U.S. fires over 100,000 acres'),\n",
       " Text(67.22222222222221, 0.5, ''),\n",
       " Text(0.5, 169.55989522036126, '')]"
      ]
     },
     "execution_count": 106,
     "metadata": {},
     "output_type": "execute_result"
    },
    {
     "data": {
      "image/png": "[encoded data removed]",
      "text/plain": [
       "<Figure size 800x500 with 1 Axes>"
      ]
     },
     "metadata": {},
     "output_type": "display_data"
    }
   ],
   "source": [
    "continental_usa = usa[~usa.STUSPS.isin(['PR','AS','VI','MP','AK','HI'])]\n",
    "continental_usa.plot(color='white', edgecolor='black', figsize=(8,5))\n",
    "ax = sns.scatterplot(\n",
    "    data=fires.query('acres_burned > 100_000 & state not in [\"AK\",\"HI\"]'),\n",
    "    x='longitude', y='latitude', size='acres_burned', sizes=(10,100),\n",
    "    hue='acres_burned', palette='flare')\n",
    "ax.set_xlim(-130,-50)\n",
    "ax.set_ylim(20,55)\n",
    "ax.set(title='Continental U.S. fires over 100,000 acres', \n",
    "       ylabel=None, xlabel=None)"
   ]
  },
  {
   "cell_type": "code",
   "execution_count": 107,
   "metadata": {},
   "outputs": [],
   "source": [
    "ax.get_figure().savefig('us_fires_map.png')"
   ]
  },
  {
   "cell_type": "code",
   "execution_count": null,
   "metadata": {},
   "outputs": [],
   "source": []
  }
 ],
 "metadata": {
  "kernelspec": {
   "display_name": "Python 3",
   "language": "python",
   "name": "python3"
  },
  "language_info": {
   "codemirror_mode": {
    "name": "ipython",
    "version": 3
   },
   "file_extension": ".py",
   "mimetype": "text/x-python",
   "name": "python",
   "nbconvert_exporter": "python",
   "pygments_lexer": "ipython3",
   "version": "3.11.3"
  },
  "nteract": {
   "version": "0.15.0"
  }
 },
 "nbformat": 4,
 "nbformat_minor": 4
}
