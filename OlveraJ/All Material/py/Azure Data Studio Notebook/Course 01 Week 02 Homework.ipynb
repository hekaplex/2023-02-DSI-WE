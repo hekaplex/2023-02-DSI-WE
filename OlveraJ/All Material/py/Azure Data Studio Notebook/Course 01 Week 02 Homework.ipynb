{
    "cells": [
        {
            "attachments": {},
            "cell_type": "markdown",
            "metadata": {
                "azdata_cell_guid": "bba43fe0-5af3-4ca9-8521-9378cfdf37a7"
            },
            "source": [
                "# Course 01 Week 02 \n",
                "## Day 02 Homework\n",
                "1. Write 5 SELECT statements\n",
                "    1. Between all queries you must use these clauses at some point but not all in any queries necessarily\n",
                "        1. GROUP BY & HAVING\n",
                "        1. WHERE\n",
                "        1. JOIN ( at least one OUTER)\n",
                "        1. ORDER BY\n",
                "        1. AS to create a derived column\n",
                "        1. CASE\n",
                "        1. INTERSECT OR EXCEPT\n",
                "        1. IN, LIKE, NOT BETWEEN or BETWEEN\n",
                "        1. UNION\n",
                "        1. DISTINCT\n",
                "    1. Each query must have a business question describing what you answered\n",
                "        1. in comments is OK for using SSMS\n",
                "        1. use Text cells in Azure Data Studio notebooks"
            ]
        },
        {
            "cell_type": "markdown",
            "metadata": {},
            "source": []
        }
    ],
    "metadata": {
        "kernelspec": {
            "display_name": "SQL",
            "language": "sql",
            "name": "SQL"
        },
        "language_info": {
            "name": "sql",
            "version": ""
        }
    },
    "nbformat": 4,
    "nbformat_minor": 2
}
