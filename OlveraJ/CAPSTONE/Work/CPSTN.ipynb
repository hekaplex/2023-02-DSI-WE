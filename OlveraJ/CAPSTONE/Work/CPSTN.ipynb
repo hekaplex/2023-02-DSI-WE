{
 "cells": [
  {
   "cell_type": "code",
   "execution_count": 230,
   "metadata": {},
   "outputs": [],
   "source": [
    "#CAPSTONE"
   ]
  },
  {
   "cell_type": "code",
   "execution_count": 231,
   "metadata": {},
   "outputs": [
    {
     "name": "stdout",
     "output_type": "stream",
     "text": [
      "Requirement already satisfied: numpy in c:\\users\\olver\\anaconda3\\lib\\site-packages (1.24.3)\n",
      "Requirement already satisfied: matplotlib in c:\\users\\olver\\anaconda3\\lib\\site-packages (3.7.0)\n",
      "Requirement already satisfied: kiwisolver>=1.0.1 in c:\\users\\olver\\anaconda3\\lib\\site-packages (from matplotlib) (1.4.4)\n",
      "Requirement already satisfied: pyparsing>=2.3.1 in c:\\users\\olver\\anaconda3\\lib\\site-packages (from matplotlib) (3.0.9)\n",
      "Requirement already satisfied: packaging>=20.0 in c:\\users\\olver\\anaconda3\\lib\\site-packages (from matplotlib) (22.0)\n",
      "Requirement already satisfied: pillow>=6.2.0 in c:\\users\\olver\\anaconda3\\lib\\site-packages (from matplotlib) (9.4.0)\n",
      "Requirement already satisfied: numpy>=1.20 in c:\\users\\olver\\anaconda3\\lib\\site-packages (from matplotlib) (1.24.3)\n",
      "Requirement already satisfied: contourpy>=1.0.1 in c:\\users\\olver\\anaconda3\\lib\\site-packages (from matplotlib) (1.0.5)\n",
      "Requirement already satisfied: cycler>=0.10 in c:\\users\\olver\\anaconda3\\lib\\site-packages (from matplotlib) (0.11.0)\n",
      "Requirement already satisfied: fonttools>=4.22.0 in c:\\users\\olver\\anaconda3\\lib\\site-packages (from matplotlib) (4.25.0)\n",
      "Requirement already satisfied: python-dateutil>=2.7 in c:\\users\\olver\\anaconda3\\lib\\site-packages (from matplotlib) (2.8.2)\n",
      "Requirement already satisfied: six>=1.5 in c:\\users\\olver\\anaconda3\\lib\\site-packages (from python-dateutil>=2.7->matplotlib) (1.16.0)\n",
      "Requirement already satisfied: plotly in c:\\users\\olver\\anaconda3\\lib\\site-packages (5.9.0)\n",
      "Requirement already satisfied: tenacity>=6.2.0 in c:\\users\\olver\\anaconda3\\lib\\site-packages (from plotly) (8.0.1)\n"
     ]
    }
   ],
   "source": [
    "#Install modules\n",
    "!pip install numpy\n",
    "!pip install matplotlib\n",
    "!pip install plotly"
   ]
  },
  {
   "cell_type": "code",
   "execution_count": 338,
   "metadata": {},
   "outputs": [],
   "source": [
    "# Download and run modules\n",
    "import pandas as pd\n",
    "import matplotlib as mp\n",
    "import sklearn as sk\n",
    "import plotly.express as px\n",
    "import plotly.graph_objects as go\n",
    "import numpy as np\n"
   ]
  },
  {
   "cell_type": "code",
   "execution_count": null,
   "metadata": {},
   "outputs": [],
   "source": [
    "#import Data"
   ]
  },
  {
   "cell_type": "code",
   "execution_count": 234,
   "metadata": {},
   "outputs": [
    {
     "name": "stdout",
     "output_type": "stream",
     "text": [
      "Product \tFlow\tCountry\tProduct Classification\tUnit\t2013\t2014\t2015\t2016\t2017\t2018\t2019\t2020\t2021\t2022\n",
      "0--All Merchandise\tExports\tTaiwan\tHS - 2\tMillions of USD\t$25,523\t$26,675\t$25,826\t$26,034\t$25,736\t$30,478\t$31,202\t$30,213\t$36,838\t$43,713\n",
      "84--Nuclear Reactors, Boilers, Machinery\tExports\tTaiwan\tHS - 2\tMillions of USD\t$4,748\t$4,363\t$4,937\t$5,360\t$5,043\t$4,655\t$5,617\t$5,695\t$7,502\t$8,748\n",
      "85--Electric Machinery Etc; Sound Equip\tExports\tTaiwan\tHS - 2\tMillions of USD\t$4,041\t$4,222\t$4,500\t$5,208\t$4,850\t$4,866\t$4,513\t$5,251\t$6,745\t$7,842\n",
      "27--Mineral Fuel, Oil; Bitumin Subst\tExports\tTaiwan\tHS - 2\tMillions of USD\t$1,127\t$781\t$229\t$97\t$730\t$3,968\t$4,465\t$3,277\t$4,674\t$7,188\n",
      "90--Optic, Photo, Medic Or Surgical Instrments\tExports\tTaiwan\tHS - 2\tMillions of USD\t$1,633\t$1,838\t$1,814\t$1,751\t$1,803\t$2,086\t$2,217\t$2,274\t$2,464\t$3,008\n",
      "88--Aircraft, Spacecraft, And Parts Thereof\tExports\tTaiwan\tHS - 2\tMillions of USD\t$1,752\t$2,860\t$2,890\t$3,157\t$2,867\t$2,621\t$2,737\t$2,111\t$2,189\t$1,958\n",
      "39--Plastics & Articles Thereof\tExports\tTaiwan\tHS - 2\tMillions of USD\t$851\t$894\t$839\t$715\t$829\t$938\t$909\t$968\t$1,133\t$1,236\n",
      "12--Oil Seeds Etc.; Misc Grain\tExports\tTaiwan\tHS - 2\tMillions of USD\t$652\t$782\t$633\t$644\t$646\t$918\t$767\t$680\t$829\t$1,202\n",
      "02--Meat & Edible Meat Offal\tExports\tTaiwan\tHS - 2\tMillions of USD\t$455\t$467\t$516\t$509\t$589\t$778\t$793\t$827\t$843\t$1,045\n",
      "98--Special Classification Provisions, Nesoi\tExports\tTaiwan\tHS - 2\tMillions of USD\t$402\t$500\t$422\t$478\t$526\t$613\t$638\t$610\t$703\t$1,006\n",
      "30--Pharmaceutical Products\tExports\tTaiwan\tHS - 2\tMillions of USD\t$394\t$391\t$371\t$309\t$326\t$380\t$415\t$396\t$608\t$1,005\n",
      "87--Vehicles, Except Railway Or Tramway\tExports\tTaiwan\tHS - 2\tMillions of USD\t$397\t$420\t$325\t$319\t$391\t$533\t$737\t$936\t$827\t$964\n",
      "29--Organic Chemicals\tExports\tTaiwan\tHS - 2\tMillions of USD\t$1,138\t$1,269\t$891\t$824\t$863\t$1,108\t$825\t$881\t$986\t$934\n",
      "38--Miscellaneous Chemical Products\tExports\tTaiwan\tHS - 2\tMillions of USD\t$705\t$548\t$441\t$592\t$560\t$675\t$694\t$627\t$662\t$748\n",
      "10--Cereals\tExports\tTaiwan\tHS - 2\tMillions of USD\t$603\t$801\t$674\t$759\t$732\t$907\t$599\t$517\t$763\t$693\n",
      "72--Iron And Steel\tExports\tTaiwan\tHS - 2\tMillions of USD\t$1,243\t$1,040\t$491\t$412\t$494\t$770\t$695\t$546\t$635\t$593\n",
      "71--Nat Etc Pearls, Prec Etc Stones\tExports\tTaiwan\tHS - 2\tMillions of USD\t$322\t$337\t$297\t$282\t$324\t$267\t$277\t$438\t$558\t$559\n",
      "28--Inorg Chem; Prec & Rare-Earth Met\tExports\tTaiwan\tHS - 2\tMillions of USD\t$583\t$660\t$442\t$512\t$508\t$429\t$322\t$341\t$416\t$446\n",
      "08--Edible Fruit & Nuts; Citrus Fruit\tExports\tTaiwan\tHS - 2\tMillions of USD\t$290\t$310\t$291\t$300\t$318\t$271\t$341\t$270\t$296\t$269\n",
      "47--Wood Pulp\tExports\tTaiwan\tHS - 2\tMillions of USD\t$192\t$159\t$110\t$122\t$108\t$168\t$191\t$194\t$278\t$261\n",
      "21--Miscellaneous Edible Preparations\tExports\tTaiwan\tHS - 2\tMillions of USD\t$192\t$199\t$207\t$214\t$200\t$208\t$207\t$196\t$270\t$260\n",
      "34--Soap; Waxes, Polish\tExports\tTaiwan\tHS - 2\tMillions of USD\t$180\t$220\t$178\t$195\t$198\t$203\t$193\t$227\t$248\t$238\n",
      "23--Food Industry Residues & Waste\tExports\tTaiwan\tHS - 2\tMillions of USD\t$187\t$160\t$136\t$150\t$148\t$161\t$171\t$179\t$190\t$212\n",
      "76--Aluminum And Articles Thereof\tExports\tTaiwan\tHS - 2\tMillions of USD\t$186\t$158\t$120\t$106\t$120\t$211\t$156\t$151\t$164\t$183\n",
      "37--Photographic Goods\tExports\tTaiwan\tHS - 2\tMillions of USD\t$108\t$102\t$133\t$134\t$140\t$149\t$171\t$174\t$207\t$183\n",
      "33--Essential Oils; Perfumery, Cosmetic\tExports\tTaiwan\tHS - 2\tMillions of USD\t$164\t$160\t$164\t$140\t$151\t$159\t$157\t$154\t$170\t$164\n",
      "74--Copper And Articles Thereof\tExports\tTaiwan\tHS - 2\tMillions of USD\t$107\t$107\t$88\t$98\t$97\t$181\t$181\t$152\t$183\t$163\n",
      "93--Arms & Ammunition\tExports\tTaiwan\tHS - 2\tMillions of USD\t$573\t$535\t$1,529\t$646\t$66\t$72\t$63\t$79\t$56\t$149\n",
      "97--Works Of Art, Collectors' Pieces & Antiques\tExports\tTaiwan\tHS - 2\tMillions of USD\t$20\t$35\t$46\t$18\t$18\t$55\t$54\t$67\t$44\t$147\n",
      "48--Paper & Paperboard\tExports\tTaiwan\tHS - 2\tMillions of USD\t$214\t$222\t$216\t$209\t$220\t$230\t$200\t$185\t$156\t$143\n",
      "73--Articles Of Iron Or Steel\tExports\tTaiwan\tHS - 2\tMillions of USD\t$79\t$83\t$78\t$90\t$86\t$82\t$90\t$88\t$101\t$122\n",
      "04--Dairy Prods; Birds Eggs; Honey\tExports\tTaiwan\tHS - 2\tMillions of USD\t$58\t$67\t$64\t$64\t$78\t$90\t$103\t$110\t$121\t$122\n",
      "89--Ships, Boats And Floating Structures\tExports\tTaiwan\tHS - 2\tMillions of USD\t$64\t$44\t$57\t$41\t$54\t$80\t$72\t$84\t$95\t$119\n",
      "69--Ceramic Products\tExports\tTaiwan\tHS - 2\tMillions of USD\t$59\t$68\t$62\t$75\t$91\t$88\t$77\t$87\t$98\t$111\n",
      "68--Art Of Stone, Plaster Etc.\tExports\tTaiwan\tHS - 2\tMillions of USD\t$44\t$47\t$50\t$51\t$56\t$60\t$62\t$73\t$82\t$108\n",
      "32--Tanning & Dye Ext\tExports\tTaiwan\tHS - 2\tMillions of USD\t$179\t$164\t$121\t$96\t$114\t$100\t$96\t$88\t$113\t$107\n",
      "20--Prep Vegetables, Fruit, Nuts\tExports\tTaiwan\tHS - 2\tMillions of USD\t$106\t$119\t$134\t$119\t$124\t$120\t$110\t$100\t$99\t$106\n",
      "22--Beverages, Spirits And Vinegar\tExports\tTaiwan\tHS - 2\tMillions of USD\t$62\t$72\t$91\t$80\t$70\t$65\t$76\t$72\t$83\t$95\n",
      "26--Ores, Slag And Ash\tExports\tTaiwan\tHS - 2\tMillions of USD\t$12\t$7\t$8\t$10\t$6\t$5\t$50\t$112\t$128\t$93\n",
      "40--Rubber & Articles Thereof\tExports\tTaiwan\tHS - 2\tMillions of USD\t$89\t$100\t$68\t$66\t$71\t$75\t$81\t$90\t$90\t$90\n",
      "52--Cotton, Including Yarn\tExports\tTaiwan\tHS - 2\tMillions of USD\t$128\t$129\t$115\t$120\t$137\t$174\t$131\t$58\t$63\t$84\n",
      "70--Glass And Glassware\tExports\tTaiwan\tHS - 2\tMillions of USD\t$73\t$71\t$66\t$71\t$64\t$66\t$57\t$59\t$71\t$79\n",
      "35--Albuminoidal Subst; Modified Starch\tExports\tTaiwan\tHS - 2\tMillions of USD\t$58\t$53\t$40\t$39\t$41\t$46\t$42\t$44\t$56\t$70\n",
      "75--Nickel And Articles Thereof\tExports\tTaiwan\tHS - 2\tMillions of USD\t$56\t$56\t$49\t$38\t$25\t$45\t$61\t$42\t$43\t$66\n",
      "07--Edible Vegetables & Certain Roots\tExports\tTaiwan\tHS - 2\tMillions of USD\t$91\t$87\t$77\t$106\t$90\t$87\t$78\t$73\t$65\t$55\n",
      "25--Salt; Sulfur; Earth & Stone\tExports\tTaiwan\tHS - 2\tMillions of USD\t$49\t$51\t$41\t$38\t$48\t$47\t$40\t$37\t$51\t$54\n",
      "94--Furniture; Bedding\tExports\tTaiwan\tHS - 2\tMillions of USD\t$32\t$32\t$35\t$33\t$42\t$34\t$43\t$41\t$30\t$50\n",
      "31--Fertilizers\tExports\tTaiwan\tHS - 2\tMillions of USD\t$53\t$63\t$63\t$33\t$44\t$51\t$57\t$41\t$60\t$49\n",
      "49--Printed Books, Newspapers\tExports\tTaiwan\tHS - 2\tMillions of USD\t$50\t$43\t$33\t$29\t$31\t$39\t$31\t$38\t$41\t$44\n",
      "81--Base Metals Nesoi; Cermets\tExports\tTaiwan\tHS - 2\tMillions of USD\t$37\t$37\t$34\t$27\t$25\t$29\t$31\t$36\t$33\t$43\n",
      "95--Toys, Games & Sport Equipment\tExports\tTaiwan\tHS - 2\tMillions of USD\t$28\t$36\t$27\t$30\t$36\t$30\t$30\t$39\t$37\t$38\n",
      "09--Coffee, Tea, Mate & Spices\tExports\tTaiwan\tHS - 2\tMillions of USD\t$12\t$17\t$23\t$18\t$24\t$26\t$30\t$32\t$29\t$33\n",
      "44--Wood & Articles Of Wood\tExports\tTaiwan\tHS - 2\tMillions of USD\t$86\t$87\t$66\t$63\t$56\t$63\t$44\t$31\t$36\t$28\n",
      "83--Miscellaneous Articles Of Base Metal\tExports\tTaiwan\tHS - 2\tMillions of USD\t$14\t$17\t$13\t$16\t$17\t$19\t$22\t$22\t$30\t$28\n",
      "03--Fish & Aquatic Invertebrates\tExports\tTaiwan\tHS - 2\tMillions of USD\t$41\t$42\t$50\t$38\t$29\t$39\t$37\t$29\t$29\t$27\n",
      "18--Cocoa And Cocoa Preparations\tExports\tTaiwan\tHS - 2\tMillions of USD\t$23\t$27\t$27\t$25\t$26\t$29\t$31\t$26\t$32\t$27\n",
      "56--Wadding, Felt\tExports\tTaiwan\tHS - 2\tMillions of USD\t$25\t$36\t$17\t$17\t$19\t$16\t$12\t$16\t$30\t$26\n",
      "79--Zinc And Articles Thereof\tExports\tTaiwan\tHS - 2\tMillions of USD\t$6\t$4\t$6\t$40\t$39\t$13\t$10\t$5\t$16\t$23\n",
      "19--Prep Cereal, Flour, Starch\tExports\tTaiwan\tHS - 2\tMillions of USD\t$39\t$46\t$36\t$28\t$24\t$21\t$21\t$19\t$22\t$20\n",
      "41--Raw Hides & Skins & Leather\tExports\tTaiwan\tHS - 2\tMillions of USD\t$184\t$203\t$136\t$68\t$77\t$46\t$36\t$14\t$28\t$18\n",
      "82--Tools, Cutlery Etc. Of Base Metal\tExports\tTaiwan\tHS - 2\tMillions of USD\t$18\t$19\t$15\t$17\t$18\t$17\t$19\t$16\t$16\t$18\n",
      "36--Explosives; Pyrotechnics\tExports\tTaiwan\tHS - 2\tMillions of USD\t$4\t$3\t$7\t$7\t$5\t$9\t$9\t$6\t$13\t$17\n",
      "54--Manmade Filaments, Including Yarns\tExports\tTaiwan\tHS - 2\tMillions of USD\t$16\t$6\t$8\t$8\t$19\t$9\t$17\t$12\t$17\t$16\n",
      "15--Animal Or Vegetable Fats, Oils\tExports\tTaiwan\tHS - 2\tMillions of USD\t$13\t$14\t$13\t$14\t$19\t$18\t$16\t$14\t$16\t$15\n",
      "96--Miscellaneous Manufactured Articles\tExports\tTaiwan\tHS - 2\tMillions of USD\t$11\t$14\t$11\t$10\t$11\t$12\t$10\t$13\t$12\t$15\n",
      "42--Leather Art; Saddlery\tExports\tTaiwan\tHS - 2\tMillions of USD\t$11\t$11\t$11\t$8\t$7\t$7\t$7\t$5\t$12\t$15\n",
      "86--Railway Or Tramway Stock Etc\tExports\tTaiwan\tHS - 2\tMillions of USD\t$10\t$6\t$9\t$4\t$12\t$9\t$11\t$7\t$8\t$13\n",
      "17--Sugars And Sugar Confectionary\tExports\tTaiwan\tHS - 2\tMillions of USD\t$15\t$14\t$12\t$12\t$9\t$9\t$9\t$9\t$11\t$12\n",
      "80--Tin And Articles Thereof\tExports\tTaiwan\tHS - 2\tMillions of USD\t$1\t$2\t$1\t$1\t$1\t$1\t$7\t$13\t$15\t$11\n",
      "61--Apparel Articles & Accessories\tExports\tTaiwan\tHS - 2\tMillions of USD\t$13\t$15\t$15\t$14\t$13\t$15\t$14\t$13\t$10\t$10\n",
      "59--Impregnated Etc Text Fabrics\tExports\tTaiwan\tHS - 2\tMillions of USD\t$13\t$15\t$13\t$15\t$20\t$16\t$14\t$12\t$12\t$10\n",
      "64--Footwear, Gaiters\tExports\tTaiwan\tHS - 2\tMillions of USD\t$9\t$10\t$10\t$8\t$9\t$5\t$9\t$6\t$4\t$9\n",
      "92--Musical Instruments\tExports\tTaiwan\tHS - 2\tMillions of USD\t$9\t$9\t$8\t$9\t$7\t$7\t$7\t$6\t$7\t$8\n",
      "16--Edible Preparations Of Meat, Fish\tExports\tTaiwan\tHS - 2\tMillions of USD\t$12\t$11\t$7\t$8\t$9\t$10\t$11\t$11\t$12\t$7\n",
      "01--Live Animals\tExports\tTaiwan\tHS - 2\tMillions of USD\t$3\t$3\t$4\t$4\t$3\t$5\t$23\t$4\t$6\t$7\n",
      "63--Textile Art Nesoi; Needlecraft Sets\tExports\tTaiwan\tHS - 2\tMillions of USD\t$7\t$8\t$7\t$7\t$7\t$6\t$7\t$6\t$9\t$7\n",
      "60--Knitted Or Crocheted Fabrics\tExports\tTaiwan\tHS - 2\tMillions of USD\t$2\t$3\t$7\t$5\t$1\t$1\t$1\t$1\t$3\t$6\n",
      "13--Lac; Gums & Other Vegetable Sap\tExports\tTaiwan\tHS - 2\tMillions of USD\t$5\t$3\t$4\t$4\t$4\t$5\t$4\t$6\t$6\t$6\n",
      "05--Products Of Animal Origin\tExports\tTaiwan\tHS - 2\tMillions of USD\t$12\t$12\t$12\t$10\t$13\t$17\t$14\t$11\t$7\t$5\n",
      "62--Apparel Articles & Accessories\tExports\tTaiwan\tHS - 2\tMillions of USD\t$9\t$10\t$11\t$11\t$9\t$8\t$7\t$9\t$6\t$5\n",
      "24--Tobacco & Manufactured Tobacco Substitutes\tExports\tTaiwan\tHS - 2\tMillions of USD\t$12\t$18\t$6\t$12\t$12\t$10\t$6\t$4\t$8\t$4\n",
      "91--Clocks And Watches And Parts Thereof\tExports\tTaiwan\tHS - 2\tMillions of USD\t$3\t$4\t$3\t$3\t$4\t$3\t$3\t$4\t$4\t$4\n",
      "11--Milling Products; Malt; Starch\tExports\tTaiwan\tHS - 2\tMillions of USD\t$7\t$5\t$3\t$2\t$2\t$2\t$3\t$3\t$5\t$4\n",
      "55--Manmade Staple Fibers, Including Yarns\tExports\tTaiwan\tHS - 2\tMillions of USD\t$8\t$4\t$4\t$4\t$6\t$5\t$3\t$4\t$6\t$3\n",
      "58--Spec Wov Fabrics\tExports\tTaiwan\tHS - 2\tMillions of USD\t$1\t$1\t$1\t$0\t$1\t$1\t$1\t$1\t$1\t$2\n",
      "06--Live Trees, Plants, Bulbs\tExports\tTaiwan\tHS - 2\tMillions of USD\t$0\t$1\t$0\t$0\t$0\t$0\t$0\t$0\t$0\t$2\n",
      "65--Headgear & Parts Thereof\tExports\tTaiwan\tHS - 2\tMillions of USD\t$1\t$2\t$2\t$2\t$1\t$1\t$1\t$2\t$2\t$2\n",
      "57--Carpets & Floor Coverings\tExports\tTaiwan\tHS - 2\tMillions of USD\t$2\t$4\t$2\t$2\t$2\t$1\t$1\t$1\t$1\t$1\n",
      "78--Lead And Articles Thereof\tExports\tTaiwan\tHS - 2\tMillions of USD\t$0\t$0\t$0\t$0\t$0\t$0\t$0\t$0\t$0\t$0\n",
      "14--Vegetable Plaiting Materials & Products\tExports\tTaiwan\tHS - 2\tMillions of USD\t$0\t$0\t$0\t$0\t$0\t$0\t$0\t$0\t$0\t$0\n",
      "43--Furskins & Artificial Fur\tExports\tTaiwan\tHS - 2\tMillions of USD\t$0\t$0\t$0\t$0\t$0\t$0\t$0\t$0\t$0\t$0\n",
      "51--Wool & Animal Hair, Including Yarn\tExports\tTaiwan\tHS - 2\tMillions of USD\t$0\t$0\t$0\t$0\t$0\t$1\t$1\t$0\t$0\t$0\n",
      "67--Prep Feathers, Down Etc\tExports\tTaiwan\tHS - 2\tMillions of USD\t$0\t$0\t$0\t$1\t$0\t$1\t$0\t$0\t$0\t$0\n",
      "46--Mfr Of Straw, Esparto\tExports\tTaiwan\tHS - 2\tMillions of USD\t$0\t$0\t$0\t$0\t$0\t$0\t$0\t$0\t$0\t$0\n",
      "45--Cork And Articles Of Cork\tExports\tTaiwan\tHS - 2\tMillions of USD\t$0\t$0\t$0\t$0\t$0\t$0\t$0\t$0\t$0\t$0\n",
      "66--Umbrellas, Walking-Sticks\tExports\tTaiwan\tHS - 2\tMillions of USD\t$0\t$0\t$0\t$0\t$0\t$0\t$0\t$0\t$0\t$0\n",
      "53--Veg Text Fib Nesoi\tExports\tTaiwan\tHS - 2\tMillions of USD\t$0\t$0\t$0\t$0\t$0\t$0\t$0\t$0\t$0\t$0\n",
      "50--Silk, Including Yarns\tExports\tTaiwan\tHS - 2\tMillions of USD\t$0\t$0\t$0\t$0\t$0\t$0\t$0\t$0\t$0\t$0\n"
     ]
    }
   ],
   "source": [
    "pth = \"C:\\\\REPO\\\\2023-02-DSI-WE\\\\OlveraJ\\\\CAPSTONE\\\\DATA\\\\Taiwan_Trade_Exports.csv\" \n",
    "!type $pth"
   ]
  },
  {
   "cell_type": "code",
   "execution_count": 252,
   "metadata": {},
   "outputs": [],
   "source": [
    "ex = pd.read_csv(pth, encoding= 'utf16', sep=\"\\t\")\n"
   ]
  },
  {
   "cell_type": "code",
   "execution_count": 253,
   "metadata": {},
   "outputs": [
    {
     "name": "stderr",
     "output_type": "stream",
     "text": [
      "C:\\Users\\olver\\AppData\\Local\\Temp\\ipykernel_27500\\190477155.py:6: FutureWarning:\n",
      "\n",
      "The default value of regex will change from True to False in a future version. In addition, single character regular expressions will *not* be treated as literal strings when regex=True.\n",
      "\n"
     ]
    }
   ],
   "source": [
    "ex = tabfix(pth)"
   ]
  },
  {
   "cell_type": "code",
   "execution_count": 241,
   "metadata": {},
   "outputs": [],
   "source": [
    "#Creating a function to import the Different table with correct encoding into a List of Lists\n",
    "def tabfix(pth):\n",
    "    ex = pd.read_csv(pth, encoding= 'utf16', sep=\"\\t\")\n",
    "    TexpY = list(ex.columns)\n",
    "    for T in TexpY [5:]:\n",
    "        ex[T]= ex[T].str.replace(\"$\",\"\")\n",
    "        ex[T]= ex[T].str.replace(\",\",\"\")\n",
    "        ex[T]= ex[T].astype(float)\n",
    "    return ex"
   ]
  },
  {
   "cell_type": "code",
   "execution_count": 255,
   "metadata": {},
   "outputs": [
    {
     "name": "stderr",
     "output_type": "stream",
     "text": [
      "C:\\Users\\olver\\AppData\\Local\\Temp\\ipykernel_27500\\1215256436.py:1: FutureWarning:\n",
      "\n",
      "The default value of regex will change from True to False in a future version. In addition, single character regular expressions will *not* be treated as literal strings when regex=True.\n",
      "\n"
     ]
    },
    {
     "ename": "KeyError",
     "evalue": "'Year'",
     "output_type": "error",
     "traceback": [
      "\u001b[1;31m---------------------------------------------------------------------------\u001b[0m",
      "\u001b[1;31mKeyError\u001b[0m                                  Traceback (most recent call last)",
      "File \u001b[1;32mc:\\Users\\olver\\anaconda3\\lib\\site-packages\\pandas\\core\\indexes\\base.py:3802\u001b[0m, in \u001b[0;36mIndex.get_loc\u001b[1;34m(self, key, method, tolerance)\u001b[0m\n\u001b[0;32m   3801\u001b[0m \u001b[39mtry\u001b[39;00m:\n\u001b[1;32m-> 3802\u001b[0m     \u001b[39mreturn\u001b[39;00m \u001b[39mself\u001b[39;49m\u001b[39m.\u001b[39;49m_engine\u001b[39m.\u001b[39;49mget_loc(casted_key)\n\u001b[0;32m   3803\u001b[0m \u001b[39mexcept\u001b[39;00m \u001b[39mKeyError\u001b[39;00m \u001b[39mas\u001b[39;00m err:\n",
      "File \u001b[1;32mc:\\Users\\olver\\anaconda3\\lib\\site-packages\\pandas\\_libs\\index.pyx:138\u001b[0m, in \u001b[0;36mpandas._libs.index.IndexEngine.get_loc\u001b[1;34m()\u001b[0m\n",
      "File \u001b[1;32mc:\\Users\\olver\\anaconda3\\lib\\site-packages\\pandas\\_libs\\index.pyx:165\u001b[0m, in \u001b[0;36mpandas._libs.index.IndexEngine.get_loc\u001b[1;34m()\u001b[0m\n",
      "File \u001b[1;32mpandas\\_libs\\hashtable_class_helper.pxi:5745\u001b[0m, in \u001b[0;36mpandas._libs.hashtable.PyObjectHashTable.get_item\u001b[1;34m()\u001b[0m\n",
      "File \u001b[1;32mpandas\\_libs\\hashtable_class_helper.pxi:5753\u001b[0m, in \u001b[0;36mpandas._libs.hashtable.PyObjectHashTable.get_item\u001b[1;34m()\u001b[0m\n",
      "\u001b[1;31mKeyError\u001b[0m: 'Year'",
      "\nThe above exception was the direct cause of the following exception:\n",
      "\u001b[1;31mKeyError\u001b[0m                                  Traceback (most recent call last)",
      "Cell \u001b[1;32mIn[255], line 1\u001b[0m\n\u001b[1;32m----> 1\u001b[0m \u001b[39mfor\u001b[39;00m T \u001b[39min\u001b[39;00m TexpY [\u001b[39m5\u001b[39m:]:ex[T]\u001b[39m=\u001b[39m ex[T]\u001b[39m.\u001b[39mstr\u001b[39m.\u001b[39mreplace(\u001b[39m\"\u001b[39m\u001b[39m$\u001b[39m\u001b[39m\"\u001b[39m,\u001b[39m\"\u001b[39m\u001b[39m\"\u001b[39m)\n\u001b[0;32m      2\u001b[0m \u001b[39mfor\u001b[39;00m T \u001b[39min\u001b[39;00m TexpY [\u001b[39m5\u001b[39m:]:ex[T]\u001b[39m=\u001b[39m ex[T]\u001b[39m.\u001b[39mstr\u001b[39m.\u001b[39mreplace(\u001b[39m\"\u001b[39m\u001b[39m,\u001b[39m\u001b[39m\"\u001b[39m,\u001b[39m\"\u001b[39m\u001b[39m\"\u001b[39m)\n",
      "File \u001b[1;32mc:\\Users\\olver\\anaconda3\\lib\\site-packages\\pandas\\core\\frame.py:3807\u001b[0m, in \u001b[0;36mDataFrame.__getitem__\u001b[1;34m(self, key)\u001b[0m\n\u001b[0;32m   3805\u001b[0m \u001b[39mif\u001b[39;00m \u001b[39mself\u001b[39m\u001b[39m.\u001b[39mcolumns\u001b[39m.\u001b[39mnlevels \u001b[39m>\u001b[39m \u001b[39m1\u001b[39m:\n\u001b[0;32m   3806\u001b[0m     \u001b[39mreturn\u001b[39;00m \u001b[39mself\u001b[39m\u001b[39m.\u001b[39m_getitem_multilevel(key)\n\u001b[1;32m-> 3807\u001b[0m indexer \u001b[39m=\u001b[39m \u001b[39mself\u001b[39;49m\u001b[39m.\u001b[39;49mcolumns\u001b[39m.\u001b[39;49mget_loc(key)\n\u001b[0;32m   3808\u001b[0m \u001b[39mif\u001b[39;00m is_integer(indexer):\n\u001b[0;32m   3809\u001b[0m     indexer \u001b[39m=\u001b[39m [indexer]\n",
      "File \u001b[1;32mc:\\Users\\olver\\anaconda3\\lib\\site-packages\\pandas\\core\\indexes\\base.py:3804\u001b[0m, in \u001b[0;36mIndex.get_loc\u001b[1;34m(self, key, method, tolerance)\u001b[0m\n\u001b[0;32m   3802\u001b[0m     \u001b[39mreturn\u001b[39;00m \u001b[39mself\u001b[39m\u001b[39m.\u001b[39m_engine\u001b[39m.\u001b[39mget_loc(casted_key)\n\u001b[0;32m   3803\u001b[0m \u001b[39mexcept\u001b[39;00m \u001b[39mKeyError\u001b[39;00m \u001b[39mas\u001b[39;00m err:\n\u001b[1;32m-> 3804\u001b[0m     \u001b[39mraise\u001b[39;00m \u001b[39mKeyError\u001b[39;00m(key) \u001b[39mfrom\u001b[39;00m \u001b[39merr\u001b[39;00m\n\u001b[0;32m   3805\u001b[0m \u001b[39mexcept\u001b[39;00m \u001b[39mTypeError\u001b[39;00m:\n\u001b[0;32m   3806\u001b[0m     \u001b[39m# If we have a listlike key, _check_indexing_error will raise\u001b[39;00m\n\u001b[0;32m   3807\u001b[0m     \u001b[39m#  InvalidIndexError. Otherwise we fall through and re-raise\u001b[39;00m\n\u001b[0;32m   3808\u001b[0m     \u001b[39m#  the TypeError.\u001b[39;00m\n\u001b[0;32m   3809\u001b[0m     \u001b[39mself\u001b[39m\u001b[39m.\u001b[39m_check_indexing_error(key)\n",
      "\u001b[1;31mKeyError\u001b[0m: 'Year'"
     ]
    }
   ],
   "source": [
    "for T in TexpY [5:]:ex[T]= ex[T].str.replace(\"$\",\"\")\n",
    "for T in TexpY [5:]:ex[T]= ex[T].str.replace(\",\",\"\")"
   ]
  },
  {
   "cell_type": "code",
   "execution_count": 244,
   "metadata": {},
   "outputs": [
    {
     "name": "stderr",
     "output_type": "stream",
     "text": [
      "C:\\Users\\olver\\AppData\\Local\\Temp\\ipykernel_27500\\190477155.py:6: FutureWarning:\n",
      "\n",
      "The default value of regex will change from True to False in a future version. In addition, single character regular expressions will *not* be treated as literal strings when regex=True.\n",
      "\n"
     ]
    }
   ],
   "source": [
    "ix = tabfix(pth.replace(\"Ex\",\"Im\"))"
   ]
  },
  {
   "cell_type": "code",
   "execution_count": 257,
   "metadata": {},
   "outputs": [
    {
     "data": {
      "text/html": [
       "<div>\n",
       "<style scoped>\n",
       "    .dataframe tbody tr th:only-of-type {\n",
       "        vertical-align: middle;\n",
       "    }\n",
       "\n",
       "    .dataframe tbody tr th {\n",
       "        vertical-align: top;\n",
       "    }\n",
       "\n",
       "    .dataframe thead th {\n",
       "        text-align: right;\n",
       "    }\n",
       "</style>\n",
       "<table border=\"1\" class=\"dataframe\">\n",
       "  <thead>\n",
       "    <tr style=\"text-align: right;\">\n",
       "      <th></th>\n",
       "      <th>Product</th>\n",
       "      <th>Flow</th>\n",
       "      <th>Country</th>\n",
       "      <th>Product Classification</th>\n",
       "      <th>Unit</th>\n",
       "      <th>2013</th>\n",
       "      <th>2014</th>\n",
       "      <th>2015</th>\n",
       "      <th>2016</th>\n",
       "      <th>2017</th>\n",
       "      <th>2018</th>\n",
       "      <th>2019</th>\n",
       "      <th>2020</th>\n",
       "      <th>2021</th>\n",
       "      <th>2022</th>\n",
       "    </tr>\n",
       "  </thead>\n",
       "  <tbody>\n",
       "    <tr>\n",
       "      <th>0</th>\n",
       "      <td>0--All Merchandise</td>\n",
       "      <td>Exports</td>\n",
       "      <td>Taiwan</td>\n",
       "      <td>HS - 2</td>\n",
       "      <td>Millions of USD</td>\n",
       "      <td>25523.0</td>\n",
       "      <td>26675.0</td>\n",
       "      <td>25826.0</td>\n",
       "      <td>26034.0</td>\n",
       "      <td>25736.0</td>\n",
       "      <td>30478.0</td>\n",
       "      <td>31202.0</td>\n",
       "      <td>30213.0</td>\n",
       "      <td>36838.0</td>\n",
       "      <td>43713.0</td>\n",
       "    </tr>\n",
       "    <tr>\n",
       "      <th>1</th>\n",
       "      <td>84--Nuclear Reactors, Boilers, Machinery</td>\n",
       "      <td>Exports</td>\n",
       "      <td>Taiwan</td>\n",
       "      <td>HS - 2</td>\n",
       "      <td>Millions of USD</td>\n",
       "      <td>4748.0</td>\n",
       "      <td>4363.0</td>\n",
       "      <td>4937.0</td>\n",
       "      <td>5360.0</td>\n",
       "      <td>5043.0</td>\n",
       "      <td>4655.0</td>\n",
       "      <td>5617.0</td>\n",
       "      <td>5695.0</td>\n",
       "      <td>7502.0</td>\n",
       "      <td>8748.0</td>\n",
       "    </tr>\n",
       "    <tr>\n",
       "      <th>2</th>\n",
       "      <td>85--Electric Machinery Etc; Sound Equip</td>\n",
       "      <td>Exports</td>\n",
       "      <td>Taiwan</td>\n",
       "      <td>HS - 2</td>\n",
       "      <td>Millions of USD</td>\n",
       "      <td>4041.0</td>\n",
       "      <td>4222.0</td>\n",
       "      <td>4500.0</td>\n",
       "      <td>5208.0</td>\n",
       "      <td>4850.0</td>\n",
       "      <td>4866.0</td>\n",
       "      <td>4513.0</td>\n",
       "      <td>5251.0</td>\n",
       "      <td>6745.0</td>\n",
       "      <td>7842.0</td>\n",
       "    </tr>\n",
       "    <tr>\n",
       "      <th>3</th>\n",
       "      <td>27--Mineral Fuel, Oil; Bitumin Subst</td>\n",
       "      <td>Exports</td>\n",
       "      <td>Taiwan</td>\n",
       "      <td>HS - 2</td>\n",
       "      <td>Millions of USD</td>\n",
       "      <td>1127.0</td>\n",
       "      <td>781.0</td>\n",
       "      <td>229.0</td>\n",
       "      <td>97.0</td>\n",
       "      <td>730.0</td>\n",
       "      <td>3968.0</td>\n",
       "      <td>4465.0</td>\n",
       "      <td>3277.0</td>\n",
       "      <td>4674.0</td>\n",
       "      <td>7188.0</td>\n",
       "    </tr>\n",
       "    <tr>\n",
       "      <th>4</th>\n",
       "      <td>90--Optic, Photo, Medic Or Surgical Instrments</td>\n",
       "      <td>Exports</td>\n",
       "      <td>Taiwan</td>\n",
       "      <td>HS - 2</td>\n",
       "      <td>Millions of USD</td>\n",
       "      <td>1633.0</td>\n",
       "      <td>1838.0</td>\n",
       "      <td>1814.0</td>\n",
       "      <td>1751.0</td>\n",
       "      <td>1803.0</td>\n",
       "      <td>2086.0</td>\n",
       "      <td>2217.0</td>\n",
       "      <td>2274.0</td>\n",
       "      <td>2464.0</td>\n",
       "      <td>3008.0</td>\n",
       "    </tr>\n",
       "    <tr>\n",
       "      <th>...</th>\n",
       "      <td>...</td>\n",
       "      <td>...</td>\n",
       "      <td>...</td>\n",
       "      <td>...</td>\n",
       "      <td>...</td>\n",
       "      <td>...</td>\n",
       "      <td>...</td>\n",
       "      <td>...</td>\n",
       "      <td>...</td>\n",
       "      <td>...</td>\n",
       "      <td>...</td>\n",
       "      <td>...</td>\n",
       "      <td>...</td>\n",
       "      <td>...</td>\n",
       "      <td>...</td>\n",
       "    </tr>\n",
       "    <tr>\n",
       "      <th>93</th>\n",
       "      <td>46--Mfr Of Straw, Esparto</td>\n",
       "      <td>Exports</td>\n",
       "      <td>Taiwan</td>\n",
       "      <td>HS - 2</td>\n",
       "      <td>Millions of USD</td>\n",
       "      <td>0.0</td>\n",
       "      <td>0.0</td>\n",
       "      <td>0.0</td>\n",
       "      <td>0.0</td>\n",
       "      <td>0.0</td>\n",
       "      <td>0.0</td>\n",
       "      <td>0.0</td>\n",
       "      <td>0.0</td>\n",
       "      <td>0.0</td>\n",
       "      <td>0.0</td>\n",
       "    </tr>\n",
       "    <tr>\n",
       "      <th>94</th>\n",
       "      <td>45--Cork And Articles Of Cork</td>\n",
       "      <td>Exports</td>\n",
       "      <td>Taiwan</td>\n",
       "      <td>HS - 2</td>\n",
       "      <td>Millions of USD</td>\n",
       "      <td>0.0</td>\n",
       "      <td>0.0</td>\n",
       "      <td>0.0</td>\n",
       "      <td>0.0</td>\n",
       "      <td>0.0</td>\n",
       "      <td>0.0</td>\n",
       "      <td>0.0</td>\n",
       "      <td>0.0</td>\n",
       "      <td>0.0</td>\n",
       "      <td>0.0</td>\n",
       "    </tr>\n",
       "    <tr>\n",
       "      <th>95</th>\n",
       "      <td>66--Umbrellas, Walking-Sticks</td>\n",
       "      <td>Exports</td>\n",
       "      <td>Taiwan</td>\n",
       "      <td>HS - 2</td>\n",
       "      <td>Millions of USD</td>\n",
       "      <td>0.0</td>\n",
       "      <td>0.0</td>\n",
       "      <td>0.0</td>\n",
       "      <td>0.0</td>\n",
       "      <td>0.0</td>\n",
       "      <td>0.0</td>\n",
       "      <td>0.0</td>\n",
       "      <td>0.0</td>\n",
       "      <td>0.0</td>\n",
       "      <td>0.0</td>\n",
       "    </tr>\n",
       "    <tr>\n",
       "      <th>96</th>\n",
       "      <td>53--Veg Text Fib Nesoi</td>\n",
       "      <td>Exports</td>\n",
       "      <td>Taiwan</td>\n",
       "      <td>HS - 2</td>\n",
       "      <td>Millions of USD</td>\n",
       "      <td>0.0</td>\n",
       "      <td>0.0</td>\n",
       "      <td>0.0</td>\n",
       "      <td>0.0</td>\n",
       "      <td>0.0</td>\n",
       "      <td>0.0</td>\n",
       "      <td>0.0</td>\n",
       "      <td>0.0</td>\n",
       "      <td>0.0</td>\n",
       "      <td>0.0</td>\n",
       "    </tr>\n",
       "    <tr>\n",
       "      <th>97</th>\n",
       "      <td>50--Silk, Including Yarns</td>\n",
       "      <td>Exports</td>\n",
       "      <td>Taiwan</td>\n",
       "      <td>HS - 2</td>\n",
       "      <td>Millions of USD</td>\n",
       "      <td>0.0</td>\n",
       "      <td>0.0</td>\n",
       "      <td>0.0</td>\n",
       "      <td>0.0</td>\n",
       "      <td>0.0</td>\n",
       "      <td>0.0</td>\n",
       "      <td>0.0</td>\n",
       "      <td>0.0</td>\n",
       "      <td>0.0</td>\n",
       "      <td>0.0</td>\n",
       "    </tr>\n",
       "  </tbody>\n",
       "</table>\n",
       "<p>98 rows × 15 columns</p>\n",
       "</div>"
      ],
      "text/plain": [
       "                                          Product      Flow Country  \\\n",
       "0                               0--All Merchandise  Exports  Taiwan   \n",
       "1         84--Nuclear Reactors, Boilers, Machinery  Exports  Taiwan   \n",
       "2          85--Electric Machinery Etc; Sound Equip  Exports  Taiwan   \n",
       "3             27--Mineral Fuel, Oil; Bitumin Subst  Exports  Taiwan   \n",
       "4   90--Optic, Photo, Medic Or Surgical Instrments  Exports  Taiwan   \n",
       "..                                             ...      ...     ...   \n",
       "93                       46--Mfr Of Straw, Esparto  Exports  Taiwan   \n",
       "94                   45--Cork And Articles Of Cork  Exports  Taiwan   \n",
       "95                   66--Umbrellas, Walking-Sticks  Exports  Taiwan   \n",
       "96                          53--Veg Text Fib Nesoi  Exports  Taiwan   \n",
       "97                       50--Silk, Including Yarns  Exports  Taiwan   \n",
       "\n",
       "   Product Classification             Unit     2013     2014     2015  \\\n",
       "0                  HS - 2  Millions of USD  25523.0  26675.0  25826.0   \n",
       "1                  HS - 2  Millions of USD   4748.0   4363.0   4937.0   \n",
       "2                  HS - 2  Millions of USD   4041.0   4222.0   4500.0   \n",
       "3                  HS - 2  Millions of USD   1127.0    781.0    229.0   \n",
       "4                  HS - 2  Millions of USD   1633.0   1838.0   1814.0   \n",
       "..                    ...              ...      ...      ...      ...   \n",
       "93                 HS - 2  Millions of USD      0.0      0.0      0.0   \n",
       "94                 HS - 2  Millions of USD      0.0      0.0      0.0   \n",
       "95                 HS - 2  Millions of USD      0.0      0.0      0.0   \n",
       "96                 HS - 2  Millions of USD      0.0      0.0      0.0   \n",
       "97                 HS - 2  Millions of USD      0.0      0.0      0.0   \n",
       "\n",
       "       2016     2017     2018     2019     2020     2021     2022  \n",
       "0   26034.0  25736.0  30478.0  31202.0  30213.0  36838.0  43713.0  \n",
       "1    5360.0   5043.0   4655.0   5617.0   5695.0   7502.0   8748.0  \n",
       "2    5208.0   4850.0   4866.0   4513.0   5251.0   6745.0   7842.0  \n",
       "3      97.0    730.0   3968.0   4465.0   3277.0   4674.0   7188.0  \n",
       "4    1751.0   1803.0   2086.0   2217.0   2274.0   2464.0   3008.0  \n",
       "..      ...      ...      ...      ...      ...      ...      ...  \n",
       "93      0.0      0.0      0.0      0.0      0.0      0.0      0.0  \n",
       "94      0.0      0.0      0.0      0.0      0.0      0.0      0.0  \n",
       "95      0.0      0.0      0.0      0.0      0.0      0.0      0.0  \n",
       "96      0.0      0.0      0.0      0.0      0.0      0.0      0.0  \n",
       "97      0.0      0.0      0.0      0.0      0.0      0.0      0.0  \n",
       "\n",
       "[98 rows x 15 columns]"
      ]
     },
     "execution_count": 257,
     "metadata": {},
     "output_type": "execute_result"
    }
   ],
   "source": [
    "ex"
   ]
  },
  {
   "cell_type": "code",
   "execution_count": 256,
   "metadata": {},
   "outputs": [
    {
     "data": {
      "text/html": [
       "<div>\n",
       "<style scoped>\n",
       "    .dataframe tbody tr th:only-of-type {\n",
       "        vertical-align: middle;\n",
       "    }\n",
       "\n",
       "    .dataframe tbody tr th {\n",
       "        vertical-align: top;\n",
       "    }\n",
       "\n",
       "    .dataframe thead th {\n",
       "        text-align: right;\n",
       "    }\n",
       "</style>\n",
       "<table border=\"1\" class=\"dataframe\">\n",
       "  <thead>\n",
       "    <tr style=\"text-align: right;\">\n",
       "      <th></th>\n",
       "      <th>Product</th>\n",
       "      <th>Flow</th>\n",
       "      <th>Country</th>\n",
       "      <th>Product Classification</th>\n",
       "      <th>Unit</th>\n",
       "      <th>2013</th>\n",
       "      <th>2014</th>\n",
       "      <th>2015</th>\n",
       "      <th>2016</th>\n",
       "      <th>2017</th>\n",
       "      <th>2018</th>\n",
       "      <th>2019</th>\n",
       "      <th>2020</th>\n",
       "      <th>2021</th>\n",
       "      <th>2022</th>\n",
       "    </tr>\n",
       "  </thead>\n",
       "  <tbody>\n",
       "    <tr>\n",
       "      <th>0</th>\n",
       "      <td>0--All Merchandise</td>\n",
       "      <td>Imports</td>\n",
       "      <td>Taiwan</td>\n",
       "      <td>HS - 2</td>\n",
       "      <td>Millions of USD</td>\n",
       "      <td>37939.0</td>\n",
       "      <td>40840.0</td>\n",
       "      <td>40911.0</td>\n",
       "      <td>39199.0</td>\n",
       "      <td>42418.0</td>\n",
       "      <td>45709.0</td>\n",
       "      <td>54229.0</td>\n",
       "      <td>60432.0</td>\n",
       "      <td>77064.0</td>\n",
       "      <td>91845.0</td>\n",
       "    </tr>\n",
       "    <tr>\n",
       "      <th>1</th>\n",
       "      <td>85--Electric Machinery Etc; Sound Equip</td>\n",
       "      <td>Imports</td>\n",
       "      <td>Taiwan</td>\n",
       "      <td>HS - 2</td>\n",
       "      <td>Millions of USD</td>\n",
       "      <td>13897.0</td>\n",
       "      <td>14721.0</td>\n",
       "      <td>14166.0</td>\n",
       "      <td>13780.0</td>\n",
       "      <td>14056.0</td>\n",
       "      <td>14153.0</td>\n",
       "      <td>16051.0</td>\n",
       "      <td>18582.0</td>\n",
       "      <td>23259.0</td>\n",
       "      <td>28990.0</td>\n",
       "    </tr>\n",
       "    <tr>\n",
       "      <th>2</th>\n",
       "      <td>84--Nuclear Reactors, Boilers, Machinery</td>\n",
       "      <td>Imports</td>\n",
       "      <td>Taiwan</td>\n",
       "      <td>HS - 2</td>\n",
       "      <td>Millions of USD</td>\n",
       "      <td>6622.0</td>\n",
       "      <td>7053.0</td>\n",
       "      <td>6709.0</td>\n",
       "      <td>6820.0</td>\n",
       "      <td>8177.0</td>\n",
       "      <td>9809.0</td>\n",
       "      <td>15516.0</td>\n",
       "      <td>18454.0</td>\n",
       "      <td>23588.0</td>\n",
       "      <td>28194.0</td>\n",
       "    </tr>\n",
       "    <tr>\n",
       "      <th>3</th>\n",
       "      <td>73--Articles Of Iron Or Steel</td>\n",
       "      <td>Imports</td>\n",
       "      <td>Taiwan</td>\n",
       "      <td>HS - 2</td>\n",
       "      <td>Millions of USD</td>\n",
       "      <td>2295.0</td>\n",
       "      <td>2471.0</td>\n",
       "      <td>2535.0</td>\n",
       "      <td>2226.0</td>\n",
       "      <td>2636.0</td>\n",
       "      <td>3049.0</td>\n",
       "      <td>2987.0</td>\n",
       "      <td>2613.0</td>\n",
       "      <td>3361.0</td>\n",
       "      <td>4729.0</td>\n",
       "    </tr>\n",
       "    <tr>\n",
       "      <th>4</th>\n",
       "      <td>87--Vehicles, Except Railway Or Tramway</td>\n",
       "      <td>Imports</td>\n",
       "      <td>Taiwan</td>\n",
       "      <td>HS - 2</td>\n",
       "      <td>Millions of USD</td>\n",
       "      <td>2366.0</td>\n",
       "      <td>2447.0</td>\n",
       "      <td>2696.0</td>\n",
       "      <td>2503.0</td>\n",
       "      <td>2605.0</td>\n",
       "      <td>2796.0</td>\n",
       "      <td>2962.0</td>\n",
       "      <td>2941.0</td>\n",
       "      <td>3750.0</td>\n",
       "      <td>4527.0</td>\n",
       "    </tr>\n",
       "    <tr>\n",
       "      <th>...</th>\n",
       "      <td>...</td>\n",
       "      <td>...</td>\n",
       "      <td>...</td>\n",
       "      <td>...</td>\n",
       "      <td>...</td>\n",
       "      <td>...</td>\n",
       "      <td>...</td>\n",
       "      <td>...</td>\n",
       "      <td>...</td>\n",
       "      <td>...</td>\n",
       "      <td>...</td>\n",
       "      <td>...</td>\n",
       "      <td>...</td>\n",
       "      <td>...</td>\n",
       "      <td>...</td>\n",
       "    </tr>\n",
       "    <tr>\n",
       "      <th>93</th>\n",
       "      <td>24--Tobacco &amp; Manufactured Tobacco Substitutes</td>\n",
       "      <td>Imports</td>\n",
       "      <td>Taiwan</td>\n",
       "      <td>HS - 2</td>\n",
       "      <td>Millions of USD</td>\n",
       "      <td>0.0</td>\n",
       "      <td>0.0</td>\n",
       "      <td>0.0</td>\n",
       "      <td>0.0</td>\n",
       "      <td>0.0</td>\n",
       "      <td>0.0</td>\n",
       "      <td>0.0</td>\n",
       "      <td>0.0</td>\n",
       "      <td>0.0</td>\n",
       "      <td>0.0</td>\n",
       "    </tr>\n",
       "    <tr>\n",
       "      <th>94</th>\n",
       "      <td>14--Vegetable Plaiting Materials &amp; Products</td>\n",
       "      <td>Imports</td>\n",
       "      <td>Taiwan</td>\n",
       "      <td>HS - 2</td>\n",
       "      <td>Millions of USD</td>\n",
       "      <td>0.0</td>\n",
       "      <td>0.0</td>\n",
       "      <td>0.0</td>\n",
       "      <td>0.0</td>\n",
       "      <td>0.0</td>\n",
       "      <td>0.0</td>\n",
       "      <td>0.0</td>\n",
       "      <td>0.0</td>\n",
       "      <td>0.0</td>\n",
       "      <td>0.0</td>\n",
       "    </tr>\n",
       "    <tr>\n",
       "      <th>95</th>\n",
       "      <td>50--Silk, Including Yarns</td>\n",
       "      <td>Imports</td>\n",
       "      <td>Taiwan</td>\n",
       "      <td>HS - 2</td>\n",
       "      <td>Millions of USD</td>\n",
       "      <td>0.0</td>\n",
       "      <td>0.0</td>\n",
       "      <td>0.0</td>\n",
       "      <td>0.0</td>\n",
       "      <td>0.0</td>\n",
       "      <td>0.0</td>\n",
       "      <td>0.0</td>\n",
       "      <td>0.0</td>\n",
       "      <td>NaN</td>\n",
       "      <td>0.0</td>\n",
       "    </tr>\n",
       "    <tr>\n",
       "      <th>96</th>\n",
       "      <td>36--Explosives; Pyrotechnics</td>\n",
       "      <td>Imports</td>\n",
       "      <td>Taiwan</td>\n",
       "      <td>HS - 2</td>\n",
       "      <td>Millions of USD</td>\n",
       "      <td>0.0</td>\n",
       "      <td>0.0</td>\n",
       "      <td>0.0</td>\n",
       "      <td>0.0</td>\n",
       "      <td>0.0</td>\n",
       "      <td>0.0</td>\n",
       "      <td>0.0</td>\n",
       "      <td>0.0</td>\n",
       "      <td>0.0</td>\n",
       "      <td>0.0</td>\n",
       "    </tr>\n",
       "    <tr>\n",
       "      <th>97</th>\n",
       "      <td>47--Wood Pulp</td>\n",
       "      <td>Imports</td>\n",
       "      <td>Taiwan</td>\n",
       "      <td>HS - 2</td>\n",
       "      <td>Millions of USD</td>\n",
       "      <td>0.0</td>\n",
       "      <td>NaN</td>\n",
       "      <td>0.0</td>\n",
       "      <td>0.0</td>\n",
       "      <td>0.0</td>\n",
       "      <td>NaN</td>\n",
       "      <td>NaN</td>\n",
       "      <td>NaN</td>\n",
       "      <td>0.0</td>\n",
       "      <td>0.0</td>\n",
       "    </tr>\n",
       "  </tbody>\n",
       "</table>\n",
       "<p>98 rows × 15 columns</p>\n",
       "</div>"
      ],
      "text/plain": [
       "                                          Product      Flow Country  \\\n",
       "0                               0--All Merchandise  Imports  Taiwan   \n",
       "1          85--Electric Machinery Etc; Sound Equip  Imports  Taiwan   \n",
       "2         84--Nuclear Reactors, Boilers, Machinery  Imports  Taiwan   \n",
       "3                    73--Articles Of Iron Or Steel  Imports  Taiwan   \n",
       "4          87--Vehicles, Except Railway Or Tramway  Imports  Taiwan   \n",
       "..                                             ...      ...     ...   \n",
       "93  24--Tobacco & Manufactured Tobacco Substitutes  Imports  Taiwan   \n",
       "94     14--Vegetable Plaiting Materials & Products  Imports  Taiwan   \n",
       "95                       50--Silk, Including Yarns  Imports  Taiwan   \n",
       "96                    36--Explosives; Pyrotechnics  Imports  Taiwan   \n",
       "97                                   47--Wood Pulp  Imports  Taiwan   \n",
       "\n",
       "   Product Classification             Unit     2013     2014     2015  \\\n",
       "0                  HS - 2  Millions of USD  37939.0  40840.0  40911.0   \n",
       "1                  HS - 2  Millions of USD  13897.0  14721.0  14166.0   \n",
       "2                  HS - 2  Millions of USD   6622.0   7053.0   6709.0   \n",
       "3                  HS - 2  Millions of USD   2295.0   2471.0   2535.0   \n",
       "4                  HS - 2  Millions of USD   2366.0   2447.0   2696.0   \n",
       "..                    ...              ...      ...      ...      ...   \n",
       "93                 HS - 2  Millions of USD      0.0      0.0      0.0   \n",
       "94                 HS - 2  Millions of USD      0.0      0.0      0.0   \n",
       "95                 HS - 2  Millions of USD      0.0      0.0      0.0   \n",
       "96                 HS - 2  Millions of USD      0.0      0.0      0.0   \n",
       "97                 HS - 2  Millions of USD      0.0      NaN      0.0   \n",
       "\n",
       "       2016     2017     2018     2019     2020     2021     2022  \n",
       "0   39199.0  42418.0  45709.0  54229.0  60432.0  77064.0  91845.0  \n",
       "1   13780.0  14056.0  14153.0  16051.0  18582.0  23259.0  28990.0  \n",
       "2    6820.0   8177.0   9809.0  15516.0  18454.0  23588.0  28194.0  \n",
       "3    2226.0   2636.0   3049.0   2987.0   2613.0   3361.0   4729.0  \n",
       "4    2503.0   2605.0   2796.0   2962.0   2941.0   3750.0   4527.0  \n",
       "..      ...      ...      ...      ...      ...      ...      ...  \n",
       "93      0.0      0.0      0.0      0.0      0.0      0.0      0.0  \n",
       "94      0.0      0.0      0.0      0.0      0.0      0.0      0.0  \n",
       "95      0.0      0.0      0.0      0.0      0.0      NaN      0.0  \n",
       "96      0.0      0.0      0.0      0.0      0.0      0.0      0.0  \n",
       "97      0.0      0.0      NaN      NaN      NaN      0.0      0.0  \n",
       "\n",
       "[98 rows x 15 columns]"
      ]
     },
     "execution_count": 256,
     "metadata": {},
     "output_type": "execute_result"
    }
   ],
   "source": [
    "ix"
   ]
  },
  {
   "cell_type": "code",
   "execution_count": 258,
   "metadata": {},
   "outputs": [],
   "source": [
    "#writting to csv files\n",
    "ex.to_csv('..\\\\DATA\\\\IMPS.csv', index=None)\n",
    "ix.to_csv('..\\\\DATA\\\\EXPS.csv', index=None)"
   ]
  },
  {
   "cell_type": "code",
   "execution_count": 259,
   "metadata": {},
   "outputs": [
    {
     "ename": "ParserError",
     "evalue": "Error tokenizing data. C error: Expected 11 fields in line 3, saw 13\n",
     "output_type": "error",
     "traceback": [
      "\u001b[1;31m---------------------------------------------------------------------------\u001b[0m",
      "\u001b[1;31mParserError\u001b[0m                               Traceback (most recent call last)",
      "Cell \u001b[1;32mIn[259], line 2\u001b[0m\n\u001b[0;32m      1\u001b[0m \u001b[39m# Enconding date...Making data readable\u001b[39;00m\n\u001b[1;32m----> 2\u001b[0m ex \u001b[39m=\u001b[39m pd\u001b[39m.\u001b[39;49mread_csv(\u001b[39mr\u001b[39;49m\u001b[39m'\u001b[39;49m\u001b[39mC:/REPO/2023-02-DSI-WE/OlveraJ/CAPSTONE/DATA/Taiwan_Trade_Exports.csv\u001b[39;49m\u001b[39m'\u001b[39;49m, encoding\u001b[39m=\u001b[39;49m\u001b[39m'\u001b[39;49m\u001b[39mutf-16\u001b[39;49m\u001b[39m'\u001b[39;49m)\n",
      "File \u001b[1;32mc:\\Users\\olver\\anaconda3\\lib\\site-packages\\pandas\\util\\_decorators.py:211\u001b[0m, in \u001b[0;36mdeprecate_kwarg.<locals>._deprecate_kwarg.<locals>.wrapper\u001b[1;34m(*args, **kwargs)\u001b[0m\n\u001b[0;32m    209\u001b[0m     \u001b[39melse\u001b[39;00m:\n\u001b[0;32m    210\u001b[0m         kwargs[new_arg_name] \u001b[39m=\u001b[39m new_arg_value\n\u001b[1;32m--> 211\u001b[0m \u001b[39mreturn\u001b[39;00m func(\u001b[39m*\u001b[39margs, \u001b[39m*\u001b[39m\u001b[39m*\u001b[39mkwargs)\n",
      "File \u001b[1;32mc:\\Users\\olver\\anaconda3\\lib\\site-packages\\pandas\\util\\_decorators.py:331\u001b[0m, in \u001b[0;36mdeprecate_nonkeyword_arguments.<locals>.decorate.<locals>.wrapper\u001b[1;34m(*args, **kwargs)\u001b[0m\n\u001b[0;32m    325\u001b[0m \u001b[39mif\u001b[39;00m \u001b[39mlen\u001b[39m(args) \u001b[39m>\u001b[39m num_allow_args:\n\u001b[0;32m    326\u001b[0m     warnings\u001b[39m.\u001b[39mwarn(\n\u001b[0;32m    327\u001b[0m         msg\u001b[39m.\u001b[39mformat(arguments\u001b[39m=\u001b[39m_format_argument_list(allow_args)),\n\u001b[0;32m    328\u001b[0m         \u001b[39mFutureWarning\u001b[39;00m,\n\u001b[0;32m    329\u001b[0m         stacklevel\u001b[39m=\u001b[39mfind_stack_level(),\n\u001b[0;32m    330\u001b[0m     )\n\u001b[1;32m--> 331\u001b[0m \u001b[39mreturn\u001b[39;00m func(\u001b[39m*\u001b[39margs, \u001b[39m*\u001b[39m\u001b[39m*\u001b[39mkwargs)\n",
      "File \u001b[1;32mc:\\Users\\olver\\anaconda3\\lib\\site-packages\\pandas\\io\\parsers\\readers.py:950\u001b[0m, in \u001b[0;36mread_csv\u001b[1;34m(filepath_or_buffer, sep, delimiter, header, names, index_col, usecols, squeeze, prefix, mangle_dupe_cols, dtype, engine, converters, true_values, false_values, skipinitialspace, skiprows, skipfooter, nrows, na_values, keep_default_na, na_filter, verbose, skip_blank_lines, parse_dates, infer_datetime_format, keep_date_col, date_parser, dayfirst, cache_dates, iterator, chunksize, compression, thousands, decimal, lineterminator, quotechar, quoting, doublequote, escapechar, comment, encoding, encoding_errors, dialect, error_bad_lines, warn_bad_lines, on_bad_lines, delim_whitespace, low_memory, memory_map, float_precision, storage_options)\u001b[0m\n\u001b[0;32m    935\u001b[0m kwds_defaults \u001b[39m=\u001b[39m _refine_defaults_read(\n\u001b[0;32m    936\u001b[0m     dialect,\n\u001b[0;32m    937\u001b[0m     delimiter,\n\u001b[1;32m   (...)\u001b[0m\n\u001b[0;32m    946\u001b[0m     defaults\u001b[39m=\u001b[39m{\u001b[39m\"\u001b[39m\u001b[39mdelimiter\u001b[39m\u001b[39m\"\u001b[39m: \u001b[39m\"\u001b[39m\u001b[39m,\u001b[39m\u001b[39m\"\u001b[39m},\n\u001b[0;32m    947\u001b[0m )\n\u001b[0;32m    948\u001b[0m kwds\u001b[39m.\u001b[39mupdate(kwds_defaults)\n\u001b[1;32m--> 950\u001b[0m \u001b[39mreturn\u001b[39;00m _read(filepath_or_buffer, kwds)\n",
      "File \u001b[1;32mc:\\Users\\olver\\anaconda3\\lib\\site-packages\\pandas\\io\\parsers\\readers.py:611\u001b[0m, in \u001b[0;36m_read\u001b[1;34m(filepath_or_buffer, kwds)\u001b[0m\n\u001b[0;32m    608\u001b[0m     \u001b[39mreturn\u001b[39;00m parser\n\u001b[0;32m    610\u001b[0m \u001b[39mwith\u001b[39;00m parser:\n\u001b[1;32m--> 611\u001b[0m     \u001b[39mreturn\u001b[39;00m parser\u001b[39m.\u001b[39;49mread(nrows)\n",
      "File \u001b[1;32mc:\\Users\\olver\\anaconda3\\lib\\site-packages\\pandas\\io\\parsers\\readers.py:1778\u001b[0m, in \u001b[0;36mTextFileReader.read\u001b[1;34m(self, nrows)\u001b[0m\n\u001b[0;32m   1771\u001b[0m nrows \u001b[39m=\u001b[39m validate_integer(\u001b[39m\"\u001b[39m\u001b[39mnrows\u001b[39m\u001b[39m\"\u001b[39m, nrows)\n\u001b[0;32m   1772\u001b[0m \u001b[39mtry\u001b[39;00m:\n\u001b[0;32m   1773\u001b[0m     \u001b[39m# error: \"ParserBase\" has no attribute \"read\"\u001b[39;00m\n\u001b[0;32m   1774\u001b[0m     (\n\u001b[0;32m   1775\u001b[0m         index,\n\u001b[0;32m   1776\u001b[0m         columns,\n\u001b[0;32m   1777\u001b[0m         col_dict,\n\u001b[1;32m-> 1778\u001b[0m     ) \u001b[39m=\u001b[39m \u001b[39mself\u001b[39;49m\u001b[39m.\u001b[39;49m_engine\u001b[39m.\u001b[39;49mread(  \u001b[39m# type: ignore[attr-defined]\u001b[39;49;00m\n\u001b[0;32m   1779\u001b[0m         nrows\n\u001b[0;32m   1780\u001b[0m     )\n\u001b[0;32m   1781\u001b[0m \u001b[39mexcept\u001b[39;00m \u001b[39mException\u001b[39;00m:\n\u001b[0;32m   1782\u001b[0m     \u001b[39mself\u001b[39m\u001b[39m.\u001b[39mclose()\n",
      "File \u001b[1;32mc:\\Users\\olver\\anaconda3\\lib\\site-packages\\pandas\\io\\parsers\\c_parser_wrapper.py:230\u001b[0m, in \u001b[0;36mCParserWrapper.read\u001b[1;34m(self, nrows)\u001b[0m\n\u001b[0;32m    228\u001b[0m \u001b[39mtry\u001b[39;00m:\n\u001b[0;32m    229\u001b[0m     \u001b[39mif\u001b[39;00m \u001b[39mself\u001b[39m\u001b[39m.\u001b[39mlow_memory:\n\u001b[1;32m--> 230\u001b[0m         chunks \u001b[39m=\u001b[39m \u001b[39mself\u001b[39;49m\u001b[39m.\u001b[39;49m_reader\u001b[39m.\u001b[39;49mread_low_memory(nrows)\n\u001b[0;32m    231\u001b[0m         \u001b[39m# destructive to chunks\u001b[39;00m\n\u001b[0;32m    232\u001b[0m         data \u001b[39m=\u001b[39m _concatenate_chunks(chunks)\n",
      "File \u001b[1;32mc:\\Users\\olver\\anaconda3\\lib\\site-packages\\pandas\\_libs\\parsers.pyx:808\u001b[0m, in \u001b[0;36mpandas._libs.parsers.TextReader.read_low_memory\u001b[1;34m()\u001b[0m\n",
      "File \u001b[1;32mc:\\Users\\olver\\anaconda3\\lib\\site-packages\\pandas\\_libs\\parsers.pyx:866\u001b[0m, in \u001b[0;36mpandas._libs.parsers.TextReader._read_rows\u001b[1;34m()\u001b[0m\n",
      "File \u001b[1;32mc:\\Users\\olver\\anaconda3\\lib\\site-packages\\pandas\\_libs\\parsers.pyx:852\u001b[0m, in \u001b[0;36mpandas._libs.parsers.TextReader._tokenize_rows\u001b[1;34m()\u001b[0m\n",
      "File \u001b[1;32mc:\\Users\\olver\\anaconda3\\lib\\site-packages\\pandas\\_libs\\parsers.pyx:1973\u001b[0m, in \u001b[0;36mpandas._libs.parsers.raise_parser_error\u001b[1;34m()\u001b[0m\n",
      "\u001b[1;31mParserError\u001b[0m: Error tokenizing data. C error: Expected 11 fields in line 3, saw 13\n"
     ]
    }
   ],
   "source": [
    "# Enconding date...Making data readable\n",
    "ex = pd.read_csv(r'C:/REPO/2023-02-DSI-WE/OlveraJ/CAPSTONE/DATA/Taiwan_Trade_Exports.csv', encoding='utf-16')\n"
   ]
  },
  {
   "cell_type": "code",
   "execution_count": 260,
   "metadata": {},
   "outputs": [
    {
     "ename": "ValueError",
     "evalue": "could not convert string to float: '0--All Merchandise'",
     "output_type": "error",
     "traceback": [
      "\u001b[1;31m---------------------------------------------------------------------------\u001b[0m",
      "\u001b[1;31mValueError\u001b[0m                                Traceback (most recent call last)",
      "Cell \u001b[1;32mIn[260], line 1\u001b[0m\n\u001b[1;32m----> 1\u001b[0m \u001b[39mfor\u001b[39;00m T \u001b[39min\u001b[39;00m TexpY [\u001b[39m5\u001b[39m:]:ex[T]\u001b[39m=\u001b[39m ex[T]\u001b[39m.\u001b[39mastype(\u001b[39mfloat\u001b[39m)\n",
      "File \u001b[1;32mc:\\Users\\olver\\anaconda3\\lib\\site-packages\\pandas\\core\\generic.py:6240\u001b[0m, in \u001b[0;36mNDFrame.astype\u001b[1;34m(self, dtype, copy, errors)\u001b[0m\n\u001b[0;32m   6233\u001b[0m     results \u001b[39m=\u001b[39m [\n\u001b[0;32m   6234\u001b[0m         \u001b[39mself\u001b[39m\u001b[39m.\u001b[39miloc[:, i]\u001b[39m.\u001b[39mastype(dtype, copy\u001b[39m=\u001b[39mcopy)\n\u001b[0;32m   6235\u001b[0m         \u001b[39mfor\u001b[39;00m i \u001b[39min\u001b[39;00m \u001b[39mrange\u001b[39m(\u001b[39mlen\u001b[39m(\u001b[39mself\u001b[39m\u001b[39m.\u001b[39mcolumns))\n\u001b[0;32m   6236\u001b[0m     ]\n\u001b[0;32m   6238\u001b[0m \u001b[39melse\u001b[39;00m:\n\u001b[0;32m   6239\u001b[0m     \u001b[39m# else, only a single dtype is given\u001b[39;00m\n\u001b[1;32m-> 6240\u001b[0m     new_data \u001b[39m=\u001b[39m \u001b[39mself\u001b[39;49m\u001b[39m.\u001b[39;49m_mgr\u001b[39m.\u001b[39;49mastype(dtype\u001b[39m=\u001b[39;49mdtype, copy\u001b[39m=\u001b[39;49mcopy, errors\u001b[39m=\u001b[39;49merrors)\n\u001b[0;32m   6241\u001b[0m     \u001b[39mreturn\u001b[39;00m \u001b[39mself\u001b[39m\u001b[39m.\u001b[39m_constructor(new_data)\u001b[39m.\u001b[39m__finalize__(\u001b[39mself\u001b[39m, method\u001b[39m=\u001b[39m\u001b[39m\"\u001b[39m\u001b[39mastype\u001b[39m\u001b[39m\"\u001b[39m)\n\u001b[0;32m   6243\u001b[0m \u001b[39m# GH 33113: handle empty frame or series\u001b[39;00m\n",
      "File \u001b[1;32mc:\\Users\\olver\\anaconda3\\lib\\site-packages\\pandas\\core\\internals\\managers.py:448\u001b[0m, in \u001b[0;36mBaseBlockManager.astype\u001b[1;34m(self, dtype, copy, errors)\u001b[0m\n\u001b[0;32m    447\u001b[0m \u001b[39mdef\u001b[39;00m \u001b[39mastype\u001b[39m(\u001b[39mself\u001b[39m: T, dtype, copy: \u001b[39mbool\u001b[39m \u001b[39m=\u001b[39m \u001b[39mFalse\u001b[39;00m, errors: \u001b[39mstr\u001b[39m \u001b[39m=\u001b[39m \u001b[39m\"\u001b[39m\u001b[39mraise\u001b[39m\u001b[39m\"\u001b[39m) \u001b[39m-\u001b[39m\u001b[39m>\u001b[39m T:\n\u001b[1;32m--> 448\u001b[0m     \u001b[39mreturn\u001b[39;00m \u001b[39mself\u001b[39;49m\u001b[39m.\u001b[39;49mapply(\u001b[39m\"\u001b[39;49m\u001b[39mastype\u001b[39;49m\u001b[39m\"\u001b[39;49m, dtype\u001b[39m=\u001b[39;49mdtype, copy\u001b[39m=\u001b[39;49mcopy, errors\u001b[39m=\u001b[39;49merrors)\n",
      "File \u001b[1;32mc:\\Users\\olver\\anaconda3\\lib\\site-packages\\pandas\\core\\internals\\managers.py:352\u001b[0m, in \u001b[0;36mBaseBlockManager.apply\u001b[1;34m(self, f, align_keys, ignore_failures, **kwargs)\u001b[0m\n\u001b[0;32m    350\u001b[0m         applied \u001b[39m=\u001b[39m b\u001b[39m.\u001b[39mapply(f, \u001b[39m*\u001b[39m\u001b[39m*\u001b[39mkwargs)\n\u001b[0;32m    351\u001b[0m     \u001b[39melse\u001b[39;00m:\n\u001b[1;32m--> 352\u001b[0m         applied \u001b[39m=\u001b[39m \u001b[39mgetattr\u001b[39m(b, f)(\u001b[39m*\u001b[39m\u001b[39m*\u001b[39mkwargs)\n\u001b[0;32m    353\u001b[0m \u001b[39mexcept\u001b[39;00m (\u001b[39mTypeError\u001b[39;00m, \u001b[39mNotImplementedError\u001b[39;00m):\n\u001b[0;32m    354\u001b[0m     \u001b[39mif\u001b[39;00m \u001b[39mnot\u001b[39;00m ignore_failures:\n",
      "File \u001b[1;32mc:\\Users\\olver\\anaconda3\\lib\\site-packages\\pandas\\core\\internals\\blocks.py:526\u001b[0m, in \u001b[0;36mBlock.astype\u001b[1;34m(self, dtype, copy, errors)\u001b[0m\n\u001b[0;32m    508\u001b[0m \u001b[39m\"\"\"\u001b[39;00m\n\u001b[0;32m    509\u001b[0m \u001b[39mCoerce to the new dtype.\u001b[39;00m\n\u001b[0;32m    510\u001b[0m \n\u001b[1;32m   (...)\u001b[0m\n\u001b[0;32m    522\u001b[0m \u001b[39mBlock\u001b[39;00m\n\u001b[0;32m    523\u001b[0m \u001b[39m\"\"\"\u001b[39;00m\n\u001b[0;32m    524\u001b[0m values \u001b[39m=\u001b[39m \u001b[39mself\u001b[39m\u001b[39m.\u001b[39mvalues\n\u001b[1;32m--> 526\u001b[0m new_values \u001b[39m=\u001b[39m astype_array_safe(values, dtype, copy\u001b[39m=\u001b[39;49mcopy, errors\u001b[39m=\u001b[39;49merrors)\n\u001b[0;32m    528\u001b[0m new_values \u001b[39m=\u001b[39m maybe_coerce_values(new_values)\n\u001b[0;32m    529\u001b[0m newb \u001b[39m=\u001b[39m \u001b[39mself\u001b[39m\u001b[39m.\u001b[39mmake_block(new_values)\n",
      "File \u001b[1;32mc:\\Users\\olver\\anaconda3\\lib\\site-packages\\pandas\\core\\dtypes\\astype.py:299\u001b[0m, in \u001b[0;36mastype_array_safe\u001b[1;34m(values, dtype, copy, errors)\u001b[0m\n\u001b[0;32m    296\u001b[0m     \u001b[39mreturn\u001b[39;00m values\u001b[39m.\u001b[39mcopy()\n\u001b[0;32m    298\u001b[0m \u001b[39mtry\u001b[39;00m:\n\u001b[1;32m--> 299\u001b[0m     new_values \u001b[39m=\u001b[39m astype_array(values, dtype, copy\u001b[39m=\u001b[39;49mcopy)\n\u001b[0;32m    300\u001b[0m \u001b[39mexcept\u001b[39;00m (\u001b[39mValueError\u001b[39;00m, \u001b[39mTypeError\u001b[39;00m):\n\u001b[0;32m    301\u001b[0m     \u001b[39m# e.g. astype_nansafe can fail on object-dtype of strings\u001b[39;00m\n\u001b[0;32m    302\u001b[0m     \u001b[39m#  trying to convert to float\u001b[39;00m\n\u001b[0;32m    303\u001b[0m     \u001b[39mif\u001b[39;00m errors \u001b[39m==\u001b[39m \u001b[39m\"\u001b[39m\u001b[39mignore\u001b[39m\u001b[39m\"\u001b[39m:\n",
      "File \u001b[1;32mc:\\Users\\olver\\anaconda3\\lib\\site-packages\\pandas\\core\\dtypes\\astype.py:230\u001b[0m, in \u001b[0;36mastype_array\u001b[1;34m(values, dtype, copy)\u001b[0m\n\u001b[0;32m    227\u001b[0m     values \u001b[39m=\u001b[39m values\u001b[39m.\u001b[39mastype(dtype, copy\u001b[39m=\u001b[39mcopy)\n\u001b[0;32m    229\u001b[0m \u001b[39melse\u001b[39;00m:\n\u001b[1;32m--> 230\u001b[0m     values \u001b[39m=\u001b[39m astype_nansafe(values, dtype, copy\u001b[39m=\u001b[39;49mcopy)\n\u001b[0;32m    232\u001b[0m \u001b[39m# in pandas we don't store numpy str dtypes, so convert to object\u001b[39;00m\n\u001b[0;32m    233\u001b[0m \u001b[39mif\u001b[39;00m \u001b[39misinstance\u001b[39m(dtype, np\u001b[39m.\u001b[39mdtype) \u001b[39mand\u001b[39;00m \u001b[39missubclass\u001b[39m(values\u001b[39m.\u001b[39mdtype\u001b[39m.\u001b[39mtype, \u001b[39mstr\u001b[39m):\n",
      "File \u001b[1;32mc:\\Users\\olver\\anaconda3\\lib\\site-packages\\pandas\\core\\dtypes\\astype.py:170\u001b[0m, in \u001b[0;36mastype_nansafe\u001b[1;34m(arr, dtype, copy, skipna)\u001b[0m\n\u001b[0;32m    166\u001b[0m     \u001b[39mraise\u001b[39;00m \u001b[39mValueError\u001b[39;00m(msg)\n\u001b[0;32m    168\u001b[0m \u001b[39mif\u001b[39;00m copy \u001b[39mor\u001b[39;00m is_object_dtype(arr\u001b[39m.\u001b[39mdtype) \u001b[39mor\u001b[39;00m is_object_dtype(dtype):\n\u001b[0;32m    169\u001b[0m     \u001b[39m# Explicit copy, or required since NumPy can't view from / to object.\u001b[39;00m\n\u001b[1;32m--> 170\u001b[0m     \u001b[39mreturn\u001b[39;00m arr\u001b[39m.\u001b[39;49mastype(dtype, copy\u001b[39m=\u001b[39;49m\u001b[39mTrue\u001b[39;49;00m)\n\u001b[0;32m    172\u001b[0m \u001b[39mreturn\u001b[39;00m arr\u001b[39m.\u001b[39mastype(dtype, copy\u001b[39m=\u001b[39mcopy)\n",
      "\u001b[1;31mValueError\u001b[0m: could not convert string to float: '0--All Merchandise'"
     ]
    }
   ],
   "source": [
    "for T in TexpY [5:]:ex[T]= ex[T].astype(float)"
   ]
  },
  {
   "cell_type": "code",
   "execution_count": 261,
   "metadata": {},
   "outputs": [
    {
     "ename": "KeyError",
     "evalue": "''",
     "output_type": "error",
     "traceback": [
      "\u001b[1;31m---------------------------------------------------------------------------\u001b[0m",
      "\u001b[1;31mKeyError\u001b[0m                                  Traceback (most recent call last)",
      "File \u001b[1;32mc:\\Users\\olver\\anaconda3\\lib\\site-packages\\pandas\\core\\indexes\\base.py:3802\u001b[0m, in \u001b[0;36mIndex.get_loc\u001b[1;34m(self, key, method, tolerance)\u001b[0m\n\u001b[0;32m   3801\u001b[0m \u001b[39mtry\u001b[39;00m:\n\u001b[1;32m-> 3802\u001b[0m     \u001b[39mreturn\u001b[39;00m \u001b[39mself\u001b[39;49m\u001b[39m.\u001b[39;49m_engine\u001b[39m.\u001b[39;49mget_loc(casted_key)\n\u001b[0;32m   3803\u001b[0m \u001b[39mexcept\u001b[39;00m \u001b[39mKeyError\u001b[39;00m \u001b[39mas\u001b[39;00m err:\n",
      "File \u001b[1;32mc:\\Users\\olver\\anaconda3\\lib\\site-packages\\pandas\\_libs\\index.pyx:138\u001b[0m, in \u001b[0;36mpandas._libs.index.IndexEngine.get_loc\u001b[1;34m()\u001b[0m\n",
      "File \u001b[1;32mc:\\Users\\olver\\anaconda3\\lib\\site-packages\\pandas\\_libs\\index.pyx:165\u001b[0m, in \u001b[0;36mpandas._libs.index.IndexEngine.get_loc\u001b[1;34m()\u001b[0m\n",
      "File \u001b[1;32mpandas\\_libs\\hashtable_class_helper.pxi:5745\u001b[0m, in \u001b[0;36mpandas._libs.hashtable.PyObjectHashTable.get_item\u001b[1;34m()\u001b[0m\n",
      "File \u001b[1;32mpandas\\_libs\\hashtable_class_helper.pxi:5753\u001b[0m, in \u001b[0;36mpandas._libs.hashtable.PyObjectHashTable.get_item\u001b[1;34m()\u001b[0m\n",
      "\u001b[1;31mKeyError\u001b[0m: ''",
      "\nThe above exception was the direct cause of the following exception:\n",
      "\u001b[1;31mKeyError\u001b[0m                                  Traceback (most recent call last)",
      "Cell \u001b[1;32mIn[261], line 1\u001b[0m\n\u001b[1;32m----> 1\u001b[0m ex[\u001b[39m\"\u001b[39m\u001b[39m\"\u001b[39m]\u001b[39m=\u001b[39m ex[\u001b[39m\"\u001b[39;49m\u001b[39m\"\u001b[39;49m]\u001b[39m.\u001b[39mreplace(\u001b[39m\"\u001b[39m\u001b[39m$\u001b[39m\u001b[39m\"\u001b[39m,\u001b[39m\"\u001b[39m\u001b[39m\"\u001b[39m)\n",
      "File \u001b[1;32mc:\\Users\\olver\\anaconda3\\lib\\site-packages\\pandas\\core\\frame.py:3807\u001b[0m, in \u001b[0;36mDataFrame.__getitem__\u001b[1;34m(self, key)\u001b[0m\n\u001b[0;32m   3805\u001b[0m \u001b[39mif\u001b[39;00m \u001b[39mself\u001b[39m\u001b[39m.\u001b[39mcolumns\u001b[39m.\u001b[39mnlevels \u001b[39m>\u001b[39m \u001b[39m1\u001b[39m:\n\u001b[0;32m   3806\u001b[0m     \u001b[39mreturn\u001b[39;00m \u001b[39mself\u001b[39m\u001b[39m.\u001b[39m_getitem_multilevel(key)\n\u001b[1;32m-> 3807\u001b[0m indexer \u001b[39m=\u001b[39m \u001b[39mself\u001b[39;49m\u001b[39m.\u001b[39;49mcolumns\u001b[39m.\u001b[39;49mget_loc(key)\n\u001b[0;32m   3808\u001b[0m \u001b[39mif\u001b[39;00m is_integer(indexer):\n\u001b[0;32m   3809\u001b[0m     indexer \u001b[39m=\u001b[39m [indexer]\n",
      "File \u001b[1;32mc:\\Users\\olver\\anaconda3\\lib\\site-packages\\pandas\\core\\indexes\\base.py:3804\u001b[0m, in \u001b[0;36mIndex.get_loc\u001b[1;34m(self, key, method, tolerance)\u001b[0m\n\u001b[0;32m   3802\u001b[0m     \u001b[39mreturn\u001b[39;00m \u001b[39mself\u001b[39m\u001b[39m.\u001b[39m_engine\u001b[39m.\u001b[39mget_loc(casted_key)\n\u001b[0;32m   3803\u001b[0m \u001b[39mexcept\u001b[39;00m \u001b[39mKeyError\u001b[39;00m \u001b[39mas\u001b[39;00m err:\n\u001b[1;32m-> 3804\u001b[0m     \u001b[39mraise\u001b[39;00m \u001b[39mKeyError\u001b[39;00m(key) \u001b[39mfrom\u001b[39;00m \u001b[39merr\u001b[39;00m\n\u001b[0;32m   3805\u001b[0m \u001b[39mexcept\u001b[39;00m \u001b[39mTypeError\u001b[39;00m:\n\u001b[0;32m   3806\u001b[0m     \u001b[39m# If we have a listlike key, _check_indexing_error will raise\u001b[39;00m\n\u001b[0;32m   3807\u001b[0m     \u001b[39m#  InvalidIndexError. Otherwise we fall through and re-raise\u001b[39;00m\n\u001b[0;32m   3808\u001b[0m     \u001b[39m#  the TypeError.\u001b[39;00m\n\u001b[0;32m   3809\u001b[0m     \u001b[39mself\u001b[39m\u001b[39m.\u001b[39m_check_indexing_error(key)\n",
      "\u001b[1;31mKeyError\u001b[0m: ''"
     ]
    }
   ],
   "source": [
    "ex[\"\"]= ex[\"\"].replace(\"$\",\"\")"
   ]
  },
  {
   "cell_type": "code",
   "execution_count": null,
   "metadata": {},
   "outputs": [],
   "source": [
    "# Verifying the data import and shaping"
   ]
  },
  {
   "cell_type": "code",
   "execution_count": 262,
   "metadata": {},
   "outputs": [
    {
     "data": {
      "text/html": [
       "<div>\n",
       "<style scoped>\n",
       "    .dataframe tbody tr th:only-of-type {\n",
       "        vertical-align: middle;\n",
       "    }\n",
       "\n",
       "    .dataframe tbody tr th {\n",
       "        vertical-align: top;\n",
       "    }\n",
       "\n",
       "    .dataframe thead th {\n",
       "        text-align: right;\n",
       "    }\n",
       "</style>\n",
       "<table border=\"1\" class=\"dataframe\">\n",
       "  <thead>\n",
       "    <tr style=\"text-align: right;\">\n",
       "      <th></th>\n",
       "      <th>2013</th>\n",
       "      <th>2014</th>\n",
       "      <th>2015</th>\n",
       "      <th>2016</th>\n",
       "      <th>2017</th>\n",
       "      <th>2018</th>\n",
       "      <th>2019</th>\n",
       "      <th>2020</th>\n",
       "      <th>2021</th>\n",
       "      <th>2022</th>\n",
       "    </tr>\n",
       "  </thead>\n",
       "  <tbody>\n",
       "    <tr>\n",
       "      <th>count</th>\n",
       "      <td>98.000000</td>\n",
       "      <td>98.000000</td>\n",
       "      <td>98.000000</td>\n",
       "      <td>98.000000</td>\n",
       "      <td>98.000000</td>\n",
       "      <td>98.000000</td>\n",
       "      <td>98.000000</td>\n",
       "      <td>98.000000</td>\n",
       "      <td>98.000000</td>\n",
       "      <td>98.000000</td>\n",
       "    </tr>\n",
       "    <tr>\n",
       "      <th>mean</th>\n",
       "      <td>520.877551</td>\n",
       "      <td>544.387755</td>\n",
       "      <td>527.030612</td>\n",
       "      <td>531.275510</td>\n",
       "      <td>525.193878</td>\n",
       "      <td>621.979592</td>\n",
       "      <td>636.765306</td>\n",
       "      <td>616.540816</td>\n",
       "      <td>751.816327</td>\n",
       "      <td>892.132653</td>\n",
       "    </tr>\n",
       "    <tr>\n",
       "      <th>std</th>\n",
       "      <td>2642.913022</td>\n",
       "      <td>2759.722004</td>\n",
       "      <td>2691.369545</td>\n",
       "      <td>2731.213034</td>\n",
       "      <td>2688.108612</td>\n",
       "      <td>3162.813448</td>\n",
       "      <td>3249.078054</td>\n",
       "      <td>3149.159784</td>\n",
       "      <td>3858.155457</td>\n",
       "      <td>4592.520651</td>\n",
       "    </tr>\n",
       "    <tr>\n",
       "      <th>min</th>\n",
       "      <td>0.000000</td>\n",
       "      <td>0.000000</td>\n",
       "      <td>0.000000</td>\n",
       "      <td>0.000000</td>\n",
       "      <td>0.000000</td>\n",
       "      <td>0.000000</td>\n",
       "      <td>0.000000</td>\n",
       "      <td>0.000000</td>\n",
       "      <td>0.000000</td>\n",
       "      <td>0.000000</td>\n",
       "    </tr>\n",
       "    <tr>\n",
       "      <th>25%</th>\n",
       "      <td>9.000000</td>\n",
       "      <td>6.250000</td>\n",
       "      <td>7.000000</td>\n",
       "      <td>8.000000</td>\n",
       "      <td>7.000000</td>\n",
       "      <td>7.000000</td>\n",
       "      <td>7.500000</td>\n",
       "      <td>6.000000</td>\n",
       "      <td>8.000000</td>\n",
       "      <td>7.250000</td>\n",
       "    </tr>\n",
       "    <tr>\n",
       "      <th>50%</th>\n",
       "      <td>40.000000</td>\n",
       "      <td>42.500000</td>\n",
       "      <td>38.000000</td>\n",
       "      <td>33.000000</td>\n",
       "      <td>33.500000</td>\n",
       "      <td>39.000000</td>\n",
       "      <td>38.500000</td>\n",
       "      <td>37.500000</td>\n",
       "      <td>36.500000</td>\n",
       "      <td>43.500000</td>\n",
       "    </tr>\n",
       "    <tr>\n",
       "      <th>75%</th>\n",
       "      <td>185.500000</td>\n",
       "      <td>163.000000</td>\n",
       "      <td>136.000000</td>\n",
       "      <td>131.000000</td>\n",
       "      <td>139.250000</td>\n",
       "      <td>172.500000</td>\n",
       "      <td>171.000000</td>\n",
       "      <td>169.000000</td>\n",
       "      <td>179.750000</td>\n",
       "      <td>178.250000</td>\n",
       "    </tr>\n",
       "    <tr>\n",
       "      <th>max</th>\n",
       "      <td>25523.000000</td>\n",
       "      <td>26675.000000</td>\n",
       "      <td>25826.000000</td>\n",
       "      <td>26034.000000</td>\n",
       "      <td>25736.000000</td>\n",
       "      <td>30478.000000</td>\n",
       "      <td>31202.000000</td>\n",
       "      <td>30213.000000</td>\n",
       "      <td>36838.000000</td>\n",
       "      <td>43713.000000</td>\n",
       "    </tr>\n",
       "  </tbody>\n",
       "</table>\n",
       "</div>"
      ],
      "text/plain": [
       "               2013          2014          2015          2016          2017  \\\n",
       "count     98.000000     98.000000     98.000000     98.000000     98.000000   \n",
       "mean     520.877551    544.387755    527.030612    531.275510    525.193878   \n",
       "std     2642.913022   2759.722004   2691.369545   2731.213034   2688.108612   \n",
       "min        0.000000      0.000000      0.000000      0.000000      0.000000   \n",
       "25%        9.000000      6.250000      7.000000      8.000000      7.000000   \n",
       "50%       40.000000     42.500000     38.000000     33.000000     33.500000   \n",
       "75%      185.500000    163.000000    136.000000    131.000000    139.250000   \n",
       "max    25523.000000  26675.000000  25826.000000  26034.000000  25736.000000   \n",
       "\n",
       "               2018          2019          2020          2021          2022  \n",
       "count     98.000000     98.000000     98.000000     98.000000     98.000000  \n",
       "mean     621.979592    636.765306    616.540816    751.816327    892.132653  \n",
       "std     3162.813448   3249.078054   3149.159784   3858.155457   4592.520651  \n",
       "min        0.000000      0.000000      0.000000      0.000000      0.000000  \n",
       "25%        7.000000      7.500000      6.000000      8.000000      7.250000  \n",
       "50%       39.000000     38.500000     37.500000     36.500000     43.500000  \n",
       "75%      172.500000    171.000000    169.000000    179.750000    178.250000  \n",
       "max    30478.000000  31202.000000  30213.000000  36838.000000  43713.000000  "
      ]
     },
     "execution_count": 262,
     "metadata": {},
     "output_type": "execute_result"
    }
   ],
   "source": [
    "ex.describe()"
   ]
  },
  {
   "cell_type": "code",
   "execution_count": 309,
   "metadata": {},
   "outputs": [
    {
     "data": {
      "text/html": [
       "<div>\n",
       "<style scoped>\n",
       "    .dataframe tbody tr th:only-of-type {\n",
       "        vertical-align: middle;\n",
       "    }\n",
       "\n",
       "    .dataframe tbody tr th {\n",
       "        vertical-align: top;\n",
       "    }\n",
       "\n",
       "    .dataframe thead th {\n",
       "        text-align: right;\n",
       "    }\n",
       "</style>\n",
       "<table border=\"1\" class=\"dataframe\">\n",
       "  <thead>\n",
       "    <tr style=\"text-align: right;\">\n",
       "      <th></th>\n",
       "      <th>2013</th>\n",
       "      <th>2014</th>\n",
       "      <th>2015</th>\n",
       "      <th>2016</th>\n",
       "      <th>2017</th>\n",
       "      <th>2018</th>\n",
       "      <th>2019</th>\n",
       "      <th>2020</th>\n",
       "      <th>2021</th>\n",
       "      <th>2022</th>\n",
       "    </tr>\n",
       "  </thead>\n",
       "  <tbody>\n",
       "    <tr>\n",
       "      <th>count</th>\n",
       "      <td>98.000000</td>\n",
       "      <td>97.000000</td>\n",
       "      <td>98.000000</td>\n",
       "      <td>98.000000</td>\n",
       "      <td>98.000000</td>\n",
       "      <td>97.000000</td>\n",
       "      <td>97.000000</td>\n",
       "      <td>97.000000</td>\n",
       "      <td>97.000000</td>\n",
       "      <td>98.000000</td>\n",
       "    </tr>\n",
       "    <tr>\n",
       "      <th>mean</th>\n",
       "      <td>774.285714</td>\n",
       "      <td>842.020619</td>\n",
       "      <td>834.948980</td>\n",
       "      <td>800.030612</td>\n",
       "      <td>865.683673</td>\n",
       "      <td>942.443299</td>\n",
       "      <td>1118.134021</td>\n",
       "      <td>1245.969072</td>\n",
       "      <td>1588.917526</td>\n",
       "      <td>1874.397959</td>\n",
       "    </tr>\n",
       "    <tr>\n",
       "      <th>std</th>\n",
       "      <td>4108.724017</td>\n",
       "      <td>4435.663885</td>\n",
       "      <td>4398.683281</td>\n",
       "      <td>4226.103900</td>\n",
       "      <td>4559.882406</td>\n",
       "      <td>4927.861641</td>\n",
       "      <td>5909.187239</td>\n",
       "      <td>6632.866035</td>\n",
       "      <td>8448.376505</td>\n",
       "      <td>10055.449937</td>\n",
       "    </tr>\n",
       "    <tr>\n",
       "      <th>min</th>\n",
       "      <td>0.000000</td>\n",
       "      <td>0.000000</td>\n",
       "      <td>0.000000</td>\n",
       "      <td>0.000000</td>\n",
       "      <td>0.000000</td>\n",
       "      <td>0.000000</td>\n",
       "      <td>0.000000</td>\n",
       "      <td>0.000000</td>\n",
       "      <td>0.000000</td>\n",
       "      <td>0.000000</td>\n",
       "    </tr>\n",
       "    <tr>\n",
       "      <th>25%</th>\n",
       "      <td>4.250000</td>\n",
       "      <td>5.000000</td>\n",
       "      <td>5.000000</td>\n",
       "      <td>4.250000</td>\n",
       "      <td>5.250000</td>\n",
       "      <td>6.000000</td>\n",
       "      <td>5.000000</td>\n",
       "      <td>5.000000</td>\n",
       "      <td>4.000000</td>\n",
       "      <td>3.500000</td>\n",
       "    </tr>\n",
       "    <tr>\n",
       "      <th>50%</th>\n",
       "      <td>39.000000</td>\n",
       "      <td>38.000000</td>\n",
       "      <td>47.000000</td>\n",
       "      <td>38.000000</td>\n",
       "      <td>38.000000</td>\n",
       "      <td>38.000000</td>\n",
       "      <td>37.000000</td>\n",
       "      <td>42.000000</td>\n",
       "      <td>46.000000</td>\n",
       "      <td>52.000000</td>\n",
       "    </tr>\n",
       "    <tr>\n",
       "      <th>75%</th>\n",
       "      <td>119.250000</td>\n",
       "      <td>126.000000</td>\n",
       "      <td>135.750000</td>\n",
       "      <td>126.750000</td>\n",
       "      <td>158.000000</td>\n",
       "      <td>137.000000</td>\n",
       "      <td>164.000000</td>\n",
       "      <td>156.000000</td>\n",
       "      <td>224.000000</td>\n",
       "      <td>286.500000</td>\n",
       "    </tr>\n",
       "    <tr>\n",
       "      <th>max</th>\n",
       "      <td>37939.000000</td>\n",
       "      <td>40840.000000</td>\n",
       "      <td>40911.000000</td>\n",
       "      <td>39199.000000</td>\n",
       "      <td>42418.000000</td>\n",
       "      <td>45709.000000</td>\n",
       "      <td>54229.000000</td>\n",
       "      <td>60432.000000</td>\n",
       "      <td>77064.000000</td>\n",
       "      <td>91845.000000</td>\n",
       "    </tr>\n",
       "  </tbody>\n",
       "</table>\n",
       "</div>"
      ],
      "text/plain": [
       "               2013          2014          2015          2016          2017  \\\n",
       "count     98.000000     97.000000     98.000000     98.000000     98.000000   \n",
       "mean     774.285714    842.020619    834.948980    800.030612    865.683673   \n",
       "std     4108.724017   4435.663885   4398.683281   4226.103900   4559.882406   \n",
       "min        0.000000      0.000000      0.000000      0.000000      0.000000   \n",
       "25%        4.250000      5.000000      5.000000      4.250000      5.250000   \n",
       "50%       39.000000     38.000000     47.000000     38.000000     38.000000   \n",
       "75%      119.250000    126.000000    135.750000    126.750000    158.000000   \n",
       "max    37939.000000  40840.000000  40911.000000  39199.000000  42418.000000   \n",
       "\n",
       "               2018          2019          2020          2021          2022  \n",
       "count     97.000000     97.000000     97.000000     97.000000     98.000000  \n",
       "mean     942.443299   1118.134021   1245.969072   1588.917526   1874.397959  \n",
       "std     4927.861641   5909.187239   6632.866035   8448.376505  10055.449937  \n",
       "min        0.000000      0.000000      0.000000      0.000000      0.000000  \n",
       "25%        6.000000      5.000000      5.000000      4.000000      3.500000  \n",
       "50%       38.000000     37.000000     42.000000     46.000000     52.000000  \n",
       "75%      137.000000    164.000000    156.000000    224.000000    286.500000  \n",
       "max    45709.000000  54229.000000  60432.000000  77064.000000  91845.000000  "
      ]
     },
     "execution_count": 309,
     "metadata": {},
     "output_type": "execute_result"
    }
   ],
   "source": [
    "ix.describe()"
   ]
  },
  {
   "cell_type": "code",
   "execution_count": 263,
   "metadata": {},
   "outputs": [],
   "source": [
    "TexpY = list(ex.columns)"
   ]
  },
  {
   "cell_type": "code",
   "execution_count": 264,
   "metadata": {},
   "outputs": [],
   "source": [
    "TimpY = list(ix.columns)"
   ]
  },
  {
   "cell_type": "code",
   "execution_count": 308,
   "metadata": {},
   "outputs": [
    {
     "data": {
      "text/html": [
       "<div>\n",
       "<style scoped>\n",
       "    .dataframe tbody tr th:only-of-type {\n",
       "        vertical-align: middle;\n",
       "    }\n",
       "\n",
       "    .dataframe tbody tr th {\n",
       "        vertical-align: top;\n",
       "    }\n",
       "\n",
       "    .dataframe thead th {\n",
       "        text-align: right;\n",
       "    }\n",
       "</style>\n",
       "<table border=\"1\" class=\"dataframe\">\n",
       "  <thead>\n",
       "    <tr style=\"text-align: right;\">\n",
       "      <th></th>\n",
       "      <th>Product</th>\n",
       "      <th>Flow</th>\n",
       "      <th>Country</th>\n",
       "      <th>Product Classification</th>\n",
       "      <th>Unit</th>\n",
       "      <th>Year</th>\n",
       "      <th>value</th>\n",
       "    </tr>\n",
       "  </thead>\n",
       "  <tbody>\n",
       "    <tr>\n",
       "      <th>0</th>\n",
       "      <td>0--All Merchandise</td>\n",
       "      <td>Imports</td>\n",
       "      <td>Taiwan</td>\n",
       "      <td>HS - 2</td>\n",
       "      <td>Millions of USD</td>\n",
       "      <td>2013</td>\n",
       "      <td>37939.0</td>\n",
       "    </tr>\n",
       "    <tr>\n",
       "      <th>1</th>\n",
       "      <td>85--Electric Machinery Etc; Sound Equip</td>\n",
       "      <td>Imports</td>\n",
       "      <td>Taiwan</td>\n",
       "      <td>HS - 2</td>\n",
       "      <td>Millions of USD</td>\n",
       "      <td>2013</td>\n",
       "      <td>13897.0</td>\n",
       "    </tr>\n",
       "    <tr>\n",
       "      <th>2</th>\n",
       "      <td>84--Nuclear Reactors, Boilers, Machinery</td>\n",
       "      <td>Imports</td>\n",
       "      <td>Taiwan</td>\n",
       "      <td>HS - 2</td>\n",
       "      <td>Millions of USD</td>\n",
       "      <td>2013</td>\n",
       "      <td>6622.0</td>\n",
       "    </tr>\n",
       "    <tr>\n",
       "      <th>3</th>\n",
       "      <td>73--Articles Of Iron Or Steel</td>\n",
       "      <td>Imports</td>\n",
       "      <td>Taiwan</td>\n",
       "      <td>HS - 2</td>\n",
       "      <td>Millions of USD</td>\n",
       "      <td>2013</td>\n",
       "      <td>2295.0</td>\n",
       "    </tr>\n",
       "    <tr>\n",
       "      <th>4</th>\n",
       "      <td>87--Vehicles, Except Railway Or Tramway</td>\n",
       "      <td>Imports</td>\n",
       "      <td>Taiwan</td>\n",
       "      <td>HS - 2</td>\n",
       "      <td>Millions of USD</td>\n",
       "      <td>2013</td>\n",
       "      <td>2366.0</td>\n",
       "    </tr>\n",
       "    <tr>\n",
       "      <th>...</th>\n",
       "      <td>...</td>\n",
       "      <td>...</td>\n",
       "      <td>...</td>\n",
       "      <td>...</td>\n",
       "      <td>...</td>\n",
       "      <td>...</td>\n",
       "      <td>...</td>\n",
       "    </tr>\n",
       "    <tr>\n",
       "      <th>975</th>\n",
       "      <td>24--Tobacco &amp; Manufactured Tobacco Substitutes</td>\n",
       "      <td>Imports</td>\n",
       "      <td>Taiwan</td>\n",
       "      <td>HS - 2</td>\n",
       "      <td>Millions of USD</td>\n",
       "      <td>2022</td>\n",
       "      <td>0.0</td>\n",
       "    </tr>\n",
       "    <tr>\n",
       "      <th>976</th>\n",
       "      <td>14--Vegetable Plaiting Materials &amp; Products</td>\n",
       "      <td>Imports</td>\n",
       "      <td>Taiwan</td>\n",
       "      <td>HS - 2</td>\n",
       "      <td>Millions of USD</td>\n",
       "      <td>2022</td>\n",
       "      <td>0.0</td>\n",
       "    </tr>\n",
       "    <tr>\n",
       "      <th>977</th>\n",
       "      <td>50--Silk, Including Yarns</td>\n",
       "      <td>Imports</td>\n",
       "      <td>Taiwan</td>\n",
       "      <td>HS - 2</td>\n",
       "      <td>Millions of USD</td>\n",
       "      <td>2022</td>\n",
       "      <td>0.0</td>\n",
       "    </tr>\n",
       "    <tr>\n",
       "      <th>978</th>\n",
       "      <td>36--Explosives; Pyrotechnics</td>\n",
       "      <td>Imports</td>\n",
       "      <td>Taiwan</td>\n",
       "      <td>HS - 2</td>\n",
       "      <td>Millions of USD</td>\n",
       "      <td>2022</td>\n",
       "      <td>0.0</td>\n",
       "    </tr>\n",
       "    <tr>\n",
       "      <th>979</th>\n",
       "      <td>47--Wood Pulp</td>\n",
       "      <td>Imports</td>\n",
       "      <td>Taiwan</td>\n",
       "      <td>HS - 2</td>\n",
       "      <td>Millions of USD</td>\n",
       "      <td>2022</td>\n",
       "      <td>0.0</td>\n",
       "    </tr>\n",
       "  </tbody>\n",
       "</table>\n",
       "<p>980 rows × 7 columns</p>\n",
       "</div>"
      ],
      "text/plain": [
       "                                            Product     Flow Country  \\\n",
       "0                                0--All Merchandise  Imports  Taiwan   \n",
       "1           85--Electric Machinery Etc; Sound Equip  Imports  Taiwan   \n",
       "2          84--Nuclear Reactors, Boilers, Machinery  Imports  Taiwan   \n",
       "3                     73--Articles Of Iron Or Steel  Imports  Taiwan   \n",
       "4           87--Vehicles, Except Railway Or Tramway  Imports  Taiwan   \n",
       "..                                              ...      ...     ...   \n",
       "975  24--Tobacco & Manufactured Tobacco Substitutes  Imports  Taiwan   \n",
       "976     14--Vegetable Plaiting Materials & Products  Imports  Taiwan   \n",
       "977                       50--Silk, Including Yarns  Imports  Taiwan   \n",
       "978                    36--Explosives; Pyrotechnics  Imports  Taiwan   \n",
       "979                                   47--Wood Pulp  Imports  Taiwan   \n",
       "\n",
       "    Product Classification             Unit  Year    value  \n",
       "0                   HS - 2  Millions of USD  2013  37939.0  \n",
       "1                   HS - 2  Millions of USD  2013  13897.0  \n",
       "2                   HS - 2  Millions of USD  2013   6622.0  \n",
       "3                   HS - 2  Millions of USD  2013   2295.0  \n",
       "4                   HS - 2  Millions of USD  2013   2366.0  \n",
       "..                     ...              ...   ...      ...  \n",
       "975                 HS - 2  Millions of USD  2022      0.0  \n",
       "976                 HS - 2  Millions of USD  2022      0.0  \n",
       "977                 HS - 2  Millions of USD  2022      0.0  \n",
       "978                 HS - 2  Millions of USD  2022      0.0  \n",
       "979                 HS - 2  Millions of USD  2022      0.0  \n",
       "\n",
       "[980 rows x 7 columns]"
      ]
     },
     "execution_count": 308,
     "metadata": {},
     "output_type": "execute_result"
    }
   ],
   "source": [
    "TimpY"
   ]
  },
  {
   "cell_type": "code",
   "execution_count": 307,
   "metadata": {},
   "outputs": [
    {
     "data": {
      "text/html": [
       "<div>\n",
       "<style scoped>\n",
       "    .dataframe tbody tr th:only-of-type {\n",
       "        vertical-align: middle;\n",
       "    }\n",
       "\n",
       "    .dataframe tbody tr th {\n",
       "        vertical-align: top;\n",
       "    }\n",
       "\n",
       "    .dataframe thead th {\n",
       "        text-align: right;\n",
       "    }\n",
       "</style>\n",
       "<table border=\"1\" class=\"dataframe\">\n",
       "  <thead>\n",
       "    <tr style=\"text-align: right;\">\n",
       "      <th></th>\n",
       "      <th>Product</th>\n",
       "      <th>Flow</th>\n",
       "      <th>Country</th>\n",
       "      <th>Product Classification</th>\n",
       "      <th>Unit</th>\n",
       "      <th>Year</th>\n",
       "      <th>value</th>\n",
       "    </tr>\n",
       "  </thead>\n",
       "  <tbody>\n",
       "    <tr>\n",
       "      <th>0</th>\n",
       "      <td>0--All Merchandise</td>\n",
       "      <td>Exports</td>\n",
       "      <td>Taiwan</td>\n",
       "      <td>HS - 2</td>\n",
       "      <td>Millions of USD</td>\n",
       "      <td>2013</td>\n",
       "      <td>25523.0</td>\n",
       "    </tr>\n",
       "    <tr>\n",
       "      <th>1</th>\n",
       "      <td>84--Nuclear Reactors, Boilers, Machinery</td>\n",
       "      <td>Exports</td>\n",
       "      <td>Taiwan</td>\n",
       "      <td>HS - 2</td>\n",
       "      <td>Millions of USD</td>\n",
       "      <td>2013</td>\n",
       "      <td>4748.0</td>\n",
       "    </tr>\n",
       "    <tr>\n",
       "      <th>2</th>\n",
       "      <td>85--Electric Machinery Etc; Sound Equip</td>\n",
       "      <td>Exports</td>\n",
       "      <td>Taiwan</td>\n",
       "      <td>HS - 2</td>\n",
       "      <td>Millions of USD</td>\n",
       "      <td>2013</td>\n",
       "      <td>4041.0</td>\n",
       "    </tr>\n",
       "    <tr>\n",
       "      <th>3</th>\n",
       "      <td>27--Mineral Fuel, Oil; Bitumin Subst</td>\n",
       "      <td>Exports</td>\n",
       "      <td>Taiwan</td>\n",
       "      <td>HS - 2</td>\n",
       "      <td>Millions of USD</td>\n",
       "      <td>2013</td>\n",
       "      <td>1127.0</td>\n",
       "    </tr>\n",
       "    <tr>\n",
       "      <th>4</th>\n",
       "      <td>90--Optic, Photo, Medic Or Surgical Instrments</td>\n",
       "      <td>Exports</td>\n",
       "      <td>Taiwan</td>\n",
       "      <td>HS - 2</td>\n",
       "      <td>Millions of USD</td>\n",
       "      <td>2013</td>\n",
       "      <td>1633.0</td>\n",
       "    </tr>\n",
       "    <tr>\n",
       "      <th>...</th>\n",
       "      <td>...</td>\n",
       "      <td>...</td>\n",
       "      <td>...</td>\n",
       "      <td>...</td>\n",
       "      <td>...</td>\n",
       "      <td>...</td>\n",
       "      <td>...</td>\n",
       "    </tr>\n",
       "    <tr>\n",
       "      <th>975</th>\n",
       "      <td>46--Mfr Of Straw, Esparto</td>\n",
       "      <td>Exports</td>\n",
       "      <td>Taiwan</td>\n",
       "      <td>HS - 2</td>\n",
       "      <td>Millions of USD</td>\n",
       "      <td>2022</td>\n",
       "      <td>0.0</td>\n",
       "    </tr>\n",
       "    <tr>\n",
       "      <th>976</th>\n",
       "      <td>45--Cork And Articles Of Cork</td>\n",
       "      <td>Exports</td>\n",
       "      <td>Taiwan</td>\n",
       "      <td>HS - 2</td>\n",
       "      <td>Millions of USD</td>\n",
       "      <td>2022</td>\n",
       "      <td>0.0</td>\n",
       "    </tr>\n",
       "    <tr>\n",
       "      <th>977</th>\n",
       "      <td>66--Umbrellas, Walking-Sticks</td>\n",
       "      <td>Exports</td>\n",
       "      <td>Taiwan</td>\n",
       "      <td>HS - 2</td>\n",
       "      <td>Millions of USD</td>\n",
       "      <td>2022</td>\n",
       "      <td>0.0</td>\n",
       "    </tr>\n",
       "    <tr>\n",
       "      <th>978</th>\n",
       "      <td>53--Veg Text Fib Nesoi</td>\n",
       "      <td>Exports</td>\n",
       "      <td>Taiwan</td>\n",
       "      <td>HS - 2</td>\n",
       "      <td>Millions of USD</td>\n",
       "      <td>2022</td>\n",
       "      <td>0.0</td>\n",
       "    </tr>\n",
       "    <tr>\n",
       "      <th>979</th>\n",
       "      <td>50--Silk, Including Yarns</td>\n",
       "      <td>Exports</td>\n",
       "      <td>Taiwan</td>\n",
       "      <td>HS - 2</td>\n",
       "      <td>Millions of USD</td>\n",
       "      <td>2022</td>\n",
       "      <td>0.0</td>\n",
       "    </tr>\n",
       "  </tbody>\n",
       "</table>\n",
       "<p>980 rows × 7 columns</p>\n",
       "</div>"
      ],
      "text/plain": [
       "                                            Product     Flow Country  \\\n",
       "0                                0--All Merchandise  Exports  Taiwan   \n",
       "1          84--Nuclear Reactors, Boilers, Machinery  Exports  Taiwan   \n",
       "2           85--Electric Machinery Etc; Sound Equip  Exports  Taiwan   \n",
       "3              27--Mineral Fuel, Oil; Bitumin Subst  Exports  Taiwan   \n",
       "4    90--Optic, Photo, Medic Or Surgical Instrments  Exports  Taiwan   \n",
       "..                                              ...      ...     ...   \n",
       "975                       46--Mfr Of Straw, Esparto  Exports  Taiwan   \n",
       "976                   45--Cork And Articles Of Cork  Exports  Taiwan   \n",
       "977                   66--Umbrellas, Walking-Sticks  Exports  Taiwan   \n",
       "978                          53--Veg Text Fib Nesoi  Exports  Taiwan   \n",
       "979                       50--Silk, Including Yarns  Exports  Taiwan   \n",
       "\n",
       "    Product Classification             Unit  Year    value  \n",
       "0                   HS - 2  Millions of USD  2013  25523.0  \n",
       "1                   HS - 2  Millions of USD  2013   4748.0  \n",
       "2                   HS - 2  Millions of USD  2013   4041.0  \n",
       "3                   HS - 2  Millions of USD  2013   1127.0  \n",
       "4                   HS - 2  Millions of USD  2013   1633.0  \n",
       "..                     ...              ...   ...      ...  \n",
       "975                 HS - 2  Millions of USD  2022      0.0  \n",
       "976                 HS - 2  Millions of USD  2022      0.0  \n",
       "977                 HS - 2  Millions of USD  2022      0.0  \n",
       "978                 HS - 2  Millions of USD  2022      0.0  \n",
       "979                 HS - 2  Millions of USD  2022      0.0  \n",
       "\n",
       "[980 rows x 7 columns]"
      ]
     },
     "execution_count": 307,
     "metadata": {},
     "output_type": "execute_result"
    }
   ],
   "source": [
    "TexpY"
   ]
  },
  {
   "cell_type": "code",
   "execution_count": null,
   "metadata": {},
   "outputs": [],
   "source": [
    "# //////// Cleaning & Shaping the Data ////////"
   ]
  },
  {
   "cell_type": "code",
   "execution_count": 311,
   "metadata": {},
   "outputs": [
    {
     "data": {
      "text/html": [
       "<div>\n",
       "<style scoped>\n",
       "    .dataframe tbody tr th:only-of-type {\n",
       "        vertical-align: middle;\n",
       "    }\n",
       "\n",
       "    .dataframe tbody tr th {\n",
       "        vertical-align: top;\n",
       "    }\n",
       "\n",
       "    .dataframe thead th {\n",
       "        text-align: right;\n",
       "    }\n",
       "</style>\n",
       "<table border=\"1\" class=\"dataframe\">\n",
       "  <thead>\n",
       "    <tr style=\"text-align: right;\">\n",
       "      <th></th>\n",
       "      <th>Product</th>\n",
       "      <th>Flow</th>\n",
       "      <th>Country</th>\n",
       "      <th>Product Classification</th>\n",
       "      <th>Unit</th>\n",
       "      <th>Year</th>\n",
       "      <th>value</th>\n",
       "    </tr>\n",
       "  </thead>\n",
       "  <tbody>\n",
       "    <tr>\n",
       "      <th>0</th>\n",
       "      <td>0--All Merchandise</td>\n",
       "      <td>Exports</td>\n",
       "      <td>Taiwan</td>\n",
       "      <td>HS - 2</td>\n",
       "      <td>Millions of USD</td>\n",
       "      <td>2013</td>\n",
       "      <td>25523.0</td>\n",
       "    </tr>\n",
       "    <tr>\n",
       "      <th>1</th>\n",
       "      <td>84--Nuclear Reactors, Boilers, Machinery</td>\n",
       "      <td>Exports</td>\n",
       "      <td>Taiwan</td>\n",
       "      <td>HS - 2</td>\n",
       "      <td>Millions of USD</td>\n",
       "      <td>2013</td>\n",
       "      <td>4748.0</td>\n",
       "    </tr>\n",
       "    <tr>\n",
       "      <th>2</th>\n",
       "      <td>85--Electric Machinery Etc; Sound Equip</td>\n",
       "      <td>Exports</td>\n",
       "      <td>Taiwan</td>\n",
       "      <td>HS - 2</td>\n",
       "      <td>Millions of USD</td>\n",
       "      <td>2013</td>\n",
       "      <td>4041.0</td>\n",
       "    </tr>\n",
       "    <tr>\n",
       "      <th>3</th>\n",
       "      <td>27--Mineral Fuel, Oil; Bitumin Subst</td>\n",
       "      <td>Exports</td>\n",
       "      <td>Taiwan</td>\n",
       "      <td>HS - 2</td>\n",
       "      <td>Millions of USD</td>\n",
       "      <td>2013</td>\n",
       "      <td>1127.0</td>\n",
       "    </tr>\n",
       "    <tr>\n",
       "      <th>4</th>\n",
       "      <td>90--Optic, Photo, Medic Or Surgical Instrments</td>\n",
       "      <td>Exports</td>\n",
       "      <td>Taiwan</td>\n",
       "      <td>HS - 2</td>\n",
       "      <td>Millions of USD</td>\n",
       "      <td>2013</td>\n",
       "      <td>1633.0</td>\n",
       "    </tr>\n",
       "    <tr>\n",
       "      <th>5</th>\n",
       "      <td>88--Aircraft, Spacecraft, And Parts Thereof</td>\n",
       "      <td>Exports</td>\n",
       "      <td>Taiwan</td>\n",
       "      <td>HS - 2</td>\n",
       "      <td>Millions of USD</td>\n",
       "      <td>2013</td>\n",
       "      <td>1752.0</td>\n",
       "    </tr>\n",
       "    <tr>\n",
       "      <th>6</th>\n",
       "      <td>39--Plastics &amp; Articles Thereof</td>\n",
       "      <td>Exports</td>\n",
       "      <td>Taiwan</td>\n",
       "      <td>HS - 2</td>\n",
       "      <td>Millions of USD</td>\n",
       "      <td>2013</td>\n",
       "      <td>851.0</td>\n",
       "    </tr>\n",
       "    <tr>\n",
       "      <th>7</th>\n",
       "      <td>12--Oil Seeds Etc.; Misc Grain</td>\n",
       "      <td>Exports</td>\n",
       "      <td>Taiwan</td>\n",
       "      <td>HS - 2</td>\n",
       "      <td>Millions of USD</td>\n",
       "      <td>2013</td>\n",
       "      <td>652.0</td>\n",
       "    </tr>\n",
       "    <tr>\n",
       "      <th>8</th>\n",
       "      <td>02--Meat &amp; Edible Meat Offal</td>\n",
       "      <td>Exports</td>\n",
       "      <td>Taiwan</td>\n",
       "      <td>HS - 2</td>\n",
       "      <td>Millions of USD</td>\n",
       "      <td>2013</td>\n",
       "      <td>455.0</td>\n",
       "    </tr>\n",
       "    <tr>\n",
       "      <th>9</th>\n",
       "      <td>98--Special Classification Provisions, Nesoi</td>\n",
       "      <td>Exports</td>\n",
       "      <td>Taiwan</td>\n",
       "      <td>HS - 2</td>\n",
       "      <td>Millions of USD</td>\n",
       "      <td>2013</td>\n",
       "      <td>402.0</td>\n",
       "    </tr>\n",
       "  </tbody>\n",
       "</table>\n",
       "</div>"
      ],
      "text/plain": [
       "                                          Product     Flow Country  \\\n",
       "0                              0--All Merchandise  Exports  Taiwan   \n",
       "1        84--Nuclear Reactors, Boilers, Machinery  Exports  Taiwan   \n",
       "2         85--Electric Machinery Etc; Sound Equip  Exports  Taiwan   \n",
       "3            27--Mineral Fuel, Oil; Bitumin Subst  Exports  Taiwan   \n",
       "4  90--Optic, Photo, Medic Or Surgical Instrments  Exports  Taiwan   \n",
       "5     88--Aircraft, Spacecraft, And Parts Thereof  Exports  Taiwan   \n",
       "6                 39--Plastics & Articles Thereof  Exports  Taiwan   \n",
       "7                  12--Oil Seeds Etc.; Misc Grain  Exports  Taiwan   \n",
       "8                    02--Meat & Edible Meat Offal  Exports  Taiwan   \n",
       "9    98--Special Classification Provisions, Nesoi  Exports  Taiwan   \n",
       "\n",
       "  Product Classification             Unit  Year    value  \n",
       "0                 HS - 2  Millions of USD  2013  25523.0  \n",
       "1                 HS - 2  Millions of USD  2013   4748.0  \n",
       "2                 HS - 2  Millions of USD  2013   4041.0  \n",
       "3                 HS - 2  Millions of USD  2013   1127.0  \n",
       "4                 HS - 2  Millions of USD  2013   1633.0  \n",
       "5                 HS - 2  Millions of USD  2013   1752.0  \n",
       "6                 HS - 2  Millions of USD  2013    851.0  \n",
       "7                 HS - 2  Millions of USD  2013    652.0  \n",
       "8                 HS - 2  Millions of USD  2013    455.0  \n",
       "9                 HS - 2  Millions of USD  2013    402.0  "
      ]
     },
     "execution_count": 311,
     "metadata": {},
     "output_type": "execute_result"
    }
   ],
   "source": [
    "TexpY.head(10)"
   ]
  },
  {
   "cell_type": "code",
   "execution_count": 310,
   "metadata": {},
   "outputs": [
    {
     "name": "stdout",
     "output_type": "stream",
     "text": [
      "Index(['Product', 'Flow', 'Country', 'Product Classification', 'Unit', 'Year',\n",
      "       'value'],\n",
      "      dtype='object')\n"
     ]
    }
   ],
   "source": [
    "print(TexpY.columns)"
   ]
  },
  {
   "cell_type": "code",
   "execution_count": 274,
   "metadata": {},
   "outputs": [
    {
     "data": {
      "text/plain": [
       "['Product ',\n",
       " 'Flow',\n",
       " 'Country',\n",
       " 'Product Classification',\n",
       " 'Unit',\n",
       " '2013',\n",
       " '2014',\n",
       " '2015',\n",
       " '2016',\n",
       " '2017',\n",
       " '2018',\n",
       " '2019',\n",
       " '2020',\n",
       " '2021',\n",
       " '2022']"
      ]
     },
     "execution_count": 274,
     "metadata": {},
     "output_type": "execute_result"
    }
   ],
   "source": [
    "list(ex.columns)"
   ]
  },
  {
   "cell_type": "code",
   "execution_count": 312,
   "metadata": {},
   "outputs": [],
   "source": [
    "# Unpivoting data columns / Panda Melt\n",
    "TimpY = pd.melt(ix, id_vars = ['Product ', 'Flow', 'Country', 'Product Classification', 'Unit'], value_vars=['2013', '2014', '2015', '2016', '2017', '2018', '2019', '2020', '2021', '2022'], var_name='Year')\n",
    "TexpY = pd.melt(ex, id_vars = ['Product ', 'Flow', 'Country', 'Product Classification', 'Unit'], value_vars=['2013', '2014', '2015', '2016', '2017', '2018', '2019', '2020', '2021', '2022'], var_name='Year')"
   ]
  },
  {
   "cell_type": "code",
   "execution_count": 314,
   "metadata": {},
   "outputs": [],
   "source": [
    "TimpY = TimpY.rename(columns={\"Product \":\"Product\"}, copy= True)\n",
    "TexpY = TexpY.rename(columns={\"Product \":\"Product\"}, copy= True)"
   ]
  },
  {
   "cell_type": "code",
   "execution_count": 315,
   "metadata": {},
   "outputs": [
    {
     "data": {
      "text/html": [
       "<div>\n",
       "<style scoped>\n",
       "    .dataframe tbody tr th:only-of-type {\n",
       "        vertical-align: middle;\n",
       "    }\n",
       "\n",
       "    .dataframe tbody tr th {\n",
       "        vertical-align: top;\n",
       "    }\n",
       "\n",
       "    .dataframe thead th {\n",
       "        text-align: right;\n",
       "    }\n",
       "</style>\n",
       "<table border=\"1\" class=\"dataframe\">\n",
       "  <thead>\n",
       "    <tr style=\"text-align: right;\">\n",
       "      <th></th>\n",
       "      <th>Product</th>\n",
       "      <th>Flow</th>\n",
       "      <th>Country</th>\n",
       "      <th>Product Classification</th>\n",
       "      <th>Unit</th>\n",
       "      <th>Year</th>\n",
       "      <th>value</th>\n",
       "    </tr>\n",
       "  </thead>\n",
       "  <tbody>\n",
       "    <tr>\n",
       "      <th>0</th>\n",
       "      <td>0--All Merchandise</td>\n",
       "      <td>Exports</td>\n",
       "      <td>Taiwan</td>\n",
       "      <td>HS - 2</td>\n",
       "      <td>Millions of USD</td>\n",
       "      <td>2013</td>\n",
       "      <td>25523.0</td>\n",
       "    </tr>\n",
       "    <tr>\n",
       "      <th>98</th>\n",
       "      <td>0--All Merchandise</td>\n",
       "      <td>Exports</td>\n",
       "      <td>Taiwan</td>\n",
       "      <td>HS - 2</td>\n",
       "      <td>Millions of USD</td>\n",
       "      <td>2014</td>\n",
       "      <td>26675.0</td>\n",
       "    </tr>\n",
       "    <tr>\n",
       "      <th>196</th>\n",
       "      <td>0--All Merchandise</td>\n",
       "      <td>Exports</td>\n",
       "      <td>Taiwan</td>\n",
       "      <td>HS - 2</td>\n",
       "      <td>Millions of USD</td>\n",
       "      <td>2015</td>\n",
       "      <td>25826.0</td>\n",
       "    </tr>\n",
       "    <tr>\n",
       "      <th>294</th>\n",
       "      <td>0--All Merchandise</td>\n",
       "      <td>Exports</td>\n",
       "      <td>Taiwan</td>\n",
       "      <td>HS - 2</td>\n",
       "      <td>Millions of USD</td>\n",
       "      <td>2016</td>\n",
       "      <td>26034.0</td>\n",
       "    </tr>\n",
       "    <tr>\n",
       "      <th>392</th>\n",
       "      <td>0--All Merchandise</td>\n",
       "      <td>Exports</td>\n",
       "      <td>Taiwan</td>\n",
       "      <td>HS - 2</td>\n",
       "      <td>Millions of USD</td>\n",
       "      <td>2017</td>\n",
       "      <td>25736.0</td>\n",
       "    </tr>\n",
       "    <tr>\n",
       "      <th>490</th>\n",
       "      <td>0--All Merchandise</td>\n",
       "      <td>Exports</td>\n",
       "      <td>Taiwan</td>\n",
       "      <td>HS - 2</td>\n",
       "      <td>Millions of USD</td>\n",
       "      <td>2018</td>\n",
       "      <td>30478.0</td>\n",
       "    </tr>\n",
       "    <tr>\n",
       "      <th>588</th>\n",
       "      <td>0--All Merchandise</td>\n",
       "      <td>Exports</td>\n",
       "      <td>Taiwan</td>\n",
       "      <td>HS - 2</td>\n",
       "      <td>Millions of USD</td>\n",
       "      <td>2019</td>\n",
       "      <td>31202.0</td>\n",
       "    </tr>\n",
       "    <tr>\n",
       "      <th>686</th>\n",
       "      <td>0--All Merchandise</td>\n",
       "      <td>Exports</td>\n",
       "      <td>Taiwan</td>\n",
       "      <td>HS - 2</td>\n",
       "      <td>Millions of USD</td>\n",
       "      <td>2020</td>\n",
       "      <td>30213.0</td>\n",
       "    </tr>\n",
       "    <tr>\n",
       "      <th>784</th>\n",
       "      <td>0--All Merchandise</td>\n",
       "      <td>Exports</td>\n",
       "      <td>Taiwan</td>\n",
       "      <td>HS - 2</td>\n",
       "      <td>Millions of USD</td>\n",
       "      <td>2021</td>\n",
       "      <td>36838.0</td>\n",
       "    </tr>\n",
       "    <tr>\n",
       "      <th>882</th>\n",
       "      <td>0--All Merchandise</td>\n",
       "      <td>Exports</td>\n",
       "      <td>Taiwan</td>\n",
       "      <td>HS - 2</td>\n",
       "      <td>Millions of USD</td>\n",
       "      <td>2022</td>\n",
       "      <td>43713.0</td>\n",
       "    </tr>\n",
       "  </tbody>\n",
       "</table>\n",
       "</div>"
      ],
      "text/plain": [
       "                Product     Flow Country Product Classification  \\\n",
       "0    0--All Merchandise  Exports  Taiwan                 HS - 2   \n",
       "98   0--All Merchandise  Exports  Taiwan                 HS - 2   \n",
       "196  0--All Merchandise  Exports  Taiwan                 HS - 2   \n",
       "294  0--All Merchandise  Exports  Taiwan                 HS - 2   \n",
       "392  0--All Merchandise  Exports  Taiwan                 HS - 2   \n",
       "490  0--All Merchandise  Exports  Taiwan                 HS - 2   \n",
       "588  0--All Merchandise  Exports  Taiwan                 HS - 2   \n",
       "686  0--All Merchandise  Exports  Taiwan                 HS - 2   \n",
       "784  0--All Merchandise  Exports  Taiwan                 HS - 2   \n",
       "882  0--All Merchandise  Exports  Taiwan                 HS - 2   \n",
       "\n",
       "                Unit  Year    value  \n",
       "0    Millions of USD  2013  25523.0  \n",
       "98   Millions of USD  2014  26675.0  \n",
       "196  Millions of USD  2015  25826.0  \n",
       "294  Millions of USD  2016  26034.0  \n",
       "392  Millions of USD  2017  25736.0  \n",
       "490  Millions of USD  2018  30478.0  \n",
       "588  Millions of USD  2019  31202.0  \n",
       "686  Millions of USD  2020  30213.0  \n",
       "784  Millions of USD  2021  36838.0  \n",
       "882  Millions of USD  2022  43713.0  "
      ]
     },
     "execution_count": 315,
     "metadata": {},
     "output_type": "execute_result"
    }
   ],
   "source": [
    "TexpY.query(\"Product == '0--All Merchandise'\")"
   ]
  },
  {
   "cell_type": "code",
   "execution_count": 321,
   "metadata": {},
   "outputs": [
    {
     "data": {
      "text/plain": [
       "Index(['Product', 'Flow', 'Country', 'Product Classification', 'Unit', 'Year',\n",
       "       'value'],\n",
       "      dtype='object')"
      ]
     },
     "execution_count": 321,
     "metadata": {},
     "output_type": "execute_result"
    }
   ],
   "source": [
    "TexpY.columns\n"
   ]
  },
  {
   "cell_type": "code",
   "execution_count": 320,
   "metadata": {},
   "outputs": [
    {
     "data": {
      "text/plain": [
       "Index(['Product', 'Flow', 'Country', 'Product Classification', 'Unit', 'Year',\n",
       "       'value'],\n",
       "      dtype='object')"
      ]
     },
     "execution_count": 320,
     "metadata": {},
     "output_type": "execute_result"
    }
   ],
   "source": [
    "TimpY.columns\n"
   ]
  },
  {
   "cell_type": "code",
   "execution_count": 357,
   "metadata": {},
   "outputs": [
    {
     "name": "stdout",
     "output_type": "stream",
     "text": [
      "                                          Product     Flow Country  \\\n",
      "303  98--Special Classification Provisions, Nesoi  Exports  Taiwan   \n",
      "499  98--Special Classification Provisions, Nesoi  Exports  Taiwan   \n",
      "793  98--Special Classification Provisions, Nesoi  Exports  Taiwan   \n",
      "401  98--Special Classification Provisions, Nesoi  Exports  Taiwan   \n",
      "107  98--Special Classification Provisions, Nesoi  Exports  Taiwan   \n",
      "597  98--Special Classification Provisions, Nesoi  Exports  Taiwan   \n",
      "695  98--Special Classification Provisions, Nesoi  Exports  Taiwan   \n",
      "9    98--Special Classification Provisions, Nesoi  Exports  Taiwan   \n",
      "891  98--Special Classification Provisions, Nesoi  Exports  Taiwan   \n",
      "205  98--Special Classification Provisions, Nesoi  Exports  Taiwan   \n",
      "\n",
      "    Product Classification             Unit  Year   value  \n",
      "303                 HS - 2  Millions of USD  2016   478.0  \n",
      "499                 HS - 2  Millions of USD  2018   613.0  \n",
      "793                 HS - 2  Millions of USD  2021   703.0  \n",
      "401                 HS - 2  Millions of USD  2017   526.0  \n",
      "107                 HS - 2  Millions of USD  2014   500.0  \n",
      "597                 HS - 2  Millions of USD  2019   638.0  \n",
      "695                 HS - 2  Millions of USD  2020   610.0  \n",
      "9                   HS - 2  Millions of USD  2013   402.0  \n",
      "891                 HS - 2  Millions of USD  2022  1006.0  \n",
      "205                 HS - 2  Millions of USD  2015   422.0  \n"
     ]
    }
   ],
   "source": [
    "# Define Top Imports and Exports\n",
    "TexpY_sorted = TexpY.sort_values(by=['Product'], ascending=False)\n",
    "ExportsTop10 = TexpY_sorted.head(10)\n",
    "print(ExportsTop10)\n",
    "#cherry pick 5 products per imp x export\n",
    "\n"
   ]
  },
  {
   "cell_type": "code",
   "execution_count": 358,
   "metadata": {},
   "outputs": [
    {
     "name": "stdout",
     "output_type": "stream",
     "text": [
      "                                  Product     Flow Country  \\\n",
      "112  99--Special Import Provisions, Nesoi  Imports  Taiwan   \n",
      "504  99--Special Import Provisions, Nesoi  Imports  Taiwan   \n",
      "896  99--Special Import Provisions, Nesoi  Imports  Taiwan   \n",
      "308  99--Special Import Provisions, Nesoi  Imports  Taiwan   \n",
      "406  99--Special Import Provisions, Nesoi  Imports  Taiwan   \n",
      "798  99--Special Import Provisions, Nesoi  Imports  Taiwan   \n",
      "602  99--Special Import Provisions, Nesoi  Imports  Taiwan   \n",
      "14   99--Special Import Provisions, Nesoi  Imports  Taiwan   \n",
      "700  99--Special Import Provisions, Nesoi  Imports  Taiwan   \n",
      "210  99--Special Import Provisions, Nesoi  Imports  Taiwan   \n",
      "\n",
      "    Product Classification             Unit  Year  value  \n",
      "112                 HS - 2  Millions of USD  2014  597.0  \n",
      "504                 HS - 2  Millions of USD  2018  596.0  \n",
      "896                 HS - 2  Millions of USD  2022  817.0  \n",
      "308                 HS - 2  Millions of USD  2016  526.0  \n",
      "406                 HS - 2  Millions of USD  2017  542.0  \n",
      "798                 HS - 2  Millions of USD  2021  634.0  \n",
      "602                 HS - 2  Millions of USD  2019  641.0  \n",
      "14                  HS - 2  Millions of USD  2013  500.0  \n",
      "700                 HS - 2  Millions of USD  2020  615.0  \n",
      "210                 HS - 2  Millions of USD  2015  568.0  \n"
     ]
    }
   ],
   "source": [
    "TimpY_sorted = TimpY.sort_values(by=['Product'], ascending=False)\n",
    "ImportsTop10 = TimpY_sorted.head(10)\n",
    "print(ImportsTop10)\n"
   ]
  },
  {
   "cell_type": "code",
   "execution_count": null,
   "metadata": {},
   "outputs": [],
   "source": [
    "# top 10 Imports Pie Graph"
   ]
  },
  {
   "cell_type": "code",
   "execution_count": null,
   "metadata": {},
   "outputs": [],
   "source": [
    "# top 10 Exports Pie Graph"
   ]
  },
  {
   "cell_type": "code",
   "execution_count": 333,
   "metadata": {},
   "outputs": [
    {
     "data": {
      "text/plain": [
       "Index(['Product', 'Flow', 'Country', 'Product Classification', 'Unit', 'Year',\n",
       "       'value'],\n",
       "      dtype='object')"
      ]
     },
     "execution_count": 333,
     "metadata": {},
     "output_type": "execute_result"
    }
   ],
   "source": []
  },
  {
   "cell_type": "code",
   "execution_count": 379,
   "metadata": {},
   "outputs": [
    {
     "data": {
      "application/vnd.plotly.v1+json": {
       "config": {
        "plotlyServerURL": "https://plot.ly"
       },
       "data": [
        {
         "alignmentgroup": "True",
         "customdata": [
          [
           "0--All Merchandise"
          ],
          [
           "0--All Merchandise"
          ],
          [
           "0--All Merchandise"
          ],
          [
           "0--All Merchandise"
          ],
          [
           "0--All Merchandise"
          ],
          [
           "0--All Merchandise"
          ],
          [
           "0--All Merchandise"
          ],
          [
           "0--All Merchandise"
          ],
          [
           "0--All Merchandise"
          ],
          [
           "0--All Merchandise"
          ]
         ],
         "hovertemplate": "Product=%{customdata[0]}<br>value=%{x}<extra></extra>",
         "legendgroup": "0--All Merchandise",
         "marker": {
          "color": "#636efa",
          "pattern": {
           "shape": ""
          }
         },
         "name": "0--All Merchandise",
         "offsetgroup": "0--All Merchandise",
         "orientation": "h",
         "showlegend": true,
         "textposition": "auto",
         "type": "bar",
         "x": [
          37939,
          40840,
          40911,
          39199,
          42418,
          45709,
          54229,
          60432,
          77064,
          91845
         ],
         "xaxis": "x",
         "y": [
          "2013",
          "2014",
          "2015",
          "2016",
          "2017",
          "2018",
          "2019",
          "2020",
          "2021",
          "2022"
         ],
         "yaxis": "y"
        },
        {
         "alignmentgroup": "True",
         "customdata": [
          [
           "85--Electric Machinery Etc; Sound Equip"
          ],
          [
           "85--Electric Machinery Etc; Sound Equip"
          ],
          [
           "85--Electric Machinery Etc; Sound Equip"
          ],
          [
           "85--Electric Machinery Etc; Sound Equip"
          ],
          [
           "85--Electric Machinery Etc; Sound Equip"
          ],
          [
           "85--Electric Machinery Etc; Sound Equip"
          ],
          [
           "85--Electric Machinery Etc; Sound Equip"
          ],
          [
           "85--Electric Machinery Etc; Sound Equip"
          ],
          [
           "85--Electric Machinery Etc; Sound Equip"
          ],
          [
           "85--Electric Machinery Etc; Sound Equip"
          ]
         ],
         "hovertemplate": "Product=%{customdata[0]}<br>value=%{x}<extra></extra>",
         "legendgroup": "85--Electric Machinery Etc; Sound Equip",
         "marker": {
          "color": "#EF553B",
          "pattern": {
           "shape": ""
          }
         },
         "name": "85--Electric Machinery Etc; Sound Equip",
         "offsetgroup": "85--Electric Machinery Etc; Sound Equip",
         "orientation": "h",
         "showlegend": true,
         "textposition": "auto",
         "type": "bar",
         "x": [
          13897,
          14721,
          14166,
          13780,
          14056,
          14153,
          16051,
          18582,
          23259,
          28990
         ],
         "xaxis": "x",
         "y": [
          "2013",
          "2014",
          "2015",
          "2016",
          "2017",
          "2018",
          "2019",
          "2020",
          "2021",
          "2022"
         ],
         "yaxis": "y"
        },
        {
         "alignmentgroup": "True",
         "customdata": [
          [
           "84--Nuclear Reactors, Boilers, Machinery"
          ],
          [
           "84--Nuclear Reactors, Boilers, Machinery"
          ],
          [
           "84--Nuclear Reactors, Boilers, Machinery"
          ],
          [
           "84--Nuclear Reactors, Boilers, Machinery"
          ],
          [
           "84--Nuclear Reactors, Boilers, Machinery"
          ],
          [
           "84--Nuclear Reactors, Boilers, Machinery"
          ],
          [
           "84--Nuclear Reactors, Boilers, Machinery"
          ],
          [
           "84--Nuclear Reactors, Boilers, Machinery"
          ],
          [
           "84--Nuclear Reactors, Boilers, Machinery"
          ],
          [
           "84--Nuclear Reactors, Boilers, Machinery"
          ]
         ],
         "hovertemplate": "Product=%{customdata[0]}<br>value=%{x}<extra></extra>",
         "legendgroup": "84--Nuclear Reactors, Boilers, Machinery",
         "marker": {
          "color": "#00cc96",
          "pattern": {
           "shape": ""
          }
         },
         "name": "84--Nuclear Reactors, Boilers, Machinery",
         "offsetgroup": "84--Nuclear Reactors, Boilers, Machinery",
         "orientation": "h",
         "showlegend": true,
         "textposition": "auto",
         "type": "bar",
         "x": [
          6622,
          7053,
          6709,
          6820,
          8177,
          9809,
          15516,
          18454,
          23588,
          28194
         ],
         "xaxis": "x",
         "y": [
          "2013",
          "2014",
          "2015",
          "2016",
          "2017",
          "2018",
          "2019",
          "2020",
          "2021",
          "2022"
         ],
         "yaxis": "y"
        },
        {
         "alignmentgroup": "True",
         "customdata": [
          [
           "73--Articles Of Iron Or Steel"
          ],
          [
           "73--Articles Of Iron Or Steel"
          ],
          [
           "73--Articles Of Iron Or Steel"
          ],
          [
           "73--Articles Of Iron Or Steel"
          ],
          [
           "73--Articles Of Iron Or Steel"
          ],
          [
           "73--Articles Of Iron Or Steel"
          ],
          [
           "73--Articles Of Iron Or Steel"
          ],
          [
           "73--Articles Of Iron Or Steel"
          ],
          [
           "73--Articles Of Iron Or Steel"
          ],
          [
           "73--Articles Of Iron Or Steel"
          ]
         ],
         "hovertemplate": "Product=%{customdata[0]}<br>value=%{x}<extra></extra>",
         "legendgroup": "73--Articles Of Iron Or Steel",
         "marker": {
          "color": "#ab63fa",
          "pattern": {
           "shape": ""
          }
         },
         "name": "73--Articles Of Iron Or Steel",
         "offsetgroup": "73--Articles Of Iron Or Steel",
         "orientation": "h",
         "showlegend": true,
         "textposition": "auto",
         "type": "bar",
         "x": [
          2295,
          2471,
          2535,
          2226,
          2636,
          3049,
          2987,
          2613,
          3361,
          4729
         ],
         "xaxis": "x",
         "y": [
          "2013",
          "2014",
          "2015",
          "2016",
          "2017",
          "2018",
          "2019",
          "2020",
          "2021",
          "2022"
         ],
         "yaxis": "y"
        },
        {
         "alignmentgroup": "True",
         "customdata": [
          [
           "87--Vehicles, Except Railway Or Tramway"
          ],
          [
           "87--Vehicles, Except Railway Or Tramway"
          ],
          [
           "87--Vehicles, Except Railway Or Tramway"
          ],
          [
           "87--Vehicles, Except Railway Or Tramway"
          ],
          [
           "87--Vehicles, Except Railway Or Tramway"
          ],
          [
           "87--Vehicles, Except Railway Or Tramway"
          ],
          [
           "87--Vehicles, Except Railway Or Tramway"
          ],
          [
           "87--Vehicles, Except Railway Or Tramway"
          ],
          [
           "87--Vehicles, Except Railway Or Tramway"
          ],
          [
           "87--Vehicles, Except Railway Or Tramway"
          ]
         ],
         "hovertemplate": "Product=%{customdata[0]}<br>value=%{x}<extra></extra>",
         "legendgroup": "87--Vehicles, Except Railway Or Tramway",
         "marker": {
          "color": "#FFA15A",
          "pattern": {
           "shape": ""
          }
         },
         "name": "87--Vehicles, Except Railway Or Tramway",
         "offsetgroup": "87--Vehicles, Except Railway Or Tramway",
         "orientation": "h",
         "showlegend": true,
         "textposition": "auto",
         "type": "bar",
         "x": [
          2366,
          2447,
          2696,
          2503,
          2605,
          2796,
          2962,
          2941,
          3750,
          4527
         ],
         "xaxis": "x",
         "y": [
          "2013",
          "2014",
          "2015",
          "2016",
          "2017",
          "2018",
          "2019",
          "2020",
          "2021",
          "2022"
         ],
         "yaxis": "y"
        },
        {
         "alignmentgroup": "True",
         "customdata": [
          [
           "39--Plastics & Articles Thereof"
          ],
          [
           "39--Plastics & Articles Thereof"
          ],
          [
           "39--Plastics & Articles Thereof"
          ],
          [
           "39--Plastics & Articles Thereof"
          ],
          [
           "39--Plastics & Articles Thereof"
          ],
          [
           "39--Plastics & Articles Thereof"
          ],
          [
           "39--Plastics & Articles Thereof"
          ],
          [
           "39--Plastics & Articles Thereof"
          ],
          [
           "39--Plastics & Articles Thereof"
          ],
          [
           "39--Plastics & Articles Thereof"
          ]
         ],
         "hovertemplate": "Product=%{customdata[0]}<br>value=%{x}<extra></extra>",
         "legendgroup": "39--Plastics & Articles Thereof",
         "marker": {
          "color": "#19d3f3",
          "pattern": {
           "shape": ""
          }
         },
         "name": "39--Plastics & Articles Thereof",
         "offsetgroup": "39--Plastics & Articles Thereof",
         "orientation": "h",
         "showlegend": true,
         "textposition": "auto",
         "type": "bar",
         "x": [
          1681,
          1755,
          1865,
          1837,
          1956,
          1986,
          2091,
          2200,
          3049,
          3421
         ],
         "xaxis": "x",
         "y": [
          "2013",
          "2014",
          "2015",
          "2016",
          "2017",
          "2018",
          "2019",
          "2020",
          "2021",
          "2022"
         ],
         "yaxis": "y"
        },
        {
         "alignmentgroup": "True",
         "customdata": [
          [
           "90--Optic, Photo, Medic Or Surgical Instrments"
          ],
          [
           "90--Optic, Photo, Medic Or Surgical Instrments"
          ],
          [
           "90--Optic, Photo, Medic Or Surgical Instrments"
          ],
          [
           "90--Optic, Photo, Medic Or Surgical Instrments"
          ],
          [
           "90--Optic, Photo, Medic Or Surgical Instrments"
          ],
          [
           "90--Optic, Photo, Medic Or Surgical Instrments"
          ],
          [
           "90--Optic, Photo, Medic Or Surgical Instrments"
          ],
          [
           "90--Optic, Photo, Medic Or Surgical Instrments"
          ],
          [
           "90--Optic, Photo, Medic Or Surgical Instrments"
          ],
          [
           "90--Optic, Photo, Medic Or Surgical Instrments"
          ]
         ],
         "hovertemplate": "Product=%{customdata[0]}<br>value=%{x}<extra></extra>",
         "legendgroup": "90--Optic, Photo, Medic Or Surgical Instrments",
         "marker": {
          "color": "#FF6692",
          "pattern": {
           "shape": ""
          }
         },
         "name": "90--Optic, Photo, Medic Or Surgical Instrments",
         "offsetgroup": "90--Optic, Photo, Medic Or Surgical Instrments",
         "orientation": "h",
         "showlegend": true,
         "textposition": "auto",
         "type": "bar",
         "x": [
          1094,
          1266,
          1226,
          1140,
          1321,
          1575,
          1902,
          2188,
          2493,
          2638
         ],
         "xaxis": "x",
         "y": [
          "2013",
          "2014",
          "2015",
          "2016",
          "2017",
          "2018",
          "2019",
          "2020",
          "2021",
          "2022"
         ],
         "yaxis": "y"
        },
        {
         "alignmentgroup": "True",
         "customdata": [
          [
           "95--Toys, Games & Sport Equipment"
          ],
          [
           "95--Toys, Games & Sport Equipment"
          ],
          [
           "95--Toys, Games & Sport Equipment"
          ],
          [
           "95--Toys, Games & Sport Equipment"
          ],
          [
           "95--Toys, Games & Sport Equipment"
          ],
          [
           "95--Toys, Games & Sport Equipment"
          ],
          [
           "95--Toys, Games & Sport Equipment"
          ],
          [
           "95--Toys, Games & Sport Equipment"
          ],
          [
           "95--Toys, Games & Sport Equipment"
          ],
          [
           "95--Toys, Games & Sport Equipment"
          ]
         ],
         "hovertemplate": "Product=%{customdata[0]}<br>value=%{x}<extra></extra>",
         "legendgroup": "95--Toys, Games & Sport Equipment",
         "marker": {
          "color": "#B6E880",
          "pattern": {
           "shape": ""
          }
         },
         "name": "95--Toys, Games & Sport Equipment",
         "offsetgroup": "95--Toys, Games & Sport Equipment",
         "orientation": "h",
         "showlegend": true,
         "textposition": "auto",
         "type": "bar",
         "x": [
          807,
          865,
          935,
          931,
          991,
          1060,
          1256,
          1694,
          2733,
          1869
         ],
         "xaxis": "x",
         "y": [
          "2013",
          "2014",
          "2015",
          "2016",
          "2017",
          "2018",
          "2019",
          "2020",
          "2021",
          "2022"
         ],
         "yaxis": "y"
        },
        {
         "alignmentgroup": "True",
         "customdata": [
          [
           "98--Special Classification Provisions, Nesoi"
          ],
          [
           "98--Special Classification Provisions, Nesoi"
          ],
          [
           "98--Special Classification Provisions, Nesoi"
          ],
          [
           "98--Special Classification Provisions, Nesoi"
          ],
          [
           "98--Special Classification Provisions, Nesoi"
          ],
          [
           "98--Special Classification Provisions, Nesoi"
          ],
          [
           "98--Special Classification Provisions, Nesoi"
          ],
          [
           "98--Special Classification Provisions, Nesoi"
          ],
          [
           "98--Special Classification Provisions, Nesoi"
          ],
          [
           "98--Special Classification Provisions, Nesoi"
          ]
         ],
         "hovertemplate": "Product=%{customdata[0]}<br>value=%{x}<extra></extra>",
         "legendgroup": "98--Special Classification Provisions, Nesoi",
         "marker": {
          "color": "#FF97FF",
          "pattern": {
           "shape": ""
          }
         },
         "name": "98--Special Classification Provisions, Nesoi",
         "offsetgroup": "98--Special Classification Provisions, Nesoi",
         "orientation": "h",
         "showlegend": true,
         "textposition": "auto",
         "type": "bar",
         "x": [
          815,
          887,
          964,
          1037,
          1056,
          1280,
          1191,
          1435,
          1503,
          1766
         ],
         "xaxis": "x",
         "y": [
          "2013",
          "2014",
          "2015",
          "2016",
          "2017",
          "2018",
          "2019",
          "2020",
          "2021",
          "2022"
         ],
         "yaxis": "y"
        },
        {
         "alignmentgroup": "True",
         "customdata": [
          [
           "94--Furniture; Bedding"
          ],
          [
           "94--Furniture; Bedding"
          ],
          [
           "94--Furniture; Bedding"
          ],
          [
           "94--Furniture; Bedding"
          ],
          [
           "94--Furniture; Bedding"
          ],
          [
           "94--Furniture; Bedding"
          ],
          [
           "94--Furniture; Bedding"
          ],
          [
           "94--Furniture; Bedding"
          ],
          [
           "94--Furniture; Bedding"
          ],
          [
           "94--Furniture; Bedding"
          ]
         ],
         "hovertemplate": "Product=%{customdata[0]}<br>value=%{x}<extra></extra>",
         "legendgroup": "94--Furniture; Bedding",
         "marker": {
          "color": "#FECB52",
          "pattern": {
           "shape": ""
          }
         },
         "name": "94--Furniture; Bedding",
         "offsetgroup": "94--Furniture; Bedding",
         "orientation": "h",
         "showlegend": true,
         "textposition": "auto",
         "type": "bar",
         "x": [
          965,
          1026,
          1140,
          1101,
          1155,
          1124,
          1289,
          1442,
          1755,
          1685
         ],
         "xaxis": "x",
         "y": [
          "2013",
          "2014",
          "2015",
          "2016",
          "2017",
          "2018",
          "2019",
          "2020",
          "2021",
          "2022"
         ],
         "yaxis": "y"
        },
        {
         "alignmentgroup": "True",
         "customdata": [
          [
           "83--Miscellaneous Articles Of Base Metal"
          ],
          [
           "83--Miscellaneous Articles Of Base Metal"
          ],
          [
           "83--Miscellaneous Articles Of Base Metal"
          ],
          [
           "83--Miscellaneous Articles Of Base Metal"
          ],
          [
           "83--Miscellaneous Articles Of Base Metal"
          ],
          [
           "83--Miscellaneous Articles Of Base Metal"
          ],
          [
           "83--Miscellaneous Articles Of Base Metal"
          ],
          [
           "83--Miscellaneous Articles Of Base Metal"
          ],
          [
           "83--Miscellaneous Articles Of Base Metal"
          ],
          [
           "83--Miscellaneous Articles Of Base Metal"
          ]
         ],
         "hovertemplate": "Product=%{customdata[0]}<br>value=%{x}<extra></extra>",
         "legendgroup": "83--Miscellaneous Articles Of Base Metal",
         "marker": {
          "color": "#636efa",
          "pattern": {
           "shape": ""
          }
         },
         "name": "83--Miscellaneous Articles Of Base Metal",
         "offsetgroup": "83--Miscellaneous Articles Of Base Metal",
         "orientation": "h",
         "showlegend": true,
         "textposition": "auto",
         "type": "bar",
         "x": [
          705,
          729,
          747,
          739,
          760,
          840,
          871,
          963,
          1198,
          1507
         ],
         "xaxis": "x",
         "y": [
          "2013",
          "2014",
          "2015",
          "2016",
          "2017",
          "2018",
          "2019",
          "2020",
          "2021",
          "2022"
         ],
         "yaxis": "y"
        },
        {
         "alignmentgroup": "True",
         "customdata": [
          [
           "72--Iron And Steel"
          ],
          [
           "72--Iron And Steel"
          ],
          [
           "72--Iron And Steel"
          ],
          [
           "72--Iron And Steel"
          ],
          [
           "72--Iron And Steel"
          ],
          [
           "72--Iron And Steel"
          ],
          [
           "72--Iron And Steel"
          ],
          [
           "72--Iron And Steel"
          ],
          [
           "72--Iron And Steel"
          ],
          [
           "72--Iron And Steel"
          ]
         ],
         "hovertemplate": "Product=%{customdata[0]}<br>value=%{x}<extra></extra>",
         "legendgroup": "72--Iron And Steel",
         "marker": {
          "color": "#EF553B",
          "pattern": {
           "shape": ""
          }
         },
         "name": "72--Iron And Steel",
         "offsetgroup": "72--Iron And Steel",
         "orientation": "h",
         "showlegend": true,
         "textposition": "auto",
         "type": "bar",
         "x": [
          742,
          1116,
          1047,
          810,
          975,
          793,
          558,
          480,
          1170,
          1502
         ],
         "xaxis": "x",
         "y": [
          "2013",
          "2014",
          "2015",
          "2016",
          "2017",
          "2018",
          "2019",
          "2020",
          "2021",
          "2022"
         ],
         "yaxis": "y"
        },
        {
         "alignmentgroup": "True",
         "customdata": [
          [
           "82--Tools, Cutlery Etc. Of Base Metal"
          ],
          [
           "82--Tools, Cutlery Etc. Of Base Metal"
          ],
          [
           "82--Tools, Cutlery Etc. Of Base Metal"
          ],
          [
           "82--Tools, Cutlery Etc. Of Base Metal"
          ],
          [
           "82--Tools, Cutlery Etc. Of Base Metal"
          ],
          [
           "82--Tools, Cutlery Etc. Of Base Metal"
          ],
          [
           "82--Tools, Cutlery Etc. Of Base Metal"
          ],
          [
           "82--Tools, Cutlery Etc. Of Base Metal"
          ],
          [
           "82--Tools, Cutlery Etc. Of Base Metal"
          ],
          [
           "82--Tools, Cutlery Etc. Of Base Metal"
          ]
         ],
         "hovertemplate": "Product=%{customdata[0]}<br>value=%{x}<extra></extra>",
         "legendgroup": "82--Tools, Cutlery Etc. Of Base Metal",
         "marker": {
          "color": "#00cc96",
          "pattern": {
           "shape": ""
          }
         },
         "name": "82--Tools, Cutlery Etc. Of Base Metal",
         "offsetgroup": "82--Tools, Cutlery Etc. Of Base Metal",
         "orientation": "h",
         "showlegend": true,
         "textposition": "auto",
         "type": "bar",
         "x": [
          678,
          682,
          746,
          705,
          744,
          761,
          837,
          947,
          1219,
          1358
         ],
         "xaxis": "x",
         "y": [
          "2013",
          "2014",
          "2015",
          "2016",
          "2017",
          "2018",
          "2019",
          "2020",
          "2021",
          "2022"
         ],
         "yaxis": "y"
        },
        {
         "alignmentgroup": "True",
         "customdata": [
          [
           "40--Rubber & Articles Thereof"
          ],
          [
           "40--Rubber & Articles Thereof"
          ],
          [
           "40--Rubber & Articles Thereof"
          ],
          [
           "40--Rubber & Articles Thereof"
          ],
          [
           "40--Rubber & Articles Thereof"
          ],
          [
           "40--Rubber & Articles Thereof"
          ],
          [
           "40--Rubber & Articles Thereof"
          ],
          [
           "40--Rubber & Articles Thereof"
          ],
          [
           "40--Rubber & Articles Thereof"
          ],
          [
           "40--Rubber & Articles Thereof"
          ]
         ],
         "hovertemplate": "Product=%{customdata[0]}<br>value=%{x}<extra></extra>",
         "legendgroup": "40--Rubber & Articles Thereof",
         "marker": {
          "color": "#ab63fa",
          "pattern": {
           "shape": ""
          }
         },
         "name": "40--Rubber & Articles Thereof",
         "offsetgroup": "40--Rubber & Articles Thereof",
         "orientation": "h",
         "showlegend": true,
         "textposition": "auto",
         "type": "bar",
         "x": [
          692,
          720,
          822,
          746,
          844,
          880,
          922,
          938,
          825,
          928
         ],
         "xaxis": "x",
         "y": [
          "2013",
          "2014",
          "2015",
          "2016",
          "2017",
          "2018",
          "2019",
          "2020",
          "2021",
          "2022"
         ],
         "yaxis": "y"
        },
        {
         "alignmentgroup": "True",
         "customdata": [
          [
           "99--Special Import Provisions, Nesoi"
          ],
          [
           "99--Special Import Provisions, Nesoi"
          ],
          [
           "99--Special Import Provisions, Nesoi"
          ],
          [
           "99--Special Import Provisions, Nesoi"
          ],
          [
           "99--Special Import Provisions, Nesoi"
          ],
          [
           "99--Special Import Provisions, Nesoi"
          ],
          [
           "99--Special Import Provisions, Nesoi"
          ],
          [
           "99--Special Import Provisions, Nesoi"
          ],
          [
           "99--Special Import Provisions, Nesoi"
          ],
          [
           "99--Special Import Provisions, Nesoi"
          ]
         ],
         "hovertemplate": "Product=%{customdata[0]}<br>value=%{x}<extra></extra>",
         "legendgroup": "99--Special Import Provisions, Nesoi",
         "marker": {
          "color": "#FFA15A",
          "pattern": {
           "shape": ""
          }
         },
         "name": "99--Special Import Provisions, Nesoi",
         "offsetgroup": "99--Special Import Provisions, Nesoi",
         "orientation": "h",
         "showlegend": true,
         "textposition": "auto",
         "type": "bar",
         "x": [
          500,
          597,
          568,
          526,
          542,
          596,
          641,
          615,
          634,
          817
         ],
         "xaxis": "x",
         "y": [
          "2013",
          "2014",
          "2015",
          "2016",
          "2017",
          "2018",
          "2019",
          "2020",
          "2021",
          "2022"
         ],
         "yaxis": "y"
        },
        {
         "alignmentgroup": "True",
         "customdata": [
          [
           "29--Organic Chemicals"
          ],
          [
           "29--Organic Chemicals"
          ],
          [
           "29--Organic Chemicals"
          ],
          [
           "29--Organic Chemicals"
          ],
          [
           "29--Organic Chemicals"
          ],
          [
           "29--Organic Chemicals"
          ],
          [
           "29--Organic Chemicals"
          ],
          [
           "29--Organic Chemicals"
          ],
          [
           "29--Organic Chemicals"
          ],
          [
           "29--Organic Chemicals"
          ]
         ],
         "hovertemplate": "Product=%{customdata[0]}<br>value=%{x}<extra></extra>",
         "legendgroup": "29--Organic Chemicals",
         "marker": {
          "color": "#19d3f3",
          "pattern": {
           "shape": ""
          }
         },
         "name": "29--Organic Chemicals",
         "offsetgroup": "29--Organic Chemicals",
         "orientation": "h",
         "showlegend": true,
         "textposition": "auto",
         "type": "bar",
         "x": [
          334,
          506,
          390,
          366,
          457,
          479,
          370,
          333,
          651,
          752
         ],
         "xaxis": "x",
         "y": [
          "2013",
          "2014",
          "2015",
          "2016",
          "2017",
          "2018",
          "2019",
          "2020",
          "2021",
          "2022"
         ],
         "yaxis": "y"
        },
        {
         "alignmentgroup": "True",
         "customdata": [
          [
           "27--Mineral Fuel, Oil; Bitumin Subst"
          ],
          [
           "27--Mineral Fuel, Oil; Bitumin Subst"
          ],
          [
           "27--Mineral Fuel, Oil; Bitumin Subst"
          ],
          [
           "27--Mineral Fuel, Oil; Bitumin Subst"
          ],
          [
           "27--Mineral Fuel, Oil; Bitumin Subst"
          ],
          [
           "27--Mineral Fuel, Oil; Bitumin Subst"
          ],
          [
           "27--Mineral Fuel, Oil; Bitumin Subst"
          ],
          [
           "27--Mineral Fuel, Oil; Bitumin Subst"
          ],
          [
           "27--Mineral Fuel, Oil; Bitumin Subst"
          ],
          [
           "27--Mineral Fuel, Oil; Bitumin Subst"
          ]
         ],
         "hovertemplate": "Product=%{customdata[0]}<br>value=%{x}<extra></extra>",
         "legendgroup": "27--Mineral Fuel, Oil; Bitumin Subst",
         "marker": {
          "color": "#FF6692",
          "pattern": {
           "shape": ""
          }
         },
         "name": "27--Mineral Fuel, Oil; Bitumin Subst",
         "offsetgroup": "27--Mineral Fuel, Oil; Bitumin Subst",
         "orientation": "h",
         "showlegend": true,
         "textposition": "auto",
         "type": "bar",
         "x": [
          40,
          67,
          241,
          92,
          143,
          302,
          221,
          130,
          245,
          661
         ],
         "xaxis": "x",
         "y": [
          "2013",
          "2014",
          "2015",
          "2016",
          "2017",
          "2018",
          "2019",
          "2020",
          "2021",
          "2022"
         ],
         "yaxis": "y"
        },
        {
         "alignmentgroup": "True",
         "customdata": [
          [
           "38--Miscellaneous Chemical Products"
          ],
          [
           "38--Miscellaneous Chemical Products"
          ],
          [
           "38--Miscellaneous Chemical Products"
          ],
          [
           "38--Miscellaneous Chemical Products"
          ],
          [
           "38--Miscellaneous Chemical Products"
          ],
          [
           "38--Miscellaneous Chemical Products"
          ],
          [
           "38--Miscellaneous Chemical Products"
          ],
          [
           "38--Miscellaneous Chemical Products"
          ],
          [
           "38--Miscellaneous Chemical Products"
          ],
          [
           "38--Miscellaneous Chemical Products"
          ]
         ],
         "hovertemplate": "Product=%{customdata[0]}<br>value=%{x}<extra></extra>",
         "legendgroup": "38--Miscellaneous Chemical Products",
         "marker": {
          "color": "#B6E880",
          "pattern": {
           "shape": ""
          }
         },
         "name": "38--Miscellaneous Chemical Products",
         "offsetgroup": "38--Miscellaneous Chemical Products",
         "orientation": "h",
         "showlegend": true,
         "textposition": "auto",
         "type": "bar",
         "x": [
          252,
          263,
          269,
          242,
          314,
          336,
          284,
          325,
          348,
          424
         ],
         "xaxis": "x",
         "y": [
          "2013",
          "2014",
          "2015",
          "2016",
          "2017",
          "2018",
          "2019",
          "2020",
          "2021",
          "2022"
         ],
         "yaxis": "y"
        },
        {
         "alignmentgroup": "True",
         "customdata": [
          [
           "71--Nat Etc Pearls, Prec Etc Stones"
          ],
          [
           "71--Nat Etc Pearls, Prec Etc Stones"
          ],
          [
           "71--Nat Etc Pearls, Prec Etc Stones"
          ],
          [
           "71--Nat Etc Pearls, Prec Etc Stones"
          ],
          [
           "71--Nat Etc Pearls, Prec Etc Stones"
          ],
          [
           "71--Nat Etc Pearls, Prec Etc Stones"
          ],
          [
           "71--Nat Etc Pearls, Prec Etc Stones"
          ],
          [
           "71--Nat Etc Pearls, Prec Etc Stones"
          ],
          [
           "71--Nat Etc Pearls, Prec Etc Stones"
          ],
          [
           "71--Nat Etc Pearls, Prec Etc Stones"
          ]
         ],
         "hovertemplate": "Product=%{customdata[0]}<br>value=%{x}<extra></extra>",
         "legendgroup": "71--Nat Etc Pearls, Prec Etc Stones",
         "marker": {
          "color": "#FF97FF",
          "pattern": {
           "shape": ""
          }
         },
         "name": "71--Nat Etc Pearls, Prec Etc Stones",
         "offsetgroup": "71--Nat Etc Pearls, Prec Etc Stones",
         "orientation": "h",
         "showlegend": true,
         "textposition": "auto",
         "type": "bar",
         "x": [
          105,
          148,
          99,
          71,
          49,
          121,
          133,
          116,
          410,
          385
         ],
         "xaxis": "x",
         "y": [
          "2013",
          "2014",
          "2015",
          "2016",
          "2017",
          "2018",
          "2019",
          "2020",
          "2021",
          "2022"
         ],
         "yaxis": "y"
        },
        {
         "alignmentgroup": "True",
         "customdata": [
          [
           "30--Pharmaceutical Products"
          ],
          [
           "30--Pharmaceutical Products"
          ],
          [
           "30--Pharmaceutical Products"
          ],
          [
           "30--Pharmaceutical Products"
          ],
          [
           "30--Pharmaceutical Products"
          ],
          [
           "30--Pharmaceutical Products"
          ],
          [
           "30--Pharmaceutical Products"
          ],
          [
           "30--Pharmaceutical Products"
          ],
          [
           "30--Pharmaceutical Products"
          ],
          [
           "30--Pharmaceutical Products"
          ]
         ],
         "hovertemplate": "Product=%{customdata[0]}<br>value=%{x}<extra></extra>",
         "legendgroup": "30--Pharmaceutical Products",
         "marker": {
          "color": "#FECB52",
          "pattern": {
           "shape": ""
          }
         },
         "name": "30--Pharmaceutical Products",
         "offsetgroup": "30--Pharmaceutical Products",
         "orientation": "h",
         "showlegend": true,
         "textposition": "auto",
         "type": "bar",
         "x": [
          54,
          70,
          81,
          110,
          123,
          147,
          200,
          201,
          375,
          374
         ],
         "xaxis": "x",
         "y": [
          "2013",
          "2014",
          "2015",
          "2016",
          "2017",
          "2018",
          "2019",
          "2020",
          "2021",
          "2022"
         ],
         "yaxis": "y"
        },
        {
         "alignmentgroup": "True",
         "customdata": [
          [
           "28--Inorg Chem; Prec & Rare-Earth Met"
          ],
          [
           "28--Inorg Chem; Prec & Rare-Earth Met"
          ],
          [
           "28--Inorg Chem; Prec & Rare-Earth Met"
          ],
          [
           "28--Inorg Chem; Prec & Rare-Earth Met"
          ],
          [
           "28--Inorg Chem; Prec & Rare-Earth Met"
          ],
          [
           "28--Inorg Chem; Prec & Rare-Earth Met"
          ],
          [
           "28--Inorg Chem; Prec & Rare-Earth Met"
          ],
          [
           "28--Inorg Chem; Prec & Rare-Earth Met"
          ],
          [
           "28--Inorg Chem; Prec & Rare-Earth Met"
          ],
          [
           "28--Inorg Chem; Prec & Rare-Earth Met"
          ]
         ],
         "hovertemplate": "Product=%{customdata[0]}<br>value=%{x}<extra></extra>",
         "legendgroup": "28--Inorg Chem; Prec & Rare-Earth Met",
         "marker": {
          "color": "#636efa",
          "pattern": {
           "shape": ""
          }
         },
         "name": "28--Inorg Chem; Prec & Rare-Earth Met",
         "offsetgroup": "28--Inorg Chem; Prec & Rare-Earth Met",
         "orientation": "h",
         "showlegend": true,
         "textposition": "auto",
         "type": "bar",
         "x": [
          88,
          124,
          103,
          119,
          170,
          193,
          164,
          168,
          224,
          356
         ],
         "xaxis": "x",
         "y": [
          "2013",
          "2014",
          "2015",
          "2016",
          "2017",
          "2018",
          "2019",
          "2020",
          "2021",
          "2022"
         ],
         "yaxis": "y"
        },
        {
         "alignmentgroup": "True",
         "customdata": [
          [
           "70--Glass And Glassware"
          ],
          [
           "70--Glass And Glassware"
          ],
          [
           "70--Glass And Glassware"
          ],
          [
           "70--Glass And Glassware"
          ],
          [
           "70--Glass And Glassware"
          ],
          [
           "70--Glass And Glassware"
          ],
          [
           "70--Glass And Glassware"
          ],
          [
           "70--Glass And Glassware"
          ],
          [
           "70--Glass And Glassware"
          ],
          [
           "70--Glass And Glassware"
          ]
         ],
         "hovertemplate": "Product=%{customdata[0]}<br>value=%{x}<extra></extra>",
         "legendgroup": "70--Glass And Glassware",
         "marker": {
          "color": "#EF553B",
          "pattern": {
           "shape": ""
          }
         },
         "name": "70--Glass And Glassware",
         "offsetgroup": "70--Glass And Glassware",
         "orientation": "h",
         "showlegend": true,
         "textposition": "auto",
         "type": "bar",
         "x": [
          223,
          231,
          253,
          242,
          243,
          284,
          290,
          283,
          308,
          324
         ],
         "xaxis": "x",
         "y": [
          "2013",
          "2014",
          "2015",
          "2016",
          "2017",
          "2018",
          "2019",
          "2020",
          "2021",
          "2022"
         ],
         "yaxis": "y"
        },
        {
         "alignmentgroup": "True",
         "customdata": [
          [
           "74--Copper And Articles Thereof"
          ],
          [
           "74--Copper And Articles Thereof"
          ],
          [
           "74--Copper And Articles Thereof"
          ],
          [
           "74--Copper And Articles Thereof"
          ],
          [
           "74--Copper And Articles Thereof"
          ],
          [
           "74--Copper And Articles Thereof"
          ],
          [
           "74--Copper And Articles Thereof"
          ],
          [
           "74--Copper And Articles Thereof"
          ],
          [
           "74--Copper And Articles Thereof"
          ],
          [
           "74--Copper And Articles Thereof"
          ]
         ],
         "hovertemplate": "Product=%{customdata[0]}<br>value=%{x}<extra></extra>",
         "legendgroup": "74--Copper And Articles Thereof",
         "marker": {
          "color": "#00cc96",
          "pattern": {
           "shape": ""
          }
         },
         "name": "74--Copper And Articles Thereof",
         "offsetgroup": "74--Copper And Articles Thereof",
         "orientation": "h",
         "showlegend": true,
         "textposition": "auto",
         "type": "bar",
         "x": [
          167,
          172,
          174,
          160,
          178,
          204,
          213,
          189,
          256,
          322
         ],
         "xaxis": "x",
         "y": [
          "2013",
          "2014",
          "2015",
          "2016",
          "2017",
          "2018",
          "2019",
          "2020",
          "2021",
          "2022"
         ],
         "yaxis": "y"
        },
        {
         "alignmentgroup": "True",
         "customdata": [
          [
           "76--Aluminum And Articles Thereof"
          ],
          [
           "76--Aluminum And Articles Thereof"
          ],
          [
           "76--Aluminum And Articles Thereof"
          ],
          [
           "76--Aluminum And Articles Thereof"
          ],
          [
           "76--Aluminum And Articles Thereof"
          ],
          [
           "76--Aluminum And Articles Thereof"
          ],
          [
           "76--Aluminum And Articles Thereof"
          ],
          [
           "76--Aluminum And Articles Thereof"
          ],
          [
           "76--Aluminum And Articles Thereof"
          ],
          [
           "76--Aluminum And Articles Thereof"
          ]
         ],
         "hovertemplate": "Product=%{customdata[0]}<br>value=%{x}<extra></extra>",
         "legendgroup": "76--Aluminum And Articles Thereof",
         "marker": {
          "color": "#ab63fa",
          "pattern": {
           "shape": ""
          }
         },
         "name": "76--Aluminum And Articles Thereof",
         "offsetgroup": "76--Aluminum And Articles Thereof",
         "orientation": "h",
         "showlegend": true,
         "textposition": "auto",
         "type": "bar",
         "x": [
          124,
          127,
          137,
          159,
          225,
          309,
          352,
          253,
          251,
          310
         ],
         "xaxis": "x",
         "y": [
          "2013",
          "2014",
          "2015",
          "2016",
          "2017",
          "2018",
          "2019",
          "2020",
          "2021",
          "2022"
         ],
         "yaxis": "y"
        },
        {
         "alignmentgroup": "True",
         "customdata": [
          [
           "89--Ships, Boats And Floating Structures"
          ],
          [
           "89--Ships, Boats And Floating Structures"
          ],
          [
           "89--Ships, Boats And Floating Structures"
          ],
          [
           "89--Ships, Boats And Floating Structures"
          ],
          [
           "89--Ships, Boats And Floating Structures"
          ],
          [
           "89--Ships, Boats And Floating Structures"
          ],
          [
           "89--Ships, Boats And Floating Structures"
          ],
          [
           "89--Ships, Boats And Floating Structures"
          ],
          [
           "89--Ships, Boats And Floating Structures"
          ],
          [
           "89--Ships, Boats And Floating Structures"
          ]
         ],
         "hovertemplate": "Product=%{customdata[0]}<br>value=%{x}<extra></extra>",
         "legendgroup": "89--Ships, Boats And Floating Structures",
         "marker": {
          "color": "#FFA15A",
          "pattern": {
           "shape": ""
          }
         },
         "name": "89--Ships, Boats And Floating Structures",
         "offsetgroup": "89--Ships, Boats And Floating Structures",
         "orientation": "h",
         "showlegend": true,
         "textposition": "auto",
         "type": "bar",
         "x": [
          110,
          105,
          174,
          162,
          176,
          122,
          207,
          241,
          180,
          288
         ],
         "xaxis": "x",
         "y": [
          "2013",
          "2014",
          "2015",
          "2016",
          "2017",
          "2018",
          "2019",
          "2020",
          "2021",
          "2022"
         ],
         "yaxis": "y"
        },
        {
         "alignmentgroup": "True",
         "customdata": [
          [
           "48--Paper & Paperboard"
          ],
          [
           "48--Paper & Paperboard"
          ],
          [
           "48--Paper & Paperboard"
          ],
          [
           "48--Paper & Paperboard"
          ],
          [
           "48--Paper & Paperboard"
          ],
          [
           "48--Paper & Paperboard"
          ],
          [
           "48--Paper & Paperboard"
          ],
          [
           "48--Paper & Paperboard"
          ],
          [
           "48--Paper & Paperboard"
          ],
          [
           "48--Paper & Paperboard"
          ]
         ],
         "hovertemplate": "Product=%{customdata[0]}<br>value=%{x}<extra></extra>",
         "legendgroup": "48--Paper & Paperboard",
         "marker": {
          "color": "#19d3f3",
          "pattern": {
           "shape": ""
          }
         },
         "name": "48--Paper & Paperboard",
         "offsetgroup": "48--Paper & Paperboard",
         "orientation": "h",
         "showlegend": true,
         "textposition": "auto",
         "type": "bar",
         "x": [
          145,
          144,
          162,
          166,
          181,
          200,
          232,
          205,
          214,
          282
         ],
         "xaxis": "x",
         "y": [
          "2013",
          "2014",
          "2015",
          "2016",
          "2017",
          "2018",
          "2019",
          "2020",
          "2021",
          "2022"
         ],
         "yaxis": "y"
        },
        {
         "alignmentgroup": "True",
         "customdata": [
          [
           "21--Miscellaneous Edible Preparations"
          ],
          [
           "21--Miscellaneous Edible Preparations"
          ],
          [
           "21--Miscellaneous Edible Preparations"
          ],
          [
           "21--Miscellaneous Edible Preparations"
          ],
          [
           "21--Miscellaneous Edible Preparations"
          ],
          [
           "21--Miscellaneous Edible Preparations"
          ],
          [
           "21--Miscellaneous Edible Preparations"
          ],
          [
           "21--Miscellaneous Edible Preparations"
          ],
          [
           "21--Miscellaneous Edible Preparations"
          ],
          [
           "21--Miscellaneous Edible Preparations"
          ]
         ],
         "hovertemplate": "Product=%{customdata[0]}<br>value=%{x}<extra></extra>",
         "legendgroup": "21--Miscellaneous Edible Preparations",
         "marker": {
          "color": "#FF6692",
          "pattern": {
           "shape": ""
          }
         },
         "name": "21--Miscellaneous Edible Preparations",
         "offsetgroup": "21--Miscellaneous Edible Preparations",
         "orientation": "h",
         "showlegend": true,
         "textposition": "auto",
         "type": "bar",
         "x": [
          56,
          60,
          62,
          68,
          80,
          92,
          103,
          133,
          214,
          228
         ],
         "xaxis": "x",
         "y": [
          "2013",
          "2014",
          "2015",
          "2016",
          "2017",
          "2018",
          "2019",
          "2020",
          "2021",
          "2022"
         ],
         "yaxis": "y"
        },
        {
         "alignmentgroup": "True",
         "customdata": [
          [
           "93--Arms & Ammunition"
          ],
          [
           "93--Arms & Ammunition"
          ],
          [
           "93--Arms & Ammunition"
          ],
          [
           "93--Arms & Ammunition"
          ],
          [
           "93--Arms & Ammunition"
          ],
          [
           "93--Arms & Ammunition"
          ],
          [
           "93--Arms & Ammunition"
          ],
          [
           "93--Arms & Ammunition"
          ],
          [
           "93--Arms & Ammunition"
          ],
          [
           "93--Arms & Ammunition"
          ]
         ],
         "hovertemplate": "Product=%{customdata[0]}<br>value=%{x}<extra></extra>",
         "legendgroup": "93--Arms & Ammunition",
         "marker": {
          "color": "#B6E880",
          "pattern": {
           "shape": ""
          }
         },
         "name": "93--Arms & Ammunition",
         "offsetgroup": "93--Arms & Ammunition",
         "orientation": "h",
         "showlegend": true,
         "textposition": "auto",
         "type": "bar",
         "x": [
          96,
          99,
          103,
          102,
          85,
          95,
          105,
          146,
          239,
          198
         ],
         "xaxis": "x",
         "y": [
          "2013",
          "2014",
          "2015",
          "2016",
          "2017",
          "2018",
          "2019",
          "2020",
          "2021",
          "2022"
         ],
         "yaxis": "y"
        },
        {
         "alignmentgroup": "True",
         "customdata": [
          [
           "63--Textile Art Nesoi; Needlecraft Sets"
          ],
          [
           "63--Textile Art Nesoi; Needlecraft Sets"
          ],
          [
           "63--Textile Art Nesoi; Needlecraft Sets"
          ],
          [
           "63--Textile Art Nesoi; Needlecraft Sets"
          ],
          [
           "63--Textile Art Nesoi; Needlecraft Sets"
          ],
          [
           "63--Textile Art Nesoi; Needlecraft Sets"
          ],
          [
           "63--Textile Art Nesoi; Needlecraft Sets"
          ],
          [
           "63--Textile Art Nesoi; Needlecraft Sets"
          ],
          [
           "63--Textile Art Nesoi; Needlecraft Sets"
          ],
          [
           "63--Textile Art Nesoi; Needlecraft Sets"
          ]
         ],
         "hovertemplate": "Product=%{customdata[0]}<br>value=%{x}<extra></extra>",
         "legendgroup": "63--Textile Art Nesoi; Needlecraft Sets",
         "marker": {
          "color": "#FF97FF",
          "pattern": {
           "shape": ""
          }
         },
         "name": "63--Textile Art Nesoi; Needlecraft Sets",
         "offsetgroup": "63--Textile Art Nesoi; Needlecraft Sets",
         "orientation": "h",
         "showlegend": true,
         "textposition": "auto",
         "type": "bar",
         "x": [
          122,
          115,
          143,
          129,
          131,
          137,
          135,
          156,
          175,
          192
         ],
         "xaxis": "x",
         "y": [
          "2013",
          "2014",
          "2015",
          "2016",
          "2017",
          "2018",
          "2019",
          "2020",
          "2021",
          "2022"
         ],
         "yaxis": "y"
        },
        {
         "alignmentgroup": "True",
         "customdata": [
          [
           "42--Leather Art; Saddlery"
          ],
          [
           "42--Leather Art; Saddlery"
          ],
          [
           "42--Leather Art; Saddlery"
          ],
          [
           "42--Leather Art; Saddlery"
          ],
          [
           "42--Leather Art; Saddlery"
          ],
          [
           "42--Leather Art; Saddlery"
          ],
          [
           "42--Leather Art; Saddlery"
          ],
          [
           "42--Leather Art; Saddlery"
          ],
          [
           "42--Leather Art; Saddlery"
          ],
          [
           "42--Leather Art; Saddlery"
          ]
         ],
         "hovertemplate": "Product=%{customdata[0]}<br>value=%{x}<extra></extra>",
         "legendgroup": "42--Leather Art; Saddlery",
         "marker": {
          "color": "#FECB52",
          "pattern": {
           "shape": ""
          }
         },
         "name": "42--Leather Art; Saddlery",
         "offsetgroup": "42--Leather Art; Saddlery",
         "orientation": "h",
         "showlegend": true,
         "textposition": "auto",
         "type": "bar",
         "x": [
          92,
          95,
          84,
          69,
          65,
          63,
          126,
          106,
          144,
          192
         ],
         "xaxis": "x",
         "y": [
          "2013",
          "2014",
          "2015",
          "2016",
          "2017",
          "2018",
          "2019",
          "2020",
          "2021",
          "2022"
         ],
         "yaxis": "y"
        },
        {
         "alignmentgroup": "True",
         "customdata": [
          [
           "19--Prep Cereal, Flour, Starch"
          ],
          [
           "19--Prep Cereal, Flour, Starch"
          ],
          [
           "19--Prep Cereal, Flour, Starch"
          ],
          [
           "19--Prep Cereal, Flour, Starch"
          ],
          [
           "19--Prep Cereal, Flour, Starch"
          ],
          [
           "19--Prep Cereal, Flour, Starch"
          ],
          [
           "19--Prep Cereal, Flour, Starch"
          ],
          [
           "19--Prep Cereal, Flour, Starch"
          ],
          [
           "19--Prep Cereal, Flour, Starch"
          ],
          [
           "19--Prep Cereal, Flour, Starch"
          ]
         ],
         "hovertemplate": "Product=%{customdata[0]}<br>value=%{x}<extra></extra>",
         "legendgroup": "19--Prep Cereal, Flour, Starch",
         "marker": {
          "color": "#636efa",
          "pattern": {
           "shape": ""
          }
         },
         "name": "19--Prep Cereal, Flour, Starch",
         "offsetgroup": "19--Prep Cereal, Flour, Starch",
         "orientation": "h",
         "showlegend": true,
         "textposition": "auto",
         "type": "bar",
         "x": [
          62,
          58,
          59,
          64,
          68,
          80,
          97,
          131,
          146,
          191
         ],
         "xaxis": "x",
         "y": [
          "2013",
          "2014",
          "2015",
          "2016",
          "2017",
          "2018",
          "2019",
          "2020",
          "2021",
          "2022"
         ],
         "yaxis": "y"
        },
        {
         "alignmentgroup": "True",
         "customdata": [
          [
           "58--Spec Wov Fabrics"
          ],
          [
           "58--Spec Wov Fabrics"
          ],
          [
           "58--Spec Wov Fabrics"
          ],
          [
           "58--Spec Wov Fabrics"
          ],
          [
           "58--Spec Wov Fabrics"
          ],
          [
           "58--Spec Wov Fabrics"
          ],
          [
           "58--Spec Wov Fabrics"
          ],
          [
           "58--Spec Wov Fabrics"
          ],
          [
           "58--Spec Wov Fabrics"
          ],
          [
           "58--Spec Wov Fabrics"
          ]
         ],
         "hovertemplate": "Product=%{customdata[0]}<br>value=%{x}<extra></extra>",
         "legendgroup": "58--Spec Wov Fabrics",
         "marker": {
          "color": "#EF553B",
          "pattern": {
           "shape": ""
          }
         },
         "name": "58--Spec Wov Fabrics",
         "offsetgroup": "58--Spec Wov Fabrics",
         "orientation": "h",
         "showlegend": true,
         "textposition": "auto",
         "type": "bar",
         "x": [
          122,
          126,
          124,
          120,
          119,
          116,
          132,
          124,
          151,
          171
         ],
         "xaxis": "x",
         "y": [
          "2013",
          "2014",
          "2015",
          "2016",
          "2017",
          "2018",
          "2019",
          "2020",
          "2021",
          "2022"
         ],
         "yaxis": "y"
        },
        {
         "alignmentgroup": "True",
         "customdata": [
          [
           "03--Fish & Aquatic Invertebrates"
          ],
          [
           "03--Fish & Aquatic Invertebrates"
          ],
          [
           "03--Fish & Aquatic Invertebrates"
          ],
          [
           "03--Fish & Aquatic Invertebrates"
          ],
          [
           "03--Fish & Aquatic Invertebrates"
          ],
          [
           "03--Fish & Aquatic Invertebrates"
          ],
          [
           "03--Fish & Aquatic Invertebrates"
          ],
          [
           "03--Fish & Aquatic Invertebrates"
          ],
          [
           "03--Fish & Aquatic Invertebrates"
          ],
          [
           "03--Fish & Aquatic Invertebrates"
          ]
         ],
         "hovertemplate": "Product=%{customdata[0]}<br>value=%{x}<extra></extra>",
         "legendgroup": "03--Fish & Aquatic Invertebrates",
         "marker": {
          "color": "#00cc96",
          "pattern": {
           "shape": ""
          }
         },
         "name": "03--Fish & Aquatic Invertebrates",
         "offsetgroup": "03--Fish & Aquatic Invertebrates",
         "orientation": "h",
         "showlegend": true,
         "textposition": "auto",
         "type": "bar",
         "x": [
          120,
          131,
          132,
          149,
          170,
          133,
          144,
          117,
          147,
          155
         ],
         "xaxis": "x",
         "y": [
          "2013",
          "2014",
          "2015",
          "2016",
          "2017",
          "2018",
          "2019",
          "2020",
          "2021",
          "2022"
         ],
         "yaxis": "y"
        },
        {
         "alignmentgroup": "True",
         "customdata": [
          [
           "33--Essential Oils; Perfumery, Cosmetic"
          ],
          [
           "33--Essential Oils; Perfumery, Cosmetic"
          ],
          [
           "33--Essential Oils; Perfumery, Cosmetic"
          ],
          [
           "33--Essential Oils; Perfumery, Cosmetic"
          ],
          [
           "33--Essential Oils; Perfumery, Cosmetic"
          ],
          [
           "33--Essential Oils; Perfumery, Cosmetic"
          ],
          [
           "33--Essential Oils; Perfumery, Cosmetic"
          ],
          [
           "33--Essential Oils; Perfumery, Cosmetic"
          ],
          [
           "33--Essential Oils; Perfumery, Cosmetic"
          ],
          [
           "33--Essential Oils; Perfumery, Cosmetic"
          ]
         ],
         "hovertemplate": "Product=%{customdata[0]}<br>value=%{x}<extra></extra>",
         "legendgroup": "33--Essential Oils; Perfumery, Cosmetic",
         "marker": {
          "color": "#ab63fa",
          "pattern": {
           "shape": ""
          }
         },
         "name": "33--Essential Oils; Perfumery, Cosmetic",
         "offsetgroup": "33--Essential Oils; Perfumery, Cosmetic",
         "orientation": "h",
         "showlegend": true,
         "textposition": "auto",
         "type": "bar",
         "x": [
          51,
          48,
          84,
          83,
          82,
          86,
          87,
          88,
          123,
          132
         ],
         "xaxis": "x",
         "y": [
          "2013",
          "2014",
          "2015",
          "2016",
          "2017",
          "2018",
          "2019",
          "2020",
          "2021",
          "2022"
         ],
         "yaxis": "y"
        },
        {
         "alignmentgroup": "True",
         "customdata": [
          [
           "61--Apparel Articles & Accessories"
          ],
          [
           "61--Apparel Articles & Accessories"
          ],
          [
           "61--Apparel Articles & Accessories"
          ],
          [
           "61--Apparel Articles & Accessories"
          ],
          [
           "61--Apparel Articles & Accessories"
          ],
          [
           "61--Apparel Articles & Accessories"
          ],
          [
           "61--Apparel Articles & Accessories"
          ],
          [
           "61--Apparel Articles & Accessories"
          ],
          [
           "61--Apparel Articles & Accessories"
          ],
          [
           "61--Apparel Articles & Accessories"
          ]
         ],
         "hovertemplate": "Product=%{customdata[0]}<br>value=%{x}<extra></extra>",
         "legendgroup": "61--Apparel Articles & Accessories",
         "marker": {
          "color": "#FFA15A",
          "pattern": {
           "shape": ""
          }
         },
         "name": "61--Apparel Articles & Accessories",
         "offsetgroup": "61--Apparel Articles & Accessories",
         "orientation": "h",
         "showlegend": true,
         "textposition": "auto",
         "type": "bar",
         "x": [
          263,
          262,
          243,
          177,
          163,
          135,
          120,
          91,
          111,
          126
         ],
         "xaxis": "x",
         "y": [
          "2013",
          "2014",
          "2015",
          "2016",
          "2017",
          "2018",
          "2019",
          "2020",
          "2021",
          "2022"
         ],
         "yaxis": "y"
        },
        {
         "alignmentgroup": "True",
         "customdata": [
          [
           "59--Impregnated Etc Text Fabrics"
          ],
          [
           "59--Impregnated Etc Text Fabrics"
          ],
          [
           "59--Impregnated Etc Text Fabrics"
          ],
          [
           "59--Impregnated Etc Text Fabrics"
          ],
          [
           "59--Impregnated Etc Text Fabrics"
          ],
          [
           "59--Impregnated Etc Text Fabrics"
          ],
          [
           "59--Impregnated Etc Text Fabrics"
          ],
          [
           "59--Impregnated Etc Text Fabrics"
          ],
          [
           "59--Impregnated Etc Text Fabrics"
          ],
          [
           "59--Impregnated Etc Text Fabrics"
          ]
         ],
         "hovertemplate": "Product=%{customdata[0]}<br>value=%{x}<extra></extra>",
         "legendgroup": "59--Impregnated Etc Text Fabrics",
         "marker": {
          "color": "#19d3f3",
          "pattern": {
           "shape": ""
          }
         },
         "name": "59--Impregnated Etc Text Fabrics",
         "offsetgroup": "59--Impregnated Etc Text Fabrics",
         "orientation": "h",
         "showlegend": true,
         "textposition": "auto",
         "type": "bar",
         "x": [
          87,
          96,
          109,
          97,
          95,
          102,
          98,
          89,
          105,
          124
         ],
         "xaxis": "x",
         "y": [
          "2013",
          "2014",
          "2015",
          "2016",
          "2017",
          "2018",
          "2019",
          "2020",
          "2021",
          "2022"
         ],
         "yaxis": "y"
        },
        {
         "alignmentgroup": "True",
         "customdata": [
          [
           "54--Manmade Filaments, Including Yarns"
          ],
          [
           "54--Manmade Filaments, Including Yarns"
          ],
          [
           "54--Manmade Filaments, Including Yarns"
          ],
          [
           "54--Manmade Filaments, Including Yarns"
          ],
          [
           "54--Manmade Filaments, Including Yarns"
          ],
          [
           "54--Manmade Filaments, Including Yarns"
          ],
          [
           "54--Manmade Filaments, Including Yarns"
          ],
          [
           "54--Manmade Filaments, Including Yarns"
          ],
          [
           "54--Manmade Filaments, Including Yarns"
          ],
          [
           "54--Manmade Filaments, Including Yarns"
          ]
         ],
         "hovertemplate": "Product=%{customdata[0]}<br>value=%{x}<extra></extra>",
         "legendgroup": "54--Manmade Filaments, Including Yarns",
         "marker": {
          "color": "#FF6692",
          "pattern": {
           "shape": ""
          }
         },
         "name": "54--Manmade Filaments, Including Yarns",
         "offsetgroup": "54--Manmade Filaments, Including Yarns",
         "orientation": "h",
         "showlegend": true,
         "textposition": "auto",
         "type": "bar",
         "x": [
          107,
          108,
          100,
          86,
          87,
          94,
          98,
          76,
          92,
          114
         ],
         "xaxis": "x",
         "y": [
          "2013",
          "2014",
          "2015",
          "2016",
          "2017",
          "2018",
          "2019",
          "2020",
          "2021",
          "2022"
         ],
         "yaxis": "y"
        },
        {
         "alignmentgroup": "True",
         "customdata": [
          [
           "65--Headgear & Parts Thereof"
          ],
          [
           "65--Headgear & Parts Thereof"
          ],
          [
           "65--Headgear & Parts Thereof"
          ],
          [
           "65--Headgear & Parts Thereof"
          ],
          [
           "65--Headgear & Parts Thereof"
          ],
          [
           "65--Headgear & Parts Thereof"
          ],
          [
           "65--Headgear & Parts Thereof"
          ],
          [
           "65--Headgear & Parts Thereof"
          ],
          [
           "65--Headgear & Parts Thereof"
          ],
          [
           "65--Headgear & Parts Thereof"
          ]
         ],
         "hovertemplate": "Product=%{customdata[0]}<br>value=%{x}<extra></extra>",
         "legendgroup": "65--Headgear & Parts Thereof",
         "marker": {
          "color": "#B6E880",
          "pattern": {
           "shape": ""
          }
         },
         "name": "65--Headgear & Parts Thereof",
         "offsetgroup": "65--Headgear & Parts Thereof",
         "orientation": "h",
         "showlegend": true,
         "textposition": "auto",
         "type": "bar",
         "x": [
          61,
          72,
          75,
          69,
          70,
          63,
          68,
          66,
          79,
          110
         ],
         "xaxis": "x",
         "y": [
          "2013",
          "2014",
          "2015",
          "2016",
          "2017",
          "2018",
          "2019",
          "2020",
          "2021",
          "2022"
         ],
         "yaxis": "y"
        },
        {
         "alignmentgroup": "True",
         "customdata": [
          [
           "92--Musical Instruments"
          ],
          [
           "92--Musical Instruments"
          ],
          [
           "92--Musical Instruments"
          ],
          [
           "92--Musical Instruments"
          ],
          [
           "92--Musical Instruments"
          ],
          [
           "92--Musical Instruments"
          ],
          [
           "92--Musical Instruments"
          ],
          [
           "92--Musical Instruments"
          ],
          [
           "92--Musical Instruments"
          ],
          [
           "92--Musical Instruments"
          ]
         ],
         "hovertemplate": "Product=%{customdata[0]}<br>value=%{x}<extra></extra>",
         "legendgroup": "92--Musical Instruments",
         "marker": {
          "color": "#FF97FF",
          "pattern": {
           "shape": ""
          }
         },
         "name": "92--Musical Instruments",
         "offsetgroup": "92--Musical Instruments",
         "orientation": "h",
         "showlegend": true,
         "textposition": "auto",
         "type": "bar",
         "x": [
          67,
          67,
          81,
          71,
          68,
          76,
          73,
          63,
          70,
          108
         ],
         "xaxis": "x",
         "y": [
          "2013",
          "2014",
          "2015",
          "2016",
          "2017",
          "2018",
          "2019",
          "2020",
          "2021",
          "2022"
         ],
         "yaxis": "y"
        },
        {
         "alignmentgroup": "True",
         "customdata": [
          [
           "96--Miscellaneous Manufactured Articles"
          ],
          [
           "96--Miscellaneous Manufactured Articles"
          ],
          [
           "96--Miscellaneous Manufactured Articles"
          ],
          [
           "96--Miscellaneous Manufactured Articles"
          ],
          [
           "96--Miscellaneous Manufactured Articles"
          ],
          [
           "96--Miscellaneous Manufactured Articles"
          ],
          [
           "96--Miscellaneous Manufactured Articles"
          ],
          [
           "96--Miscellaneous Manufactured Articles"
          ],
          [
           "96--Miscellaneous Manufactured Articles"
          ],
          [
           "96--Miscellaneous Manufactured Articles"
          ]
         ],
         "hovertemplate": "Product=%{customdata[0]}<br>value=%{x}<extra></extra>",
         "legendgroup": "96--Miscellaneous Manufactured Articles",
         "marker": {
          "color": "#FECB52",
          "pattern": {
           "shape": ""
          }
         },
         "name": "96--Miscellaneous Manufactured Articles",
         "offsetgroup": "96--Miscellaneous Manufactured Articles",
         "orientation": "h",
         "showlegend": true,
         "textposition": "auto",
         "type": "bar",
         "x": [
          100,
          107,
          125,
          120,
          112,
          100,
          97,
          95,
          110,
          104
         ],
         "xaxis": "x",
         "y": [
          "2013",
          "2014",
          "2015",
          "2016",
          "2017",
          "2018",
          "2019",
          "2020",
          "2021",
          "2022"
         ],
         "yaxis": "y"
        },
        {
         "alignmentgroup": "True",
         "customdata": [
          [
           "88--Aircraft, Spacecraft, And Parts Thereof"
          ],
          [
           "88--Aircraft, Spacecraft, And Parts Thereof"
          ],
          [
           "88--Aircraft, Spacecraft, And Parts Thereof"
          ],
          [
           "88--Aircraft, Spacecraft, And Parts Thereof"
          ],
          [
           "88--Aircraft, Spacecraft, And Parts Thereof"
          ],
          [
           "88--Aircraft, Spacecraft, And Parts Thereof"
          ],
          [
           "88--Aircraft, Spacecraft, And Parts Thereof"
          ],
          [
           "88--Aircraft, Spacecraft, And Parts Thereof"
          ],
          [
           "88--Aircraft, Spacecraft, And Parts Thereof"
          ],
          [
           "88--Aircraft, Spacecraft, And Parts Thereof"
          ]
         ],
         "hovertemplate": "Product=%{customdata[0]}<br>value=%{x}<extra></extra>",
         "legendgroup": "88--Aircraft, Spacecraft, And Parts Thereof",
         "marker": {
          "color": "#636efa",
          "pattern": {
           "shape": ""
          }
         },
         "name": "88--Aircraft, Spacecraft, And Parts Thereof",
         "offsetgroup": "88--Aircraft, Spacecraft, And Parts Thereof",
         "orientation": "h",
         "showlegend": true,
         "textposition": "auto",
         "type": "bar",
         "x": [
          117,
          114,
          101,
          80,
          76,
          86,
          98,
          69,
          75,
          94
         ],
         "xaxis": "x",
         "y": [
          "2013",
          "2014",
          "2015",
          "2016",
          "2017",
          "2018",
          "2019",
          "2020",
          "2021",
          "2022"
         ],
         "yaxis": "y"
        },
        {
         "alignmentgroup": "True",
         "customdata": [
          [
           "06--Live Trees, Plants, Bulbs"
          ],
          [
           "06--Live Trees, Plants, Bulbs"
          ],
          [
           "06--Live Trees, Plants, Bulbs"
          ],
          [
           "06--Live Trees, Plants, Bulbs"
          ],
          [
           "06--Live Trees, Plants, Bulbs"
          ],
          [
           "06--Live Trees, Plants, Bulbs"
          ],
          [
           "06--Live Trees, Plants, Bulbs"
          ],
          [
           "06--Live Trees, Plants, Bulbs"
          ],
          [
           "06--Live Trees, Plants, Bulbs"
          ],
          [
           "06--Live Trees, Plants, Bulbs"
          ]
         ],
         "hovertemplate": "Product=%{customdata[0]}<br>value=%{x}<extra></extra>",
         "legendgroup": "06--Live Trees, Plants, Bulbs",
         "marker": {
          "color": "#EF553B",
          "pattern": {
           "shape": ""
          }
         },
         "name": "06--Live Trees, Plants, Bulbs",
         "offsetgroup": "06--Live Trees, Plants, Bulbs",
         "orientation": "h",
         "showlegend": true,
         "textposition": "auto",
         "type": "bar",
         "x": [
          56,
          64,
          64,
          61,
          65,
          63,
          67,
          60,
          80,
          87
         ],
         "xaxis": "x",
         "y": [
          "2013",
          "2014",
          "2015",
          "2016",
          "2017",
          "2018",
          "2019",
          "2020",
          "2021",
          "2022"
         ],
         "yaxis": "y"
        },
        {
         "alignmentgroup": "True",
         "customdata": [
          [
           "68--Art Of Stone, Plaster Etc."
          ],
          [
           "68--Art Of Stone, Plaster Etc."
          ],
          [
           "68--Art Of Stone, Plaster Etc."
          ],
          [
           "68--Art Of Stone, Plaster Etc."
          ],
          [
           "68--Art Of Stone, Plaster Etc."
          ],
          [
           "68--Art Of Stone, Plaster Etc."
          ],
          [
           "68--Art Of Stone, Plaster Etc."
          ],
          [
           "68--Art Of Stone, Plaster Etc."
          ],
          [
           "68--Art Of Stone, Plaster Etc."
          ],
          [
           "68--Art Of Stone, Plaster Etc."
          ]
         ],
         "hovertemplate": "Product=%{customdata[0]}<br>value=%{x}<extra></extra>",
         "legendgroup": "68--Art Of Stone, Plaster Etc.",
         "marker": {
          "color": "#00cc96",
          "pattern": {
           "shape": ""
          }
         },
         "name": "68--Art Of Stone, Plaster Etc.",
         "offsetgroup": "68--Art Of Stone, Plaster Etc.",
         "orientation": "h",
         "showlegend": true,
         "textposition": "auto",
         "type": "bar",
         "x": [
          44,
          36,
          32,
          27,
          25,
          28,
          61,
          71,
          90,
          78
         ],
         "xaxis": "x",
         "y": [
          "2013",
          "2014",
          "2015",
          "2016",
          "2017",
          "2018",
          "2019",
          "2020",
          "2021",
          "2022"
         ],
         "yaxis": "y"
        },
        {
         "alignmentgroup": "True",
         "customdata": [
          [
           "81--Base Metals Nesoi; Cermets"
          ],
          [
           "81--Base Metals Nesoi; Cermets"
          ],
          [
           "81--Base Metals Nesoi; Cermets"
          ],
          [
           "81--Base Metals Nesoi; Cermets"
          ],
          [
           "81--Base Metals Nesoi; Cermets"
          ],
          [
           "81--Base Metals Nesoi; Cermets"
          ],
          [
           "81--Base Metals Nesoi; Cermets"
          ],
          [
           "81--Base Metals Nesoi; Cermets"
          ],
          [
           "81--Base Metals Nesoi; Cermets"
          ],
          [
           "81--Base Metals Nesoi; Cermets"
          ]
         ],
         "hovertemplate": "Product=%{customdata[0]}<br>value=%{x}<extra></extra>",
         "legendgroup": "81--Base Metals Nesoi; Cermets",
         "marker": {
          "color": "#ab63fa",
          "pattern": {
           "shape": ""
          }
         },
         "name": "81--Base Metals Nesoi; Cermets",
         "offsetgroup": "81--Base Metals Nesoi; Cermets",
         "orientation": "h",
         "showlegend": true,
         "textposition": "auto",
         "type": "bar",
         "x": [
          21,
          36,
          23,
          17,
          14,
          13,
          26,
          33,
          25,
          78
         ],
         "xaxis": "x",
         "y": [
          "2013",
          "2014",
          "2015",
          "2016",
          "2017",
          "2018",
          "2019",
          "2020",
          "2021",
          "2022"
         ],
         "yaxis": "y"
        },
        {
         "alignmentgroup": "True",
         "customdata": [
          [
           "32--Tanning & Dye Ext"
          ],
          [
           "32--Tanning & Dye Ext"
          ],
          [
           "32--Tanning & Dye Ext"
          ],
          [
           "32--Tanning & Dye Ext"
          ],
          [
           "32--Tanning & Dye Ext"
          ],
          [
           "32--Tanning & Dye Ext"
          ],
          [
           "32--Tanning & Dye Ext"
          ],
          [
           "32--Tanning & Dye Ext"
          ],
          [
           "32--Tanning & Dye Ext"
          ],
          [
           "32--Tanning & Dye Ext"
          ]
         ],
         "hovertemplate": "Product=%{customdata[0]}<br>value=%{x}<extra></extra>",
         "legendgroup": "32--Tanning & Dye Ext",
         "marker": {
          "color": "#FFA15A",
          "pattern": {
           "shape": ""
          }
         },
         "name": "32--Tanning & Dye Ext",
         "offsetgroup": "32--Tanning & Dye Ext",
         "orientation": "h",
         "showlegend": true,
         "textposition": "auto",
         "type": "bar",
         "x": [
          36,
          38,
          42,
          32,
          32,
          41,
          51,
          49,
          56,
          73
         ],
         "xaxis": "x",
         "y": [
          "2013",
          "2014",
          "2015",
          "2016",
          "2017",
          "2018",
          "2019",
          "2020",
          "2021",
          "2022"
         ],
         "yaxis": "y"
        },
        {
         "alignmentgroup": "True",
         "customdata": [
          [
           "56--Wadding, Felt"
          ],
          [
           "56--Wadding, Felt"
          ],
          [
           "56--Wadding, Felt"
          ],
          [
           "56--Wadding, Felt"
          ],
          [
           "56--Wadding, Felt"
          ],
          [
           "56--Wadding, Felt"
          ],
          [
           "56--Wadding, Felt"
          ],
          [
           "56--Wadding, Felt"
          ],
          [
           "56--Wadding, Felt"
          ],
          [
           "56--Wadding, Felt"
          ]
         ],
         "hovertemplate": "Product=%{customdata[0]}<br>value=%{x}<extra></extra>",
         "legendgroup": "56--Wadding, Felt",
         "marker": {
          "color": "#19d3f3",
          "pattern": {
           "shape": ""
          }
         },
         "name": "56--Wadding, Felt",
         "offsetgroup": "56--Wadding, Felt",
         "orientation": "h",
         "showlegend": true,
         "textposition": "auto",
         "type": "bar",
         "x": [
          43,
          48,
          52,
          58,
          55,
          56,
          53,
          69,
          75,
          72
         ],
         "xaxis": "x",
         "y": [
          "2013",
          "2014",
          "2015",
          "2016",
          "2017",
          "2018",
          "2019",
          "2020",
          "2021",
          "2022"
         ],
         "yaxis": "y"
        },
        {
         "alignmentgroup": "True",
         "customdata": [
          [
           "20--Prep Vegetables, Fruit, Nuts"
          ],
          [
           "20--Prep Vegetables, Fruit, Nuts"
          ],
          [
           "20--Prep Vegetables, Fruit, Nuts"
          ],
          [
           "20--Prep Vegetables, Fruit, Nuts"
          ],
          [
           "20--Prep Vegetables, Fruit, Nuts"
          ],
          [
           "20--Prep Vegetables, Fruit, Nuts"
          ],
          [
           "20--Prep Vegetables, Fruit, Nuts"
          ],
          [
           "20--Prep Vegetables, Fruit, Nuts"
          ],
          [
           "20--Prep Vegetables, Fruit, Nuts"
          ],
          [
           "20--Prep Vegetables, Fruit, Nuts"
          ]
         ],
         "hovertemplate": "Product=%{customdata[0]}<br>value=%{x}<extra></extra>",
         "legendgroup": "20--Prep Vegetables, Fruit, Nuts",
         "marker": {
          "color": "#FF6692",
          "pattern": {
           "shape": ""
          }
         },
         "name": "20--Prep Vegetables, Fruit, Nuts",
         "offsetgroup": "20--Prep Vegetables, Fruit, Nuts",
         "orientation": "h",
         "showlegend": true,
         "textposition": "auto",
         "type": "bar",
         "x": [
          33,
          35,
          33,
          35,
          38,
          40,
          42,
          43,
          57,
          59
         ],
         "xaxis": "x",
         "y": [
          "2013",
          "2014",
          "2015",
          "2016",
          "2017",
          "2018",
          "2019",
          "2020",
          "2021",
          "2022"
         ],
         "yaxis": "y"
        },
        {
         "alignmentgroup": "True",
         "customdata": [
          [
           "17--Sugars And Sugar Confectionary"
          ],
          [
           "17--Sugars And Sugar Confectionary"
          ],
          [
           "17--Sugars And Sugar Confectionary"
          ],
          [
           "17--Sugars And Sugar Confectionary"
          ],
          [
           "17--Sugars And Sugar Confectionary"
          ],
          [
           "17--Sugars And Sugar Confectionary"
          ],
          [
           "17--Sugars And Sugar Confectionary"
          ],
          [
           "17--Sugars And Sugar Confectionary"
          ],
          [
           "17--Sugars And Sugar Confectionary"
          ],
          [
           "17--Sugars And Sugar Confectionary"
          ]
         ],
         "hovertemplate": "Product=%{customdata[0]}<br>value=%{x}<extra></extra>",
         "legendgroup": "17--Sugars And Sugar Confectionary",
         "marker": {
          "color": "#B6E880",
          "pattern": {
           "shape": ""
          }
         },
         "name": "17--Sugars And Sugar Confectionary",
         "offsetgroup": "17--Sugars And Sugar Confectionary",
         "orientation": "h",
         "showlegend": true,
         "textposition": "auto",
         "type": "bar",
         "x": [
          18,
          22,
          16,
          18,
          16,
          23,
          28,
          32,
          43,
          57
         ],
         "xaxis": "x",
         "y": [
          "2013",
          "2014",
          "2015",
          "2016",
          "2017",
          "2018",
          "2019",
          "2020",
          "2021",
          "2022"
         ],
         "yaxis": "y"
        },
        {
         "alignmentgroup": "True",
         "customdata": [
          [
           "60--Knitted Or Crocheted Fabrics"
          ],
          [
           "60--Knitted Or Crocheted Fabrics"
          ],
          [
           "60--Knitted Or Crocheted Fabrics"
          ],
          [
           "60--Knitted Or Crocheted Fabrics"
          ],
          [
           "60--Knitted Or Crocheted Fabrics"
          ],
          [
           "60--Knitted Or Crocheted Fabrics"
          ],
          [
           "60--Knitted Or Crocheted Fabrics"
          ],
          [
           "60--Knitted Or Crocheted Fabrics"
          ],
          [
           "60--Knitted Or Crocheted Fabrics"
          ],
          [
           "60--Knitted Or Crocheted Fabrics"
          ]
         ],
         "hovertemplate": "Product=%{customdata[0]}<br>value=%{x}<extra></extra>",
         "legendgroup": "60--Knitted Or Crocheted Fabrics",
         "marker": {
          "color": "#FF97FF",
          "pattern": {
           "shape": ""
          }
         },
         "name": "60--Knitted Or Crocheted Fabrics",
         "offsetgroup": "60--Knitted Or Crocheted Fabrics",
         "orientation": "h",
         "showlegend": true,
         "textposition": "auto",
         "type": "bar",
         "x": [
          61,
          68,
          70,
          55,
          50,
          47,
          48,
          42,
          51,
          53
         ],
         "xaxis": "x",
         "y": [
          "2013",
          "2014",
          "2015",
          "2016",
          "2017",
          "2018",
          "2019",
          "2020",
          "2021",
          "2022"
         ],
         "yaxis": "y"
        },
        {
         "alignmentgroup": "True",
         "customdata": [
          [
           "64--Footwear, Gaiters"
          ],
          [
           "64--Footwear, Gaiters"
          ],
          [
           "64--Footwear, Gaiters"
          ],
          [
           "64--Footwear, Gaiters"
          ],
          [
           "64--Footwear, Gaiters"
          ],
          [
           "64--Footwear, Gaiters"
          ],
          [
           "64--Footwear, Gaiters"
          ],
          [
           "64--Footwear, Gaiters"
          ],
          [
           "64--Footwear, Gaiters"
          ],
          [
           "64--Footwear, Gaiters"
          ]
         ],
         "hovertemplate": "Product=%{customdata[0]}<br>value=%{x}<extra></extra>",
         "legendgroup": "64--Footwear, Gaiters",
         "marker": {
          "color": "#FECB52",
          "pattern": {
           "shape": ""
          }
         },
         "name": "64--Footwear, Gaiters",
         "offsetgroup": "64--Footwear, Gaiters",
         "orientation": "h",
         "showlegend": true,
         "textposition": "auto",
         "type": "bar",
         "x": [
          50,
          51,
          87,
          85,
          54,
          47,
          37,
          32,
          42,
          51
         ],
         "xaxis": "x",
         "y": [
          "2013",
          "2014",
          "2015",
          "2016",
          "2017",
          "2018",
          "2019",
          "2020",
          "2021",
          "2022"
         ],
         "yaxis": "y"
        },
        {
         "alignmentgroup": "True",
         "customdata": [
          [
           "22--Beverages, Spirits And Vinegar"
          ],
          [
           "22--Beverages, Spirits And Vinegar"
          ],
          [
           "22--Beverages, Spirits And Vinegar"
          ],
          [
           "22--Beverages, Spirits And Vinegar"
          ],
          [
           "22--Beverages, Spirits And Vinegar"
          ],
          [
           "22--Beverages, Spirits And Vinegar"
          ],
          [
           "22--Beverages, Spirits And Vinegar"
          ],
          [
           "22--Beverages, Spirits And Vinegar"
          ],
          [
           "22--Beverages, Spirits And Vinegar"
          ],
          [
           "22--Beverages, Spirits And Vinegar"
          ]
         ],
         "hovertemplate": "Product=%{customdata[0]}<br>value=%{x}<extra></extra>",
         "legendgroup": "22--Beverages, Spirits And Vinegar",
         "marker": {
          "color": "#636efa",
          "pattern": {
           "shape": ""
          }
         },
         "name": "22--Beverages, Spirits And Vinegar",
         "offsetgroup": "22--Beverages, Spirits And Vinegar",
         "orientation": "h",
         "showlegend": true,
         "textposition": "auto",
         "type": "bar",
         "x": [
          30,
          29,
          35,
          41,
          40,
          40,
          39,
          46,
          53,
          51
         ],
         "xaxis": "x",
         "y": [
          "2013",
          "2014",
          "2015",
          "2016",
          "2017",
          "2018",
          "2019",
          "2020",
          "2021",
          "2022"
         ],
         "yaxis": "y"
        },
        {
         "alignmentgroup": "True",
         "customdata": [
          [
           "44--Wood & Articles Of Wood"
          ],
          [
           "44--Wood & Articles Of Wood"
          ],
          [
           "44--Wood & Articles Of Wood"
          ],
          [
           "44--Wood & Articles Of Wood"
          ],
          [
           "44--Wood & Articles Of Wood"
          ],
          [
           "44--Wood & Articles Of Wood"
          ],
          [
           "44--Wood & Articles Of Wood"
          ],
          [
           "44--Wood & Articles Of Wood"
          ],
          [
           "44--Wood & Articles Of Wood"
          ],
          [
           "44--Wood & Articles Of Wood"
          ]
         ],
         "hovertemplate": "Product=%{customdata[0]}<br>value=%{x}<extra></extra>",
         "legendgroup": "44--Wood & Articles Of Wood",
         "marker": {
          "color": "#EF553B",
          "pattern": {
           "shape": ""
          }
         },
         "name": "44--Wood & Articles Of Wood",
         "offsetgroup": "44--Wood & Articles Of Wood",
         "orientation": "h",
         "showlegend": true,
         "textposition": "auto",
         "type": "bar",
         "x": [
          38,
          35,
          39,
          41,
          38,
          33,
          33,
          34,
          46,
          48
         ],
         "xaxis": "x",
         "y": [
          "2013",
          "2014",
          "2015",
          "2016",
          "2017",
          "2018",
          "2019",
          "2020",
          "2021",
          "2022"
         ],
         "yaxis": "y"
        },
        {
         "alignmentgroup": "True",
         "customdata": [
          [
           "79--Zinc And Articles Thereof"
          ],
          [
           "79--Zinc And Articles Thereof"
          ],
          [
           "79--Zinc And Articles Thereof"
          ],
          [
           "79--Zinc And Articles Thereof"
          ],
          [
           "79--Zinc And Articles Thereof"
          ],
          [
           "79--Zinc And Articles Thereof"
          ],
          [
           "79--Zinc And Articles Thereof"
          ],
          [
           "79--Zinc And Articles Thereof"
          ],
          [
           "79--Zinc And Articles Thereof"
          ],
          [
           "79--Zinc And Articles Thereof"
          ]
         ],
         "hovertemplate": "Product=%{customdata[0]}<br>value=%{x}<extra></extra>",
         "legendgroup": "79--Zinc And Articles Thereof",
         "marker": {
          "color": "#00cc96",
          "pattern": {
           "shape": ""
          }
         },
         "name": "79--Zinc And Articles Thereof",
         "offsetgroup": "79--Zinc And Articles Thereof",
         "orientation": "h",
         "showlegend": true,
         "textposition": "auto",
         "type": "bar",
         "x": [
          20,
          21,
          22,
          23,
          29,
          36,
          36,
          38,
          44,
          47
         ],
         "xaxis": "x",
         "y": [
          "2013",
          "2014",
          "2015",
          "2016",
          "2017",
          "2018",
          "2019",
          "2020",
          "2021",
          "2022"
         ],
         "yaxis": "y"
        },
        {
         "alignmentgroup": "True",
         "customdata": [
          [
           "62--Apparel Articles & Accessories"
          ],
          [
           "62--Apparel Articles & Accessories"
          ],
          [
           "62--Apparel Articles & Accessories"
          ],
          [
           "62--Apparel Articles & Accessories"
          ],
          [
           "62--Apparel Articles & Accessories"
          ],
          [
           "62--Apparel Articles & Accessories"
          ],
          [
           "62--Apparel Articles & Accessories"
          ],
          [
           "62--Apparel Articles & Accessories"
          ],
          [
           "62--Apparel Articles & Accessories"
          ],
          [
           "62--Apparel Articles & Accessories"
          ]
         ],
         "hovertemplate": "Product=%{customdata[0]}<br>value=%{x}<extra></extra>",
         "legendgroup": "62--Apparel Articles & Accessories",
         "marker": {
          "color": "#ab63fa",
          "pattern": {
           "shape": ""
          }
         },
         "name": "62--Apparel Articles & Accessories",
         "offsetgroup": "62--Apparel Articles & Accessories",
         "orientation": "h",
         "showlegend": true,
         "textposition": "auto",
         "type": "bar",
         "x": [
          78,
          62,
          56,
          50,
          43,
          37,
          35,
          51,
          43,
          46
         ],
         "xaxis": "x",
         "y": [
          "2013",
          "2014",
          "2015",
          "2016",
          "2017",
          "2018",
          "2019",
          "2020",
          "2021",
          "2022"
         ],
         "yaxis": "y"
        },
        {
         "alignmentgroup": "True",
         "customdata": [
          [
           "49--Printed Books, Newspapers"
          ],
          [
           "49--Printed Books, Newspapers"
          ],
          [
           "49--Printed Books, Newspapers"
          ],
          [
           "49--Printed Books, Newspapers"
          ],
          [
           "49--Printed Books, Newspapers"
          ],
          [
           "49--Printed Books, Newspapers"
          ],
          [
           "49--Printed Books, Newspapers"
          ],
          [
           "49--Printed Books, Newspapers"
          ],
          [
           "49--Printed Books, Newspapers"
          ],
          [
           "49--Printed Books, Newspapers"
          ]
         ],
         "hovertemplate": "Product=%{customdata[0]}<br>value=%{x}<extra></extra>",
         "legendgroup": "49--Printed Books, Newspapers",
         "marker": {
          "color": "#FFA15A",
          "pattern": {
           "shape": ""
          }
         },
         "name": "49--Printed Books, Newspapers",
         "offsetgroup": "49--Printed Books, Newspapers",
         "orientation": "h",
         "showlegend": true,
         "textposition": "auto",
         "type": "bar",
         "x": [
          26,
          31,
          32,
          31,
          36,
          34,
          33,
          30,
          31,
          38
         ],
         "xaxis": "x",
         "y": [
          "2013",
          "2014",
          "2015",
          "2016",
          "2017",
          "2018",
          "2019",
          "2020",
          "2021",
          "2022"
         ],
         "yaxis": "y"
        },
        {
         "alignmentgroup": "True",
         "customdata": [
          [
           "55--Manmade Staple Fibers, Including Yarns"
          ],
          [
           "55--Manmade Staple Fibers, Including Yarns"
          ],
          [
           "55--Manmade Staple Fibers, Including Yarns"
          ],
          [
           "55--Manmade Staple Fibers, Including Yarns"
          ],
          [
           "55--Manmade Staple Fibers, Including Yarns"
          ],
          [
           "55--Manmade Staple Fibers, Including Yarns"
          ],
          [
           "55--Manmade Staple Fibers, Including Yarns"
          ],
          [
           "55--Manmade Staple Fibers, Including Yarns"
          ],
          [
           "55--Manmade Staple Fibers, Including Yarns"
          ],
          [
           "55--Manmade Staple Fibers, Including Yarns"
          ]
         ],
         "hovertemplate": "Product=%{customdata[0]}<br>value=%{x}<extra></extra>",
         "legendgroup": "55--Manmade Staple Fibers, Including Yarns",
         "marker": {
          "color": "#19d3f3",
          "pattern": {
           "shape": ""
          }
         },
         "name": "55--Manmade Staple Fibers, Including Yarns",
         "offsetgroup": "55--Manmade Staple Fibers, Including Yarns",
         "orientation": "h",
         "showlegend": true,
         "textposition": "auto",
         "type": "bar",
         "x": [
          80,
          102,
          84,
          76,
          66,
          38,
          35,
          37,
          36,
          33
         ],
         "xaxis": "x",
         "y": [
          "2013",
          "2014",
          "2015",
          "2016",
          "2017",
          "2018",
          "2019",
          "2020",
          "2021",
          "2022"
         ],
         "yaxis": "y"
        },
        {
         "alignmentgroup": "True",
         "customdata": [
          [
           "75--Nickel And Articles Thereof"
          ],
          [
           "75--Nickel And Articles Thereof"
          ],
          [
           "75--Nickel And Articles Thereof"
          ],
          [
           "75--Nickel And Articles Thereof"
          ],
          [
           "75--Nickel And Articles Thereof"
          ],
          [
           "75--Nickel And Articles Thereof"
          ],
          [
           "75--Nickel And Articles Thereof"
          ],
          [
           "75--Nickel And Articles Thereof"
          ],
          [
           "75--Nickel And Articles Thereof"
          ],
          [
           "75--Nickel And Articles Thereof"
          ]
         ],
         "hovertemplate": "Product=%{customdata[0]}<br>value=%{x}<extra></extra>",
         "legendgroup": "75--Nickel And Articles Thereof",
         "marker": {
          "color": "#FF6692",
          "pattern": {
           "shape": ""
          }
         },
         "name": "75--Nickel And Articles Thereof",
         "offsetgroup": "75--Nickel And Articles Thereof",
         "orientation": "h",
         "showlegend": true,
         "textposition": "auto",
         "type": "bar",
         "x": [
          49,
          54,
          62,
          25,
          20,
          29,
          34,
          27,
          20,
          33
         ],
         "xaxis": "x",
         "y": [
          "2013",
          "2014",
          "2015",
          "2016",
          "2017",
          "2018",
          "2019",
          "2020",
          "2021",
          "2022"
         ],
         "yaxis": "y"
        },
        {
         "alignmentgroup": "True",
         "customdata": [
          [
           "25--Salt; Sulfur; Earth & Stone"
          ],
          [
           "25--Salt; Sulfur; Earth & Stone"
          ],
          [
           "25--Salt; Sulfur; Earth & Stone"
          ],
          [
           "25--Salt; Sulfur; Earth & Stone"
          ],
          [
           "25--Salt; Sulfur; Earth & Stone"
          ],
          [
           "25--Salt; Sulfur; Earth & Stone"
          ],
          [
           "25--Salt; Sulfur; Earth & Stone"
          ],
          [
           "25--Salt; Sulfur; Earth & Stone"
          ],
          [
           "25--Salt; Sulfur; Earth & Stone"
          ],
          [
           "25--Salt; Sulfur; Earth & Stone"
          ]
         ],
         "hovertemplate": "Product=%{customdata[0]}<br>value=%{x}<extra></extra>",
         "legendgroup": "25--Salt; Sulfur; Earth & Stone",
         "marker": {
          "color": "#B6E880",
          "pattern": {
           "shape": ""
          }
         },
         "name": "25--Salt; Sulfur; Earth & Stone",
         "offsetgroup": "25--Salt; Sulfur; Earth & Stone",
         "orientation": "h",
         "showlegend": true,
         "textposition": "auto",
         "type": "bar",
         "x": [
          15,
          19,
          25,
          22,
          18,
          17,
          21,
          35,
          42,
          31
         ],
         "xaxis": "x",
         "y": [
          "2013",
          "2014",
          "2015",
          "2016",
          "2017",
          "2018",
          "2019",
          "2020",
          "2021",
          "2022"
         ],
         "yaxis": "y"
        },
        {
         "alignmentgroup": "True",
         "customdata": [
          [
           "34--Soap; Waxes, Polish"
          ],
          [
           "34--Soap; Waxes, Polish"
          ],
          [
           "34--Soap; Waxes, Polish"
          ],
          [
           "34--Soap; Waxes, Polish"
          ],
          [
           "34--Soap; Waxes, Polish"
          ],
          [
           "34--Soap; Waxes, Polish"
          ],
          [
           "34--Soap; Waxes, Polish"
          ],
          [
           "34--Soap; Waxes, Polish"
          ],
          [
           "34--Soap; Waxes, Polish"
          ],
          [
           "34--Soap; Waxes, Polish"
          ]
         ],
         "hovertemplate": "Product=%{customdata[0]}<br>value=%{x}<extra></extra>",
         "legendgroup": "34--Soap; Waxes, Polish",
         "marker": {
          "color": "#FF97FF",
          "pattern": {
           "shape": ""
          }
         },
         "name": "34--Soap; Waxes, Polish",
         "offsetgroup": "34--Soap; Waxes, Polish",
         "orientation": "h",
         "showlegend": true,
         "textposition": "auto",
         "type": "bar",
         "x": [
          13,
          24,
          20,
          20,
          26,
          30,
          24,
          27,
          28,
          29
         ],
         "xaxis": "x",
         "y": [
          "2013",
          "2014",
          "2015",
          "2016",
          "2017",
          "2018",
          "2019",
          "2020",
          "2021",
          "2022"
         ],
         "yaxis": "y"
        },
        {
         "alignmentgroup": "True",
         "customdata": [
          [
           "09--Coffee, Tea, Mate & Spices"
          ],
          [
           "09--Coffee, Tea, Mate & Spices"
          ],
          [
           "09--Coffee, Tea, Mate & Spices"
          ],
          [
           "09--Coffee, Tea, Mate & Spices"
          ],
          [
           "09--Coffee, Tea, Mate & Spices"
          ],
          [
           "09--Coffee, Tea, Mate & Spices"
          ],
          [
           "09--Coffee, Tea, Mate & Spices"
          ],
          [
           "09--Coffee, Tea, Mate & Spices"
          ],
          [
           "09--Coffee, Tea, Mate & Spices"
          ],
          [
           "09--Coffee, Tea, Mate & Spices"
          ]
         ],
         "hovertemplate": "Product=%{customdata[0]}<br>value=%{x}<extra></extra>",
         "legendgroup": "09--Coffee, Tea, Mate & Spices",
         "marker": {
          "color": "#FECB52",
          "pattern": {
           "shape": ""
          }
         },
         "name": "09--Coffee, Tea, Mate & Spices",
         "offsetgroup": "09--Coffee, Tea, Mate & Spices",
         "orientation": "h",
         "showlegend": true,
         "textposition": "auto",
         "type": "bar",
         "x": [
          9,
          9,
          11,
          12,
          16,
          16,
          19,
          18,
          27,
          28
         ],
         "xaxis": "x",
         "y": [
          "2013",
          "2014",
          "2015",
          "2016",
          "2017",
          "2018",
          "2019",
          "2020",
          "2021",
          "2022"
         ],
         "yaxis": "y"
        },
        {
         "alignmentgroup": "True",
         "customdata": [
          [
           "16--Edible Preparations Of Meat, Fish"
          ],
          [
           "16--Edible Preparations Of Meat, Fish"
          ],
          [
           "16--Edible Preparations Of Meat, Fish"
          ],
          [
           "16--Edible Preparations Of Meat, Fish"
          ],
          [
           "16--Edible Preparations Of Meat, Fish"
          ],
          [
           "16--Edible Preparations Of Meat, Fish"
          ],
          [
           "16--Edible Preparations Of Meat, Fish"
          ],
          [
           "16--Edible Preparations Of Meat, Fish"
          ],
          [
           "16--Edible Preparations Of Meat, Fish"
          ],
          [
           "16--Edible Preparations Of Meat, Fish"
          ]
         ],
         "hovertemplate": "Product=%{customdata[0]}<br>value=%{x}<extra></extra>",
         "legendgroup": "16--Edible Preparations Of Meat, Fish",
         "marker": {
          "color": "#636efa",
          "pattern": {
           "shape": ""
          }
         },
         "name": "16--Edible Preparations Of Meat, Fish",
         "offsetgroup": "16--Edible Preparations Of Meat, Fish",
         "orientation": "h",
         "showlegend": true,
         "textposition": "auto",
         "type": "bar",
         "x": [
          19,
          17,
          19,
          17,
          19,
          20,
          23,
          19,
          31,
          27
         ],
         "xaxis": "x",
         "y": [
          "2013",
          "2014",
          "2015",
          "2016",
          "2017",
          "2018",
          "2019",
          "2020",
          "2021",
          "2022"
         ],
         "yaxis": "y"
        },
        {
         "alignmentgroup": "True",
         "customdata": [
          [
           "15--Animal Or Vegetable Fats, Oils"
          ],
          [
           "15--Animal Or Vegetable Fats, Oils"
          ],
          [
           "15--Animal Or Vegetable Fats, Oils"
          ],
          [
           "15--Animal Or Vegetable Fats, Oils"
          ],
          [
           "15--Animal Or Vegetable Fats, Oils"
          ],
          [
           "15--Animal Or Vegetable Fats, Oils"
          ],
          [
           "15--Animal Or Vegetable Fats, Oils"
          ],
          [
           "15--Animal Or Vegetable Fats, Oils"
          ],
          [
           "15--Animal Or Vegetable Fats, Oils"
          ],
          [
           "15--Animal Or Vegetable Fats, Oils"
          ]
         ],
         "hovertemplate": "Product=%{customdata[0]}<br>value=%{x}<extra></extra>",
         "legendgroup": "15--Animal Or Vegetable Fats, Oils",
         "marker": {
          "color": "#EF553B",
          "pattern": {
           "shape": ""
          }
         },
         "name": "15--Animal Or Vegetable Fats, Oils",
         "offsetgroup": "15--Animal Or Vegetable Fats, Oils",
         "orientation": "h",
         "showlegend": true,
         "textposition": "auto",
         "type": "bar",
         "x": [
          15,
          17,
          16,
          15,
          15,
          17,
          16,
          16,
          16,
          25
         ],
         "xaxis": "x",
         "y": [
          "2013",
          "2014",
          "2015",
          "2016",
          "2017",
          "2018",
          "2019",
          "2020",
          "2021",
          "2022"
         ],
         "yaxis": "y"
        },
        {
         "alignmentgroup": "True",
         "customdata": [
          [
           "35--Albuminoidal Subst; Modified Starch"
          ],
          [
           "35--Albuminoidal Subst; Modified Starch"
          ],
          [
           "35--Albuminoidal Subst; Modified Starch"
          ],
          [
           "35--Albuminoidal Subst; Modified Starch"
          ],
          [
           "35--Albuminoidal Subst; Modified Starch"
          ],
          [
           "35--Albuminoidal Subst; Modified Starch"
          ],
          [
           "35--Albuminoidal Subst; Modified Starch"
          ],
          [
           "35--Albuminoidal Subst; Modified Starch"
          ],
          [
           "35--Albuminoidal Subst; Modified Starch"
          ],
          [
           "35--Albuminoidal Subst; Modified Starch"
          ]
         ],
         "hovertemplate": "Product=%{customdata[0]}<br>value=%{x}<extra></extra>",
         "legendgroup": "35--Albuminoidal Subst; Modified Starch",
         "marker": {
          "color": "#00cc96",
          "pattern": {
           "shape": ""
          }
         },
         "name": "35--Albuminoidal Subst; Modified Starch",
         "offsetgroup": "35--Albuminoidal Subst; Modified Starch",
         "orientation": "h",
         "showlegend": true,
         "textposition": "auto",
         "type": "bar",
         "x": [
          18,
          20,
          14,
          16,
          15,
          17,
          19,
          17,
          19,
          23
         ],
         "xaxis": "x",
         "y": [
          "2013",
          "2014",
          "2015",
          "2016",
          "2017",
          "2018",
          "2019",
          "2020",
          "2021",
          "2022"
         ],
         "yaxis": "y"
        },
        {
         "alignmentgroup": "True",
         "customdata": [
          [
           "66--Umbrellas, Walking-Sticks"
          ],
          [
           "66--Umbrellas, Walking-Sticks"
          ],
          [
           "66--Umbrellas, Walking-Sticks"
          ],
          [
           "66--Umbrellas, Walking-Sticks"
          ],
          [
           "66--Umbrellas, Walking-Sticks"
          ],
          [
           "66--Umbrellas, Walking-Sticks"
          ],
          [
           "66--Umbrellas, Walking-Sticks"
          ],
          [
           "66--Umbrellas, Walking-Sticks"
          ],
          [
           "66--Umbrellas, Walking-Sticks"
          ],
          [
           "66--Umbrellas, Walking-Sticks"
          ]
         ],
         "hovertemplate": "Product=%{customdata[0]}<br>value=%{x}<extra></extra>",
         "legendgroup": "66--Umbrellas, Walking-Sticks",
         "marker": {
          "color": "#ab63fa",
          "pattern": {
           "shape": ""
          }
         },
         "name": "66--Umbrellas, Walking-Sticks",
         "offsetgroup": "66--Umbrellas, Walking-Sticks",
         "orientation": "h",
         "showlegend": true,
         "textposition": "auto",
         "type": "bar",
         "x": [
          9,
          10,
          8,
          9,
          10,
          9,
          10,
          8,
          10,
          15
         ],
         "xaxis": "x",
         "y": [
          "2013",
          "2014",
          "2015",
          "2016",
          "2017",
          "2018",
          "2019",
          "2020",
          "2021",
          "2022"
         ],
         "yaxis": "y"
        },
        {
         "alignmentgroup": "True",
         "customdata": [
          [
           "05--Products Of Animal Origin"
          ],
          [
           "05--Products Of Animal Origin"
          ],
          [
           "05--Products Of Animal Origin"
          ],
          [
           "05--Products Of Animal Origin"
          ],
          [
           "05--Products Of Animal Origin"
          ],
          [
           "05--Products Of Animal Origin"
          ],
          [
           "05--Products Of Animal Origin"
          ],
          [
           "05--Products Of Animal Origin"
          ],
          [
           "05--Products Of Animal Origin"
          ],
          [
           "05--Products Of Animal Origin"
          ]
         ],
         "hovertemplate": "Product=%{customdata[0]}<br>value=%{x}<extra></extra>",
         "legendgroup": "05--Products Of Animal Origin",
         "marker": {
          "color": "#FFA15A",
          "pattern": {
           "shape": ""
          }
         },
         "name": "05--Products Of Animal Origin",
         "offsetgroup": "05--Products Of Animal Origin",
         "orientation": "h",
         "showlegend": true,
         "textposition": "auto",
         "type": "bar",
         "x": [
          15,
          16,
          19,
          15,
          22,
          18,
          16,
          21,
          21,
          14
         ],
         "xaxis": "x",
         "y": [
          "2013",
          "2014",
          "2015",
          "2016",
          "2017",
          "2018",
          "2019",
          "2020",
          "2021",
          "2022"
         ],
         "yaxis": "y"
        },
        {
         "alignmentgroup": "True",
         "customdata": [
          [
           "37--Photographic Goods"
          ],
          [
           "37--Photographic Goods"
          ],
          [
           "37--Photographic Goods"
          ],
          [
           "37--Photographic Goods"
          ],
          [
           "37--Photographic Goods"
          ],
          [
           "37--Photographic Goods"
          ],
          [
           "37--Photographic Goods"
          ],
          [
           "37--Photographic Goods"
          ],
          [
           "37--Photographic Goods"
          ],
          [
           "37--Photographic Goods"
          ]
         ],
         "hovertemplate": "Product=%{customdata[0]}<br>value=%{x}<extra></extra>",
         "legendgroup": "37--Photographic Goods",
         "marker": {
          "color": "#19d3f3",
          "pattern": {
           "shape": ""
          }
         },
         "name": "37--Photographic Goods",
         "offsetgroup": "37--Photographic Goods",
         "orientation": "h",
         "showlegend": true,
         "textposition": "auto",
         "type": "bar",
         "x": [
          15,
          16,
          14,
          19,
          12,
          9,
          11,
          9,
          14,
          14
         ],
         "xaxis": "x",
         "y": [
          "2013",
          "2014",
          "2015",
          "2016",
          "2017",
          "2018",
          "2019",
          "2020",
          "2021",
          "2022"
         ],
         "yaxis": "y"
        },
        {
         "alignmentgroup": "True",
         "customdata": [
          [
           "04--Dairy Prods; Birds Eggs; Honey"
          ],
          [
           "04--Dairy Prods; Birds Eggs; Honey"
          ],
          [
           "04--Dairy Prods; Birds Eggs; Honey"
          ],
          [
           "04--Dairy Prods; Birds Eggs; Honey"
          ],
          [
           "04--Dairy Prods; Birds Eggs; Honey"
          ],
          [
           "04--Dairy Prods; Birds Eggs; Honey"
          ],
          [
           "04--Dairy Prods; Birds Eggs; Honey"
          ],
          [
           "04--Dairy Prods; Birds Eggs; Honey"
          ],
          [
           "04--Dairy Prods; Birds Eggs; Honey"
          ],
          [
           "04--Dairy Prods; Birds Eggs; Honey"
          ]
         ],
         "hovertemplate": "Product=%{customdata[0]}<br>value=%{x}<extra></extra>",
         "legendgroup": "04--Dairy Prods; Birds Eggs; Honey",
         "marker": {
          "color": "#FF6692",
          "pattern": {
           "shape": ""
          }
         },
         "name": "04--Dairy Prods; Birds Eggs; Honey",
         "offsetgroup": "04--Dairy Prods; Birds Eggs; Honey",
         "orientation": "h",
         "showlegend": true,
         "textposition": "auto",
         "type": "bar",
         "x": [
          9,
          10,
          15,
          8,
          9,
          8,
          8,
          8,
          7,
          11
         ],
         "xaxis": "x",
         "y": [
          "2013",
          "2014",
          "2015",
          "2016",
          "2017",
          "2018",
          "2019",
          "2020",
          "2021",
          "2022"
         ],
         "yaxis": "y"
        },
        {
         "alignmentgroup": "True",
         "customdata": [
          [
           "12--Oil Seeds Etc.; Misc Grain"
          ],
          [
           "12--Oil Seeds Etc.; Misc Grain"
          ],
          [
           "12--Oil Seeds Etc.; Misc Grain"
          ],
          [
           "12--Oil Seeds Etc.; Misc Grain"
          ],
          [
           "12--Oil Seeds Etc.; Misc Grain"
          ],
          [
           "12--Oil Seeds Etc.; Misc Grain"
          ],
          [
           "12--Oil Seeds Etc.; Misc Grain"
          ],
          [
           "12--Oil Seeds Etc.; Misc Grain"
          ],
          [
           "12--Oil Seeds Etc.; Misc Grain"
          ],
          [
           "12--Oil Seeds Etc.; Misc Grain"
          ]
         ],
         "hovertemplate": "Product=%{customdata[0]}<br>value=%{x}<extra></extra>",
         "legendgroup": "12--Oil Seeds Etc.; Misc Grain",
         "marker": {
          "color": "#B6E880",
          "pattern": {
           "shape": ""
          }
         },
         "name": "12--Oil Seeds Etc.; Misc Grain",
         "offsetgroup": "12--Oil Seeds Etc.; Misc Grain",
         "orientation": "h",
         "showlegend": true,
         "textposition": "auto",
         "type": "bar",
         "x": [
          12,
          11,
          13,
          9,
          9,
          8,
          12,
          10,
          8,
          10
         ],
         "xaxis": "x",
         "y": [
          "2013",
          "2014",
          "2015",
          "2016",
          "2017",
          "2018",
          "2019",
          "2020",
          "2021",
          "2022"
         ],
         "yaxis": "y"
        },
        {
         "alignmentgroup": "True",
         "customdata": [
          [
           "91--Clocks And Watches And Parts Thereof"
          ],
          [
           "91--Clocks And Watches And Parts Thereof"
          ],
          [
           "91--Clocks And Watches And Parts Thereof"
          ],
          [
           "91--Clocks And Watches And Parts Thereof"
          ],
          [
           "91--Clocks And Watches And Parts Thereof"
          ],
          [
           "91--Clocks And Watches And Parts Thereof"
          ],
          [
           "91--Clocks And Watches And Parts Thereof"
          ],
          [
           "91--Clocks And Watches And Parts Thereof"
          ],
          [
           "91--Clocks And Watches And Parts Thereof"
          ],
          [
           "91--Clocks And Watches And Parts Thereof"
          ]
         ],
         "hovertemplate": "Product=%{customdata[0]}<br>value=%{x}<extra></extra>",
         "legendgroup": "91--Clocks And Watches And Parts Thereof",
         "marker": {
          "color": "#FF97FF",
          "pattern": {
           "shape": ""
          }
         },
         "name": "91--Clocks And Watches And Parts Thereof",
         "offsetgroup": "91--Clocks And Watches And Parts Thereof",
         "orientation": "h",
         "showlegend": true,
         "textposition": "auto",
         "type": "bar",
         "x": [
          22,
          27,
          52,
          32,
          16,
          16,
          12,
          11,
          11,
          9
         ],
         "xaxis": "x",
         "y": [
          "2013",
          "2014",
          "2015",
          "2016",
          "2017",
          "2018",
          "2019",
          "2020",
          "2021",
          "2022"
         ],
         "yaxis": "y"
        },
        {
         "alignmentgroup": "True",
         "customdata": [
          [
           "69--Ceramic Products"
          ],
          [
           "69--Ceramic Products"
          ],
          [
           "69--Ceramic Products"
          ],
          [
           "69--Ceramic Products"
          ],
          [
           "69--Ceramic Products"
          ],
          [
           "69--Ceramic Products"
          ],
          [
           "69--Ceramic Products"
          ],
          [
           "69--Ceramic Products"
          ],
          [
           "69--Ceramic Products"
          ],
          [
           "69--Ceramic Products"
          ]
         ],
         "hovertemplate": "Product=%{customdata[0]}<br>value=%{x}<extra></extra>",
         "legendgroup": "69--Ceramic Products",
         "marker": {
          "color": "#FECB52",
          "pattern": {
           "shape": ""
          }
         },
         "name": "69--Ceramic Products",
         "offsetgroup": "69--Ceramic Products",
         "orientation": "h",
         "showlegend": true,
         "textposition": "auto",
         "type": "bar",
         "x": [
          8,
          10,
          9,
          8,
          10,
          10,
          9,
          8,
          10,
          9
         ],
         "xaxis": "x",
         "y": [
          "2013",
          "2014",
          "2015",
          "2016",
          "2017",
          "2018",
          "2019",
          "2020",
          "2021",
          "2022"
         ],
         "yaxis": "y"
        },
        {
         "alignmentgroup": "True",
         "customdata": [
          [
           "11--Milling Products; Malt; Starch"
          ],
          [
           "11--Milling Products; Malt; Starch"
          ],
          [
           "11--Milling Products; Malt; Starch"
          ],
          [
           "11--Milling Products; Malt; Starch"
          ],
          [
           "11--Milling Products; Malt; Starch"
          ],
          [
           "11--Milling Products; Malt; Starch"
          ],
          [
           "11--Milling Products; Malt; Starch"
          ],
          [
           "11--Milling Products; Malt; Starch"
          ],
          [
           "11--Milling Products; Malt; Starch"
          ],
          [
           "11--Milling Products; Malt; Starch"
          ]
         ],
         "hovertemplate": "Product=%{customdata[0]}<br>value=%{x}<extra></extra>",
         "legendgroup": "11--Milling Products; Malt; Starch",
         "marker": {
          "color": "#636efa",
          "pattern": {
           "shape": ""
          }
         },
         "name": "11--Milling Products; Malt; Starch",
         "offsetgroup": "11--Milling Products; Malt; Starch",
         "orientation": "h",
         "showlegend": true,
         "textposition": "auto",
         "type": "bar",
         "x": [
          3,
          3,
          3,
          4,
          4,
          4,
          4,
          6,
          6,
          7
         ],
         "xaxis": "x",
         "y": [
          "2013",
          "2014",
          "2015",
          "2016",
          "2017",
          "2018",
          "2019",
          "2020",
          "2021",
          "2022"
         ],
         "yaxis": "y"
        },
        {
         "alignmentgroup": "True",
         "customdata": [
          [
           "23--Food Industry Residues & Waste"
          ],
          [
           "23--Food Industry Residues & Waste"
          ],
          [
           "23--Food Industry Residues & Waste"
          ],
          [
           "23--Food Industry Residues & Waste"
          ],
          [
           "23--Food Industry Residues & Waste"
          ],
          [
           "23--Food Industry Residues & Waste"
          ],
          [
           "23--Food Industry Residues & Waste"
          ],
          [
           "23--Food Industry Residues & Waste"
          ],
          [
           "23--Food Industry Residues & Waste"
          ],
          [
           "23--Food Industry Residues & Waste"
          ]
         ],
         "hovertemplate": "Product=%{customdata[0]}<br>value=%{x}<extra></extra>",
         "legendgroup": "23--Food Industry Residues & Waste",
         "marker": {
          "color": "#EF553B",
          "pattern": {
           "shape": ""
          }
         },
         "name": "23--Food Industry Residues & Waste",
         "offsetgroup": "23--Food Industry Residues & Waste",
         "orientation": "h",
         "showlegend": true,
         "textposition": "auto",
         "type": "bar",
         "x": [
          5,
          6,
          9,
          7,
          7,
          6,
          7,
          6,
          8,
          6
         ],
         "xaxis": "x",
         "y": [
          "2013",
          "2014",
          "2015",
          "2016",
          "2017",
          "2018",
          "2019",
          "2020",
          "2021",
          "2022"
         ],
         "yaxis": "y"
        },
        {
         "alignmentgroup": "True",
         "customdata": [
          [
           "46--Mfr Of Straw, Esparto"
          ],
          [
           "46--Mfr Of Straw, Esparto"
          ],
          [
           "46--Mfr Of Straw, Esparto"
          ],
          [
           "46--Mfr Of Straw, Esparto"
          ],
          [
           "46--Mfr Of Straw, Esparto"
          ],
          [
           "46--Mfr Of Straw, Esparto"
          ],
          [
           "46--Mfr Of Straw, Esparto"
          ],
          [
           "46--Mfr Of Straw, Esparto"
          ],
          [
           "46--Mfr Of Straw, Esparto"
          ],
          [
           "46--Mfr Of Straw, Esparto"
          ]
         ],
         "hovertemplate": "Product=%{customdata[0]}<br>value=%{x}<extra></extra>",
         "legendgroup": "46--Mfr Of Straw, Esparto",
         "marker": {
          "color": "#00cc96",
          "pattern": {
           "shape": ""
          }
         },
         "name": "46--Mfr Of Straw, Esparto",
         "offsetgroup": "46--Mfr Of Straw, Esparto",
         "orientation": "h",
         "showlegend": true,
         "textposition": "auto",
         "type": "bar",
         "x": [
          5,
          5,
          5,
          4,
          6,
          6,
          7,
          5,
          4,
          5
         ],
         "xaxis": "x",
         "y": [
          "2013",
          "2014",
          "2015",
          "2016",
          "2017",
          "2018",
          "2019",
          "2020",
          "2021",
          "2022"
         ],
         "yaxis": "y"
        },
        {
         "alignmentgroup": "True",
         "customdata": [
          [
           "45--Cork And Articles Of Cork"
          ],
          [
           "45--Cork And Articles Of Cork"
          ],
          [
           "45--Cork And Articles Of Cork"
          ],
          [
           "45--Cork And Articles Of Cork"
          ],
          [
           "45--Cork And Articles Of Cork"
          ],
          [
           "45--Cork And Articles Of Cork"
          ],
          [
           "45--Cork And Articles Of Cork"
          ],
          [
           "45--Cork And Articles Of Cork"
          ],
          [
           "45--Cork And Articles Of Cork"
          ],
          [
           "45--Cork And Articles Of Cork"
          ]
         ],
         "hovertemplate": "Product=%{customdata[0]}<br>value=%{x}<extra></extra>",
         "legendgroup": "45--Cork And Articles Of Cork",
         "marker": {
          "color": "#ab63fa",
          "pattern": {
           "shape": ""
          }
         },
         "name": "45--Cork And Articles Of Cork",
         "offsetgroup": "45--Cork And Articles Of Cork",
         "orientation": "h",
         "showlegend": true,
         "textposition": "auto",
         "type": "bar",
         "x": [
          1,
          1,
          1,
          1,
          1,
          1,
          2,
          1,
          2,
          3
         ],
         "xaxis": "x",
         "y": [
          "2013",
          "2014",
          "2015",
          "2016",
          "2017",
          "2018",
          "2019",
          "2020",
          "2021",
          "2022"
         ],
         "yaxis": "y"
        },
        {
         "alignmentgroup": "True",
         "customdata": [
          [
           "07--Edible Vegetables & Certain Roots"
          ],
          [
           "07--Edible Vegetables & Certain Roots"
          ],
          [
           "07--Edible Vegetables & Certain Roots"
          ],
          [
           "07--Edible Vegetables & Certain Roots"
          ],
          [
           "07--Edible Vegetables & Certain Roots"
          ],
          [
           "07--Edible Vegetables & Certain Roots"
          ],
          [
           "07--Edible Vegetables & Certain Roots"
          ],
          [
           "07--Edible Vegetables & Certain Roots"
          ],
          [
           "07--Edible Vegetables & Certain Roots"
          ],
          [
           "07--Edible Vegetables & Certain Roots"
          ]
         ],
         "hovertemplate": "Product=%{customdata[0]}<br>value=%{x}<extra></extra>",
         "legendgroup": "07--Edible Vegetables & Certain Roots",
         "marker": {
          "color": "#FFA15A",
          "pattern": {
           "shape": ""
          }
         },
         "name": "07--Edible Vegetables & Certain Roots",
         "offsetgroup": "07--Edible Vegetables & Certain Roots",
         "orientation": "h",
         "showlegend": true,
         "textposition": "auto",
         "type": "bar",
         "x": [
          2,
          2,
          3,
          3,
          3,
          2,
          3,
          2,
          2,
          3
         ],
         "xaxis": "x",
         "y": [
          "2013",
          "2014",
          "2015",
          "2016",
          "2017",
          "2018",
          "2019",
          "2020",
          "2021",
          "2022"
         ],
         "yaxis": "y"
        },
        {
         "alignmentgroup": "True",
         "customdata": [
          [
           "86--Railway Or Tramway Stock Etc"
          ],
          [
           "86--Railway Or Tramway Stock Etc"
          ],
          [
           "86--Railway Or Tramway Stock Etc"
          ],
          [
           "86--Railway Or Tramway Stock Etc"
          ],
          [
           "86--Railway Or Tramway Stock Etc"
          ],
          [
           "86--Railway Or Tramway Stock Etc"
          ],
          [
           "86--Railway Or Tramway Stock Etc"
          ],
          [
           "86--Railway Or Tramway Stock Etc"
          ],
          [
           "86--Railway Or Tramway Stock Etc"
          ],
          [
           "86--Railway Or Tramway Stock Etc"
          ]
         ],
         "hovertemplate": "Product=%{customdata[0]}<br>value=%{x}<extra></extra>",
         "legendgroup": "86--Railway Or Tramway Stock Etc",
         "marker": {
          "color": "#19d3f3",
          "pattern": {
           "shape": ""
          }
         },
         "name": "86--Railway Or Tramway Stock Etc",
         "offsetgroup": "86--Railway Or Tramway Stock Etc",
         "orientation": "h",
         "showlegend": true,
         "textposition": "auto",
         "type": "bar",
         "x": [
          2,
          2,
          1,
          5,
          5,
          2,
          2,
          2,
          2,
          3
         ],
         "xaxis": "x",
         "y": [
          "2013",
          "2014",
          "2015",
          "2016",
          "2017",
          "2018",
          "2019",
          "2020",
          "2021",
          "2022"
         ],
         "yaxis": "y"
        },
        {
         "alignmentgroup": "True",
         "customdata": [
          [
           "01--Live Animals"
          ],
          [
           "01--Live Animals"
          ],
          [
           "01--Live Animals"
          ],
          [
           "01--Live Animals"
          ],
          [
           "01--Live Animals"
          ],
          [
           "01--Live Animals"
          ],
          [
           "01--Live Animals"
          ],
          [
           "01--Live Animals"
          ],
          [
           "01--Live Animals"
          ],
          [
           "01--Live Animals"
          ]
         ],
         "hovertemplate": "Product=%{customdata[0]}<br>value=%{x}<extra></extra>",
         "legendgroup": "01--Live Animals",
         "marker": {
          "color": "#FF6692",
          "pattern": {
           "shape": ""
          }
         },
         "name": "01--Live Animals",
         "offsetgroup": "01--Live Animals",
         "orientation": "h",
         "showlegend": true,
         "textposition": "auto",
         "type": "bar",
         "x": [
          2,
          2,
          2,
          1,
          1,
          3,
          3,
          2,
          3,
          3
         ],
         "xaxis": "x",
         "y": [
          "2013",
          "2014",
          "2015",
          "2016",
          "2017",
          "2018",
          "2019",
          "2020",
          "2021",
          "2022"
         ],
         "yaxis": "y"
        },
        {
         "alignmentgroup": "True",
         "customdata": [
          [
           "97--Works Of Art, Collectors' Pieces & Antiques"
          ],
          [
           "97--Works Of Art, Collectors' Pieces & Antiques"
          ],
          [
           "97--Works Of Art, Collectors' Pieces & Antiques"
          ],
          [
           "97--Works Of Art, Collectors' Pieces & Antiques"
          ],
          [
           "97--Works Of Art, Collectors' Pieces & Antiques"
          ],
          [
           "97--Works Of Art, Collectors' Pieces & Antiques"
          ],
          [
           "97--Works Of Art, Collectors' Pieces & Antiques"
          ],
          [
           "97--Works Of Art, Collectors' Pieces & Antiques"
          ],
          [
           "97--Works Of Art, Collectors' Pieces & Antiques"
          ],
          [
           "97--Works Of Art, Collectors' Pieces & Antiques"
          ]
         ],
         "hovertemplate": "Product=%{customdata[0]}<br>value=%{x}<extra></extra>",
         "legendgroup": "97--Works Of Art, Collectors' Pieces & Antiques",
         "marker": {
          "color": "#B6E880",
          "pattern": {
           "shape": ""
          }
         },
         "name": "97--Works Of Art, Collectors' Pieces & Antiques",
         "offsetgroup": "97--Works Of Art, Collectors' Pieces & Antiques",
         "orientation": "h",
         "showlegend": true,
         "textposition": "auto",
         "type": "bar",
         "x": [
          3,
          2,
          5,
          2,
          4,
          2,
          3,
          2,
          3,
          3
         ],
         "xaxis": "x",
         "y": [
          "2013",
          "2014",
          "2015",
          "2016",
          "2017",
          "2018",
          "2019",
          "2020",
          "2021",
          "2022"
         ],
         "yaxis": "y"
        },
        {
         "alignmentgroup": "True",
         "customdata": [
          [
           "57--Carpets & Floor Coverings"
          ],
          [
           "57--Carpets & Floor Coverings"
          ],
          [
           "57--Carpets & Floor Coverings"
          ],
          [
           "57--Carpets & Floor Coverings"
          ],
          [
           "57--Carpets & Floor Coverings"
          ],
          [
           "57--Carpets & Floor Coverings"
          ],
          [
           "57--Carpets & Floor Coverings"
          ],
          [
           "57--Carpets & Floor Coverings"
          ],
          [
           "57--Carpets & Floor Coverings"
          ],
          [
           "57--Carpets & Floor Coverings"
          ]
         ],
         "hovertemplate": "Product=%{customdata[0]}<br>value=%{x}<extra></extra>",
         "legendgroup": "57--Carpets & Floor Coverings",
         "marker": {
          "color": "#FF97FF",
          "pattern": {
           "shape": ""
          }
         },
         "name": "57--Carpets & Floor Coverings",
         "offsetgroup": "57--Carpets & Floor Coverings",
         "orientation": "h",
         "showlegend": true,
         "textposition": "auto",
         "type": "bar",
         "x": [
          2,
          1,
          1,
          2,
          1,
          1,
          1,
          1,
          1,
          2
         ],
         "xaxis": "x",
         "y": [
          "2013",
          "2014",
          "2015",
          "2016",
          "2017",
          "2018",
          "2019",
          "2020",
          "2021",
          "2022"
         ],
         "yaxis": "y"
        },
        {
         "alignmentgroup": "True",
         "customdata": [
          [
           "53--Veg Text Fib Nesoi"
          ],
          [
           "53--Veg Text Fib Nesoi"
          ],
          [
           "53--Veg Text Fib Nesoi"
          ],
          [
           "53--Veg Text Fib Nesoi"
          ],
          [
           "53--Veg Text Fib Nesoi"
          ],
          [
           "53--Veg Text Fib Nesoi"
          ],
          [
           "53--Veg Text Fib Nesoi"
          ],
          [
           "53--Veg Text Fib Nesoi"
          ],
          [
           "53--Veg Text Fib Nesoi"
          ],
          [
           "53--Veg Text Fib Nesoi"
          ]
         ],
         "hovertemplate": "Product=%{customdata[0]}<br>value=%{x}<extra></extra>",
         "legendgroup": "53--Veg Text Fib Nesoi",
         "marker": {
          "color": "#FECB52",
          "pattern": {
           "shape": ""
          }
         },
         "name": "53--Veg Text Fib Nesoi",
         "offsetgroup": "53--Veg Text Fib Nesoi",
         "orientation": "h",
         "showlegend": true,
         "textposition": "auto",
         "type": "bar",
         "x": [
          1,
          1,
          2,
          1,
          1,
          2,
          1,
          1,
          2,
          2
         ],
         "xaxis": "x",
         "y": [
          "2013",
          "2014",
          "2015",
          "2016",
          "2017",
          "2018",
          "2019",
          "2020",
          "2021",
          "2022"
         ],
         "yaxis": "y"
        },
        {
         "alignmentgroup": "True",
         "customdata": [
          [
           "52--Cotton, Including Yarn"
          ],
          [
           "52--Cotton, Including Yarn"
          ],
          [
           "52--Cotton, Including Yarn"
          ],
          [
           "52--Cotton, Including Yarn"
          ],
          [
           "52--Cotton, Including Yarn"
          ],
          [
           "52--Cotton, Including Yarn"
          ],
          [
           "52--Cotton, Including Yarn"
          ],
          [
           "52--Cotton, Including Yarn"
          ],
          [
           "52--Cotton, Including Yarn"
          ],
          [
           "52--Cotton, Including Yarn"
          ]
         ],
         "hovertemplate": "Product=%{customdata[0]}<br>value=%{x}<extra></extra>",
         "legendgroup": "52--Cotton, Including Yarn",
         "marker": {
          "color": "#636efa",
          "pattern": {
           "shape": ""
          }
         },
         "name": "52--Cotton, Including Yarn",
         "offsetgroup": "52--Cotton, Including Yarn",
         "orientation": "h",
         "showlegend": true,
         "textposition": "auto",
         "type": "bar",
         "x": [
          16,
          13,
          13,
          11,
          6,
          6,
          5,
          2,
          2,
          2
         ],
         "xaxis": "x",
         "y": [
          "2013",
          "2014",
          "2015",
          "2016",
          "2017",
          "2018",
          "2019",
          "2020",
          "2021",
          "2022"
         ],
         "yaxis": "y"
        },
        {
         "alignmentgroup": "True",
         "customdata": [
          [
           "31--Fertilizers"
          ],
          [
           "31--Fertilizers"
          ],
          [
           "31--Fertilizers"
          ],
          [
           "31--Fertilizers"
          ],
          [
           "31--Fertilizers"
          ],
          [
           "31--Fertilizers"
          ],
          [
           "31--Fertilizers"
          ],
          [
           "31--Fertilizers"
          ],
          [
           "31--Fertilizers"
          ],
          [
           "31--Fertilizers"
          ]
         ],
         "hovertemplate": "Product=%{customdata[0]}<br>value=%{x}<extra></extra>",
         "legendgroup": "31--Fertilizers",
         "marker": {
          "color": "#EF553B",
          "pattern": {
           "shape": ""
          }
         },
         "name": "31--Fertilizers",
         "offsetgroup": "31--Fertilizers",
         "orientation": "h",
         "showlegend": true,
         "textposition": "auto",
         "type": "bar",
         "x": [
          0,
          0,
          1,
          1,
          1,
          2,
          2,
          2,
          1,
          2
         ],
         "xaxis": "x",
         "y": [
          "2013",
          "2014",
          "2015",
          "2016",
          "2017",
          "2018",
          "2019",
          "2020",
          "2021",
          "2022"
         ],
         "yaxis": "y"
        },
        {
         "alignmentgroup": "True",
         "customdata": [
          [
           "78--Lead And Articles Thereof"
          ],
          [
           "78--Lead And Articles Thereof"
          ],
          [
           "78--Lead And Articles Thereof"
          ],
          [
           "78--Lead And Articles Thereof"
          ],
          [
           "78--Lead And Articles Thereof"
          ],
          [
           "78--Lead And Articles Thereof"
          ],
          [
           "78--Lead And Articles Thereof"
          ],
          [
           "78--Lead And Articles Thereof"
          ],
          [
           "78--Lead And Articles Thereof"
          ],
          [
           "78--Lead And Articles Thereof"
          ]
         ],
         "hovertemplate": "Product=%{customdata[0]}<br>value=%{x}<extra></extra>",
         "legendgroup": "78--Lead And Articles Thereof",
         "marker": {
          "color": "#00cc96",
          "pattern": {
           "shape": ""
          }
         },
         "name": "78--Lead And Articles Thereof",
         "offsetgroup": "78--Lead And Articles Thereof",
         "orientation": "h",
         "showlegend": true,
         "textposition": "auto",
         "type": "bar",
         "x": [
          1,
          1,
          1,
          1,
          0,
          1,
          1,
          0,
          1,
          2
         ],
         "xaxis": "x",
         "y": [
          "2013",
          "2014",
          "2015",
          "2016",
          "2017",
          "2018",
          "2019",
          "2020",
          "2021",
          "2022"
         ],
         "yaxis": "y"
        },
        {
         "alignmentgroup": "True",
         "customdata": [
          [
           "13--Lac; Gums & Other Vegetable Sap"
          ],
          [
           "13--Lac; Gums & Other Vegetable Sap"
          ],
          [
           "13--Lac; Gums & Other Vegetable Sap"
          ],
          [
           "13--Lac; Gums & Other Vegetable Sap"
          ],
          [
           "13--Lac; Gums & Other Vegetable Sap"
          ],
          [
           "13--Lac; Gums & Other Vegetable Sap"
          ],
          [
           "13--Lac; Gums & Other Vegetable Sap"
          ],
          [
           "13--Lac; Gums & Other Vegetable Sap"
          ],
          [
           "13--Lac; Gums & Other Vegetable Sap"
          ],
          [
           "13--Lac; Gums & Other Vegetable Sap"
          ]
         ],
         "hovertemplate": "Product=%{customdata[0]}<br>value=%{x}<extra></extra>",
         "legendgroup": "13--Lac; Gums & Other Vegetable Sap",
         "marker": {
          "color": "#ab63fa",
          "pattern": {
           "shape": ""
          }
         },
         "name": "13--Lac; Gums & Other Vegetable Sap",
         "offsetgroup": "13--Lac; Gums & Other Vegetable Sap",
         "orientation": "h",
         "showlegend": true,
         "textposition": "auto",
         "type": "bar",
         "x": [
          1,
          0,
          0,
          1,
          1,
          0,
          1,
          1,
          1,
          2
         ],
         "xaxis": "x",
         "y": [
          "2013",
          "2014",
          "2015",
          "2016",
          "2017",
          "2018",
          "2019",
          "2020",
          "2021",
          "2022"
         ],
         "yaxis": "y"
        },
        {
         "alignmentgroup": "True",
         "customdata": [
          [
           "10--Cereals"
          ],
          [
           "10--Cereals"
          ],
          [
           "10--Cereals"
          ],
          [
           "10--Cereals"
          ],
          [
           "10--Cereals"
          ],
          [
           "10--Cereals"
          ],
          [
           "10--Cereals"
          ],
          [
           "10--Cereals"
          ],
          [
           "10--Cereals"
          ],
          [
           "10--Cereals"
          ]
         ],
         "hovertemplate": "Product=%{customdata[0]}<br>value=%{x}<extra></extra>",
         "legendgroup": "10--Cereals",
         "marker": {
          "color": "#FFA15A",
          "pattern": {
           "shape": ""
          }
         },
         "name": "10--Cereals",
         "offsetgroup": "10--Cereals",
         "orientation": "h",
         "showlegend": true,
         "textposition": "auto",
         "type": "bar",
         "x": [
          1,
          0,
          0,
          0,
          0,
          0,
          1,
          2,
          2,
          1
         ],
         "xaxis": "x",
         "y": [
          "2013",
          "2014",
          "2015",
          "2016",
          "2017",
          "2018",
          "2019",
          "2020",
          "2021",
          "2022"
         ],
         "yaxis": "y"
        },
        {
         "alignmentgroup": "True",
         "customdata": [
          [
           "41--Raw Hides & Skins & Leather"
          ],
          [
           "41--Raw Hides & Skins & Leather"
          ],
          [
           "41--Raw Hides & Skins & Leather"
          ],
          [
           "41--Raw Hides & Skins & Leather"
          ],
          [
           "41--Raw Hides & Skins & Leather"
          ],
          [
           "41--Raw Hides & Skins & Leather"
          ],
          [
           "41--Raw Hides & Skins & Leather"
          ],
          [
           "41--Raw Hides & Skins & Leather"
          ],
          [
           "41--Raw Hides & Skins & Leather"
          ],
          [
           "41--Raw Hides & Skins & Leather"
          ]
         ],
         "hovertemplate": "Product=%{customdata[0]}<br>value=%{x}<extra></extra>",
         "legendgroup": "41--Raw Hides & Skins & Leather",
         "marker": {
          "color": "#19d3f3",
          "pattern": {
           "shape": ""
          }
         },
         "name": "41--Raw Hides & Skins & Leather",
         "offsetgroup": "41--Raw Hides & Skins & Leather",
         "orientation": "h",
         "showlegend": true,
         "textposition": "auto",
         "type": "bar",
         "x": [
          3,
          2,
          3,
          2,
          2,
          2,
          1,
          1,
          1,
          1
         ],
         "xaxis": "x",
         "y": [
          "2013",
          "2014",
          "2015",
          "2016",
          "2017",
          "2018",
          "2019",
          "2020",
          "2021",
          "2022"
         ],
         "yaxis": "y"
        },
        {
         "alignmentgroup": "True",
         "customdata": [
          [
           "08--Edible Fruit & Nuts; Citrus Fruit"
          ],
          [
           "08--Edible Fruit & Nuts; Citrus Fruit"
          ],
          [
           "08--Edible Fruit & Nuts; Citrus Fruit"
          ],
          [
           "08--Edible Fruit & Nuts; Citrus Fruit"
          ],
          [
           "08--Edible Fruit & Nuts; Citrus Fruit"
          ],
          [
           "08--Edible Fruit & Nuts; Citrus Fruit"
          ],
          [
           "08--Edible Fruit & Nuts; Citrus Fruit"
          ],
          [
           "08--Edible Fruit & Nuts; Citrus Fruit"
          ],
          [
           "08--Edible Fruit & Nuts; Citrus Fruit"
          ],
          [
           "08--Edible Fruit & Nuts; Citrus Fruit"
          ]
         ],
         "hovertemplate": "Product=%{customdata[0]}<br>value=%{x}<extra></extra>",
         "legendgroup": "08--Edible Fruit & Nuts; Citrus Fruit",
         "marker": {
          "color": "#FF6692",
          "pattern": {
           "shape": ""
          }
         },
         "name": "08--Edible Fruit & Nuts; Citrus Fruit",
         "offsetgroup": "08--Edible Fruit & Nuts; Citrus Fruit",
         "orientation": "h",
         "showlegend": true,
         "textposition": "auto",
         "type": "bar",
         "x": [
          4,
          4,
          2,
          2,
          2,
          2,
          1,
          3,
          2,
          1
         ],
         "xaxis": "x",
         "y": [
          "2013",
          "2014",
          "2015",
          "2016",
          "2017",
          "2018",
          "2019",
          "2020",
          "2021",
          "2022"
         ],
         "yaxis": "y"
        },
        {
         "alignmentgroup": "True",
         "customdata": [
          [
           "80--Tin And Articles Thereof"
          ],
          [
           "80--Tin And Articles Thereof"
          ],
          [
           "80--Tin And Articles Thereof"
          ],
          [
           "80--Tin And Articles Thereof"
          ],
          [
           "80--Tin And Articles Thereof"
          ],
          [
           "80--Tin And Articles Thereof"
          ],
          [
           "80--Tin And Articles Thereof"
          ],
          [
           "80--Tin And Articles Thereof"
          ],
          [
           "80--Tin And Articles Thereof"
          ],
          [
           "80--Tin And Articles Thereof"
          ]
         ],
         "hovertemplate": "Product=%{customdata[0]}<br>value=%{x}<extra></extra>",
         "legendgroup": "80--Tin And Articles Thereof",
         "marker": {
          "color": "#B6E880",
          "pattern": {
           "shape": ""
          }
         },
         "name": "80--Tin And Articles Thereof",
         "offsetgroup": "80--Tin And Articles Thereof",
         "orientation": "h",
         "showlegend": true,
         "textposition": "auto",
         "type": "bar",
         "x": [
          1,
          1,
          1,
          2,
          4,
          4,
          2,
          1,
          1,
          1
         ],
         "xaxis": "x",
         "y": [
          "2013",
          "2014",
          "2015",
          "2016",
          "2017",
          "2018",
          "2019",
          "2020",
          "2021",
          "2022"
         ],
         "yaxis": "y"
        },
        {
         "alignmentgroup": "True",
         "customdata": [
          [
           "67--Prep Feathers, Down Etc"
          ],
          [
           "67--Prep Feathers, Down Etc"
          ],
          [
           "67--Prep Feathers, Down Etc"
          ],
          [
           "67--Prep Feathers, Down Etc"
          ],
          [
           "67--Prep Feathers, Down Etc"
          ],
          [
           "67--Prep Feathers, Down Etc"
          ],
          [
           "67--Prep Feathers, Down Etc"
          ],
          [
           "67--Prep Feathers, Down Etc"
          ],
          [
           "67--Prep Feathers, Down Etc"
          ],
          [
           "67--Prep Feathers, Down Etc"
          ]
         ],
         "hovertemplate": "Product=%{customdata[0]}<br>value=%{x}<extra></extra>",
         "legendgroup": "67--Prep Feathers, Down Etc",
         "marker": {
          "color": "#FF97FF",
          "pattern": {
           "shape": ""
          }
         },
         "name": "67--Prep Feathers, Down Etc",
         "offsetgroup": "67--Prep Feathers, Down Etc",
         "orientation": "h",
         "showlegend": true,
         "textposition": "auto",
         "type": "bar",
         "x": [
          1,
          1,
          2,
          3,
          4,
          4,
          4,
          0,
          0,
          0
         ],
         "xaxis": "x",
         "y": [
          "2013",
          "2014",
          "2015",
          "2016",
          "2017",
          "2018",
          "2019",
          "2020",
          "2021",
          "2022"
         ],
         "yaxis": "y"
        },
        {
         "alignmentgroup": "True",
         "customdata": [
          [
           "51--Wool & Animal Hair, Including Yarn"
          ],
          [
           "51--Wool & Animal Hair, Including Yarn"
          ],
          [
           "51--Wool & Animal Hair, Including Yarn"
          ],
          [
           "51--Wool & Animal Hair, Including Yarn"
          ],
          [
           "51--Wool & Animal Hair, Including Yarn"
          ],
          [
           "51--Wool & Animal Hair, Including Yarn"
          ],
          [
           "51--Wool & Animal Hair, Including Yarn"
          ],
          [
           "51--Wool & Animal Hair, Including Yarn"
          ],
          [
           "51--Wool & Animal Hair, Including Yarn"
          ],
          [
           "51--Wool & Animal Hair, Including Yarn"
          ]
         ],
         "hovertemplate": "Product=%{customdata[0]}<br>value=%{x}<extra></extra>",
         "legendgroup": "51--Wool & Animal Hair, Including Yarn",
         "marker": {
          "color": "#FECB52",
          "pattern": {
           "shape": ""
          }
         },
         "name": "51--Wool & Animal Hair, Including Yarn",
         "offsetgroup": "51--Wool & Animal Hair, Including Yarn",
         "orientation": "h",
         "showlegend": true,
         "textposition": "auto",
         "type": "bar",
         "x": [
          1,
          1,
          1,
          0,
          0,
          0,
          0,
          0,
          0,
          0
         ],
         "xaxis": "x",
         "y": [
          "2013",
          "2014",
          "2015",
          "2016",
          "2017",
          "2018",
          "2019",
          "2020",
          "2021",
          "2022"
         ],
         "yaxis": "y"
        },
        {
         "alignmentgroup": "True",
         "customdata": [
          [
           "18--Cocoa And Cocoa Preparations"
          ],
          [
           "18--Cocoa And Cocoa Preparations"
          ],
          [
           "18--Cocoa And Cocoa Preparations"
          ],
          [
           "18--Cocoa And Cocoa Preparations"
          ],
          [
           "18--Cocoa And Cocoa Preparations"
          ],
          [
           "18--Cocoa And Cocoa Preparations"
          ],
          [
           "18--Cocoa And Cocoa Preparations"
          ],
          [
           "18--Cocoa And Cocoa Preparations"
          ],
          [
           "18--Cocoa And Cocoa Preparations"
          ],
          [
           "18--Cocoa And Cocoa Preparations"
          ]
         ],
         "hovertemplate": "Product=%{customdata[0]}<br>value=%{x}<extra></extra>",
         "legendgroup": "18--Cocoa And Cocoa Preparations",
         "marker": {
          "color": "#636efa",
          "pattern": {
           "shape": ""
          }
         },
         "name": "18--Cocoa And Cocoa Preparations",
         "offsetgroup": "18--Cocoa And Cocoa Preparations",
         "orientation": "h",
         "showlegend": true,
         "textposition": "auto",
         "type": "bar",
         "x": [
          0,
          0,
          0,
          0,
          0,
          0,
          0,
          0,
          1,
          0
         ],
         "xaxis": "x",
         "y": [
          "2013",
          "2014",
          "2015",
          "2016",
          "2017",
          "2018",
          "2019",
          "2020",
          "2021",
          "2022"
         ],
         "yaxis": "y"
        },
        {
         "alignmentgroup": "True",
         "customdata": [
          [
           "26--Ores, Slag And Ash"
          ],
          [
           "26--Ores, Slag And Ash"
          ],
          [
           "26--Ores, Slag And Ash"
          ],
          [
           "26--Ores, Slag And Ash"
          ],
          [
           "26--Ores, Slag And Ash"
          ],
          [
           "26--Ores, Slag And Ash"
          ],
          [
           "26--Ores, Slag And Ash"
          ],
          [
           "26--Ores, Slag And Ash"
          ],
          [
           "26--Ores, Slag And Ash"
          ],
          [
           "26--Ores, Slag And Ash"
          ]
         ],
         "hovertemplate": "Product=%{customdata[0]}<br>value=%{x}<extra></extra>",
         "legendgroup": "26--Ores, Slag And Ash",
         "marker": {
          "color": "#EF553B",
          "pattern": {
           "shape": ""
          }
         },
         "name": "26--Ores, Slag And Ash",
         "offsetgroup": "26--Ores, Slag And Ash",
         "orientation": "h",
         "showlegend": true,
         "textposition": "auto",
         "type": "bar",
         "x": [
          0,
          0,
          0,
          0,
          0,
          1,
          0,
          0,
          0,
          0
         ],
         "xaxis": "x",
         "y": [
          "2013",
          "2014",
          "2015",
          "2016",
          "2017",
          "2018",
          "2019",
          "2020",
          "2021",
          "2022"
         ],
         "yaxis": "y"
        },
        {
         "alignmentgroup": "True",
         "customdata": [
          [
           "43--Furskins & Artificial Fur"
          ],
          [
           "43--Furskins & Artificial Fur"
          ],
          [
           "43--Furskins & Artificial Fur"
          ],
          [
           "43--Furskins & Artificial Fur"
          ],
          [
           "43--Furskins & Artificial Fur"
          ],
          [
           "43--Furskins & Artificial Fur"
          ],
          [
           "43--Furskins & Artificial Fur"
          ],
          [
           "43--Furskins & Artificial Fur"
          ],
          [
           "43--Furskins & Artificial Fur"
          ],
          [
           "43--Furskins & Artificial Fur"
          ]
         ],
         "hovertemplate": "Product=%{customdata[0]}<br>value=%{x}<extra></extra>",
         "legendgroup": "43--Furskins & Artificial Fur",
         "marker": {
          "color": "#00cc96",
          "pattern": {
           "shape": ""
          }
         },
         "name": "43--Furskins & Artificial Fur",
         "offsetgroup": "43--Furskins & Artificial Fur",
         "orientation": "h",
         "showlegend": true,
         "textposition": "auto",
         "type": "bar",
         "x": [
          0,
          0,
          0,
          0,
          0,
          0,
          0,
          0,
          0,
          0
         ],
         "xaxis": "x",
         "y": [
          "2013",
          "2014",
          "2015",
          "2016",
          "2017",
          "2018",
          "2019",
          "2020",
          "2021",
          "2022"
         ],
         "yaxis": "y"
        },
        {
         "alignmentgroup": "True",
         "customdata": [
          [
           "24--Tobacco & Manufactured Tobacco Substitutes"
          ],
          [
           "24--Tobacco & Manufactured Tobacco Substitutes"
          ],
          [
           "24--Tobacco & Manufactured Tobacco Substitutes"
          ],
          [
           "24--Tobacco & Manufactured Tobacco Substitutes"
          ],
          [
           "24--Tobacco & Manufactured Tobacco Substitutes"
          ],
          [
           "24--Tobacco & Manufactured Tobacco Substitutes"
          ],
          [
           "24--Tobacco & Manufactured Tobacco Substitutes"
          ],
          [
           "24--Tobacco & Manufactured Tobacco Substitutes"
          ],
          [
           "24--Tobacco & Manufactured Tobacco Substitutes"
          ],
          [
           "24--Tobacco & Manufactured Tobacco Substitutes"
          ]
         ],
         "hovertemplate": "Product=%{customdata[0]}<br>value=%{x}<extra></extra>",
         "legendgroup": "24--Tobacco & Manufactured Tobacco Substitutes",
         "marker": {
          "color": "#ab63fa",
          "pattern": {
           "shape": ""
          }
         },
         "name": "24--Tobacco & Manufactured Tobacco Substitutes",
         "offsetgroup": "24--Tobacco & Manufactured Tobacco Substitutes",
         "orientation": "h",
         "showlegend": true,
         "textposition": "auto",
         "type": "bar",
         "x": [
          0,
          0,
          0,
          0,
          0,
          0,
          0,
          0,
          0,
          0
         ],
         "xaxis": "x",
         "y": [
          "2013",
          "2014",
          "2015",
          "2016",
          "2017",
          "2018",
          "2019",
          "2020",
          "2021",
          "2022"
         ],
         "yaxis": "y"
        },
        {
         "alignmentgroup": "True",
         "customdata": [
          [
           "14--Vegetable Plaiting Materials & Products"
          ],
          [
           "14--Vegetable Plaiting Materials & Products"
          ],
          [
           "14--Vegetable Plaiting Materials & Products"
          ],
          [
           "14--Vegetable Plaiting Materials & Products"
          ],
          [
           "14--Vegetable Plaiting Materials & Products"
          ],
          [
           "14--Vegetable Plaiting Materials & Products"
          ],
          [
           "14--Vegetable Plaiting Materials & Products"
          ],
          [
           "14--Vegetable Plaiting Materials & Products"
          ],
          [
           "14--Vegetable Plaiting Materials & Products"
          ],
          [
           "14--Vegetable Plaiting Materials & Products"
          ]
         ],
         "hovertemplate": "Product=%{customdata[0]}<br>value=%{x}<extra></extra>",
         "legendgroup": "14--Vegetable Plaiting Materials & Products",
         "marker": {
          "color": "#FFA15A",
          "pattern": {
           "shape": ""
          }
         },
         "name": "14--Vegetable Plaiting Materials & Products",
         "offsetgroup": "14--Vegetable Plaiting Materials & Products",
         "orientation": "h",
         "showlegend": true,
         "textposition": "auto",
         "type": "bar",
         "x": [
          0,
          0,
          0,
          0,
          0,
          0,
          0,
          0,
          0,
          0
         ],
         "xaxis": "x",
         "y": [
          "2013",
          "2014",
          "2015",
          "2016",
          "2017",
          "2018",
          "2019",
          "2020",
          "2021",
          "2022"
         ],
         "yaxis": "y"
        },
        {
         "alignmentgroup": "True",
         "customdata": [
          [
           "50--Silk, Including Yarns"
          ],
          [
           "50--Silk, Including Yarns"
          ],
          [
           "50--Silk, Including Yarns"
          ],
          [
           "50--Silk, Including Yarns"
          ],
          [
           "50--Silk, Including Yarns"
          ],
          [
           "50--Silk, Including Yarns"
          ],
          [
           "50--Silk, Including Yarns"
          ],
          [
           "50--Silk, Including Yarns"
          ],
          [
           "50--Silk, Including Yarns"
          ],
          [
           "50--Silk, Including Yarns"
          ]
         ],
         "hovertemplate": "Product=%{customdata[0]}<br>value=%{x}<extra></extra>",
         "legendgroup": "50--Silk, Including Yarns",
         "marker": {
          "color": "#19d3f3",
          "pattern": {
           "shape": ""
          }
         },
         "name": "50--Silk, Including Yarns",
         "offsetgroup": "50--Silk, Including Yarns",
         "orientation": "h",
         "showlegend": true,
         "textposition": "auto",
         "type": "bar",
         "x": [
          0,
          0,
          0,
          0,
          0,
          0,
          0,
          0,
          null,
          0
         ],
         "xaxis": "x",
         "y": [
          "2013",
          "2014",
          "2015",
          "2016",
          "2017",
          "2018",
          "2019",
          "2020",
          "2021",
          "2022"
         ],
         "yaxis": "y"
        },
        {
         "alignmentgroup": "True",
         "customdata": [
          [
           "36--Explosives; Pyrotechnics"
          ],
          [
           "36--Explosives; Pyrotechnics"
          ],
          [
           "36--Explosives; Pyrotechnics"
          ],
          [
           "36--Explosives; Pyrotechnics"
          ],
          [
           "36--Explosives; Pyrotechnics"
          ],
          [
           "36--Explosives; Pyrotechnics"
          ],
          [
           "36--Explosives; Pyrotechnics"
          ],
          [
           "36--Explosives; Pyrotechnics"
          ],
          [
           "36--Explosives; Pyrotechnics"
          ],
          [
           "36--Explosives; Pyrotechnics"
          ]
         ],
         "hovertemplate": "Product=%{customdata[0]}<br>value=%{x}<extra></extra>",
         "legendgroup": "36--Explosives; Pyrotechnics",
         "marker": {
          "color": "#FF6692",
          "pattern": {
           "shape": ""
          }
         },
         "name": "36--Explosives; Pyrotechnics",
         "offsetgroup": "36--Explosives; Pyrotechnics",
         "orientation": "h",
         "showlegend": true,
         "textposition": "auto",
         "type": "bar",
         "x": [
          0,
          0,
          0,
          0,
          0,
          0,
          0,
          0,
          0,
          0
         ],
         "xaxis": "x",
         "y": [
          "2013",
          "2014",
          "2015",
          "2016",
          "2017",
          "2018",
          "2019",
          "2020",
          "2021",
          "2022"
         ],
         "yaxis": "y"
        },
        {
         "alignmentgroup": "True",
         "customdata": [
          [
           "47--Wood Pulp"
          ],
          [
           "47--Wood Pulp"
          ],
          [
           "47--Wood Pulp"
          ],
          [
           "47--Wood Pulp"
          ],
          [
           "47--Wood Pulp"
          ],
          [
           "47--Wood Pulp"
          ],
          [
           "47--Wood Pulp"
          ],
          [
           "47--Wood Pulp"
          ],
          [
           "47--Wood Pulp"
          ],
          [
           "47--Wood Pulp"
          ]
         ],
         "hovertemplate": "Product=%{customdata[0]}<br>value=%{x}<extra></extra>",
         "legendgroup": "47--Wood Pulp",
         "marker": {
          "color": "#B6E880",
          "pattern": {
           "shape": ""
          }
         },
         "name": "47--Wood Pulp",
         "offsetgroup": "47--Wood Pulp",
         "orientation": "h",
         "showlegend": true,
         "textposition": "auto",
         "type": "bar",
         "x": [
          0,
          null,
          0,
          0,
          0,
          null,
          null,
          null,
          0,
          0
         ],
         "xaxis": "x",
         "y": [
          "2013",
          "2014",
          "2015",
          "2016",
          "2017",
          "2018",
          "2019",
          "2020",
          "2021",
          "2022"
         ],
         "yaxis": "y"
        }
       ],
       "layout": {
        "barmode": "relative",
        "legend": {
         "title": {
          "text": "Product"
         },
         "tracegroupgap": 0
        },
        "template": {
         "data": {
          "bar": [
           {
            "error_x": {
             "color": "#2a3f5f"
            },
            "error_y": {
             "color": "#2a3f5f"
            },
            "marker": {
             "line": {
              "color": "#E5ECF6",
              "width": 0.5
             },
             "pattern": {
              "fillmode": "overlay",
              "size": 10,
              "solidity": 0.2
             }
            },
            "type": "bar"
           }
          ],
          "barpolar": [
           {
            "marker": {
             "line": {
              "color": "#E5ECF6",
              "width": 0.5
             },
             "pattern": {
              "fillmode": "overlay",
              "size": 10,
              "solidity": 0.2
             }
            },
            "type": "barpolar"
           }
          ],
          "carpet": [
           {
            "aaxis": {
             "endlinecolor": "#2a3f5f",
             "gridcolor": "white",
             "linecolor": "white",
             "minorgridcolor": "white",
             "startlinecolor": "#2a3f5f"
            },
            "baxis": {
             "endlinecolor": "#2a3f5f",
             "gridcolor": "white",
             "linecolor": "white",
             "minorgridcolor": "white",
             "startlinecolor": "#2a3f5f"
            },
            "type": "carpet"
           }
          ],
          "choropleth": [
           {
            "colorbar": {
             "outlinewidth": 0,
             "ticks": ""
            },
            "type": "choropleth"
           }
          ],
          "contour": [
           {
            "colorbar": {
             "outlinewidth": 0,
             "ticks": ""
            },
            "colorscale": [
             [
              0,
              "#0d0887"
             ],
             [
              0.1111111111111111,
              "#46039f"
             ],
             [
              0.2222222222222222,
              "#7201a8"
             ],
             [
              0.3333333333333333,
              "#9c179e"
             ],
             [
              0.4444444444444444,
              "#bd3786"
             ],
             [
              0.5555555555555556,
              "#d8576b"
             ],
             [
              0.6666666666666666,
              "#ed7953"
             ],
             [
              0.7777777777777778,
              "#fb9f3a"
             ],
             [
              0.8888888888888888,
              "#fdca26"
             ],
             [
              1,
              "#f0f921"
             ]
            ],
            "type": "contour"
           }
          ],
          "contourcarpet": [
           {
            "colorbar": {
             "outlinewidth": 0,
             "ticks": ""
            },
            "type": "contourcarpet"
           }
          ],
          "heatmap": [
           {
            "colorbar": {
             "outlinewidth": 0,
             "ticks": ""
            },
            "colorscale": [
             [
              0,
              "#0d0887"
             ],
             [
              0.1111111111111111,
              "#46039f"
             ],
             [
              0.2222222222222222,
              "#7201a8"
             ],
             [
              0.3333333333333333,
              "#9c179e"
             ],
             [
              0.4444444444444444,
              "#bd3786"
             ],
             [
              0.5555555555555556,
              "#d8576b"
             ],
             [
              0.6666666666666666,
              "#ed7953"
             ],
             [
              0.7777777777777778,
              "#fb9f3a"
             ],
             [
              0.8888888888888888,
              "#fdca26"
             ],
             [
              1,
              "#f0f921"
             ]
            ],
            "type": "heatmap"
           }
          ],
          "heatmapgl": [
           {
            "colorbar": {
             "outlinewidth": 0,
             "ticks": ""
            },
            "colorscale": [
             [
              0,
              "#0d0887"
             ],
             [
              0.1111111111111111,
              "#46039f"
             ],
             [
              0.2222222222222222,
              "#7201a8"
             ],
             [
              0.3333333333333333,
              "#9c179e"
             ],
             [
              0.4444444444444444,
              "#bd3786"
             ],
             [
              0.5555555555555556,
              "#d8576b"
             ],
             [
              0.6666666666666666,
              "#ed7953"
             ],
             [
              0.7777777777777778,
              "#fb9f3a"
             ],
             [
              0.8888888888888888,
              "#fdca26"
             ],
             [
              1,
              "#f0f921"
             ]
            ],
            "type": "heatmapgl"
           }
          ],
          "histogram": [
           {
            "marker": {
             "pattern": {
              "fillmode": "overlay",
              "size": 10,
              "solidity": 0.2
             }
            },
            "type": "histogram"
           }
          ],
          "histogram2d": [
           {
            "colorbar": {
             "outlinewidth": 0,
             "ticks": ""
            },
            "colorscale": [
             [
              0,
              "#0d0887"
             ],
             [
              0.1111111111111111,
              "#46039f"
             ],
             [
              0.2222222222222222,
              "#7201a8"
             ],
             [
              0.3333333333333333,
              "#9c179e"
             ],
             [
              0.4444444444444444,
              "#bd3786"
             ],
             [
              0.5555555555555556,
              "#d8576b"
             ],
             [
              0.6666666666666666,
              "#ed7953"
             ],
             [
              0.7777777777777778,
              "#fb9f3a"
             ],
             [
              0.8888888888888888,
              "#fdca26"
             ],
             [
              1,
              "#f0f921"
             ]
            ],
            "type": "histogram2d"
           }
          ],
          "histogram2dcontour": [
           {
            "colorbar": {
             "outlinewidth": 0,
             "ticks": ""
            },
            "colorscale": [
             [
              0,
              "#0d0887"
             ],
             [
              0.1111111111111111,
              "#46039f"
             ],
             [
              0.2222222222222222,
              "#7201a8"
             ],
             [
              0.3333333333333333,
              "#9c179e"
             ],
             [
              0.4444444444444444,
              "#bd3786"
             ],
             [
              0.5555555555555556,
              "#d8576b"
             ],
             [
              0.6666666666666666,
              "#ed7953"
             ],
             [
              0.7777777777777778,
              "#fb9f3a"
             ],
             [
              0.8888888888888888,
              "#fdca26"
             ],
             [
              1,
              "#f0f921"
             ]
            ],
            "type": "histogram2dcontour"
           }
          ],
          "mesh3d": [
           {
            "colorbar": {
             "outlinewidth": 0,
             "ticks": ""
            },
            "type": "mesh3d"
           }
          ],
          "parcoords": [
           {
            "line": {
             "colorbar": {
              "outlinewidth": 0,
              "ticks": ""
             }
            },
            "type": "parcoords"
           }
          ],
          "pie": [
           {
            "automargin": true,
            "type": "pie"
           }
          ],
          "scatter": [
           {
            "fillpattern": {
             "fillmode": "overlay",
             "size": 10,
             "solidity": 0.2
            },
            "type": "scatter"
           }
          ],
          "scatter3d": [
           {
            "line": {
             "colorbar": {
              "outlinewidth": 0,
              "ticks": ""
             }
            },
            "marker": {
             "colorbar": {
              "outlinewidth": 0,
              "ticks": ""
             }
            },
            "type": "scatter3d"
           }
          ],
          "scattercarpet": [
           {
            "marker": {
             "colorbar": {
              "outlinewidth": 0,
              "ticks": ""
             }
            },
            "type": "scattercarpet"
           }
          ],
          "scattergeo": [
           {
            "marker": {
             "colorbar": {
              "outlinewidth": 0,
              "ticks": ""
             }
            },
            "type": "scattergeo"
           }
          ],
          "scattergl": [
           {
            "marker": {
             "colorbar": {
              "outlinewidth": 0,
              "ticks": ""
             }
            },
            "type": "scattergl"
           }
          ],
          "scattermapbox": [
           {
            "marker": {
             "colorbar": {
              "outlinewidth": 0,
              "ticks": ""
             }
            },
            "type": "scattermapbox"
           }
          ],
          "scatterpolar": [
           {
            "marker": {
             "colorbar": {
              "outlinewidth": 0,
              "ticks": ""
             }
            },
            "type": "scatterpolar"
           }
          ],
          "scatterpolargl": [
           {
            "marker": {
             "colorbar": {
              "outlinewidth": 0,
              "ticks": ""
             }
            },
            "type": "scatterpolargl"
           }
          ],
          "scatterternary": [
           {
            "marker": {
             "colorbar": {
              "outlinewidth": 0,
              "ticks": ""
             }
            },
            "type": "scatterternary"
           }
          ],
          "surface": [
           {
            "colorbar": {
             "outlinewidth": 0,
             "ticks": ""
            },
            "colorscale": [
             [
              0,
              "#0d0887"
             ],
             [
              0.1111111111111111,
              "#46039f"
             ],
             [
              0.2222222222222222,
              "#7201a8"
             ],
             [
              0.3333333333333333,
              "#9c179e"
             ],
             [
              0.4444444444444444,
              "#bd3786"
             ],
             [
              0.5555555555555556,
              "#d8576b"
             ],
             [
              0.6666666666666666,
              "#ed7953"
             ],
             [
              0.7777777777777778,
              "#fb9f3a"
             ],
             [
              0.8888888888888888,
              "#fdca26"
             ],
             [
              1,
              "#f0f921"
             ]
            ],
            "type": "surface"
           }
          ],
          "table": [
           {
            "cells": {
             "fill": {
              "color": "#EBF0F8"
             },
             "line": {
              "color": "white"
             }
            },
            "header": {
             "fill": {
              "color": "#C8D4E3"
             },
             "line": {
              "color": "white"
             }
            },
            "type": "table"
           }
          ]
         },
         "layout": {
          "annotationdefaults": {
           "arrowcolor": "#2a3f5f",
           "arrowhead": 0,
           "arrowwidth": 1
          },
          "autotypenumbers": "strict",
          "coloraxis": {
           "colorbar": {
            "outlinewidth": 0,
            "ticks": ""
           }
          },
          "colorscale": {
           "diverging": [
            [
             0,
             "#8e0152"
            ],
            [
             0.1,
             "#c51b7d"
            ],
            [
             0.2,
             "#de77ae"
            ],
            [
             0.3,
             "#f1b6da"
            ],
            [
             0.4,
             "#fde0ef"
            ],
            [
             0.5,
             "#f7f7f7"
            ],
            [
             0.6,
             "#e6f5d0"
            ],
            [
             0.7,
             "#b8e186"
            ],
            [
             0.8,
             "#7fbc41"
            ],
            [
             0.9,
             "#4d9221"
            ],
            [
             1,
             "#276419"
            ]
           ],
           "sequential": [
            [
             0,
             "#0d0887"
            ],
            [
             0.1111111111111111,
             "#46039f"
            ],
            [
             0.2222222222222222,
             "#7201a8"
            ],
            [
             0.3333333333333333,
             "#9c179e"
            ],
            [
             0.4444444444444444,
             "#bd3786"
            ],
            [
             0.5555555555555556,
             "#d8576b"
            ],
            [
             0.6666666666666666,
             "#ed7953"
            ],
            [
             0.7777777777777778,
             "#fb9f3a"
            ],
            [
             0.8888888888888888,
             "#fdca26"
            ],
            [
             1,
             "#f0f921"
            ]
           ],
           "sequentialminus": [
            [
             0,
             "#0d0887"
            ],
            [
             0.1111111111111111,
             "#46039f"
            ],
            [
             0.2222222222222222,
             "#7201a8"
            ],
            [
             0.3333333333333333,
             "#9c179e"
            ],
            [
             0.4444444444444444,
             "#bd3786"
            ],
            [
             0.5555555555555556,
             "#d8576b"
            ],
            [
             0.6666666666666666,
             "#ed7953"
            ],
            [
             0.7777777777777778,
             "#fb9f3a"
            ],
            [
             0.8888888888888888,
             "#fdca26"
            ],
            [
             1,
             "#f0f921"
            ]
           ]
          },
          "colorway": [
           "#636efa",
           "#EF553B",
           "#00cc96",
           "#ab63fa",
           "#FFA15A",
           "#19d3f3",
           "#FF6692",
           "#B6E880",
           "#FF97FF",
           "#FECB52"
          ],
          "font": {
           "color": "#2a3f5f"
          },
          "geo": {
           "bgcolor": "white",
           "lakecolor": "white",
           "landcolor": "#E5ECF6",
           "showlakes": true,
           "showland": true,
           "subunitcolor": "white"
          },
          "hoverlabel": {
           "align": "left"
          },
          "hovermode": "closest",
          "mapbox": {
           "style": "light"
          },
          "paper_bgcolor": "white",
          "plot_bgcolor": "#E5ECF6",
          "polar": {
           "angularaxis": {
            "gridcolor": "white",
            "linecolor": "white",
            "ticks": ""
           },
           "bgcolor": "#E5ECF6",
           "radialaxis": {
            "gridcolor": "white",
            "linecolor": "white",
            "ticks": ""
           }
          },
          "scene": {
           "xaxis": {
            "backgroundcolor": "#E5ECF6",
            "gridcolor": "white",
            "gridwidth": 2,
            "linecolor": "white",
            "showbackground": true,
            "ticks": "",
            "zerolinecolor": "white"
           },
           "yaxis": {
            "backgroundcolor": "#E5ECF6",
            "gridcolor": "white",
            "gridwidth": 2,
            "linecolor": "white",
            "showbackground": true,
            "ticks": "",
            "zerolinecolor": "white"
           },
           "zaxis": {
            "backgroundcolor": "#E5ECF6",
            "gridcolor": "white",
            "gridwidth": 2,
            "linecolor": "white",
            "showbackground": true,
            "ticks": "",
            "zerolinecolor": "white"
           }
          },
          "shapedefaults": {
           "line": {
            "color": "#2a3f5f"
           }
          },
          "ternary": {
           "aaxis": {
            "gridcolor": "white",
            "linecolor": "white",
            "ticks": ""
           },
           "baxis": {
            "gridcolor": "white",
            "linecolor": "white",
            "ticks": ""
           },
           "bgcolor": "#E5ECF6",
           "caxis": {
            "gridcolor": "white",
            "linecolor": "white",
            "ticks": ""
           }
          },
          "title": {
           "x": 0.05
          },
          "xaxis": {
           "automargin": true,
           "gridcolor": "white",
           "linecolor": "white",
           "ticks": "",
           "title": {
            "standoff": 15
           },
           "zerolinecolor": "white",
           "zerolinewidth": 2
          },
          "yaxis": {
           "automargin": true,
           "gridcolor": "white",
           "linecolor": "white",
           "ticks": "",
           "title": {
            "standoff": 15
           },
           "zerolinecolor": "white",
           "zerolinewidth": 2
          }
         }
        },
        "title": {
         "text": "Top Imports by Value"
        },
        "xaxis": {
         "anchor": "y",
         "domain": [
          0,
          1
         ],
         "title": {
          "text": "value"
         }
        },
        "yaxis": {
         "anchor": "x",
         "domain": [
          0,
          1
         ],
         "title": {
          "text": "Year"
         }
        }
       }
      }
     },
     "metadata": {},
     "output_type": "display_data"
    }
   ],
   "source": [
    "Fig1 = px.bar(TimpY, x='value', y='Year', color='Product', orientation='h', \n",
    "             hover_data={'Year': False, 'Product': True},\n",
    "             title='Top Imports by Value')\n",
    "Fig1.show()"
   ]
  },
  {
   "cell_type": "code",
   "execution_count": 606,
   "metadata": {},
   "outputs": [
    {
     "data": {
      "application/vnd.plotly.v1+json": {
       "config": {
        "plotlyServerURL": "https://plot.ly"
       },
       "data": [
        {
         "alignmentgroup": "True",
         "customdata": [
          [
           "0--All Merchandise"
          ],
          [
           "0--All Merchandise"
          ],
          [
           "0--All Merchandise"
          ],
          [
           "0--All Merchandise"
          ],
          [
           "0--All Merchandise"
          ],
          [
           "0--All Merchandise"
          ],
          [
           "0--All Merchandise"
          ],
          [
           "0--All Merchandise"
          ],
          [
           "0--All Merchandise"
          ],
          [
           "0--All Merchandise"
          ]
         ],
         "hovertemplate": "Product=%{customdata[0]}<br>value=%{x}<extra></extra>",
         "legendgroup": "0--All Merchandise",
         "marker": {
          "color": "#636efa",
          "pattern": {
           "shape": ""
          }
         },
         "name": "0--All Merchandise",
         "offsetgroup": "0--All Merchandise",
         "orientation": "h",
         "showlegend": true,
         "textposition": "auto",
         "type": "bar",
         "x": [
          25523,
          26675,
          25826,
          26034,
          25736,
          30478,
          31202,
          30213,
          36838,
          43713
         ],
         "xaxis": "x",
         "y": [
          "2013",
          "2014",
          "2015",
          "2016",
          "2017",
          "2018",
          "2019",
          "2020",
          "2021",
          "2022"
         ],
         "yaxis": "y"
        },
        {
         "alignmentgroup": "True",
         "customdata": [
          [
           "84--Nuclear Reactors, Boilers, Machinery"
          ],
          [
           "84--Nuclear Reactors, Boilers, Machinery"
          ],
          [
           "84--Nuclear Reactors, Boilers, Machinery"
          ],
          [
           "84--Nuclear Reactors, Boilers, Machinery"
          ],
          [
           "84--Nuclear Reactors, Boilers, Machinery"
          ],
          [
           "84--Nuclear Reactors, Boilers, Machinery"
          ],
          [
           "84--Nuclear Reactors, Boilers, Machinery"
          ],
          [
           "84--Nuclear Reactors, Boilers, Machinery"
          ],
          [
           "84--Nuclear Reactors, Boilers, Machinery"
          ],
          [
           "84--Nuclear Reactors, Boilers, Machinery"
          ]
         ],
         "hovertemplate": "Product=%{customdata[0]}<br>value=%{x}<extra></extra>",
         "legendgroup": "84--Nuclear Reactors, Boilers, Machinery",
         "marker": {
          "color": "#EF553B",
          "pattern": {
           "shape": ""
          }
         },
         "name": "84--Nuclear Reactors, Boilers, Machinery",
         "offsetgroup": "84--Nuclear Reactors, Boilers, Machinery",
         "orientation": "h",
         "showlegend": true,
         "textposition": "auto",
         "type": "bar",
         "x": [
          4748,
          4363,
          4937,
          5360,
          5043,
          4655,
          5617,
          5695,
          7502,
          8748
         ],
         "xaxis": "x",
         "y": [
          "2013",
          "2014",
          "2015",
          "2016",
          "2017",
          "2018",
          "2019",
          "2020",
          "2021",
          "2022"
         ],
         "yaxis": "y"
        },
        {
         "alignmentgroup": "True",
         "customdata": [
          [
           "85--Electric Machinery Etc; Sound Equip"
          ],
          [
           "85--Electric Machinery Etc; Sound Equip"
          ],
          [
           "85--Electric Machinery Etc; Sound Equip"
          ],
          [
           "85--Electric Machinery Etc; Sound Equip"
          ],
          [
           "85--Electric Machinery Etc; Sound Equip"
          ],
          [
           "85--Electric Machinery Etc; Sound Equip"
          ],
          [
           "85--Electric Machinery Etc; Sound Equip"
          ],
          [
           "85--Electric Machinery Etc; Sound Equip"
          ],
          [
           "85--Electric Machinery Etc; Sound Equip"
          ],
          [
           "85--Electric Machinery Etc; Sound Equip"
          ]
         ],
         "hovertemplate": "Product=%{customdata[0]}<br>value=%{x}<extra></extra>",
         "legendgroup": "85--Electric Machinery Etc; Sound Equip",
         "marker": {
          "color": "#00cc96",
          "pattern": {
           "shape": ""
          }
         },
         "name": "85--Electric Machinery Etc; Sound Equip",
         "offsetgroup": "85--Electric Machinery Etc; Sound Equip",
         "orientation": "h",
         "showlegend": true,
         "textposition": "auto",
         "type": "bar",
         "x": [
          4041,
          4222,
          4500,
          5208,
          4850,
          4866,
          4513,
          5251,
          6745,
          7842
         ],
         "xaxis": "x",
         "y": [
          "2013",
          "2014",
          "2015",
          "2016",
          "2017",
          "2018",
          "2019",
          "2020",
          "2021",
          "2022"
         ],
         "yaxis": "y"
        },
        {
         "alignmentgroup": "True",
         "customdata": [
          [
           "27--Mineral Fuel, Oil; Bitumin Subst"
          ],
          [
           "27--Mineral Fuel, Oil; Bitumin Subst"
          ],
          [
           "27--Mineral Fuel, Oil; Bitumin Subst"
          ],
          [
           "27--Mineral Fuel, Oil; Bitumin Subst"
          ],
          [
           "27--Mineral Fuel, Oil; Bitumin Subst"
          ],
          [
           "27--Mineral Fuel, Oil; Bitumin Subst"
          ],
          [
           "27--Mineral Fuel, Oil; Bitumin Subst"
          ],
          [
           "27--Mineral Fuel, Oil; Bitumin Subst"
          ],
          [
           "27--Mineral Fuel, Oil; Bitumin Subst"
          ],
          [
           "27--Mineral Fuel, Oil; Bitumin Subst"
          ]
         ],
         "hovertemplate": "Product=%{customdata[0]}<br>value=%{x}<extra></extra>",
         "legendgroup": "27--Mineral Fuel, Oil; Bitumin Subst",
         "marker": {
          "color": "#ab63fa",
          "pattern": {
           "shape": ""
          }
         },
         "name": "27--Mineral Fuel, Oil; Bitumin Subst",
         "offsetgroup": "27--Mineral Fuel, Oil; Bitumin Subst",
         "orientation": "h",
         "showlegend": true,
         "textposition": "auto",
         "type": "bar",
         "x": [
          1127,
          781,
          229,
          97,
          730,
          3968,
          4465,
          3277,
          4674,
          7188
         ],
         "xaxis": "x",
         "y": [
          "2013",
          "2014",
          "2015",
          "2016",
          "2017",
          "2018",
          "2019",
          "2020",
          "2021",
          "2022"
         ],
         "yaxis": "y"
        },
        {
         "alignmentgroup": "True",
         "customdata": [
          [
           "90--Optic, Photo, Medic Or Surgical Instrments"
          ],
          [
           "90--Optic, Photo, Medic Or Surgical Instrments"
          ],
          [
           "90--Optic, Photo, Medic Or Surgical Instrments"
          ],
          [
           "90--Optic, Photo, Medic Or Surgical Instrments"
          ],
          [
           "90--Optic, Photo, Medic Or Surgical Instrments"
          ],
          [
           "90--Optic, Photo, Medic Or Surgical Instrments"
          ],
          [
           "90--Optic, Photo, Medic Or Surgical Instrments"
          ],
          [
           "90--Optic, Photo, Medic Or Surgical Instrments"
          ],
          [
           "90--Optic, Photo, Medic Or Surgical Instrments"
          ],
          [
           "90--Optic, Photo, Medic Or Surgical Instrments"
          ]
         ],
         "hovertemplate": "Product=%{customdata[0]}<br>value=%{x}<extra></extra>",
         "legendgroup": "90--Optic, Photo, Medic Or Surgical Instrments",
         "marker": {
          "color": "#FFA15A",
          "pattern": {
           "shape": ""
          }
         },
         "name": "90--Optic, Photo, Medic Or Surgical Instrments",
         "offsetgroup": "90--Optic, Photo, Medic Or Surgical Instrments",
         "orientation": "h",
         "showlegend": true,
         "textposition": "auto",
         "type": "bar",
         "x": [
          1633,
          1838,
          1814,
          1751,
          1803,
          2086,
          2217,
          2274,
          2464,
          3008
         ],
         "xaxis": "x",
         "y": [
          "2013",
          "2014",
          "2015",
          "2016",
          "2017",
          "2018",
          "2019",
          "2020",
          "2021",
          "2022"
         ],
         "yaxis": "y"
        },
        {
         "alignmentgroup": "True",
         "customdata": [
          [
           "88--Aircraft, Spacecraft, And Parts Thereof"
          ],
          [
           "88--Aircraft, Spacecraft, And Parts Thereof"
          ],
          [
           "88--Aircraft, Spacecraft, And Parts Thereof"
          ],
          [
           "88--Aircraft, Spacecraft, And Parts Thereof"
          ],
          [
           "88--Aircraft, Spacecraft, And Parts Thereof"
          ],
          [
           "88--Aircraft, Spacecraft, And Parts Thereof"
          ],
          [
           "88--Aircraft, Spacecraft, And Parts Thereof"
          ],
          [
           "88--Aircraft, Spacecraft, And Parts Thereof"
          ],
          [
           "88--Aircraft, Spacecraft, And Parts Thereof"
          ],
          [
           "88--Aircraft, Spacecraft, And Parts Thereof"
          ]
         ],
         "hovertemplate": "Product=%{customdata[0]}<br>value=%{x}<extra></extra>",
         "legendgroup": "88--Aircraft, Spacecraft, And Parts Thereof",
         "marker": {
          "color": "#19d3f3",
          "pattern": {
           "shape": ""
          }
         },
         "name": "88--Aircraft, Spacecraft, And Parts Thereof",
         "offsetgroup": "88--Aircraft, Spacecraft, And Parts Thereof",
         "orientation": "h",
         "showlegend": true,
         "textposition": "auto",
         "type": "bar",
         "x": [
          1752,
          2860,
          2890,
          3157,
          2867,
          2621,
          2737,
          2111,
          2189,
          1958
         ],
         "xaxis": "x",
         "y": [
          "2013",
          "2014",
          "2015",
          "2016",
          "2017",
          "2018",
          "2019",
          "2020",
          "2021",
          "2022"
         ],
         "yaxis": "y"
        },
        {
         "alignmentgroup": "True",
         "customdata": [
          [
           "39--Plastics & Articles Thereof"
          ],
          [
           "39--Plastics & Articles Thereof"
          ],
          [
           "39--Plastics & Articles Thereof"
          ],
          [
           "39--Plastics & Articles Thereof"
          ],
          [
           "39--Plastics & Articles Thereof"
          ],
          [
           "39--Plastics & Articles Thereof"
          ],
          [
           "39--Plastics & Articles Thereof"
          ],
          [
           "39--Plastics & Articles Thereof"
          ],
          [
           "39--Plastics & Articles Thereof"
          ],
          [
           "39--Plastics & Articles Thereof"
          ]
         ],
         "hovertemplate": "Product=%{customdata[0]}<br>value=%{x}<extra></extra>",
         "legendgroup": "39--Plastics & Articles Thereof",
         "marker": {
          "color": "#FF6692",
          "pattern": {
           "shape": ""
          }
         },
         "name": "39--Plastics & Articles Thereof",
         "offsetgroup": "39--Plastics & Articles Thereof",
         "orientation": "h",
         "showlegend": true,
         "textposition": "auto",
         "type": "bar",
         "x": [
          851,
          894,
          839,
          715,
          829,
          938,
          909,
          968,
          1133,
          1236
         ],
         "xaxis": "x",
         "y": [
          "2013",
          "2014",
          "2015",
          "2016",
          "2017",
          "2018",
          "2019",
          "2020",
          "2021",
          "2022"
         ],
         "yaxis": "y"
        },
        {
         "alignmentgroup": "True",
         "customdata": [
          [
           "12--Oil Seeds Etc.; Misc Grain"
          ],
          [
           "12--Oil Seeds Etc.; Misc Grain"
          ],
          [
           "12--Oil Seeds Etc.; Misc Grain"
          ],
          [
           "12--Oil Seeds Etc.; Misc Grain"
          ],
          [
           "12--Oil Seeds Etc.; Misc Grain"
          ],
          [
           "12--Oil Seeds Etc.; Misc Grain"
          ],
          [
           "12--Oil Seeds Etc.; Misc Grain"
          ],
          [
           "12--Oil Seeds Etc.; Misc Grain"
          ],
          [
           "12--Oil Seeds Etc.; Misc Grain"
          ],
          [
           "12--Oil Seeds Etc.; Misc Grain"
          ]
         ],
         "hovertemplate": "Product=%{customdata[0]}<br>value=%{x}<extra></extra>",
         "legendgroup": "12--Oil Seeds Etc.; Misc Grain",
         "marker": {
          "color": "#B6E880",
          "pattern": {
           "shape": ""
          }
         },
         "name": "12--Oil Seeds Etc.; Misc Grain",
         "offsetgroup": "12--Oil Seeds Etc.; Misc Grain",
         "orientation": "h",
         "showlegend": true,
         "textposition": "auto",
         "type": "bar",
         "x": [
          652,
          782,
          633,
          644,
          646,
          918,
          767,
          680,
          829,
          1202
         ],
         "xaxis": "x",
         "y": [
          "2013",
          "2014",
          "2015",
          "2016",
          "2017",
          "2018",
          "2019",
          "2020",
          "2021",
          "2022"
         ],
         "yaxis": "y"
        },
        {
         "alignmentgroup": "True",
         "customdata": [
          [
           "02--Meat & Edible Meat Offal"
          ],
          [
           "02--Meat & Edible Meat Offal"
          ],
          [
           "02--Meat & Edible Meat Offal"
          ],
          [
           "02--Meat & Edible Meat Offal"
          ],
          [
           "02--Meat & Edible Meat Offal"
          ],
          [
           "02--Meat & Edible Meat Offal"
          ],
          [
           "02--Meat & Edible Meat Offal"
          ],
          [
           "02--Meat & Edible Meat Offal"
          ],
          [
           "02--Meat & Edible Meat Offal"
          ],
          [
           "02--Meat & Edible Meat Offal"
          ]
         ],
         "hovertemplate": "Product=%{customdata[0]}<br>value=%{x}<extra></extra>",
         "legendgroup": "02--Meat & Edible Meat Offal",
         "marker": {
          "color": "#FF97FF",
          "pattern": {
           "shape": ""
          }
         },
         "name": "02--Meat & Edible Meat Offal",
         "offsetgroup": "02--Meat & Edible Meat Offal",
         "orientation": "h",
         "showlegend": true,
         "textposition": "auto",
         "type": "bar",
         "x": [
          455,
          467,
          516,
          509,
          589,
          778,
          793,
          827,
          843,
          1045
         ],
         "xaxis": "x",
         "y": [
          "2013",
          "2014",
          "2015",
          "2016",
          "2017",
          "2018",
          "2019",
          "2020",
          "2021",
          "2022"
         ],
         "yaxis": "y"
        },
        {
         "alignmentgroup": "True",
         "customdata": [
          [
           "98--Special Classification Provisions, Nesoi"
          ],
          [
           "98--Special Classification Provisions, Nesoi"
          ],
          [
           "98--Special Classification Provisions, Nesoi"
          ],
          [
           "98--Special Classification Provisions, Nesoi"
          ],
          [
           "98--Special Classification Provisions, Nesoi"
          ],
          [
           "98--Special Classification Provisions, Nesoi"
          ],
          [
           "98--Special Classification Provisions, Nesoi"
          ],
          [
           "98--Special Classification Provisions, Nesoi"
          ],
          [
           "98--Special Classification Provisions, Nesoi"
          ],
          [
           "98--Special Classification Provisions, Nesoi"
          ]
         ],
         "hovertemplate": "Product=%{customdata[0]}<br>value=%{x}<extra></extra>",
         "legendgroup": "98--Special Classification Provisions, Nesoi",
         "marker": {
          "color": "#FECB52",
          "pattern": {
           "shape": ""
          }
         },
         "name": "98--Special Classification Provisions, Nesoi",
         "offsetgroup": "98--Special Classification Provisions, Nesoi",
         "orientation": "h",
         "showlegend": true,
         "textposition": "auto",
         "type": "bar",
         "x": [
          402,
          500,
          422,
          478,
          526,
          613,
          638,
          610,
          703,
          1006
         ],
         "xaxis": "x",
         "y": [
          "2013",
          "2014",
          "2015",
          "2016",
          "2017",
          "2018",
          "2019",
          "2020",
          "2021",
          "2022"
         ],
         "yaxis": "y"
        },
        {
         "alignmentgroup": "True",
         "customdata": [
          [
           "30--Pharmaceutical Products"
          ],
          [
           "30--Pharmaceutical Products"
          ],
          [
           "30--Pharmaceutical Products"
          ],
          [
           "30--Pharmaceutical Products"
          ],
          [
           "30--Pharmaceutical Products"
          ],
          [
           "30--Pharmaceutical Products"
          ],
          [
           "30--Pharmaceutical Products"
          ],
          [
           "30--Pharmaceutical Products"
          ],
          [
           "30--Pharmaceutical Products"
          ],
          [
           "30--Pharmaceutical Products"
          ]
         ],
         "hovertemplate": "Product=%{customdata[0]}<br>value=%{x}<extra></extra>",
         "legendgroup": "30--Pharmaceutical Products",
         "marker": {
          "color": "#636efa",
          "pattern": {
           "shape": ""
          }
         },
         "name": "30--Pharmaceutical Products",
         "offsetgroup": "30--Pharmaceutical Products",
         "orientation": "h",
         "showlegend": true,
         "textposition": "auto",
         "type": "bar",
         "x": [
          394,
          391,
          371,
          309,
          326,
          380,
          415,
          396,
          608,
          1005
         ],
         "xaxis": "x",
         "y": [
          "2013",
          "2014",
          "2015",
          "2016",
          "2017",
          "2018",
          "2019",
          "2020",
          "2021",
          "2022"
         ],
         "yaxis": "y"
        },
        {
         "alignmentgroup": "True",
         "customdata": [
          [
           "87--Vehicles, Except Railway Or Tramway"
          ],
          [
           "87--Vehicles, Except Railway Or Tramway"
          ],
          [
           "87--Vehicles, Except Railway Or Tramway"
          ],
          [
           "87--Vehicles, Except Railway Or Tramway"
          ],
          [
           "87--Vehicles, Except Railway Or Tramway"
          ],
          [
           "87--Vehicles, Except Railway Or Tramway"
          ],
          [
           "87--Vehicles, Except Railway Or Tramway"
          ],
          [
           "87--Vehicles, Except Railway Or Tramway"
          ],
          [
           "87--Vehicles, Except Railway Or Tramway"
          ],
          [
           "87--Vehicles, Except Railway Or Tramway"
          ]
         ],
         "hovertemplate": "Product=%{customdata[0]}<br>value=%{x}<extra></extra>",
         "legendgroup": "87--Vehicles, Except Railway Or Tramway",
         "marker": {
          "color": "#EF553B",
          "pattern": {
           "shape": ""
          }
         },
         "name": "87--Vehicles, Except Railway Or Tramway",
         "offsetgroup": "87--Vehicles, Except Railway Or Tramway",
         "orientation": "h",
         "showlegend": true,
         "textposition": "auto",
         "type": "bar",
         "x": [
          397,
          420,
          325,
          319,
          391,
          533,
          737,
          936,
          827,
          964
         ],
         "xaxis": "x",
         "y": [
          "2013",
          "2014",
          "2015",
          "2016",
          "2017",
          "2018",
          "2019",
          "2020",
          "2021",
          "2022"
         ],
         "yaxis": "y"
        },
        {
         "alignmentgroup": "True",
         "customdata": [
          [
           "29--Organic Chemicals"
          ],
          [
           "29--Organic Chemicals"
          ],
          [
           "29--Organic Chemicals"
          ],
          [
           "29--Organic Chemicals"
          ],
          [
           "29--Organic Chemicals"
          ],
          [
           "29--Organic Chemicals"
          ],
          [
           "29--Organic Chemicals"
          ],
          [
           "29--Organic Chemicals"
          ],
          [
           "29--Organic Chemicals"
          ],
          [
           "29--Organic Chemicals"
          ]
         ],
         "hovertemplate": "Product=%{customdata[0]}<br>value=%{x}<extra></extra>",
         "legendgroup": "29--Organic Chemicals",
         "marker": {
          "color": "#00cc96",
          "pattern": {
           "shape": ""
          }
         },
         "name": "29--Organic Chemicals",
         "offsetgroup": "29--Organic Chemicals",
         "orientation": "h",
         "showlegend": true,
         "textposition": "auto",
         "type": "bar",
         "x": [
          1138,
          1269,
          891,
          824,
          863,
          1108,
          825,
          881,
          986,
          934
         ],
         "xaxis": "x",
         "y": [
          "2013",
          "2014",
          "2015",
          "2016",
          "2017",
          "2018",
          "2019",
          "2020",
          "2021",
          "2022"
         ],
         "yaxis": "y"
        },
        {
         "alignmentgroup": "True",
         "customdata": [
          [
           "38--Miscellaneous Chemical Products"
          ],
          [
           "38--Miscellaneous Chemical Products"
          ],
          [
           "38--Miscellaneous Chemical Products"
          ],
          [
           "38--Miscellaneous Chemical Products"
          ],
          [
           "38--Miscellaneous Chemical Products"
          ],
          [
           "38--Miscellaneous Chemical Products"
          ],
          [
           "38--Miscellaneous Chemical Products"
          ],
          [
           "38--Miscellaneous Chemical Products"
          ],
          [
           "38--Miscellaneous Chemical Products"
          ],
          [
           "38--Miscellaneous Chemical Products"
          ]
         ],
         "hovertemplate": "Product=%{customdata[0]}<br>value=%{x}<extra></extra>",
         "legendgroup": "38--Miscellaneous Chemical Products",
         "marker": {
          "color": "#ab63fa",
          "pattern": {
           "shape": ""
          }
         },
         "name": "38--Miscellaneous Chemical Products",
         "offsetgroup": "38--Miscellaneous Chemical Products",
         "orientation": "h",
         "showlegend": true,
         "textposition": "auto",
         "type": "bar",
         "x": [
          705,
          548,
          441,
          592,
          560,
          675,
          694,
          627,
          662,
          748
         ],
         "xaxis": "x",
         "y": [
          "2013",
          "2014",
          "2015",
          "2016",
          "2017",
          "2018",
          "2019",
          "2020",
          "2021",
          "2022"
         ],
         "yaxis": "y"
        },
        {
         "alignmentgroup": "True",
         "customdata": [
          [
           "10--Cereals"
          ],
          [
           "10--Cereals"
          ],
          [
           "10--Cereals"
          ],
          [
           "10--Cereals"
          ],
          [
           "10--Cereals"
          ],
          [
           "10--Cereals"
          ],
          [
           "10--Cereals"
          ],
          [
           "10--Cereals"
          ],
          [
           "10--Cereals"
          ],
          [
           "10--Cereals"
          ]
         ],
         "hovertemplate": "Product=%{customdata[0]}<br>value=%{x}<extra></extra>",
         "legendgroup": "10--Cereals",
         "marker": {
          "color": "#FFA15A",
          "pattern": {
           "shape": ""
          }
         },
         "name": "10--Cereals",
         "offsetgroup": "10--Cereals",
         "orientation": "h",
         "showlegend": true,
         "textposition": "auto",
         "type": "bar",
         "x": [
          603,
          801,
          674,
          759,
          732,
          907,
          599,
          517,
          763,
          693
         ],
         "xaxis": "x",
         "y": [
          "2013",
          "2014",
          "2015",
          "2016",
          "2017",
          "2018",
          "2019",
          "2020",
          "2021",
          "2022"
         ],
         "yaxis": "y"
        },
        {
         "alignmentgroup": "True",
         "customdata": [
          [
           "72--Iron And Steel"
          ],
          [
           "72--Iron And Steel"
          ],
          [
           "72--Iron And Steel"
          ],
          [
           "72--Iron And Steel"
          ],
          [
           "72--Iron And Steel"
          ],
          [
           "72--Iron And Steel"
          ],
          [
           "72--Iron And Steel"
          ],
          [
           "72--Iron And Steel"
          ],
          [
           "72--Iron And Steel"
          ],
          [
           "72--Iron And Steel"
          ]
         ],
         "hovertemplate": "Product=%{customdata[0]}<br>value=%{x}<extra></extra>",
         "legendgroup": "72--Iron And Steel",
         "marker": {
          "color": "#19d3f3",
          "pattern": {
           "shape": ""
          }
         },
         "name": "72--Iron And Steel",
         "offsetgroup": "72--Iron And Steel",
         "orientation": "h",
         "showlegend": true,
         "textposition": "auto",
         "type": "bar",
         "x": [
          1243,
          1040,
          491,
          412,
          494,
          770,
          695,
          546,
          635,
          593
         ],
         "xaxis": "x",
         "y": [
          "2013",
          "2014",
          "2015",
          "2016",
          "2017",
          "2018",
          "2019",
          "2020",
          "2021",
          "2022"
         ],
         "yaxis": "y"
        },
        {
         "alignmentgroup": "True",
         "customdata": [
          [
           "71--Nat Etc Pearls, Prec Etc Stones"
          ],
          [
           "71--Nat Etc Pearls, Prec Etc Stones"
          ],
          [
           "71--Nat Etc Pearls, Prec Etc Stones"
          ],
          [
           "71--Nat Etc Pearls, Prec Etc Stones"
          ],
          [
           "71--Nat Etc Pearls, Prec Etc Stones"
          ],
          [
           "71--Nat Etc Pearls, Prec Etc Stones"
          ],
          [
           "71--Nat Etc Pearls, Prec Etc Stones"
          ],
          [
           "71--Nat Etc Pearls, Prec Etc Stones"
          ],
          [
           "71--Nat Etc Pearls, Prec Etc Stones"
          ],
          [
           "71--Nat Etc Pearls, Prec Etc Stones"
          ]
         ],
         "hovertemplate": "Product=%{customdata[0]}<br>value=%{x}<extra></extra>",
         "legendgroup": "71--Nat Etc Pearls, Prec Etc Stones",
         "marker": {
          "color": "#FF6692",
          "pattern": {
           "shape": ""
          }
         },
         "name": "71--Nat Etc Pearls, Prec Etc Stones",
         "offsetgroup": "71--Nat Etc Pearls, Prec Etc Stones",
         "orientation": "h",
         "showlegend": true,
         "textposition": "auto",
         "type": "bar",
         "x": [
          322,
          337,
          297,
          282,
          324,
          267,
          277,
          438,
          558,
          559
         ],
         "xaxis": "x",
         "y": [
          "2013",
          "2014",
          "2015",
          "2016",
          "2017",
          "2018",
          "2019",
          "2020",
          "2021",
          "2022"
         ],
         "yaxis": "y"
        },
        {
         "alignmentgroup": "True",
         "customdata": [
          [
           "28--Inorg Chem; Prec & Rare-Earth Met"
          ],
          [
           "28--Inorg Chem; Prec & Rare-Earth Met"
          ],
          [
           "28--Inorg Chem; Prec & Rare-Earth Met"
          ],
          [
           "28--Inorg Chem; Prec & Rare-Earth Met"
          ],
          [
           "28--Inorg Chem; Prec & Rare-Earth Met"
          ],
          [
           "28--Inorg Chem; Prec & Rare-Earth Met"
          ],
          [
           "28--Inorg Chem; Prec & Rare-Earth Met"
          ],
          [
           "28--Inorg Chem; Prec & Rare-Earth Met"
          ],
          [
           "28--Inorg Chem; Prec & Rare-Earth Met"
          ],
          [
           "28--Inorg Chem; Prec & Rare-Earth Met"
          ]
         ],
         "hovertemplate": "Product=%{customdata[0]}<br>value=%{x}<extra></extra>",
         "legendgroup": "28--Inorg Chem; Prec & Rare-Earth Met",
         "marker": {
          "color": "#B6E880",
          "pattern": {
           "shape": ""
          }
         },
         "name": "28--Inorg Chem; Prec & Rare-Earth Met",
         "offsetgroup": "28--Inorg Chem; Prec & Rare-Earth Met",
         "orientation": "h",
         "showlegend": true,
         "textposition": "auto",
         "type": "bar",
         "x": [
          583,
          660,
          442,
          512,
          508,
          429,
          322,
          341,
          416,
          446
         ],
         "xaxis": "x",
         "y": [
          "2013",
          "2014",
          "2015",
          "2016",
          "2017",
          "2018",
          "2019",
          "2020",
          "2021",
          "2022"
         ],
         "yaxis": "y"
        },
        {
         "alignmentgroup": "True",
         "customdata": [
          [
           "08--Edible Fruit & Nuts; Citrus Fruit"
          ],
          [
           "08--Edible Fruit & Nuts; Citrus Fruit"
          ],
          [
           "08--Edible Fruit & Nuts; Citrus Fruit"
          ],
          [
           "08--Edible Fruit & Nuts; Citrus Fruit"
          ],
          [
           "08--Edible Fruit & Nuts; Citrus Fruit"
          ],
          [
           "08--Edible Fruit & Nuts; Citrus Fruit"
          ],
          [
           "08--Edible Fruit & Nuts; Citrus Fruit"
          ],
          [
           "08--Edible Fruit & Nuts; Citrus Fruit"
          ],
          [
           "08--Edible Fruit & Nuts; Citrus Fruit"
          ],
          [
           "08--Edible Fruit & Nuts; Citrus Fruit"
          ]
         ],
         "hovertemplate": "Product=%{customdata[0]}<br>value=%{x}<extra></extra>",
         "legendgroup": "08--Edible Fruit & Nuts; Citrus Fruit",
         "marker": {
          "color": "#FF97FF",
          "pattern": {
           "shape": ""
          }
         },
         "name": "08--Edible Fruit & Nuts; Citrus Fruit",
         "offsetgroup": "08--Edible Fruit & Nuts; Citrus Fruit",
         "orientation": "h",
         "showlegend": true,
         "textposition": "auto",
         "type": "bar",
         "x": [
          290,
          310,
          291,
          300,
          318,
          271,
          341,
          270,
          296,
          269
         ],
         "xaxis": "x",
         "y": [
          "2013",
          "2014",
          "2015",
          "2016",
          "2017",
          "2018",
          "2019",
          "2020",
          "2021",
          "2022"
         ],
         "yaxis": "y"
        },
        {
         "alignmentgroup": "True",
         "customdata": [
          [
           "47--Wood Pulp"
          ],
          [
           "47--Wood Pulp"
          ],
          [
           "47--Wood Pulp"
          ],
          [
           "47--Wood Pulp"
          ],
          [
           "47--Wood Pulp"
          ],
          [
           "47--Wood Pulp"
          ],
          [
           "47--Wood Pulp"
          ],
          [
           "47--Wood Pulp"
          ],
          [
           "47--Wood Pulp"
          ],
          [
           "47--Wood Pulp"
          ]
         ],
         "hovertemplate": "Product=%{customdata[0]}<br>value=%{x}<extra></extra>",
         "legendgroup": "47--Wood Pulp",
         "marker": {
          "color": "#FECB52",
          "pattern": {
           "shape": ""
          }
         },
         "name": "47--Wood Pulp",
         "offsetgroup": "47--Wood Pulp",
         "orientation": "h",
         "showlegend": true,
         "textposition": "auto",
         "type": "bar",
         "x": [
          192,
          159,
          110,
          122,
          108,
          168,
          191,
          194,
          278,
          261
         ],
         "xaxis": "x",
         "y": [
          "2013",
          "2014",
          "2015",
          "2016",
          "2017",
          "2018",
          "2019",
          "2020",
          "2021",
          "2022"
         ],
         "yaxis": "y"
        },
        {
         "alignmentgroup": "True",
         "customdata": [
          [
           "21--Miscellaneous Edible Preparations"
          ],
          [
           "21--Miscellaneous Edible Preparations"
          ],
          [
           "21--Miscellaneous Edible Preparations"
          ],
          [
           "21--Miscellaneous Edible Preparations"
          ],
          [
           "21--Miscellaneous Edible Preparations"
          ],
          [
           "21--Miscellaneous Edible Preparations"
          ],
          [
           "21--Miscellaneous Edible Preparations"
          ],
          [
           "21--Miscellaneous Edible Preparations"
          ],
          [
           "21--Miscellaneous Edible Preparations"
          ],
          [
           "21--Miscellaneous Edible Preparations"
          ]
         ],
         "hovertemplate": "Product=%{customdata[0]}<br>value=%{x}<extra></extra>",
         "legendgroup": "21--Miscellaneous Edible Preparations",
         "marker": {
          "color": "#636efa",
          "pattern": {
           "shape": ""
          }
         },
         "name": "21--Miscellaneous Edible Preparations",
         "offsetgroup": "21--Miscellaneous Edible Preparations",
         "orientation": "h",
         "showlegend": true,
         "textposition": "auto",
         "type": "bar",
         "x": [
          192,
          199,
          207,
          214,
          200,
          208,
          207,
          196,
          270,
          260
         ],
         "xaxis": "x",
         "y": [
          "2013",
          "2014",
          "2015",
          "2016",
          "2017",
          "2018",
          "2019",
          "2020",
          "2021",
          "2022"
         ],
         "yaxis": "y"
        },
        {
         "alignmentgroup": "True",
         "customdata": [
          [
           "34--Soap; Waxes, Polish"
          ],
          [
           "34--Soap; Waxes, Polish"
          ],
          [
           "34--Soap; Waxes, Polish"
          ],
          [
           "34--Soap; Waxes, Polish"
          ],
          [
           "34--Soap; Waxes, Polish"
          ],
          [
           "34--Soap; Waxes, Polish"
          ],
          [
           "34--Soap; Waxes, Polish"
          ],
          [
           "34--Soap; Waxes, Polish"
          ],
          [
           "34--Soap; Waxes, Polish"
          ],
          [
           "34--Soap; Waxes, Polish"
          ]
         ],
         "hovertemplate": "Product=%{customdata[0]}<br>value=%{x}<extra></extra>",
         "legendgroup": "34--Soap; Waxes, Polish",
         "marker": {
          "color": "#EF553B",
          "pattern": {
           "shape": ""
          }
         },
         "name": "34--Soap; Waxes, Polish",
         "offsetgroup": "34--Soap; Waxes, Polish",
         "orientation": "h",
         "showlegend": true,
         "textposition": "auto",
         "type": "bar",
         "x": [
          180,
          220,
          178,
          195,
          198,
          203,
          193,
          227,
          248,
          238
         ],
         "xaxis": "x",
         "y": [
          "2013",
          "2014",
          "2015",
          "2016",
          "2017",
          "2018",
          "2019",
          "2020",
          "2021",
          "2022"
         ],
         "yaxis": "y"
        },
        {
         "alignmentgroup": "True",
         "customdata": [
          [
           "23--Food Industry Residues & Waste"
          ],
          [
           "23--Food Industry Residues & Waste"
          ],
          [
           "23--Food Industry Residues & Waste"
          ],
          [
           "23--Food Industry Residues & Waste"
          ],
          [
           "23--Food Industry Residues & Waste"
          ],
          [
           "23--Food Industry Residues & Waste"
          ],
          [
           "23--Food Industry Residues & Waste"
          ],
          [
           "23--Food Industry Residues & Waste"
          ],
          [
           "23--Food Industry Residues & Waste"
          ],
          [
           "23--Food Industry Residues & Waste"
          ]
         ],
         "hovertemplate": "Product=%{customdata[0]}<br>value=%{x}<extra></extra>",
         "legendgroup": "23--Food Industry Residues & Waste",
         "marker": {
          "color": "#00cc96",
          "pattern": {
           "shape": ""
          }
         },
         "name": "23--Food Industry Residues & Waste",
         "offsetgroup": "23--Food Industry Residues & Waste",
         "orientation": "h",
         "showlegend": true,
         "textposition": "auto",
         "type": "bar",
         "x": [
          187,
          160,
          136,
          150,
          148,
          161,
          171,
          179,
          190,
          212
         ],
         "xaxis": "x",
         "y": [
          "2013",
          "2014",
          "2015",
          "2016",
          "2017",
          "2018",
          "2019",
          "2020",
          "2021",
          "2022"
         ],
         "yaxis": "y"
        },
        {
         "alignmentgroup": "True",
         "customdata": [
          [
           "76--Aluminum And Articles Thereof"
          ],
          [
           "76--Aluminum And Articles Thereof"
          ],
          [
           "76--Aluminum And Articles Thereof"
          ],
          [
           "76--Aluminum And Articles Thereof"
          ],
          [
           "76--Aluminum And Articles Thereof"
          ],
          [
           "76--Aluminum And Articles Thereof"
          ],
          [
           "76--Aluminum And Articles Thereof"
          ],
          [
           "76--Aluminum And Articles Thereof"
          ],
          [
           "76--Aluminum And Articles Thereof"
          ],
          [
           "76--Aluminum And Articles Thereof"
          ]
         ],
         "hovertemplate": "Product=%{customdata[0]}<br>value=%{x}<extra></extra>",
         "legendgroup": "76--Aluminum And Articles Thereof",
         "marker": {
          "color": "#ab63fa",
          "pattern": {
           "shape": ""
          }
         },
         "name": "76--Aluminum And Articles Thereof",
         "offsetgroup": "76--Aluminum And Articles Thereof",
         "orientation": "h",
         "showlegend": true,
         "textposition": "auto",
         "type": "bar",
         "x": [
          186,
          158,
          120,
          106,
          120,
          211,
          156,
          151,
          164,
          183
         ],
         "xaxis": "x",
         "y": [
          "2013",
          "2014",
          "2015",
          "2016",
          "2017",
          "2018",
          "2019",
          "2020",
          "2021",
          "2022"
         ],
         "yaxis": "y"
        },
        {
         "alignmentgroup": "True",
         "customdata": [
          [
           "37--Photographic Goods"
          ],
          [
           "37--Photographic Goods"
          ],
          [
           "37--Photographic Goods"
          ],
          [
           "37--Photographic Goods"
          ],
          [
           "37--Photographic Goods"
          ],
          [
           "37--Photographic Goods"
          ],
          [
           "37--Photographic Goods"
          ],
          [
           "37--Photographic Goods"
          ],
          [
           "37--Photographic Goods"
          ],
          [
           "37--Photographic Goods"
          ]
         ],
         "hovertemplate": "Product=%{customdata[0]}<br>value=%{x}<extra></extra>",
         "legendgroup": "37--Photographic Goods",
         "marker": {
          "color": "#FFA15A",
          "pattern": {
           "shape": ""
          }
         },
         "name": "37--Photographic Goods",
         "offsetgroup": "37--Photographic Goods",
         "orientation": "h",
         "showlegend": true,
         "textposition": "auto",
         "type": "bar",
         "x": [
          108,
          102,
          133,
          134,
          140,
          149,
          171,
          174,
          207,
          183
         ],
         "xaxis": "x",
         "y": [
          "2013",
          "2014",
          "2015",
          "2016",
          "2017",
          "2018",
          "2019",
          "2020",
          "2021",
          "2022"
         ],
         "yaxis": "y"
        },
        {
         "alignmentgroup": "True",
         "customdata": [
          [
           "33--Essential Oils; Perfumery, Cosmetic"
          ],
          [
           "33--Essential Oils; Perfumery, Cosmetic"
          ],
          [
           "33--Essential Oils; Perfumery, Cosmetic"
          ],
          [
           "33--Essential Oils; Perfumery, Cosmetic"
          ],
          [
           "33--Essential Oils; Perfumery, Cosmetic"
          ],
          [
           "33--Essential Oils; Perfumery, Cosmetic"
          ],
          [
           "33--Essential Oils; Perfumery, Cosmetic"
          ],
          [
           "33--Essential Oils; Perfumery, Cosmetic"
          ],
          [
           "33--Essential Oils; Perfumery, Cosmetic"
          ],
          [
           "33--Essential Oils; Perfumery, Cosmetic"
          ]
         ],
         "hovertemplate": "Product=%{customdata[0]}<br>value=%{x}<extra></extra>",
         "legendgroup": "33--Essential Oils; Perfumery, Cosmetic",
         "marker": {
          "color": "#19d3f3",
          "pattern": {
           "shape": ""
          }
         },
         "name": "33--Essential Oils; Perfumery, Cosmetic",
         "offsetgroup": "33--Essential Oils; Perfumery, Cosmetic",
         "orientation": "h",
         "showlegend": true,
         "textposition": "auto",
         "type": "bar",
         "x": [
          164,
          160,
          164,
          140,
          151,
          159,
          157,
          154,
          170,
          164
         ],
         "xaxis": "x",
         "y": [
          "2013",
          "2014",
          "2015",
          "2016",
          "2017",
          "2018",
          "2019",
          "2020",
          "2021",
          "2022"
         ],
         "yaxis": "y"
        },
        {
         "alignmentgroup": "True",
         "customdata": [
          [
           "74--Copper And Articles Thereof"
          ],
          [
           "74--Copper And Articles Thereof"
          ],
          [
           "74--Copper And Articles Thereof"
          ],
          [
           "74--Copper And Articles Thereof"
          ],
          [
           "74--Copper And Articles Thereof"
          ],
          [
           "74--Copper And Articles Thereof"
          ],
          [
           "74--Copper And Articles Thereof"
          ],
          [
           "74--Copper And Articles Thereof"
          ],
          [
           "74--Copper And Articles Thereof"
          ],
          [
           "74--Copper And Articles Thereof"
          ]
         ],
         "hovertemplate": "Product=%{customdata[0]}<br>value=%{x}<extra></extra>",
         "legendgroup": "74--Copper And Articles Thereof",
         "marker": {
          "color": "#FF6692",
          "pattern": {
           "shape": ""
          }
         },
         "name": "74--Copper And Articles Thereof",
         "offsetgroup": "74--Copper And Articles Thereof",
         "orientation": "h",
         "showlegend": true,
         "textposition": "auto",
         "type": "bar",
         "x": [
          107,
          107,
          88,
          98,
          97,
          181,
          181,
          152,
          183,
          163
         ],
         "xaxis": "x",
         "y": [
          "2013",
          "2014",
          "2015",
          "2016",
          "2017",
          "2018",
          "2019",
          "2020",
          "2021",
          "2022"
         ],
         "yaxis": "y"
        },
        {
         "alignmentgroup": "True",
         "customdata": [
          [
           "93--Arms & Ammunition"
          ],
          [
           "93--Arms & Ammunition"
          ],
          [
           "93--Arms & Ammunition"
          ],
          [
           "93--Arms & Ammunition"
          ],
          [
           "93--Arms & Ammunition"
          ],
          [
           "93--Arms & Ammunition"
          ],
          [
           "93--Arms & Ammunition"
          ],
          [
           "93--Arms & Ammunition"
          ],
          [
           "93--Arms & Ammunition"
          ],
          [
           "93--Arms & Ammunition"
          ]
         ],
         "hovertemplate": "Product=%{customdata[0]}<br>value=%{x}<extra></extra>",
         "legendgroup": "93--Arms & Ammunition",
         "marker": {
          "color": "#B6E880",
          "pattern": {
           "shape": ""
          }
         },
         "name": "93--Arms & Ammunition",
         "offsetgroup": "93--Arms & Ammunition",
         "orientation": "h",
         "showlegend": true,
         "textposition": "auto",
         "type": "bar",
         "x": [
          573,
          535,
          1529,
          646,
          66,
          72,
          63,
          79,
          56,
          149
         ],
         "xaxis": "x",
         "y": [
          "2013",
          "2014",
          "2015",
          "2016",
          "2017",
          "2018",
          "2019",
          "2020",
          "2021",
          "2022"
         ],
         "yaxis": "y"
        },
        {
         "alignmentgroup": "True",
         "customdata": [
          [
           "97--Works Of Art, Collectors' Pieces & Antiques"
          ],
          [
           "97--Works Of Art, Collectors' Pieces & Antiques"
          ],
          [
           "97--Works Of Art, Collectors' Pieces & Antiques"
          ],
          [
           "97--Works Of Art, Collectors' Pieces & Antiques"
          ],
          [
           "97--Works Of Art, Collectors' Pieces & Antiques"
          ],
          [
           "97--Works Of Art, Collectors' Pieces & Antiques"
          ],
          [
           "97--Works Of Art, Collectors' Pieces & Antiques"
          ],
          [
           "97--Works Of Art, Collectors' Pieces & Antiques"
          ],
          [
           "97--Works Of Art, Collectors' Pieces & Antiques"
          ],
          [
           "97--Works Of Art, Collectors' Pieces & Antiques"
          ]
         ],
         "hovertemplate": "Product=%{customdata[0]}<br>value=%{x}<extra></extra>",
         "legendgroup": "97--Works Of Art, Collectors' Pieces & Antiques",
         "marker": {
          "color": "#FF97FF",
          "pattern": {
           "shape": ""
          }
         },
         "name": "97--Works Of Art, Collectors' Pieces & Antiques",
         "offsetgroup": "97--Works Of Art, Collectors' Pieces & Antiques",
         "orientation": "h",
         "showlegend": true,
         "textposition": "auto",
         "type": "bar",
         "x": [
          20,
          35,
          46,
          18,
          18,
          55,
          54,
          67,
          44,
          147
         ],
         "xaxis": "x",
         "y": [
          "2013",
          "2014",
          "2015",
          "2016",
          "2017",
          "2018",
          "2019",
          "2020",
          "2021",
          "2022"
         ],
         "yaxis": "y"
        },
        {
         "alignmentgroup": "True",
         "customdata": [
          [
           "48--Paper & Paperboard"
          ],
          [
           "48--Paper & Paperboard"
          ],
          [
           "48--Paper & Paperboard"
          ],
          [
           "48--Paper & Paperboard"
          ],
          [
           "48--Paper & Paperboard"
          ],
          [
           "48--Paper & Paperboard"
          ],
          [
           "48--Paper & Paperboard"
          ],
          [
           "48--Paper & Paperboard"
          ],
          [
           "48--Paper & Paperboard"
          ],
          [
           "48--Paper & Paperboard"
          ]
         ],
         "hovertemplate": "Product=%{customdata[0]}<br>value=%{x}<extra></extra>",
         "legendgroup": "48--Paper & Paperboard",
         "marker": {
          "color": "#FECB52",
          "pattern": {
           "shape": ""
          }
         },
         "name": "48--Paper & Paperboard",
         "offsetgroup": "48--Paper & Paperboard",
         "orientation": "h",
         "showlegend": true,
         "textposition": "auto",
         "type": "bar",
         "x": [
          214,
          222,
          216,
          209,
          220,
          230,
          200,
          185,
          156,
          143
         ],
         "xaxis": "x",
         "y": [
          "2013",
          "2014",
          "2015",
          "2016",
          "2017",
          "2018",
          "2019",
          "2020",
          "2021",
          "2022"
         ],
         "yaxis": "y"
        },
        {
         "alignmentgroup": "True",
         "customdata": [
          [
           "73--Articles Of Iron Or Steel"
          ],
          [
           "73--Articles Of Iron Or Steel"
          ],
          [
           "73--Articles Of Iron Or Steel"
          ],
          [
           "73--Articles Of Iron Or Steel"
          ],
          [
           "73--Articles Of Iron Or Steel"
          ],
          [
           "73--Articles Of Iron Or Steel"
          ],
          [
           "73--Articles Of Iron Or Steel"
          ],
          [
           "73--Articles Of Iron Or Steel"
          ],
          [
           "73--Articles Of Iron Or Steel"
          ],
          [
           "73--Articles Of Iron Or Steel"
          ]
         ],
         "hovertemplate": "Product=%{customdata[0]}<br>value=%{x}<extra></extra>",
         "legendgroup": "73--Articles Of Iron Or Steel",
         "marker": {
          "color": "#636efa",
          "pattern": {
           "shape": ""
          }
         },
         "name": "73--Articles Of Iron Or Steel",
         "offsetgroup": "73--Articles Of Iron Or Steel",
         "orientation": "h",
         "showlegend": true,
         "textposition": "auto",
         "type": "bar",
         "x": [
          79,
          83,
          78,
          90,
          86,
          82,
          90,
          88,
          101,
          122
         ],
         "xaxis": "x",
         "y": [
          "2013",
          "2014",
          "2015",
          "2016",
          "2017",
          "2018",
          "2019",
          "2020",
          "2021",
          "2022"
         ],
         "yaxis": "y"
        },
        {
         "alignmentgroup": "True",
         "customdata": [
          [
           "04--Dairy Prods; Birds Eggs; Honey"
          ],
          [
           "04--Dairy Prods; Birds Eggs; Honey"
          ],
          [
           "04--Dairy Prods; Birds Eggs; Honey"
          ],
          [
           "04--Dairy Prods; Birds Eggs; Honey"
          ],
          [
           "04--Dairy Prods; Birds Eggs; Honey"
          ],
          [
           "04--Dairy Prods; Birds Eggs; Honey"
          ],
          [
           "04--Dairy Prods; Birds Eggs; Honey"
          ],
          [
           "04--Dairy Prods; Birds Eggs; Honey"
          ],
          [
           "04--Dairy Prods; Birds Eggs; Honey"
          ],
          [
           "04--Dairy Prods; Birds Eggs; Honey"
          ]
         ],
         "hovertemplate": "Product=%{customdata[0]}<br>value=%{x}<extra></extra>",
         "legendgroup": "04--Dairy Prods; Birds Eggs; Honey",
         "marker": {
          "color": "#EF553B",
          "pattern": {
           "shape": ""
          }
         },
         "name": "04--Dairy Prods; Birds Eggs; Honey",
         "offsetgroup": "04--Dairy Prods; Birds Eggs; Honey",
         "orientation": "h",
         "showlegend": true,
         "textposition": "auto",
         "type": "bar",
         "x": [
          58,
          67,
          64,
          64,
          78,
          90,
          103,
          110,
          121,
          122
         ],
         "xaxis": "x",
         "y": [
          "2013",
          "2014",
          "2015",
          "2016",
          "2017",
          "2018",
          "2019",
          "2020",
          "2021",
          "2022"
         ],
         "yaxis": "y"
        },
        {
         "alignmentgroup": "True",
         "customdata": [
          [
           "89--Ships, Boats And Floating Structures"
          ],
          [
           "89--Ships, Boats And Floating Structures"
          ],
          [
           "89--Ships, Boats And Floating Structures"
          ],
          [
           "89--Ships, Boats And Floating Structures"
          ],
          [
           "89--Ships, Boats And Floating Structures"
          ],
          [
           "89--Ships, Boats And Floating Structures"
          ],
          [
           "89--Ships, Boats And Floating Structures"
          ],
          [
           "89--Ships, Boats And Floating Structures"
          ],
          [
           "89--Ships, Boats And Floating Structures"
          ],
          [
           "89--Ships, Boats And Floating Structures"
          ]
         ],
         "hovertemplate": "Product=%{customdata[0]}<br>value=%{x}<extra></extra>",
         "legendgroup": "89--Ships, Boats And Floating Structures",
         "marker": {
          "color": "#00cc96",
          "pattern": {
           "shape": ""
          }
         },
         "name": "89--Ships, Boats And Floating Structures",
         "offsetgroup": "89--Ships, Boats And Floating Structures",
         "orientation": "h",
         "showlegend": true,
         "textposition": "auto",
         "type": "bar",
         "x": [
          64,
          44,
          57,
          41,
          54,
          80,
          72,
          84,
          95,
          119
         ],
         "xaxis": "x",
         "y": [
          "2013",
          "2014",
          "2015",
          "2016",
          "2017",
          "2018",
          "2019",
          "2020",
          "2021",
          "2022"
         ],
         "yaxis": "y"
        },
        {
         "alignmentgroup": "True",
         "customdata": [
          [
           "69--Ceramic Products"
          ],
          [
           "69--Ceramic Products"
          ],
          [
           "69--Ceramic Products"
          ],
          [
           "69--Ceramic Products"
          ],
          [
           "69--Ceramic Products"
          ],
          [
           "69--Ceramic Products"
          ],
          [
           "69--Ceramic Products"
          ],
          [
           "69--Ceramic Products"
          ],
          [
           "69--Ceramic Products"
          ],
          [
           "69--Ceramic Products"
          ]
         ],
         "hovertemplate": "Product=%{customdata[0]}<br>value=%{x}<extra></extra>",
         "legendgroup": "69--Ceramic Products",
         "marker": {
          "color": "#ab63fa",
          "pattern": {
           "shape": ""
          }
         },
         "name": "69--Ceramic Products",
         "offsetgroup": "69--Ceramic Products",
         "orientation": "h",
         "showlegend": true,
         "textposition": "auto",
         "type": "bar",
         "x": [
          59,
          68,
          62,
          75,
          91,
          88,
          77,
          87,
          98,
          111
         ],
         "xaxis": "x",
         "y": [
          "2013",
          "2014",
          "2015",
          "2016",
          "2017",
          "2018",
          "2019",
          "2020",
          "2021",
          "2022"
         ],
         "yaxis": "y"
        },
        {
         "alignmentgroup": "True",
         "customdata": [
          [
           "68--Art Of Stone, Plaster Etc."
          ],
          [
           "68--Art Of Stone, Plaster Etc."
          ],
          [
           "68--Art Of Stone, Plaster Etc."
          ],
          [
           "68--Art Of Stone, Plaster Etc."
          ],
          [
           "68--Art Of Stone, Plaster Etc."
          ],
          [
           "68--Art Of Stone, Plaster Etc."
          ],
          [
           "68--Art Of Stone, Plaster Etc."
          ],
          [
           "68--Art Of Stone, Plaster Etc."
          ],
          [
           "68--Art Of Stone, Plaster Etc."
          ],
          [
           "68--Art Of Stone, Plaster Etc."
          ]
         ],
         "hovertemplate": "Product=%{customdata[0]}<br>value=%{x}<extra></extra>",
         "legendgroup": "68--Art Of Stone, Plaster Etc.",
         "marker": {
          "color": "#FFA15A",
          "pattern": {
           "shape": ""
          }
         },
         "name": "68--Art Of Stone, Plaster Etc.",
         "offsetgroup": "68--Art Of Stone, Plaster Etc.",
         "orientation": "h",
         "showlegend": true,
         "textposition": "auto",
         "type": "bar",
         "x": [
          44,
          47,
          50,
          51,
          56,
          60,
          62,
          73,
          82,
          108
         ],
         "xaxis": "x",
         "y": [
          "2013",
          "2014",
          "2015",
          "2016",
          "2017",
          "2018",
          "2019",
          "2020",
          "2021",
          "2022"
         ],
         "yaxis": "y"
        },
        {
         "alignmentgroup": "True",
         "customdata": [
          [
           "32--Tanning & Dye Ext"
          ],
          [
           "32--Tanning & Dye Ext"
          ],
          [
           "32--Tanning & Dye Ext"
          ],
          [
           "32--Tanning & Dye Ext"
          ],
          [
           "32--Tanning & Dye Ext"
          ],
          [
           "32--Tanning & Dye Ext"
          ],
          [
           "32--Tanning & Dye Ext"
          ],
          [
           "32--Tanning & Dye Ext"
          ],
          [
           "32--Tanning & Dye Ext"
          ],
          [
           "32--Tanning & Dye Ext"
          ]
         ],
         "hovertemplate": "Product=%{customdata[0]}<br>value=%{x}<extra></extra>",
         "legendgroup": "32--Tanning & Dye Ext",
         "marker": {
          "color": "#19d3f3",
          "pattern": {
           "shape": ""
          }
         },
         "name": "32--Tanning & Dye Ext",
         "offsetgroup": "32--Tanning & Dye Ext",
         "orientation": "h",
         "showlegend": true,
         "textposition": "auto",
         "type": "bar",
         "x": [
          179,
          164,
          121,
          96,
          114,
          100,
          96,
          88,
          113,
          107
         ],
         "xaxis": "x",
         "y": [
          "2013",
          "2014",
          "2015",
          "2016",
          "2017",
          "2018",
          "2019",
          "2020",
          "2021",
          "2022"
         ],
         "yaxis": "y"
        },
        {
         "alignmentgroup": "True",
         "customdata": [
          [
           "20--Prep Vegetables, Fruit, Nuts"
          ],
          [
           "20--Prep Vegetables, Fruit, Nuts"
          ],
          [
           "20--Prep Vegetables, Fruit, Nuts"
          ],
          [
           "20--Prep Vegetables, Fruit, Nuts"
          ],
          [
           "20--Prep Vegetables, Fruit, Nuts"
          ],
          [
           "20--Prep Vegetables, Fruit, Nuts"
          ],
          [
           "20--Prep Vegetables, Fruit, Nuts"
          ],
          [
           "20--Prep Vegetables, Fruit, Nuts"
          ],
          [
           "20--Prep Vegetables, Fruit, Nuts"
          ],
          [
           "20--Prep Vegetables, Fruit, Nuts"
          ]
         ],
         "hovertemplate": "Product=%{customdata[0]}<br>value=%{x}<extra></extra>",
         "legendgroup": "20--Prep Vegetables, Fruit, Nuts",
         "marker": {
          "color": "#FF6692",
          "pattern": {
           "shape": ""
          }
         },
         "name": "20--Prep Vegetables, Fruit, Nuts",
         "offsetgroup": "20--Prep Vegetables, Fruit, Nuts",
         "orientation": "h",
         "showlegend": true,
         "textposition": "auto",
         "type": "bar",
         "x": [
          106,
          119,
          134,
          119,
          124,
          120,
          110,
          100,
          99,
          106
         ],
         "xaxis": "x",
         "y": [
          "2013",
          "2014",
          "2015",
          "2016",
          "2017",
          "2018",
          "2019",
          "2020",
          "2021",
          "2022"
         ],
         "yaxis": "y"
        },
        {
         "alignmentgroup": "True",
         "customdata": [
          [
           "22--Beverages, Spirits And Vinegar"
          ],
          [
           "22--Beverages, Spirits And Vinegar"
          ],
          [
           "22--Beverages, Spirits And Vinegar"
          ],
          [
           "22--Beverages, Spirits And Vinegar"
          ],
          [
           "22--Beverages, Spirits And Vinegar"
          ],
          [
           "22--Beverages, Spirits And Vinegar"
          ],
          [
           "22--Beverages, Spirits And Vinegar"
          ],
          [
           "22--Beverages, Spirits And Vinegar"
          ],
          [
           "22--Beverages, Spirits And Vinegar"
          ],
          [
           "22--Beverages, Spirits And Vinegar"
          ]
         ],
         "hovertemplate": "Product=%{customdata[0]}<br>value=%{x}<extra></extra>",
         "legendgroup": "22--Beverages, Spirits And Vinegar",
         "marker": {
          "color": "#B6E880",
          "pattern": {
           "shape": ""
          }
         },
         "name": "22--Beverages, Spirits And Vinegar",
         "offsetgroup": "22--Beverages, Spirits And Vinegar",
         "orientation": "h",
         "showlegend": true,
         "textposition": "auto",
         "type": "bar",
         "x": [
          62,
          72,
          91,
          80,
          70,
          65,
          76,
          72,
          83,
          95
         ],
         "xaxis": "x",
         "y": [
          "2013",
          "2014",
          "2015",
          "2016",
          "2017",
          "2018",
          "2019",
          "2020",
          "2021",
          "2022"
         ],
         "yaxis": "y"
        },
        {
         "alignmentgroup": "True",
         "customdata": [
          [
           "26--Ores, Slag And Ash"
          ],
          [
           "26--Ores, Slag And Ash"
          ],
          [
           "26--Ores, Slag And Ash"
          ],
          [
           "26--Ores, Slag And Ash"
          ],
          [
           "26--Ores, Slag And Ash"
          ],
          [
           "26--Ores, Slag And Ash"
          ],
          [
           "26--Ores, Slag And Ash"
          ],
          [
           "26--Ores, Slag And Ash"
          ],
          [
           "26--Ores, Slag And Ash"
          ],
          [
           "26--Ores, Slag And Ash"
          ]
         ],
         "hovertemplate": "Product=%{customdata[0]}<br>value=%{x}<extra></extra>",
         "legendgroup": "26--Ores, Slag And Ash",
         "marker": {
          "color": "#FF97FF",
          "pattern": {
           "shape": ""
          }
         },
         "name": "26--Ores, Slag And Ash",
         "offsetgroup": "26--Ores, Slag And Ash",
         "orientation": "h",
         "showlegend": true,
         "textposition": "auto",
         "type": "bar",
         "x": [
          12,
          7,
          8,
          10,
          6,
          5,
          50,
          112,
          128,
          93
         ],
         "xaxis": "x",
         "y": [
          "2013",
          "2014",
          "2015",
          "2016",
          "2017",
          "2018",
          "2019",
          "2020",
          "2021",
          "2022"
         ],
         "yaxis": "y"
        },
        {
         "alignmentgroup": "True",
         "customdata": [
          [
           "40--Rubber & Articles Thereof"
          ],
          [
           "40--Rubber & Articles Thereof"
          ],
          [
           "40--Rubber & Articles Thereof"
          ],
          [
           "40--Rubber & Articles Thereof"
          ],
          [
           "40--Rubber & Articles Thereof"
          ],
          [
           "40--Rubber & Articles Thereof"
          ],
          [
           "40--Rubber & Articles Thereof"
          ],
          [
           "40--Rubber & Articles Thereof"
          ],
          [
           "40--Rubber & Articles Thereof"
          ],
          [
           "40--Rubber & Articles Thereof"
          ]
         ],
         "hovertemplate": "Product=%{customdata[0]}<br>value=%{x}<extra></extra>",
         "legendgroup": "40--Rubber & Articles Thereof",
         "marker": {
          "color": "#FECB52",
          "pattern": {
           "shape": ""
          }
         },
         "name": "40--Rubber & Articles Thereof",
         "offsetgroup": "40--Rubber & Articles Thereof",
         "orientation": "h",
         "showlegend": true,
         "textposition": "auto",
         "type": "bar",
         "x": [
          89,
          100,
          68,
          66,
          71,
          75,
          81,
          90,
          90,
          90
         ],
         "xaxis": "x",
         "y": [
          "2013",
          "2014",
          "2015",
          "2016",
          "2017",
          "2018",
          "2019",
          "2020",
          "2021",
          "2022"
         ],
         "yaxis": "y"
        },
        {
         "alignmentgroup": "True",
         "customdata": [
          [
           "52--Cotton, Including Yarn"
          ],
          [
           "52--Cotton, Including Yarn"
          ],
          [
           "52--Cotton, Including Yarn"
          ],
          [
           "52--Cotton, Including Yarn"
          ],
          [
           "52--Cotton, Including Yarn"
          ],
          [
           "52--Cotton, Including Yarn"
          ],
          [
           "52--Cotton, Including Yarn"
          ],
          [
           "52--Cotton, Including Yarn"
          ],
          [
           "52--Cotton, Including Yarn"
          ],
          [
           "52--Cotton, Including Yarn"
          ]
         ],
         "hovertemplate": "Product=%{customdata[0]}<br>value=%{x}<extra></extra>",
         "legendgroup": "52--Cotton, Including Yarn",
         "marker": {
          "color": "#636efa",
          "pattern": {
           "shape": ""
          }
         },
         "name": "52--Cotton, Including Yarn",
         "offsetgroup": "52--Cotton, Including Yarn",
         "orientation": "h",
         "showlegend": true,
         "textposition": "auto",
         "type": "bar",
         "x": [
          128,
          129,
          115,
          120,
          137,
          174,
          131,
          58,
          63,
          84
         ],
         "xaxis": "x",
         "y": [
          "2013",
          "2014",
          "2015",
          "2016",
          "2017",
          "2018",
          "2019",
          "2020",
          "2021",
          "2022"
         ],
         "yaxis": "y"
        },
        {
         "alignmentgroup": "True",
         "customdata": [
          [
           "70--Glass And Glassware"
          ],
          [
           "70--Glass And Glassware"
          ],
          [
           "70--Glass And Glassware"
          ],
          [
           "70--Glass And Glassware"
          ],
          [
           "70--Glass And Glassware"
          ],
          [
           "70--Glass And Glassware"
          ],
          [
           "70--Glass And Glassware"
          ],
          [
           "70--Glass And Glassware"
          ],
          [
           "70--Glass And Glassware"
          ],
          [
           "70--Glass And Glassware"
          ]
         ],
         "hovertemplate": "Product=%{customdata[0]}<br>value=%{x}<extra></extra>",
         "legendgroup": "70--Glass And Glassware",
         "marker": {
          "color": "#EF553B",
          "pattern": {
           "shape": ""
          }
         },
         "name": "70--Glass And Glassware",
         "offsetgroup": "70--Glass And Glassware",
         "orientation": "h",
         "showlegend": true,
         "textposition": "auto",
         "type": "bar",
         "x": [
          73,
          71,
          66,
          71,
          64,
          66,
          57,
          59,
          71,
          79
         ],
         "xaxis": "x",
         "y": [
          "2013",
          "2014",
          "2015",
          "2016",
          "2017",
          "2018",
          "2019",
          "2020",
          "2021",
          "2022"
         ],
         "yaxis": "y"
        },
        {
         "alignmentgroup": "True",
         "customdata": [
          [
           "35--Albuminoidal Subst; Modified Starch"
          ],
          [
           "35--Albuminoidal Subst; Modified Starch"
          ],
          [
           "35--Albuminoidal Subst; Modified Starch"
          ],
          [
           "35--Albuminoidal Subst; Modified Starch"
          ],
          [
           "35--Albuminoidal Subst; Modified Starch"
          ],
          [
           "35--Albuminoidal Subst; Modified Starch"
          ],
          [
           "35--Albuminoidal Subst; Modified Starch"
          ],
          [
           "35--Albuminoidal Subst; Modified Starch"
          ],
          [
           "35--Albuminoidal Subst; Modified Starch"
          ],
          [
           "35--Albuminoidal Subst; Modified Starch"
          ]
         ],
         "hovertemplate": "Product=%{customdata[0]}<br>value=%{x}<extra></extra>",
         "legendgroup": "35--Albuminoidal Subst; Modified Starch",
         "marker": {
          "color": "#00cc96",
          "pattern": {
           "shape": ""
          }
         },
         "name": "35--Albuminoidal Subst; Modified Starch",
         "offsetgroup": "35--Albuminoidal Subst; Modified Starch",
         "orientation": "h",
         "showlegend": true,
         "textposition": "auto",
         "type": "bar",
         "x": [
          58,
          53,
          40,
          39,
          41,
          46,
          42,
          44,
          56,
          70
         ],
         "xaxis": "x",
         "y": [
          "2013",
          "2014",
          "2015",
          "2016",
          "2017",
          "2018",
          "2019",
          "2020",
          "2021",
          "2022"
         ],
         "yaxis": "y"
        },
        {
         "alignmentgroup": "True",
         "customdata": [
          [
           "75--Nickel And Articles Thereof"
          ],
          [
           "75--Nickel And Articles Thereof"
          ],
          [
           "75--Nickel And Articles Thereof"
          ],
          [
           "75--Nickel And Articles Thereof"
          ],
          [
           "75--Nickel And Articles Thereof"
          ],
          [
           "75--Nickel And Articles Thereof"
          ],
          [
           "75--Nickel And Articles Thereof"
          ],
          [
           "75--Nickel And Articles Thereof"
          ],
          [
           "75--Nickel And Articles Thereof"
          ],
          [
           "75--Nickel And Articles Thereof"
          ]
         ],
         "hovertemplate": "Product=%{customdata[0]}<br>value=%{x}<extra></extra>",
         "legendgroup": "75--Nickel And Articles Thereof",
         "marker": {
          "color": "#ab63fa",
          "pattern": {
           "shape": ""
          }
         },
         "name": "75--Nickel And Articles Thereof",
         "offsetgroup": "75--Nickel And Articles Thereof",
         "orientation": "h",
         "showlegend": true,
         "textposition": "auto",
         "type": "bar",
         "x": [
          56,
          56,
          49,
          38,
          25,
          45,
          61,
          42,
          43,
          66
         ],
         "xaxis": "x",
         "y": [
          "2013",
          "2014",
          "2015",
          "2016",
          "2017",
          "2018",
          "2019",
          "2020",
          "2021",
          "2022"
         ],
         "yaxis": "y"
        },
        {
         "alignmentgroup": "True",
         "customdata": [
          [
           "07--Edible Vegetables & Certain Roots"
          ],
          [
           "07--Edible Vegetables & Certain Roots"
          ],
          [
           "07--Edible Vegetables & Certain Roots"
          ],
          [
           "07--Edible Vegetables & Certain Roots"
          ],
          [
           "07--Edible Vegetables & Certain Roots"
          ],
          [
           "07--Edible Vegetables & Certain Roots"
          ],
          [
           "07--Edible Vegetables & Certain Roots"
          ],
          [
           "07--Edible Vegetables & Certain Roots"
          ],
          [
           "07--Edible Vegetables & Certain Roots"
          ],
          [
           "07--Edible Vegetables & Certain Roots"
          ]
         ],
         "hovertemplate": "Product=%{customdata[0]}<br>value=%{x}<extra></extra>",
         "legendgroup": "07--Edible Vegetables & Certain Roots",
         "marker": {
          "color": "#FFA15A",
          "pattern": {
           "shape": ""
          }
         },
         "name": "07--Edible Vegetables & Certain Roots",
         "offsetgroup": "07--Edible Vegetables & Certain Roots",
         "orientation": "h",
         "showlegend": true,
         "textposition": "auto",
         "type": "bar",
         "x": [
          91,
          87,
          77,
          106,
          90,
          87,
          78,
          73,
          65,
          55
         ],
         "xaxis": "x",
         "y": [
          "2013",
          "2014",
          "2015",
          "2016",
          "2017",
          "2018",
          "2019",
          "2020",
          "2021",
          "2022"
         ],
         "yaxis": "y"
        },
        {
         "alignmentgroup": "True",
         "customdata": [
          [
           "25--Salt; Sulfur; Earth & Stone"
          ],
          [
           "25--Salt; Sulfur; Earth & Stone"
          ],
          [
           "25--Salt; Sulfur; Earth & Stone"
          ],
          [
           "25--Salt; Sulfur; Earth & Stone"
          ],
          [
           "25--Salt; Sulfur; Earth & Stone"
          ],
          [
           "25--Salt; Sulfur; Earth & Stone"
          ],
          [
           "25--Salt; Sulfur; Earth & Stone"
          ],
          [
           "25--Salt; Sulfur; Earth & Stone"
          ],
          [
           "25--Salt; Sulfur; Earth & Stone"
          ],
          [
           "25--Salt; Sulfur; Earth & Stone"
          ]
         ],
         "hovertemplate": "Product=%{customdata[0]}<br>value=%{x}<extra></extra>",
         "legendgroup": "25--Salt; Sulfur; Earth & Stone",
         "marker": {
          "color": "#19d3f3",
          "pattern": {
           "shape": ""
          }
         },
         "name": "25--Salt; Sulfur; Earth & Stone",
         "offsetgroup": "25--Salt; Sulfur; Earth & Stone",
         "orientation": "h",
         "showlegend": true,
         "textposition": "auto",
         "type": "bar",
         "x": [
          49,
          51,
          41,
          38,
          48,
          47,
          40,
          37,
          51,
          54
         ],
         "xaxis": "x",
         "y": [
          "2013",
          "2014",
          "2015",
          "2016",
          "2017",
          "2018",
          "2019",
          "2020",
          "2021",
          "2022"
         ],
         "yaxis": "y"
        },
        {
         "alignmentgroup": "True",
         "customdata": [
          [
           "94--Furniture; Bedding"
          ],
          [
           "94--Furniture; Bedding"
          ],
          [
           "94--Furniture; Bedding"
          ],
          [
           "94--Furniture; Bedding"
          ],
          [
           "94--Furniture; Bedding"
          ],
          [
           "94--Furniture; Bedding"
          ],
          [
           "94--Furniture; Bedding"
          ],
          [
           "94--Furniture; Bedding"
          ],
          [
           "94--Furniture; Bedding"
          ],
          [
           "94--Furniture; Bedding"
          ]
         ],
         "hovertemplate": "Product=%{customdata[0]}<br>value=%{x}<extra></extra>",
         "legendgroup": "94--Furniture; Bedding",
         "marker": {
          "color": "#FF6692",
          "pattern": {
           "shape": ""
          }
         },
         "name": "94--Furniture; Bedding",
         "offsetgroup": "94--Furniture; Bedding",
         "orientation": "h",
         "showlegend": true,
         "textposition": "auto",
         "type": "bar",
         "x": [
          32,
          32,
          35,
          33,
          42,
          34,
          43,
          41,
          30,
          50
         ],
         "xaxis": "x",
         "y": [
          "2013",
          "2014",
          "2015",
          "2016",
          "2017",
          "2018",
          "2019",
          "2020",
          "2021",
          "2022"
         ],
         "yaxis": "y"
        },
        {
         "alignmentgroup": "True",
         "customdata": [
          [
           "31--Fertilizers"
          ],
          [
           "31--Fertilizers"
          ],
          [
           "31--Fertilizers"
          ],
          [
           "31--Fertilizers"
          ],
          [
           "31--Fertilizers"
          ],
          [
           "31--Fertilizers"
          ],
          [
           "31--Fertilizers"
          ],
          [
           "31--Fertilizers"
          ],
          [
           "31--Fertilizers"
          ],
          [
           "31--Fertilizers"
          ]
         ],
         "hovertemplate": "Product=%{customdata[0]}<br>value=%{x}<extra></extra>",
         "legendgroup": "31--Fertilizers",
         "marker": {
          "color": "#B6E880",
          "pattern": {
           "shape": ""
          }
         },
         "name": "31--Fertilizers",
         "offsetgroup": "31--Fertilizers",
         "orientation": "h",
         "showlegend": true,
         "textposition": "auto",
         "type": "bar",
         "x": [
          53,
          63,
          63,
          33,
          44,
          51,
          57,
          41,
          60,
          49
         ],
         "xaxis": "x",
         "y": [
          "2013",
          "2014",
          "2015",
          "2016",
          "2017",
          "2018",
          "2019",
          "2020",
          "2021",
          "2022"
         ],
         "yaxis": "y"
        },
        {
         "alignmentgroup": "True",
         "customdata": [
          [
           "49--Printed Books, Newspapers"
          ],
          [
           "49--Printed Books, Newspapers"
          ],
          [
           "49--Printed Books, Newspapers"
          ],
          [
           "49--Printed Books, Newspapers"
          ],
          [
           "49--Printed Books, Newspapers"
          ],
          [
           "49--Printed Books, Newspapers"
          ],
          [
           "49--Printed Books, Newspapers"
          ],
          [
           "49--Printed Books, Newspapers"
          ],
          [
           "49--Printed Books, Newspapers"
          ],
          [
           "49--Printed Books, Newspapers"
          ]
         ],
         "hovertemplate": "Product=%{customdata[0]}<br>value=%{x}<extra></extra>",
         "legendgroup": "49--Printed Books, Newspapers",
         "marker": {
          "color": "#FF97FF",
          "pattern": {
           "shape": ""
          }
         },
         "name": "49--Printed Books, Newspapers",
         "offsetgroup": "49--Printed Books, Newspapers",
         "orientation": "h",
         "showlegend": true,
         "textposition": "auto",
         "type": "bar",
         "x": [
          50,
          43,
          33,
          29,
          31,
          39,
          31,
          38,
          41,
          44
         ],
         "xaxis": "x",
         "y": [
          "2013",
          "2014",
          "2015",
          "2016",
          "2017",
          "2018",
          "2019",
          "2020",
          "2021",
          "2022"
         ],
         "yaxis": "y"
        },
        {
         "alignmentgroup": "True",
         "customdata": [
          [
           "81--Base Metals Nesoi; Cermets"
          ],
          [
           "81--Base Metals Nesoi; Cermets"
          ],
          [
           "81--Base Metals Nesoi; Cermets"
          ],
          [
           "81--Base Metals Nesoi; Cermets"
          ],
          [
           "81--Base Metals Nesoi; Cermets"
          ],
          [
           "81--Base Metals Nesoi; Cermets"
          ],
          [
           "81--Base Metals Nesoi; Cermets"
          ],
          [
           "81--Base Metals Nesoi; Cermets"
          ],
          [
           "81--Base Metals Nesoi; Cermets"
          ],
          [
           "81--Base Metals Nesoi; Cermets"
          ]
         ],
         "hovertemplate": "Product=%{customdata[0]}<br>value=%{x}<extra></extra>",
         "legendgroup": "81--Base Metals Nesoi; Cermets",
         "marker": {
          "color": "#FECB52",
          "pattern": {
           "shape": ""
          }
         },
         "name": "81--Base Metals Nesoi; Cermets",
         "offsetgroup": "81--Base Metals Nesoi; Cermets",
         "orientation": "h",
         "showlegend": true,
         "textposition": "auto",
         "type": "bar",
         "x": [
          37,
          37,
          34,
          27,
          25,
          29,
          31,
          36,
          33,
          43
         ],
         "xaxis": "x",
         "y": [
          "2013",
          "2014",
          "2015",
          "2016",
          "2017",
          "2018",
          "2019",
          "2020",
          "2021",
          "2022"
         ],
         "yaxis": "y"
        },
        {
         "alignmentgroup": "True",
         "customdata": [
          [
           "95--Toys, Games & Sport Equipment"
          ],
          [
           "95--Toys, Games & Sport Equipment"
          ],
          [
           "95--Toys, Games & Sport Equipment"
          ],
          [
           "95--Toys, Games & Sport Equipment"
          ],
          [
           "95--Toys, Games & Sport Equipment"
          ],
          [
           "95--Toys, Games & Sport Equipment"
          ],
          [
           "95--Toys, Games & Sport Equipment"
          ],
          [
           "95--Toys, Games & Sport Equipment"
          ],
          [
           "95--Toys, Games & Sport Equipment"
          ],
          [
           "95--Toys, Games & Sport Equipment"
          ]
         ],
         "hovertemplate": "Product=%{customdata[0]}<br>value=%{x}<extra></extra>",
         "legendgroup": "95--Toys, Games & Sport Equipment",
         "marker": {
          "color": "#636efa",
          "pattern": {
           "shape": ""
          }
         },
         "name": "95--Toys, Games & Sport Equipment",
         "offsetgroup": "95--Toys, Games & Sport Equipment",
         "orientation": "h",
         "showlegend": true,
         "textposition": "auto",
         "type": "bar",
         "x": [
          28,
          36,
          27,
          30,
          36,
          30,
          30,
          39,
          37,
          38
         ],
         "xaxis": "x",
         "y": [
          "2013",
          "2014",
          "2015",
          "2016",
          "2017",
          "2018",
          "2019",
          "2020",
          "2021",
          "2022"
         ],
         "yaxis": "y"
        },
        {
         "alignmentgroup": "True",
         "customdata": [
          [
           "09--Coffee, Tea, Mate & Spices"
          ],
          [
           "09--Coffee, Tea, Mate & Spices"
          ],
          [
           "09--Coffee, Tea, Mate & Spices"
          ],
          [
           "09--Coffee, Tea, Mate & Spices"
          ],
          [
           "09--Coffee, Tea, Mate & Spices"
          ],
          [
           "09--Coffee, Tea, Mate & Spices"
          ],
          [
           "09--Coffee, Tea, Mate & Spices"
          ],
          [
           "09--Coffee, Tea, Mate & Spices"
          ],
          [
           "09--Coffee, Tea, Mate & Spices"
          ],
          [
           "09--Coffee, Tea, Mate & Spices"
          ]
         ],
         "hovertemplate": "Product=%{customdata[0]}<br>value=%{x}<extra></extra>",
         "legendgroup": "09--Coffee, Tea, Mate & Spices",
         "marker": {
          "color": "#EF553B",
          "pattern": {
           "shape": ""
          }
         },
         "name": "09--Coffee, Tea, Mate & Spices",
         "offsetgroup": "09--Coffee, Tea, Mate & Spices",
         "orientation": "h",
         "showlegend": true,
         "textposition": "auto",
         "type": "bar",
         "x": [
          12,
          17,
          23,
          18,
          24,
          26,
          30,
          32,
          29,
          33
         ],
         "xaxis": "x",
         "y": [
          "2013",
          "2014",
          "2015",
          "2016",
          "2017",
          "2018",
          "2019",
          "2020",
          "2021",
          "2022"
         ],
         "yaxis": "y"
        },
        {
         "alignmentgroup": "True",
         "customdata": [
          [
           "44--Wood & Articles Of Wood"
          ],
          [
           "44--Wood & Articles Of Wood"
          ],
          [
           "44--Wood & Articles Of Wood"
          ],
          [
           "44--Wood & Articles Of Wood"
          ],
          [
           "44--Wood & Articles Of Wood"
          ],
          [
           "44--Wood & Articles Of Wood"
          ],
          [
           "44--Wood & Articles Of Wood"
          ],
          [
           "44--Wood & Articles Of Wood"
          ],
          [
           "44--Wood & Articles Of Wood"
          ],
          [
           "44--Wood & Articles Of Wood"
          ]
         ],
         "hovertemplate": "Product=%{customdata[0]}<br>value=%{x}<extra></extra>",
         "legendgroup": "44--Wood & Articles Of Wood",
         "marker": {
          "color": "#00cc96",
          "pattern": {
           "shape": ""
          }
         },
         "name": "44--Wood & Articles Of Wood",
         "offsetgroup": "44--Wood & Articles Of Wood",
         "orientation": "h",
         "showlegend": true,
         "textposition": "auto",
         "type": "bar",
         "x": [
          86,
          87,
          66,
          63,
          56,
          63,
          44,
          31,
          36,
          28
         ],
         "xaxis": "x",
         "y": [
          "2013",
          "2014",
          "2015",
          "2016",
          "2017",
          "2018",
          "2019",
          "2020",
          "2021",
          "2022"
         ],
         "yaxis": "y"
        },
        {
         "alignmentgroup": "True",
         "customdata": [
          [
           "83--Miscellaneous Articles Of Base Metal"
          ],
          [
           "83--Miscellaneous Articles Of Base Metal"
          ],
          [
           "83--Miscellaneous Articles Of Base Metal"
          ],
          [
           "83--Miscellaneous Articles Of Base Metal"
          ],
          [
           "83--Miscellaneous Articles Of Base Metal"
          ],
          [
           "83--Miscellaneous Articles Of Base Metal"
          ],
          [
           "83--Miscellaneous Articles Of Base Metal"
          ],
          [
           "83--Miscellaneous Articles Of Base Metal"
          ],
          [
           "83--Miscellaneous Articles Of Base Metal"
          ],
          [
           "83--Miscellaneous Articles Of Base Metal"
          ]
         ],
         "hovertemplate": "Product=%{customdata[0]}<br>value=%{x}<extra></extra>",
         "legendgroup": "83--Miscellaneous Articles Of Base Metal",
         "marker": {
          "color": "#ab63fa",
          "pattern": {
           "shape": ""
          }
         },
         "name": "83--Miscellaneous Articles Of Base Metal",
         "offsetgroup": "83--Miscellaneous Articles Of Base Metal",
         "orientation": "h",
         "showlegend": true,
         "textposition": "auto",
         "type": "bar",
         "x": [
          14,
          17,
          13,
          16,
          17,
          19,
          22,
          22,
          30,
          28
         ],
         "xaxis": "x",
         "y": [
          "2013",
          "2014",
          "2015",
          "2016",
          "2017",
          "2018",
          "2019",
          "2020",
          "2021",
          "2022"
         ],
         "yaxis": "y"
        },
        {
         "alignmentgroup": "True",
         "customdata": [
          [
           "03--Fish & Aquatic Invertebrates"
          ],
          [
           "03--Fish & Aquatic Invertebrates"
          ],
          [
           "03--Fish & Aquatic Invertebrates"
          ],
          [
           "03--Fish & Aquatic Invertebrates"
          ],
          [
           "03--Fish & Aquatic Invertebrates"
          ],
          [
           "03--Fish & Aquatic Invertebrates"
          ],
          [
           "03--Fish & Aquatic Invertebrates"
          ],
          [
           "03--Fish & Aquatic Invertebrates"
          ],
          [
           "03--Fish & Aquatic Invertebrates"
          ],
          [
           "03--Fish & Aquatic Invertebrates"
          ]
         ],
         "hovertemplate": "Product=%{customdata[0]}<br>value=%{x}<extra></extra>",
         "legendgroup": "03--Fish & Aquatic Invertebrates",
         "marker": {
          "color": "#FFA15A",
          "pattern": {
           "shape": ""
          }
         },
         "name": "03--Fish & Aquatic Invertebrates",
         "offsetgroup": "03--Fish & Aquatic Invertebrates",
         "orientation": "h",
         "showlegend": true,
         "textposition": "auto",
         "type": "bar",
         "x": [
          41,
          42,
          50,
          38,
          29,
          39,
          37,
          29,
          29,
          27
         ],
         "xaxis": "x",
         "y": [
          "2013",
          "2014",
          "2015",
          "2016",
          "2017",
          "2018",
          "2019",
          "2020",
          "2021",
          "2022"
         ],
         "yaxis": "y"
        },
        {
         "alignmentgroup": "True",
         "customdata": [
          [
           "18--Cocoa And Cocoa Preparations"
          ],
          [
           "18--Cocoa And Cocoa Preparations"
          ],
          [
           "18--Cocoa And Cocoa Preparations"
          ],
          [
           "18--Cocoa And Cocoa Preparations"
          ],
          [
           "18--Cocoa And Cocoa Preparations"
          ],
          [
           "18--Cocoa And Cocoa Preparations"
          ],
          [
           "18--Cocoa And Cocoa Preparations"
          ],
          [
           "18--Cocoa And Cocoa Preparations"
          ],
          [
           "18--Cocoa And Cocoa Preparations"
          ],
          [
           "18--Cocoa And Cocoa Preparations"
          ]
         ],
         "hovertemplate": "Product=%{customdata[0]}<br>value=%{x}<extra></extra>",
         "legendgroup": "18--Cocoa And Cocoa Preparations",
         "marker": {
          "color": "#19d3f3",
          "pattern": {
           "shape": ""
          }
         },
         "name": "18--Cocoa And Cocoa Preparations",
         "offsetgroup": "18--Cocoa And Cocoa Preparations",
         "orientation": "h",
         "showlegend": true,
         "textposition": "auto",
         "type": "bar",
         "x": [
          23,
          27,
          27,
          25,
          26,
          29,
          31,
          26,
          32,
          27
         ],
         "xaxis": "x",
         "y": [
          "2013",
          "2014",
          "2015",
          "2016",
          "2017",
          "2018",
          "2019",
          "2020",
          "2021",
          "2022"
         ],
         "yaxis": "y"
        },
        {
         "alignmentgroup": "True",
         "customdata": [
          [
           "56--Wadding, Felt"
          ],
          [
           "56--Wadding, Felt"
          ],
          [
           "56--Wadding, Felt"
          ],
          [
           "56--Wadding, Felt"
          ],
          [
           "56--Wadding, Felt"
          ],
          [
           "56--Wadding, Felt"
          ],
          [
           "56--Wadding, Felt"
          ],
          [
           "56--Wadding, Felt"
          ],
          [
           "56--Wadding, Felt"
          ],
          [
           "56--Wadding, Felt"
          ]
         ],
         "hovertemplate": "Product=%{customdata[0]}<br>value=%{x}<extra></extra>",
         "legendgroup": "56--Wadding, Felt",
         "marker": {
          "color": "#FF6692",
          "pattern": {
           "shape": ""
          }
         },
         "name": "56--Wadding, Felt",
         "offsetgroup": "56--Wadding, Felt",
         "orientation": "h",
         "showlegend": true,
         "textposition": "auto",
         "type": "bar",
         "x": [
          25,
          36,
          17,
          17,
          19,
          16,
          12,
          16,
          30,
          26
         ],
         "xaxis": "x",
         "y": [
          "2013",
          "2014",
          "2015",
          "2016",
          "2017",
          "2018",
          "2019",
          "2020",
          "2021",
          "2022"
         ],
         "yaxis": "y"
        },
        {
         "alignmentgroup": "True",
         "customdata": [
          [
           "79--Zinc And Articles Thereof"
          ],
          [
           "79--Zinc And Articles Thereof"
          ],
          [
           "79--Zinc And Articles Thereof"
          ],
          [
           "79--Zinc And Articles Thereof"
          ],
          [
           "79--Zinc And Articles Thereof"
          ],
          [
           "79--Zinc And Articles Thereof"
          ],
          [
           "79--Zinc And Articles Thereof"
          ],
          [
           "79--Zinc And Articles Thereof"
          ],
          [
           "79--Zinc And Articles Thereof"
          ],
          [
           "79--Zinc And Articles Thereof"
          ]
         ],
         "hovertemplate": "Product=%{customdata[0]}<br>value=%{x}<extra></extra>",
         "legendgroup": "79--Zinc And Articles Thereof",
         "marker": {
          "color": "#B6E880",
          "pattern": {
           "shape": ""
          }
         },
         "name": "79--Zinc And Articles Thereof",
         "offsetgroup": "79--Zinc And Articles Thereof",
         "orientation": "h",
         "showlegend": true,
         "textposition": "auto",
         "type": "bar",
         "x": [
          6,
          4,
          6,
          40,
          39,
          13,
          10,
          5,
          16,
          23
         ],
         "xaxis": "x",
         "y": [
          "2013",
          "2014",
          "2015",
          "2016",
          "2017",
          "2018",
          "2019",
          "2020",
          "2021",
          "2022"
         ],
         "yaxis": "y"
        },
        {
         "alignmentgroup": "True",
         "customdata": [
          [
           "19--Prep Cereal, Flour, Starch"
          ],
          [
           "19--Prep Cereal, Flour, Starch"
          ],
          [
           "19--Prep Cereal, Flour, Starch"
          ],
          [
           "19--Prep Cereal, Flour, Starch"
          ],
          [
           "19--Prep Cereal, Flour, Starch"
          ],
          [
           "19--Prep Cereal, Flour, Starch"
          ],
          [
           "19--Prep Cereal, Flour, Starch"
          ],
          [
           "19--Prep Cereal, Flour, Starch"
          ],
          [
           "19--Prep Cereal, Flour, Starch"
          ],
          [
           "19--Prep Cereal, Flour, Starch"
          ]
         ],
         "hovertemplate": "Product=%{customdata[0]}<br>value=%{x}<extra></extra>",
         "legendgroup": "19--Prep Cereal, Flour, Starch",
         "marker": {
          "color": "#FF97FF",
          "pattern": {
           "shape": ""
          }
         },
         "name": "19--Prep Cereal, Flour, Starch",
         "offsetgroup": "19--Prep Cereal, Flour, Starch",
         "orientation": "h",
         "showlegend": true,
         "textposition": "auto",
         "type": "bar",
         "x": [
          39,
          46,
          36,
          28,
          24,
          21,
          21,
          19,
          22,
          20
         ],
         "xaxis": "x",
         "y": [
          "2013",
          "2014",
          "2015",
          "2016",
          "2017",
          "2018",
          "2019",
          "2020",
          "2021",
          "2022"
         ],
         "yaxis": "y"
        },
        {
         "alignmentgroup": "True",
         "customdata": [
          [
           "41--Raw Hides & Skins & Leather"
          ],
          [
           "41--Raw Hides & Skins & Leather"
          ],
          [
           "41--Raw Hides & Skins & Leather"
          ],
          [
           "41--Raw Hides & Skins & Leather"
          ],
          [
           "41--Raw Hides & Skins & Leather"
          ],
          [
           "41--Raw Hides & Skins & Leather"
          ],
          [
           "41--Raw Hides & Skins & Leather"
          ],
          [
           "41--Raw Hides & Skins & Leather"
          ],
          [
           "41--Raw Hides & Skins & Leather"
          ],
          [
           "41--Raw Hides & Skins & Leather"
          ]
         ],
         "hovertemplate": "Product=%{customdata[0]}<br>value=%{x}<extra></extra>",
         "legendgroup": "41--Raw Hides & Skins & Leather",
         "marker": {
          "color": "#FECB52",
          "pattern": {
           "shape": ""
          }
         },
         "name": "41--Raw Hides & Skins & Leather",
         "offsetgroup": "41--Raw Hides & Skins & Leather",
         "orientation": "h",
         "showlegend": true,
         "textposition": "auto",
         "type": "bar",
         "x": [
          184,
          203,
          136,
          68,
          77,
          46,
          36,
          14,
          28,
          18
         ],
         "xaxis": "x",
         "y": [
          "2013",
          "2014",
          "2015",
          "2016",
          "2017",
          "2018",
          "2019",
          "2020",
          "2021",
          "2022"
         ],
         "yaxis": "y"
        },
        {
         "alignmentgroup": "True",
         "customdata": [
          [
           "82--Tools, Cutlery Etc. Of Base Metal"
          ],
          [
           "82--Tools, Cutlery Etc. Of Base Metal"
          ],
          [
           "82--Tools, Cutlery Etc. Of Base Metal"
          ],
          [
           "82--Tools, Cutlery Etc. Of Base Metal"
          ],
          [
           "82--Tools, Cutlery Etc. Of Base Metal"
          ],
          [
           "82--Tools, Cutlery Etc. Of Base Metal"
          ],
          [
           "82--Tools, Cutlery Etc. Of Base Metal"
          ],
          [
           "82--Tools, Cutlery Etc. Of Base Metal"
          ],
          [
           "82--Tools, Cutlery Etc. Of Base Metal"
          ],
          [
           "82--Tools, Cutlery Etc. Of Base Metal"
          ]
         ],
         "hovertemplate": "Product=%{customdata[0]}<br>value=%{x}<extra></extra>",
         "legendgroup": "82--Tools, Cutlery Etc. Of Base Metal",
         "marker": {
          "color": "#636efa",
          "pattern": {
           "shape": ""
          }
         },
         "name": "82--Tools, Cutlery Etc. Of Base Metal",
         "offsetgroup": "82--Tools, Cutlery Etc. Of Base Metal",
         "orientation": "h",
         "showlegend": true,
         "textposition": "auto",
         "type": "bar",
         "x": [
          18,
          19,
          15,
          17,
          18,
          17,
          19,
          16,
          16,
          18
         ],
         "xaxis": "x",
         "y": [
          "2013",
          "2014",
          "2015",
          "2016",
          "2017",
          "2018",
          "2019",
          "2020",
          "2021",
          "2022"
         ],
         "yaxis": "y"
        },
        {
         "alignmentgroup": "True",
         "customdata": [
          [
           "36--Explosives; Pyrotechnics"
          ],
          [
           "36--Explosives; Pyrotechnics"
          ],
          [
           "36--Explosives; Pyrotechnics"
          ],
          [
           "36--Explosives; Pyrotechnics"
          ],
          [
           "36--Explosives; Pyrotechnics"
          ],
          [
           "36--Explosives; Pyrotechnics"
          ],
          [
           "36--Explosives; Pyrotechnics"
          ],
          [
           "36--Explosives; Pyrotechnics"
          ],
          [
           "36--Explosives; Pyrotechnics"
          ],
          [
           "36--Explosives; Pyrotechnics"
          ]
         ],
         "hovertemplate": "Product=%{customdata[0]}<br>value=%{x}<extra></extra>",
         "legendgroup": "36--Explosives; Pyrotechnics",
         "marker": {
          "color": "#EF553B",
          "pattern": {
           "shape": ""
          }
         },
         "name": "36--Explosives; Pyrotechnics",
         "offsetgroup": "36--Explosives; Pyrotechnics",
         "orientation": "h",
         "showlegend": true,
         "textposition": "auto",
         "type": "bar",
         "x": [
          4,
          3,
          7,
          7,
          5,
          9,
          9,
          6,
          13,
          17
         ],
         "xaxis": "x",
         "y": [
          "2013",
          "2014",
          "2015",
          "2016",
          "2017",
          "2018",
          "2019",
          "2020",
          "2021",
          "2022"
         ],
         "yaxis": "y"
        },
        {
         "alignmentgroup": "True",
         "customdata": [
          [
           "54--Manmade Filaments, Including Yarns"
          ],
          [
           "54--Manmade Filaments, Including Yarns"
          ],
          [
           "54--Manmade Filaments, Including Yarns"
          ],
          [
           "54--Manmade Filaments, Including Yarns"
          ],
          [
           "54--Manmade Filaments, Including Yarns"
          ],
          [
           "54--Manmade Filaments, Including Yarns"
          ],
          [
           "54--Manmade Filaments, Including Yarns"
          ],
          [
           "54--Manmade Filaments, Including Yarns"
          ],
          [
           "54--Manmade Filaments, Including Yarns"
          ],
          [
           "54--Manmade Filaments, Including Yarns"
          ]
         ],
         "hovertemplate": "Product=%{customdata[0]}<br>value=%{x}<extra></extra>",
         "legendgroup": "54--Manmade Filaments, Including Yarns",
         "marker": {
          "color": "#00cc96",
          "pattern": {
           "shape": ""
          }
         },
         "name": "54--Manmade Filaments, Including Yarns",
         "offsetgroup": "54--Manmade Filaments, Including Yarns",
         "orientation": "h",
         "showlegend": true,
         "textposition": "auto",
         "type": "bar",
         "x": [
          16,
          6,
          8,
          8,
          19,
          9,
          17,
          12,
          17,
          16
         ],
         "xaxis": "x",
         "y": [
          "2013",
          "2014",
          "2015",
          "2016",
          "2017",
          "2018",
          "2019",
          "2020",
          "2021",
          "2022"
         ],
         "yaxis": "y"
        },
        {
         "alignmentgroup": "True",
         "customdata": [
          [
           "15--Animal Or Vegetable Fats, Oils"
          ],
          [
           "15--Animal Or Vegetable Fats, Oils"
          ],
          [
           "15--Animal Or Vegetable Fats, Oils"
          ],
          [
           "15--Animal Or Vegetable Fats, Oils"
          ],
          [
           "15--Animal Or Vegetable Fats, Oils"
          ],
          [
           "15--Animal Or Vegetable Fats, Oils"
          ],
          [
           "15--Animal Or Vegetable Fats, Oils"
          ],
          [
           "15--Animal Or Vegetable Fats, Oils"
          ],
          [
           "15--Animal Or Vegetable Fats, Oils"
          ],
          [
           "15--Animal Or Vegetable Fats, Oils"
          ]
         ],
         "hovertemplate": "Product=%{customdata[0]}<br>value=%{x}<extra></extra>",
         "legendgroup": "15--Animal Or Vegetable Fats, Oils",
         "marker": {
          "color": "#ab63fa",
          "pattern": {
           "shape": ""
          }
         },
         "name": "15--Animal Or Vegetable Fats, Oils",
         "offsetgroup": "15--Animal Or Vegetable Fats, Oils",
         "orientation": "h",
         "showlegend": true,
         "textposition": "auto",
         "type": "bar",
         "x": [
          13,
          14,
          13,
          14,
          19,
          18,
          16,
          14,
          16,
          15
         ],
         "xaxis": "x",
         "y": [
          "2013",
          "2014",
          "2015",
          "2016",
          "2017",
          "2018",
          "2019",
          "2020",
          "2021",
          "2022"
         ],
         "yaxis": "y"
        },
        {
         "alignmentgroup": "True",
         "customdata": [
          [
           "96--Miscellaneous Manufactured Articles"
          ],
          [
           "96--Miscellaneous Manufactured Articles"
          ],
          [
           "96--Miscellaneous Manufactured Articles"
          ],
          [
           "96--Miscellaneous Manufactured Articles"
          ],
          [
           "96--Miscellaneous Manufactured Articles"
          ],
          [
           "96--Miscellaneous Manufactured Articles"
          ],
          [
           "96--Miscellaneous Manufactured Articles"
          ],
          [
           "96--Miscellaneous Manufactured Articles"
          ],
          [
           "96--Miscellaneous Manufactured Articles"
          ],
          [
           "96--Miscellaneous Manufactured Articles"
          ]
         ],
         "hovertemplate": "Product=%{customdata[0]}<br>value=%{x}<extra></extra>",
         "legendgroup": "96--Miscellaneous Manufactured Articles",
         "marker": {
          "color": "#FFA15A",
          "pattern": {
           "shape": ""
          }
         },
         "name": "96--Miscellaneous Manufactured Articles",
         "offsetgroup": "96--Miscellaneous Manufactured Articles",
         "orientation": "h",
         "showlegend": true,
         "textposition": "auto",
         "type": "bar",
         "x": [
          11,
          14,
          11,
          10,
          11,
          12,
          10,
          13,
          12,
          15
         ],
         "xaxis": "x",
         "y": [
          "2013",
          "2014",
          "2015",
          "2016",
          "2017",
          "2018",
          "2019",
          "2020",
          "2021",
          "2022"
         ],
         "yaxis": "y"
        },
        {
         "alignmentgroup": "True",
         "customdata": [
          [
           "42--Leather Art; Saddlery"
          ],
          [
           "42--Leather Art; Saddlery"
          ],
          [
           "42--Leather Art; Saddlery"
          ],
          [
           "42--Leather Art; Saddlery"
          ],
          [
           "42--Leather Art; Saddlery"
          ],
          [
           "42--Leather Art; Saddlery"
          ],
          [
           "42--Leather Art; Saddlery"
          ],
          [
           "42--Leather Art; Saddlery"
          ],
          [
           "42--Leather Art; Saddlery"
          ],
          [
           "42--Leather Art; Saddlery"
          ]
         ],
         "hovertemplate": "Product=%{customdata[0]}<br>value=%{x}<extra></extra>",
         "legendgroup": "42--Leather Art; Saddlery",
         "marker": {
          "color": "#19d3f3",
          "pattern": {
           "shape": ""
          }
         },
         "name": "42--Leather Art; Saddlery",
         "offsetgroup": "42--Leather Art; Saddlery",
         "orientation": "h",
         "showlegend": true,
         "textposition": "auto",
         "type": "bar",
         "x": [
          11,
          11,
          11,
          8,
          7,
          7,
          7,
          5,
          12,
          15
         ],
         "xaxis": "x",
         "y": [
          "2013",
          "2014",
          "2015",
          "2016",
          "2017",
          "2018",
          "2019",
          "2020",
          "2021",
          "2022"
         ],
         "yaxis": "y"
        },
        {
         "alignmentgroup": "True",
         "customdata": [
          [
           "86--Railway Or Tramway Stock Etc"
          ],
          [
           "86--Railway Or Tramway Stock Etc"
          ],
          [
           "86--Railway Or Tramway Stock Etc"
          ],
          [
           "86--Railway Or Tramway Stock Etc"
          ],
          [
           "86--Railway Or Tramway Stock Etc"
          ],
          [
           "86--Railway Or Tramway Stock Etc"
          ],
          [
           "86--Railway Or Tramway Stock Etc"
          ],
          [
           "86--Railway Or Tramway Stock Etc"
          ],
          [
           "86--Railway Or Tramway Stock Etc"
          ],
          [
           "86--Railway Or Tramway Stock Etc"
          ]
         ],
         "hovertemplate": "Product=%{customdata[0]}<br>value=%{x}<extra></extra>",
         "legendgroup": "86--Railway Or Tramway Stock Etc",
         "marker": {
          "color": "#FF6692",
          "pattern": {
           "shape": ""
          }
         },
         "name": "86--Railway Or Tramway Stock Etc",
         "offsetgroup": "86--Railway Or Tramway Stock Etc",
         "orientation": "h",
         "showlegend": true,
         "textposition": "auto",
         "type": "bar",
         "x": [
          10,
          6,
          9,
          4,
          12,
          9,
          11,
          7,
          8,
          13
         ],
         "xaxis": "x",
         "y": [
          "2013",
          "2014",
          "2015",
          "2016",
          "2017",
          "2018",
          "2019",
          "2020",
          "2021",
          "2022"
         ],
         "yaxis": "y"
        },
        {
         "alignmentgroup": "True",
         "customdata": [
          [
           "17--Sugars And Sugar Confectionary"
          ],
          [
           "17--Sugars And Sugar Confectionary"
          ],
          [
           "17--Sugars And Sugar Confectionary"
          ],
          [
           "17--Sugars And Sugar Confectionary"
          ],
          [
           "17--Sugars And Sugar Confectionary"
          ],
          [
           "17--Sugars And Sugar Confectionary"
          ],
          [
           "17--Sugars And Sugar Confectionary"
          ],
          [
           "17--Sugars And Sugar Confectionary"
          ],
          [
           "17--Sugars And Sugar Confectionary"
          ],
          [
           "17--Sugars And Sugar Confectionary"
          ]
         ],
         "hovertemplate": "Product=%{customdata[0]}<br>value=%{x}<extra></extra>",
         "legendgroup": "17--Sugars And Sugar Confectionary",
         "marker": {
          "color": "#B6E880",
          "pattern": {
           "shape": ""
          }
         },
         "name": "17--Sugars And Sugar Confectionary",
         "offsetgroup": "17--Sugars And Sugar Confectionary",
         "orientation": "h",
         "showlegend": true,
         "textposition": "auto",
         "type": "bar",
         "x": [
          15,
          14,
          12,
          12,
          9,
          9,
          9,
          9,
          11,
          12
         ],
         "xaxis": "x",
         "y": [
          "2013",
          "2014",
          "2015",
          "2016",
          "2017",
          "2018",
          "2019",
          "2020",
          "2021",
          "2022"
         ],
         "yaxis": "y"
        },
        {
         "alignmentgroup": "True",
         "customdata": [
          [
           "80--Tin And Articles Thereof"
          ],
          [
           "80--Tin And Articles Thereof"
          ],
          [
           "80--Tin And Articles Thereof"
          ],
          [
           "80--Tin And Articles Thereof"
          ],
          [
           "80--Tin And Articles Thereof"
          ],
          [
           "80--Tin And Articles Thereof"
          ],
          [
           "80--Tin And Articles Thereof"
          ],
          [
           "80--Tin And Articles Thereof"
          ],
          [
           "80--Tin And Articles Thereof"
          ],
          [
           "80--Tin And Articles Thereof"
          ]
         ],
         "hovertemplate": "Product=%{customdata[0]}<br>value=%{x}<extra></extra>",
         "legendgroup": "80--Tin And Articles Thereof",
         "marker": {
          "color": "#FF97FF",
          "pattern": {
           "shape": ""
          }
         },
         "name": "80--Tin And Articles Thereof",
         "offsetgroup": "80--Tin And Articles Thereof",
         "orientation": "h",
         "showlegend": true,
         "textposition": "auto",
         "type": "bar",
         "x": [
          1,
          2,
          1,
          1,
          1,
          1,
          7,
          13,
          15,
          11
         ],
         "xaxis": "x",
         "y": [
          "2013",
          "2014",
          "2015",
          "2016",
          "2017",
          "2018",
          "2019",
          "2020",
          "2021",
          "2022"
         ],
         "yaxis": "y"
        },
        {
         "alignmentgroup": "True",
         "customdata": [
          [
           "61--Apparel Articles & Accessories"
          ],
          [
           "61--Apparel Articles & Accessories"
          ],
          [
           "61--Apparel Articles & Accessories"
          ],
          [
           "61--Apparel Articles & Accessories"
          ],
          [
           "61--Apparel Articles & Accessories"
          ],
          [
           "61--Apparel Articles & Accessories"
          ],
          [
           "61--Apparel Articles & Accessories"
          ],
          [
           "61--Apparel Articles & Accessories"
          ],
          [
           "61--Apparel Articles & Accessories"
          ],
          [
           "61--Apparel Articles & Accessories"
          ]
         ],
         "hovertemplate": "Product=%{customdata[0]}<br>value=%{x}<extra></extra>",
         "legendgroup": "61--Apparel Articles & Accessories",
         "marker": {
          "color": "#FECB52",
          "pattern": {
           "shape": ""
          }
         },
         "name": "61--Apparel Articles & Accessories",
         "offsetgroup": "61--Apparel Articles & Accessories",
         "orientation": "h",
         "showlegend": true,
         "textposition": "auto",
         "type": "bar",
         "x": [
          13,
          15,
          15,
          14,
          13,
          15,
          14,
          13,
          10,
          10
         ],
         "xaxis": "x",
         "y": [
          "2013",
          "2014",
          "2015",
          "2016",
          "2017",
          "2018",
          "2019",
          "2020",
          "2021",
          "2022"
         ],
         "yaxis": "y"
        },
        {
         "alignmentgroup": "True",
         "customdata": [
          [
           "59--Impregnated Etc Text Fabrics"
          ],
          [
           "59--Impregnated Etc Text Fabrics"
          ],
          [
           "59--Impregnated Etc Text Fabrics"
          ],
          [
           "59--Impregnated Etc Text Fabrics"
          ],
          [
           "59--Impregnated Etc Text Fabrics"
          ],
          [
           "59--Impregnated Etc Text Fabrics"
          ],
          [
           "59--Impregnated Etc Text Fabrics"
          ],
          [
           "59--Impregnated Etc Text Fabrics"
          ],
          [
           "59--Impregnated Etc Text Fabrics"
          ],
          [
           "59--Impregnated Etc Text Fabrics"
          ]
         ],
         "hovertemplate": "Product=%{customdata[0]}<br>value=%{x}<extra></extra>",
         "legendgroup": "59--Impregnated Etc Text Fabrics",
         "marker": {
          "color": "#636efa",
          "pattern": {
           "shape": ""
          }
         },
         "name": "59--Impregnated Etc Text Fabrics",
         "offsetgroup": "59--Impregnated Etc Text Fabrics",
         "orientation": "h",
         "showlegend": true,
         "textposition": "auto",
         "type": "bar",
         "x": [
          13,
          15,
          13,
          15,
          20,
          16,
          14,
          12,
          12,
          10
         ],
         "xaxis": "x",
         "y": [
          "2013",
          "2014",
          "2015",
          "2016",
          "2017",
          "2018",
          "2019",
          "2020",
          "2021",
          "2022"
         ],
         "yaxis": "y"
        },
        {
         "alignmentgroup": "True",
         "customdata": [
          [
           "64--Footwear, Gaiters"
          ],
          [
           "64--Footwear, Gaiters"
          ],
          [
           "64--Footwear, Gaiters"
          ],
          [
           "64--Footwear, Gaiters"
          ],
          [
           "64--Footwear, Gaiters"
          ],
          [
           "64--Footwear, Gaiters"
          ],
          [
           "64--Footwear, Gaiters"
          ],
          [
           "64--Footwear, Gaiters"
          ],
          [
           "64--Footwear, Gaiters"
          ],
          [
           "64--Footwear, Gaiters"
          ]
         ],
         "hovertemplate": "Product=%{customdata[0]}<br>value=%{x}<extra></extra>",
         "legendgroup": "64--Footwear, Gaiters",
         "marker": {
          "color": "#EF553B",
          "pattern": {
           "shape": ""
          }
         },
         "name": "64--Footwear, Gaiters",
         "offsetgroup": "64--Footwear, Gaiters",
         "orientation": "h",
         "showlegend": true,
         "textposition": "auto",
         "type": "bar",
         "x": [
          9,
          10,
          10,
          8,
          9,
          5,
          9,
          6,
          4,
          9
         ],
         "xaxis": "x",
         "y": [
          "2013",
          "2014",
          "2015",
          "2016",
          "2017",
          "2018",
          "2019",
          "2020",
          "2021",
          "2022"
         ],
         "yaxis": "y"
        },
        {
         "alignmentgroup": "True",
         "customdata": [
          [
           "92--Musical Instruments"
          ],
          [
           "92--Musical Instruments"
          ],
          [
           "92--Musical Instruments"
          ],
          [
           "92--Musical Instruments"
          ],
          [
           "92--Musical Instruments"
          ],
          [
           "92--Musical Instruments"
          ],
          [
           "92--Musical Instruments"
          ],
          [
           "92--Musical Instruments"
          ],
          [
           "92--Musical Instruments"
          ],
          [
           "92--Musical Instruments"
          ]
         ],
         "hovertemplate": "Product=%{customdata[0]}<br>value=%{x}<extra></extra>",
         "legendgroup": "92--Musical Instruments",
         "marker": {
          "color": "#00cc96",
          "pattern": {
           "shape": ""
          }
         },
         "name": "92--Musical Instruments",
         "offsetgroup": "92--Musical Instruments",
         "orientation": "h",
         "showlegend": true,
         "textposition": "auto",
         "type": "bar",
         "x": [
          9,
          9,
          8,
          9,
          7,
          7,
          7,
          6,
          7,
          8
         ],
         "xaxis": "x",
         "y": [
          "2013",
          "2014",
          "2015",
          "2016",
          "2017",
          "2018",
          "2019",
          "2020",
          "2021",
          "2022"
         ],
         "yaxis": "y"
        },
        {
         "alignmentgroup": "True",
         "customdata": [
          [
           "16--Edible Preparations Of Meat, Fish"
          ],
          [
           "16--Edible Preparations Of Meat, Fish"
          ],
          [
           "16--Edible Preparations Of Meat, Fish"
          ],
          [
           "16--Edible Preparations Of Meat, Fish"
          ],
          [
           "16--Edible Preparations Of Meat, Fish"
          ],
          [
           "16--Edible Preparations Of Meat, Fish"
          ],
          [
           "16--Edible Preparations Of Meat, Fish"
          ],
          [
           "16--Edible Preparations Of Meat, Fish"
          ],
          [
           "16--Edible Preparations Of Meat, Fish"
          ],
          [
           "16--Edible Preparations Of Meat, Fish"
          ]
         ],
         "hovertemplate": "Product=%{customdata[0]}<br>value=%{x}<extra></extra>",
         "legendgroup": "16--Edible Preparations Of Meat, Fish",
         "marker": {
          "color": "#ab63fa",
          "pattern": {
           "shape": ""
          }
         },
         "name": "16--Edible Preparations Of Meat, Fish",
         "offsetgroup": "16--Edible Preparations Of Meat, Fish",
         "orientation": "h",
         "showlegend": true,
         "textposition": "auto",
         "type": "bar",
         "x": [
          12,
          11,
          7,
          8,
          9,
          10,
          11,
          11,
          12,
          7
         ],
         "xaxis": "x",
         "y": [
          "2013",
          "2014",
          "2015",
          "2016",
          "2017",
          "2018",
          "2019",
          "2020",
          "2021",
          "2022"
         ],
         "yaxis": "y"
        },
        {
         "alignmentgroup": "True",
         "customdata": [
          [
           "01--Live Animals"
          ],
          [
           "01--Live Animals"
          ],
          [
           "01--Live Animals"
          ],
          [
           "01--Live Animals"
          ],
          [
           "01--Live Animals"
          ],
          [
           "01--Live Animals"
          ],
          [
           "01--Live Animals"
          ],
          [
           "01--Live Animals"
          ],
          [
           "01--Live Animals"
          ],
          [
           "01--Live Animals"
          ]
         ],
         "hovertemplate": "Product=%{customdata[0]}<br>value=%{x}<extra></extra>",
         "legendgroup": "01--Live Animals",
         "marker": {
          "color": "#FFA15A",
          "pattern": {
           "shape": ""
          }
         },
         "name": "01--Live Animals",
         "offsetgroup": "01--Live Animals",
         "orientation": "h",
         "showlegend": true,
         "textposition": "auto",
         "type": "bar",
         "x": [
          3,
          3,
          4,
          4,
          3,
          5,
          23,
          4,
          6,
          7
         ],
         "xaxis": "x",
         "y": [
          "2013",
          "2014",
          "2015",
          "2016",
          "2017",
          "2018",
          "2019",
          "2020",
          "2021",
          "2022"
         ],
         "yaxis": "y"
        },
        {
         "alignmentgroup": "True",
         "customdata": [
          [
           "63--Textile Art Nesoi; Needlecraft Sets"
          ],
          [
           "63--Textile Art Nesoi; Needlecraft Sets"
          ],
          [
           "63--Textile Art Nesoi; Needlecraft Sets"
          ],
          [
           "63--Textile Art Nesoi; Needlecraft Sets"
          ],
          [
           "63--Textile Art Nesoi; Needlecraft Sets"
          ],
          [
           "63--Textile Art Nesoi; Needlecraft Sets"
          ],
          [
           "63--Textile Art Nesoi; Needlecraft Sets"
          ],
          [
           "63--Textile Art Nesoi; Needlecraft Sets"
          ],
          [
           "63--Textile Art Nesoi; Needlecraft Sets"
          ],
          [
           "63--Textile Art Nesoi; Needlecraft Sets"
          ]
         ],
         "hovertemplate": "Product=%{customdata[0]}<br>value=%{x}<extra></extra>",
         "legendgroup": "63--Textile Art Nesoi; Needlecraft Sets",
         "marker": {
          "color": "#19d3f3",
          "pattern": {
           "shape": ""
          }
         },
         "name": "63--Textile Art Nesoi; Needlecraft Sets",
         "offsetgroup": "63--Textile Art Nesoi; Needlecraft Sets",
         "orientation": "h",
         "showlegend": true,
         "textposition": "auto",
         "type": "bar",
         "x": [
          7,
          8,
          7,
          7,
          7,
          6,
          7,
          6,
          9,
          7
         ],
         "xaxis": "x",
         "y": [
          "2013",
          "2014",
          "2015",
          "2016",
          "2017",
          "2018",
          "2019",
          "2020",
          "2021",
          "2022"
         ],
         "yaxis": "y"
        },
        {
         "alignmentgroup": "True",
         "customdata": [
          [
           "60--Knitted Or Crocheted Fabrics"
          ],
          [
           "60--Knitted Or Crocheted Fabrics"
          ],
          [
           "60--Knitted Or Crocheted Fabrics"
          ],
          [
           "60--Knitted Or Crocheted Fabrics"
          ],
          [
           "60--Knitted Or Crocheted Fabrics"
          ],
          [
           "60--Knitted Or Crocheted Fabrics"
          ],
          [
           "60--Knitted Or Crocheted Fabrics"
          ],
          [
           "60--Knitted Or Crocheted Fabrics"
          ],
          [
           "60--Knitted Or Crocheted Fabrics"
          ],
          [
           "60--Knitted Or Crocheted Fabrics"
          ]
         ],
         "hovertemplate": "Product=%{customdata[0]}<br>value=%{x}<extra></extra>",
         "legendgroup": "60--Knitted Or Crocheted Fabrics",
         "marker": {
          "color": "#FF6692",
          "pattern": {
           "shape": ""
          }
         },
         "name": "60--Knitted Or Crocheted Fabrics",
         "offsetgroup": "60--Knitted Or Crocheted Fabrics",
         "orientation": "h",
         "showlegend": true,
         "textposition": "auto",
         "type": "bar",
         "x": [
          2,
          3,
          7,
          5,
          1,
          1,
          1,
          1,
          3,
          6
         ],
         "xaxis": "x",
         "y": [
          "2013",
          "2014",
          "2015",
          "2016",
          "2017",
          "2018",
          "2019",
          "2020",
          "2021",
          "2022"
         ],
         "yaxis": "y"
        },
        {
         "alignmentgroup": "True",
         "customdata": [
          [
           "13--Lac; Gums & Other Vegetable Sap"
          ],
          [
           "13--Lac; Gums & Other Vegetable Sap"
          ],
          [
           "13--Lac; Gums & Other Vegetable Sap"
          ],
          [
           "13--Lac; Gums & Other Vegetable Sap"
          ],
          [
           "13--Lac; Gums & Other Vegetable Sap"
          ],
          [
           "13--Lac; Gums & Other Vegetable Sap"
          ],
          [
           "13--Lac; Gums & Other Vegetable Sap"
          ],
          [
           "13--Lac; Gums & Other Vegetable Sap"
          ],
          [
           "13--Lac; Gums & Other Vegetable Sap"
          ],
          [
           "13--Lac; Gums & Other Vegetable Sap"
          ]
         ],
         "hovertemplate": "Product=%{customdata[0]}<br>value=%{x}<extra></extra>",
         "legendgroup": "13--Lac; Gums & Other Vegetable Sap",
         "marker": {
          "color": "#B6E880",
          "pattern": {
           "shape": ""
          }
         },
         "name": "13--Lac; Gums & Other Vegetable Sap",
         "offsetgroup": "13--Lac; Gums & Other Vegetable Sap",
         "orientation": "h",
         "showlegend": true,
         "textposition": "auto",
         "type": "bar",
         "x": [
          5,
          3,
          4,
          4,
          4,
          5,
          4,
          6,
          6,
          6
         ],
         "xaxis": "x",
         "y": [
          "2013",
          "2014",
          "2015",
          "2016",
          "2017",
          "2018",
          "2019",
          "2020",
          "2021",
          "2022"
         ],
         "yaxis": "y"
        },
        {
         "alignmentgroup": "True",
         "customdata": [
          [
           "05--Products Of Animal Origin"
          ],
          [
           "05--Products Of Animal Origin"
          ],
          [
           "05--Products Of Animal Origin"
          ],
          [
           "05--Products Of Animal Origin"
          ],
          [
           "05--Products Of Animal Origin"
          ],
          [
           "05--Products Of Animal Origin"
          ],
          [
           "05--Products Of Animal Origin"
          ],
          [
           "05--Products Of Animal Origin"
          ],
          [
           "05--Products Of Animal Origin"
          ],
          [
           "05--Products Of Animal Origin"
          ]
         ],
         "hovertemplate": "Product=%{customdata[0]}<br>value=%{x}<extra></extra>",
         "legendgroup": "05--Products Of Animal Origin",
         "marker": {
          "color": "#FF97FF",
          "pattern": {
           "shape": ""
          }
         },
         "name": "05--Products Of Animal Origin",
         "offsetgroup": "05--Products Of Animal Origin",
         "orientation": "h",
         "showlegend": true,
         "textposition": "auto",
         "type": "bar",
         "x": [
          12,
          12,
          12,
          10,
          13,
          17,
          14,
          11,
          7,
          5
         ],
         "xaxis": "x",
         "y": [
          "2013",
          "2014",
          "2015",
          "2016",
          "2017",
          "2018",
          "2019",
          "2020",
          "2021",
          "2022"
         ],
         "yaxis": "y"
        },
        {
         "alignmentgroup": "True",
         "customdata": [
          [
           "62--Apparel Articles & Accessories"
          ],
          [
           "62--Apparel Articles & Accessories"
          ],
          [
           "62--Apparel Articles & Accessories"
          ],
          [
           "62--Apparel Articles & Accessories"
          ],
          [
           "62--Apparel Articles & Accessories"
          ],
          [
           "62--Apparel Articles & Accessories"
          ],
          [
           "62--Apparel Articles & Accessories"
          ],
          [
           "62--Apparel Articles & Accessories"
          ],
          [
           "62--Apparel Articles & Accessories"
          ],
          [
           "62--Apparel Articles & Accessories"
          ]
         ],
         "hovertemplate": "Product=%{customdata[0]}<br>value=%{x}<extra></extra>",
         "legendgroup": "62--Apparel Articles & Accessories",
         "marker": {
          "color": "#FECB52",
          "pattern": {
           "shape": ""
          }
         },
         "name": "62--Apparel Articles & Accessories",
         "offsetgroup": "62--Apparel Articles & Accessories",
         "orientation": "h",
         "showlegend": true,
         "textposition": "auto",
         "type": "bar",
         "x": [
          9,
          10,
          11,
          11,
          9,
          8,
          7,
          9,
          6,
          5
         ],
         "xaxis": "x",
         "y": [
          "2013",
          "2014",
          "2015",
          "2016",
          "2017",
          "2018",
          "2019",
          "2020",
          "2021",
          "2022"
         ],
         "yaxis": "y"
        },
        {
         "alignmentgroup": "True",
         "customdata": [
          [
           "24--Tobacco & Manufactured Tobacco Substitutes"
          ],
          [
           "24--Tobacco & Manufactured Tobacco Substitutes"
          ],
          [
           "24--Tobacco & Manufactured Tobacco Substitutes"
          ],
          [
           "24--Tobacco & Manufactured Tobacco Substitutes"
          ],
          [
           "24--Tobacco & Manufactured Tobacco Substitutes"
          ],
          [
           "24--Tobacco & Manufactured Tobacco Substitutes"
          ],
          [
           "24--Tobacco & Manufactured Tobacco Substitutes"
          ],
          [
           "24--Tobacco & Manufactured Tobacco Substitutes"
          ],
          [
           "24--Tobacco & Manufactured Tobacco Substitutes"
          ],
          [
           "24--Tobacco & Manufactured Tobacco Substitutes"
          ]
         ],
         "hovertemplate": "Product=%{customdata[0]}<br>value=%{x}<extra></extra>",
         "legendgroup": "24--Tobacco & Manufactured Tobacco Substitutes",
         "marker": {
          "color": "#636efa",
          "pattern": {
           "shape": ""
          }
         },
         "name": "24--Tobacco & Manufactured Tobacco Substitutes",
         "offsetgroup": "24--Tobacco & Manufactured Tobacco Substitutes",
         "orientation": "h",
         "showlegend": true,
         "textposition": "auto",
         "type": "bar",
         "x": [
          12,
          18,
          6,
          12,
          12,
          10,
          6,
          4,
          8,
          4
         ],
         "xaxis": "x",
         "y": [
          "2013",
          "2014",
          "2015",
          "2016",
          "2017",
          "2018",
          "2019",
          "2020",
          "2021",
          "2022"
         ],
         "yaxis": "y"
        },
        {
         "alignmentgroup": "True",
         "customdata": [
          [
           "91--Clocks And Watches And Parts Thereof"
          ],
          [
           "91--Clocks And Watches And Parts Thereof"
          ],
          [
           "91--Clocks And Watches And Parts Thereof"
          ],
          [
           "91--Clocks And Watches And Parts Thereof"
          ],
          [
           "91--Clocks And Watches And Parts Thereof"
          ],
          [
           "91--Clocks And Watches And Parts Thereof"
          ],
          [
           "91--Clocks And Watches And Parts Thereof"
          ],
          [
           "91--Clocks And Watches And Parts Thereof"
          ],
          [
           "91--Clocks And Watches And Parts Thereof"
          ],
          [
           "91--Clocks And Watches And Parts Thereof"
          ]
         ],
         "hovertemplate": "Product=%{customdata[0]}<br>value=%{x}<extra></extra>",
         "legendgroup": "91--Clocks And Watches And Parts Thereof",
         "marker": {
          "color": "#EF553B",
          "pattern": {
           "shape": ""
          }
         },
         "name": "91--Clocks And Watches And Parts Thereof",
         "offsetgroup": "91--Clocks And Watches And Parts Thereof",
         "orientation": "h",
         "showlegend": true,
         "textposition": "auto",
         "type": "bar",
         "x": [
          3,
          4,
          3,
          3,
          4,
          3,
          3,
          4,
          4,
          4
         ],
         "xaxis": "x",
         "y": [
          "2013",
          "2014",
          "2015",
          "2016",
          "2017",
          "2018",
          "2019",
          "2020",
          "2021",
          "2022"
         ],
         "yaxis": "y"
        },
        {
         "alignmentgroup": "True",
         "customdata": [
          [
           "11--Milling Products; Malt; Starch"
          ],
          [
           "11--Milling Products; Malt; Starch"
          ],
          [
           "11--Milling Products; Malt; Starch"
          ],
          [
           "11--Milling Products; Malt; Starch"
          ],
          [
           "11--Milling Products; Malt; Starch"
          ],
          [
           "11--Milling Products; Malt; Starch"
          ],
          [
           "11--Milling Products; Malt; Starch"
          ],
          [
           "11--Milling Products; Malt; Starch"
          ],
          [
           "11--Milling Products; Malt; Starch"
          ],
          [
           "11--Milling Products; Malt; Starch"
          ]
         ],
         "hovertemplate": "Product=%{customdata[0]}<br>value=%{x}<extra></extra>",
         "legendgroup": "11--Milling Products; Malt; Starch",
         "marker": {
          "color": "#00cc96",
          "pattern": {
           "shape": ""
          }
         },
         "name": "11--Milling Products; Malt; Starch",
         "offsetgroup": "11--Milling Products; Malt; Starch",
         "orientation": "h",
         "showlegend": true,
         "textposition": "auto",
         "type": "bar",
         "x": [
          7,
          5,
          3,
          2,
          2,
          2,
          3,
          3,
          5,
          4
         ],
         "xaxis": "x",
         "y": [
          "2013",
          "2014",
          "2015",
          "2016",
          "2017",
          "2018",
          "2019",
          "2020",
          "2021",
          "2022"
         ],
         "yaxis": "y"
        },
        {
         "alignmentgroup": "True",
         "customdata": [
          [
           "55--Manmade Staple Fibers, Including Yarns"
          ],
          [
           "55--Manmade Staple Fibers, Including Yarns"
          ],
          [
           "55--Manmade Staple Fibers, Including Yarns"
          ],
          [
           "55--Manmade Staple Fibers, Including Yarns"
          ],
          [
           "55--Manmade Staple Fibers, Including Yarns"
          ],
          [
           "55--Manmade Staple Fibers, Including Yarns"
          ],
          [
           "55--Manmade Staple Fibers, Including Yarns"
          ],
          [
           "55--Manmade Staple Fibers, Including Yarns"
          ],
          [
           "55--Manmade Staple Fibers, Including Yarns"
          ],
          [
           "55--Manmade Staple Fibers, Including Yarns"
          ]
         ],
         "hovertemplate": "Product=%{customdata[0]}<br>value=%{x}<extra></extra>",
         "legendgroup": "55--Manmade Staple Fibers, Including Yarns",
         "marker": {
          "color": "#ab63fa",
          "pattern": {
           "shape": ""
          }
         },
         "name": "55--Manmade Staple Fibers, Including Yarns",
         "offsetgroup": "55--Manmade Staple Fibers, Including Yarns",
         "orientation": "h",
         "showlegend": true,
         "textposition": "auto",
         "type": "bar",
         "x": [
          8,
          4,
          4,
          4,
          6,
          5,
          3,
          4,
          6,
          3
         ],
         "xaxis": "x",
         "y": [
          "2013",
          "2014",
          "2015",
          "2016",
          "2017",
          "2018",
          "2019",
          "2020",
          "2021",
          "2022"
         ],
         "yaxis": "y"
        },
        {
         "alignmentgroup": "True",
         "customdata": [
          [
           "58--Spec Wov Fabrics"
          ],
          [
           "58--Spec Wov Fabrics"
          ],
          [
           "58--Spec Wov Fabrics"
          ],
          [
           "58--Spec Wov Fabrics"
          ],
          [
           "58--Spec Wov Fabrics"
          ],
          [
           "58--Spec Wov Fabrics"
          ],
          [
           "58--Spec Wov Fabrics"
          ],
          [
           "58--Spec Wov Fabrics"
          ],
          [
           "58--Spec Wov Fabrics"
          ],
          [
           "58--Spec Wov Fabrics"
          ]
         ],
         "hovertemplate": "Product=%{customdata[0]}<br>value=%{x}<extra></extra>",
         "legendgroup": "58--Spec Wov Fabrics",
         "marker": {
          "color": "#FFA15A",
          "pattern": {
           "shape": ""
          }
         },
         "name": "58--Spec Wov Fabrics",
         "offsetgroup": "58--Spec Wov Fabrics",
         "orientation": "h",
         "showlegend": true,
         "textposition": "auto",
         "type": "bar",
         "x": [
          1,
          1,
          1,
          0,
          1,
          1,
          1,
          1,
          1,
          2
         ],
         "xaxis": "x",
         "y": [
          "2013",
          "2014",
          "2015",
          "2016",
          "2017",
          "2018",
          "2019",
          "2020",
          "2021",
          "2022"
         ],
         "yaxis": "y"
        },
        {
         "alignmentgroup": "True",
         "customdata": [
          [
           "06--Live Trees, Plants, Bulbs"
          ],
          [
           "06--Live Trees, Plants, Bulbs"
          ],
          [
           "06--Live Trees, Plants, Bulbs"
          ],
          [
           "06--Live Trees, Plants, Bulbs"
          ],
          [
           "06--Live Trees, Plants, Bulbs"
          ],
          [
           "06--Live Trees, Plants, Bulbs"
          ],
          [
           "06--Live Trees, Plants, Bulbs"
          ],
          [
           "06--Live Trees, Plants, Bulbs"
          ],
          [
           "06--Live Trees, Plants, Bulbs"
          ],
          [
           "06--Live Trees, Plants, Bulbs"
          ]
         ],
         "hovertemplate": "Product=%{customdata[0]}<br>value=%{x}<extra></extra>",
         "legendgroup": "06--Live Trees, Plants, Bulbs",
         "marker": {
          "color": "#19d3f3",
          "pattern": {
           "shape": ""
          }
         },
         "name": "06--Live Trees, Plants, Bulbs",
         "offsetgroup": "06--Live Trees, Plants, Bulbs",
         "orientation": "h",
         "showlegend": true,
         "textposition": "auto",
         "type": "bar",
         "x": [
          0,
          1,
          0,
          0,
          0,
          0,
          0,
          0,
          0,
          2
         ],
         "xaxis": "x",
         "y": [
          "2013",
          "2014",
          "2015",
          "2016",
          "2017",
          "2018",
          "2019",
          "2020",
          "2021",
          "2022"
         ],
         "yaxis": "y"
        },
        {
         "alignmentgroup": "True",
         "customdata": [
          [
           "65--Headgear & Parts Thereof"
          ],
          [
           "65--Headgear & Parts Thereof"
          ],
          [
           "65--Headgear & Parts Thereof"
          ],
          [
           "65--Headgear & Parts Thereof"
          ],
          [
           "65--Headgear & Parts Thereof"
          ],
          [
           "65--Headgear & Parts Thereof"
          ],
          [
           "65--Headgear & Parts Thereof"
          ],
          [
           "65--Headgear & Parts Thereof"
          ],
          [
           "65--Headgear & Parts Thereof"
          ],
          [
           "65--Headgear & Parts Thereof"
          ]
         ],
         "hovertemplate": "Product=%{customdata[0]}<br>value=%{x}<extra></extra>",
         "legendgroup": "65--Headgear & Parts Thereof",
         "marker": {
          "color": "#FF6692",
          "pattern": {
           "shape": ""
          }
         },
         "name": "65--Headgear & Parts Thereof",
         "offsetgroup": "65--Headgear & Parts Thereof",
         "orientation": "h",
         "showlegend": true,
         "textposition": "auto",
         "type": "bar",
         "x": [
          1,
          2,
          2,
          2,
          1,
          1,
          1,
          2,
          2,
          2
         ],
         "xaxis": "x",
         "y": [
          "2013",
          "2014",
          "2015",
          "2016",
          "2017",
          "2018",
          "2019",
          "2020",
          "2021",
          "2022"
         ],
         "yaxis": "y"
        },
        {
         "alignmentgroup": "True",
         "customdata": [
          [
           "57--Carpets & Floor Coverings"
          ],
          [
           "57--Carpets & Floor Coverings"
          ],
          [
           "57--Carpets & Floor Coverings"
          ],
          [
           "57--Carpets & Floor Coverings"
          ],
          [
           "57--Carpets & Floor Coverings"
          ],
          [
           "57--Carpets & Floor Coverings"
          ],
          [
           "57--Carpets & Floor Coverings"
          ],
          [
           "57--Carpets & Floor Coverings"
          ],
          [
           "57--Carpets & Floor Coverings"
          ],
          [
           "57--Carpets & Floor Coverings"
          ]
         ],
         "hovertemplate": "Product=%{customdata[0]}<br>value=%{x}<extra></extra>",
         "legendgroup": "57--Carpets & Floor Coverings",
         "marker": {
          "color": "#B6E880",
          "pattern": {
           "shape": ""
          }
         },
         "name": "57--Carpets & Floor Coverings",
         "offsetgroup": "57--Carpets & Floor Coverings",
         "orientation": "h",
         "showlegend": true,
         "textposition": "auto",
         "type": "bar",
         "x": [
          2,
          4,
          2,
          2,
          2,
          1,
          1,
          1,
          1,
          1
         ],
         "xaxis": "x",
         "y": [
          "2013",
          "2014",
          "2015",
          "2016",
          "2017",
          "2018",
          "2019",
          "2020",
          "2021",
          "2022"
         ],
         "yaxis": "y"
        },
        {
         "alignmentgroup": "True",
         "customdata": [
          [
           "78--Lead And Articles Thereof"
          ],
          [
           "78--Lead And Articles Thereof"
          ],
          [
           "78--Lead And Articles Thereof"
          ],
          [
           "78--Lead And Articles Thereof"
          ],
          [
           "78--Lead And Articles Thereof"
          ],
          [
           "78--Lead And Articles Thereof"
          ],
          [
           "78--Lead And Articles Thereof"
          ],
          [
           "78--Lead And Articles Thereof"
          ],
          [
           "78--Lead And Articles Thereof"
          ],
          [
           "78--Lead And Articles Thereof"
          ]
         ],
         "hovertemplate": "Product=%{customdata[0]}<br>value=%{x}<extra></extra>",
         "legendgroup": "78--Lead And Articles Thereof",
         "marker": {
          "color": "#FF97FF",
          "pattern": {
           "shape": ""
          }
         },
         "name": "78--Lead And Articles Thereof",
         "offsetgroup": "78--Lead And Articles Thereof",
         "orientation": "h",
         "showlegend": true,
         "textposition": "auto",
         "type": "bar",
         "x": [
          0,
          0,
          0,
          0,
          0,
          0,
          0,
          0,
          0,
          0
         ],
         "xaxis": "x",
         "y": [
          "2013",
          "2014",
          "2015",
          "2016",
          "2017",
          "2018",
          "2019",
          "2020",
          "2021",
          "2022"
         ],
         "yaxis": "y"
        },
        {
         "alignmentgroup": "True",
         "customdata": [
          [
           "14--Vegetable Plaiting Materials & Products"
          ],
          [
           "14--Vegetable Plaiting Materials & Products"
          ],
          [
           "14--Vegetable Plaiting Materials & Products"
          ],
          [
           "14--Vegetable Plaiting Materials & Products"
          ],
          [
           "14--Vegetable Plaiting Materials & Products"
          ],
          [
           "14--Vegetable Plaiting Materials & Products"
          ],
          [
           "14--Vegetable Plaiting Materials & Products"
          ],
          [
           "14--Vegetable Plaiting Materials & Products"
          ],
          [
           "14--Vegetable Plaiting Materials & Products"
          ],
          [
           "14--Vegetable Plaiting Materials & Products"
          ]
         ],
         "hovertemplate": "Product=%{customdata[0]}<br>value=%{x}<extra></extra>",
         "legendgroup": "14--Vegetable Plaiting Materials & Products",
         "marker": {
          "color": "#FECB52",
          "pattern": {
           "shape": ""
          }
         },
         "name": "14--Vegetable Plaiting Materials & Products",
         "offsetgroup": "14--Vegetable Plaiting Materials & Products",
         "orientation": "h",
         "showlegend": true,
         "textposition": "auto",
         "type": "bar",
         "x": [
          0,
          0,
          0,
          0,
          0,
          0,
          0,
          0,
          0,
          0
         ],
         "xaxis": "x",
         "y": [
          "2013",
          "2014",
          "2015",
          "2016",
          "2017",
          "2018",
          "2019",
          "2020",
          "2021",
          "2022"
         ],
         "yaxis": "y"
        },
        {
         "alignmentgroup": "True",
         "customdata": [
          [
           "43--Furskins & Artificial Fur"
          ],
          [
           "43--Furskins & Artificial Fur"
          ],
          [
           "43--Furskins & Artificial Fur"
          ],
          [
           "43--Furskins & Artificial Fur"
          ],
          [
           "43--Furskins & Artificial Fur"
          ],
          [
           "43--Furskins & Artificial Fur"
          ],
          [
           "43--Furskins & Artificial Fur"
          ],
          [
           "43--Furskins & Artificial Fur"
          ],
          [
           "43--Furskins & Artificial Fur"
          ],
          [
           "43--Furskins & Artificial Fur"
          ]
         ],
         "hovertemplate": "Product=%{customdata[0]}<br>value=%{x}<extra></extra>",
         "legendgroup": "43--Furskins & Artificial Fur",
         "marker": {
          "color": "#636efa",
          "pattern": {
           "shape": ""
          }
         },
         "name": "43--Furskins & Artificial Fur",
         "offsetgroup": "43--Furskins & Artificial Fur",
         "orientation": "h",
         "showlegend": true,
         "textposition": "auto",
         "type": "bar",
         "x": [
          0,
          0,
          0,
          0,
          0,
          0,
          0,
          0,
          0,
          0
         ],
         "xaxis": "x",
         "y": [
          "2013",
          "2014",
          "2015",
          "2016",
          "2017",
          "2018",
          "2019",
          "2020",
          "2021",
          "2022"
         ],
         "yaxis": "y"
        },
        {
         "alignmentgroup": "True",
         "customdata": [
          [
           "51--Wool & Animal Hair, Including Yarn"
          ],
          [
           "51--Wool & Animal Hair, Including Yarn"
          ],
          [
           "51--Wool & Animal Hair, Including Yarn"
          ],
          [
           "51--Wool & Animal Hair, Including Yarn"
          ],
          [
           "51--Wool & Animal Hair, Including Yarn"
          ],
          [
           "51--Wool & Animal Hair, Including Yarn"
          ],
          [
           "51--Wool & Animal Hair, Including Yarn"
          ],
          [
           "51--Wool & Animal Hair, Including Yarn"
          ],
          [
           "51--Wool & Animal Hair, Including Yarn"
          ],
          [
           "51--Wool & Animal Hair, Including Yarn"
          ]
         ],
         "hovertemplate": "Product=%{customdata[0]}<br>value=%{x}<extra></extra>",
         "legendgroup": "51--Wool & Animal Hair, Including Yarn",
         "marker": {
          "color": "#EF553B",
          "pattern": {
           "shape": ""
          }
         },
         "name": "51--Wool & Animal Hair, Including Yarn",
         "offsetgroup": "51--Wool & Animal Hair, Including Yarn",
         "orientation": "h",
         "showlegend": true,
         "textposition": "auto",
         "type": "bar",
         "x": [
          0,
          0,
          0,
          0,
          0,
          1,
          1,
          0,
          0,
          0
         ],
         "xaxis": "x",
         "y": [
          "2013",
          "2014",
          "2015",
          "2016",
          "2017",
          "2018",
          "2019",
          "2020",
          "2021",
          "2022"
         ],
         "yaxis": "y"
        },
        {
         "alignmentgroup": "True",
         "customdata": [
          [
           "67--Prep Feathers, Down Etc"
          ],
          [
           "67--Prep Feathers, Down Etc"
          ],
          [
           "67--Prep Feathers, Down Etc"
          ],
          [
           "67--Prep Feathers, Down Etc"
          ],
          [
           "67--Prep Feathers, Down Etc"
          ],
          [
           "67--Prep Feathers, Down Etc"
          ],
          [
           "67--Prep Feathers, Down Etc"
          ],
          [
           "67--Prep Feathers, Down Etc"
          ],
          [
           "67--Prep Feathers, Down Etc"
          ],
          [
           "67--Prep Feathers, Down Etc"
          ]
         ],
         "hovertemplate": "Product=%{customdata[0]}<br>value=%{x}<extra></extra>",
         "legendgroup": "67--Prep Feathers, Down Etc",
         "marker": {
          "color": "#00cc96",
          "pattern": {
           "shape": ""
          }
         },
         "name": "67--Prep Feathers, Down Etc",
         "offsetgroup": "67--Prep Feathers, Down Etc",
         "orientation": "h",
         "showlegend": true,
         "textposition": "auto",
         "type": "bar",
         "x": [
          0,
          0,
          0,
          1,
          0,
          1,
          0,
          0,
          0,
          0
         ],
         "xaxis": "x",
         "y": [
          "2013",
          "2014",
          "2015",
          "2016",
          "2017",
          "2018",
          "2019",
          "2020",
          "2021",
          "2022"
         ],
         "yaxis": "y"
        },
        {
         "alignmentgroup": "True",
         "customdata": [
          [
           "46--Mfr Of Straw, Esparto"
          ],
          [
           "46--Mfr Of Straw, Esparto"
          ],
          [
           "46--Mfr Of Straw, Esparto"
          ],
          [
           "46--Mfr Of Straw, Esparto"
          ],
          [
           "46--Mfr Of Straw, Esparto"
          ],
          [
           "46--Mfr Of Straw, Esparto"
          ],
          [
           "46--Mfr Of Straw, Esparto"
          ],
          [
           "46--Mfr Of Straw, Esparto"
          ],
          [
           "46--Mfr Of Straw, Esparto"
          ],
          [
           "46--Mfr Of Straw, Esparto"
          ]
         ],
         "hovertemplate": "Product=%{customdata[0]}<br>value=%{x}<extra></extra>",
         "legendgroup": "46--Mfr Of Straw, Esparto",
         "marker": {
          "color": "#ab63fa",
          "pattern": {
           "shape": ""
          }
         },
         "name": "46--Mfr Of Straw, Esparto",
         "offsetgroup": "46--Mfr Of Straw, Esparto",
         "orientation": "h",
         "showlegend": true,
         "textposition": "auto",
         "type": "bar",
         "x": [
          0,
          0,
          0,
          0,
          0,
          0,
          0,
          0,
          0,
          0
         ],
         "xaxis": "x",
         "y": [
          "2013",
          "2014",
          "2015",
          "2016",
          "2017",
          "2018",
          "2019",
          "2020",
          "2021",
          "2022"
         ],
         "yaxis": "y"
        },
        {
         "alignmentgroup": "True",
         "customdata": [
          [
           "45--Cork And Articles Of Cork"
          ],
          [
           "45--Cork And Articles Of Cork"
          ],
          [
           "45--Cork And Articles Of Cork"
          ],
          [
           "45--Cork And Articles Of Cork"
          ],
          [
           "45--Cork And Articles Of Cork"
          ],
          [
           "45--Cork And Articles Of Cork"
          ],
          [
           "45--Cork And Articles Of Cork"
          ],
          [
           "45--Cork And Articles Of Cork"
          ],
          [
           "45--Cork And Articles Of Cork"
          ],
          [
           "45--Cork And Articles Of Cork"
          ]
         ],
         "hovertemplate": "Product=%{customdata[0]}<br>value=%{x}<extra></extra>",
         "legendgroup": "45--Cork And Articles Of Cork",
         "marker": {
          "color": "#FFA15A",
          "pattern": {
           "shape": ""
          }
         },
         "name": "45--Cork And Articles Of Cork",
         "offsetgroup": "45--Cork And Articles Of Cork",
         "orientation": "h",
         "showlegend": true,
         "textposition": "auto",
         "type": "bar",
         "x": [
          0,
          0,
          0,
          0,
          0,
          0,
          0,
          0,
          0,
          0
         ],
         "xaxis": "x",
         "y": [
          "2013",
          "2014",
          "2015",
          "2016",
          "2017",
          "2018",
          "2019",
          "2020",
          "2021",
          "2022"
         ],
         "yaxis": "y"
        },
        {
         "alignmentgroup": "True",
         "customdata": [
          [
           "66--Umbrellas, Walking-Sticks"
          ],
          [
           "66--Umbrellas, Walking-Sticks"
          ],
          [
           "66--Umbrellas, Walking-Sticks"
          ],
          [
           "66--Umbrellas, Walking-Sticks"
          ],
          [
           "66--Umbrellas, Walking-Sticks"
          ],
          [
           "66--Umbrellas, Walking-Sticks"
          ],
          [
           "66--Umbrellas, Walking-Sticks"
          ],
          [
           "66--Umbrellas, Walking-Sticks"
          ],
          [
           "66--Umbrellas, Walking-Sticks"
          ],
          [
           "66--Umbrellas, Walking-Sticks"
          ]
         ],
         "hovertemplate": "Product=%{customdata[0]}<br>value=%{x}<extra></extra>",
         "legendgroup": "66--Umbrellas, Walking-Sticks",
         "marker": {
          "color": "#19d3f3",
          "pattern": {
           "shape": ""
          }
         },
         "name": "66--Umbrellas, Walking-Sticks",
         "offsetgroup": "66--Umbrellas, Walking-Sticks",
         "orientation": "h",
         "showlegend": true,
         "textposition": "auto",
         "type": "bar",
         "x": [
          0,
          0,
          0,
          0,
          0,
          0,
          0,
          0,
          0,
          0
         ],
         "xaxis": "x",
         "y": [
          "2013",
          "2014",
          "2015",
          "2016",
          "2017",
          "2018",
          "2019",
          "2020",
          "2021",
          "2022"
         ],
         "yaxis": "y"
        },
        {
         "alignmentgroup": "True",
         "customdata": [
          [
           "53--Veg Text Fib Nesoi"
          ],
          [
           "53--Veg Text Fib Nesoi"
          ],
          [
           "53--Veg Text Fib Nesoi"
          ],
          [
           "53--Veg Text Fib Nesoi"
          ],
          [
           "53--Veg Text Fib Nesoi"
          ],
          [
           "53--Veg Text Fib Nesoi"
          ],
          [
           "53--Veg Text Fib Nesoi"
          ],
          [
           "53--Veg Text Fib Nesoi"
          ],
          [
           "53--Veg Text Fib Nesoi"
          ],
          [
           "53--Veg Text Fib Nesoi"
          ]
         ],
         "hovertemplate": "Product=%{customdata[0]}<br>value=%{x}<extra></extra>",
         "legendgroup": "53--Veg Text Fib Nesoi",
         "marker": {
          "color": "#FF6692",
          "pattern": {
           "shape": ""
          }
         },
         "name": "53--Veg Text Fib Nesoi",
         "offsetgroup": "53--Veg Text Fib Nesoi",
         "orientation": "h",
         "showlegend": true,
         "textposition": "auto",
         "type": "bar",
         "x": [
          0,
          0,
          0,
          0,
          0,
          0,
          0,
          0,
          0,
          0
         ],
         "xaxis": "x",
         "y": [
          "2013",
          "2014",
          "2015",
          "2016",
          "2017",
          "2018",
          "2019",
          "2020",
          "2021",
          "2022"
         ],
         "yaxis": "y"
        },
        {
         "alignmentgroup": "True",
         "customdata": [
          [
           "50--Silk, Including Yarns"
          ],
          [
           "50--Silk, Including Yarns"
          ],
          [
           "50--Silk, Including Yarns"
          ],
          [
           "50--Silk, Including Yarns"
          ],
          [
           "50--Silk, Including Yarns"
          ],
          [
           "50--Silk, Including Yarns"
          ],
          [
           "50--Silk, Including Yarns"
          ],
          [
           "50--Silk, Including Yarns"
          ],
          [
           "50--Silk, Including Yarns"
          ],
          [
           "50--Silk, Including Yarns"
          ]
         ],
         "hovertemplate": "Product=%{customdata[0]}<br>value=%{x}<extra></extra>",
         "legendgroup": "50--Silk, Including Yarns",
         "marker": {
          "color": "#B6E880",
          "pattern": {
           "shape": ""
          }
         },
         "name": "50--Silk, Including Yarns",
         "offsetgroup": "50--Silk, Including Yarns",
         "orientation": "h",
         "showlegend": true,
         "textposition": "auto",
         "type": "bar",
         "x": [
          0,
          0,
          0,
          0,
          0,
          0,
          0,
          0,
          0,
          0
         ],
         "xaxis": "x",
         "y": [
          "2013",
          "2014",
          "2015",
          "2016",
          "2017",
          "2018",
          "2019",
          "2020",
          "2021",
          "2022"
         ],
         "yaxis": "y"
        }
       ],
       "layout": {
        "barmode": "relative",
        "legend": {
         "title": {
          "text": "Product"
         },
         "tracegroupgap": 0
        },
        "template": {
         "data": {
          "bar": [
           {
            "error_x": {
             "color": "#2a3f5f"
            },
            "error_y": {
             "color": "#2a3f5f"
            },
            "marker": {
             "line": {
              "color": "#E5ECF6",
              "width": 0.5
             },
             "pattern": {
              "fillmode": "overlay",
              "size": 10,
              "solidity": 0.2
             }
            },
            "type": "bar"
           }
          ],
          "barpolar": [
           {
            "marker": {
             "line": {
              "color": "#E5ECF6",
              "width": 0.5
             },
             "pattern": {
              "fillmode": "overlay",
              "size": 10,
              "solidity": 0.2
             }
            },
            "type": "barpolar"
           }
          ],
          "carpet": [
           {
            "aaxis": {
             "endlinecolor": "#2a3f5f",
             "gridcolor": "white",
             "linecolor": "white",
             "minorgridcolor": "white",
             "startlinecolor": "#2a3f5f"
            },
            "baxis": {
             "endlinecolor": "#2a3f5f",
             "gridcolor": "white",
             "linecolor": "white",
             "minorgridcolor": "white",
             "startlinecolor": "#2a3f5f"
            },
            "type": "carpet"
           }
          ],
          "choropleth": [
           {
            "colorbar": {
             "outlinewidth": 0,
             "ticks": ""
            },
            "type": "choropleth"
           }
          ],
          "contour": [
           {
            "colorbar": {
             "outlinewidth": 0,
             "ticks": ""
            },
            "colorscale": [
             [
              0,
              "#0d0887"
             ],
             [
              0.1111111111111111,
              "#46039f"
             ],
             [
              0.2222222222222222,
              "#7201a8"
             ],
             [
              0.3333333333333333,
              "#9c179e"
             ],
             [
              0.4444444444444444,
              "#bd3786"
             ],
             [
              0.5555555555555556,
              "#d8576b"
             ],
             [
              0.6666666666666666,
              "#ed7953"
             ],
             [
              0.7777777777777778,
              "#fb9f3a"
             ],
             [
              0.8888888888888888,
              "#fdca26"
             ],
             [
              1,
              "#f0f921"
             ]
            ],
            "type": "contour"
           }
          ],
          "contourcarpet": [
           {
            "colorbar": {
             "outlinewidth": 0,
             "ticks": ""
            },
            "type": "contourcarpet"
           }
          ],
          "heatmap": [
           {
            "colorbar": {
             "outlinewidth": 0,
             "ticks": ""
            },
            "colorscale": [
             [
              0,
              "#0d0887"
             ],
             [
              0.1111111111111111,
              "#46039f"
             ],
             [
              0.2222222222222222,
              "#7201a8"
             ],
             [
              0.3333333333333333,
              "#9c179e"
             ],
             [
              0.4444444444444444,
              "#bd3786"
             ],
             [
              0.5555555555555556,
              "#d8576b"
             ],
             [
              0.6666666666666666,
              "#ed7953"
             ],
             [
              0.7777777777777778,
              "#fb9f3a"
             ],
             [
              0.8888888888888888,
              "#fdca26"
             ],
             [
              1,
              "#f0f921"
             ]
            ],
            "type": "heatmap"
           }
          ],
          "heatmapgl": [
           {
            "colorbar": {
             "outlinewidth": 0,
             "ticks": ""
            },
            "colorscale": [
             [
              0,
              "#0d0887"
             ],
             [
              0.1111111111111111,
              "#46039f"
             ],
             [
              0.2222222222222222,
              "#7201a8"
             ],
             [
              0.3333333333333333,
              "#9c179e"
             ],
             [
              0.4444444444444444,
              "#bd3786"
             ],
             [
              0.5555555555555556,
              "#d8576b"
             ],
             [
              0.6666666666666666,
              "#ed7953"
             ],
             [
              0.7777777777777778,
              "#fb9f3a"
             ],
             [
              0.8888888888888888,
              "#fdca26"
             ],
             [
              1,
              "#f0f921"
             ]
            ],
            "type": "heatmapgl"
           }
          ],
          "histogram": [
           {
            "marker": {
             "pattern": {
              "fillmode": "overlay",
              "size": 10,
              "solidity": 0.2
             }
            },
            "type": "histogram"
           }
          ],
          "histogram2d": [
           {
            "colorbar": {
             "outlinewidth": 0,
             "ticks": ""
            },
            "colorscale": [
             [
              0,
              "#0d0887"
             ],
             [
              0.1111111111111111,
              "#46039f"
             ],
             [
              0.2222222222222222,
              "#7201a8"
             ],
             [
              0.3333333333333333,
              "#9c179e"
             ],
             [
              0.4444444444444444,
              "#bd3786"
             ],
             [
              0.5555555555555556,
              "#d8576b"
             ],
             [
              0.6666666666666666,
              "#ed7953"
             ],
             [
              0.7777777777777778,
              "#fb9f3a"
             ],
             [
              0.8888888888888888,
              "#fdca26"
             ],
             [
              1,
              "#f0f921"
             ]
            ],
            "type": "histogram2d"
           }
          ],
          "histogram2dcontour": [
           {
            "colorbar": {
             "outlinewidth": 0,
             "ticks": ""
            },
            "colorscale": [
             [
              0,
              "#0d0887"
             ],
             [
              0.1111111111111111,
              "#46039f"
             ],
             [
              0.2222222222222222,
              "#7201a8"
             ],
             [
              0.3333333333333333,
              "#9c179e"
             ],
             [
              0.4444444444444444,
              "#bd3786"
             ],
             [
              0.5555555555555556,
              "#d8576b"
             ],
             [
              0.6666666666666666,
              "#ed7953"
             ],
             [
              0.7777777777777778,
              "#fb9f3a"
             ],
             [
              0.8888888888888888,
              "#fdca26"
             ],
             [
              1,
              "#f0f921"
             ]
            ],
            "type": "histogram2dcontour"
           }
          ],
          "mesh3d": [
           {
            "colorbar": {
             "outlinewidth": 0,
             "ticks": ""
            },
            "type": "mesh3d"
           }
          ],
          "parcoords": [
           {
            "line": {
             "colorbar": {
              "outlinewidth": 0,
              "ticks": ""
             }
            },
            "type": "parcoords"
           }
          ],
          "pie": [
           {
            "automargin": true,
            "type": "pie"
           }
          ],
          "scatter": [
           {
            "fillpattern": {
             "fillmode": "overlay",
             "size": 10,
             "solidity": 0.2
            },
            "type": "scatter"
           }
          ],
          "scatter3d": [
           {
            "line": {
             "colorbar": {
              "outlinewidth": 0,
              "ticks": ""
             }
            },
            "marker": {
             "colorbar": {
              "outlinewidth": 0,
              "ticks": ""
             }
            },
            "type": "scatter3d"
           }
          ],
          "scattercarpet": [
           {
            "marker": {
             "colorbar": {
              "outlinewidth": 0,
              "ticks": ""
             }
            },
            "type": "scattercarpet"
           }
          ],
          "scattergeo": [
           {
            "marker": {
             "colorbar": {
              "outlinewidth": 0,
              "ticks": ""
             }
            },
            "type": "scattergeo"
           }
          ],
          "scattergl": [
           {
            "marker": {
             "colorbar": {
              "outlinewidth": 0,
              "ticks": ""
             }
            },
            "type": "scattergl"
           }
          ],
          "scattermapbox": [
           {
            "marker": {
             "colorbar": {
              "outlinewidth": 0,
              "ticks": ""
             }
            },
            "type": "scattermapbox"
           }
          ],
          "scatterpolar": [
           {
            "marker": {
             "colorbar": {
              "outlinewidth": 0,
              "ticks": ""
             }
            },
            "type": "scatterpolar"
           }
          ],
          "scatterpolargl": [
           {
            "marker": {
             "colorbar": {
              "outlinewidth": 0,
              "ticks": ""
             }
            },
            "type": "scatterpolargl"
           }
          ],
          "scatterternary": [
           {
            "marker": {
             "colorbar": {
              "outlinewidth": 0,
              "ticks": ""
             }
            },
            "type": "scatterternary"
           }
          ],
          "surface": [
           {
            "colorbar": {
             "outlinewidth": 0,
             "ticks": ""
            },
            "colorscale": [
             [
              0,
              "#0d0887"
             ],
             [
              0.1111111111111111,
              "#46039f"
             ],
             [
              0.2222222222222222,
              "#7201a8"
             ],
             [
              0.3333333333333333,
              "#9c179e"
             ],
             [
              0.4444444444444444,
              "#bd3786"
             ],
             [
              0.5555555555555556,
              "#d8576b"
             ],
             [
              0.6666666666666666,
              "#ed7953"
             ],
             [
              0.7777777777777778,
              "#fb9f3a"
             ],
             [
              0.8888888888888888,
              "#fdca26"
             ],
             [
              1,
              "#f0f921"
             ]
            ],
            "type": "surface"
           }
          ],
          "table": [
           {
            "cells": {
             "fill": {
              "color": "#EBF0F8"
             },
             "line": {
              "color": "white"
             }
            },
            "header": {
             "fill": {
              "color": "#C8D4E3"
             },
             "line": {
              "color": "white"
             }
            },
            "type": "table"
           }
          ]
         },
         "layout": {
          "annotationdefaults": {
           "arrowcolor": "#2a3f5f",
           "arrowhead": 0,
           "arrowwidth": 1
          },
          "autotypenumbers": "strict",
          "coloraxis": {
           "colorbar": {
            "outlinewidth": 0,
            "ticks": ""
           }
          },
          "colorscale": {
           "diverging": [
            [
             0,
             "#8e0152"
            ],
            [
             0.1,
             "#c51b7d"
            ],
            [
             0.2,
             "#de77ae"
            ],
            [
             0.3,
             "#f1b6da"
            ],
            [
             0.4,
             "#fde0ef"
            ],
            [
             0.5,
             "#f7f7f7"
            ],
            [
             0.6,
             "#e6f5d0"
            ],
            [
             0.7,
             "#b8e186"
            ],
            [
             0.8,
             "#7fbc41"
            ],
            [
             0.9,
             "#4d9221"
            ],
            [
             1,
             "#276419"
            ]
           ],
           "sequential": [
            [
             0,
             "#0d0887"
            ],
            [
             0.1111111111111111,
             "#46039f"
            ],
            [
             0.2222222222222222,
             "#7201a8"
            ],
            [
             0.3333333333333333,
             "#9c179e"
            ],
            [
             0.4444444444444444,
             "#bd3786"
            ],
            [
             0.5555555555555556,
             "#d8576b"
            ],
            [
             0.6666666666666666,
             "#ed7953"
            ],
            [
             0.7777777777777778,
             "#fb9f3a"
            ],
            [
             0.8888888888888888,
             "#fdca26"
            ],
            [
             1,
             "#f0f921"
            ]
           ],
           "sequentialminus": [
            [
             0,
             "#0d0887"
            ],
            [
             0.1111111111111111,
             "#46039f"
            ],
            [
             0.2222222222222222,
             "#7201a8"
            ],
            [
             0.3333333333333333,
             "#9c179e"
            ],
            [
             0.4444444444444444,
             "#bd3786"
            ],
            [
             0.5555555555555556,
             "#d8576b"
            ],
            [
             0.6666666666666666,
             "#ed7953"
            ],
            [
             0.7777777777777778,
             "#fb9f3a"
            ],
            [
             0.8888888888888888,
             "#fdca26"
            ],
            [
             1,
             "#f0f921"
            ]
           ]
          },
          "colorway": [
           "#636efa",
           "#EF553B",
           "#00cc96",
           "#ab63fa",
           "#FFA15A",
           "#19d3f3",
           "#FF6692",
           "#B6E880",
           "#FF97FF",
           "#FECB52"
          ],
          "font": {
           "color": "#2a3f5f"
          },
          "geo": {
           "bgcolor": "white",
           "lakecolor": "white",
           "landcolor": "#E5ECF6",
           "showlakes": true,
           "showland": true,
           "subunitcolor": "white"
          },
          "hoverlabel": {
           "align": "left"
          },
          "hovermode": "closest",
          "mapbox": {
           "style": "light"
          },
          "paper_bgcolor": "white",
          "plot_bgcolor": "#E5ECF6",
          "polar": {
           "angularaxis": {
            "gridcolor": "white",
            "linecolor": "white",
            "ticks": ""
           },
           "bgcolor": "#E5ECF6",
           "radialaxis": {
            "gridcolor": "white",
            "linecolor": "white",
            "ticks": ""
           }
          },
          "scene": {
           "xaxis": {
            "backgroundcolor": "#E5ECF6",
            "gridcolor": "white",
            "gridwidth": 2,
            "linecolor": "white",
            "showbackground": true,
            "ticks": "",
            "zerolinecolor": "white"
           },
           "yaxis": {
            "backgroundcolor": "#E5ECF6",
            "gridcolor": "white",
            "gridwidth": 2,
            "linecolor": "white",
            "showbackground": true,
            "ticks": "",
            "zerolinecolor": "white"
           },
           "zaxis": {
            "backgroundcolor": "#E5ECF6",
            "gridcolor": "white",
            "gridwidth": 2,
            "linecolor": "white",
            "showbackground": true,
            "ticks": "",
            "zerolinecolor": "white"
           }
          },
          "shapedefaults": {
           "line": {
            "color": "#2a3f5f"
           }
          },
          "ternary": {
           "aaxis": {
            "gridcolor": "white",
            "linecolor": "white",
            "ticks": ""
           },
           "baxis": {
            "gridcolor": "white",
            "linecolor": "white",
            "ticks": ""
           },
           "bgcolor": "#E5ECF6",
           "caxis": {
            "gridcolor": "white",
            "linecolor": "white",
            "ticks": ""
           }
          },
          "title": {
           "x": 0.05
          },
          "xaxis": {
           "automargin": true,
           "gridcolor": "white",
           "linecolor": "white",
           "ticks": "",
           "title": {
            "standoff": 15
           },
           "zerolinecolor": "white",
           "zerolinewidth": 2
          },
          "yaxis": {
           "automargin": true,
           "gridcolor": "white",
           "linecolor": "white",
           "ticks": "",
           "title": {
            "standoff": 15
           },
           "zerolinecolor": "white",
           "zerolinewidth": 2
          }
         }
        },
        "title": {
         "text": "Top Exports by Value"
        },
        "xaxis": {
         "anchor": "y",
         "domain": [
          0,
          1
         ],
         "title": {
          "text": "value"
         }
        },
        "yaxis": {
         "anchor": "x",
         "domain": [
          0,
          1
         ],
         "title": {
          "text": "Year"
         }
        }
       }
      }
     },
     "metadata": {},
     "output_type": "display_data"
    }
   ],
   "source": [
    "Fig2 = px.bar(TexpY, x='value', y='Year', color='Product', orientation='h', \n",
    "             hover_data={'Year': False, 'Product': True},\n",
    "             title='Top Exports by Value')\n",
    "Fig2.show()"
   ]
  },
  {
   "cell_type": "code",
   "execution_count": null,
   "metadata": {},
   "outputs": [],
   "source": [
    "# Sankey"
   ]
  },
  {
   "cell_type": "code",
   "execution_count": null,
   "metadata": {},
   "outputs": [],
   "source": [
    "# Chord chart"
   ]
  },
  {
   "cell_type": "code",
   "execution_count": 385,
   "metadata": {},
   "outputs": [
    {
     "ename": "AttributeError",
     "evalue": "'DataFrame' object has no attribute 'pieplot'",
     "output_type": "error",
     "traceback": [
      "\u001b[1;31m---------------------------------------------------------------------------\u001b[0m",
      "\u001b[1;31mAttributeError\u001b[0m                            Traceback (most recent call last)",
      "Cell \u001b[1;32mIn[385], line 2\u001b[0m\n\u001b[0;32m      1\u001b[0m \u001b[39m#PieChart\u001b[39;00m\n\u001b[1;32m----> 2\u001b[0m TimpY\u001b[39m.\u001b[39;49mpieplot(labels\u001b[39m=\u001b[39mTimpY_sorted\u001b[39m.\u001b[39mindex, autopct\u001b[39m=\u001b[39m\u001b[39m'\u001b[39m\u001b[39m%1.1f\u001b[39;00m\u001b[39m'\u001b[39m)\n",
      "File \u001b[1;32mc:\\Users\\olver\\anaconda3\\lib\\site-packages\\pandas\\core\\generic.py:5902\u001b[0m, in \u001b[0;36mNDFrame.__getattr__\u001b[1;34m(self, name)\u001b[0m\n\u001b[0;32m   5895\u001b[0m \u001b[39mif\u001b[39;00m (\n\u001b[0;32m   5896\u001b[0m     name \u001b[39mnot\u001b[39;00m \u001b[39min\u001b[39;00m \u001b[39mself\u001b[39m\u001b[39m.\u001b[39m_internal_names_set\n\u001b[0;32m   5897\u001b[0m     \u001b[39mand\u001b[39;00m name \u001b[39mnot\u001b[39;00m \u001b[39min\u001b[39;00m \u001b[39mself\u001b[39m\u001b[39m.\u001b[39m_metadata\n\u001b[0;32m   5898\u001b[0m     \u001b[39mand\u001b[39;00m name \u001b[39mnot\u001b[39;00m \u001b[39min\u001b[39;00m \u001b[39mself\u001b[39m\u001b[39m.\u001b[39m_accessors\n\u001b[0;32m   5899\u001b[0m     \u001b[39mand\u001b[39;00m \u001b[39mself\u001b[39m\u001b[39m.\u001b[39m_info_axis\u001b[39m.\u001b[39m_can_hold_identifiers_and_holds_name(name)\n\u001b[0;32m   5900\u001b[0m ):\n\u001b[0;32m   5901\u001b[0m     \u001b[39mreturn\u001b[39;00m \u001b[39mself\u001b[39m[name]\n\u001b[1;32m-> 5902\u001b[0m \u001b[39mreturn\u001b[39;00m \u001b[39mobject\u001b[39;49m\u001b[39m.\u001b[39;49m\u001b[39m__getattribute__\u001b[39;49m(\u001b[39mself\u001b[39;49m, name)\n",
      "\u001b[1;31mAttributeError\u001b[0m: 'DataFrame' object has no attribute 'pieplot'"
     ]
    }
   ],
   "source": [
    "#PieChart\n",
    "TimpY.pieplot(labels=TimpY_sorted.index, autopct='%1.1f')"
   ]
  },
  {
   "cell_type": "code",
   "execution_count": 630,
   "metadata": {},
   "outputs": [
    {
     "data": {
      "text/plain": [
       "pandas.core.frame.DataFrame"
      ]
     },
     "execution_count": 630,
     "metadata": {},
     "output_type": "execute_result"
    }
   ],
   "source": [
    "ex_Yearlist_Exports"
   ]
  },
  {
   "cell_type": "code",
   "execution_count": 636,
   "metadata": {},
   "outputs": [
    {
     "data": {
      "application/vnd.plotly.v1+json": {
       "config": {
        "plotlyServerURL": "https://plot.ly"
       },
       "data": [
        {
         "customdata": [
          [
           "0--All Merchandise"
          ],
          [
           "85--Electric Machinery Etc; Sound Equip"
          ],
          [
           "84--Nuclear Reactors, Boilers, Machinery"
          ],
          [
           "73--Articles Of Iron Or Steel"
          ],
          [
           "87--Vehicles, Except Railway Or Tramway"
          ],
          [
           "39--Plastics & Articles Thereof"
          ],
          [
           "90--Optic, Photo, Medic Or Surgical Instrments"
          ],
          [
           "95--Toys, Games & Sport Equipment"
          ],
          [
           "98--Special Classification Provisions, Nesoi"
          ],
          [
           "94--Furniture; Bedding"
          ],
          [
           "83--Miscellaneous Articles Of Base Metal"
          ],
          [
           "72--Iron And Steel"
          ],
          [
           "82--Tools, Cutlery Etc. Of Base Metal"
          ],
          [
           "40--Rubber & Articles Thereof"
          ],
          [
           "99--Special Import Provisions, Nesoi"
          ],
          [
           "29--Organic Chemicals"
          ],
          [
           "27--Mineral Fuel, Oil; Bitumin Subst"
          ],
          [
           "38--Miscellaneous Chemical Products"
          ],
          [
           "71--Nat Etc Pearls, Prec Etc Stones"
          ],
          [
           "30--Pharmaceutical Products"
          ],
          [
           "28--Inorg Chem; Prec & Rare-Earth Met"
          ],
          [
           "70--Glass And Glassware"
          ],
          [
           "74--Copper And Articles Thereof"
          ],
          [
           "76--Aluminum And Articles Thereof"
          ],
          [
           "89--Ships, Boats And Floating Structures"
          ],
          [
           "48--Paper & Paperboard"
          ],
          [
           "21--Miscellaneous Edible Preparations"
          ],
          [
           "93--Arms & Ammunition"
          ],
          [
           "63--Textile Art Nesoi; Needlecraft Sets"
          ],
          [
           "42--Leather Art; Saddlery"
          ],
          [
           "19--Prep Cereal, Flour, Starch"
          ],
          [
           "58--Spec Wov Fabrics"
          ],
          [
           "03--Fish & Aquatic Invertebrates"
          ],
          [
           "33--Essential Oils; Perfumery, Cosmetic"
          ],
          [
           "61--Apparel Articles & Accessories"
          ],
          [
           "59--Impregnated Etc Text Fabrics"
          ],
          [
           "54--Manmade Filaments, Including Yarns"
          ],
          [
           "65--Headgear & Parts Thereof"
          ],
          [
           "92--Musical Instruments"
          ],
          [
           "96--Miscellaneous Manufactured Articles"
          ],
          [
           "88--Aircraft, Spacecraft, And Parts Thereof"
          ],
          [
           "06--Live Trees, Plants, Bulbs"
          ],
          [
           "68--Art Of Stone, Plaster Etc."
          ],
          [
           "81--Base Metals Nesoi; Cermets"
          ],
          [
           "32--Tanning & Dye Ext"
          ],
          [
           "56--Wadding, Felt"
          ],
          [
           "20--Prep Vegetables, Fruit, Nuts"
          ],
          [
           "17--Sugars And Sugar Confectionary"
          ],
          [
           "60--Knitted Or Crocheted Fabrics"
          ],
          [
           "64--Footwear, Gaiters"
          ],
          [
           "22--Beverages, Spirits And Vinegar"
          ],
          [
           "44--Wood & Articles Of Wood"
          ],
          [
           "79--Zinc And Articles Thereof"
          ],
          [
           "62--Apparel Articles & Accessories"
          ],
          [
           "49--Printed Books, Newspapers"
          ],
          [
           "55--Manmade Staple Fibers, Including Yarns"
          ],
          [
           "75--Nickel And Articles Thereof"
          ],
          [
           "25--Salt; Sulfur; Earth & Stone"
          ],
          [
           "34--Soap; Waxes, Polish"
          ],
          [
           "09--Coffee, Tea, Mate & Spices"
          ],
          [
           "16--Edible Preparations Of Meat, Fish"
          ],
          [
           "15--Animal Or Vegetable Fats, Oils"
          ],
          [
           "35--Albuminoidal Subst; Modified Starch"
          ],
          [
           "66--Umbrellas, Walking-Sticks"
          ],
          [
           "05--Products Of Animal Origin"
          ],
          [
           "37--Photographic Goods"
          ],
          [
           "04--Dairy Prods; Birds Eggs; Honey"
          ],
          [
           "12--Oil Seeds Etc.; Misc Grain"
          ],
          [
           "91--Clocks And Watches And Parts Thereof"
          ],
          [
           "69--Ceramic Products"
          ],
          [
           "11--Milling Products; Malt; Starch"
          ],
          [
           "23--Food Industry Residues & Waste"
          ],
          [
           "46--Mfr Of Straw, Esparto"
          ],
          [
           "45--Cork And Articles Of Cork"
          ],
          [
           "07--Edible Vegetables & Certain Roots"
          ],
          [
           "86--Railway Or Tramway Stock Etc"
          ],
          [
           "01--Live Animals"
          ],
          [
           "97--Works Of Art, Collectors' Pieces & Antiques"
          ],
          [
           "57--Carpets & Floor Coverings"
          ],
          [
           "53--Veg Text Fib Nesoi"
          ],
          [
           "52--Cotton, Including Yarn"
          ],
          [
           "31--Fertilizers"
          ],
          [
           "78--Lead And Articles Thereof"
          ],
          [
           "13--Lac; Gums & Other Vegetable Sap"
          ],
          [
           "10--Cereals"
          ],
          [
           "41--Raw Hides & Skins & Leather"
          ],
          [
           "08--Edible Fruit & Nuts; Citrus Fruit"
          ],
          [
           "80--Tin And Articles Thereof"
          ],
          [
           "67--Prep Feathers, Down Etc"
          ],
          [
           "51--Wool & Animal Hair, Including Yarn"
          ],
          [
           "18--Cocoa And Cocoa Preparations"
          ],
          [
           "26--Ores, Slag And Ash"
          ],
          [
           "43--Furskins & Artificial Fur"
          ],
          [
           "24--Tobacco & Manufactured Tobacco Substitutes"
          ],
          [
           "14--Vegetable Plaiting Materials & Products"
          ],
          [
           "50--Silk, Including Yarns"
          ],
          [
           "36--Explosives; Pyrotechnics"
          ],
          [
           "47--Wood Pulp"
          ],
          [
           "0--All Merchandise"
          ],
          [
           "85--Electric Machinery Etc; Sound Equip"
          ],
          [
           "84--Nuclear Reactors, Boilers, Machinery"
          ],
          [
           "73--Articles Of Iron Or Steel"
          ],
          [
           "87--Vehicles, Except Railway Or Tramway"
          ],
          [
           "39--Plastics & Articles Thereof"
          ],
          [
           "90--Optic, Photo, Medic Or Surgical Instrments"
          ],
          [
           "95--Toys, Games & Sport Equipment"
          ],
          [
           "98--Special Classification Provisions, Nesoi"
          ],
          [
           "94--Furniture; Bedding"
          ],
          [
           "83--Miscellaneous Articles Of Base Metal"
          ],
          [
           "72--Iron And Steel"
          ],
          [
           "82--Tools, Cutlery Etc. Of Base Metal"
          ],
          [
           "40--Rubber & Articles Thereof"
          ],
          [
           "99--Special Import Provisions, Nesoi"
          ],
          [
           "29--Organic Chemicals"
          ],
          [
           "27--Mineral Fuel, Oil; Bitumin Subst"
          ],
          [
           "38--Miscellaneous Chemical Products"
          ],
          [
           "71--Nat Etc Pearls, Prec Etc Stones"
          ],
          [
           "30--Pharmaceutical Products"
          ],
          [
           "28--Inorg Chem; Prec & Rare-Earth Met"
          ],
          [
           "70--Glass And Glassware"
          ],
          [
           "74--Copper And Articles Thereof"
          ],
          [
           "76--Aluminum And Articles Thereof"
          ],
          [
           "89--Ships, Boats And Floating Structures"
          ],
          [
           "48--Paper & Paperboard"
          ],
          [
           "21--Miscellaneous Edible Preparations"
          ],
          [
           "93--Arms & Ammunition"
          ],
          [
           "63--Textile Art Nesoi; Needlecraft Sets"
          ],
          [
           "42--Leather Art; Saddlery"
          ],
          [
           "19--Prep Cereal, Flour, Starch"
          ],
          [
           "58--Spec Wov Fabrics"
          ],
          [
           "03--Fish & Aquatic Invertebrates"
          ],
          [
           "33--Essential Oils; Perfumery, Cosmetic"
          ],
          [
           "61--Apparel Articles & Accessories"
          ],
          [
           "59--Impregnated Etc Text Fabrics"
          ],
          [
           "54--Manmade Filaments, Including Yarns"
          ],
          [
           "65--Headgear & Parts Thereof"
          ],
          [
           "92--Musical Instruments"
          ],
          [
           "96--Miscellaneous Manufactured Articles"
          ],
          [
           "88--Aircraft, Spacecraft, And Parts Thereof"
          ],
          [
           "06--Live Trees, Plants, Bulbs"
          ],
          [
           "68--Art Of Stone, Plaster Etc."
          ],
          [
           "81--Base Metals Nesoi; Cermets"
          ],
          [
           "32--Tanning & Dye Ext"
          ],
          [
           "56--Wadding, Felt"
          ],
          [
           "20--Prep Vegetables, Fruit, Nuts"
          ],
          [
           "17--Sugars And Sugar Confectionary"
          ],
          [
           "60--Knitted Or Crocheted Fabrics"
          ],
          [
           "64--Footwear, Gaiters"
          ],
          [
           "22--Beverages, Spirits And Vinegar"
          ],
          [
           "44--Wood & Articles Of Wood"
          ],
          [
           "79--Zinc And Articles Thereof"
          ],
          [
           "62--Apparel Articles & Accessories"
          ],
          [
           "49--Printed Books, Newspapers"
          ],
          [
           "55--Manmade Staple Fibers, Including Yarns"
          ],
          [
           "75--Nickel And Articles Thereof"
          ],
          [
           "25--Salt; Sulfur; Earth & Stone"
          ],
          [
           "34--Soap; Waxes, Polish"
          ],
          [
           "09--Coffee, Tea, Mate & Spices"
          ],
          [
           "16--Edible Preparations Of Meat, Fish"
          ],
          [
           "15--Animal Or Vegetable Fats, Oils"
          ],
          [
           "35--Albuminoidal Subst; Modified Starch"
          ],
          [
           "66--Umbrellas, Walking-Sticks"
          ],
          [
           "05--Products Of Animal Origin"
          ],
          [
           "37--Photographic Goods"
          ],
          [
           "04--Dairy Prods; Birds Eggs; Honey"
          ],
          [
           "12--Oil Seeds Etc.; Misc Grain"
          ],
          [
           "91--Clocks And Watches And Parts Thereof"
          ],
          [
           "69--Ceramic Products"
          ],
          [
           "11--Milling Products; Malt; Starch"
          ],
          [
           "23--Food Industry Residues & Waste"
          ],
          [
           "46--Mfr Of Straw, Esparto"
          ],
          [
           "45--Cork And Articles Of Cork"
          ],
          [
           "07--Edible Vegetables & Certain Roots"
          ],
          [
           "86--Railway Or Tramway Stock Etc"
          ],
          [
           "01--Live Animals"
          ],
          [
           "97--Works Of Art, Collectors' Pieces & Antiques"
          ],
          [
           "57--Carpets & Floor Coverings"
          ],
          [
           "53--Veg Text Fib Nesoi"
          ],
          [
           "52--Cotton, Including Yarn"
          ],
          [
           "31--Fertilizers"
          ],
          [
           "78--Lead And Articles Thereof"
          ],
          [
           "13--Lac; Gums & Other Vegetable Sap"
          ],
          [
           "10--Cereals"
          ],
          [
           "41--Raw Hides & Skins & Leather"
          ],
          [
           "08--Edible Fruit & Nuts; Citrus Fruit"
          ],
          [
           "80--Tin And Articles Thereof"
          ],
          [
           "67--Prep Feathers, Down Etc"
          ],
          [
           "51--Wool & Animal Hair, Including Yarn"
          ],
          [
           "18--Cocoa And Cocoa Preparations"
          ],
          [
           "26--Ores, Slag And Ash"
          ],
          [
           "43--Furskins & Artificial Fur"
          ],
          [
           "24--Tobacco & Manufactured Tobacco Substitutes"
          ],
          [
           "14--Vegetable Plaiting Materials & Products"
          ],
          [
           "50--Silk, Including Yarns"
          ],
          [
           "36--Explosives; Pyrotechnics"
          ],
          [
           "47--Wood Pulp"
          ],
          [
           "0--All Merchandise"
          ],
          [
           "85--Electric Machinery Etc; Sound Equip"
          ],
          [
           "84--Nuclear Reactors, Boilers, Machinery"
          ],
          [
           "73--Articles Of Iron Or Steel"
          ],
          [
           "87--Vehicles, Except Railway Or Tramway"
          ],
          [
           "39--Plastics & Articles Thereof"
          ],
          [
           "90--Optic, Photo, Medic Or Surgical Instrments"
          ],
          [
           "95--Toys, Games & Sport Equipment"
          ],
          [
           "98--Special Classification Provisions, Nesoi"
          ],
          [
           "94--Furniture; Bedding"
          ],
          [
           "83--Miscellaneous Articles Of Base Metal"
          ],
          [
           "72--Iron And Steel"
          ],
          [
           "82--Tools, Cutlery Etc. Of Base Metal"
          ],
          [
           "40--Rubber & Articles Thereof"
          ],
          [
           "99--Special Import Provisions, Nesoi"
          ],
          [
           "29--Organic Chemicals"
          ],
          [
           "27--Mineral Fuel, Oil; Bitumin Subst"
          ],
          [
           "38--Miscellaneous Chemical Products"
          ],
          [
           "71--Nat Etc Pearls, Prec Etc Stones"
          ],
          [
           "30--Pharmaceutical Products"
          ],
          [
           "28--Inorg Chem; Prec & Rare-Earth Met"
          ],
          [
           "70--Glass And Glassware"
          ],
          [
           "74--Copper And Articles Thereof"
          ],
          [
           "76--Aluminum And Articles Thereof"
          ],
          [
           "89--Ships, Boats And Floating Structures"
          ],
          [
           "48--Paper & Paperboard"
          ],
          [
           "21--Miscellaneous Edible Preparations"
          ],
          [
           "93--Arms & Ammunition"
          ],
          [
           "63--Textile Art Nesoi; Needlecraft Sets"
          ],
          [
           "42--Leather Art; Saddlery"
          ],
          [
           "19--Prep Cereal, Flour, Starch"
          ],
          [
           "58--Spec Wov Fabrics"
          ],
          [
           "03--Fish & Aquatic Invertebrates"
          ],
          [
           "33--Essential Oils; Perfumery, Cosmetic"
          ],
          [
           "61--Apparel Articles & Accessories"
          ],
          [
           "59--Impregnated Etc Text Fabrics"
          ],
          [
           "54--Manmade Filaments, Including Yarns"
          ],
          [
           "65--Headgear & Parts Thereof"
          ],
          [
           "92--Musical Instruments"
          ],
          [
           "96--Miscellaneous Manufactured Articles"
          ],
          [
           "88--Aircraft, Spacecraft, And Parts Thereof"
          ],
          [
           "06--Live Trees, Plants, Bulbs"
          ],
          [
           "68--Art Of Stone, Plaster Etc."
          ],
          [
           "81--Base Metals Nesoi; Cermets"
          ],
          [
           "32--Tanning & Dye Ext"
          ],
          [
           "56--Wadding, Felt"
          ],
          [
           "20--Prep Vegetables, Fruit, Nuts"
          ],
          [
           "17--Sugars And Sugar Confectionary"
          ],
          [
           "60--Knitted Or Crocheted Fabrics"
          ],
          [
           "64--Footwear, Gaiters"
          ],
          [
           "22--Beverages, Spirits And Vinegar"
          ],
          [
           "44--Wood & Articles Of Wood"
          ],
          [
           "79--Zinc And Articles Thereof"
          ],
          [
           "62--Apparel Articles & Accessories"
          ],
          [
           "49--Printed Books, Newspapers"
          ],
          [
           "55--Manmade Staple Fibers, Including Yarns"
          ],
          [
           "75--Nickel And Articles Thereof"
          ],
          [
           "25--Salt; Sulfur; Earth & Stone"
          ],
          [
           "34--Soap; Waxes, Polish"
          ],
          [
           "09--Coffee, Tea, Mate & Spices"
          ],
          [
           "16--Edible Preparations Of Meat, Fish"
          ],
          [
           "15--Animal Or Vegetable Fats, Oils"
          ],
          [
           "35--Albuminoidal Subst; Modified Starch"
          ],
          [
           "66--Umbrellas, Walking-Sticks"
          ],
          [
           "05--Products Of Animal Origin"
          ],
          [
           "37--Photographic Goods"
          ],
          [
           "04--Dairy Prods; Birds Eggs; Honey"
          ],
          [
           "12--Oil Seeds Etc.; Misc Grain"
          ],
          [
           "91--Clocks And Watches And Parts Thereof"
          ],
          [
           "69--Ceramic Products"
          ],
          [
           "11--Milling Products; Malt; Starch"
          ],
          [
           "23--Food Industry Residues & Waste"
          ],
          [
           "46--Mfr Of Straw, Esparto"
          ],
          [
           "45--Cork And Articles Of Cork"
          ],
          [
           "07--Edible Vegetables & Certain Roots"
          ],
          [
           "86--Railway Or Tramway Stock Etc"
          ],
          [
           "01--Live Animals"
          ],
          [
           "97--Works Of Art, Collectors' Pieces & Antiques"
          ],
          [
           "57--Carpets & Floor Coverings"
          ],
          [
           "53--Veg Text Fib Nesoi"
          ],
          [
           "52--Cotton, Including Yarn"
          ],
          [
           "31--Fertilizers"
          ],
          [
           "78--Lead And Articles Thereof"
          ],
          [
           "13--Lac; Gums & Other Vegetable Sap"
          ],
          [
           "10--Cereals"
          ],
          [
           "41--Raw Hides & Skins & Leather"
          ],
          [
           "08--Edible Fruit & Nuts; Citrus Fruit"
          ],
          [
           "80--Tin And Articles Thereof"
          ],
          [
           "67--Prep Feathers, Down Etc"
          ],
          [
           "51--Wool & Animal Hair, Including Yarn"
          ],
          [
           "18--Cocoa And Cocoa Preparations"
          ],
          [
           "26--Ores, Slag And Ash"
          ],
          [
           "43--Furskins & Artificial Fur"
          ],
          [
           "24--Tobacco & Manufactured Tobacco Substitutes"
          ],
          [
           "14--Vegetable Plaiting Materials & Products"
          ],
          [
           "50--Silk, Including Yarns"
          ],
          [
           "36--Explosives; Pyrotechnics"
          ],
          [
           "47--Wood Pulp"
          ],
          [
           "0--All Merchandise"
          ],
          [
           "85--Electric Machinery Etc; Sound Equip"
          ],
          [
           "84--Nuclear Reactors, Boilers, Machinery"
          ],
          [
           "73--Articles Of Iron Or Steel"
          ],
          [
           "87--Vehicles, Except Railway Or Tramway"
          ],
          [
           "39--Plastics & Articles Thereof"
          ],
          [
           "90--Optic, Photo, Medic Or Surgical Instrments"
          ],
          [
           "95--Toys, Games & Sport Equipment"
          ],
          [
           "98--Special Classification Provisions, Nesoi"
          ],
          [
           "94--Furniture; Bedding"
          ],
          [
           "83--Miscellaneous Articles Of Base Metal"
          ],
          [
           "72--Iron And Steel"
          ],
          [
           "82--Tools, Cutlery Etc. Of Base Metal"
          ],
          [
           "40--Rubber & Articles Thereof"
          ],
          [
           "99--Special Import Provisions, Nesoi"
          ],
          [
           "29--Organic Chemicals"
          ],
          [
           "27--Mineral Fuel, Oil; Bitumin Subst"
          ],
          [
           "38--Miscellaneous Chemical Products"
          ],
          [
           "71--Nat Etc Pearls, Prec Etc Stones"
          ],
          [
           "30--Pharmaceutical Products"
          ],
          [
           "28--Inorg Chem; Prec & Rare-Earth Met"
          ],
          [
           "70--Glass And Glassware"
          ],
          [
           "74--Copper And Articles Thereof"
          ],
          [
           "76--Aluminum And Articles Thereof"
          ],
          [
           "89--Ships, Boats And Floating Structures"
          ],
          [
           "48--Paper & Paperboard"
          ],
          [
           "21--Miscellaneous Edible Preparations"
          ],
          [
           "93--Arms & Ammunition"
          ],
          [
           "63--Textile Art Nesoi; Needlecraft Sets"
          ],
          [
           "42--Leather Art; Saddlery"
          ],
          [
           "19--Prep Cereal, Flour, Starch"
          ],
          [
           "58--Spec Wov Fabrics"
          ],
          [
           "03--Fish & Aquatic Invertebrates"
          ],
          [
           "33--Essential Oils; Perfumery, Cosmetic"
          ],
          [
           "61--Apparel Articles & Accessories"
          ],
          [
           "59--Impregnated Etc Text Fabrics"
          ],
          [
           "54--Manmade Filaments, Including Yarns"
          ],
          [
           "65--Headgear & Parts Thereof"
          ],
          [
           "92--Musical Instruments"
          ],
          [
           "96--Miscellaneous Manufactured Articles"
          ],
          [
           "88--Aircraft, Spacecraft, And Parts Thereof"
          ],
          [
           "06--Live Trees, Plants, Bulbs"
          ],
          [
           "68--Art Of Stone, Plaster Etc."
          ],
          [
           "81--Base Metals Nesoi; Cermets"
          ],
          [
           "32--Tanning & Dye Ext"
          ],
          [
           "56--Wadding, Felt"
          ],
          [
           "20--Prep Vegetables, Fruit, Nuts"
          ],
          [
           "17--Sugars And Sugar Confectionary"
          ],
          [
           "60--Knitted Or Crocheted Fabrics"
          ],
          [
           "64--Footwear, Gaiters"
          ],
          [
           "22--Beverages, Spirits And Vinegar"
          ],
          [
           "44--Wood & Articles Of Wood"
          ],
          [
           "79--Zinc And Articles Thereof"
          ],
          [
           "62--Apparel Articles & Accessories"
          ],
          [
           "49--Printed Books, Newspapers"
          ],
          [
           "55--Manmade Staple Fibers, Including Yarns"
          ],
          [
           "75--Nickel And Articles Thereof"
          ],
          [
           "25--Salt; Sulfur; Earth & Stone"
          ],
          [
           "34--Soap; Waxes, Polish"
          ],
          [
           "09--Coffee, Tea, Mate & Spices"
          ],
          [
           "16--Edible Preparations Of Meat, Fish"
          ],
          [
           "15--Animal Or Vegetable Fats, Oils"
          ],
          [
           "35--Albuminoidal Subst; Modified Starch"
          ],
          [
           "66--Umbrellas, Walking-Sticks"
          ],
          [
           "05--Products Of Animal Origin"
          ],
          [
           "37--Photographic Goods"
          ],
          [
           "04--Dairy Prods; Birds Eggs; Honey"
          ],
          [
           "12--Oil Seeds Etc.; Misc Grain"
          ],
          [
           "91--Clocks And Watches And Parts Thereof"
          ],
          [
           "69--Ceramic Products"
          ],
          [
           "11--Milling Products; Malt; Starch"
          ],
          [
           "23--Food Industry Residues & Waste"
          ],
          [
           "46--Mfr Of Straw, Esparto"
          ],
          [
           "45--Cork And Articles Of Cork"
          ],
          [
           "07--Edible Vegetables & Certain Roots"
          ],
          [
           "86--Railway Or Tramway Stock Etc"
          ],
          [
           "01--Live Animals"
          ],
          [
           "97--Works Of Art, Collectors' Pieces & Antiques"
          ],
          [
           "57--Carpets & Floor Coverings"
          ],
          [
           "53--Veg Text Fib Nesoi"
          ],
          [
           "52--Cotton, Including Yarn"
          ],
          [
           "31--Fertilizers"
          ],
          [
           "78--Lead And Articles Thereof"
          ],
          [
           "13--Lac; Gums & Other Vegetable Sap"
          ],
          [
           "10--Cereals"
          ],
          [
           "41--Raw Hides & Skins & Leather"
          ],
          [
           "08--Edible Fruit & Nuts; Citrus Fruit"
          ],
          [
           "80--Tin And Articles Thereof"
          ],
          [
           "67--Prep Feathers, Down Etc"
          ],
          [
           "51--Wool & Animal Hair, Including Yarn"
          ],
          [
           "18--Cocoa And Cocoa Preparations"
          ],
          [
           "26--Ores, Slag And Ash"
          ],
          [
           "43--Furskins & Artificial Fur"
          ],
          [
           "24--Tobacco & Manufactured Tobacco Substitutes"
          ],
          [
           "14--Vegetable Plaiting Materials & Products"
          ],
          [
           "50--Silk, Including Yarns"
          ],
          [
           "36--Explosives; Pyrotechnics"
          ],
          [
           "47--Wood Pulp"
          ],
          [
           "0--All Merchandise"
          ],
          [
           "85--Electric Machinery Etc; Sound Equip"
          ],
          [
           "84--Nuclear Reactors, Boilers, Machinery"
          ],
          [
           "73--Articles Of Iron Or Steel"
          ],
          [
           "87--Vehicles, Except Railway Or Tramway"
          ],
          [
           "39--Plastics & Articles Thereof"
          ],
          [
           "90--Optic, Photo, Medic Or Surgical Instrments"
          ],
          [
           "95--Toys, Games & Sport Equipment"
          ],
          [
           "98--Special Classification Provisions, Nesoi"
          ],
          [
           "94--Furniture; Bedding"
          ],
          [
           "83--Miscellaneous Articles Of Base Metal"
          ],
          [
           "72--Iron And Steel"
          ],
          [
           "82--Tools, Cutlery Etc. Of Base Metal"
          ],
          [
           "40--Rubber & Articles Thereof"
          ],
          [
           "99--Special Import Provisions, Nesoi"
          ],
          [
           "29--Organic Chemicals"
          ],
          [
           "27--Mineral Fuel, Oil; Bitumin Subst"
          ],
          [
           "38--Miscellaneous Chemical Products"
          ],
          [
           "71--Nat Etc Pearls, Prec Etc Stones"
          ],
          [
           "30--Pharmaceutical Products"
          ],
          [
           "28--Inorg Chem; Prec & Rare-Earth Met"
          ],
          [
           "70--Glass And Glassware"
          ],
          [
           "74--Copper And Articles Thereof"
          ],
          [
           "76--Aluminum And Articles Thereof"
          ],
          [
           "89--Ships, Boats And Floating Structures"
          ],
          [
           "48--Paper & Paperboard"
          ],
          [
           "21--Miscellaneous Edible Preparations"
          ],
          [
           "93--Arms & Ammunition"
          ],
          [
           "63--Textile Art Nesoi; Needlecraft Sets"
          ],
          [
           "42--Leather Art; Saddlery"
          ],
          [
           "19--Prep Cereal, Flour, Starch"
          ],
          [
           "58--Spec Wov Fabrics"
          ],
          [
           "03--Fish & Aquatic Invertebrates"
          ],
          [
           "33--Essential Oils; Perfumery, Cosmetic"
          ],
          [
           "61--Apparel Articles & Accessories"
          ],
          [
           "59--Impregnated Etc Text Fabrics"
          ],
          [
           "54--Manmade Filaments, Including Yarns"
          ],
          [
           "65--Headgear & Parts Thereof"
          ],
          [
           "92--Musical Instruments"
          ],
          [
           "96--Miscellaneous Manufactured Articles"
          ],
          [
           "88--Aircraft, Spacecraft, And Parts Thereof"
          ],
          [
           "06--Live Trees, Plants, Bulbs"
          ],
          [
           "68--Art Of Stone, Plaster Etc."
          ],
          [
           "81--Base Metals Nesoi; Cermets"
          ],
          [
           "32--Tanning & Dye Ext"
          ],
          [
           "56--Wadding, Felt"
          ],
          [
           "20--Prep Vegetables, Fruit, Nuts"
          ],
          [
           "17--Sugars And Sugar Confectionary"
          ],
          [
           "60--Knitted Or Crocheted Fabrics"
          ],
          [
           "64--Footwear, Gaiters"
          ],
          [
           "22--Beverages, Spirits And Vinegar"
          ],
          [
           "44--Wood & Articles Of Wood"
          ],
          [
           "79--Zinc And Articles Thereof"
          ],
          [
           "62--Apparel Articles & Accessories"
          ],
          [
           "49--Printed Books, Newspapers"
          ],
          [
           "55--Manmade Staple Fibers, Including Yarns"
          ],
          [
           "75--Nickel And Articles Thereof"
          ],
          [
           "25--Salt; Sulfur; Earth & Stone"
          ],
          [
           "34--Soap; Waxes, Polish"
          ],
          [
           "09--Coffee, Tea, Mate & Spices"
          ],
          [
           "16--Edible Preparations Of Meat, Fish"
          ],
          [
           "15--Animal Or Vegetable Fats, Oils"
          ],
          [
           "35--Albuminoidal Subst; Modified Starch"
          ],
          [
           "66--Umbrellas, Walking-Sticks"
          ],
          [
           "05--Products Of Animal Origin"
          ],
          [
           "37--Photographic Goods"
          ],
          [
           "04--Dairy Prods; Birds Eggs; Honey"
          ],
          [
           "12--Oil Seeds Etc.; Misc Grain"
          ],
          [
           "91--Clocks And Watches And Parts Thereof"
          ],
          [
           "69--Ceramic Products"
          ],
          [
           "11--Milling Products; Malt; Starch"
          ],
          [
           "23--Food Industry Residues & Waste"
          ],
          [
           "46--Mfr Of Straw, Esparto"
          ],
          [
           "45--Cork And Articles Of Cork"
          ],
          [
           "07--Edible Vegetables & Certain Roots"
          ],
          [
           "86--Railway Or Tramway Stock Etc"
          ],
          [
           "01--Live Animals"
          ],
          [
           "97--Works Of Art, Collectors' Pieces & Antiques"
          ],
          [
           "57--Carpets & Floor Coverings"
          ],
          [
           "53--Veg Text Fib Nesoi"
          ],
          [
           "52--Cotton, Including Yarn"
          ],
          [
           "31--Fertilizers"
          ],
          [
           "78--Lead And Articles Thereof"
          ],
          [
           "13--Lac; Gums & Other Vegetable Sap"
          ],
          [
           "10--Cereals"
          ],
          [
           "41--Raw Hides & Skins & Leather"
          ],
          [
           "08--Edible Fruit & Nuts; Citrus Fruit"
          ],
          [
           "80--Tin And Articles Thereof"
          ],
          [
           "67--Prep Feathers, Down Etc"
          ],
          [
           "51--Wool & Animal Hair, Including Yarn"
          ],
          [
           "18--Cocoa And Cocoa Preparations"
          ],
          [
           "26--Ores, Slag And Ash"
          ],
          [
           "43--Furskins & Artificial Fur"
          ],
          [
           "24--Tobacco & Manufactured Tobacco Substitutes"
          ],
          [
           "14--Vegetable Plaiting Materials & Products"
          ],
          [
           "50--Silk, Including Yarns"
          ],
          [
           "36--Explosives; Pyrotechnics"
          ],
          [
           "47--Wood Pulp"
          ],
          [
           "0--All Merchandise"
          ],
          [
           "85--Electric Machinery Etc; Sound Equip"
          ],
          [
           "84--Nuclear Reactors, Boilers, Machinery"
          ],
          [
           "73--Articles Of Iron Or Steel"
          ],
          [
           "87--Vehicles, Except Railway Or Tramway"
          ],
          [
           "39--Plastics & Articles Thereof"
          ],
          [
           "90--Optic, Photo, Medic Or Surgical Instrments"
          ],
          [
           "95--Toys, Games & Sport Equipment"
          ],
          [
           "98--Special Classification Provisions, Nesoi"
          ],
          [
           "94--Furniture; Bedding"
          ],
          [
           "83--Miscellaneous Articles Of Base Metal"
          ],
          [
           "72--Iron And Steel"
          ],
          [
           "82--Tools, Cutlery Etc. Of Base Metal"
          ],
          [
           "40--Rubber & Articles Thereof"
          ],
          [
           "99--Special Import Provisions, Nesoi"
          ],
          [
           "29--Organic Chemicals"
          ],
          [
           "27--Mineral Fuel, Oil; Bitumin Subst"
          ],
          [
           "38--Miscellaneous Chemical Products"
          ],
          [
           "71--Nat Etc Pearls, Prec Etc Stones"
          ],
          [
           "30--Pharmaceutical Products"
          ],
          [
           "28--Inorg Chem; Prec & Rare-Earth Met"
          ],
          [
           "70--Glass And Glassware"
          ],
          [
           "74--Copper And Articles Thereof"
          ],
          [
           "76--Aluminum And Articles Thereof"
          ],
          [
           "89--Ships, Boats And Floating Structures"
          ],
          [
           "48--Paper & Paperboard"
          ],
          [
           "21--Miscellaneous Edible Preparations"
          ],
          [
           "93--Arms & Ammunition"
          ],
          [
           "63--Textile Art Nesoi; Needlecraft Sets"
          ],
          [
           "42--Leather Art; Saddlery"
          ],
          [
           "19--Prep Cereal, Flour, Starch"
          ],
          [
           "58--Spec Wov Fabrics"
          ],
          [
           "03--Fish & Aquatic Invertebrates"
          ],
          [
           "33--Essential Oils; Perfumery, Cosmetic"
          ],
          [
           "61--Apparel Articles & Accessories"
          ],
          [
           "59--Impregnated Etc Text Fabrics"
          ],
          [
           "54--Manmade Filaments, Including Yarns"
          ],
          [
           "65--Headgear & Parts Thereof"
          ],
          [
           "92--Musical Instruments"
          ],
          [
           "96--Miscellaneous Manufactured Articles"
          ],
          [
           "88--Aircraft, Spacecraft, And Parts Thereof"
          ],
          [
           "06--Live Trees, Plants, Bulbs"
          ],
          [
           "68--Art Of Stone, Plaster Etc."
          ],
          [
           "81--Base Metals Nesoi; Cermets"
          ],
          [
           "32--Tanning & Dye Ext"
          ],
          [
           "56--Wadding, Felt"
          ],
          [
           "20--Prep Vegetables, Fruit, Nuts"
          ],
          [
           "17--Sugars And Sugar Confectionary"
          ],
          [
           "60--Knitted Or Crocheted Fabrics"
          ],
          [
           "64--Footwear, Gaiters"
          ],
          [
           "22--Beverages, Spirits And Vinegar"
          ],
          [
           "44--Wood & Articles Of Wood"
          ],
          [
           "79--Zinc And Articles Thereof"
          ],
          [
           "62--Apparel Articles & Accessories"
          ],
          [
           "49--Printed Books, Newspapers"
          ],
          [
           "55--Manmade Staple Fibers, Including Yarns"
          ],
          [
           "75--Nickel And Articles Thereof"
          ],
          [
           "25--Salt; Sulfur; Earth & Stone"
          ],
          [
           "34--Soap; Waxes, Polish"
          ],
          [
           "09--Coffee, Tea, Mate & Spices"
          ],
          [
           "16--Edible Preparations Of Meat, Fish"
          ],
          [
           "15--Animal Or Vegetable Fats, Oils"
          ],
          [
           "35--Albuminoidal Subst; Modified Starch"
          ],
          [
           "66--Umbrellas, Walking-Sticks"
          ],
          [
           "05--Products Of Animal Origin"
          ],
          [
           "37--Photographic Goods"
          ],
          [
           "04--Dairy Prods; Birds Eggs; Honey"
          ],
          [
           "12--Oil Seeds Etc.; Misc Grain"
          ],
          [
           "91--Clocks And Watches And Parts Thereof"
          ],
          [
           "69--Ceramic Products"
          ],
          [
           "11--Milling Products; Malt; Starch"
          ],
          [
           "23--Food Industry Residues & Waste"
          ],
          [
           "46--Mfr Of Straw, Esparto"
          ],
          [
           "45--Cork And Articles Of Cork"
          ],
          [
           "07--Edible Vegetables & Certain Roots"
          ],
          [
           "86--Railway Or Tramway Stock Etc"
          ],
          [
           "01--Live Animals"
          ],
          [
           "97--Works Of Art, Collectors' Pieces & Antiques"
          ],
          [
           "57--Carpets & Floor Coverings"
          ],
          [
           "53--Veg Text Fib Nesoi"
          ],
          [
           "52--Cotton, Including Yarn"
          ],
          [
           "31--Fertilizers"
          ],
          [
           "78--Lead And Articles Thereof"
          ],
          [
           "13--Lac; Gums & Other Vegetable Sap"
          ],
          [
           "10--Cereals"
          ],
          [
           "41--Raw Hides & Skins & Leather"
          ],
          [
           "08--Edible Fruit & Nuts; Citrus Fruit"
          ],
          [
           "80--Tin And Articles Thereof"
          ],
          [
           "67--Prep Feathers, Down Etc"
          ],
          [
           "51--Wool & Animal Hair, Including Yarn"
          ],
          [
           "18--Cocoa And Cocoa Preparations"
          ],
          [
           "26--Ores, Slag And Ash"
          ],
          [
           "43--Furskins & Artificial Fur"
          ],
          [
           "24--Tobacco & Manufactured Tobacco Substitutes"
          ],
          [
           "14--Vegetable Plaiting Materials & Products"
          ],
          [
           "50--Silk, Including Yarns"
          ],
          [
           "36--Explosives; Pyrotechnics"
          ],
          [
           "47--Wood Pulp"
          ],
          [
           "0--All Merchandise"
          ],
          [
           "85--Electric Machinery Etc; Sound Equip"
          ],
          [
           "84--Nuclear Reactors, Boilers, Machinery"
          ],
          [
           "73--Articles Of Iron Or Steel"
          ],
          [
           "87--Vehicles, Except Railway Or Tramway"
          ],
          [
           "39--Plastics & Articles Thereof"
          ],
          [
           "90--Optic, Photo, Medic Or Surgical Instrments"
          ],
          [
           "95--Toys, Games & Sport Equipment"
          ],
          [
           "98--Special Classification Provisions, Nesoi"
          ],
          [
           "94--Furniture; Bedding"
          ],
          [
           "83--Miscellaneous Articles Of Base Metal"
          ],
          [
           "72--Iron And Steel"
          ],
          [
           "82--Tools, Cutlery Etc. Of Base Metal"
          ],
          [
           "40--Rubber & Articles Thereof"
          ],
          [
           "99--Special Import Provisions, Nesoi"
          ],
          [
           "29--Organic Chemicals"
          ],
          [
           "27--Mineral Fuel, Oil; Bitumin Subst"
          ],
          [
           "38--Miscellaneous Chemical Products"
          ],
          [
           "71--Nat Etc Pearls, Prec Etc Stones"
          ],
          [
           "30--Pharmaceutical Products"
          ],
          [
           "28--Inorg Chem; Prec & Rare-Earth Met"
          ],
          [
           "70--Glass And Glassware"
          ],
          [
           "74--Copper And Articles Thereof"
          ],
          [
           "76--Aluminum And Articles Thereof"
          ],
          [
           "89--Ships, Boats And Floating Structures"
          ],
          [
           "48--Paper & Paperboard"
          ],
          [
           "21--Miscellaneous Edible Preparations"
          ],
          [
           "93--Arms & Ammunition"
          ],
          [
           "63--Textile Art Nesoi; Needlecraft Sets"
          ],
          [
           "42--Leather Art; Saddlery"
          ],
          [
           "19--Prep Cereal, Flour, Starch"
          ],
          [
           "58--Spec Wov Fabrics"
          ],
          [
           "03--Fish & Aquatic Invertebrates"
          ],
          [
           "33--Essential Oils; Perfumery, Cosmetic"
          ],
          [
           "61--Apparel Articles & Accessories"
          ],
          [
           "59--Impregnated Etc Text Fabrics"
          ],
          [
           "54--Manmade Filaments, Including Yarns"
          ],
          [
           "65--Headgear & Parts Thereof"
          ],
          [
           "92--Musical Instruments"
          ],
          [
           "96--Miscellaneous Manufactured Articles"
          ],
          [
           "88--Aircraft, Spacecraft, And Parts Thereof"
          ],
          [
           "06--Live Trees, Plants, Bulbs"
          ],
          [
           "68--Art Of Stone, Plaster Etc."
          ],
          [
           "81--Base Metals Nesoi; Cermets"
          ],
          [
           "32--Tanning & Dye Ext"
          ],
          [
           "56--Wadding, Felt"
          ],
          [
           "20--Prep Vegetables, Fruit, Nuts"
          ],
          [
           "17--Sugars And Sugar Confectionary"
          ],
          [
           "60--Knitted Or Crocheted Fabrics"
          ],
          [
           "64--Footwear, Gaiters"
          ],
          [
           "22--Beverages, Spirits And Vinegar"
          ],
          [
           "44--Wood & Articles Of Wood"
          ],
          [
           "79--Zinc And Articles Thereof"
          ],
          [
           "62--Apparel Articles & Accessories"
          ],
          [
           "49--Printed Books, Newspapers"
          ],
          [
           "55--Manmade Staple Fibers, Including Yarns"
          ],
          [
           "75--Nickel And Articles Thereof"
          ],
          [
           "25--Salt; Sulfur; Earth & Stone"
          ],
          [
           "34--Soap; Waxes, Polish"
          ],
          [
           "09--Coffee, Tea, Mate & Spices"
          ],
          [
           "16--Edible Preparations Of Meat, Fish"
          ],
          [
           "15--Animal Or Vegetable Fats, Oils"
          ],
          [
           "35--Albuminoidal Subst; Modified Starch"
          ],
          [
           "66--Umbrellas, Walking-Sticks"
          ],
          [
           "05--Products Of Animal Origin"
          ],
          [
           "37--Photographic Goods"
          ],
          [
           "04--Dairy Prods; Birds Eggs; Honey"
          ],
          [
           "12--Oil Seeds Etc.; Misc Grain"
          ],
          [
           "91--Clocks And Watches And Parts Thereof"
          ],
          [
           "69--Ceramic Products"
          ],
          [
           "11--Milling Products; Malt; Starch"
          ],
          [
           "23--Food Industry Residues & Waste"
          ],
          [
           "46--Mfr Of Straw, Esparto"
          ],
          [
           "45--Cork And Articles Of Cork"
          ],
          [
           "07--Edible Vegetables & Certain Roots"
          ],
          [
           "86--Railway Or Tramway Stock Etc"
          ],
          [
           "01--Live Animals"
          ],
          [
           "97--Works Of Art, Collectors' Pieces & Antiques"
          ],
          [
           "57--Carpets & Floor Coverings"
          ],
          [
           "53--Veg Text Fib Nesoi"
          ],
          [
           "52--Cotton, Including Yarn"
          ],
          [
           "31--Fertilizers"
          ],
          [
           "78--Lead And Articles Thereof"
          ],
          [
           "13--Lac; Gums & Other Vegetable Sap"
          ],
          [
           "10--Cereals"
          ],
          [
           "41--Raw Hides & Skins & Leather"
          ],
          [
           "08--Edible Fruit & Nuts; Citrus Fruit"
          ],
          [
           "80--Tin And Articles Thereof"
          ],
          [
           "67--Prep Feathers, Down Etc"
          ],
          [
           "51--Wool & Animal Hair, Including Yarn"
          ],
          [
           "18--Cocoa And Cocoa Preparations"
          ],
          [
           "26--Ores, Slag And Ash"
          ],
          [
           "43--Furskins & Artificial Fur"
          ],
          [
           "24--Tobacco & Manufactured Tobacco Substitutes"
          ],
          [
           "14--Vegetable Plaiting Materials & Products"
          ],
          [
           "50--Silk, Including Yarns"
          ],
          [
           "36--Explosives; Pyrotechnics"
          ],
          [
           "47--Wood Pulp"
          ],
          [
           "0--All Merchandise"
          ],
          [
           "85--Electric Machinery Etc; Sound Equip"
          ],
          [
           "84--Nuclear Reactors, Boilers, Machinery"
          ],
          [
           "73--Articles Of Iron Or Steel"
          ],
          [
           "87--Vehicles, Except Railway Or Tramway"
          ],
          [
           "39--Plastics & Articles Thereof"
          ],
          [
           "90--Optic, Photo, Medic Or Surgical Instrments"
          ],
          [
           "95--Toys, Games & Sport Equipment"
          ],
          [
           "98--Special Classification Provisions, Nesoi"
          ],
          [
           "94--Furniture; Bedding"
          ],
          [
           "83--Miscellaneous Articles Of Base Metal"
          ],
          [
           "72--Iron And Steel"
          ],
          [
           "82--Tools, Cutlery Etc. Of Base Metal"
          ],
          [
           "40--Rubber & Articles Thereof"
          ],
          [
           "99--Special Import Provisions, Nesoi"
          ],
          [
           "29--Organic Chemicals"
          ],
          [
           "27--Mineral Fuel, Oil; Bitumin Subst"
          ],
          [
           "38--Miscellaneous Chemical Products"
          ],
          [
           "71--Nat Etc Pearls, Prec Etc Stones"
          ],
          [
           "30--Pharmaceutical Products"
          ],
          [
           "28--Inorg Chem; Prec & Rare-Earth Met"
          ],
          [
           "70--Glass And Glassware"
          ],
          [
           "74--Copper And Articles Thereof"
          ],
          [
           "76--Aluminum And Articles Thereof"
          ],
          [
           "89--Ships, Boats And Floating Structures"
          ],
          [
           "48--Paper & Paperboard"
          ],
          [
           "21--Miscellaneous Edible Preparations"
          ],
          [
           "93--Arms & Ammunition"
          ],
          [
           "63--Textile Art Nesoi; Needlecraft Sets"
          ],
          [
           "42--Leather Art; Saddlery"
          ],
          [
           "19--Prep Cereal, Flour, Starch"
          ],
          [
           "58--Spec Wov Fabrics"
          ],
          [
           "03--Fish & Aquatic Invertebrates"
          ],
          [
           "33--Essential Oils; Perfumery, Cosmetic"
          ],
          [
           "61--Apparel Articles & Accessories"
          ],
          [
           "59--Impregnated Etc Text Fabrics"
          ],
          [
           "54--Manmade Filaments, Including Yarns"
          ],
          [
           "65--Headgear & Parts Thereof"
          ],
          [
           "92--Musical Instruments"
          ],
          [
           "96--Miscellaneous Manufactured Articles"
          ],
          [
           "88--Aircraft, Spacecraft, And Parts Thereof"
          ],
          [
           "06--Live Trees, Plants, Bulbs"
          ],
          [
           "68--Art Of Stone, Plaster Etc."
          ],
          [
           "81--Base Metals Nesoi; Cermets"
          ],
          [
           "32--Tanning & Dye Ext"
          ],
          [
           "56--Wadding, Felt"
          ],
          [
           "20--Prep Vegetables, Fruit, Nuts"
          ],
          [
           "17--Sugars And Sugar Confectionary"
          ],
          [
           "60--Knitted Or Crocheted Fabrics"
          ],
          [
           "64--Footwear, Gaiters"
          ],
          [
           "22--Beverages, Spirits And Vinegar"
          ],
          [
           "44--Wood & Articles Of Wood"
          ],
          [
           "79--Zinc And Articles Thereof"
          ],
          [
           "62--Apparel Articles & Accessories"
          ],
          [
           "49--Printed Books, Newspapers"
          ],
          [
           "55--Manmade Staple Fibers, Including Yarns"
          ],
          [
           "75--Nickel And Articles Thereof"
          ],
          [
           "25--Salt; Sulfur; Earth & Stone"
          ],
          [
           "34--Soap; Waxes, Polish"
          ],
          [
           "09--Coffee, Tea, Mate & Spices"
          ],
          [
           "16--Edible Preparations Of Meat, Fish"
          ],
          [
           "15--Animal Or Vegetable Fats, Oils"
          ],
          [
           "35--Albuminoidal Subst; Modified Starch"
          ],
          [
           "66--Umbrellas, Walking-Sticks"
          ],
          [
           "05--Products Of Animal Origin"
          ],
          [
           "37--Photographic Goods"
          ],
          [
           "04--Dairy Prods; Birds Eggs; Honey"
          ],
          [
           "12--Oil Seeds Etc.; Misc Grain"
          ],
          [
           "91--Clocks And Watches And Parts Thereof"
          ],
          [
           "69--Ceramic Products"
          ],
          [
           "11--Milling Products; Malt; Starch"
          ],
          [
           "23--Food Industry Residues & Waste"
          ],
          [
           "46--Mfr Of Straw, Esparto"
          ],
          [
           "45--Cork And Articles Of Cork"
          ],
          [
           "07--Edible Vegetables & Certain Roots"
          ],
          [
           "86--Railway Or Tramway Stock Etc"
          ],
          [
           "01--Live Animals"
          ],
          [
           "97--Works Of Art, Collectors' Pieces & Antiques"
          ],
          [
           "57--Carpets & Floor Coverings"
          ],
          [
           "53--Veg Text Fib Nesoi"
          ],
          [
           "52--Cotton, Including Yarn"
          ],
          [
           "31--Fertilizers"
          ],
          [
           "78--Lead And Articles Thereof"
          ],
          [
           "13--Lac; Gums & Other Vegetable Sap"
          ],
          [
           "10--Cereals"
          ],
          [
           "41--Raw Hides & Skins & Leather"
          ],
          [
           "08--Edible Fruit & Nuts; Citrus Fruit"
          ],
          [
           "80--Tin And Articles Thereof"
          ],
          [
           "67--Prep Feathers, Down Etc"
          ],
          [
           "51--Wool & Animal Hair, Including Yarn"
          ],
          [
           "18--Cocoa And Cocoa Preparations"
          ],
          [
           "26--Ores, Slag And Ash"
          ],
          [
           "43--Furskins & Artificial Fur"
          ],
          [
           "24--Tobacco & Manufactured Tobacco Substitutes"
          ],
          [
           "14--Vegetable Plaiting Materials & Products"
          ],
          [
           "50--Silk, Including Yarns"
          ],
          [
           "36--Explosives; Pyrotechnics"
          ],
          [
           "47--Wood Pulp"
          ],
          [
           "0--All Merchandise"
          ],
          [
           "85--Electric Machinery Etc; Sound Equip"
          ],
          [
           "84--Nuclear Reactors, Boilers, Machinery"
          ],
          [
           "73--Articles Of Iron Or Steel"
          ],
          [
           "87--Vehicles, Except Railway Or Tramway"
          ],
          [
           "39--Plastics & Articles Thereof"
          ],
          [
           "90--Optic, Photo, Medic Or Surgical Instrments"
          ],
          [
           "95--Toys, Games & Sport Equipment"
          ],
          [
           "98--Special Classification Provisions, Nesoi"
          ],
          [
           "94--Furniture; Bedding"
          ],
          [
           "83--Miscellaneous Articles Of Base Metal"
          ],
          [
           "72--Iron And Steel"
          ],
          [
           "82--Tools, Cutlery Etc. Of Base Metal"
          ],
          [
           "40--Rubber & Articles Thereof"
          ],
          [
           "99--Special Import Provisions, Nesoi"
          ],
          [
           "29--Organic Chemicals"
          ],
          [
           "27--Mineral Fuel, Oil; Bitumin Subst"
          ],
          [
           "38--Miscellaneous Chemical Products"
          ],
          [
           "71--Nat Etc Pearls, Prec Etc Stones"
          ],
          [
           "30--Pharmaceutical Products"
          ],
          [
           "28--Inorg Chem; Prec & Rare-Earth Met"
          ],
          [
           "70--Glass And Glassware"
          ],
          [
           "74--Copper And Articles Thereof"
          ],
          [
           "76--Aluminum And Articles Thereof"
          ],
          [
           "89--Ships, Boats And Floating Structures"
          ],
          [
           "48--Paper & Paperboard"
          ],
          [
           "21--Miscellaneous Edible Preparations"
          ],
          [
           "93--Arms & Ammunition"
          ],
          [
           "63--Textile Art Nesoi; Needlecraft Sets"
          ],
          [
           "42--Leather Art; Saddlery"
          ],
          [
           "19--Prep Cereal, Flour, Starch"
          ],
          [
           "58--Spec Wov Fabrics"
          ],
          [
           "03--Fish & Aquatic Invertebrates"
          ],
          [
           "33--Essential Oils; Perfumery, Cosmetic"
          ],
          [
           "61--Apparel Articles & Accessories"
          ],
          [
           "59--Impregnated Etc Text Fabrics"
          ],
          [
           "54--Manmade Filaments, Including Yarns"
          ],
          [
           "65--Headgear & Parts Thereof"
          ],
          [
           "92--Musical Instruments"
          ],
          [
           "96--Miscellaneous Manufactured Articles"
          ],
          [
           "88--Aircraft, Spacecraft, And Parts Thereof"
          ],
          [
           "06--Live Trees, Plants, Bulbs"
          ],
          [
           "68--Art Of Stone, Plaster Etc."
          ],
          [
           "81--Base Metals Nesoi; Cermets"
          ],
          [
           "32--Tanning & Dye Ext"
          ],
          [
           "56--Wadding, Felt"
          ],
          [
           "20--Prep Vegetables, Fruit, Nuts"
          ],
          [
           "17--Sugars And Sugar Confectionary"
          ],
          [
           "60--Knitted Or Crocheted Fabrics"
          ],
          [
           "64--Footwear, Gaiters"
          ],
          [
           "22--Beverages, Spirits And Vinegar"
          ],
          [
           "44--Wood & Articles Of Wood"
          ],
          [
           "79--Zinc And Articles Thereof"
          ],
          [
           "62--Apparel Articles & Accessories"
          ],
          [
           "49--Printed Books, Newspapers"
          ],
          [
           "55--Manmade Staple Fibers, Including Yarns"
          ],
          [
           "75--Nickel And Articles Thereof"
          ],
          [
           "25--Salt; Sulfur; Earth & Stone"
          ],
          [
           "34--Soap; Waxes, Polish"
          ],
          [
           "09--Coffee, Tea, Mate & Spices"
          ],
          [
           "16--Edible Preparations Of Meat, Fish"
          ],
          [
           "15--Animal Or Vegetable Fats, Oils"
          ],
          [
           "35--Albuminoidal Subst; Modified Starch"
          ],
          [
           "66--Umbrellas, Walking-Sticks"
          ],
          [
           "05--Products Of Animal Origin"
          ],
          [
           "37--Photographic Goods"
          ],
          [
           "04--Dairy Prods; Birds Eggs; Honey"
          ],
          [
           "12--Oil Seeds Etc.; Misc Grain"
          ],
          [
           "91--Clocks And Watches And Parts Thereof"
          ],
          [
           "69--Ceramic Products"
          ],
          [
           "11--Milling Products; Malt; Starch"
          ],
          [
           "23--Food Industry Residues & Waste"
          ],
          [
           "46--Mfr Of Straw, Esparto"
          ],
          [
           "45--Cork And Articles Of Cork"
          ],
          [
           "07--Edible Vegetables & Certain Roots"
          ],
          [
           "86--Railway Or Tramway Stock Etc"
          ],
          [
           "01--Live Animals"
          ],
          [
           "97--Works Of Art, Collectors' Pieces & Antiques"
          ],
          [
           "57--Carpets & Floor Coverings"
          ],
          [
           "53--Veg Text Fib Nesoi"
          ],
          [
           "52--Cotton, Including Yarn"
          ],
          [
           "31--Fertilizers"
          ],
          [
           "78--Lead And Articles Thereof"
          ],
          [
           "13--Lac; Gums & Other Vegetable Sap"
          ],
          [
           "10--Cereals"
          ],
          [
           "41--Raw Hides & Skins & Leather"
          ],
          [
           "08--Edible Fruit & Nuts; Citrus Fruit"
          ],
          [
           "80--Tin And Articles Thereof"
          ],
          [
           "67--Prep Feathers, Down Etc"
          ],
          [
           "51--Wool & Animal Hair, Including Yarn"
          ],
          [
           "18--Cocoa And Cocoa Preparations"
          ],
          [
           "26--Ores, Slag And Ash"
          ],
          [
           "43--Furskins & Artificial Fur"
          ],
          [
           "24--Tobacco & Manufactured Tobacco Substitutes"
          ],
          [
           "14--Vegetable Plaiting Materials & Products"
          ],
          [
           "50--Silk, Including Yarns"
          ],
          [
           "36--Explosives; Pyrotechnics"
          ],
          [
           "47--Wood Pulp"
          ],
          [
           "0--All Merchandise"
          ],
          [
           "85--Electric Machinery Etc; Sound Equip"
          ],
          [
           "84--Nuclear Reactors, Boilers, Machinery"
          ],
          [
           "73--Articles Of Iron Or Steel"
          ],
          [
           "87--Vehicles, Except Railway Or Tramway"
          ],
          [
           "39--Plastics & Articles Thereof"
          ],
          [
           "90--Optic, Photo, Medic Or Surgical Instrments"
          ],
          [
           "95--Toys, Games & Sport Equipment"
          ],
          [
           "98--Special Classification Provisions, Nesoi"
          ],
          [
           "94--Furniture; Bedding"
          ],
          [
           "83--Miscellaneous Articles Of Base Metal"
          ],
          [
           "72--Iron And Steel"
          ],
          [
           "82--Tools, Cutlery Etc. Of Base Metal"
          ],
          [
           "40--Rubber & Articles Thereof"
          ],
          [
           "99--Special Import Provisions, Nesoi"
          ],
          [
           "29--Organic Chemicals"
          ],
          [
           "27--Mineral Fuel, Oil; Bitumin Subst"
          ],
          [
           "38--Miscellaneous Chemical Products"
          ],
          [
           "71--Nat Etc Pearls, Prec Etc Stones"
          ],
          [
           "30--Pharmaceutical Products"
          ],
          [
           "28--Inorg Chem; Prec & Rare-Earth Met"
          ],
          [
           "70--Glass And Glassware"
          ],
          [
           "74--Copper And Articles Thereof"
          ],
          [
           "76--Aluminum And Articles Thereof"
          ],
          [
           "89--Ships, Boats And Floating Structures"
          ],
          [
           "48--Paper & Paperboard"
          ],
          [
           "21--Miscellaneous Edible Preparations"
          ],
          [
           "93--Arms & Ammunition"
          ],
          [
           "63--Textile Art Nesoi; Needlecraft Sets"
          ],
          [
           "42--Leather Art; Saddlery"
          ],
          [
           "19--Prep Cereal, Flour, Starch"
          ],
          [
           "58--Spec Wov Fabrics"
          ],
          [
           "03--Fish & Aquatic Invertebrates"
          ],
          [
           "33--Essential Oils; Perfumery, Cosmetic"
          ],
          [
           "61--Apparel Articles & Accessories"
          ],
          [
           "59--Impregnated Etc Text Fabrics"
          ],
          [
           "54--Manmade Filaments, Including Yarns"
          ],
          [
           "65--Headgear & Parts Thereof"
          ],
          [
           "92--Musical Instruments"
          ],
          [
           "96--Miscellaneous Manufactured Articles"
          ],
          [
           "88--Aircraft, Spacecraft, And Parts Thereof"
          ],
          [
           "06--Live Trees, Plants, Bulbs"
          ],
          [
           "68--Art Of Stone, Plaster Etc."
          ],
          [
           "81--Base Metals Nesoi; Cermets"
          ],
          [
           "32--Tanning & Dye Ext"
          ],
          [
           "56--Wadding, Felt"
          ],
          [
           "20--Prep Vegetables, Fruit, Nuts"
          ],
          [
           "17--Sugars And Sugar Confectionary"
          ],
          [
           "60--Knitted Or Crocheted Fabrics"
          ],
          [
           "64--Footwear, Gaiters"
          ],
          [
           "22--Beverages, Spirits And Vinegar"
          ],
          [
           "44--Wood & Articles Of Wood"
          ],
          [
           "79--Zinc And Articles Thereof"
          ],
          [
           "62--Apparel Articles & Accessories"
          ],
          [
           "49--Printed Books, Newspapers"
          ],
          [
           "55--Manmade Staple Fibers, Including Yarns"
          ],
          [
           "75--Nickel And Articles Thereof"
          ],
          [
           "25--Salt; Sulfur; Earth & Stone"
          ],
          [
           "34--Soap; Waxes, Polish"
          ],
          [
           "09--Coffee, Tea, Mate & Spices"
          ],
          [
           "16--Edible Preparations Of Meat, Fish"
          ],
          [
           "15--Animal Or Vegetable Fats, Oils"
          ],
          [
           "35--Albuminoidal Subst; Modified Starch"
          ],
          [
           "66--Umbrellas, Walking-Sticks"
          ],
          [
           "05--Products Of Animal Origin"
          ],
          [
           "37--Photographic Goods"
          ],
          [
           "04--Dairy Prods; Birds Eggs; Honey"
          ],
          [
           "12--Oil Seeds Etc.; Misc Grain"
          ],
          [
           "91--Clocks And Watches And Parts Thereof"
          ],
          [
           "69--Ceramic Products"
          ],
          [
           "11--Milling Products; Malt; Starch"
          ],
          [
           "23--Food Industry Residues & Waste"
          ],
          [
           "46--Mfr Of Straw, Esparto"
          ],
          [
           "45--Cork And Articles Of Cork"
          ],
          [
           "07--Edible Vegetables & Certain Roots"
          ],
          [
           "86--Railway Or Tramway Stock Etc"
          ],
          [
           "01--Live Animals"
          ],
          [
           "97--Works Of Art, Collectors' Pieces & Antiques"
          ],
          [
           "57--Carpets & Floor Coverings"
          ],
          [
           "53--Veg Text Fib Nesoi"
          ],
          [
           "52--Cotton, Including Yarn"
          ],
          [
           "31--Fertilizers"
          ],
          [
           "78--Lead And Articles Thereof"
          ],
          [
           "13--Lac; Gums & Other Vegetable Sap"
          ],
          [
           "10--Cereals"
          ],
          [
           "41--Raw Hides & Skins & Leather"
          ],
          [
           "08--Edible Fruit & Nuts; Citrus Fruit"
          ],
          [
           "80--Tin And Articles Thereof"
          ],
          [
           "67--Prep Feathers, Down Etc"
          ],
          [
           "51--Wool & Animal Hair, Including Yarn"
          ],
          [
           "18--Cocoa And Cocoa Preparations"
          ],
          [
           "26--Ores, Slag And Ash"
          ],
          [
           "43--Furskins & Artificial Fur"
          ],
          [
           "24--Tobacco & Manufactured Tobacco Substitutes"
          ],
          [
           "14--Vegetable Plaiting Materials & Products"
          ],
          [
           "50--Silk, Including Yarns"
          ],
          [
           "36--Explosives; Pyrotechnics"
          ],
          [
           "47--Wood Pulp"
          ]
         ],
         "domain": {
          "x": [
           0,
           1
          ],
          "y": [
           0,
           1
          ]
         },
         "hovertemplate": "Year=%{value}<br>Product=%{customdata[0]}<extra></extra>",
         "labels": [
          "2013",
          "2013",
          "2013",
          "2013",
          "2013",
          "2013",
          "2013",
          "2013",
          "2013",
          "2013",
          "2013",
          "2013",
          "2013",
          "2013",
          "2013",
          "2013",
          "2013",
          "2013",
          "2013",
          "2013",
          "2013",
          "2013",
          "2013",
          "2013",
          "2013",
          "2013",
          "2013",
          "2013",
          "2013",
          "2013",
          "2013",
          "2013",
          "2013",
          "2013",
          "2013",
          "2013",
          "2013",
          "2013",
          "2013",
          "2013",
          "2013",
          "2013",
          "2013",
          "2013",
          "2013",
          "2013",
          "2013",
          "2013",
          "2013",
          "2013",
          "2013",
          "2013",
          "2013",
          "2013",
          "2013",
          "2013",
          "2013",
          "2013",
          "2013",
          "2013",
          "2013",
          "2013",
          "2013",
          "2013",
          "2013",
          "2013",
          "2013",
          "2013",
          "2013",
          "2013",
          "2013",
          "2013",
          "2013",
          "2013",
          "2013",
          "2013",
          "2013",
          "2013",
          "2013",
          "2013",
          "2013",
          "2013",
          "2013",
          "2013",
          "2013",
          "2013",
          "2013",
          "2013",
          "2013",
          "2013",
          "2013",
          "2013",
          "2013",
          "2013",
          "2013",
          "2013",
          "2013",
          "2013",
          "2014",
          "2014",
          "2014",
          "2014",
          "2014",
          "2014",
          "2014",
          "2014",
          "2014",
          "2014",
          "2014",
          "2014",
          "2014",
          "2014",
          "2014",
          "2014",
          "2014",
          "2014",
          "2014",
          "2014",
          "2014",
          "2014",
          "2014",
          "2014",
          "2014",
          "2014",
          "2014",
          "2014",
          "2014",
          "2014",
          "2014",
          "2014",
          "2014",
          "2014",
          "2014",
          "2014",
          "2014",
          "2014",
          "2014",
          "2014",
          "2014",
          "2014",
          "2014",
          "2014",
          "2014",
          "2014",
          "2014",
          "2014",
          "2014",
          "2014",
          "2014",
          "2014",
          "2014",
          "2014",
          "2014",
          "2014",
          "2014",
          "2014",
          "2014",
          "2014",
          "2014",
          "2014",
          "2014",
          "2014",
          "2014",
          "2014",
          "2014",
          "2014",
          "2014",
          "2014",
          "2014",
          "2014",
          "2014",
          "2014",
          "2014",
          "2014",
          "2014",
          "2014",
          "2014",
          "2014",
          "2014",
          "2014",
          "2014",
          "2014",
          "2014",
          "2014",
          "2014",
          "2014",
          "2014",
          "2014",
          "2014",
          "2014",
          "2014",
          "2014",
          "2014",
          "2014",
          "2014",
          "2014",
          "2015",
          "2015",
          "2015",
          "2015",
          "2015",
          "2015",
          "2015",
          "2015",
          "2015",
          "2015",
          "2015",
          "2015",
          "2015",
          "2015",
          "2015",
          "2015",
          "2015",
          "2015",
          "2015",
          "2015",
          "2015",
          "2015",
          "2015",
          "2015",
          "2015",
          "2015",
          "2015",
          "2015",
          "2015",
          "2015",
          "2015",
          "2015",
          "2015",
          "2015",
          "2015",
          "2015",
          "2015",
          "2015",
          "2015",
          "2015",
          "2015",
          "2015",
          "2015",
          "2015",
          "2015",
          "2015",
          "2015",
          "2015",
          "2015",
          "2015",
          "2015",
          "2015",
          "2015",
          "2015",
          "2015",
          "2015",
          "2015",
          "2015",
          "2015",
          "2015",
          "2015",
          "2015",
          "2015",
          "2015",
          "2015",
          "2015",
          "2015",
          "2015",
          "2015",
          "2015",
          "2015",
          "2015",
          "2015",
          "2015",
          "2015",
          "2015",
          "2015",
          "2015",
          "2015",
          "2015",
          "2015",
          "2015",
          "2015",
          "2015",
          "2015",
          "2015",
          "2015",
          "2015",
          "2015",
          "2015",
          "2015",
          "2015",
          "2015",
          "2015",
          "2015",
          "2015",
          "2015",
          "2015",
          "2016",
          "2016",
          "2016",
          "2016",
          "2016",
          "2016",
          "2016",
          "2016",
          "2016",
          "2016",
          "2016",
          "2016",
          "2016",
          "2016",
          "2016",
          "2016",
          "2016",
          "2016",
          "2016",
          "2016",
          "2016",
          "2016",
          "2016",
          "2016",
          "2016",
          "2016",
          "2016",
          "2016",
          "2016",
          "2016",
          "2016",
          "2016",
          "2016",
          "2016",
          "2016",
          "2016",
          "2016",
          "2016",
          "2016",
          "2016",
          "2016",
          "2016",
          "2016",
          "2016",
          "2016",
          "2016",
          "2016",
          "2016",
          "2016",
          "2016",
          "2016",
          "2016",
          "2016",
          "2016",
          "2016",
          "2016",
          "2016",
          "2016",
          "2016",
          "2016",
          "2016",
          "2016",
          "2016",
          "2016",
          "2016",
          "2016",
          "2016",
          "2016",
          "2016",
          "2016",
          "2016",
          "2016",
          "2016",
          "2016",
          "2016",
          "2016",
          "2016",
          "2016",
          "2016",
          "2016",
          "2016",
          "2016",
          "2016",
          "2016",
          "2016",
          "2016",
          "2016",
          "2016",
          "2016",
          "2016",
          "2016",
          "2016",
          "2016",
          "2016",
          "2016",
          "2016",
          "2016",
          "2016",
          "2017",
          "2017",
          "2017",
          "2017",
          "2017",
          "2017",
          "2017",
          "2017",
          "2017",
          "2017",
          "2017",
          "2017",
          "2017",
          "2017",
          "2017",
          "2017",
          "2017",
          "2017",
          "2017",
          "2017",
          "2017",
          "2017",
          "2017",
          "2017",
          "2017",
          "2017",
          "2017",
          "2017",
          "2017",
          "2017",
          "2017",
          "2017",
          "2017",
          "2017",
          "2017",
          "2017",
          "2017",
          "2017",
          "2017",
          "2017",
          "2017",
          "2017",
          "2017",
          "2017",
          "2017",
          "2017",
          "2017",
          "2017",
          "2017",
          "2017",
          "2017",
          "2017",
          "2017",
          "2017",
          "2017",
          "2017",
          "2017",
          "2017",
          "2017",
          "2017",
          "2017",
          "2017",
          "2017",
          "2017",
          "2017",
          "2017",
          "2017",
          "2017",
          "2017",
          "2017",
          "2017",
          "2017",
          "2017",
          "2017",
          "2017",
          "2017",
          "2017",
          "2017",
          "2017",
          "2017",
          "2017",
          "2017",
          "2017",
          "2017",
          "2017",
          "2017",
          "2017",
          "2017",
          "2017",
          "2017",
          "2017",
          "2017",
          "2017",
          "2017",
          "2017",
          "2017",
          "2017",
          "2017",
          "2018",
          "2018",
          "2018",
          "2018",
          "2018",
          "2018",
          "2018",
          "2018",
          "2018",
          "2018",
          "2018",
          "2018",
          "2018",
          "2018",
          "2018",
          "2018",
          "2018",
          "2018",
          "2018",
          "2018",
          "2018",
          "2018",
          "2018",
          "2018",
          "2018",
          "2018",
          "2018",
          "2018",
          "2018",
          "2018",
          "2018",
          "2018",
          "2018",
          "2018",
          "2018",
          "2018",
          "2018",
          "2018",
          "2018",
          "2018",
          "2018",
          "2018",
          "2018",
          "2018",
          "2018",
          "2018",
          "2018",
          "2018",
          "2018",
          "2018",
          "2018",
          "2018",
          "2018",
          "2018",
          "2018",
          "2018",
          "2018",
          "2018",
          "2018",
          "2018",
          "2018",
          "2018",
          "2018",
          "2018",
          "2018",
          "2018",
          "2018",
          "2018",
          "2018",
          "2018",
          "2018",
          "2018",
          "2018",
          "2018",
          "2018",
          "2018",
          "2018",
          "2018",
          "2018",
          "2018",
          "2018",
          "2018",
          "2018",
          "2018",
          "2018",
          "2018",
          "2018",
          "2018",
          "2018",
          "2018",
          "2018",
          "2018",
          "2018",
          "2018",
          "2018",
          "2018",
          "2018",
          "2018",
          "2019",
          "2019",
          "2019",
          "2019",
          "2019",
          "2019",
          "2019",
          "2019",
          "2019",
          "2019",
          "2019",
          "2019",
          "2019",
          "2019",
          "2019",
          "2019",
          "2019",
          "2019",
          "2019",
          "2019",
          "2019",
          "2019",
          "2019",
          "2019",
          "2019",
          "2019",
          "2019",
          "2019",
          "2019",
          "2019",
          "2019",
          "2019",
          "2019",
          "2019",
          "2019",
          "2019",
          "2019",
          "2019",
          "2019",
          "2019",
          "2019",
          "2019",
          "2019",
          "2019",
          "2019",
          "2019",
          "2019",
          "2019",
          "2019",
          "2019",
          "2019",
          "2019",
          "2019",
          "2019",
          "2019",
          "2019",
          "2019",
          "2019",
          "2019",
          "2019",
          "2019",
          "2019",
          "2019",
          "2019",
          "2019",
          "2019",
          "2019",
          "2019",
          "2019",
          "2019",
          "2019",
          "2019",
          "2019",
          "2019",
          "2019",
          "2019",
          "2019",
          "2019",
          "2019",
          "2019",
          "2019",
          "2019",
          "2019",
          "2019",
          "2019",
          "2019",
          "2019",
          "2019",
          "2019",
          "2019",
          "2019",
          "2019",
          "2019",
          "2019",
          "2019",
          "2019",
          "2019",
          "2019",
          "2020",
          "2020",
          "2020",
          "2020",
          "2020",
          "2020",
          "2020",
          "2020",
          "2020",
          "2020",
          "2020",
          "2020",
          "2020",
          "2020",
          "2020",
          "2020",
          "2020",
          "2020",
          "2020",
          "2020",
          "2020",
          "2020",
          "2020",
          "2020",
          "2020",
          "2020",
          "2020",
          "2020",
          "2020",
          "2020",
          "2020",
          "2020",
          "2020",
          "2020",
          "2020",
          "2020",
          "2020",
          "2020",
          "2020",
          "2020",
          "2020",
          "2020",
          "2020",
          "2020",
          "2020",
          "2020",
          "2020",
          "2020",
          "2020",
          "2020",
          "2020",
          "2020",
          "2020",
          "2020",
          "2020",
          "2020",
          "2020",
          "2020",
          "2020",
          "2020",
          "2020",
          "2020",
          "2020",
          "2020",
          "2020",
          "2020",
          "2020",
          "2020",
          "2020",
          "2020",
          "2020",
          "2020",
          "2020",
          "2020",
          "2020",
          "2020",
          "2020",
          "2020",
          "2020",
          "2020",
          "2020",
          "2020",
          "2020",
          "2020",
          "2020",
          "2020",
          "2020",
          "2020",
          "2020",
          "2020",
          "2020",
          "2020",
          "2020",
          "2020",
          "2020",
          "2020",
          "2020",
          "2020",
          "2021",
          "2021",
          "2021",
          "2021",
          "2021",
          "2021",
          "2021",
          "2021",
          "2021",
          "2021",
          "2021",
          "2021",
          "2021",
          "2021",
          "2021",
          "2021",
          "2021",
          "2021",
          "2021",
          "2021",
          "2021",
          "2021",
          "2021",
          "2021",
          "2021",
          "2021",
          "2021",
          "2021",
          "2021",
          "2021",
          "2021",
          "2021",
          "2021",
          "2021",
          "2021",
          "2021",
          "2021",
          "2021",
          "2021",
          "2021",
          "2021",
          "2021",
          "2021",
          "2021",
          "2021",
          "2021",
          "2021",
          "2021",
          "2021",
          "2021",
          "2021",
          "2021",
          "2021",
          "2021",
          "2021",
          "2021",
          "2021",
          "2021",
          "2021",
          "2021",
          "2021",
          "2021",
          "2021",
          "2021",
          "2021",
          "2021",
          "2021",
          "2021",
          "2021",
          "2021",
          "2021",
          "2021",
          "2021",
          "2021",
          "2021",
          "2021",
          "2021",
          "2021",
          "2021",
          "2021",
          "2021",
          "2021",
          "2021",
          "2021",
          "2021",
          "2021",
          "2021",
          "2021",
          "2021",
          "2021",
          "2021",
          "2021",
          "2021",
          "2021",
          "2021",
          "2021",
          "2021",
          "2021",
          "2022",
          "2022",
          "2022",
          "2022",
          "2022",
          "2022",
          "2022",
          "2022",
          "2022",
          "2022",
          "2022",
          "2022",
          "2022",
          "2022",
          "2022",
          "2022",
          "2022",
          "2022",
          "2022",
          "2022",
          "2022",
          "2022",
          "2022",
          "2022",
          "2022",
          "2022",
          "2022",
          "2022",
          "2022",
          "2022",
          "2022",
          "2022",
          "2022",
          "2022",
          "2022",
          "2022",
          "2022",
          "2022",
          "2022",
          "2022",
          "2022",
          "2022",
          "2022",
          "2022",
          "2022",
          "2022",
          "2022",
          "2022",
          "2022",
          "2022",
          "2022",
          "2022",
          "2022",
          "2022",
          "2022",
          "2022",
          "2022",
          "2022",
          "2022",
          "2022",
          "2022",
          "2022",
          "2022",
          "2022",
          "2022",
          "2022",
          "2022",
          "2022",
          "2022",
          "2022",
          "2022",
          "2022",
          "2022",
          "2022",
          "2022",
          "2022",
          "2022",
          "2022",
          "2022",
          "2022",
          "2022",
          "2022",
          "2022",
          "2022",
          "2022",
          "2022",
          "2022",
          "2022",
          "2022",
          "2022",
          "2022",
          "2022",
          "2022",
          "2022",
          "2022",
          "2022",
          "2022",
          "2022"
         ],
         "legendgroup": "",
         "marker": {
          "colors": [
           "#636efa",
           "#EF553B",
           "#00cc96",
           "#ab63fa",
           "#FFA15A",
           "#19d3f3",
           "#FF6692",
           "#B6E880",
           "#FF97FF",
           "#FECB52",
           "#636efa",
           "#EF553B",
           "#00cc96",
           "#ab63fa",
           "#FFA15A",
           "#19d3f3",
           "#FF6692",
           "#B6E880",
           "#FF97FF",
           "#FECB52",
           "#636efa",
           "#EF553B",
           "#00cc96",
           "#ab63fa",
           "#FFA15A",
           "#19d3f3",
           "#FF6692",
           "#B6E880",
           "#FF97FF",
           "#FECB52",
           "#636efa",
           "#EF553B",
           "#00cc96",
           "#ab63fa",
           "#FFA15A",
           "#19d3f3",
           "#FF6692",
           "#B6E880",
           "#FF97FF",
           "#FECB52",
           "#636efa",
           "#EF553B",
           "#00cc96",
           "#ab63fa",
           "#FFA15A",
           "#19d3f3",
           "#FF6692",
           "#B6E880",
           "#FF97FF",
           "#FECB52",
           "#636efa",
           "#EF553B",
           "#00cc96",
           "#ab63fa",
           "#FFA15A",
           "#19d3f3",
           "#FF6692",
           "#B6E880",
           "#FF97FF",
           "#FECB52",
           "#636efa",
           "#EF553B",
           "#00cc96",
           "#ab63fa",
           "#FFA15A",
           "#19d3f3",
           "#FF6692",
           "#B6E880",
           "#FF97FF",
           "#FECB52",
           "#636efa",
           "#EF553B",
           "#00cc96",
           "#ab63fa",
           "#FFA15A",
           "#19d3f3",
           "#FF6692",
           "#B6E880",
           "#FF97FF",
           "#FECB52",
           "#636efa",
           "#EF553B",
           "#00cc96",
           "#ab63fa",
           "#FFA15A",
           "#19d3f3",
           "#FF6692",
           "#B6E880",
           "#FF97FF",
           "#FECB52",
           "#636efa",
           "#EF553B",
           "#00cc96",
           "#ab63fa",
           "#FFA15A",
           "#19d3f3",
           "#FF6692",
           "#B6E880",
           "#636efa",
           "#EF553B",
           "#00cc96",
           "#ab63fa",
           "#FFA15A",
           "#19d3f3",
           "#FF6692",
           "#B6E880",
           "#FF97FF",
           "#FECB52",
           "#636efa",
           "#EF553B",
           "#00cc96",
           "#ab63fa",
           "#FFA15A",
           "#19d3f3",
           "#FF6692",
           "#B6E880",
           "#FF97FF",
           "#FECB52",
           "#636efa",
           "#EF553B",
           "#00cc96",
           "#ab63fa",
           "#FFA15A",
           "#19d3f3",
           "#FF6692",
           "#B6E880",
           "#FF97FF",
           "#FECB52",
           "#636efa",
           "#EF553B",
           "#00cc96",
           "#ab63fa",
           "#FFA15A",
           "#19d3f3",
           "#FF6692",
           "#B6E880",
           "#FF97FF",
           "#FECB52",
           "#636efa",
           "#EF553B",
           "#00cc96",
           "#ab63fa",
           "#FFA15A",
           "#19d3f3",
           "#FF6692",
           "#B6E880",
           "#FF97FF",
           "#FECB52",
           "#636efa",
           "#EF553B",
           "#00cc96",
           "#ab63fa",
           "#FFA15A",
           "#19d3f3",
           "#FF6692",
           "#B6E880",
           "#FF97FF",
           "#FECB52",
           "#636efa",
           "#EF553B",
           "#00cc96",
           "#ab63fa",
           "#FFA15A",
           "#19d3f3",
           "#FF6692",
           "#B6E880",
           "#FF97FF",
           "#FECB52",
           "#636efa",
           "#EF553B",
           "#00cc96",
           "#ab63fa",
           "#FFA15A",
           "#19d3f3",
           "#FF6692",
           "#B6E880",
           "#FF97FF",
           "#FECB52",
           "#636efa",
           "#EF553B",
           "#00cc96",
           "#ab63fa",
           "#FFA15A",
           "#19d3f3",
           "#FF6692",
           "#B6E880",
           "#FF97FF",
           "#FECB52",
           "#636efa",
           "#EF553B",
           "#00cc96",
           "#ab63fa",
           "#FFA15A",
           "#19d3f3",
           "#FF6692",
           "#B6E880",
           "#636efa",
           "#EF553B",
           "#00cc96",
           "#ab63fa",
           "#FFA15A",
           "#19d3f3",
           "#FF6692",
           "#B6E880",
           "#FF97FF",
           "#FECB52",
           "#636efa",
           "#EF553B",
           "#00cc96",
           "#ab63fa",
           "#FFA15A",
           "#19d3f3",
           "#FF6692",
           "#B6E880",
           "#FF97FF",
           "#FECB52",
           "#636efa",
           "#EF553B",
           "#00cc96",
           "#ab63fa",
           "#FFA15A",
           "#19d3f3",
           "#FF6692",
           "#B6E880",
           "#FF97FF",
           "#FECB52",
           "#636efa",
           "#EF553B",
           "#00cc96",
           "#ab63fa",
           "#FFA15A",
           "#19d3f3",
           "#FF6692",
           "#B6E880",
           "#FF97FF",
           "#FECB52",
           "#636efa",
           "#EF553B",
           "#00cc96",
           "#ab63fa",
           "#FFA15A",
           "#19d3f3",
           "#FF6692",
           "#B6E880",
           "#FF97FF",
           "#FECB52",
           "#636efa",
           "#EF553B",
           "#00cc96",
           "#ab63fa",
           "#FFA15A",
           "#19d3f3",
           "#FF6692",
           "#B6E880",
           "#FF97FF",
           "#FECB52",
           "#636efa",
           "#EF553B",
           "#00cc96",
           "#ab63fa",
           "#FFA15A",
           "#19d3f3",
           "#FF6692",
           "#B6E880",
           "#FF97FF",
           "#FECB52",
           "#636efa",
           "#EF553B",
           "#00cc96",
           "#ab63fa",
           "#FFA15A",
           "#19d3f3",
           "#FF6692",
           "#B6E880",
           "#FF97FF",
           "#FECB52",
           "#636efa",
           "#EF553B",
           "#00cc96",
           "#ab63fa",
           "#FFA15A",
           "#19d3f3",
           "#FF6692",
           "#B6E880",
           "#FF97FF",
           "#FECB52",
           "#636efa",
           "#EF553B",
           "#00cc96",
           "#ab63fa",
           "#FFA15A",
           "#19d3f3",
           "#FF6692",
           "#B6E880",
           "#636efa",
           "#EF553B",
           "#00cc96",
           "#ab63fa",
           "#FFA15A",
           "#19d3f3",
           "#FF6692",
           "#B6E880",
           "#FF97FF",
           "#FECB52",
           "#636efa",
           "#EF553B",
           "#00cc96",
           "#ab63fa",
           "#FFA15A",
           "#19d3f3",
           "#FF6692",
           "#B6E880",
           "#FF97FF",
           "#FECB52",
           "#636efa",
           "#EF553B",
           "#00cc96",
           "#ab63fa",
           "#FFA15A",
           "#19d3f3",
           "#FF6692",
           "#B6E880",
           "#FF97FF",
           "#FECB52",
           "#636efa",
           "#EF553B",
           "#00cc96",
           "#ab63fa",
           "#FFA15A",
           "#19d3f3",
           "#FF6692",
           "#B6E880",
           "#FF97FF",
           "#FECB52",
           "#636efa",
           "#EF553B",
           "#00cc96",
           "#ab63fa",
           "#FFA15A",
           "#19d3f3",
           "#FF6692",
           "#B6E880",
           "#FF97FF",
           "#FECB52",
           "#636efa",
           "#EF553B",
           "#00cc96",
           "#ab63fa",
           "#FFA15A",
           "#19d3f3",
           "#FF6692",
           "#B6E880",
           "#FF97FF",
           "#FECB52",
           "#636efa",
           "#EF553B",
           "#00cc96",
           "#ab63fa",
           "#FFA15A",
           "#19d3f3",
           "#FF6692",
           "#B6E880",
           "#FF97FF",
           "#FECB52",
           "#636efa",
           "#EF553B",
           "#00cc96",
           "#ab63fa",
           "#FFA15A",
           "#19d3f3",
           "#FF6692",
           "#B6E880",
           "#FF97FF",
           "#FECB52",
           "#636efa",
           "#EF553B",
           "#00cc96",
           "#ab63fa",
           "#FFA15A",
           "#19d3f3",
           "#FF6692",
           "#B6E880",
           "#FF97FF",
           "#FECB52",
           "#636efa",
           "#EF553B",
           "#00cc96",
           "#ab63fa",
           "#FFA15A",
           "#19d3f3",
           "#FF6692",
           "#B6E880",
           "#636efa",
           "#EF553B",
           "#00cc96",
           "#ab63fa",
           "#FFA15A",
           "#19d3f3",
           "#FF6692",
           "#B6E880",
           "#FF97FF",
           "#FECB52",
           "#636efa",
           "#EF553B",
           "#00cc96",
           "#ab63fa",
           "#FFA15A",
           "#19d3f3",
           "#FF6692",
           "#B6E880",
           "#FF97FF",
           "#FECB52",
           "#636efa",
           "#EF553B",
           "#00cc96",
           "#ab63fa",
           "#FFA15A",
           "#19d3f3",
           "#FF6692",
           "#B6E880",
           "#FF97FF",
           "#FECB52",
           "#636efa",
           "#EF553B",
           "#00cc96",
           "#ab63fa",
           "#FFA15A",
           "#19d3f3",
           "#FF6692",
           "#B6E880",
           "#FF97FF",
           "#FECB52",
           "#636efa",
           "#EF553B",
           "#00cc96",
           "#ab63fa",
           "#FFA15A",
           "#19d3f3",
           "#FF6692",
           "#B6E880",
           "#FF97FF",
           "#FECB52",
           "#636efa",
           "#EF553B",
           "#00cc96",
           "#ab63fa",
           "#FFA15A",
           "#19d3f3",
           "#FF6692",
           "#B6E880",
           "#FF97FF",
           "#FECB52",
           "#636efa",
           "#EF553B",
           "#00cc96",
           "#ab63fa",
           "#FFA15A",
           "#19d3f3",
           "#FF6692",
           "#B6E880",
           "#FF97FF",
           "#FECB52",
           "#636efa",
           "#EF553B",
           "#00cc96",
           "#ab63fa",
           "#FFA15A",
           "#19d3f3",
           "#FF6692",
           "#B6E880",
           "#FF97FF",
           "#FECB52",
           "#636efa",
           "#EF553B",
           "#00cc96",
           "#ab63fa",
           "#FFA15A",
           "#19d3f3",
           "#FF6692",
           "#B6E880",
           "#FF97FF",
           "#FECB52",
           "#636efa",
           "#EF553B",
           "#00cc96",
           "#ab63fa",
           "#FFA15A",
           "#19d3f3",
           "#FF6692",
           "#B6E880",
           "#636efa",
           "#EF553B",
           "#00cc96",
           "#ab63fa",
           "#FFA15A",
           "#19d3f3",
           "#FF6692",
           "#B6E880",
           "#FF97FF",
           "#FECB52",
           "#636efa",
           "#EF553B",
           "#00cc96",
           "#ab63fa",
           "#FFA15A",
           "#19d3f3",
           "#FF6692",
           "#B6E880",
           "#FF97FF",
           "#FECB52",
           "#636efa",
           "#EF553B",
           "#00cc96",
           "#ab63fa",
           "#FFA15A",
           "#19d3f3",
           "#FF6692",
           "#B6E880",
           "#FF97FF",
           "#FECB52",
           "#636efa",
           "#EF553B",
           "#00cc96",
           "#ab63fa",
           "#FFA15A",
           "#19d3f3",
           "#FF6692",
           "#B6E880",
           "#FF97FF",
           "#FECB52",
           "#636efa",
           "#EF553B",
           "#00cc96",
           "#ab63fa",
           "#FFA15A",
           "#19d3f3",
           "#FF6692",
           "#B6E880",
           "#FF97FF",
           "#FECB52",
           "#636efa",
           "#EF553B",
           "#00cc96",
           "#ab63fa",
           "#FFA15A",
           "#19d3f3",
           "#FF6692",
           "#B6E880",
           "#FF97FF",
           "#FECB52",
           "#636efa",
           "#EF553B",
           "#00cc96",
           "#ab63fa",
           "#FFA15A",
           "#19d3f3",
           "#FF6692",
           "#B6E880",
           "#FF97FF",
           "#FECB52",
           "#636efa",
           "#EF553B",
           "#00cc96",
           "#ab63fa",
           "#FFA15A",
           "#19d3f3",
           "#FF6692",
           "#B6E880",
           "#FF97FF",
           "#FECB52",
           "#636efa",
           "#EF553B",
           "#00cc96",
           "#ab63fa",
           "#FFA15A",
           "#19d3f3",
           "#FF6692",
           "#B6E880",
           "#FF97FF",
           "#FECB52",
           "#636efa",
           "#EF553B",
           "#00cc96",
           "#ab63fa",
           "#FFA15A",
           "#19d3f3",
           "#FF6692",
           "#B6E880",
           "#636efa",
           "#EF553B",
           "#00cc96",
           "#ab63fa",
           "#FFA15A",
           "#19d3f3",
           "#FF6692",
           "#B6E880",
           "#FF97FF",
           "#FECB52",
           "#636efa",
           "#EF553B",
           "#00cc96",
           "#ab63fa",
           "#FFA15A",
           "#19d3f3",
           "#FF6692",
           "#B6E880",
           "#FF97FF",
           "#FECB52",
           "#636efa",
           "#EF553B",
           "#00cc96",
           "#ab63fa",
           "#FFA15A",
           "#19d3f3",
           "#FF6692",
           "#B6E880",
           "#FF97FF",
           "#FECB52",
           "#636efa",
           "#EF553B",
           "#00cc96",
           "#ab63fa",
           "#FFA15A",
           "#19d3f3",
           "#FF6692",
           "#B6E880",
           "#FF97FF",
           "#FECB52",
           "#636efa",
           "#EF553B",
           "#00cc96",
           "#ab63fa",
           "#FFA15A",
           "#19d3f3",
           "#FF6692",
           "#B6E880",
           "#FF97FF",
           "#FECB52",
           "#636efa",
           "#EF553B",
           "#00cc96",
           "#ab63fa",
           "#FFA15A",
           "#19d3f3",
           "#FF6692",
           "#B6E880",
           "#FF97FF",
           "#FECB52",
           "#636efa",
           "#EF553B",
           "#00cc96",
           "#ab63fa",
           "#FFA15A",
           "#19d3f3",
           "#FF6692",
           "#B6E880",
           "#FF97FF",
           "#FECB52",
           "#636efa",
           "#EF553B",
           "#00cc96",
           "#ab63fa",
           "#FFA15A",
           "#19d3f3",
           "#FF6692",
           "#B6E880",
           "#FF97FF",
           "#FECB52",
           "#636efa",
           "#EF553B",
           "#00cc96",
           "#ab63fa",
           "#FFA15A",
           "#19d3f3",
           "#FF6692",
           "#B6E880",
           "#FF97FF",
           "#FECB52",
           "#636efa",
           "#EF553B",
           "#00cc96",
           "#ab63fa",
           "#FFA15A",
           "#19d3f3",
           "#FF6692",
           "#B6E880",
           "#636efa",
           "#EF553B",
           "#00cc96",
           "#ab63fa",
           "#FFA15A",
           "#19d3f3",
           "#FF6692",
           "#B6E880",
           "#FF97FF",
           "#FECB52",
           "#636efa",
           "#EF553B",
           "#00cc96",
           "#ab63fa",
           "#FFA15A",
           "#19d3f3",
           "#FF6692",
           "#B6E880",
           "#FF97FF",
           "#FECB52",
           "#636efa",
           "#EF553B",
           "#00cc96",
           "#ab63fa",
           "#FFA15A",
           "#19d3f3",
           "#FF6692",
           "#B6E880",
           "#FF97FF",
           "#FECB52",
           "#636efa",
           "#EF553B",
           "#00cc96",
           "#ab63fa",
           "#FFA15A",
           "#19d3f3",
           "#FF6692",
           "#B6E880",
           "#FF97FF",
           "#FECB52",
           "#636efa",
           "#EF553B",
           "#00cc96",
           "#ab63fa",
           "#FFA15A",
           "#19d3f3",
           "#FF6692",
           "#B6E880",
           "#FF97FF",
           "#FECB52",
           "#636efa",
           "#EF553B",
           "#00cc96",
           "#ab63fa",
           "#FFA15A",
           "#19d3f3",
           "#FF6692",
           "#B6E880",
           "#FF97FF",
           "#FECB52",
           "#636efa",
           "#EF553B",
           "#00cc96",
           "#ab63fa",
           "#FFA15A",
           "#19d3f3",
           "#FF6692",
           "#B6E880",
           "#FF97FF",
           "#FECB52",
           "#636efa",
           "#EF553B",
           "#00cc96",
           "#ab63fa",
           "#FFA15A",
           "#19d3f3",
           "#FF6692",
           "#B6E880",
           "#FF97FF",
           "#FECB52",
           "#636efa",
           "#EF553B",
           "#00cc96",
           "#ab63fa",
           "#FFA15A",
           "#19d3f3",
           "#FF6692",
           "#B6E880",
           "#FF97FF",
           "#FECB52",
           "#636efa",
           "#EF553B",
           "#00cc96",
           "#ab63fa",
           "#FFA15A",
           "#19d3f3",
           "#FF6692",
           "#B6E880",
           "#636efa",
           "#EF553B",
           "#00cc96",
           "#ab63fa",
           "#FFA15A",
           "#19d3f3",
           "#FF6692",
           "#B6E880",
           "#FF97FF",
           "#FECB52",
           "#636efa",
           "#EF553B",
           "#00cc96",
           "#ab63fa",
           "#FFA15A",
           "#19d3f3",
           "#FF6692",
           "#B6E880",
           "#FF97FF",
           "#FECB52",
           "#636efa",
           "#EF553B",
           "#00cc96",
           "#ab63fa",
           "#FFA15A",
           "#19d3f3",
           "#FF6692",
           "#B6E880",
           "#FF97FF",
           "#FECB52",
           "#636efa",
           "#EF553B",
           "#00cc96",
           "#ab63fa",
           "#FFA15A",
           "#19d3f3",
           "#FF6692",
           "#B6E880",
           "#FF97FF",
           "#FECB52",
           "#636efa",
           "#EF553B",
           "#00cc96",
           "#ab63fa",
           "#FFA15A",
           "#19d3f3",
           "#FF6692",
           "#B6E880",
           "#FF97FF",
           "#FECB52",
           "#636efa",
           "#EF553B",
           "#00cc96",
           "#ab63fa",
           "#FFA15A",
           "#19d3f3",
           "#FF6692",
           "#B6E880",
           "#FF97FF",
           "#FECB52",
           "#636efa",
           "#EF553B",
           "#00cc96",
           "#ab63fa",
           "#FFA15A",
           "#19d3f3",
           "#FF6692",
           "#B6E880",
           "#FF97FF",
           "#FECB52",
           "#636efa",
           "#EF553B",
           "#00cc96",
           "#ab63fa",
           "#FFA15A",
           "#19d3f3",
           "#FF6692",
           "#B6E880",
           "#FF97FF",
           "#FECB52",
           "#636efa",
           "#EF553B",
           "#00cc96",
           "#ab63fa",
           "#FFA15A",
           "#19d3f3",
           "#FF6692",
           "#B6E880",
           "#FF97FF",
           "#FECB52",
           "#636efa",
           "#EF553B",
           "#00cc96",
           "#ab63fa",
           "#FFA15A",
           "#19d3f3",
           "#FF6692",
           "#B6E880",
           "#636efa",
           "#EF553B",
           "#00cc96",
           "#ab63fa",
           "#FFA15A",
           "#19d3f3",
           "#FF6692",
           "#B6E880",
           "#FF97FF",
           "#FECB52",
           "#636efa",
           "#EF553B",
           "#00cc96",
           "#ab63fa",
           "#FFA15A",
           "#19d3f3",
           "#FF6692",
           "#B6E880",
           "#FF97FF",
           "#FECB52",
           "#636efa",
           "#EF553B",
           "#00cc96",
           "#ab63fa",
           "#FFA15A",
           "#19d3f3",
           "#FF6692",
           "#B6E880",
           "#FF97FF",
           "#FECB52",
           "#636efa",
           "#EF553B",
           "#00cc96",
           "#ab63fa",
           "#FFA15A",
           "#19d3f3",
           "#FF6692",
           "#B6E880",
           "#FF97FF",
           "#FECB52",
           "#636efa",
           "#EF553B",
           "#00cc96",
           "#ab63fa",
           "#FFA15A",
           "#19d3f3",
           "#FF6692",
           "#B6E880",
           "#FF97FF",
           "#FECB52",
           "#636efa",
           "#EF553B",
           "#00cc96",
           "#ab63fa",
           "#FFA15A",
           "#19d3f3",
           "#FF6692",
           "#B6E880",
           "#FF97FF",
           "#FECB52",
           "#636efa",
           "#EF553B",
           "#00cc96",
           "#ab63fa",
           "#FFA15A",
           "#19d3f3",
           "#FF6692",
           "#B6E880",
           "#FF97FF",
           "#FECB52",
           "#636efa",
           "#EF553B",
           "#00cc96",
           "#ab63fa",
           "#FFA15A",
           "#19d3f3",
           "#FF6692",
           "#B6E880",
           "#FF97FF",
           "#FECB52",
           "#636efa",
           "#EF553B",
           "#00cc96",
           "#ab63fa",
           "#FFA15A",
           "#19d3f3",
           "#FF6692",
           "#B6E880",
           "#FF97FF",
           "#FECB52",
           "#636efa",
           "#EF553B",
           "#00cc96",
           "#ab63fa",
           "#FFA15A",
           "#19d3f3",
           "#FF6692",
           "#B6E880"
          ]
         },
         "name": "",
         "showlegend": true,
         "type": "pie",
         "values": [
          "2013",
          "2013",
          "2013",
          "2013",
          "2013",
          "2013",
          "2013",
          "2013",
          "2013",
          "2013",
          "2013",
          "2013",
          "2013",
          "2013",
          "2013",
          "2013",
          "2013",
          "2013",
          "2013",
          "2013",
          "2013",
          "2013",
          "2013",
          "2013",
          "2013",
          "2013",
          "2013",
          "2013",
          "2013",
          "2013",
          "2013",
          "2013",
          "2013",
          "2013",
          "2013",
          "2013",
          "2013",
          "2013",
          "2013",
          "2013",
          "2013",
          "2013",
          "2013",
          "2013",
          "2013",
          "2013",
          "2013",
          "2013",
          "2013",
          "2013",
          "2013",
          "2013",
          "2013",
          "2013",
          "2013",
          "2013",
          "2013",
          "2013",
          "2013",
          "2013",
          "2013",
          "2013",
          "2013",
          "2013",
          "2013",
          "2013",
          "2013",
          "2013",
          "2013",
          "2013",
          "2013",
          "2013",
          "2013",
          "2013",
          "2013",
          "2013",
          "2013",
          "2013",
          "2013",
          "2013",
          "2013",
          "2013",
          "2013",
          "2013",
          "2013",
          "2013",
          "2013",
          "2013",
          "2013",
          "2013",
          "2013",
          "2013",
          "2013",
          "2013",
          "2013",
          "2013",
          "2013",
          "2013",
          "2014",
          "2014",
          "2014",
          "2014",
          "2014",
          "2014",
          "2014",
          "2014",
          "2014",
          "2014",
          "2014",
          "2014",
          "2014",
          "2014",
          "2014",
          "2014",
          "2014",
          "2014",
          "2014",
          "2014",
          "2014",
          "2014",
          "2014",
          "2014",
          "2014",
          "2014",
          "2014",
          "2014",
          "2014",
          "2014",
          "2014",
          "2014",
          "2014",
          "2014",
          "2014",
          "2014",
          "2014",
          "2014",
          "2014",
          "2014",
          "2014",
          "2014",
          "2014",
          "2014",
          "2014",
          "2014",
          "2014",
          "2014",
          "2014",
          "2014",
          "2014",
          "2014",
          "2014",
          "2014",
          "2014",
          "2014",
          "2014",
          "2014",
          "2014",
          "2014",
          "2014",
          "2014",
          "2014",
          "2014",
          "2014",
          "2014",
          "2014",
          "2014",
          "2014",
          "2014",
          "2014",
          "2014",
          "2014",
          "2014",
          "2014",
          "2014",
          "2014",
          "2014",
          "2014",
          "2014",
          "2014",
          "2014",
          "2014",
          "2014",
          "2014",
          "2014",
          "2014",
          "2014",
          "2014",
          "2014",
          "2014",
          "2014",
          "2014",
          "2014",
          "2014",
          "2014",
          "2014",
          "2014",
          "2015",
          "2015",
          "2015",
          "2015",
          "2015",
          "2015",
          "2015",
          "2015",
          "2015",
          "2015",
          "2015",
          "2015",
          "2015",
          "2015",
          "2015",
          "2015",
          "2015",
          "2015",
          "2015",
          "2015",
          "2015",
          "2015",
          "2015",
          "2015",
          "2015",
          "2015",
          "2015",
          "2015",
          "2015",
          "2015",
          "2015",
          "2015",
          "2015",
          "2015",
          "2015",
          "2015",
          "2015",
          "2015",
          "2015",
          "2015",
          "2015",
          "2015",
          "2015",
          "2015",
          "2015",
          "2015",
          "2015",
          "2015",
          "2015",
          "2015",
          "2015",
          "2015",
          "2015",
          "2015",
          "2015",
          "2015",
          "2015",
          "2015",
          "2015",
          "2015",
          "2015",
          "2015",
          "2015",
          "2015",
          "2015",
          "2015",
          "2015",
          "2015",
          "2015",
          "2015",
          "2015",
          "2015",
          "2015",
          "2015",
          "2015",
          "2015",
          "2015",
          "2015",
          "2015",
          "2015",
          "2015",
          "2015",
          "2015",
          "2015",
          "2015",
          "2015",
          "2015",
          "2015",
          "2015",
          "2015",
          "2015",
          "2015",
          "2015",
          "2015",
          "2015",
          "2015",
          "2015",
          "2015",
          "2016",
          "2016",
          "2016",
          "2016",
          "2016",
          "2016",
          "2016",
          "2016",
          "2016",
          "2016",
          "2016",
          "2016",
          "2016",
          "2016",
          "2016",
          "2016",
          "2016",
          "2016",
          "2016",
          "2016",
          "2016",
          "2016",
          "2016",
          "2016",
          "2016",
          "2016",
          "2016",
          "2016",
          "2016",
          "2016",
          "2016",
          "2016",
          "2016",
          "2016",
          "2016",
          "2016",
          "2016",
          "2016",
          "2016",
          "2016",
          "2016",
          "2016",
          "2016",
          "2016",
          "2016",
          "2016",
          "2016",
          "2016",
          "2016",
          "2016",
          "2016",
          "2016",
          "2016",
          "2016",
          "2016",
          "2016",
          "2016",
          "2016",
          "2016",
          "2016",
          "2016",
          "2016",
          "2016",
          "2016",
          "2016",
          "2016",
          "2016",
          "2016",
          "2016",
          "2016",
          "2016",
          "2016",
          "2016",
          "2016",
          "2016",
          "2016",
          "2016",
          "2016",
          "2016",
          "2016",
          "2016",
          "2016",
          "2016",
          "2016",
          "2016",
          "2016",
          "2016",
          "2016",
          "2016",
          "2016",
          "2016",
          "2016",
          "2016",
          "2016",
          "2016",
          "2016",
          "2016",
          "2016",
          "2017",
          "2017",
          "2017",
          "2017",
          "2017",
          "2017",
          "2017",
          "2017",
          "2017",
          "2017",
          "2017",
          "2017",
          "2017",
          "2017",
          "2017",
          "2017",
          "2017",
          "2017",
          "2017",
          "2017",
          "2017",
          "2017",
          "2017",
          "2017",
          "2017",
          "2017",
          "2017",
          "2017",
          "2017",
          "2017",
          "2017",
          "2017",
          "2017",
          "2017",
          "2017",
          "2017",
          "2017",
          "2017",
          "2017",
          "2017",
          "2017",
          "2017",
          "2017",
          "2017",
          "2017",
          "2017",
          "2017",
          "2017",
          "2017",
          "2017",
          "2017",
          "2017",
          "2017",
          "2017",
          "2017",
          "2017",
          "2017",
          "2017",
          "2017",
          "2017",
          "2017",
          "2017",
          "2017",
          "2017",
          "2017",
          "2017",
          "2017",
          "2017",
          "2017",
          "2017",
          "2017",
          "2017",
          "2017",
          "2017",
          "2017",
          "2017",
          "2017",
          "2017",
          "2017",
          "2017",
          "2017",
          "2017",
          "2017",
          "2017",
          "2017",
          "2017",
          "2017",
          "2017",
          "2017",
          "2017",
          "2017",
          "2017",
          "2017",
          "2017",
          "2017",
          "2017",
          "2017",
          "2017",
          "2018",
          "2018",
          "2018",
          "2018",
          "2018",
          "2018",
          "2018",
          "2018",
          "2018",
          "2018",
          "2018",
          "2018",
          "2018",
          "2018",
          "2018",
          "2018",
          "2018",
          "2018",
          "2018",
          "2018",
          "2018",
          "2018",
          "2018",
          "2018",
          "2018",
          "2018",
          "2018",
          "2018",
          "2018",
          "2018",
          "2018",
          "2018",
          "2018",
          "2018",
          "2018",
          "2018",
          "2018",
          "2018",
          "2018",
          "2018",
          "2018",
          "2018",
          "2018",
          "2018",
          "2018",
          "2018",
          "2018",
          "2018",
          "2018",
          "2018",
          "2018",
          "2018",
          "2018",
          "2018",
          "2018",
          "2018",
          "2018",
          "2018",
          "2018",
          "2018",
          "2018",
          "2018",
          "2018",
          "2018",
          "2018",
          "2018",
          "2018",
          "2018",
          "2018",
          "2018",
          "2018",
          "2018",
          "2018",
          "2018",
          "2018",
          "2018",
          "2018",
          "2018",
          "2018",
          "2018",
          "2018",
          "2018",
          "2018",
          "2018",
          "2018",
          "2018",
          "2018",
          "2018",
          "2018",
          "2018",
          "2018",
          "2018",
          "2018",
          "2018",
          "2018",
          "2018",
          "2018",
          "2018",
          "2019",
          "2019",
          "2019",
          "2019",
          "2019",
          "2019",
          "2019",
          "2019",
          "2019",
          "2019",
          "2019",
          "2019",
          "2019",
          "2019",
          "2019",
          "2019",
          "2019",
          "2019",
          "2019",
          "2019",
          "2019",
          "2019",
          "2019",
          "2019",
          "2019",
          "2019",
          "2019",
          "2019",
          "2019",
          "2019",
          "2019",
          "2019",
          "2019",
          "2019",
          "2019",
          "2019",
          "2019",
          "2019",
          "2019",
          "2019",
          "2019",
          "2019",
          "2019",
          "2019",
          "2019",
          "2019",
          "2019",
          "2019",
          "2019",
          "2019",
          "2019",
          "2019",
          "2019",
          "2019",
          "2019",
          "2019",
          "2019",
          "2019",
          "2019",
          "2019",
          "2019",
          "2019",
          "2019",
          "2019",
          "2019",
          "2019",
          "2019",
          "2019",
          "2019",
          "2019",
          "2019",
          "2019",
          "2019",
          "2019",
          "2019",
          "2019",
          "2019",
          "2019",
          "2019",
          "2019",
          "2019",
          "2019",
          "2019",
          "2019",
          "2019",
          "2019",
          "2019",
          "2019",
          "2019",
          "2019",
          "2019",
          "2019",
          "2019",
          "2019",
          "2019",
          "2019",
          "2019",
          "2019",
          "2020",
          "2020",
          "2020",
          "2020",
          "2020",
          "2020",
          "2020",
          "2020",
          "2020",
          "2020",
          "2020",
          "2020",
          "2020",
          "2020",
          "2020",
          "2020",
          "2020",
          "2020",
          "2020",
          "2020",
          "2020",
          "2020",
          "2020",
          "2020",
          "2020",
          "2020",
          "2020",
          "2020",
          "2020",
          "2020",
          "2020",
          "2020",
          "2020",
          "2020",
          "2020",
          "2020",
          "2020",
          "2020",
          "2020",
          "2020",
          "2020",
          "2020",
          "2020",
          "2020",
          "2020",
          "2020",
          "2020",
          "2020",
          "2020",
          "2020",
          "2020",
          "2020",
          "2020",
          "2020",
          "2020",
          "2020",
          "2020",
          "2020",
          "2020",
          "2020",
          "2020",
          "2020",
          "2020",
          "2020",
          "2020",
          "2020",
          "2020",
          "2020",
          "2020",
          "2020",
          "2020",
          "2020",
          "2020",
          "2020",
          "2020",
          "2020",
          "2020",
          "2020",
          "2020",
          "2020",
          "2020",
          "2020",
          "2020",
          "2020",
          "2020",
          "2020",
          "2020",
          "2020",
          "2020",
          "2020",
          "2020",
          "2020",
          "2020",
          "2020",
          "2020",
          "2020",
          "2020",
          "2020",
          "2021",
          "2021",
          "2021",
          "2021",
          "2021",
          "2021",
          "2021",
          "2021",
          "2021",
          "2021",
          "2021",
          "2021",
          "2021",
          "2021",
          "2021",
          "2021",
          "2021",
          "2021",
          "2021",
          "2021",
          "2021",
          "2021",
          "2021",
          "2021",
          "2021",
          "2021",
          "2021",
          "2021",
          "2021",
          "2021",
          "2021",
          "2021",
          "2021",
          "2021",
          "2021",
          "2021",
          "2021",
          "2021",
          "2021",
          "2021",
          "2021",
          "2021",
          "2021",
          "2021",
          "2021",
          "2021",
          "2021",
          "2021",
          "2021",
          "2021",
          "2021",
          "2021",
          "2021",
          "2021",
          "2021",
          "2021",
          "2021",
          "2021",
          "2021",
          "2021",
          "2021",
          "2021",
          "2021",
          "2021",
          "2021",
          "2021",
          "2021",
          "2021",
          "2021",
          "2021",
          "2021",
          "2021",
          "2021",
          "2021",
          "2021",
          "2021",
          "2021",
          "2021",
          "2021",
          "2021",
          "2021",
          "2021",
          "2021",
          "2021",
          "2021",
          "2021",
          "2021",
          "2021",
          "2021",
          "2021",
          "2021",
          "2021",
          "2021",
          "2021",
          "2021",
          "2021",
          "2021",
          "2021",
          "2022",
          "2022",
          "2022",
          "2022",
          "2022",
          "2022",
          "2022",
          "2022",
          "2022",
          "2022",
          "2022",
          "2022",
          "2022",
          "2022",
          "2022",
          "2022",
          "2022",
          "2022",
          "2022",
          "2022",
          "2022",
          "2022",
          "2022",
          "2022",
          "2022",
          "2022",
          "2022",
          "2022",
          "2022",
          "2022",
          "2022",
          "2022",
          "2022",
          "2022",
          "2022",
          "2022",
          "2022",
          "2022",
          "2022",
          "2022",
          "2022",
          "2022",
          "2022",
          "2022",
          "2022",
          "2022",
          "2022",
          "2022",
          "2022",
          "2022",
          "2022",
          "2022",
          "2022",
          "2022",
          "2022",
          "2022",
          "2022",
          "2022",
          "2022",
          "2022",
          "2022",
          "2022",
          "2022",
          "2022",
          "2022",
          "2022",
          "2022",
          "2022",
          "2022",
          "2022",
          "2022",
          "2022",
          "2022",
          "2022",
          "2022",
          "2022",
          "2022",
          "2022",
          "2022",
          "2022",
          "2022",
          "2022",
          "2022",
          "2022",
          "2022",
          "2022",
          "2022",
          "2022",
          "2022",
          "2022",
          "2022",
          "2022",
          "2022",
          "2022",
          "2022",
          "2022",
          "2022",
          "2022"
         ]
        }
       ],
       "layout": {
        "legend": {
         "tracegroupgap": 0
        },
        "template": {
         "data": {
          "bar": [
           {
            "error_x": {
             "color": "#2a3f5f"
            },
            "error_y": {
             "color": "#2a3f5f"
            },
            "marker": {
             "line": {
              "color": "#E5ECF6",
              "width": 0.5
             },
             "pattern": {
              "fillmode": "overlay",
              "size": 10,
              "solidity": 0.2
             }
            },
            "type": "bar"
           }
          ],
          "barpolar": [
           {
            "marker": {
             "line": {
              "color": "#E5ECF6",
              "width": 0.5
             },
             "pattern": {
              "fillmode": "overlay",
              "size": 10,
              "solidity": 0.2
             }
            },
            "type": "barpolar"
           }
          ],
          "carpet": [
           {
            "aaxis": {
             "endlinecolor": "#2a3f5f",
             "gridcolor": "white",
             "linecolor": "white",
             "minorgridcolor": "white",
             "startlinecolor": "#2a3f5f"
            },
            "baxis": {
             "endlinecolor": "#2a3f5f",
             "gridcolor": "white",
             "linecolor": "white",
             "minorgridcolor": "white",
             "startlinecolor": "#2a3f5f"
            },
            "type": "carpet"
           }
          ],
          "choropleth": [
           {
            "colorbar": {
             "outlinewidth": 0,
             "ticks": ""
            },
            "type": "choropleth"
           }
          ],
          "contour": [
           {
            "colorbar": {
             "outlinewidth": 0,
             "ticks": ""
            },
            "colorscale": [
             [
              0,
              "#0d0887"
             ],
             [
              0.1111111111111111,
              "#46039f"
             ],
             [
              0.2222222222222222,
              "#7201a8"
             ],
             [
              0.3333333333333333,
              "#9c179e"
             ],
             [
              0.4444444444444444,
              "#bd3786"
             ],
             [
              0.5555555555555556,
              "#d8576b"
             ],
             [
              0.6666666666666666,
              "#ed7953"
             ],
             [
              0.7777777777777778,
              "#fb9f3a"
             ],
             [
              0.8888888888888888,
              "#fdca26"
             ],
             [
              1,
              "#f0f921"
             ]
            ],
            "type": "contour"
           }
          ],
          "contourcarpet": [
           {
            "colorbar": {
             "outlinewidth": 0,
             "ticks": ""
            },
            "type": "contourcarpet"
           }
          ],
          "heatmap": [
           {
            "colorbar": {
             "outlinewidth": 0,
             "ticks": ""
            },
            "colorscale": [
             [
              0,
              "#0d0887"
             ],
             [
              0.1111111111111111,
              "#46039f"
             ],
             [
              0.2222222222222222,
              "#7201a8"
             ],
             [
              0.3333333333333333,
              "#9c179e"
             ],
             [
              0.4444444444444444,
              "#bd3786"
             ],
             [
              0.5555555555555556,
              "#d8576b"
             ],
             [
              0.6666666666666666,
              "#ed7953"
             ],
             [
              0.7777777777777778,
              "#fb9f3a"
             ],
             [
              0.8888888888888888,
              "#fdca26"
             ],
             [
              1,
              "#f0f921"
             ]
            ],
            "type": "heatmap"
           }
          ],
          "heatmapgl": [
           {
            "colorbar": {
             "outlinewidth": 0,
             "ticks": ""
            },
            "colorscale": [
             [
              0,
              "#0d0887"
             ],
             [
              0.1111111111111111,
              "#46039f"
             ],
             [
              0.2222222222222222,
              "#7201a8"
             ],
             [
              0.3333333333333333,
              "#9c179e"
             ],
             [
              0.4444444444444444,
              "#bd3786"
             ],
             [
              0.5555555555555556,
              "#d8576b"
             ],
             [
              0.6666666666666666,
              "#ed7953"
             ],
             [
              0.7777777777777778,
              "#fb9f3a"
             ],
             [
              0.8888888888888888,
              "#fdca26"
             ],
             [
              1,
              "#f0f921"
             ]
            ],
            "type": "heatmapgl"
           }
          ],
          "histogram": [
           {
            "marker": {
             "pattern": {
              "fillmode": "overlay",
              "size": 10,
              "solidity": 0.2
             }
            },
            "type": "histogram"
           }
          ],
          "histogram2d": [
           {
            "colorbar": {
             "outlinewidth": 0,
             "ticks": ""
            },
            "colorscale": [
             [
              0,
              "#0d0887"
             ],
             [
              0.1111111111111111,
              "#46039f"
             ],
             [
              0.2222222222222222,
              "#7201a8"
             ],
             [
              0.3333333333333333,
              "#9c179e"
             ],
             [
              0.4444444444444444,
              "#bd3786"
             ],
             [
              0.5555555555555556,
              "#d8576b"
             ],
             [
              0.6666666666666666,
              "#ed7953"
             ],
             [
              0.7777777777777778,
              "#fb9f3a"
             ],
             [
              0.8888888888888888,
              "#fdca26"
             ],
             [
              1,
              "#f0f921"
             ]
            ],
            "type": "histogram2d"
           }
          ],
          "histogram2dcontour": [
           {
            "colorbar": {
             "outlinewidth": 0,
             "ticks": ""
            },
            "colorscale": [
             [
              0,
              "#0d0887"
             ],
             [
              0.1111111111111111,
              "#46039f"
             ],
             [
              0.2222222222222222,
              "#7201a8"
             ],
             [
              0.3333333333333333,
              "#9c179e"
             ],
             [
              0.4444444444444444,
              "#bd3786"
             ],
             [
              0.5555555555555556,
              "#d8576b"
             ],
             [
              0.6666666666666666,
              "#ed7953"
             ],
             [
              0.7777777777777778,
              "#fb9f3a"
             ],
             [
              0.8888888888888888,
              "#fdca26"
             ],
             [
              1,
              "#f0f921"
             ]
            ],
            "type": "histogram2dcontour"
           }
          ],
          "mesh3d": [
           {
            "colorbar": {
             "outlinewidth": 0,
             "ticks": ""
            },
            "type": "mesh3d"
           }
          ],
          "parcoords": [
           {
            "line": {
             "colorbar": {
              "outlinewidth": 0,
              "ticks": ""
             }
            },
            "type": "parcoords"
           }
          ],
          "pie": [
           {
            "automargin": true,
            "type": "pie"
           }
          ],
          "scatter": [
           {
            "fillpattern": {
             "fillmode": "overlay",
             "size": 10,
             "solidity": 0.2
            },
            "type": "scatter"
           }
          ],
          "scatter3d": [
           {
            "line": {
             "colorbar": {
              "outlinewidth": 0,
              "ticks": ""
             }
            },
            "marker": {
             "colorbar": {
              "outlinewidth": 0,
              "ticks": ""
             }
            },
            "type": "scatter3d"
           }
          ],
          "scattercarpet": [
           {
            "marker": {
             "colorbar": {
              "outlinewidth": 0,
              "ticks": ""
             }
            },
            "type": "scattercarpet"
           }
          ],
          "scattergeo": [
           {
            "marker": {
             "colorbar": {
              "outlinewidth": 0,
              "ticks": ""
             }
            },
            "type": "scattergeo"
           }
          ],
          "scattergl": [
           {
            "marker": {
             "colorbar": {
              "outlinewidth": 0,
              "ticks": ""
             }
            },
            "type": "scattergl"
           }
          ],
          "scattermapbox": [
           {
            "marker": {
             "colorbar": {
              "outlinewidth": 0,
              "ticks": ""
             }
            },
            "type": "scattermapbox"
           }
          ],
          "scatterpolar": [
           {
            "marker": {
             "colorbar": {
              "outlinewidth": 0,
              "ticks": ""
             }
            },
            "type": "scatterpolar"
           }
          ],
          "scatterpolargl": [
           {
            "marker": {
             "colorbar": {
              "outlinewidth": 0,
              "ticks": ""
             }
            },
            "type": "scatterpolargl"
           }
          ],
          "scatterternary": [
           {
            "marker": {
             "colorbar": {
              "outlinewidth": 0,
              "ticks": ""
             }
            },
            "type": "scatterternary"
           }
          ],
          "surface": [
           {
            "colorbar": {
             "outlinewidth": 0,
             "ticks": ""
            },
            "colorscale": [
             [
              0,
              "#0d0887"
             ],
             [
              0.1111111111111111,
              "#46039f"
             ],
             [
              0.2222222222222222,
              "#7201a8"
             ],
             [
              0.3333333333333333,
              "#9c179e"
             ],
             [
              0.4444444444444444,
              "#bd3786"
             ],
             [
              0.5555555555555556,
              "#d8576b"
             ],
             [
              0.6666666666666666,
              "#ed7953"
             ],
             [
              0.7777777777777778,
              "#fb9f3a"
             ],
             [
              0.8888888888888888,
              "#fdca26"
             ],
             [
              1,
              "#f0f921"
             ]
            ],
            "type": "surface"
           }
          ],
          "table": [
           {
            "cells": {
             "fill": {
              "color": "#EBF0F8"
             },
             "line": {
              "color": "white"
             }
            },
            "header": {
             "fill": {
              "color": "#C8D4E3"
             },
             "line": {
              "color": "white"
             }
            },
            "type": "table"
           }
          ]
         },
         "layout": {
          "annotationdefaults": {
           "arrowcolor": "#2a3f5f",
           "arrowhead": 0,
           "arrowwidth": 1
          },
          "autotypenumbers": "strict",
          "coloraxis": {
           "colorbar": {
            "outlinewidth": 0,
            "ticks": ""
           }
          },
          "colorscale": {
           "diverging": [
            [
             0,
             "#8e0152"
            ],
            [
             0.1,
             "#c51b7d"
            ],
            [
             0.2,
             "#de77ae"
            ],
            [
             0.3,
             "#f1b6da"
            ],
            [
             0.4,
             "#fde0ef"
            ],
            [
             0.5,
             "#f7f7f7"
            ],
            [
             0.6,
             "#e6f5d0"
            ],
            [
             0.7,
             "#b8e186"
            ],
            [
             0.8,
             "#7fbc41"
            ],
            [
             0.9,
             "#4d9221"
            ],
            [
             1,
             "#276419"
            ]
           ],
           "sequential": [
            [
             0,
             "#0d0887"
            ],
            [
             0.1111111111111111,
             "#46039f"
            ],
            [
             0.2222222222222222,
             "#7201a8"
            ],
            [
             0.3333333333333333,
             "#9c179e"
            ],
            [
             0.4444444444444444,
             "#bd3786"
            ],
            [
             0.5555555555555556,
             "#d8576b"
            ],
            [
             0.6666666666666666,
             "#ed7953"
            ],
            [
             0.7777777777777778,
             "#fb9f3a"
            ],
            [
             0.8888888888888888,
             "#fdca26"
            ],
            [
             1,
             "#f0f921"
            ]
           ],
           "sequentialminus": [
            [
             0,
             "#0d0887"
            ],
            [
             0.1111111111111111,
             "#46039f"
            ],
            [
             0.2222222222222222,
             "#7201a8"
            ],
            [
             0.3333333333333333,
             "#9c179e"
            ],
            [
             0.4444444444444444,
             "#bd3786"
            ],
            [
             0.5555555555555556,
             "#d8576b"
            ],
            [
             0.6666666666666666,
             "#ed7953"
            ],
            [
             0.7777777777777778,
             "#fb9f3a"
            ],
            [
             0.8888888888888888,
             "#fdca26"
            ],
            [
             1,
             "#f0f921"
            ]
           ]
          },
          "colorway": [
           "#636efa",
           "#EF553B",
           "#00cc96",
           "#ab63fa",
           "#FFA15A",
           "#19d3f3",
           "#FF6692",
           "#B6E880",
           "#FF97FF",
           "#FECB52"
          ],
          "font": {
           "color": "#2a3f5f"
          },
          "geo": {
           "bgcolor": "white",
           "lakecolor": "white",
           "landcolor": "#E5ECF6",
           "showlakes": true,
           "showland": true,
           "subunitcolor": "white"
          },
          "hoverlabel": {
           "align": "left"
          },
          "hovermode": "closest",
          "mapbox": {
           "style": "light"
          },
          "paper_bgcolor": "white",
          "plot_bgcolor": "#E5ECF6",
          "polar": {
           "angularaxis": {
            "gridcolor": "white",
            "linecolor": "white",
            "ticks": ""
           },
           "bgcolor": "#E5ECF6",
           "radialaxis": {
            "gridcolor": "white",
            "linecolor": "white",
            "ticks": ""
           }
          },
          "scene": {
           "xaxis": {
            "backgroundcolor": "#E5ECF6",
            "gridcolor": "white",
            "gridwidth": 2,
            "linecolor": "white",
            "showbackground": true,
            "ticks": "",
            "zerolinecolor": "white"
           },
           "yaxis": {
            "backgroundcolor": "#E5ECF6",
            "gridcolor": "white",
            "gridwidth": 2,
            "linecolor": "white",
            "showbackground": true,
            "ticks": "",
            "zerolinecolor": "white"
           },
           "zaxis": {
            "backgroundcolor": "#E5ECF6",
            "gridcolor": "white",
            "gridwidth": 2,
            "linecolor": "white",
            "showbackground": true,
            "ticks": "",
            "zerolinecolor": "white"
           }
          },
          "shapedefaults": {
           "line": {
            "color": "#2a3f5f"
           }
          },
          "ternary": {
           "aaxis": {
            "gridcolor": "white",
            "linecolor": "white",
            "ticks": ""
           },
           "baxis": {
            "gridcolor": "white",
            "linecolor": "white",
            "ticks": ""
           },
           "bgcolor": "#E5ECF6",
           "caxis": {
            "gridcolor": "white",
            "linecolor": "white",
            "ticks": ""
           }
          },
          "title": {
           "x": 0.05
          },
          "xaxis": {
           "automargin": true,
           "gridcolor": "white",
           "linecolor": "white",
           "ticks": "",
           "title": {
            "standoff": 15
           },
           "zerolinecolor": "white",
           "zerolinewidth": 2
          },
          "yaxis": {
           "automargin": true,
           "gridcolor": "white",
           "linecolor": "white",
           "ticks": "",
           "title": {
            "standoff": 15
           },
           "zerolinecolor": "white",
           "zerolinewidth": 2
          }
         }
        },
        "title": {
         "text": "Pie chart"
        }
       }
      }
     },
     "metadata": {},
     "output_type": "display_data"
    }
   ],
   "source": [
    "\n",
    "#Create a pie chart\n",
    "Fig3 = px.pie(ixft7, values='Year', names='Year', color='Product', title='Pie chart')\n",
    "Fig3.show()\n"
   ]
  },
  {
   "cell_type": "code",
   "execution_count": 668,
   "metadata": {},
   "outputs": [
    {
     "data": {
      "application/vnd.plotly.v1+json": {
       "config": {
        "plotlyServerURL": "https://plot.ly"
       },
       "data": [
        {
         "alignmentgroup": "True",
         "hovertemplate": "Product=98--Special Classification Provisions, Nesoi<br>Year=%{x}<br>value=%{y}<extra></extra>",
         "legendgroup": "98--Special Classification Provisions, Nesoi",
         "marker": {
          "color": "#636efa",
          "pattern": {
           "shape": ""
          }
         },
         "name": "98--Special Classification Provisions, Nesoi",
         "offsetgroup": "98--Special Classification Provisions, Nesoi",
         "orientation": "h",
         "showlegend": true,
         "textposition": "auto",
         "type": "bar",
         "x": [
          "2016",
          "2018",
          "2021",
          "2017",
          "2014",
          "2019",
          "2020",
          "2013",
          "2022",
          "2015"
         ],
         "xaxis": "x",
         "y": [
          478,
          613,
          703,
          526,
          500,
          638,
          610,
          402,
          1006,
          422
         ],
         "yaxis": "y"
        }
       ],
       "layout": {
        "barmode": "relative",
        "legend": {
         "title": {
          "text": "Product"
         },
         "tracegroupgap": 0
        },
        "margin": {
         "t": 60
        },
        "template": {
         "data": {
          "bar": [
           {
            "error_x": {
             "color": "#2a3f5f"
            },
            "error_y": {
             "color": "#2a3f5f"
            },
            "marker": {
             "line": {
              "color": "#E5ECF6",
              "width": 0.5
             },
             "pattern": {
              "fillmode": "overlay",
              "size": 10,
              "solidity": 0.2
             }
            },
            "type": "bar"
           }
          ],
          "barpolar": [
           {
            "marker": {
             "line": {
              "color": "#E5ECF6",
              "width": 0.5
             },
             "pattern": {
              "fillmode": "overlay",
              "size": 10,
              "solidity": 0.2
             }
            },
            "type": "barpolar"
           }
          ],
          "carpet": [
           {
            "aaxis": {
             "endlinecolor": "#2a3f5f",
             "gridcolor": "white",
             "linecolor": "white",
             "minorgridcolor": "white",
             "startlinecolor": "#2a3f5f"
            },
            "baxis": {
             "endlinecolor": "#2a3f5f",
             "gridcolor": "white",
             "linecolor": "white",
             "minorgridcolor": "white",
             "startlinecolor": "#2a3f5f"
            },
            "type": "carpet"
           }
          ],
          "choropleth": [
           {
            "colorbar": {
             "outlinewidth": 0,
             "ticks": ""
            },
            "type": "choropleth"
           }
          ],
          "contour": [
           {
            "colorbar": {
             "outlinewidth": 0,
             "ticks": ""
            },
            "colorscale": [
             [
              0,
              "#0d0887"
             ],
             [
              0.1111111111111111,
              "#46039f"
             ],
             [
              0.2222222222222222,
              "#7201a8"
             ],
             [
              0.3333333333333333,
              "#9c179e"
             ],
             [
              0.4444444444444444,
              "#bd3786"
             ],
             [
              0.5555555555555556,
              "#d8576b"
             ],
             [
              0.6666666666666666,
              "#ed7953"
             ],
             [
              0.7777777777777778,
              "#fb9f3a"
             ],
             [
              0.8888888888888888,
              "#fdca26"
             ],
             [
              1,
              "#f0f921"
             ]
            ],
            "type": "contour"
           }
          ],
          "contourcarpet": [
           {
            "colorbar": {
             "outlinewidth": 0,
             "ticks": ""
            },
            "type": "contourcarpet"
           }
          ],
          "heatmap": [
           {
            "colorbar": {
             "outlinewidth": 0,
             "ticks": ""
            },
            "colorscale": [
             [
              0,
              "#0d0887"
             ],
             [
              0.1111111111111111,
              "#46039f"
             ],
             [
              0.2222222222222222,
              "#7201a8"
             ],
             [
              0.3333333333333333,
              "#9c179e"
             ],
             [
              0.4444444444444444,
              "#bd3786"
             ],
             [
              0.5555555555555556,
              "#d8576b"
             ],
             [
              0.6666666666666666,
              "#ed7953"
             ],
             [
              0.7777777777777778,
              "#fb9f3a"
             ],
             [
              0.8888888888888888,
              "#fdca26"
             ],
             [
              1,
              "#f0f921"
             ]
            ],
            "type": "heatmap"
           }
          ],
          "heatmapgl": [
           {
            "colorbar": {
             "outlinewidth": 0,
             "ticks": ""
            },
            "colorscale": [
             [
              0,
              "#0d0887"
             ],
             [
              0.1111111111111111,
              "#46039f"
             ],
             [
              0.2222222222222222,
              "#7201a8"
             ],
             [
              0.3333333333333333,
              "#9c179e"
             ],
             [
              0.4444444444444444,
              "#bd3786"
             ],
             [
              0.5555555555555556,
              "#d8576b"
             ],
             [
              0.6666666666666666,
              "#ed7953"
             ],
             [
              0.7777777777777778,
              "#fb9f3a"
             ],
             [
              0.8888888888888888,
              "#fdca26"
             ],
             [
              1,
              "#f0f921"
             ]
            ],
            "type": "heatmapgl"
           }
          ],
          "histogram": [
           {
            "marker": {
             "pattern": {
              "fillmode": "overlay",
              "size": 10,
              "solidity": 0.2
             }
            },
            "type": "histogram"
           }
          ],
          "histogram2d": [
           {
            "colorbar": {
             "outlinewidth": 0,
             "ticks": ""
            },
            "colorscale": [
             [
              0,
              "#0d0887"
             ],
             [
              0.1111111111111111,
              "#46039f"
             ],
             [
              0.2222222222222222,
              "#7201a8"
             ],
             [
              0.3333333333333333,
              "#9c179e"
             ],
             [
              0.4444444444444444,
              "#bd3786"
             ],
             [
              0.5555555555555556,
              "#d8576b"
             ],
             [
              0.6666666666666666,
              "#ed7953"
             ],
             [
              0.7777777777777778,
              "#fb9f3a"
             ],
             [
              0.8888888888888888,
              "#fdca26"
             ],
             [
              1,
              "#f0f921"
             ]
            ],
            "type": "histogram2d"
           }
          ],
          "histogram2dcontour": [
           {
            "colorbar": {
             "outlinewidth": 0,
             "ticks": ""
            },
            "colorscale": [
             [
              0,
              "#0d0887"
             ],
             [
              0.1111111111111111,
              "#46039f"
             ],
             [
              0.2222222222222222,
              "#7201a8"
             ],
             [
              0.3333333333333333,
              "#9c179e"
             ],
             [
              0.4444444444444444,
              "#bd3786"
             ],
             [
              0.5555555555555556,
              "#d8576b"
             ],
             [
              0.6666666666666666,
              "#ed7953"
             ],
             [
              0.7777777777777778,
              "#fb9f3a"
             ],
             [
              0.8888888888888888,
              "#fdca26"
             ],
             [
              1,
              "#f0f921"
             ]
            ],
            "type": "histogram2dcontour"
           }
          ],
          "mesh3d": [
           {
            "colorbar": {
             "outlinewidth": 0,
             "ticks": ""
            },
            "type": "mesh3d"
           }
          ],
          "parcoords": [
           {
            "line": {
             "colorbar": {
              "outlinewidth": 0,
              "ticks": ""
             }
            },
            "type": "parcoords"
           }
          ],
          "pie": [
           {
            "automargin": true,
            "type": "pie"
           }
          ],
          "scatter": [
           {
            "fillpattern": {
             "fillmode": "overlay",
             "size": 10,
             "solidity": 0.2
            },
            "type": "scatter"
           }
          ],
          "scatter3d": [
           {
            "line": {
             "colorbar": {
              "outlinewidth": 0,
              "ticks": ""
             }
            },
            "marker": {
             "colorbar": {
              "outlinewidth": 0,
              "ticks": ""
             }
            },
            "type": "scatter3d"
           }
          ],
          "scattercarpet": [
           {
            "marker": {
             "colorbar": {
              "outlinewidth": 0,
              "ticks": ""
             }
            },
            "type": "scattercarpet"
           }
          ],
          "scattergeo": [
           {
            "marker": {
             "colorbar": {
              "outlinewidth": 0,
              "ticks": ""
             }
            },
            "type": "scattergeo"
           }
          ],
          "scattergl": [
           {
            "marker": {
             "colorbar": {
              "outlinewidth": 0,
              "ticks": ""
             }
            },
            "type": "scattergl"
           }
          ],
          "scattermapbox": [
           {
            "marker": {
             "colorbar": {
              "outlinewidth": 0,
              "ticks": ""
             }
            },
            "type": "scattermapbox"
           }
          ],
          "scatterpolar": [
           {
            "marker": {
             "colorbar": {
              "outlinewidth": 0,
              "ticks": ""
             }
            },
            "type": "scatterpolar"
           }
          ],
          "scatterpolargl": [
           {
            "marker": {
             "colorbar": {
              "outlinewidth": 0,
              "ticks": ""
             }
            },
            "type": "scatterpolargl"
           }
          ],
          "scatterternary": [
           {
            "marker": {
             "colorbar": {
              "outlinewidth": 0,
              "ticks": ""
             }
            },
            "type": "scatterternary"
           }
          ],
          "surface": [
           {
            "colorbar": {
             "outlinewidth": 0,
             "ticks": ""
            },
            "colorscale": [
             [
              0,
              "#0d0887"
             ],
             [
              0.1111111111111111,
              "#46039f"
             ],
             [
              0.2222222222222222,
              "#7201a8"
             ],
             [
              0.3333333333333333,
              "#9c179e"
             ],
             [
              0.4444444444444444,
              "#bd3786"
             ],
             [
              0.5555555555555556,
              "#d8576b"
             ],
             [
              0.6666666666666666,
              "#ed7953"
             ],
             [
              0.7777777777777778,
              "#fb9f3a"
             ],
             [
              0.8888888888888888,
              "#fdca26"
             ],
             [
              1,
              "#f0f921"
             ]
            ],
            "type": "surface"
           }
          ],
          "table": [
           {
            "cells": {
             "fill": {
              "color": "#EBF0F8"
             },
             "line": {
              "color": "white"
             }
            },
            "header": {
             "fill": {
              "color": "#C8D4E3"
             },
             "line": {
              "color": "white"
             }
            },
            "type": "table"
           }
          ]
         },
         "layout": {
          "annotationdefaults": {
           "arrowcolor": "#2a3f5f",
           "arrowhead": 0,
           "arrowwidth": 1
          },
          "autotypenumbers": "strict",
          "coloraxis": {
           "colorbar": {
            "outlinewidth": 0,
            "ticks": ""
           }
          },
          "colorscale": {
           "diverging": [
            [
             0,
             "#8e0152"
            ],
            [
             0.1,
             "#c51b7d"
            ],
            [
             0.2,
             "#de77ae"
            ],
            [
             0.3,
             "#f1b6da"
            ],
            [
             0.4,
             "#fde0ef"
            ],
            [
             0.5,
             "#f7f7f7"
            ],
            [
             0.6,
             "#e6f5d0"
            ],
            [
             0.7,
             "#b8e186"
            ],
            [
             0.8,
             "#7fbc41"
            ],
            [
             0.9,
             "#4d9221"
            ],
            [
             1,
             "#276419"
            ]
           ],
           "sequential": [
            [
             0,
             "#0d0887"
            ],
            [
             0.1111111111111111,
             "#46039f"
            ],
            [
             0.2222222222222222,
             "#7201a8"
            ],
            [
             0.3333333333333333,
             "#9c179e"
            ],
            [
             0.4444444444444444,
             "#bd3786"
            ],
            [
             0.5555555555555556,
             "#d8576b"
            ],
            [
             0.6666666666666666,
             "#ed7953"
            ],
            [
             0.7777777777777778,
             "#fb9f3a"
            ],
            [
             0.8888888888888888,
             "#fdca26"
            ],
            [
             1,
             "#f0f921"
            ]
           ],
           "sequentialminus": [
            [
             0,
             "#0d0887"
            ],
            [
             0.1111111111111111,
             "#46039f"
            ],
            [
             0.2222222222222222,
             "#7201a8"
            ],
            [
             0.3333333333333333,
             "#9c179e"
            ],
            [
             0.4444444444444444,
             "#bd3786"
            ],
            [
             0.5555555555555556,
             "#d8576b"
            ],
            [
             0.6666666666666666,
             "#ed7953"
            ],
            [
             0.7777777777777778,
             "#fb9f3a"
            ],
            [
             0.8888888888888888,
             "#fdca26"
            ],
            [
             1,
             "#f0f921"
            ]
           ]
          },
          "colorway": [
           "#636efa",
           "#EF553B",
           "#00cc96",
           "#ab63fa",
           "#FFA15A",
           "#19d3f3",
           "#FF6692",
           "#B6E880",
           "#FF97FF",
           "#FECB52"
          ],
          "font": {
           "color": "#2a3f5f"
          },
          "geo": {
           "bgcolor": "white",
           "lakecolor": "white",
           "landcolor": "#E5ECF6",
           "showlakes": true,
           "showland": true,
           "subunitcolor": "white"
          },
          "hoverlabel": {
           "align": "left"
          },
          "hovermode": "closest",
          "mapbox": {
           "style": "light"
          },
          "paper_bgcolor": "white",
          "plot_bgcolor": "#E5ECF6",
          "polar": {
           "angularaxis": {
            "gridcolor": "white",
            "linecolor": "white",
            "ticks": ""
           },
           "bgcolor": "#E5ECF6",
           "radialaxis": {
            "gridcolor": "white",
            "linecolor": "white",
            "ticks": ""
           }
          },
          "scene": {
           "xaxis": {
            "backgroundcolor": "#E5ECF6",
            "gridcolor": "white",
            "gridwidth": 2,
            "linecolor": "white",
            "showbackground": true,
            "ticks": "",
            "zerolinecolor": "white"
           },
           "yaxis": {
            "backgroundcolor": "#E5ECF6",
            "gridcolor": "white",
            "gridwidth": 2,
            "linecolor": "white",
            "showbackground": true,
            "ticks": "",
            "zerolinecolor": "white"
           },
           "zaxis": {
            "backgroundcolor": "#E5ECF6",
            "gridcolor": "white",
            "gridwidth": 2,
            "linecolor": "white",
            "showbackground": true,
            "ticks": "",
            "zerolinecolor": "white"
           }
          },
          "shapedefaults": {
           "line": {
            "color": "#2a3f5f"
           }
          },
          "ternary": {
           "aaxis": {
            "gridcolor": "white",
            "linecolor": "white",
            "ticks": ""
           },
           "baxis": {
            "gridcolor": "white",
            "linecolor": "white",
            "ticks": ""
           },
           "bgcolor": "#E5ECF6",
           "caxis": {
            "gridcolor": "white",
            "linecolor": "white",
            "ticks": ""
           }
          },
          "title": {
           "x": 0.05
          },
          "xaxis": {
           "automargin": true,
           "gridcolor": "white",
           "linecolor": "white",
           "ticks": "",
           "title": {
            "standoff": 15
           },
           "zerolinecolor": "white",
           "zerolinewidth": 2
          },
          "yaxis": {
           "automargin": true,
           "gridcolor": "white",
           "linecolor": "white",
           "ticks": "",
           "title": {
            "standoff": 15
           },
           "zerolinecolor": "white",
           "zerolinewidth": 2
          }
         }
        },
        "xaxis": {
         "anchor": "y",
         "domain": [
          0,
          1
         ],
         "title": {
          "text": "Year"
         }
        },
        "yaxis": {
         "anchor": "x",
         "domain": [
          0,
          1
         ],
         "title": {
          "text": "value"
         }
        }
       }
      }
     },
     "metadata": {},
     "output_type": "display_data"
    }
   ],
   "source": [
    "Fig4 = px.bar(ExportsTop10, x=\"Year\", y=\"value\", color=\"Product\", orientation=\"h\")\n",
    "Fig4.show()"
   ]
  },
  {
   "cell_type": "code",
   "execution_count": 671,
   "metadata": {},
   "outputs": [
    {
     "data": {
      "application/vnd.plotly.v1+json": {
       "config": {
        "plotlyServerURL": "https://plot.ly"
       },
       "data": [
        {
         "alignmentgroup": "True",
         "hovertemplate": "Product=98--Special Classification Provisions, Nesoi<br>Year=%{x}<br>value=%{y}<extra></extra>",
         "legendgroup": "98--Special Classification Provisions, Nesoi",
         "marker": {
          "color": "#636efa",
          "pattern": {
           "shape": ""
          }
         },
         "name": "98--Special Classification Provisions, Nesoi",
         "offsetgroup": "98--Special Classification Provisions, Nesoi",
         "orientation": "v",
         "showlegend": true,
         "textposition": "auto",
         "texttemplate": "%{y:.4s}",
         "type": "bar",
         "x": [
          "2016",
          "2018",
          "2021",
          "2017",
          "2014",
          "2019",
          "2020",
          "2013",
          "2022",
          "2015"
         ],
         "xaxis": "x",
         "y": [
          478,
          613,
          703,
          526,
          500,
          638,
          610,
          402,
          1006,
          422
         ],
         "yaxis": "y"
        }
       ],
       "layout": {
        "barmode": "relative",
        "legend": {
         "title": {
          "text": "Product"
         },
         "tracegroupgap": 0
        },
        "template": {
         "data": {
          "bar": [
           {
            "error_x": {
             "color": "#2a3f5f"
            },
            "error_y": {
             "color": "#2a3f5f"
            },
            "marker": {
             "line": {
              "color": "#E5ECF6",
              "width": 0.5
             },
             "pattern": {
              "fillmode": "overlay",
              "size": 10,
              "solidity": 0.2
             }
            },
            "type": "bar"
           }
          ],
          "barpolar": [
           {
            "marker": {
             "line": {
              "color": "#E5ECF6",
              "width": 0.5
             },
             "pattern": {
              "fillmode": "overlay",
              "size": 10,
              "solidity": 0.2
             }
            },
            "type": "barpolar"
           }
          ],
          "carpet": [
           {
            "aaxis": {
             "endlinecolor": "#2a3f5f",
             "gridcolor": "white",
             "linecolor": "white",
             "minorgridcolor": "white",
             "startlinecolor": "#2a3f5f"
            },
            "baxis": {
             "endlinecolor": "#2a3f5f",
             "gridcolor": "white",
             "linecolor": "white",
             "minorgridcolor": "white",
             "startlinecolor": "#2a3f5f"
            },
            "type": "carpet"
           }
          ],
          "choropleth": [
           {
            "colorbar": {
             "outlinewidth": 0,
             "ticks": ""
            },
            "type": "choropleth"
           }
          ],
          "contour": [
           {
            "colorbar": {
             "outlinewidth": 0,
             "ticks": ""
            },
            "colorscale": [
             [
              0,
              "#0d0887"
             ],
             [
              0.1111111111111111,
              "#46039f"
             ],
             [
              0.2222222222222222,
              "#7201a8"
             ],
             [
              0.3333333333333333,
              "#9c179e"
             ],
             [
              0.4444444444444444,
              "#bd3786"
             ],
             [
              0.5555555555555556,
              "#d8576b"
             ],
             [
              0.6666666666666666,
              "#ed7953"
             ],
             [
              0.7777777777777778,
              "#fb9f3a"
             ],
             [
              0.8888888888888888,
              "#fdca26"
             ],
             [
              1,
              "#f0f921"
             ]
            ],
            "type": "contour"
           }
          ],
          "contourcarpet": [
           {
            "colorbar": {
             "outlinewidth": 0,
             "ticks": ""
            },
            "type": "contourcarpet"
           }
          ],
          "heatmap": [
           {
            "colorbar": {
             "outlinewidth": 0,
             "ticks": ""
            },
            "colorscale": [
             [
              0,
              "#0d0887"
             ],
             [
              0.1111111111111111,
              "#46039f"
             ],
             [
              0.2222222222222222,
              "#7201a8"
             ],
             [
              0.3333333333333333,
              "#9c179e"
             ],
             [
              0.4444444444444444,
              "#bd3786"
             ],
             [
              0.5555555555555556,
              "#d8576b"
             ],
             [
              0.6666666666666666,
              "#ed7953"
             ],
             [
              0.7777777777777778,
              "#fb9f3a"
             ],
             [
              0.8888888888888888,
              "#fdca26"
             ],
             [
              1,
              "#f0f921"
             ]
            ],
            "type": "heatmap"
           }
          ],
          "heatmapgl": [
           {
            "colorbar": {
             "outlinewidth": 0,
             "ticks": ""
            },
            "colorscale": [
             [
              0,
              "#0d0887"
             ],
             [
              0.1111111111111111,
              "#46039f"
             ],
             [
              0.2222222222222222,
              "#7201a8"
             ],
             [
              0.3333333333333333,
              "#9c179e"
             ],
             [
              0.4444444444444444,
              "#bd3786"
             ],
             [
              0.5555555555555556,
              "#d8576b"
             ],
             [
              0.6666666666666666,
              "#ed7953"
             ],
             [
              0.7777777777777778,
              "#fb9f3a"
             ],
             [
              0.8888888888888888,
              "#fdca26"
             ],
             [
              1,
              "#f0f921"
             ]
            ],
            "type": "heatmapgl"
           }
          ],
          "histogram": [
           {
            "marker": {
             "pattern": {
              "fillmode": "overlay",
              "size": 10,
              "solidity": 0.2
             }
            },
            "type": "histogram"
           }
          ],
          "histogram2d": [
           {
            "colorbar": {
             "outlinewidth": 0,
             "ticks": ""
            },
            "colorscale": [
             [
              0,
              "#0d0887"
             ],
             [
              0.1111111111111111,
              "#46039f"
             ],
             [
              0.2222222222222222,
              "#7201a8"
             ],
             [
              0.3333333333333333,
              "#9c179e"
             ],
             [
              0.4444444444444444,
              "#bd3786"
             ],
             [
              0.5555555555555556,
              "#d8576b"
             ],
             [
              0.6666666666666666,
              "#ed7953"
             ],
             [
              0.7777777777777778,
              "#fb9f3a"
             ],
             [
              0.8888888888888888,
              "#fdca26"
             ],
             [
              1,
              "#f0f921"
             ]
            ],
            "type": "histogram2d"
           }
          ],
          "histogram2dcontour": [
           {
            "colorbar": {
             "outlinewidth": 0,
             "ticks": ""
            },
            "colorscale": [
             [
              0,
              "#0d0887"
             ],
             [
              0.1111111111111111,
              "#46039f"
             ],
             [
              0.2222222222222222,
              "#7201a8"
             ],
             [
              0.3333333333333333,
              "#9c179e"
             ],
             [
              0.4444444444444444,
              "#bd3786"
             ],
             [
              0.5555555555555556,
              "#d8576b"
             ],
             [
              0.6666666666666666,
              "#ed7953"
             ],
             [
              0.7777777777777778,
              "#fb9f3a"
             ],
             [
              0.8888888888888888,
              "#fdca26"
             ],
             [
              1,
              "#f0f921"
             ]
            ],
            "type": "histogram2dcontour"
           }
          ],
          "mesh3d": [
           {
            "colorbar": {
             "outlinewidth": 0,
             "ticks": ""
            },
            "type": "mesh3d"
           }
          ],
          "parcoords": [
           {
            "line": {
             "colorbar": {
              "outlinewidth": 0,
              "ticks": ""
             }
            },
            "type": "parcoords"
           }
          ],
          "pie": [
           {
            "automargin": true,
            "type": "pie"
           }
          ],
          "scatter": [
           {
            "fillpattern": {
             "fillmode": "overlay",
             "size": 10,
             "solidity": 0.2
            },
            "type": "scatter"
           }
          ],
          "scatter3d": [
           {
            "line": {
             "colorbar": {
              "outlinewidth": 0,
              "ticks": ""
             }
            },
            "marker": {
             "colorbar": {
              "outlinewidth": 0,
              "ticks": ""
             }
            },
            "type": "scatter3d"
           }
          ],
          "scattercarpet": [
           {
            "marker": {
             "colorbar": {
              "outlinewidth": 0,
              "ticks": ""
             }
            },
            "type": "scattercarpet"
           }
          ],
          "scattergeo": [
           {
            "marker": {
             "colorbar": {
              "outlinewidth": 0,
              "ticks": ""
             }
            },
            "type": "scattergeo"
           }
          ],
          "scattergl": [
           {
            "marker": {
             "colorbar": {
              "outlinewidth": 0,
              "ticks": ""
             }
            },
            "type": "scattergl"
           }
          ],
          "scattermapbox": [
           {
            "marker": {
             "colorbar": {
              "outlinewidth": 0,
              "ticks": ""
             }
            },
            "type": "scattermapbox"
           }
          ],
          "scatterpolar": [
           {
            "marker": {
             "colorbar": {
              "outlinewidth": 0,
              "ticks": ""
             }
            },
            "type": "scatterpolar"
           }
          ],
          "scatterpolargl": [
           {
            "marker": {
             "colorbar": {
              "outlinewidth": 0,
              "ticks": ""
             }
            },
            "type": "scatterpolargl"
           }
          ],
          "scatterternary": [
           {
            "marker": {
             "colorbar": {
              "outlinewidth": 0,
              "ticks": ""
             }
            },
            "type": "scatterternary"
           }
          ],
          "surface": [
           {
            "colorbar": {
             "outlinewidth": 0,
             "ticks": ""
            },
            "colorscale": [
             [
              0,
              "#0d0887"
             ],
             [
              0.1111111111111111,
              "#46039f"
             ],
             [
              0.2222222222222222,
              "#7201a8"
             ],
             [
              0.3333333333333333,
              "#9c179e"
             ],
             [
              0.4444444444444444,
              "#bd3786"
             ],
             [
              0.5555555555555556,
              "#d8576b"
             ],
             [
              0.6666666666666666,
              "#ed7953"
             ],
             [
              0.7777777777777778,
              "#fb9f3a"
             ],
             [
              0.8888888888888888,
              "#fdca26"
             ],
             [
              1,
              "#f0f921"
             ]
            ],
            "type": "surface"
           }
          ],
          "table": [
           {
            "cells": {
             "fill": {
              "color": "#EBF0F8"
             },
             "line": {
              "color": "white"
             }
            },
            "header": {
             "fill": {
              "color": "#C8D4E3"
             },
             "line": {
              "color": "white"
             }
            },
            "type": "table"
           }
          ]
         },
         "layout": {
          "annotationdefaults": {
           "arrowcolor": "#2a3f5f",
           "arrowhead": 0,
           "arrowwidth": 1
          },
          "autotypenumbers": "strict",
          "coloraxis": {
           "colorbar": {
            "outlinewidth": 0,
            "ticks": ""
           }
          },
          "colorscale": {
           "diverging": [
            [
             0,
             "#8e0152"
            ],
            [
             0.1,
             "#c51b7d"
            ],
            [
             0.2,
             "#de77ae"
            ],
            [
             0.3,
             "#f1b6da"
            ],
            [
             0.4,
             "#fde0ef"
            ],
            [
             0.5,
             "#f7f7f7"
            ],
            [
             0.6,
             "#e6f5d0"
            ],
            [
             0.7,
             "#b8e186"
            ],
            [
             0.8,
             "#7fbc41"
            ],
            [
             0.9,
             "#4d9221"
            ],
            [
             1,
             "#276419"
            ]
           ],
           "sequential": [
            [
             0,
             "#0d0887"
            ],
            [
             0.1111111111111111,
             "#46039f"
            ],
            [
             0.2222222222222222,
             "#7201a8"
            ],
            [
             0.3333333333333333,
             "#9c179e"
            ],
            [
             0.4444444444444444,
             "#bd3786"
            ],
            [
             0.5555555555555556,
             "#d8576b"
            ],
            [
             0.6666666666666666,
             "#ed7953"
            ],
            [
             0.7777777777777778,
             "#fb9f3a"
            ],
            [
             0.8888888888888888,
             "#fdca26"
            ],
            [
             1,
             "#f0f921"
            ]
           ],
           "sequentialminus": [
            [
             0,
             "#0d0887"
            ],
            [
             0.1111111111111111,
             "#46039f"
            ],
            [
             0.2222222222222222,
             "#7201a8"
            ],
            [
             0.3333333333333333,
             "#9c179e"
            ],
            [
             0.4444444444444444,
             "#bd3786"
            ],
            [
             0.5555555555555556,
             "#d8576b"
            ],
            [
             0.6666666666666666,
             "#ed7953"
            ],
            [
             0.7777777777777778,
             "#fb9f3a"
            ],
            [
             0.8888888888888888,
             "#fdca26"
            ],
            [
             1,
             "#f0f921"
            ]
           ]
          },
          "colorway": [
           "#636efa",
           "#EF553B",
           "#00cc96",
           "#ab63fa",
           "#FFA15A",
           "#19d3f3",
           "#FF6692",
           "#B6E880",
           "#FF97FF",
           "#FECB52"
          ],
          "font": {
           "color": "#2a3f5f"
          },
          "geo": {
           "bgcolor": "white",
           "lakecolor": "white",
           "landcolor": "#E5ECF6",
           "showlakes": true,
           "showland": true,
           "subunitcolor": "white"
          },
          "hoverlabel": {
           "align": "left"
          },
          "hovermode": "closest",
          "mapbox": {
           "style": "light"
          },
          "paper_bgcolor": "white",
          "plot_bgcolor": "#E5ECF6",
          "polar": {
           "angularaxis": {
            "gridcolor": "white",
            "linecolor": "white",
            "ticks": ""
           },
           "bgcolor": "#E5ECF6",
           "radialaxis": {
            "gridcolor": "white",
            "linecolor": "white",
            "ticks": ""
           }
          },
          "scene": {
           "xaxis": {
            "backgroundcolor": "#E5ECF6",
            "gridcolor": "white",
            "gridwidth": 2,
            "linecolor": "white",
            "showbackground": true,
            "ticks": "",
            "zerolinecolor": "white"
           },
           "yaxis": {
            "backgroundcolor": "#E5ECF6",
            "gridcolor": "white",
            "gridwidth": 2,
            "linecolor": "white",
            "showbackground": true,
            "ticks": "",
            "zerolinecolor": "white"
           },
           "zaxis": {
            "backgroundcolor": "#E5ECF6",
            "gridcolor": "white",
            "gridwidth": 2,
            "linecolor": "white",
            "showbackground": true,
            "ticks": "",
            "zerolinecolor": "white"
           }
          },
          "shapedefaults": {
           "line": {
            "color": "#2a3f5f"
           }
          },
          "ternary": {
           "aaxis": {
            "gridcolor": "white",
            "linecolor": "white",
            "ticks": ""
           },
           "baxis": {
            "gridcolor": "white",
            "linecolor": "white",
            "ticks": ""
           },
           "bgcolor": "#E5ECF6",
           "caxis": {
            "gridcolor": "white",
            "linecolor": "white",
            "ticks": ""
           }
          },
          "title": {
           "x": 0.05
          },
          "xaxis": {
           "automargin": true,
           "gridcolor": "white",
           "linecolor": "white",
           "ticks": "",
           "title": {
            "standoff": 15
           },
           "zerolinecolor": "white",
           "zerolinewidth": 2
          },
          "yaxis": {
           "automargin": true,
           "gridcolor": "white",
           "linecolor": "white",
           "ticks": "",
           "title": {
            "standoff": 15
           },
           "zerolinecolor": "white",
           "zerolinewidth": 2
          }
         }
        },
        "title": {
         "text": "Top 10 Exporters by Product - Stached Bar Chart"
        },
        "xaxis": {
         "anchor": "y",
         "domain": [
          0,
          1
         ],
         "title": {
          "text": "Year"
         }
        },
        "yaxis": {
         "anchor": "x",
         "domain": [
          0,
          1
         ],
         "title": {
          "text": "value"
         }
        }
       }
      }
     },
     "metadata": {},
     "output_type": "display_data"
    }
   ],
   "source": [
    "Fig5 = px.bar(ExportsTop10, y='value', x='Year', color='Product', text_auto='.4s',\n",
    "            title=\"Top 10 Exporters by Product - Stached Bar Chart\")\n",
    "Fig5.show()"
   ]
  },
  {
   "cell_type": "code",
   "execution_count": 698,
   "metadata": {},
   "outputs": [
    {
     "data": {
      "application/vnd.plotly.v1+json": {
       "config": {
        "plotlyServerURL": "https://plot.ly"
       },
       "data": [
        {
         "customdata": [
          [
           "0--All Merchandise"
          ],
          [
           "84--Nuclear Reactors, Boilers, Machinery"
          ],
          [
           "85--Electric Machinery Etc; Sound Equip"
          ],
          [
           "88--Aircraft, Spacecraft, And Parts Thereof"
          ],
          [
           "90--Optic, Photo, Medic Or Surgical Instrments"
          ],
          [
           "72--Iron And Steel"
          ],
          [
           "29--Organic Chemicals"
          ]
         ],
         "domain": {
          "x": [
           0,
           1
          ],
          "y": [
           0,
           1
          ]
         },
         "hovertemplate": "2013=%{customdata[0]}<br>2013_value=%{value}<extra></extra>",
         "labels": [
          "0--All Merchandise",
          "84--Nuclear Reactors, Boilers, Machinery",
          "85--Electric Machinery Etc; Sound Equip",
          "88--Aircraft, Spacecraft, And Parts Thereof",
          "90--Optic, Photo, Medic Or Surgical Instrments",
          "72--Iron And Steel",
          "29--Organic Chemicals"
         ],
         "legendgroup": "",
         "marker": {
          "colors": [
           "#636efa",
           "#EF553B",
           "#00cc96",
           "#ab63fa",
           "#FFA15A",
           "#19d3f3",
           "#FF6692"
          ]
         },
         "name": "",
         "showlegend": true,
         "type": "pie",
         "values": [
          25523,
          4748,
          4041,
          1752,
          1633,
          1243,
          1138
         ]
        }
       ],
       "layout": {
        "legend": {
         "tracegroupgap": 0
        },
        "template": {
         "data": {
          "bar": [
           {
            "error_x": {
             "color": "#2a3f5f"
            },
            "error_y": {
             "color": "#2a3f5f"
            },
            "marker": {
             "line": {
              "color": "#E5ECF6",
              "width": 0.5
             },
             "pattern": {
              "fillmode": "overlay",
              "size": 10,
              "solidity": 0.2
             }
            },
            "type": "bar"
           }
          ],
          "barpolar": [
           {
            "marker": {
             "line": {
              "color": "#E5ECF6",
              "width": 0.5
             },
             "pattern": {
              "fillmode": "overlay",
              "size": 10,
              "solidity": 0.2
             }
            },
            "type": "barpolar"
           }
          ],
          "carpet": [
           {
            "aaxis": {
             "endlinecolor": "#2a3f5f",
             "gridcolor": "white",
             "linecolor": "white",
             "minorgridcolor": "white",
             "startlinecolor": "#2a3f5f"
            },
            "baxis": {
             "endlinecolor": "#2a3f5f",
             "gridcolor": "white",
             "linecolor": "white",
             "minorgridcolor": "white",
             "startlinecolor": "#2a3f5f"
            },
            "type": "carpet"
           }
          ],
          "choropleth": [
           {
            "colorbar": {
             "outlinewidth": 0,
             "ticks": ""
            },
            "type": "choropleth"
           }
          ],
          "contour": [
           {
            "colorbar": {
             "outlinewidth": 0,
             "ticks": ""
            },
            "colorscale": [
             [
              0,
              "#0d0887"
             ],
             [
              0.1111111111111111,
              "#46039f"
             ],
             [
              0.2222222222222222,
              "#7201a8"
             ],
             [
              0.3333333333333333,
              "#9c179e"
             ],
             [
              0.4444444444444444,
              "#bd3786"
             ],
             [
              0.5555555555555556,
              "#d8576b"
             ],
             [
              0.6666666666666666,
              "#ed7953"
             ],
             [
              0.7777777777777778,
              "#fb9f3a"
             ],
             [
              0.8888888888888888,
              "#fdca26"
             ],
             [
              1,
              "#f0f921"
             ]
            ],
            "type": "contour"
           }
          ],
          "contourcarpet": [
           {
            "colorbar": {
             "outlinewidth": 0,
             "ticks": ""
            },
            "type": "contourcarpet"
           }
          ],
          "heatmap": [
           {
            "colorbar": {
             "outlinewidth": 0,
             "ticks": ""
            },
            "colorscale": [
             [
              0,
              "#0d0887"
             ],
             [
              0.1111111111111111,
              "#46039f"
             ],
             [
              0.2222222222222222,
              "#7201a8"
             ],
             [
              0.3333333333333333,
              "#9c179e"
             ],
             [
              0.4444444444444444,
              "#bd3786"
             ],
             [
              0.5555555555555556,
              "#d8576b"
             ],
             [
              0.6666666666666666,
              "#ed7953"
             ],
             [
              0.7777777777777778,
              "#fb9f3a"
             ],
             [
              0.8888888888888888,
              "#fdca26"
             ],
             [
              1,
              "#f0f921"
             ]
            ],
            "type": "heatmap"
           }
          ],
          "heatmapgl": [
           {
            "colorbar": {
             "outlinewidth": 0,
             "ticks": ""
            },
            "colorscale": [
             [
              0,
              "#0d0887"
             ],
             [
              0.1111111111111111,
              "#46039f"
             ],
             [
              0.2222222222222222,
              "#7201a8"
             ],
             [
              0.3333333333333333,
              "#9c179e"
             ],
             [
              0.4444444444444444,
              "#bd3786"
             ],
             [
              0.5555555555555556,
              "#d8576b"
             ],
             [
              0.6666666666666666,
              "#ed7953"
             ],
             [
              0.7777777777777778,
              "#fb9f3a"
             ],
             [
              0.8888888888888888,
              "#fdca26"
             ],
             [
              1,
              "#f0f921"
             ]
            ],
            "type": "heatmapgl"
           }
          ],
          "histogram": [
           {
            "marker": {
             "pattern": {
              "fillmode": "overlay",
              "size": 10,
              "solidity": 0.2
             }
            },
            "type": "histogram"
           }
          ],
          "histogram2d": [
           {
            "colorbar": {
             "outlinewidth": 0,
             "ticks": ""
            },
            "colorscale": [
             [
              0,
              "#0d0887"
             ],
             [
              0.1111111111111111,
              "#46039f"
             ],
             [
              0.2222222222222222,
              "#7201a8"
             ],
             [
              0.3333333333333333,
              "#9c179e"
             ],
             [
              0.4444444444444444,
              "#bd3786"
             ],
             [
              0.5555555555555556,
              "#d8576b"
             ],
             [
              0.6666666666666666,
              "#ed7953"
             ],
             [
              0.7777777777777778,
              "#fb9f3a"
             ],
             [
              0.8888888888888888,
              "#fdca26"
             ],
             [
              1,
              "#f0f921"
             ]
            ],
            "type": "histogram2d"
           }
          ],
          "histogram2dcontour": [
           {
            "colorbar": {
             "outlinewidth": 0,
             "ticks": ""
            },
            "colorscale": [
             [
              0,
              "#0d0887"
             ],
             [
              0.1111111111111111,
              "#46039f"
             ],
             [
              0.2222222222222222,
              "#7201a8"
             ],
             [
              0.3333333333333333,
              "#9c179e"
             ],
             [
              0.4444444444444444,
              "#bd3786"
             ],
             [
              0.5555555555555556,
              "#d8576b"
             ],
             [
              0.6666666666666666,
              "#ed7953"
             ],
             [
              0.7777777777777778,
              "#fb9f3a"
             ],
             [
              0.8888888888888888,
              "#fdca26"
             ],
             [
              1,
              "#f0f921"
             ]
            ],
            "type": "histogram2dcontour"
           }
          ],
          "mesh3d": [
           {
            "colorbar": {
             "outlinewidth": 0,
             "ticks": ""
            },
            "type": "mesh3d"
           }
          ],
          "parcoords": [
           {
            "line": {
             "colorbar": {
              "outlinewidth": 0,
              "ticks": ""
             }
            },
            "type": "parcoords"
           }
          ],
          "pie": [
           {
            "automargin": true,
            "type": "pie"
           }
          ],
          "scatter": [
           {
            "fillpattern": {
             "fillmode": "overlay",
             "size": 10,
             "solidity": 0.2
            },
            "type": "scatter"
           }
          ],
          "scatter3d": [
           {
            "line": {
             "colorbar": {
              "outlinewidth": 0,
              "ticks": ""
             }
            },
            "marker": {
             "colorbar": {
              "outlinewidth": 0,
              "ticks": ""
             }
            },
            "type": "scatter3d"
           }
          ],
          "scattercarpet": [
           {
            "marker": {
             "colorbar": {
              "outlinewidth": 0,
              "ticks": ""
             }
            },
            "type": "scattercarpet"
           }
          ],
          "scattergeo": [
           {
            "marker": {
             "colorbar": {
              "outlinewidth": 0,
              "ticks": ""
             }
            },
            "type": "scattergeo"
           }
          ],
          "scattergl": [
           {
            "marker": {
             "colorbar": {
              "outlinewidth": 0,
              "ticks": ""
             }
            },
            "type": "scattergl"
           }
          ],
          "scattermapbox": [
           {
            "marker": {
             "colorbar": {
              "outlinewidth": 0,
              "ticks": ""
             }
            },
            "type": "scattermapbox"
           }
          ],
          "scatterpolar": [
           {
            "marker": {
             "colorbar": {
              "outlinewidth": 0,
              "ticks": ""
             }
            },
            "type": "scatterpolar"
           }
          ],
          "scatterpolargl": [
           {
            "marker": {
             "colorbar": {
              "outlinewidth": 0,
              "ticks": ""
             }
            },
            "type": "scatterpolargl"
           }
          ],
          "scatterternary": [
           {
            "marker": {
             "colorbar": {
              "outlinewidth": 0,
              "ticks": ""
             }
            },
            "type": "scatterternary"
           }
          ],
          "surface": [
           {
            "colorbar": {
             "outlinewidth": 0,
             "ticks": ""
            },
            "colorscale": [
             [
              0,
              "#0d0887"
             ],
             [
              0.1111111111111111,
              "#46039f"
             ],
             [
              0.2222222222222222,
              "#7201a8"
             ],
             [
              0.3333333333333333,
              "#9c179e"
             ],
             [
              0.4444444444444444,
              "#bd3786"
             ],
             [
              0.5555555555555556,
              "#d8576b"
             ],
             [
              0.6666666666666666,
              "#ed7953"
             ],
             [
              0.7777777777777778,
              "#fb9f3a"
             ],
             [
              0.8888888888888888,
              "#fdca26"
             ],
             [
              1,
              "#f0f921"
             ]
            ],
            "type": "surface"
           }
          ],
          "table": [
           {
            "cells": {
             "fill": {
              "color": "#EBF0F8"
             },
             "line": {
              "color": "white"
             }
            },
            "header": {
             "fill": {
              "color": "#C8D4E3"
             },
             "line": {
              "color": "white"
             }
            },
            "type": "table"
           }
          ]
         },
         "layout": {
          "annotationdefaults": {
           "arrowcolor": "#2a3f5f",
           "arrowhead": 0,
           "arrowwidth": 1
          },
          "autotypenumbers": "strict",
          "coloraxis": {
           "colorbar": {
            "outlinewidth": 0,
            "ticks": ""
           }
          },
          "colorscale": {
           "diverging": [
            [
             0,
             "#8e0152"
            ],
            [
             0.1,
             "#c51b7d"
            ],
            [
             0.2,
             "#de77ae"
            ],
            [
             0.3,
             "#f1b6da"
            ],
            [
             0.4,
             "#fde0ef"
            ],
            [
             0.5,
             "#f7f7f7"
            ],
            [
             0.6,
             "#e6f5d0"
            ],
            [
             0.7,
             "#b8e186"
            ],
            [
             0.8,
             "#7fbc41"
            ],
            [
             0.9,
             "#4d9221"
            ],
            [
             1,
             "#276419"
            ]
           ],
           "sequential": [
            [
             0,
             "#0d0887"
            ],
            [
             0.1111111111111111,
             "#46039f"
            ],
            [
             0.2222222222222222,
             "#7201a8"
            ],
            [
             0.3333333333333333,
             "#9c179e"
            ],
            [
             0.4444444444444444,
             "#bd3786"
            ],
            [
             0.5555555555555556,
             "#d8576b"
            ],
            [
             0.6666666666666666,
             "#ed7953"
            ],
            [
             0.7777777777777778,
             "#fb9f3a"
            ],
            [
             0.8888888888888888,
             "#fdca26"
            ],
            [
             1,
             "#f0f921"
            ]
           ],
           "sequentialminus": [
            [
             0,
             "#0d0887"
            ],
            [
             0.1111111111111111,
             "#46039f"
            ],
            [
             0.2222222222222222,
             "#7201a8"
            ],
            [
             0.3333333333333333,
             "#9c179e"
            ],
            [
             0.4444444444444444,
             "#bd3786"
            ],
            [
             0.5555555555555556,
             "#d8576b"
            ],
            [
             0.6666666666666666,
             "#ed7953"
            ],
            [
             0.7777777777777778,
             "#fb9f3a"
            ],
            [
             0.8888888888888888,
             "#fdca26"
            ],
            [
             1,
             "#f0f921"
            ]
           ]
          },
          "colorway": [
           "#636efa",
           "#EF553B",
           "#00cc96",
           "#ab63fa",
           "#FFA15A",
           "#19d3f3",
           "#FF6692",
           "#B6E880",
           "#FF97FF",
           "#FECB52"
          ],
          "font": {
           "color": "#2a3f5f"
          },
          "geo": {
           "bgcolor": "white",
           "lakecolor": "white",
           "landcolor": "#E5ECF6",
           "showlakes": true,
           "showland": true,
           "subunitcolor": "white"
          },
          "hoverlabel": {
           "align": "left"
          },
          "hovermode": "closest",
          "mapbox": {
           "style": "light"
          },
          "paper_bgcolor": "white",
          "plot_bgcolor": "#E5ECF6",
          "polar": {
           "angularaxis": {
            "gridcolor": "white",
            "linecolor": "white",
            "ticks": ""
           },
           "bgcolor": "#E5ECF6",
           "radialaxis": {
            "gridcolor": "white",
            "linecolor": "white",
            "ticks": ""
           }
          },
          "scene": {
           "xaxis": {
            "backgroundcolor": "#E5ECF6",
            "gridcolor": "white",
            "gridwidth": 2,
            "linecolor": "white",
            "showbackground": true,
            "ticks": "",
            "zerolinecolor": "white"
           },
           "yaxis": {
            "backgroundcolor": "#E5ECF6",
            "gridcolor": "white",
            "gridwidth": 2,
            "linecolor": "white",
            "showbackground": true,
            "ticks": "",
            "zerolinecolor": "white"
           },
           "zaxis": {
            "backgroundcolor": "#E5ECF6",
            "gridcolor": "white",
            "gridwidth": 2,
            "linecolor": "white",
            "showbackground": true,
            "ticks": "",
            "zerolinecolor": "white"
           }
          },
          "shapedefaults": {
           "line": {
            "color": "#2a3f5f"
           }
          },
          "ternary": {
           "aaxis": {
            "gridcolor": "white",
            "linecolor": "white",
            "ticks": ""
           },
           "baxis": {
            "gridcolor": "white",
            "linecolor": "white",
            "ticks": ""
           },
           "bgcolor": "#E5ECF6",
           "caxis": {
            "gridcolor": "white",
            "linecolor": "white",
            "ticks": ""
           }
          },
          "title": {
           "x": 0.05
          },
          "xaxis": {
           "automargin": true,
           "gridcolor": "white",
           "linecolor": "white",
           "ticks": "",
           "title": {
            "standoff": 15
           },
           "zerolinecolor": "white",
           "zerolinewidth": 2
          },
          "yaxis": {
           "automargin": true,
           "gridcolor": "white",
           "linecolor": "white",
           "ticks": "",
           "title": {
            "standoff": 15
           },
           "zerolinecolor": "white",
           "zerolinewidth": 2
          }
         }
        },
        "title": {
         "text": "2013  Exports Top 10"
        }
       }
      }
     },
     "metadata": {},
     "output_type": "display_data"
    }
   ],
   "source": [
    "#Create a pie chart\n",
    "Fig3 = px.pie(expT10_df, values='2013_value', names='2013', color='2013', title='2013  Exports Top 10')\n",
    "Fig3.show()\n"
   ]
  },
  {
   "cell_type": "code",
   "execution_count": 708,
   "metadata": {},
   "outputs": [
    {
     "ename": "KeyError",
     "evalue": "'Year'",
     "output_type": "error",
     "traceback": [
      "\u001b[1;31m---------------------------------------------------------------------------\u001b[0m",
      "\u001b[1;31mKeyError\u001b[0m                                  Traceback (most recent call last)",
      "File \u001b[1;32mc:\\Users\\olver\\anaconda3\\lib\\site-packages\\pandas\\core\\indexes\\base.py:3802\u001b[0m, in \u001b[0;36mIndex.get_loc\u001b[1;34m(self, key, method, tolerance)\u001b[0m\n\u001b[0;32m   3801\u001b[0m \u001b[39mtry\u001b[39;00m:\n\u001b[1;32m-> 3802\u001b[0m     \u001b[39mreturn\u001b[39;00m \u001b[39mself\u001b[39;49m\u001b[39m.\u001b[39;49m_engine\u001b[39m.\u001b[39;49mget_loc(casted_key)\n\u001b[0;32m   3803\u001b[0m \u001b[39mexcept\u001b[39;00m \u001b[39mKeyError\u001b[39;00m \u001b[39mas\u001b[39;00m err:\n",
      "File \u001b[1;32mc:\\Users\\olver\\anaconda3\\lib\\site-packages\\pandas\\_libs\\index.pyx:138\u001b[0m, in \u001b[0;36mpandas._libs.index.IndexEngine.get_loc\u001b[1;34m()\u001b[0m\n",
      "File \u001b[1;32mc:\\Users\\olver\\anaconda3\\lib\\site-packages\\pandas\\_libs\\index.pyx:165\u001b[0m, in \u001b[0;36mpandas._libs.index.IndexEngine.get_loc\u001b[1;34m()\u001b[0m\n",
      "File \u001b[1;32mpandas\\_libs\\hashtable_class_helper.pxi:5745\u001b[0m, in \u001b[0;36mpandas._libs.hashtable.PyObjectHashTable.get_item\u001b[1;34m()\u001b[0m\n",
      "File \u001b[1;32mpandas\\_libs\\hashtable_class_helper.pxi:5753\u001b[0m, in \u001b[0;36mpandas._libs.hashtable.PyObjectHashTable.get_item\u001b[1;34m()\u001b[0m\n",
      "\u001b[1;31mKeyError\u001b[0m: 'Year'",
      "\nThe above exception was the direct cause of the following exception:\n",
      "\u001b[1;31mKeyError\u001b[0m                                  Traceback (most recent call last)",
      "Cell \u001b[1;32mIn[708], line 2\u001b[0m\n\u001b[0;32m      1\u001b[0m \u001b[39m# Define the data for the chart\u001b[39;00m\n\u001b[1;32m----> 2\u001b[0m years \u001b[39m=\u001b[39m expT10_df[\u001b[39m'\u001b[39;49m\u001b[39mYear\u001b[39;49m\u001b[39m'\u001b[39;49m]\u001b[39m.\u001b[39munique()\n\u001b[0;32m      3\u001b[0m products \u001b[39m=\u001b[39m expT10_df[\u001b[39m'\u001b[39m\u001b[39mProduct\u001b[39m\u001b[39m'\u001b[39m]\u001b[39m.\u001b[39munique()\n\u001b[0;32m      5\u001b[0m \u001b[39m# Create a trace for each product\u001b[39;00m\n",
      "File \u001b[1;32mc:\\Users\\olver\\anaconda3\\lib\\site-packages\\pandas\\core\\frame.py:3807\u001b[0m, in \u001b[0;36mDataFrame.__getitem__\u001b[1;34m(self, key)\u001b[0m\n\u001b[0;32m   3805\u001b[0m \u001b[39mif\u001b[39;00m \u001b[39mself\u001b[39m\u001b[39m.\u001b[39mcolumns\u001b[39m.\u001b[39mnlevels \u001b[39m>\u001b[39m \u001b[39m1\u001b[39m:\n\u001b[0;32m   3806\u001b[0m     \u001b[39mreturn\u001b[39;00m \u001b[39mself\u001b[39m\u001b[39m.\u001b[39m_getitem_multilevel(key)\n\u001b[1;32m-> 3807\u001b[0m indexer \u001b[39m=\u001b[39m \u001b[39mself\u001b[39;49m\u001b[39m.\u001b[39;49mcolumns\u001b[39m.\u001b[39;49mget_loc(key)\n\u001b[0;32m   3808\u001b[0m \u001b[39mif\u001b[39;00m is_integer(indexer):\n\u001b[0;32m   3809\u001b[0m     indexer \u001b[39m=\u001b[39m [indexer]\n",
      "File \u001b[1;32mc:\\Users\\olver\\anaconda3\\lib\\site-packages\\pandas\\core\\indexes\\base.py:3804\u001b[0m, in \u001b[0;36mIndex.get_loc\u001b[1;34m(self, key, method, tolerance)\u001b[0m\n\u001b[0;32m   3802\u001b[0m     \u001b[39mreturn\u001b[39;00m \u001b[39mself\u001b[39m\u001b[39m.\u001b[39m_engine\u001b[39m.\u001b[39mget_loc(casted_key)\n\u001b[0;32m   3803\u001b[0m \u001b[39mexcept\u001b[39;00m \u001b[39mKeyError\u001b[39;00m \u001b[39mas\u001b[39;00m err:\n\u001b[1;32m-> 3804\u001b[0m     \u001b[39mraise\u001b[39;00m \u001b[39mKeyError\u001b[39;00m(key) \u001b[39mfrom\u001b[39;00m \u001b[39merr\u001b[39;00m\n\u001b[0;32m   3805\u001b[0m \u001b[39mexcept\u001b[39;00m \u001b[39mTypeError\u001b[39;00m:\n\u001b[0;32m   3806\u001b[0m     \u001b[39m# If we have a listlike key, _check_indexing_error will raise\u001b[39;00m\n\u001b[0;32m   3807\u001b[0m     \u001b[39m#  InvalidIndexError. Otherwise we fall through and re-raise\u001b[39;00m\n\u001b[0;32m   3808\u001b[0m     \u001b[39m#  the TypeError.\u001b[39;00m\n\u001b[0;32m   3809\u001b[0m     \u001b[39mself\u001b[39m\u001b[39m.\u001b[39m_check_indexing_error(key)\n",
      "\u001b[1;31mKeyError\u001b[0m: 'Year'"
     ]
    }
   ],
   "source": [
    "# Define the data for the chart\n",
    "years = expT10_df['Year'].unique()\n",
    "products = expT10_df['Product'].unique()\n",
    "\n",
    "# Create a trace for each product\n",
    "traces = []\n",
    "for product in products:\n",
    "    values = expT10_df[expT10_df['Product']==product]['value']\n",
    "    trace = go.Bar(\n",
    "        x=years,\n",
    "        y=values,\n",
    "        name=product\n",
    "    )\n",
    "    traces.append(trace)\n",
    "\n",
    "# Define the layout for the chart\n",
    "layout = go.Layout(\n",
    "    title='Value by Year and Product',\n",
    "    xaxis=dict(title='Year'),\n",
    "    yaxis=dict(title='Value'),\n",
    "    barmode='group'\n",
    ")\n",
    "\n",
    "# Create the chart object\n",
    "fig11 = go.Figure(data=traces, layout=layout)\n",
    "\n",
    "# Display the chart\n",
    "fig11.show()"
   ]
  },
  {
   "cell_type": "code",
   "execution_count": null,
   "metadata": {},
   "outputs": [],
   "source": [
    "expT10_df"
   ]
  },
  {
   "cell_type": "code",
   "execution_count": 658,
   "metadata": {},
   "outputs": [
    {
     "ename": "ValueError",
     "evalue": "Value of 'x' is not the name of a column in 'data_frame'. Expected one of [0] but received: Value",
     "output_type": "error",
     "traceback": [
      "\u001b[1;31m---------------------------------------------------------------------------\u001b[0m",
      "\u001b[1;31mValueError\u001b[0m                                Traceback (most recent call last)",
      "Cell \u001b[1;32mIn[658], line 1\u001b[0m\n\u001b[1;32m----> 1\u001b[0m Fig6 \u001b[39m=\u001b[39m px\u001b[39m.\u001b[39;49mbar(Yearlist_Exports, y\u001b[39m=\u001b[39;49m\u001b[39m'\u001b[39;49m\u001b[39mYear\u001b[39;49m\u001b[39m'\u001b[39;49m, x\u001b[39m=\u001b[39;49m\u001b[39m'\u001b[39;49m\u001b[39mValue\u001b[39;49m\u001b[39m'\u001b[39;49m, text_auto\u001b[39m=\u001b[39;49m\u001b[39m'\u001b[39;49m\u001b[39m.4s\u001b[39;49m\u001b[39m'\u001b[39;49m,\n\u001b[0;32m      2\u001b[0m             title\u001b[39m=\u001b[39;49m\u001b[39m\"\u001b[39;49m\u001b[39mTop 10 Exporters by Product - Stached Bar Chart\u001b[39;49m\u001b[39m\"\u001b[39;49m)\n\u001b[0;32m      3\u001b[0m Fig6\u001b[39m.\u001b[39mshow()\n",
      "File \u001b[1;32mc:\\Users\\olver\\anaconda3\\lib\\site-packages\\plotly\\express\\_chart_types.py:373\u001b[0m, in \u001b[0;36mbar\u001b[1;34m(data_frame, x, y, color, pattern_shape, facet_row, facet_col, facet_col_wrap, facet_row_spacing, facet_col_spacing, hover_name, hover_data, custom_data, text, base, error_x, error_x_minus, error_y, error_y_minus, animation_frame, animation_group, category_orders, labels, color_discrete_sequence, color_discrete_map, color_continuous_scale, pattern_shape_sequence, pattern_shape_map, range_color, color_continuous_midpoint, opacity, orientation, barmode, log_x, log_y, range_x, range_y, text_auto, title, template, width, height)\u001b[0m\n\u001b[0;32m    325\u001b[0m \u001b[39mdef\u001b[39;00m \u001b[39mbar\u001b[39m(\n\u001b[0;32m    326\u001b[0m     data_frame\u001b[39m=\u001b[39m\u001b[39mNone\u001b[39;00m,\n\u001b[0;32m    327\u001b[0m     x\u001b[39m=\u001b[39m\u001b[39mNone\u001b[39;00m,\n\u001b[1;32m   (...)\u001b[0m\n\u001b[0;32m    367\u001b[0m     height\u001b[39m=\u001b[39m\u001b[39mNone\u001b[39;00m,\n\u001b[0;32m    368\u001b[0m ) \u001b[39m-\u001b[39m\u001b[39m>\u001b[39m go\u001b[39m.\u001b[39mFigure:\n\u001b[0;32m    369\u001b[0m     \u001b[39m\"\"\"\u001b[39;00m\n\u001b[0;32m    370\u001b[0m \u001b[39m    In a bar plot, each row of `data_frame` is represented as a rectangular\u001b[39;00m\n\u001b[0;32m    371\u001b[0m \u001b[39m    mark.\u001b[39;00m\n\u001b[0;32m    372\u001b[0m \u001b[39m    \"\"\"\u001b[39;00m\n\u001b[1;32m--> 373\u001b[0m     \u001b[39mreturn\u001b[39;00m make_figure(\n\u001b[0;32m    374\u001b[0m         args\u001b[39m=\u001b[39;49m\u001b[39mlocals\u001b[39;49m(),\n\u001b[0;32m    375\u001b[0m         constructor\u001b[39m=\u001b[39;49mgo\u001b[39m.\u001b[39;49mBar,\n\u001b[0;32m    376\u001b[0m         trace_patch\u001b[39m=\u001b[39;49m\u001b[39mdict\u001b[39;49m(textposition\u001b[39m=\u001b[39;49m\u001b[39m\"\u001b[39;49m\u001b[39mauto\u001b[39;49m\u001b[39m\"\u001b[39;49m),\n\u001b[0;32m    377\u001b[0m         layout_patch\u001b[39m=\u001b[39;49m\u001b[39mdict\u001b[39;49m(barmode\u001b[39m=\u001b[39;49mbarmode),\n\u001b[0;32m    378\u001b[0m     )\n",
      "File \u001b[1;32mc:\\Users\\olver\\anaconda3\\lib\\site-packages\\plotly\\express\\_core.py:1990\u001b[0m, in \u001b[0;36mmake_figure\u001b[1;34m(args, constructor, trace_patch, layout_patch)\u001b[0m\n\u001b[0;32m   1987\u001b[0m layout_patch \u001b[39m=\u001b[39m layout_patch \u001b[39mor\u001b[39;00m {}\n\u001b[0;32m   1988\u001b[0m apply_default_cascade(args)\n\u001b[1;32m-> 1990\u001b[0m args \u001b[39m=\u001b[39m build_dataframe(args, constructor)\n\u001b[0;32m   1991\u001b[0m \u001b[39mif\u001b[39;00m constructor \u001b[39min\u001b[39;00m [go\u001b[39m.\u001b[39mTreemap, go\u001b[39m.\u001b[39mSunburst, go\u001b[39m.\u001b[39mIcicle] \u001b[39mand\u001b[39;00m args[\u001b[39m\"\u001b[39m\u001b[39mpath\u001b[39m\u001b[39m\"\u001b[39m] \u001b[39mis\u001b[39;00m \u001b[39mnot\u001b[39;00m \u001b[39mNone\u001b[39;00m:\n\u001b[0;32m   1992\u001b[0m     args \u001b[39m=\u001b[39m process_dataframe_hierarchy(args)\n",
      "File \u001b[1;32mc:\\Users\\olver\\anaconda3\\lib\\site-packages\\plotly\\express\\_core.py:1405\u001b[0m, in \u001b[0;36mbuild_dataframe\u001b[1;34m(args, constructor)\u001b[0m\n\u001b[0;32m   1402\u001b[0m     args[\u001b[39m\"\u001b[39m\u001b[39mcolor\u001b[39m\u001b[39m\"\u001b[39m] \u001b[39m=\u001b[39m \u001b[39mNone\u001b[39;00m\n\u001b[0;32m   1403\u001b[0m \u001b[39m# now that things have been prepped, we do the systematic rewriting of `args`\u001b[39;00m\n\u001b[1;32m-> 1405\u001b[0m df_output, wide_id_vars \u001b[39m=\u001b[39m process_args_into_dataframe(\n\u001b[0;32m   1406\u001b[0m     args, wide_mode, var_name, value_name\n\u001b[0;32m   1407\u001b[0m )\n\u001b[0;32m   1409\u001b[0m \u001b[39m# now that `df_output` exists and `args` contains only references, we complete\u001b[39;00m\n\u001b[0;32m   1410\u001b[0m \u001b[39m# the special-case and wide-mode handling by further rewriting args and/or mutating\u001b[39;00m\n\u001b[0;32m   1411\u001b[0m \u001b[39m# df_output\u001b[39;00m\n\u001b[0;32m   1413\u001b[0m count_name \u001b[39m=\u001b[39m _escape_col_name(df_output, \u001b[39m\"\u001b[39m\u001b[39mcount\u001b[39m\u001b[39m\"\u001b[39m, [var_name, value_name])\n",
      "File \u001b[1;32mc:\\Users\\olver\\anaconda3\\lib\\site-packages\\plotly\\express\\_core.py:1207\u001b[0m, in \u001b[0;36mprocess_args_into_dataframe\u001b[1;34m(args, wide_mode, var_name, value_name)\u001b[0m\n\u001b[0;32m   1205\u001b[0m         \u001b[39mif\u001b[39;00m argument \u001b[39m==\u001b[39m \u001b[39m\"\u001b[39m\u001b[39mindex\u001b[39m\u001b[39m\"\u001b[39m:\n\u001b[0;32m   1206\u001b[0m             err_msg \u001b[39m+\u001b[39m\u001b[39m=\u001b[39m \u001b[39m\"\u001b[39m\u001b[39m\\n\u001b[39;00m\u001b[39m To use the index, pass it in directly as `df.index`.\u001b[39m\u001b[39m\"\u001b[39m\n\u001b[1;32m-> 1207\u001b[0m         \u001b[39mraise\u001b[39;00m \u001b[39mValueError\u001b[39;00m(err_msg)\n\u001b[0;32m   1208\u001b[0m \u001b[39melif\u001b[39;00m length \u001b[39mand\u001b[39;00m \u001b[39mlen\u001b[39m(df_input[argument]) \u001b[39m!=\u001b[39m length:\n\u001b[0;32m   1209\u001b[0m     \u001b[39mraise\u001b[39;00m \u001b[39mValueError\u001b[39;00m(\n\u001b[0;32m   1210\u001b[0m         \u001b[39m\"\u001b[39m\u001b[39mAll arguments should have the same length. \u001b[39m\u001b[39m\"\u001b[39m\n\u001b[0;32m   1211\u001b[0m         \u001b[39m\"\u001b[39m\u001b[39mThe length of column argument `df[\u001b[39m\u001b[39m%s\u001b[39;00m\u001b[39m]` is \u001b[39m\u001b[39m%d\u001b[39;00m\u001b[39m, whereas the \u001b[39m\u001b[39m\"\u001b[39m\n\u001b[1;32m   (...)\u001b[0m\n\u001b[0;32m   1218\u001b[0m         )\n\u001b[0;32m   1219\u001b[0m     )\n",
      "\u001b[1;31mValueError\u001b[0m: Value of 'x' is not the name of a column in 'data_frame'. Expected one of [0] but received: Value"
     ]
    }
   ],
   "source": [
    "\n",
    "Fig6 = px.bar(Yearlist_Exports, y='Year', x='Value', text_auto='.4s',\n",
    "            title=\"Top 10 Exporters by Product - Stached Bar Chart\")\n",
    "Fig6.show()"
   ]
  },
  {
   "cell_type": "code",
   "execution_count": 632,
   "metadata": {},
   "outputs": [
    {
     "ename": "ValueError",
     "evalue": "DataFrame constructor not properly called!",
     "output_type": "error",
     "traceback": [
      "\u001b[1;31m---------------------------------------------------------------------------\u001b[0m",
      "\u001b[1;31mValueError\u001b[0m                                Traceback (most recent call last)",
      "Cell \u001b[1;32mIn[632], line 2\u001b[0m\n\u001b[0;32m      1\u001b[0m \u001b[39m#Create a pie chart\u001b[39;00m\n\u001b[1;32m----> 2\u001b[0m Fig3 \u001b[39m=\u001b[39m px\u001b[39m.\u001b[39;49mpie(ex_Yearlist_Exports, values\u001b[39m=\u001b[39;49m\u001b[39m'\u001b[39;49m\u001b[39mProduct\u001b[39;49m\u001b[39m'\u001b[39;49m, names\u001b[39m=\u001b[39;49m\u001b[39m'\u001b[39;49m\u001b[39mProduct\u001b[39;49m\u001b[39m'\u001b[39;49m, color\u001b[39m=\u001b[39;49m\u001b[39m'\u001b[39;49m\u001b[39mProduct\u001b[39;49m\u001b[39m'\u001b[39;49m, title\u001b[39m=\u001b[39;49m\u001b[39m'\u001b[39;49m\u001b[39mPie chart\u001b[39;49m\u001b[39m'\u001b[39;49m)\n\u001b[0;32m      3\u001b[0m Fig3\u001b[39m.\u001b[39mshow()\n",
      "File \u001b[1;32mc:\\Users\\olver\\anaconda3\\lib\\site-packages\\plotly\\express\\_chart_types.py:1482\u001b[0m, in \u001b[0;36mpie\u001b[1;34m(data_frame, names, values, color, facet_row, facet_col, facet_col_wrap, facet_row_spacing, facet_col_spacing, color_discrete_sequence, color_discrete_map, hover_name, hover_data, custom_data, category_orders, labels, title, template, width, height, opacity, hole)\u001b[0m\n\u001b[0;32m   1480\u001b[0m \u001b[39melse\u001b[39;00m:\n\u001b[0;32m   1481\u001b[0m     layout_patch \u001b[39m=\u001b[39m {}\n\u001b[1;32m-> 1482\u001b[0m \u001b[39mreturn\u001b[39;00m make_figure(\n\u001b[0;32m   1483\u001b[0m     args\u001b[39m=\u001b[39;49m\u001b[39mlocals\u001b[39;49m(),\n\u001b[0;32m   1484\u001b[0m     constructor\u001b[39m=\u001b[39;49mgo\u001b[39m.\u001b[39;49mPie,\n\u001b[0;32m   1485\u001b[0m     trace_patch\u001b[39m=\u001b[39;49m\u001b[39mdict\u001b[39;49m(showlegend\u001b[39m=\u001b[39;49m(names \u001b[39mis\u001b[39;49;00m \u001b[39mnot\u001b[39;49;00m \u001b[39mNone\u001b[39;49;00m), hole\u001b[39m=\u001b[39;49mhole),\n\u001b[0;32m   1486\u001b[0m     layout_patch\u001b[39m=\u001b[39;49mlayout_patch,\n\u001b[0;32m   1487\u001b[0m )\n",
      "File \u001b[1;32mc:\\Users\\olver\\anaconda3\\lib\\site-packages\\plotly\\express\\_core.py:1990\u001b[0m, in \u001b[0;36mmake_figure\u001b[1;34m(args, constructor, trace_patch, layout_patch)\u001b[0m\n\u001b[0;32m   1987\u001b[0m layout_patch \u001b[39m=\u001b[39m layout_patch \u001b[39mor\u001b[39;00m {}\n\u001b[0;32m   1988\u001b[0m apply_default_cascade(args)\n\u001b[1;32m-> 1990\u001b[0m args \u001b[39m=\u001b[39m build_dataframe(args, constructor)\n\u001b[0;32m   1991\u001b[0m \u001b[39mif\u001b[39;00m constructor \u001b[39min\u001b[39;00m [go\u001b[39m.\u001b[39mTreemap, go\u001b[39m.\u001b[39mSunburst, go\u001b[39m.\u001b[39mIcicle] \u001b[39mand\u001b[39;00m args[\u001b[39m\"\u001b[39m\u001b[39mpath\u001b[39m\u001b[39m\"\u001b[39m] \u001b[39mis\u001b[39;00m \u001b[39mnot\u001b[39;00m \u001b[39mNone\u001b[39;00m:\n\u001b[0;32m   1992\u001b[0m     args \u001b[39m=\u001b[39m process_dataframe_hierarchy(args)\n",
      "File \u001b[1;32mc:\\Users\\olver\\anaconda3\\lib\\site-packages\\plotly\\express\\_core.py:1306\u001b[0m, in \u001b[0;36mbuild_dataframe\u001b[1;34m(args, constructor)\u001b[0m\n\u001b[0;32m   1304\u001b[0m df_provided \u001b[39m=\u001b[39m args[\u001b[39m\"\u001b[39m\u001b[39mdata_frame\u001b[39m\u001b[39m\"\u001b[39m] \u001b[39mis\u001b[39;00m \u001b[39mnot\u001b[39;00m \u001b[39mNone\u001b[39;00m\n\u001b[0;32m   1305\u001b[0m \u001b[39mif\u001b[39;00m df_provided \u001b[39mand\u001b[39;00m \u001b[39mnot\u001b[39;00m \u001b[39misinstance\u001b[39m(args[\u001b[39m\"\u001b[39m\u001b[39mdata_frame\u001b[39m\u001b[39m\"\u001b[39m], pd\u001b[39m.\u001b[39mDataFrame):\n\u001b[1;32m-> 1306\u001b[0m     args[\u001b[39m\"\u001b[39m\u001b[39mdata_frame\u001b[39m\u001b[39m\"\u001b[39m] \u001b[39m=\u001b[39m pd\u001b[39m.\u001b[39;49mDataFrame(args[\u001b[39m\"\u001b[39;49m\u001b[39mdata_frame\u001b[39;49m\u001b[39m\"\u001b[39;49m])\n\u001b[0;32m   1307\u001b[0m df_input \u001b[39m=\u001b[39m args[\u001b[39m\"\u001b[39m\u001b[39mdata_frame\u001b[39m\u001b[39m\"\u001b[39m]\n\u001b[0;32m   1309\u001b[0m \u001b[39m# now we handle special cases like wide-mode or x-xor-y specification\u001b[39;00m\n\u001b[0;32m   1310\u001b[0m \u001b[39m# by rearranging args to tee things up for process_args_into_dataframe to work\u001b[39;00m\n",
      "File \u001b[1;32mc:\\Users\\olver\\anaconda3\\lib\\site-packages\\pandas\\core\\frame.py:781\u001b[0m, in \u001b[0;36mDataFrame.__init__\u001b[1;34m(self, data, index, columns, dtype, copy)\u001b[0m\n\u001b[0;32m    778\u001b[0m \u001b[39m# For data is scalar\u001b[39;00m\n\u001b[0;32m    779\u001b[0m \u001b[39melse\u001b[39;00m:\n\u001b[0;32m    780\u001b[0m     \u001b[39mif\u001b[39;00m index \u001b[39mis\u001b[39;00m \u001b[39mNone\u001b[39;00m \u001b[39mor\u001b[39;00m columns \u001b[39mis\u001b[39;00m \u001b[39mNone\u001b[39;00m:\n\u001b[1;32m--> 781\u001b[0m         \u001b[39mraise\u001b[39;00m \u001b[39mValueError\u001b[39;00m(\u001b[39m\"\u001b[39m\u001b[39mDataFrame constructor not properly called!\u001b[39m\u001b[39m\"\u001b[39m)\n\u001b[0;32m    783\u001b[0m     index \u001b[39m=\u001b[39m ensure_index(index)\n\u001b[0;32m    784\u001b[0m     columns \u001b[39m=\u001b[39m ensure_index(columns)\n",
      "\u001b[1;31mValueError\u001b[0m: DataFrame constructor not properly called!"
     ]
    }
   ],
   "source": [
    "#Create a pie chart\n",
    "Fig3 = px.pie(ex_Yearlist_Exports, values='Product', names='Product', color='Product', title='Pie chart')\n",
    "Fig3.show()"
   ]
  },
  {
   "cell_type": "code",
   "execution_count": null,
   "metadata": {},
   "outputs": [],
   "source": []
  },
  {
   "cell_type": "code",
   "execution_count": null,
   "metadata": {},
   "outputs": [],
   "source": []
  },
  {
   "cell_type": "code",
   "execution_count": null,
   "metadata": {},
   "outputs": [],
   "source": []
  },
  {
   "cell_type": "code",
   "execution_count": 654,
   "metadata": {},
   "outputs": [
    {
     "data": {
      "text/html": [
       "<div>\n",
       "<style scoped>\n",
       "    .dataframe tbody tr th:only-of-type {\n",
       "        vertical-align: middle;\n",
       "    }\n",
       "\n",
       "    .dataframe tbody tr th {\n",
       "        vertical-align: top;\n",
       "    }\n",
       "\n",
       "    .dataframe thead th {\n",
       "        text-align: right;\n",
       "    }\n",
       "</style>\n",
       "<table border=\"1\" class=\"dataframe\">\n",
       "  <thead>\n",
       "    <tr style=\"text-align: right;\">\n",
       "      <th></th>\n",
       "      <th>Product</th>\n",
       "      <th>Flow</th>\n",
       "      <th>Country</th>\n",
       "      <th>Product Classification</th>\n",
       "      <th>Unit</th>\n",
       "      <th>Year</th>\n",
       "      <th>value</th>\n",
       "    </tr>\n",
       "  </thead>\n",
       "  <tbody>\n",
       "    <tr>\n",
       "      <th>0</th>\n",
       "      <td>0--All Merchandise</td>\n",
       "      <td>Imports</td>\n",
       "      <td>Taiwan</td>\n",
       "      <td>HS - 2</td>\n",
       "      <td>Millions of USD</td>\n",
       "      <td>2013</td>\n",
       "      <td>37939.0</td>\n",
       "    </tr>\n",
       "    <tr>\n",
       "      <th>98</th>\n",
       "      <td>0--All Merchandise</td>\n",
       "      <td>Imports</td>\n",
       "      <td>Taiwan</td>\n",
       "      <td>HS - 2</td>\n",
       "      <td>Millions of USD</td>\n",
       "      <td>2014</td>\n",
       "      <td>40840.0</td>\n",
       "    </tr>\n",
       "    <tr>\n",
       "      <th>196</th>\n",
       "      <td>0--All Merchandise</td>\n",
       "      <td>Imports</td>\n",
       "      <td>Taiwan</td>\n",
       "      <td>HS - 2</td>\n",
       "      <td>Millions of USD</td>\n",
       "      <td>2015</td>\n",
       "      <td>40911.0</td>\n",
       "    </tr>\n",
       "    <tr>\n",
       "      <th>294</th>\n",
       "      <td>0--All Merchandise</td>\n",
       "      <td>Imports</td>\n",
       "      <td>Taiwan</td>\n",
       "      <td>HS - 2</td>\n",
       "      <td>Millions of USD</td>\n",
       "      <td>2016</td>\n",
       "      <td>39199.0</td>\n",
       "    </tr>\n",
       "    <tr>\n",
       "      <th>392</th>\n",
       "      <td>0--All Merchandise</td>\n",
       "      <td>Imports</td>\n",
       "      <td>Taiwan</td>\n",
       "      <td>HS - 2</td>\n",
       "      <td>Millions of USD</td>\n",
       "      <td>2017</td>\n",
       "      <td>42418.0</td>\n",
       "    </tr>\n",
       "    <tr>\n",
       "      <th>490</th>\n",
       "      <td>0--All Merchandise</td>\n",
       "      <td>Imports</td>\n",
       "      <td>Taiwan</td>\n",
       "      <td>HS - 2</td>\n",
       "      <td>Millions of USD</td>\n",
       "      <td>2018</td>\n",
       "      <td>45709.0</td>\n",
       "    </tr>\n",
       "    <tr>\n",
       "      <th>588</th>\n",
       "      <td>0--All Merchandise</td>\n",
       "      <td>Imports</td>\n",
       "      <td>Taiwan</td>\n",
       "      <td>HS - 2</td>\n",
       "      <td>Millions of USD</td>\n",
       "      <td>2019</td>\n",
       "      <td>54229.0</td>\n",
       "    </tr>\n",
       "    <tr>\n",
       "      <th>686</th>\n",
       "      <td>0--All Merchandise</td>\n",
       "      <td>Imports</td>\n",
       "      <td>Taiwan</td>\n",
       "      <td>HS - 2</td>\n",
       "      <td>Millions of USD</td>\n",
       "      <td>2020</td>\n",
       "      <td>60432.0</td>\n",
       "    </tr>\n",
       "    <tr>\n",
       "      <th>784</th>\n",
       "      <td>0--All Merchandise</td>\n",
       "      <td>Imports</td>\n",
       "      <td>Taiwan</td>\n",
       "      <td>HS - 2</td>\n",
       "      <td>Millions of USD</td>\n",
       "      <td>2021</td>\n",
       "      <td>77064.0</td>\n",
       "    </tr>\n",
       "    <tr>\n",
       "      <th>882</th>\n",
       "      <td>0--All Merchandise</td>\n",
       "      <td>Imports</td>\n",
       "      <td>Taiwan</td>\n",
       "      <td>HS - 2</td>\n",
       "      <td>Millions of USD</td>\n",
       "      <td>2022</td>\n",
       "      <td>91845.0</td>\n",
       "    </tr>\n",
       "  </tbody>\n",
       "</table>\n",
       "</div>"
      ],
      "text/plain": [
       "                Product     Flow Country Product Classification  \\\n",
       "0    0--All Merchandise  Imports  Taiwan                 HS - 2   \n",
       "98   0--All Merchandise  Imports  Taiwan                 HS - 2   \n",
       "196  0--All Merchandise  Imports  Taiwan                 HS - 2   \n",
       "294  0--All Merchandise  Imports  Taiwan                 HS - 2   \n",
       "392  0--All Merchandise  Imports  Taiwan                 HS - 2   \n",
       "490  0--All Merchandise  Imports  Taiwan                 HS - 2   \n",
       "588  0--All Merchandise  Imports  Taiwan                 HS - 2   \n",
       "686  0--All Merchandise  Imports  Taiwan                 HS - 2   \n",
       "784  0--All Merchandise  Imports  Taiwan                 HS - 2   \n",
       "882  0--All Merchandise  Imports  Taiwan                 HS - 2   \n",
       "\n",
       "                Unit  Year    value  \n",
       "0    Millions of USD  2013  37939.0  \n",
       "98   Millions of USD  2014  40840.0  \n",
       "196  Millions of USD  2015  40911.0  \n",
       "294  Millions of USD  2016  39199.0  \n",
       "392  Millions of USD  2017  42418.0  \n",
       "490  Millions of USD  2018  45709.0  \n",
       "588  Millions of USD  2019  54229.0  \n",
       "686  Millions of USD  2020  60432.0  \n",
       "784  Millions of USD  2021  77064.0  \n",
       "882  Millions of USD  2022  91845.0  "
      ]
     },
     "execution_count": 654,
     "metadata": {},
     "output_type": "execute_result"
    }
   ],
   "source": [
    "#Selecting Top Specific Products to Analyse - Imports\n",
    "# Filter by 'Exports'\n",
    "TimpY.query(\"Product == '0--All Merchandise'\")"
   ]
  },
  {
   "cell_type": "code",
   "execution_count": 427,
   "metadata": {},
   "outputs": [
    {
     "name": "stdout",
     "output_type": "stream",
     "text": [
      "    Year                                         Product    value\n",
      "0   2013                              0--All Merchandise  37939.0\n",
      "1   2013         85--Electric Machinery Etc; Sound Equip  13897.0\n",
      "2   2013        84--Nuclear Reactors, Boilers, Machinery   6622.0\n",
      "3   2013         87--Vehicles, Except Railway Or Tramway   2366.0\n",
      "4   2013                   73--Articles Of Iron Or Steel   2295.0\n",
      "..   ...                                             ...      ...\n",
      "65  2022        84--Nuclear Reactors, Boilers, Machinery  28194.0\n",
      "66  2022                   73--Articles Of Iron Or Steel   4729.0\n",
      "67  2022         87--Vehicles, Except Railway Or Tramway   4527.0\n",
      "68  2022                 39--Plastics & Articles Thereof   3421.0\n",
      "69  2022  90--Optic, Photo, Medic Or Surgical Instrments   2638.0\n",
      "\n",
      "[70 rows x 3 columns]\n"
     ]
    },
    {
     "name": "stderr",
     "output_type": "stream",
     "text": [
      "C:\\Users\\olver\\AppData\\Local\\Temp\\ipykernel_27500\\60256374.py:6: FutureWarning:\n",
      "\n",
      "The default value of numeric_only in DataFrameGroupBy.sum is deprecated. In a future version, numeric_only will default to False. Either specify numeric_only or select only columns which should be valid for the function.\n",
      "\n"
     ]
    }
   ],
   "source": [
    "#Selecting Top Specific Products to Analyse - Imports\n",
    "# Filter by 'Imprts'\n",
    "ixft7 = TimpY[TimpY['Flow'] == 'Imports']\n",
    "\n",
    "# Group by 'Year' and 'Product', and sum the 'value'\n",
    "ixft7_grouped = ixft7.groupby(['Year', 'Product']).sum()['value']\n",
    "\n",
    "# Sort by 'Year' and 'value', and get the top 7 for each year\n",
    "TimpY_top7 = ixft7_grouped.groupby('Year').nlargest(7).reset_index(level=0, drop=True).reset_index()\n",
    "\n",
    "# Print the new dataframe\n",
    "print(TimpY_top7)"
   ]
  },
  {
   "cell_type": "code",
   "execution_count": 424,
   "metadata": {},
   "outputs": [
    {
     "data": {
      "text/plain": [
       "Index(['value'], dtype='object')"
      ]
     },
     "execution_count": 424,
     "metadata": {},
     "output_type": "execute_result"
    }
   ],
   "source": [
    "ixft7_grouped.to_frame().columns"
   ]
  },
  {
   "cell_type": "code",
   "execution_count": 408,
   "metadata": {},
   "outputs": [
    {
     "name": "stdout",
     "output_type": "stream",
     "text": [
      "    Year                                         Product    value\n",
      "0   2013                              0--All Merchandise  37939.0\n",
      "1   2013         85--Electric Machinery Etc; Sound Equip  13897.0\n",
      "2   2013        84--Nuclear Reactors, Boilers, Machinery   6622.0\n",
      "3   2013         87--Vehicles, Except Railway Or Tramway   2366.0\n",
      "4   2013                   73--Articles Of Iron Or Steel   2295.0\n",
      "..   ...                                             ...      ...\n",
      "65  2022        84--Nuclear Reactors, Boilers, Machinery  28194.0\n",
      "66  2022                   73--Articles Of Iron Or Steel   4729.0\n",
      "67  2022         87--Vehicles, Except Railway Or Tramway   4527.0\n",
      "68  2022                 39--Plastics & Articles Thereof   3421.0\n",
      "69  2022  90--Optic, Photo, Medic Or Surgical Instrments   2638.0\n",
      "\n",
      "[70 rows x 3 columns]\n"
     ]
    }
   ],
   "source": [
    "print(TimpY_top7)"
   ]
  },
  {
   "cell_type": "code",
   "execution_count": 410,
   "metadata": {},
   "outputs": [],
   "source": [
    "#Selecting Top Specific Products to Analyse - All Merchandise\n",
    "Exports_Total = TexpY.query(\"Product == '0--All Merchandise'\")\n",
    "Imports_Total = TimpY.query(\"Product == '0--All Merchandise'\")\n"
   ]
  },
  {
   "cell_type": "code",
   "execution_count": null,
   "metadata": {},
   "outputs": [],
   "source": [
    "#Filtering top Products and Values by \"Year\" both Imports and Exports.\n"
   ]
  },
  {
   "cell_type": "code",
   "execution_count": 505,
   "metadata": {},
   "outputs": [
    {
     "data": {
      "text/html": [
       "<div>\n",
       "<style scoped>\n",
       "    .dataframe tbody tr th:only-of-type {\n",
       "        vertical-align: middle;\n",
       "    }\n",
       "\n",
       "    .dataframe tbody tr th {\n",
       "        vertical-align: top;\n",
       "    }\n",
       "\n",
       "    .dataframe thead th {\n",
       "        text-align: right;\n",
       "    }\n",
       "</style>\n",
       "<table border=\"1\" class=\"dataframe\">\n",
       "  <thead>\n",
       "    <tr style=\"text-align: right;\">\n",
       "      <th></th>\n",
       "      <th>Product</th>\n",
       "      <th>Flow</th>\n",
       "      <th>Country</th>\n",
       "      <th>Product Classification</th>\n",
       "      <th>Unit</th>\n",
       "      <th>Year</th>\n",
       "      <th>value</th>\n",
       "    </tr>\n",
       "  </thead>\n",
       "  <tbody>\n",
       "    <tr>\n",
       "      <th>882</th>\n",
       "      <td>0--All Merchandise</td>\n",
       "      <td>Imports</td>\n",
       "      <td>Taiwan</td>\n",
       "      <td>HS - 2</td>\n",
       "      <td>Millions of USD</td>\n",
       "      <td>2022</td>\n",
       "      <td>91845.0</td>\n",
       "    </tr>\n",
       "    <tr>\n",
       "      <th>784</th>\n",
       "      <td>0--All Merchandise</td>\n",
       "      <td>Imports</td>\n",
       "      <td>Taiwan</td>\n",
       "      <td>HS - 2</td>\n",
       "      <td>Millions of USD</td>\n",
       "      <td>2021</td>\n",
       "      <td>77064.0</td>\n",
       "    </tr>\n",
       "    <tr>\n",
       "      <th>686</th>\n",
       "      <td>0--All Merchandise</td>\n",
       "      <td>Imports</td>\n",
       "      <td>Taiwan</td>\n",
       "      <td>HS - 2</td>\n",
       "      <td>Millions of USD</td>\n",
       "      <td>2020</td>\n",
       "      <td>60432.0</td>\n",
       "    </tr>\n",
       "    <tr>\n",
       "      <th>588</th>\n",
       "      <td>0--All Merchandise</td>\n",
       "      <td>Imports</td>\n",
       "      <td>Taiwan</td>\n",
       "      <td>HS - 2</td>\n",
       "      <td>Millions of USD</td>\n",
       "      <td>2019</td>\n",
       "      <td>54229.0</td>\n",
       "    </tr>\n",
       "    <tr>\n",
       "      <th>490</th>\n",
       "      <td>0--All Merchandise</td>\n",
       "      <td>Imports</td>\n",
       "      <td>Taiwan</td>\n",
       "      <td>HS - 2</td>\n",
       "      <td>Millions of USD</td>\n",
       "      <td>2018</td>\n",
       "      <td>45709.0</td>\n",
       "    </tr>\n",
       "    <tr>\n",
       "      <th>392</th>\n",
       "      <td>0--All Merchandise</td>\n",
       "      <td>Imports</td>\n",
       "      <td>Taiwan</td>\n",
       "      <td>HS - 2</td>\n",
       "      <td>Millions of USD</td>\n",
       "      <td>2017</td>\n",
       "      <td>42418.0</td>\n",
       "    </tr>\n",
       "    <tr>\n",
       "      <th>196</th>\n",
       "      <td>0--All Merchandise</td>\n",
       "      <td>Imports</td>\n",
       "      <td>Taiwan</td>\n",
       "      <td>HS - 2</td>\n",
       "      <td>Millions of USD</td>\n",
       "      <td>2015</td>\n",
       "      <td>40911.0</td>\n",
       "    </tr>\n",
       "    <tr>\n",
       "      <th>98</th>\n",
       "      <td>0--All Merchandise</td>\n",
       "      <td>Imports</td>\n",
       "      <td>Taiwan</td>\n",
       "      <td>HS - 2</td>\n",
       "      <td>Millions of USD</td>\n",
       "      <td>2014</td>\n",
       "      <td>40840.0</td>\n",
       "    </tr>\n",
       "    <tr>\n",
       "      <th>294</th>\n",
       "      <td>0--All Merchandise</td>\n",
       "      <td>Imports</td>\n",
       "      <td>Taiwan</td>\n",
       "      <td>HS - 2</td>\n",
       "      <td>Millions of USD</td>\n",
       "      <td>2016</td>\n",
       "      <td>39199.0</td>\n",
       "    </tr>\n",
       "    <tr>\n",
       "      <th>0</th>\n",
       "      <td>0--All Merchandise</td>\n",
       "      <td>Imports</td>\n",
       "      <td>Taiwan</td>\n",
       "      <td>HS - 2</td>\n",
       "      <td>Millions of USD</td>\n",
       "      <td>2013</td>\n",
       "      <td>37939.0</td>\n",
       "    </tr>\n",
       "    <tr>\n",
       "      <th>883</th>\n",
       "      <td>85--Electric Machinery Etc; Sound Equip</td>\n",
       "      <td>Imports</td>\n",
       "      <td>Taiwan</td>\n",
       "      <td>HS - 2</td>\n",
       "      <td>Millions of USD</td>\n",
       "      <td>2022</td>\n",
       "      <td>28990.0</td>\n",
       "    </tr>\n",
       "    <tr>\n",
       "      <th>884</th>\n",
       "      <td>84--Nuclear Reactors, Boilers, Machinery</td>\n",
       "      <td>Imports</td>\n",
       "      <td>Taiwan</td>\n",
       "      <td>HS - 2</td>\n",
       "      <td>Millions of USD</td>\n",
       "      <td>2022</td>\n",
       "      <td>28194.0</td>\n",
       "    </tr>\n",
       "    <tr>\n",
       "      <th>786</th>\n",
       "      <td>84--Nuclear Reactors, Boilers, Machinery</td>\n",
       "      <td>Imports</td>\n",
       "      <td>Taiwan</td>\n",
       "      <td>HS - 2</td>\n",
       "      <td>Millions of USD</td>\n",
       "      <td>2021</td>\n",
       "      <td>23588.0</td>\n",
       "    </tr>\n",
       "    <tr>\n",
       "      <th>785</th>\n",
       "      <td>85--Electric Machinery Etc; Sound Equip</td>\n",
       "      <td>Imports</td>\n",
       "      <td>Taiwan</td>\n",
       "      <td>HS - 2</td>\n",
       "      <td>Millions of USD</td>\n",
       "      <td>2021</td>\n",
       "      <td>23259.0</td>\n",
       "    </tr>\n",
       "    <tr>\n",
       "      <th>687</th>\n",
       "      <td>85--Electric Machinery Etc; Sound Equip</td>\n",
       "      <td>Imports</td>\n",
       "      <td>Taiwan</td>\n",
       "      <td>HS - 2</td>\n",
       "      <td>Millions of USD</td>\n",
       "      <td>2020</td>\n",
       "      <td>18582.0</td>\n",
       "    </tr>\n",
       "    <tr>\n",
       "      <th>688</th>\n",
       "      <td>84--Nuclear Reactors, Boilers, Machinery</td>\n",
       "      <td>Imports</td>\n",
       "      <td>Taiwan</td>\n",
       "      <td>HS - 2</td>\n",
       "      <td>Millions of USD</td>\n",
       "      <td>2020</td>\n",
       "      <td>18454.0</td>\n",
       "    </tr>\n",
       "    <tr>\n",
       "      <th>589</th>\n",
       "      <td>85--Electric Machinery Etc; Sound Equip</td>\n",
       "      <td>Imports</td>\n",
       "      <td>Taiwan</td>\n",
       "      <td>HS - 2</td>\n",
       "      <td>Millions of USD</td>\n",
       "      <td>2019</td>\n",
       "      <td>16051.0</td>\n",
       "    </tr>\n",
       "    <tr>\n",
       "      <th>590</th>\n",
       "      <td>84--Nuclear Reactors, Boilers, Machinery</td>\n",
       "      <td>Imports</td>\n",
       "      <td>Taiwan</td>\n",
       "      <td>HS - 2</td>\n",
       "      <td>Millions of USD</td>\n",
       "      <td>2019</td>\n",
       "      <td>15516.0</td>\n",
       "    </tr>\n",
       "    <tr>\n",
       "      <th>99</th>\n",
       "      <td>85--Electric Machinery Etc; Sound Equip</td>\n",
       "      <td>Imports</td>\n",
       "      <td>Taiwan</td>\n",
       "      <td>HS - 2</td>\n",
       "      <td>Millions of USD</td>\n",
       "      <td>2014</td>\n",
       "      <td>14721.0</td>\n",
       "    </tr>\n",
       "    <tr>\n",
       "      <th>197</th>\n",
       "      <td>85--Electric Machinery Etc; Sound Equip</td>\n",
       "      <td>Imports</td>\n",
       "      <td>Taiwan</td>\n",
       "      <td>HS - 2</td>\n",
       "      <td>Millions of USD</td>\n",
       "      <td>2015</td>\n",
       "      <td>14166.0</td>\n",
       "    </tr>\n",
       "    <tr>\n",
       "      <th>491</th>\n",
       "      <td>85--Electric Machinery Etc; Sound Equip</td>\n",
       "      <td>Imports</td>\n",
       "      <td>Taiwan</td>\n",
       "      <td>HS - 2</td>\n",
       "      <td>Millions of USD</td>\n",
       "      <td>2018</td>\n",
       "      <td>14153.0</td>\n",
       "    </tr>\n",
       "    <tr>\n",
       "      <th>393</th>\n",
       "      <td>85--Electric Machinery Etc; Sound Equip</td>\n",
       "      <td>Imports</td>\n",
       "      <td>Taiwan</td>\n",
       "      <td>HS - 2</td>\n",
       "      <td>Millions of USD</td>\n",
       "      <td>2017</td>\n",
       "      <td>14056.0</td>\n",
       "    </tr>\n",
       "    <tr>\n",
       "      <th>1</th>\n",
       "      <td>85--Electric Machinery Etc; Sound Equip</td>\n",
       "      <td>Imports</td>\n",
       "      <td>Taiwan</td>\n",
       "      <td>HS - 2</td>\n",
       "      <td>Millions of USD</td>\n",
       "      <td>2013</td>\n",
       "      <td>13897.0</td>\n",
       "    </tr>\n",
       "    <tr>\n",
       "      <th>295</th>\n",
       "      <td>85--Electric Machinery Etc; Sound Equip</td>\n",
       "      <td>Imports</td>\n",
       "      <td>Taiwan</td>\n",
       "      <td>HS - 2</td>\n",
       "      <td>Millions of USD</td>\n",
       "      <td>2016</td>\n",
       "      <td>13780.0</td>\n",
       "    </tr>\n",
       "    <tr>\n",
       "      <th>492</th>\n",
       "      <td>84--Nuclear Reactors, Boilers, Machinery</td>\n",
       "      <td>Imports</td>\n",
       "      <td>Taiwan</td>\n",
       "      <td>HS - 2</td>\n",
       "      <td>Millions of USD</td>\n",
       "      <td>2018</td>\n",
       "      <td>9809.0</td>\n",
       "    </tr>\n",
       "  </tbody>\n",
       "</table>\n",
       "</div>"
      ],
      "text/plain": [
       "                                      Product     Flow Country  \\\n",
       "882                        0--All Merchandise  Imports  Taiwan   \n",
       "784                        0--All Merchandise  Imports  Taiwan   \n",
       "686                        0--All Merchandise  Imports  Taiwan   \n",
       "588                        0--All Merchandise  Imports  Taiwan   \n",
       "490                        0--All Merchandise  Imports  Taiwan   \n",
       "392                        0--All Merchandise  Imports  Taiwan   \n",
       "196                        0--All Merchandise  Imports  Taiwan   \n",
       "98                         0--All Merchandise  Imports  Taiwan   \n",
       "294                        0--All Merchandise  Imports  Taiwan   \n",
       "0                          0--All Merchandise  Imports  Taiwan   \n",
       "883   85--Electric Machinery Etc; Sound Equip  Imports  Taiwan   \n",
       "884  84--Nuclear Reactors, Boilers, Machinery  Imports  Taiwan   \n",
       "786  84--Nuclear Reactors, Boilers, Machinery  Imports  Taiwan   \n",
       "785   85--Electric Machinery Etc; Sound Equip  Imports  Taiwan   \n",
       "687   85--Electric Machinery Etc; Sound Equip  Imports  Taiwan   \n",
       "688  84--Nuclear Reactors, Boilers, Machinery  Imports  Taiwan   \n",
       "589   85--Electric Machinery Etc; Sound Equip  Imports  Taiwan   \n",
       "590  84--Nuclear Reactors, Boilers, Machinery  Imports  Taiwan   \n",
       "99    85--Electric Machinery Etc; Sound Equip  Imports  Taiwan   \n",
       "197   85--Electric Machinery Etc; Sound Equip  Imports  Taiwan   \n",
       "491   85--Electric Machinery Etc; Sound Equip  Imports  Taiwan   \n",
       "393   85--Electric Machinery Etc; Sound Equip  Imports  Taiwan   \n",
       "1     85--Electric Machinery Etc; Sound Equip  Imports  Taiwan   \n",
       "295   85--Electric Machinery Etc; Sound Equip  Imports  Taiwan   \n",
       "492  84--Nuclear Reactors, Boilers, Machinery  Imports  Taiwan   \n",
       "\n",
       "    Product Classification             Unit  Year    value  \n",
       "882                 HS - 2  Millions of USD  2022  91845.0  \n",
       "784                 HS - 2  Millions of USD  2021  77064.0  \n",
       "686                 HS - 2  Millions of USD  2020  60432.0  \n",
       "588                 HS - 2  Millions of USD  2019  54229.0  \n",
       "490                 HS - 2  Millions of USD  2018  45709.0  \n",
       "392                 HS - 2  Millions of USD  2017  42418.0  \n",
       "196                 HS - 2  Millions of USD  2015  40911.0  \n",
       "98                  HS - 2  Millions of USD  2014  40840.0  \n",
       "294                 HS - 2  Millions of USD  2016  39199.0  \n",
       "0                   HS - 2  Millions of USD  2013  37939.0  \n",
       "883                 HS - 2  Millions of USD  2022  28990.0  \n",
       "884                 HS - 2  Millions of USD  2022  28194.0  \n",
       "786                 HS - 2  Millions of USD  2021  23588.0  \n",
       "785                 HS - 2  Millions of USD  2021  23259.0  \n",
       "687                 HS - 2  Millions of USD  2020  18582.0  \n",
       "688                 HS - 2  Millions of USD  2020  18454.0  \n",
       "589                 HS - 2  Millions of USD  2019  16051.0  \n",
       "590                 HS - 2  Millions of USD  2019  15516.0  \n",
       "99                  HS - 2  Millions of USD  2014  14721.0  \n",
       "197                 HS - 2  Millions of USD  2015  14166.0  \n",
       "491                 HS - 2  Millions of USD  2018  14153.0  \n",
       "393                 HS - 2  Millions of USD  2017  14056.0  \n",
       "1                   HS - 2  Millions of USD  2013  13897.0  \n",
       "295                 HS - 2  Millions of USD  2016  13780.0  \n",
       "492                 HS - 2  Millions of USD  2018   9809.0  "
      ]
     },
     "execution_count": 505,
     "metadata": {},
     "output_type": "execute_result"
    }
   ],
   "source": [
    "#Establishing a Year List by Year (Imports)\n",
    "Yearlist_Imports = ['2013', '2014', '2015', '2016', '2017', '2018', '2019', '2020' '2021', '2022']\n",
    "TimpY.query('Year.isin(@Yearlist)').sort_values('value', ascending=False).head(25)"
   ]
  },
  {
   "cell_type": "code",
   "execution_count": 508,
   "metadata": {},
   "outputs": [
    {
     "data": {
      "text/html": [
       "<div>\n",
       "<style scoped>\n",
       "    .dataframe tbody tr th:only-of-type {\n",
       "        vertical-align: middle;\n",
       "    }\n",
       "\n",
       "    .dataframe tbody tr th {\n",
       "        vertical-align: top;\n",
       "    }\n",
       "\n",
       "    .dataframe thead th {\n",
       "        text-align: right;\n",
       "    }\n",
       "</style>\n",
       "<table border=\"1\" class=\"dataframe\">\n",
       "  <thead>\n",
       "    <tr style=\"text-align: right;\">\n",
       "      <th></th>\n",
       "      <th>Product</th>\n",
       "      <th>Flow</th>\n",
       "      <th>Country</th>\n",
       "      <th>Product Classification</th>\n",
       "      <th>Unit</th>\n",
       "      <th>Year</th>\n",
       "      <th>value</th>\n",
       "    </tr>\n",
       "  </thead>\n",
       "  <tbody>\n",
       "    <tr>\n",
       "      <th>882</th>\n",
       "      <td>0--All Merchandise</td>\n",
       "      <td>Exports</td>\n",
       "      <td>Taiwan</td>\n",
       "      <td>HS - 2</td>\n",
       "      <td>Millions of USD</td>\n",
       "      <td>2022</td>\n",
       "      <td>43713.0</td>\n",
       "    </tr>\n",
       "    <tr>\n",
       "      <th>784</th>\n",
       "      <td>0--All Merchandise</td>\n",
       "      <td>Exports</td>\n",
       "      <td>Taiwan</td>\n",
       "      <td>HS - 2</td>\n",
       "      <td>Millions of USD</td>\n",
       "      <td>2021</td>\n",
       "      <td>36838.0</td>\n",
       "    </tr>\n",
       "    <tr>\n",
       "      <th>588</th>\n",
       "      <td>0--All Merchandise</td>\n",
       "      <td>Exports</td>\n",
       "      <td>Taiwan</td>\n",
       "      <td>HS - 2</td>\n",
       "      <td>Millions of USD</td>\n",
       "      <td>2019</td>\n",
       "      <td>31202.0</td>\n",
       "    </tr>\n",
       "    <tr>\n",
       "      <th>490</th>\n",
       "      <td>0--All Merchandise</td>\n",
       "      <td>Exports</td>\n",
       "      <td>Taiwan</td>\n",
       "      <td>HS - 2</td>\n",
       "      <td>Millions of USD</td>\n",
       "      <td>2018</td>\n",
       "      <td>30478.0</td>\n",
       "    </tr>\n",
       "    <tr>\n",
       "      <th>686</th>\n",
       "      <td>0--All Merchandise</td>\n",
       "      <td>Exports</td>\n",
       "      <td>Taiwan</td>\n",
       "      <td>HS - 2</td>\n",
       "      <td>Millions of USD</td>\n",
       "      <td>2020</td>\n",
       "      <td>30213.0</td>\n",
       "    </tr>\n",
       "    <tr>\n",
       "      <th>98</th>\n",
       "      <td>0--All Merchandise</td>\n",
       "      <td>Exports</td>\n",
       "      <td>Taiwan</td>\n",
       "      <td>HS - 2</td>\n",
       "      <td>Millions of USD</td>\n",
       "      <td>2014</td>\n",
       "      <td>26675.0</td>\n",
       "    </tr>\n",
       "    <tr>\n",
       "      <th>294</th>\n",
       "      <td>0--All Merchandise</td>\n",
       "      <td>Exports</td>\n",
       "      <td>Taiwan</td>\n",
       "      <td>HS - 2</td>\n",
       "      <td>Millions of USD</td>\n",
       "      <td>2016</td>\n",
       "      <td>26034.0</td>\n",
       "    </tr>\n",
       "    <tr>\n",
       "      <th>196</th>\n",
       "      <td>0--All Merchandise</td>\n",
       "      <td>Exports</td>\n",
       "      <td>Taiwan</td>\n",
       "      <td>HS - 2</td>\n",
       "      <td>Millions of USD</td>\n",
       "      <td>2015</td>\n",
       "      <td>25826.0</td>\n",
       "    </tr>\n",
       "    <tr>\n",
       "      <th>392</th>\n",
       "      <td>0--All Merchandise</td>\n",
       "      <td>Exports</td>\n",
       "      <td>Taiwan</td>\n",
       "      <td>HS - 2</td>\n",
       "      <td>Millions of USD</td>\n",
       "      <td>2017</td>\n",
       "      <td>25736.0</td>\n",
       "    </tr>\n",
       "    <tr>\n",
       "      <th>0</th>\n",
       "      <td>0--All Merchandise</td>\n",
       "      <td>Exports</td>\n",
       "      <td>Taiwan</td>\n",
       "      <td>HS - 2</td>\n",
       "      <td>Millions of USD</td>\n",
       "      <td>2013</td>\n",
       "      <td>25523.0</td>\n",
       "    </tr>\n",
       "    <tr>\n",
       "      <th>883</th>\n",
       "      <td>84--Nuclear Reactors, Boilers, Machinery</td>\n",
       "      <td>Exports</td>\n",
       "      <td>Taiwan</td>\n",
       "      <td>HS - 2</td>\n",
       "      <td>Millions of USD</td>\n",
       "      <td>2022</td>\n",
       "      <td>8748.0</td>\n",
       "    </tr>\n",
       "    <tr>\n",
       "      <th>884</th>\n",
       "      <td>85--Electric Machinery Etc; Sound Equip</td>\n",
       "      <td>Exports</td>\n",
       "      <td>Taiwan</td>\n",
       "      <td>HS - 2</td>\n",
       "      <td>Millions of USD</td>\n",
       "      <td>2022</td>\n",
       "      <td>7842.0</td>\n",
       "    </tr>\n",
       "    <tr>\n",
       "      <th>785</th>\n",
       "      <td>84--Nuclear Reactors, Boilers, Machinery</td>\n",
       "      <td>Exports</td>\n",
       "      <td>Taiwan</td>\n",
       "      <td>HS - 2</td>\n",
       "      <td>Millions of USD</td>\n",
       "      <td>2021</td>\n",
       "      <td>7502.0</td>\n",
       "    </tr>\n",
       "    <tr>\n",
       "      <th>885</th>\n",
       "      <td>27--Mineral Fuel, Oil; Bitumin Subst</td>\n",
       "      <td>Exports</td>\n",
       "      <td>Taiwan</td>\n",
       "      <td>HS - 2</td>\n",
       "      <td>Millions of USD</td>\n",
       "      <td>2022</td>\n",
       "      <td>7188.0</td>\n",
       "    </tr>\n",
       "    <tr>\n",
       "      <th>786</th>\n",
       "      <td>85--Electric Machinery Etc; Sound Equip</td>\n",
       "      <td>Exports</td>\n",
       "      <td>Taiwan</td>\n",
       "      <td>HS - 2</td>\n",
       "      <td>Millions of USD</td>\n",
       "      <td>2021</td>\n",
       "      <td>6745.0</td>\n",
       "    </tr>\n",
       "    <tr>\n",
       "      <th>687</th>\n",
       "      <td>84--Nuclear Reactors, Boilers, Machinery</td>\n",
       "      <td>Exports</td>\n",
       "      <td>Taiwan</td>\n",
       "      <td>HS - 2</td>\n",
       "      <td>Millions of USD</td>\n",
       "      <td>2020</td>\n",
       "      <td>5695.0</td>\n",
       "    </tr>\n",
       "    <tr>\n",
       "      <th>589</th>\n",
       "      <td>84--Nuclear Reactors, Boilers, Machinery</td>\n",
       "      <td>Exports</td>\n",
       "      <td>Taiwan</td>\n",
       "      <td>HS - 2</td>\n",
       "      <td>Millions of USD</td>\n",
       "      <td>2019</td>\n",
       "      <td>5617.0</td>\n",
       "    </tr>\n",
       "    <tr>\n",
       "      <th>295</th>\n",
       "      <td>84--Nuclear Reactors, Boilers, Machinery</td>\n",
       "      <td>Exports</td>\n",
       "      <td>Taiwan</td>\n",
       "      <td>HS - 2</td>\n",
       "      <td>Millions of USD</td>\n",
       "      <td>2016</td>\n",
       "      <td>5360.0</td>\n",
       "    </tr>\n",
       "    <tr>\n",
       "      <th>688</th>\n",
       "      <td>85--Electric Machinery Etc; Sound Equip</td>\n",
       "      <td>Exports</td>\n",
       "      <td>Taiwan</td>\n",
       "      <td>HS - 2</td>\n",
       "      <td>Millions of USD</td>\n",
       "      <td>2020</td>\n",
       "      <td>5251.0</td>\n",
       "    </tr>\n",
       "    <tr>\n",
       "      <th>296</th>\n",
       "      <td>85--Electric Machinery Etc; Sound Equip</td>\n",
       "      <td>Exports</td>\n",
       "      <td>Taiwan</td>\n",
       "      <td>HS - 2</td>\n",
       "      <td>Millions of USD</td>\n",
       "      <td>2016</td>\n",
       "      <td>5208.0</td>\n",
       "    </tr>\n",
       "    <tr>\n",
       "      <th>393</th>\n",
       "      <td>84--Nuclear Reactors, Boilers, Machinery</td>\n",
       "      <td>Exports</td>\n",
       "      <td>Taiwan</td>\n",
       "      <td>HS - 2</td>\n",
       "      <td>Millions of USD</td>\n",
       "      <td>2017</td>\n",
       "      <td>5043.0</td>\n",
       "    </tr>\n",
       "    <tr>\n",
       "      <th>197</th>\n",
       "      <td>84--Nuclear Reactors, Boilers, Machinery</td>\n",
       "      <td>Exports</td>\n",
       "      <td>Taiwan</td>\n",
       "      <td>HS - 2</td>\n",
       "      <td>Millions of USD</td>\n",
       "      <td>2015</td>\n",
       "      <td>4937.0</td>\n",
       "    </tr>\n",
       "    <tr>\n",
       "      <th>492</th>\n",
       "      <td>85--Electric Machinery Etc; Sound Equip</td>\n",
       "      <td>Exports</td>\n",
       "      <td>Taiwan</td>\n",
       "      <td>HS - 2</td>\n",
       "      <td>Millions of USD</td>\n",
       "      <td>2018</td>\n",
       "      <td>4866.0</td>\n",
       "    </tr>\n",
       "    <tr>\n",
       "      <th>394</th>\n",
       "      <td>85--Electric Machinery Etc; Sound Equip</td>\n",
       "      <td>Exports</td>\n",
       "      <td>Taiwan</td>\n",
       "      <td>HS - 2</td>\n",
       "      <td>Millions of USD</td>\n",
       "      <td>2017</td>\n",
       "      <td>4850.0</td>\n",
       "    </tr>\n",
       "    <tr>\n",
       "      <th>1</th>\n",
       "      <td>84--Nuclear Reactors, Boilers, Machinery</td>\n",
       "      <td>Exports</td>\n",
       "      <td>Taiwan</td>\n",
       "      <td>HS - 2</td>\n",
       "      <td>Millions of USD</td>\n",
       "      <td>2013</td>\n",
       "      <td>4748.0</td>\n",
       "    </tr>\n",
       "  </tbody>\n",
       "</table>\n",
       "</div>"
      ],
      "text/plain": [
       "                                      Product     Flow Country  \\\n",
       "882                        0--All Merchandise  Exports  Taiwan   \n",
       "784                        0--All Merchandise  Exports  Taiwan   \n",
       "588                        0--All Merchandise  Exports  Taiwan   \n",
       "490                        0--All Merchandise  Exports  Taiwan   \n",
       "686                        0--All Merchandise  Exports  Taiwan   \n",
       "98                         0--All Merchandise  Exports  Taiwan   \n",
       "294                        0--All Merchandise  Exports  Taiwan   \n",
       "196                        0--All Merchandise  Exports  Taiwan   \n",
       "392                        0--All Merchandise  Exports  Taiwan   \n",
       "0                          0--All Merchandise  Exports  Taiwan   \n",
       "883  84--Nuclear Reactors, Boilers, Machinery  Exports  Taiwan   \n",
       "884   85--Electric Machinery Etc; Sound Equip  Exports  Taiwan   \n",
       "785  84--Nuclear Reactors, Boilers, Machinery  Exports  Taiwan   \n",
       "885      27--Mineral Fuel, Oil; Bitumin Subst  Exports  Taiwan   \n",
       "786   85--Electric Machinery Etc; Sound Equip  Exports  Taiwan   \n",
       "687  84--Nuclear Reactors, Boilers, Machinery  Exports  Taiwan   \n",
       "589  84--Nuclear Reactors, Boilers, Machinery  Exports  Taiwan   \n",
       "295  84--Nuclear Reactors, Boilers, Machinery  Exports  Taiwan   \n",
       "688   85--Electric Machinery Etc; Sound Equip  Exports  Taiwan   \n",
       "296   85--Electric Machinery Etc; Sound Equip  Exports  Taiwan   \n",
       "393  84--Nuclear Reactors, Boilers, Machinery  Exports  Taiwan   \n",
       "197  84--Nuclear Reactors, Boilers, Machinery  Exports  Taiwan   \n",
       "492   85--Electric Machinery Etc; Sound Equip  Exports  Taiwan   \n",
       "394   85--Electric Machinery Etc; Sound Equip  Exports  Taiwan   \n",
       "1    84--Nuclear Reactors, Boilers, Machinery  Exports  Taiwan   \n",
       "\n",
       "    Product Classification             Unit  Year    value  \n",
       "882                 HS - 2  Millions of USD  2022  43713.0  \n",
       "784                 HS - 2  Millions of USD  2021  36838.0  \n",
       "588                 HS - 2  Millions of USD  2019  31202.0  \n",
       "490                 HS - 2  Millions of USD  2018  30478.0  \n",
       "686                 HS - 2  Millions of USD  2020  30213.0  \n",
       "98                  HS - 2  Millions of USD  2014  26675.0  \n",
       "294                 HS - 2  Millions of USD  2016  26034.0  \n",
       "196                 HS - 2  Millions of USD  2015  25826.0  \n",
       "392                 HS - 2  Millions of USD  2017  25736.0  \n",
       "0                   HS - 2  Millions of USD  2013  25523.0  \n",
       "883                 HS - 2  Millions of USD  2022   8748.0  \n",
       "884                 HS - 2  Millions of USD  2022   7842.0  \n",
       "785                 HS - 2  Millions of USD  2021   7502.0  \n",
       "885                 HS - 2  Millions of USD  2022   7188.0  \n",
       "786                 HS - 2  Millions of USD  2021   6745.0  \n",
       "687                 HS - 2  Millions of USD  2020   5695.0  \n",
       "589                 HS - 2  Millions of USD  2019   5617.0  \n",
       "295                 HS - 2  Millions of USD  2016   5360.0  \n",
       "688                 HS - 2  Millions of USD  2020   5251.0  \n",
       "296                 HS - 2  Millions of USD  2016   5208.0  \n",
       "393                 HS - 2  Millions of USD  2017   5043.0  \n",
       "197                 HS - 2  Millions of USD  2015   4937.0  \n",
       "492                 HS - 2  Millions of USD  2018   4866.0  \n",
       "394                 HS - 2  Millions of USD  2017   4850.0  \n",
       "1                   HS - 2  Millions of USD  2013   4748.0  "
      ]
     },
     "execution_count": 508,
     "metadata": {},
     "output_type": "execute_result"
    }
   ],
   "source": [
    "#Establishing a Year List by Year (Exports) \n",
    "Yearlist_Exports = ['2013', '2014', '2015', '2016', '2017', '2018', '2019', '2020' '2021', '2022']\n",
    "TexpY.query('Year.isin(@Yearlist)').sort_values('value', ascending=False).head(25)"
   ]
  },
  {
   "cell_type": "code",
   "execution_count": 681,
   "metadata": {},
   "outputs": [],
   "source": [
    "#Creating a function to get the top 10 exports for each year\n",
    "def Top10_Exports(E_YR):\n",
    "    TS = dict()\n",
    "    for E in E_YR:\n",
    "        Yearlist_Exports= list(TexpY[TexpY.Year == E].sort_values('value', ascending=False).head(7)[\"Product\"])\n",
    "        Yearlist_Exports_value= list(TexpY[TexpY.Year == E].sort_values('value', ascending=False).head(7)[\"value\"])\n",
    "        TS[E] = Yearlist_Exports\n",
    "        TS[E+\"_value\"] = Yearlist_Exports_value\n",
    "    return TS"
   ]
  },
  {
   "cell_type": "code",
   "execution_count": 520,
   "metadata": {},
   "outputs": [
    {
     "data": {
      "text/plain": [
       "{'2013': ['0--All Merchandise',\n",
       "  '84--Nuclear Reactors, Boilers, Machinery',\n",
       "  '85--Electric Machinery Etc; Sound Equip',\n",
       "  '88--Aircraft, Spacecraft, And Parts Thereof',\n",
       "  '90--Optic, Photo, Medic Or Surgical Instrments',\n",
       "  '72--Iron And Steel',\n",
       "  '29--Organic Chemicals'],\n",
       " '2014': ['0--All Merchandise',\n",
       "  '84--Nuclear Reactors, Boilers, Machinery',\n",
       "  '85--Electric Machinery Etc; Sound Equip',\n",
       "  '88--Aircraft, Spacecraft, And Parts Thereof',\n",
       "  '90--Optic, Photo, Medic Or Surgical Instrments',\n",
       "  '29--Organic Chemicals',\n",
       "  '72--Iron And Steel'],\n",
       " '2015': ['0--All Merchandise',\n",
       "  '84--Nuclear Reactors, Boilers, Machinery',\n",
       "  '85--Electric Machinery Etc; Sound Equip',\n",
       "  '88--Aircraft, Spacecraft, And Parts Thereof',\n",
       "  '90--Optic, Photo, Medic Or Surgical Instrments',\n",
       "  '93--Arms & Ammunition',\n",
       "  '29--Organic Chemicals'],\n",
       " '2016': ['0--All Merchandise',\n",
       "  '84--Nuclear Reactors, Boilers, Machinery',\n",
       "  '85--Electric Machinery Etc; Sound Equip',\n",
       "  '88--Aircraft, Spacecraft, And Parts Thereof',\n",
       "  '90--Optic, Photo, Medic Or Surgical Instrments',\n",
       "  '29--Organic Chemicals',\n",
       "  '10--Cereals'],\n",
       " '2017': ['0--All Merchandise',\n",
       "  '84--Nuclear Reactors, Boilers, Machinery',\n",
       "  '85--Electric Machinery Etc; Sound Equip',\n",
       "  '88--Aircraft, Spacecraft, And Parts Thereof',\n",
       "  '90--Optic, Photo, Medic Or Surgical Instrments',\n",
       "  '29--Organic Chemicals',\n",
       "  '39--Plastics & Articles Thereof'],\n",
       " '2018': ['0--All Merchandise',\n",
       "  '85--Electric Machinery Etc; Sound Equip',\n",
       "  '84--Nuclear Reactors, Boilers, Machinery',\n",
       "  '27--Mineral Fuel, Oil; Bitumin Subst',\n",
       "  '88--Aircraft, Spacecraft, And Parts Thereof',\n",
       "  '90--Optic, Photo, Medic Or Surgical Instrments',\n",
       "  '29--Organic Chemicals'],\n",
       " '2019': ['0--All Merchandise',\n",
       "  '84--Nuclear Reactors, Boilers, Machinery',\n",
       "  '85--Electric Machinery Etc; Sound Equip',\n",
       "  '27--Mineral Fuel, Oil; Bitumin Subst',\n",
       "  '88--Aircraft, Spacecraft, And Parts Thereof',\n",
       "  '90--Optic, Photo, Medic Or Surgical Instrments',\n",
       "  '39--Plastics & Articles Thereof'],\n",
       " '2020': ['0--All Merchandise',\n",
       "  '84--Nuclear Reactors, Boilers, Machinery',\n",
       "  '85--Electric Machinery Etc; Sound Equip',\n",
       "  '27--Mineral Fuel, Oil; Bitumin Subst',\n",
       "  '90--Optic, Photo, Medic Or Surgical Instrments',\n",
       "  '88--Aircraft, Spacecraft, And Parts Thereof',\n",
       "  '39--Plastics & Articles Thereof'],\n",
       " '2021': ['0--All Merchandise',\n",
       "  '84--Nuclear Reactors, Boilers, Machinery',\n",
       "  '85--Electric Machinery Etc; Sound Equip',\n",
       "  '27--Mineral Fuel, Oil; Bitumin Subst',\n",
       "  '90--Optic, Photo, Medic Or Surgical Instrments',\n",
       "  '88--Aircraft, Spacecraft, And Parts Thereof',\n",
       "  '39--Plastics & Articles Thereof'],\n",
       " '2022': ['0--All Merchandise',\n",
       "  '84--Nuclear Reactors, Boilers, Machinery',\n",
       "  '85--Electric Machinery Etc; Sound Equip',\n",
       "  '27--Mineral Fuel, Oil; Bitumin Subst',\n",
       "  '90--Optic, Photo, Medic Or Surgical Instrments',\n",
       "  '88--Aircraft, Spacecraft, And Parts Thereof',\n",
       "  '39--Plastics & Articles Thereof']}"
      ]
     },
     "execution_count": 520,
     "metadata": {},
     "output_type": "execute_result"
    }
   ],
   "source": [
    "Top10_Exports(Yearlist_Exports)"
   ]
  },
  {
   "cell_type": "code",
   "execution_count": 518,
   "metadata": {},
   "outputs": [
    {
     "name": "stdout",
     "output_type": "stream",
     "text": [
      "{'2': [], '0': [], '1': [], '3': []}\n",
      "{'2': [], '0': [], '1': [], '4': []}\n",
      "{'2': [], '0': [], '1': [], '5': []}\n",
      "{'2': [], '0': [], '1': [], '6': []}\n",
      "{'2': [], '0': [], '1': [], '7': []}\n",
      "{'2': [], '0': [], '1': [], '8': []}\n",
      "{'2': [], '0': [], '1': [], '9': []}\n",
      "{'2': [], '0': []}\n",
      "{'2': [], '0': [], '1': []}\n",
      "{'2': [], '0': []}\n"
     ]
    }
   ],
   "source": [
    "Yearlist_Exports = ['2013', '2014', '2015', '2016', '2017', '2018', '2019', '2020', '2021', '2022']\n",
    "for T in Yearlist_Exports: print(Top10_Exports(T))"
   ]
  },
  {
   "cell_type": "code",
   "execution_count": 629,
   "metadata": {},
   "outputs": [],
   "source": [
    "ex_Yearlist_Exports = pd.DataFrame"
   ]
  },
  {
   "cell_type": "code",
   "execution_count": 595,
   "metadata": {},
   "outputs": [],
   "source": [
    "#Creating a function to get the top 10 exports for each year\n",
    "def Top10_Imports(YR):\n",
    "    RS = dict()\n",
    "    for Y in YR:\n",
    "        Yearlist_Imports= list(TimpY[TimpY.Year == Y].sort_values('value', ascending=False).head(7)[\"Product\"])\n",
    "        RS[Y] = Yearlist_Imports\n",
    "    return RS \n"
   ]
  },
  {
   "cell_type": "code",
   "execution_count": 682,
   "metadata": {},
   "outputs": [],
   "source": [
    "ExportsT10 = Top10_Exports(Yearlist_Exports)"
   ]
  },
  {
   "cell_type": "code",
   "execution_count": 683,
   "metadata": {},
   "outputs": [
    {
     "data": {
      "text/html": [
       "<div>\n",
       "<style scoped>\n",
       "    .dataframe tbody tr th:only-of-type {\n",
       "        vertical-align: middle;\n",
       "    }\n",
       "\n",
       "    .dataframe tbody tr th {\n",
       "        vertical-align: top;\n",
       "    }\n",
       "\n",
       "    .dataframe thead th {\n",
       "        text-align: right;\n",
       "    }\n",
       "</style>\n",
       "<table border=\"1\" class=\"dataframe\">\n",
       "  <thead>\n",
       "    <tr style=\"text-align: right;\">\n",
       "      <th></th>\n",
       "      <th>Product</th>\n",
       "      <th>Flow</th>\n",
       "      <th>Country</th>\n",
       "      <th>Product Classification</th>\n",
       "      <th>Unit</th>\n",
       "      <th>Year</th>\n",
       "      <th>value</th>\n",
       "    </tr>\n",
       "  </thead>\n",
       "  <tbody>\n",
       "    <tr>\n",
       "      <th>303</th>\n",
       "      <td>98--Special Classification Provisions, Nesoi</td>\n",
       "      <td>Exports</td>\n",
       "      <td>Taiwan</td>\n",
       "      <td>HS - 2</td>\n",
       "      <td>Millions of USD</td>\n",
       "      <td>2016</td>\n",
       "      <td>478.0</td>\n",
       "    </tr>\n",
       "    <tr>\n",
       "      <th>499</th>\n",
       "      <td>98--Special Classification Provisions, Nesoi</td>\n",
       "      <td>Exports</td>\n",
       "      <td>Taiwan</td>\n",
       "      <td>HS - 2</td>\n",
       "      <td>Millions of USD</td>\n",
       "      <td>2018</td>\n",
       "      <td>613.0</td>\n",
       "    </tr>\n",
       "    <tr>\n",
       "      <th>793</th>\n",
       "      <td>98--Special Classification Provisions, Nesoi</td>\n",
       "      <td>Exports</td>\n",
       "      <td>Taiwan</td>\n",
       "      <td>HS - 2</td>\n",
       "      <td>Millions of USD</td>\n",
       "      <td>2021</td>\n",
       "      <td>703.0</td>\n",
       "    </tr>\n",
       "    <tr>\n",
       "      <th>401</th>\n",
       "      <td>98--Special Classification Provisions, Nesoi</td>\n",
       "      <td>Exports</td>\n",
       "      <td>Taiwan</td>\n",
       "      <td>HS - 2</td>\n",
       "      <td>Millions of USD</td>\n",
       "      <td>2017</td>\n",
       "      <td>526.0</td>\n",
       "    </tr>\n",
       "    <tr>\n",
       "      <th>107</th>\n",
       "      <td>98--Special Classification Provisions, Nesoi</td>\n",
       "      <td>Exports</td>\n",
       "      <td>Taiwan</td>\n",
       "      <td>HS - 2</td>\n",
       "      <td>Millions of USD</td>\n",
       "      <td>2014</td>\n",
       "      <td>500.0</td>\n",
       "    </tr>\n",
       "    <tr>\n",
       "      <th>597</th>\n",
       "      <td>98--Special Classification Provisions, Nesoi</td>\n",
       "      <td>Exports</td>\n",
       "      <td>Taiwan</td>\n",
       "      <td>HS - 2</td>\n",
       "      <td>Millions of USD</td>\n",
       "      <td>2019</td>\n",
       "      <td>638.0</td>\n",
       "    </tr>\n",
       "    <tr>\n",
       "      <th>695</th>\n",
       "      <td>98--Special Classification Provisions, Nesoi</td>\n",
       "      <td>Exports</td>\n",
       "      <td>Taiwan</td>\n",
       "      <td>HS - 2</td>\n",
       "      <td>Millions of USD</td>\n",
       "      <td>2020</td>\n",
       "      <td>610.0</td>\n",
       "    </tr>\n",
       "    <tr>\n",
       "      <th>9</th>\n",
       "      <td>98--Special Classification Provisions, Nesoi</td>\n",
       "      <td>Exports</td>\n",
       "      <td>Taiwan</td>\n",
       "      <td>HS - 2</td>\n",
       "      <td>Millions of USD</td>\n",
       "      <td>2013</td>\n",
       "      <td>402.0</td>\n",
       "    </tr>\n",
       "    <tr>\n",
       "      <th>891</th>\n",
       "      <td>98--Special Classification Provisions, Nesoi</td>\n",
       "      <td>Exports</td>\n",
       "      <td>Taiwan</td>\n",
       "      <td>HS - 2</td>\n",
       "      <td>Millions of USD</td>\n",
       "      <td>2022</td>\n",
       "      <td>1006.0</td>\n",
       "    </tr>\n",
       "    <tr>\n",
       "      <th>205</th>\n",
       "      <td>98--Special Classification Provisions, Nesoi</td>\n",
       "      <td>Exports</td>\n",
       "      <td>Taiwan</td>\n",
       "      <td>HS - 2</td>\n",
       "      <td>Millions of USD</td>\n",
       "      <td>2015</td>\n",
       "      <td>422.0</td>\n",
       "    </tr>\n",
       "  </tbody>\n",
       "</table>\n",
       "</div>"
      ],
      "text/plain": [
       "                                          Product     Flow Country  \\\n",
       "303  98--Special Classification Provisions, Nesoi  Exports  Taiwan   \n",
       "499  98--Special Classification Provisions, Nesoi  Exports  Taiwan   \n",
       "793  98--Special Classification Provisions, Nesoi  Exports  Taiwan   \n",
       "401  98--Special Classification Provisions, Nesoi  Exports  Taiwan   \n",
       "107  98--Special Classification Provisions, Nesoi  Exports  Taiwan   \n",
       "597  98--Special Classification Provisions, Nesoi  Exports  Taiwan   \n",
       "695  98--Special Classification Provisions, Nesoi  Exports  Taiwan   \n",
       "9    98--Special Classification Provisions, Nesoi  Exports  Taiwan   \n",
       "891  98--Special Classification Provisions, Nesoi  Exports  Taiwan   \n",
       "205  98--Special Classification Provisions, Nesoi  Exports  Taiwan   \n",
       "\n",
       "    Product Classification             Unit  Year   value  \n",
       "303                 HS - 2  Millions of USD  2016   478.0  \n",
       "499                 HS - 2  Millions of USD  2018   613.0  \n",
       "793                 HS - 2  Millions of USD  2021   703.0  \n",
       "401                 HS - 2  Millions of USD  2017   526.0  \n",
       "107                 HS - 2  Millions of USD  2014   500.0  \n",
       "597                 HS - 2  Millions of USD  2019   638.0  \n",
       "695                 HS - 2  Millions of USD  2020   610.0  \n",
       "9                   HS - 2  Millions of USD  2013   402.0  \n",
       "891                 HS - 2  Millions of USD  2022  1006.0  \n",
       "205                 HS - 2  Millions of USD  2015   422.0  "
      ]
     },
     "execution_count": 683,
     "metadata": {},
     "output_type": "execute_result"
    }
   ],
   "source": [
    "ExportsTop10"
   ]
  },
  {
   "cell_type": "code",
   "execution_count": 675,
   "metadata": {},
   "outputs": [
    {
     "data": {
      "text/plain": [
       "{'2013': ['0--All Merchandise',\n",
       "  '84--Nuclear Reactors, Boilers, Machinery',\n",
       "  '85--Electric Machinery Etc; Sound Equip',\n",
       "  '88--Aircraft, Spacecraft, And Parts Thereof',\n",
       "  '90--Optic, Photo, Medic Or Surgical Instrments',\n",
       "  '72--Iron And Steel',\n",
       "  '29--Organic Chemicals'],\n",
       " '2014': ['0--All Merchandise',\n",
       "  '84--Nuclear Reactors, Boilers, Machinery',\n",
       "  '85--Electric Machinery Etc; Sound Equip',\n",
       "  '88--Aircraft, Spacecraft, And Parts Thereof',\n",
       "  '90--Optic, Photo, Medic Or Surgical Instrments',\n",
       "  '29--Organic Chemicals',\n",
       "  '72--Iron And Steel'],\n",
       " '2015': ['0--All Merchandise',\n",
       "  '84--Nuclear Reactors, Boilers, Machinery',\n",
       "  '85--Electric Machinery Etc; Sound Equip',\n",
       "  '88--Aircraft, Spacecraft, And Parts Thereof',\n",
       "  '90--Optic, Photo, Medic Or Surgical Instrments',\n",
       "  '93--Arms & Ammunition',\n",
       "  '29--Organic Chemicals'],\n",
       " '2016': ['0--All Merchandise',\n",
       "  '84--Nuclear Reactors, Boilers, Machinery',\n",
       "  '85--Electric Machinery Etc; Sound Equip',\n",
       "  '88--Aircraft, Spacecraft, And Parts Thereof',\n",
       "  '90--Optic, Photo, Medic Or Surgical Instrments',\n",
       "  '29--Organic Chemicals',\n",
       "  '10--Cereals'],\n",
       " '2017': ['0--All Merchandise',\n",
       "  '84--Nuclear Reactors, Boilers, Machinery',\n",
       "  '85--Electric Machinery Etc; Sound Equip',\n",
       "  '88--Aircraft, Spacecraft, And Parts Thereof',\n",
       "  '90--Optic, Photo, Medic Or Surgical Instrments',\n",
       "  '29--Organic Chemicals',\n",
       "  '39--Plastics & Articles Thereof'],\n",
       " '2018': ['0--All Merchandise',\n",
       "  '85--Electric Machinery Etc; Sound Equip',\n",
       "  '84--Nuclear Reactors, Boilers, Machinery',\n",
       "  '27--Mineral Fuel, Oil; Bitumin Subst',\n",
       "  '88--Aircraft, Spacecraft, And Parts Thereof',\n",
       "  '90--Optic, Photo, Medic Or Surgical Instrments',\n",
       "  '29--Organic Chemicals'],\n",
       " '2019': ['0--All Merchandise',\n",
       "  '84--Nuclear Reactors, Boilers, Machinery',\n",
       "  '85--Electric Machinery Etc; Sound Equip',\n",
       "  '27--Mineral Fuel, Oil; Bitumin Subst',\n",
       "  '88--Aircraft, Spacecraft, And Parts Thereof',\n",
       "  '90--Optic, Photo, Medic Or Surgical Instrments',\n",
       "  '39--Plastics & Articles Thereof'],\n",
       " '2020': ['0--All Merchandise',\n",
       "  '84--Nuclear Reactors, Boilers, Machinery',\n",
       "  '85--Electric Machinery Etc; Sound Equip',\n",
       "  '27--Mineral Fuel, Oil; Bitumin Subst',\n",
       "  '90--Optic, Photo, Medic Or Surgical Instrments',\n",
       "  '88--Aircraft, Spacecraft, And Parts Thereof',\n",
       "  '39--Plastics & Articles Thereof'],\n",
       " '2021': ['0--All Merchandise',\n",
       "  '84--Nuclear Reactors, Boilers, Machinery',\n",
       "  '85--Electric Machinery Etc; Sound Equip',\n",
       "  '27--Mineral Fuel, Oil; Bitumin Subst',\n",
       "  '90--Optic, Photo, Medic Or Surgical Instrments',\n",
       "  '88--Aircraft, Spacecraft, And Parts Thereof',\n",
       "  '39--Plastics & Articles Thereof'],\n",
       " '2022': ['0--All Merchandise',\n",
       "  '84--Nuclear Reactors, Boilers, Machinery',\n",
       "  '85--Electric Machinery Etc; Sound Equip',\n",
       "  '27--Mineral Fuel, Oil; Bitumin Subst',\n",
       "  '90--Optic, Photo, Medic Or Surgical Instrments',\n",
       "  '88--Aircraft, Spacecraft, And Parts Thereof',\n",
       "  '39--Plastics & Articles Thereof']}"
      ]
     },
     "execution_count": 675,
     "metadata": {},
     "output_type": "execute_result"
    }
   ],
   "source": [
    "Top10_Exports(Yearlist_Exports)"
   ]
  },
  {
   "cell_type": "code",
   "execution_count": 596,
   "metadata": {},
   "outputs": [
    {
     "data": {
      "text/plain": [
       "{'2013': ['0--All Merchandise',\n",
       "  '85--Electric Machinery Etc; Sound Equip',\n",
       "  '84--Nuclear Reactors, Boilers, Machinery',\n",
       "  '87--Vehicles, Except Railway Or Tramway',\n",
       "  '73--Articles Of Iron Or Steel',\n",
       "  '39--Plastics & Articles Thereof',\n",
       "  '90--Optic, Photo, Medic Or Surgical Instrments'],\n",
       " '2014': ['0--All Merchandise',\n",
       "  '85--Electric Machinery Etc; Sound Equip',\n",
       "  '84--Nuclear Reactors, Boilers, Machinery',\n",
       "  '73--Articles Of Iron Or Steel',\n",
       "  '87--Vehicles, Except Railway Or Tramway',\n",
       "  '39--Plastics & Articles Thereof',\n",
       "  '90--Optic, Photo, Medic Or Surgical Instrments'],\n",
       " '2015': ['0--All Merchandise',\n",
       "  '85--Electric Machinery Etc; Sound Equip',\n",
       "  '84--Nuclear Reactors, Boilers, Machinery',\n",
       "  '87--Vehicles, Except Railway Or Tramway',\n",
       "  '73--Articles Of Iron Or Steel',\n",
       "  '39--Plastics & Articles Thereof',\n",
       "  '90--Optic, Photo, Medic Or Surgical Instrments'],\n",
       " '2016': ['0--All Merchandise',\n",
       "  '85--Electric Machinery Etc; Sound Equip',\n",
       "  '84--Nuclear Reactors, Boilers, Machinery',\n",
       "  '87--Vehicles, Except Railway Or Tramway',\n",
       "  '73--Articles Of Iron Or Steel',\n",
       "  '39--Plastics & Articles Thereof',\n",
       "  '90--Optic, Photo, Medic Or Surgical Instrments'],\n",
       " '2017': ['0--All Merchandise',\n",
       "  '85--Electric Machinery Etc; Sound Equip',\n",
       "  '84--Nuclear Reactors, Boilers, Machinery',\n",
       "  '73--Articles Of Iron Or Steel',\n",
       "  '87--Vehicles, Except Railway Or Tramway',\n",
       "  '39--Plastics & Articles Thereof',\n",
       "  '90--Optic, Photo, Medic Or Surgical Instrments'],\n",
       " '2018': ['0--All Merchandise',\n",
       "  '85--Electric Machinery Etc; Sound Equip',\n",
       "  '84--Nuclear Reactors, Boilers, Machinery',\n",
       "  '73--Articles Of Iron Or Steel',\n",
       "  '87--Vehicles, Except Railway Or Tramway',\n",
       "  '39--Plastics & Articles Thereof',\n",
       "  '90--Optic, Photo, Medic Or Surgical Instrments'],\n",
       " '2019': ['0--All Merchandise',\n",
       "  '85--Electric Machinery Etc; Sound Equip',\n",
       "  '84--Nuclear Reactors, Boilers, Machinery',\n",
       "  '73--Articles Of Iron Or Steel',\n",
       "  '87--Vehicles, Except Railway Or Tramway',\n",
       "  '39--Plastics & Articles Thereof',\n",
       "  '90--Optic, Photo, Medic Or Surgical Instrments'],\n",
       " '2020': ['0--All Merchandise',\n",
       "  '85--Electric Machinery Etc; Sound Equip',\n",
       "  '84--Nuclear Reactors, Boilers, Machinery',\n",
       "  '87--Vehicles, Except Railway Or Tramway',\n",
       "  '73--Articles Of Iron Or Steel',\n",
       "  '39--Plastics & Articles Thereof',\n",
       "  '90--Optic, Photo, Medic Or Surgical Instrments'],\n",
       " '2021': ['0--All Merchandise',\n",
       "  '84--Nuclear Reactors, Boilers, Machinery',\n",
       "  '85--Electric Machinery Etc; Sound Equip',\n",
       "  '87--Vehicles, Except Railway Or Tramway',\n",
       "  '73--Articles Of Iron Or Steel',\n",
       "  '39--Plastics & Articles Thereof',\n",
       "  '95--Toys, Games & Sport Equipment'],\n",
       " '2022': ['0--All Merchandise',\n",
       "  '85--Electric Machinery Etc; Sound Equip',\n",
       "  '84--Nuclear Reactors, Boilers, Machinery',\n",
       "  '73--Articles Of Iron Or Steel',\n",
       "  '87--Vehicles, Except Railway Or Tramway',\n",
       "  '39--Plastics & Articles Thereof',\n",
       "  '90--Optic, Photo, Medic Or Surgical Instrments']}"
      ]
     },
     "execution_count": 596,
     "metadata": {},
     "output_type": "execute_result"
    }
   ],
   "source": [
    "Top10_Imports(Yearlist_Imports)"
   ]
  },
  {
   "cell_type": "code",
   "execution_count": 605,
   "metadata": {},
   "outputs": [
    {
     "name": "stdout",
     "output_type": "stream",
     "text": [
      "{'2': [], '0': [], '1': [], '3': []}\n",
      "{'2': [], '0': [], '1': [], '4': []}\n",
      "{'2': [], '0': [], '1': [], '5': []}\n",
      "{'2': [], '0': [], '1': [], '6': []}\n",
      "{'2': [], '0': [], '1': [], '7': []}\n",
      "{'2': [], '0': [], '1': [], '8': []}\n",
      "{'2': [], '0': [], '1': [], '9': []}\n",
      "{'2': [], '0': []}\n",
      "{'2': [], '0': [], '1': []}\n",
      "{'2': [], '0': []}\n"
     ]
    }
   ],
   "source": [
    "#Creating a dictionary with the top 10 imports for each year\n",
    "Yearlist_Imports = ['2013', '2014', '2015', '2016', '2017', '2018', '2019', '2020', '2021', '2022']\n",
    "for Y in Yearlist_Imports: print(Top10_Imports(Y))"
   ]
  },
  {
   "cell_type": "code",
   "execution_count": 673,
   "metadata": {},
   "outputs": [
    {
     "data": {
      "text/plain": [
       "['2013',\n",
       " '2014',\n",
       " '2015',\n",
       " '2016',\n",
       " '2017',\n",
       " '2018',\n",
       " '2019',\n",
       " '2020',\n",
       " '2021',\n",
       " '2022']"
      ]
     },
     "execution_count": 673,
     "metadata": {},
     "output_type": "execute_result"
    }
   ],
   "source": [
    "Yearlist_Exports"
   ]
  },
  {
   "cell_type": "code",
   "execution_count": 684,
   "metadata": {},
   "outputs": [],
   "source": [
    "expT10_df = pd.DataFrame(ExportsT10)"
   ]
  },
  {
   "cell_type": "code",
   "execution_count": 685,
   "metadata": {},
   "outputs": [
    {
     "data": {
      "text/html": [
       "<div>\n",
       "<style scoped>\n",
       "    .dataframe tbody tr th:only-of-type {\n",
       "        vertical-align: middle;\n",
       "    }\n",
       "\n",
       "    .dataframe tbody tr th {\n",
       "        vertical-align: top;\n",
       "    }\n",
       "\n",
       "    .dataframe thead th {\n",
       "        text-align: right;\n",
       "    }\n",
       "</style>\n",
       "<table border=\"1\" class=\"dataframe\">\n",
       "  <thead>\n",
       "    <tr style=\"text-align: right;\">\n",
       "      <th></th>\n",
       "      <th>2013</th>\n",
       "      <th>2013_value</th>\n",
       "      <th>2014</th>\n",
       "      <th>2014_value</th>\n",
       "      <th>2015</th>\n",
       "      <th>2015_value</th>\n",
       "      <th>2016</th>\n",
       "      <th>2016_value</th>\n",
       "      <th>2017</th>\n",
       "      <th>2017_value</th>\n",
       "      <th>2018</th>\n",
       "      <th>2018_value</th>\n",
       "      <th>2019</th>\n",
       "      <th>2019_value</th>\n",
       "      <th>2020</th>\n",
       "      <th>2020_value</th>\n",
       "      <th>2021</th>\n",
       "      <th>2021_value</th>\n",
       "      <th>2022</th>\n",
       "      <th>2022_value</th>\n",
       "    </tr>\n",
       "  </thead>\n",
       "  <tbody>\n",
       "    <tr>\n",
       "      <th>0</th>\n",
       "      <td>0--All Merchandise</td>\n",
       "      <td>25523.0</td>\n",
       "      <td>0--All Merchandise</td>\n",
       "      <td>26675.0</td>\n",
       "      <td>0--All Merchandise</td>\n",
       "      <td>25826.0</td>\n",
       "      <td>0--All Merchandise</td>\n",
       "      <td>26034.0</td>\n",
       "      <td>0--All Merchandise</td>\n",
       "      <td>25736.0</td>\n",
       "      <td>0--All Merchandise</td>\n",
       "      <td>30478.0</td>\n",
       "      <td>0--All Merchandise</td>\n",
       "      <td>31202.0</td>\n",
       "      <td>0--All Merchandise</td>\n",
       "      <td>30213.0</td>\n",
       "      <td>0--All Merchandise</td>\n",
       "      <td>36838.0</td>\n",
       "      <td>0--All Merchandise</td>\n",
       "      <td>43713.0</td>\n",
       "    </tr>\n",
       "    <tr>\n",
       "      <th>1</th>\n",
       "      <td>84--Nuclear Reactors, Boilers, Machinery</td>\n",
       "      <td>4748.0</td>\n",
       "      <td>84--Nuclear Reactors, Boilers, Machinery</td>\n",
       "      <td>4363.0</td>\n",
       "      <td>84--Nuclear Reactors, Boilers, Machinery</td>\n",
       "      <td>4937.0</td>\n",
       "      <td>84--Nuclear Reactors, Boilers, Machinery</td>\n",
       "      <td>5360.0</td>\n",
       "      <td>84--Nuclear Reactors, Boilers, Machinery</td>\n",
       "      <td>5043.0</td>\n",
       "      <td>85--Electric Machinery Etc; Sound Equip</td>\n",
       "      <td>4866.0</td>\n",
       "      <td>84--Nuclear Reactors, Boilers, Machinery</td>\n",
       "      <td>5617.0</td>\n",
       "      <td>84--Nuclear Reactors, Boilers, Machinery</td>\n",
       "      <td>5695.0</td>\n",
       "      <td>84--Nuclear Reactors, Boilers, Machinery</td>\n",
       "      <td>7502.0</td>\n",
       "      <td>84--Nuclear Reactors, Boilers, Machinery</td>\n",
       "      <td>8748.0</td>\n",
       "    </tr>\n",
       "    <tr>\n",
       "      <th>2</th>\n",
       "      <td>85--Electric Machinery Etc; Sound Equip</td>\n",
       "      <td>4041.0</td>\n",
       "      <td>85--Electric Machinery Etc; Sound Equip</td>\n",
       "      <td>4222.0</td>\n",
       "      <td>85--Electric Machinery Etc; Sound Equip</td>\n",
       "      <td>4500.0</td>\n",
       "      <td>85--Electric Machinery Etc; Sound Equip</td>\n",
       "      <td>5208.0</td>\n",
       "      <td>85--Electric Machinery Etc; Sound Equip</td>\n",
       "      <td>4850.0</td>\n",
       "      <td>84--Nuclear Reactors, Boilers, Machinery</td>\n",
       "      <td>4655.0</td>\n",
       "      <td>85--Electric Machinery Etc; Sound Equip</td>\n",
       "      <td>4513.0</td>\n",
       "      <td>85--Electric Machinery Etc; Sound Equip</td>\n",
       "      <td>5251.0</td>\n",
       "      <td>85--Electric Machinery Etc; Sound Equip</td>\n",
       "      <td>6745.0</td>\n",
       "      <td>85--Electric Machinery Etc; Sound Equip</td>\n",
       "      <td>7842.0</td>\n",
       "    </tr>\n",
       "    <tr>\n",
       "      <th>3</th>\n",
       "      <td>88--Aircraft, Spacecraft, And Parts Thereof</td>\n",
       "      <td>1752.0</td>\n",
       "      <td>88--Aircraft, Spacecraft, And Parts Thereof</td>\n",
       "      <td>2860.0</td>\n",
       "      <td>88--Aircraft, Spacecraft, And Parts Thereof</td>\n",
       "      <td>2890.0</td>\n",
       "      <td>88--Aircraft, Spacecraft, And Parts Thereof</td>\n",
       "      <td>3157.0</td>\n",
       "      <td>88--Aircraft, Spacecraft, And Parts Thereof</td>\n",
       "      <td>2867.0</td>\n",
       "      <td>27--Mineral Fuel, Oil; Bitumin Subst</td>\n",
       "      <td>3968.0</td>\n",
       "      <td>27--Mineral Fuel, Oil; Bitumin Subst</td>\n",
       "      <td>4465.0</td>\n",
       "      <td>27--Mineral Fuel, Oil; Bitumin Subst</td>\n",
       "      <td>3277.0</td>\n",
       "      <td>27--Mineral Fuel, Oil; Bitumin Subst</td>\n",
       "      <td>4674.0</td>\n",
       "      <td>27--Mineral Fuel, Oil; Bitumin Subst</td>\n",
       "      <td>7188.0</td>\n",
       "    </tr>\n",
       "    <tr>\n",
       "      <th>4</th>\n",
       "      <td>90--Optic, Photo, Medic Or Surgical Instrments</td>\n",
       "      <td>1633.0</td>\n",
       "      <td>90--Optic, Photo, Medic Or Surgical Instrments</td>\n",
       "      <td>1838.0</td>\n",
       "      <td>90--Optic, Photo, Medic Or Surgical Instrments</td>\n",
       "      <td>1814.0</td>\n",
       "      <td>90--Optic, Photo, Medic Or Surgical Instrments</td>\n",
       "      <td>1751.0</td>\n",
       "      <td>90--Optic, Photo, Medic Or Surgical Instrments</td>\n",
       "      <td>1803.0</td>\n",
       "      <td>88--Aircraft, Spacecraft, And Parts Thereof</td>\n",
       "      <td>2621.0</td>\n",
       "      <td>88--Aircraft, Spacecraft, And Parts Thereof</td>\n",
       "      <td>2737.0</td>\n",
       "      <td>90--Optic, Photo, Medic Or Surgical Instrments</td>\n",
       "      <td>2274.0</td>\n",
       "      <td>90--Optic, Photo, Medic Or Surgical Instrments</td>\n",
       "      <td>2464.0</td>\n",
       "      <td>90--Optic, Photo, Medic Or Surgical Instrments</td>\n",
       "      <td>3008.0</td>\n",
       "    </tr>\n",
       "    <tr>\n",
       "      <th>5</th>\n",
       "      <td>72--Iron And Steel</td>\n",
       "      <td>1243.0</td>\n",
       "      <td>29--Organic Chemicals</td>\n",
       "      <td>1269.0</td>\n",
       "      <td>93--Arms &amp; Ammunition</td>\n",
       "      <td>1529.0</td>\n",
       "      <td>29--Organic Chemicals</td>\n",
       "      <td>824.0</td>\n",
       "      <td>29--Organic Chemicals</td>\n",
       "      <td>863.0</td>\n",
       "      <td>90--Optic, Photo, Medic Or Surgical Instrments</td>\n",
       "      <td>2086.0</td>\n",
       "      <td>90--Optic, Photo, Medic Or Surgical Instrments</td>\n",
       "      <td>2217.0</td>\n",
       "      <td>88--Aircraft, Spacecraft, And Parts Thereof</td>\n",
       "      <td>2111.0</td>\n",
       "      <td>88--Aircraft, Spacecraft, And Parts Thereof</td>\n",
       "      <td>2189.0</td>\n",
       "      <td>88--Aircraft, Spacecraft, And Parts Thereof</td>\n",
       "      <td>1958.0</td>\n",
       "    </tr>\n",
       "    <tr>\n",
       "      <th>6</th>\n",
       "      <td>29--Organic Chemicals</td>\n",
       "      <td>1138.0</td>\n",
       "      <td>72--Iron And Steel</td>\n",
       "      <td>1040.0</td>\n",
       "      <td>29--Organic Chemicals</td>\n",
       "      <td>891.0</td>\n",
       "      <td>10--Cereals</td>\n",
       "      <td>759.0</td>\n",
       "      <td>39--Plastics &amp; Articles Thereof</td>\n",
       "      <td>829.0</td>\n",
       "      <td>29--Organic Chemicals</td>\n",
       "      <td>1108.0</td>\n",
       "      <td>39--Plastics &amp; Articles Thereof</td>\n",
       "      <td>909.0</td>\n",
       "      <td>39--Plastics &amp; Articles Thereof</td>\n",
       "      <td>968.0</td>\n",
       "      <td>39--Plastics &amp; Articles Thereof</td>\n",
       "      <td>1133.0</td>\n",
       "      <td>39--Plastics &amp; Articles Thereof</td>\n",
       "      <td>1236.0</td>\n",
       "    </tr>\n",
       "  </tbody>\n",
       "</table>\n",
       "</div>"
      ],
      "text/plain": [
       "                                             2013  2013_value  \\\n",
       "0                              0--All Merchandise     25523.0   \n",
       "1        84--Nuclear Reactors, Boilers, Machinery      4748.0   \n",
       "2         85--Electric Machinery Etc; Sound Equip      4041.0   \n",
       "3     88--Aircraft, Spacecraft, And Parts Thereof      1752.0   \n",
       "4  90--Optic, Photo, Medic Or Surgical Instrments      1633.0   \n",
       "5                              72--Iron And Steel      1243.0   \n",
       "6                           29--Organic Chemicals      1138.0   \n",
       "\n",
       "                                             2014  2014_value  \\\n",
       "0                              0--All Merchandise     26675.0   \n",
       "1        84--Nuclear Reactors, Boilers, Machinery      4363.0   \n",
       "2         85--Electric Machinery Etc; Sound Equip      4222.0   \n",
       "3     88--Aircraft, Spacecraft, And Parts Thereof      2860.0   \n",
       "4  90--Optic, Photo, Medic Or Surgical Instrments      1838.0   \n",
       "5                           29--Organic Chemicals      1269.0   \n",
       "6                              72--Iron And Steel      1040.0   \n",
       "\n",
       "                                             2015  2015_value  \\\n",
       "0                              0--All Merchandise     25826.0   \n",
       "1        84--Nuclear Reactors, Boilers, Machinery      4937.0   \n",
       "2         85--Electric Machinery Etc; Sound Equip      4500.0   \n",
       "3     88--Aircraft, Spacecraft, And Parts Thereof      2890.0   \n",
       "4  90--Optic, Photo, Medic Or Surgical Instrments      1814.0   \n",
       "5                           93--Arms & Ammunition      1529.0   \n",
       "6                           29--Organic Chemicals       891.0   \n",
       "\n",
       "                                             2016  2016_value  \\\n",
       "0                              0--All Merchandise     26034.0   \n",
       "1        84--Nuclear Reactors, Boilers, Machinery      5360.0   \n",
       "2         85--Electric Machinery Etc; Sound Equip      5208.0   \n",
       "3     88--Aircraft, Spacecraft, And Parts Thereof      3157.0   \n",
       "4  90--Optic, Photo, Medic Or Surgical Instrments      1751.0   \n",
       "5                           29--Organic Chemicals       824.0   \n",
       "6                                     10--Cereals       759.0   \n",
       "\n",
       "                                             2017  2017_value  \\\n",
       "0                              0--All Merchandise     25736.0   \n",
       "1        84--Nuclear Reactors, Boilers, Machinery      5043.0   \n",
       "2         85--Electric Machinery Etc; Sound Equip      4850.0   \n",
       "3     88--Aircraft, Spacecraft, And Parts Thereof      2867.0   \n",
       "4  90--Optic, Photo, Medic Or Surgical Instrments      1803.0   \n",
       "5                           29--Organic Chemicals       863.0   \n",
       "6                 39--Plastics & Articles Thereof       829.0   \n",
       "\n",
       "                                             2018  2018_value  \\\n",
       "0                              0--All Merchandise     30478.0   \n",
       "1         85--Electric Machinery Etc; Sound Equip      4866.0   \n",
       "2        84--Nuclear Reactors, Boilers, Machinery      4655.0   \n",
       "3            27--Mineral Fuel, Oil; Bitumin Subst      3968.0   \n",
       "4     88--Aircraft, Spacecraft, And Parts Thereof      2621.0   \n",
       "5  90--Optic, Photo, Medic Or Surgical Instrments      2086.0   \n",
       "6                           29--Organic Chemicals      1108.0   \n",
       "\n",
       "                                             2019  2019_value  \\\n",
       "0                              0--All Merchandise     31202.0   \n",
       "1        84--Nuclear Reactors, Boilers, Machinery      5617.0   \n",
       "2         85--Electric Machinery Etc; Sound Equip      4513.0   \n",
       "3            27--Mineral Fuel, Oil; Bitumin Subst      4465.0   \n",
       "4     88--Aircraft, Spacecraft, And Parts Thereof      2737.0   \n",
       "5  90--Optic, Photo, Medic Or Surgical Instrments      2217.0   \n",
       "6                 39--Plastics & Articles Thereof       909.0   \n",
       "\n",
       "                                             2020  2020_value  \\\n",
       "0                              0--All Merchandise     30213.0   \n",
       "1        84--Nuclear Reactors, Boilers, Machinery      5695.0   \n",
       "2         85--Electric Machinery Etc; Sound Equip      5251.0   \n",
       "3            27--Mineral Fuel, Oil; Bitumin Subst      3277.0   \n",
       "4  90--Optic, Photo, Medic Or Surgical Instrments      2274.0   \n",
       "5     88--Aircraft, Spacecraft, And Parts Thereof      2111.0   \n",
       "6                 39--Plastics & Articles Thereof       968.0   \n",
       "\n",
       "                                             2021  2021_value  \\\n",
       "0                              0--All Merchandise     36838.0   \n",
       "1        84--Nuclear Reactors, Boilers, Machinery      7502.0   \n",
       "2         85--Electric Machinery Etc; Sound Equip      6745.0   \n",
       "3            27--Mineral Fuel, Oil; Bitumin Subst      4674.0   \n",
       "4  90--Optic, Photo, Medic Or Surgical Instrments      2464.0   \n",
       "5     88--Aircraft, Spacecraft, And Parts Thereof      2189.0   \n",
       "6                 39--Plastics & Articles Thereof      1133.0   \n",
       "\n",
       "                                             2022  2022_value  \n",
       "0                              0--All Merchandise     43713.0  \n",
       "1        84--Nuclear Reactors, Boilers, Machinery      8748.0  \n",
       "2         85--Electric Machinery Etc; Sound Equip      7842.0  \n",
       "3            27--Mineral Fuel, Oil; Bitumin Subst      7188.0  \n",
       "4  90--Optic, Photo, Medic Or Surgical Instrments      3008.0  \n",
       "5     88--Aircraft, Spacecraft, And Parts Thereof      1958.0  \n",
       "6                 39--Plastics & Articles Thereof      1236.0  "
      ]
     },
     "execution_count": 685,
     "metadata": {},
     "output_type": "execute_result"
    }
   ],
   "source": [
    "expT10_df"
   ]
  },
  {
   "cell_type": "code",
   "execution_count": 582,
   "metadata": {},
   "outputs": [
    {
     "ename": "ValueError",
     "evalue": "Value of 'names' is not the name of a column in 'data_frame'. Expected one of [0] but received: Product",
     "output_type": "error",
     "traceback": [
      "\u001b[1;31m---------------------------------------------------------------------------\u001b[0m",
      "\u001b[1;31mValueError\u001b[0m                                Traceback (most recent call last)",
      "Cell \u001b[1;32mIn[582], line 2\u001b[0m\n\u001b[0;32m      1\u001b[0m \u001b[39m#Creating a piechart with for Year 2012\u001b[39;00m\n\u001b[1;32m----> 2\u001b[0m Fig3 \u001b[39m=\u001b[39m px\u001b[39m.\u001b[39;49mpie(expT10_df, values\u001b[39m=\u001b[39;49m\u001b[39m'\u001b[39;49m\u001b[39mYear\u001b[39;49m\u001b[39m'\u001b[39;49m, names\u001b[39m=\u001b[39;49m\u001b[39m'\u001b[39;49m\u001b[39mProduct\u001b[39;49m\u001b[39m'\u001b[39;49m)\n\u001b[0;32m      3\u001b[0m fig\u001b[39m.\u001b[39mshow()\n",
      "File \u001b[1;32mc:\\Users\\olver\\anaconda3\\lib\\site-packages\\plotly\\express\\_chart_types.py:1482\u001b[0m, in \u001b[0;36mpie\u001b[1;34m(data_frame, names, values, color, facet_row, facet_col, facet_col_wrap, facet_row_spacing, facet_col_spacing, color_discrete_sequence, color_discrete_map, hover_name, hover_data, custom_data, category_orders, labels, title, template, width, height, opacity, hole)\u001b[0m\n\u001b[0;32m   1480\u001b[0m \u001b[39melse\u001b[39;00m:\n\u001b[0;32m   1481\u001b[0m     layout_patch \u001b[39m=\u001b[39m {}\n\u001b[1;32m-> 1482\u001b[0m \u001b[39mreturn\u001b[39;00m make_figure(\n\u001b[0;32m   1483\u001b[0m     args\u001b[39m=\u001b[39;49m\u001b[39mlocals\u001b[39;49m(),\n\u001b[0;32m   1484\u001b[0m     constructor\u001b[39m=\u001b[39;49mgo\u001b[39m.\u001b[39;49mPie,\n\u001b[0;32m   1485\u001b[0m     trace_patch\u001b[39m=\u001b[39;49m\u001b[39mdict\u001b[39;49m(showlegend\u001b[39m=\u001b[39;49m(names \u001b[39mis\u001b[39;49;00m \u001b[39mnot\u001b[39;49;00m \u001b[39mNone\u001b[39;49;00m), hole\u001b[39m=\u001b[39;49mhole),\n\u001b[0;32m   1486\u001b[0m     layout_patch\u001b[39m=\u001b[39;49mlayout_patch,\n\u001b[0;32m   1487\u001b[0m )\n",
      "File \u001b[1;32mc:\\Users\\olver\\anaconda3\\lib\\site-packages\\plotly\\express\\_core.py:1990\u001b[0m, in \u001b[0;36mmake_figure\u001b[1;34m(args, constructor, trace_patch, layout_patch)\u001b[0m\n\u001b[0;32m   1987\u001b[0m layout_patch \u001b[39m=\u001b[39m layout_patch \u001b[39mor\u001b[39;00m {}\n\u001b[0;32m   1988\u001b[0m apply_default_cascade(args)\n\u001b[1;32m-> 1990\u001b[0m args \u001b[39m=\u001b[39m build_dataframe(args, constructor)\n\u001b[0;32m   1991\u001b[0m \u001b[39mif\u001b[39;00m constructor \u001b[39min\u001b[39;00m [go\u001b[39m.\u001b[39mTreemap, go\u001b[39m.\u001b[39mSunburst, go\u001b[39m.\u001b[39mIcicle] \u001b[39mand\u001b[39;00m args[\u001b[39m\"\u001b[39m\u001b[39mpath\u001b[39m\u001b[39m\"\u001b[39m] \u001b[39mis\u001b[39;00m \u001b[39mnot\u001b[39;00m \u001b[39mNone\u001b[39;00m:\n\u001b[0;32m   1992\u001b[0m     args \u001b[39m=\u001b[39m process_dataframe_hierarchy(args)\n",
      "File \u001b[1;32mc:\\Users\\olver\\anaconda3\\lib\\site-packages\\plotly\\express\\_core.py:1405\u001b[0m, in \u001b[0;36mbuild_dataframe\u001b[1;34m(args, constructor)\u001b[0m\n\u001b[0;32m   1402\u001b[0m     args[\u001b[39m\"\u001b[39m\u001b[39mcolor\u001b[39m\u001b[39m\"\u001b[39m] \u001b[39m=\u001b[39m \u001b[39mNone\u001b[39;00m\n\u001b[0;32m   1403\u001b[0m \u001b[39m# now that things have been prepped, we do the systematic rewriting of `args`\u001b[39;00m\n\u001b[1;32m-> 1405\u001b[0m df_output, wide_id_vars \u001b[39m=\u001b[39m process_args_into_dataframe(\n\u001b[0;32m   1406\u001b[0m     args, wide_mode, var_name, value_name\n\u001b[0;32m   1407\u001b[0m )\n\u001b[0;32m   1409\u001b[0m \u001b[39m# now that `df_output` exists and `args` contains only references, we complete\u001b[39;00m\n\u001b[0;32m   1410\u001b[0m \u001b[39m# the special-case and wide-mode handling by further rewriting args and/or mutating\u001b[39;00m\n\u001b[0;32m   1411\u001b[0m \u001b[39m# df_output\u001b[39;00m\n\u001b[0;32m   1413\u001b[0m count_name \u001b[39m=\u001b[39m _escape_col_name(df_output, \u001b[39m\"\u001b[39m\u001b[39mcount\u001b[39m\u001b[39m\"\u001b[39m, [var_name, value_name])\n",
      "File \u001b[1;32mc:\\Users\\olver\\anaconda3\\lib\\site-packages\\plotly\\express\\_core.py:1207\u001b[0m, in \u001b[0;36mprocess_args_into_dataframe\u001b[1;34m(args, wide_mode, var_name, value_name)\u001b[0m\n\u001b[0;32m   1205\u001b[0m         \u001b[39mif\u001b[39;00m argument \u001b[39m==\u001b[39m \u001b[39m\"\u001b[39m\u001b[39mindex\u001b[39m\u001b[39m\"\u001b[39m:\n\u001b[0;32m   1206\u001b[0m             err_msg \u001b[39m+\u001b[39m\u001b[39m=\u001b[39m \u001b[39m\"\u001b[39m\u001b[39m\\n\u001b[39;00m\u001b[39m To use the index, pass it in directly as `df.index`.\u001b[39m\u001b[39m\"\u001b[39m\n\u001b[1;32m-> 1207\u001b[0m         \u001b[39mraise\u001b[39;00m \u001b[39mValueError\u001b[39;00m(err_msg)\n\u001b[0;32m   1208\u001b[0m \u001b[39melif\u001b[39;00m length \u001b[39mand\u001b[39;00m \u001b[39mlen\u001b[39m(df_input[argument]) \u001b[39m!=\u001b[39m length:\n\u001b[0;32m   1209\u001b[0m     \u001b[39mraise\u001b[39;00m \u001b[39mValueError\u001b[39;00m(\n\u001b[0;32m   1210\u001b[0m         \u001b[39m\"\u001b[39m\u001b[39mAll arguments should have the same length. \u001b[39m\u001b[39m\"\u001b[39m\n\u001b[0;32m   1211\u001b[0m         \u001b[39m\"\u001b[39m\u001b[39mThe length of column argument `df[\u001b[39m\u001b[39m%s\u001b[39;00m\u001b[39m]` is \u001b[39m\u001b[39m%d\u001b[39;00m\u001b[39m, whereas the \u001b[39m\u001b[39m\"\u001b[39m\n\u001b[1;32m   (...)\u001b[0m\n\u001b[0;32m   1218\u001b[0m         )\n\u001b[0;32m   1219\u001b[0m     )\n",
      "\u001b[1;31mValueError\u001b[0m: Value of 'names' is not the name of a column in 'data_frame'. Expected one of [0] but received: Product"
     ]
    }
   ],
   "source": [
    "#Creating a piechart with for Year 2012\n",
    "Fig3 = px.pie(expT10_df, values='Year', names='Product')\n",
    "fig.show()"
   ]
  },
  {
   "cell_type": "code",
   "execution_count": 590,
   "metadata": {},
   "outputs": [
    {
     "data": {
      "text/html": [
       "<div>\n",
       "<style scoped>\n",
       "    .dataframe tbody tr th:only-of-type {\n",
       "        vertical-align: middle;\n",
       "    }\n",
       "\n",
       "    .dataframe tbody tr th {\n",
       "        vertical-align: top;\n",
       "    }\n",
       "\n",
       "    .dataframe thead th {\n",
       "        text-align: right;\n",
       "    }\n",
       "</style>\n",
       "<table border=\"1\" class=\"dataframe\">\n",
       "  <thead>\n",
       "    <tr style=\"text-align: right;\">\n",
       "      <th></th>\n",
       "      <th>0</th>\n",
       "    </tr>\n",
       "  </thead>\n",
       "  <tbody>\n",
       "    <tr>\n",
       "      <th>0</th>\n",
       "      <td>2013</td>\n",
       "    </tr>\n",
       "    <tr>\n",
       "      <th>1</th>\n",
       "      <td>2014</td>\n",
       "    </tr>\n",
       "    <tr>\n",
       "      <th>2</th>\n",
       "      <td>2015</td>\n",
       "    </tr>\n",
       "    <tr>\n",
       "      <th>3</th>\n",
       "      <td>2016</td>\n",
       "    </tr>\n",
       "    <tr>\n",
       "      <th>4</th>\n",
       "      <td>2017</td>\n",
       "    </tr>\n",
       "    <tr>\n",
       "      <th>5</th>\n",
       "      <td>2018</td>\n",
       "    </tr>\n",
       "    <tr>\n",
       "      <th>6</th>\n",
       "      <td>2019</td>\n",
       "    </tr>\n",
       "    <tr>\n",
       "      <th>7</th>\n",
       "      <td>2020</td>\n",
       "    </tr>\n",
       "    <tr>\n",
       "      <th>8</th>\n",
       "      <td>2021</td>\n",
       "    </tr>\n",
       "    <tr>\n",
       "      <th>9</th>\n",
       "      <td>2022</td>\n",
       "    </tr>\n",
       "  </tbody>\n",
       "</table>\n",
       "</div>"
      ],
      "text/plain": [
       "      0\n",
       "0  2013\n",
       "1  2014\n",
       "2  2015\n",
       "3  2016\n",
       "4  2017\n",
       "5  2018\n",
       "6  2019\n",
       "7  2020\n",
       "8  2021\n",
       "9  2022"
      ]
     },
     "execution_count": 590,
     "metadata": {},
     "output_type": "execute_result"
    }
   ],
   "source": [
    "expT10_df"
   ]
  },
  {
   "cell_type": "code",
   "execution_count": 544,
   "metadata": {},
   "outputs": [],
   "source": [
    "#Save"
   ]
  },
  {
   "cell_type": "code",
   "execution_count": null,
   "metadata": {},
   "outputs": [],
   "source": [
    "#Two-way trade = Imports + Exports"
   ]
  },
  {
   "cell_type": "code",
   "execution_count": null,
   "metadata": {},
   "outputs": [],
   "source": [
    "#Trade imbalance = Imports - Exports"
   ]
  }
 ],
 "metadata": {
  "kernelspec": {
   "display_name": "Python 3",
   "language": "python",
   "name": "python3"
  },
  "language_info": {
   "codemirror_mode": {
    "name": "ipython",
    "version": 3
   },
   "file_extension": ".py",
   "mimetype": "text/x-python",
   "name": "python",
   "nbconvert_exporter": "python",
   "pygments_lexer": "ipython3",
   "version": "3.10.9"
  },
  "orig_nbformat": 4
 },
 "nbformat": 4,
 "nbformat_minor": 2
}
