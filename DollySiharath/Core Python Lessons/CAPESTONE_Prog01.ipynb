{
 "cells": [
  {
   "attachments": {},
   "cell_type": "markdown",
   "metadata": {},
   "source": [
    "###  Create dataframe and perform calculations/operations.\n",
    "\n",
    "https://pandas.pydata.org/docs/reference/api/pandas.Series.html\n",
    "\n",
    "\n",
    "# Options with dataframe index:\n",
    "df.indx #  print index \n",
    "df.set(\"DATE\") # changing index to date column but it will not override the original.\n",
    "df.set(\"DATE\", inplace=True)  # this will override the orginal index.\n",
    "df.loc[\"1/1/2023\"]  # accessing index by DATE.\n",
    "df.reset_index(inplace=True) # reset index back to original.\n",
    "df.set_index[\"DATE\", inplace=True] # reset the index column name back to DATE.\n",
    "\n",
    "\n",
    "\n",
    "# Options with dataframe:\n",
    "df.head(2) # print the first two rows\n",
    "df.tail(2)\n",
    "df.shape  # print rows and columns in tuple.\n",
    "rows, columns = df.shape\n",
    "df[2:5]  # print row 2 - 4.\n",
    "df.columns # will print all the column names.\n",
    "df.DATE # will print the entire column but it will not print the column name. \n",
    "df[[\"DATE\", \"FUEL_COST_PER_GAL\" ]]  # print multliple columns.\n"
   ]
  },
  {
   "attachments": {},
   "cell_type": "markdown",
   "metadata": {},
   "source": [
    "### How to transpone the column to rows \n",
    "New_Sales_Goal = df.T  # Transpose = transfer columns to rows."
   ]
  },
  {
   "cell_type": "code",
   "execution_count": null,
   "metadata": {},
   "outputs": [],
   "source": [
    "import pandas as pd"
   ]
  },
  {
   "cell_type": "code",
   "execution_count": 49,
   "metadata": {},
   "outputs": [
    {
     "name": "stdout",
     "output_type": "stream",
     "text": [
      "       Year_2023  Earning      Year_2024   Goal\n",
      "0  January, 2023     1000  January, 2024   4000\n",
      "1  Febuary, 2023     1500  Febuary, 2024   5000\n",
      "2    March, 2023     1000    March, 2024   6000\n",
      "3    April, 2023     1200    April, 2024   7000\n",
      "4      May, 2023     1500      May, 2024   8000\n",
      "5     June, 2023     1300     June, 2024   9000\n",
      "6     July, 2023     2000     July, 2024  10000\n",
      "\n",
      "           Earning          Goal\n",
      "count     7.000000      7.000000\n",
      "mean   1357.142857   7000.000000\n",
      "std     350.509833   2160.246899\n",
      "min    1000.000000   4000.000000\n",
      "25%    1100.000000   5500.000000\n",
      "50%    1300.000000   7000.000000\n",
      "75%    1500.000000   8500.000000\n",
      "max    2000.000000  10000.000000\n",
      "\n",
      "Avg_Value  1357.142857142857\n",
      "Max_Value  2000\n",
      "Mini  1000\n",
      "Total  9500\n"
     ]
    }
   ],
   "source": [
    "\n",
    "# Creating table from dictionaries. \n",
    "# The keys will be the name of the name of the columns.\n",
    "# The values are from the list [].\n",
    "\n",
    "\n",
    "import pandas as pd\n",
    "\n",
    "ABC_Sales_Goal = {\n",
    "\"Year_2023\": [\"January, 2023\", \"Febuary, 2023\", \"March, 2023\", \"April, 2023\", \"May, 2023\", \"June, 2023\", \"July, 2023\" ],\n",
    "\"Earning\": [1000, 1500, 1000, 1200, 1500, 1300, 2000, ],\n",
    "\"Year_2024\": [\"January, 2024\", \"Febuary, 2024\", \"March, 2024\", \"April, 2024\", \"May, 2024\", \"June, 2024\", \"July, 2024\" ],  \n",
    "\"Goal\": [4000, 5000, 6000, 7000, 8000, 9000, 10000 ]\n",
    "}\n",
    "\n",
    "# Create dataframe.\n",
    "df = pd.DataFrame(ABC_Sales_Goal)\n",
    "df\n",
    "#New_Sales_Goal = df.T  # Transpose = transfer columns to rows.\n",
    "print(df)\n",
    "print ()\n",
    "#print(New_Sales_Goal)\n",
    "Quick_View = df.describe()\n",
    "M1= df[\"Earning\"].mean()\n",
    "M2= df[\"Earning\"].max()\n",
    "M3= df[\"Earning\"].min()\n",
    "M4= df[\"Earning\"].sum()\n",
    "\n",
    "print(Quick_View)\n",
    "print()\n",
    "print(\"Avg_Value \", M1)\n",
    "print(\"Max_Value \", M2)\n",
    "print(\"Mini \", M3)\n",
    "print(\"Total \", M4)\n"
   ]
  },
  {
   "cell_type": "code",
   "execution_count": 31,
   "metadata": {},
   "outputs": [
    {
     "data": {
      "text/html": [
       "<div>\n",
       "<style scoped>\n",
       "    .dataframe tbody tr th:only-of-type {\n",
       "        vertical-align: middle;\n",
       "    }\n",
       "\n",
       "    .dataframe tbody tr th {\n",
       "        vertical-align: top;\n",
       "    }\n",
       "\n",
       "    .dataframe thead th {\n",
       "        text-align: right;\n",
       "    }\n",
       "</style>\n",
       "<table border=\"1\" class=\"dataframe\">\n",
       "  <thead>\n",
       "    <tr style=\"text-align: right;\">\n",
       "      <th></th>\n",
       "      <th>Year_2023</th>\n",
       "      <th>Earning</th>\n",
       "      <th>Year_2024</th>\n",
       "      <th>Goal</th>\n",
       "    </tr>\n",
       "  </thead>\n",
       "  <tbody>\n",
       "    <tr>\n",
       "      <th>1</th>\n",
       "      <td>Febuary, 2023</td>\n",
       "      <td>1500</td>\n",
       "      <td>Febuary, 2024</td>\n",
       "      <td>5000</td>\n",
       "    </tr>\n",
       "    <tr>\n",
       "      <th>4</th>\n",
       "      <td>May, 2023</td>\n",
       "      <td>1500</td>\n",
       "      <td>May, 2024</td>\n",
       "      <td>8000</td>\n",
       "    </tr>\n",
       "    <tr>\n",
       "      <th>6</th>\n",
       "      <td>July, 2023</td>\n",
       "      <td>2000</td>\n",
       "      <td>July, 2024</td>\n",
       "      <td>10000</td>\n",
       "    </tr>\n",
       "  </tbody>\n",
       "</table>\n",
       "</div>"
      ],
      "text/plain": [
       "       Year_2023  Earning      Year_2024   Goal\n",
       "1  Febuary, 2023     1500  Febuary, 2024   5000\n",
       "4      May, 2023     1500      May, 2024   8000\n",
       "6     July, 2023     2000     July, 2024  10000"
      ]
     },
     "execution_count": 31,
     "metadata": {},
     "output_type": "execute_result"
    }
   ],
   "source": [
    "df[df.Earning >= 1500 ]"
   ]
  },
  {
   "cell_type": "code",
   "execution_count": 57,
   "metadata": {},
   "outputs": [
    {
     "data": {
      "text/html": [
       "<div>\n",
       "<style scoped>\n",
       "    .dataframe tbody tr th:only-of-type {\n",
       "        vertical-align: middle;\n",
       "    }\n",
       "\n",
       "    .dataframe tbody tr th {\n",
       "        vertical-align: top;\n",
       "    }\n",
       "\n",
       "    .dataframe thead th {\n",
       "        text-align: right;\n",
       "    }\n",
       "</style>\n",
       "<table border=\"1\" class=\"dataframe\">\n",
       "  <thead>\n",
       "    <tr style=\"text-align: right;\">\n",
       "      <th></th>\n",
       "      <th>Year_2023</th>\n",
       "      <th>Earning</th>\n",
       "      <th>Goal</th>\n",
       "    </tr>\n",
       "  </thead>\n",
       "  <tbody>\n",
       "    <tr>\n",
       "      <th>6</th>\n",
       "      <td>July, 2023</td>\n",
       "      <td>2000</td>\n",
       "      <td>10000</td>\n",
       "    </tr>\n",
       "  </tbody>\n",
       "</table>\n",
       "</div>"
      ],
      "text/plain": [
       "    Year_2023  Earning   Goal\n",
       "6  July, 2023     2000  10000"
      ]
     },
     "execution_count": 57,
     "metadata": {},
     "output_type": "execute_result"
    }
   ],
   "source": [
    "# print only these 3 columns with the result.\n",
    "df[[\"Year_2023\", \"Earning\", \"Goal\"]][df.Earning==df.Earning.max()]"
   ]
  },
  {
   "cell_type": "code",
   "execution_count": 48,
   "metadata": {},
   "outputs": [
    {
     "name": "stdout",
     "output_type": "stream",
     "text": [
      "       Year_2023  Earning   Goal\n",
      "0  January, 2023     1000   4000\n",
      "1  Febuary, 2023     1500   5000\n",
      "2    March, 2023     1000   6000\n",
      "3    April, 2023     1200   7000\n",
      "4      May, 2023     1500   8000\n",
      "5     June, 2023     1300   9000\n",
      "6     July, 2023     2000  10000\n"
     ]
    }
   ],
   "source": [
    "New_Goal = df[[\"Year_2023\", \"Earning\", \"Goal\"]]\n",
    "print(New_Goal)"
   ]
  },
  {
   "cell_type": "code",
   "execution_count": null,
   "metadata": {},
   "outputs": [],
   "source": []
  }
 ],
 "metadata": {
  "kernelspec": {
   "display_name": "Python 3",
   "language": "python",
   "name": "python3"
  },
  "language_info": {
   "codemirror_mode": {
    "name": "ipython",
    "version": 3
   },
   "file_extension": ".py",
   "mimetype": "text/x-python",
   "name": "python",
   "nbconvert_exporter": "python",
   "pygments_lexer": "ipython3",
   "version": "3.11.2"
  },
  "orig_nbformat": 4
 },
 "nbformat": 4,
 "nbformat_minor": 2
}
