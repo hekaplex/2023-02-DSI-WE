{
 "cells": [
  {
   "cell_type": "markdown",
   "metadata": {},
   "source": [
    "## Exercise\n",
    "Use code to create all of the following to accomplish one or more tasks:\n",
    "1. list\n",
    "1. set\n",
    "1. tuple\n",
    "1. dictionary\n",
    "1. function\n",
    "\n",
    "Extra credit using index of variables and comprehensions"
   ]
  },
  {
   "cell_type": "code",
   "execution_count": null,
   "metadata": {},
   "outputs": [],
   "source": [
    "'''\n",
    "Four basic data structures in Python\n",
    "Lists - writable, iterable, numeric indexed/subscriptable\n",
    "Sets - read-only, iterable, not index\n",
    "Tuples - read-only, iterable, numeric indexed/subscriptable\n",
    "Dictionaries - writable, iterable key indexed/subscriptable\n",
    "'''"
   ]
  },
  {
   "attachments": {},
   "cell_type": "markdown",
   "metadata": {},
   "source": [
    "How to use set()\n",
    "\n",
    "\n",
    "\" SETs cannot have value of duplicate. It must be unique.\"\n",
    "\" It uses {}\"\n",
    "\" The order can changed with each execution\"\n",
    "\"print(Courses_01.difference(Courses_02)) - Science and English not listed in Courses_02\"\n",
    "\"print(Courses_01.difference(Courses_02)) - Math and Physics are listed in Courses_01 and Courses_02\"\n",
    "\"print(Courses_01.union(Courses_02))- will print both sets but not duplicate value \""
   ]
  },
  {
   "cell_type": "code",
   "execution_count": 1,
   "metadata": {},
   "outputs": [
    {
     "name": "stdout",
     "output_type": "stream",
     "text": [
      "{'English', 'Science'}\n",
      "{'Math', 'Physics'}\n",
      "{'English', 'Science', 'Data Science', 'Spanish', 'Math', 'Physics'}\n"
     ]
    }
   ],
   "source": [
    "Courses_01 = {\"Math\", \"Science\", \"English\", \"Physics\"}\n",
    "Courses_02 = {\"Math\", \"Data Science\", \"Spanish\", \"Physics\"}\n",
    "print(Courses_01.difference(Courses_02))  # The difference between courses_01 and courses_02 are English and Science.\n",
    "print(Courses_01.intersection(Courses_02))  #  Math and Physic are in both courses_01 and courses_02\n",
    "print(Courses_01.union(Courses_02))  # combine with courses together."
   ]
  },
  {
   "attachments": {},
   "cell_type": "markdown",
   "metadata": {},
   "source": [
    "How to work with Tuple().\n",
    "\n",
    "\" TUPLE is similar to LIST \"mutable\" but it cannot be CHANGED or MODIFIED or called immutable\"\n",
    "\" You cannot use append or remove functions\"  \n"
   ]
  },
  {
   "cell_type": "code",
   "execution_count": null,
   "metadata": {},
   "outputs": [],
   "source": [
    "tup1 = (\"Apple\", \"Berry\", \"Carrot\", \"Dates\", \"Eggplant\")\n",
    "print(tup1)\n",
    "print(type(tup1))\n",
    "\n"
   ]
  },
  {
   "cell_type": "code",
   "execution_count": null,
   "metadata": {},
   "outputs": [],
   "source": [
    "\"Single element will not consider as tuple, it's consider as string\"\n",
    "tup2 = (\"Apple\")\n",
    "print(tup2)\n",
    "print(type(tup2))\n",
    "\n",
    "\"Single element will not consider as tuple, it's consider as string\"\n",
    "\" If adding a comma, python will see it as tuple\"\n",
    "tup2 = (\"Apple\", )\n",
    "print(tup2)\n",
    "print(type(tup2))"
   ]
  },
  {
   "cell_type": "code",
   "execution_count": 2,
   "metadata": {},
   "outputs": [
    {
     "name": "stdout",
     "output_type": "stream",
     "text": [
      "Apple\n"
     ]
    }
   ],
   "source": [
    "\" To access element in the tuple\"\n",
    "tup1 = (\"Apple\", \"Berry\", \"Carrot\", \"Dates\", \"Eggplant\")\n",
    "print(tup1[0])"
   ]
  },
  {
   "cell_type": "code",
   "execution_count": null,
   "metadata": {},
   "outputs": [],
   "source": [
    "\"Accessing the last element\"\n",
    "tup1 = (\"Apple\", \"Berry\", \"Carrot\", \"Dates\", \"Eggplant\")\n",
    "print(tup1[-1])\n",
    "\n",
    "tup1 = (\"Apple\", \"Berry\", \"Carrot\", \"Dates\", \"Eggplant\")\n",
    "print(tup1[1:3])\n",
    "\n",
    "\"It counts 2 apples in the tuple\"\n",
    "tup1 = (\"Apple\", \"Berry\", \"Carrot\", \"Dates\", \"Eggplant\", \"Apple\")\n",
    "print(tup1.count(\"Apple\"))\n",
    "\n",
    "\" It count but cannot found, the result is 0\"\n",
    "tup1 = (\"Apple\", \"Berry\", \"Carrot\", \"Dates\", \"Eggplant\", \"Apple\")\n",
    "print(tup1.count(\"Papaya\"))\n",
    "\n",
    "\n",
    "\"If you want to add element to tuple, follow this step\"\n",
    "\"First: convert tuple to a list\"\n",
    "\"Second: add element to the list\"\n",
    "\"Third: change the list back to tuple\"\n",
    "tup1 = (\"Apple\", \"Berry\", \"Carrot\", \"Dates\", \"Eggplant\", \"Apple\")\n",
    "y=list(tup1)\n",
    "y.append(\"Guava\")\n",
    "tup1=tuple(y)\n",
    "print(tup1)\n",
    "\n",
    "\n",
    "\"Adding 2 tuple together\"\n",
    "tup1 = (\"Apple\", \"Berry\", \"Carrot\", \"Dates\", \"Eggplant\", \"Apple\")\n",
    "tup2 = (\"Guava\", \"Carrot\")\n",
    "tup1+=tup2\n",
    "print(tup1)\n",
    "\"Accessing the last element\"\n",
    "tup1 = (\"Apple\", \"Berry\", \"Carrot\", \"Dates\", \"Eggplant\")\n",
    "print(tup1[-1])\n",
    "\n",
    "tup1 = (\"Apple\", \"Berry\", \"Carrot\", \"Dates\", \"Eggplant\")\n",
    "print(tup1[1:3])\n",
    "\n",
    "\"It counts 2 apples in the tuple\"\n",
    "tup1 = (\"Apple\", \"Berry\", \"Carrot\", \"Dates\", \"Eggplant\", \"Apple\")\n",
    "print(tup1.count(\"Apple\"))\n",
    "\n",
    "\" It count but cannot found, the result is 0\"\n",
    "tup1 = (\"Apple\", \"Berry\", \"Carrot\", \"Dates\", \"Eggplant\", \"Apple\")\n",
    "print(tup1.count(\"Papaya\"))\n",
    "\n",
    "\n",
    "\"If you want to add element to tuple, follow this step\"\n",
    "\"First: convert tuple to a list\"\n",
    "\"Second: add element to the list\"\n",
    "\"Third: change the list back to tuple\"\n",
    "tup1 = (\"Apple\", \"Berry\", \"Carrot\", \"Dates\", \"Eggplant\", \"Apple\")\n",
    "y=list(tup1)\n",
    "y.append(\"Guava\")\n",
    "tup1=tuple(y)\n",
    "print(tup1)\n",
    "\n",
    "\n",
    "\"Adding 2 tuple together\"\n",
    "tup1 = (\"Apple\", \"Berry\", \"Carrot\", \"Dates\", \"Eggplant\", \"Apple\")\n",
    "tup2 = (\"Guava\", \"Carrot\")\n",
    "tup1+=tup2\n",
    "print(tup1)\n",
    "\n",
    "\n",
    "\"Using for loop to print\"\n",
    "tup1 = (\"Apple\", \"Berry\", \"Carrot\", \"Dates\", \"Eggplant\", \"Apple\")\n",
    "tup2 = (\"Guava\", \"Carrot\")\n",
    "tup1+=tup2\n",
    "for x in tup1:\n",
    "    print(x)\n",
    "\n",
    "\n",
    "\"Using for loop to print\"\n",
    "tup1 = (\"Apple\", \"Berry\", \"Carrot\", \"Dates\", \"Eggplant\", \"Apple\")\n",
    "tup2 = (\"Guava\", \"Carrot\")\n",
    "tup1+=tup2\n",
    "for x in tup1:\n",
    "    print(x)\n"
   ]
  },
  {
   "attachments": {},
   "cell_type": "markdown",
   "metadata": {},
   "source": [
    "Creating a list called siblings.\n"
   ]
  },
  {
   "cell_type": "code",
   "execution_count": 42,
   "metadata": {},
   "outputs": [
    {
     "name": "stdout",
     "output_type": "stream",
     "text": [
      "['Jim', 'Janet', 'Laura', 'Joe']\n"
     ]
    }
   ],
   "source": [
    "siblings =[\"Jim\",\"Janet\",\"Laura\",\"Joe\"]\n",
    "type(siblings)\n",
    "print(siblings)"
   ]
  },
  {
   "attachments": {},
   "cell_type": "markdown",
   "metadata": {},
   "source": [
    "Adding Andrew to the list using append()."
   ]
  },
  {
   "cell_type": "code",
   "execution_count": 56,
   "metadata": {},
   "outputs": [
    {
     "data": {
      "text/plain": [
       "['Jim', 'Janet', 'Joe', 'Andrew', 'Andrew']"
      ]
     },
     "execution_count": 56,
     "metadata": {},
     "output_type": "execute_result"
    }
   ],
   "source": [
    "siblings.append('Andrew')\n",
    "siblings"
   ]
  },
  {
   "attachments": {},
   "cell_type": "markdown",
   "metadata": {},
   "source": [
    "Count number of elements in the list using len()."
   ]
  },
  {
   "cell_type": "code",
   "execution_count": 57,
   "metadata": {},
   "outputs": [
    {
     "data": {
      "text/plain": [
       "5"
      ]
     },
     "execution_count": 57,
     "metadata": {},
     "output_type": "execute_result"
    }
   ],
   "source": [
    "len(siblings)"
   ]
  },
  {
   "attachments": {},
   "cell_type": "markdown",
   "metadata": {},
   "source": [
    "Accessing element in the list by index[] position.\n",
    "Jim is in the first[0] index position."
   ]
  },
  {
   "cell_type": "code",
   "execution_count": 58,
   "metadata": {},
   "outputs": [
    {
     "data": {
      "text/plain": [
       "'Jim'"
      ]
     },
     "execution_count": 58,
     "metadata": {},
     "output_type": "execute_result"
    }
   ],
   "source": [
    "#Python is 0 indexed, R and SQL are 1 indexed\n",
    "siblings[0]"
   ]
  },
  {
   "cell_type": "code",
   "execution_count": 59,
   "metadata": {},
   "outputs": [
    {
     "data": {
      "text/plain": [
       "['Jim', 'Janet', 'Joe', 'Andrew', 'Andrew', 'Elizabeth']"
      ]
     },
     "execution_count": 59,
     "metadata": {},
     "output_type": "execute_result"
    }
   ],
   "source": [
    "#append is list as a queue FIFO - First On First Out\n",
    "siblings.append(\"Elizabeth\")\n",
    "siblings"
   ]
  },
  {
   "attachments": {},
   "cell_type": "markdown",
   "metadata": {},
   "source": [
    "By default pop() removes the last element in the list.\n"
   ]
  },
  {
   "cell_type": "code",
   "execution_count": 60,
   "metadata": {},
   "outputs": [
    {
     "name": "stdout",
     "output_type": "stream",
     "text": [
      "Elizabeth\n"
     ]
    },
    {
     "data": {
      "text/plain": [
       "['Jim', 'Janet', 'Joe', 'Andrew', 'Andrew']"
      ]
     },
     "execution_count": 60,
     "metadata": {},
     "output_type": "execute_result"
    }
   ],
   "source": [
    "#pop is list as a stack LIFO - Last In First Out\n",
    "kid = siblings.pop()\n",
    "print(kid)\n",
    "siblings"
   ]
  },
  {
   "attachments": {},
   "cell_type": "markdown",
   "metadata": {},
   "source": [
    "Removing element #2 \"Joe\" in the list.  "
   ]
  },
  {
   "cell_type": "code",
   "execution_count": 61,
   "metadata": {},
   "outputs": [
    {
     "name": "stdout",
     "output_type": "stream",
     "text": [
      "Joe\n"
     ]
    },
    {
     "data": {
      "text/plain": [
       "['Jim', 'Janet', 'Andrew', 'Andrew']"
      ]
     },
     "execution_count": 61,
     "metadata": {},
     "output_type": "execute_result"
    }
   ],
   "source": [
    "kid = siblings.pop(2)\n",
    "print(kid)\n",
    "siblings"
   ]
  },
  {
   "cell_type": "code",
   "execution_count": 62,
   "metadata": {},
   "outputs": [
    {
     "name": "stdout",
     "output_type": "stream",
     "text": [
      "Jim\n",
      "Janet\n",
      "Andrew\n",
      "Andrew\n"
     ]
    }
   ],
   "source": [
    "#example of iterating through a list.\n",
    "# Using for loop to print siblings.\n",
    "for person in siblings: print(person)"
   ]
  },
  {
   "attachments": {},
   "cell_type": "markdown",
   "metadata": {},
   "source": [
    "Using for loop to print 'Name'. Each pass it prints a character. "
   ]
  },
  {
   "cell_type": "code",
   "execution_count": 63,
   "metadata": {},
   "outputs": [
    {
     "name": "stdout",
     "output_type": "stream",
     "text": [
      "N\n",
      "a\n",
      "m\n",
      "e\n"
     ]
    }
   ],
   "source": [
    "for n in 'Name': print(n)"
   ]
  },
  {
   "cell_type": "code",
   "execution_count": 64,
   "metadata": {},
   "outputs": [
    {
     "ename": "IndexError",
     "evalue": "string index out of range",
     "output_type": "error",
     "traceback": [
      "\u001b[1;31m---------------------------------------------------------------------------\u001b[0m",
      "\u001b[1;31mIndexError\u001b[0m                                Traceback (most recent call last)",
      "Cell \u001b[1;32mIn[64], line 1\u001b[0m\n\u001b[1;32m----> 1\u001b[0m kid[\u001b[39m3\u001b[39m]\n",
      "\u001b[1;31mIndexError\u001b[0m: string index out of range"
     ]
    }
   ],
   "source": [
    "kid[3]"
   ]
  },
  {
   "attachments": {},
   "cell_type": "markdown",
   "metadata": {},
   "source": [
    "TUPLE is the same as list, except elements cannot be changed(IMMUTABLE) but allows duplicate values.\n",
    "The list is encloded by square () and separated by commas (,)."
   ]
  },
  {
   "attachments": {},
   "cell_type": "markdown",
   "metadata": {},
   "source": [
    "type() will display data type."
   ]
  },
  {
   "cell_type": "code",
   "execution_count": 65,
   "metadata": {},
   "outputs": [
    {
     "data": {
      "text/plain": [
       "tuple"
      ]
     },
     "execution_count": 65,
     "metadata": {},
     "output_type": "execute_result"
    }
   ],
   "source": [
    "siblings_tuple = (\"Jim\",\"Janet\",\"Laura\",\"Joe\")\n",
    "type(siblings_tuple)"
   ]
  },
  {
   "cell_type": "code",
   "execution_count": 66,
   "metadata": {},
   "outputs": [
    {
     "data": {
      "text/plain": [
       "('Jim', 'Janet', 'Laura', 'Joe')"
      ]
     },
     "execution_count": 66,
     "metadata": {},
     "output_type": "execute_result"
    }
   ],
   "source": [
    "siblings_tuple\n"
   ]
  },
  {
   "attachments": {},
   "cell_type": "markdown",
   "metadata": {},
   "source": [
    "Accessing siblings_tuple position 2."
   ]
  },
  {
   "cell_type": "code",
   "execution_count": 67,
   "metadata": {},
   "outputs": [
    {
     "data": {
      "text/plain": [
       "'Laura'"
      ]
     },
     "execution_count": 67,
     "metadata": {},
     "output_type": "execute_result"
    }
   ],
   "source": [
    "siblings_tuple[2]"
   ]
  },
  {
   "attachments": {},
   "cell_type": "markdown",
   "metadata": {},
   "source": [
    "Tuple cannot be changed, removed or add new element to the list.  "
   ]
  },
  {
   "cell_type": "code",
   "execution_count": 68,
   "metadata": {},
   "outputs": [
    {
     "ename": "AttributeError",
     "evalue": "'tuple' object has no attribute 'append'",
     "output_type": "error",
     "traceback": [
      "\u001b[1;31m---------------------------------------------------------------------------\u001b[0m",
      "\u001b[1;31mAttributeError\u001b[0m                            Traceback (most recent call last)",
      "Cell \u001b[1;32mIn[68], line 1\u001b[0m\n\u001b[1;32m----> 1\u001b[0m siblings_tuple\u001b[39m.\u001b[39mappend(\u001b[39m'\u001b[39m\u001b[39mAndrew\u001b[39m\u001b[39m'\u001b[39m)\n",
      "\u001b[1;31mAttributeError\u001b[0m: 'tuple' object has no attribute 'append'"
     ]
    }
   ],
   "source": [
    "siblings_tuple.append('Andrew')"
   ]
  },
  {
   "attachments": {},
   "cell_type": "markdown",
   "metadata": {},
   "source": [
    "\" SETs cannot have value of duplicate. It must be unique.\"\n",
    "\" It uses {}\"\n",
    "\" The order can changed with each execution\""
   ]
  },
  {
   "cell_type": "code",
   "execution_count": null,
   "metadata": {},
   "outputs": [
    {
     "data": {
      "text/plain": [
       "set"
      ]
     },
     "execution_count": 15,
     "metadata": {},
     "output_type": "execute_result"
    }
   ],
   "source": [
    "siblings_set ={\"Jim\",\"Janet\",\"Laura\",\"Joe\",\"Andrew\"}\n",
    "type(siblings_set)"
   ]
  },
  {
   "cell_type": "code",
   "execution_count": null,
   "metadata": {},
   "outputs": [],
   "source": [
    "people = {\"Temi\", \"Brian\", \"Brandon\",\"Jaquellous\",\"Rebecca\",\"Darian\", \"Andrew\"}"
   ]
  },
  {
   "cell_type": "code",
   "execution_count": null,
   "metadata": {},
   "outputs": [
    {
     "data": {
      "text/plain": [
       "{'Andrew'}"
      ]
     },
     "execution_count": 17,
     "metadata": {},
     "output_type": "execute_result"
    }
   ],
   "source": [
    "people & siblings_set"
   ]
  },
  {
   "cell_type": "code",
   "execution_count": null,
   "metadata": {},
   "outputs": [
    {
     "ename": "TypeError",
     "evalue": "'set' object is not subscriptable",
     "output_type": "error",
     "traceback": [
      "\u001b[1;31m---------------------------------------------------------------------------\u001b[0m",
      "\u001b[1;31mTypeError\u001b[0m                                 Traceback (most recent call last)",
      "\u001b[1;32m~\\AppData\\Local\\Temp/ipykernel_91712/2350016495.py\u001b[0m in \u001b[0;36m<module>\u001b[1;34m\u001b[0m\n\u001b[1;32m----> 1\u001b[1;33m \u001b[0mpeople\u001b[0m\u001b[1;33m[\u001b[0m\u001b[1;36m1\u001b[0m\u001b[1;33m]\u001b[0m\u001b[1;33m\u001b[0m\u001b[1;33m\u001b[0m\u001b[0m\n\u001b[0m",
      "\u001b[1;31mTypeError\u001b[0m: 'set' object is not subscriptable"
     ]
    }
   ],
   "source": [
    "people[1]"
   ]
  },
  {
   "cell_type": "code",
   "execution_count": null,
   "metadata": {},
   "outputs": [
    {
     "data": {
      "text/plain": [
       "{'Andrew',\n",
       " 'Brandon',\n",
       " 'Brian',\n",
       " 'Darian',\n",
       " 'Janet',\n",
       " 'Jaquellous',\n",
       " 'Jim',\n",
       " 'Joe',\n",
       " 'Laura',\n",
       " 'Rebecca',\n",
       " 'Temi'}"
      ]
     },
     "execution_count": 18,
     "metadata": {},
     "output_type": "execute_result"
    }
   ],
   "source": [
    "people | siblings_set"
   ]
  },
  {
   "cell_type": "code",
   "execution_count": null,
   "metadata": {},
   "outputs": [
    {
     "data": {
      "text/plain": [
       "{1, 2, 3, 4, 5, 6}"
      ]
     },
     "execution_count": 19,
     "metadata": {},
     "output_type": "execute_result"
    }
   ],
   "source": [
    "blist = [1,2,3,4,5,4,3,4,5,6]\n",
    "set(blist)"
   ]
  },
  {
   "attachments": {},
   "cell_type": "markdown",
   "metadata": {},
   "source": [
    "DICTIONARIES is a collection of objects, values or items of different types stored in key-value pair\n",
    "format.  These multiple key-value pairs created are enclosed within the curly braces{}, and each\n",
    "key is separated form its value by the colon : \n",
    "\n",
    "example: \n",
    "Dict1 = {\"a\":1, \"b\":2, \"c\":3}\n",
    "\n",
    "In this example:\n",
    "\"a\" is the key.\n",
    "1 is the corsponding value.\n",
    "\n",
    "Charteristic of dictionary: \n",
    "* elements are order and it cannot be changed.\n",
    "* elements cannot be access by index.\n",
    "* it can be stored various types of elements.\n",
    "* dictionaries are mutable.\n",
    "* it does not allow duplicate elements with the same key.\n",
    "\n",
    "List of methods for dictionaries:\n",
    "dict1.clear()\n",
    "dict1.get(keyname)\n",
    "dict1.keys()\n",
    "dict1.pop(keyname)\n",
    "dict1.popitem()\n",
    "len(dictionariesname)\n",
    "dict1.copy()"
   ]
  },
  {
   "attachments": {},
   "cell_type": "markdown",
   "metadata": {},
   "source": [
    "\"a\" is the key.\n",
    "1 is the corresponding value of \"a\"."
   ]
  },
  {
   "cell_type": "code",
   "execution_count": null,
   "metadata": {},
   "outputs": [
    {
     "data": {
      "text/plain": [
       "dict"
      ]
     },
     "execution_count": 23,
     "metadata": {},
     "output_type": "execute_result"
    }
   ],
   "source": [
    "#dictionary  a key-value pair\n",
    "d_sample = {\"a\":1 , \"b\":2}\n",
    "type(d_sample)"
   ]
  },
  {
   "attachments": {},
   "cell_type": "markdown",
   "metadata": {},
   "source": [
    "List Comprehension is shorter way to write code."
   ]
  },
  {
   "cell_type": "code",
   "execution_count": 69,
   "metadata": {},
   "outputs": [
    {
     "ename": "NameError",
     "evalue": "name 'people' is not defined",
     "output_type": "error",
     "traceback": [
      "\u001b[1;31m---------------------------------------------------------------------------\u001b[0m",
      "\u001b[1;31mNameError\u001b[0m                                 Traceback (most recent call last)",
      "Cell \u001b[1;32mIn[69], line 2\u001b[0m\n\u001b[0;32m      1\u001b[0m \u001b[39m#Python comprehension for dictionary\u001b[39;00m\n\u001b[1;32m----> 2\u001b[0m d_people \u001b[39m=\u001b[39m{k:\u001b[39mlen\u001b[39m(k) \u001b[39mfor\u001b[39;00m k \u001b[39min\u001b[39;00m people}\n",
      "\u001b[1;31mNameError\u001b[0m: name 'people' is not defined"
     ]
    }
   ],
   "source": [
    "#Python comprehension for dictionary\n",
    "d_people ={k:len(k) for k in people}"
   ]
  },
  {
   "attachments": {},
   "cell_type": "markdown",
   "metadata": {},
   "source": [
    "Creating dictionaries contain keys and its corresponding values. "
   ]
  },
  {
   "cell_type": "code",
   "execution_count": null,
   "metadata": {},
   "outputs": [],
   "source": [
    "A_student = {\"name\": \"Dolly Siharath\", \"age\": \"18\", \"courses\": [\"Math\", \"CompSci\"] }\n",
    "print(A_student)\n",
    "print(A_student[\"courses\"])\n",
    "print(A_student.keys()) # print key values only.\n",
    "print(A_student.values()) # print values only."
   ]
  },
  {
   "attachments": {},
   "cell_type": "markdown",
   "metadata": {},
   "source": [
    "Using get method to access value in the key.\n",
    "If the key does not exist, than print \"not found\"."
   ]
  },
  {
   "cell_type": "code",
   "execution_count": null,
   "metadata": {},
   "outputs": [],
   "source": [
    "A_student = {\"name\": \"Dolly Siharath\", \"age\": \"18\", \"courses\": [\"Math\", \"CompSci\"] }\n",
    "print(A_student.get(\"name\", \" not found\"))\n",
    "print(A_student.get(\"name01\", \" not found\"))"
   ]
  },
  {
   "attachments": {},
   "cell_type": "markdown",
   "metadata": {},
   "source": [
    "Adding telephone number to the dictionaries."
   ]
  },
  {
   "cell_type": "code",
   "execution_count": 80,
   "metadata": {},
   "outputs": [
    {
     "name": "stdout",
     "output_type": "stream",
     "text": [
      "469-555-1212\n"
     ]
    }
   ],
   "source": [
    "A_student = {\"name\": \"Dolly Siharath\", \"age\": \"18\", \"courses\": [\"Math\", \"CompSci\"] }\n",
    "A_student[\"phone\"] = \"469-555-1212\"\n",
    "print(A_student.get(\"phone\", \" not found\"))"
   ]
  },
  {
   "cell_type": "code",
   "execution_count": 81,
   "metadata": {},
   "outputs": [
    {
     "ename": "NameError",
     "evalue": "name 'd_people' is not defined",
     "output_type": "error",
     "traceback": [
      "\u001b[1;31m---------------------------------------------------------------------------\u001b[0m",
      "\u001b[1;31mNameError\u001b[0m                                 Traceback (most recent call last)",
      "Cell \u001b[1;32mIn[81], line 1\u001b[0m\n\u001b[1;32m----> 1\u001b[0m d_people\n",
      "\u001b[1;31mNameError\u001b[0m: name 'd_people' is not defined"
     ]
    }
   ],
   "source": [
    "d_people"
   ]
  },
  {
   "attachments": {},
   "cell_type": "markdown",
   "metadata": {},
   "source": [
    "Define dictionaries - keys"
   ]
  },
  {
   "cell_type": "code",
   "execution_count": null,
   "metadata": {},
   "outputs": [
    {
     "data": {
      "text/plain": [
       "dict_keys(['Temi', 'Darian', 'Andrew', 'Brandon', 'Jaquellous', 'Brian', 'Rebecca'])"
      ]
     },
     "execution_count": 26,
     "metadata": {},
     "output_type": "execute_result"
    }
   ],
   "source": [
    "#dictionary built-in attributes\n",
    "d_people.keys()"
   ]
  },
  {
   "cell_type": "code",
   "execution_count": null,
   "metadata": {},
   "outputs": [
    {
     "data": {
      "text/plain": [
       "dict_keys"
      ]
     },
     "execution_count": 28,
     "metadata": {},
     "output_type": "execute_result"
    }
   ],
   "source": [
    "#dictionary built-in attributes\n",
    "type(d_people.keys())"
   ]
  },
  {
   "cell_type": "code",
   "execution_count": null,
   "metadata": {},
   "outputs": [
    {
     "data": {
      "text/plain": [
       "['Temi',\n",
       " 'Darian',\n",
       " 'Andrew',\n",
       " 'Brandon',\n",
       " 'Jaquellous',\n",
       " 'Brian',\n",
       " 'Rebecca',\n",
       " 'Jason']"
      ]
     },
     "execution_count": 63,
     "metadata": {},
     "output_type": "execute_result"
    }
   ],
   "source": [
    "# list comprehension from dictionary\n",
    "[d for d in d_people.keys()]"
   ]
  },
  {
   "cell_type": "code",
   "execution_count": null,
   "metadata": {},
   "outputs": [
    {
     "data": {
      "text/plain": [
       "list"
      ]
     },
     "execution_count": 29,
     "metadata": {},
     "output_type": "execute_result"
    }
   ],
   "source": [
    "type([d for d in d_people.keys()])"
   ]
  },
  {
   "cell_type": "code",
   "execution_count": null,
   "metadata": {},
   "outputs": [
    {
     "data": {
      "text/plain": [
       "dict_values([4, 6, 6, 7, 10, 5, 7])"
      ]
     },
     "execution_count": 30,
     "metadata": {},
     "output_type": "execute_result"
    }
   ],
   "source": [
    "d_people.values()"
   ]
  },
  {
   "cell_type": "code",
   "execution_count": null,
   "metadata": {},
   "outputs": [
    {
     "data": {
      "text/plain": [
       "[4, 6, 6, 7, 10, 5, 7]"
      ]
     },
     "execution_count": 31,
     "metadata": {},
     "output_type": "execute_result"
    }
   ],
   "source": [
    "# list comprehension from dictionary\n",
    "[v for v in d_people.values()]"
   ]
  },
  {
   "cell_type": "code",
   "execution_count": null,
   "metadata": {},
   "outputs": [
    {
     "data": {
      "text/plain": [
       "{'Temi': 4,\n",
       " 'Darian': 6,\n",
       " 'Andrew': 6,\n",
       " 'Brandon': 7,\n",
       " 'Jaquellous': 10,\n",
       " 'Brian': 5,\n",
       " 'Rebecca': 7,\n",
       " 'Jason': 9}"
      ]
     },
     "execution_count": 49,
     "metadata": {},
     "output_type": "execute_result"
    }
   ],
   "source": [
    "# subscriptable/indexed assignment for update/insert\n",
    "d_people[\"Jason\"] = 9\n",
    "d_people"
   ]
  },
  {
   "attachments": {},
   "cell_type": "markdown",
   "metadata": {},
   "source": [
    "Adding new key and value to the dictionaris."
   ]
  },
  {
   "cell_type": "code",
   "execution_count": null,
   "metadata": {},
   "outputs": [
    {
     "data": {
      "text/plain": [
       "{'Temi': 4,\n",
       " 'Darian': 6,\n",
       " 'Andrew': 6,\n",
       " 'Brandon': 7,\n",
       " 'Jaquellous': 10,\n",
       " 'Brian': 5,\n",
       " 'Rebecca': 7,\n",
       " 'Jason': 9,\n",
       " 'newKid': 9}"
      ]
     },
     "execution_count": 64,
     "metadata": {},
     "output_type": "execute_result"
    }
   ],
   "source": [
    "d_people[\"newKid\"] = 9\n",
    "d_people"
   ]
  },
  {
   "attachments": {},
   "cell_type": "markdown",
   "metadata": {},
   "source": [
    "Using functions()"
   ]
  },
  {
   "cell_type": "code",
   "execution_count": null,
   "metadata": {},
   "outputs": [],
   "source": [
    "#sample function\n",
    "def count_char(name):\n",
    "    '''counts number of characters in input'''\n",
    "    return len(name)"
   ]
  },
  {
   "cell_type": "code",
   "execution_count": null,
   "metadata": {},
   "outputs": [
    {
     "ename": "NameError",
     "evalue": "name 'name' is not defined",
     "output_type": "error",
     "traceback": [
      "\u001b[1;31m---------------------------------------------------------------------------\u001b[0m",
      "\u001b[1;31mNameError\u001b[0m                                 Traceback (most recent call last)",
      "\u001b[1;32m~\\AppData\\Local\\Temp/ipykernel_91712/3474671970.py\u001b[0m in \u001b[0;36m<module>\u001b[1;34m\u001b[0m\n\u001b[1;32m----> 1\u001b[1;33m \u001b[0mname\u001b[0m\u001b[1;33m\u001b[0m\u001b[1;33m\u001b[0m\u001b[0m\n\u001b[0m",
      "\u001b[1;31mNameError\u001b[0m: name 'name' is not defined"
     ]
    }
   ],
   "source": [
    "# example of trying to use glocal variable as global\n",
    "name"
   ]
  },
  {
   "cell_type": "code",
   "execution_count": null,
   "metadata": {},
   "outputs": [
    {
     "name": "stdout",
     "output_type": "stream",
     "text": [
      "\u001b[1;31mSignature:\u001b[0m \u001b[0mcount_char\u001b[0m\u001b[1;33m(\u001b[0m\u001b[0mname\u001b[0m\u001b[1;33m)\u001b[0m\u001b[1;33m\u001b[0m\u001b[1;33m\u001b[0m\u001b[0m\n",
      "\u001b[1;31mDocstring:\u001b[0m counts number of characters in input\n",
      "\u001b[1;31mFile:\u001b[0m      c:\\users\\andre\\appdata\\local\\temp\\ipykernel_91712\\3769221190.py\n",
      "\u001b[1;31mType:\u001b[0m      function\n"
     ]
    }
   ],
   "source": [
    "count_char?"
   ]
  },
  {
   "cell_type": "code",
   "execution_count": null,
   "metadata": {},
   "outputs": [
    {
     "data": {
      "text/plain": [
       "6"
      ]
     },
     "execution_count": 35,
     "metadata": {},
     "output_type": "execute_result"
    }
   ],
   "source": [
    "count_char('Python')\n",
    "\n",
    "# name = 'Python'"
   ]
  },
  {
   "cell_type": "code",
   "execution_count": null,
   "metadata": {},
   "outputs": [
    {
     "data": {
      "text/plain": [
       "26"
      ]
     },
     "execution_count": 36,
     "metadata": {},
     "output_type": "execute_result"
    }
   ],
   "source": [
    "int_strlen = count_char(\"how long is this sentence?\")\n",
    "int_strlen"
   ]
  },
  {
   "cell_type": "code",
   "execution_count": null,
   "metadata": {},
   "outputs": [
    {
     "data": {
      "text/plain": [
       "6"
      ]
     },
     "execution_count": 40,
     "metadata": {},
     "output_type": "execute_result"
    }
   ],
   "source": [
    "count_char('Python')"
   ]
  },
  {
   "cell_type": "code",
   "execution_count": null,
   "metadata": {},
   "outputs": [],
   "source": [
    "# function with conditional code block\n",
    "def fun_longerword(word1,word2):\n",
    "    '''compares length of words and shows longer one'''\n",
    "    len_w1 = len(word1)\n",
    "    len_w2 = len(word2)\n",
    "    if len_w1 < len_w2:\n",
    "        print(\"{} is longer\".format(word2))\n",
    "    else:\n",
    "        print(\"{} is longer\".format(word1))\n"
   ]
  },
  {
   "cell_type": "code",
   "execution_count": null,
   "metadata": {},
   "outputs": [
    {
     "name": "stdout",
     "output_type": "stream",
     "text": [
      "bacon is longer\n"
     ]
    }
   ],
   "source": [
    "fun_longerword(word2=\"eggs\",word1=\"bacon\")"
   ]
  },
  {
   "cell_type": "code",
   "execution_count": null,
   "metadata": {},
   "outputs": [],
   "source": [
    "# **kwargs\n",
    "# pointer\n",
    "d_param = {\"name\":\"Python\"}"
   ]
  },
  {
   "cell_type": "code",
   "execution_count": null,
   "metadata": {},
   "outputs": [
    {
     "data": {
      "text/plain": [
       "dict"
      ]
     },
     "execution_count": 47,
     "metadata": {},
     "output_type": "execute_result"
    }
   ],
   "source": [
    "type(d_param)"
   ]
  },
  {
   "cell_type": "code",
   "execution_count": null,
   "metadata": {},
   "outputs": [
    {
     "data": {
      "text/plain": [
       "6"
      ]
     },
     "execution_count": 48,
     "metadata": {},
     "output_type": "execute_result"
    }
   ],
   "source": [
    "count_char(**d_param)\n",
    "#count_char(name='Python')"
   ]
  },
  {
   "cell_type": "code",
   "execution_count": null,
   "metadata": {},
   "outputs": [
    {
     "name": "stdout",
     "output_type": "stream",
     "text": [
      "hello Laura\n"
     ]
    }
   ],
   "source": [
    "print(\"hello \"+kid)"
   ]
  },
  {
   "cell_type": "code",
   "execution_count": null,
   "metadata": {},
   "outputs": [
    {
     "name": "stdout",
     "output_type": "stream",
     "text": [
      "Hello ['Jim', 'Janet', 'Joe', 'Andrew']\n"
     ]
    }
   ],
   "source": [
    "print(f\"Hello {siblings}\")"
   ]
  },
  {
   "cell_type": "code",
   "execution_count": null,
   "metadata": {},
   "outputs": [
    {
     "name": "stdout",
     "output_type": "stream",
     "text": [
      "Hello Jim Andrew Joe\n"
     ]
    }
   ],
   "source": [
    "print(\"Hello {0} {3} {2}\".format(*siblings))"
   ]
  },
  {
   "cell_type": "markdown",
   "metadata": {},
   "source": []
  },
  {
   "cell_type": "code",
   "execution_count": null,
   "metadata": {},
   "outputs": [],
   "source": [
    "def count_char2(name):\n",
    "    return name, len(name)"
   ]
  },
  {
   "cell_type": "code",
   "execution_count": null,
   "metadata": {},
   "outputs": [
    {
     "data": {
      "text/plain": [
       "'Python'"
      ]
     },
     "execution_count": 3,
     "metadata": {},
     "output_type": "execute_result"
    }
   ],
   "source": [
    "a = count_char2(**d_param)\n",
    "a[0]"
   ]
  },
  {
   "cell_type": "code",
   "execution_count": null,
   "metadata": {},
   "outputs": [
    {
     "data": {
      "text/plain": [
       "tuple"
      ]
     },
     "execution_count": 4,
     "metadata": {},
     "output_type": "execute_result"
    }
   ],
   "source": [
    "type(a)"
   ]
  },
  {
   "cell_type": "code",
   "execution_count": null,
   "metadata": {},
   "outputs": [
    {
     "data": {
      "text/plain": [
       "tuple"
      ]
     },
     "execution_count": 58,
     "metadata": {},
     "output_type": "execute_result"
    }
   ],
   "source": [
    "var_out = count_char2(**d_param)\n",
    "type(var_out)"
   ]
  },
  {
   "cell_type": "code",
   "execution_count": null,
   "metadata": {},
   "outputs": [
    {
     "data": {
      "text/plain": [
       "('Python', 6)"
      ]
     },
     "execution_count": 59,
     "metadata": {},
     "output_type": "execute_result"
    }
   ],
   "source": [
    "var_out"
   ]
  },
  {
   "cell_type": "code",
   "execution_count": null,
   "metadata": {},
   "outputs": [
    {
     "data": {
      "text/plain": [
       "6"
      ]
     },
     "execution_count": 61,
     "metadata": {},
     "output_type": "execute_result"
    }
   ],
   "source": [
    "var_out[1]"
   ]
  },
  {
   "cell_type": "code",
   "execution_count": null,
   "metadata": {},
   "outputs": [
    {
     "name": "stdout",
     "output_type": "stream",
     "text": [
      "Python\n",
      "6\n"
     ]
    }
   ],
   "source": [
    "nm, num = count_char2(**d_param)\n",
    "print(nm)\n",
    "print(num)"
   ]
  },
  {
   "attachments": {},
   "cell_type": "markdown",
   "metadata": {},
   "source": [
    "How to use function().\n",
    "def = define function.\n",
    "greeting = function name.\n",
    "Everytime the function is called, it runs or performs everying inside the body the function.\n",
    "\n",
    "Next step to to call function and pass name \"Drew\" to teh argument(name).\n",
    "\n",
    "greeting(\"Drew\")\n"
   ]
  },
  {
   "cell_type": "code",
   "execution_count": 2,
   "metadata": {},
   "outputs": [
    {
     "name": "stdout",
     "output_type": "stream",
     "text": [
      "Hello Drew\n",
      "How are you doing today?\n"
     ]
    }
   ],
   "source": [
    "def greeting(name):\n",
    "    print(\"Hello\", name)\n",
    "    print(\"How are you doing today?\")\n",
    "    \n",
    "greeting(\"Drew\")    "
   ]
  },
  {
   "attachments": {},
   "cell_type": "markdown",
   "metadata": {},
   "source": [
    "How to pass 2 arguments in the function."
   ]
  },
  {
   "cell_type": "code",
   "execution_count": 11,
   "metadata": {},
   "outputs": [
    {
     "name": "stdout",
     "output_type": "stream",
     "text": [
      "the sum is =  150\n"
     ]
    }
   ],
   "source": [
    "def add_numbers(n1, n2):\n",
    "   x = n1 + n2\n",
    "   return x  # return the results of X to the called function.\n",
    "\n",
    "\n",
    "number01 = 50\n",
    "number02 = 100\n",
    "results = add_numbers(number01, number02) # assigned the results of X to a variable.\n",
    "print(\"the sum is = \", results)\n"
   ]
  },
  {
   "cell_type": "code",
   "execution_count": 33,
   "metadata": {},
   "outputs": [
    {
     "data": {
      "text/plain": [
       "'HelloWorld'"
      ]
     },
     "execution_count": 33,
     "metadata": {},
     "output_type": "execute_result"
    }
   ],
   "source": [
    "add_numbers(\"Hello\",\"World\")"
   ]
  },
  {
   "cell_type": "code",
   "execution_count": 15,
   "metadata": {},
   "outputs": [
    {
     "name": "stdout",
     "output_type": "stream",
     "text": [
      "150\n"
     ]
    }
   ],
   "source": [
    "# another example of def.\n",
    "def add(n1, n2):\n",
    "    return(n1 + n2)\n",
    "    \n",
    "\n",
    "sum = add(50, 100)\n",
    "print(sum)"
   ]
  },
  {
   "attachments": {},
   "cell_type": "markdown",
   "metadata": {},
   "source": [
    "Key Word Argument - **kwargs\n",
    "** will collect the entire address."
   ]
  },
  {
   "cell_type": "code",
   "execution_count": null,
   "metadata": {},
   "outputs": [],
   "source": [
    "def my_info(my_name, **address):\n",
    "    print(my_name)\n",
    "    # print(address)\n",
    "    for i, items in address.items():\n",
    "        print(i, items )\n",
    "    \n",
    "    \n",
    "my_info(\"Dolly Siharath\", age=21, city=\"Irving\", state=\"TX\", Zip=75038 ) "
   ]
  },
  {
   "attachments": {},
   "cell_type": "markdown",
   "metadata": {},
   "source": [
    "Another Example of using args.\n",
    "*args is used to collect arugents that are passing in. \n",
    "key=None will not collect key value pairs.\n",
    "    exaple: key=123"
   ]
  },
  {
   "cell_type": "code",
   "execution_count": 45,
   "metadata": {},
   "outputs": [
    {
     "name": "stdout",
     "output_type": "stream",
     "text": [
      "My grocery list  ('fruits,', 'cat food', 'eggs', 'milk')\n"
     ]
    }
   ],
   "source": [
    "def Grocery(*args, key=None): ## the order of the args is important.\n",
    "    print(\"My grocery list \", args)\n",
    "\n",
    "\n",
    "Grocery(\"fruits,\", \"cat food\", \"eggs\", \"milk\", key=444)\n"
   ]
  },
  {
   "attachments": {},
   "cell_type": "markdown",
   "metadata": {},
   "source": [
    "How to use **kwargs to collect multiple key-word arguments in pair.\n",
    "       cash=300, key=113"
   ]
  },
  {
   "cell_type": "code",
   "execution_count": 43,
   "metadata": {},
   "outputs": [
    {
     "name": "stdout",
     "output_type": "stream",
     "text": [
      "My grocery list  ('dog food', 'cat food') {'cash': 300, 'key': 113}\n"
     ]
    }
   ],
   "source": [
    "def Grocery(*args, **kwargs ): \n",
    "    print(\"My grocery list \", args, kwargs)\n",
    "\n",
    "\n",
    "Grocery(\"dog food\",\"cat food\", cash=300, key=113 )"
   ]
  }
 ],
 "metadata": {
  "interpreter": {
   "hash": "c4f92193806e2908606a5f23edd55a5282f2f433b73b1c504507f9256ed9f0b4"
  },
  "kernelspec": {
   "display_name": "Python 3.8.5 ('base')",
   "language": "python",
   "name": "python3"
  },
  "language_info": {
   "codemirror_mode": {
    "name": "ipython",
    "version": 3
   },
   "file_extension": ".py",
   "mimetype": "text/x-python",
   "name": "python",
   "nbconvert_exporter": "python",
   "pygments_lexer": "ipython3",
   "version": "3.11.2"
  },
  "orig_nbformat": 4
 },
 "nbformat": 4,
 "nbformat_minor": 2
}
