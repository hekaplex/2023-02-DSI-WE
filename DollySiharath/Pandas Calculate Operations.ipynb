{
 "cells": [
  {
   "attachments": {},
   "cell_type": "markdown",
   "metadata": {},
   "source": [
    "Importing file"
   ]
  },
  {
   "attachments": {},
   "cell_type": "markdown",
   "metadata": {},
   "source": [
    "### Open file for reading and writing."
   ]
  },
  {
   "attachments": {},
   "cell_type": "markdown",
   "metadata": {},
   "source": [
    "### Reading CSV locally"
   ]
  },
  {
   "attachments": {},
   "cell_type": "markdown",
   "metadata": {},
   "source": [
    "### Creating dataframe from dictionaries"
   ]
  },
  {
   "attachments": {},
   "cell_type": "markdown",
   "metadata": {},
   "source": [
    "## Options working with dataframe\n",
    "#df.tail(2)\n",
    "#df.shape  # print rows and columns in tuple.\n",
    "#rows, columns = df.shape\n",
    "#df[2:5]  # print row 2 - 4.\n",
    "#df.columns # will print all the column names.\n",
    "#df.DATE # will print the entire column but it will not print the column name. \n",
    "#df[[\"DATE\", \"FUEL_COST_PER_GAL\" ]]  # print multliple columns."
   ]
  },
  {
   "cell_type": "code",
   "execution_count": 28,
   "metadata": {},
   "outputs": [
    {
     "data": {
      "text/plain": [
       "(5, 7)"
      ]
     },
     "execution_count": 28,
     "metadata": {},
     "output_type": "execute_result"
    }
   ],
   "source": [
    "\n",
    "\n",
    "import pandas as pd\n",
    "Milage_Tracker = {\n",
    "\"DATE\": [ \"1/1/2023\",\"1/2/2023\",\"1/3/2023\",\"1/4/2023\",\"1/5/2023\" ], \n",
    "\"FUEL_COST_PER_GAL\": [3.00, 3.00, 3.00, 3.00, 3.00 ],\n",
    "\"TRIP_METTERS\": [200,220,250,300,315 ],\n",
    "\"MILES_TRAVELED\": [20,30,50,50,15 ],\n",
    "\"GALLONS_USED\": [1.33, 2, 3.33, 3.33, 1 ],\n",
    "\"FUEL_COST\": [3.99,6.00, 9.99, 9.99,3.00 ],\n",
    "\"CO_PAYS_PER_MILE\": [ .33, .33, .33, .33, .33  ]  \n",
    "}\n",
    "\n",
    "df = pd.DataFrame(Milage_Tracker)\n",
    "df.head(2) # print the first two rows\n",
    "\n"
   ]
  },
  {
   "cell_type": "code",
   "execution_count": 7,
   "metadata": {},
   "outputs": [],
   "source": [
    "import os"
   ]
  }
 ],
 "metadata": {
  "kernelspec": {
   "display_name": "Python 3",
   "language": "python",
   "name": "python3"
  },
  "language_info": {
   "codemirror_mode": {
    "name": "ipython",
    "version": 3
   },
   "file_extension": ".py",
   "mimetype": "text/x-python",
   "name": "python",
   "nbconvert_exporter": "python",
   "pygments_lexer": "ipython3",
   "version": "3.11.2"
  },
  "orig_nbformat": 4
 },
 "nbformat": 4,
 "nbformat_minor": 2
}
