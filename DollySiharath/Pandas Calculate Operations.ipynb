{
 "cells": [
  {
   "attachments": {},
   "cell_type": "markdown",
   "metadata": {},
   "source": [
    "### How to transpone the column to rows \n",
    "New_Sales_Goal = df.T  # Transpose = transfer columns to rows."
   ]
  },
  {
   "cell_type": "code",
   "execution_count": null,
   "metadata": {},
   "outputs": [],
   "source": [
    "import pandas as pd"
   ]
  },
  {
   "cell_type": "code",
   "execution_count": 28,
   "metadata": {},
   "outputs": [
    {
     "name": "stdout",
     "output_type": "stream",
     "text": [
      "       Year_2023  Earning      Year_2024   Goal\n",
      "0  January, 2023     1000  January, 2024   4000\n",
      "1  Febuary, 2023     1500  Febuary, 2024   5000\n",
      "2    March, 2023     1000    March, 2024   6000\n",
      "3    April, 2023     1200    April, 2024   7000\n",
      "4      May, 2023     1500      May, 2024   8000\n",
      "5     June, 2023     1300     June, 2024   9000\n",
      "6     July, 2023     2000     July, 2024  10000\n",
      "\n",
      "           Earning          Goal\n",
      "count     7.000000      7.000000\n",
      "mean   1357.142857   7000.000000\n",
      "std     350.509833   2160.246899\n",
      "min    1000.000000   4000.000000\n",
      "25%    1100.000000   5500.000000\n",
      "50%    1300.000000   7000.000000\n",
      "75%    1500.000000   8500.000000\n",
      "max    2000.000000  10000.000000\n",
      "Avg_Value  1357.142857142857\n",
      "Max_Value  2000\n",
      "Mini  1000\n",
      "Total  9500\n"
     ]
    }
   ],
   "source": [
    "\n",
    "# Creating table from dictionaries. \n",
    "# The keys will be the name of the name of the columns.\n",
    "# The values are from the list [].\n",
    "\n",
    "\n",
    "import pandas as pd\n",
    "\n",
    "ABC_Sales_Goal = {\n",
    "\"Year_2023\": [\"January, 2023\", \"Febuary, 2023\", \"March, 2023\", \"April, 2023\", \"May, 2023\", \"June, 2023\", \"July, 2023\" ],\n",
    "\"Earning\": [1000, 1500, 1000, 1200, 1500, 1300, 2000, ],\n",
    "\"Year_2024\": [\"January, 2024\", \"Febuary, 2024\", \"March, 2024\", \"April, 2024\", \"May, 2024\", \"June, 2024\", \"July, 2024\" ],  \n",
    "\"Goal\": [4000, 5000, 6000, 7000, 8000, 9000, 10000 ]\n",
    "}\n",
    "\n",
    "df = pd.DataFrame(ABC_Sales_Goal)\n",
    "df\n",
    "#New_Sales_Goal = df.T  # Transpose = transfer columns to rows.\n",
    "print(df )\n",
    "print ()\n",
    "#print(New_Sales_Goal)\n",
    "Quick_View = df.describe()\n",
    "M1= df[\"Earning\"].mean()\n",
    "M2= df[\"Earning\"].max()\n",
    "M3= df[\"Earning\"].min()\n",
    "M4= df[\"Earning\"].sum()\n",
    "\n",
    "print(Quick_View)\n",
    "print()\n",
    "print(\"Avg_Value \", M1)\n",
    "print(\"Max_Value \", M2)\n",
    "print(\"Mini \", M3)\n",
    "print(\"Total \", M4)\n",
    "\n"
   ]
  }
 ],
 "metadata": {
  "kernelspec": {
   "display_name": "Python 3",
   "language": "python",
   "name": "python3"
  },
  "language_info": {
   "codemirror_mode": {
    "name": "ipython",
    "version": 3
   },
   "file_extension": ".py",
   "mimetype": "text/x-python",
   "name": "python",
   "nbconvert_exporter": "python",
   "pygments_lexer": "ipython3",
   "version": "3.11.2"
  },
  "orig_nbformat": 4
 },
 "nbformat": 4,
 "nbformat_minor": 2
}
