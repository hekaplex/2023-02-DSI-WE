{
 "cells": [
  {
   "attachments": {},
   "cell_type": "markdown",
   "metadata": {},
   "source": [
    "## What is dataframe?\n",
    "It is the main object of Pandas. It is used to represent rows and columns like Excel spreadsheets. "
   ]
  },
  {
   "attachments": {},
   "cell_type": "markdown",
   "metadata": {},
   "source": [
    "How to create dataframe using dictionairs.\n",
    "The keys are the columns.\n",
    "The values are the rows.\n",
    "\n",
    "This project is to keep track of milage driving for work daily. \n",
    "The car MPG ( mile per gallon) is 15 miles per/gallon.\n",
    "The company pays .33 per mile on traveling for work."
   ]
  },
  {
   "cell_type": "code",
   "execution_count": 44,
   "metadata": {},
   "outputs": [
    {
     "name": "stdout",
     "output_type": "stream",
     "text": [
      "[['DATE', 4], ['FUEL_COST_PER_GAL', 17], ['TRIP_METTERS', 12], ['MILES_TRAVELED', 14], ['GALLONS_USED', 12], ['FUEL_COST', 9], ['CO_PAYS_PER_MILE', 16]]\n"
     ]
    }
   ],
   "source": [
    "# Step:1\n",
    "# Create a dictionaries.\n",
    "# The keys will be the column names.\n",
    "Milage_Tracker = {\n",
    "\"DATE\": [ \"1/1/2023\",\"1/2/2023\",\"1/3/2023\",\"1/4/2023\",\"1/5/2023\" ], \n",
    "\"FUEL_COST_PER_GAL\": [3.00, 3.00, 3.00, 3.00, 3.00 ],\n",
    "\"TRIP_METTERS\": [200,220,250,300,315 ],\n",
    "\"MILES_TRAVELED\": [20,30,50,50,15 ],\n",
    "\"GALLONS_USED\": [1.33, 2, 3.33, 3.33, 1 ],\n",
    "\"FUEL_COST\": [3.99,6.00, 9.99, 9.99,3.00 ],\n",
    "\"CO_PAYS_PER_MILE\": [ .33, .33, .33, .33, .33  ]  \n",
    "}\n",
    "\n",
    "# Step:2\n",
    "Char_length = [[c, len(c)]  for c in Milage_Tracker]\n",
    "print(Char_length)\n"
   ]
  },
  {
   "cell_type": "code",
   "execution_count": null,
   "metadata": {},
   "outputs": [],
   "source": [
    "!pip install pandas"
   ]
  },
  {
   "cell_type": "code",
   "execution_count": 42,
   "metadata": {},
   "outputs": [],
   "source": [
    "import pandas as pd"
   ]
  },
  {
   "cell_type": "code",
   "execution_count": 45,
   "metadata": {},
   "outputs": [
    {
     "name": "stdout",
     "output_type": "stream",
     "text": [
      "                   0   1\n",
      "0               DATE   4\n",
      "1  FUEL_COST_PER_GAL  17\n",
      "2       TRIP_METTERS  12\n",
      "3     MILES_TRAVELED  14\n",
      "4       GALLONS_USED  12\n",
      "5          FUEL_COST   9\n",
      "6   CO_PAYS_PER_MILE  16\n"
     ]
    }
   ],
   "source": [
    "#Step 3\n",
    "# Assign Char_length to dataframe to create the columns.\n",
    "df = pd.DataFrame(Char_length)\n",
    "print(df)\n"
   ]
  },
  {
   "cell_type": "code",
   "execution_count": 6,
   "metadata": {},
   "outputs": [
    {
     "data": {
      "text/html": [
       "<div>\n",
       "<style scoped>\n",
       "    .dataframe tbody tr th:only-of-type {\n",
       "        vertical-align: middle;\n",
       "    }\n",
       "\n",
       "    .dataframe tbody tr th {\n",
       "        vertical-align: top;\n",
       "    }\n",
       "\n",
       "    .dataframe thead th {\n",
       "        text-align: right;\n",
       "    }\n",
       "</style>\n",
       "<table border=\"1\" class=\"dataframe\">\n",
       "  <thead>\n",
       "    <tr style=\"text-align: right;\">\n",
       "      <th></th>\n",
       "      <th>DATE</th>\n",
       "      <th>FUEL_COST_PER_GAL</th>\n",
       "      <th>TRIP_METTERS</th>\n",
       "      <th>MILES_TRAVELED</th>\n",
       "      <th>GALLONS_USED</th>\n",
       "      <th>FUEL_COST</th>\n",
       "      <th>CO_PAYS_PER_MILE</th>\n",
       "    </tr>\n",
       "  </thead>\n",
       "  <tbody>\n",
       "    <tr>\n",
       "      <th>0</th>\n",
       "      <td>1/1/2023</td>\n",
       "      <td>3.0</td>\n",
       "      <td>200</td>\n",
       "      <td>20</td>\n",
       "      <td>1.33</td>\n",
       "      <td>3.99</td>\n",
       "      <td>0.33</td>\n",
       "    </tr>\n",
       "    <tr>\n",
       "      <th>1</th>\n",
       "      <td>1/2/2023</td>\n",
       "      <td>3.0</td>\n",
       "      <td>220</td>\n",
       "      <td>30</td>\n",
       "      <td>2.00</td>\n",
       "      <td>6.00</td>\n",
       "      <td>0.33</td>\n",
       "    </tr>\n",
       "    <tr>\n",
       "      <th>2</th>\n",
       "      <td>1/3/2023</td>\n",
       "      <td>3.0</td>\n",
       "      <td>250</td>\n",
       "      <td>50</td>\n",
       "      <td>3.33</td>\n",
       "      <td>9.99</td>\n",
       "      <td>0.33</td>\n",
       "    </tr>\n",
       "    <tr>\n",
       "      <th>3</th>\n",
       "      <td>1/4/2023</td>\n",
       "      <td>3.0</td>\n",
       "      <td>300</td>\n",
       "      <td>50</td>\n",
       "      <td>3.33</td>\n",
       "      <td>9.99</td>\n",
       "      <td>0.33</td>\n",
       "    </tr>\n",
       "    <tr>\n",
       "      <th>4</th>\n",
       "      <td>1/5/2023</td>\n",
       "      <td>3.0</td>\n",
       "      <td>315</td>\n",
       "      <td>15</td>\n",
       "      <td>1.00</td>\n",
       "      <td>3.00</td>\n",
       "      <td>0.33</td>\n",
       "    </tr>\n",
       "  </tbody>\n",
       "</table>\n",
       "</div>"
      ],
      "text/plain": [
       "       DATE  FUEL_COST_PER_GAL  TRIP_METTERS  MILES_TRAVELED  GALLONS_USED  \\\n",
       "0  1/1/2023                3.0           200              20          1.33   \n",
       "1  1/2/2023                3.0           220              30          2.00   \n",
       "2  1/3/2023                3.0           250              50          3.33   \n",
       "3  1/4/2023                3.0           300              50          3.33   \n",
       "4  1/5/2023                3.0           315              15          1.00   \n",
       "\n",
       "   FUEL_COST  CO_PAYS_PER_MILE  \n",
       "0       3.99              0.33  \n",
       "1       6.00              0.33  \n",
       "2       9.99              0.33  \n",
       "3       9.99              0.33  \n",
       "4       3.00              0.33  "
      ]
     },
     "execution_count": 6,
     "metadata": {},
     "output_type": "execute_result"
    }
   ],
   "source": [
    "Milage_Tracker = {\n",
    "\"DATE\": [ \"1/1/2023\",\"1/2/2023\",\"1/3/2023\",\"1/4/2023\",\"1/5/2023\" ], \n",
    "\"FUEL_COST_PER_GAL\": [3.00, 3.00, 3.00, 3.00, 3.00 ],\n",
    "\"TRIP_METTERS\": [200,220,250,300,315 ],\n",
    "\"MILES_TRAVELED\": [20,30,50,50,15 ],\n",
    "\"GALLONS_USED\": [1.33, 2, 3.33, 3.33, 1 ],\n",
    "\"FUEL_COST\": [3.99,6.00, 9.99, 9.99,3.00 ],\n",
    "\"CO_PAYS_PER_MILE\": [ .33, .33, .33, .33, .33  ]  \n",
    "}\n",
    "import pandas as pd\n",
    "df=pd.DataFrame(Milage_Tracker )\n",
    "df"
   ]
  },
  {
   "attachments": {},
   "cell_type": "markdown",
   "metadata": {},
   "source": [
    "## Below are coding from the class lessons."
   ]
  },
  {
   "cell_type": "markdown",
   "metadata": {},
   "source": [
    "# Pandas Basics"
   ]
  },
  {
   "cell_type": "code",
   "execution_count": null,
   "metadata": {},
   "outputs": [
    {
     "data": {
      "text/plain": [
       "[['Andrew', 6], ['Laura', 5], ['Joe', 3]]"
      ]
     },
     "execution_count": 5,
     "metadata": {},
     "output_type": "execute_result"
    }
   ],
   "source": [
    "children = [\"Andrew\",\"Laura\",\"Joe\"]\n",
    "lol_children = [[c, len(c)]  for c in children]\n",
    "lol_children"
   ]
  },
  {
   "cell_type": "code",
   "execution_count": null,
   "metadata": {},
   "outputs": [],
   "source": [
    "# may need to run on download from python.org\n",
    "!pip install pandas"
   ]
  },
  {
   "cell_type": "code",
   "execution_count": null,
   "metadata": {},
   "outputs": [],
   "source": [
    "# 1. DataFrame from List Of Lists - row\n",
    "import pandas as pd\n",
    "df_lol_children = pd.DataFrame(lol_children,columns = [\"child\",\"charlen\"])\n",
    "df_lol_children"
   ]
  },
  {
   "cell_type": "code",
   "execution_count": null,
   "metadata": {},
   "outputs": [],
   "source": [
    "\n",
    "len_char = [len(c) for c in children]\n",
    "print(len_char)\n",
    "d_children = {\"child\": children, \"charlen\": len_char}\n",
    "print(d_children)\n",
    "\n"
   ]
  },
  {
   "cell_type": "code",
   "execution_count": null,
   "metadata": {},
   "outputs": [
    {
     "data": {
      "text/html": [
       "<div>\n",
       "<style scoped>\n",
       "    .dataframe tbody tr th:only-of-type {\n",
       "        vertical-align: middle;\n",
       "    }\n",
       "\n",
       "    .dataframe tbody tr th {\n",
       "        vertical-align: top;\n",
       "    }\n",
       "\n",
       "    .dataframe thead th {\n",
       "        text-align: right;\n",
       "    }\n",
       "</style>\n",
       "<table border=\"1\" class=\"dataframe\">\n",
       "  <thead>\n",
       "    <tr style=\"text-align: right;\">\n",
       "      <th></th>\n",
       "      <th>child</th>\n",
       "      <th>charlen</th>\n",
       "    </tr>\n",
       "  </thead>\n",
       "  <tbody>\n",
       "    <tr>\n",
       "      <th>0</th>\n",
       "      <td>Andrew</td>\n",
       "      <td>6</td>\n",
       "    </tr>\n",
       "    <tr>\n",
       "      <th>1</th>\n",
       "      <td>Laura</td>\n",
       "      <td>5</td>\n",
       "    </tr>\n",
       "    <tr>\n",
       "      <th>2</th>\n",
       "      <td>Joe</td>\n",
       "      <td>3</td>\n",
       "    </tr>\n",
       "  </tbody>\n",
       "</table>\n",
       "</div>"
      ],
      "text/plain": [
       "    child  charlen\n",
       "0  Andrew        6\n",
       "1   Laura        5\n",
       "2     Joe        3"
      ]
     },
     "execution_count": 8,
     "metadata": {},
     "output_type": "execute_result"
    }
   ],
   "source": [
    "#2. DataFrame from dictionary of lists - column\n",
    "df_d_children = pd.DataFrame(d_children)\n",
    "df_d_children"
   ]
  },
  {
   "cell_type": "code",
   "execution_count": null,
   "metadata": {},
   "outputs": [
    {
     "data": {
      "text/plain": [
       "[{'child': 'Andrew', 'charlen': 6},\n",
       " {'child': 'Laura', 'charlen': 5},\n",
       " {'child': 'Joe', 'charlen': 3}]"
      ]
     },
     "execution_count": 9,
     "metadata": {},
     "output_type": "execute_result"
    }
   ],
   "source": [
    "d_children_v2 =[ {\"child\": c, \"charlen\":  len(c)} for c in children ]\n",
    "d_children_v2"
   ]
  },
  {
   "cell_type": "code",
   "execution_count": null,
   "metadata": {},
   "outputs": [
    {
     "data": {
      "text/html": [
       "<div>\n",
       "<style scoped>\n",
       "    .dataframe tbody tr th:only-of-type {\n",
       "        vertical-align: middle;\n",
       "    }\n",
       "\n",
       "    .dataframe tbody tr th {\n",
       "        vertical-align: top;\n",
       "    }\n",
       "\n",
       "    .dataframe thead th {\n",
       "        text-align: right;\n",
       "    }\n",
       "</style>\n",
       "<table border=\"1\" class=\"dataframe\">\n",
       "  <thead>\n",
       "    <tr style=\"text-align: right;\">\n",
       "      <th></th>\n",
       "      <th>child</th>\n",
       "      <th>charlen</th>\n",
       "    </tr>\n",
       "  </thead>\n",
       "  <tbody>\n",
       "    <tr>\n",
       "      <th>0</th>\n",
       "      <td>Andrew</td>\n",
       "      <td>6</td>\n",
       "    </tr>\n",
       "    <tr>\n",
       "      <th>1</th>\n",
       "      <td>Laura</td>\n",
       "      <td>5</td>\n",
       "    </tr>\n",
       "    <tr>\n",
       "      <th>2</th>\n",
       "      <td>Joe</td>\n",
       "      <td>3</td>\n",
       "    </tr>\n",
       "  </tbody>\n",
       "</table>\n",
       "</div>"
      ],
      "text/plain": [
       "    child  charlen\n",
       "0  Andrew        6\n",
       "1   Laura        5\n",
       "2     Joe        3"
      ]
     },
     "execution_count": 10,
     "metadata": {},
     "output_type": "execute_result"
    }
   ],
   "source": [
    "# 3. DataFrame from List Of Dictionaries - row\n",
    "df_d_children_2 = pd.DataFrame(d_children_v2)\n",
    "df_d_children_2"
   ]
  },
  {
   "cell_type": "code",
   "execution_count": null,
   "metadata": {},
   "outputs": [
    {
     "data": {
      "text/plain": [
       "pandas.core.frame.DataFrame"
      ]
     },
     "execution_count": 11,
     "metadata": {},
     "output_type": "execute_result"
    }
   ],
   "source": [
    "type(df_d_children)"
   ]
  },
  {
   "cell_type": "code",
   "execution_count": null,
   "metadata": {},
   "outputs": [],
   "source": [
    "df_d_children?"
   ]
  },
  {
   "cell_type": "code",
   "execution_count": null,
   "metadata": {},
   "outputs": [
    {
     "data": {
      "text/plain": [
       "['child', 'charlen']"
      ]
     },
     "execution_count": 14,
     "metadata": {},
     "output_type": "execute_result"
    }
   ],
   "source": [
    "list(df_d_children.columns)"
   ]
  },
  {
   "cell_type": "code",
   "execution_count": null,
   "metadata": {},
   "outputs": [
    {
     "name": "stdout",
     "output_type": "stream",
     "text": [
      "<class 'pandas.core.frame.DataFrame'>\n",
      "RangeIndex: 3 entries, 0 to 2\n",
      "Data columns (total 2 columns):\n",
      " #   Column   Non-Null Count  Dtype \n",
      "---  ------   --------------  ----- \n",
      " 0   child    3 non-null      object\n",
      " 1   charlen  3 non-null      int64 \n",
      "dtypes: int64(1), object(1)\n",
      "memory usage: 176.0+ bytes\n"
     ]
    }
   ],
   "source": [
    "df_d_children.info()"
   ]
  },
  {
   "cell_type": "markdown",
   "metadata": {},
   "source": [
    "## Get the data"
   ]
  },
  {
   "cell_type": "code",
   "execution_count": null,
   "metadata": {},
   "outputs": [],
   "source": [
    "#poll_url = 'http://projects.fivethirtyeight.com/general-model/president_general_polls_2016.csv'\n",
    "poll_url = 'H:\\president_general_polls_2016.csv'\n",
    "\n",
    "polls = pd.read_csv(poll_url)"
   ]
  },
  {
   "cell_type": "code",
   "execution_count": null,
   "metadata": {},
   "outputs": [
    {
     "data": {
      "text/plain": [
       "pandas.core.frame.DataFrame"
      ]
     },
     "execution_count": 20,
     "metadata": {},
     "output_type": "execute_result"
    }
   ],
   "source": [
    "type(polls)"
   ]
  },
  {
   "cell_type": "code",
   "execution_count": null,
   "metadata": {},
   "outputs": [
    {
     "data": {
      "text/plain": [
       "27"
      ]
     },
     "execution_count": 24,
     "metadata": {},
     "output_type": "execute_result"
    }
   ],
   "source": [
    "len(list(polls.columns))"
   ]
  },
  {
   "cell_type": "code",
   "execution_count": null,
   "metadata": {},
   "outputs": [
    {
     "name": "stdout",
     "output_type": "stream",
     "text": [
      "<class 'pandas.core.frame.DataFrame'>\n",
      "RangeIndex: 12624 entries, 0 to 12623\n",
      "Data columns (total 27 columns):\n",
      " #   Column            Non-Null Count  Dtype  \n",
      "---  ------            --------------  -----  \n",
      " 0   cycle             12624 non-null  int64  \n",
      " 1   branch            12624 non-null  object \n",
      " 2   type              12624 non-null  object \n",
      " 3   matchup           12624 non-null  object \n",
      " 4   forecastdate      12624 non-null  object \n",
      " 5   state             12624 non-null  object \n",
      " 6   startdate         12624 non-null  object \n",
      " 7   enddate           12624 non-null  object \n",
      " 8   pollster          12624 non-null  object \n",
      " 9   grade             11337 non-null  object \n",
      " 10  samplesize        12621 non-null  float64\n",
      " 11  population        12624 non-null  object \n",
      " 12  poll_wt           12624 non-null  float64\n",
      " 13  rawpoll_clinton   12624 non-null  float64\n",
      " 14  rawpoll_trump     12624 non-null  float64\n",
      " 15  rawpoll_johnson   8397 non-null   float64\n",
      " 16  rawpoll_mcmullin  90 non-null     float64\n",
      " 17  adjpoll_clinton   12624 non-null  float64\n",
      " 18  adjpoll_trump     12624 non-null  float64\n",
      " 19  adjpoll_johnson   8397 non-null   float64\n",
      " 20  adjpoll_mcmullin  90 non-null     float64\n",
      " 21  multiversions     36 non-null     object \n",
      " 22  url               12621 non-null  object \n",
      " 23  poll_id           12624 non-null  int64  \n",
      " 24  question_id       12624 non-null  int64  \n",
      " 25  createddate       12624 non-null  object \n",
      " 26  timestamp         12624 non-null  object \n",
      "dtypes: float64(10), int64(3), object(14)\n",
      "memory usage: 2.6+ MB\n"
     ]
    },
    {
     "ename": "TypeError",
     "evalue": "'NoneType' object is not iterable",
     "output_type": "error",
     "traceback": [
      "\u001b[1;31m---------------------------------------------------------------------------\u001b[0m",
      "\u001b[1;31mTypeError\u001b[0m                                 Traceback (most recent call last)",
      "\u001b[1;32mc:\\2023-02-DSI-WE\\instructor\\py\\EDA Python Lessons\\Pandas\\01 Pandas Introduction.ipynb Cell 17\u001b[0m in \u001b[0;36m1\n\u001b[1;32m----> <a href='vscode-notebook-cell:/c%3A/2023-02-DSI-WE/instructor/py/EDA%20Python%20Lessons/Pandas/01%20Pandas%20Introduction.ipynb#X16sZmlsZQ%3D%3D?line=0'>1</a>\u001b[0m \u001b[39mlist\u001b[39;49m(polls\u001b[39m.\u001b[39;49minfo())\n",
      "\u001b[1;31mTypeError\u001b[0m: 'NoneType' object is not iterable"
     ]
    }
   ],
   "source": [
    "list(polls.info())"
   ]
  },
  {
   "cell_type": "code",
   "execution_count": null,
   "metadata": {},
   "outputs": [
    {
     "data": {
      "text/html": [
       "<div>\n",
       "<style scoped>\n",
       "    .dataframe tbody tr th:only-of-type {\n",
       "        vertical-align: middle;\n",
       "    }\n",
       "\n",
       "    .dataframe tbody tr th {\n",
       "        vertical-align: top;\n",
       "    }\n",
       "\n",
       "    .dataframe thead th {\n",
       "        text-align: right;\n",
       "    }\n",
       "</style>\n",
       "<table border=\"1\" class=\"dataframe\">\n",
       "  <thead>\n",
       "    <tr style=\"text-align: right;\">\n",
       "      <th></th>\n",
       "      <th>child</th>\n",
       "      <th>charlen</th>\n",
       "    </tr>\n",
       "  </thead>\n",
       "  <tbody>\n",
       "    <tr>\n",
       "      <th>0</th>\n",
       "      <td>Andrew</td>\n",
       "      <td>6</td>\n",
       "    </tr>\n",
       "    <tr>\n",
       "      <th>1</th>\n",
       "      <td>Laura</td>\n",
       "      <td>5</td>\n",
       "    </tr>\n",
       "    <tr>\n",
       "      <th>2</th>\n",
       "      <td>Joe</td>\n",
       "      <td>3</td>\n",
       "    </tr>\n",
       "  </tbody>\n",
       "</table>\n",
       "</div>"
      ],
      "text/plain": [
       "    child  charlen\n",
       "0  Andrew        6\n",
       "1   Laura        5\n",
       "2     Joe        3"
      ]
     },
     "execution_count": 27,
     "metadata": {},
     "output_type": "execute_result"
    }
   ],
   "source": [
    "df_d_children"
   ]
  },
  {
   "cell_type": "code",
   "execution_count": null,
   "metadata": {},
   "outputs": [
    {
     "data": {
      "text/html": [
       "<div>\n",
       "<style scoped>\n",
       "    .dataframe tbody tr th:only-of-type {\n",
       "        vertical-align: middle;\n",
       "    }\n",
       "\n",
       "    .dataframe tbody tr th {\n",
       "        vertical-align: top;\n",
       "    }\n",
       "\n",
       "    .dataframe thead th {\n",
       "        text-align: right;\n",
       "    }\n",
       "</style>\n",
       "<table border=\"1\" class=\"dataframe\">\n",
       "  <thead>\n",
       "    <tr style=\"text-align: right;\">\n",
       "      <th></th>\n",
       "      <th>0</th>\n",
       "      <th>1</th>\n",
       "      <th>2</th>\n",
       "    </tr>\n",
       "  </thead>\n",
       "  <tbody>\n",
       "    <tr>\n",
       "      <th>child</th>\n",
       "      <td>Andrew</td>\n",
       "      <td>Laura</td>\n",
       "      <td>Joe</td>\n",
       "    </tr>\n",
       "    <tr>\n",
       "      <th>charlen</th>\n",
       "      <td>6</td>\n",
       "      <td>5</td>\n",
       "      <td>3</td>\n",
       "    </tr>\n",
       "  </tbody>\n",
       "</table>\n",
       "</div>"
      ],
      "text/plain": [
       "              0      1    2\n",
       "child    Andrew  Laura  Joe\n",
       "charlen       6      5    3"
      ]
     },
     "execution_count": 28,
     "metadata": {},
     "output_type": "execute_result"
    }
   ],
   "source": [
    "df_d_children.T"
   ]
  },
  {
   "cell_type": "code",
   "execution_count": null,
   "metadata": {},
   "outputs": [
    {
     "data": {
      "text/html": [
       "<div>\n",
       "<style scoped>\n",
       "    .dataframe tbody tr th:only-of-type {\n",
       "        vertical-align: middle;\n",
       "    }\n",
       "\n",
       "    .dataframe tbody tr th {\n",
       "        vertical-align: top;\n",
       "    }\n",
       "\n",
       "    .dataframe thead th {\n",
       "        text-align: right;\n",
       "    }\n",
       "</style>\n",
       "<table border=\"1\" class=\"dataframe\">\n",
       "  <thead>\n",
       "    <tr style=\"text-align: right;\">\n",
       "      <th></th>\n",
       "      <th>count</th>\n",
       "      <th>mean</th>\n",
       "      <th>std</th>\n",
       "      <th>min</th>\n",
       "      <th>25%</th>\n",
       "      <th>50%</th>\n",
       "      <th>75%</th>\n",
       "      <th>max</th>\n",
       "    </tr>\n",
       "  </thead>\n",
       "  <tbody>\n",
       "    <tr>\n",
       "      <th>cycle</th>\n",
       "      <td>12624.0</td>\n",
       "      <td>2016.000000</td>\n",
       "      <td>0.000000</td>\n",
       "      <td>2016.000000</td>\n",
       "      <td>2016.000000</td>\n",
       "      <td>2016.000000</td>\n",
       "      <td>2016.000000</td>\n",
       "      <td>2016.000000</td>\n",
       "    </tr>\n",
       "    <tr>\n",
       "      <th>samplesize</th>\n",
       "      <td>12621.0</td>\n",
       "      <td>1148.216068</td>\n",
       "      <td>2630.647790</td>\n",
       "      <td>35.000000</td>\n",
       "      <td>447.000000</td>\n",
       "      <td>772.000000</td>\n",
       "      <td>1237.000000</td>\n",
       "      <td>84292.000000</td>\n",
       "    </tr>\n",
       "    <tr>\n",
       "      <th>poll_wt</th>\n",
       "      <td>12624.0</td>\n",
       "      <td>0.255431</td>\n",
       "      <td>0.669326</td>\n",
       "      <td>0.000000</td>\n",
       "      <td>0.000358</td>\n",
       "      <td>0.008172</td>\n",
       "      <td>0.086735</td>\n",
       "      <td>8.720654</td>\n",
       "    </tr>\n",
       "    <tr>\n",
       "      <th>rawpoll_clinton</th>\n",
       "      <td>12624.0</td>\n",
       "      <td>41.990860</td>\n",
       "      <td>7.727792</td>\n",
       "      <td>11.040000</td>\n",
       "      <td>38.000000</td>\n",
       "      <td>43.000000</td>\n",
       "      <td>46.200000</td>\n",
       "      <td>88.000000</td>\n",
       "    </tr>\n",
       "    <tr>\n",
       "      <th>rawpoll_trump</th>\n",
       "      <td>12624.0</td>\n",
       "      <td>39.828710</td>\n",
       "      <td>7.877327</td>\n",
       "      <td>4.000000</td>\n",
       "      <td>35.000000</td>\n",
       "      <td>40.000000</td>\n",
       "      <td>45.000000</td>\n",
       "      <td>68.000000</td>\n",
       "    </tr>\n",
       "    <tr>\n",
       "      <th>rawpoll_johnson</th>\n",
       "      <td>8397.0</td>\n",
       "      <td>7.381740</td>\n",
       "      <td>2.959274</td>\n",
       "      <td>0.000000</td>\n",
       "      <td>5.400000</td>\n",
       "      <td>7.000000</td>\n",
       "      <td>9.000000</td>\n",
       "      <td>25.000000</td>\n",
       "    </tr>\n",
       "    <tr>\n",
       "      <th>rawpoll_mcmullin</th>\n",
       "      <td>90.0</td>\n",
       "      <td>24.004000</td>\n",
       "      <td>5.638641</td>\n",
       "      <td>9.000000</td>\n",
       "      <td>22.000000</td>\n",
       "      <td>25.000000</td>\n",
       "      <td>28.000000</td>\n",
       "      <td>31.000000</td>\n",
       "    </tr>\n",
       "    <tr>\n",
       "      <th>adjpoll_clinton</th>\n",
       "      <td>12624.0</td>\n",
       "      <td>43.323005</td>\n",
       "      <td>7.095235</td>\n",
       "      <td>17.064950</td>\n",
       "      <td>40.210697</td>\n",
       "      <td>44.148045</td>\n",
       "      <td>46.908830</td>\n",
       "      <td>86.772180</td>\n",
       "    </tr>\n",
       "    <tr>\n",
       "      <th>adjpoll_trump</th>\n",
       "      <td>12624.0</td>\n",
       "      <td>42.667719</td>\n",
       "      <td>6.948256</td>\n",
       "      <td>4.372936</td>\n",
       "      <td>38.445588</td>\n",
       "      <td>42.716265</td>\n",
       "      <td>46.313520</td>\n",
       "      <td>72.437390</td>\n",
       "    </tr>\n",
       "    <tr>\n",
       "      <th>adjpoll_johnson</th>\n",
       "      <td>8397.0</td>\n",
       "      <td>4.655091</td>\n",
       "      <td>2.472636</td>\n",
       "      <td>-3.677883</td>\n",
       "      <td>3.136837</td>\n",
       "      <td>4.375392</td>\n",
       "      <td>5.761469</td>\n",
       "      <td>20.366840</td>\n",
       "    </tr>\n",
       "    <tr>\n",
       "      <th>adjpoll_mcmullin</th>\n",
       "      <td>90.0</td>\n",
       "      <td>24.511497</td>\n",
       "      <td>5.174286</td>\n",
       "      <td>11.028320</td>\n",
       "      <td>22.814548</td>\n",
       "      <td>25.136030</td>\n",
       "      <td>28.067610</td>\n",
       "      <td>31.583810</td>\n",
       "    </tr>\n",
       "    <tr>\n",
       "      <th>poll_id</th>\n",
       "      <td>12624.0</td>\n",
       "      <td>45910.899477</td>\n",
       "      <td>2864.536271</td>\n",
       "      <td>35362.000000</td>\n",
       "      <td>45151.750000</td>\n",
       "      <td>46384.500000</td>\n",
       "      <td>47741.250000</td>\n",
       "      <td>48922.000000</td>\n",
       "    </tr>\n",
       "    <tr>\n",
       "      <th>question_id</th>\n",
       "      <td>12624.0</td>\n",
       "      <td>71591.326046</td>\n",
       "      <td>4699.401001</td>\n",
       "      <td>47244.000000</td>\n",
       "      <td>69548.500000</td>\n",
       "      <td>72516.500000</td>\n",
       "      <td>74724.250000</td>\n",
       "      <td>76636.000000</td>\n",
       "    </tr>\n",
       "  </tbody>\n",
       "</table>\n",
       "</div>"
      ],
      "text/plain": [
       "                    count          mean          std           min  \\\n",
       "cycle             12624.0   2016.000000     0.000000   2016.000000   \n",
       "samplesize        12621.0   1148.216068  2630.647790     35.000000   \n",
       "poll_wt           12624.0      0.255431     0.669326      0.000000   \n",
       "rawpoll_clinton   12624.0     41.990860     7.727792     11.040000   \n",
       "rawpoll_trump     12624.0     39.828710     7.877327      4.000000   \n",
       "rawpoll_johnson    8397.0      7.381740     2.959274      0.000000   \n",
       "rawpoll_mcmullin     90.0     24.004000     5.638641      9.000000   \n",
       "adjpoll_clinton   12624.0     43.323005     7.095235     17.064950   \n",
       "adjpoll_trump     12624.0     42.667719     6.948256      4.372936   \n",
       "adjpoll_johnson    8397.0      4.655091     2.472636     -3.677883   \n",
       "adjpoll_mcmullin     90.0     24.511497     5.174286     11.028320   \n",
       "poll_id           12624.0  45910.899477  2864.536271  35362.000000   \n",
       "question_id       12624.0  71591.326046  4699.401001  47244.000000   \n",
       "\n",
       "                           25%           50%           75%           max  \n",
       "cycle              2016.000000   2016.000000   2016.000000   2016.000000  \n",
       "samplesize          447.000000    772.000000   1237.000000  84292.000000  \n",
       "poll_wt               0.000358      0.008172      0.086735      8.720654  \n",
       "rawpoll_clinton      38.000000     43.000000     46.200000     88.000000  \n",
       "rawpoll_trump        35.000000     40.000000     45.000000     68.000000  \n",
       "rawpoll_johnson       5.400000      7.000000      9.000000     25.000000  \n",
       "rawpoll_mcmullin     22.000000     25.000000     28.000000     31.000000  \n",
       "adjpoll_clinton      40.210697     44.148045     46.908830     86.772180  \n",
       "adjpoll_trump        38.445588     42.716265     46.313520     72.437390  \n",
       "adjpoll_johnson       3.136837      4.375392      5.761469     20.366840  \n",
       "adjpoll_mcmullin     22.814548     25.136030     28.067610     31.583810  \n",
       "poll_id           45151.750000  46384.500000  47741.250000  48922.000000  \n",
       "question_id       69548.500000  72516.500000  74724.250000  76636.000000  "
      ]
     },
     "execution_count": 30,
     "metadata": {},
     "output_type": "execute_result"
    }
   ],
   "source": [
    "polls.describe().T"
   ]
  },
  {
   "cell_type": "code",
   "execution_count": null,
   "metadata": {},
   "outputs": [],
   "source": [
    "polls.describe(datetime_is_numeric=True).T"
   ]
  },
  {
   "cell_type": "code",
   "execution_count": null,
   "metadata": {},
   "outputs": [],
   "source": [
    "polls.describe(include=\"datetime\").T"
   ]
  },
  {
   "cell_type": "code",
   "execution_count": null,
   "metadata": {},
   "outputs": [],
   "source": [
    "polls.describe(include=\"O\").T"
   ]
  },
  {
   "cell_type": "code",
   "execution_count": null,
   "metadata": {},
   "outputs": [],
   "source": [
    "#SELECT startdate, count(*) from polls group by startdate\n",
    "polls.samplesize.value_counts()"
   ]
  },
  {
   "cell_type": "code",
   "execution_count": null,
   "metadata": {},
   "outputs": [],
   "source": [
    "polls[\"startdate\"] = pd.to_datetime(polls[\"startdate\"])"
   ]
  },
  {
   "cell_type": "code",
   "execution_count": null,
   "metadata": {},
   "outputs": [],
   "source": [
    "polls[\"enddate\"] = pd.to_datetime(polls[\"enddate\"])"
   ]
  },
  {
   "cell_type": "code",
   "execution_count": null,
   "metadata": {},
   "outputs": [],
   "source": [
    "polls.head(5).T"
   ]
  },
  {
   "cell_type": "code",
   "execution_count": null,
   "metadata": {},
   "outputs": [],
   "source": [
    "polls[\"forecastdate\"] = pd.to_datetime(polls[\"forecastdate\"])"
   ]
  },
  {
   "cell_type": "code",
   "execution_count": null,
   "metadata": {},
   "outputs": [],
   "source": [
    "polls.info()"
   ]
  },
  {
   "cell_type": "code",
   "execution_count": null,
   "metadata": {},
   "outputs": [],
   "source": [
    "polls.columns"
   ]
  },
  {
   "cell_type": "code",
   "execution_count": null,
   "metadata": {},
   "outputs": [],
   "source": [
    "polls.dtypes"
   ]
  },
  {
   "cell_type": "code",
   "execution_count": null,
   "metadata": {},
   "outputs": [],
   "source": [
    "polls.tail()"
   ]
  },
  {
   "cell_type": "markdown",
   "metadata": {},
   "source": [
    "## Sort the data"
   ]
  },
  {
   "cell_type": "code",
   "execution_count": null,
   "metadata": {},
   "outputs": [],
   "source": [
    "polls.enddate.max()"
   ]
  },
  {
   "cell_type": "code",
   "execution_count": null,
   "metadata": {},
   "outputs": [],
   "source": [
    "polls.sort_values('enddate', ascending=False, inplace=True)\n",
    "polls.head()"
   ]
  },
  {
   "cell_type": "markdown",
   "metadata": {},
   "source": [
    "## Use lists, slices, tuples, and dictionary objects"
   ]
  },
  {
   "cell_type": "markdown",
   "metadata": {},
   "source": [
    "### A list"
   ]
  },
  {
   "cell_type": "code",
   "execution_count": null,
   "metadata": {},
   "outputs": [],
   "source": [
    "# columns=['cycle','branch','matchup','forecastdate'], inplace=True\n",
    "dict_input = {\"columns\":['cycle','branch','matchup','forecastdate'], \"inplace\":True}\n",
    "polls.drop(**dict_input)\n",
    "polls.head(2)"
   ]
  },
  {
   "cell_type": "markdown",
   "metadata": {},
   "source": [
    "### A dictionary, ranges and comprehension"
   ]
  },
  {
   "cell_type": "code",
   "execution_count": null,
   "metadata": {},
   "outputs": [],
   "source": [
    "polls = polls.rename(columns={'adjpoll_clinton':'Clinton',\n",
    "                      'adjpoll_trump':'Trump'})\n",
    "polls.info()                      "
   ]
  },
  {
   "cell_type": "code",
   "execution_count": null,
   "metadata": {},
   "outputs": [],
   "source": [
    "len(polls)"
   ]
  },
  {
   "cell_type": "code",
   "execution_count": null,
   "metadata": {},
   "outputs": [],
   "source": [
    "num = [f for f in range(0,12624)]\n",
    "num\n"
   ]
  },
  {
   "cell_type": "code",
   "execution_count": null,
   "metadata": {},
   "outputs": [],
   "source": [
    "num[0:100]"
   ]
  },
  {
   "cell_type": "markdown",
   "metadata": {},
   "source": [
    "### Two slices"
   ]
  },
  {
   "cell_type": "code",
   "execution_count": null,
   "metadata": {},
   "outputs": [],
   "source": [
    "foo = polls.loc[0:100:10,'state':'grade'].index\n",
    "foo"
   ]
  },
  {
   "cell_type": "code",
   "execution_count": null,
   "metadata": {},
   "outputs": [],
   "source": [
    "\",\".join([str(f) for f in foo])"
   ]
  },
  {
   "cell_type": "code",
   "execution_count": null,
   "metadata": {},
   "outputs": [],
   "source": []
  }
 ],
 "metadata": {
  "interpreter": {
   "hash": "81794d4967e6c3204c66dcd87b604927b115b27c00565d3d43f05ba2f3a2cb0d"
  },
  "kernelspec": {
   "display_name": "Python 3.9.5 64-bit",
   "language": "python",
   "name": "python3"
  },
  "language_info": {
   "codemirror_mode": {
    "name": "ipython",
    "version": 3
   },
   "file_extension": ".py",
   "mimetype": "text/x-python",
   "name": "python",
   "nbconvert_exporter": "python",
   "pygments_lexer": "ipython3",
   "version": "3.11.2"
  }
 },
 "nbformat": 4,
 "nbformat_minor": 4
}
