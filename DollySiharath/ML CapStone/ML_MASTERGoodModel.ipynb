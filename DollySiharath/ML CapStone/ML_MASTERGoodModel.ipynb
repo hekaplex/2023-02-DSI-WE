{
 "cells": [
  {
   "attachments": {},
   "cell_type": "markdown",
   "metadata": {},
   "source": []
  },
  {
   "cell_type": "code",
   "execution_count": 641,
   "metadata": {},
   "outputs": [
    {
     "name": "stdout",
     "output_type": "stream",
     "text": [
      "Collecting scikit-learn\n",
      "  Using cached scikit_learn-1.2.2-cp311-cp311-win_amd64.whl (8.3 MB)\n",
      "Collecting numpy>=1.17.3\n",
      "  Using cached numpy-1.24.3-cp311-cp311-win_amd64.whl (14.8 MB)\n",
      "Collecting scipy>=1.3.2\n",
      "  Using cached scipy-1.10.1-cp311-cp311-win_amd64.whl (42.2 MB)\n",
      "Collecting joblib>=1.1.1\n",
      "  Using cached joblib-1.2.0-py3-none-any.whl (297 kB)\n",
      "Collecting threadpoolctl>=2.0.0\n",
      "  Using cached threadpoolctl-3.1.0-py3-none-any.whl (14 kB)\n",
      "Installing collected packages: threadpoolctl, numpy, joblib, scipy, scikit-learn\n",
      "  Attempting uninstall: threadpoolctl\n",
      "    Found existing installation: threadpoolctl 3.1.0\n",
      "    Uninstalling threadpoolctl-3.1.0:\n",
      "      Successfully uninstalled threadpoolctl-3.1.0\n",
      "  Attempting uninstall: numpy\n",
      "    Found existing installation: numpy 1.24.3\n",
      "    Uninstalling numpy-1.24.3:\n",
      "      Successfully uninstalled numpy-1.24.3\n",
      "  Attempting uninstall: joblib\n",
      "    Found existing installation: joblib 1.2.0\n",
      "    Uninstalling joblib-1.2.0:\n",
      "      Successfully uninstalled joblib-1.2.0\n",
      "  Attempting uninstall: scipy\n",
      "    Found existing installation: scipy 1.10.1\n",
      "    Uninstalling scipy-1.10.1:\n",
      "      Successfully uninstalled scipy-1.10.1\n",
      "  Attempting uninstall: scikit-learn\n",
      "    Found existing installation: scikit-learn 1.2.2\n",
      "    Uninstalling scikit-learn-1.2.2:\n",
      "      Successfully uninstalled scikit-learn-1.2.2\n",
      "Successfully installed joblib-1.2.0 numpy-1.24.3 scikit-learn-1.2.2 scipy-1.10.1 threadpoolctl-3.1.0\n",
      "Note: you may need to restart the kernel to use updated packages.\n",
      "Requirement already satisfied: xgboost in c:\\users\\dolly\\appdata\\local\\r-mini~1\\envs\\datascience-pro-env\\lib\\site-packages (1.7.5)\n",
      "Requirement already satisfied: numpy in c:\\users\\dolly\\appdata\\local\\r-mini~1\\envs\\datascience-pro-env\\lib\\site-packages (from xgboost) (1.24.3)\n",
      "Requirement already satisfied: scipy in c:\\users\\dolly\\appdata\\local\\r-mini~1\\envs\\datascience-pro-env\\lib\\site-packages (from xgboost) (1.10.1)\n",
      "Note: you may need to restart the kernel to use updated packages.\n",
      "Requirement already satisfied: lightgbm in c:\\users\\dolly\\appdata\\local\\r-mini~1\\envs\\datascience-pro-env\\lib\\site-packages (3.3.5)\n",
      "Requirement already satisfied: wheel in c:\\users\\dolly\\appdata\\local\\r-mini~1\\envs\\datascience-pro-env\\lib\\site-packages (from lightgbm) (0.38.4)\n",
      "Requirement already satisfied: numpy in c:\\users\\dolly\\appdata\\local\\r-mini~1\\envs\\datascience-pro-env\\lib\\site-packages (from lightgbm) (1.24.3)\n",
      "Requirement already satisfied: scipy in c:\\users\\dolly\\appdata\\local\\r-mini~1\\envs\\datascience-pro-env\\lib\\site-packages (from lightgbm) (1.10.1)\n",
      "Requirement already satisfied: scikit-learn!=0.22.0 in c:\\users\\dolly\\appdata\\local\\r-mini~1\\envs\\datascience-pro-env\\lib\\site-packages (from lightgbm) (1.2.2)\n",
      "Requirement already satisfied: joblib>=1.1.1 in c:\\users\\dolly\\appdata\\local\\r-mini~1\\envs\\datascience-pro-env\\lib\\site-packages (from scikit-learn!=0.22.0->lightgbm) (1.2.0)\n",
      "Requirement already satisfied: threadpoolctl>=2.0.0 in c:\\users\\dolly\\appdata\\local\\r-mini~1\\envs\\datascience-pro-env\\lib\\site-packages (from scikit-learn!=0.22.0->lightgbm) (3.1.0)\n",
      "Note: you may need to restart the kernel to use updated packages.\n"
     ]
    },
    {
     "data": {
      "text/plain": [
       "HD_M_Value      0\n",
       "HD_M_US         0\n",
       "HD_M_REL_US     0\n",
       "HBP_M_Value     0\n",
       "HBP_M_US        0\n",
       "HBP_M_REL_US    0\n",
       "HC_M_Value      0\n",
       "HC_M_US         0\n",
       "HC_M_REL_US     0\n",
       "OB_M_Value      0\n",
       "OB_M_US         0\n",
       "OB_M_REL_US     0\n",
       "DB_M_Value      0\n",
       "DB_M_US         0\n",
       "DB_M_REL_US     0\n",
       "Target_Value    0\n",
       "dtype: int64"
      ]
     },
     "execution_count": 641,
     "metadata": {},
     "output_type": "execute_result"
    }
   ],
   "source": [
    "# !pip install openpyxl  \n",
    "import os\n",
    "import pandas as pd \n",
    "import numpy as np \n",
    "import matplotlib.pylab as plt\n",
    "import matplotlib.pyplot as plt \n",
    "\n",
    "\n",
    "plt.style.use('fivethirtyeight') \n",
    "import seaborn as sns \n",
    "sns.set_style('darkgrid')\n",
    "from matplotlib import style\n",
    "%matplotlib inline\n",
    "from statistics import mean\n",
    "\n",
    "\n",
    "# ML \n",
    "\n",
    "%pip install scikit-learn  --upgrade --force\n",
    "%pip install xgboost\n",
    "%pip install lightgbm\n",
    "\n",
    "from sklearn.linear_model import LinearRegression \n",
    "from sklearn import linear_model\n",
    "from xgboost import XGBRegressor\n",
    "from sklearn.ensemble import RandomForestRegressor\n",
    "from sklearn.tree import DecisionTreeRegressor\n",
    "from sklearn.model_selection import GridSearchCV\n",
    "\n",
    "\n",
    "from sklearn.preprocessing import LabelEncoder, OneHotEncoder\n",
    "from sklearn.model_selection import train_test_split\n",
    "from sklearn.model_selection import cross_val_score\n",
    "\n",
    "\n",
    "\n",
    "from sklearn.metrics import r2_score, mean_absolute_error\n",
    "from sklearn.metrics import mean_absolute_percentage_error\n",
    "from sklearn.metrics import mean_squared_error\n",
    "from sklearn.metrics import accuracy_score, roc_auc_score # use for classicfictation score\n",
    "from sklearn.model_selection import cross_val_score\n",
    "from sklearn.model_selection import (TimeSeriesSplit, KFold, train_test_split, StratifiedKFold, GroupKFold, StratifiedGroupKFold)\n",
    "\n",
    "import lightgbm as lgb\n",
    "\n",
    "\n",
    "df01= pd.read_csv(\"MasterCapStoneFile_01.csv\" )\n",
    "\n",
    "#check for NULL values\n",
    "df01.isnull().sum()\n",
    "\n",
    "\n"
   ]
  },
  {
   "attachments": {},
   "cell_type": "markdown",
   "metadata": {},
   "source": []
  },
  {
   "attachments": {},
   "cell_type": "markdown",
   "metadata": {},
   "source": []
  },
  {
   "attachments": {},
   "cell_type": "markdown",
   "metadata": {},
   "source": [
    "Histrograms =  show the frequency of distribution. "
   ]
  },
  {
   "attachments": {},
   "cell_type": "markdown",
   "metadata": {},
   "source": []
  },
  {
   "attachments": {},
   "cell_type": "markdown",
   "metadata": {},
   "source": [
    "## ML "
   ]
  },
  {
   "attachments": {},
   "cell_type": "markdown",
   "metadata": {},
   "source": [
    "##### Dividing the dataset into independent and dependent features."
   ]
  },
  {
   "cell_type": "code",
   "execution_count": 642,
   "metadata": {},
   "outputs": [],
   "source": [
    "df_01 = df01.drop(columns=[ 'HD_M_US', 'HD_M_REL_US',  'HBP_M_US','HBP_M_REL_US',  'HC_M_US', 'HC_M_REL_US', \n",
    "'OB_M_US', 'OB_M_REL_US',  'DB_M_US', 'DB_M_REL_US'])"
   ]
  },
  {
   "attachments": {},
   "cell_type": "markdown",
   "metadata": {},
   "source": [
    "#### Below is the dataframe for the ML models:"
   ]
  },
  {
   "cell_type": "code",
   "execution_count": 643,
   "metadata": {},
   "outputs": [],
   "source": [
    "# Removing outliers by query for the values to keep\n",
    "\n",
    "df = df_01.query(\"`OB_M_Value` >=0 & `OB_M_Value` <50 & \\\n",
    "                  `DB_M_Value` >0 & `DB_M_Value` <19  & \\\n",
    "                  `HD_M_Value` <9  & `HD_M_Value` >1  & \\\n",
    "                  `HBP_M_Value` >13 & `HBP_M_Value` <45 & \\\n",
    "                  `HC_M_Value` >22 & `HC_M_Value` <41  & \\\n",
    "                  `Target_Value` >1 & `Target_Value` < 5\" )\n",
    "#print(df)"
   ]
  },
  {
   "cell_type": "code",
   "execution_count": 644,
   "metadata": {},
   "outputs": [
    {
     "data": {
      "image/png": "[encoded data removed]",
      "text/plain": [
       "<Figure size 2000x1000 with 6 Axes>"
      ]
     },
     "metadata": {},
     "output_type": "display_data"
    }
   ],
   "source": [
    "#Subplot after outliers are dropped.\n",
    "\n",
    "red_circle = dict(markerfacecolor='red', marker='o', markeredgecolor='white')\n",
    "fig, axs = plt.subplots(1, len(df.columns), figsize=(20,10))\n",
    "\n",
    "for i, ax in enumerate(axs.flat):\n",
    "    ax.boxplot(df.iloc[:,i], flierprops=red_circle) # exclude row#0 and #1\n",
    "    ax.set_title(df.columns[i], fontsize=20, fontweight='bold')\n",
    "    ax.tick_params(axis='y', labelsize=14)\n",
    "    \n",
    "plt.show()"
   ]
  },
  {
   "cell_type": "code",
   "execution_count": 645,
   "metadata": {},
   "outputs": [
    {
     "data": {
      "text/html": [
       "<div>\n",
       "<style scoped>\n",
       "    .dataframe tbody tr th:only-of-type {\n",
       "        vertical-align: middle;\n",
       "    }\n",
       "\n",
       "    .dataframe tbody tr th {\n",
       "        vertical-align: top;\n",
       "    }\n",
       "\n",
       "    .dataframe thead th {\n",
       "        text-align: right;\n",
       "    }\n",
       "</style>\n",
       "<table border=\"1\" class=\"dataframe\">\n",
       "  <thead>\n",
       "    <tr style=\"text-align: right;\">\n",
       "      <th></th>\n",
       "      <th>HD_M_Value</th>\n",
       "      <th>HBP_M_Value</th>\n",
       "      <th>HC_M_Value</th>\n",
       "      <th>OB_M_Value</th>\n",
       "      <th>DB_M_Value</th>\n",
       "      <th>Target_Value</th>\n",
       "    </tr>\n",
       "  </thead>\n",
       "  <tbody>\n",
       "    <tr>\n",
       "      <th>0</th>\n",
       "      <td>4.2</td>\n",
       "      <td>32.3</td>\n",
       "      <td>34.1</td>\n",
       "      <td>30.3</td>\n",
       "      <td>12.2</td>\n",
       "      <td>3.4</td>\n",
       "    </tr>\n",
       "    <tr>\n",
       "      <th>2</th>\n",
       "      <td>5.8</td>\n",
       "      <td>33.8</td>\n",
       "      <td>36.7</td>\n",
       "      <td>17.3</td>\n",
       "      <td>9.9</td>\n",
       "      <td>3.1</td>\n",
       "    </tr>\n",
       "    <tr>\n",
       "      <th>3</th>\n",
       "      <td>4.4</td>\n",
       "      <td>27.4</td>\n",
       "      <td>27.1</td>\n",
       "      <td>22.1</td>\n",
       "      <td>14.7</td>\n",
       "      <td>2.0</td>\n",
       "    </tr>\n",
       "    <tr>\n",
       "      <th>5</th>\n",
       "      <td>3.5</td>\n",
       "      <td>24.4</td>\n",
       "      <td>27.5</td>\n",
       "      <td>25.3</td>\n",
       "      <td>11.4</td>\n",
       "      <td>2.6</td>\n",
       "    </tr>\n",
       "    <tr>\n",
       "      <th>6</th>\n",
       "      <td>5.5</td>\n",
       "      <td>28.1</td>\n",
       "      <td>33.7</td>\n",
       "      <td>22.5</td>\n",
       "      <td>3.4</td>\n",
       "      <td>2.9</td>\n",
       "    </tr>\n",
       "    <tr>\n",
       "      <th>...</th>\n",
       "      <td>...</td>\n",
       "      <td>...</td>\n",
       "      <td>...</td>\n",
       "      <td>...</td>\n",
       "      <td>...</td>\n",
       "      <td>...</td>\n",
       "    </tr>\n",
       "    <tr>\n",
       "      <th>27205</th>\n",
       "      <td>3.3</td>\n",
       "      <td>20.8</td>\n",
       "      <td>27.6</td>\n",
       "      <td>33.8</td>\n",
       "      <td>11.9</td>\n",
       "      <td>1.3</td>\n",
       "    </tr>\n",
       "    <tr>\n",
       "      <th>27206</th>\n",
       "      <td>4.9</td>\n",
       "      <td>32.5</td>\n",
       "      <td>30.7</td>\n",
       "      <td>33.0</td>\n",
       "      <td>7.4</td>\n",
       "      <td>3.1</td>\n",
       "    </tr>\n",
       "    <tr>\n",
       "      <th>27207</th>\n",
       "      <td>6.7</td>\n",
       "      <td>31.3</td>\n",
       "      <td>28.0</td>\n",
       "      <td>33.9</td>\n",
       "      <td>10.3</td>\n",
       "      <td>4.5</td>\n",
       "    </tr>\n",
       "    <tr>\n",
       "      <th>27208</th>\n",
       "      <td>5.2</td>\n",
       "      <td>31.9</td>\n",
       "      <td>34.1</td>\n",
       "      <td>29.7</td>\n",
       "      <td>16.4</td>\n",
       "      <td>4.9</td>\n",
       "    </tr>\n",
       "    <tr>\n",
       "      <th>27209</th>\n",
       "      <td>4.8</td>\n",
       "      <td>30.6</td>\n",
       "      <td>28.1</td>\n",
       "      <td>27.0</td>\n",
       "      <td>12.2</td>\n",
       "      <td>4.9</td>\n",
       "    </tr>\n",
       "  </tbody>\n",
       "</table>\n",
       "<p>18257 rows × 6 columns</p>\n",
       "</div>"
      ],
      "text/plain": [
       "       HD_M_Value  HBP_M_Value  HC_M_Value  OB_M_Value  DB_M_Value  \\\n",
       "0             4.2         32.3        34.1        30.3        12.2   \n",
       "2             5.8         33.8        36.7        17.3         9.9   \n",
       "3             4.4         27.4        27.1        22.1        14.7   \n",
       "5             3.5         24.4        27.5        25.3        11.4   \n",
       "6             5.5         28.1        33.7        22.5         3.4   \n",
       "...           ...          ...         ...         ...         ...   \n",
       "27205         3.3         20.8        27.6        33.8        11.9   \n",
       "27206         4.9         32.5        30.7        33.0         7.4   \n",
       "27207         6.7         31.3        28.0        33.9        10.3   \n",
       "27208         5.2         31.9        34.1        29.7        16.4   \n",
       "27209         4.8         30.6        28.1        27.0        12.2   \n",
       "\n",
       "       Target_Value  \n",
       "0               3.4  \n",
       "2               3.1  \n",
       "3               2.0  \n",
       "5               2.6  \n",
       "6               2.9  \n",
       "...             ...  \n",
       "27205           1.3  \n",
       "27206           3.1  \n",
       "27207           4.5  \n",
       "27208           4.9  \n",
       "27209           4.9  \n",
       "\n",
       "[18257 rows x 6 columns]"
      ]
     },
     "execution_count": 645,
     "metadata": {},
     "output_type": "execute_result"
    }
   ],
   "source": [
    "df"
   ]
  },
  {
   "attachments": {},
   "cell_type": "markdown",
   "metadata": {},
   "source": [
    "ML Analysis - LinearRegression Model"
   ]
  },
  {
   "cell_type": "code",
   "execution_count": 646,
   "metadata": {},
   "outputs": [],
   "source": [
    "X=df.iloc[:, :-1] # Independent features.\n",
    "y=df.iloc[:, -1]  # dependent feature (Stroke).\n",
    "\n",
    "X_train, X_test, y_train, y_test = train_test_split(X,y,test_size=0.2)\n"
   ]
  },
  {
   "cell_type": "code",
   "execution_count": 647,
   "metadata": {},
   "outputs": [
    {
     "data": {
      "text/html": [
       "<div>\n",
       "<style scoped>\n",
       "    .dataframe tbody tr th:only-of-type {\n",
       "        vertical-align: middle;\n",
       "    }\n",
       "\n",
       "    .dataframe tbody tr th {\n",
       "        vertical-align: top;\n",
       "    }\n",
       "\n",
       "    .dataframe thead th {\n",
       "        text-align: right;\n",
       "    }\n",
       "</style>\n",
       "<table border=\"1\" class=\"dataframe\">\n",
       "  <thead>\n",
       "    <tr style=\"text-align: right;\">\n",
       "      <th></th>\n",
       "      <th>HD_M_Value</th>\n",
       "      <th>HBP_M_Value</th>\n",
       "      <th>HC_M_Value</th>\n",
       "      <th>OB_M_Value</th>\n",
       "      <th>DB_M_Value</th>\n",
       "    </tr>\n",
       "  </thead>\n",
       "  <tbody>\n",
       "    <tr>\n",
       "      <th>0</th>\n",
       "      <td>4.2</td>\n",
       "      <td>32.3</td>\n",
       "      <td>34.1</td>\n",
       "      <td>30.3</td>\n",
       "      <td>12.2</td>\n",
       "    </tr>\n",
       "    <tr>\n",
       "      <th>2</th>\n",
       "      <td>5.8</td>\n",
       "      <td>33.8</td>\n",
       "      <td>36.7</td>\n",
       "      <td>17.3</td>\n",
       "      <td>9.9</td>\n",
       "    </tr>\n",
       "    <tr>\n",
       "      <th>3</th>\n",
       "      <td>4.4</td>\n",
       "      <td>27.4</td>\n",
       "      <td>27.1</td>\n",
       "      <td>22.1</td>\n",
       "      <td>14.7</td>\n",
       "    </tr>\n",
       "    <tr>\n",
       "      <th>5</th>\n",
       "      <td>3.5</td>\n",
       "      <td>24.4</td>\n",
       "      <td>27.5</td>\n",
       "      <td>25.3</td>\n",
       "      <td>11.4</td>\n",
       "    </tr>\n",
       "    <tr>\n",
       "      <th>6</th>\n",
       "      <td>5.5</td>\n",
       "      <td>28.1</td>\n",
       "      <td>33.7</td>\n",
       "      <td>22.5</td>\n",
       "      <td>3.4</td>\n",
       "    </tr>\n",
       "    <tr>\n",
       "      <th>...</th>\n",
       "      <td>...</td>\n",
       "      <td>...</td>\n",
       "      <td>...</td>\n",
       "      <td>...</td>\n",
       "      <td>...</td>\n",
       "    </tr>\n",
       "    <tr>\n",
       "      <th>27205</th>\n",
       "      <td>3.3</td>\n",
       "      <td>20.8</td>\n",
       "      <td>27.6</td>\n",
       "      <td>33.8</td>\n",
       "      <td>11.9</td>\n",
       "    </tr>\n",
       "    <tr>\n",
       "      <th>27206</th>\n",
       "      <td>4.9</td>\n",
       "      <td>32.5</td>\n",
       "      <td>30.7</td>\n",
       "      <td>33.0</td>\n",
       "      <td>7.4</td>\n",
       "    </tr>\n",
       "    <tr>\n",
       "      <th>27207</th>\n",
       "      <td>6.7</td>\n",
       "      <td>31.3</td>\n",
       "      <td>28.0</td>\n",
       "      <td>33.9</td>\n",
       "      <td>10.3</td>\n",
       "    </tr>\n",
       "    <tr>\n",
       "      <th>27208</th>\n",
       "      <td>5.2</td>\n",
       "      <td>31.9</td>\n",
       "      <td>34.1</td>\n",
       "      <td>29.7</td>\n",
       "      <td>16.4</td>\n",
       "    </tr>\n",
       "    <tr>\n",
       "      <th>27209</th>\n",
       "      <td>4.8</td>\n",
       "      <td>30.6</td>\n",
       "      <td>28.1</td>\n",
       "      <td>27.0</td>\n",
       "      <td>12.2</td>\n",
       "    </tr>\n",
       "  </tbody>\n",
       "</table>\n",
       "<p>18257 rows × 5 columns</p>\n",
       "</div>"
      ],
      "text/plain": [
       "       HD_M_Value  HBP_M_Value  HC_M_Value  OB_M_Value  DB_M_Value\n",
       "0             4.2         32.3        34.1        30.3        12.2\n",
       "2             5.8         33.8        36.7        17.3         9.9\n",
       "3             4.4         27.4        27.1        22.1        14.7\n",
       "5             3.5         24.4        27.5        25.3        11.4\n",
       "6             5.5         28.1        33.7        22.5         3.4\n",
       "...           ...          ...         ...         ...         ...\n",
       "27205         3.3         20.8        27.6        33.8        11.9\n",
       "27206         4.9         32.5        30.7        33.0         7.4\n",
       "27207         6.7         31.3        28.0        33.9        10.3\n",
       "27208         5.2         31.9        34.1        29.7        16.4\n",
       "27209         4.8         30.6        28.1        27.0        12.2\n",
       "\n",
       "[18257 rows x 5 columns]"
      ]
     },
     "execution_count": 647,
     "metadata": {},
     "output_type": "execute_result"
    }
   ],
   "source": [
    "X"
   ]
  },
  {
   "attachments": {},
   "cell_type": "markdown",
   "metadata": {},
   "source": [
    "ML Analyzing using - Linear Regression Model."
   ]
  },
  {
   "cell_type": "code",
   "execution_count": 648,
   "metadata": {},
   "outputs": [
    {
     "data": {
      "text/html": [
       "<style>#sk-container-id-38 {color: black;background-color: white;}#sk-container-id-38 pre{padding: 0;}#sk-container-id-38 div.sk-toggleable {background-color: white;}#sk-container-id-38 label.sk-toggleable__label {cursor: pointer;display: block;width: 100%;margin-bottom: 0;padding: 0.3em;box-sizing: border-box;text-align: center;}#sk-container-id-38 label.sk-toggleable__label-arrow:before {content: \"▸\";float: left;margin-right: 0.25em;color: #696969;}#sk-container-id-38 label.sk-toggleable__label-arrow:hover:before {color: black;}#sk-container-id-38 div.sk-estimator:hover label.sk-toggleable__label-arrow:before {color: black;}#sk-container-id-38 div.sk-toggleable__content {max-height: 0;max-width: 0;overflow: hidden;text-align: left;background-color: #f0f8ff;}#sk-container-id-38 div.sk-toggleable__content pre {margin: 0.2em;color: black;border-radius: 0.25em;background-color: #f0f8ff;}#sk-container-id-38 input.sk-toggleable__control:checked~div.sk-toggleable__content {max-height: 200px;max-width: 100%;overflow: auto;}#sk-container-id-38 input.sk-toggleable__control:checked~label.sk-toggleable__label-arrow:before {content: \"▾\";}#sk-container-id-38 div.sk-estimator input.sk-toggleable__control:checked~label.sk-toggleable__label {background-color: #d4ebff;}#sk-container-id-38 div.sk-label input.sk-toggleable__control:checked~label.sk-toggleable__label {background-color: #d4ebff;}#sk-container-id-38 input.sk-hidden--visually {border: 0;clip: rect(1px 1px 1px 1px);clip: rect(1px, 1px, 1px, 1px);height: 1px;margin: -1px;overflow: hidden;padding: 0;position: absolute;width: 1px;}#sk-container-id-38 div.sk-estimator {font-family: monospace;background-color: #f0f8ff;border: 1px dotted black;border-radius: 0.25em;box-sizing: border-box;margin-bottom: 0.5em;}#sk-container-id-38 div.sk-estimator:hover {background-color: #d4ebff;}#sk-container-id-38 div.sk-parallel-item::after {content: \"\";width: 100%;border-bottom: 1px solid gray;flex-grow: 1;}#sk-container-id-38 div.sk-label:hover label.sk-toggleable__label {background-color: #d4ebff;}#sk-container-id-38 div.sk-serial::before {content: \"\";position: absolute;border-left: 1px solid gray;box-sizing: border-box;top: 0;bottom: 0;left: 50%;z-index: 0;}#sk-container-id-38 div.sk-serial {display: flex;flex-direction: column;align-items: center;background-color: white;padding-right: 0.2em;padding-left: 0.2em;position: relative;}#sk-container-id-38 div.sk-item {position: relative;z-index: 1;}#sk-container-id-38 div.sk-parallel {display: flex;align-items: stretch;justify-content: center;background-color: white;position: relative;}#sk-container-id-38 div.sk-item::before, #sk-container-id-38 div.sk-parallel-item::before {content: \"\";position: absolute;border-left: 1px solid gray;box-sizing: border-box;top: 0;bottom: 0;left: 50%;z-index: -1;}#sk-container-id-38 div.sk-parallel-item {display: flex;flex-direction: column;z-index: 1;position: relative;background-color: white;}#sk-container-id-38 div.sk-parallel-item:first-child::after {align-self: flex-end;width: 50%;}#sk-container-id-38 div.sk-parallel-item:last-child::after {align-self: flex-start;width: 50%;}#sk-container-id-38 div.sk-parallel-item:only-child::after {width: 0;}#sk-container-id-38 div.sk-dashed-wrapped {border: 1px dashed gray;margin: 0 0.4em 0.5em 0.4em;box-sizing: border-box;padding-bottom: 0.4em;background-color: white;}#sk-container-id-38 div.sk-label label {font-family: monospace;font-weight: bold;display: inline-block;line-height: 1.2em;}#sk-container-id-38 div.sk-label-container {text-align: center;}#sk-container-id-38 div.sk-container {/* jupyter's `normalize.less` sets `[hidden] { display: none; }` but bootstrap.min.css set `[hidden] { display: none !important; }` so we also need the `!important` here to be able to override the default hidden behavior on the sphinx rendered scikit-learn.org. See: https://github.com/scikit-learn/scikit-learn/issues/21755 */display: inline-block !important;position: relative;}#sk-container-id-38 div.sk-text-repr-fallback {display: none;}</style><div id=\"sk-container-id-38\" class=\"sk-top-container\"><div class=\"sk-text-repr-fallback\"><pre>LinearRegression()</pre><b>In a Jupyter environment, please rerun this cell to show the HTML representation or trust the notebook. <br />On GitHub, the HTML representation is unable to render, please try loading this page with nbviewer.org.</b></div><div class=\"sk-container\" hidden><div class=\"sk-item\"><div class=\"sk-estimator sk-toggleable\"><input class=\"sk-toggleable__control sk-hidden--visually\" id=\"sk-estimator-id-38\" type=\"checkbox\" checked><label for=\"sk-estimator-id-38\" class=\"sk-toggleable__label sk-toggleable__label-arrow\">LinearRegression</label><div class=\"sk-toggleable__content\"><pre>LinearRegression()</pre></div></div></div></div></div>"
      ],
      "text/plain": [
       "LinearRegression()"
      ]
     },
     "execution_count": 648,
     "metadata": {},
     "output_type": "execute_result"
    }
   ],
   "source": [
    "# Fit/load into a model\n",
    "\n",
    "modelReg = LinearRegression ()\n",
    "modelReg.fit(X_train,y_train)\n",
    "#y_test"
   ]
  },
  {
   "cell_type": "code",
   "execution_count": 649,
   "metadata": {},
   "outputs": [
    {
     "name": "stdout",
     "output_type": "stream",
     "text": [
      "Predicted on training set:\n",
      "[2.66441637 2.89940316 2.81122485 ... 2.74409895 2.77586266 2.78140954]\n"
     ]
    }
   ],
   "source": [
    "#Predict on training set.\n",
    "score_train = modelReg.predict(X_train)\n",
    "print(f\"Predicted on training set:\\n{score_train}\")"
   ]
  },
  {
   "cell_type": "code",
   "execution_count": 650,
   "metadata": {},
   "outputs": [],
   "source": [
    "#Predict on Testing set.\n",
    "# See the performance (diff of actual value(y_test) from predicted X_test)\n",
    "\n",
    "y_pred = modelReg.predict(X_test)  # predict y on X.\n"
   ]
  },
  {
   "attachments": {},
   "cell_type": "markdown",
   "metadata": {},
   "source": [
    "Predicted Values save to df - Linear Regression "
   ]
  },
  {
   "cell_type": "code",
   "execution_count": 651,
   "metadata": {},
   "outputs": [
    {
     "data": {
      "text/html": [
       "<div>\n",
       "<style scoped>\n",
       "    .dataframe tbody tr th:only-of-type {\n",
       "        vertical-align: middle;\n",
       "    }\n",
       "\n",
       "    .dataframe tbody tr th {\n",
       "        vertical-align: top;\n",
       "    }\n",
       "\n",
       "    .dataframe thead th {\n",
       "        text-align: right;\n",
       "    }\n",
       "</style>\n",
       "<table border=\"1\" class=\"dataframe\">\n",
       "  <thead>\n",
       "    <tr style=\"text-align: right;\">\n",
       "      <th></th>\n",
       "      <th>Actual Stroke Value</th>\n",
       "      <th>Predicted Value</th>\n",
       "      <th>absErrors</th>\n",
       "      <th>Sqr</th>\n",
       "      <th>Percentage_Err</th>\n",
       "    </tr>\n",
       "  </thead>\n",
       "  <tbody>\n",
       "    <tr>\n",
       "      <th>1664</th>\n",
       "      <td>3.4</td>\n",
       "      <td>2.774551</td>\n",
       "      <td>0.625449</td>\n",
       "      <td>0.391186</td>\n",
       "      <td>18.395548</td>\n",
       "    </tr>\n",
       "    <tr>\n",
       "      <th>8305</th>\n",
       "      <td>3.1</td>\n",
       "      <td>2.832227</td>\n",
       "      <td>0.267773</td>\n",
       "      <td>0.071702</td>\n",
       "      <td>8.637843</td>\n",
       "    </tr>\n",
       "    <tr>\n",
       "      <th>17788</th>\n",
       "      <td>3.2</td>\n",
       "      <td>2.800212</td>\n",
       "      <td>0.399788</td>\n",
       "      <td>0.159830</td>\n",
       "      <td>12.493377</td>\n",
       "    </tr>\n",
       "    <tr>\n",
       "      <th>12519</th>\n",
       "      <td>2.1</td>\n",
       "      <td>3.004073</td>\n",
       "      <td>0.904073</td>\n",
       "      <td>0.817348</td>\n",
       "      <td>43.051092</td>\n",
       "    </tr>\n",
       "    <tr>\n",
       "      <th>24634</th>\n",
       "      <td>3.3</td>\n",
       "      <td>2.897191</td>\n",
       "      <td>0.402809</td>\n",
       "      <td>0.162255</td>\n",
       "      <td>12.206335</td>\n",
       "    </tr>\n",
       "  </tbody>\n",
       "</table>\n",
       "</div>"
      ],
      "text/plain": [
       "       Actual Stroke Value  Predicted Value  absErrors       Sqr  \\\n",
       "1664                   3.4         2.774551   0.625449  0.391186   \n",
       "8305                   3.1         2.832227   0.267773  0.071702   \n",
       "17788                  3.2         2.800212   0.399788  0.159830   \n",
       "12519                  2.1         3.004073   0.904073  0.817348   \n",
       "24634                  3.3         2.897191   0.402809  0.162255   \n",
       "\n",
       "       Percentage_Err  \n",
       "1664        18.395548  \n",
       "8305         8.637843  \n",
       "17788       12.493377  \n",
       "12519       43.051092  \n",
       "24634       12.206335  "
      ]
     },
     "execution_count": 651,
     "metadata": {},
     "output_type": "execute_result"
    }
   ],
   "source": [
    "# Creating new df for the results\n",
    "pred_y_df = pd.DataFrame({'Actual Stroke Value':y_test, 'Predicted Value':y_pred, 'absErrors':abs(y_test-y_pred),  'Sqr':(y_test-y_pred)*(y_test-y_pred),  'Percentage_Err':((abs(y_pred - y_test)) / y_test) * 100 })\n",
    "pred_y_df[0:5]\n"
   ]
  },
  {
   "cell_type": "code",
   "execution_count": 652,
   "metadata": {},
   "outputs": [
    {
     "name": "stdout",
     "output_type": "stream",
     "text": [
      "Score 0.013883862179828066\n",
      "r2:-106.09821607117235  \n",
      "MAE =  0.6845215621752261\n",
      "MAD =  0.6845215621752261\n",
      "MSE =  0.7138371966002942\n",
      "MAPE =  27.26118997065989\n"
     ]
    }
   ],
   "source": [
    "#print(modelReg.score(X_test,y_test))\n",
    "#print(r2_score(y_test,y_pred)) # the accuracy of the prediction and the different is the errors(SSE).\n",
    "print('Score', r2_score(y_test,y_pred)) # r2 = SSR / SST\n",
    "print(\"r2:{}  \".format(r2_score(y_pred,y_test)))  \n",
    "print('MAE = ', mean_absolute_error(y_pred,y_test))\n",
    "#print('MAPE = ', mean_absolute_percentage_error(y_pred,y_test))  # Verify error\n",
    "\n",
    "#==============================================================\n",
    "Tot_Err = pred_y_df['absErrors'].count()\n",
    "#==============================================================\n",
    "\n",
    "\n",
    "# Cal. MAD\n",
    "Sum_absErr = pred_y_df['absErrors'].sum()\n",
    "print('MAD = ', Sum_absErr / Tot_Err)\n",
    "\n",
    "\n",
    "# Cal. MSE\n",
    "Tot_Sum_Sqr = Sum_Sqr = pred_y_df['Sqr'].sum()\n",
    "print('MSE = ', Tot_Sum_Sqr / Tot_Err)\n",
    "\n",
    "# Cal. MAPE\n",
    "Tot_Percentage_Err = pred_y_df['Percentage_Err'].sum()\n",
    "print('MAPE = ', Tot_Percentage_Err / Tot_Err)"
   ]
  },
  {
   "cell_type": "code",
   "execution_count": 653,
   "metadata": {},
   "outputs": [],
   "source": [
    "#model_ranks=pd.Series(modelReg.feature_importances_,index=X_train.columns,name='Importance')\n",
    "#ax=model_ranks.plot(kind='barh')"
   ]
  },
  {
   "attachments": {},
   "cell_type": "markdown",
   "metadata": {},
   "source": [
    "## K-Fold CV on Linear Regression "
   ]
  },
  {
   "cell_type": "code",
   "execution_count": 654,
   "metadata": {},
   "outputs": [
    {
     "name": "stdout",
     "output_type": "stream",
     "text": [
      "0.01 accuracy with a standard deviation of 0.01\n"
     ]
    }
   ],
   "source": [
    "from sklearn.model_selection import cross_val_score\n",
    "scores = cross_val_score(modelReg, X_train,y_train, scoring='r2', cv=10)\n",
    "scores\n",
    "#print(np.mean(scores))\n",
    "\n",
    "print(\"%0.2f accuracy with a standard deviation of %0.2f\" % (scores.mean(), scores.std()))"
   ]
  },
  {
   "cell_type": "code",
   "execution_count": 655,
   "metadata": {},
   "outputs": [
    {
     "name": "stdout",
     "output_type": "stream",
     "text": [
      "Predicted values: [2.79071895 2.89552847 2.72434183 ... 3.04642623 2.98591907 2.79091995]\n",
      "Accuracy on testing values: [-0.00592722  0.00299206  0.01046008  0.02411976  0.03211956  0.01059337\n",
      "  0.01227562  0.02956148  0.01524361 -0.01441626]\n"
     ]
    }
   ],
   "source": [
    "# printing the scores on the test dataset.\n",
    "from sklearn.model_selection import cross_val_predict\n",
    "pred_values = cross_val_predict(modelReg, X_test,y_test)\n",
    "print('Predicted values:', pred_values)\n",
    "\n",
    "#  Test - 10 fold CV on the test data.\n",
    "scores_test = cross_val_score(modelReg, X_test, y_test, cv=10)\n",
    "print('Accuracy on testing values:', scores_test)\n"
   ]
  },
  {
   "cell_type": "code",
   "execution_count": 656,
   "metadata": {},
   "outputs": [
    {
     "name": "stdout",
     "output_type": "stream",
     "text": [
      "0.011702205646476449\n"
     ]
    }
   ],
   "source": [
    "print(np.mean(scores_test))"
   ]
  },
  {
   "cell_type": "code",
   "execution_count": null,
   "metadata": {},
   "outputs": [],
   "source": []
  },
  {
   "attachments": {},
   "cell_type": "markdown",
   "metadata": {},
   "source": [
    "XGBRegessor ML Model"
   ]
  },
  {
   "cell_type": "code",
   "execution_count": 657,
   "metadata": {},
   "outputs": [
    {
     "data": {
      "text/html": [
       "<style>#sk-container-id-39 {color: black;background-color: white;}#sk-container-id-39 pre{padding: 0;}#sk-container-id-39 div.sk-toggleable {background-color: white;}#sk-container-id-39 label.sk-toggleable__label {cursor: pointer;display: block;width: 100%;margin-bottom: 0;padding: 0.3em;box-sizing: border-box;text-align: center;}#sk-container-id-39 label.sk-toggleable__label-arrow:before {content: \"▸\";float: left;margin-right: 0.25em;color: #696969;}#sk-container-id-39 label.sk-toggleable__label-arrow:hover:before {color: black;}#sk-container-id-39 div.sk-estimator:hover label.sk-toggleable__label-arrow:before {color: black;}#sk-container-id-39 div.sk-toggleable__content {max-height: 0;max-width: 0;overflow: hidden;text-align: left;background-color: #f0f8ff;}#sk-container-id-39 div.sk-toggleable__content pre {margin: 0.2em;color: black;border-radius: 0.25em;background-color: #f0f8ff;}#sk-container-id-39 input.sk-toggleable__control:checked~div.sk-toggleable__content {max-height: 200px;max-width: 100%;overflow: auto;}#sk-container-id-39 input.sk-toggleable__control:checked~label.sk-toggleable__label-arrow:before {content: \"▾\";}#sk-container-id-39 div.sk-estimator input.sk-toggleable__control:checked~label.sk-toggleable__label {background-color: #d4ebff;}#sk-container-id-39 div.sk-label input.sk-toggleable__control:checked~label.sk-toggleable__label {background-color: #d4ebff;}#sk-container-id-39 input.sk-hidden--visually {border: 0;clip: rect(1px 1px 1px 1px);clip: rect(1px, 1px, 1px, 1px);height: 1px;margin: -1px;overflow: hidden;padding: 0;position: absolute;width: 1px;}#sk-container-id-39 div.sk-estimator {font-family: monospace;background-color: #f0f8ff;border: 1px dotted black;border-radius: 0.25em;box-sizing: border-box;margin-bottom: 0.5em;}#sk-container-id-39 div.sk-estimator:hover {background-color: #d4ebff;}#sk-container-id-39 div.sk-parallel-item::after {content: \"\";width: 100%;border-bottom: 1px solid gray;flex-grow: 1;}#sk-container-id-39 div.sk-label:hover label.sk-toggleable__label {background-color: #d4ebff;}#sk-container-id-39 div.sk-serial::before {content: \"\";position: absolute;border-left: 1px solid gray;box-sizing: border-box;top: 0;bottom: 0;left: 50%;z-index: 0;}#sk-container-id-39 div.sk-serial {display: flex;flex-direction: column;align-items: center;background-color: white;padding-right: 0.2em;padding-left: 0.2em;position: relative;}#sk-container-id-39 div.sk-item {position: relative;z-index: 1;}#sk-container-id-39 div.sk-parallel {display: flex;align-items: stretch;justify-content: center;background-color: white;position: relative;}#sk-container-id-39 div.sk-item::before, #sk-container-id-39 div.sk-parallel-item::before {content: \"\";position: absolute;border-left: 1px solid gray;box-sizing: border-box;top: 0;bottom: 0;left: 50%;z-index: -1;}#sk-container-id-39 div.sk-parallel-item {display: flex;flex-direction: column;z-index: 1;position: relative;background-color: white;}#sk-container-id-39 div.sk-parallel-item:first-child::after {align-self: flex-end;width: 50%;}#sk-container-id-39 div.sk-parallel-item:last-child::after {align-self: flex-start;width: 50%;}#sk-container-id-39 div.sk-parallel-item:only-child::after {width: 0;}#sk-container-id-39 div.sk-dashed-wrapped {border: 1px dashed gray;margin: 0 0.4em 0.5em 0.4em;box-sizing: border-box;padding-bottom: 0.4em;background-color: white;}#sk-container-id-39 div.sk-label label {font-family: monospace;font-weight: bold;display: inline-block;line-height: 1.2em;}#sk-container-id-39 div.sk-label-container {text-align: center;}#sk-container-id-39 div.sk-container {/* jupyter's `normalize.less` sets `[hidden] { display: none; }` but bootstrap.min.css set `[hidden] { display: none !important; }` so we also need the `!important` here to be able to override the default hidden behavior on the sphinx rendered scikit-learn.org. See: https://github.com/scikit-learn/scikit-learn/issues/21755 */display: inline-block !important;position: relative;}#sk-container-id-39 div.sk-text-repr-fallback {display: none;}</style><div id=\"sk-container-id-39\" class=\"sk-top-container\"><div class=\"sk-text-repr-fallback\"><pre>XGBRegressor(base_score=None, booster=None, callbacks=None,\n",
       "             colsample_bylevel=None, colsample_bynode=None,\n",
       "             colsample_bytree=None, early_stopping_rounds=None,\n",
       "             enable_categorical=False, eval_metric=None, feature_types=None,\n",
       "             gamma=None, gpu_id=None, grow_policy=None, importance_type=None,\n",
       "             interaction_constraints=None, learning_rate=None, max_bin=None,\n",
       "             max_cat_threshold=None, max_cat_to_onehot=None,\n",
       "             max_delta_step=None, max_depth=None, max_leaves=None,\n",
       "             min_child_weight=None, missing=nan, monotone_constraints=None,\n",
       "             n_estimators=100, n_jobs=None, num_parallel_tree=None,\n",
       "             predictor=None, random_state=None, ...)</pre><b>In a Jupyter environment, please rerun this cell to show the HTML representation or trust the notebook. <br />On GitHub, the HTML representation is unable to render, please try loading this page with nbviewer.org.</b></div><div class=\"sk-container\" hidden><div class=\"sk-item\"><div class=\"sk-estimator sk-toggleable\"><input class=\"sk-toggleable__control sk-hidden--visually\" id=\"sk-estimator-id-39\" type=\"checkbox\" checked><label for=\"sk-estimator-id-39\" class=\"sk-toggleable__label sk-toggleable__label-arrow\">XGBRegressor</label><div class=\"sk-toggleable__content\"><pre>XGBRegressor(base_score=None, booster=None, callbacks=None,\n",
       "             colsample_bylevel=None, colsample_bynode=None,\n",
       "             colsample_bytree=None, early_stopping_rounds=None,\n",
       "             enable_categorical=False, eval_metric=None, feature_types=None,\n",
       "             gamma=None, gpu_id=None, grow_policy=None, importance_type=None,\n",
       "             interaction_constraints=None, learning_rate=None, max_bin=None,\n",
       "             max_cat_threshold=None, max_cat_to_onehot=None,\n",
       "             max_delta_step=None, max_depth=None, max_leaves=None,\n",
       "             min_child_weight=None, missing=nan, monotone_constraints=None,\n",
       "             n_estimators=100, n_jobs=None, num_parallel_tree=None,\n",
       "             predictor=None, random_state=None, ...)</pre></div></div></div></div></div>"
      ],
      "text/plain": [
       "XGBRegressor(base_score=None, booster=None, callbacks=None,\n",
       "             colsample_bylevel=None, colsample_bynode=None,\n",
       "             colsample_bytree=None, early_stopping_rounds=None,\n",
       "             enable_categorical=False, eval_metric=None, feature_types=None,\n",
       "             gamma=None, gpu_id=None, grow_policy=None, importance_type=None,\n",
       "             interaction_constraints=None, learning_rate=None, max_bin=None,\n",
       "             max_cat_threshold=None, max_cat_to_onehot=None,\n",
       "             max_delta_step=None, max_depth=None, max_leaves=None,\n",
       "             min_child_weight=None, missing=nan, monotone_constraints=None,\n",
       "             n_estimators=100, n_jobs=None, num_parallel_tree=None,\n",
       "             predictor=None, random_state=None, ...)"
      ]
     },
     "execution_count": 657,
     "metadata": {},
     "output_type": "execute_result"
    }
   ],
   "source": [
    "#modelReg = LinearRegression ()\n",
    "modelXGB= XGBRegressor()\n",
    "modelXGB.fit(X_train,y_train)\n",
    "\n"
   ]
  },
  {
   "cell_type": "code",
   "execution_count": 658,
   "metadata": {},
   "outputs": [
    {
     "name": "stdout",
     "output_type": "stream",
     "text": [
      "predicted response:\n",
      "[2.542386  2.5961916 2.5707643 ... 2.3073168 2.7879899 2.137996 ]\n"
     ]
    }
   ],
   "source": [
    "#Predict on training set.\n",
    "score_train = modelXGB.predict(X_train)\n",
    "print(f\"predicted response:\\n{score_train}\")"
   ]
  },
  {
   "cell_type": "code",
   "execution_count": 659,
   "metadata": {},
   "outputs": [],
   "source": [
    "#Predict on Testing set.\n",
    "y_pred = modelXGB.predict(X_test)\n"
   ]
  },
  {
   "cell_type": "code",
   "execution_count": 660,
   "metadata": {},
   "outputs": [
    {
     "data": {
      "text/html": [
       "<div>\n",
       "<style scoped>\n",
       "    .dataframe tbody tr th:only-of-type {\n",
       "        vertical-align: middle;\n",
       "    }\n",
       "\n",
       "    .dataframe tbody tr th {\n",
       "        vertical-align: top;\n",
       "    }\n",
       "\n",
       "    .dataframe thead th {\n",
       "        text-align: right;\n",
       "    }\n",
       "</style>\n",
       "<table border=\"1\" class=\"dataframe\">\n",
       "  <thead>\n",
       "    <tr style=\"text-align: right;\">\n",
       "      <th></th>\n",
       "      <th>Actual Stroke Value</th>\n",
       "      <th>Predicted Value</th>\n",
       "      <th>absErrors</th>\n",
       "      <th>Sqr</th>\n",
       "      <th>Percentage_Err</th>\n",
       "    </tr>\n",
       "  </thead>\n",
       "  <tbody>\n",
       "    <tr>\n",
       "      <th>1664</th>\n",
       "      <td>3.4</td>\n",
       "      <td>2.649021</td>\n",
       "      <td>0.750979</td>\n",
       "      <td>0.563970</td>\n",
       "      <td>22.087627</td>\n",
       "    </tr>\n",
       "    <tr>\n",
       "      <th>8305</th>\n",
       "      <td>3.1</td>\n",
       "      <td>2.810361</td>\n",
       "      <td>0.289639</td>\n",
       "      <td>0.083891</td>\n",
       "      <td>9.343204</td>\n",
       "    </tr>\n",
       "    <tr>\n",
       "      <th>17788</th>\n",
       "      <td>3.2</td>\n",
       "      <td>2.838876</td>\n",
       "      <td>0.361124</td>\n",
       "      <td>0.130411</td>\n",
       "      <td>11.285125</td>\n",
       "    </tr>\n",
       "    <tr>\n",
       "      <th>12519</th>\n",
       "      <td>2.1</td>\n",
       "      <td>2.626641</td>\n",
       "      <td>0.526641</td>\n",
       "      <td>0.277351</td>\n",
       "      <td>25.078156</td>\n",
       "    </tr>\n",
       "    <tr>\n",
       "      <th>24634</th>\n",
       "      <td>3.3</td>\n",
       "      <td>3.032480</td>\n",
       "      <td>0.267520</td>\n",
       "      <td>0.071567</td>\n",
       "      <td>8.106681</td>\n",
       "    </tr>\n",
       "  </tbody>\n",
       "</table>\n",
       "</div>"
      ],
      "text/plain": [
       "       Actual Stroke Value  Predicted Value  absErrors       Sqr  \\\n",
       "1664                   3.4         2.649021   0.750979  0.563970   \n",
       "8305                   3.1         2.810361   0.289639  0.083891   \n",
       "17788                  3.2         2.838876   0.361124  0.130411   \n",
       "12519                  2.1         2.626641   0.526641  0.277351   \n",
       "24634                  3.3         3.032480   0.267520  0.071567   \n",
       "\n",
       "       Percentage_Err  \n",
       "1664        22.087627  \n",
       "8305         9.343204  \n",
       "17788       11.285125  \n",
       "12519       25.078156  \n",
       "24634        8.106681  "
      ]
     },
     "execution_count": 660,
     "metadata": {},
     "output_type": "execute_result"
    }
   ],
   "source": [
    "\n",
    "#-=================\n",
    "# Creating new df - holding values for Decision Tree\n",
    "\n",
    "pred_y_XGB_df = pd.DataFrame({'Actual Stroke Value':y_test, 'Predicted Value':y_pred, 'absErrors':abs(y_test-y_pred),  'Sqr':(y_test-y_pred)*(y_test-y_pred),  'Percentage_Err':((abs(y_pred - y_test)) / y_test) * 100 })\n",
    "pred_y_XGB_df [0:5]\n"
   ]
  },
  {
   "cell_type": "code",
   "execution_count": 661,
   "metadata": {},
   "outputs": [
    {
     "name": "stdout",
     "output_type": "stream",
     "text": [
      "Score -0.08343828359092642\n",
      "r2:-9.568624546511217  \n",
      "mae:0.7148567431009611  \n",
      "MAPE =  0.2541842908520739\n",
      "MAD =  0.7148567431009611\n",
      "MSE =  0.7842874864187837\n",
      "SSE =  2864.217900401398\n"
     ]
    }
   ],
   "source": [
    "\n",
    "print('Score', r2_score(y_test,y_pred))\n",
    "print(\"r2:{}  \".format(r2_score(y_pred,y_test)))  \n",
    "print(\"mae:{}  \".format(mean_absolute_error(y_pred,y_test)))\n",
    "\n",
    "#print('mean_absolute_error = ', mean_absolute_error(y_pred,y_test))\n",
    "print('MAPE = ', mean_absolute_percentage_error(y_pred,y_test))  # Verify error\n",
    "\n",
    "\n",
    "\n",
    "#==============================================================\n",
    "Tot_Err = pred_y_XGB_df['absErrors'].count()\n",
    "#==============================================================\n",
    "\n",
    "\n",
    "# Cal. MAD\n",
    "Sum_absErr = pred_y_XGB_df['absErrors'].sum()\n",
    "print('MAD = ', Sum_absErr / Tot_Err)\n",
    "\n",
    "\n",
    "# Cal. MSE\n",
    "Tot_Sum_Sqr = Sum_Sqr = pred_y_XGB_df['Sqr'].sum()\n",
    "print('MSE = ', Tot_Sum_Sqr / Tot_Err)\n",
    "\n",
    "# Cal. MAPE\n",
    "#Tot_Percentage_Err = pred_y_XGB_df['Percentage_Err'].sum()\n",
    "#print('MAPE = ', Tot_Percentage_Err / Tot_Err)\n",
    "\n",
    "from sklearn.metrics import mean_squared_error\n",
    "\n",
    "#print('MSE = ', mean_squared_error(pred_y_XGB_df['Actual Stroke Value'], pred_y_XGB_df['Predicted Value'] ) )\n",
    "\n",
    "#SSE - sum of sqr, the goal is to reduced SSE (compare to SSE before removing the outliers)\n",
    "print(\"SSE = \", pred_y_XGB_df['Sqr'].sum())"
   ]
  },
  {
   "attachments": {},
   "cell_type": "markdown",
   "metadata": {},
   "source": []
  },
  {
   "attachments": {},
   "cell_type": "markdown",
   "metadata": {},
   "source": [
    "## K-Fold CV on XGBRegessor ML Model"
   ]
  },
  {
   "cell_type": "code",
   "execution_count": 662,
   "metadata": {},
   "outputs": [
    {
     "name": "stdout",
     "output_type": "stream",
     "text": [
      "-0.10139822623250386\n",
      "-0.10 accuracy with a standard deviation of 0.02\n"
     ]
    }
   ],
   "source": [
    "from sklearn.model_selection import cross_val_score\n",
    "scores = cross_val_score(modelXGB, X_train,y_train, scoring='r2', cv=10)\n",
    "\n",
    "print(np.mean(scores))\n",
    "print(\"%0.2f accuracy with a standard deviation of %0.2f\" % (scores.mean(), scores.std()))"
   ]
  },
  {
   "attachments": {},
   "cell_type": "markdown",
   "metadata": {},
   "source": [
    "ML Analyzing using - Decision Tree Model."
   ]
  },
  {
   "cell_type": "code",
   "execution_count": 663,
   "metadata": {},
   "outputs": [
    {
     "data": {
      "text/html": [
       "<style>#sk-container-id-40 {color: black;background-color: white;}#sk-container-id-40 pre{padding: 0;}#sk-container-id-40 div.sk-toggleable {background-color: white;}#sk-container-id-40 label.sk-toggleable__label {cursor: pointer;display: block;width: 100%;margin-bottom: 0;padding: 0.3em;box-sizing: border-box;text-align: center;}#sk-container-id-40 label.sk-toggleable__label-arrow:before {content: \"▸\";float: left;margin-right: 0.25em;color: #696969;}#sk-container-id-40 label.sk-toggleable__label-arrow:hover:before {color: black;}#sk-container-id-40 div.sk-estimator:hover label.sk-toggleable__label-arrow:before {color: black;}#sk-container-id-40 div.sk-toggleable__content {max-height: 0;max-width: 0;overflow: hidden;text-align: left;background-color: #f0f8ff;}#sk-container-id-40 div.sk-toggleable__content pre {margin: 0.2em;color: black;border-radius: 0.25em;background-color: #f0f8ff;}#sk-container-id-40 input.sk-toggleable__control:checked~div.sk-toggleable__content {max-height: 200px;max-width: 100%;overflow: auto;}#sk-container-id-40 input.sk-toggleable__control:checked~label.sk-toggleable__label-arrow:before {content: \"▾\";}#sk-container-id-40 div.sk-estimator input.sk-toggleable__control:checked~label.sk-toggleable__label {background-color: #d4ebff;}#sk-container-id-40 div.sk-label input.sk-toggleable__control:checked~label.sk-toggleable__label {background-color: #d4ebff;}#sk-container-id-40 input.sk-hidden--visually {border: 0;clip: rect(1px 1px 1px 1px);clip: rect(1px, 1px, 1px, 1px);height: 1px;margin: -1px;overflow: hidden;padding: 0;position: absolute;width: 1px;}#sk-container-id-40 div.sk-estimator {font-family: monospace;background-color: #f0f8ff;border: 1px dotted black;border-radius: 0.25em;box-sizing: border-box;margin-bottom: 0.5em;}#sk-container-id-40 div.sk-estimator:hover {background-color: #d4ebff;}#sk-container-id-40 div.sk-parallel-item::after {content: \"\";width: 100%;border-bottom: 1px solid gray;flex-grow: 1;}#sk-container-id-40 div.sk-label:hover label.sk-toggleable__label {background-color: #d4ebff;}#sk-container-id-40 div.sk-serial::before {content: \"\";position: absolute;border-left: 1px solid gray;box-sizing: border-box;top: 0;bottom: 0;left: 50%;z-index: 0;}#sk-container-id-40 div.sk-serial {display: flex;flex-direction: column;align-items: center;background-color: white;padding-right: 0.2em;padding-left: 0.2em;position: relative;}#sk-container-id-40 div.sk-item {position: relative;z-index: 1;}#sk-container-id-40 div.sk-parallel {display: flex;align-items: stretch;justify-content: center;background-color: white;position: relative;}#sk-container-id-40 div.sk-item::before, #sk-container-id-40 div.sk-parallel-item::before {content: \"\";position: absolute;border-left: 1px solid gray;box-sizing: border-box;top: 0;bottom: 0;left: 50%;z-index: -1;}#sk-container-id-40 div.sk-parallel-item {display: flex;flex-direction: column;z-index: 1;position: relative;background-color: white;}#sk-container-id-40 div.sk-parallel-item:first-child::after {align-self: flex-end;width: 50%;}#sk-container-id-40 div.sk-parallel-item:last-child::after {align-self: flex-start;width: 50%;}#sk-container-id-40 div.sk-parallel-item:only-child::after {width: 0;}#sk-container-id-40 div.sk-dashed-wrapped {border: 1px dashed gray;margin: 0 0.4em 0.5em 0.4em;box-sizing: border-box;padding-bottom: 0.4em;background-color: white;}#sk-container-id-40 div.sk-label label {font-family: monospace;font-weight: bold;display: inline-block;line-height: 1.2em;}#sk-container-id-40 div.sk-label-container {text-align: center;}#sk-container-id-40 div.sk-container {/* jupyter's `normalize.less` sets `[hidden] { display: none; }` but bootstrap.min.css set `[hidden] { display: none !important; }` so we also need the `!important` here to be able to override the default hidden behavior on the sphinx rendered scikit-learn.org. See: https://github.com/scikit-learn/scikit-learn/issues/21755 */display: inline-block !important;position: relative;}#sk-container-id-40 div.sk-text-repr-fallback {display: none;}</style><div id=\"sk-container-id-40\" class=\"sk-top-container\"><div class=\"sk-text-repr-fallback\"><pre>DecisionTreeRegressor()</pre><b>In a Jupyter environment, please rerun this cell to show the HTML representation or trust the notebook. <br />On GitHub, the HTML representation is unable to render, please try loading this page with nbviewer.org.</b></div><div class=\"sk-container\" hidden><div class=\"sk-item\"><div class=\"sk-estimator sk-toggleable\"><input class=\"sk-toggleable__control sk-hidden--visually\" id=\"sk-estimator-id-40\" type=\"checkbox\" checked><label for=\"sk-estimator-id-40\" class=\"sk-toggleable__label sk-toggleable__label-arrow\">DecisionTreeRegressor</label><div class=\"sk-toggleable__content\"><pre>DecisionTreeRegressor()</pre></div></div></div></div></div>"
      ],
      "text/plain": [
       "DecisionTreeRegressor()"
      ]
     },
     "execution_count": 663,
     "metadata": {},
     "output_type": "execute_result"
    }
   ],
   "source": [
    "\n",
    "\n",
    "modelDT= DecisionTreeRegressor()\n",
    "modelDT.fit(X_train,y_train)\n",
    "\n"
   ]
  },
  {
   "cell_type": "code",
   "execution_count": 664,
   "metadata": {},
   "outputs": [
    {
     "name": "stdout",
     "output_type": "stream",
     "text": [
      "predicted response:\n",
      "[2.6 1.6 3.  ... 2.5 2.4 2.3]\n"
     ]
    }
   ],
   "source": [
    "#Predict on training set.\n",
    "score_train = modelDT.predict(X_train)\n",
    "print(f\"predicted response:\\n{score_train}\")"
   ]
  },
  {
   "cell_type": "code",
   "execution_count": 665,
   "metadata": {},
   "outputs": [
    {
     "data": {
      "text/plain": [
       "-1.0751484782808762"
      ]
     },
     "execution_count": 665,
     "metadata": {},
     "output_type": "execute_result"
    }
   ],
   "source": [
    "y_pred = modelDT.predict(X_test) # Predicting X(all factors).\n",
    "modelDT.score(X_test,y_test) # The performance."
   ]
  },
  {
   "cell_type": "code",
   "execution_count": 666,
   "metadata": {},
   "outputs": [
    {
     "data": {
      "text/html": [
       "<div>\n",
       "<style scoped>\n",
       "    .dataframe tbody tr th:only-of-type {\n",
       "        vertical-align: middle;\n",
       "    }\n",
       "\n",
       "    .dataframe tbody tr th {\n",
       "        vertical-align: top;\n",
       "    }\n",
       "\n",
       "    .dataframe thead th {\n",
       "        text-align: right;\n",
       "    }\n",
       "</style>\n",
       "<table border=\"1\" class=\"dataframe\">\n",
       "  <thead>\n",
       "    <tr style=\"text-align: right;\">\n",
       "      <th></th>\n",
       "      <th>Actual Stroke Value</th>\n",
       "      <th>Predicted Value</th>\n",
       "      <th>absErrors</th>\n",
       "      <th>Sqr</th>\n",
       "      <th>Percentage_Err</th>\n",
       "    </tr>\n",
       "  </thead>\n",
       "  <tbody>\n",
       "    <tr>\n",
       "      <th>1664</th>\n",
       "      <td>3.4</td>\n",
       "      <td>2.3</td>\n",
       "      <td>1.1</td>\n",
       "      <td>1.21</td>\n",
       "      <td>32.352941</td>\n",
       "    </tr>\n",
       "    <tr>\n",
       "      <th>8305</th>\n",
       "      <td>3.1</td>\n",
       "      <td>2.2</td>\n",
       "      <td>0.9</td>\n",
       "      <td>0.81</td>\n",
       "      <td>29.032258</td>\n",
       "    </tr>\n",
       "    <tr>\n",
       "      <th>17788</th>\n",
       "      <td>3.2</td>\n",
       "      <td>1.9</td>\n",
       "      <td>1.3</td>\n",
       "      <td>1.69</td>\n",
       "      <td>40.625000</td>\n",
       "    </tr>\n",
       "    <tr>\n",
       "      <th>12519</th>\n",
       "      <td>2.1</td>\n",
       "      <td>2.6</td>\n",
       "      <td>0.5</td>\n",
       "      <td>0.25</td>\n",
       "      <td>23.809524</td>\n",
       "    </tr>\n",
       "    <tr>\n",
       "      <th>24634</th>\n",
       "      <td>3.3</td>\n",
       "      <td>2.9</td>\n",
       "      <td>0.4</td>\n",
       "      <td>0.16</td>\n",
       "      <td>12.121212</td>\n",
       "    </tr>\n",
       "  </tbody>\n",
       "</table>\n",
       "</div>"
      ],
      "text/plain": [
       "       Actual Stroke Value  Predicted Value  absErrors   Sqr  Percentage_Err\n",
       "1664                   3.4              2.3        1.1  1.21       32.352941\n",
       "8305                   3.1              2.2        0.9  0.81       29.032258\n",
       "17788                  3.2              1.9        1.3  1.69       40.625000\n",
       "12519                  2.1              2.6        0.5  0.25       23.809524\n",
       "24634                  3.3              2.9        0.4  0.16       12.121212"
      ]
     },
     "execution_count": 666,
     "metadata": {},
     "output_type": "execute_result"
    }
   ],
   "source": [
    "# Creating new df - holding values for Decision Tree\n",
    "\n",
    "pred_y_DT_df = pd.DataFrame({'Actual Stroke Value':y_test, 'Predicted Value':y_pred, 'absErrors':abs(y_test-y_pred),  'Sqr':(y_test-y_pred)*(y_test-y_pred),  'Percentage_Err':((abs(y_pred - y_test)) / y_test) * 100 })\n",
    "pred_y_DT_df[0:5]\n"
   ]
  },
  {
   "cell_type": "code",
   "execution_count": 667,
   "metadata": {},
   "outputs": [
    {
     "name": "stdout",
     "output_type": "stream",
     "text": [
      "Score -1.0751484782808762\n",
      "r2:-0.8872676884885562  \n",
      "mae:0.9828587075575027  \n",
      "MAD =  0.9828587075575027\n",
      "MSE =  1.5021741511500546\n",
      "MAPE =  38.26274552956472\n",
      "SSE =  5485.94\n"
     ]
    }
   ],
   "source": [
    "print('Score', r2_score(y_test,y_pred))\n",
    "print(\"r2:{}  \".format(r2_score(y_pred,y_test)))  \n",
    "print(\"mae:{}  \".format(mean_absolute_error(y_pred,y_test)))\n",
    "\n",
    "#print('mean_absolute_error = ', mean_absolute_error(y_pred,y_test))\n",
    "#print('mean_absolute_percentage_error = ', mean_absolute_percentage_error(y_pred,y_test))  # Verify error\n",
    "\n",
    "\n",
    "\n",
    "#==============================================================\n",
    "Tot_Err = pred_y_DT_df['absErrors'].count()\n",
    "#==============================================================\n",
    "\n",
    "\n",
    "# Cal. MAD\n",
    "Sum_absErr = pred_y_DT_df['absErrors'].sum()\n",
    "print('MAD = ', Sum_absErr / Tot_Err)\n",
    "\n",
    "\n",
    "# Cal. MSE\n",
    "Tot_Sum_Sqr = Sum_Sqr = pred_y_DT_df['Sqr'].sum()\n",
    "print('MSE = ', Tot_Sum_Sqr / Tot_Err)\n",
    "\n",
    "# Cal. MAPE\n",
    "Tot_Percentage_Err = pred_y_DT_df['Percentage_Err'].sum()\n",
    "print('MAPE = ', Tot_Percentage_Err / Tot_Err)\n",
    "\n",
    "#SSE - sum of sqr, the goal is to reduced SSE (compare to SSE before removing the outliers)\n",
    "print(\"SSE = \", pred_y_DT_df['Sqr'].sum())\n"
   ]
  },
  {
   "cell_type": "code",
   "execution_count": 668,
   "metadata": {},
   "outputs": [
    {
     "data": {
      "image/png": "[encoded data removed]",
      "text/plain": [
       "<Figure size 640x480 with 1 Axes>"
      ]
     },
     "metadata": {},
     "output_type": "display_data"
    }
   ],
   "source": [
    "model_ranks=pd.Series(modelDT.feature_importances_,index=X_train.columns,name='Importance')\n",
    "ax=model_ranks.plot(kind='barh')"
   ]
  },
  {
   "attachments": {},
   "cell_type": "markdown",
   "metadata": {},
   "source": [
    "K-Fold on DecisionTree"
   ]
  },
  {
   "cell_type": "code",
   "execution_count": 669,
   "metadata": {},
   "outputs": [
    {
     "name": "stdout",
     "output_type": "stream",
     "text": [
      "-1.09 accuracy with a standard deviation of 0.09\n"
     ]
    }
   ],
   "source": [
    "from sklearn.model_selection import cross_val_score\n",
    "scores = cross_val_score(modelDT, X_train,y_train, scoring='r2', cv=10)\n",
    "scores\n",
    "#print(np.mean(scores))\n",
    "\n",
    "print(\"%0.2f accuracy with a standard deviation of %0.2f\" % (scores.mean(), scores.std()))"
   ]
  },
  {
   "attachments": {},
   "cell_type": "markdown",
   "metadata": {},
   "source": [
    "#### ML Analyzing using - RandomForestRegressor Model."
   ]
  },
  {
   "cell_type": "code",
   "execution_count": 670,
   "metadata": {},
   "outputs": [
    {
     "data": {
      "text/html": [
       "<style>#sk-container-id-41 {color: black;background-color: white;}#sk-container-id-41 pre{padding: 0;}#sk-container-id-41 div.sk-toggleable {background-color: white;}#sk-container-id-41 label.sk-toggleable__label {cursor: pointer;display: block;width: 100%;margin-bottom: 0;padding: 0.3em;box-sizing: border-box;text-align: center;}#sk-container-id-41 label.sk-toggleable__label-arrow:before {content: \"▸\";float: left;margin-right: 0.25em;color: #696969;}#sk-container-id-41 label.sk-toggleable__label-arrow:hover:before {color: black;}#sk-container-id-41 div.sk-estimator:hover label.sk-toggleable__label-arrow:before {color: black;}#sk-container-id-41 div.sk-toggleable__content {max-height: 0;max-width: 0;overflow: hidden;text-align: left;background-color: #f0f8ff;}#sk-container-id-41 div.sk-toggleable__content pre {margin: 0.2em;color: black;border-radius: 0.25em;background-color: #f0f8ff;}#sk-container-id-41 input.sk-toggleable__control:checked~div.sk-toggleable__content {max-height: 200px;max-width: 100%;overflow: auto;}#sk-container-id-41 input.sk-toggleable__control:checked~label.sk-toggleable__label-arrow:before {content: \"▾\";}#sk-container-id-41 div.sk-estimator input.sk-toggleable__control:checked~label.sk-toggleable__label {background-color: #d4ebff;}#sk-container-id-41 div.sk-label input.sk-toggleable__control:checked~label.sk-toggleable__label {background-color: #d4ebff;}#sk-container-id-41 input.sk-hidden--visually {border: 0;clip: rect(1px 1px 1px 1px);clip: rect(1px, 1px, 1px, 1px);height: 1px;margin: -1px;overflow: hidden;padding: 0;position: absolute;width: 1px;}#sk-container-id-41 div.sk-estimator {font-family: monospace;background-color: #f0f8ff;border: 1px dotted black;border-radius: 0.25em;box-sizing: border-box;margin-bottom: 0.5em;}#sk-container-id-41 div.sk-estimator:hover {background-color: #d4ebff;}#sk-container-id-41 div.sk-parallel-item::after {content: \"\";width: 100%;border-bottom: 1px solid gray;flex-grow: 1;}#sk-container-id-41 div.sk-label:hover label.sk-toggleable__label {background-color: #d4ebff;}#sk-container-id-41 div.sk-serial::before {content: \"\";position: absolute;border-left: 1px solid gray;box-sizing: border-box;top: 0;bottom: 0;left: 50%;z-index: 0;}#sk-container-id-41 div.sk-serial {display: flex;flex-direction: column;align-items: center;background-color: white;padding-right: 0.2em;padding-left: 0.2em;position: relative;}#sk-container-id-41 div.sk-item {position: relative;z-index: 1;}#sk-container-id-41 div.sk-parallel {display: flex;align-items: stretch;justify-content: center;background-color: white;position: relative;}#sk-container-id-41 div.sk-item::before, #sk-container-id-41 div.sk-parallel-item::before {content: \"\";position: absolute;border-left: 1px solid gray;box-sizing: border-box;top: 0;bottom: 0;left: 50%;z-index: -1;}#sk-container-id-41 div.sk-parallel-item {display: flex;flex-direction: column;z-index: 1;position: relative;background-color: white;}#sk-container-id-41 div.sk-parallel-item:first-child::after {align-self: flex-end;width: 50%;}#sk-container-id-41 div.sk-parallel-item:last-child::after {align-self: flex-start;width: 50%;}#sk-container-id-41 div.sk-parallel-item:only-child::after {width: 0;}#sk-container-id-41 div.sk-dashed-wrapped {border: 1px dashed gray;margin: 0 0.4em 0.5em 0.4em;box-sizing: border-box;padding-bottom: 0.4em;background-color: white;}#sk-container-id-41 div.sk-label label {font-family: monospace;font-weight: bold;display: inline-block;line-height: 1.2em;}#sk-container-id-41 div.sk-label-container {text-align: center;}#sk-container-id-41 div.sk-container {/* jupyter's `normalize.less` sets `[hidden] { display: none; }` but bootstrap.min.css set `[hidden] { display: none !important; }` so we also need the `!important` here to be able to override the default hidden behavior on the sphinx rendered scikit-learn.org. See: https://github.com/scikit-learn/scikit-learn/issues/21755 */display: inline-block !important;position: relative;}#sk-container-id-41 div.sk-text-repr-fallback {display: none;}</style><div id=\"sk-container-id-41\" class=\"sk-top-container\"><div class=\"sk-text-repr-fallback\"><pre>RandomForestRegressor(n_estimators=20, random_state=1)</pre><b>In a Jupyter environment, please rerun this cell to show the HTML representation or trust the notebook. <br />On GitHub, the HTML representation is unable to render, please try loading this page with nbviewer.org.</b></div><div class=\"sk-container\" hidden><div class=\"sk-item\"><div class=\"sk-estimator sk-toggleable\"><input class=\"sk-toggleable__control sk-hidden--visually\" id=\"sk-estimator-id-41\" type=\"checkbox\" checked><label for=\"sk-estimator-id-41\" class=\"sk-toggleable__label sk-toggleable__label-arrow\">RandomForestRegressor</label><div class=\"sk-toggleable__content\"><pre>RandomForestRegressor(n_estimators=20, random_state=1)</pre></div></div></div></div></div>"
      ],
      "text/plain": [
       "RandomForestRegressor(n_estimators=20, random_state=1)"
      ]
     },
     "execution_count": 670,
     "metadata": {},
     "output_type": "execute_result"
    }
   ],
   "source": [
    "\n",
    "\n",
    "modelRF = RandomForestRegressor(n_estimators=20, random_state=1)\n",
    "X_train, X_test, y_train, y_test = train_test_split(X,y,test_size=0.2)\n",
    "modelRF.fit(X_train,y_train)\n",
    "\n",
    "\n"
   ]
  },
  {
   "cell_type": "code",
   "execution_count": 671,
   "metadata": {},
   "outputs": [
    {
     "name": "stdout",
     "output_type": "stream",
     "text": [
      "predicted Training Score response:\n",
      "[2.345 1.98  2.555 ... 2.2   3.825 2.855]\n"
     ]
    }
   ],
   "source": [
    "#Predict on training set.\n",
    "score_train = modelRF.predict(X_train)\n",
    "print(f\"predicted Training Score response:\\n{score_train}\")"
   ]
  },
  {
   "cell_type": "code",
   "execution_count": 672,
   "metadata": {},
   "outputs": [],
   "source": [
    "#Predict on testing set.\n",
    "y_pred = modelRF.predict(X_test)\n"
   ]
  },
  {
   "cell_type": "code",
   "execution_count": 673,
   "metadata": {},
   "outputs": [
    {
     "data": {
      "text/html": [
       "<div>\n",
       "<style scoped>\n",
       "    .dataframe tbody tr th:only-of-type {\n",
       "        vertical-align: middle;\n",
       "    }\n",
       "\n",
       "    .dataframe tbody tr th {\n",
       "        vertical-align: top;\n",
       "    }\n",
       "\n",
       "    .dataframe thead th {\n",
       "        text-align: right;\n",
       "    }\n",
       "</style>\n",
       "<table border=\"1\" class=\"dataframe\">\n",
       "  <thead>\n",
       "    <tr style=\"text-align: right;\">\n",
       "      <th></th>\n",
       "      <th>Actual Stroke Value</th>\n",
       "      <th>Predicted Value</th>\n",
       "      <th>absErrors</th>\n",
       "      <th>Sqr</th>\n",
       "      <th>Percentage_Err</th>\n",
       "    </tr>\n",
       "  </thead>\n",
       "  <tbody>\n",
       "    <tr>\n",
       "      <th>9533</th>\n",
       "      <td>2.6</td>\n",
       "      <td>3.095</td>\n",
       "      <td>0.495</td>\n",
       "      <td>0.245025</td>\n",
       "      <td>19.038462</td>\n",
       "    </tr>\n",
       "    <tr>\n",
       "      <th>3435</th>\n",
       "      <td>2.5</td>\n",
       "      <td>2.505</td>\n",
       "      <td>0.005</td>\n",
       "      <td>0.000025</td>\n",
       "      <td>0.200000</td>\n",
       "    </tr>\n",
       "    <tr>\n",
       "      <th>7491</th>\n",
       "      <td>3.0</td>\n",
       "      <td>2.610</td>\n",
       "      <td>0.390</td>\n",
       "      <td>0.152100</td>\n",
       "      <td>13.000000</td>\n",
       "    </tr>\n",
       "    <tr>\n",
       "      <th>15267</th>\n",
       "      <td>3.4</td>\n",
       "      <td>2.895</td>\n",
       "      <td>0.505</td>\n",
       "      <td>0.255025</td>\n",
       "      <td>14.852941</td>\n",
       "    </tr>\n",
       "    <tr>\n",
       "      <th>25705</th>\n",
       "      <td>3.3</td>\n",
       "      <td>3.165</td>\n",
       "      <td>0.135</td>\n",
       "      <td>0.018225</td>\n",
       "      <td>4.090909</td>\n",
       "    </tr>\n",
       "  </tbody>\n",
       "</table>\n",
       "</div>"
      ],
      "text/plain": [
       "       Actual Stroke Value  Predicted Value  absErrors       Sqr  \\\n",
       "9533                   2.6            3.095      0.495  0.245025   \n",
       "3435                   2.5            2.505      0.005  0.000025   \n",
       "7491                   3.0            2.610      0.390  0.152100   \n",
       "15267                  3.4            2.895      0.505  0.255025   \n",
       "25705                  3.3            3.165      0.135  0.018225   \n",
       "\n",
       "       Percentage_Err  \n",
       "9533        19.038462  \n",
       "3435         0.200000  \n",
       "7491        13.000000  \n",
       "15267       14.852941  \n",
       "25705        4.090909  "
      ]
     },
     "execution_count": 673,
     "metadata": {},
     "output_type": "execute_result"
    }
   ],
   "source": [
    "\n",
    "pred_y_RF_df = pd.DataFrame({'Actual Stroke Value':y_test, 'Predicted Value':y_pred, 'absErrors':abs(y_test-y_pred),  'Sqr':(y_test-y_pred)*(y_test-y_pred),  'Percentage_Err':((abs(y_pred - y_test)) / y_test) * 100 })\n",
    "pred_y_RF_df[0:5]"
   ]
  },
  {
   "cell_type": "code",
   "execution_count": 674,
   "metadata": {},
   "outputs": [
    {
     "name": "stdout",
     "output_type": "stream",
     "text": [
      "Score -0.10581618728988285\n",
      "r2:-8.555913401478014  \n",
      "MAE =  0.7080052026286967\n",
      "MAPE =  0.24966537860415\n",
      "MSE 0.7733356859255203\n",
      "MAD =  0.7080052026286967\n"
     ]
    }
   ],
   "source": [
    "\n",
    "print('Score', r2_score(y_test,y_pred))\n",
    "print(\"r2:{}  \".format(r2_score(y_pred,y_test)))  \n",
    "#print(\"mae:{}  \".format(mean_absolute_error(y_pred,y_test)))\n",
    "print('MAE = ', mean_absolute_error(y_pred,y_test))\n",
    "print('MAPE = ', mean_absolute_percentage_error(y_pred,y_test))  # Verify error\n",
    "print('MSE', mean_squared_error(y_test,y_pred))\n",
    "\n",
    "#==============================================================\n",
    "Tot_Err = pred_y_RF_df['absErrors'].count()\n",
    "#==============================================================\n",
    "\n",
    "\n",
    "# Cal. MAD\n",
    "Sum_absErr = pred_y_RF_df['absErrors'].sum()\n",
    "print('MAD = ', Sum_absErr / Tot_Err)\n",
    "\n",
    "\n",
    "# Cal. MSE\n",
    "#Tot_Sum_Sqr = Sum_Sqr = pred_y_RF_df['Sqr'].sum()\n",
    "#print('MSE = ', Tot_Sum_Sqr / Tot_Err)\n",
    "\n",
    "# Cal. MAPE\n",
    "#Tot_Percentage_Err = pred_y_RF_df['Percentage_Err'].sum()\n",
    "#print('MAPE = ', Tot_Percentage_Err / Tot_Err)"
   ]
  },
  {
   "cell_type": "code",
   "execution_count": 675,
   "metadata": {},
   "outputs": [
    {
     "data": {
      "image/png": "[encoded data removed]",
      "text/plain": [
       "<Figure size 640x480 with 1 Axes>"
      ]
     },
     "metadata": {},
     "output_type": "display_data"
    }
   ],
   "source": [
    "model_ranks=pd.Series(modelRF.feature_importances_,index=X_train.columns,name='Importance')\n",
    "ax=model_ranks.plot(kind='barh')"
   ]
  },
  {
   "attachments": {},
   "cell_type": "markdown",
   "metadata": {},
   "source": [
    "### Cross Validation of all models"
   ]
  },
  {
   "attachments": {},
   "cell_type": "markdown",
   "metadata": {},
   "source": [
    "## k-fold CV  for all models"
   ]
  },
  {
   "cell_type": "code",
   "execution_count": 676,
   "metadata": {},
   "outputs": [],
   "source": [
    "from sklearn.model_selection import cross_val_score\n",
    "X=df\n",
    "y=df.iloc[:, -1]  # dependent feature (Stroke).\n",
    "\n",
    "X_train, X_test, y_train, y_test = train_test_split(X,y,test_size=0.2, random_state=True)"
   ]
  },
  {
   "attachments": {},
   "cell_type": "markdown",
   "metadata": {},
   "source": [
    "#modelReg = LinearRegression ()\n",
    "#modelXGB= XGBRegressor()\n",
    "#modelDT= DecisionTreeRegressor()\n",
    "#modelRF = RandomForestRegressor(n_estimators=20, random_state=1)"
   ]
  },
  {
   "cell_type": "code",
   "execution_count": 677,
   "metadata": {},
   "outputs": [
    {
     "name": "stdout",
     "output_type": "stream",
     "text": [
      "[('Linear Reg', LinearRegression()), ('XGBRegessor', XGBRegressor(base_score=None, booster=None, callbacks=None,\n",
      "             colsample_bylevel=None, colsample_bynode=None,\n",
      "             colsample_bytree=None, early_stopping_rounds=None,\n",
      "             enable_categorical=False, eval_metric=None, feature_types=None,\n",
      "             gamma=None, gpu_id=None, grow_policy=None, importance_type=None,\n",
      "             interaction_constraints=None, learning_rate=None, max_bin=None,\n",
      "             max_cat_threshold=None, max_cat_to_onehot=None,\n",
      "             max_delta_step=None, max_depth=None, max_leaves=None,\n",
      "             min_child_weight=None, missing=nan, monotone_constraints=None,\n",
      "             n_estimators=100, n_jobs=None, num_parallel_tree=None,\n",
      "             predictor=None, random_state=None, ...)), ('DecisionTree', DecisionTreeRegressor()), ('RandomForest', RandomForestRegressor())]\n"
     ]
    }
   ],
   "source": [
    "All_Modles = []\n",
    "All_Modles.append(('Linear Reg', LinearRegression ()))\n",
    "All_Modles.append (('XGBRegessor', XGBRegressor()))\n",
    "All_Modles.append(('DecisionTree', DecisionTreeRegressor()))\n",
    "All_Modles.append(('RandomForest', RandomForestRegressor()))\n",
    "print(All_Modles)"
   ]
  },
  {
   "cell_type": "code",
   "execution_count": 678,
   "metadata": {},
   "outputs": [
    {
     "name": "stdout",
     "output_type": "stream",
     "text": [
      "1.00 accuracy with a standard deviation of 0.00\n",
      "1.00 accuracy with a standard deviation of 0.00\n",
      "1.00 accuracy with a standard deviation of 0.00\n",
      "1.00 accuracy with a standard deviation of 0.00\n",
      "\n"
     ]
    }
   ],
   "source": [
    "results = dict()\n",
    "for name, CV_Modles in All_Modles:\n",
    "    kfold = KFold(n_splits=10, random_state=None)\n",
    "    scores = cross_val_score(CV_Modles, X_train,y_train, scoring='r2', cv=10)\n",
    "    print(\"%0.2f accuracy with a standard deviation of %0.2f\" % (scores.mean(), scores.std()))\n",
    "    \n",
    "print()"
   ]
  }
 ],
 "metadata": {
  "kernelspec": {
   "display_name": "Python 3",
   "language": "python",
   "name": "python3"
  },
  "language_info": {
   "codemirror_mode": {
    "name": "ipython",
    "version": 3
   },
   "file_extension": ".py",
   "mimetype": "text/x-python",
   "name": "python",
   "nbconvert_exporter": "python",
   "pygments_lexer": "ipython3",
   "version": "3.11.2"
  },
  "orig_nbformat": 4
 },
 "nbformat": 4,
 "nbformat_minor": 2
}
