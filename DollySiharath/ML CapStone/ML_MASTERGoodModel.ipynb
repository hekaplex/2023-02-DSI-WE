{
 "cells": [
  {
   "attachments": {},
   "cell_type": "markdown",
   "metadata": {},
   "source": []
  },
  {
   "cell_type": "code",
   "execution_count": 167,
   "metadata": {},
   "outputs": [
    {
     "name": "stdout",
     "output_type": "stream",
     "text": [
      "Collecting scikit-learn\n",
      "  Using cached scikit_learn-1.2.2-cp311-cp311-win_amd64.whl (8.3 MB)\n",
      "Collecting numpy>=1.17.3\n",
      "  Using cached numpy-1.24.3-cp311-cp311-win_amd64.whl (14.8 MB)\n",
      "Collecting scipy>=1.3.2\n",
      "  Using cached scipy-1.10.1-cp311-cp311-win_amd64.whl (42.2 MB)\n",
      "Collecting joblib>=1.1.1\n",
      "  Using cached joblib-1.2.0-py3-none-any.whl (297 kB)\n",
      "Collecting threadpoolctl>=2.0.0\n",
      "  Using cached threadpoolctl-3.1.0-py3-none-any.whl (14 kB)\n",
      "Installing collected packages: threadpoolctl, numpy, joblib, scipy, scikit-learn\n",
      "  Attempting uninstall: threadpoolctl\n",
      "    Found existing installation: threadpoolctl 3.1.0\n",
      "    Uninstalling threadpoolctl-3.1.0:\n",
      "      Successfully uninstalled threadpoolctl-3.1.0\n",
      "  Attempting uninstall: numpy\n",
      "    Found existing installation: numpy 1.24.3\n",
      "    Uninstalling numpy-1.24.3:\n",
      "      Successfully uninstalled numpy-1.24.3\n",
      "  Attempting uninstall: joblib\n",
      "    Found existing installation: joblib 1.2.0\n",
      "    Uninstalling joblib-1.2.0:\n",
      "      Successfully uninstalled joblib-1.2.0\n",
      "  Attempting uninstall: scipy\n",
      "    Found existing installation: scipy 1.10.1\n",
      "    Uninstalling scipy-1.10.1:\n",
      "      Successfully uninstalled scipy-1.10.1\n",
      "  Attempting uninstall: scikit-learn\n",
      "    Found existing installation: scikit-learn 1.2.2\n",
      "    Uninstalling scikit-learn-1.2.2:\n",
      "      Successfully uninstalled scikit-learn-1.2.2\n",
      "Successfully installed joblib-1.2.0 numpy-1.24.3 scikit-learn-1.2.2 scipy-1.10.1 threadpoolctl-3.1.0\n",
      "Note: you may need to restart the kernel to use updated packages.\n",
      "Requirement already satisfied: xgboost in c:\\users\\dolly\\appdata\\local\\r-mini~1\\envs\\datascience-pro-env\\lib\\site-packages (1.7.5)Note: you may need to restart the kernel to use updated packages.\n",
      "\n",
      "Requirement already satisfied: numpy in c:\\users\\dolly\\appdata\\local\\r-mini~1\\envs\\datascience-pro-env\\lib\\site-packages (from xgboost) (1.24.3)\n",
      "Requirement already satisfied: scipy in c:\\users\\dolly\\appdata\\local\\r-mini~1\\envs\\datascience-pro-env\\lib\\site-packages (from xgboost) (1.10.1)\n",
      "Requirement already satisfied: lightgbm in c:\\users\\dolly\\appdata\\local\\r-mini~1\\envs\\datascience-pro-env\\lib\\site-packages (3.3.5)\n",
      "Requirement already satisfied: wheel in c:\\users\\dolly\\appdata\\local\\r-mini~1\\envs\\datascience-pro-env\\lib\\site-packages (from lightgbm) (0.38.4)\n",
      "Requirement already satisfied: numpy in c:\\users\\dolly\\appdata\\local\\r-mini~1\\envs\\datascience-pro-env\\lib\\site-packages (from lightgbm) (1.24.3)\n",
      "Requirement already satisfied: scipy in c:\\users\\dolly\\appdata\\local\\r-mini~1\\envs\\datascience-pro-env\\lib\\site-packages (from lightgbm) (1.10.1)\n",
      "Requirement already satisfied: scikit-learn!=0.22.0 in c:\\users\\dolly\\appdata\\local\\r-mini~1\\envs\\datascience-pro-env\\lib\\site-packages (from lightgbm) (1.2.2)\n",
      "Requirement already satisfied: joblib>=1.1.1 in c:\\users\\dolly\\appdata\\local\\r-mini~1\\envs\\datascience-pro-env\\lib\\site-packages (from scikit-learn!=0.22.0->lightgbm) (1.2.0)\n",
      "Requirement already satisfied: threadpoolctl>=2.0.0 in c:\\users\\dolly\\appdata\\local\\r-mini~1\\envs\\datascience-pro-env\\lib\\site-packages (from scikit-learn!=0.22.0->lightgbm) (3.1.0)\n",
      "Note: you may need to restart the kernel to use updated packages.\n"
     ]
    },
    {
     "data": {
      "text/plain": [
       "HD_M_Value      0\n",
       "HD_M_US         0\n",
       "HD_M_REL_US     0\n",
       "HBP_M_Value     0\n",
       "HBP_M_US        0\n",
       "HBP_M_REL_US    0\n",
       "HC_M_Value      0\n",
       "HC_M_US         0\n",
       "HC_M_REL_US     0\n",
       "OB_M_Value      0\n",
       "OB_M_US         0\n",
       "OB_M_REL_US     0\n",
       "DB_M_Value      0\n",
       "DB_M_US         0\n",
       "DB_M_REL_US     0\n",
       "Target_Value    0\n",
       "dtype: int64"
      ]
     },
     "execution_count": 167,
     "metadata": {},
     "output_type": "execute_result"
    }
   ],
   "source": [
    "# !pip install openpyxl  \n",
    "import os\n",
    "import pandas as pd \n",
    "import numpy as np \n",
    "import matplotlib.pylab as plt\n",
    "import matplotlib.pyplot as plt \n",
    "\n",
    "\n",
    "plt.style.use('fivethirtyeight') \n",
    "import seaborn as sns \n",
    "sns.set_style('darkgrid')\n",
    "from matplotlib import style\n",
    "%matplotlib inline\n",
    "from statistics import mean\n",
    "\n",
    "\n",
    "# ML \n",
    "\n",
    "%pip install scikit-learn  --upgrade --force\n",
    "%pip install xgboost\n",
    "%pip install lightgbm\n",
    "\n",
    "from sklearn.linear_model import LinearRegression \n",
    "from sklearn import linear_model\n",
    "from xgboost import XGBRegressor\n",
    "from sklearn.ensemble import RandomForestRegressor\n",
    "from sklearn.tree import DecisionTreeRegressor\n",
    "from sklearn.model_selection import GridSearchCV\n",
    "\n",
    "\n",
    "from sklearn.preprocessing import LabelEncoder, OneHotEncoder\n",
    "from sklearn.model_selection import train_test_split\n",
    "from sklearn.model_selection import cross_val_score\n",
    "\n",
    "\n",
    "\n",
    "from sklearn.metrics import r2_score, mean_absolute_error\n",
    "from sklearn.metrics import mean_absolute_percentage_error\n",
    "from sklearn.metrics import mean_squared_error\n",
    "from sklearn.metrics import accuracy_score, roc_auc_score # use for classicfictation score\n",
    "from sklearn.model_selection import cross_val_score\n",
    "from sklearn.model_selection import (TimeSeriesSplit, KFold, train_test_split, StratifiedKFold, GroupKFold, StratifiedGroupKFold)\n",
    "\n",
    "import lightgbm as lgb\n",
    "\n",
    "\n",
    "df01= pd.read_csv(\"MasterCapStoneFile_01.csv\" )\n",
    "\n",
    "#check for NULL values\n",
    "df01.isnull().sum()\n",
    "\n",
    "\n"
   ]
  },
  {
   "attachments": {},
   "cell_type": "markdown",
   "metadata": {},
   "source": []
  },
  {
   "attachments": {},
   "cell_type": "markdown",
   "metadata": {},
   "source": []
  },
  {
   "attachments": {},
   "cell_type": "markdown",
   "metadata": {},
   "source": [
    "Histrograms =  show the frequency of distribution. "
   ]
  },
  {
   "attachments": {},
   "cell_type": "markdown",
   "metadata": {},
   "source": []
  },
  {
   "attachments": {},
   "cell_type": "markdown",
   "metadata": {},
   "source": [
    "## ML "
   ]
  },
  {
   "attachments": {},
   "cell_type": "markdown",
   "metadata": {},
   "source": [
    "##### Dividing the dataset into independent and dependent features."
   ]
  },
  {
   "cell_type": "code",
   "execution_count": 168,
   "metadata": {},
   "outputs": [],
   "source": [
    "df_01 = df01.drop(columns=[ 'HD_M_US', 'HD_M_REL_US',  'HBP_M_US','HBP_M_REL_US',  'HC_M_US', 'HC_M_REL_US', \n",
    "'OB_M_US', 'OB_M_REL_US',  'DB_M_US', 'DB_M_REL_US'])"
   ]
  },
  {
   "attachments": {},
   "cell_type": "markdown",
   "metadata": {},
   "source": [
    "#### Below is the dataframe for the ML models:"
   ]
  },
  {
   "cell_type": "code",
   "execution_count": 169,
   "metadata": {},
   "outputs": [],
   "source": [
    "# Removing outliers by query for the values to keep\n",
    "\n",
    "df = df_01.query(\"`OB_M_Value` >=0 & `OB_M_Value` <50 & \\\n",
    "                  `DB_M_Value` >0 & `DB_M_Value` <19  & \\\n",
    "                  `HD_M_Value` <9  & `HD_M_Value` >1  & \\\n",
    "                  `HBP_M_Value` >13 & `HBP_M_Value` <45 & \\\n",
    "                  `HC_M_Value` >22 & `HC_M_Value` <41  & \\\n",
    "                  `Target_Value` >1 & `Target_Value` < 5\" )\n",
    "#print(df)"
   ]
  },
  {
   "cell_type": "code",
   "execution_count": 170,
   "metadata": {},
   "outputs": [
    {
     "data": {
      "image/png": "[encoded data removed]",
      "text/plain": [
       "<Figure size 2000x1000 with 6 Axes>"
      ]
     },
     "metadata": {},
     "output_type": "display_data"
    }
   ],
   "source": [
    "#Subplot after outliers are dropped.\n",
    "\n",
    "red_circle = dict(markerfacecolor='red', marker='o', markeredgecolor='white')\n",
    "fig, axs = plt.subplots(1, len(df.columns), figsize=(20,10))\n",
    "\n",
    "for i, ax in enumerate(axs.flat):\n",
    "    ax.boxplot(df.iloc[:,i], flierprops=red_circle) # exclude row#0 and #1\n",
    "    ax.set_title(df.columns[i], fontsize=20, fontweight='bold')\n",
    "    ax.tick_params(axis='y', labelsize=14)\n",
    "    \n",
    "plt.show()"
   ]
  },
  {
   "attachments": {},
   "cell_type": "markdown",
   "metadata": {},
   "source": [
    "ML Analysis - LinearRegression Model"
   ]
  },
  {
   "cell_type": "code",
   "execution_count": 171,
   "metadata": {},
   "outputs": [],
   "source": [
    "X=df.iloc[:, 1:] # Independent features.\n",
    "y=df.iloc[:, -1]  # dependent feature (Stroke).\n",
    "\n",
    "X_train, X_test, y_train, y_test = train_test_split(X,y,test_size=0.2)\n"
   ]
  },
  {
   "attachments": {},
   "cell_type": "markdown",
   "metadata": {},
   "source": [
    "ML Analyzing using - Linear Regression Model."
   ]
  },
  {
   "cell_type": "code",
   "execution_count": 174,
   "metadata": {},
   "outputs": [
    {
     "data": {
      "text/html": [
       "<style>#sk-container-id-6 {color: black;background-color: white;}#sk-container-id-6 pre{padding: 0;}#sk-container-id-6 div.sk-toggleable {background-color: white;}#sk-container-id-6 label.sk-toggleable__label {cursor: pointer;display: block;width: 100%;margin-bottom: 0;padding: 0.3em;box-sizing: border-box;text-align: center;}#sk-container-id-6 label.sk-toggleable__label-arrow:before {content: \"▸\";float: left;margin-right: 0.25em;color: #696969;}#sk-container-id-6 label.sk-toggleable__label-arrow:hover:before {color: black;}#sk-container-id-6 div.sk-estimator:hover label.sk-toggleable__label-arrow:before {color: black;}#sk-container-id-6 div.sk-toggleable__content {max-height: 0;max-width: 0;overflow: hidden;text-align: left;background-color: #f0f8ff;}#sk-container-id-6 div.sk-toggleable__content pre {margin: 0.2em;color: black;border-radius: 0.25em;background-color: #f0f8ff;}#sk-container-id-6 input.sk-toggleable__control:checked~div.sk-toggleable__content {max-height: 200px;max-width: 100%;overflow: auto;}#sk-container-id-6 input.sk-toggleable__control:checked~label.sk-toggleable__label-arrow:before {content: \"▾\";}#sk-container-id-6 div.sk-estimator input.sk-toggleable__control:checked~label.sk-toggleable__label {background-color: #d4ebff;}#sk-container-id-6 div.sk-label input.sk-toggleable__control:checked~label.sk-toggleable__label {background-color: #d4ebff;}#sk-container-id-6 input.sk-hidden--visually {border: 0;clip: rect(1px 1px 1px 1px);clip: rect(1px, 1px, 1px, 1px);height: 1px;margin: -1px;overflow: hidden;padding: 0;position: absolute;width: 1px;}#sk-container-id-6 div.sk-estimator {font-family: monospace;background-color: #f0f8ff;border: 1px dotted black;border-radius: 0.25em;box-sizing: border-box;margin-bottom: 0.5em;}#sk-container-id-6 div.sk-estimator:hover {background-color: #d4ebff;}#sk-container-id-6 div.sk-parallel-item::after {content: \"\";width: 100%;border-bottom: 1px solid gray;flex-grow: 1;}#sk-container-id-6 div.sk-label:hover label.sk-toggleable__label {background-color: #d4ebff;}#sk-container-id-6 div.sk-serial::before {content: \"\";position: absolute;border-left: 1px solid gray;box-sizing: border-box;top: 0;bottom: 0;left: 50%;z-index: 0;}#sk-container-id-6 div.sk-serial {display: flex;flex-direction: column;align-items: center;background-color: white;padding-right: 0.2em;padding-left: 0.2em;position: relative;}#sk-container-id-6 div.sk-item {position: relative;z-index: 1;}#sk-container-id-6 div.sk-parallel {display: flex;align-items: stretch;justify-content: center;background-color: white;position: relative;}#sk-container-id-6 div.sk-item::before, #sk-container-id-6 div.sk-parallel-item::before {content: \"\";position: absolute;border-left: 1px solid gray;box-sizing: border-box;top: 0;bottom: 0;left: 50%;z-index: -1;}#sk-container-id-6 div.sk-parallel-item {display: flex;flex-direction: column;z-index: 1;position: relative;background-color: white;}#sk-container-id-6 div.sk-parallel-item:first-child::after {align-self: flex-end;width: 50%;}#sk-container-id-6 div.sk-parallel-item:last-child::after {align-self: flex-start;width: 50%;}#sk-container-id-6 div.sk-parallel-item:only-child::after {width: 0;}#sk-container-id-6 div.sk-dashed-wrapped {border: 1px dashed gray;margin: 0 0.4em 0.5em 0.4em;box-sizing: border-box;padding-bottom: 0.4em;background-color: white;}#sk-container-id-6 div.sk-label label {font-family: monospace;font-weight: bold;display: inline-block;line-height: 1.2em;}#sk-container-id-6 div.sk-label-container {text-align: center;}#sk-container-id-6 div.sk-container {/* jupyter's `normalize.less` sets `[hidden] { display: none; }` but bootstrap.min.css set `[hidden] { display: none !important; }` so we also need the `!important` here to be able to override the default hidden behavior on the sphinx rendered scikit-learn.org. See: https://github.com/scikit-learn/scikit-learn/issues/21755 */display: inline-block !important;position: relative;}#sk-container-id-6 div.sk-text-repr-fallback {display: none;}</style><div id=\"sk-container-id-6\" class=\"sk-top-container\"><div class=\"sk-text-repr-fallback\"><pre>LinearRegression()</pre><b>In a Jupyter environment, please rerun this cell to show the HTML representation or trust the notebook. <br />On GitHub, the HTML representation is unable to render, please try loading this page with nbviewer.org.</b></div><div class=\"sk-container\" hidden><div class=\"sk-item\"><div class=\"sk-estimator sk-toggleable\"><input class=\"sk-toggleable__control sk-hidden--visually\" id=\"sk-estimator-id-6\" type=\"checkbox\" checked><label for=\"sk-estimator-id-6\" class=\"sk-toggleable__label sk-toggleable__label-arrow\">LinearRegression</label><div class=\"sk-toggleable__content\"><pre>LinearRegression()</pre></div></div></div></div></div>"
      ],
      "text/plain": [
       "LinearRegression()"
      ]
     },
     "execution_count": 174,
     "metadata": {},
     "output_type": "execute_result"
    }
   ],
   "source": [
    "# Fit/load into a model\n",
    "\n",
    "modelReg = LinearRegression ()\n",
    "modelReg.fit(X_train,y_train)\n",
    "#y_test"
   ]
  },
  {
   "cell_type": "code",
   "execution_count": 175,
   "metadata": {},
   "outputs": [
    {
     "data": {
      "text/plain": [
       "1.0"
      ]
     },
     "execution_count": 175,
     "metadata": {},
     "output_type": "execute_result"
    }
   ],
   "source": [
    "y_pred = modelReg.predict(X_test) # predict y on X.\n",
    "modelReg.score(X_test,y_test) # See the performance (diff of actual value(y_test) from predicted X_test)\n",
    "\n"
   ]
  },
  {
   "cell_type": "code",
   "execution_count": 176,
   "metadata": {},
   "outputs": [],
   "source": [
    "# plot to compare the differenct in these two values.\n",
    "# Actual Values(stroke) y_test\n",
    "#print(y_test)\n",
    "\n",
    "#Predicted X Values to test against Y(Target_Value).\n",
    "#print(y_pred)"
   ]
  },
  {
   "attachments": {},
   "cell_type": "markdown",
   "metadata": {},
   "source": [
    "Predicted Values save to df - Linear Regression "
   ]
  },
  {
   "cell_type": "code",
   "execution_count": 177,
   "metadata": {},
   "outputs": [
    {
     "data": {
      "text/html": [
       "<div>\n",
       "<style scoped>\n",
       "    .dataframe tbody tr th:only-of-type {\n",
       "        vertical-align: middle;\n",
       "    }\n",
       "\n",
       "    .dataframe tbody tr th {\n",
       "        vertical-align: top;\n",
       "    }\n",
       "\n",
       "    .dataframe thead th {\n",
       "        text-align: right;\n",
       "    }\n",
       "</style>\n",
       "<table border=\"1\" class=\"dataframe\">\n",
       "  <thead>\n",
       "    <tr style=\"text-align: right;\">\n",
       "      <th></th>\n",
       "      <th>Actual Stroke Value</th>\n",
       "      <th>Predicted Value</th>\n",
       "      <th>absErrors</th>\n",
       "      <th>Sqr</th>\n",
       "      <th>Percentage_Err</th>\n",
       "    </tr>\n",
       "  </thead>\n",
       "  <tbody>\n",
       "    <tr>\n",
       "      <th>22760</th>\n",
       "      <td>4.8</td>\n",
       "      <td>4.8</td>\n",
       "      <td>0.000000e+00</td>\n",
       "      <td>0.000000e+00</td>\n",
       "      <td>0.000000e+00</td>\n",
       "    </tr>\n",
       "    <tr>\n",
       "      <th>5931</th>\n",
       "      <td>1.3</td>\n",
       "      <td>1.3</td>\n",
       "      <td>4.440892e-16</td>\n",
       "      <td>1.972152e-31</td>\n",
       "      <td>3.416071e-14</td>\n",
       "    </tr>\n",
       "    <tr>\n",
       "      <th>7564</th>\n",
       "      <td>3.3</td>\n",
       "      <td>3.3</td>\n",
       "      <td>4.440892e-16</td>\n",
       "      <td>1.972152e-31</td>\n",
       "      <td>1.345725e-14</td>\n",
       "    </tr>\n",
       "    <tr>\n",
       "      <th>22566</th>\n",
       "      <td>3.3</td>\n",
       "      <td>3.3</td>\n",
       "      <td>0.000000e+00</td>\n",
       "      <td>0.000000e+00</td>\n",
       "      <td>0.000000e+00</td>\n",
       "    </tr>\n",
       "    <tr>\n",
       "      <th>5136</th>\n",
       "      <td>4.0</td>\n",
       "      <td>4.0</td>\n",
       "      <td>0.000000e+00</td>\n",
       "      <td>0.000000e+00</td>\n",
       "      <td>0.000000e+00</td>\n",
       "    </tr>\n",
       "  </tbody>\n",
       "</table>\n",
       "</div>"
      ],
      "text/plain": [
       "       Actual Stroke Value  Predicted Value     absErrors           Sqr  \\\n",
       "22760                  4.8              4.8  0.000000e+00  0.000000e+00   \n",
       "5931                   1.3              1.3  4.440892e-16  1.972152e-31   \n",
       "7564                   3.3              3.3  4.440892e-16  1.972152e-31   \n",
       "22566                  3.3              3.3  0.000000e+00  0.000000e+00   \n",
       "5136                   4.0              4.0  0.000000e+00  0.000000e+00   \n",
       "\n",
       "       Percentage_Err  \n",
       "22760    0.000000e+00  \n",
       "5931     3.416071e-14  \n",
       "7564     1.345725e-14  \n",
       "22566    0.000000e+00  \n",
       "5136     0.000000e+00  "
      ]
     },
     "execution_count": 177,
     "metadata": {},
     "output_type": "execute_result"
    }
   ],
   "source": [
    "# Creating new df for the results\n",
    "pred_y_df = pd.DataFrame({'Actual Stroke Value':y_test, 'Predicted Value':y_pred, 'absErrors':abs(y_test-y_pred),  'Sqr':(y_test-y_pred)*(y_test-y_pred),  'Percentage_Err':((abs(y_pred - y_test)) / y_test) * 100 })\n",
    "pred_y_df[0:5]\n"
   ]
  },
  {
   "cell_type": "code",
   "execution_count": 178,
   "metadata": {},
   "outputs": [
    {
     "name": "stdout",
     "output_type": "stream",
     "text": [
      "1.0\n",
      "Score 1.0\n",
      "r2:1.0  \n",
      "mae:2.1432290042736455e-16  \n",
      "MAE =  2.1432290042736455e-16\n",
      "MAD =  2.1432290042736455e-16\n",
      "MSE =  1.0688341639229789e-31\n",
      "MAPE =  8.260338270051489e-15\n"
     ]
    }
   ],
   "source": [
    "print(modelReg.score(X_test,y_test))\n",
    "#print(r2_score(y_test,y_pred)) # the accuracy of the prediction and the different is the errors(SSE).\n",
    "print('Score', r2_score(y_test,y_pred)) # r2 = SSR / SST\n",
    "print(\"r2:{}  \".format(r2_score(y_pred,y_test)))  \n",
    "\n",
    "print(\"mae:{}  \".format(mean_absolute_error(y_pred,y_test)))\n",
    "print('MAE = ', mean_absolute_error(y_pred,y_test))\n",
    "#print('MAPE = ', mean_absolute_percentage_error(y_pred,y_test))  # Verify error\n",
    "\n",
    "#==============================================================\n",
    "Tot_Err = pred_y_df['absErrors'].count()\n",
    "#==============================================================\n",
    "\n",
    "\n",
    "# Cal. MAD\n",
    "Sum_absErr = pred_y_df['absErrors'].sum()\n",
    "print('MAD = ', Sum_absErr / Tot_Err)\n",
    "\n",
    "\n",
    "# Cal. MSE\n",
    "Tot_Sum_Sqr = Sum_Sqr = pred_y_df['Sqr'].sum()\n",
    "print('MSE = ', Tot_Sum_Sqr / Tot_Err)\n",
    "\n",
    "# Cal. MAPE\n",
    "Tot_Percentage_Err = pred_y_df['Percentage_Err'].sum()\n",
    "print('MAPE = ', Tot_Percentage_Err / Tot_Err)"
   ]
  },
  {
   "cell_type": "code",
   "execution_count": 179,
   "metadata": {},
   "outputs": [],
   "source": [
    "#model_ranks=pd.Series(modelReg.feature_importances_,index=X_train.columns,name='Importance')\n",
    "#ax=model_ranks.plot(kind='barh')"
   ]
  },
  {
   "attachments": {},
   "cell_type": "markdown",
   "metadata": {},
   "source": [
    "## K-Fold CV on Linear Regression "
   ]
  },
  {
   "cell_type": "code",
   "execution_count": 219,
   "metadata": {},
   "outputs": [
    {
     "name": "stdout",
     "output_type": "stream",
     "text": [
      "1.00 accuracy with a standard deviation of 0.00\n"
     ]
    }
   ],
   "source": [
    "from sklearn.model_selection import cross_val_score\n",
    "scores = cross_val_score(modelReg, X_train,y_train, scoring='r2', cv=10)\n",
    "scores\n",
    "#print(np.mean(scores))\n",
    "\n",
    "print(\"%0.2f accuracy with a standard deviation of %0.2f\" % (scores.mean(), scores.std()))"
   ]
  },
  {
   "cell_type": "code",
   "execution_count": 224,
   "metadata": {},
   "outputs": [
    {
     "name": "stdout",
     "output_type": "stream",
     "text": [
      "Predicted values: [2.4 2.6 2.4 ... 3.4 1.5 1.8]\n",
      "Accuracy on testing values: [1. 1. 1. 1. 1. 1. 1. 1. 1. 1.]\n"
     ]
    }
   ],
   "source": [
    "# printing the scores on the test dataset.\n",
    "from sklearn.model_selection import cross_val_predict\n",
    "pred_values = cross_val_predict(modelReg, X_test,y_test)\n",
    "print('Predicted values:', pred_values)\n",
    "\n",
    "#  Test - 10 fold CV on the test data.\n",
    "scores_test = cross_val_score(modelReg, X_test, y_test, cv=10)\n",
    "print('Accuracy on testing values:', scores_test)\n",
    "#print(np.mean(scores_test))"
   ]
  },
  {
   "cell_type": "code",
   "execution_count": 218,
   "metadata": {},
   "outputs": [
    {
     "name": "stdout",
     "output_type": "stream",
     "text": [
      "[1. 1. 1. 1. 1. 1. 1. 1. 1. 1.]\n",
      "1.0\n"
     ]
    }
   ],
   "source": [
    "#  Test - 10 fold CV on the test data.\n",
    "scores_test = cross_val_score(modelReg, X_test, y_test, cv=10)\n",
    "print(scores_test)\n",
    "print(np.mean(scores_test))"
   ]
  },
  {
   "cell_type": "code",
   "execution_count": null,
   "metadata": {},
   "outputs": [],
   "source": []
  },
  {
   "attachments": {},
   "cell_type": "markdown",
   "metadata": {},
   "source": [
    "XGBRegessor ML Model"
   ]
  },
  {
   "cell_type": "code",
   "execution_count": 180,
   "metadata": {},
   "outputs": [
    {
     "data": {
      "text/plain": [
       "0.9999999995527518"
      ]
     },
     "execution_count": 180,
     "metadata": {},
     "output_type": "execute_result"
    }
   ],
   "source": [
    "#modelReg = LinearRegression ()\n",
    "modelXGB= XGBRegressor()\n",
    "modelXGB.fit(X_train,y_train)\n",
    "y_pred = modelXGB.predict(X_test) # Predicting X(all factors).\n",
    "modelXGB.score(X_test,y_test) # The performance.\n"
   ]
  },
  {
   "cell_type": "code",
   "execution_count": 181,
   "metadata": {},
   "outputs": [
    {
     "data": {
      "text/html": [
       "<div>\n",
       "<style scoped>\n",
       "    .dataframe tbody tr th:only-of-type {\n",
       "        vertical-align: middle;\n",
       "    }\n",
       "\n",
       "    .dataframe tbody tr th {\n",
       "        vertical-align: top;\n",
       "    }\n",
       "\n",
       "    .dataframe thead th {\n",
       "        text-align: right;\n",
       "    }\n",
       "</style>\n",
       "<table border=\"1\" class=\"dataframe\">\n",
       "  <thead>\n",
       "    <tr style=\"text-align: right;\">\n",
       "      <th></th>\n",
       "      <th>Actual Stroke Value</th>\n",
       "      <th>Predicted Value</th>\n",
       "      <th>absErrors</th>\n",
       "      <th>Sqr</th>\n",
       "      <th>Percentage_Err</th>\n",
       "    </tr>\n",
       "  </thead>\n",
       "  <tbody>\n",
       "    <tr>\n",
       "      <th>22760</th>\n",
       "      <td>4.8</td>\n",
       "      <td>4.799962</td>\n",
       "      <td>3.795624e-05</td>\n",
       "      <td>1.440676e-09</td>\n",
       "      <td>0.000791</td>\n",
       "    </tr>\n",
       "    <tr>\n",
       "      <th>5931</th>\n",
       "      <td>1.3</td>\n",
       "      <td>1.300025</td>\n",
       "      <td>2.474785e-05</td>\n",
       "      <td>6.124560e-10</td>\n",
       "      <td>0.001904</td>\n",
       "    </tr>\n",
       "    <tr>\n",
       "      <th>7564</th>\n",
       "      <td>3.3</td>\n",
       "      <td>3.300002</td>\n",
       "      <td>2.098083e-06</td>\n",
       "      <td>4.401954e-12</td>\n",
       "      <td>0.000064</td>\n",
       "    </tr>\n",
       "    <tr>\n",
       "      <th>22566</th>\n",
       "      <td>3.3</td>\n",
       "      <td>3.300002</td>\n",
       "      <td>2.098083e-06</td>\n",
       "      <td>4.401954e-12</td>\n",
       "      <td>0.000064</td>\n",
       "    </tr>\n",
       "    <tr>\n",
       "      <th>5136</th>\n",
       "      <td>4.0</td>\n",
       "      <td>4.000000</td>\n",
       "      <td>4.768372e-07</td>\n",
       "      <td>2.273737e-13</td>\n",
       "      <td>0.000012</td>\n",
       "    </tr>\n",
       "  </tbody>\n",
       "</table>\n",
       "</div>"
      ],
      "text/plain": [
       "       Actual Stroke Value  Predicted Value     absErrors           Sqr  \\\n",
       "22760                  4.8         4.799962  3.795624e-05  1.440676e-09   \n",
       "5931                   1.3         1.300025  2.474785e-05  6.124560e-10   \n",
       "7564                   3.3         3.300002  2.098083e-06  4.401954e-12   \n",
       "22566                  3.3         3.300002  2.098083e-06  4.401954e-12   \n",
       "5136                   4.0         4.000000  4.768372e-07  2.273737e-13   \n",
       "\n",
       "       Percentage_Err  \n",
       "22760        0.000791  \n",
       "5931         0.001904  \n",
       "7564         0.000064  \n",
       "22566        0.000064  \n",
       "5136         0.000012  "
      ]
     },
     "execution_count": 181,
     "metadata": {},
     "output_type": "execute_result"
    }
   ],
   "source": [
    "\n",
    "#-=================\n",
    "# Creating new df - holding values for Decision Tree\n",
    "\n",
    "pred_y_XGB_df = pd.DataFrame({'Actual Stroke Value':y_test, 'Predicted Value':y_pred, 'absErrors':abs(y_test-y_pred),  'Sqr':(y_test-y_pred)*(y_test-y_pred),  'Percentage_Err':((abs(y_pred - y_test)) / y_test) * 100 })\n",
    "pred_y_XGB_df [0:5]\n"
   ]
  },
  {
   "cell_type": "code",
   "execution_count": 182,
   "metadata": {},
   "outputs": [
    {
     "name": "stdout",
     "output_type": "stream",
     "text": [
      "Score 0.9999999995527518\n",
      "r2:0.999999999552742  \n",
      "mae:8.363954861597153e-06  \n",
      "mean_absolute_error =  8.363954861597153e-06\n",
      "mean_absolute_percentage_error =  3.3008562515170868e-06\n",
      "MAD =  8.363954861597153e-06\n",
      "MSE =  3.2010066999274014e-10\n",
      "MAPE =  0.00033009100631177095\n",
      "MSE =  3.2010066999274014e-10\n",
      "SSE =  1.169007646813487e-06\n"
     ]
    }
   ],
   "source": [
    "\n",
    "print('Score', r2_score(y_test,y_pred))\n",
    "print(\"r2:{}  \".format(r2_score(y_pred,y_test)))  \n",
    "print(\"mae:{}  \".format(mean_absolute_error(y_pred,y_test)))\n",
    "\n",
    "print('mean_absolute_error = ', mean_absolute_error(y_pred,y_test))\n",
    "print('mean_absolute_percentage_error = ', mean_absolute_percentage_error(y_pred,y_test))  # Verify error\n",
    "\n",
    "\n",
    "\n",
    "#==============================================================\n",
    "Tot_Err = pred_y_XGB_df['absErrors'].count()\n",
    "#==============================================================\n",
    "\n",
    "\n",
    "# Cal. MAD\n",
    "Sum_absErr = pred_y_XGB_df['absErrors'].sum()\n",
    "print('MAD = ', Sum_absErr / Tot_Err)\n",
    "\n",
    "\n",
    "# Cal. MSE\n",
    "Tot_Sum_Sqr = Sum_Sqr = pred_y_XGB_df['Sqr'].sum()\n",
    "print('MSE = ', Tot_Sum_Sqr / Tot_Err)\n",
    "\n",
    "# Cal. MAPE\n",
    "Tot_Percentage_Err = pred_y_XGB_df['Percentage_Err'].sum()\n",
    "print('MAPE = ', Tot_Percentage_Err / Tot_Err)\n",
    "\n",
    "from sklearn.metrics import mean_squared_error\n",
    "\n",
    "print('MSE = ', mean_squared_error(pred_y_XGB_df['Actual Stroke Value'], pred_y_XGB_df['Predicted Value'] ) )\n",
    "\n",
    "#SSE - sum of sqr, the goal is to reduced SSE (compare to SSE before removing the outliers)\n",
    "print(\"SSE = \", pred_y_XGB_df['Sqr'].sum())"
   ]
  },
  {
   "attachments": {},
   "cell_type": "markdown",
   "metadata": {},
   "source": []
  },
  {
   "attachments": {},
   "cell_type": "markdown",
   "metadata": {},
   "source": [
    "## K-Fold CV on XGBRegessor ML Model"
   ]
  },
  {
   "cell_type": "code",
   "execution_count": 225,
   "metadata": {},
   "outputs": [
    {
     "name": "stdout",
     "output_type": "stream",
     "text": [
      "1.00 accuracy with a standard deviation of 0.00\n"
     ]
    }
   ],
   "source": [
    "from sklearn.model_selection import cross_val_score\n",
    "scores = cross_val_score(modelXGB, X_train,y_train, scoring='r2', cv=10)\n",
    "scores\n",
    "#print(np.mean(scores))\n",
    "\n",
    "print(\"%0.2f accuracy with a standard deviation of %0.2f\" % (scores.mean(), scores.std()))"
   ]
  },
  {
   "attachments": {},
   "cell_type": "markdown",
   "metadata": {},
   "source": []
  },
  {
   "attachments": {},
   "cell_type": "markdown",
   "metadata": {},
   "source": [
    "ML Analyzing using - Decision Tree Model."
   ]
  },
  {
   "cell_type": "code",
   "execution_count": 183,
   "metadata": {},
   "outputs": [
    {
     "data": {
      "text/plain": [
       "1.0"
      ]
     },
     "execution_count": 183,
     "metadata": {},
     "output_type": "execute_result"
    }
   ],
   "source": [
    "\n",
    "\n",
    "modelDT= DecisionTreeRegressor()\n",
    "modelDT.fit(X_train,y_train)\n",
    "y_pred = modelDT.predict(X_test) # Predicting X(all factors).\n",
    "modelDT.score(X_test,y_test) # The performance.\n"
   ]
  },
  {
   "cell_type": "code",
   "execution_count": 184,
   "metadata": {},
   "outputs": [
    {
     "data": {
      "text/html": [
       "<div>\n",
       "<style scoped>\n",
       "    .dataframe tbody tr th:only-of-type {\n",
       "        vertical-align: middle;\n",
       "    }\n",
       "\n",
       "    .dataframe tbody tr th {\n",
       "        vertical-align: top;\n",
       "    }\n",
       "\n",
       "    .dataframe thead th {\n",
       "        text-align: right;\n",
       "    }\n",
       "</style>\n",
       "<table border=\"1\" class=\"dataframe\">\n",
       "  <thead>\n",
       "    <tr style=\"text-align: right;\">\n",
       "      <th></th>\n",
       "      <th>Actual Stroke Value</th>\n",
       "      <th>Predicted Value</th>\n",
       "      <th>absErrors</th>\n",
       "      <th>Sqr</th>\n",
       "      <th>Percentage_Err</th>\n",
       "    </tr>\n",
       "  </thead>\n",
       "  <tbody>\n",
       "    <tr>\n",
       "      <th>22760</th>\n",
       "      <td>4.8</td>\n",
       "      <td>4.8</td>\n",
       "      <td>8.881784e-16</td>\n",
       "      <td>7.888609e-31</td>\n",
       "      <td>1.850372e-14</td>\n",
       "    </tr>\n",
       "    <tr>\n",
       "      <th>5931</th>\n",
       "      <td>1.3</td>\n",
       "      <td>1.3</td>\n",
       "      <td>1.998401e-15</td>\n",
       "      <td>3.993608e-30</td>\n",
       "      <td>1.537232e-13</td>\n",
       "    </tr>\n",
       "    <tr>\n",
       "      <th>7564</th>\n",
       "      <td>3.3</td>\n",
       "      <td>3.3</td>\n",
       "      <td>2.797762e-14</td>\n",
       "      <td>7.827472e-28</td>\n",
       "      <td>8.478067e-13</td>\n",
       "    </tr>\n",
       "    <tr>\n",
       "      <th>22566</th>\n",
       "      <td>3.3</td>\n",
       "      <td>3.3</td>\n",
       "      <td>2.797762e-14</td>\n",
       "      <td>7.827472e-28</td>\n",
       "      <td>8.478067e-13</td>\n",
       "    </tr>\n",
       "    <tr>\n",
       "      <th>5136</th>\n",
       "      <td>4.0</td>\n",
       "      <td>4.0</td>\n",
       "      <td>0.000000e+00</td>\n",
       "      <td>0.000000e+00</td>\n",
       "      <td>0.000000e+00</td>\n",
       "    </tr>\n",
       "  </tbody>\n",
       "</table>\n",
       "</div>"
      ],
      "text/plain": [
       "       Actual Stroke Value  Predicted Value     absErrors           Sqr  \\\n",
       "22760                  4.8              4.8  8.881784e-16  7.888609e-31   \n",
       "5931                   1.3              1.3  1.998401e-15  3.993608e-30   \n",
       "7564                   3.3              3.3  2.797762e-14  7.827472e-28   \n",
       "22566                  3.3              3.3  2.797762e-14  7.827472e-28   \n",
       "5136                   4.0              4.0  0.000000e+00  0.000000e+00   \n",
       "\n",
       "       Percentage_Err  \n",
       "22760    1.850372e-14  \n",
       "5931     1.537232e-13  \n",
       "7564     8.478067e-13  \n",
       "22566    8.478067e-13  \n",
       "5136     0.000000e+00  "
      ]
     },
     "execution_count": 184,
     "metadata": {},
     "output_type": "execute_result"
    }
   ],
   "source": [
    "# Creating new df - holding values for Decision Tree\n",
    "\n",
    "pred_y_DT_df = pd.DataFrame({'Actual Stroke Value':y_test, 'Predicted Value':y_pred, 'absErrors':abs(y_test-y_pred),  'Sqr':(y_test-y_pred)*(y_test-y_pred),  'Percentage_Err':((abs(y_pred - y_test)) / y_test) * 100 })\n",
    "pred_y_DT_df[0:5]\n"
   ]
  },
  {
   "cell_type": "code",
   "execution_count": 185,
   "metadata": {},
   "outputs": [
    {
     "name": "stdout",
     "output_type": "stream",
     "text": [
      "Score 1.0\n",
      "r2:1.0  \n",
      "mae:1.3587950285449281e-14  \n",
      "mean_absolute_error =  1.3587950285449281e-14\n",
      "mean_absolute_percentage_error =  4.941326089791096e-15\n",
      "MAD =  1.3587950285449281e-14\n",
      "MSE =  3.2731975005888265e-28\n",
      "MAPE =  4.941326089791099e-13\n"
     ]
    }
   ],
   "source": [
    "print('Score', r2_score(y_test,y_pred))\n",
    "print(\"r2:{}  \".format(r2_score(y_pred,y_test)))  \n",
    "print(\"mae:{}  \".format(mean_absolute_error(y_pred,y_test)))\n",
    "\n",
    "print('mean_absolute_error = ', mean_absolute_error(y_pred,y_test))\n",
    "print('mean_absolute_percentage_error = ', mean_absolute_percentage_error(y_pred,y_test))  # Verify error\n",
    "\n",
    "\n",
    "\n",
    "#==============================================================\n",
    "Tot_Err = pred_y_DT_df['absErrors'].count()\n",
    "#==============================================================\n",
    "\n",
    "\n",
    "# Cal. MAD\n",
    "Sum_absErr = pred_y_DT_df['absErrors'].sum()\n",
    "print('MAD = ', Sum_absErr / Tot_Err)\n",
    "\n",
    "\n",
    "# Cal. MSE\n",
    "Tot_Sum_Sqr = Sum_Sqr = pred_y_DT_df['Sqr'].sum()\n",
    "print('MSE = ', Tot_Sum_Sqr / Tot_Err)\n",
    "\n",
    "# Cal. MAPE\n",
    "Tot_Percentage_Err = pred_y_DT_df['Percentage_Err'].sum()\n",
    "print('MAPE = ', Tot_Percentage_Err / Tot_Err)"
   ]
  },
  {
   "cell_type": "code",
   "execution_count": 186,
   "metadata": {},
   "outputs": [
    {
     "name": "stdout",
     "output_type": "stream",
     "text": [
      "MSE =  3.2731975005888265e-28\n",
      "SSE =  1.1953717272150394e-24\n"
     ]
    }
   ],
   "source": [
    "from sklearn.metrics import mean_squared_error\n",
    "\n",
    "print('MSE = ', mean_squared_error(pred_y_DT_df['Actual Stroke Value'], pred_y_DT_df['Predicted Value'] ) )\n",
    "\n",
    "#SSE - sum of sqr, the goal is to reduced SSE (compare to SSE before removing the outliers)\n",
    "print(\"SSE = \", pred_y_DT_df['Sqr'].sum())"
   ]
  },
  {
   "cell_type": "code",
   "execution_count": null,
   "metadata": {},
   "outputs": [],
   "source": [
    "model_ranks=pd.Series(modelDT.feature_importances_,index=X_train.columns,name='Importance')\n",
    "ax=model_ranks.plot(kind='barh')"
   ]
  },
  {
   "attachments": {},
   "cell_type": "markdown",
   "metadata": {},
   "source": [
    "K-Fold on DecisionTree"
   ]
  },
  {
   "cell_type": "code",
   "execution_count": 226,
   "metadata": {},
   "outputs": [
    {
     "name": "stdout",
     "output_type": "stream",
     "text": [
      "1.00 accuracy with a standard deviation of 0.00\n"
     ]
    }
   ],
   "source": [
    "from sklearn.model_selection import cross_val_score\n",
    "scores = cross_val_score(modelDT, X_train,y_train, scoring='r2', cv=10)\n",
    "scores\n",
    "#print(np.mean(scores))\n",
    "\n",
    "print(\"%0.2f accuracy with a standard deviation of %0.2f\" % (scores.mean(), scores.std()))"
   ]
  },
  {
   "attachments": {},
   "cell_type": "markdown",
   "metadata": {},
   "source": [
    "#### ML Analyzing using - RandomForestRegressor Model."
   ]
  },
  {
   "cell_type": "code",
   "execution_count": 188,
   "metadata": {},
   "outputs": [
    {
     "data": {
      "text/plain": [
       "1.0"
      ]
     },
     "execution_count": 188,
     "metadata": {},
     "output_type": "execute_result"
    }
   ],
   "source": [
    "\n",
    "\n",
    "modelRF = RandomForestRegressor(n_estimators=20, random_state=1)\n",
    "X_train, X_test, y_train, y_test = train_test_split(X,y,test_size=0.2)\n",
    "\n",
    "\n",
    "modelRF.fit(X_train,y_train)\n",
    "y_pred = modelRF.predict(X_test)\n",
    "modelRF.score(X_test,y_test)\n",
    "\n"
   ]
  },
  {
   "cell_type": "code",
   "execution_count": 189,
   "metadata": {},
   "outputs": [
    {
     "data": {
      "text/html": [
       "<div>\n",
       "<style scoped>\n",
       "    .dataframe tbody tr th:only-of-type {\n",
       "        vertical-align: middle;\n",
       "    }\n",
       "\n",
       "    .dataframe tbody tr th {\n",
       "        vertical-align: top;\n",
       "    }\n",
       "\n",
       "    .dataframe thead th {\n",
       "        text-align: right;\n",
       "    }\n",
       "</style>\n",
       "<table border=\"1\" class=\"dataframe\">\n",
       "  <thead>\n",
       "    <tr style=\"text-align: right;\">\n",
       "      <th></th>\n",
       "      <th>Actual Stroke Value</th>\n",
       "      <th>Predicted Value</th>\n",
       "      <th>absErrors</th>\n",
       "      <th>Sqr</th>\n",
       "      <th>Percentage_Err</th>\n",
       "    </tr>\n",
       "  </thead>\n",
       "  <tbody>\n",
       "    <tr>\n",
       "      <th>26444</th>\n",
       "      <td>2.3</td>\n",
       "      <td>2.3</td>\n",
       "      <td>5.329071e-15</td>\n",
       "      <td>2.839899e-29</td>\n",
       "      <td>2.316987e-13</td>\n",
       "    </tr>\n",
       "    <tr>\n",
       "      <th>20041</th>\n",
       "      <td>1.1</td>\n",
       "      <td>1.1</td>\n",
       "      <td>2.220446e-16</td>\n",
       "      <td>4.930381e-32</td>\n",
       "      <td>2.018587e-14</td>\n",
       "    </tr>\n",
       "    <tr>\n",
       "      <th>5139</th>\n",
       "      <td>3.0</td>\n",
       "      <td>3.0</td>\n",
       "      <td>0.000000e+00</td>\n",
       "      <td>0.000000e+00</td>\n",
       "      <td>0.000000e+00</td>\n",
       "    </tr>\n",
       "    <tr>\n",
       "      <th>23397</th>\n",
       "      <td>2.4</td>\n",
       "      <td>2.4</td>\n",
       "      <td>0.000000e+00</td>\n",
       "      <td>0.000000e+00</td>\n",
       "      <td>0.000000e+00</td>\n",
       "    </tr>\n",
       "    <tr>\n",
       "      <th>25462</th>\n",
       "      <td>4.1</td>\n",
       "      <td>4.1</td>\n",
       "      <td>7.993606e-15</td>\n",
       "      <td>6.389773e-29</td>\n",
       "      <td>1.949660e-13</td>\n",
       "    </tr>\n",
       "  </tbody>\n",
       "</table>\n",
       "</div>"
      ],
      "text/plain": [
       "       Actual Stroke Value  Predicted Value     absErrors           Sqr  \\\n",
       "26444                  2.3              2.3  5.329071e-15  2.839899e-29   \n",
       "20041                  1.1              1.1  2.220446e-16  4.930381e-32   \n",
       "5139                   3.0              3.0  0.000000e+00  0.000000e+00   \n",
       "23397                  2.4              2.4  0.000000e+00  0.000000e+00   \n",
       "25462                  4.1              4.1  7.993606e-15  6.389773e-29   \n",
       "\n",
       "       Percentage_Err  \n",
       "26444    2.316987e-13  \n",
       "20041    2.018587e-14  \n",
       "5139     0.000000e+00  \n",
       "23397    0.000000e+00  \n",
       "25462    1.949660e-13  "
      ]
     },
     "execution_count": 189,
     "metadata": {},
     "output_type": "execute_result"
    }
   ],
   "source": [
    "\n",
    "pred_y_RF_df = pd.DataFrame({'Actual Stroke Value':y_test, 'Predicted Value':y_pred, 'absErrors':abs(y_test-y_pred),  'Sqr':(y_test-y_pred)*(y_test-y_pred),  'Percentage_Err':((abs(y_pred - y_test)) / y_test) * 100 })\n",
    "pred_y_RF_df[0:5]"
   ]
  },
  {
   "cell_type": "code",
   "execution_count": 190,
   "metadata": {},
   "outputs": [
    {
     "name": "stdout",
     "output_type": "stream",
     "text": [
      "Score 1.0\n",
      "r2:1.0  \n",
      "mae:4.885467714933219e-15  \n",
      "mean_absolute_error =  4.885467714933219e-15\n",
      "mean_absolute_percentage_error =  1.792945145398906e-15\n",
      "MSE 4.6847931588827714e-29\n",
      "MAD =  4.885467714933219e-15\n",
      "MSE =  4.6847931588827714e-29\n",
      "MAPE =  1.792945145398906e-13\n"
     ]
    }
   ],
   "source": [
    "\n",
    "print('Score', r2_score(y_test,y_pred))\n",
    "print(\"r2:{}  \".format(r2_score(y_pred,y_test)))  \n",
    "print(\"mae:{}  \".format(mean_absolute_error(y_pred,y_test)))\n",
    "print('mean_absolute_error = ', mean_absolute_error(y_pred,y_test))\n",
    "print('mean_absolute_percentage_error = ', mean_absolute_percentage_error(y_pred,y_test))  # Verify error\n",
    "print('MSE', mean_squared_error(y_test,y_pred))\n",
    "\n",
    "#==============================================================\n",
    "Tot_Err = pred_y_RF_df['absErrors'].count()\n",
    "#==============================================================\n",
    "\n",
    "\n",
    "# Cal. MAD\n",
    "Sum_absErr = pred_y_RF_df['absErrors'].sum()\n",
    "print('MAD = ', Sum_absErr / Tot_Err)\n",
    "\n",
    "\n",
    "# Cal. MSE\n",
    "Tot_Sum_Sqr = Sum_Sqr = pred_y_RF_df['Sqr'].sum()\n",
    "print('MSE = ', Tot_Sum_Sqr / Tot_Err)\n",
    "\n",
    "# Cal. MAPE\n",
    "Tot_Percentage_Err = pred_y_RF_df['Percentage_Err'].sum()\n",
    "print('MAPE = ', Tot_Percentage_Err / Tot_Err)"
   ]
  },
  {
   "cell_type": "code",
   "execution_count": 191,
   "metadata": {},
   "outputs": [
    {
     "data": {
      "image/png": "[encoded data removed]",
      "text/plain": [
       "<Figure size 640x480 with 1 Axes>"
      ]
     },
     "metadata": {},
     "output_type": "display_data"
    }
   ],
   "source": [
    "model_ranks=pd.Series(modelRF.feature_importances_,index=X_train.columns,name='Importance')\n",
    "ax=model_ranks.plot(kind='barh')"
   ]
  },
  {
   "attachments": {},
   "cell_type": "markdown",
   "metadata": {},
   "source": [
    "### Cross Validation of all models"
   ]
  },
  {
   "attachments": {},
   "cell_type": "markdown",
   "metadata": {},
   "source": [
    "## k-fold CV  for all models"
   ]
  },
  {
   "cell_type": "code",
   "execution_count": 227,
   "metadata": {},
   "outputs": [],
   "source": [
    "from sklearn.model_selection import cross_val_score\n",
    "X=df\n",
    "y=df.iloc[:, -1]  # dependent feature (Stroke).\n",
    "\n",
    "X_train, X_test, y_train, y_test = train_test_split(X,y,test_size=0.2, random_state=True)"
   ]
  },
  {
   "attachments": {},
   "cell_type": "markdown",
   "metadata": {},
   "source": [
    "#modelReg = LinearRegression ()\n",
    "#modelXGB= XGBRegressor()\n",
    "#modelDT= DecisionTreeRegressor()\n",
    "#modelRF = RandomForestRegressor(n_estimators=20, random_state=1)"
   ]
  },
  {
   "cell_type": "code",
   "execution_count": null,
   "metadata": {},
   "outputs": [],
   "source": [
    "All_Modles = []\n",
    "All_Modles.append(('Linear Reg', LinearRegression ()))\n",
    "All_Modles.append (('XGBRegessor', XGBRegressor()))\n",
    "All_Modles.append(('DecisionTree', DecisionTreeRegressor()))\n",
    "All_Modles.append(('RandomForest', RandomForestRegressor()))\n",
    "print(All_Modles)"
   ]
  },
  {
   "cell_type": "code",
   "execution_count": 233,
   "metadata": {},
   "outputs": [
    {
     "name": "stdout",
     "output_type": "stream",
     "text": [
      "1.00 accuracy with a standard deviation of 0.00\n",
      "1.00 accuracy with a standard deviation of 0.00\n",
      "1.00 accuracy with a standard deviation of 0.00\n",
      "1.00 accuracy with a standard deviation of 0.00\n",
      "\n"
     ]
    }
   ],
   "source": [
    "results = dict()\n",
    "for name, CV_Modles in All_Modles:\n",
    "    kfold = KFold(n_splits=10, random_state=None)\n",
    "    scores = cross_val_score(CV_Modles, X_train,y_train, scoring='r2', cv=10)\n",
    "    print(\"%0.2f accuracy with a standard deviation of %0.2f\" % (scores.mean(), scores.std()))\n",
    "    \n",
    "print()"
   ]
  }
 ],
 "metadata": {
  "kernelspec": {
   "display_name": "Python 3",
   "language": "python",
   "name": "python3"
  },
  "language_info": {
   "codemirror_mode": {
    "name": "ipython",
    "version": 3
   },
   "file_extension": ".py",
   "mimetype": "text/x-python",
   "name": "python",
   "nbconvert_exporter": "python",
   "pygments_lexer": "ipython3",
   "version": "3.11.2"
  },
  "orig_nbformat": 4
 },
 "nbformat": 4,
 "nbformat_minor": 2
}
