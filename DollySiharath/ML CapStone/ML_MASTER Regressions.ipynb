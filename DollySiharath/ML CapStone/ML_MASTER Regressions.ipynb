{
 "cells": [
  {
   "attachments": {},
   "cell_type": "markdown",
   "metadata": {},
   "source": [
    "What is the relationship between the stroke population to diabetes, heart disease, and high blood pressure in respect to geographical area?\n",
    "Five factors contribute to stroke.  \n",
    "1.\tDiabetes\n",
    "2.\tHeart Disease\n",
    "3.\tHigh Blood Pressure\n",
    "4.\tHigh Cholesterol\n",
    "5.\tObesity\n"
   ]
  },
  {
   "cell_type": "code",
   "execution_count": 600,
   "metadata": {},
   "outputs": [
    {
     "name": "stdout",
     "output_type": "stream",
     "text": [
      "Collecting scikit-learn\n",
      "  Using cached scikit_learn-1.2.2-cp311-cp311-win_amd64.whl (8.3 MB)\n",
      "Collecting numpy>=1.17.3\n",
      "  Using cached numpy-1.24.3-cp311-cp311-win_amd64.whl (14.8 MB)\n",
      "Collecting scipy>=1.3.2\n",
      "  Using cached scipy-1.10.1-cp311-cp311-win_amd64.whl (42.2 MB)\n",
      "Collecting joblib>=1.1.1\n",
      "  Using cached joblib-1.2.0-py3-none-any.whl (297 kB)\n",
      "Collecting threadpoolctl>=2.0.0\n",
      "  Using cached threadpoolctl-3.1.0-py3-none-any.whl (14 kB)\n",
      "Installing collected packages: threadpoolctl, numpy, joblib, scipy, scikit-learn\n",
      "  Attempting uninstall: threadpoolctl\n",
      "    Found existing installation: threadpoolctl 3.1.0\n",
      "    Uninstalling threadpoolctl-3.1.0:\n",
      "      Successfully uninstalled threadpoolctl-3.1.0\n",
      "  Attempting uninstall: numpy\n",
      "    Found existing installation: numpy 1.24.3\n",
      "    Uninstalling numpy-1.24.3:\n",
      "      Successfully uninstalled numpy-1.24.3\n",
      "  Attempting uninstall: joblib\n",
      "    Found existing installation: joblib 1.2.0\n",
      "    Uninstalling joblib-1.2.0:\n",
      "      Successfully uninstalled joblib-1.2.0\n",
      "  Attempting uninstall: scipy\n",
      "    Found existing installation: scipy 1.10.1\n",
      "    Uninstalling scipy-1.10.1:\n",
      "      Successfully uninstalled scipy-1.10.1\n",
      "  Attempting uninstall: scikit-learn\n",
      "    Found existing installation: scikit-learn 1.2.2\n",
      "    Uninstalling scikit-learn-1.2.2:\n",
      "      Successfully uninstalled scikit-learn-1.2.2\n",
      "Successfully installed joblib-1.2.0 numpy-1.24.3 scikit-learn-1.2.2 scipy-1.10.1 threadpoolctl-3.1.0\n",
      "Note: you may need to restart the kernel to use updated packages.\n"
     ]
    }
   ],
   "source": [
    "# !pip install openpyxl  \n",
    "import os\n",
    "import pandas as pd \n",
    "import numpy as np \n",
    "import matplotlib.pylab as plt\n",
    "import matplotlib.pyplot as plt \n",
    "\n",
    "\n",
    "plt.style.use('fivethirtyeight') \n",
    "\n",
    "import seaborn as sns \n",
    "sns.set_style('darkgrid')\n",
    "\n",
    "%matplotlib inline\n",
    "\n",
    "%pip install scikit-learn  --upgrade --force\n",
    "from sklearn.linear_model import LinearRegression\n",
    "from sklearn.model_selection import train_test_split\n",
    "\n",
    "df_org = pd.read_csv(\"MasterCapStoneFile_01.csv\" )\n"
   ]
  },
  {
   "attachments": {},
   "cell_type": "markdown",
   "metadata": {},
   "source": [
    "#df_OB_O_Less = df.loc[df[\"OB_M_Value\"] < 12] # 16 records\n",
    "#df_OB_O_Grt50 = df.loc[df[\"OB_M_Value\"] > 50.0 ] # 62 records\n",
    "\n",
    "#df_DB_O_Less = df.loc[df[\"DB_M_Value\"] < 2] # 72 records below\n",
    "#df_DB_O_Greater  = df.loc[df[\"DB_M_Value\"] > 25.0 ] # 99 records\n",
    "\n",
    "#df_HD_O_Greater  = df.loc[df[\"HD_M_Value\"] > 15.0 ] #  records\n",
    "\n",
    "#df_HBP_O_Less = df.loc[df[\"HBP_M_Value\"] < 15.0] # 72 records\n",
    "#df_HBP_O_Greater  = df.loc[df[\"HBP_M_Value\"] > 50.0 ] #  records\n",
    "\n",
    "\n",
    "#df_HC_O_Less = df.loc[df[\"HC_M_Value\"] < 15.0] # 72 records\n",
    "#df_HC_O_Greater  = df.loc[df[\"HC_M_Value\"] > 45.0 ] #  records"
   ]
  },
  {
   "attachments": {},
   "cell_type": "markdown",
   "metadata": {},
   "source": []
  },
  {
   "cell_type": "code",
   "execution_count": 604,
   "metadata": {},
   "outputs": [
    {
     "name": "stdout",
     "output_type": "stream",
     "text": [
      "       HD_M_Value  HD_M_US  HD_M_REL_US  HBP_M_Value  HBP_M_US  HBP_M_REL_US  \\\n",
      "0             4.2      6.4    -0.343750         32.3      32.4     -0.003086   \n",
      "1             4.7      6.4    -0.265625         28.3      32.4     -0.126543   \n",
      "2             5.8      6.4    -0.093750         33.8      32.4      0.043210   \n",
      "3             4.4      6.4    -0.312500         27.4      32.4     -0.154321   \n",
      "4             4.0      6.4    -0.375000         33.0      32.4      0.018519   \n",
      "...           ...      ...          ...          ...       ...           ...   \n",
      "27205         3.3      6.4    -0.484375         20.8      32.4     -0.358025   \n",
      "27206         4.9      6.4    -0.234375         32.5      32.4      0.003086   \n",
      "27207         6.7      6.4     0.046875         31.3      32.4     -0.033951   \n",
      "27208         5.2      6.4    -0.187500         31.9      32.4     -0.015432   \n",
      "27209         4.8      6.4    -0.250000         30.6      32.4     -0.055556   \n",
      "\n",
      "       HC_M_Value  HC_M_US  HC_M_REL_US  OB_M_Value  OB_M_US  OB_M_REL_US  \\\n",
      "0            34.1     34.1     0.000000        30.3     30.1     0.006645   \n",
      "1            21.8     34.1    -0.360704        30.6     30.1     0.016611   \n",
      "2            36.7     34.1     0.076246        17.3     30.1    -0.425249   \n",
      "3            27.1     34.1    -0.205279        22.1     30.1    -0.265781   \n",
      "4            35.0     34.1     0.026393        25.7     30.1    -0.146179   \n",
      "...           ...      ...          ...         ...      ...          ...   \n",
      "27205        27.6     34.1    -0.190616        33.8     30.1     0.122924   \n",
      "27206        30.7     34.1    -0.099707        33.0     30.1     0.096346   \n",
      "27207        28.0     34.1    -0.178886        33.9     30.1     0.126246   \n",
      "27208        34.1     34.1     0.000000        29.7     30.1    -0.013289   \n",
      "27209        28.1     34.1    -0.175953        27.0     30.1    -0.102990   \n",
      "\n",
      "       DB_M_Value  DB_M_US  DB_M_REL_US  Target_Value  \n",
      "0            12.2     10.8     0.129630           3.4  \n",
      "1            10.8     10.8     0.000000           9.2  \n",
      "2             9.9     10.8    -0.083333           3.1  \n",
      "3            14.7     10.8     0.361111           2.0  \n",
      "4             8.1     10.8    -0.250000           7.0  \n",
      "...           ...      ...          ...           ...  \n",
      "27205        11.9     10.8     0.101852           1.3  \n",
      "27206         7.4     10.8    -0.314815           3.1  \n",
      "27207        10.3     10.8    -0.046296           4.5  \n",
      "27208        16.4     10.8     0.518519           4.9  \n",
      "27209        12.2     10.8     0.129630           4.9  \n",
      "\n",
      "[25125 rows x 16 columns]\n"
     ]
    }
   ],
   "source": [
    "# Removing outliers\n",
    "\n",
    "df = df_org.query(\"`OB_M_Value` >=12 & `OB_M_Value` <50 & `DB_M_Value` >2 & `DB_M_Value` <25  & `HD_M_Value` <15 & `HBP_M_Value` >15 & `HBP_M_Value` <50 & `HC_M_Value` >15 & `HC_M_Value` <45 \" )\n",
    "print(df)\n",
    "\n",
    "\n",
    "\n",
    "\n"
   ]
  },
  {
   "cell_type": "code",
   "execution_count": 607,
   "metadata": {},
   "outputs": [
    {
     "data": {
      "text/plain": [
       "count    25125.000000\n",
       "mean        10.751956\n",
       "std          4.114848\n",
       "min          2.100000\n",
       "25%          7.900000\n",
       "50%         10.000000\n",
       "75%         12.900000\n",
       "max         24.900000\n",
       "Name: DB_M_Value, dtype: float64"
      ]
     },
     "execution_count": 607,
     "metadata": {},
     "output_type": "execute_result"
    }
   ],
   "source": [
    "#df[\"HD_M_Value\"].describe()\n",
    "#df[\"HC_M_Value\"].describe()\n",
    "#df[\"HBP_M_Value\"].describe()\n",
    "#df[\"OB_M_Value\"].describe()\n",
    "df[\"DB_M_Value\"].describe()\n",
    "#df[\"Target_Value\"].describe()"
   ]
  },
  {
   "cell_type": "code",
   "execution_count": null,
   "metadata": {},
   "outputs": [],
   "source": [
    "red_circle = dict(markerfacecolor='red', marker='o') ## outliers\n",
    "mean_shape = dict(markerfacecolor='green', marker='D', markeredgecolor='green') ## \n",
    "\n",
    "plt.boxplot(x=df['HD_M_Value'], vert=True, flierprops=red_circle, showmeans=True, meanprops=mean_shape, notch=True);"
   ]
  },
  {
   "cell_type": "code",
   "execution_count": null,
   "metadata": {},
   "outputs": [],
   "source": [
    "df.head()"
   ]
  },
  {
   "cell_type": "code",
   "execution_count": null,
   "metadata": {},
   "outputs": [],
   "source": [
    "#print(df.isna)\n",
    "df.isna().sum()"
   ]
  },
  {
   "cell_type": "code",
   "execution_count": null,
   "metadata": {},
   "outputs": [],
   "source": [
    "# Count and determine the outliers \n",
    "HD_degree_counts = df['HD_M_Value'].value_counts() \n",
    "HBP_degree_counts = df['HBP_M_Value'].value_counts()\n",
    "HC_degree_counts = df['HC_M_Value'].value_counts(normalize=True) # get the percentage for each group.\n",
    "OB_degree_counts = df['OB_M_Value'].value_counts()\n",
    "DB_degree_counts = df['DB_M_Value'].value_counts()\n",
    "\n",
    "#print(HD_degree_counts)\n",
    "#print(HBP_degree_counts)\n",
    "#print(HC_degree_counts)\n",
    "print(OB_degree_counts)\n",
    "#print(DB_degree_counts)"
   ]
  },
  {
   "cell_type": "code",
   "execution_count": null,
   "metadata": {},
   "outputs": [],
   "source": [
    "df.describe().T"
   ]
  },
  {
   "cell_type": "code",
   "execution_count": null,
   "metadata": {},
   "outputs": [],
   "source": [
    "# verifying outliers from the mean of both lower and upper quantiles.\n",
    "# Obesity= 78\n",
    "# Diabetes = 171\n",
    "\n",
    "#df_OB_O_Less = df.loc[df[\"OB_M_Value\"] < 12] # 16 records\n",
    "#df_OB_O_Grt50 = df.loc[df[\"OB_M_Value\"] > 50.0 ] # 62 records\n",
    "#df_DB_O_Less = df.loc[df[\"DB_M_Value\"] < 2] # 72 records below\n",
    "#df_DB_O_Greater  = df.loc[df[\"DB_M_Value\"] > 25.0 ] # 99 records\n",
    "#df_HD_O_Greater  = df.loc[df[\"HD_M_Value\"] > 15.0 ] #  records\n",
    "#df_HBP_O_Less = df.loc[df[\"HBP_M_Value\"] < 15.0] # 72 records\n",
    "#df_HBP_O_Greater  = df.loc[df[\"HBP_M_Value\"] > 50.0 ] #  records\n",
    "#df_HC_O_Less = df.loc[df[\"HC_M_Value\"] < 15.0] # 72 records\n",
    "#df_HC_O_Greater  = df.loc[df[\"HC_M_Value\"] > 50.0 ] #  records\n",
    "#df_HC_O_Less = df.loc[df[\"HC_M_Value\"] < 15.0] # 72 records\n",
    "#df_HC_O_Greater  = df.loc[df[\"HC_M_Value\"] > 45.0 ] #  records\n",
    "\n",
    "#=============================================================\n",
    "\n",
    "\n",
    "df_HC_O_Less = df.loc[df[\"HC_M_Value\"] < 15.0] \n",
    "df_HC_O_Grter  = df.loc[df[\"HC_M_Value\"] > 45.0 ] \n",
    "\n",
    "#df_DB_O_Less = df.loc[df[\"DB_M_Value\"] < 2] # 72 records below\n",
    "#df_DB_O_Greater  = df.loc[df[\"DB_M_Value\"] > 25.0 ] # 99 records\n",
    "#print(df_HC_O_Less[\"HC_M_Value\"].value_counts())\n",
    "#print(df_HC_O_Grter[\"HC_M_Value\"].value_counts())\n",
    "\n",
    "\n"
   ]
  },
  {
   "cell_type": "code",
   "execution_count": null,
   "metadata": {},
   "outputs": [],
   "source": [
    "red_circle = dict(markerfacecolor='red', marker='o') ## outliers\n",
    "mean_shape = dict(markerfacecolor='green', marker='D', markeredgecolor='green') ## \n",
    "\n",
    "plt.boxplot(x=df['OB_M_Value'], vert=True, flierprops=red_circle, showmeans=True, meanprops=mean_shape, notch=True);"
   ]
  },
  {
   "cell_type": "code",
   "execution_count": null,
   "metadata": {},
   "outputs": [],
   "source": [
    "sns.distplot(df['OB_M_Value'])"
   ]
  },
  {
   "cell_type": "code",
   "execution_count": null,
   "metadata": {},
   "outputs": [],
   "source": [
    "df[\"OB_M_Value\"].describe()\n",
    "\n"
   ]
  },
  {
   "cell_type": "code",
   "execution_count": null,
   "metadata": {},
   "outputs": [],
   "source": [
    "np.percentile(df['OB_M_Value'], [25, 50, 75, 100])"
   ]
  },
  {
   "cell_type": "code",
   "execution_count": null,
   "metadata": {},
   "outputs": [],
   "source": [
    "import statistics\n",
    "\n",
    "statistics.quantiles(df['OB_M_Value'])"
   ]
  },
  {
   "cell_type": "code",
   "execution_count": null,
   "metadata": {},
   "outputs": [],
   "source": [
    "# Quantile mean it divide data into group.\n",
    "# 0.50 is the median or 50% quantile. It's 0.5 quantile. \n",
    "\n",
    "df_Percentile = df.describe([0.15, 0.25, 0.50, 0.75])\n",
    "df_Percentile"
   ]
  },
  {
   "cell_type": "code",
   "execution_count": null,
   "metadata": {},
   "outputs": [],
   "source": [
    "df_Percentile['HD_M_Value']"
   ]
  },
  {
   "cell_type": "code",
   "execution_count": null,
   "metadata": {},
   "outputs": [],
   "source": [
    "df_Percentile['HD_M_Value'][0]"
   ]
  },
  {
   "cell_type": "code",
   "execution_count": null,
   "metadata": {},
   "outputs": [],
   "source": [
    "df_Percentile['HD_M_Value']['mean']\n",
    "df_Percentile['HD_M_Value']['std']\n",
    "df_Percentile['HD_M_Value']['15%']"
   ]
  },
  {
   "cell_type": "code",
   "execution_count": null,
   "metadata": {},
   "outputs": [],
   "source": []
  },
  {
   "cell_type": "code",
   "execution_count": null,
   "metadata": {},
   "outputs": [],
   "source": [
    "#Removed \n",
    "#df_OB_O_Grt50 = df.loc[df[\"OB_M_Value\"] > 50.0 ] # 62 records\n",
    "df[\"OB_M_Value\"] > 50.0 \n"
   ]
  },
  {
   "cell_type": "code",
   "execution_count": null,
   "metadata": {},
   "outputs": [],
   "source": [
    "HD_degree_counts = df['HD_M_Value'].value_counts()"
   ]
  },
  {
   "cell_type": "code",
   "execution_count": null,
   "metadata": {},
   "outputs": [],
   "source": [
    "#df.info().T\n",
    "#df.head()\n",
    "#df\n",
    "#df.columns\n",
    "df.describe()\n",
    "#df.isna().sum()\n",
    "#df.shape "
   ]
  },
  {
   "cell_type": "code",
   "execution_count": null,
   "metadata": {},
   "outputs": [],
   "source": [
    "print(\"Index:  \", df.index)\n",
    "print(\"Columns:\", df.columns)\n",
    "print(\"Size:   \", df.size)\n",
    "print(\"Shape:  \", df.shape)\n",
    "df.describe().T # run a quick stat \n",
    "#df.columns"
   ]
  },
  {
   "cell_type": "code",
   "execution_count": null,
   "metadata": {},
   "outputs": [],
   "source": [
    "# Total number for all the factors by cities\n",
    "\n",
    "##OB_Mean = print(df[\"DB\"].mean())\n",
    "#DB_Mean = print(df[\"DB\"].mean())\n",
    "#HBP_Mean = print(df[\"HBP\"].mean())\n",
    "#HC_Mean = print(df[\"HC\"].mean())\n",
    "#HD_Mean = print(df[\"HD\"].mean())\n",
    "\n",
    "#OB_byUS = print(df[\"OBbyUS\"].mean())\n",
    "#DB_OB_byUS = print(df[\"DBbyUS\"].mean())\n",
    "#DB_OB_byUS = print(df[\"HBPbyUS\"].mean())\n",
    "#DB_OB_byUS = print(df[\"HCbyUS\"].mean())\n",
    "#HD_OB_byUS = print(df[\"HDbyUS\"].mean())\n",
    "\n",
    "#x_Risk_Factors = ['OB_Mean', 'DB_Mean','HBP_Mean', 'HC_Mean', 'HD_Mean']\n",
    "#y_ByUS = df['OB_byUS', 'DB_OB_byUS', 'DB_OB_byUS', 'DB_OB_byUS', 'HD_OB_byUS' ]\n",
    "\n",
    "#plt.bar(x_Risk_Factors,y_ByUS, color=\"#444444\", lable=\"All Factors\" )\n",
    "\n",
    "#plt.title('All Risk Factors')\n",
    "#plt.xlabel(\"Population by the factors\")\n",
    "#plt.ylabel(\"Median measured by %\")\n",
    "#plt.legend(loc='upper right')\n",
    "#plt.tight_layout()\n",
    "#plt.show()\n"
   ]
  },
  {
   "cell_type": "code",
   "execution_count": null,
   "metadata": {},
   "outputs": [],
   "source": [
    "df.columns\n"
   ]
  },
  {
   "cell_type": "code",
   "execution_count": 606,
   "metadata": {},
   "outputs": [
    {
     "data": {
      "text/plain": [
       "count    25125.000000\n",
       "mean        10.751956\n",
       "std          4.114848\n",
       "min          2.100000\n",
       "25%          7.900000\n",
       "50%         10.000000\n",
       "75%         12.900000\n",
       "max         24.900000\n",
       "Name: DB_M_Value, dtype: float64"
      ]
     },
     "execution_count": 606,
     "metadata": {},
     "output_type": "execute_result"
    }
   ],
   "source": [
    "#df[\"HD_M_Value\"].describe()\n",
    "#df[\"HC_M_Value\"].describe()\n",
    "#df[\"HBP_M_Value\"].describe()\n",
    "#df[\"OB_M_Value\"].describe()\n",
    "df[\"DB_M_Value\"].describe()\n",
    "#df[\"Target_Value\"].describe()\n",
    "\n"
   ]
  },
  {
   "cell_type": "code",
   "execution_count": null,
   "metadata": {},
   "outputs": [],
   "source": [
    "#df.describe().T\n",
    "df[\"Target_Value\"].describe()"
   ]
  },
  {
   "cell_type": "code",
   "execution_count": null,
   "metadata": {},
   "outputs": [],
   "source": [
    "from scipy.stats import norm\n",
    "\n",
    "\n",
    "x = np.arange(-3, 3, 0.001)\n",
    "\n",
    "plt.plot(x,norm.pdf(x)) # normal line\n",
    "plt.plot(x, norm.pdf(x, 3.2, 1.4), 'g:') # mean of 3.2 and std 1.4 of stroke\n",
    "plt.plot(x, norm.pdf(x, 5.6, 2.1), 'r--') # Heart Disease\n",
    "\n",
    "plt.legend([ 'Normal', 'Stroke', 'Heart Disease',])\n",
    "plt.show()"
   ]
  },
  {
   "cell_type": "code",
   "execution_count": null,
   "metadata": {},
   "outputs": [],
   "source": [
    "x = np.arange(-3, 3, 0.001)\n",
    "\n",
    "plt.plot(x, norm.pdf(x, 10.8, 4.2), 'b--') # DB\n",
    "plt.legend([ 'Diabetes'])\n",
    "plt.show()"
   ]
  },
  {
   "cell_type": "code",
   "execution_count": null,
   "metadata": {},
   "outputs": [],
   "source": [
    "df.columns"
   ]
  },
  {
   "cell_type": "code",
   "execution_count": null,
   "metadata": {},
   "outputs": [],
   "source": [
    "from scipy.stats import skew"
   ]
  },
  {
   "cell_type": "code",
   "execution_count": null,
   "metadata": {},
   "outputs": [],
   "source": [
    "# Cal.  and extract the lowest point lower quantile\n",
    "df.HD_M_Value.quantile(0.3)"
   ]
  },
  {
   "cell_type": "code",
   "execution_count": null,
   "metadata": {},
   "outputs": [],
   "source": [
    "# Cal.  and extract the highest point upper quantile\n",
    "df.HD_M_Value.quantile(0.7)\n"
   ]
  },
  {
   "cell_type": "code",
   "execution_count": null,
   "metadata": {},
   "outputs": [],
   "source": [
    "df.columns"
   ]
  },
  {
   "cell_type": "code",
   "execution_count": null,
   "metadata": {},
   "outputs": [],
   "source": [
    "# Extract Skewness \n",
    "HD_skew = skew(df['HD_M_Value'])\n",
    "HBP_skew = skew(df['HBP_M_Value'])\n",
    "HC_skew = skew(df['HC_M_Value'])\n",
    "\n",
    "OB_skew = skew(df['OB_M_Value'])\n",
    "DB_skew = skew(df['DB_M_Value'])\n",
    "STK_skew = skew(df['Target_Value'])\n",
    "\n",
    "print(HD_skew)\n",
    "print(HBP_skew)\n",
    "print(HC_skew)\n",
    "print(OB_skew)\n",
    "print(DB_skew)\n",
    "print(STK_skew)\n",
    "\n"
   ]
  },
  {
   "cell_type": "code",
   "execution_count": null,
   "metadata": {},
   "outputs": [],
   "source": [
    "# Highest point of lower quantile\n",
    "df_HDs = df.loc[df[\"HD_M_Value\"] < 4.6]\n",
    "#df_HDs[\"HD_M_Value\"]\n",
    "\n",
    "plt.hist(df_HDs.HD_M_Value, bins=50, edgecolor='black')\n",
    "plt.show()"
   ]
  },
  {
   "cell_type": "code",
   "execution_count": null,
   "metadata": {},
   "outputs": [],
   "source": [
    "# the highest point upper quantile\n",
    "df.HD_M_Value.quantile(0.7)\n",
    "df_HDx = df.loc[df[\"HD_M_Value\"] > 6.4]\n",
    "#df_HDs[\"HD_M_Value\"]\n",
    "\n",
    "plt.hist(df_HDx.HD_M_Value, bins=50, edgecolor='black')\n",
    "plt.show()"
   ]
  },
  {
   "cell_type": "code",
   "execution_count": null,
   "metadata": {},
   "outputs": [],
   "source": [
    "plt.title('Population of Risk Factors')\n",
    "plt.tight_layout()\n",
    "df_corr = df[['HD_M_Value','Target_Value']].corr()\n",
    "sns.heatmap(df_corr, annot=True)\n",
    "plt.show()"
   ]
  },
  {
   "cell_type": "code",
   "execution_count": null,
   "metadata": {},
   "outputs": [],
   "source": [
    "\n",
    "plt.figure(figsize= (15,5))\n",
    "plt.subplot(2,3,1) \n",
    "\n",
    "df_HDs = df.loc[df[\"HD_M_Value\"] < 4.6]\n",
    "\n",
    "plt.hist(df_HDs.HD_M_Value, bins=20, histtype='bar', rwidth=0.8)\n",
    "plt.xlabel('Highest point of the lower quantile')\n",
    "plt.ylabel('Median Measure by %')\n",
    "plt.title('Heart Disease')\n",
    "plt.tight_layout()\n",
    "#plt.legend(loc='upper right')\n",
    "\n",
    "\n",
    "\n",
    "df_HDx = df.loc[df[\"HD_M_Value\"] > 6.4]\n",
    "\n",
    "plt.subplot(2,3,2) \n",
    "plt.hist(df_HDx.HD_M_Value, bins=20, histtype='bar', rwidth=0.8)\n",
    "plt.xlabel('Highest point of the upper quantile')\n",
    "#plt.ylabel('Median Measure by %')\n",
    "plt.tight_layout()\n",
    "#plt.legend(loc='upper right')"
   ]
  },
  {
   "cell_type": "code",
   "execution_count": null,
   "metadata": {},
   "outputs": [],
   "source": [
    "plt.figure(figsize= (15,5))\n",
    "plt.subplot(2,3,1) \n",
    "\n",
    "df_HBPs = df.loc[df[\"HD_M_Value\"] < 4.6]\n",
    "\n",
    "plt.hist(df_HDs.HD_M_Value, bins=20, histtype='bar', rwidth=0.8)\n",
    "plt.xlabel('Highest point of the lower quantile')\n",
    "plt.ylabel('Median Measure by %')\n",
    "plt.title('Heart Disease')\n",
    "plt.tight_layout()\n",
    "#plt.legend(loc='upper right')\n",
    "\n",
    "\n",
    "\n",
    "df_HDx = df.loc[df[\"HD_M_Value\"] > 6.4]\n",
    "\n",
    "plt.subplot(2,3,2) \n",
    "plt.hist(df_HDx.HD_M_Value, bins=20, histtype='bar', rwidth=0.8)\n",
    "plt.xlabel('Highest point of the upper quantile')\n",
    "#plt.ylabel('Median Measure by %')\n",
    "plt.tight_layout()\n",
    "#plt.legend(loc='upper right')"
   ]
  },
  {
   "cell_type": "code",
   "execution_count": null,
   "metadata": {},
   "outputs": [],
   "source": [
    "#Heatmap - illustrate from the low to high scales.  It  shows which is skewed to the lower or higher end or from the median.\n",
    "# Summary: Distribution of all the factors from cities in the US. \n",
    "plt.title('Population of Risk Factors')\n",
    "plt.tight_layout()\n",
    "df_corr = df[['HD_M_Value', 'HBP_M_Value', 'HC_M_Value', 'OB_M_Value','DB_M_Value', 'Target_Value']].corr()\n",
    "sns.heatmap(df_corr, annot=True)\n",
    "plt.show()"
   ]
  },
  {
   "cell_type": "code",
   "execution_count": null,
   "metadata": {},
   "outputs": [],
   "source": [
    "# create line charts\n",
    "\n",
    "#plt.figure(figsize=(12,8()))\n",
    "plt.plot(df.HD_M_Value)\n",
    "plt.show()"
   ]
  },
  {
   "attachments": {},
   "cell_type": "markdown",
   "metadata": {},
   "source": [
    "Histrograms =  show the frequency of distribution. "
   ]
  },
  {
   "attachments": {},
   "cell_type": "markdown",
   "metadata": {},
   "source": []
  },
  {
   "cell_type": "code",
   "execution_count": null,
   "metadata": {},
   "outputs": [],
   "source": [
    "from scipy.stats import poisson\n"
   ]
  },
  {
   "cell_type": "code",
   "execution_count": null,
   "metadata": {},
   "outputs": [],
   "source": [
    "df[\"DB_M_Value\"].describe()"
   ]
  },
  {
   "cell_type": "code",
   "execution_count": null,
   "metadata": {},
   "outputs": [],
   "source": [
    "DB_degree_counts = df['DB_M_Value'].value_counts()\n",
    "\n",
    "print(DB_degree_counts)"
   ]
  },
  {
   "cell_type": "code",
   "execution_count": null,
   "metadata": {},
   "outputs": [],
   "source": [
    "#plt.title('Population by cities')\n",
    "plt.xlabel('Diabetes')\n",
    "plt.ylabel('Median Measure')\n",
    "plt.tight_layout()\n",
    "\n",
    "Diabetses = df[['DB_M_Value']]\n",
    "plt.hist(Diabetses,  edgecolor='black')\n",
    "plt.show()"
   ]
  },
  {
   "cell_type": "code",
   "execution_count": null,
   "metadata": {},
   "outputs": [],
   "source": [
    "df[\"DB_M_Value\"].describe()"
   ]
  },
  {
   "cell_type": "code",
   "execution_count": null,
   "metadata": {},
   "outputs": [],
   "source": [
    "df_DB_O_Less = df.loc[df[\"DB_M_Value\"] < 2] # 72 records below\n",
    "df_DB_O_Greater  = df.loc[df[\"DB_M_Value\"] > 20.0 ] # 99 records\n",
    "\n",
    "print(df_DB_O_Less[\"HC_M_Value\"].value_counts())\n",
    "#print(df_DB_O_Greater[\"HC_M_Value\"].value_counts())\n"
   ]
  },
  {
   "cell_type": "code",
   "execution_count": null,
   "metadata": {},
   "outputs": [],
   "source": [
    "DB_skew = skew(df['DB_M_Value'])\n",
    "\n",
    "print(DB_skew)"
   ]
  },
  {
   "cell_type": "code",
   "execution_count": null,
   "metadata": {},
   "outputs": [],
   "source": [
    "sns.boxplot(x='DB_M_Value', data=df)\n"
   ]
  },
  {
   "cell_type": "code",
   "execution_count": null,
   "metadata": {},
   "outputs": [],
   "source": [
    "sns.distplot(df['DB_M_Value'])"
   ]
  },
  {
   "cell_type": "code",
   "execution_count": null,
   "metadata": {},
   "outputs": [],
   "source": [
    "red_circle = dict(markerfacecolor='red', marker='o') ## outliers\n",
    "mean_shape = dict(markerfacecolor='green', marker='D', markeredgecolor='green') ## \n",
    "\n",
    "plt.boxplot(x=df['DB_M_Value'], vert=True, flierprops=red_circle, showmeans=True, meanprops=mean_shape, notch=True);"
   ]
  },
  {
   "cell_type": "code",
   "execution_count": null,
   "metadata": {},
   "outputs": [],
   "source": [
    "#plt.title('Population by cities')\n",
    "plt.xlabel('Obesity')\n",
    "plt.ylabel('Median Measure')\n",
    "plt.tight_layout()\n",
    "\n",
    "Diabetses_All_Measures = df[['OB_M_Value' ]]\n",
    "plt.hist(Diabetses_All_Measures,  edgecolor='black')\n",
    "plt.show()"
   ]
  },
  {
   "cell_type": "code",
   "execution_count": null,
   "metadata": {},
   "outputs": [],
   "source": [
    "#plt.title('Population')\n",
    "plt.xlabel('Hart Disease')\n",
    "plt.ylabel('Median Measure')\n",
    "plt.tight_layout()\n",
    "\n",
    "Diabetses_All_Measures = df[['HD_M_Value' ]]\n",
    "plt.hist(Diabetses_All_Measures,  edgecolor='black')\n",
    "plt.show()"
   ]
  },
  {
   "cell_type": "code",
   "execution_count": null,
   "metadata": {},
   "outputs": [],
   "source": [
    "plt.xlabel('High Cholestrol')\n",
    "plt.ylabel('Median Measure')\n",
    "plt.tight_layout()\n",
    "\n",
    "Diabetses_All_Measures = df[['HC_M_Value' ]]\n",
    "plt.hist(Diabetses_All_Measures,  edgecolor='black')\n",
    "plt.show()"
   ]
  },
  {
   "cell_type": "code",
   "execution_count": null,
   "metadata": {},
   "outputs": [],
   "source": [
    "plt.xlabel('High Blood Pressure')\n",
    "plt.ylabel('Median Measure')\n",
    "plt.tight_layout()\n",
    "\n",
    "Diabetses_All_Measures = df[['HBP_M_Value' ]]\n",
    "plt.hist(Diabetses_All_Measures,  edgecolor='black')\n",
    "plt.show()"
   ]
  },
  {
   "cell_type": "code",
   "execution_count": null,
   "metadata": {},
   "outputs": [],
   "source": [
    "plt.xlabel('Stroke')\n",
    "plt.ylabel('Median Measure')\n",
    "plt.tight_layout()\n",
    "\n",
    "Diabetses_All_Measures = df[['Target_Value' ]]\n",
    "plt.hist(Diabetses_All_Measures,  edgecolor='black')\n",
    "plt.show()"
   ]
  },
  {
   "cell_type": "code",
   "execution_count": null,
   "metadata": {},
   "outputs": [],
   "source": [
    "df.columns"
   ]
  },
  {
   "cell_type": "code",
   "execution_count": null,
   "metadata": {},
   "outputs": [],
   "source": [
    "# Histrogram - subplot\n",
    "\n",
    "\n",
    "plt.figure(figsize= (15,5))\n",
    "plt.subplot(2,3,1) \n",
    "plt.hist(df.OB_M_Value, bins=20, histtype='bar', rwidth=0.8)\n",
    "#plt.xlabel('Obesity Population')\n",
    "#plt.ylabel('Median Measure')\n",
    "plt.title('Obsity')\n",
    "plt.tight_layout()\n",
    "#plt.legend(loc='upper right')\n",
    "\n",
    "plt.subplot(2,3,2) \n",
    "plt.hist(df.DB_M_Value, bins=20, histtype='bar', rwidth=0.8)\n",
    "#plt.xlabel('Diabetes')\n",
    "#plt.ylabel('Median Measure')\n",
    "plt.title('Diabetes')\n",
    "plt.tight_layout()\n",
    "#plt.legend(loc='upper right')\n",
    "\n",
    "\n"
   ]
  },
  {
   "cell_type": "code",
   "execution_count": null,
   "metadata": {},
   "outputs": [],
   "source": [
    "\n",
    "\n",
    "plt.figure(figsize= (15,5))\n",
    "plt.subplot(2,3,5) \n",
    "plt.hist(df.HBP_M_Value, bins=20, histtype='bar', rwidth=0.8)\n",
    "#plt.xlabel('Obesity Population')\n",
    "#plt.ylabel('Median Measure')\n",
    "plt.title('High Blood Pressure')\n",
    "plt.tight_layout()\n",
    "#plt.legend(loc='upper right')\n",
    "\n",
    "plt.subplot(2,3,6) \n",
    "plt.hist(df.HC_M_Value, bins=20, histtype='bar', rwidth=0.8)\n",
    "#plt.xlabel('Obesity Population')\n",
    "#plt.ylabel('Median Measure')\n",
    "plt.title('High Chol.')\n",
    "plt.tight_layout()\n",
    "#plt.legend(loc='upper right')\n",
    "\n",
    "\n"
   ]
  },
  {
   "cell_type": "code",
   "execution_count": null,
   "metadata": {},
   "outputs": [],
   "source": [
    "\n",
    "\n",
    "plt.figure(figsize= (15,5))\n",
    "plt.subplot(2,3,5) \n",
    "plt.hist(df.HD_M_Value, bins=20, histtype='bar', rwidth=0.8)\n",
    "#plt.xlabel('Obesity Population')\n",
    "#plt.ylabel('Median Measure')\n",
    "plt.title('Hart Disease')\n",
    "plt.tight_layout()\n",
    "#plt.legend(loc='upper right')\n",
    "\n",
    "plt.subplot(2,3,6) \n",
    "plt.hist(df.Target_Value, bins=20, histtype='bar', rwidth=0.8)\n",
    "#plt.xlabel('Obesity Population')\n",
    "#plt.ylabel('Median Measure')\n",
    "plt.title('Stroke')\n",
    "plt.tight_layout()\n",
    "#plt.legend(loc='upper right')\n",
    "\n"
   ]
  },
  {
   "cell_type": "code",
   "execution_count": null,
   "metadata": {},
   "outputs": [],
   "source": [
    "np.percentile(df['HD_M_Value'],1)"
   ]
  },
  {
   "cell_type": "code",
   "execution_count": null,
   "metadata": {},
   "outputs": [],
   "source": [
    "np.percentile(df['HD_M_Value'],25)"
   ]
  },
  {
   "cell_type": "code",
   "execution_count": null,
   "metadata": {},
   "outputs": [],
   "source": [
    "np.percentile(df['HD_M_Value'],50)"
   ]
  },
  {
   "cell_type": "code",
   "execution_count": null,
   "metadata": {},
   "outputs": [],
   "source": [
    "np.percentile(df['HD_M_Value'],85)"
   ]
  },
  {
   "cell_type": "code",
   "execution_count": null,
   "metadata": {},
   "outputs": [],
   "source": [
    "np.percentile(df['HD_M_Value'],95)"
   ]
  },
  {
   "cell_type": "code",
   "execution_count": null,
   "metadata": {},
   "outputs": [],
   "source": []
  },
  {
   "cell_type": "code",
   "execution_count": null,
   "metadata": {},
   "outputs": [],
   "source": [
    "#df['DB_M_Value'].plot(kind='box');\n",
    "#plt.semilogy\n",
    "# The line is the median(middle point)\n",
    "# The diamon is the mean value\n",
    "# Red circle is the outliers\n",
    "\n",
    "\n",
    "red_circle = dict(markerfacecolor='red', marker='o') ## outliers\n",
    "mean_shape = dict(markerfacecolor='green', marker='D', markeredgecolor='green') ## \n",
    "\n",
    "plt.boxplot(x=df['OB_M_Value'], vert=False, flierprops=red_circle, showmeans=True, meanprops=mean_shape, notch=True);"
   ]
  },
  {
   "cell_type": "code",
   "execution_count": null,
   "metadata": {},
   "outputs": [],
   "source": [
    "red_circle = dict(markerfacecolor='red', marker='o') ## outliers\n",
    "mean_shape = dict(markerfacecolor='green', marker='D', markeredgecolor='green') ## \n",
    "\n",
    "plt.boxplot(x=df['HC_M_Value'], vert=False, flierprops=red_circle, showmeans=True, meanprops=mean_shape, notch=True);"
   ]
  },
  {
   "cell_type": "code",
   "execution_count": null,
   "metadata": {},
   "outputs": [],
   "source": [
    "\n",
    "red_circle = dict(markerfacecolor='red', marker='o')\n",
    "mean_shape = dict(markerfacecolor='green', marker='D', markeredgecolor='green')\n",
    "\n",
    "plt.boxplot(x=df['OB_M_Value'], vert=False, flierprops=red_circle, showmeans=True, meanprops=mean_shape, notch=True);"
   ]
  },
  {
   "cell_type": "code",
   "execution_count": null,
   "metadata": {},
   "outputs": [],
   "source": [
    "red_circle = dict(markerfacecolor='red', marker='o') ## outliers\n",
    "mean_shape = dict(markerfacecolor='green', marker='D', markeredgecolor='green') ## \n",
    "\n",
    "plt.boxplot(x=df['HD_M_Value'], vert=True, flierprops=red_circle, showmeans=True, meanprops=mean_shape, notch=True);"
   ]
  },
  {
   "cell_type": "code",
   "execution_count": null,
   "metadata": {},
   "outputs": [],
   "source": [
    "sns.boxplot(x='DB_M_Value', data=df)"
   ]
  },
  {
   "cell_type": "code",
   "execution_count": null,
   "metadata": {},
   "outputs": [],
   "source": [
    "#Subplot\n",
    "\n",
    "\n",
    "red_circle = dict(markerfacecolor='red', marker='o', markeredgecolor='white')\n",
    "\n",
    "fig, axs = plt.subplots(1, len(df.columns), figsize=(20,10))\n",
    "\n",
    "for i, ax in enumerate(axs.flat):\n",
    "    ax.boxplot(df.iloc[:,i], flierprops=red_circle)\n",
    "    ax.set_title(df.columns[i], fontsize=20, fontweight='bold')\n",
    "    ax.tick_params(axis='y', labelsize=14)\n",
    "    \n",
    "    if df.columns[i] == 'HD_M_Value' or  df.columns[i] == 'HD_M_US':\n",
    "        ax.semilogy\n",
    "        \n",
    "plt.tight_layout()"
   ]
  },
  {
   "cell_type": "code",
   "execution_count": null,
   "metadata": {},
   "outputs": [],
   "source": [
    "df.describe().T"
   ]
  },
  {
   "cell_type": "code",
   "execution_count": null,
   "metadata": {},
   "outputs": [],
   "source": [
    "# plot \n",
    "df02 = df[df['HD_M_Value'] <= 4.200000 ]\n",
    "col_to_plot01 = ['HD_M_Value', 'HBP_M_Value', 'HC_M_Value', 'OB_M_Value', 'DB_M_Value']\n",
    "sns.pairplot(df02[col_to_plot01], diag_kind='kde', kind='reg', plot_kws={'line_kws':{'color':'brown'}})\n",
    "#sns.pairplot(df02[col_to_plot01], hue='OB_M_Value' )\n"
   ]
  },
  {
   "cell_type": "code",
   "execution_count": null,
   "metadata": {},
   "outputs": [],
   "source": [
    "#Scattler plot - Relationship between Obesity and Diabetes.\n",
    "#plt.xlabel('High Blood Pressure and Cholesterol')\n",
    "#plt.ylabel('Stroke')\n",
    "#plt.scatter(df.HD_M_Value, df.HC_M_Value, color= 'red', marker='*')\n",
    "#plt.show()\n",
    "\n"
   ]
  },
  {
   "cell_type": "code",
   "execution_count": null,
   "metadata": {},
   "outputs": [],
   "source": [
    "np.random.seed(19680801)\n",
    "N = 50\n",
    "plt.style.use('bmh')\n",
    "colors = np.random.rand(N)\n",
    "\n",
    "plt.scatter(x='HD_M_Value', y='Target_Value', data=df, c='OB_M_Value', alpha=0.5)\n",
    "#plt.scatter(x='HD_M_Value', y='Target_Value', data=df, c='OB_M_Value',  vmin=0, vmax=100, cmap='rainbow')\n",
    "\n",
    "#plt.scatter(x='HD_M_Value', y='Target_Value', data=df, c='colors', alpha=0.9)\n",
    "\n",
    "#plt.scatter(x='HD_M_Value', y='Target_Value', data=df)\n",
    "#plt.xlim(-5, 60) # change the x and y ranges\n",
    "#plt.xlim(3.0, 1.5)\n",
    "plt.xlabel('High Blood Pressure vs Cholesterol', fontsize=12)\n",
    "plt.ylabel('Stroke', fontsize=12)\n",
    "\n",
    "plt.colorbar(label='Gamma Ray - API')\n",
    "\n",
    "plt.show()"
   ]
  },
  {
   "attachments": {},
   "cell_type": "markdown",
   "metadata": {},
   "source": [
    "## Dividing the dataset into independent and dependent features."
   ]
  },
  {
   "cell_type": "code",
   "execution_count": null,
   "metadata": {},
   "outputs": [],
   "source": [
    "\n",
    "X=df.iloc[:, :-1] # Independent features.\n",
    "y=df.iloc[:, -1]  # dependent feature (Stroke).\n",
    "\n",
    "#X"
   ]
  },
  {
   "attachments": {},
   "cell_type": "markdown",
   "metadata": {},
   "source": [
    "ML Analysis - LinearRegression Model"
   ]
  },
  {
   "cell_type": "code",
   "execution_count": null,
   "metadata": {},
   "outputs": [],
   "source": [
    "# laod types of model to use.\n",
    "from sklearn.linear_model import LinearRegression \n",
    "from sklearn.model_selection import train_test_split\n",
    "from sklearn.model_selection import cross_val_score\n",
    "from sklearn.metrics import r2_score, mean_absolute_error\n",
    "from sklearn.metrics import mean_absolute_percentage_error"
   ]
  },
  {
   "cell_type": "code",
   "execution_count": null,
   "metadata": {},
   "outputs": [],
   "source": [
    "# Setting up the plit -  Training/Test set.\n",
    "\n",
    "X_train, X_test, y_train, y_test = train_test_split(X,y,test_size=0.2)\n",
    "#80% training - it chooses ramdom samples.\n",
    "len(X_train)\n",
    "#20% or what ever % specified.\n",
    "len(X_test)\n",
    "\n",
    "X_train"
   ]
  },
  {
   "attachments": {},
   "cell_type": "markdown",
   "metadata": {},
   "source": [
    "ML Analyzing using - Linear Regression Model."
   ]
  },
  {
   "cell_type": "code",
   "execution_count": null,
   "metadata": {},
   "outputs": [],
   "source": [
    "# Fit/load into a model\n",
    "modelReg = LinearRegression ()\n",
    "modelReg.fit(X_train,y_train)\n",
    "#y_test"
   ]
  },
  {
   "cell_type": "code",
   "execution_count": null,
   "metadata": {},
   "outputs": [],
   "source": [
    "\n",
    "modelReg.predict(X_test) # Run predication of X test\n",
    "modelReg.score(X_test,y_test) # See the performance of the test, the resutls diff on each run\n",
    "y_pred = modelReg.predict(X_test) # define variable for X test\n",
    "\n",
    "print(\"r2:{}  \".format(r2_score(y_pred,y_test)))  \n",
    "print(\"mae:{}  \".format(mean_absolute_error(y_pred,y_test)))\n",
    "print(r2_score(y_pred,y_test))\n",
    "print(mean_absolute_error(y_pred,y_test))\n",
    "print(mean_absolute_percentage_error(y_pred,y_test))  # Verify error\n",
    "\n",
    "# The mean of the absolute error - this is mean of the residuat error of the test."
   ]
  },
  {
   "attachments": {},
   "cell_type": "markdown",
   "metadata": {},
   "source": []
  },
  {
   "attachments": {},
   "cell_type": "markdown",
   "metadata": {},
   "source": [
    "ML Analyzing using - Decision Tree Model."
   ]
  },
  {
   "cell_type": "code",
   "execution_count": null,
   "metadata": {},
   "outputs": [],
   "source": [
    "from sklearn.metrics import r2_score, mean_absolute_error\n",
    "from sklearn.metrics import mean_absolute_percentage_error\n",
    "from sklearn.tree import DecisionTreeRegressor\n",
    "\n",
    "modelDT= DecisionTreeRegressor()\n",
    "modelDT.fit(X_train,y_train)\n",
    "modelDT.predict(X_test)\n",
    "#y_test  \n",
    "\n",
    "\n",
    "modelDT.predict(X_test) # Run predication of X test\n",
    "modelDT.score(X_test,y_test) # See the performance of the test, the resutls diff on each run\n",
    "y_pred = modelDT.predict(X_test) # define variable for X test\n",
    "\n",
    "\n",
    "print(mean_absolute_percentage_error(y_pred,y_test))  # Verify error\n",
    "print(\"r2:{}  \".format(r2_score(y_pred,y_test)))  \n",
    "print(\"mae:{}  \".format(mean_absolute_error(y_pred,y_test)))\n",
    "print(r2_score(y_pred,y_test))\n",
    "print(mean_absolute_error(y_pred,y_test))"
   ]
  },
  {
   "attachments": {},
   "cell_type": "markdown",
   "metadata": {},
   "source": [
    "#### ML Analyzing using - RandomForestRegressor Model."
   ]
  },
  {
   "cell_type": "code",
   "execution_count": null,
   "metadata": {},
   "outputs": [],
   "source": [
    "from sklearn.ensemble import RandomForestRegressor\n",
    "\n",
    "\n",
    "modelRF = RandomForestRegressor()\n",
    "modelRF.fit(X_train,y_train)\n",
    "modelRF.predict(X_test)\n",
    "y_test\n",
    "modelRF.score(X_test,y_test)\n",
    "from sklearn.metrics import r2_score, mean_absolute_error\n",
    "from sklearn.metrics import mean_absolute_percentage_error\n",
    "y_pred = modelRF.predict(X_test)\n",
    "\n",
    "mean_absolute_percentage_error(y_pred,y_test)\n",
    "print(\"r2:{} \".format(r2_score(y_pred,y_test)))\n",
    "print(\"mae:{} \".format(mean_absolute_error(y_pred,y_test)))\n",
    "print(r2_score(y_pred,y_test))\n",
    "print(mean_absolute_error(y_pred,y_test))\n"
   ]
  }
 ],
 "metadata": {
  "kernelspec": {
   "display_name": "Python 3",
   "language": "python",
   "name": "python3"
  },
  "language_info": {
   "codemirror_mode": {
    "name": "ipython",
    "version": 3
   },
   "file_extension": ".py",
   "mimetype": "text/x-python",
   "name": "python",
   "nbconvert_exporter": "python",
   "pygments_lexer": "ipython3",
   "version": "3.11.2"
  },
  "orig_nbformat": 4
 },
 "nbformat": 4,
 "nbformat_minor": 2
}
