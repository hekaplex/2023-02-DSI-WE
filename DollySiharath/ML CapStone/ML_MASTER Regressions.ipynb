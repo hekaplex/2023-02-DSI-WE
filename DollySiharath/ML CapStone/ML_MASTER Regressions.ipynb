{
 "cells": [
  {
   "attachments": {},
   "cell_type": "markdown",
   "metadata": {},
   "source": [
    "What is the relationship between the stroke population to diabetes, heart disease, and high blood pressure in respect to geographical area?\n",
    "Five factors contribute to stroke.  \n",
    "1.\tDiabetes\n",
    "2.\tHeart Disease\n",
    "3.\tHigh Blood Pressure\n",
    "4.\tHigh Cholesterol\n",
    "5.\tObesity\n"
   ]
  },
  {
   "cell_type": "code",
   "execution_count": null,
   "metadata": {},
   "outputs": [],
   "source": [
    "# !pip install openpyxl  \n",
    "import os\n",
    "import pandas as pd \n",
    "import numpy as np \n",
    "import matplotlib.pylab as plt\n",
    "import matplotlib.pyplot as plt \n",
    "\n",
    "\n",
    "plt.style.use('fivethirtyeight') \n",
    "\n",
    "import seaborn as sns \n",
    "sns.set_style('darkgrid')\n",
    "\n",
    "%matplotlib inline\n",
    "\n",
    "%pip install scikit-learn  --upgrade --force\n",
    "from sklearn.linear_model import LinearRegression\n",
    "from sklearn.model_selection import train_test_split\n",
    "\n",
    "df_org = pd.read_csv(\"MasterCapStoneFile_01.csv\" )\n"
   ]
  },
  {
   "cell_type": "code",
   "execution_count": null,
   "metadata": {},
   "outputs": [],
   "source": [
    "df_org .info()"
   ]
  },
  {
   "attachments": {},
   "cell_type": "markdown",
   "metadata": {},
   "source": [
    "#df_OB_O_Less = df.loc[df[\"OB_M_Value\"] < 12] # 16 records\n",
    "#df_OB_O_Grt50 = df.loc[df[\"OB_M_Value\"] > 50.0 ] # 62 records\n",
    "\n",
    "#df_DB_O_Less = df.loc[df[\"DB_M_Value\"] < 2] # 72 records below\n",
    "#df_DB_O_Greater  = df.loc[df[\"DB_M_Value\"] > 25.0 ] # 99 records\n",
    "\n",
    "#df_HD_O_Greater  = df.loc[df[\"HD_M_Value\"] > 15.0 ] #  records\n",
    "\n",
    "#df_HBP_O_Less = df.loc[df[\"HBP_M_Value\"] < 15.0] # 72 records\n",
    "#df_HBP_O_Greater  = df.loc[df[\"HBP_M_Value\"] > 50.0 ] #  records\n",
    "\n",
    "\n",
    "#df_HC_O_Less = df.loc[df[\"HC_M_Value\"] < 15.0] # 72 records\n",
    "#df_HC_O_Greater  = df.loc[df[\"HC_M_Value\"] > 45.0 ] #  records"
   ]
  },
  {
   "attachments": {},
   "cell_type": "markdown",
   "metadata": {},
   "source": []
  },
  {
   "cell_type": "code",
   "execution_count": null,
   "metadata": {},
   "outputs": [],
   "source": [
    "# Removing outliers by query for the values to keep\n",
    "\n",
    "df = df_org.query(\"`OB_M_Value` >=0 & `OB_M_Value` <51 & `DB_M_Value` >0 & `DB_M_Value` <19  & `HD_M_Value` <10  & `HD_M_Value` >1  & `HBP_M_Value` >13 & `HBP_M_Value` <46 & `HC_M_Value` >22 & `HC_M_Value` <42  & `Target_Value` >1 & `Target_Value` < 5\" )\n",
    "print(df)\n",
    "\n",
    "\n",
    "\n",
    "\n"
   ]
  },
  {
   "cell_type": "code",
   "execution_count": null,
   "metadata": {},
   "outputs": [],
   "source": [
    "df.info()"
   ]
  },
  {
   "cell_type": "code",
   "execution_count": null,
   "metadata": {},
   "outputs": [],
   "source": [
    "#df[\"HD_M_Value\"].describe()\n",
    "#df[\"HC_M_Value\"].describe()\n",
    "#df[\"HBP_M_Value\"].describe()\n",
    "#df[\"OB_M_Value\"].describe()\n",
    "#df[\"DB_M_Value\"].describe()\n",
    "df[\"Target_Value\"].describe()"
   ]
  },
  {
   "cell_type": "code",
   "execution_count": null,
   "metadata": {},
   "outputs": [],
   "source": [
    "red_circle = dict(markerfacecolor='red', marker='o') ## outliers\n",
    "mean_shape = dict(markerfacecolor='green', marker='D', markeredgecolor='green') ## \n",
    "plt.boxplot(x=df['Target_Value'], vert=True, flierprops=red_circle, showmeans=True, meanprops=mean_shape, notch=True);"
   ]
  },
  {
   "cell_type": "code",
   "execution_count": null,
   "metadata": {},
   "outputs": [],
   "source": [
    "df.head()"
   ]
  },
  {
   "cell_type": "code",
   "execution_count": null,
   "metadata": {},
   "outputs": [],
   "source": [
    "#print(df.isna)\n",
    "df.isna().sum()"
   ]
  },
  {
   "cell_type": "code",
   "execution_count": null,
   "metadata": {},
   "outputs": [],
   "source": [
    "# Count and determine the outliers \n",
    "HD_degree_counts = df['HD_M_Value'].value_counts() \n",
    "HBP_degree_counts = df['HBP_M_Value'].value_counts()\n",
    "HC_degree_counts = df['HC_M_Value'].value_counts(normalize=True) # get the percentage for each group.\n",
    "OB_degree_counts = df['OB_M_Value'].value_counts()\n",
    "DB_degree_counts = df['DB_M_Value'].value_counts()\n",
    "\n",
    "#print(HD_degree_counts)\n",
    "#print(HBP_degree_counts)\n",
    "#print(HC_degree_counts)\n",
    "print(OB_degree_counts)\n",
    "#print(DB_degree_counts)"
   ]
  },
  {
   "cell_type": "code",
   "execution_count": null,
   "metadata": {},
   "outputs": [],
   "source": [
    "## after dropping  8097  rows of outliers.\n",
    "df.describe().T"
   ]
  },
  {
   "cell_type": "code",
   "execution_count": null,
   "metadata": {},
   "outputs": [],
   "source": [
    "# verifying outliers from the mean of both lower and upper quantiles.\n",
    "# Obesity= 78\n",
    "# Diabetes = 171\n",
    "\n",
    "#df_OB_O_Less = df.loc[df[\"OB_M_Value\"] < 12] # 16 records\n",
    "#df_OB_O_Grt50 = df.loc[df[\"OB_M_Value\"] > 50.0 ] # 62 records\n",
    "#df_DB_O_Less = df.loc[df[\"DB_M_Value\"] < 2] # 72 records below\n",
    "#df_DB_O_Greater  = df.loc[df[\"DB_M_Value\"] > 25.0 ] # 99 records\n",
    "#df_HD_O_Greater  = df.loc[df[\"HD_M_Value\"] > 15.0 ] #  records\n",
    "#df_HBP_O_Less = df.loc[df[\"HBP_M_Value\"] < 15.0] # 72 records\n",
    "#df_HBP_O_Greater  = df.loc[df[\"HBP_M_Value\"] > 50.0 ] #  records\n",
    "#df_HC_O_Less = df.loc[df[\"HC_M_Value\"] < 15.0] # 72 records\n",
    "#df_HC_O_Greater  = df.loc[df[\"HC_M_Value\"] > 50.0 ] #  records\n",
    "#df_HC_O_Less = df.loc[df[\"HC_M_Value\"] < 15.0] # 72 records\n",
    "#df_HC_O_Greater  = df.loc[df[\"HC_M_Value\"] > 45.0 ] #  records\n",
    "\n",
    "#=============================================================\n",
    "\n",
    "\n",
    "df_HC_O_Less = df.loc[df[\"HC_M_Value\"] < 15.0] \n",
    "df_HC_O_Grter  = df.loc[df[\"HC_M_Value\"] > 45.0 ] \n",
    "\n",
    "#df_DB_O_Less = df.loc[df[\"DB_M_Value\"] < 2] # 72 records below\n",
    "#df_DB_O_Greater  = df.loc[df[\"DB_M_Value\"] > 25.0 ] # 99 records\n",
    "#print(df_HC_O_Less[\"HC_M_Value\"].value_counts())\n",
    "#print(df_HC_O_Grter[\"HC_M_Value\"].value_counts())\n",
    "\n",
    "\n"
   ]
  },
  {
   "cell_type": "code",
   "execution_count": null,
   "metadata": {},
   "outputs": [],
   "source": [
    "red_circle = dict(markerfacecolor='red', marker='o') ## outliers\n",
    "mean_shape = dict(markerfacecolor='green', marker='D', markeredgecolor='green') ## \n",
    "\n",
    "plt.boxplot(x=df['HC_M_Value'], vert=True, flierprops=red_circle, showmeans=True, meanprops=mean_shape, notch=True);"
   ]
  },
  {
   "cell_type": "code",
   "execution_count": null,
   "metadata": {},
   "outputs": [],
   "source": [
    "sns.distplot(df['OB_M_Value'])"
   ]
  },
  {
   "cell_type": "code",
   "execution_count": null,
   "metadata": {},
   "outputs": [],
   "source": [
    "df[\"OB_M_Value\"].describe()\n",
    "\n"
   ]
  },
  {
   "cell_type": "code",
   "execution_count": null,
   "metadata": {},
   "outputs": [],
   "source": [
    "np.percentile(df['OB_M_Value'], [25, 50, 75, 100])"
   ]
  },
  {
   "cell_type": "code",
   "execution_count": null,
   "metadata": {},
   "outputs": [],
   "source": [
    "import statistics\n",
    "\n",
    "statistics.quantiles(df['OB_M_Value'])"
   ]
  },
  {
   "cell_type": "code",
   "execution_count": null,
   "metadata": {},
   "outputs": [],
   "source": [
    "# Quantile mean it divide data into group.\n",
    "# 0.50 is the median or 50% quantile. It's 0.5 quantile. \n",
    "\n",
    "df_Percentile = df.describe([0.15, 0.25, 0.50, 0.75])\n",
    "df_Percentile"
   ]
  },
  {
   "cell_type": "code",
   "execution_count": null,
   "metadata": {},
   "outputs": [],
   "source": [
    "df_Percentile['HD_M_Value']"
   ]
  },
  {
   "cell_type": "code",
   "execution_count": null,
   "metadata": {},
   "outputs": [],
   "source": [
    "df_Percentile['HD_M_Value'][0]"
   ]
  },
  {
   "cell_type": "code",
   "execution_count": null,
   "metadata": {},
   "outputs": [],
   "source": [
    "df_Percentile['HD_M_Value']['mean']\n",
    "df_Percentile['HD_M_Value']['std']\n",
    "df_Percentile['HD_M_Value']['15%']"
   ]
  },
  {
   "cell_type": "code",
   "execution_count": null,
   "metadata": {},
   "outputs": [],
   "source": [
    "HD_degree_counts = df['HD_M_Value'].value_counts()"
   ]
  },
  {
   "cell_type": "code",
   "execution_count": null,
   "metadata": {},
   "outputs": [],
   "source": [
    "#df.info().T\n",
    "#df.head()\n",
    "#df\n",
    "#df.columns\n",
    "df.describe()\n",
    "#df.isna().sum()\n",
    "#df.shape "
   ]
  },
  {
   "cell_type": "code",
   "execution_count": null,
   "metadata": {},
   "outputs": [],
   "source": [
    "print(\"Index:  \", df.index)\n",
    "print(\"Columns:\", df.columns)\n",
    "print(\"Size:   \", df.size)\n",
    "print(\"Shape:  \", df.shape)\n",
    "df.describe().T # run a quick stat \n",
    "#df.columns"
   ]
  },
  {
   "cell_type": "code",
   "execution_count": null,
   "metadata": {},
   "outputs": [],
   "source": [
    "# Total number for all the factors by cities\n",
    "\n",
    "##OB_Mean = print(df[\"DB\"].mean())\n",
    "#DB_Mean = print(df[\"DB\"].mean())\n",
    "#HBP_Mean = print(df[\"HBP\"].mean())\n",
    "#HC_Mean = print(df[\"HC\"].mean())\n",
    "#HD_Mean = print(df[\"HD\"].mean())\n",
    "\n",
    "#OB_byUS = print(df[\"OBbyUS\"].mean())\n",
    "#DB_OB_byUS = print(df[\"DBbyUS\"].mean())\n",
    "#DB_OB_byUS = print(df[\"HBPbyUS\"].mean())\n",
    "#DB_OB_byUS = print(df[\"HCbyUS\"].mean())\n",
    "#HD_OB_byUS = print(df[\"HDbyUS\"].mean())\n",
    "\n",
    "#x_Risk_Factors = ['OB_Mean', 'DB_Mean','HBP_Mean', 'HC_Mean', 'HD_Mean']\n",
    "#y_ByUS = df['OB_byUS', 'DB_OB_byUS', 'DB_OB_byUS', 'DB_OB_byUS', 'HD_OB_byUS' ]\n",
    "\n",
    "#plt.bar(x_Risk_Factors,y_ByUS, color=\"#444444\", lable=\"All Factors\" )\n",
    "\n",
    "#plt.title('All Risk Factors')\n",
    "#plt.xlabel(\"Population by the factors\")\n",
    "#plt.ylabel(\"Median measured by %\")\n",
    "#plt.legend(loc='upper right')\n",
    "#plt.tight_layout()\n",
    "#plt.show()\n"
   ]
  },
  {
   "cell_type": "code",
   "execution_count": null,
   "metadata": {},
   "outputs": [],
   "source": [
    "df.columns\n"
   ]
  },
  {
   "cell_type": "code",
   "execution_count": null,
   "metadata": {},
   "outputs": [],
   "source": [
    "#df[\"HD_M_Value\"].describe()\n",
    "#df[\"HC_M_Value\"].describe()\n",
    "#df[\"HBP_M_Value\"].describe()\n",
    "#df[\"OB_M_Value\"].describe()\n",
    "df[\"DB_M_Value\"].describe()\n",
    "#df[\"Target_Value\"].describe()\n",
    "\n"
   ]
  },
  {
   "cell_type": "code",
   "execution_count": null,
   "metadata": {},
   "outputs": [],
   "source": [
    "#df.describe().T\n",
    "df[\"Target_Value\"].describe()"
   ]
  },
  {
   "cell_type": "code",
   "execution_count": null,
   "metadata": {},
   "outputs": [],
   "source": [
    "from scipy.stats import norm\n",
    "\n",
    "\n",
    "x = np.arange(-3, 3, 0.001)\n",
    "\n",
    "plt.plot(x,norm.pdf(x)) # normal line\n",
    "plt.plot(x, norm.pdf(x, 3.2, 1.4), 'g:') # mean of 3.2 and std 1.4 of stroke\n",
    "plt.plot(x, norm.pdf(x, 5.6, 2.1), 'r--') # Heart Disease\n",
    "\n",
    "plt.legend([ 'Normal', 'Stroke', 'Heart Disease',])\n",
    "plt.show()"
   ]
  },
  {
   "cell_type": "code",
   "execution_count": null,
   "metadata": {},
   "outputs": [],
   "source": [
    "x = np.arange(-3, 3, 0.001)\n",
    "\n",
    "plt.plot(x, norm.pdf(x, 10.8, 4.2), 'b--') # DB\n",
    "plt.legend([ 'Diabetes'])\n",
    "plt.show()"
   ]
  },
  {
   "cell_type": "code",
   "execution_count": null,
   "metadata": {},
   "outputs": [],
   "source": [
    "df.columns"
   ]
  },
  {
   "cell_type": "code",
   "execution_count": null,
   "metadata": {},
   "outputs": [],
   "source": [
    "from scipy.stats import skew"
   ]
  },
  {
   "cell_type": "code",
   "execution_count": null,
   "metadata": {},
   "outputs": [],
   "source": [
    "# Cal.  and extract the lowest point lower quantile\n",
    "df.HD_M_Value.quantile(0.3)"
   ]
  },
  {
   "cell_type": "code",
   "execution_count": null,
   "metadata": {},
   "outputs": [],
   "source": [
    "# Cal.  and extract the highest point upper quantile\n",
    "df.HD_M_Value.quantile(0.7)\n"
   ]
  },
  {
   "cell_type": "code",
   "execution_count": null,
   "metadata": {},
   "outputs": [],
   "source": [
    "df.columns"
   ]
  },
  {
   "cell_type": "code",
   "execution_count": null,
   "metadata": {},
   "outputs": [],
   "source": [
    "# Extract Skewness \n",
    "HD_skew = skew(df['HD_M_Value'])\n",
    "HBP_skew = skew(df['HBP_M_Value'])\n",
    "HC_skew = skew(df['HC_M_Value'])\n",
    "\n",
    "OB_skew = skew(df['OB_M_Value'])\n",
    "DB_skew = skew(df['DB_M_Value'])\n",
    "STK_skew = skew(df['Target_Value'])\n",
    "\n",
    "print(HD_skew)\n",
    "print(HBP_skew)\n",
    "print(HC_skew)\n",
    "print(OB_skew)\n",
    "print(DB_skew)\n",
    "print(STK_skew)\n",
    "\n"
   ]
  },
  {
   "cell_type": "code",
   "execution_count": null,
   "metadata": {},
   "outputs": [],
   "source": [
    "# Highest point of lower quantile\n",
    "df_HDs = df.loc[df[\"HD_M_Value\"] < 4.6]\n",
    "#df_HDs[\"HD_M_Value\"]\n",
    "\n",
    "plt.hist(df_HDs.HD_M_Value, bins=50, edgecolor='black')\n",
    "plt.show()"
   ]
  },
  {
   "cell_type": "code",
   "execution_count": null,
   "metadata": {},
   "outputs": [],
   "source": [
    "# the highest point upper quantile\n",
    "df.HD_M_Value.quantile(0.7)\n",
    "df_HDx = df.loc[df[\"HD_M_Value\"] > 6.4]\n",
    "#df_HDs[\"HD_M_Value\"]\n",
    "\n",
    "plt.hist(df_HDx.HD_M_Value, bins=50, edgecolor='black')\n",
    "plt.show()"
   ]
  },
  {
   "cell_type": "code",
   "execution_count": null,
   "metadata": {},
   "outputs": [],
   "source": [
    "plt.title('Population of Risk Factors')\n",
    "plt.tight_layout()\n",
    "df_corr = df[['HD_M_Value','Target_Value']].corr()\n",
    "sns.heatmap(df_corr, annot=True)\n",
    "plt.show()"
   ]
  },
  {
   "cell_type": "code",
   "execution_count": null,
   "metadata": {},
   "outputs": [],
   "source": [
    "\n",
    "plt.figure(figsize= (15,5))\n",
    "plt.subplot(2,3,1) \n",
    "\n",
    "df_HDs = df.loc[df[\"HD_M_Value\"] < 4.6]\n",
    "\n",
    "plt.hist(df_HDs.HD_M_Value, bins=20, histtype='bar', rwidth=0.8)\n",
    "plt.xlabel('Highest point of the lower quantile')\n",
    "plt.ylabel('Median Measure by %')\n",
    "plt.title('Heart Disease')\n",
    "plt.tight_layout()\n",
    "#plt.legend(loc='upper right')\n",
    "\n",
    "\n",
    "\n",
    "df_HDx = df.loc[df[\"HD_M_Value\"] > 6.4]\n",
    "\n",
    "plt.subplot(2,3,2) \n",
    "plt.hist(df_HDx.HD_M_Value, bins=20, histtype='bar', rwidth=0.8)\n",
    "plt.xlabel('Highest point of the upper quantile')\n",
    "#plt.ylabel('Median Measure by %')\n",
    "plt.tight_layout()\n",
    "#plt.legend(loc='upper right')"
   ]
  },
  {
   "cell_type": "code",
   "execution_count": null,
   "metadata": {},
   "outputs": [],
   "source": [
    "plt.figure(figsize= (15,5))\n",
    "plt.subplot(2,3,1) \n",
    "\n",
    "df_HBPs = df.loc[df[\"HD_M_Value\"] < 4.6]\n",
    "\n",
    "plt.hist(df_HDs.HD_M_Value, bins=20, histtype='bar', rwidth=0.8)\n",
    "plt.xlabel('Highest point of the lower quantile')\n",
    "plt.ylabel('Median Measure by %')\n",
    "plt.title('Heart Disease')\n",
    "plt.tight_layout()\n",
    "#plt.legend(loc='upper right')\n",
    "\n",
    "\n",
    "\n",
    "df_HDx = df.loc[df[\"HD_M_Value\"] > 6.4]\n",
    "\n",
    "plt.subplot(2,3,2) \n",
    "plt.hist(df_HDx.HD_M_Value, bins=20, histtype='bar', rwidth=0.8)\n",
    "plt.xlabel('Highest point of the upper quantile')\n",
    "#plt.ylabel('Median Measure by %')\n",
    "plt.tight_layout()\n",
    "#plt.legend(loc='upper right')"
   ]
  },
  {
   "cell_type": "code",
   "execution_count": null,
   "metadata": {},
   "outputs": [],
   "source": [
    "#Heatmap - illustrate from the low to high scales.  It  shows which is skewed to the lower or higher end or from the median.\n",
    "# Summary: Distribution of all the factors from cities in the US. \n",
    "plt.title('Population of Risk Factors')\n",
    "plt.tight_layout()\n",
    "df_corr = df[['HD_M_Value', 'HBP_M_Value', 'HC_M_Value', 'OB_M_Value','DB_M_Value', 'Target_Value']].corr()\n",
    "sns.heatmap(df_corr, annot=True)\n",
    "plt.show()"
   ]
  },
  {
   "attachments": {},
   "cell_type": "markdown",
   "metadata": {},
   "source": [
    "Histrograms =  show the frequency of distribution. "
   ]
  },
  {
   "attachments": {},
   "cell_type": "markdown",
   "metadata": {},
   "source": []
  },
  {
   "cell_type": "code",
   "execution_count": null,
   "metadata": {},
   "outputs": [],
   "source": [
    "from scipy.stats import poisson\n"
   ]
  },
  {
   "cell_type": "code",
   "execution_count": null,
   "metadata": {},
   "outputs": [],
   "source": [
    "df[\"DB_M_Value\"].describe()"
   ]
  },
  {
   "cell_type": "code",
   "execution_count": null,
   "metadata": {},
   "outputs": [],
   "source": [
    "DB_degree_counts = df['DB_M_Value'].value_counts()\n",
    "\n",
    "print(DB_degree_counts)"
   ]
  },
  {
   "cell_type": "code",
   "execution_count": null,
   "metadata": {},
   "outputs": [],
   "source": [
    "#plt.title('Population by cities')\n",
    "plt.xlabel('Diabetes')\n",
    "plt.ylabel('Median Measure')\n",
    "plt.tight_layout()\n",
    "\n",
    "Diabetses = df[['DB_M_Value']]\n",
    "plt.hist(Diabetses,  edgecolor='black')\n",
    "plt.show()"
   ]
  },
  {
   "cell_type": "code",
   "execution_count": null,
   "metadata": {},
   "outputs": [],
   "source": [
    "df[\"DB_M_Value\"].describe()"
   ]
  },
  {
   "cell_type": "code",
   "execution_count": null,
   "metadata": {},
   "outputs": [],
   "source": [
    "df_DB_O_Less = df.loc[df[\"DB_M_Value\"] < 2] # 72 records below\n",
    "df_DB_O_Greater  = df.loc[df[\"DB_M_Value\"] > 20.0 ] # 99 records\n",
    "\n",
    "print(df_DB_O_Less[\"HC_M_Value\"].value_counts())\n",
    "#print(df_DB_O_Greater[\"HC_M_Value\"].value_counts())\n"
   ]
  },
  {
   "cell_type": "code",
   "execution_count": null,
   "metadata": {},
   "outputs": [],
   "source": [
    "DB_skew = skew(df['DB_M_Value'])\n",
    "\n",
    "print(DB_skew)"
   ]
  },
  {
   "cell_type": "code",
   "execution_count": null,
   "metadata": {},
   "outputs": [],
   "source": [
    "sns.boxplot(x='DB_M_Value', data=df)\n"
   ]
  },
  {
   "cell_type": "code",
   "execution_count": null,
   "metadata": {},
   "outputs": [],
   "source": [
    "sns.distplot(df['DB_M_Value'])"
   ]
  },
  {
   "cell_type": "code",
   "execution_count": null,
   "metadata": {},
   "outputs": [],
   "source": [
    "red_circle = dict(markerfacecolor='red', marker='o') ## outliers\n",
    "mean_shape = dict(markerfacecolor='green', marker='D', markeredgecolor='green') ## \n",
    "\n",
    "plt.boxplot(x=df['DB_M_Value'], vert=True, flierprops=red_circle, showmeans=True, meanprops=mean_shape, notch=True);"
   ]
  },
  {
   "cell_type": "code",
   "execution_count": null,
   "metadata": {},
   "outputs": [],
   "source": [
    "#plt.title('Population by cities')\n",
    "plt.xlabel('Obesity')\n",
    "plt.ylabel('Median Measure')\n",
    "plt.tight_layout()\n",
    "\n",
    "Diabetses_All_Measures = df[['OB_M_Value' ]]\n",
    "plt.hist(Diabetses_All_Measures,  edgecolor='black')\n",
    "plt.show()"
   ]
  },
  {
   "cell_type": "code",
   "execution_count": null,
   "metadata": {},
   "outputs": [],
   "source": [
    "#plt.title('Population')\n",
    "plt.xlabel('Hart Disease')\n",
    "plt.ylabel('Median Measure')\n",
    "plt.tight_layout()\n",
    "\n",
    "Diabetses_All_Measures = df[['HD_M_Value' ]]\n",
    "plt.hist(Diabetses_All_Measures,  edgecolor='black')\n",
    "plt.show()"
   ]
  },
  {
   "cell_type": "code",
   "execution_count": null,
   "metadata": {},
   "outputs": [],
   "source": [
    "plt.xlabel('High Cholestrol')\n",
    "plt.ylabel('Median Measure')\n",
    "plt.tight_layout()\n",
    "\n",
    "Diabetses_All_Measures = df[['HC_M_Value' ]]\n",
    "plt.hist(Diabetses_All_Measures,  edgecolor='black')\n",
    "plt.show()"
   ]
  },
  {
   "cell_type": "code",
   "execution_count": null,
   "metadata": {},
   "outputs": [],
   "source": [
    "plt.xlabel('High Blood Pressure')\n",
    "plt.ylabel('Median Measure')\n",
    "plt.tight_layout()\n",
    "\n",
    "Diabetses_All_Measures = df[['HBP_M_Value' ]]\n",
    "plt.hist(Diabetses_All_Measures,  edgecolor='black')\n",
    "plt.show()"
   ]
  },
  {
   "cell_type": "code",
   "execution_count": null,
   "metadata": {},
   "outputs": [],
   "source": [
    "plt.xlabel('Stroke')\n",
    "plt.ylabel('Median Measure')\n",
    "plt.tight_layout()\n",
    "\n",
    "Diabetses_All_Measures = df[['Target_Value' ]]\n",
    "plt.hist(Diabetses_All_Measures,  edgecolor='black')\n",
    "plt.show()"
   ]
  },
  {
   "cell_type": "code",
   "execution_count": null,
   "metadata": {},
   "outputs": [],
   "source": [
    "df.columns"
   ]
  },
  {
   "cell_type": "code",
   "execution_count": null,
   "metadata": {},
   "outputs": [],
   "source": [
    "# Histrogram - subplot\n",
    "\n",
    "\n",
    "plt.figure(figsize= (15,5))\n",
    "plt.subplot(2,3,1) \n",
    "plt.hist(df.OB_M_Value, bins=20, histtype='bar', rwidth=0.8)\n",
    "#plt.xlabel('Obesity Population')\n",
    "#plt.ylabel('Median Measure')\n",
    "plt.title('Obsity')\n",
    "plt.tight_layout()\n",
    "#plt.legend(loc='upper right')\n",
    "\n",
    "plt.subplot(2,3,2) \n",
    "plt.hist(df.DB_M_Value, bins=20, histtype='bar', rwidth=0.8)\n",
    "#plt.xlabel('Diabetes')\n",
    "#plt.ylabel('Median Measure')\n",
    "plt.title('Diabetes')\n",
    "plt.tight_layout()\n",
    "#plt.legend(loc='upper right')\n",
    "\n",
    "\n"
   ]
  },
  {
   "cell_type": "code",
   "execution_count": null,
   "metadata": {},
   "outputs": [],
   "source": [
    "\n",
    "\n",
    "plt.figure(figsize= (15,5))\n",
    "plt.subplot(2,3,5) \n",
    "plt.hist(df.HBP_M_Value, bins=20, histtype='bar', rwidth=0.8)\n",
    "#plt.xlabel('Obesity Population')\n",
    "#plt.ylabel('Median Measure')\n",
    "plt.title('High Blood Pressure')\n",
    "plt.tight_layout()\n",
    "#plt.legend(loc='upper right')\n",
    "\n",
    "plt.subplot(2,3,6) \n",
    "plt.hist(df.HC_M_Value, bins=20, histtype='bar', rwidth=0.8)\n",
    "#plt.xlabel('Obesity Population')\n",
    "#plt.ylabel('Median Measure')\n",
    "plt.title('High Chol.')\n",
    "plt.tight_layout()\n",
    "#plt.legend(loc='upper right')\n",
    "\n",
    "\n"
   ]
  },
  {
   "cell_type": "code",
   "execution_count": null,
   "metadata": {},
   "outputs": [],
   "source": [
    "\n",
    "\n",
    "plt.figure(figsize= (15,5))\n",
    "plt.subplot(2,3,5) \n",
    "plt.hist(df.HD_M_Value, bins=20, histtype='bar', rwidth=0.8)\n",
    "#plt.xlabel('Obesity Population')\n",
    "#plt.ylabel('Median Measure')\n",
    "plt.title('Hart Disease')\n",
    "plt.tight_layout()\n",
    "#plt.legend(loc='upper right')\n",
    "\n",
    "plt.subplot(2,3,6) \n",
    "plt.hist(df.Target_Value, bins=20, histtype='bar', rwidth=0.8)\n",
    "#plt.xlabel('Obesity Population')\n",
    "#plt.ylabel('Median Measure')\n",
    "plt.title('Stroke')\n",
    "plt.tight_layout()\n",
    "#plt.legend(loc='upper right')\n",
    "\n"
   ]
  },
  {
   "cell_type": "code",
   "execution_count": null,
   "metadata": {},
   "outputs": [],
   "source": [
    "np.percentile(df['HD_M_Value'],1)"
   ]
  },
  {
   "cell_type": "code",
   "execution_count": null,
   "metadata": {},
   "outputs": [],
   "source": [
    "np.percentile(df['HD_M_Value'],25)"
   ]
  },
  {
   "cell_type": "code",
   "execution_count": null,
   "metadata": {},
   "outputs": [],
   "source": [
    "np.percentile(df['HD_M_Value'],50)"
   ]
  },
  {
   "cell_type": "code",
   "execution_count": null,
   "metadata": {},
   "outputs": [],
   "source": [
    "np.percentile(df['HD_M_Value'],85)"
   ]
  },
  {
   "cell_type": "code",
   "execution_count": null,
   "metadata": {},
   "outputs": [],
   "source": [
    "np.percentile(df['HD_M_Value'],95)"
   ]
  },
  {
   "cell_type": "code",
   "execution_count": null,
   "metadata": {},
   "outputs": [],
   "source": []
  },
  {
   "cell_type": "code",
   "execution_count": null,
   "metadata": {},
   "outputs": [],
   "source": [
    "#df['DB_M_Value'].plot(kind='box');\n",
    "#plt.semilogy\n",
    "# The line is the median(middle point)\n",
    "# The diamon is the mean value\n",
    "# Red circle is the outliers\n",
    "\n",
    "\n",
    "red_circle = dict(markerfacecolor='red', marker='o') ## outliers\n",
    "mean_shape = dict(markerfacecolor='green', marker='D', markeredgecolor='green') ## \n",
    "\n",
    "plt.boxplot(x=df['OB_M_Value'], vert=False, flierprops=red_circle, showmeans=True, meanprops=mean_shape, notch=True);"
   ]
  },
  {
   "cell_type": "code",
   "execution_count": null,
   "metadata": {},
   "outputs": [],
   "source": [
    "red_circle = dict(markerfacecolor='red', marker='o') ## outliers\n",
    "mean_shape = dict(markerfacecolor='green', marker='D', markeredgecolor='green') ## \n",
    "\n",
    "plt.boxplot(x=df['HC_M_Value'], vert=False, flierprops=red_circle, showmeans=True, meanprops=mean_shape, notch=True);"
   ]
  },
  {
   "cell_type": "code",
   "execution_count": null,
   "metadata": {},
   "outputs": [],
   "source": [
    "\n",
    "red_circle = dict(markerfacecolor='red', marker='o')\n",
    "mean_shape = dict(markerfacecolor='green', marker='D', markeredgecolor='green')\n",
    "\n",
    "plt.boxplot(x=df['OB_M_Value'], vert=False, flierprops=red_circle, showmeans=True, meanprops=mean_shape, notch=True);"
   ]
  },
  {
   "cell_type": "code",
   "execution_count": null,
   "metadata": {},
   "outputs": [],
   "source": [
    "\n",
    "red_circle = dict(markerfacecolor='red', marker='o') ## outliers\n",
    "mean_shape = dict(markerfacecolor='green', marker='D', markeredgecolor='green') ## \n",
    "\n",
    "plt.boxplot(x=df['HC_M_Value'], vert=True, flierprops=red_circle, showmeans=True, meanprops=mean_shape, notch=True);"
   ]
  },
  {
   "cell_type": "code",
   "execution_count": null,
   "metadata": {},
   "outputs": [],
   "source": [
    "sns.boxplot(x='DB_M_Value', data=df)"
   ]
  },
  {
   "cell_type": "code",
   "execution_count": null,
   "metadata": {},
   "outputs": [],
   "source": [
    "#Subplot\n",
    "\n",
    "\n",
    "red_circle = dict(markerfacecolor='red', marker='o', markeredgecolor='white')\n",
    "\n",
    "fig, axs = plt.subplots(1, len(df.columns), figsize=(20,10))\n",
    "\n",
    "for i, ax in enumerate(axs.flat):\n",
    "    ax.boxplot(df.iloc[:,i], flierprops=red_circle)\n",
    "    ax.set_title(df.columns[i], fontsize=20, fontweight='bold')\n",
    "    ax.tick_params(axis='y', labelsize=14)\n",
    "    \n",
    "    if df.columns[i] == 'HD_M_Value' or  df.columns[i] == 'HD_M_US':\n",
    "        ax.semilogy\n",
    "        \n",
    "plt.tight_layout()"
   ]
  },
  {
   "cell_type": "code",
   "execution_count": null,
   "metadata": {},
   "outputs": [],
   "source": [
    "df.describe().T"
   ]
  },
  {
   "cell_type": "code",
   "execution_count": null,
   "metadata": {},
   "outputs": [],
   "source": [
    "# Pairplot \n",
    "#df02 = df[df['HD_M_Value'] <= 4.200000 ]\n",
    "#col_to_plot01 = ['HD_M_Value', 'HBP_M_Value', 'HC_M_Value', 'OB_M_Value', 'DB_M_Value']\n",
    "#sns.pairplot(df02[col_to_plot01], diag_kind='kde', kind='reg', plot_kws={'line_kws':{'color':'brown'}})\n",
    "#sns.pairplot(df02[col_to_plot01], hue='OB_M_Value' )\n"
   ]
  },
  {
   "cell_type": "code",
   "execution_count": null,
   "metadata": {},
   "outputs": [],
   "source": [
    "# Scatter splot\n",
    "#plt.scatter(x='HD_M_Value', y='Target_Value', data=df, c='OB_M_Value', alpha=0.9) # alpha is the clarity of the colors\n",
    "#plt.scatter(x='HBP_M_Value', y='Target_Value', data=df, c='OB_M_Value', alpha=0.9)\n",
    "#plt.scatter(x='HC_M_Value', y='Target_Value', data=df, c='OB_M_Value', alpha=0.9)\n",
    "#plt.scatter(x='OB_M_Value', y='Target_Value', data=df, c='OB_M_Value', alpha=0.9)\n",
    "#plt.scatter(x='DB_M_Value', y='Target_Value', data=df, c='OB_M_Value', alpha=0.9)\n",
    "\n",
    "\n",
    "#plt.xlabel('Heart Disease', fontsize=12)\n",
    "#plt.xlabel('High Blood Pressure', fontsize=12)\n",
    "\n",
    "#plt.ylabel('Stroke', fontsize=12)\n",
    "#plt.colorbar(label='Gamma Ray - API')\n",
    "#plt.show()"
   ]
  },
  {
   "cell_type": "code",
   "execution_count": null,
   "metadata": {},
   "outputs": [],
   "source": [
    "df.columns"
   ]
  },
  {
   "attachments": {},
   "cell_type": "markdown",
   "metadata": {},
   "source": [
    "## Dividing the dataset into independent and dependent features."
   ]
  },
  {
   "cell_type": "code",
   "execution_count": null,
   "metadata": {},
   "outputs": [],
   "source": [
    "df.head()"
   ]
  },
  {
   "cell_type": "code",
   "execution_count": null,
   "metadata": {},
   "outputs": [],
   "source": [
    "ml01_df = df.drop(columns = ['HD_M_US', 'HD_M_REL_US','HBP_M_US', 'HBP_M_REL_US', 'HC_M_US',  'HC_M_REL_US', 'OB_M_US', 'OB_M_REL_US', 'DB_M_US', 'DB_M_REL_US' ])"
   ]
  },
  {
   "cell_type": "code",
   "execution_count": null,
   "metadata": {},
   "outputs": [],
   "source": [
    "ml01_df.describe().T"
   ]
  },
  {
   "cell_type": "code",
   "execution_count": null,
   "metadata": {},
   "outputs": [],
   "source": [
    "import numpy as np\n",
    "import matplotlib.pyplot as plt\n",
    "from matplotlib import style\n",
    "from statistics import mean\n",
    "from sklearn import linear_model"
   ]
  },
  {
   "cell_type": "code",
   "execution_count": null,
   "metadata": {},
   "outputs": [],
   "source": [
    "# scatter plot the regression line of predicted value \"STROKE\" vs. each factor.\n",
    "xs=ml01_df.iloc[:, :1] # Independent features - HD_M_Value.\n",
    "ys=ml01_df.iloc[:, -1]  # dependent feature (Stroke)."
   ]
  },
  {
   "cell_type": "code",
   "execution_count": null,
   "metadata": {},
   "outputs": [],
   "source": [
    "#Convert column into list for scatter plot\n",
    "\n",
    "HD_df_ToList = ml01_df['HD_M_Value'] = ml01_df['HD_M_Value'].tolist()\n",
    "STK_df_ToList = ml01_df['Target_Value'] = ml01_df['Target_Value'].tolist()\n",
    "STK_df_ToList"
   ]
  },
  {
   "cell_type": "code",
   "execution_count": null,
   "metadata": {},
   "outputs": [],
   "source": [
    "# Setting variables for X and Y on HD\n",
    "xs = np.array(HD_df_ToList, dtype=np.float64)\n",
    "ys = np.array(STK_df_ToList, dtype=np.float64)"
   ]
  },
  {
   "cell_type": "code",
   "execution_count": null,
   "metadata": {},
   "outputs": [],
   "source": [
    "#  Manual calculation - HD_M_value * .035 - 2.65 = predicted value of stroke.\n",
    "\n",
    "slope_HD_X = (((mean(xs) * mean(ys)) - mean(xs * ys))/ (( mean(xs) * mean(xs)) - mean(xs* xs)) )\n",
    "xy_intercept = mean(ys) - slope_HD_X * mean(xs)\n",
    "HD_Predicted = ml01_df['HD_M_Value'] * slope_HD_X - xy_intercept\n",
    "\n",
    "#print(slope_HD_X) #  the results - for every X increases(HD), the (Y) predicted to increase.\n",
    "#print(xy_intercept)\n",
    "print(HD_Predicted)\n",
    "\n",
    "\n"
   ]
  },
  {
   "cell_type": "code",
   "execution_count": null,
   "metadata": {},
   "outputs": [],
   "source": [
    "diff = ((STK_df_ToList) - (HD_Predicted))\n",
    "print(diff)"
   ]
  },
  {
   "cell_type": "code",
   "execution_count": null,
   "metadata": {},
   "outputs": [],
   "source": [
    "pred_HD_df = pd.DataFrame({'High Blood Pressure':ml01_df['HD_M_Value'], 'Slope':(((mean(xs) * mean(ys)) - mean(xs * ys))/ (( mean(xs) * mean(xs)) - mean(xs* xs)) ) , 'Intercept':mean(ys) - slope * mean(xs),   'Predicted':ml01_df['HD_M_Value'] * slope_HD_X - xy_intercept, 'Target':ml01_df['Target_Value'], 'Diff':ml01_df['Target_Value'] - (ml01_df['HD_M_Value'] * slope_HD_X - xy_intercept) })\n"
   ]
  },
  {
   "cell_type": "code",
   "execution_count": null,
   "metadata": {},
   "outputs": [],
   "source": [
    "pred_HD_df"
   ]
  },
  {
   "cell_type": "code",
   "execution_count": null,
   "metadata": {},
   "outputs": [],
   "source": [
    "Stroke_and_HD = linear_model.LinearRegression()\n",
    "Stroke_and_HD.fit(xs.reshape(-1,1),ys)\n"
   ]
  },
  {
   "cell_type": "code",
   "execution_count": null,
   "metadata": {},
   "outputs": [],
   "source": [
    "regression_line = Stroke_and_HD.predict(xs.reshape(-1,1))"
   ]
  },
  {
   "cell_type": "code",
   "execution_count": null,
   "metadata": {},
   "outputs": [],
   "source": [
    "style.use('seaborn')\n",
    "plt.scatter(xs,ys, label='Data Points', alpha=0.6, color='green', s=75)\n",
    "plt.plot(xs, regression_line, label ='Best Fit Line', color='blue', linewidth=4)\n",
    "plt.title(' Stroke vs. High Blood Pressure Regression')\n",
    "plt.xlabel('HBP')\n",
    "plt.ylabel('Stroke (mean of 2.8)')\n",
    "plt.legend()\n",
    "plt.show()"
   ]
  },
  {
   "attachments": {},
   "cell_type": "markdown",
   "metadata": {},
   "source": [
    "Next:"
   ]
  },
  {
   "cell_type": "code",
   "execution_count": null,
   "metadata": {},
   "outputs": [],
   "source": [
    "# check the corr against the Target_value.\n",
    "ml01_df.corr()['Target_Value']\n",
    "\n"
   ]
  },
  {
   "cell_type": "code",
   "execution_count": null,
   "metadata": {},
   "outputs": [],
   "source": [
    "plt.title('Population of Risk Factors')\n",
    "plt.tight_layout()\n",
    "df_corr = df[['HD_M_Value',\t'HBP_M_Value',\t'HC_M_Value',\t'OB_M_Value',\t'DB_M_Value',\t'Target_Value']].corr()\n",
    "sns.heatmap(df_corr, annot=True)\n",
    "plt.show()"
   ]
  },
  {
   "cell_type": "code",
   "execution_count": null,
   "metadata": {},
   "outputs": [],
   "source": []
  },
  {
   "attachments": {},
   "cell_type": "markdown",
   "metadata": {},
   "source": [
    "#### Below is the dataframe for the ML models:"
   ]
  },
  {
   "cell_type": "code",
   "execution_count": null,
   "metadata": {},
   "outputs": [],
   "source": [
    "\n",
    "X=ml01_df.iloc[:, :-1] # Independent features.\n",
    "y=ml01_df.iloc[:, -1]  # dependent feature (Stroke).\n",
    "\n",
    "X\n",
    "#y"
   ]
  },
  {
   "attachments": {},
   "cell_type": "markdown",
   "metadata": {},
   "source": [
    "ML Analysis - LinearRegression Model"
   ]
  },
  {
   "cell_type": "code",
   "execution_count": null,
   "metadata": {},
   "outputs": [],
   "source": [
    "# laod types of model to use.\n",
    "from sklearn.linear_model import LinearRegression \n",
    "from sklearn.model_selection import train_test_split\n",
    "from sklearn.model_selection import cross_val_score\n",
    "from sklearn.metrics import r2_score, mean_absolute_error\n",
    "from sklearn.metrics import mean_absolute_percentage_error"
   ]
  },
  {
   "cell_type": "code",
   "execution_count": null,
   "metadata": {},
   "outputs": [],
   "source": [
    "# Setting up the plit -  Training/Test set.\n",
    "\n",
    "X_train, X_test, y_train, y_test = train_test_split(X,y,test_size=0.3)\n",
    "#80% training - it chooses ramdom samples.\n",
    "len(X_train)\n",
    "#30% or what ever % specified.\n",
    "len(X_test)\n",
    "\n",
    "X_train\n",
    "#X_test\n",
    "#y_train"
   ]
  },
  {
   "attachments": {},
   "cell_type": "markdown",
   "metadata": {},
   "source": [
    "ML Analyzing using - Linear Regression Model."
   ]
  },
  {
   "cell_type": "code",
   "execution_count": null,
   "metadata": {},
   "outputs": [],
   "source": [
    "# Fit/load into a model\n",
    "modelReg = LinearRegression ()\n",
    "modelReg.fit(X_train,y_train)\n",
    "#y_test"
   ]
  },
  {
   "cell_type": "code",
   "execution_count": null,
   "metadata": {},
   "outputs": [],
   "source": [
    "ml01_df.head()"
   ]
  },
  {
   "cell_type": "code",
   "execution_count": null,
   "metadata": {},
   "outputs": [],
   "source": [
    "modelReg.predict([[ 4.2, 32.3,\t34.1,\t30.3,\t12.2,\t ]])"
   ]
  },
  {
   "cell_type": "code",
   "execution_count": null,
   "metadata": {},
   "outputs": [],
   "source": [
    "\n",
    "modelReg.predict(X_test) # Run predication of X test\n",
    "modelReg.score(X_test,y_test) # See the performance of the test, the resutls diff on each run\n",
    "y_pred = modelReg.predict(X_test) # define variable for X test\n",
    " \n",
    "print(r2_score(y_test,y_pred)) # the accuracy of the prediction and the different is the errors(SSE).\n",
    "print('Score', r2_score(y_test,y_pred)) # r2 = SSR / SST\n",
    "print(\"r2:{}  \".format(r2_score(y_pred,y_test)))  \n",
    "\n",
    "print(\"mae:{}  \".format(mean_absolute_error(y_pred,y_test)))\n",
    "print('mean_absolute_error = ', mean_absolute_error(y_pred,y_test))\n",
    "print('mean_absolute_percentage_error = ', mean_absolute_percentage_error(y_pred,y_test))  # Verify error\n"
   ]
  },
  {
   "cell_type": "code",
   "execution_count": null,
   "metadata": {},
   "outputs": [],
   "source": [
    "# Actual Value\n",
    "# y_test\n",
    "\n",
    "#Predicted Value\n",
    "y_pred"
   ]
  },
  {
   "attachments": {},
   "cell_type": "markdown",
   "metadata": {},
   "source": [
    "Predicted Values save to df - Linear Regression "
   ]
  },
  {
   "cell_type": "code",
   "execution_count": null,
   "metadata": {},
   "outputs": [],
   "source": [
    "# Actual value * slope_x - intercept = predicted value  \n",
    "\n",
    "pred_y_df = pd.DataFrame({'Actual Stroke Value':y_test, 'Predicted Value':y_pred, 'absErrors':abs(y_test-y_pred),  'Sqr':(y_test-y_pred)*(y_test-y_pred),  'Percentage_Err':((abs(y_pred - y_test)) / y_test) * 100 })\n",
    "pred_y_df[0:20]\n"
   ]
  },
  {
   "cell_type": "code",
   "execution_count": null,
   "metadata": {},
   "outputs": [],
   "source": [
    "\n",
    "from sklearn.metrics import mean_squared_error\n",
    "\n",
    "# Tot. Error \n",
    "# Cal. MAPE\n",
    "Tot_Err = pred_y_df['absErrors'].count()\n",
    "Tot_Percentage_Err = pred_y_df['Percentage_Err'].sum()\n",
    "print('Total Error = ', Tot_Err)\n",
    "print('MAPE = ', Tot_Percentage_Err / Tot_Err)\n",
    "\n",
    "\n",
    "\n",
    "MSE = mean_squared_error(pred_y_df['Actual Stroke Value'],pred_y_df['Predicted Value'] )\n",
    "print('mean_squared_error = ', MSE )\n",
    "\n",
    "#SSE - sum of sqr, the goal is to reduced SSE (compare to SSE before removing the outliers)\n",
    "SSE = pred_y_df['Sqr'].sum()\n",
    "\n",
    "print(\"Sum Square Err (SSE) = \", SSE)"
   ]
  },
  {
   "attachments": {},
   "cell_type": "markdown",
   "metadata": {},
   "source": []
  },
  {
   "attachments": {},
   "cell_type": "markdown",
   "metadata": {},
   "source": [
    "ML Analyzing using - Decision Tree Model."
   ]
  },
  {
   "cell_type": "code",
   "execution_count": null,
   "metadata": {},
   "outputs": [],
   "source": [
    "from sklearn.metrics import r2_score, mean_absolute_error\n",
    "from sklearn.metrics import mean_absolute_percentage_error\n",
    "from sklearn.tree import DecisionTreeRegressor\n",
    "\n",
    "modelDT= DecisionTreeRegressor()\n",
    "modelDT.fit(X_train,y_train)\n",
    "modelDT.predict(X_test)\n",
    "#y_test  \n",
    "\n",
    "\n",
    "modelDT.predict(X_test) # Run predication of X test\n",
    "modelDT.score(X_test,y_test) # See the performance of the test, the resutls diff on each run\n",
    "y_pred = modelDT.predict(X_test) # define variable for X test\n"
   ]
  },
  {
   "cell_type": "code",
   "execution_count": null,
   "metadata": {},
   "outputs": [],
   "source": [
    "print('Score', r2_score(y_test,y_pred))\n",
    "print(\"r2:{}  \".format(r2_score(y_pred,y_test)))  \n",
    "print(\"mae:{}  \".format(mean_absolute_error(y_pred,y_test)))\n",
    "\n",
    "print('mean_absolute_error = ', mean_absolute_error(y_pred,y_test))\n",
    "print('mean_absolute_percentage_error = ', mean_absolute_percentage_error(y_pred,y_test))  # Verify error\n",
    "print(\"mape:{}  \".format(y_pred - y_test / y_test))"
   ]
  },
  {
   "cell_type": "code",
   "execution_count": null,
   "metadata": {},
   "outputs": [],
   "source": [
    "pred_y_df_DT = pd.DataFrame({'Actual Stroke Value':y_test, 'Predicted Value':y_pred, 'Diff_(Errors)':y_test-y_pred,  'Sqr':(y_test-y_pred)*(y_test-y_pred),  'MAPE':y_pred - y_test / y_test })\n",
    "pred_y_df_DT[0:20]"
   ]
  },
  {
   "cell_type": "code",
   "execution_count": null,
   "metadata": {},
   "outputs": [],
   "source": [
    "from sklearn.metrics import mean_squared_error\n",
    "\n",
    "MSE = mean_squared_error(pred_y_df_DT['Actual Stroke Value'],pred_y_df_DT['Predicted Value'] )\n",
    "print('mean_squared_error = ', MSE )\n",
    "\n",
    "#SSE - sum of sqr, the goal is to reduced SSE (compare to SSE before removing the outliers)\n",
    "SSE = pred_y_df_DT['Sqr'].sum()\n",
    "\n",
    "print(\"SSE = \", SSE)"
   ]
  },
  {
   "attachments": {},
   "cell_type": "markdown",
   "metadata": {},
   "source": [
    "#### ML Analyzing using - RandomForestRegressor Model."
   ]
  },
  {
   "cell_type": "code",
   "execution_count": null,
   "metadata": {},
   "outputs": [],
   "source": [
    "from sklearn.ensemble import RandomForestRegressor\n",
    "\n",
    "\n",
    "modelRF = RandomForestRegressor()\n",
    "modelRF.fit(X_train,y_train)\n",
    "modelRF.predict(X_test)\n",
    "y_test\n",
    "modelRF.score(X_test,y_test)\n",
    "from sklearn.metrics import r2_score, mean_absolute_error\n",
    "from sklearn.metrics import mean_absolute_percentage_error\n",
    "y_pred = modelRF.predict(X_test)\n",
    "\n",
    "\n",
    "print('Score', r2_score(y_test,y_pred))\n",
    "print(\"r2:{}  \".format(r2_score(y_pred,y_test)))  \n",
    "print(\"mae:{}  \".format(mean_absolute_error(y_pred,y_test)))\n",
    "\n",
    "print('mean_absolute_error = ', mean_absolute_error(y_pred,y_test))\n",
    "print('mean_absolute_percentage_error = ', mean_absolute_percentage_error(y_pred,y_test))  # Verify error\n",
    "print(\"mape:{}  \".format(y_pred - y_test / y_test))\n"
   ]
  },
  {
   "cell_type": "code",
   "execution_count": null,
   "metadata": {},
   "outputs": [],
   "source": [
    "pred_y_df_RF = pd.DataFrame({'Actual Stroke Value':y_test, 'Predicted Value':y_pred, 'Diff_(Errors)':y_test-y_pred,  'Sqr':(y_test-y_pred)*(y_test-y_pred),  'MAPE':y_pred - y_test / y_test })\n",
    "pred_y_df[0:20]"
   ]
  },
  {
   "cell_type": "code",
   "execution_count": null,
   "metadata": {},
   "outputs": [],
   "source": [
    "\n",
    "from sklearn.metrics import mean_squared_error\n",
    "\n",
    "MSE = mean_squared_error(pred_y_df_RF['Actual Stroke Value'],pred_y_df_RF['Predicted Value'] )\n",
    "print('mean_squared_error = ', MSE )\n",
    "\n",
    "#SSE - sum of sqr, the goal is to reduced SSE (compare to SSE before removing the outliers)\n",
    "SSE = pred_y_df_RF['Sqr'].sum()\n",
    "\n",
    "print(\"SSE = \", SSE)"
   ]
  }
 ],
 "metadata": {
  "kernelspec": {
   "display_name": "Python 3",
   "language": "python",
   "name": "python3"
  },
  "language_info": {
   "codemirror_mode": {
    "name": "ipython",
    "version": 3
   },
   "file_extension": ".py",
   "mimetype": "text/x-python",
   "name": "python",
   "nbconvert_exporter": "python",
   "pygments_lexer": "ipython3",
   "version": "3.11.2"
  },
  "orig_nbformat": 4
 },
 "nbformat": 4,
 "nbformat_minor": 2
}
