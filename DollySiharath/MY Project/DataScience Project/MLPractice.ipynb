{
 "cells": [
  {
   "attachments": {},
   "cell_type": "markdown",
   "metadata": {},
   "source": [
    "#### Data Science Project - Machine Leaning.\n",
    "\n",
    "Capstone: \n",
    "Y = (Predicted) Stroke. \n",
    "X = (Multiple Factors) Diabetes, Heart Dissease, High Blood Pressure, High Cholesterol, and Obesity \n",
    "\n",
    "ML Algorithms = Will be focusing on supervised (multiple linear regression) numeric values.\n",
    "\n",
    "####### Data provided by https://data.cdc.gov/\n",
    "Dataset Files:  Diabetes.cvs\n",
    "Data Measure: 500 Cities: Diagnosed diabetes among adults aged >=18 years\n",
    "\n",
    "First feature:  Number of diabetes population.\n",
    "\n",
    "\n",
    "\n",
    "\n",
    "\n"
   ]
  },
  {
   "cell_type": "code",
   "execution_count": 245,
   "metadata": {},
   "outputs": [],
   "source": [
    "\n",
    "# importing the libraies\n",
    "import numpy as np\n",
    "import matplotlib.pyplot as plt\n",
    " \n",
    "import pandas as pd\n",
    "import seaborn as sns\n",
    "import math \n",
    "#%metplotlib inline #\n"
   ]
  },
  {
   "cell_type": "code",
   "execution_count": 246,
   "metadata": {},
   "outputs": [],
   "source": [
    "# Reading, loading  datasets. \n",
    "# NEW/updated - top 5 states with highest \n",
    "# diabetes rates.\n",
    "df_CA_Dbt = pd.read_csv(\"CA_Diabetes.csv\")\n",
    "df_TX_Dbt = pd.read_csv(\"TX_Diabetes.csv\")\n",
    "df_FL_Dbt = pd.read_csv(\"FL_Diabetes.csv\")\n",
    "df_IL_Dbt = pd.read_csv(\"IL_Diabetes.csv\")\n",
    "df_NY_Dbt = pd.read_csv(\"NY_Diabetes.csv\")\n",
    "\n",
    "df_CA_Dbt.drop(df_CA_Dbt.filter(regex=\"Unnamed\"), axis=1, inplace=True)\n",
    "df_TX_Dbt.drop(df_TX_Dbt.filter(regex=\"Unnamed\"), axis=1, inplace=True)\n",
    "df_FL_Dbt.drop(df_FL_Dbt.filter(regex=\"Unnamed\"), axis=1, inplace=True)\n",
    "df_IL_Dbt.drop(df_IL_Dbt.filter(regex=\"Unnamed\"), axis=1, inplace=True)\n",
    "df_NY_Dbt.drop(df_NY_Dbt.filter(regex=\"Unnamed\"), axis=1, inplace=True)"
   ]
  },
  {
   "cell_type": "code",
   "execution_count": 247,
   "metadata": {},
   "outputs": [
    {
     "data": {
      "text/html": [
       "<div>\n",
       "<style scoped>\n",
       "    .dataframe tbody tr th:only-of-type {\n",
       "        vertical-align: middle;\n",
       "    }\n",
       "\n",
       "    .dataframe tbody tr th {\n",
       "        vertical-align: top;\n",
       "    }\n",
       "\n",
       "    .dataframe thead th {\n",
       "        text-align: right;\n",
       "    }\n",
       "</style>\n",
       "<table border=\"1\" class=\"dataframe\">\n",
       "  <thead>\n",
       "    <tr style=\"text-align: right;\">\n",
       "      <th></th>\n",
       "      <th>CA_City</th>\n",
       "      <th>CA_PopByMM</th>\n",
       "      <th>CA_DiagPer100k</th>\n",
       "    </tr>\n",
       "  </thead>\n",
       "  <tbody>\n",
       "    <tr>\n",
       "      <th>0</th>\n",
       "      <td>CA Inglewood</td>\n",
       "      <td>2,472</td>\n",
       "      <td>12.7</td>\n",
       "    </tr>\n",
       "    <tr>\n",
       "      <th>1</th>\n",
       "      <td>CA Antioch</td>\n",
       "      <td>5,038</td>\n",
       "      <td>12.1</td>\n",
       "    </tr>\n",
       "    <tr>\n",
       "      <th>2</th>\n",
       "      <td>CA Burbank</td>\n",
       "      <td>2,274</td>\n",
       "      <td>7.6</td>\n",
       "    </tr>\n",
       "    <tr>\n",
       "      <th>3</th>\n",
       "      <td>CA Folsom</td>\n",
       "      <td>72,203</td>\n",
       "      <td>7.1</td>\n",
       "    </tr>\n",
       "    <tr>\n",
       "      <th>4</th>\n",
       "      <td>CA Moreno Valley</td>\n",
       "      <td>193,365</td>\n",
       "      <td>10.7</td>\n",
       "    </tr>\n",
       "    <tr>\n",
       "      <th>...</th>\n",
       "      <td>...</td>\n",
       "      <td>...</td>\n",
       "      <td>...</td>\n",
       "    </tr>\n",
       "    <tr>\n",
       "      <th>5476</th>\n",
       "      <td>CA West Covina</td>\n",
       "      <td>429</td>\n",
       "      <td>11.3</td>\n",
       "    </tr>\n",
       "    <tr>\n",
       "      <th>5477</th>\n",
       "      <td>CA West Covina</td>\n",
       "      <td>5,088</td>\n",
       "      <td>9.1</td>\n",
       "    </tr>\n",
       "    <tr>\n",
       "      <th>5478</th>\n",
       "      <td>CA Vista</td>\n",
       "      <td>277</td>\n",
       "      <td>16.7</td>\n",
       "    </tr>\n",
       "    <tr>\n",
       "      <th>5479</th>\n",
       "      <td>CA West Covina</td>\n",
       "      <td>5,394</td>\n",
       "      <td>9.9</td>\n",
       "    </tr>\n",
       "    <tr>\n",
       "      <th>5480</th>\n",
       "      <td>CA Visalia</td>\n",
       "      <td>4,910</td>\n",
       "      <td>9.9</td>\n",
       "    </tr>\n",
       "  </tbody>\n",
       "</table>\n",
       "<p>5481 rows × 3 columns</p>\n",
       "</div>"
      ],
      "text/plain": [
       "               CA_City CA_PopByMM  CA_DiagPer100k\n",
       "0         CA Inglewood      2,472            12.7\n",
       "1           CA Antioch      5,038            12.1\n",
       "2           CA Burbank      2,274             7.6\n",
       "3            CA Folsom     72,203             7.1\n",
       "4     CA Moreno Valley    193,365            10.7\n",
       "...                ...        ...             ...\n",
       "5476    CA West Covina        429            11.3\n",
       "5477    CA West Covina      5,088             9.1\n",
       "5478          CA Vista        277            16.7\n",
       "5479    CA West Covina      5,394             9.9\n",
       "5480        CA Visalia      4,910             9.9\n",
       "\n",
       "[5481 rows x 3 columns]"
      ]
     },
     "execution_count": 247,
     "metadata": {},
     "output_type": "execute_result"
    }
   ],
   "source": [
    "df_CA_Dbt"
   ]
  },
  {
   "cell_type": "code",
   "execution_count": 248,
   "metadata": {},
   "outputs": [
    {
     "data": {
      "text/plain": [
       "CA_City           5481\n",
       "CA_PopByMM        5481\n",
       "CA_DiagPer100k    5481\n",
       "dtype: int64"
      ]
     },
     "execution_count": 248,
     "metadata": {},
     "output_type": "execute_result"
    }
   ],
   "source": [
    "df_CA_Dbt.count()"
   ]
  },
  {
   "cell_type": "code",
   "execution_count": 249,
   "metadata": {},
   "outputs": [
    {
     "data": {
      "text/html": [
       "<div>\n",
       "<style scoped>\n",
       "    .dataframe tbody tr th:only-of-type {\n",
       "        vertical-align: middle;\n",
       "    }\n",
       "\n",
       "    .dataframe tbody tr th {\n",
       "        vertical-align: top;\n",
       "    }\n",
       "\n",
       "    .dataframe thead th {\n",
       "        text-align: right;\n",
       "    }\n",
       "</style>\n",
       "<table border=\"1\" class=\"dataframe\">\n",
       "  <thead>\n",
       "    <tr style=\"text-align: right;\">\n",
       "      <th></th>\n",
       "      <th>CA_City</th>\n",
       "      <th>CA_PopByMM</th>\n",
       "      <th>CA_DiagPer100k</th>\n",
       "    </tr>\n",
       "  </thead>\n",
       "  <tbody>\n",
       "    <tr>\n",
       "      <th>18</th>\n",
       "      <td>CA Anaheim</td>\n",
       "      <td>5,061</td>\n",
       "      <td>9.1</td>\n",
       "    </tr>\n",
       "    <tr>\n",
       "      <th>20</th>\n",
       "      <td>CA Alhambra</td>\n",
       "      <td>4,255</td>\n",
       "      <td>10.7</td>\n",
       "    </tr>\n",
       "    <tr>\n",
       "      <th>21</th>\n",
       "      <td>CA Anaheim</td>\n",
       "      <td>336,265</td>\n",
       "      <td>9.9</td>\n",
       "    </tr>\n",
       "    <tr>\n",
       "      <th>22</th>\n",
       "      <td>CA Anaheim</td>\n",
       "      <td>3,886</td>\n",
       "      <td>9.5</td>\n",
       "    </tr>\n",
       "    <tr>\n",
       "      <th>23</th>\n",
       "      <td>CA Anaheim</td>\n",
       "      <td>6,488</td>\n",
       "      <td>9.1</td>\n",
       "    </tr>\n",
       "    <tr>\n",
       "      <th>...</th>\n",
       "      <td>...</td>\n",
       "      <td>...</td>\n",
       "      <td>...</td>\n",
       "    </tr>\n",
       "    <tr>\n",
       "      <th>5476</th>\n",
       "      <td>CA West Covina</td>\n",
       "      <td>429</td>\n",
       "      <td>11.3</td>\n",
       "    </tr>\n",
       "    <tr>\n",
       "      <th>5477</th>\n",
       "      <td>CA West Covina</td>\n",
       "      <td>5,088</td>\n",
       "      <td>9.1</td>\n",
       "    </tr>\n",
       "    <tr>\n",
       "      <th>5478</th>\n",
       "      <td>CA Vista</td>\n",
       "      <td>277</td>\n",
       "      <td>16.7</td>\n",
       "    </tr>\n",
       "    <tr>\n",
       "      <th>5479</th>\n",
       "      <td>CA West Covina</td>\n",
       "      <td>5,394</td>\n",
       "      <td>9.9</td>\n",
       "    </tr>\n",
       "    <tr>\n",
       "      <th>5480</th>\n",
       "      <td>CA Visalia</td>\n",
       "      <td>4,910</td>\n",
       "      <td>9.9</td>\n",
       "    </tr>\n",
       "  </tbody>\n",
       "</table>\n",
       "<p>5360 rows × 3 columns</p>\n",
       "</div>"
      ],
      "text/plain": [
       "             CA_City CA_PopByMM  CA_DiagPer100k\n",
       "18        CA Anaheim      5,061             9.1\n",
       "20       CA Alhambra      4,255            10.7\n",
       "21        CA Anaheim    336,265             9.9\n",
       "22        CA Anaheim      3,886             9.5\n",
       "23        CA Anaheim      6,488             9.1\n",
       "...              ...        ...             ...\n",
       "5476  CA West Covina        429            11.3\n",
       "5477  CA West Covina      5,088             9.1\n",
       "5478        CA Vista        277            16.7\n",
       "5479  CA West Covina      5,394             9.9\n",
       "5480      CA Visalia      4,910             9.9\n",
       "\n",
       "[5360 rows x 3 columns]"
      ]
     },
     "execution_count": 249,
     "metadata": {},
     "output_type": "execute_result"
    }
   ],
   "source": [
    "# Checking for duplicate values. \n",
    "df_CA_Dbt.loc[df_CA_Dbt.duplicated(subset=['CA_City'])] "
   ]
  },
  {
   "cell_type": "code",
   "execution_count": 250,
   "metadata": {},
   "outputs": [
    {
     "data": {
      "text/html": [
       "<div>\n",
       "<style scoped>\n",
       "    .dataframe tbody tr th:only-of-type {\n",
       "        vertical-align: middle;\n",
       "    }\n",
       "\n",
       "    .dataframe tbody tr th {\n",
       "        vertical-align: top;\n",
       "    }\n",
       "\n",
       "    .dataframe thead th {\n",
       "        text-align: right;\n",
       "    }\n",
       "</style>\n",
       "<table border=\"1\" class=\"dataframe\">\n",
       "  <thead>\n",
       "    <tr style=\"text-align: right;\">\n",
       "      <th></th>\n",
       "      <th>CA_City</th>\n",
       "      <th>CA_PopByMM</th>\n",
       "      <th>CA_DiagPer100k</th>\n",
       "    </tr>\n",
       "  </thead>\n",
       "  <tbody>\n",
       "    <tr>\n",
       "      <th>153</th>\n",
       "      <td>CA Alameda</td>\n",
       "      <td>2,928</td>\n",
       "      <td>7.8</td>\n",
       "    </tr>\n",
       "    <tr>\n",
       "      <th>101</th>\n",
       "      <td>CA Alameda</td>\n",
       "      <td>3,183</td>\n",
       "      <td>8.4</td>\n",
       "    </tr>\n",
       "    <tr>\n",
       "      <th>140</th>\n",
       "      <td>CA Alameda</td>\n",
       "      <td>3,271</td>\n",
       "      <td>9.2</td>\n",
       "    </tr>\n",
       "    <tr>\n",
       "      <th>38</th>\n",
       "      <td>CA Alameda</td>\n",
       "      <td>3,646</td>\n",
       "      <td>7.8</td>\n",
       "    </tr>\n",
       "    <tr>\n",
       "      <th>72</th>\n",
       "      <td>CA Alameda</td>\n",
       "      <td>4,107</td>\n",
       "      <td>9.2</td>\n",
       "    </tr>\n",
       "    <tr>\n",
       "      <th>...</th>\n",
       "      <td>...</td>\n",
       "      <td>...</td>\n",
       "      <td>...</td>\n",
       "    </tr>\n",
       "    <tr>\n",
       "      <th>5383</th>\n",
       "      <td>CA Whittier</td>\n",
       "      <td>6,780</td>\n",
       "      <td>8.5</td>\n",
       "    </tr>\n",
       "    <tr>\n",
       "      <th>5378</th>\n",
       "      <td>CA Whittier</td>\n",
       "      <td>638</td>\n",
       "      <td>8.8</td>\n",
       "    </tr>\n",
       "    <tr>\n",
       "      <th>5377</th>\n",
       "      <td>CA Whittier</td>\n",
       "      <td>7,238</td>\n",
       "      <td>9.3</td>\n",
       "    </tr>\n",
       "    <tr>\n",
       "      <th>5305</th>\n",
       "      <td>CA Whittier</td>\n",
       "      <td>85,331</td>\n",
       "      <td>9.3</td>\n",
       "    </tr>\n",
       "    <tr>\n",
       "      <th>5340</th>\n",
       "      <td>CA Whittier</td>\n",
       "      <td>85,331</td>\n",
       "      <td>9.4</td>\n",
       "    </tr>\n",
       "  </tbody>\n",
       "</table>\n",
       "<p>5481 rows × 3 columns</p>\n",
       "</div>"
      ],
      "text/plain": [
       "          CA_City CA_PopByMM  CA_DiagPer100k\n",
       "153    CA Alameda      2,928             7.8\n",
       "101    CA Alameda      3,183             8.4\n",
       "140    CA Alameda      3,271             9.2\n",
       "38     CA Alameda      3,646             7.8\n",
       "72     CA Alameda      4,107             9.2\n",
       "...           ...        ...             ...\n",
       "5383  CA Whittier      6,780             8.5\n",
       "5378  CA Whittier        638             8.8\n",
       "5377  CA Whittier      7,238             9.3\n",
       "5305  CA Whittier     85,331             9.3\n",
       "5340  CA Whittier     85,331             9.4\n",
       "\n",
       "[5481 rows x 3 columns]"
      ]
     },
     "execution_count": 250,
     "metadata": {},
     "output_type": "execute_result"
    }
   ],
   "source": [
    "# Sorted\n",
    "df_CA_Dbt.sort_values([\"CA_City\", \"CA_PopByMM\", \"CA_DiagPer100k\"])"
   ]
  },
  {
   "cell_type": "code",
   "execution_count": 251,
   "metadata": {},
   "outputs": [
    {
     "name": "stdout",
     "output_type": "stream",
     "text": [
      "<class 'pandas.core.frame.DataFrame'>\n",
      "RangeIndex: 5481 entries, 0 to 5480\n",
      "Data columns (total 3 columns):\n",
      " #   Column          Non-Null Count  Dtype  \n",
      "---  ------          --------------  -----  \n",
      " 0   CA_City         5481 non-null   object \n",
      " 1   CA_PopByMM      5481 non-null   int32  \n",
      " 2   CA_DiagPer100k  5481 non-null   float64\n",
      "dtypes: float64(1), int32(1), object(1)\n",
      "memory usage: 107.2+ KB\n"
     ]
    }
   ],
   "source": [
    "# Change data type of CA_PopByMM to int.\n",
    "df_CA_Dbt[\"CA_PopByMM\"] = df_CA_Dbt[\"CA_PopByMM\"].str.replace(',','').astype(int)\n",
    "df_CA_Dbt.info()"
   ]
  },
  {
   "cell_type": "code",
   "execution_count": 252,
   "metadata": {},
   "outputs": [
    {
     "data": {
      "text/html": [
       "<div>\n",
       "<style scoped>\n",
       "    .dataframe tbody tr th:only-of-type {\n",
       "        vertical-align: middle;\n",
       "    }\n",
       "\n",
       "    .dataframe tbody tr th {\n",
       "        vertical-align: top;\n",
       "    }\n",
       "\n",
       "    .dataframe thead th {\n",
       "        text-align: right;\n",
       "    }\n",
       "</style>\n",
       "<table border=\"1\" class=\"dataframe\">\n",
       "  <thead>\n",
       "    <tr style=\"text-align: right;\">\n",
       "      <th></th>\n",
       "      <th>CA_City</th>\n",
       "      <th>CA_PopByMM</th>\n",
       "      <th>CA_DiagPer100k</th>\n",
       "    </tr>\n",
       "  </thead>\n",
       "  <tbody>\n",
       "    <tr>\n",
       "      <th>17</th>\n",
       "      <td>CA Anaheim</td>\n",
       "      <td>4848</td>\n",
       "      <td>11.3</td>\n",
       "    </tr>\n",
       "    <tr>\n",
       "      <th>18</th>\n",
       "      <td>CA Anaheim</td>\n",
       "      <td>5061</td>\n",
       "      <td>9.1</td>\n",
       "    </tr>\n",
       "    <tr>\n",
       "      <th>21</th>\n",
       "      <td>CA Anaheim</td>\n",
       "      <td>336265</td>\n",
       "      <td>9.9</td>\n",
       "    </tr>\n",
       "    <tr>\n",
       "      <th>22</th>\n",
       "      <td>CA Anaheim</td>\n",
       "      <td>3886</td>\n",
       "      <td>9.5</td>\n",
       "    </tr>\n",
       "    <tr>\n",
       "      <th>23</th>\n",
       "      <td>CA Anaheim</td>\n",
       "      <td>6488</td>\n",
       "      <td>9.1</td>\n",
       "    </tr>\n",
       "    <tr>\n",
       "      <th>...</th>\n",
       "      <td>...</td>\n",
       "      <td>...</td>\n",
       "      <td>...</td>\n",
       "    </tr>\n",
       "    <tr>\n",
       "      <th>148</th>\n",
       "      <td>CA Anaheim</td>\n",
       "      <td>7474</td>\n",
       "      <td>10.9</td>\n",
       "    </tr>\n",
       "    <tr>\n",
       "      <th>151</th>\n",
       "      <td>CA Anaheim</td>\n",
       "      <td>1407</td>\n",
       "      <td>10.7</td>\n",
       "    </tr>\n",
       "    <tr>\n",
       "      <th>152</th>\n",
       "      <td>CA Anaheim</td>\n",
       "      <td>3529</td>\n",
       "      <td>9.1</td>\n",
       "    </tr>\n",
       "    <tr>\n",
       "      <th>154</th>\n",
       "      <td>CA Anaheim</td>\n",
       "      <td>6861</td>\n",
       "      <td>9.7</td>\n",
       "    </tr>\n",
       "    <tr>\n",
       "      <th>155</th>\n",
       "      <td>CA Anaheim</td>\n",
       "      <td>7141</td>\n",
       "      <td>11.5</td>\n",
       "    </tr>\n",
       "  </tbody>\n",
       "</table>\n",
       "<p>77 rows × 3 columns</p>\n",
       "</div>"
      ],
      "text/plain": [
       "        CA_City  CA_PopByMM  CA_DiagPer100k\n",
       "17   CA Anaheim        4848            11.3\n",
       "18   CA Anaheim        5061             9.1\n",
       "21   CA Anaheim      336265             9.9\n",
       "22   CA Anaheim        3886             9.5\n",
       "23   CA Anaheim        6488             9.1\n",
       "..          ...         ...             ...\n",
       "148  CA Anaheim        7474            10.9\n",
       "151  CA Anaheim        1407            10.7\n",
       "152  CA Anaheim        3529             9.1\n",
       "154  CA Anaheim        6861             9.7\n",
       "155  CA Anaheim        7141            11.5\n",
       "\n",
       "[77 rows x 3 columns]"
      ]
     },
     "execution_count": 252,
     "metadata": {},
     "output_type": "execute_result"
    }
   ],
   "source": [
    "df_CA_Dbt.query('CA_City == \"CA Anaheim\" ') \n"
   ]
  },
  {
   "cell_type": "code",
   "execution_count": 256,
   "metadata": {},
   "outputs": [
    {
     "ename": "TypeError",
     "evalue": "'DataFrame' object is not callable",
     "output_type": "error",
     "traceback": [
      "\u001b[1;31m---------------------------------------------------------------------------\u001b[0m",
      "\u001b[1;31mTypeError\u001b[0m                                 Traceback (most recent call last)",
      "Cell \u001b[1;32mIn[256], line 2\u001b[0m\n\u001b[0;32m      1\u001b[0m \u001b[39m#df_CA_Dbt.query('CA_City == \"CA Alameda\" ') \u001b[39;00m\n\u001b[1;32m----> 2\u001b[0m condition \u001b[39m=\u001b[39m df_CA_Dbt([\u001b[39m'\u001b[39m\u001b[39mCA_City\u001b[39m\u001b[39m'\u001b[39m] \u001b[39m==\u001b[39m \u001b[39m'\u001b[39m\u001b[39mCA Alameda\u001b[39m\u001b[39m'\u001b[39m)\n\u001b[0;32m      3\u001b[0m Data_Values \u001b[39m=\u001b[39m df_CA_Dbt([\u001b[39m'\u001b[39m\u001b[39mCA_PopByMM\u001b[39m\u001b[39m'\u001b[39m])\n\u001b[0;32m      4\u001b[0m df_CA_Dbt[\u001b[39m'\u001b[39m\u001b[39mCA_Alameda\u001b[39m\u001b[39m'\u001b[39m] \u001b[39m=\u001b[39m np\u001b[39m.\u001b[39mselect(condition,Data_Values)\n",
      "\u001b[1;31mTypeError\u001b[0m: 'DataFrame' object is not callable"
     ]
    }
   ],
   "source": [
    "#df_CA_Dbt.query('CA_City == \"CA Alameda\" ') \n",
    "conditions = df_CA_Dbt(['CA_City'] == 'CA Alameda')\n",
    "Data_Values = df_CA_Dbt(['CA_PopByMM'])\n",
    "df_CA_Dbt['CA_Alameda'] = np.select(conditions, Data_Values) "
   ]
  },
  {
   "cell_type": "code",
   "execution_count": null,
   "metadata": {},
   "outputs": [
    {
     "data": {
      "text/html": [
       "<div>\n",
       "<style scoped>\n",
       "    .dataframe tbody tr th:only-of-type {\n",
       "        vertical-align: middle;\n",
       "    }\n",
       "\n",
       "    .dataframe tbody tr th {\n",
       "        vertical-align: top;\n",
       "    }\n",
       "\n",
       "    .dataframe thead th {\n",
       "        text-align: right;\n",
       "    }\n",
       "</style>\n",
       "<table border=\"1\" class=\"dataframe\">\n",
       "  <thead>\n",
       "    <tr style=\"text-align: right;\">\n",
       "      <th></th>\n",
       "      <th>CA_City</th>\n",
       "      <th>CA_PopByMM</th>\n",
       "      <th>CA_DiagPer100k</th>\n",
       "      <th>CA_Alameda</th>\n",
       "    </tr>\n",
       "  </thead>\n",
       "  <tbody>\n",
       "  </tbody>\n",
       "</table>\n",
       "</div>"
      ],
      "text/plain": [
       "Empty DataFrame\n",
       "Columns: [CA_City, CA_PopByMM, CA_DiagPer100k, CA_Alameda]\n",
       "Index: []"
      ]
     },
     "execution_count": 224,
     "metadata": {},
     "output_type": "execute_result"
    }
   ],
   "source": [
    "df_CA_Dbt"
   ]
  },
  {
   "cell_type": "code",
   "execution_count": null,
   "metadata": {},
   "outputs": [
    {
     "data": {
      "text/html": [
       "<div>\n",
       "<style scoped>\n",
       "    .dataframe tbody tr th:only-of-type {\n",
       "        vertical-align: middle;\n",
       "    }\n",
       "\n",
       "    .dataframe tbody tr th {\n",
       "        vertical-align: top;\n",
       "    }\n",
       "\n",
       "    .dataframe thead th {\n",
       "        text-align: right;\n",
       "    }\n",
       "</style>\n",
       "<table border=\"1\" class=\"dataframe\">\n",
       "  <thead>\n",
       "    <tr style=\"text-align: right;\">\n",
       "      <th></th>\n",
       "      <th>CA_City</th>\n",
       "      <th>CA_PopByMM</th>\n",
       "      <th>CA_DiagPer100k</th>\n",
       "    </tr>\n",
       "  </thead>\n",
       "  <tbody>\n",
       "  </tbody>\n",
       "</table>\n",
       "</div>"
      ],
      "text/plain": [
       "Empty DataFrame\n",
       "Columns: [CA_City, CA_PopByMM, CA_DiagPer100k]\n",
       "Index: []"
      ]
     },
     "execution_count": 217,
     "metadata": {},
     "output_type": "execute_result"
    }
   ],
   "source": [
    "# Hoding\n",
    "df_CA_Dbt.query('CA_City == \"CA Folsom\" ') "
   ]
  },
  {
   "cell_type": "code",
   "execution_count": null,
   "metadata": {},
   "outputs": [
    {
     "name": "stdout",
     "output_type": "stream",
     "text": [
      "<class 'pandas.core.frame.DataFrame'>\n",
      "Int64Index: 77 entries, 17 to 155\n",
      "Data columns (total 3 columns):\n",
      " #   Column          Non-Null Count  Dtype  \n",
      "---  ------          --------------  -----  \n",
      " 0   CA_City         77 non-null     object \n",
      " 1   CA_PopByMM      77 non-null     int32  \n",
      " 2   CA_DiagPer100k  77 non-null     float64\n",
      "dtypes: float64(1), int32(1), object(1)\n",
      "memory usage: 2.1+ KB\n"
     ]
    }
   ],
   "source": [
    "df_CA_Dbt.info()"
   ]
  },
  {
   "cell_type": "code",
   "execution_count": null,
   "metadata": {},
   "outputs": [
    {
     "data": {
      "text/plain": [
       "CA_PopByMM        1008759.0\n",
       "CA_DiagPer100k        763.5\n",
       "dtype: float64"
      ]
     },
     "execution_count": 219,
     "metadata": {},
     "output_type": "execute_result"
    }
   ],
   "source": [
    "#Sum multiple columns when conditions are met.\n",
    "df_CA_Dbt.query('CA_City == \"CA Anaheim\" ') \n",
    "df_CA_col_list = ['CA_PopByMM', 'CA_DiagPer100k']\n",
    "df_CA_Dbt[df_CA_col_list].sum()\n",
    "\n"
   ]
  },
  {
   "attachments": {},
   "cell_type": "markdown",
   "metadata": {},
   "source": [
    "Run statistic on the dataset"
   ]
  },
  {
   "cell_type": "code",
   "execution_count": null,
   "metadata": {},
   "outputs": [],
   "source": []
  },
  {
   "attachments": {},
   "cell_type": "markdown",
   "metadata": {},
   "source": []
  },
  {
   "attachments": {},
   "cell_type": "markdown",
   "metadata": {},
   "source": [
    "Create linear regression modles to predict the values/or death rate. "
   ]
  }
 ],
 "metadata": {
  "kernelspec": {
   "display_name": "Python 3",
   "language": "python",
   "name": "python3"
  },
  "language_info": {
   "codemirror_mode": {
    "name": "ipython",
    "version": 3
   },
   "file_extension": ".py",
   "mimetype": "text/x-python",
   "name": "python",
   "nbconvert_exporter": "python",
   "pygments_lexer": "ipython3",
   "version": "3.11.2"
  },
  "orig_nbformat": 4
 },
 "nbformat": 4,
 "nbformat_minor": 2
}
