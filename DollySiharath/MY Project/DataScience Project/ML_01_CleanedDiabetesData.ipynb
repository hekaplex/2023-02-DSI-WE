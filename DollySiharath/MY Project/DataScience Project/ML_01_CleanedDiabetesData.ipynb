{
 "cells": [
  {
   "attachments": {},
   "cell_type": "markdown",
   "metadata": {},
   "source": [
    "#### Data Science Project - Machine Leaning.\n",
    "\n",
    "Capstone: \n",
    "Y = (Predicted) Stroke. \n",
    "X = (Multiple Factors) Diabetes, Heart Dissease, High Blood Pressure, High Cholesterol, and Obesity \n",
    "\n",
    "ML Algorithms = Will be focusing on supervised (multiple linear regression) numeric values.\n",
    "\n",
    "####### Data provided by https://data.cdc.gov/\n",
    "Dataset Files:  Diabetes.cvs\n",
    "Data Measure: 500 Cities: Diagnosed diabetes among adults aged >=18 years\n",
    "\n",
    "First feature:  Number of diabetes population.\n",
    "\n",
    "\n",
    "\n",
    "\n",
    "\n"
   ]
  },
  {
   "cell_type": "code",
   "execution_count": 1,
   "metadata": {},
   "outputs": [],
   "source": [
    "\n",
    "# importing the libraies\n",
    "import numpy as np\n",
    "import matplotlib.pyplot as plt\n",
    " \n",
    "import pandas as pd\n",
    "import seaborn as sns\n",
    "import math \n",
    "#%metplotlib inline #\n"
   ]
  },
  {
   "cell_type": "code",
   "execution_count": 2,
   "metadata": {},
   "outputs": [],
   "source": [
    "# Reading, loading  datasets. \n",
    "\n",
    "df = pd.read_csv(\"500_Cities_Diagnosed_diabetes.csv\" )\n"
   ]
  },
  {
   "cell_type": "code",
   "execution_count": 3,
   "metadata": {},
   "outputs": [
    {
     "data": {
      "text/plain": [
       "(29006, 24)"
      ]
     },
     "execution_count": 3,
     "metadata": {},
     "output_type": "execute_result"
    }
   ],
   "source": [
    "df.shape "
   ]
  },
  {
   "cell_type": "code",
   "execution_count": null,
   "metadata": {},
   "outputs": [],
   "source": [
    "df.head().T\n"
   ]
  },
  {
   "cell_type": "code",
   "execution_count": 20,
   "metadata": {},
   "outputs": [],
   "source": [
    "New_df = df.drop(columns=[\"Year\", \"StateDesc\",  \"GeoLocation\", \"GeographicLevel\" ,\"DataSource\", \"Category\", \"UniqueID\", \"Measure\", \"Data_Value_Unit\", \"DataValueTypeID\", \\\n",
    "\"Low_Confidence_Limit\", \"High_Confidence_Limit\", \"Data_Value_Footnote\", \"Data_Value_Footnote_Symbol\", \"Data_Value_Footnote_Symbol\",\"CategoryID\", \"TractFIPS\", \"Short_Question_Text\", \"DataSource\", \\\n",
    "\"Category\", \"UniqueID\", \"Measure\", \"Data_Value_Unit\",\"Data_Value\",  \"DataValueTypeID\", \"Data_Value_Footnote_Symbol\", \"MeasureId\", \"Data_Value_Footnote_Symbol\", \\\n",
    "\"CategoryID\", \"TractFIPS\",\"CityFIPS\" ,\"Short_Question_Text\"])"
   ]
  },
  {
   "cell_type": "code",
   "execution_count": 22,
   "metadata": {},
   "outputs": [
    {
     "data": {
      "text/plain": [
       "(29006, 4)"
      ]
     },
     "execution_count": 22,
     "metadata": {},
     "output_type": "execute_result"
    }
   ],
   "source": [
    "New_df.shape "
   ]
  },
  {
   "cell_type": "code",
   "execution_count": 23,
   "metadata": {},
   "outputs": [
    {
     "data": {
      "text/html": [
       "<div>\n",
       "<style scoped>\n",
       "    .dataframe tbody tr th:only-of-type {\n",
       "        vertical-align: middle;\n",
       "    }\n",
       "\n",
       "    .dataframe tbody tr th {\n",
       "        vertical-align: top;\n",
       "    }\n",
       "\n",
       "    .dataframe thead th {\n",
       "        text-align: right;\n",
       "    }\n",
       "</style>\n",
       "<table border=\"1\" class=\"dataframe\">\n",
       "  <thead>\n",
       "    <tr style=\"text-align: right;\">\n",
       "      <th></th>\n",
       "      <th>StateAbbr</th>\n",
       "      <th>CityName</th>\n",
       "      <th>Data_Value_Type</th>\n",
       "      <th>PopulationCount</th>\n",
       "    </tr>\n",
       "  </thead>\n",
       "  <tbody>\n",
       "    <tr>\n",
       "      <th>0</th>\n",
       "      <td>TX</td>\n",
       "      <td>Abilene</td>\n",
       "      <td>Crude prevalence</td>\n",
       "      <td>2,229</td>\n",
       "    </tr>\n",
       "    <tr>\n",
       "      <th>1</th>\n",
       "      <td>TX</td>\n",
       "      <td>Abilene</td>\n",
       "      <td>Crude prevalence</td>\n",
       "      <td>7,647</td>\n",
       "    </tr>\n",
       "    <tr>\n",
       "      <th>2</th>\n",
       "      <td>TX</td>\n",
       "      <td>Abilene</td>\n",
       "      <td>Crude prevalence</td>\n",
       "      <td>2,684</td>\n",
       "    </tr>\n",
       "    <tr>\n",
       "      <th>3</th>\n",
       "      <td>TX</td>\n",
       "      <td>Abilene</td>\n",
       "      <td>Crude prevalence</td>\n",
       "      <td>1,209</td>\n",
       "    </tr>\n",
       "    <tr>\n",
       "      <th>4</th>\n",
       "      <td>TX</td>\n",
       "      <td>Abilene</td>\n",
       "      <td>Crude prevalence</td>\n",
       "      <td>3,924</td>\n",
       "    </tr>\n",
       "  </tbody>\n",
       "</table>\n",
       "</div>"
      ],
      "text/plain": [
       "  StateAbbr CityName   Data_Value_Type PopulationCount\n",
       "0        TX  Abilene  Crude prevalence           2,229\n",
       "1        TX  Abilene  Crude prevalence           7,647\n",
       "2        TX  Abilene  Crude prevalence           2,684\n",
       "3        TX  Abilene  Crude prevalence           1,209\n",
       "4        TX  Abilene  Crude prevalence           3,924"
      ]
     },
     "execution_count": 23,
     "metadata": {},
     "output_type": "execute_result"
    }
   ],
   "source": [
    "New_df.head()\n"
   ]
  },
  {
   "cell_type": "code",
   "execution_count": 24,
   "metadata": {},
   "outputs": [],
   "source": [
    "New_df = New_df.rename(columns={'StateAbbr':'States', 'CityName':'City', 'Data_Value_Type':'Age-adj_preval','PopulationCount':'PopCountByMM' })"
   ]
  },
  {
   "cell_type": "code",
   "execution_count": 28,
   "metadata": {},
   "outputs": [
    {
     "data": {
      "text/html": [
       "<div>\n",
       "<style scoped>\n",
       "    .dataframe tbody tr th:only-of-type {\n",
       "        vertical-align: middle;\n",
       "    }\n",
       "\n",
       "    .dataframe tbody tr th {\n",
       "        vertical-align: top;\n",
       "    }\n",
       "\n",
       "    .dataframe thead th {\n",
       "        text-align: right;\n",
       "    }\n",
       "</style>\n",
       "<table border=\"1\" class=\"dataframe\">\n",
       "  <thead>\n",
       "    <tr style=\"text-align: right;\">\n",
       "      <th></th>\n",
       "      <th>States</th>\n",
       "      <th>City</th>\n",
       "      <th>Age-adj_preval</th>\n",
       "      <th>PopCountByMM</th>\n",
       "    </tr>\n",
       "  </thead>\n",
       "  <tbody>\n",
       "    <tr>\n",
       "      <th>0</th>\n",
       "      <td>TX</td>\n",
       "      <td>Abilene</td>\n",
       "      <td>Crude prevalence</td>\n",
       "      <td>2,229</td>\n",
       "    </tr>\n",
       "    <tr>\n",
       "      <th>1</th>\n",
       "      <td>TX</td>\n",
       "      <td>Abilene</td>\n",
       "      <td>Crude prevalence</td>\n",
       "      <td>7,647</td>\n",
       "    </tr>\n",
       "    <tr>\n",
       "      <th>2</th>\n",
       "      <td>TX</td>\n",
       "      <td>Abilene</td>\n",
       "      <td>Crude prevalence</td>\n",
       "      <td>2,684</td>\n",
       "    </tr>\n",
       "    <tr>\n",
       "      <th>3</th>\n",
       "      <td>TX</td>\n",
       "      <td>Abilene</td>\n",
       "      <td>Crude prevalence</td>\n",
       "      <td>1,209</td>\n",
       "    </tr>\n",
       "    <tr>\n",
       "      <th>4</th>\n",
       "      <td>TX</td>\n",
       "      <td>Abilene</td>\n",
       "      <td>Crude prevalence</td>\n",
       "      <td>3,924</td>\n",
       "    </tr>\n",
       "  </tbody>\n",
       "</table>\n",
       "</div>"
      ],
      "text/plain": [
       "  States     City    Age-adj_preval PopCountByMM\n",
       "0     TX  Abilene  Crude prevalence        2,229\n",
       "1     TX  Abilene  Crude prevalence        7,647\n",
       "2     TX  Abilene  Crude prevalence        2,684\n",
       "3     TX  Abilene  Crude prevalence        1,209\n",
       "4     TX  Abilene  Crude prevalence        3,924"
      ]
     },
     "execution_count": 28,
     "metadata": {},
     "output_type": "execute_result"
    }
   ],
   "source": [
    "New_df.head()"
   ]
  },
  {
   "cell_type": "code",
   "execution_count": 30,
   "metadata": {},
   "outputs": [],
   "source": [
    "df_diab = New_df.query('`Age-adj_preval` == \"Age-adjusted prevalence\"') \n",
    "#df_diab.to_csv(\"NewDataDiabetes.csv\")"
   ]
  },
  {
   "cell_type": "code",
   "execution_count": 31,
   "metadata": {},
   "outputs": [
    {
     "name": "stdout",
     "output_type": "stream",
     "text": [
      "States            0\n",
      "City              1\n",
      "Age-adj_preval    0\n",
      "PopCountByMM      0\n",
      "dtype: int64\n"
     ]
    }
   ],
   "source": [
    "# Check for NULL/Missing values\n",
    "print(df_diab.isna().sum())"
   ]
  },
  {
   "cell_type": "code",
   "execution_count": null,
   "metadata": {},
   "outputs": [],
   "source": [
    "# Verify for NULL and dup. values\n",
    "# No NULL values are found.\n",
    "df_diab.loc[df_diab.duplicated()]"
   ]
  },
  {
   "cell_type": "code",
   "execution_count": null,
   "metadata": {},
   "outputs": [],
   "source": [
    "#count number of records by each state.\n",
    "df_diab['States'].value_counts()"
   ]
  },
  {
   "cell_type": "code",
   "execution_count": 39,
   "metadata": {},
   "outputs": [
    {
     "data": {
      "text/html": [
       "<div>\n",
       "<style scoped>\n",
       "    .dataframe tbody tr th:only-of-type {\n",
       "        vertical-align: middle;\n",
       "    }\n",
       "\n",
       "    .dataframe tbody tr th {\n",
       "        vertical-align: top;\n",
       "    }\n",
       "\n",
       "    .dataframe thead th {\n",
       "        text-align: right;\n",
       "    }\n",
       "</style>\n",
       "<table border=\"1\" class=\"dataframe\">\n",
       "  <thead>\n",
       "    <tr style=\"text-align: right;\">\n",
       "      <th></th>\n",
       "      <th>States</th>\n",
       "      <th>City</th>\n",
       "      <th>Age-adj_preval</th>\n",
       "      <th>PopCountByMM</th>\n",
       "    </tr>\n",
       "  </thead>\n",
       "  <tbody>\n",
       "    <tr>\n",
       "      <th>118</th>\n",
       "      <td>CA</td>\n",
       "      <td>Alameda</td>\n",
       "      <td>Age-adjusted prevalence</td>\n",
       "      <td>73,812</td>\n",
       "    </tr>\n",
       "    <tr>\n",
       "      <th>382</th>\n",
       "      <td>CA</td>\n",
       "      <td>Alhambra</td>\n",
       "      <td>Age-adjusted prevalence</td>\n",
       "      <td>83,089</td>\n",
       "    </tr>\n",
       "    <tr>\n",
       "      <th>507</th>\n",
       "      <td>CA</td>\n",
       "      <td>Anaheim</td>\n",
       "      <td>Age-adjusted prevalence</td>\n",
       "      <td>336,265</td>\n",
       "    </tr>\n",
       "    <tr>\n",
       "      <th>666</th>\n",
       "      <td>CA</td>\n",
       "      <td>Antioch</td>\n",
       "      <td>Age-adjusted prevalence</td>\n",
       "      <td>102,372</td>\n",
       "    </tr>\n",
       "    <tr>\n",
       "      <th>682</th>\n",
       "      <td>CA</td>\n",
       "      <td>Apple Valley</td>\n",
       "      <td>Age-adjusted prevalence</td>\n",
       "      <td>69,135</td>\n",
       "    </tr>\n",
       "    <tr>\n",
       "      <th>...</th>\n",
       "      <td>...</td>\n",
       "      <td>...</td>\n",
       "      <td>...</td>\n",
       "      <td>...</td>\n",
       "    </tr>\n",
       "    <tr>\n",
       "      <th>27812</th>\n",
       "      <td>CA</td>\n",
       "      <td>Visalia</td>\n",
       "      <td>Age-adjusted prevalence</td>\n",
       "      <td>124,442</td>\n",
       "    </tr>\n",
       "    <tr>\n",
       "      <th>27859</th>\n",
       "      <td>CA</td>\n",
       "      <td>Vista</td>\n",
       "      <td>Age-adjusted prevalence</td>\n",
       "      <td>93,834</td>\n",
       "    </tr>\n",
       "    <tr>\n",
       "      <th>28294</th>\n",
       "      <td>CA</td>\n",
       "      <td>West Covina</td>\n",
       "      <td>Age-adjusted prevalence</td>\n",
       "      <td>106,098</td>\n",
       "    </tr>\n",
       "    <tr>\n",
       "      <th>28441</th>\n",
       "      <td>CA</td>\n",
       "      <td>Westminster</td>\n",
       "      <td>Age-adjusted prevalence</td>\n",
       "      <td>89,701</td>\n",
       "    </tr>\n",
       "    <tr>\n",
       "      <th>28499</th>\n",
       "      <td>CA</td>\n",
       "      <td>Whittier</td>\n",
       "      <td>Age-adjusted prevalence</td>\n",
       "      <td>85,331</td>\n",
       "    </tr>\n",
       "  </tbody>\n",
       "</table>\n",
       "<p>121 rows × 4 columns</p>\n",
       "</div>"
      ],
      "text/plain": [
       "      States          City           Age-adj_preval PopCountByMM\n",
       "118       CA       Alameda  Age-adjusted prevalence       73,812\n",
       "382       CA      Alhambra  Age-adjusted prevalence       83,089\n",
       "507       CA       Anaheim  Age-adjusted prevalence      336,265\n",
       "666       CA       Antioch  Age-adjusted prevalence      102,372\n",
       "682       CA  Apple Valley  Age-adjusted prevalence       69,135\n",
       "...      ...           ...                      ...          ...\n",
       "27812     CA       Visalia  Age-adjusted prevalence      124,442\n",
       "27859     CA         Vista  Age-adjusted prevalence       93,834\n",
       "28294     CA   West Covina  Age-adjusted prevalence      106,098\n",
       "28441     CA   Westminster  Age-adjusted prevalence       89,701\n",
       "28499     CA      Whittier  Age-adjusted prevalence       85,331\n",
       "\n",
       "[121 rows x 4 columns]"
      ]
     },
     "execution_count": 39,
     "metadata": {},
     "output_type": "execute_result"
    }
   ],
   "source": [
    "\n",
    "#df_diabetes[\"Texa\"] =\n",
    "df_diab.query('`States` == \"CA\"')"
   ]
  },
  {
   "cell_type": "code",
   "execution_count": 38,
   "metadata": {},
   "outputs": [
    {
     "data": {
      "text/plain": [
       "Int64Index([    5,    72,   118,   131,   174,   208,   326,   382,   395,\n",
       "              413,\n",
       "            ...\n",
       "            28668, 28713, 28752, 28815, 28858, 28862, 28883, 28944, 28972,\n",
       "            29005],\n",
       "           dtype='int64', length=501)"
      ]
     },
     "execution_count": 38,
     "metadata": {},
     "output_type": "execute_result"
    }
   ],
   "source": [
    "df_diab.index"
   ]
  }
 ],
 "metadata": {
  "kernelspec": {
   "display_name": "Python 3",
   "language": "python",
   "name": "python3"
  },
  "language_info": {
   "codemirror_mode": {
    "name": "ipython",
    "version": 3
   },
   "file_extension": ".py",
   "mimetype": "text/x-python",
   "name": "python",
   "nbconvert_exporter": "python",
   "pygments_lexer": "ipython3",
   "version": "3.11.2"
  },
  "orig_nbformat": 4
 },
 "nbformat": 4,
 "nbformat_minor": 2
}
