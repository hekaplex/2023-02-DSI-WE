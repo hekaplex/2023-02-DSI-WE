{
 "cells": [
  {
   "attachments": {},
   "cell_type": "markdown",
   "metadata": {},
   "source": [
    "#### Data Science Project - Machine Leaning.\n",
    "\n",
    "Capstone: \n",
    "Y = (Predicted) Diabetes \n",
    "X = (Multiple Factors) \n",
    "\n",
    "\n",
    "ML Algorithms = Will be focusing on supervised (multiple linear regression) numeric values.\n",
    "\n",
    "####### Data provided by https://data.cdc.gov/\n",
    "Dataset Files:  Diabetes.cvs\n",
    "Data Measure: 500 Cities: Diagnosed diabetes among adults aged >=18 years\n",
    "\n",
    "\n",
    "\n",
    "\n",
    "\n",
    "\n"
   ]
  },
  {
   "cell_type": "code",
   "execution_count": 1,
   "metadata": {},
   "outputs": [
    {
     "name": "stderr",
     "output_type": "stream",
     "text": [
      "UsageError: Line magic function `%metplotlib` not found.\n"
     ]
    }
   ],
   "source": [
    "\n",
    "# importing the libraies\n",
    "import numpy as np\n",
    "import matplotlib.pyplot as plt\n",
    "import pandas as pd\n",
    "import seaborn as sns\n",
    "import math \n",
    "%metplotlib inline #\n"
   ]
  },
  {
   "cell_type": "code",
   "execution_count": 2,
   "metadata": {},
   "outputs": [],
   "source": [
    "# Reading, loading  datasets. \n",
    "\n",
    "df_CA_Diabetes = pd.read_csv(\"CA_Diabetes_PopulationByCityCounty.csv\")\n",
    "df_CA_Diabetes.drop(df_CA_Diabetes.filter(regex=\"Unnamed\"), axis=1, inplace=True)"
   ]
  },
  {
   "cell_type": "code",
   "execution_count": 3,
   "metadata": {},
   "outputs": [
    {
     "data": {
      "text/html": [
       "<div>\n",
       "<style scoped>\n",
       "    .dataframe tbody tr th:only-of-type {\n",
       "        vertical-align: middle;\n",
       "    }\n",
       "\n",
       "    .dataframe tbody tr th {\n",
       "        vertical-align: top;\n",
       "    }\n",
       "\n",
       "    .dataframe thead th {\n",
       "        text-align: right;\n",
       "    }\n",
       "</style>\n",
       "<table border=\"1\" class=\"dataframe\">\n",
       "  <thead>\n",
       "    <tr style=\"text-align: right;\">\n",
       "      <th></th>\n",
       "      <th>City_Name</th>\n",
       "      <th>Daig12Month</th>\n",
       "      <th>Diag9Moths</th>\n",
       "      <th>Daig6Month</th>\n",
       "      <th>Daig3Month</th>\n",
       "      <th>EstPopByCountyCity</th>\n",
       "      <th>AvgDaigPerYrRate</th>\n",
       "      <th>CrudeRate100K</th>\n",
       "    </tr>\n",
       "  </thead>\n",
       "  <tbody>\n",
       "    <tr>\n",
       "      <th>0</th>\n",
       "      <td>CA Redondo Beach</td>\n",
       "      <td>44499</td>\n",
       "      <td>33374.25</td>\n",
       "      <td>22249.5</td>\n",
       "      <td>11124.75</td>\n",
       "      <td>69781</td>\n",
       "      <td>0.64</td>\n",
       "      <td>2.2</td>\n",
       "    </tr>\n",
       "    <tr>\n",
       "      <th>1</th>\n",
       "      <td>CA Milpitas</td>\n",
       "      <td>44504</td>\n",
       "      <td>33378.00</td>\n",
       "      <td>22252.0</td>\n",
       "      <td>11126.00</td>\n",
       "      <td>79066</td>\n",
       "      <td>0.56</td>\n",
       "      <td>2.2</td>\n",
       "    </tr>\n",
       "    <tr>\n",
       "      <th>2</th>\n",
       "      <td>CA Manteca</td>\n",
       "      <td>44731</td>\n",
       "      <td>33548.25</td>\n",
       "      <td>22365.5</td>\n",
       "      <td>11182.75</td>\n",
       "      <td>85792</td>\n",
       "      <td>0.52</td>\n",
       "      <td>2.2</td>\n",
       "    </tr>\n",
       "    <tr>\n",
       "      <th>3</th>\n",
       "      <td>CA Perris</td>\n",
       "      <td>45575</td>\n",
       "      <td>34181.25</td>\n",
       "      <td>22787.5</td>\n",
       "      <td>11393.75</td>\n",
       "      <td>79835</td>\n",
       "      <td>0.57</td>\n",
       "      <td>2.3</td>\n",
       "    </tr>\n",
       "    <tr>\n",
       "      <th>4</th>\n",
       "      <td>CA Turlock</td>\n",
       "      <td>45699</td>\n",
       "      <td>34274.25</td>\n",
       "      <td>22849.5</td>\n",
       "      <td>11424.75</td>\n",
       "      <td>72682</td>\n",
       "      <td>0.63</td>\n",
       "      <td>2.3</td>\n",
       "    </tr>\n",
       "    <tr>\n",
       "      <th>...</th>\n",
       "      <td>...</td>\n",
       "      <td>...</td>\n",
       "      <td>...</td>\n",
       "      <td>...</td>\n",
       "      <td>...</td>\n",
       "      <td>...</td>\n",
       "      <td>...</td>\n",
       "      <td>...</td>\n",
       "    </tr>\n",
       "    <tr>\n",
       "      <th>116</th>\n",
       "      <td>CA Fresno</td>\n",
       "      <td>328467</td>\n",
       "      <td>246350.25</td>\n",
       "      <td>164233.5</td>\n",
       "      <td>82116.75</td>\n",
       "      <td>542107</td>\n",
       "      <td>0.61</td>\n",
       "      <td>16.4</td>\n",
       "    </tr>\n",
       "    <tr>\n",
       "      <th>117</th>\n",
       "      <td>CA San Francisco</td>\n",
       "      <td>530655</td>\n",
       "      <td>397991.25</td>\n",
       "      <td>265327.5</td>\n",
       "      <td>132663.75</td>\n",
       "      <td>3313000</td>\n",
       "      <td>0.16</td>\n",
       "      <td>26.5</td>\n",
       "    </tr>\n",
       "    <tr>\n",
       "      <th>118</th>\n",
       "      <td>CA San Jose</td>\n",
       "      <td>621842</td>\n",
       "      <td>466381.50</td>\n",
       "      <td>310921.0</td>\n",
       "      <td>155460.50</td>\n",
       "      <td>983489</td>\n",
       "      <td>0.63</td>\n",
       "      <td>31.1</td>\n",
       "    </tr>\n",
       "    <tr>\n",
       "      <th>119</th>\n",
       "      <td>CA San Diego</td>\n",
       "      <td>859037</td>\n",
       "      <td>644277.75</td>\n",
       "      <td>429518.5</td>\n",
       "      <td>214759.25</td>\n",
       "      <td>1381611</td>\n",
       "      <td>0.62</td>\n",
       "      <td>43.0</td>\n",
       "    </tr>\n",
       "    <tr>\n",
       "      <th>120</th>\n",
       "      <td>CA Los Angeles</td>\n",
       "      <td>2397632</td>\n",
       "      <td>1798224.00</td>\n",
       "      <td>1198816.0</td>\n",
       "      <td>599408.00</td>\n",
       "      <td>3849297</td>\n",
       "      <td>0.62</td>\n",
       "      <td>119.9</td>\n",
       "    </tr>\n",
       "  </tbody>\n",
       "</table>\n",
       "<p>121 rows × 8 columns</p>\n",
       "</div>"
      ],
      "text/plain": [
       "            City_Name  Daig12Month  Diag9Moths  Daig6Month  Daig3Month  \\\n",
       "0    CA Redondo Beach        44499    33374.25     22249.5    11124.75   \n",
       "1         CA Milpitas        44504    33378.00     22252.0    11126.00   \n",
       "2          CA Manteca        44731    33548.25     22365.5    11182.75   \n",
       "3           CA Perris        45575    34181.25     22787.5    11393.75   \n",
       "4          CA Turlock        45699    34274.25     22849.5    11424.75   \n",
       "..                ...          ...         ...         ...         ...   \n",
       "116         CA Fresno       328467   246350.25    164233.5    82116.75   \n",
       "117  CA San Francisco       530655   397991.25    265327.5   132663.75   \n",
       "118       CA San Jose       621842   466381.50    310921.0   155460.50   \n",
       "119      CA San Diego       859037   644277.75    429518.5   214759.25   \n",
       "120    CA Los Angeles      2397632  1798224.00   1198816.0   599408.00   \n",
       "\n",
       "     EstPopByCountyCity  AvgDaigPerYrRate  CrudeRate100K  \n",
       "0                 69781              0.64            2.2  \n",
       "1                 79066              0.56            2.2  \n",
       "2                 85792              0.52            2.2  \n",
       "3                 79835              0.57            2.3  \n",
       "4                 72682              0.63            2.3  \n",
       "..                  ...               ...            ...  \n",
       "116              542107              0.61           16.4  \n",
       "117             3313000              0.16           26.5  \n",
       "118              983489              0.63           31.1  \n",
       "119             1381611              0.62           43.0  \n",
       "120             3849297              0.62          119.9  \n",
       "\n",
       "[121 rows x 8 columns]"
      ]
     },
     "execution_count": 3,
     "metadata": {},
     "output_type": "execute_result"
    }
   ],
   "source": [
    "df_CA_Diabetes"
   ]
  },
  {
   "cell_type": "code",
   "execution_count": 4,
   "metadata": {},
   "outputs": [
    {
     "data": {
      "text/plain": [
       "City_Name             121\n",
       "Daig12Month           121\n",
       "Diag9Moths            121\n",
       "Daig6Month            121\n",
       "Daig3Month            121\n",
       "EstPopByCountyCity    121\n",
       "AvgDaigPerYrRate      121\n",
       "CrudeRate100K         121\n",
       "dtype: int64"
      ]
     },
     "execution_count": 4,
     "metadata": {},
     "output_type": "execute_result"
    }
   ],
   "source": [
    "df_CA_Diabetes.count()"
   ]
  },
  {
   "cell_type": "code",
   "execution_count": 5,
   "metadata": {},
   "outputs": [
    {
     "name": "stdout",
     "output_type": "stream",
     "text": [
      "<class 'pandas.core.frame.DataFrame'>\n",
      "RangeIndex: 121 entries, 0 to 120\n",
      "Data columns (total 8 columns):\n",
      " #   Column              Non-Null Count  Dtype  \n",
      "---  ------              --------------  -----  \n",
      " 0   City_Name           121 non-null    object \n",
      " 1   Daig12Month         121 non-null    int64  \n",
      " 2   Diag9Moths          121 non-null    float64\n",
      " 3   Daig6Month          121 non-null    float64\n",
      " 4   Daig3Month          121 non-null    float64\n",
      " 5   EstPopByCountyCity  121 non-null    int64  \n",
      " 6   AvgDaigPerYrRate    121 non-null    float64\n",
      " 7   CrudeRate100K       121 non-null    float64\n",
      "dtypes: float64(5), int64(2), object(1)\n",
      "memory usage: 7.7+ KB\n"
     ]
    }
   ],
   "source": [
    "df_CA_Diabetes.info()"
   ]
  },
  {
   "attachments": {},
   "cell_type": "markdown",
   "metadata": {},
   "source": [
    "Run statistic on the dataset"
   ]
  },
  {
   "cell_type": "code",
   "execution_count": 6,
   "metadata": {},
   "outputs": [],
   "source": [
    "#df_CA_Diabetes_Filter = df_CA_Diabetes.drop(columns=[\"AvgDaigPerYrRate\", \"CrudeRate100K\",])\n",
    "#f_CA_Diabetes_Filter"
   ]
  },
  {
   "cell_type": "code",
   "execution_count": 7,
   "metadata": {},
   "outputs": [
    {
     "data": {
      "text/html": [
       "<div>\n",
       "<style scoped>\n",
       "    .dataframe tbody tr th:only-of-type {\n",
       "        vertical-align: middle;\n",
       "    }\n",
       "\n",
       "    .dataframe tbody tr th {\n",
       "        vertical-align: top;\n",
       "    }\n",
       "\n",
       "    .dataframe thead th {\n",
       "        text-align: right;\n",
       "    }\n",
       "</style>\n",
       "<table border=\"1\" class=\"dataframe\">\n",
       "  <thead>\n",
       "    <tr style=\"text-align: right;\">\n",
       "      <th></th>\n",
       "      <th>Daig12Month</th>\n",
       "      <th>Diag9Moths</th>\n",
       "      <th>Daig6Month</th>\n",
       "      <th>Daig3Month</th>\n",
       "      <th>EstPopByCountyCity</th>\n",
       "      <th>AvgDaigPerYrRate</th>\n",
       "      <th>CrudeRate100K</th>\n",
       "    </tr>\n",
       "  </thead>\n",
       "  <tbody>\n",
       "    <tr>\n",
       "      <th>count</th>\n",
       "      <td>1.210000e+02</td>\n",
       "      <td>1.210000e+02</td>\n",
       "      <td>1.210000e+02</td>\n",
       "      <td>121.000000</td>\n",
       "      <td>1.210000e+02</td>\n",
       "      <td>121.000000</td>\n",
       "      <td>121.000000</td>\n",
       "    </tr>\n",
       "    <tr>\n",
       "      <th>mean</th>\n",
       "      <td>1.217601e+05</td>\n",
       "      <td>9.132008e+04</td>\n",
       "      <td>6.088005e+04</td>\n",
       "      <td>30440.026860</td>\n",
       "      <td>2.307466e+05</td>\n",
       "      <td>0.615785</td>\n",
       "      <td>6.087603</td>\n",
       "    </tr>\n",
       "    <tr>\n",
       "      <th>std</th>\n",
       "      <td>2.351409e+05</td>\n",
       "      <td>1.763557e+05</td>\n",
       "      <td>1.175705e+05</td>\n",
       "      <td>58785.225901</td>\n",
       "      <td>5.018789e+05</td>\n",
       "      <td>0.078579</td>\n",
       "      <td>11.759695</td>\n",
       "    </tr>\n",
       "    <tr>\n",
       "      <th>min</th>\n",
       "      <td>4.449900e+04</td>\n",
       "      <td>3.337425e+04</td>\n",
       "      <td>2.224950e+04</td>\n",
       "      <td>11124.750000</td>\n",
       "      <td>6.550500e+04</td>\n",
       "      <td>0.140000</td>\n",
       "      <td>2.200000</td>\n",
       "    </tr>\n",
       "    <tr>\n",
       "      <th>25%</th>\n",
       "      <td>5.527100e+04</td>\n",
       "      <td>4.145325e+04</td>\n",
       "      <td>2.763550e+04</td>\n",
       "      <td>13817.750000</td>\n",
       "      <td>8.825500e+04</td>\n",
       "      <td>0.600000</td>\n",
       "      <td>2.800000</td>\n",
       "    </tr>\n",
       "    <tr>\n",
       "      <th>50%</th>\n",
       "      <td>6.909500e+04</td>\n",
       "      <td>5.182125e+04</td>\n",
       "      <td>3.454750e+04</td>\n",
       "      <td>17273.750000</td>\n",
       "      <td>1.099250e+05</td>\n",
       "      <td>0.630000</td>\n",
       "      <td>3.500000</td>\n",
       "    </tr>\n",
       "    <tr>\n",
       "      <th>75%</th>\n",
       "      <td>1.020100e+05</td>\n",
       "      <td>7.650750e+04</td>\n",
       "      <td>5.100500e+04</td>\n",
       "      <td>25502.500000</td>\n",
       "      <td>1.704880e+05</td>\n",
       "      <td>0.660000</td>\n",
       "      <td>5.100000</td>\n",
       "    </tr>\n",
       "    <tr>\n",
       "      <th>max</th>\n",
       "      <td>2.397632e+06</td>\n",
       "      <td>1.798224e+06</td>\n",
       "      <td>1.198816e+06</td>\n",
       "      <td>599408.000000</td>\n",
       "      <td>3.849297e+06</td>\n",
       "      <td>0.730000</td>\n",
       "      <td>119.900000</td>\n",
       "    </tr>\n",
       "  </tbody>\n",
       "</table>\n",
       "</div>"
      ],
      "text/plain": [
       "        Daig12Month    Diag9Moths    Daig6Month     Daig3Month  \\\n",
       "count  1.210000e+02  1.210000e+02  1.210000e+02     121.000000   \n",
       "mean   1.217601e+05  9.132008e+04  6.088005e+04   30440.026860   \n",
       "std    2.351409e+05  1.763557e+05  1.175705e+05   58785.225901   \n",
       "min    4.449900e+04  3.337425e+04  2.224950e+04   11124.750000   \n",
       "25%    5.527100e+04  4.145325e+04  2.763550e+04   13817.750000   \n",
       "50%    6.909500e+04  5.182125e+04  3.454750e+04   17273.750000   \n",
       "75%    1.020100e+05  7.650750e+04  5.100500e+04   25502.500000   \n",
       "max    2.397632e+06  1.798224e+06  1.198816e+06  599408.000000   \n",
       "\n",
       "       EstPopByCountyCity  AvgDaigPerYrRate  CrudeRate100K  \n",
       "count        1.210000e+02        121.000000     121.000000  \n",
       "mean         2.307466e+05          0.615785       6.087603  \n",
       "std          5.018789e+05          0.078579      11.759695  \n",
       "min          6.550500e+04          0.140000       2.200000  \n",
       "25%          8.825500e+04          0.600000       2.800000  \n",
       "50%          1.099250e+05          0.630000       3.500000  \n",
       "75%          1.704880e+05          0.660000       5.100000  \n",
       "max          3.849297e+06          0.730000     119.900000  "
      ]
     },
     "execution_count": 7,
     "metadata": {},
     "output_type": "execute_result"
    }
   ],
   "source": [
    "df_CA_Diabetes.describe()"
   ]
  },
  {
   "cell_type": "code",
   "execution_count": 10,
   "metadata": {},
   "outputs": [
    {
     "name": "stderr",
     "output_type": "stream",
     "text": [
      "C:\\Users\\dolly\\AppData\\Local\\Temp\\ipykernel_24520\\516426517.py:7: FutureWarning: The default value of numeric_only in DataFrame.corr is deprecated. In a future version, it will default to False. Select only valid columns or specify the value of numeric_only to silence this warning.\n",
      "  sns.heatmap(df_CA_Diabetes.corr(), square=True, annot=True )\n"
     ]
    },
    {
     "data": {
      "text/plain": [
       "<Axes: >"
      ]
     },
     "execution_count": 10,
     "metadata": {},
     "output_type": "execute_result"
    },
    {
     "data": {
      "image/png": "[encoded data removed]",
      "text/plain": [
       "<Figure size 400x400 with 2 Axes>"
      ]
     },
     "metadata": {},
     "output_type": "display_data"
    }
   ],
   "source": [
    "# View the summary by heatmap\n",
    "\n",
    "sns.set_style('white')\n",
    "plt.figure(figsize=(4,4))\n",
    "x = df_CA_Diabetes.iloc[:, :0].values\n",
    "y = df_CA_Diabetes.iloc[:, 1:7].values\n",
    "sns.heatmap(df_CA_Diabetes.corr(), square=True, annot=True )"
   ]
  },
  {
   "attachments": {},
   "cell_type": "markdown",
   "metadata": {},
   "source": []
  },
  {
   "attachments": {},
   "cell_type": "markdown",
   "metadata": {},
   "source": [
    "Create linear regression modles to predict the values/or death rate. "
   ]
  }
 ],
 "metadata": {
  "kernelspec": {
   "display_name": "Python 3",
   "language": "python",
   "name": "python3"
  },
  "language_info": {
   "codemirror_mode": {
    "name": "ipython",
    "version": 3
   },
   "file_extension": ".py",
   "mimetype": "text/x-python",
   "name": "python",
   "nbconvert_exporter": "python",
   "pygments_lexer": "ipython3",
   "version": "3.11.2"
  },
  "orig_nbformat": 4
 },
 "nbformat": 4,
 "nbformat_minor": 2
}
