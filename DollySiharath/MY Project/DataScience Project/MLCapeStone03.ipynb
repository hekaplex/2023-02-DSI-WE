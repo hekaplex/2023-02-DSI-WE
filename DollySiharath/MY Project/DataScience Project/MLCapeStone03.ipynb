{
 "cells": [
  {
   "attachments": {},
   "cell_type": "markdown",
   "metadata": {},
   "source": [
    "#### Data Science Project - Machine Leaning.\n",
    "\n",
    "Capstone: \n",
    "Y = (Predicted) Diabetes \n",
    "X = (Multiple Factors) \n",
    "\n",
    "\n",
    "ML Algorithms = Will be focusing on supervised (multiple linear regression) numeric values.\n",
    "\n",
    "####### Data provided by https://data.cdc.gov/\n",
    "Dataset Files:  Diabetes.cvs\n",
    "Data Measure: 500 Cities: Diagnosed diabetes among adults aged >=18 years\n",
    "\n",
    "\n",
    "\n",
    "\n",
    "\n",
    "\n"
   ]
  },
  {
   "cell_type": "code",
   "execution_count": 14,
   "metadata": {},
   "outputs": [
    {
     "name": "stderr",
     "output_type": "stream",
     "text": [
      "UsageError: Line magic function `%metplotlib` not found.\n"
     ]
    }
   ],
   "source": [
    "\n",
    "# importing the libraies\n",
    "import numpy as np\n",
    "import matplotlib.pyplot as plt\n",
    "import pandas as pd\n",
    "import seaborn as sns\n",
    "import math \n",
    "%metplotlib inline #\n"
   ]
  },
  {
   "cell_type": "code",
   "execution_count": 29,
   "metadata": {},
   "outputs": [],
   "source": [
    "# Reading, loading  datasets. \n",
    "\n",
    "df_CA_Diabetes = pd.read_csv(\"CA_Diabetes_PopulationByCityCounty.csv\")\n",
    "df_CA_Diabetes.drop(df_CA_Diabetes.filter(regex=\"Unnamed\"), axis=1, inplace=True)"
   ]
  },
  {
   "cell_type": "code",
   "execution_count": 30,
   "metadata": {},
   "outputs": [
    {
     "data": {
      "text/html": [
       "<div>\n",
       "<style scoped>\n",
       "    .dataframe tbody tr th:only-of-type {\n",
       "        vertical-align: middle;\n",
       "    }\n",
       "\n",
       "    .dataframe tbody tr th {\n",
       "        vertical-align: top;\n",
       "    }\n",
       "\n",
       "    .dataframe thead th {\n",
       "        text-align: right;\n",
       "    }\n",
       "</style>\n",
       "<table border=\"1\" class=\"dataframe\">\n",
       "  <thead>\n",
       "    <tr style=\"text-align: right;\">\n",
       "      <th></th>\n",
       "      <th>City_Name</th>\n",
       "      <th>Daig12Month</th>\n",
       "      <th>Diag9Moths</th>\n",
       "      <th>Daig6Month</th>\n",
       "      <th>Daig3Month</th>\n",
       "      <th>EstPopByCountyCity</th>\n",
       "      <th>DaigYrlyRate</th>\n",
       "      <th>CrudeRate100K</th>\n",
       "    </tr>\n",
       "  </thead>\n",
       "  <tbody>\n",
       "    <tr>\n",
       "      <th>0</th>\n",
       "      <td>CA Redondo Beach</td>\n",
       "      <td>44499</td>\n",
       "      <td>33374.25</td>\n",
       "      <td>22249.5</td>\n",
       "      <td>11124.75</td>\n",
       "      <td>69781</td>\n",
       "      <td>0.64</td>\n",
       "      <td>2.2</td>\n",
       "    </tr>\n",
       "    <tr>\n",
       "      <th>1</th>\n",
       "      <td>CA Milpitas</td>\n",
       "      <td>44504</td>\n",
       "      <td>33378.00</td>\n",
       "      <td>22252.0</td>\n",
       "      <td>11126.00</td>\n",
       "      <td>79066</td>\n",
       "      <td>0.56</td>\n",
       "      <td>2.2</td>\n",
       "    </tr>\n",
       "    <tr>\n",
       "      <th>2</th>\n",
       "      <td>CA Manteca</td>\n",
       "      <td>44731</td>\n",
       "      <td>33548.25</td>\n",
       "      <td>22365.5</td>\n",
       "      <td>11182.75</td>\n",
       "      <td>85792</td>\n",
       "      <td>0.52</td>\n",
       "      <td>2.2</td>\n",
       "    </tr>\n",
       "    <tr>\n",
       "      <th>3</th>\n",
       "      <td>CA Perris</td>\n",
       "      <td>45575</td>\n",
       "      <td>34181.25</td>\n",
       "      <td>22787.5</td>\n",
       "      <td>11393.75</td>\n",
       "      <td>79835</td>\n",
       "      <td>0.57</td>\n",
       "      <td>2.3</td>\n",
       "    </tr>\n",
       "    <tr>\n",
       "      <th>4</th>\n",
       "      <td>CA Turlock</td>\n",
       "      <td>45699</td>\n",
       "      <td>34274.25</td>\n",
       "      <td>22849.5</td>\n",
       "      <td>11424.75</td>\n",
       "      <td>72682</td>\n",
       "      <td>0.63</td>\n",
       "      <td>2.3</td>\n",
       "    </tr>\n",
       "    <tr>\n",
       "      <th>...</th>\n",
       "      <td>...</td>\n",
       "      <td>...</td>\n",
       "      <td>...</td>\n",
       "      <td>...</td>\n",
       "      <td>...</td>\n",
       "      <td>...</td>\n",
       "      <td>...</td>\n",
       "      <td>...</td>\n",
       "    </tr>\n",
       "    <tr>\n",
       "      <th>116</th>\n",
       "      <td>CA Fresno</td>\n",
       "      <td>328467</td>\n",
       "      <td>246350.25</td>\n",
       "      <td>164233.5</td>\n",
       "      <td>82116.75</td>\n",
       "      <td>542107</td>\n",
       "      <td>0.61</td>\n",
       "      <td>16.4</td>\n",
       "    </tr>\n",
       "    <tr>\n",
       "      <th>117</th>\n",
       "      <td>CA San Francisco</td>\n",
       "      <td>530655</td>\n",
       "      <td>397991.25</td>\n",
       "      <td>265327.5</td>\n",
       "      <td>132663.75</td>\n",
       "      <td>3313000</td>\n",
       "      <td>0.16</td>\n",
       "      <td>26.5</td>\n",
       "    </tr>\n",
       "    <tr>\n",
       "      <th>118</th>\n",
       "      <td>CA San Jose</td>\n",
       "      <td>621842</td>\n",
       "      <td>466381.50</td>\n",
       "      <td>310921.0</td>\n",
       "      <td>155460.50</td>\n",
       "      <td>983489</td>\n",
       "      <td>0.63</td>\n",
       "      <td>31.1</td>\n",
       "    </tr>\n",
       "    <tr>\n",
       "      <th>119</th>\n",
       "      <td>CA San Diego</td>\n",
       "      <td>859037</td>\n",
       "      <td>644277.75</td>\n",
       "      <td>429518.5</td>\n",
       "      <td>214759.25</td>\n",
       "      <td>1381611</td>\n",
       "      <td>0.62</td>\n",
       "      <td>43.0</td>\n",
       "    </tr>\n",
       "    <tr>\n",
       "      <th>120</th>\n",
       "      <td>CA Los Angeles</td>\n",
       "      <td>2397632</td>\n",
       "      <td>1798224.00</td>\n",
       "      <td>1198816.0</td>\n",
       "      <td>599408.00</td>\n",
       "      <td>3849297</td>\n",
       "      <td>0.62</td>\n",
       "      <td>119.9</td>\n",
       "    </tr>\n",
       "  </tbody>\n",
       "</table>\n",
       "<p>121 rows × 8 columns</p>\n",
       "</div>"
      ],
      "text/plain": [
       "            City_Name  Daig12Month  Diag9Moths  Daig6Month  Daig3Month  \\\n",
       "0    CA Redondo Beach        44499    33374.25     22249.5    11124.75   \n",
       "1         CA Milpitas        44504    33378.00     22252.0    11126.00   \n",
       "2          CA Manteca        44731    33548.25     22365.5    11182.75   \n",
       "3           CA Perris        45575    34181.25     22787.5    11393.75   \n",
       "4          CA Turlock        45699    34274.25     22849.5    11424.75   \n",
       "..                ...          ...         ...         ...         ...   \n",
       "116         CA Fresno       328467   246350.25    164233.5    82116.75   \n",
       "117  CA San Francisco       530655   397991.25    265327.5   132663.75   \n",
       "118       CA San Jose       621842   466381.50    310921.0   155460.50   \n",
       "119      CA San Diego       859037   644277.75    429518.5   214759.25   \n",
       "120    CA Los Angeles      2397632  1798224.00   1198816.0   599408.00   \n",
       "\n",
       "     EstPopByCountyCity  DaigYrlyRate  CrudeRate100K  \n",
       "0                 69781          0.64            2.2  \n",
       "1                 79066          0.56            2.2  \n",
       "2                 85792          0.52            2.2  \n",
       "3                 79835          0.57            2.3  \n",
       "4                 72682          0.63            2.3  \n",
       "..                  ...           ...            ...  \n",
       "116              542107          0.61           16.4  \n",
       "117             3313000          0.16           26.5  \n",
       "118              983489          0.63           31.1  \n",
       "119             1381611          0.62           43.0  \n",
       "120             3849297          0.62          119.9  \n",
       "\n",
       "[121 rows x 8 columns]"
      ]
     },
     "execution_count": 30,
     "metadata": {},
     "output_type": "execute_result"
    }
   ],
   "source": [
    "df_CA_Diabetes"
   ]
  },
  {
   "cell_type": "code",
   "execution_count": 31,
   "metadata": {},
   "outputs": [
    {
     "data": {
      "text/plain": [
       "City_Name             121\n",
       "Daig12Month           121\n",
       "Diag9Moths            121\n",
       "Daig6Month            121\n",
       "Daig3Month            121\n",
       "EstPopByCountyCity    121\n",
       "DaigYrlyRate          121\n",
       "CrudeRate100K         121\n",
       "dtype: int64"
      ]
     },
     "execution_count": 31,
     "metadata": {},
     "output_type": "execute_result"
    }
   ],
   "source": [
    "df_CA_Diabetes.count()"
   ]
  },
  {
   "cell_type": "code",
   "execution_count": 48,
   "metadata": {},
   "outputs": [
    {
     "data": {
      "text/plain": [
       "(121, 8)"
      ]
     },
     "execution_count": 48,
     "metadata": {},
     "output_type": "execute_result"
    }
   ],
   "source": [
    "df_CA_Diabetes.shape"
   ]
  },
  {
   "cell_type": "code",
   "execution_count": 32,
   "metadata": {},
   "outputs": [
    {
     "name": "stdout",
     "output_type": "stream",
     "text": [
      "<class 'pandas.core.frame.DataFrame'>\n",
      "RangeIndex: 121 entries, 0 to 120\n",
      "Data columns (total 8 columns):\n",
      " #   Column              Non-Null Count  Dtype  \n",
      "---  ------              --------------  -----  \n",
      " 0   City_Name           121 non-null    object \n",
      " 1   Daig12Month         121 non-null    int64  \n",
      " 2   Diag9Moths          121 non-null    float64\n",
      " 3   Daig6Month          121 non-null    float64\n",
      " 4   Daig3Month          121 non-null    float64\n",
      " 5   EstPopByCountyCity  121 non-null    int64  \n",
      " 6   DaigYrlyRate        121 non-null    float64\n",
      " 7   CrudeRate100K       121 non-null    float64\n",
      "dtypes: float64(5), int64(2), object(1)\n",
      "memory usage: 7.7+ KB\n"
     ]
    }
   ],
   "source": [
    "df_CA_Diabetes.info()"
   ]
  },
  {
   "attachments": {},
   "cell_type": "markdown",
   "metadata": {},
   "source": [
    "Run statistic on the dataset"
   ]
  },
  {
   "cell_type": "code",
   "execution_count": 33,
   "metadata": {},
   "outputs": [],
   "source": [
    "#df_CA_Diabetes_Filter = df_CA_Diabetes.drop(columns=[\"AvgDaigPerYrRate\", \"CrudeRate100K\",])\n",
    "#f_CA_Diabetes_Filter"
   ]
  },
  {
   "cell_type": "code",
   "execution_count": 36,
   "metadata": {},
   "outputs": [
    {
     "data": {
      "text/html": [
       "<div>\n",
       "<style scoped>\n",
       "    .dataframe tbody tr th:only-of-type {\n",
       "        vertical-align: middle;\n",
       "    }\n",
       "\n",
       "    .dataframe tbody tr th {\n",
       "        vertical-align: top;\n",
       "    }\n",
       "\n",
       "    .dataframe thead th {\n",
       "        text-align: right;\n",
       "    }\n",
       "</style>\n",
       "<table border=\"1\" class=\"dataframe\">\n",
       "  <thead>\n",
       "    <tr style=\"text-align: right;\">\n",
       "      <th></th>\n",
       "      <th>count</th>\n",
       "      <th>mean</th>\n",
       "      <th>std</th>\n",
       "      <th>min</th>\n",
       "      <th>25%</th>\n",
       "      <th>50%</th>\n",
       "      <th>75%</th>\n",
       "      <th>max</th>\n",
       "    </tr>\n",
       "  </thead>\n",
       "  <tbody>\n",
       "    <tr>\n",
       "      <th>Daig12Month</th>\n",
       "      <td>121.0</td>\n",
       "      <td>121760.107438</td>\n",
       "      <td>235140.903605</td>\n",
       "      <td>44499.00</td>\n",
       "      <td>55271.00</td>\n",
       "      <td>69095.00</td>\n",
       "      <td>102010.00</td>\n",
       "      <td>2397632.00</td>\n",
       "    </tr>\n",
       "    <tr>\n",
       "      <th>Diag9Moths</th>\n",
       "      <td>121.0</td>\n",
       "      <td>91320.080579</td>\n",
       "      <td>176355.677704</td>\n",
       "      <td>33374.25</td>\n",
       "      <td>41453.25</td>\n",
       "      <td>51821.25</td>\n",
       "      <td>76507.50</td>\n",
       "      <td>1798224.00</td>\n",
       "    </tr>\n",
       "    <tr>\n",
       "      <th>Daig6Month</th>\n",
       "      <td>121.0</td>\n",
       "      <td>60880.053719</td>\n",
       "      <td>117570.451803</td>\n",
       "      <td>22249.50</td>\n",
       "      <td>27635.50</td>\n",
       "      <td>34547.50</td>\n",
       "      <td>51005.00</td>\n",
       "      <td>1198816.00</td>\n",
       "    </tr>\n",
       "    <tr>\n",
       "      <th>Daig3Month</th>\n",
       "      <td>121.0</td>\n",
       "      <td>30440.026860</td>\n",
       "      <td>58785.225901</td>\n",
       "      <td>11124.75</td>\n",
       "      <td>13817.75</td>\n",
       "      <td>17273.75</td>\n",
       "      <td>25502.50</td>\n",
       "      <td>599408.00</td>\n",
       "    </tr>\n",
       "    <tr>\n",
       "      <th>EstPopByCountyCity</th>\n",
       "      <td>121.0</td>\n",
       "      <td>230746.611570</td>\n",
       "      <td>501878.928394</td>\n",
       "      <td>65505.00</td>\n",
       "      <td>88255.00</td>\n",
       "      <td>109925.00</td>\n",
       "      <td>170488.00</td>\n",
       "      <td>3849297.00</td>\n",
       "    </tr>\n",
       "    <tr>\n",
       "      <th>DaigYrlyRate</th>\n",
       "      <td>121.0</td>\n",
       "      <td>0.615785</td>\n",
       "      <td>0.078579</td>\n",
       "      <td>0.14</td>\n",
       "      <td>0.60</td>\n",
       "      <td>0.63</td>\n",
       "      <td>0.66</td>\n",
       "      <td>0.73</td>\n",
       "    </tr>\n",
       "    <tr>\n",
       "      <th>CrudeRate100K</th>\n",
       "      <td>121.0</td>\n",
       "      <td>6.087603</td>\n",
       "      <td>11.759695</td>\n",
       "      <td>2.20</td>\n",
       "      <td>2.80</td>\n",
       "      <td>3.50</td>\n",
       "      <td>5.10</td>\n",
       "      <td>119.90</td>\n",
       "    </tr>\n",
       "  </tbody>\n",
       "</table>\n",
       "</div>"
      ],
      "text/plain": [
       "                    count           mean            std       min       25%  \\\n",
       "Daig12Month         121.0  121760.107438  235140.903605  44499.00  55271.00   \n",
       "Diag9Moths          121.0   91320.080579  176355.677704  33374.25  41453.25   \n",
       "Daig6Month          121.0   60880.053719  117570.451803  22249.50  27635.50   \n",
       "Daig3Month          121.0   30440.026860   58785.225901  11124.75  13817.75   \n",
       "EstPopByCountyCity  121.0  230746.611570  501878.928394  65505.00  88255.00   \n",
       "DaigYrlyRate        121.0       0.615785       0.078579      0.14      0.60   \n",
       "CrudeRate100K       121.0       6.087603      11.759695      2.20      2.80   \n",
       "\n",
       "                          50%        75%         max  \n",
       "Daig12Month          69095.00  102010.00  2397632.00  \n",
       "Diag9Moths           51821.25   76507.50  1798224.00  \n",
       "Daig6Month           34547.50   51005.00  1198816.00  \n",
       "Daig3Month           17273.75   25502.50   599408.00  \n",
       "EstPopByCountyCity  109925.00  170488.00  3849297.00  \n",
       "DaigYrlyRate             0.63       0.66        0.73  \n",
       "CrudeRate100K            3.50       5.10      119.90  "
      ]
     },
     "execution_count": 36,
     "metadata": {},
     "output_type": "execute_result"
    }
   ],
   "source": [
    "df_CA_Diabetes.describe().T"
   ]
  },
  {
   "cell_type": "code",
   "execution_count": null,
   "metadata": {},
   "outputs": [],
   "source": [
    "# View the summary by heatmap\n",
    "\n",
    "sns.set_style('white')\n",
    "plt.figure(figsize=(4,4))\n",
    "x = df_CA_Diabetes.iloc[:, :0].values\n",
    "y = df_CA_Diabetes.iloc[:, 1:7].values\n",
    "sns.heatmap(df_CA_Diabetes.corr(), square=True, annot=True )"
   ]
  },
  {
   "cell_type": "code",
   "execution_count": 88,
   "metadata": {},
   "outputs": [
    {
     "name": "stderr",
     "output_type": "stream",
     "text": [
      "C:\\Users\\dolly\\AppData\\Local\\Temp\\ipykernel_24520\\2678215914.py:1: FutureWarning: The default value of numeric_only in DataFrame.corr is deprecated. In a future version, it will default to False. Select only valid columns or specify the value of numeric_only to silence this warning.\n",
      "  sns.heatmap(data=df_CA_Diabetes.corr()[['EstPopByCountyCity']].sort_values('EstPopByCountyCity', ascending=False),\n"
     ]
    },
    {
     "data": {
      "text/plain": [
       "<Axes: >"
      ]
     },
     "execution_count": 88,
     "metadata": {},
     "output_type": "execute_result"
    },
    {
     "data": {
      "image/png": "[encoded data removed]",
      "text/plain": [
       "<Figure size 640x480 with 1 Axes>"
      ]
     },
     "metadata": {},
     "output_type": "display_data"
    }
   ],
   "source": [
    "sns.heatmap(data=df_CA_Diabetes.corr()[['EstPopByCountyCity']].sort_values('EstPopByCountyCity', ascending=False), \n",
    "            annot=True, cmap='Blues', vmin=-1.0, vmax=1.0, cbar=False, fmt='.2f')"
   ]
  },
  {
   "cell_type": "code",
   "execution_count": 42,
   "metadata": {},
   "outputs": [
    {
     "data": {
      "text/plain": [
       "Index(['City_Name', 'Daig12Month', 'Diag9Moths', 'Daig6Month', 'Daig3Month',\n",
       "       'EstPopByCountyCity', 'DaigYrlyRate', 'CrudeRate100K'],\n",
       "      dtype='object')"
      ]
     },
     "execution_count": 42,
     "metadata": {},
     "output_type": "execute_result"
    }
   ],
   "source": [
    "df_CA_Diabetes.columns"
   ]
  },
  {
   "cell_type": "code",
   "execution_count": 47,
   "metadata": {},
   "outputs": [
    {
     "data": {
      "image/png": "[encoded data removed]",
      "text/plain": [
       "<Figure size 640x480 with 1 Axes>"
      ]
     },
     "metadata": {},
     "output_type": "display_data"
    },
    {
     "data": {
      "image/png": "[encoded data removed]",
      "text/plain": [
       "<Figure size 640x480 with 1 Axes>"
      ]
     },
     "metadata": {},
     "output_type": "display_data"
    },
    {
     "data": {
      "image/png": "[encoded data removed]",
      "text/plain": [
       "<Figure size 640x480 with 1 Axes>"
      ]
     },
     "metadata": {},
     "output_type": "display_data"
    },
    {
     "data": {
      "image/png": "[encoded data removed]",
      "text/plain": [
       "<Figure size 640x480 with 1 Axes>"
      ]
     },
     "metadata": {},
     "output_type": "display_data"
    },
    {
     "data": {
      "image/png": "[encoded data removed]",
      "text/plain": [
       "<Figure size 640x480 with 1 Axes>"
      ]
     },
     "metadata": {},
     "output_type": "display_data"
    },
    {
     "data": {
      "image/png": "[encoded data removed]",
      "text/plain": [
       "<Figure size 640x480 with 1 Axes>"
      ]
     },
     "metadata": {},
     "output_type": "display_data"
    }
   ],
   "source": [
    "for c in (df_CA_Diabetes.columns[1:7]):\n",
    "    plt.title(\"Plot of \"+c,fontsize=10)\n",
    "    plt.hist(df_CA_Diabetes[c],bins=10)\n",
    "    plt.show()"
   ]
  },
  {
   "cell_type": "code",
   "execution_count": 69,
   "metadata": {},
   "outputs": [
    {
     "name": "stdout",
     "output_type": "stream",
     "text": [
      "<class 'pandas.core.frame.DataFrame'>\n",
      "RangeIndex: 121 entries, 0 to 120\n",
      "Data columns (total 8 columns):\n",
      " #   Column              Non-Null Count  Dtype  \n",
      "---  ------              --------------  -----  \n",
      " 0   City_Name           121 non-null    object \n",
      " 1   Daig12Month         121 non-null    int64  \n",
      " 2   Diag9Moths          121 non-null    float64\n",
      " 3   Daig6Month          121 non-null    float64\n",
      " 4   Daig3Month          121 non-null    float64\n",
      " 5   EstPopByCountyCity  121 non-null    int64  \n",
      " 6   DaigYrlyRate        121 non-null    float64\n",
      " 7   CrudeRate100K       121 non-null    float64\n",
      "dtypes: float64(5), int64(2), object(1)\n",
      "memory usage: 7.7+ KB\n"
     ]
    }
   ],
   "source": [
    "df_CA_Diabetes.info()"
   ]
  },
  {
   "cell_type": "code",
   "execution_count": 66,
   "metadata": {},
   "outputs": [
    {
     "data": {
      "text/html": [
       "<div>\n",
       "<style scoped>\n",
       "    .dataframe tbody tr th:only-of-type {\n",
       "        vertical-align: middle;\n",
       "    }\n",
       "\n",
       "    .dataframe tbody tr th {\n",
       "        vertical-align: top;\n",
       "    }\n",
       "\n",
       "    .dataframe thead th {\n",
       "        text-align: right;\n",
       "    }\n",
       "</style>\n",
       "<table border=\"1\" class=\"dataframe\">\n",
       "  <thead>\n",
       "    <tr style=\"text-align: right;\">\n",
       "      <th></th>\n",
       "      <th>City_Name</th>\n",
       "      <th>Daig12Month</th>\n",
       "      <th>Diag9Moths</th>\n",
       "      <th>Daig6Month</th>\n",
       "      <th>Daig3Month</th>\n",
       "      <th>EstPopByCountyCity</th>\n",
       "      <th>DaigYrlyRate</th>\n",
       "      <th>CrudeRate100K</th>\n",
       "    </tr>\n",
       "  </thead>\n",
       "  <tbody>\n",
       "    <tr>\n",
       "      <th>8</th>\n",
       "      <td>CA Lynwood</td>\n",
       "      <td>46515</td>\n",
       "      <td>34886.25</td>\n",
       "      <td>23257.5</td>\n",
       "      <td>11628.75</td>\n",
       "      <td>65505</td>\n",
       "      <td>0.71</td>\n",
       "      <td>2.3</td>\n",
       "    </tr>\n",
       "    <tr>\n",
       "      <th>0</th>\n",
       "      <td>CA Redondo Beach</td>\n",
       "      <td>44499</td>\n",
       "      <td>33374.25</td>\n",
       "      <td>22249.5</td>\n",
       "      <td>11124.75</td>\n",
       "      <td>69781</td>\n",
       "      <td>0.64</td>\n",
       "      <td>2.2</td>\n",
       "    </tr>\n",
       "    <tr>\n",
       "      <th>7</th>\n",
       "      <td>CA Union City</td>\n",
       "      <td>46344</td>\n",
       "      <td>34758.00</td>\n",
       "      <td>23172.0</td>\n",
       "      <td>11586.00</td>\n",
       "      <td>70460</td>\n",
       "      <td>0.66</td>\n",
       "      <td>2.3</td>\n",
       "    </tr>\n",
       "    <tr>\n",
       "      <th>16</th>\n",
       "      <td>CA Baldwin Park</td>\n",
       "      <td>50260</td>\n",
       "      <td>37695.00</td>\n",
       "      <td>25130.0</td>\n",
       "      <td>12565.00</td>\n",
       "      <td>70629</td>\n",
       "      <td>0.71</td>\n",
       "      <td>2.5</td>\n",
       "    </tr>\n",
       "    <tr>\n",
       "      <th>4</th>\n",
       "      <td>CA Turlock</td>\n",
       "      <td>45699</td>\n",
       "      <td>34274.25</td>\n",
       "      <td>22849.5</td>\n",
       "      <td>11424.75</td>\n",
       "      <td>72682</td>\n",
       "      <td>0.63</td>\n",
       "      <td>2.3</td>\n",
       "    </tr>\n",
       "    <tr>\n",
       "      <th>...</th>\n",
       "      <td>...</td>\n",
       "      <td>...</td>\n",
       "      <td>...</td>\n",
       "      <td>...</td>\n",
       "      <td>...</td>\n",
       "      <td>...</td>\n",
       "      <td>...</td>\n",
       "      <td>...</td>\n",
       "    </tr>\n",
       "    <tr>\n",
       "      <th>118</th>\n",
       "      <td>CA San Jose</td>\n",
       "      <td>621842</td>\n",
       "      <td>466381.50</td>\n",
       "      <td>310921.0</td>\n",
       "      <td>155460.50</td>\n",
       "      <td>983489</td>\n",
       "      <td>0.63</td>\n",
       "      <td>31.1</td>\n",
       "    </tr>\n",
       "    <tr>\n",
       "      <th>119</th>\n",
       "      <td>CA San Diego</td>\n",
       "      <td>859037</td>\n",
       "      <td>644277.75</td>\n",
       "      <td>429518.5</td>\n",
       "      <td>214759.25</td>\n",
       "      <td>1381611</td>\n",
       "      <td>0.62</td>\n",
       "      <td>43.0</td>\n",
       "    </tr>\n",
       "    <tr>\n",
       "      <th>115</th>\n",
       "      <td>CA Sacramento</td>\n",
       "      <td>309260</td>\n",
       "      <td>231945.00</td>\n",
       "      <td>154630.0</td>\n",
       "      <td>77315.00</td>\n",
       "      <td>2215000</td>\n",
       "      <td>0.14</td>\n",
       "      <td>15.5</td>\n",
       "    </tr>\n",
       "    <tr>\n",
       "      <th>117</th>\n",
       "      <td>CA San Francisco</td>\n",
       "      <td>530655</td>\n",
       "      <td>397991.25</td>\n",
       "      <td>265327.5</td>\n",
       "      <td>132663.75</td>\n",
       "      <td>3313000</td>\n",
       "      <td>0.16</td>\n",
       "      <td>26.5</td>\n",
       "    </tr>\n",
       "    <tr>\n",
       "      <th>120</th>\n",
       "      <td>CA Los Angeles</td>\n",
       "      <td>2397632</td>\n",
       "      <td>1798224.00</td>\n",
       "      <td>1198816.0</td>\n",
       "      <td>599408.00</td>\n",
       "      <td>3849297</td>\n",
       "      <td>0.62</td>\n",
       "      <td>119.9</td>\n",
       "    </tr>\n",
       "  </tbody>\n",
       "</table>\n",
       "<p>121 rows × 8 columns</p>\n",
       "</div>"
      ],
      "text/plain": [
       "            City_Name  Daig12Month  Diag9Moths  Daig6Month  Daig3Month  \\\n",
       "8          CA Lynwood        46515    34886.25     23257.5    11628.75   \n",
       "0    CA Redondo Beach        44499    33374.25     22249.5    11124.75   \n",
       "7       CA Union City        46344    34758.00     23172.0    11586.00   \n",
       "16    CA Baldwin Park        50260    37695.00     25130.0    12565.00   \n",
       "4          CA Turlock        45699    34274.25     22849.5    11424.75   \n",
       "..                ...          ...         ...         ...         ...   \n",
       "118       CA San Jose       621842   466381.50    310921.0   155460.50   \n",
       "119      CA San Diego       859037   644277.75    429518.5   214759.25   \n",
       "115     CA Sacramento       309260   231945.00    154630.0    77315.00   \n",
       "117  CA San Francisco       530655   397991.25    265327.5   132663.75   \n",
       "120    CA Los Angeles      2397632  1798224.00   1198816.0   599408.00   \n",
       "\n",
       "     EstPopByCountyCity  DaigYrlyRate  CrudeRate100K  \n",
       "8                 65505          0.71            2.3  \n",
       "0                 69781          0.64            2.2  \n",
       "7                 70460          0.66            2.3  \n",
       "16                70629          0.71            2.5  \n",
       "4                 72682          0.63            2.3  \n",
       "..                  ...           ...            ...  \n",
       "118              983489          0.63           31.1  \n",
       "119             1381611          0.62           43.0  \n",
       "115             2215000          0.14           15.5  \n",
       "117             3313000          0.16           26.5  \n",
       "120             3849297          0.62          119.9  \n",
       "\n",
       "[121 rows x 8 columns]"
      ]
     },
     "execution_count": 66,
     "metadata": {},
     "output_type": "execute_result"
    }
   ],
   "source": [
    "\n",
    "df_CA_Diabetes.sort_values([\"EstPopByCountyCity\"])\n",
    "#df_CA_Diabetes.sort_values([\"City_Name\",\"EstPopByCountyCity\"], ascending=[1,0])\n",
    "#df_CA_Diabetes"
   ]
  },
  {
   "cell_type": "code",
   "execution_count": 86,
   "metadata": {},
   "outputs": [
    {
     "data": {
      "image/png": "[encoded data removed]",
      "text/plain": [
       "<Figure size 640x480 with 1 Axes>"
      ]
     },
     "metadata": {},
     "output_type": "display_data"
    }
   ],
   "source": [
    "# When comparing values the data type must be the same.\n",
    "#Xample:                            \n",
    "#ax = sns.boxplot(data=housing.query('sqft_living < 8000 and price < 1000000 and price > 0'), x = 'floors',y = 'price')\n",
    "\n",
    "#ax = sns.boxplot(data=df_CA_Diabetes.query('Daig3Month >= 11628.75  and  EstPopByCountyCity >= 69781'), x = 'EstPopByCountyCity', y = 'Daig3Month' )\n",
    "ax = sns.boxplot(data=df_CA_Diabetes.query('Daig12Month >= 46515  and Diag9Moths >= 34886.25 '))\n"
   ]
  },
  {
   "attachments": {},
   "cell_type": "markdown",
   "metadata": {},
   "source": []
  },
  {
   "attachments": {},
   "cell_type": "markdown",
   "metadata": {},
   "source": [
    "Create linear regression modles to predict the values/or death rate. "
   ]
  }
 ],
 "metadata": {
  "kernelspec": {
   "display_name": "Python 3",
   "language": "python",
   "name": "python3"
  },
  "language_info": {
   "codemirror_mode": {
    "name": "ipython",
    "version": 3
   },
   "file_extension": ".py",
   "mimetype": "text/x-python",
   "name": "python",
   "nbconvert_exporter": "python",
   "pygments_lexer": "ipython3",
   "version": "3.11.2"
  },
  "orig_nbformat": 4
 },
 "nbformat": 4,
 "nbformat_minor": 2
}
