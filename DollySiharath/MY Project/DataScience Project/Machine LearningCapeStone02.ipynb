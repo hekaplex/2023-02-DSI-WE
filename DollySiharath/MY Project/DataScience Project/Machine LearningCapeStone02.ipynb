{
 "cells": [
  {
   "attachments": {},
   "cell_type": "markdown",
   "metadata": {},
   "source": [
    "#### Data Science Project - Machine Leaning.\n",
    "\n",
    "Capstone: \n",
    "Y = (Predicted) Stroke. \n",
    "X = (Multiple Factors) Diabetes, Heart Dissease, High Blood Pressure, High Cholesterol, and Obesity \n",
    "\n",
    "ML Algorithms = Will be focusing on supervised (multiple linear regression) numeric values.\n",
    "\n",
    "####### Data provided by https://data.cdc.gov/\n",
    "Dataset Files:  Diabetes.cvs\n",
    "Data Measure: 500 Cities: Diagnosed diabetes among adults aged >=18 years\n",
    "\n",
    "First feature:  Number of diabetes population.\n",
    "\n",
    "\n",
    "\n",
    "\n",
    "\n"
   ]
  },
  {
   "cell_type": "code",
   "execution_count": 40,
   "metadata": {},
   "outputs": [],
   "source": [
    "\n",
    "# importing the libraies\n",
    "import numpy as np\n",
    "import matplotlib.pyplot as plt\n",
    " \n",
    "import pandas as pd\n",
    "import seaborn as sns\n",
    "import math \n",
    "#%metplotlib inline #\n"
   ]
  },
  {
   "cell_type": "code",
   "execution_count": 41,
   "metadata": {},
   "outputs": [],
   "source": [
    "# Reading, loading  datasets. \n",
    "# NEW/updated - top 5 states with highest \n",
    "# diabetes rates.\n",
    "df_CA_Dbt = pd.read_csv(\"CA_Diabetes.csv\")\n",
    "df_TX_Dbt = pd.read_csv(\"TX_Diabetes.csv\")\n",
    "df_FL_Dbt = pd.read_csv(\"FL_Diabetes.csv\")\n",
    "df_IL_Dbt = pd.read_csv(\"IL_Diabetes.csv\")\n",
    "df_NY_Dbt = pd.read_csv(\"NY_Diabetes.csv\")\n",
    "\n",
    "df_CA_Dbt.drop(df_CA_Dbt.filter(regex=\"Unnamed\"), axis=1, inplace=True)\n",
    "df_TX_Dbt.drop(df_TX_Dbt.filter(regex=\"Unnamed\"), axis=1, inplace=True)\n",
    "df_FL_Dbt.drop(df_FL_Dbt.filter(regex=\"Unnamed\"), axis=1, inplace=True)\n",
    "df_IL_Dbt.drop(df_IL_Dbt.filter(regex=\"Unnamed\"), axis=1, inplace=True)\n",
    "df_NY_Dbt.drop(df_NY_Dbt.filter(regex=\"Unnamed\"), axis=1, inplace=True)"
   ]
  },
  {
   "cell_type": "code",
   "execution_count": 45,
   "metadata": {},
   "outputs": [
    {
     "data": {
      "text/html": [
       "<div>\n",
       "<style scoped>\n",
       "    .dataframe tbody tr th:only-of-type {\n",
       "        vertical-align: middle;\n",
       "    }\n",
       "\n",
       "    .dataframe tbody tr th {\n",
       "        vertical-align: top;\n",
       "    }\n",
       "\n",
       "    .dataframe thead th {\n",
       "        text-align: right;\n",
       "    }\n",
       "</style>\n",
       "<table border=\"1\" class=\"dataframe\">\n",
       "  <thead>\n",
       "    <tr style=\"text-align: right;\">\n",
       "      <th></th>\n",
       "      <th>NY_City</th>\n",
       "      <th>NY_PopByMM</th>\n",
       "      <th>NY_DeathPer100k</th>\n",
       "    </tr>\n",
       "  </thead>\n",
       "  <tbody>\n",
       "    <tr>\n",
       "      <th>0</th>\n",
       "      <td>NY New York</td>\n",
       "      <td>8175133</td>\n",
       "      <td>10.9</td>\n",
       "    </tr>\n",
       "    <tr>\n",
       "      <th>1</th>\n",
       "      <td>NY Rochester</td>\n",
       "      <td>2580</td>\n",
       "      <td>13.6</td>\n",
       "    </tr>\n",
       "    <tr>\n",
       "      <th>2</th>\n",
       "      <td>NY Rochester</td>\n",
       "      <td>4430</td>\n",
       "      <td>12.3</td>\n",
       "    </tr>\n",
       "    <tr>\n",
       "      <th>3</th>\n",
       "      <td>NY Yonkers</td>\n",
       "      <td>195976</td>\n",
       "      <td>10.5</td>\n",
       "    </tr>\n",
       "    <tr>\n",
       "      <th>4</th>\n",
       "      <td>NY Mount Vernon</td>\n",
       "      <td>4502</td>\n",
       "      <td>12.6</td>\n",
       "    </tr>\n",
       "    <tr>\n",
       "      <th>...</th>\n",
       "      <td>...</td>\n",
       "      <td>...</td>\n",
       "      <td>...</td>\n",
       "    </tr>\n",
       "    <tr>\n",
       "      <th>2475</th>\n",
       "      <td>NY Rochester</td>\n",
       "      <td>1915</td>\n",
       "      <td>16.6</td>\n",
       "    </tr>\n",
       "    <tr>\n",
       "      <th>2476</th>\n",
       "      <td>NY Rochester</td>\n",
       "      <td>3033</td>\n",
       "      <td>19.2</td>\n",
       "    </tr>\n",
       "    <tr>\n",
       "      <th>2477</th>\n",
       "      <td>NY Syracuse</td>\n",
       "      <td>6978</td>\n",
       "      <td>4.2</td>\n",
       "    </tr>\n",
       "    <tr>\n",
       "      <th>2478</th>\n",
       "      <td>NY Rochester</td>\n",
       "      <td>2963</td>\n",
       "      <td>11.3</td>\n",
       "    </tr>\n",
       "    <tr>\n",
       "      <th>2479</th>\n",
       "      <td>NY Syracuse</td>\n",
       "      <td>2983</td>\n",
       "      <td>14.6</td>\n",
       "    </tr>\n",
       "  </tbody>\n",
       "</table>\n",
       "<p>2480 rows × 3 columns</p>\n",
       "</div>"
      ],
      "text/plain": [
       "              NY_City  NY_PopByMM  NY_DeathPer100k\n",
       "0         NY New York     8175133             10.9\n",
       "1        NY Rochester        2580             13.6\n",
       "2        NY Rochester        4430             12.3\n",
       "3          NY Yonkers      195976             10.5\n",
       "4     NY Mount Vernon        4502             12.6\n",
       "...               ...         ...              ...\n",
       "2475     NY Rochester        1915             16.6\n",
       "2476     NY Rochester        3033             19.2\n",
       "2477      NY Syracuse        6978              4.2\n",
       "2478     NY Rochester        2963             11.3\n",
       "2479      NY Syracuse        2983             14.6\n",
       "\n",
       "[2480 rows x 3 columns]"
      ]
     },
     "execution_count": 45,
     "metadata": {},
     "output_type": "execute_result"
    }
   ],
   "source": [
    "df_NY_Dbt\n"
   ]
  },
  {
   "cell_type": "code",
   "execution_count": null,
   "metadata": {},
   "outputs": [],
   "source": []
  },
  {
   "attachments": {},
   "cell_type": "markdown",
   "metadata": {},
   "source": [
    "Run statistic on the dataset"
   ]
  },
  {
   "attachments": {},
   "cell_type": "markdown",
   "metadata": {},
   "source": []
  },
  {
   "attachments": {},
   "cell_type": "markdown",
   "metadata": {},
   "source": [
    "Create linear regression modles to predict the values/or death rate. "
   ]
  }
 ],
 "metadata": {
  "kernelspec": {
   "display_name": "Python 3",
   "language": "python",
   "name": "python3"
  },
  "language_info": {
   "codemirror_mode": {
    "name": "ipython",
    "version": 3
   },
   "file_extension": ".py",
   "mimetype": "text/x-python",
   "name": "python",
   "nbconvert_exporter": "python",
   "pygments_lexer": "ipython3",
   "version": "3.11.2"
  },
  "orig_nbformat": 4
 },
 "nbformat": 4,
 "nbformat_minor": 2
}
