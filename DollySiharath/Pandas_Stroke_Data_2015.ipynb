{
 "cells": [
  {
   "attachments": {},
   "cell_type": "markdown",
   "metadata": {},
   "source": [
    "###### Methods of opening a file.\n",
    "\n",
    "with open (\"C:/Diff/test.txt\", \"r\") as f:\n",
    "    file_contents = f.read()\n",
    "    print(file_contents)\n",
    "\n",
    "with open (\"C:/Diff/STROKEDatasets/2015_Mortality_Age35_Plus.csv\", \"r+\" ) as f:\n",
    "    f_Dataset = f.read()\n",
    "    print(f_Dataset)\n",
    "\n",
    "\n",
    "test = \"C:/Diff/Python/Stroke_Project/test.csv\"\n",
    "test = pd.read_csv(test)\n",
    "test\n",
    "\n",
    "\n",
    "fires = pd.read_pickle('fires_cleaned.pkl')\n",
    "fires.head()\n",
    "\n",
    "\n",
    "\n",
    "###### Create dataframe.  Does this need it if the dataset is are ready in columns and rows format???\n",
    "df = pd.DataFrame(ABC_Sales_Goal)\n",
    "df\n",
    "\n",
    "#### Display a few columns to view dataset.\n",
    "Stroke_Dataset_2015.head(5)\n",
    "\n",
    "\n",
    "#### display all the columns in the dataframe and its data type.\n",
    "Stroke_Dataset_2015.info() \n",
    "\n",
    "\n",
    "#### How to transpone the column to rows \n",
    "New_Stroke_Dataset = df.T  # Transpose = transfer columns to rows.\n",
    "\n",
    "\n",
    "#### How to select specific colums, dropping columns, and renaming columns. \n",
    "Selecting specific columns:\n",
    "New_Goal = df[[\"Year_2023\", \"Earning\", \"Goal\"]]\n",
    "print(New_Goal)\n",
    "\n",
    "\n",
    "#Another example of selecting specific dataframe/columns from cvs file:\n",
    "TBL01_Stroke_Dataset = df[[\"Year\", \"LocationAbbr\", \"LocationDesc\", \"GeographicLevel\", \"Class\", \"Topic\"]]\n",
    "TBL02_Stroke_Dataset = df[[\"Data_Value\", \"Data_Value_Unit\", \"Data_Value_Type\", \"StratificationCategory1\", \"Stratification1\"]]\n",
    "TBL03_Stroke_Dataset = df[[\"StratificationCategory2\", \"Stratification2\", \"TopicID\", \"LocationID\", \"Location 1\",\"Counties\", \"States\"]]\n",
    "(TBL01_Stroke_Dataset)\n",
    "\n",
    "\n",
    "\n",
    "###### How to Transpose = transfer columns to rows. \n",
    "New_Stroke_Dataset = df.T  \n",
    "New_Stroke_Dataset.head(3)\n",
    "print(New_Stroke_Dataset)\n",
    "\n",
    "###### How to drop a column or selected specific columns:\n",
    "\n",
    "Columns_drop = Stroke_Dataset.drop(columns=[\"GeographicLevel\", \"DataSource\", \"Class\", \"Topic\", \"Data_Value_Unit\"])\n",
    "\n",
    "\n",
    "# dropping multiple columns using \"**kwargs\"\n",
    "dropping a list inside the dictionaries\n",
    "inplace set to True.\n",
    "\n",
    "kwargs = {\"columns\":[\"GeographicLevel\", \"DataSource\", \"Class\", \"Topic\", \"Data_Value_Unit\", \\\n",
    "\"Data_Value_Type\", \"Data_Value_Footnote_Symbol\", \"Data_Value_Footnote\", \"StratificationCategory1\",\\\n",
    "\"StratificationCategory2\", \"TopicID\", \"Location 1\"],\"inplace\":True}\n",
    "Stroke_Dataset.drop(**kwargs)\n",
    "\n",
    "\n",
    "Columns to be renamed:\n",
    "'LocationAbbr'= rename to States\n",
    "'LocationDesc' = rename to County\n",
    "'Stratification1' = rename to gender\n",
    "'Data_Value' = rename to death_per100k_Population\n",
    "'Stratification2'= rename to Race_Ethnicity\n",
    "'LocationID' = ID_Num\n",
    "'Counties', = rename to County_Num\n",
    "'States', = rename to States_Num \n",
    "\n",
    "Columns to be removed:\n",
    "'GeographicLevel' = remove \n",
    "'DataSource' = remove\n",
    "'Class', 'Topic' = remove\n",
    "'Data_Value_Unit', 'Data_Value_Type', = remove\n",
    "'Data_Value_Footnote_Symbol', 'Data_Value_Footnote', = remove\n",
    "'StratificationCategory1' = remove\n",
    "'StratificationCategory2' = remove\n",
    "'TopicID'= Remove\n",
    "'Location 1', = remove\n",
    "dtype='object' = remove"
   ]
  },
  {
   "cell_type": "code",
   "execution_count": 9,
   "metadata": {},
   "outputs": [
    {
     "name": "stdout",
     "output_type": "stream",
     "text": [
      "Requirement already satisfied: openpyxl in c:\\users\\dolly\\appdata\\local\\r-mini~1\\envs\\datascience-pro-env\\lib\\site-packages (3.1.2)\n",
      "Requirement already satisfied: et-xmlfile in c:\\users\\dolly\\appdata\\local\\r-mini~1\\envs\\datascience-pro-env\\lib\\site-packages (from openpyxl) (1.1.0)\n"
     ]
    }
   ],
   "source": [
    "!pip install openpyxl  \n"
   ]
  },
  {
   "cell_type": "code",
   "execution_count": 10,
   "metadata": {},
   "outputs": [],
   "source": [
    "\n",
    "import pandas as pd\n",
    "import numpy as np\n",
    "import matplotlib as ml\n"
   ]
  },
  {
   "cell_type": "code",
   "execution_count": null,
   "metadata": {},
   "outputs": [],
   "source": [
    "# Reading dataset cvs file\n",
    "# Create and assign df variable to a dataframe.\n",
    "# Display the dataframe.\n",
    "Stroke_Dataset_2015 = \"C:/Diff/STROKEDatasets/2015_Mortality_Age35_Plus.csv\"\n",
    "Stroke_Dataset_2015 = pd.read_csv(Stroke_Dataset_2015)\n",
    "df = pd.DataFrame(Stroke_Dataset_2015)\n",
    "df"
   ]
  },
  {
   "cell_type": "code",
   "execution_count": 18,
   "metadata": {},
   "outputs": [
    {
     "data": {
      "text/plain": [
       "pandas.core.frame.DataFrame"
      ]
     },
     "execution_count": 18,
     "metadata": {},
     "output_type": "execute_result"
    }
   ],
   "source": [
    "type(Stroke_Dataset_2015)"
   ]
  },
  {
   "cell_type": "code",
   "execution_count": 19,
   "metadata": {},
   "outputs": [
    {
     "data": {
      "text/plain": [
       "Index(['Year', 'LocationAbbr', 'LocationDesc', 'GeographicLevel', 'DataSource',\n",
       "       'Class', 'Topic', 'Data_Value', 'Data_Value_Unit', 'Data_Value_Type',\n",
       "       'Data_Value_Footnote_Symbol', 'Data_Value_Footnote',\n",
       "       'StratificationCategory1', 'Stratification1', 'StratificationCategory2',\n",
       "       'Stratification2', 'TopicID', 'LocationID', 'Location 1', 'Counties',\n",
       "       'States'],\n",
       "      dtype='object')"
      ]
     },
     "execution_count": 19,
     "metadata": {},
     "output_type": "execute_result"
    }
   ],
   "source": [
    "# display type of dataframe and display all the column names. \n",
    "\n",
    "Stroke_Dataset_2015.columns "
   ]
  },
  {
   "cell_type": "code",
   "execution_count": 20,
   "metadata": {},
   "outputs": [
    {
     "name": "stdout",
     "output_type": "stream",
     "text": [
      "<class 'pandas.core.frame.DataFrame'>\n",
      "RangeIndex: 59076 entries, 0 to 59075\n",
      "Data columns (total 21 columns):\n",
      " #   Column                      Non-Null Count  Dtype  \n",
      "---  ------                      --------------  -----  \n",
      " 0   Year                        59076 non-null  int64  \n",
      " 1   LocationAbbr                59076 non-null  object \n",
      " 2   LocationDesc                59076 non-null  object \n",
      " 3   GeographicLevel             59076 non-null  object \n",
      " 4   DataSource                  59076 non-null  object \n",
      " 5   Class                       59076 non-null  object \n",
      " 6   Topic                       59076 non-null  object \n",
      " 7   Data_Value                  27834 non-null  float64\n",
      " 8   Data_Value_Unit             59076 non-null  object \n",
      " 9   Data_Value_Type             59076 non-null  object \n",
      " 10  Data_Value_Footnote_Symbol  31242 non-null  object \n",
      " 11  Data_Value_Footnote         31242 non-null  object \n",
      " 12  StratificationCategory1     59076 non-null  object \n",
      " 13  Stratification1             59076 non-null  object \n",
      " 14  StratificationCategory2     59076 non-null  object \n",
      " 15  Stratification2             59076 non-null  object \n",
      " 16  TopicID                     59076 non-null  object \n",
      " 17  LocationID                  59076 non-null  int64  \n",
      " 18  Location 1                  59058 non-null  object \n",
      " 19  Counties                    58716 non-null  float64\n",
      " 20  States                      57294 non-null  float64\n",
      "dtypes: float64(3), int64(2), object(16)\n",
      "memory usage: 9.5+ MB\n"
     ]
    }
   ],
   "source": [
    "# Display all columns and its datatypes.\n",
    "Stroke_Dataset_2015.info() "
   ]
  },
  {
   "cell_type": "code",
   "execution_count": 21,
   "metadata": {},
   "outputs": [],
   "source": [
    "# dropping multiple columns using \"**kwargs\"\n",
    "# dropping a list inside the dictionaries\n",
    "# inplace set to True.\n",
    "\n",
    "kwargs = {\"columns\":[\"GeographicLevel\", \"DataSource\", \"Class\", \"Topic\", \"Data_Value_Unit\", \\\n",
    "\"Data_Value_Type\", \"Data_Value_Footnote_Symbol\", \"Data_Value_Footnote\", \"StratificationCategory1\",\\\n",
    "\"StratificationCategory2\", \"TopicID\", \"Location 1\"],\"inplace\":True}\n",
    "Stroke_Dataset_2015.drop(**kwargs)"
   ]
  },
  {
   "cell_type": "code",
   "execution_count": 22,
   "metadata": {},
   "outputs": [
    {
     "data": {
      "text/html": [
       "<div>\n",
       "<style scoped>\n",
       "    .dataframe tbody tr th:only-of-type {\n",
       "        vertical-align: middle;\n",
       "    }\n",
       "\n",
       "    .dataframe tbody tr th {\n",
       "        vertical-align: top;\n",
       "    }\n",
       "\n",
       "    .dataframe thead th {\n",
       "        text-align: right;\n",
       "    }\n",
       "</style>\n",
       "<table border=\"1\" class=\"dataframe\">\n",
       "  <thead>\n",
       "    <tr style=\"text-align: right;\">\n",
       "      <th></th>\n",
       "      <th>Year</th>\n",
       "      <th>LocationAbbr</th>\n",
       "      <th>LocationDesc</th>\n",
       "      <th>Data_Value</th>\n",
       "      <th>Stratification1</th>\n",
       "      <th>Stratification2</th>\n",
       "      <th>LocationID</th>\n",
       "      <th>Counties</th>\n",
       "      <th>States</th>\n",
       "    </tr>\n",
       "  </thead>\n",
       "  <tbody>\n",
       "    <tr>\n",
       "      <th>0</th>\n",
       "      <td>2015</td>\n",
       "      <td>SD</td>\n",
       "      <td>South Dakota</td>\n",
       "      <td>NaN</td>\n",
       "      <td>Overall</td>\n",
       "      <td>Black</td>\n",
       "      <td>46</td>\n",
       "      <td>2679.0</td>\n",
       "      <td>21.0</td>\n",
       "    </tr>\n",
       "    <tr>\n",
       "      <th>1</th>\n",
       "      <td>2015</td>\n",
       "      <td>MT</td>\n",
       "      <td>Fergus County</td>\n",
       "      <td>85.3</td>\n",
       "      <td>Male</td>\n",
       "      <td>White</td>\n",
       "      <td>30027</td>\n",
       "      <td>2283.0</td>\n",
       "      <td>2.0</td>\n",
       "    </tr>\n",
       "    <tr>\n",
       "      <th>2</th>\n",
       "      <td>2015</td>\n",
       "      <td>WV</td>\n",
       "      <td>West Virginia</td>\n",
       "      <td>83.8</td>\n",
       "      <td>Male</td>\n",
       "      <td>White</td>\n",
       "      <td>54</td>\n",
       "      <td>2749.0</td>\n",
       "      <td>42.0</td>\n",
       "    </tr>\n",
       "  </tbody>\n",
       "</table>\n",
       "</div>"
      ],
      "text/plain": [
       "   Year LocationAbbr   LocationDesc  Data_Value Stratification1  \\\n",
       "0  2015           SD   South Dakota         NaN         Overall   \n",
       "1  2015           MT  Fergus County        85.3            Male   \n",
       "2  2015           WV  West Virginia        83.8            Male   \n",
       "\n",
       "  Stratification2  LocationID  Counties  States  \n",
       "0           Black          46    2679.0    21.0  \n",
       "1           White       30027    2283.0     2.0  \n",
       "2           White          54    2749.0    42.0  "
      ]
     },
     "execution_count": 22,
     "metadata": {},
     "output_type": "execute_result"
    }
   ],
   "source": [
    "# After removing/dropping some of the columns.\n",
    "Stroke_Dataset_2015.head(3)"
   ]
  },
  {
   "cell_type": "code",
   "execution_count": 23,
   "metadata": {},
   "outputs": [],
   "source": [
    "# rename muliple columns.\n",
    "Stroke_Dataset_2015.rename(columns = {\"LocationAbbr\":\"States\", \"LocationDesc\":\"County\", \"Stratification1\":\"Gender\", \"Data_Value\":\"death_per100k\", \n",
    "                    \"Stratification2\":\"Race_Ethnicity\", \"LocationID\":\"ID_Num\", \"Counties\":\"County_Num\", \"States\":\"States_Num \"  }, inplace=True)"
   ]
  },
  {
   "cell_type": "code",
   "execution_count": 24,
   "metadata": {},
   "outputs": [
    {
     "data": {
      "text/html": [
       "<div>\n",
       "<style scoped>\n",
       "    .dataframe tbody tr th:only-of-type {\n",
       "        vertical-align: middle;\n",
       "    }\n",
       "\n",
       "    .dataframe tbody tr th {\n",
       "        vertical-align: top;\n",
       "    }\n",
       "\n",
       "    .dataframe thead th {\n",
       "        text-align: right;\n",
       "    }\n",
       "</style>\n",
       "<table border=\"1\" class=\"dataframe\">\n",
       "  <thead>\n",
       "    <tr style=\"text-align: right;\">\n",
       "      <th></th>\n",
       "      <th>Year</th>\n",
       "      <th>States</th>\n",
       "      <th>County</th>\n",
       "      <th>death_per100k</th>\n",
       "      <th>Gender</th>\n",
       "      <th>Race_Ethnicity</th>\n",
       "      <th>ID_Num</th>\n",
       "      <th>County_Num</th>\n",
       "      <th>States_Num</th>\n",
       "    </tr>\n",
       "  </thead>\n",
       "  <tbody>\n",
       "    <tr>\n",
       "      <th>0</th>\n",
       "      <td>2015</td>\n",
       "      <td>SD</td>\n",
       "      <td>South Dakota</td>\n",
       "      <td>NaN</td>\n",
       "      <td>Overall</td>\n",
       "      <td>Black</td>\n",
       "      <td>46</td>\n",
       "      <td>2679.0</td>\n",
       "      <td>21.0</td>\n",
       "    </tr>\n",
       "    <tr>\n",
       "      <th>1</th>\n",
       "      <td>2015</td>\n",
       "      <td>MT</td>\n",
       "      <td>Fergus County</td>\n",
       "      <td>85.3</td>\n",
       "      <td>Male</td>\n",
       "      <td>White</td>\n",
       "      <td>30027</td>\n",
       "      <td>2283.0</td>\n",
       "      <td>2.0</td>\n",
       "    </tr>\n",
       "    <tr>\n",
       "      <th>2</th>\n",
       "      <td>2015</td>\n",
       "      <td>WV</td>\n",
       "      <td>West Virginia</td>\n",
       "      <td>83.8</td>\n",
       "      <td>Male</td>\n",
       "      <td>White</td>\n",
       "      <td>54</td>\n",
       "      <td>2749.0</td>\n",
       "      <td>42.0</td>\n",
       "    </tr>\n",
       "  </tbody>\n",
       "</table>\n",
       "</div>"
      ],
      "text/plain": [
       "   Year States         County  death_per100k   Gender Race_Ethnicity  ID_Num  \\\n",
       "0  2015     SD   South Dakota            NaN  Overall          Black      46   \n",
       "1  2015     MT  Fergus County           85.3     Male          White   30027   \n",
       "2  2015     WV  West Virginia           83.8     Male          White      54   \n",
       "\n",
       "   County_Num  States_Num   \n",
       "0      2679.0         21.0  \n",
       "1      2283.0          2.0  \n",
       "2      2749.0         42.0  "
      ]
     },
     "execution_count": 24,
     "metadata": {},
     "output_type": "execute_result"
    }
   ],
   "source": [
    "# After rename the columns. \n",
    "Stroke_Dataset_2015.head(3)"
   ]
  },
  {
   "cell_type": "code",
   "execution_count": 25,
   "metadata": {},
   "outputs": [
    {
     "data": {
      "text/plain": [
       "<Axes: xlabel='States'>"
      ]
     },
     "execution_count": 25,
     "metadata": {},
     "output_type": "execute_result"
    },
    {
     "data": {
      "image/png": "[encoded data removed]",
      "text/plain": [
       "<Figure size 640x480 with 1 Axes>"
      ]
     },
     "metadata": {},
     "output_type": "display_data"
    }
   ],
   "source": [
    "\n",
    "\n",
    "Stroke_Dataset_2015.plot.line(x=\"States\", y = \"death_per100k\")\n",
    "\n"
   ]
  }
 ],
 "metadata": {
  "kernelspec": {
   "display_name": "Python 3",
   "language": "python",
   "name": "python3"
  },
  "language_info": {
   "codemirror_mode": {
    "name": "ipython",
    "version": 3
   },
   "file_extension": ".py",
   "mimetype": "text/x-python",
   "name": "python",
   "nbconvert_exporter": "python",
   "pygments_lexer": "ipython3",
   "version": "3.11.2"
  },
  "orig_nbformat": 4
 },
 "nbformat": 4,
 "nbformat_minor": 2
}
