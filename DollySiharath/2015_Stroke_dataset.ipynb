{
 "cells": [
  {
   "attachments": {},
   "cell_type": "markdown",
   "metadata": {},
   "source": [
    "\n",
    "\n",
    "\n",
    "##  2015 STROKE DATA \n",
    "\n"
   ]
  },
  {
   "cell_type": "code",
   "execution_count": 68,
   "metadata": {},
   "outputs": [
    {
     "name": "stdout",
     "output_type": "stream",
     "text": [
      "Requirement already satisfied: openpyxl in c:\\users\\dolly\\appdata\\local\\r-mini~1\\envs\\datascience-pro-env\\lib\\site-packages (3.1.2)\n",
      "Requirement already satisfied: et-xmlfile in c:\\users\\dolly\\appdata\\local\\r-mini~1\\envs\\datascience-pro-env\\lib\\site-packages (from openpyxl) (1.1.0)\n"
     ]
    }
   ],
   "source": [
    "!pip install openpyxl  "
   ]
  },
  {
   "cell_type": "code",
   "execution_count": 69,
   "metadata": {},
   "outputs": [],
   "source": [
    "import pandas as pd\n",
    "import numpy as np\n",
    "import matplotlib as ml"
   ]
  },
  {
   "cell_type": "code",
   "execution_count": 99,
   "metadata": {},
   "outputs": [
    {
     "name": "stdout",
     "output_type": "stream",
     "text": [
      "   Year LocationAbbr   LocationDesc GeographicLevel DataSource  \\\n",
      "0  2015           SD   South Dakota           State       NVSS   \n",
      "1  2015           MT  Fergus County          County       NVSS   \n",
      "2  2015           WV  West Virginia           State       NVSS   \n",
      "3  2015           MN      Minnesota           State       NVSS   \n",
      "4  2015           MS  Alcorn County          County       NVSS   \n",
      "\n",
      "                     Class             Topic  Data_Value  \\\n",
      "0  Cardiovascular Diseases  Stroke Mortality         NaN   \n",
      "1  Cardiovascular Diseases  Stroke Mortality        85.3   \n",
      "2  Cardiovascular Diseases  Stroke Mortality        83.8   \n",
      "3  Cardiovascular Diseases  Stroke Mortality        94.6   \n",
      "4  Cardiovascular Diseases  Stroke Mortality        98.4   \n",
      "\n",
      "          Data_Value_Unit                                    Data_Value_Type  \\\n",
      "0  per 100,000 population                  Age-adjusted, 3-year Average Rate   \n",
      "1  per 100,000 population  Age-adjusted, Spatially Smoothed, 3-year Avera...   \n",
      "2  per 100,000 population                  Age-adjusted, 3-year Average Rate   \n",
      "3  per 100,000 population                  Age-adjusted, 3-year Average Rate   \n",
      "4  per 100,000 population  Age-adjusted, Spatially Smoothed, 3-year Avera...   \n",
      "\n",
      "   ... Data_Value_Footnote StratificationCategory1 Stratification1  \\\n",
      "0  ...   Insufficient Data                  Gender         Overall   \n",
      "1  ...                 NaN                  Gender            Male   \n",
      "2  ...                 NaN                  Gender            Male   \n",
      "3  ...                 NaN                  Gender          Female   \n",
      "4  ...                 NaN                  Gender            Male   \n",
      "\n",
      "  StratificationCategory2 Stratification2 TopicID LocationID  \\\n",
      "0          Race/Ethnicity           Black      T6         46   \n",
      "1          Race/Ethnicity           White      T6      30027   \n",
      "2          Race/Ethnicity           White      T6         54   \n",
      "3          Race/Ethnicity           Black      T6         27   \n",
      "4          Race/Ethnicity           White      T6      28003   \n",
      "\n",
      "                 Location 1 Counties  States  \n",
      "0       (44.4332, -100.236)   2679.0    21.0  \n",
      "1  (47.267076, -109.227158)   2283.0     2.0  \n",
      "2       (38.6411, -80.6147)   2749.0    42.0  \n",
      "3       (46.3159, -94.3068)   1400.0     1.0  \n",
      "4   (34.887179, -88.570153)    396.0    32.0  \n",
      "\n",
      "[5 rows x 21 columns]\n"
     ]
    }
   ],
   "source": [
    "Stroke_Dataset_2015 = \"C:/Diff/STROKEDatasets/2015_Mortality_Age35_Plus.csv\"\n",
    "poke = pd.read_csv(Stroke_Dataset_2015)\n",
    "print(poke.head())\n"
   ]
  },
  {
   "cell_type": "code",
   "execution_count": null,
   "metadata": {},
   "outputs": [],
   "source": [
    "# Reading dataset cvs file\n",
    "# Create and assign df variable to a dataframe.\n",
    "# Display the dataframe.\n",
    "Stroke_Dataset_2015 = \"C:/Diff/STROKEDatasets/2015_Mortality_Age35_Plus.csv\"\n",
    "Stroke_Dataset_2015 = pd.read_csv(Stroke_Dataset_2015)\n",
    "df = pd.DataFrame(Stroke_Dataset_2015)\n",
    "# df\n",
    "(df.head())"
   ]
  },
  {
   "cell_type": "code",
   "execution_count": 174,
   "metadata": {},
   "outputs": [
    {
     "name": "stdout",
     "output_type": "stream",
     "text": [
      "Index:   RangeIndex(start=0, stop=59076, step=1)\n",
      "Columns: Index(['Year', 'States', 'County', 'death_per100k', 'Gender', 'Race_Ethnicity',\n",
      "       'ID_Num', 'County_Num', 'States_Num', 'death_log'],\n",
      "      dtype='object')\n",
      "Size:    590760\n",
      "Shape:   (59076, 10)\n"
     ]
    }
   ],
   "source": [
    "print(\"Index:  \", Stroke_Dataset_2015.index)\n",
    "print(\"Columns:\", Stroke_Dataset_2015.columns)\n",
    "print(\"Size:   \", Stroke_Dataset_2015.size)\n",
    "print(\"Shape:  \", Stroke_Dataset_2015.shape)"
   ]
  },
  {
   "cell_type": "code",
   "execution_count": 106,
   "metadata": {},
   "outputs": [
    {
     "data": {
      "text/plain": [
       "pandas.core.frame.DataFrame"
      ]
     },
     "execution_count": 106,
     "metadata": {},
     "output_type": "execute_result"
    }
   ],
   "source": [
    "type(Stroke_Dataset_2015)"
   ]
  },
  {
   "cell_type": "code",
   "execution_count": null,
   "metadata": {},
   "outputs": [],
   "source": [
    "\n",
    "for index, row in df.iterrows(): # getting or reading row by row. \n",
    "       print(index, row)"
   ]
  },
  {
   "cell_type": "code",
   "execution_count": null,
   "metadata": {},
   "outputs": [],
   "source": [
    "# display type of dataframe and display all the column names. \n",
    "\n",
    "Stroke_Dataset_2015.columns "
   ]
  },
  {
   "cell_type": "code",
   "execution_count": null,
   "metadata": {},
   "outputs": [],
   "source": [
    "# Display all columns and its datatypes.\n",
    "Stroke_Dataset_2015.info() "
   ]
  },
  {
   "cell_type": "code",
   "execution_count": 110,
   "metadata": {},
   "outputs": [],
   "source": [
    "# dropping multiple columns using \"**kwargs\"\n",
    "# dropping a list inside the dictionaries\n",
    "# inplace set to True.\n",
    "\n",
    "kwargs = {\"columns\":[\"GeographicLevel\", \"DataSource\", \"Class\", \"Topic\", \"Data_Value_Unit\", \\\n",
    "\"Data_Value_Type\", \"Data_Value_Footnote_Symbol\", \"Data_Value_Footnote\", \"StratificationCategory1\",\\\n",
    "\"StratificationCategory2\", \"TopicID\", \"Location 1\"],\"inplace\":True}\n",
    "Stroke_Dataset_2015.drop(**kwargs)"
   ]
  },
  {
   "cell_type": "code",
   "execution_count": 111,
   "metadata": {},
   "outputs": [
    {
     "data": {
      "text/html": [
       "<div>\n",
       "<style scoped>\n",
       "    .dataframe tbody tr th:only-of-type {\n",
       "        vertical-align: middle;\n",
       "    }\n",
       "\n",
       "    .dataframe tbody tr th {\n",
       "        vertical-align: top;\n",
       "    }\n",
       "\n",
       "    .dataframe thead th {\n",
       "        text-align: right;\n",
       "    }\n",
       "</style>\n",
       "<table border=\"1\" class=\"dataframe\">\n",
       "  <thead>\n",
       "    <tr style=\"text-align: right;\">\n",
       "      <th></th>\n",
       "      <th>Year</th>\n",
       "      <th>LocationAbbr</th>\n",
       "      <th>LocationDesc</th>\n",
       "      <th>Data_Value</th>\n",
       "      <th>Stratification1</th>\n",
       "      <th>Stratification2</th>\n",
       "      <th>LocationID</th>\n",
       "      <th>Counties</th>\n",
       "      <th>States</th>\n",
       "    </tr>\n",
       "  </thead>\n",
       "  <tbody>\n",
       "    <tr>\n",
       "      <th>0</th>\n",
       "      <td>2015</td>\n",
       "      <td>SD</td>\n",
       "      <td>South Dakota</td>\n",
       "      <td>NaN</td>\n",
       "      <td>Overall</td>\n",
       "      <td>Black</td>\n",
       "      <td>46</td>\n",
       "      <td>2679.0</td>\n",
       "      <td>21.0</td>\n",
       "    </tr>\n",
       "    <tr>\n",
       "      <th>1</th>\n",
       "      <td>2015</td>\n",
       "      <td>MT</td>\n",
       "      <td>Fergus County</td>\n",
       "      <td>85.3</td>\n",
       "      <td>Male</td>\n",
       "      <td>White</td>\n",
       "      <td>30027</td>\n",
       "      <td>2283.0</td>\n",
       "      <td>2.0</td>\n",
       "    </tr>\n",
       "    <tr>\n",
       "      <th>2</th>\n",
       "      <td>2015</td>\n",
       "      <td>WV</td>\n",
       "      <td>West Virginia</td>\n",
       "      <td>83.8</td>\n",
       "      <td>Male</td>\n",
       "      <td>White</td>\n",
       "      <td>54</td>\n",
       "      <td>2749.0</td>\n",
       "      <td>42.0</td>\n",
       "    </tr>\n",
       "  </tbody>\n",
       "</table>\n",
       "</div>"
      ],
      "text/plain": [
       "   Year LocationAbbr   LocationDesc  Data_Value Stratification1  \\\n",
       "0  2015           SD   South Dakota         NaN         Overall   \n",
       "1  2015           MT  Fergus County        85.3            Male   \n",
       "2  2015           WV  West Virginia        83.8            Male   \n",
       "\n",
       "  Stratification2  LocationID  Counties  States  \n",
       "0           Black          46    2679.0    21.0  \n",
       "1           White       30027    2283.0     2.0  \n",
       "2           White          54    2749.0    42.0  "
      ]
     },
     "execution_count": 111,
     "metadata": {},
     "output_type": "execute_result"
    }
   ],
   "source": [
    "# After removing/dropping some of the columns.\n",
    "Stroke_Dataset_2015.head(3)"
   ]
  },
  {
   "cell_type": "code",
   "execution_count": 112,
   "metadata": {},
   "outputs": [],
   "source": [
    "# rename muliple columns.\n",
    "Stroke_Dataset_2015.rename(columns = {\"LocationAbbr\":\"States\", \"LocationDesc\":\"County\", \"Stratification1\":\"Gender\", \"Data_Value\":\"death_per100k\", \n",
    "                    \"Stratification2\":\"Race_Ethnicity\", \"LocationID\":\"ID_Num\", \"Counties\":\"County_Num\", \"States\":\"States_Num\"  }, inplace=True)"
   ]
  },
  {
   "cell_type": "code",
   "execution_count": 113,
   "metadata": {},
   "outputs": [
    {
     "data": {
      "text/html": [
       "<div>\n",
       "<style scoped>\n",
       "    .dataframe tbody tr th:only-of-type {\n",
       "        vertical-align: middle;\n",
       "    }\n",
       "\n",
       "    .dataframe tbody tr th {\n",
       "        vertical-align: top;\n",
       "    }\n",
       "\n",
       "    .dataframe thead th {\n",
       "        text-align: right;\n",
       "    }\n",
       "</style>\n",
       "<table border=\"1\" class=\"dataframe\">\n",
       "  <thead>\n",
       "    <tr style=\"text-align: right;\">\n",
       "      <th></th>\n",
       "      <th>Year</th>\n",
       "      <th>States</th>\n",
       "      <th>County</th>\n",
       "      <th>death_per100k</th>\n",
       "      <th>Gender</th>\n",
       "      <th>Race_Ethnicity</th>\n",
       "      <th>ID_Num</th>\n",
       "      <th>County_Num</th>\n",
       "      <th>States_Num</th>\n",
       "    </tr>\n",
       "  </thead>\n",
       "  <tbody>\n",
       "    <tr>\n",
       "      <th>0</th>\n",
       "      <td>2015</td>\n",
       "      <td>SD</td>\n",
       "      <td>South Dakota</td>\n",
       "      <td>NaN</td>\n",
       "      <td>Overall</td>\n",
       "      <td>Black</td>\n",
       "      <td>46</td>\n",
       "      <td>2679.0</td>\n",
       "      <td>21.0</td>\n",
       "    </tr>\n",
       "    <tr>\n",
       "      <th>1</th>\n",
       "      <td>2015</td>\n",
       "      <td>MT</td>\n",
       "      <td>Fergus County</td>\n",
       "      <td>85.3</td>\n",
       "      <td>Male</td>\n",
       "      <td>White</td>\n",
       "      <td>30027</td>\n",
       "      <td>2283.0</td>\n",
       "      <td>2.0</td>\n",
       "    </tr>\n",
       "    <tr>\n",
       "      <th>2</th>\n",
       "      <td>2015</td>\n",
       "      <td>WV</td>\n",
       "      <td>West Virginia</td>\n",
       "      <td>83.8</td>\n",
       "      <td>Male</td>\n",
       "      <td>White</td>\n",
       "      <td>54</td>\n",
       "      <td>2749.0</td>\n",
       "      <td>42.0</td>\n",
       "    </tr>\n",
       "  </tbody>\n",
       "</table>\n",
       "</div>"
      ],
      "text/plain": [
       "   Year States         County  death_per100k   Gender Race_Ethnicity  ID_Num  \\\n",
       "0  2015     SD   South Dakota            NaN  Overall          Black      46   \n",
       "1  2015     MT  Fergus County           85.3     Male          White   30027   \n",
       "2  2015     WV  West Virginia           83.8     Male          White      54   \n",
       "\n",
       "   County_Num  States_Num  \n",
       "0      2679.0        21.0  \n",
       "1      2283.0         2.0  \n",
       "2      2749.0        42.0  "
      ]
     },
     "execution_count": 113,
     "metadata": {},
     "output_type": "execute_result"
    }
   ],
   "source": [
    "# After rename the columns. \n",
    "Stroke_Dataset_2015.head(3)"
   ]
  },
  {
   "cell_type": "code",
   "execution_count": 177,
   "metadata": {},
   "outputs": [
    {
     "data": {
      "text/html": [
       "<div>\n",
       "<style scoped>\n",
       "    .dataframe tbody tr th:only-of-type {\n",
       "        vertical-align: middle;\n",
       "    }\n",
       "\n",
       "    .dataframe tbody tr th {\n",
       "        vertical-align: top;\n",
       "    }\n",
       "\n",
       "    .dataframe thead th {\n",
       "        text-align: right;\n",
       "    }\n",
       "</style>\n",
       "<table border=\"1\" class=\"dataframe\">\n",
       "  <thead>\n",
       "    <tr style=\"text-align: right;\">\n",
       "      <th></th>\n",
       "      <th>count</th>\n",
       "      <th>mean</th>\n",
       "      <th>std</th>\n",
       "      <th>min</th>\n",
       "      <th>25%</th>\n",
       "      <th>50%</th>\n",
       "      <th>75%</th>\n",
       "      <th>max</th>\n",
       "    </tr>\n",
       "  </thead>\n",
       "  <tbody>\n",
       "    <tr>\n",
       "      <th>death_per100k</th>\n",
       "      <td>27834.0</td>\n",
       "      <td>79.654372</td>\n",
       "      <td>25.761488</td>\n",
       "      <td>0.0</td>\n",
       "      <td>64.50000</td>\n",
       "      <td>75.800000</td>\n",
       "      <td>90.600000</td>\n",
       "      <td>644.500000</td>\n",
       "    </tr>\n",
       "    <tr>\n",
       "      <th>death_log</th>\n",
       "      <td>27834.0</td>\n",
       "      <td>-inf</td>\n",
       "      <td>NaN</td>\n",
       "      <td>-inf</td>\n",
       "      <td>1.80956</td>\n",
       "      <td>1.879669</td>\n",
       "      <td>1.957128</td>\n",
       "      <td>2.809223</td>\n",
       "    </tr>\n",
       "  </tbody>\n",
       "</table>\n",
       "</div>"
      ],
      "text/plain": [
       "                 count       mean        std  min       25%        50%  \\\n",
       "death_per100k  27834.0  79.654372  25.761488  0.0  64.50000  75.800000   \n",
       "death_log      27834.0       -inf        NaN -inf   1.80956   1.879669   \n",
       "\n",
       "                     75%         max  \n",
       "death_per100k  90.600000  644.500000  \n",
       "death_log       1.957128    2.809223  "
      ]
     },
     "execution_count": 177,
     "metadata": {},
     "output_type": "execute_result"
    }
   ],
   "source": [
    "# del all these column [\"Year\",\"ID_Num\",\"County_Num\",\"States_Num\"])\n",
    "# Run \"describe\" with only death rate.\n",
    "\n",
    "Stroke_Dataset_2015.drop(columns = [\"Year\",\"ID_Num\",\"County_Num\",\"States_Num\"]).describe().T"
   ]
  },
  {
   "cell_type": "code",
   "execution_count": null,
   "metadata": {},
   "outputs": [],
   "source": [
    "# SELECT [Race_Ethnicity] , Gender, COUNT(*) GROUP BY [Race_Ethnicity], Gender\n",
    "Stroke_Dataset_2015[['Year', 'Race_Ethnicity','Gender']].value_counts()"
   ]
  },
  {
   "cell_type": "code",
   "execution_count": null,
   "metadata": {},
   "outputs": [],
   "source": [
    "# SELECT [Race_Ethnicity] , Year, COUNT(*) GROUP BY [Race_Ethnicity], Year\n",
    "Stroke_Dataset_2015[['Year','Race_Ethnicity']].value_counts()"
   ]
  },
  {
   "cell_type": "code",
   "execution_count": null,
   "metadata": {},
   "outputs": [],
   "source": [
    "# len(Stroke_Dataset_2015.death_per100k.value_counts())\n",
    "print(\" Total Death for 2015 caused by stroke are = \", len(Stroke_Dataset_2015.death_per100k.value_counts()))"
   ]
  },
  {
   "cell_type": "code",
   "execution_count": null,
   "metadata": {},
   "outputs": [],
   "source": [
    "Stroke_Dataset_2015.query(\"death_per100k.notna()\").count()"
   ]
  },
  {
   "cell_type": "code",
   "execution_count": 184,
   "metadata": {},
   "outputs": [
    {
     "data": {
      "text/plain": [
       "(59076, 10)"
      ]
     },
     "execution_count": 184,
     "metadata": {},
     "output_type": "execute_result"
    }
   ],
   "source": [
    "Stroke_Dataset_2015.shape"
   ]
  },
  {
   "cell_type": "code",
   "execution_count": 114,
   "metadata": {},
   "outputs": [
    {
     "data": {
      "text/plain": [
       "<Axes: xlabel='States'>"
      ]
     },
     "execution_count": 114,
     "metadata": {},
     "output_type": "execute_result"
    },
    {
     "data": {
      "image/png": "[encoded data removed]",
      "text/plain": [
       "<Figure size 640x480 with 1 Axes>"
      ]
     },
     "metadata": {},
     "output_type": "display_data"
    }
   ],
   "source": [
    "Stroke_Dataset_2015.plot.line(x=\"States\", y = \"death_per100k\")"
   ]
  },
  {
   "cell_type": "code",
   "execution_count": 191,
   "metadata": {},
   "outputs": [
    {
     "data": {
      "text/html": [
       "<div>\n",
       "<style scoped>\n",
       "    .dataframe tbody tr th:only-of-type {\n",
       "        vertical-align: middle;\n",
       "    }\n",
       "\n",
       "    .dataframe tbody tr th {\n",
       "        vertical-align: top;\n",
       "    }\n",
       "\n",
       "    .dataframe thead th {\n",
       "        text-align: right;\n",
       "    }\n",
       "</style>\n",
       "<table border=\"1\" class=\"dataframe\">\n",
       "  <thead>\n",
       "    <tr style=\"text-align: right;\">\n",
       "      <th></th>\n",
       "      <th>Year</th>\n",
       "      <th>States</th>\n",
       "      <th>County</th>\n",
       "      <th>death_per100k</th>\n",
       "      <th>Gender</th>\n",
       "      <th>Race_Ethnicity</th>\n",
       "      <th>ID_Num</th>\n",
       "      <th>County_Num</th>\n",
       "      <th>States_Num</th>\n",
       "      <th>death_log</th>\n",
       "    </tr>\n",
       "  </thead>\n",
       "  <tbody>\n",
       "    <tr>\n",
       "      <th>0</th>\n",
       "      <td>2015</td>\n",
       "      <td>SD</td>\n",
       "      <td>South Dakota</td>\n",
       "      <td>NaN</td>\n",
       "      <td>Overall</td>\n",
       "      <td>Black</td>\n",
       "      <td>46</td>\n",
       "      <td>2679.0</td>\n",
       "      <td>21.0</td>\n",
       "      <td>NaN</td>\n",
       "    </tr>\n",
       "    <tr>\n",
       "      <th>1</th>\n",
       "      <td>2015</td>\n",
       "      <td>MT</td>\n",
       "      <td>Fergus County</td>\n",
       "      <td>85.3</td>\n",
       "      <td>Male</td>\n",
       "      <td>White</td>\n",
       "      <td>30027</td>\n",
       "      <td>2283.0</td>\n",
       "      <td>2.0</td>\n",
       "      <td>1.930949</td>\n",
       "    </tr>\n",
       "    <tr>\n",
       "      <th>2</th>\n",
       "      <td>2015</td>\n",
       "      <td>WV</td>\n",
       "      <td>West Virginia</td>\n",
       "      <td>83.8</td>\n",
       "      <td>Male</td>\n",
       "      <td>White</td>\n",
       "      <td>54</td>\n",
       "      <td>2749.0</td>\n",
       "      <td>42.0</td>\n",
       "      <td>1.923244</td>\n",
       "    </tr>\n",
       "    <tr>\n",
       "      <th>3</th>\n",
       "      <td>2015</td>\n",
       "      <td>MN</td>\n",
       "      <td>Minnesota</td>\n",
       "      <td>94.6</td>\n",
       "      <td>Female</td>\n",
       "      <td>Black</td>\n",
       "      <td>27</td>\n",
       "      <td>1400.0</td>\n",
       "      <td>1.0</td>\n",
       "      <td>1.975891</td>\n",
       "    </tr>\n",
       "    <tr>\n",
       "      <th>4</th>\n",
       "      <td>2015</td>\n",
       "      <td>MS</td>\n",
       "      <td>Alcorn County</td>\n",
       "      <td>98.4</td>\n",
       "      <td>Male</td>\n",
       "      <td>White</td>\n",
       "      <td>28003</td>\n",
       "      <td>396.0</td>\n",
       "      <td>32.0</td>\n",
       "      <td>1.992995</td>\n",
       "    </tr>\n",
       "    <tr>\n",
       "      <th>...</th>\n",
       "      <td>...</td>\n",
       "      <td>...</td>\n",
       "      <td>...</td>\n",
       "      <td>...</td>\n",
       "      <td>...</td>\n",
       "      <td>...</td>\n",
       "      <td>...</td>\n",
       "      <td>...</td>\n",
       "      <td>...</td>\n",
       "      <td>...</td>\n",
       "    </tr>\n",
       "    <tr>\n",
       "      <th>59071</th>\n",
       "      <td>2015</td>\n",
       "      <td>MS</td>\n",
       "      <td>Claiborne County</td>\n",
       "      <td>NaN</td>\n",
       "      <td>Overall</td>\n",
       "      <td>American Indian and Alaskan Native</td>\n",
       "      <td>28021</td>\n",
       "      <td>1600.0</td>\n",
       "      <td>32.0</td>\n",
       "      <td>NaN</td>\n",
       "    </tr>\n",
       "    <tr>\n",
       "      <th>59072</th>\n",
       "      <td>2015</td>\n",
       "      <td>PA</td>\n",
       "      <td>Crawford County</td>\n",
       "      <td>NaN</td>\n",
       "      <td>Overall</td>\n",
       "      <td>Hispanic</td>\n",
       "      <td>42039</td>\n",
       "      <td>2500.0</td>\n",
       "      <td>48.0</td>\n",
       "      <td>NaN</td>\n",
       "    </tr>\n",
       "    <tr>\n",
       "      <th>59073</th>\n",
       "      <td>2015</td>\n",
       "      <td>NE</td>\n",
       "      <td>Hayes County</td>\n",
       "      <td>NaN</td>\n",
       "      <td>Overall</td>\n",
       "      <td>Asian and Pacific Islander</td>\n",
       "      <td>31085</td>\n",
       "      <td>458.0</td>\n",
       "      <td>19.0</td>\n",
       "      <td>NaN</td>\n",
       "    </tr>\n",
       "    <tr>\n",
       "      <th>59074</th>\n",
       "      <td>2015</td>\n",
       "      <td>GA</td>\n",
       "      <td>Decatur County</td>\n",
       "      <td>83.9</td>\n",
       "      <td>Overall</td>\n",
       "      <td>White</td>\n",
       "      <td>13087</td>\n",
       "      <td>1124.0</td>\n",
       "      <td>31.0</td>\n",
       "      <td>1.923762</td>\n",
       "    </tr>\n",
       "    <tr>\n",
       "      <th>59075</th>\n",
       "      <td>2015</td>\n",
       "      <td>KY</td>\n",
       "      <td>Butler County</td>\n",
       "      <td>NaN</td>\n",
       "      <td>Overall</td>\n",
       "      <td>Hispanic</td>\n",
       "      <td>21031</td>\n",
       "      <td>1929.0</td>\n",
       "      <td>36.0</td>\n",
       "      <td>NaN</td>\n",
       "    </tr>\n",
       "  </tbody>\n",
       "</table>\n",
       "<p>59076 rows × 10 columns</p>\n",
       "</div>"
      ],
      "text/plain": [
       "       Year States            County  death_per100k   Gender  \\\n",
       "0      2015     SD      South Dakota            NaN  Overall   \n",
       "1      2015     MT     Fergus County           85.3     Male   \n",
       "2      2015     WV     West Virginia           83.8     Male   \n",
       "3      2015     MN         Minnesota           94.6   Female   \n",
       "4      2015     MS     Alcorn County           98.4     Male   \n",
       "...     ...    ...               ...            ...      ...   \n",
       "59071  2015     MS  Claiborne County            NaN  Overall   \n",
       "59072  2015     PA   Crawford County            NaN  Overall   \n",
       "59073  2015     NE      Hayes County            NaN  Overall   \n",
       "59074  2015     GA    Decatur County           83.9  Overall   \n",
       "59075  2015     KY     Butler County            NaN  Overall   \n",
       "\n",
       "                           Race_Ethnicity  ID_Num  County_Num  States_Num  \\\n",
       "0                                   Black      46      2679.0        21.0   \n",
       "1                                   White   30027      2283.0         2.0   \n",
       "2                                   White      54      2749.0        42.0   \n",
       "3                                   Black      27      1400.0         1.0   \n",
       "4                                   White   28003       396.0        32.0   \n",
       "...                                   ...     ...         ...         ...   \n",
       "59071  American Indian and Alaskan Native   28021      1600.0        32.0   \n",
       "59072                            Hispanic   42039      2500.0        48.0   \n",
       "59073          Asian and Pacific Islander   31085       458.0        19.0   \n",
       "59074                               White   13087      1124.0        31.0   \n",
       "59075                            Hispanic   21031      1929.0        36.0   \n",
       "\n",
       "       death_log  \n",
       "0            NaN  \n",
       "1       1.930949  \n",
       "2       1.923244  \n",
       "3       1.975891  \n",
       "4       1.992995  \n",
       "...          ...  \n",
       "59071        NaN  \n",
       "59072        NaN  \n",
       "59073        NaN  \n",
       "59074   1.923762  \n",
       "59075        NaN  \n",
       "\n",
       "[59076 rows x 10 columns]"
      ]
     },
     "execution_count": 191,
     "metadata": {},
     "output_type": "execute_result"
    }
   ],
   "source": [
    "Stroke_Dataset_2015"
   ]
  },
  {
   "cell_type": "code",
   "execution_count": 220,
   "metadata": {},
   "outputs": [
    {
     "name": "stdout",
     "output_type": "stream",
     "text": [
      "0             NaN\n",
      "1        1.930949\n",
      "2        1.923244\n",
      "3        1.975891\n",
      "4        1.992995\n",
      "           ...   \n",
      "59071         NaN\n",
      "59072         NaN\n",
      "59073         NaN\n",
      "59074    1.923762\n",
      "59075         NaN\n",
      "Name: death_log, Length: 59076, dtype: float64\n"
     ]
    },
    {
     "name": "stderr",
     "output_type": "stream",
     "text": [
      "c:\\Users\\dolly\\AppData\\Local\\R-MINI~1\\envs\\datascience-pro-env\\Lib\\site-packages\\pandas\\core\\arraylike.py:402: RuntimeWarning: divide by zero encountered in log10\n",
      "  result = getattr(ufunc, method)(*inputs, **kwargs)\n"
     ]
    }
   ],
   "source": [
    "#log10() is used to find out the Logarithmic of a number when the base is 10.\n",
    "#This method returns the base 10 logarithm of a double value.\n",
    "#To calculate the base-10 logarithm of the number 100, \n",
    "# you would use the formula =LOG10(100).\n",
    "#This would return the value 2, as 10^2 = 100. \n",
    "# Example: log(10) is 10000 = 4 (10x10x10x10)\n",
    "\n",
    "Stroke_Dataset_2015['death_log']= np.log10(Stroke_Dataset_2015['death_per100k'])\n",
    "print(Stroke_Dataset_2015['death_log'])"
   ]
  },
  {
   "cell_type": "code",
   "execution_count": 203,
   "metadata": {},
   "outputs": [
    {
     "data": {
      "text/plain": [
       "<Axes: >"
      ]
     },
     "execution_count": 203,
     "metadata": {},
     "output_type": "execute_result"
    },
    {
     "data": {
      "image/png": "[encoded data removed]",
      "text/plain": [
       "<Figure size 640x480 with 1 Axes>"
      ]
     },
     "metadata": {},
     "output_type": "display_data"
    }
   ],
   "source": [
    "import numpy as np\n",
    "Stroke_Dataset_2015.death_per100k.hist(bins=10)"
   ]
  },
  {
   "cell_type": "code",
   "execution_count": 219,
   "metadata": {},
   "outputs": [
    {
     "data": {
      "text/html": [
       "<div>\n",
       "<style scoped>\n",
       "    .dataframe tbody tr th:only-of-type {\n",
       "        vertical-align: middle;\n",
       "    }\n",
       "\n",
       "    .dataframe tbody tr th {\n",
       "        vertical-align: top;\n",
       "    }\n",
       "\n",
       "    .dataframe thead th {\n",
       "        text-align: right;\n",
       "    }\n",
       "</style>\n",
       "<table border=\"1\" class=\"dataframe\">\n",
       "  <thead>\n",
       "    <tr style=\"text-align: right;\">\n",
       "      <th></th>\n",
       "      <th>Year</th>\n",
       "      <th>States</th>\n",
       "      <th>County</th>\n",
       "      <th>death_per100k</th>\n",
       "      <th>Gender</th>\n",
       "      <th>Race_Ethnicity</th>\n",
       "      <th>ID_Num</th>\n",
       "    </tr>\n",
       "  </thead>\n",
       "  <tbody>\n",
       "    <tr>\n",
       "      <th>30637</th>\n",
       "      <td>2015</td>\n",
       "      <td>AK</td>\n",
       "      <td>Alaska</td>\n",
       "      <td>76.6</td>\n",
       "      <td>Male</td>\n",
       "      <td>Overall</td>\n",
       "      <td>2</td>\n",
       "    </tr>\n",
       "    <tr>\n",
       "      <th>34123</th>\n",
       "      <td>2015</td>\n",
       "      <td>AK</td>\n",
       "      <td>Alaska</td>\n",
       "      <td>73.3</td>\n",
       "      <td>Male</td>\n",
       "      <td>White</td>\n",
       "      <td>2</td>\n",
       "    </tr>\n",
       "    <tr>\n",
       "      <th>41960</th>\n",
       "      <td>2015</td>\n",
       "      <td>AK</td>\n",
       "      <td>Alaska</td>\n",
       "      <td>NaN</td>\n",
       "      <td>Male</td>\n",
       "      <td>Hispanic</td>\n",
       "      <td>2</td>\n",
       "    </tr>\n",
       "    <tr>\n",
       "      <th>44593</th>\n",
       "      <td>2015</td>\n",
       "      <td>AK</td>\n",
       "      <td>Alaska</td>\n",
       "      <td>110.5</td>\n",
       "      <td>Male</td>\n",
       "      <td>Asian and Pacific Islander</td>\n",
       "      <td>2</td>\n",
       "    </tr>\n",
       "    <tr>\n",
       "      <th>46223</th>\n",
       "      <td>2015</td>\n",
       "      <td>AK</td>\n",
       "      <td>Alaska</td>\n",
       "      <td>NaN</td>\n",
       "      <td>Male</td>\n",
       "      <td>Black</td>\n",
       "      <td>2</td>\n",
       "    </tr>\n",
       "    <tr>\n",
       "      <th>...</th>\n",
       "      <td>...</td>\n",
       "      <td>...</td>\n",
       "      <td>...</td>\n",
       "      <td>...</td>\n",
       "      <td>...</td>\n",
       "      <td>...</td>\n",
       "      <td>...</td>\n",
       "    </tr>\n",
       "    <tr>\n",
       "      <th>9824</th>\n",
       "      <td>2015</td>\n",
       "      <td>WY</td>\n",
       "      <td>Wyoming</td>\n",
       "      <td>NaN</td>\n",
       "      <td>Male</td>\n",
       "      <td>American Indian and Alaskan Native</td>\n",
       "      <td>56</td>\n",
       "    </tr>\n",
       "    <tr>\n",
       "      <th>12139</th>\n",
       "      <td>2015</td>\n",
       "      <td>WY</td>\n",
       "      <td>Wyoming</td>\n",
       "      <td>55.4</td>\n",
       "      <td>Male</td>\n",
       "      <td>White</td>\n",
       "      <td>56</td>\n",
       "    </tr>\n",
       "    <tr>\n",
       "      <th>47004</th>\n",
       "      <td>2015</td>\n",
       "      <td>WY</td>\n",
       "      <td>Wyoming</td>\n",
       "      <td>NaN</td>\n",
       "      <td>Male</td>\n",
       "      <td>Asian and Pacific Islander</td>\n",
       "      <td>56</td>\n",
       "    </tr>\n",
       "    <tr>\n",
       "      <th>48690</th>\n",
       "      <td>2015</td>\n",
       "      <td>WY</td>\n",
       "      <td>Wyoming</td>\n",
       "      <td>NaN</td>\n",
       "      <td>Male</td>\n",
       "      <td>Black</td>\n",
       "      <td>56</td>\n",
       "    </tr>\n",
       "    <tr>\n",
       "      <th>50419</th>\n",
       "      <td>2015</td>\n",
       "      <td>WY</td>\n",
       "      <td>Wyoming</td>\n",
       "      <td>NaN</td>\n",
       "      <td>Male</td>\n",
       "      <td>Hispanic</td>\n",
       "      <td>56</td>\n",
       "    </tr>\n",
       "  </tbody>\n",
       "</table>\n",
       "<p>19692 rows × 7 columns</p>\n",
       "</div>"
      ],
      "text/plain": [
       "       Year States   County  death_per100k Gender  \\\n",
       "30637  2015     AK   Alaska           76.6   Male   \n",
       "34123  2015     AK   Alaska           73.3   Male   \n",
       "41960  2015     AK   Alaska            NaN   Male   \n",
       "44593  2015     AK   Alaska          110.5   Male   \n",
       "46223  2015     AK   Alaska            NaN   Male   \n",
       "...     ...    ...      ...            ...    ...   \n",
       "9824   2015     WY  Wyoming            NaN   Male   \n",
       "12139  2015     WY  Wyoming           55.4   Male   \n",
       "47004  2015     WY  Wyoming            NaN   Male   \n",
       "48690  2015     WY  Wyoming            NaN   Male   \n",
       "50419  2015     WY  Wyoming            NaN   Male   \n",
       "\n",
       "                           Race_Ethnicity  ID_Num  \n",
       "30637                             Overall       2  \n",
       "34123                               White       2  \n",
       "41960                            Hispanic       2  \n",
       "44593          Asian and Pacific Islander       2  \n",
       "46223                               Black       2  \n",
       "...                                   ...     ...  \n",
       "9824   American Indian and Alaskan Native      56  \n",
       "12139                               White      56  \n",
       "47004          Asian and Pacific Islander      56  \n",
       "48690                               Black      56  \n",
       "50419                            Hispanic      56  \n",
       "\n",
       "[19692 rows x 7 columns]"
      ]
     },
     "execution_count": 219,
     "metadata": {},
     "output_type": "execute_result"
    }
   ],
   "source": [
    "\n",
    "New_DeathRate_2015 = Stroke_Dataset_2015.drop(columns = [\"County_Num\",\"States_Num\", \"death_log\"])\n",
    "Tot_Male = New_DeathRate_2015.loc[New_DeathRate_2015[\"Gender\"] == \"Male\" ].sort_values([\"States\", \"County\"], ascending= [1,1])\n",
    "Tot_Female = New_DeathRate_2015.loc[New_DeathRate_2015[\"Gender\"] == \"Female\" ]\n",
    "Tot_Male\n",
    "\n",
    "# Code below not working\n",
    "#Re_Order = New_DeathRate_2015.columns.values\n",
    "#New_DeathRate_2015 = New_DeathRate_2015[[Re_Order [-1] + Re_Order[0:8]  ]]\n",
    "#New_DeathRate_2015 = Re_Order[[Re_Order[\"ID_Num\"],  Re_Order[\"Year\"],  Re_Order[\"States\"],  Re_Order[\"County\"],  Re_Order[\"Race_Ethnicity\"],  Re_Order[\"Gender\"],  Re_Order[\"death_per100k\" ]]]#\n"
   ]
  },
  {
   "cell_type": "code",
   "execution_count": 194,
   "metadata": {},
   "outputs": [
    {
     "data": {
      "text/plain": [
       "<Axes: >"
      ]
     },
     "execution_count": 194,
     "metadata": {},
     "output_type": "execute_result"
    },
    {
     "data": {
      "image/png": "[encoded data removed]",
      "text/plain": [
       "<Figure size 640x480 with 1 Axes>"
      ]
     },
     "metadata": {},
     "output_type": "display_data"
    }
   ],
   "source": [
    "import numpy as np\n",
    "Tot_Male.death_per100k.hist()"
   ]
  },
  {
   "cell_type": "code",
   "execution_count": 175,
   "metadata": {},
   "outputs": [
    {
     "data": {
      "text/html": [
       "<div>\n",
       "<style scoped>\n",
       "    .dataframe tbody tr th:only-of-type {\n",
       "        vertical-align: middle;\n",
       "    }\n",
       "\n",
       "    .dataframe tbody tr th {\n",
       "        vertical-align: top;\n",
       "    }\n",
       "\n",
       "    .dataframe thead th {\n",
       "        text-align: right;\n",
       "    }\n",
       "</style>\n",
       "<table border=\"1\" class=\"dataframe\">\n",
       "  <thead>\n",
       "    <tr style=\"text-align: right;\">\n",
       "      <th></th>\n",
       "      <th>Year</th>\n",
       "      <th>States</th>\n",
       "      <th>County</th>\n",
       "      <th>death_per100k</th>\n",
       "      <th>Gender</th>\n",
       "      <th>Race_Ethnicity</th>\n",
       "      <th>ID_Num</th>\n",
       "    </tr>\n",
       "  </thead>\n",
       "  <tbody>\n",
       "    <tr>\n",
       "      <th>132</th>\n",
       "      <td>2015</td>\n",
       "      <td>AK</td>\n",
       "      <td>Alaska</td>\n",
       "      <td>63.6</td>\n",
       "      <td>Female</td>\n",
       "      <td>Overall</td>\n",
       "      <td>2</td>\n",
       "    </tr>\n",
       "    <tr>\n",
       "      <th>1083</th>\n",
       "      <td>2015</td>\n",
       "      <td>AK</td>\n",
       "      <td>Alaska</td>\n",
       "      <td>57.6</td>\n",
       "      <td>Female</td>\n",
       "      <td>White</td>\n",
       "      <td>2</td>\n",
       "    </tr>\n",
       "    <tr>\n",
       "      <th>6828</th>\n",
       "      <td>2015</td>\n",
       "      <td>AK</td>\n",
       "      <td>Alaska</td>\n",
       "      <td>61.9</td>\n",
       "      <td>Female</td>\n",
       "      <td>Asian and Pacific Islander</td>\n",
       "      <td>2</td>\n",
       "    </tr>\n",
       "    <tr>\n",
       "      <th>27832</th>\n",
       "      <td>2015</td>\n",
       "      <td>AK</td>\n",
       "      <td>Alaska</td>\n",
       "      <td>NaN</td>\n",
       "      <td>Female</td>\n",
       "      <td>Hispanic</td>\n",
       "      <td>2</td>\n",
       "    </tr>\n",
       "    <tr>\n",
       "      <th>46409</th>\n",
       "      <td>2015</td>\n",
       "      <td>AK</td>\n",
       "      <td>Alaska</td>\n",
       "      <td>NaN</td>\n",
       "      <td>Female</td>\n",
       "      <td>Black</td>\n",
       "      <td>2</td>\n",
       "    </tr>\n",
       "    <tr>\n",
       "      <th>...</th>\n",
       "      <td>...</td>\n",
       "      <td>...</td>\n",
       "      <td>...</td>\n",
       "      <td>...</td>\n",
       "      <td>...</td>\n",
       "      <td>...</td>\n",
       "      <td>...</td>\n",
       "    </tr>\n",
       "    <tr>\n",
       "      <th>24479</th>\n",
       "      <td>2015</td>\n",
       "      <td>WY</td>\n",
       "      <td>Wyoming</td>\n",
       "      <td>NaN</td>\n",
       "      <td>Female</td>\n",
       "      <td>American Indian and Alaskan Native</td>\n",
       "      <td>56</td>\n",
       "    </tr>\n",
       "    <tr>\n",
       "      <th>29712</th>\n",
       "      <td>2015</td>\n",
       "      <td>WY</td>\n",
       "      <td>Wyoming</td>\n",
       "      <td>NaN</td>\n",
       "      <td>Female</td>\n",
       "      <td>Hispanic</td>\n",
       "      <td>56</td>\n",
       "    </tr>\n",
       "    <tr>\n",
       "      <th>34357</th>\n",
       "      <td>2015</td>\n",
       "      <td>WY</td>\n",
       "      <td>Wyoming</td>\n",
       "      <td>NaN</td>\n",
       "      <td>Female</td>\n",
       "      <td>Asian and Pacific Islander</td>\n",
       "      <td>56</td>\n",
       "    </tr>\n",
       "    <tr>\n",
       "      <th>41375</th>\n",
       "      <td>2015</td>\n",
       "      <td>WY</td>\n",
       "      <td>Wyoming</td>\n",
       "      <td>63.1</td>\n",
       "      <td>Female</td>\n",
       "      <td>Overall</td>\n",
       "      <td>56</td>\n",
       "    </tr>\n",
       "    <tr>\n",
       "      <th>50237</th>\n",
       "      <td>2015</td>\n",
       "      <td>WY</td>\n",
       "      <td>Wyoming</td>\n",
       "      <td>64.0</td>\n",
       "      <td>Female</td>\n",
       "      <td>White</td>\n",
       "      <td>56</td>\n",
       "    </tr>\n",
       "  </tbody>\n",
       "</table>\n",
       "<p>19692 rows × 7 columns</p>\n",
       "</div>"
      ],
      "text/plain": [
       "       Year States   County  death_per100k  Gender  \\\n",
       "132    2015     AK   Alaska           63.6  Female   \n",
       "1083   2015     AK   Alaska           57.6  Female   \n",
       "6828   2015     AK   Alaska           61.9  Female   \n",
       "27832  2015     AK   Alaska            NaN  Female   \n",
       "46409  2015     AK   Alaska            NaN  Female   \n",
       "...     ...    ...      ...            ...     ...   \n",
       "24479  2015     WY  Wyoming            NaN  Female   \n",
       "29712  2015     WY  Wyoming            NaN  Female   \n",
       "34357  2015     WY  Wyoming            NaN  Female   \n",
       "41375  2015     WY  Wyoming           63.1  Female   \n",
       "50237  2015     WY  Wyoming           64.0  Female   \n",
       "\n",
       "                           Race_Ethnicity  ID_Num  \n",
       "132                               Overall       2  \n",
       "1083                                White       2  \n",
       "6828           Asian and Pacific Islander       2  \n",
       "27832                            Hispanic       2  \n",
       "46409                               Black       2  \n",
       "...                                   ...     ...  \n",
       "24479  American Indian and Alaskan Native      56  \n",
       "29712                            Hispanic      56  \n",
       "34357          Asian and Pacific Islander      56  \n",
       "41375                             Overall      56  \n",
       "50237                               White      56  \n",
       "\n",
       "[19692 rows x 7 columns]"
      ]
     },
     "execution_count": 175,
     "metadata": {},
     "output_type": "execute_result"
    }
   ],
   "source": [
    "Tot_Female = New_DeathRate_2015.loc[New_DeathRate_2015[\"Gender\"] == \"Female\" ].sort_values([\"States\", \"County\"], ascending= [1,1])\n",
    "(Tot_Female)"
   ]
  },
  {
   "cell_type": "code",
   "execution_count": 188,
   "metadata": {},
   "outputs": [
    {
     "data": {
      "text/plain": [
       "<Axes: >"
      ]
     },
     "execution_count": 188,
     "metadata": {},
     "output_type": "execute_result"
    },
    {
     "data": {
      "image/png": "[encoded data removed]",
      "text/plain": [
       "<Figure size 640x480 with 1 Axes>"
      ]
     },
     "metadata": {},
     "output_type": "display_data"
    }
   ],
   "source": [
    "import numpy as np\n",
    "Tot_Female.death_per100k.hist()"
   ]
  }
 ],
 "metadata": {
  "kernelspec": {
   "display_name": "Python 3",
   "language": "python",
   "name": "python3"
  },
  "language_info": {
   "codemirror_mode": {
    "name": "ipython",
    "version": 3
   },
   "file_extension": ".py",
   "mimetype": "text/x-python",
   "name": "python",
   "nbconvert_exporter": "python",
   "pygments_lexer": "ipython3",
   "version": "3.11.2"
  },
  "orig_nbformat": 4
 },
 "nbformat": 4,
 "nbformat_minor": 2
}
