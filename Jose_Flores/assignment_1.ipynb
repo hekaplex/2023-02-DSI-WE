{
 "cells": [
  {
   "attachments": {},
   "cell_type": "markdown",
   "metadata": {},
   "source": [
    "## Assignment 1\n",
    "\n",
    "- create a variable for a string\n",
    "- use an input\n",
    "- repeat string a number of times from the input"
   ]
  },
  {
   "cell_type": "code",
   "execution_count": 19,
   "metadata": {},
   "outputs": [
    {
     "name": "stdout",
     "output_type": "stream",
     "text": [
      "The best band is Thursday!\n",
      "The best band is Thursday!\n",
      "The best band is Thursday!\n",
      "The best band is Thursday!\n",
      "The best band is Thursday!\n",
      "The best band is Thursday!\n",
      "\n"
     ]
    }
   ],
   "source": [
    "# Creating variable for a string and storinginsde user input along with question prompt\n",
    "favorite_band = input(\"What is your favorite band?\")\n",
    "prompt = input(\"Want to know which band is best? Press enter to findout.\")\n",
    "times = 6\n",
    "# creating variable for output to user and then printing results\n",
    "best_band = \"The best band is \" + favorite_band + \"!\\n\"\n",
    "print(best_band * times)\n"
   ]
  },
  {
   "cell_type": "code",
   "execution_count": null,
   "metadata": {},
   "outputs": [],
   "source": []
  }
 ],
 "metadata": {
  "kernelspec": {
   "display_name": "Python (dojo-env)",
   "language": "python",
   "name": "dojo-env"
  },
  "language_info": {
   "codemirror_mode": {
    "name": "ipython",
    "version": 3
   },
   "file_extension": ".py",
   "mimetype": "text/x-python",
   "name": "python",
   "nbconvert_exporter": "python",
   "pygments_lexer": "ipython3",
   "version": "3.8.13"
  },
  "orig_nbformat": 4
 },
 "nbformat": 4,
 "nbformat_minor": 2
}
