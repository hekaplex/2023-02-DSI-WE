{
 "cells": [
  {
   "cell_type": "code",
   "execution_count": 1,
   "metadata": {},
   "outputs": [
    {
     "data": {
      "text/plain": [
       "('Chris Paul', 'Devin Booker', 'Josh Okogie', 'Kevin Durant', 'Deandre Ayton')"
      ]
     },
     "execution_count": 1,
     "metadata": {},
     "output_type": "execute_result"
    }
   ],
   "source": [
    "# Creating a tuple of the Phoenix Suns starting 5\n",
    "suns_starters = (\"Chris Paul\",\"Devin Booker\",\"Josh Okogie\",\"Kevin Durant\",\"Deandre Ayton\")\n",
    "suns_starters"
   ]
  },
  {
   "cell_type": "code",
   "execution_count": 3,
   "metadata": {},
   "outputs": [
    {
     "data": {
      "text/plain": [
       "['Full Collapse',\n",
       " 'Art of Drowning',\n",
       " 'Impera',\n",
       " 'Futures',\n",
       " 'Fantasies',\n",
       " 'Interventions and Lullabies',\n",
       " 'The End of Heartache',\n",
       " 'Opposite of December',\n",
       " 'Something to Die For',\n",
       " \"It's Blitz\",\n",
       " 'Unknown Pleasures']"
      ]
     },
     "execution_count": 3,
     "metadata": {},
     "output_type": "execute_result"
    }
   ],
   "source": [
    "# Creating a list of Album Names\n",
    "\n",
    "albums = [\"Full Collapse\",\"Art of Drowning\",\"Impera\",\"Futures\",\"Fantasies\",\"Interventions and Lullabies\",\"The End of Heartache\",\"Opposite of December\",\"Something to Die For\",\"It's Blitz\", \"Unknown Pleasures\"]\n",
    "albums"
   ]
  },
  {
   "cell_type": "code",
   "execution_count": 6,
   "metadata": {},
   "outputs": [
    {
     "data": {
      "text/plain": [
       "[2001, 2000, 2022, 2004, 2009, 2003, 2004, 1999, 2010, 2009, 1979]"
      ]
     },
     "execution_count": 6,
     "metadata": {},
     "output_type": "execute_result"
    }
   ],
   "source": [
    "years = [2001, 2000, 2022, 2004, 2009, 2003, 2004, 1999, 2010, 2009, 1979]\n",
    "years"
   ]
  },
  {
   "cell_type": "code",
   "execution_count": 7,
   "metadata": {},
   "outputs": [
    {
     "data": {
      "text/plain": [
       "{'Full Collapse': 2001,\n",
       " 'Art of Drowning': 2000,\n",
       " 'Impera': 2022,\n",
       " 'Futures': 2004,\n",
       " 'Fantasies': 2009,\n",
       " 'Interventions and Lullabies': 2003,\n",
       " 'The End of Heartache': 2004,\n",
       " 'Opposite of December': 1999,\n",
       " 'Something to Die For': 2010,\n",
       " \"It's Blitz\": 2009,\n",
       " 'Unknown Pleasures': 1979}"
      ]
     },
     "execution_count": 7,
     "metadata": {},
     "output_type": "execute_result"
    }
   ],
   "source": [
    "# Zipping together two lists to create a dictionary \n",
    "albums_dict = {albums[x]:years[x] for x in range(0, len(albums)) }\n",
    "albums_dict"
   ]
  },
  {
   "cell_type": "code",
   "execution_count": 12,
   "metadata": {},
   "outputs": [
    {
     "data": {
      "text/plain": [
       "['Thursday',\n",
       " 'AFI',\n",
       " 'Ghost',\n",
       " 'Jimmy Eat World',\n",
       " 'Metric',\n",
       " 'The Format',\n",
       " 'Killswitch Engage',\n",
       " 'Poison The Well',\n",
       " 'The Sounds',\n",
       " 'Yeah Yeah Yeahs',\n",
       " 'Joy Division']"
      ]
     },
     "execution_count": 12,
     "metadata": {},
     "output_type": "execute_result"
    }
   ],
   "source": [
    "# creating a list of artists\n",
    "\n",
    "artists = [\"Thursday\",\"AFI\",\"Ghost\",\"Jimmy Eat World\",\"Metric\",\"The Format\",\"Killswitch Engage\",\"Poison The Well\",\"The Sounds\",\"Yeah Yeah Yeahs\", \"Joy Division\"]\n",
    "artists"
   ]
  },
  {
   "cell_type": "code",
   "execution_count": 17,
   "metadata": {},
   "outputs": [],
   "source": [
    "def jams(artist, album, year):\n",
    "        \"\"\"This function takes three lists and zips them together to creat a dictionary with  a string\n",
    "         as the key and a tuple value pair for music information \"\"\"\n",
    "        jams_dict = {artist[x]:(album[x],year[x]) for x in range(0, len(artist)) }\n",
    "        return jams_dict\n",
    "\n",
    "\n"
   ]
  },
  {
   "cell_type": "code",
   "execution_count": 18,
   "metadata": {},
   "outputs": [
    {
     "name": "stdout",
     "output_type": "stream",
     "text": [
      "{'Thursday': ('Full Collapse', 2001), 'AFI': ('Art of Drowning', 2000), 'Ghost': ('Impera', 2022), 'Jimmy Eat World': ('Futures', 2004), 'Metric': ('Fantasies', 2009), 'The Format': ('Interventions and Lullabies', 2003), 'Killswitch Engage': ('The End of Heartache', 2004), 'Poison The Well': ('Opposite of December', 1999), 'The Sounds': ('Something to Die For', 2010), 'Yeah Yeah Yeahs': (\"It's Blitz\", 2009), 'Joy Division': ('Unknown Pleasures', 1979)}\n"
     ]
    }
   ],
   "source": [
    "print(jams(artist=artists, album=albums, year=years))\n"
   ]
  },
  {
   "cell_type": "code",
   "execution_count": 19,
   "metadata": {},
   "outputs": [],
   "source": [
    "# Creating Sets \n",
    "top_rated_anime = {\"Oshi n Ko\", \"Fullmetal Alchemis: Brotherhood\",\"Attack on Titan\", \"Steins Gate\",\"Bleach: One Thousand Year Blood War\", \"Gintama\", \"Kaguya\", \"Hunter x Hunter\", \"Legend of Galactic Heroes\", \"Fruits Basket\"}\n",
    "\n",
    "my_top_ten = {\"Deathnote\", \"Fullmetal Alchemis: Brotherhood\",\"Attack on Titan\", \"Naruto\",\"Code Geass\", \"Samurai Champloo\", \"Demon Slayer\", \"Hunter x Hunter\", \"Speed Grapher\", \"Erased\"}\n",
    "\n",
    "\n"
   ]
  },
  {
   "cell_type": "code",
   "execution_count": 23,
   "metadata": {},
   "outputs": [
    {
     "name": "stdout",
     "output_type": "stream",
     "text": [
      "3 I have watched and are: {'Hunter x Hunter', 'Attack on Titan', 'Fullmetal Alchemis: Brotherhood'}\n"
     ]
    }
   ],
   "source": [
    "# union to see which anime are on my list and on top rated\n",
    "top_seen = my_top_ten & top_rated_anime\n",
    "print(len(top_seen), \"I have watched and are:\", top_seen)"
   ]
  }
 ],
 "metadata": {
  "kernelspec": {
   "display_name": "Python (dojo-env)",
   "language": "python",
   "name": "dojo-env"
  },
  "language_info": {
   "codemirror_mode": {
    "name": "ipython",
    "version": 3
   },
   "file_extension": ".py",
   "mimetype": "text/x-python",
   "name": "python",
   "nbconvert_exporter": "python",
   "pygments_lexer": "ipython3",
   "version": "3.8.13"
  },
  "orig_nbformat": 4
 },
 "nbformat": 4,
 "nbformat_minor": 2
}
